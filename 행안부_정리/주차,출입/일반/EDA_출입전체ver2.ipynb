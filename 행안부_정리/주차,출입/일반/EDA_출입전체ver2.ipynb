{
 "cells": [
  {
   "cell_type": "code",
   "execution_count": 1,
   "metadata": {
    "collapsed": true
   },
   "outputs": [
    {
     "name": "stderr",
     "output_type": "stream",
     "text": [
      "/Users/keumhyeonjun/opt/anaconda3/envs/gpu_1/lib/python3.9/site-packages/scipy/__init__.py:146: UserWarning: A NumPy version >=1.16.5 and <1.23.0 is required for this version of SciPy (detected version 1.23.1\n",
      "  warnings.warn(f\"A NumPy version >={np_minversion} and <{np_maxversion}\"\n"
     ]
    }
   ],
   "source": [
    "import  pandas as pd\n",
    "from matplotlib import pyplot as plt\n",
    "import pandas_profiling\n",
    "import numpy as np\n",
    "import matplotlib\n",
    "plt.rc('font', family='AppleGothic')\n",
    "plt.rcParams['axes.unicode_minus'] = False"
   ]
  },
  {
   "cell_type": "code",
   "execution_count": 3,
   "outputs": [
    {
     "name": "stderr",
     "output_type": "stream",
     "text": [
      "/var/folders/nd/cl2nzwh13zx7jdly2t5m95340000gn/T/ipykernel_85355/714124004.py:1: DtypeWarning: Columns (0) have mixed types. Specify dtype option on import or set low_memory=False.\n",
      "  df = pd.read_csv('/Users/keumhyeonjun/Projects/행안부/주차,출입/출입.신화.샘플(2022.10.21)/tbl_hist_access.csv')\n"
     ]
    },
    {
     "data": {
      "text/plain": "               seq      site_cd site_nm   reader_cd              reader_nm  \\\n0        308341342      SJ01-01      1동       0805R     1-B동 1층 스피드게이트2 출구   \n1        308341343    SJ01-02-B      5동   B0103-17R     5동 로비2 스피드게이트2 OUT   \n2        308341344  SJ02-02-L,M  14,15동  L0104a-15R  14-2동 스피드 게이트 4 - OUT   \n3        308341347    SJ03-02-Q  16,17동   R0102-00R       17동 행안부 1층 보안자동문   \n4        308341346  SJ02-02-L,M  14,15동  L0104a-13R  14-2동 스피드 게이트 2 - OUT   \n...            ...          ...     ...         ...                    ...   \n1875203  310216544    SJ01-02-A      6동   A0107-19R  6동 1층 로비2 스피드게이트1 OUT   \n1875204  310216546    SJ01-02-A      6동   A0107-17R  6동 1층 로비2 스피드게이트3 OUT   \n1875205  310216548    SJ01-02-A      6동   A0107-18R  6동 1층 로비2 스피드게이트2 OUT   \n1875206  310216555  SJ02-02-L,M  14,15동  L0104a-12R  14-2동 스피드 게이트 1 - OUT   \n1875207  310216550    SJ01-02-A      6동   A0107-19R  6동 1층 로비2 스피드게이트1 OUT   \n\n            event_msg           card_no   regstatus_cd regstatus_nm    emp_no  \\\n0        Grant access  0000010920001116  RegStatus0001           등록   1001784   \n1        Grant access  0000015430001877  RegStatus0001           등록   1148624   \n2        Grant access  0000013420001683  RegStatus0001           등록   1027314   \n3        Grant access  0000017410001579  RegStatus0001           등록   1247096   \n4        Grant access  0000013420001739  RegStatus0001           등록   1151695   \n...               ...               ...            ...          ...       ...   \n1875203  Grant access  00000000BC34FDCD  RegStatus0001           등록  90118750   \n1875204  Grant access  0000148000010912  RegStatus0001           등록   1048673   \n1875205  Grant access  0000017401105223  RegStatus0008           입실    공무-163   \n1875206  Grant access  0000013420002020  RegStatus0001           등록   1133546   \n1875207  Grant access  0000016130004613  RegStatus0001           등록   1084846   \n\n         ...  department_nm   position_cd position_nm  \\\n0        ...      산업과학중기정책관  Position0002         서기관   \n1        ...          경영인력과           NaN         NaN   \n2        ...       반부패청렴담당관           NaN         NaN   \n3        ...          상황담당관           NaN         NaN   \n4        ...       반부패청렴담당관           NaN         NaN   \n...      ...            ...           ...         ...   \n1875203  ...          일반출입증           NaN         NaN   \n1875204  ...         물이용기획과           NaN         NaN   \n1875205  ...         물이용기획과  Position0183         미지정   \n1875206  ...         교육정보화과           NaN         NaN   \n1875207  ...          항공정책과           NaN         NaN   \n\n                         msgTime             insertedDate        rev1 rev2  \\\n0        2022-10-04 00:00:02.000  2022-10-04 00:00:02.887       0805R  NaN   \n1        2022-10-04 00:00:03.000  2022-10-04 00:00:03.967   B0103-17R  NaN   \n2        2022-10-04 00:00:03.000  2022-10-04 00:00:03.903  L0104a-15R  NaN   \n3        2022-10-04 00:00:03.000  2022-10-04 00:00:13.480   R0102-00R  NaN   \n4        2022-10-04 00:00:06.000  2022-10-04 00:00:07.053  L0104a-13R  NaN   \n...                          ...                      ...         ...  ...   \n1875203  2022-10-20 23:59:57.000  2022-10-20 23:59:56.430   A0107-19R  NaN   \n1875204  2022-10-20 23:59:57.000  2022-10-20 23:59:58.007   A0107-17R  NaN   \n1875205  2022-10-20 23:59:57.000  2022-10-20 23:59:58.537   A0107-18R  NaN   \n1875206  2022-10-20 23:59:57.000  2022-10-20 23:59:58.980  L0104a-12R  NaN   \n1875207  2022-10-20 23:59:59.000  2022-10-21 00:00:00.007   A0107-19R  NaN   \n\n        rev3 rev4 rev5  \n0        NaN  NaN    N  \n1        NaN  NaN    N  \n2        NaN  NaN    N  \n3        NaN  NaN    N  \n4        NaN  NaN    N  \n...      ...  ...  ...  \n1875203  NaN  NaN    N  \n1875204  NaN  NaN    N  \n1875205  NaN  NaN    N  \n1875206  NaN  NaN    N  \n1875207  NaN  NaN    N  \n\n[1875208 rows x 26 columns]",
      "text/html": "<div>\n<style scoped>\n    .dataframe tbody tr th:only-of-type {\n        vertical-align: middle;\n    }\n\n    .dataframe tbody tr th {\n        vertical-align: top;\n    }\n\n    .dataframe thead th {\n        text-align: right;\n    }\n</style>\n<table border=\"1\" class=\"dataframe\">\n  <thead>\n    <tr style=\"text-align: right;\">\n      <th></th>\n      <th>seq</th>\n      <th>site_cd</th>\n      <th>site_nm</th>\n      <th>reader_cd</th>\n      <th>reader_nm</th>\n      <th>event_msg</th>\n      <th>card_no</th>\n      <th>regstatus_cd</th>\n      <th>regstatus_nm</th>\n      <th>emp_no</th>\n      <th>...</th>\n      <th>department_nm</th>\n      <th>position_cd</th>\n      <th>position_nm</th>\n      <th>msgTime</th>\n      <th>insertedDate</th>\n      <th>rev1</th>\n      <th>rev2</th>\n      <th>rev3</th>\n      <th>rev4</th>\n      <th>rev5</th>\n    </tr>\n  </thead>\n  <tbody>\n    <tr>\n      <th>0</th>\n      <td>308341342</td>\n      <td>SJ01-01</td>\n      <td>1동</td>\n      <td>0805R</td>\n      <td>1-B동 1층 스피드게이트2 출구</td>\n      <td>Grant access</td>\n      <td>0000010920001116</td>\n      <td>RegStatus0001</td>\n      <td>등록</td>\n      <td>1001784</td>\n      <td>...</td>\n      <td>산업과학중기정책관</td>\n      <td>Position0002</td>\n      <td>서기관</td>\n      <td>2022-10-04 00:00:02.000</td>\n      <td>2022-10-04 00:00:02.887</td>\n      <td>0805R</td>\n      <td>NaN</td>\n      <td>NaN</td>\n      <td>NaN</td>\n      <td>N</td>\n    </tr>\n    <tr>\n      <th>1</th>\n      <td>308341343</td>\n      <td>SJ01-02-B</td>\n      <td>5동</td>\n      <td>B0103-17R</td>\n      <td>5동 로비2 스피드게이트2 OUT</td>\n      <td>Grant access</td>\n      <td>0000015430001877</td>\n      <td>RegStatus0001</td>\n      <td>등록</td>\n      <td>1148624</td>\n      <td>...</td>\n      <td>경영인력과</td>\n      <td>NaN</td>\n      <td>NaN</td>\n      <td>2022-10-04 00:00:03.000</td>\n      <td>2022-10-04 00:00:03.967</td>\n      <td>B0103-17R</td>\n      <td>NaN</td>\n      <td>NaN</td>\n      <td>NaN</td>\n      <td>N</td>\n    </tr>\n    <tr>\n      <th>2</th>\n      <td>308341344</td>\n      <td>SJ02-02-L,M</td>\n      <td>14,15동</td>\n      <td>L0104a-15R</td>\n      <td>14-2동 스피드 게이트 4 - OUT</td>\n      <td>Grant access</td>\n      <td>0000013420001683</td>\n      <td>RegStatus0001</td>\n      <td>등록</td>\n      <td>1027314</td>\n      <td>...</td>\n      <td>반부패청렴담당관</td>\n      <td>NaN</td>\n      <td>NaN</td>\n      <td>2022-10-04 00:00:03.000</td>\n      <td>2022-10-04 00:00:03.903</td>\n      <td>L0104a-15R</td>\n      <td>NaN</td>\n      <td>NaN</td>\n      <td>NaN</td>\n      <td>N</td>\n    </tr>\n    <tr>\n      <th>3</th>\n      <td>308341347</td>\n      <td>SJ03-02-Q</td>\n      <td>16,17동</td>\n      <td>R0102-00R</td>\n      <td>17동 행안부 1층 보안자동문</td>\n      <td>Grant access</td>\n      <td>0000017410001579</td>\n      <td>RegStatus0001</td>\n      <td>등록</td>\n      <td>1247096</td>\n      <td>...</td>\n      <td>상황담당관</td>\n      <td>NaN</td>\n      <td>NaN</td>\n      <td>2022-10-04 00:00:03.000</td>\n      <td>2022-10-04 00:00:13.480</td>\n      <td>R0102-00R</td>\n      <td>NaN</td>\n      <td>NaN</td>\n      <td>NaN</td>\n      <td>N</td>\n    </tr>\n    <tr>\n      <th>4</th>\n      <td>308341346</td>\n      <td>SJ02-02-L,M</td>\n      <td>14,15동</td>\n      <td>L0104a-13R</td>\n      <td>14-2동 스피드 게이트 2 - OUT</td>\n      <td>Grant access</td>\n      <td>0000013420001739</td>\n      <td>RegStatus0001</td>\n      <td>등록</td>\n      <td>1151695</td>\n      <td>...</td>\n      <td>반부패청렴담당관</td>\n      <td>NaN</td>\n      <td>NaN</td>\n      <td>2022-10-04 00:00:06.000</td>\n      <td>2022-10-04 00:00:07.053</td>\n      <td>L0104a-13R</td>\n      <td>NaN</td>\n      <td>NaN</td>\n      <td>NaN</td>\n      <td>N</td>\n    </tr>\n    <tr>\n      <th>...</th>\n      <td>...</td>\n      <td>...</td>\n      <td>...</td>\n      <td>...</td>\n      <td>...</td>\n      <td>...</td>\n      <td>...</td>\n      <td>...</td>\n      <td>...</td>\n      <td>...</td>\n      <td>...</td>\n      <td>...</td>\n      <td>...</td>\n      <td>...</td>\n      <td>...</td>\n      <td>...</td>\n      <td>...</td>\n      <td>...</td>\n      <td>...</td>\n      <td>...</td>\n      <td>...</td>\n    </tr>\n    <tr>\n      <th>1875203</th>\n      <td>310216544</td>\n      <td>SJ01-02-A</td>\n      <td>6동</td>\n      <td>A0107-19R</td>\n      <td>6동 1층 로비2 스피드게이트1 OUT</td>\n      <td>Grant access</td>\n      <td>00000000BC34FDCD</td>\n      <td>RegStatus0001</td>\n      <td>등록</td>\n      <td>90118750</td>\n      <td>...</td>\n      <td>일반출입증</td>\n      <td>NaN</td>\n      <td>NaN</td>\n      <td>2022-10-20 23:59:57.000</td>\n      <td>2022-10-20 23:59:56.430</td>\n      <td>A0107-19R</td>\n      <td>NaN</td>\n      <td>NaN</td>\n      <td>NaN</td>\n      <td>N</td>\n    </tr>\n    <tr>\n      <th>1875204</th>\n      <td>310216546</td>\n      <td>SJ01-02-A</td>\n      <td>6동</td>\n      <td>A0107-17R</td>\n      <td>6동 1층 로비2 스피드게이트3 OUT</td>\n      <td>Grant access</td>\n      <td>0000148000010912</td>\n      <td>RegStatus0001</td>\n      <td>등록</td>\n      <td>1048673</td>\n      <td>...</td>\n      <td>물이용기획과</td>\n      <td>NaN</td>\n      <td>NaN</td>\n      <td>2022-10-20 23:59:57.000</td>\n      <td>2022-10-20 23:59:58.007</td>\n      <td>A0107-17R</td>\n      <td>NaN</td>\n      <td>NaN</td>\n      <td>NaN</td>\n      <td>N</td>\n    </tr>\n    <tr>\n      <th>1875205</th>\n      <td>310216548</td>\n      <td>SJ01-02-A</td>\n      <td>6동</td>\n      <td>A0107-18R</td>\n      <td>6동 1층 로비2 스피드게이트2 OUT</td>\n      <td>Grant access</td>\n      <td>0000017401105223</td>\n      <td>RegStatus0008</td>\n      <td>입실</td>\n      <td>공무-163</td>\n      <td>...</td>\n      <td>물이용기획과</td>\n      <td>Position0183</td>\n      <td>미지정</td>\n      <td>2022-10-20 23:59:57.000</td>\n      <td>2022-10-20 23:59:58.537</td>\n      <td>A0107-18R</td>\n      <td>NaN</td>\n      <td>NaN</td>\n      <td>NaN</td>\n      <td>N</td>\n    </tr>\n    <tr>\n      <th>1875206</th>\n      <td>310216555</td>\n      <td>SJ02-02-L,M</td>\n      <td>14,15동</td>\n      <td>L0104a-12R</td>\n      <td>14-2동 스피드 게이트 1 - OUT</td>\n      <td>Grant access</td>\n      <td>0000013420002020</td>\n      <td>RegStatus0001</td>\n      <td>등록</td>\n      <td>1133546</td>\n      <td>...</td>\n      <td>교육정보화과</td>\n      <td>NaN</td>\n      <td>NaN</td>\n      <td>2022-10-20 23:59:57.000</td>\n      <td>2022-10-20 23:59:58.980</td>\n      <td>L0104a-12R</td>\n      <td>NaN</td>\n      <td>NaN</td>\n      <td>NaN</td>\n      <td>N</td>\n    </tr>\n    <tr>\n      <th>1875207</th>\n      <td>310216550</td>\n      <td>SJ01-02-A</td>\n      <td>6동</td>\n      <td>A0107-19R</td>\n      <td>6동 1층 로비2 스피드게이트1 OUT</td>\n      <td>Grant access</td>\n      <td>0000016130004613</td>\n      <td>RegStatus0001</td>\n      <td>등록</td>\n      <td>1084846</td>\n      <td>...</td>\n      <td>항공정책과</td>\n      <td>NaN</td>\n      <td>NaN</td>\n      <td>2022-10-20 23:59:59.000</td>\n      <td>2022-10-21 00:00:00.007</td>\n      <td>A0107-19R</td>\n      <td>NaN</td>\n      <td>NaN</td>\n      <td>NaN</td>\n      <td>N</td>\n    </tr>\n  </tbody>\n</table>\n<p>1875208 rows × 26 columns</p>\n</div>"
     },
     "execution_count": 3,
     "metadata": {},
     "output_type": "execute_result"
    }
   ],
   "source": [
    "df = pd.read_csv('/Users/keumhyeonjun/Projects/행안부/주차,출입/출입.신화.샘플(2022.10.21)/tbl_hist_access.csv')\n",
    "df"
   ],
   "metadata": {
    "collapsed": false
   }
  },
  {
   "cell_type": "code",
   "execution_count": 13,
   "outputs": [],
   "source": [
    "df=pd.read_excel('/Users/keumhyeonjun/Projects/행안부/주차,출입/일반/알람이력.xlsx')"
   ],
   "metadata": {
    "collapsed": false
   }
  },
  {
   "cell_type": "code",
   "execution_count": 16,
   "outputs": [
    {
     "data": {
      "text/plain": "Index(['seq', 'site_cd', 'site_nm', 'area_cd', 'area_nm', 'sensor_cd',\n       'sensor_nm', 'kind', 'status', 'msgTime', 'insertedDate', 'rev1',\n       'rev2', 'rev3', 'rev4', 'rev5'],\n      dtype='object')"
     },
     "execution_count": 16,
     "metadata": {},
     "output_type": "execute_result"
    }
   ],
   "source": [
    "df.columns"
   ],
   "metadata": {
    "collapsed": false
   }
  },
  {
   "cell_type": "code",
   "execution_count": 14,
   "outputs": [
    {
     "data": {
      "text/plain": "0      2022-10-11 09:43:43\n1      2022-10-11 09:43:33\n2      2022-10-11 09:43:29\n3      2022-10-11 09:43:26\n4      2022-10-11 09:43:25\n               ...        \n8616   2022-10-04 00:00:17\n8617   2022-10-04 00:00:13\n8618   2022-10-04 00:00:13\n8619   2022-10-04 00:00:09\n8620   2022-10-04 00:00:01\nName: msgTime, Length: 8621, dtype: datetime64[ns]"
     },
     "execution_count": 14,
     "metadata": {},
     "output_type": "execute_result"
    }
   ],
   "source": [
    "df['msgTime'].sort_values(ascending=False)"
   ],
   "metadata": {
    "collapsed": false
   }
  },
  {
   "cell_type": "code",
   "execution_count": null,
   "metadata": {},
   "outputs": [],
   "source": [
    "df.reset_index(inplace=True)\n",
    "df.index=pd.to_datetime(df['msgTime'])\n",
    "df.drop('msgTime', axis=1, inplace=True)\n",
    "\n",
    "night = df.between_time('23:30:00','06:30:00')\n",
    "night['night'] = 1\n",
    "df = pd.merge(df, night['night'], left_on='msgTime', right_on='msgTime', how='left')\n",
    "df['night'] = df['night'].fillna(0)\n",
    "df.head()"
   ]
  },
  {
   "cell_type": "code",
   "execution_count": null,
   "outputs": [],
   "source": [
    "df['reader_nm'].value_counts()"
   ],
   "metadata": {
    "collapsed": false
   }
  },
  {
   "cell_type": "code",
   "execution_count": null,
   "outputs": [],
   "source": [
    "job_nm_first = []\n",
    "for i in range(len(df)):\n",
    "    text = df['reader_nm'][i]\n",
    "    if len(text.split()) >= 2:\n",
    "        first, *middle, last = text.split()\n",
    "        job_nm_first.append(first)\n",
    "    else :\n",
    "        job_nm_first.append(text)"
   ],
   "metadata": {
    "collapsed": false
   }
  },
  {
   "cell_type": "code",
   "execution_count": null,
   "outputs": [],
   "source": [
    "df['reader_nm_fisrt']=job_nm_first\n"
   ],
   "metadata": {
    "collapsed": false
   }
  },
  {
   "cell_type": "code",
   "execution_count": null,
   "outputs": [],
   "source": [
    "df['site_nm'].value_counts()"
   ],
   "metadata": {
    "collapsed": false
   }
  },
  {
   "cell_type": "code",
   "execution_count": null,
   "outputs": [],
   "source": [
    "def visualization(graph_title, top_n, column_name):\n",
    "    data = pd.DataFrame(df[column_name].value_counts())\n",
    "    data.reset_index(inplace=True)\n",
    "    data = data.sort_values('index')\n",
    "\n",
    "    data = data.sort_values(by=column_name, ascending=False)\n",
    "    other_value = data[column_name][top_n:].sum()\n",
    "    num_other_values = len(data) - top_n\n",
    "    new_data = {'index' : f'OtherValues({num_other_values})',\n",
    "                column_name : other_value}\n",
    "    plot_data = data[:top_n]\n",
    "    plot_data = plot_data.append(new_data, ignore_index=True)\n",
    "\n",
    "\n",
    "    plt.figure(figsize=(30,10))\n",
    "    plt.rc('font', size=15)\n",
    "    plt.bar(plot_data['index'], plot_data[column_name], width=0.3)\n",
    "    plt.title(graph_title, fontsize = 30)"
   ],
   "metadata": {
    "collapsed": false
   }
  },
  {
   "cell_type": "markdown",
   "source": [
    "# 전체 기록"
   ],
   "metadata": {
    "collapsed": false
   }
  },
  {
   "cell_type": "markdown",
   "metadata": {},
   "source": [
    "## 동별 출입인원"
   ]
  },
  {
   "cell_type": "code",
   "execution_count": null,
   "metadata": {},
   "outputs": [],
   "source": [
    "# 그래프 제목\n",
    "graph_title = '동별 출입인원'\n",
    "#표시 할 개수\n",
    "top_n = 10\n",
    "# 표시할 컬럼명\n",
    "column_name = 'site_nm'\n",
    "\n",
    "visualization(graph_title,top_n,column_name)"
   ]
  },
  {
   "cell_type": "markdown",
   "source": [
    "## 출입거부 비율"
   ],
   "metadata": {
    "collapsed": false
   }
  },
  {
   "cell_type": "code",
   "execution_count": null,
   "outputs": [],
   "source": [
    "# 그래프 제목\n",
    "graph_title = '출입거부 비율'\n",
    "#표시 할 개수\n",
    "top_n = 4\n",
    "# 표시할 컬럼명\n",
    "column_name = 'event_msg'\n",
    "\n",
    "visualization(graph_title,top_n,column_name)"
   ],
   "metadata": {
    "collapsed": false
   }
  },
  {
   "cell_type": "markdown",
   "source": [
    "## 출입자 구분"
   ],
   "metadata": {
    "collapsed": false
   }
  },
  {
   "cell_type": "code",
   "execution_count": null,
   "outputs": [],
   "source": [
    "# 그래프 제목\n",
    "graph_title = '출입자 구분'\n",
    "#표시 할 개수\n",
    "top_n = 6\n",
    "# 표시할 컬럼명\n",
    "column_name = 'emptype_nm'\n",
    "\n",
    "visualization(graph_title,top_n,column_name)"
   ],
   "metadata": {
    "collapsed": false
   }
  },
  {
   "cell_type": "markdown",
   "source": [
    "## 부서별 출입 인원"
   ],
   "metadata": {
    "collapsed": false
   }
  },
  {
   "cell_type": "code",
   "execution_count": null,
   "outputs": [],
   "source": [
    "# 그래프 제목\n",
    "graph_title = '부서별 출입 인원'\n",
    "#표시 할 개수\n",
    "top_n = 6\n",
    "# 표시할 컬럼명\n",
    "column_name = 'company_nm'\n",
    "\n",
    "visualization(graph_title,top_n,column_name)"
   ],
   "metadata": {
    "collapsed": false
   }
  },
  {
   "cell_type": "markdown",
   "source": [
    "## 과별 출입인원"
   ],
   "metadata": {
    "collapsed": false
   }
  },
  {
   "cell_type": "code",
   "execution_count": null,
   "outputs": [],
   "source": [
    "# 그래프 제목\n",
    "graph_title = '과별 출입 인원'\n",
    "#표시 할 개수\n",
    "top_n = 8\n",
    "# 표시할 컬럼명\n",
    "column_name = 'department_nm'\n",
    "\n",
    "visualization(graph_title,top_n,column_name)"
   ],
   "metadata": {
    "collapsed": false
   }
  },
  {
   "cell_type": "markdown",
   "source": [
    "## 직급 별 출입인원"
   ],
   "metadata": {
    "collapsed": false
   }
  },
  {
   "cell_type": "code",
   "execution_count": null,
   "outputs": [],
   "source": [
    "# 그래프 제목\n",
    "graph_title = '직급별 출입 인원'\n",
    "#표시 할 개수\n",
    "top_n = 8\n",
    "# 표시할 컬럼명\n",
    "column_name = 'position_nm'\n",
    "\n",
    "visualization(graph_title,top_n,column_name)"
   ],
   "metadata": {
    "collapsed": false
   }
  },
  {
   "cell_type": "markdown",
   "source": [
    "## 야간 출입인원"
   ],
   "metadata": {
    "collapsed": false
   }
  },
  {
   "cell_type": "code",
   "execution_count": null,
   "outputs": [],
   "source": [
    "time = pd.DataFrame(df['night'].value_counts())\n",
    "time.reset_index(inplace=True)\n",
    "time = time.sort_values('index')\n",
    "\n",
    "#동 입구별 차량 입차 대수\n",
    "plt.figure(figsize=(25,8))\n",
    "plt.bar(time['index'], time['night'], width=0.4)\n",
    "plt.title('야간출입인원', fontsize = 30)"
   ],
   "metadata": {
    "collapsed": false
   }
  },
  {
   "cell_type": "code",
   "execution_count": null,
   "outputs": [],
   "source": [
    "df"
   ],
   "metadata": {
    "collapsed": false
   }
  },
  {
   "cell_type": "code",
   "execution_count": null,
   "outputs": [],
   "source": [],
   "metadata": {
    "collapsed": false
   }
  },
  {
   "cell_type": "code",
   "execution_count": null,
   "outputs": [],
   "source": [],
   "metadata": {
    "collapsed": false
   }
  }
 ],
 "metadata": {
  "kernelspec": {
   "display_name": "Python 3 (ipykernel)",
   "language": "python",
   "name": "python3"
  },
  "language_info": {
   "codemirror_mode": {
    "name": "ipython",
    "version": 3
   },
   "file_extension": ".py",
   "mimetype": "text/x-python",
   "name": "python",
   "nbconvert_exporter": "python",
   "pygments_lexer": "ipython3",
   "version": "3.9.13"
  },
  "toc": {
   "base_numbering": 1,
   "nav_menu": {},
   "number_sections": true,
   "sideBar": true,
   "skip_h1_title": false,
   "title_cell": "Table of Contents",
   "title_sidebar": "Contents",
   "toc_cell": false,
   "toc_position": {},
   "toc_section_display": true,
   "toc_window_display": true
  }
 },
 "nbformat": 4,
 "nbformat_minor": 1
}

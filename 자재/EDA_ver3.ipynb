{
 "cells": [
  {
   "cell_type": "markdown",
   "source": [
    "## FMSA10_작업지시결과ver2 + FMSA11_작업장비이력 + FMSX_장비마스터ver2 + FMSB07_자재출고 + FMSB03_자재마스터ver2 합치기\n",
    "* 무슨 장애 > 무슨 장비 > 무슨 자재 사용되는지 알아보기\n",
    "* 변수명 data = 장애 + 장비\n",
    "* 변수명 df = 장애+장비+자재\n"
   ],
   "metadata": {
    "collapsed": false
   }
  },
  {
   "cell_type": "markdown",
   "source": [],
   "metadata": {
    "collapsed": false
   }
  },
  {
   "cell_type": "code",
   "execution_count": 110,
   "outputs": [],
   "source": [
    "import pandas as pd\n",
    "from pathlib import Path"
   ],
   "metadata": {
    "collapsed": false
   }
  },
  {
   "cell_type": "code",
   "execution_count": 111,
   "outputs": [
    {
     "data": {
      "text/plain": "'/Users/keumhyeonjun/Projects/행안부/자재/GFMS DB/'"
     },
     "execution_count": 111,
     "metadata": {},
     "output_type": "execute_result"
    }
   ],
   "source": [
    "path = Path.cwd()\n",
    "path = str(path)+'/GFMS DB/'\n",
    "path"
   ],
   "metadata": {
    "collapsed": false
   }
  },
  {
   "cell_type": "code",
   "execution_count": 112,
   "outputs": [
    {
     "name": "stderr",
     "output_type": "stream",
     "text": [
      "/var/folders/nd/cl2nzwh13zx7jdly2t5m95340000gn/T/ipykernel_1276/1017793757.py:1: DtypeWarning: Columns (59) have mixed types. Specify dtype option on import or set low_memory=False.\n",
      "  FMSA10_작업지시_결과 = pd.read_csv(path+'FMSA10_작업지시_결과_ver2.csv')\n"
     ]
    }
   ],
   "source": [
    "FMSA10_작업지시_결과 = pd.read_csv(path+'FMSA10_작업지시_결과_ver2.csv')\n",
    "\n",
    "FMSA11_작업장비이력 = pd.read_excel(path + 'FMSA11_작업장비이력.xlsx')\n",
    "\n",
    "FMSX05_장비마스터 = pd.read_csv(path + 'FMSX05_장비마스터_ver2.csv')\n",
    "\n",
    "FMSB07_자재출고 = pd.read_excel(path + 'FMSB07_자재출고.xlsx')\n",
    "\n",
    "FMSB03_자재마스터 = pd.read_csv(path + 'FMSB03_자재마스터_ver2.csv')\n",
    "\n",
    "FMSX05_장비이력 = pd.read_excel(path + 'FMSX05_HIS_장비이력.xlsx')"
   ],
   "metadata": {
    "collapsed": false
   }
  },
  {
   "cell_type": "code",
   "execution_count": 113,
   "outputs": [],
   "source": [
    "FMSB03_자재마스터.drop(['class_nm_4','class_cd_4'],axis =1,inplace = True)\n",
    "\n",
    "FMSB03_자재마스터.rename(columns={'class_nm_3':'jajae_class_nm_3'},inplace = True)\n",
    "FMSB03_자재마스터.rename(columns={'class_nm_2':'jajae_class_nm_2'},inplace = True)\n",
    "FMSB03_자재마스터.rename(columns={'class_nm_1':'jajae_class_nm_1'},inplace = True)\n",
    "\n",
    "FMSB03_자재마스터.rename(columns={'class_cd_3':'jajae_class_cd_3'},inplace = True)\n",
    "FMSB03_자재마스터.rename(columns={'class_cd_2':'jajae_class_cd_2'},inplace = True)\n",
    "FMSB03_자재마스터.rename(columns={'class_cd_1':'jajae_class_cd_1'},inplace = True)\n",
    "\n",
    "\n",
    "FMSX05_장비마스터.rename(columns={'class_nm_4':'jangbi_class_nm_4'},inplace = True)\n",
    "FMSX05_장비마스터.rename(columns={'class_nm_3':'jangbi_class_nm_3'},inplace = True)\n",
    "FMSX05_장비마스터.rename(columns={'class_nm_2':'jangbi_class_nm_2'},inplace = True)\n",
    "FMSX05_장비마스터.rename(columns={'class_nm_1':'jangbi_class_nm_1'},inplace = True)\n",
    "\n",
    "\n",
    "FMSX05_장비마스터.rename(columns={'class_cd_4':'jangbi_class_cd_4'},inplace = True)\n",
    "FMSX05_장비마스터.rename(columns={'class_cd_3':'jangbi_class_cd_3'},inplace = True)\n",
    "FMSX05_장비마스터.rename(columns={'class_cd_2':'jangbi_class_cd_2'},inplace = True)\n",
    "FMSX05_장비마스터.rename(columns={'class_cd_1':'jangbi_class_cd_1'},inplace = True)\n",
    "\n",
    "FMSA10_작업지시_결과.rename(columns={'class_nm_4':'job_class_nm_4'},inplace = True)\n",
    "FMSA10_작업지시_결과.rename(columns={'class_nm_3':'job_class_nm_3'},inplace = True)\n",
    "FMSA10_작업지시_결과.rename(columns={'class_nm_2':'job_class_nm_2'},inplace = True)\n",
    "FMSA10_작업지시_결과.rename(columns={'class_nm_1':'job_class_nm_1'},inplace = True)\n",
    "\n",
    "\n",
    "FMSA10_작업지시_결과.rename(columns={'class_cd_4':'job_class_cd_4'},inplace = True)\n",
    "FMSA10_작업지시_결과.rename(columns={'class_cd_3':'job_class_cd_3'},inplace = True)\n",
    "FMSA10_작업지시_결과.rename(columns={'class_cd_2':'job_class_cd_2'},inplace = True)\n",
    "FMSA10_작업지시_결과.rename(columns={'class_cd_1':'job_class_cd_1'},inplace = True)\n",
    "\n"
   ],
   "metadata": {
    "collapsed": false
   }
  },
  {
   "cell_type": "code",
   "execution_count": 114,
   "outputs": [
    {
     "data": {
      "text/plain": "     comp_cd        outw_cd            job_cd  outw_tpy    outw_day  \\\n0       SEJO  A211001-00012      211001-00059         1  2021-10-01   \n1       SEJO  A211001-00005      211001-00081         1  2021-10-01   \n2       SEJO  A211001-00014      211001-00070         1  2021-10-01   \n3       SEJO  A211001-00015      211001-00070         1  2021-10-01   \n4       SEJO  A211001-00001      211001-00038         1  2021-10-01   \n...      ...            ...               ...       ...         ...   \n5717    SEJO  A221011-00019      221011-00065         1  2022-10-11   \n5718    SEJO  A221011-00020      221011-00065         1  2022-10-11   \n5719    SEJO  A221011-00021      221011-00065         1  2022-10-11   \n5720    SEJO  A221011-00015      221011-00057         1  2022-10-11   \n5721    SEJO  A221011-00001  A25-221011-00001         1  2022-10-11   \n\n            mat_cd  outw_qty  outw_amt                           outw_use  \\\n0     413002005001         1       1.0                                NaN   \n1     504001002002         1       1.0                                NaN   \n2     802001001001         1       1.0                                NaN   \n3     407001001005         1       1.0                                NaN   \n4     413002005005         1       1.0                                NaN   \n...            ...       ...       ...                                ...   \n5717  701003004012         4       NaN                                NaN   \n5718  701003004014         2       NaN                                NaN   \n5719  701003004015         2       NaN                                NaN   \n5720  412005002004         2       NaN                                NaN   \n5721  109001002001      1071       NaN  1부:456매, 2부:407매, 3부:142매, 조경:66매   \n\n     outw_empno  ...  gyuljae_no1 gyuljae_no2 gyuljae_no3 gyuljae_no4  \\\n0        Jk1495  ...          NaN         NaN         NaN         NaN   \n1      skysen83  ...          NaN         NaN         NaN         NaN   \n2      hugh7192  ...          NaN         NaN         NaN         NaN   \n3      hugh7192  ...          NaN         NaN         NaN         NaN   \n4     sueoh0202  ...          NaN         NaN         NaN         NaN   \n...         ...  ...          ...         ...         ...         ...   \n5717    ipt1264  ...          NaN         NaN         NaN         NaN   \n5718    ipt1264  ...          NaN         NaN         NaN         NaN   \n5719    ipt1264  ...          NaN         NaN         NaN         NaN   \n5720      as119  ...          NaN         NaN         NaN         NaN   \n5721     clean1  ...          NaN         NaN         NaN         NaN   \n\n     gyuljae_no5 gyuljae_yn return_qty mat_check_gb old_mat_cd new_mat_cd  \n0            NaN          N        NaN          NaN        NaN        NaN  \n1            NaN          Y        NaN          NaN        NaN        NaN  \n2            NaN          N        NaN          NaN        NaN        NaN  \n3            NaN          N        NaN          NaN        NaN        NaN  \n4            NaN          Y        NaN          NaN        NaN        NaN  \n...          ...        ...        ...          ...        ...        ...  \n5717         NaN          N        NaN          NaN        NaN        NaN  \n5718         NaN          N        NaN          NaN        NaN        NaN  \n5719         NaN          N        NaN          NaN        NaN        NaN  \n5720         NaN          N        NaN          NaN        NaN        NaN  \n5721         NaN          N        NaN          0.0        NaN        NaN  \n\n[5722 rows x 31 columns]",
      "text/html": "<div>\n<style scoped>\n    .dataframe tbody tr th:only-of-type {\n        vertical-align: middle;\n    }\n\n    .dataframe tbody tr th {\n        vertical-align: top;\n    }\n\n    .dataframe thead th {\n        text-align: right;\n    }\n</style>\n<table border=\"1\" class=\"dataframe\">\n  <thead>\n    <tr style=\"text-align: right;\">\n      <th></th>\n      <th>comp_cd</th>\n      <th>outw_cd</th>\n      <th>job_cd</th>\n      <th>outw_tpy</th>\n      <th>outw_day</th>\n      <th>mat_cd</th>\n      <th>outw_qty</th>\n      <th>outw_amt</th>\n      <th>outw_use</th>\n      <th>outw_empno</th>\n      <th>...</th>\n      <th>gyuljae_no1</th>\n      <th>gyuljae_no2</th>\n      <th>gyuljae_no3</th>\n      <th>gyuljae_no4</th>\n      <th>gyuljae_no5</th>\n      <th>gyuljae_yn</th>\n      <th>return_qty</th>\n      <th>mat_check_gb</th>\n      <th>old_mat_cd</th>\n      <th>new_mat_cd</th>\n    </tr>\n  </thead>\n  <tbody>\n    <tr>\n      <th>0</th>\n      <td>SEJO</td>\n      <td>A211001-00012</td>\n      <td>211001-00059</td>\n      <td>1</td>\n      <td>2021-10-01</td>\n      <td>413002005001</td>\n      <td>1</td>\n      <td>1.0</td>\n      <td>NaN</td>\n      <td>Jk1495</td>\n      <td>...</td>\n      <td>NaN</td>\n      <td>NaN</td>\n      <td>NaN</td>\n      <td>NaN</td>\n      <td>NaN</td>\n      <td>N</td>\n      <td>NaN</td>\n      <td>NaN</td>\n      <td>NaN</td>\n      <td>NaN</td>\n    </tr>\n    <tr>\n      <th>1</th>\n      <td>SEJO</td>\n      <td>A211001-00005</td>\n      <td>211001-00081</td>\n      <td>1</td>\n      <td>2021-10-01</td>\n      <td>504001002002</td>\n      <td>1</td>\n      <td>1.0</td>\n      <td>NaN</td>\n      <td>skysen83</td>\n      <td>...</td>\n      <td>NaN</td>\n      <td>NaN</td>\n      <td>NaN</td>\n      <td>NaN</td>\n      <td>NaN</td>\n      <td>Y</td>\n      <td>NaN</td>\n      <td>NaN</td>\n      <td>NaN</td>\n      <td>NaN</td>\n    </tr>\n    <tr>\n      <th>2</th>\n      <td>SEJO</td>\n      <td>A211001-00014</td>\n      <td>211001-00070</td>\n      <td>1</td>\n      <td>2021-10-01</td>\n      <td>802001001001</td>\n      <td>1</td>\n      <td>1.0</td>\n      <td>NaN</td>\n      <td>hugh7192</td>\n      <td>...</td>\n      <td>NaN</td>\n      <td>NaN</td>\n      <td>NaN</td>\n      <td>NaN</td>\n      <td>NaN</td>\n      <td>N</td>\n      <td>NaN</td>\n      <td>NaN</td>\n      <td>NaN</td>\n      <td>NaN</td>\n    </tr>\n    <tr>\n      <th>3</th>\n      <td>SEJO</td>\n      <td>A211001-00015</td>\n      <td>211001-00070</td>\n      <td>1</td>\n      <td>2021-10-01</td>\n      <td>407001001005</td>\n      <td>1</td>\n      <td>1.0</td>\n      <td>NaN</td>\n      <td>hugh7192</td>\n      <td>...</td>\n      <td>NaN</td>\n      <td>NaN</td>\n      <td>NaN</td>\n      <td>NaN</td>\n      <td>NaN</td>\n      <td>N</td>\n      <td>NaN</td>\n      <td>NaN</td>\n      <td>NaN</td>\n      <td>NaN</td>\n    </tr>\n    <tr>\n      <th>4</th>\n      <td>SEJO</td>\n      <td>A211001-00001</td>\n      <td>211001-00038</td>\n      <td>1</td>\n      <td>2021-10-01</td>\n      <td>413002005005</td>\n      <td>1</td>\n      <td>1.0</td>\n      <td>NaN</td>\n      <td>sueoh0202</td>\n      <td>...</td>\n      <td>NaN</td>\n      <td>NaN</td>\n      <td>NaN</td>\n      <td>NaN</td>\n      <td>NaN</td>\n      <td>Y</td>\n      <td>NaN</td>\n      <td>NaN</td>\n      <td>NaN</td>\n      <td>NaN</td>\n    </tr>\n    <tr>\n      <th>...</th>\n      <td>...</td>\n      <td>...</td>\n      <td>...</td>\n      <td>...</td>\n      <td>...</td>\n      <td>...</td>\n      <td>...</td>\n      <td>...</td>\n      <td>...</td>\n      <td>...</td>\n      <td>...</td>\n      <td>...</td>\n      <td>...</td>\n      <td>...</td>\n      <td>...</td>\n      <td>...</td>\n      <td>...</td>\n      <td>...</td>\n      <td>...</td>\n      <td>...</td>\n      <td>...</td>\n    </tr>\n    <tr>\n      <th>5717</th>\n      <td>SEJO</td>\n      <td>A221011-00019</td>\n      <td>221011-00065</td>\n      <td>1</td>\n      <td>2022-10-11</td>\n      <td>701003004012</td>\n      <td>4</td>\n      <td>NaN</td>\n      <td>NaN</td>\n      <td>ipt1264</td>\n      <td>...</td>\n      <td>NaN</td>\n      <td>NaN</td>\n      <td>NaN</td>\n      <td>NaN</td>\n      <td>NaN</td>\n      <td>N</td>\n      <td>NaN</td>\n      <td>NaN</td>\n      <td>NaN</td>\n      <td>NaN</td>\n    </tr>\n    <tr>\n      <th>5718</th>\n      <td>SEJO</td>\n      <td>A221011-00020</td>\n      <td>221011-00065</td>\n      <td>1</td>\n      <td>2022-10-11</td>\n      <td>701003004014</td>\n      <td>2</td>\n      <td>NaN</td>\n      <td>NaN</td>\n      <td>ipt1264</td>\n      <td>...</td>\n      <td>NaN</td>\n      <td>NaN</td>\n      <td>NaN</td>\n      <td>NaN</td>\n      <td>NaN</td>\n      <td>N</td>\n      <td>NaN</td>\n      <td>NaN</td>\n      <td>NaN</td>\n      <td>NaN</td>\n    </tr>\n    <tr>\n      <th>5719</th>\n      <td>SEJO</td>\n      <td>A221011-00021</td>\n      <td>221011-00065</td>\n      <td>1</td>\n      <td>2022-10-11</td>\n      <td>701003004015</td>\n      <td>2</td>\n      <td>NaN</td>\n      <td>NaN</td>\n      <td>ipt1264</td>\n      <td>...</td>\n      <td>NaN</td>\n      <td>NaN</td>\n      <td>NaN</td>\n      <td>NaN</td>\n      <td>NaN</td>\n      <td>N</td>\n      <td>NaN</td>\n      <td>NaN</td>\n      <td>NaN</td>\n      <td>NaN</td>\n    </tr>\n    <tr>\n      <th>5720</th>\n      <td>SEJO</td>\n      <td>A221011-00015</td>\n      <td>221011-00057</td>\n      <td>1</td>\n      <td>2022-10-11</td>\n      <td>412005002004</td>\n      <td>2</td>\n      <td>NaN</td>\n      <td>NaN</td>\n      <td>as119</td>\n      <td>...</td>\n      <td>NaN</td>\n      <td>NaN</td>\n      <td>NaN</td>\n      <td>NaN</td>\n      <td>NaN</td>\n      <td>N</td>\n      <td>NaN</td>\n      <td>NaN</td>\n      <td>NaN</td>\n      <td>NaN</td>\n    </tr>\n    <tr>\n      <th>5721</th>\n      <td>SEJO</td>\n      <td>A221011-00001</td>\n      <td>A25-221011-00001</td>\n      <td>1</td>\n      <td>2022-10-11</td>\n      <td>109001002001</td>\n      <td>1071</td>\n      <td>NaN</td>\n      <td>1부:456매, 2부:407매, 3부:142매, 조경:66매</td>\n      <td>clean1</td>\n      <td>...</td>\n      <td>NaN</td>\n      <td>NaN</td>\n      <td>NaN</td>\n      <td>NaN</td>\n      <td>NaN</td>\n      <td>N</td>\n      <td>NaN</td>\n      <td>0.0</td>\n      <td>NaN</td>\n      <td>NaN</td>\n    </tr>\n  </tbody>\n</table>\n<p>5722 rows × 31 columns</p>\n</div>"
     },
     "execution_count": 114,
     "metadata": {},
     "output_type": "execute_result"
    }
   ],
   "source": [
    "FMSB07_자재출고"
   ],
   "metadata": {
    "collapsed": false
   }
  },
  {
   "cell_type": "code",
   "execution_count": 115,
   "outputs": [
    {
     "data": {
      "text/plain": "          mat_cd  mat_nm jajae_class_nm_1 jajae_class_nm_2 jajae_class_nm_3  \\\n0      101001001    황동레일               공통              철강재               봉강   \n1      101001002  파이프서포트               공통              철강재               봉강   \n2      101001003   단관파이프               공통              철강재               봉강   \n3      101001004    각파이프               공통              철강재               봉강   \n4      101003001    초경철판               공통              철강재            강판·강관   \n...          ...     ...              ...              ...              ...   \n2258  1106009002    바닦매트               미화             청소용품              매트류   \n2259  1106009003  삼성쿠션매트               미화             청소용품              매트류   \n2260  1107001001    염화칼슘               미화             제설용품             염화칼슘   \n2261  1107002001     넉가래               미화             제설용품             제설도구   \n2262  1107002002      눈삽               미화             제설용품             제설도구   \n\n      jajae_class_cd_3  \n0               101001  \n1               101001  \n2               101001  \n3               101001  \n4               101003  \n...                ...  \n2258           1106009  \n2259           1106009  \n2260           1107001  \n2261           1107002  \n2262           1107002  \n\n[2263 rows x 6 columns]",
      "text/html": "<div>\n<style scoped>\n    .dataframe tbody tr th:only-of-type {\n        vertical-align: middle;\n    }\n\n    .dataframe tbody tr th {\n        vertical-align: top;\n    }\n\n    .dataframe thead th {\n        text-align: right;\n    }\n</style>\n<table border=\"1\" class=\"dataframe\">\n  <thead>\n    <tr style=\"text-align: right;\">\n      <th></th>\n      <th>mat_cd</th>\n      <th>mat_nm</th>\n      <th>jajae_class_nm_1</th>\n      <th>jajae_class_nm_2</th>\n      <th>jajae_class_nm_3</th>\n      <th>jajae_class_cd_3</th>\n    </tr>\n  </thead>\n  <tbody>\n    <tr>\n      <th>0</th>\n      <td>101001001</td>\n      <td>황동레일</td>\n      <td>공통</td>\n      <td>철강재</td>\n      <td>봉강</td>\n      <td>101001</td>\n    </tr>\n    <tr>\n      <th>1</th>\n      <td>101001002</td>\n      <td>파이프서포트</td>\n      <td>공통</td>\n      <td>철강재</td>\n      <td>봉강</td>\n      <td>101001</td>\n    </tr>\n    <tr>\n      <th>2</th>\n      <td>101001003</td>\n      <td>단관파이프</td>\n      <td>공통</td>\n      <td>철강재</td>\n      <td>봉강</td>\n      <td>101001</td>\n    </tr>\n    <tr>\n      <th>3</th>\n      <td>101001004</td>\n      <td>각파이프</td>\n      <td>공통</td>\n      <td>철강재</td>\n      <td>봉강</td>\n      <td>101001</td>\n    </tr>\n    <tr>\n      <th>4</th>\n      <td>101003001</td>\n      <td>초경철판</td>\n      <td>공통</td>\n      <td>철강재</td>\n      <td>강판·강관</td>\n      <td>101003</td>\n    </tr>\n    <tr>\n      <th>...</th>\n      <td>...</td>\n      <td>...</td>\n      <td>...</td>\n      <td>...</td>\n      <td>...</td>\n      <td>...</td>\n    </tr>\n    <tr>\n      <th>2258</th>\n      <td>1106009002</td>\n      <td>바닦매트</td>\n      <td>미화</td>\n      <td>청소용품</td>\n      <td>매트류</td>\n      <td>1106009</td>\n    </tr>\n    <tr>\n      <th>2259</th>\n      <td>1106009003</td>\n      <td>삼성쿠션매트</td>\n      <td>미화</td>\n      <td>청소용품</td>\n      <td>매트류</td>\n      <td>1106009</td>\n    </tr>\n    <tr>\n      <th>2260</th>\n      <td>1107001001</td>\n      <td>염화칼슘</td>\n      <td>미화</td>\n      <td>제설용품</td>\n      <td>염화칼슘</td>\n      <td>1107001</td>\n    </tr>\n    <tr>\n      <th>2261</th>\n      <td>1107002001</td>\n      <td>넉가래</td>\n      <td>미화</td>\n      <td>제설용품</td>\n      <td>제설도구</td>\n      <td>1107002</td>\n    </tr>\n    <tr>\n      <th>2262</th>\n      <td>1107002002</td>\n      <td>눈삽</td>\n      <td>미화</td>\n      <td>제설용품</td>\n      <td>제설도구</td>\n      <td>1107002</td>\n    </tr>\n  </tbody>\n</table>\n<p>2263 rows × 6 columns</p>\n</div>"
     },
     "execution_count": 115,
     "metadata": {},
     "output_type": "execute_result"
    }
   ],
   "source": [
    "fmsa10 =FMSA10_작업지시_결과[['job_cd','job_nm','job_jisi_dt','job_enddt','job_shm','job_ehm','job_class_nm_1','job_class_nm_2','job_class_nm_3','job_class_nm_4']]\n",
    "fmsb03 = FMSB03_자재마스터[['mat_cd','mat_nm','jajae_class_nm_1','jajae_class_nm_2','jajae_class_nm_3','jajae_class_cd_3']]\n",
    "fmsx05 = FMSX05_장비마스터[['fac_cd','fac_nm','jangbi_class_nm_1','jangbi_class_nm_2','jangbi_class_nm_3','jangbi_class_nm_4']]\n",
    "fmsb03"
   ],
   "metadata": {
    "collapsed": false
   }
  },
  {
   "cell_type": "code",
   "execution_count": 116,
   "outputs": [
    {
     "name": "stderr",
     "output_type": "stream",
     "text": [
      "/var/folders/nd/cl2nzwh13zx7jdly2t5m95340000gn/T/ipykernel_1276/4040468784.py:3: SettingWithCopyWarning: \n",
      "A value is trying to be set on a copy of a slice from a DataFrame.\n",
      "Try using .loc[row_indexer,col_indexer] = value instead\n",
      "\n",
      "See the caveats in the documentation: https://pandas.pydata.org/pandas-docs/stable/user_guide/indexing.html#returning-a-view-versus-a-copy\n",
      "  fmsb03[\"mat_cd\"] = fmsb03[\"mat_cd\"].astype(\"str\")\n"
     ]
    },
    {
     "data": {
      "text/plain": "                job_cd    outw_day     mat_cd  outw_qty  mat_nm_x  \\\n0         211001-00059  2021-10-01  413002005         1  LED일체형램프   \n1         211001-00038  2021-10-01  413002005         1  LED일체형램프   \n2         211006-00016  2021-10-06  413002005         1  LED일체형램프   \n3         211006-00035  2021-10-06  413002005         3  LED일체형램프   \n4         211008-00028  2021-10-08  413002005         4  LED일체형램프   \n...                ...         ...        ...       ...       ...   \n5717      221004-00017  2022-10-04  701003013         1       어댑터   \n5718   A2-221005-00001  2022-10-05  412005013      1000  디지털타임스위치   \n5719  A15-221005-00006  2022-10-05  207001022         1    친환경페인트   \n5720      221006-00053  2022-10-06  306003010         2   소변기세척밸브   \n5721      221011-00066  2022-10-11  402004012         4        풀리   \n\n     jajae_class_nm_1 jajae_class_nm_2 jajae_class_nm_3  jajae_class_cd_3  \n0                  전기      조명기구/전등/안정기           LED 전구            413002  \n1                  전기      조명기구/전등/안정기           LED 전구            413002  \n2                  전기      조명기구/전등/안정기           LED 전구            413002  \n3                  전기      조명기구/전등/안정기           LED 전구            413002  \n4                  전기      조명기구/전등/안정기           LED 전구            413002  \n...               ...              ...              ...               ...  \n5717               통신            통신케이블         접속자재(01)            701003  \n5718               전기             배선기구          스위치(전기)            412005  \n5719               건축               도료              페인트            207001  \n5720               기계             위생기구              소변기            306003  \n5721               전기           전선원부자재   케이블 접속재 및 접속자재            402004  \n\n[5722 rows x 9 columns]",
      "text/html": "<div>\n<style scoped>\n    .dataframe tbody tr th:only-of-type {\n        vertical-align: middle;\n    }\n\n    .dataframe tbody tr th {\n        vertical-align: top;\n    }\n\n    .dataframe thead th {\n        text-align: right;\n    }\n</style>\n<table border=\"1\" class=\"dataframe\">\n  <thead>\n    <tr style=\"text-align: right;\">\n      <th></th>\n      <th>job_cd</th>\n      <th>outw_day</th>\n      <th>mat_cd</th>\n      <th>outw_qty</th>\n      <th>mat_nm_x</th>\n      <th>jajae_class_nm_1</th>\n      <th>jajae_class_nm_2</th>\n      <th>jajae_class_nm_3</th>\n      <th>jajae_class_cd_3</th>\n    </tr>\n  </thead>\n  <tbody>\n    <tr>\n      <th>0</th>\n      <td>211001-00059</td>\n      <td>2021-10-01</td>\n      <td>413002005</td>\n      <td>1</td>\n      <td>LED일체형램프</td>\n      <td>전기</td>\n      <td>조명기구/전등/안정기</td>\n      <td>LED 전구</td>\n      <td>413002</td>\n    </tr>\n    <tr>\n      <th>1</th>\n      <td>211001-00038</td>\n      <td>2021-10-01</td>\n      <td>413002005</td>\n      <td>1</td>\n      <td>LED일체형램프</td>\n      <td>전기</td>\n      <td>조명기구/전등/안정기</td>\n      <td>LED 전구</td>\n      <td>413002</td>\n    </tr>\n    <tr>\n      <th>2</th>\n      <td>211006-00016</td>\n      <td>2021-10-06</td>\n      <td>413002005</td>\n      <td>1</td>\n      <td>LED일체형램프</td>\n      <td>전기</td>\n      <td>조명기구/전등/안정기</td>\n      <td>LED 전구</td>\n      <td>413002</td>\n    </tr>\n    <tr>\n      <th>3</th>\n      <td>211006-00035</td>\n      <td>2021-10-06</td>\n      <td>413002005</td>\n      <td>3</td>\n      <td>LED일체형램프</td>\n      <td>전기</td>\n      <td>조명기구/전등/안정기</td>\n      <td>LED 전구</td>\n      <td>413002</td>\n    </tr>\n    <tr>\n      <th>4</th>\n      <td>211008-00028</td>\n      <td>2021-10-08</td>\n      <td>413002005</td>\n      <td>4</td>\n      <td>LED일체형램프</td>\n      <td>전기</td>\n      <td>조명기구/전등/안정기</td>\n      <td>LED 전구</td>\n      <td>413002</td>\n    </tr>\n    <tr>\n      <th>...</th>\n      <td>...</td>\n      <td>...</td>\n      <td>...</td>\n      <td>...</td>\n      <td>...</td>\n      <td>...</td>\n      <td>...</td>\n      <td>...</td>\n      <td>...</td>\n    </tr>\n    <tr>\n      <th>5717</th>\n      <td>221004-00017</td>\n      <td>2022-10-04</td>\n      <td>701003013</td>\n      <td>1</td>\n      <td>어댑터</td>\n      <td>통신</td>\n      <td>통신케이블</td>\n      <td>접속자재(01)</td>\n      <td>701003</td>\n    </tr>\n    <tr>\n      <th>5718</th>\n      <td>A2-221005-00001</td>\n      <td>2022-10-05</td>\n      <td>412005013</td>\n      <td>1000</td>\n      <td>디지털타임스위치</td>\n      <td>전기</td>\n      <td>배선기구</td>\n      <td>스위치(전기)</td>\n      <td>412005</td>\n    </tr>\n    <tr>\n      <th>5719</th>\n      <td>A15-221005-00006</td>\n      <td>2022-10-05</td>\n      <td>207001022</td>\n      <td>1</td>\n      <td>친환경페인트</td>\n      <td>건축</td>\n      <td>도료</td>\n      <td>페인트</td>\n      <td>207001</td>\n    </tr>\n    <tr>\n      <th>5720</th>\n      <td>221006-00053</td>\n      <td>2022-10-06</td>\n      <td>306003010</td>\n      <td>2</td>\n      <td>소변기세척밸브</td>\n      <td>기계</td>\n      <td>위생기구</td>\n      <td>소변기</td>\n      <td>306003</td>\n    </tr>\n    <tr>\n      <th>5721</th>\n      <td>221011-00066</td>\n      <td>2022-10-11</td>\n      <td>402004012</td>\n      <td>4</td>\n      <td>풀리</td>\n      <td>전기</td>\n      <td>전선원부자재</td>\n      <td>케이블 접속재 및 접속자재</td>\n      <td>402004</td>\n    </tr>\n  </tbody>\n</table>\n<p>5722 rows × 9 columns</p>\n</div>"
     },
     "execution_count": 116,
     "metadata": {},
     "output_type": "execute_result"
    }
   ],
   "source": [
    "FMSB07_자재출고[\"mat_cd\"] = FMSB07_자재출고[\"mat_cd\"].astype(\"str\")\n",
    "FMSB07_자재출고[\"mat_cd\"] = list(map(lambda x: x[:-3],FMSB07_자재출고[\"mat_cd\"].tolist())) # FMSB03과 inner join하기 위해 mat_cd 형식 일치\n",
    "fmsb03[\"mat_cd\"] = fmsb03[\"mat_cd\"].astype(\"str\")\n",
    "jajae = pd.merge(FMSB07_자재출고,fmsb03 ,on = 'mat_cd', how = 'inner')\n",
    "jajae = jajae[['job_cd','outw_day','mat_cd','outw_qty','mat_nm_x','jajae_class_nm_1','jajae_class_nm_2','jajae_class_nm_3','jajae_class_cd_3']]\n",
    "jajae"
   ],
   "metadata": {
    "collapsed": false
   }
  },
  {
   "cell_type": "code",
   "execution_count": 117,
   "outputs": [],
   "source": [
    "\n",
    "jangbi = pd.merge(FMSA11_작업장비이력, fmsx05, how='inner', on='fac_cd')\n",
    "data = pd.merge(fmsa10,jangbi, on='job_cd',how = 'inner')\n",
    "df = pd.merge(data,jajae, on='job_cd',how = 'inner')"
   ],
   "metadata": {
    "collapsed": false
   }
  },
  {
   "cell_type": "code",
   "execution_count": 125,
   "outputs": [],
   "source": [
    "\n",
    "jangbi['자재매칭여부'] = jangbi['job_cd']\n",
    "arr_장비 = list(data['job_cd'])\n",
    "arr_자재 = list(jajae['job_cd'])\n",
    "#자재 매칭이 안되는 경우\n",
    "arr = list(set(arr_장비)- set(arr_자재))\n",
    "\n",
    "def function(x):\n",
    "    if x in arr:\n",
    "        return 0\n",
    "    else:\n",
    "         return 1\n",
    "\n",
    "jangbi['자재매칭여부'] = jangbi['자재매칭여부'].apply(function)\n",
    "\n",
    "jangbi = pd.merge(fmsa10[['job_cd','job_nm']],jangbi, how = 'inner', on = 'job_cd')\n",
    "jangbi_broken = pd.merge(fmsa10,jangbi, on='job_cd',how = 'inner')\n"
   ],
   "metadata": {
    "collapsed": false
   }
  },
  {
   "cell_type": "code",
   "execution_count": 119,
   "outputs": [],
   "source": [
    "final = df[['job_cd','job_nm','job_jisi_dt','job_enddt','job_shm','job_ehm','job_class_nm_1','job_class_nm_2','job_class_nm_3','job_class_nm_4','fac_cd','fac_nm','mat_cd',\n",
    "           'jangbi_class_nm_1','jangbi_class_nm_2','jangbi_class_nm_3','jangbi_class_nm_4','mat_nm_x','jajae_class_nm_1','jajae_class_nm_2','jajae_class_nm_3','jajae_class_cd_3']]"
   ],
   "metadata": {
    "collapsed": false
   }
  },
  {
   "cell_type": "code",
   "execution_count": 127,
   "outputs": [
    {
     "data": {
      "text/plain": "            job_cd                                  job_nm job_jisi_dt  \\\n0     211001-00047               2동 1구역 430호 남자화장실 비데 전열불량  2021-10-01   \n1     211001-00059            4동 지하 1층 전기원휴게실내 샤워장 전등점등불량.  2021-10-01   \n2     211001-00037               4동 608호 정책조정기획관실 전등 점등 불량  2021-10-01   \n3     211001-00081        1동 1구역 2층 복도내 거실통로유도등 점등불량 교체 작업  2021-10-01   \n4     211001-00070             2-1동 옥상층 66번 CCTV PTZ 동작 불량  2021-10-01   \n...            ...                                     ...         ...   \n6826  221011-00011      13동 5-7 여자화장실 오른쪽 첫번째 대변기 밑 밸브쪽 누수  2022-10-11   \n6827  221011-00066     13-2동 1층 방재실 R형 수신기 예비전원 불량 교체 (2개)  2022-10-11   \n6828  221011-00040  꿈샘어린이집 1층 기계실 소화수조A 레벨스위치 1개 작동불량 교체작업  2022-10-11   \n6829  221011-00044                  16동 1층 동쪽 여자화장실 대변기 막힘  2022-10-11   \n6830  221011-00019              17-2동 7층 남자 화장실 대변기 물 계속흐름  2022-10-11   \n\n       job_enddt                job_shm                 job_ehm  \\\n0     2021-10-01  2021-10-01 오후 2:30:00   2021-10-01 오후 2:40:00   \n1     2021-10-01  2021-10-01 오전 9:00:00   2021-10-01 오전 9:30:00   \n2     2021-10-01  2021-10-01 오후 2:25:00   2021-10-01 오후 3:25:00   \n3     2021-10-01  2021-10-01 오후 1:30:00   2021-10-01 오후 1:45:00   \n4     2021-10-01  2021-10-01 오전 9:00:00   2021-10-01 오후 5:31:00   \n...          ...                    ...                     ...   \n6826  2022-10-11  2022-10-11 오전 9:40:00  2022-10-11 오전 10:10:00   \n6827  2022-10-11  2022-10-11 오후 2:30:00   2022-10-11 오후 3:10:00   \n6828  2022-10-11  2022-10-11 오후 1:30:00   2022-10-11 오후 2:30:00   \n6829  2022-10-11  2022-10-11 오전 8:32:00   2022-10-11 오전 9:30:00   \n6830  2022-10-11  2022-10-11 오전 8:57:00   2022-10-11 오전 9:20:00   \n\n     job_class_nm_1 job_class_nm_2 job_class_nm_3 job_class_nm_4  ...  \\\n0            2동 1구역             4층            분전반           EPS실  ...   \n1                4동           지하1층             조명      옥내 LED 조명  ...   \n2                4동             6층             조명      옥내 LED 조명  ...   \n3            1동 1구역             2층            유도등       거실통로 유도등  ...   \n4            2동 1구역            옥상층          방범시스템       CCTV 카메라  ...   \n...             ...            ...            ...            ...  ...   \n6826          13-1동             5층           위생설비             비데  ...   \n6827          13-2동             1층       자동화재탐지설비            수신기  ...   \n6828        꿈샘 어린이집             1층           소화수조             수조  ...   \n6829            16동             1층           위생설비            대변기  ...   \n6830          17-2동             7층           위생설비            대변기  ...   \n\n     chg_sysdt   input_emp_no chg_emp_no  input_scr_nm           fac_nm  \\\n0          NaN  crowonthetree        NaN       JOB_A11        LN-4E1(E)   \n1          NaN    dlawowls100        NaN       JOB_A11     4동 지하1층 조명기구   \n2          NaN         Jk1495        NaN       JOB_A11       4동 6층 조명기구   \n3          NaN       skysen83        NaN       JOB_A11     1동  거실통로 유도등   \n4          NaN       hugh7192        NaN       JOB_A11      2동 CCTV #66   \n...        ...            ...        ...           ...              ...   \n6826       NaN     rhkdtlr761        NaN       JOB_A11        물내림비데 #30   \n6827       NaN        kjkim63        NaN       JOB_A11    13동 GR형복합식수신기   \n6828       NaN          wsyut        NaN       JOB_A11          별동 소화수조   \n6829       NaN         je0303        NaN       JOB_A11  1F여2동쪽 공용대변기(5)   \n6830       NaN          as119        NaN       JOB_A11       7F남2대변기(3)   \n\n     jangbi_class_nm_1  jangbi_class_nm_2 jangbi_class_nm_3  \\\n0                   전기             전력공급설비               분전반   \n1                   전기             전력부하설비                조명   \n2                   전기             전력부하설비                조명   \n3                   방재               피난설비               유도등   \n4                   통신               방범설비             방범시스템   \n...                ...                ...               ...   \n6826                기계           위생, 탱크설비              위생설비   \n6827                방재               경보설비          자동화재탐지설비   \n6828                방재             소화용수설비              소화수조   \n6829                기계           위생, 탱크설비              위생설비   \n6830                기계           위생, 탱크설비              위생설비   \n\n      jangbi_class_nm_4 자재매칭여부  \n0                  EPS실      0  \n1             옥내 LED 조명      1  \n2             옥내 LED 조명      0  \n3              거실통로 유도등      1  \n4              CCTV 카메라      1  \n...                 ...    ...  \n6826                 비데      0  \n6827                수신기      1  \n6828                 수조      1  \n6829                대변기      0  \n6830                대변기      0  \n\n[6831 rows x 26 columns]",
      "text/html": "<div>\n<style scoped>\n    .dataframe tbody tr th:only-of-type {\n        vertical-align: middle;\n    }\n\n    .dataframe tbody tr th {\n        vertical-align: top;\n    }\n\n    .dataframe thead th {\n        text-align: right;\n    }\n</style>\n<table border=\"1\" class=\"dataframe\">\n  <thead>\n    <tr style=\"text-align: right;\">\n      <th></th>\n      <th>job_cd</th>\n      <th>job_nm</th>\n      <th>job_jisi_dt</th>\n      <th>job_enddt</th>\n      <th>job_shm</th>\n      <th>job_ehm</th>\n      <th>job_class_nm_1</th>\n      <th>job_class_nm_2</th>\n      <th>job_class_nm_3</th>\n      <th>job_class_nm_4</th>\n      <th>...</th>\n      <th>chg_sysdt</th>\n      <th>input_emp_no</th>\n      <th>chg_emp_no</th>\n      <th>input_scr_nm</th>\n      <th>fac_nm</th>\n      <th>jangbi_class_nm_1</th>\n      <th>jangbi_class_nm_2</th>\n      <th>jangbi_class_nm_3</th>\n      <th>jangbi_class_nm_4</th>\n      <th>자재매칭여부</th>\n    </tr>\n  </thead>\n  <tbody>\n    <tr>\n      <th>0</th>\n      <td>211001-00047</td>\n      <td>2동 1구역 430호 남자화장실 비데 전열불량</td>\n      <td>2021-10-01</td>\n      <td>2021-10-01</td>\n      <td>2021-10-01 오후 2:30:00</td>\n      <td>2021-10-01 오후 2:40:00</td>\n      <td>2동 1구역</td>\n      <td>4층</td>\n      <td>분전반</td>\n      <td>EPS실</td>\n      <td>...</td>\n      <td>NaN</td>\n      <td>crowonthetree</td>\n      <td>NaN</td>\n      <td>JOB_A11</td>\n      <td>LN-4E1(E)</td>\n      <td>전기</td>\n      <td>전력공급설비</td>\n      <td>분전반</td>\n      <td>EPS실</td>\n      <td>0</td>\n    </tr>\n    <tr>\n      <th>1</th>\n      <td>211001-00059</td>\n      <td>4동 지하 1층 전기원휴게실내 샤워장 전등점등불량.</td>\n      <td>2021-10-01</td>\n      <td>2021-10-01</td>\n      <td>2021-10-01 오전 9:00:00</td>\n      <td>2021-10-01 오전 9:30:00</td>\n      <td>4동</td>\n      <td>지하1층</td>\n      <td>조명</td>\n      <td>옥내 LED 조명</td>\n      <td>...</td>\n      <td>NaN</td>\n      <td>dlawowls100</td>\n      <td>NaN</td>\n      <td>JOB_A11</td>\n      <td>4동 지하1층 조명기구</td>\n      <td>전기</td>\n      <td>전력부하설비</td>\n      <td>조명</td>\n      <td>옥내 LED 조명</td>\n      <td>1</td>\n    </tr>\n    <tr>\n      <th>2</th>\n      <td>211001-00037</td>\n      <td>4동 608호 정책조정기획관실 전등 점등 불량</td>\n      <td>2021-10-01</td>\n      <td>2021-10-01</td>\n      <td>2021-10-01 오후 2:25:00</td>\n      <td>2021-10-01 오후 3:25:00</td>\n      <td>4동</td>\n      <td>6층</td>\n      <td>조명</td>\n      <td>옥내 LED 조명</td>\n      <td>...</td>\n      <td>NaN</td>\n      <td>Jk1495</td>\n      <td>NaN</td>\n      <td>JOB_A11</td>\n      <td>4동 6층 조명기구</td>\n      <td>전기</td>\n      <td>전력부하설비</td>\n      <td>조명</td>\n      <td>옥내 LED 조명</td>\n      <td>0</td>\n    </tr>\n    <tr>\n      <th>3</th>\n      <td>211001-00081</td>\n      <td>1동 1구역 2층 복도내 거실통로유도등 점등불량 교체 작업</td>\n      <td>2021-10-01</td>\n      <td>2021-10-01</td>\n      <td>2021-10-01 오후 1:30:00</td>\n      <td>2021-10-01 오후 1:45:00</td>\n      <td>1동 1구역</td>\n      <td>2층</td>\n      <td>유도등</td>\n      <td>거실통로 유도등</td>\n      <td>...</td>\n      <td>NaN</td>\n      <td>skysen83</td>\n      <td>NaN</td>\n      <td>JOB_A11</td>\n      <td>1동  거실통로 유도등</td>\n      <td>방재</td>\n      <td>피난설비</td>\n      <td>유도등</td>\n      <td>거실통로 유도등</td>\n      <td>1</td>\n    </tr>\n    <tr>\n      <th>4</th>\n      <td>211001-00070</td>\n      <td>2-1동 옥상층 66번 CCTV PTZ 동작 불량</td>\n      <td>2021-10-01</td>\n      <td>2021-10-01</td>\n      <td>2021-10-01 오전 9:00:00</td>\n      <td>2021-10-01 오후 5:31:00</td>\n      <td>2동 1구역</td>\n      <td>옥상층</td>\n      <td>방범시스템</td>\n      <td>CCTV 카메라</td>\n      <td>...</td>\n      <td>NaN</td>\n      <td>hugh7192</td>\n      <td>NaN</td>\n      <td>JOB_A11</td>\n      <td>2동 CCTV #66</td>\n      <td>통신</td>\n      <td>방범설비</td>\n      <td>방범시스템</td>\n      <td>CCTV 카메라</td>\n      <td>1</td>\n    </tr>\n    <tr>\n      <th>...</th>\n      <td>...</td>\n      <td>...</td>\n      <td>...</td>\n      <td>...</td>\n      <td>...</td>\n      <td>...</td>\n      <td>...</td>\n      <td>...</td>\n      <td>...</td>\n      <td>...</td>\n      <td>...</td>\n      <td>...</td>\n      <td>...</td>\n      <td>...</td>\n      <td>...</td>\n      <td>...</td>\n      <td>...</td>\n      <td>...</td>\n      <td>...</td>\n      <td>...</td>\n      <td>...</td>\n    </tr>\n    <tr>\n      <th>6826</th>\n      <td>221011-00011</td>\n      <td>13동 5-7 여자화장실 오른쪽 첫번째 대변기 밑 밸브쪽 누수</td>\n      <td>2022-10-11</td>\n      <td>2022-10-11</td>\n      <td>2022-10-11 오전 9:40:00</td>\n      <td>2022-10-11 오전 10:10:00</td>\n      <td>13-1동</td>\n      <td>5층</td>\n      <td>위생설비</td>\n      <td>비데</td>\n      <td>...</td>\n      <td>NaN</td>\n      <td>rhkdtlr761</td>\n      <td>NaN</td>\n      <td>JOB_A11</td>\n      <td>물내림비데 #30</td>\n      <td>기계</td>\n      <td>위생, 탱크설비</td>\n      <td>위생설비</td>\n      <td>비데</td>\n      <td>0</td>\n    </tr>\n    <tr>\n      <th>6827</th>\n      <td>221011-00066</td>\n      <td>13-2동 1층 방재실 R형 수신기 예비전원 불량 교체 (2개)</td>\n      <td>2022-10-11</td>\n      <td>2022-10-11</td>\n      <td>2022-10-11 오후 2:30:00</td>\n      <td>2022-10-11 오후 3:10:00</td>\n      <td>13-2동</td>\n      <td>1층</td>\n      <td>자동화재탐지설비</td>\n      <td>수신기</td>\n      <td>...</td>\n      <td>NaN</td>\n      <td>kjkim63</td>\n      <td>NaN</td>\n      <td>JOB_A11</td>\n      <td>13동 GR형복합식수신기</td>\n      <td>방재</td>\n      <td>경보설비</td>\n      <td>자동화재탐지설비</td>\n      <td>수신기</td>\n      <td>1</td>\n    </tr>\n    <tr>\n      <th>6828</th>\n      <td>221011-00040</td>\n      <td>꿈샘어린이집 1층 기계실 소화수조A 레벨스위치 1개 작동불량 교체작업</td>\n      <td>2022-10-11</td>\n      <td>2022-10-11</td>\n      <td>2022-10-11 오후 1:30:00</td>\n      <td>2022-10-11 오후 2:30:00</td>\n      <td>꿈샘 어린이집</td>\n      <td>1층</td>\n      <td>소화수조</td>\n      <td>수조</td>\n      <td>...</td>\n      <td>NaN</td>\n      <td>wsyut</td>\n      <td>NaN</td>\n      <td>JOB_A11</td>\n      <td>별동 소화수조</td>\n      <td>방재</td>\n      <td>소화용수설비</td>\n      <td>소화수조</td>\n      <td>수조</td>\n      <td>1</td>\n    </tr>\n    <tr>\n      <th>6829</th>\n      <td>221011-00044</td>\n      <td>16동 1층 동쪽 여자화장실 대변기 막힘</td>\n      <td>2022-10-11</td>\n      <td>2022-10-11</td>\n      <td>2022-10-11 오전 8:32:00</td>\n      <td>2022-10-11 오전 9:30:00</td>\n      <td>16동</td>\n      <td>1층</td>\n      <td>위생설비</td>\n      <td>대변기</td>\n      <td>...</td>\n      <td>NaN</td>\n      <td>je0303</td>\n      <td>NaN</td>\n      <td>JOB_A11</td>\n      <td>1F여2동쪽 공용대변기(5)</td>\n      <td>기계</td>\n      <td>위생, 탱크설비</td>\n      <td>위생설비</td>\n      <td>대변기</td>\n      <td>0</td>\n    </tr>\n    <tr>\n      <th>6830</th>\n      <td>221011-00019</td>\n      <td>17-2동 7층 남자 화장실 대변기 물 계속흐름</td>\n      <td>2022-10-11</td>\n      <td>2022-10-11</td>\n      <td>2022-10-11 오전 8:57:00</td>\n      <td>2022-10-11 오전 9:20:00</td>\n      <td>17-2동</td>\n      <td>7층</td>\n      <td>위생설비</td>\n      <td>대변기</td>\n      <td>...</td>\n      <td>NaN</td>\n      <td>as119</td>\n      <td>NaN</td>\n      <td>JOB_A11</td>\n      <td>7F남2대변기(3)</td>\n      <td>기계</td>\n      <td>위생, 탱크설비</td>\n      <td>위생설비</td>\n      <td>대변기</td>\n      <td>0</td>\n    </tr>\n  </tbody>\n</table>\n<p>6831 rows × 26 columns</p>\n</div>"
     },
     "execution_count": 127,
     "metadata": {},
     "output_type": "execute_result"
    }
   ],
   "source": [
    "jangbi_broken"
   ],
   "metadata": {
    "collapsed": false
   }
  },
  {
   "cell_type": "markdown",
   "source": [
    "# 장비건수는 장비클래스네임 개수\n",
    "# 자재건수는 작업장비코드 건수\n",
    "# 이유는? >> 작업코드로 하면 같은 작업코드에 여러개 장비를 수정한 경우가 있으므로 장애 수를 정확히 예측할 수 없음\n",
    "# 자재건수를 작업장비코드 건수로 하는 이유는 ? > 매칭비율 이기 때문에 같은 작업코드 이지만 다른장비 일 경우 같은 자재를 사용하므로 같은 작업임"
   ],
   "metadata": {
    "collapsed": false
   }
  },
  {
   "cell_type": "code",
   "execution_count": 119,
   "outputs": [],
   "source": [],
   "metadata": {
    "collapsed": false
   }
  },
  {
   "cell_type": "code",
   "execution_count": 120,
   "outputs": [
    {
     "data": {
      "text/plain": "            job_cd                                      job_nm comp_cd  \\\n250   211012-00044                5-1동 1F 사진표출 4분할모니터 화면 표출 불량    SEJO   \n516   211022-00047               6-3동 45번 스피드게이트 사진표출모니터 표출 불량    SEJO   \n548   211025-00014                5-2동 1F 30번 사진표출모니터 화면 표출 불량    SEJO   \n1443  211208-00067                     1-1동 얼굴인식 4분할 모니터 동작 불량    SEJO   \n1445  211208-00001  4동 1구역 1층 로비 화물검색모니터, 스피드게이트 옆 사분할모니터 작동불량    SEJO   \n2602  220211-00030                  1-1동 1F 얼굴인식 4분할 모니터 표출 불량    SEJO   \n2961  220310-00014                        1-1동 1F  화면표출 모니터 불량    SEJO   \n2962  220310-00014                        1-1동 1F  화면표출 모니터 불량    SEJO   \n2966  220310-00027                    6-1구역 1F 4분할모니터 화면 표출 불량    SEJO   \n3764  220425-00075                        디지털 지상파 신호변환장치 전원 불량    SEJO   \n3889  220502-00052               5-1동 1F 29번 사진표출 모니터 화면 표출 불량    SEJO   \n4905  220704-00092                                  옥외음악방송 안나옴    SEJO   \n4997  220707-00078                                법제처 예약방송 미송출    SEJO   \n5218  220721-00059          1-3동 1F 4분활모니터 출입증 태그 시 출입정보 표출 불량    SEJO   \n5400  220801-00030                         10동 상황실 온습도계 건전지 교체    SEJO   \n\n            fac_cd  job_cont             input_sysdt  chg_sysdt input_emp_no  \\\n250   600401080060       NaN   2021-10-12 오후 5:30:35        NaN    sghong923   \n516   600401080045       NaN   2021-10-22 오후 4:29:40        NaN     suho7886   \n548   600401080030       NaN  2021-10-25 오전 11:07:21        NaN    sghong923   \n1443  600401080053       NaN   2021-12-08 오후 5:46:48        NaN     suho7886   \n1445  600401080059       NaN   2021-12-08 오후 5:43:02        NaN     suho7886   \n2602  600401080053       NaN   2022-02-11 오후 2:30:46        NaN     suho7886   \n2961  600401080001       NaN  2022-03-10 오전 11:17:32        NaN     suho7886   \n2962  600401080002       NaN  2022-03-10 오전 11:17:32        NaN     suho7886   \n2966  600401080063       NaN   2022-03-10 오후 5:52:40        NaN     hugh7192   \n3764  600302040086       NaN   2022-04-29 오후 2:32:46        NaN      khy8787   \n3889  600401080029       NaN   2022-05-02 오후 5:33:34        NaN     hugh7192   \n4905  600302040159       NaN   2022-08-25 오전 9:41:52        NaN      ljs6280   \n4997  600302040165       NaN  2022-08-25 오전 10:41:35        NaN      ljs6280   \n5218  600401080055       NaN   2022-07-21 오후 5:27:22        NaN    sghong923   \n5400  600402060106       NaN   2022-08-01 오후 1:59:12        NaN    fncyber35   \n\n      chg_emp_no input_scr_nm                   fac_nm jangbi_class_nm_1  \\\n250          NaN      JOB_A11         5-1동 얼굴인식 4분할 PC                통신   \n516          NaN      JOB_A11  6-3동 스피드게이트 #45 화면표출 PC                통신   \n548          NaN      JOB_A11  5-2동 스피드게이트 #30 화면표출 PC                통신   \n1443         NaN      JOB_A11         1-1동 얼굴인식 4분할 PC                통신   \n1445         NaN      JOB_A11           4동 얼굴인식 4분할 PC                통신   \n2602         NaN      JOB_A11         1-1동 얼굴인식 4분할 PC                통신   \n2961         NaN      JOB_A11   1-1동 스피드게이트 #1 화면표출 PC                통신   \n2962         NaN      JOB_A11   1-1동 스피드게이트 #2 화면표출 PC                통신   \n2966         NaN      JOB_A11         6-1동 얼굴인식 4분할 PC                통신   \n3764         NaN      JOB_A11        8-VSB Remodulator                통신   \n3889         NaN      JOB_A11  5-1동 스피드게이트 #29 화면표출 PC                통신   \n4905         NaN      JOB_A11   REMOTE MIC STATION(4대)                통신   \n4997         NaN      JOB_A11                    운영컴퓨터                통신   \n5218         NaN      JOB_A11         1-3동 얼굴인식 4분할 PC                통신   \n5400         NaN      JOB_A11            10동 상황실 운영 PC                통신   \n\n     jangbi_class_nm_2 jangbi_class_nm_3 jangbi_class_nm_4  자재매칭여부  \n250               방범설비           출입통제시스템              기타장비       0  \n516               방범설비           출입통제시스템              기타장비       0  \n548               방범설비           출입통제시스템              기타장비       0  \n1443              방범설비           출입통제시스템              기타장비       0  \n1445              방범설비           출입통제시스템              기타장비       0  \n2602              방범설비           출입통제시스템              기타장비       0  \n2961              방범설비           출입통제시스템              기타장비       0  \n2962              방범설비           출입통제시스템              기타장비       0  \n2966              방범설비           출입통제시스템              기타장비       0  \n3764              방송설비           구내방송시스템              기타장비       0  \n3889              방범설비           출입통제시스템              기타장비       1  \n4905              방송설비           구내방송시스템              기타장비       0  \n4997              방송설비           구내방송시스템              기타장비       0  \n5218              방범설비           출입통제시스템              기타장비       0  \n5400              방범설비             방범시스템              기타장비       1  ",
      "text/html": "<div>\n<style scoped>\n    .dataframe tbody tr th:only-of-type {\n        vertical-align: middle;\n    }\n\n    .dataframe tbody tr th {\n        vertical-align: top;\n    }\n\n    .dataframe thead th {\n        text-align: right;\n    }\n</style>\n<table border=\"1\" class=\"dataframe\">\n  <thead>\n    <tr style=\"text-align: right;\">\n      <th></th>\n      <th>job_cd</th>\n      <th>job_nm</th>\n      <th>comp_cd</th>\n      <th>fac_cd</th>\n      <th>job_cont</th>\n      <th>input_sysdt</th>\n      <th>chg_sysdt</th>\n      <th>input_emp_no</th>\n      <th>chg_emp_no</th>\n      <th>input_scr_nm</th>\n      <th>fac_nm</th>\n      <th>jangbi_class_nm_1</th>\n      <th>jangbi_class_nm_2</th>\n      <th>jangbi_class_nm_3</th>\n      <th>jangbi_class_nm_4</th>\n      <th>자재매칭여부</th>\n    </tr>\n  </thead>\n  <tbody>\n    <tr>\n      <th>250</th>\n      <td>211012-00044</td>\n      <td>5-1동 1F 사진표출 4분할모니터 화면 표출 불량</td>\n      <td>SEJO</td>\n      <td>600401080060</td>\n      <td>NaN</td>\n      <td>2021-10-12 오후 5:30:35</td>\n      <td>NaN</td>\n      <td>sghong923</td>\n      <td>NaN</td>\n      <td>JOB_A11</td>\n      <td>5-1동 얼굴인식 4분할 PC</td>\n      <td>통신</td>\n      <td>방범설비</td>\n      <td>출입통제시스템</td>\n      <td>기타장비</td>\n      <td>0</td>\n    </tr>\n    <tr>\n      <th>516</th>\n      <td>211022-00047</td>\n      <td>6-3동 45번 스피드게이트 사진표출모니터 표출 불량</td>\n      <td>SEJO</td>\n      <td>600401080045</td>\n      <td>NaN</td>\n      <td>2021-10-22 오후 4:29:40</td>\n      <td>NaN</td>\n      <td>suho7886</td>\n      <td>NaN</td>\n      <td>JOB_A11</td>\n      <td>6-3동 스피드게이트 #45 화면표출 PC</td>\n      <td>통신</td>\n      <td>방범설비</td>\n      <td>출입통제시스템</td>\n      <td>기타장비</td>\n      <td>0</td>\n    </tr>\n    <tr>\n      <th>548</th>\n      <td>211025-00014</td>\n      <td>5-2동 1F 30번 사진표출모니터 화면 표출 불량</td>\n      <td>SEJO</td>\n      <td>600401080030</td>\n      <td>NaN</td>\n      <td>2021-10-25 오전 11:07:21</td>\n      <td>NaN</td>\n      <td>sghong923</td>\n      <td>NaN</td>\n      <td>JOB_A11</td>\n      <td>5-2동 스피드게이트 #30 화면표출 PC</td>\n      <td>통신</td>\n      <td>방범설비</td>\n      <td>출입통제시스템</td>\n      <td>기타장비</td>\n      <td>0</td>\n    </tr>\n    <tr>\n      <th>1443</th>\n      <td>211208-00067</td>\n      <td>1-1동 얼굴인식 4분할 모니터 동작 불량</td>\n      <td>SEJO</td>\n      <td>600401080053</td>\n      <td>NaN</td>\n      <td>2021-12-08 오후 5:46:48</td>\n      <td>NaN</td>\n      <td>suho7886</td>\n      <td>NaN</td>\n      <td>JOB_A11</td>\n      <td>1-1동 얼굴인식 4분할 PC</td>\n      <td>통신</td>\n      <td>방범설비</td>\n      <td>출입통제시스템</td>\n      <td>기타장비</td>\n      <td>0</td>\n    </tr>\n    <tr>\n      <th>1445</th>\n      <td>211208-00001</td>\n      <td>4동 1구역 1층 로비 화물검색모니터, 스피드게이트 옆 사분할모니터 작동불량</td>\n      <td>SEJO</td>\n      <td>600401080059</td>\n      <td>NaN</td>\n      <td>2021-12-08 오후 5:43:02</td>\n      <td>NaN</td>\n      <td>suho7886</td>\n      <td>NaN</td>\n      <td>JOB_A11</td>\n      <td>4동 얼굴인식 4분할 PC</td>\n      <td>통신</td>\n      <td>방범설비</td>\n      <td>출입통제시스템</td>\n      <td>기타장비</td>\n      <td>0</td>\n    </tr>\n    <tr>\n      <th>2602</th>\n      <td>220211-00030</td>\n      <td>1-1동 1F 얼굴인식 4분할 모니터 표출 불량</td>\n      <td>SEJO</td>\n      <td>600401080053</td>\n      <td>NaN</td>\n      <td>2022-02-11 오후 2:30:46</td>\n      <td>NaN</td>\n      <td>suho7886</td>\n      <td>NaN</td>\n      <td>JOB_A11</td>\n      <td>1-1동 얼굴인식 4분할 PC</td>\n      <td>통신</td>\n      <td>방범설비</td>\n      <td>출입통제시스템</td>\n      <td>기타장비</td>\n      <td>0</td>\n    </tr>\n    <tr>\n      <th>2961</th>\n      <td>220310-00014</td>\n      <td>1-1동 1F  화면표출 모니터 불량</td>\n      <td>SEJO</td>\n      <td>600401080001</td>\n      <td>NaN</td>\n      <td>2022-03-10 오전 11:17:32</td>\n      <td>NaN</td>\n      <td>suho7886</td>\n      <td>NaN</td>\n      <td>JOB_A11</td>\n      <td>1-1동 스피드게이트 #1 화면표출 PC</td>\n      <td>통신</td>\n      <td>방범설비</td>\n      <td>출입통제시스템</td>\n      <td>기타장비</td>\n      <td>0</td>\n    </tr>\n    <tr>\n      <th>2962</th>\n      <td>220310-00014</td>\n      <td>1-1동 1F  화면표출 모니터 불량</td>\n      <td>SEJO</td>\n      <td>600401080002</td>\n      <td>NaN</td>\n      <td>2022-03-10 오전 11:17:32</td>\n      <td>NaN</td>\n      <td>suho7886</td>\n      <td>NaN</td>\n      <td>JOB_A11</td>\n      <td>1-1동 스피드게이트 #2 화면표출 PC</td>\n      <td>통신</td>\n      <td>방범설비</td>\n      <td>출입통제시스템</td>\n      <td>기타장비</td>\n      <td>0</td>\n    </tr>\n    <tr>\n      <th>2966</th>\n      <td>220310-00027</td>\n      <td>6-1구역 1F 4분할모니터 화면 표출 불량</td>\n      <td>SEJO</td>\n      <td>600401080063</td>\n      <td>NaN</td>\n      <td>2022-03-10 오후 5:52:40</td>\n      <td>NaN</td>\n      <td>hugh7192</td>\n      <td>NaN</td>\n      <td>JOB_A11</td>\n      <td>6-1동 얼굴인식 4분할 PC</td>\n      <td>통신</td>\n      <td>방범설비</td>\n      <td>출입통제시스템</td>\n      <td>기타장비</td>\n      <td>0</td>\n    </tr>\n    <tr>\n      <th>3764</th>\n      <td>220425-00075</td>\n      <td>디지털 지상파 신호변환장치 전원 불량</td>\n      <td>SEJO</td>\n      <td>600302040086</td>\n      <td>NaN</td>\n      <td>2022-04-29 오후 2:32:46</td>\n      <td>NaN</td>\n      <td>khy8787</td>\n      <td>NaN</td>\n      <td>JOB_A11</td>\n      <td>8-VSB Remodulator</td>\n      <td>통신</td>\n      <td>방송설비</td>\n      <td>구내방송시스템</td>\n      <td>기타장비</td>\n      <td>0</td>\n    </tr>\n    <tr>\n      <th>3889</th>\n      <td>220502-00052</td>\n      <td>5-1동 1F 29번 사진표출 모니터 화면 표출 불량</td>\n      <td>SEJO</td>\n      <td>600401080029</td>\n      <td>NaN</td>\n      <td>2022-05-02 오후 5:33:34</td>\n      <td>NaN</td>\n      <td>hugh7192</td>\n      <td>NaN</td>\n      <td>JOB_A11</td>\n      <td>5-1동 스피드게이트 #29 화면표출 PC</td>\n      <td>통신</td>\n      <td>방범설비</td>\n      <td>출입통제시스템</td>\n      <td>기타장비</td>\n      <td>1</td>\n    </tr>\n    <tr>\n      <th>4905</th>\n      <td>220704-00092</td>\n      <td>옥외음악방송 안나옴</td>\n      <td>SEJO</td>\n      <td>600302040159</td>\n      <td>NaN</td>\n      <td>2022-08-25 오전 9:41:52</td>\n      <td>NaN</td>\n      <td>ljs6280</td>\n      <td>NaN</td>\n      <td>JOB_A11</td>\n      <td>REMOTE MIC STATION(4대)</td>\n      <td>통신</td>\n      <td>방송설비</td>\n      <td>구내방송시스템</td>\n      <td>기타장비</td>\n      <td>0</td>\n    </tr>\n    <tr>\n      <th>4997</th>\n      <td>220707-00078</td>\n      <td>법제처 예약방송 미송출</td>\n      <td>SEJO</td>\n      <td>600302040165</td>\n      <td>NaN</td>\n      <td>2022-08-25 오전 10:41:35</td>\n      <td>NaN</td>\n      <td>ljs6280</td>\n      <td>NaN</td>\n      <td>JOB_A11</td>\n      <td>운영컴퓨터</td>\n      <td>통신</td>\n      <td>방송설비</td>\n      <td>구내방송시스템</td>\n      <td>기타장비</td>\n      <td>0</td>\n    </tr>\n    <tr>\n      <th>5218</th>\n      <td>220721-00059</td>\n      <td>1-3동 1F 4분활모니터 출입증 태그 시 출입정보 표출 불량</td>\n      <td>SEJO</td>\n      <td>600401080055</td>\n      <td>NaN</td>\n      <td>2022-07-21 오후 5:27:22</td>\n      <td>NaN</td>\n      <td>sghong923</td>\n      <td>NaN</td>\n      <td>JOB_A11</td>\n      <td>1-3동 얼굴인식 4분할 PC</td>\n      <td>통신</td>\n      <td>방범설비</td>\n      <td>출입통제시스템</td>\n      <td>기타장비</td>\n      <td>0</td>\n    </tr>\n    <tr>\n      <th>5400</th>\n      <td>220801-00030</td>\n      <td>10동 상황실 온습도계 건전지 교체</td>\n      <td>SEJO</td>\n      <td>600402060106</td>\n      <td>NaN</td>\n      <td>2022-08-01 오후 1:59:12</td>\n      <td>NaN</td>\n      <td>fncyber35</td>\n      <td>NaN</td>\n      <td>JOB_A11</td>\n      <td>10동 상황실 운영 PC</td>\n      <td>통신</td>\n      <td>방범설비</td>\n      <td>방범시스템</td>\n      <td>기타장비</td>\n      <td>1</td>\n    </tr>\n  </tbody>\n</table>\n</div>"
     },
     "execution_count": 120,
     "metadata": {},
     "output_type": "execute_result"
    }
   ],
   "source": [
    "jangbi[jangbi['jangbi_class_nm_4']=='기타장비']"
   ],
   "metadata": {
    "collapsed": false
   }
  },
  {
   "cell_type": "code",
   "execution_count": 90,
   "outputs": [],
   "source": [
    "기계 = final[final['jangbi_class_nm_1']=='기계']\n",
    "통신 = final[final['jangbi_class_nm_1']=='통신']\n",
    "전기 = final[final['jangbi_class_nm_1']=='전기']\n",
    "방재 = final[final['jangbi_class_nm_1']=='방재']\n",
    "승강기 = final[final['jangbi_class_nm_1']=='승강기']\n",
    "\n",
    "기계_장비 = jangbi[jangbi['jangbi_class_nm_1']=='기계']\n",
    "통신_장비 = jangbi[jangbi['jangbi_class_nm_1']=='통신']\n",
    "전기_장비 = jangbi[jangbi['jangbi_class_nm_1']=='전기']\n",
    "방재_장비 = jangbi[jangbi['jangbi_class_nm_1']=='방재']\n",
    "승강기_장비 = jangbi[jangbi['jangbi_class_nm_1']=='승강기']\n",
    "\n"
   ],
   "metadata": {
    "collapsed": false
   }
  },
  {
   "cell_type": "code",
   "execution_count": 122,
   "outputs": [],
   "source": [
    "def dataframe(df_장비,레벨1):\n",
    "\n",
    "    final = pd.DataFrame({'Lv1':[],\n",
    "                          'Lv2':[],\n",
    "                          'Lv3':[],\n",
    "                          'Lv4':[],\n",
    "                          '장애건수' :[],\n",
    "                          '자재매칭건수':[],\n",
    "                          })\n",
    "    final\n",
    "\n",
    "    df = pd.DataFrame(df_장비['jangbi_class_nm_4'].value_counts())\n",
    "    arr = list(df.index)\n",
    "    arr2 = list(df['jangbi_class_nm_4'])\n",
    "    final['Lv4'] = arr\n",
    "    final['장애건수'] = arr2\n",
    "    n = len(final)\n",
    "    for i in range(n):\n",
    "        lv4 = final['Lv4'].iloc[i]\n",
    "        df2 = df_장비[df_장비['jangbi_class_nm_4']==lv4]\n",
    "        final['자재매칭건수'].iloc[i] = len(df2[df2['자재매칭여부']==1])\n",
    "\n",
    "\n",
    "        df3 = df_장비[df_장비['jangbi_class_nm_4']==lv4]\n",
    "        final['Lv3'].iloc[i] = df3['jangbi_class_nm_3'].unique()[0]\n",
    "        final['Lv2'].iloc[i] = df3['jangbi_class_nm_2'].unique()[0]\n",
    "\n",
    "    final['Lv1'] = 레벨1\n",
    "    return final\n"
   ],
   "metadata": {
    "collapsed": false
   }
  },
  {
   "cell_type": "code",
   "execution_count": 123,
   "outputs": [
    {
     "name": "stderr",
     "output_type": "stream",
     "text": [
      "/var/folders/nd/cl2nzwh13zx7jdly2t5m95340000gn/T/ipykernel_1276/26295203.py:21: SettingWithCopyWarning: \n",
      "A value is trying to be set on a copy of a slice from a DataFrame\n",
      "\n",
      "See the caveats in the documentation: https://pandas.pydata.org/pandas-docs/stable/user_guide/indexing.html#returning-a-view-versus-a-copy\n",
      "  final['자재매칭건수'].iloc[i] = len(df2[df2['자재매칭여부']==1])\n",
      "/var/folders/nd/cl2nzwh13zx7jdly2t5m95340000gn/T/ipykernel_1276/26295203.py:25: SettingWithCopyWarning: \n",
      "A value is trying to be set on a copy of a slice from a DataFrame\n",
      "\n",
      "See the caveats in the documentation: https://pandas.pydata.org/pandas-docs/stable/user_guide/indexing.html#returning-a-view-versus-a-copy\n",
      "  final['Lv3'].iloc[i] = df3['jangbi_class_nm_3'].unique()[0]\n",
      "/var/folders/nd/cl2nzwh13zx7jdly2t5m95340000gn/T/ipykernel_1276/26295203.py:26: SettingWithCopyWarning: \n",
      "A value is trying to be set on a copy of a slice from a DataFrame\n",
      "\n",
      "See the caveats in the documentation: https://pandas.pydata.org/pandas-docs/stable/user_guide/indexing.html#returning-a-view-versus-a-copy\n",
      "  final['Lv2'].iloc[i] = df3['jangbi_class_nm_2'].unique()[0]\n"
     ]
    },
    {
     "data": {
      "text/plain": "   Lv1       Lv2      Lv3         Lv4  장애건수  자재매칭건수\n0   기계  위생, 탱크설비     위생설비         소변기   488   343.0\n1   기계  위생, 탱크설비     위생설비      세면대 수전   462   139.0\n2   기계  위생, 탱크설비     위생설비         대변기   432   178.0\n3   기계    공기조화설비     열원설비         냉각탑   349   300.0\n4   기계    공기조화설비  개별냉난방설비  개별냉난방기 실내기   309     4.0\n..  ..       ...      ...         ...   ...     ...\n56  기계  위생, 탱크설비     탱크설비       오염수탱크     1     0.0\n57  기계      기타설비     부속시설     분배기(헤더)     1     0.0\n58  기계    공기조화설비     환기설비       가스여과기     1     0.0\n59  기계    공기조화설비  개별냉난방설비   항온항습기 실외기     1     0.0\n60  기계      기타설비     부속시설    쓰레기 이송설비     1     0.0\n\n[61 rows x 6 columns]",
      "text/html": "<div>\n<style scoped>\n    .dataframe tbody tr th:only-of-type {\n        vertical-align: middle;\n    }\n\n    .dataframe tbody tr th {\n        vertical-align: top;\n    }\n\n    .dataframe thead th {\n        text-align: right;\n    }\n</style>\n<table border=\"1\" class=\"dataframe\">\n  <thead>\n    <tr style=\"text-align: right;\">\n      <th></th>\n      <th>Lv1</th>\n      <th>Lv2</th>\n      <th>Lv3</th>\n      <th>Lv4</th>\n      <th>장애건수</th>\n      <th>자재매칭건수</th>\n    </tr>\n  </thead>\n  <tbody>\n    <tr>\n      <th>0</th>\n      <td>기계</td>\n      <td>위생, 탱크설비</td>\n      <td>위생설비</td>\n      <td>소변기</td>\n      <td>488</td>\n      <td>343.0</td>\n    </tr>\n    <tr>\n      <th>1</th>\n      <td>기계</td>\n      <td>위생, 탱크설비</td>\n      <td>위생설비</td>\n      <td>세면대 수전</td>\n      <td>462</td>\n      <td>139.0</td>\n    </tr>\n    <tr>\n      <th>2</th>\n      <td>기계</td>\n      <td>위생, 탱크설비</td>\n      <td>위생설비</td>\n      <td>대변기</td>\n      <td>432</td>\n      <td>178.0</td>\n    </tr>\n    <tr>\n      <th>3</th>\n      <td>기계</td>\n      <td>공기조화설비</td>\n      <td>열원설비</td>\n      <td>냉각탑</td>\n      <td>349</td>\n      <td>300.0</td>\n    </tr>\n    <tr>\n      <th>4</th>\n      <td>기계</td>\n      <td>공기조화설비</td>\n      <td>개별냉난방설비</td>\n      <td>개별냉난방기 실내기</td>\n      <td>309</td>\n      <td>4.0</td>\n    </tr>\n    <tr>\n      <th>...</th>\n      <td>...</td>\n      <td>...</td>\n      <td>...</td>\n      <td>...</td>\n      <td>...</td>\n      <td>...</td>\n    </tr>\n    <tr>\n      <th>56</th>\n      <td>기계</td>\n      <td>위생, 탱크설비</td>\n      <td>탱크설비</td>\n      <td>오염수탱크</td>\n      <td>1</td>\n      <td>0.0</td>\n    </tr>\n    <tr>\n      <th>57</th>\n      <td>기계</td>\n      <td>기타설비</td>\n      <td>부속시설</td>\n      <td>분배기(헤더)</td>\n      <td>1</td>\n      <td>0.0</td>\n    </tr>\n    <tr>\n      <th>58</th>\n      <td>기계</td>\n      <td>공기조화설비</td>\n      <td>환기설비</td>\n      <td>가스여과기</td>\n      <td>1</td>\n      <td>0.0</td>\n    </tr>\n    <tr>\n      <th>59</th>\n      <td>기계</td>\n      <td>공기조화설비</td>\n      <td>개별냉난방설비</td>\n      <td>항온항습기 실외기</td>\n      <td>1</td>\n      <td>0.0</td>\n    </tr>\n    <tr>\n      <th>60</th>\n      <td>기계</td>\n      <td>기타설비</td>\n      <td>부속시설</td>\n      <td>쓰레기 이송설비</td>\n      <td>1</td>\n      <td>0.0</td>\n    </tr>\n  </tbody>\n</table>\n<p>61 rows × 6 columns</p>\n</div>"
     },
     "execution_count": 123,
     "metadata": {},
     "output_type": "execute_result"
    }
   ],
   "source": [
    "dataframe(기계_장비,'기계')\n",
    "# dataframe(통신_장비,'통신').to_excel('통신_장비.xlsx')\n",
    "# dataframe(전기_장비,'전기').to_excel('전기_장비.xlsx')\n",
    "# dataframe(방재_장비,'방재').to_excel('방재_장비.xlsx')\n",
    "# dataframe(승강기_장비,'승강기').to_excel('승강기_장비.xlsx')"
   ],
   "metadata": {
    "collapsed": false
   }
  },
  {
   "cell_type": "markdown",
   "source": [
    "# 작업His 분석"
   ],
   "metadata": {
    "collapsed": false
   }
  },
  {
   "cell_type": "code",
   "execution_count": 92,
   "outputs": [],
   "source": [],
   "metadata": {
    "collapsed": false
   }
  },
  {
   "cell_type": "code",
   "execution_count": 93,
   "outputs": [
    {
     "data": {
      "text/plain": "       Unnamed: 0 comp_cd        fac_cd                       fac_nm  \\\n0               0    SEJO  200201040293  (3)세-1F-0(여)로비-화장실) 세면대 2대    \n1               1    SEJO  200201010257                   9F여1대변기(5)   \n2               2    SEJO  200202030001                        우수조#1   \n3               3    SEJO  200105080599               배기휀#76(EF-504)   \n4               4    SEJO  200202010001                        시수조#1   \n...           ...     ...           ...                          ...   \n40806       40806    SEJO  700101020004                  SCC 4호기 권상기   \n40807       40807    SEJO  700101020005                  SCC 5호기 권상기   \n40808       40808    SEJO  700101020006                  SCC 6호기 권상기   \n40809       40809    SEJO  700201010010                  SCC 7호기 제어반   \n40810       40810    SEJO  700201020001                  SCC 7호기 권상기   \n\n       class_cd  dept_cd     fac_model     fac_spec     fac_plc       bd_cd  \\\n0      20020104    10201  자동(2)/수동(0)          청소수전       (여)로비         NaN   \n1      20020101    10201   CC-113(바닥형)  690*395*435  여-1(동) 화장실         NaN   \n2      20020203    10201           NaN          NaN         NaN         NaN   \n3      20010508    10201           NaN          NaN         NaN         NaN   \n4      20020201    10201           NaN          NaN         NaN         NaN   \n...         ...      ...           ...          ...         ...         ...   \n40806  70010102    10302        HS250K         12*6         NaN  SJ-SCJS-01   \n40807  70010102    10302        HS250K         12*6         NaN  SJ-SCJS-01   \n40808  70010102    10302        HS250K         12*6         NaN  SJ-SCJS-01   \n40809  70020101    10302    DZDLE-4300          NaN         NaN  SJ-SCJS-01   \n40810  70020102    10302      SDE-1504         12*6         NaN  SJ-SCJS-01   \n\n       ... chk_edit_dt law_fac_yn jangbi_class_nm_1 jangbi_class_nm_2  \\\n0      ...         NaN          N                기계          위생, 탱크설비   \n1      ...         NaN          N                기계          위생, 탱크설비   \n2      ...         NaN          N                기계          위생, 탱크설비   \n3      ...         NaN          N                기계            공기조화설비   \n4      ...         NaN          N                기계          위생, 탱크설비   \n...    ...         ...        ...               ...               ...   \n40806  ...         NaN          N               승강기               승객용   \n40807  ...         NaN          N               승강기               승객용   \n40808  ...         NaN          N               승강기               승객용   \n40809  ...         NaN          N               승강기               화물용   \n40810  ...         NaN          N               승강기               화물용   \n\n      jangbi_class_nm_3 jangbi_class_nm_4 jangbi_class_cd_1 jangbi_class_cd_2  \\\n0                  위생설비            세면대 수전                20              2002   \n1                  위생설비               대변기                20              2002   \n2                  탱크설비            우수 저장조                20              2002   \n3                  환기설비               환기팬                20              2001   \n4                  탱크설비            상수 저장조                20              2002   \n...                 ...               ...               ...               ...   \n40806                MR               권상기                70              7001   \n40807                MR               권상기                70              7001   \n40808                MR               권상기                70              7001   \n40809               로프식               제어반                70              7002   \n40810               로프식               권상기                70              7002   \n\n       jangbi_class_cd_3 jangbi_class_cd_4  \n0                 200201          20020104  \n1                 200201          20020101  \n2                 200202          20020203  \n3                 200105          20010508  \n4                 200202          20020201  \n...                  ...               ...  \n40806             700101          70010102  \n40807             700101          70010102  \n40808             700101          70010102  \n40809             700201          70020101  \n40810             700201          70020102  \n\n[40811 rows x 47 columns]",
      "text/html": "<div>\n<style scoped>\n    .dataframe tbody tr th:only-of-type {\n        vertical-align: middle;\n    }\n\n    .dataframe tbody tr th {\n        vertical-align: top;\n    }\n\n    .dataframe thead th {\n        text-align: right;\n    }\n</style>\n<table border=\"1\" class=\"dataframe\">\n  <thead>\n    <tr style=\"text-align: right;\">\n      <th></th>\n      <th>Unnamed: 0</th>\n      <th>comp_cd</th>\n      <th>fac_cd</th>\n      <th>fac_nm</th>\n      <th>class_cd</th>\n      <th>dept_cd</th>\n      <th>fac_model</th>\n      <th>fac_spec</th>\n      <th>fac_plc</th>\n      <th>bd_cd</th>\n      <th>...</th>\n      <th>chk_edit_dt</th>\n      <th>law_fac_yn</th>\n      <th>jangbi_class_nm_1</th>\n      <th>jangbi_class_nm_2</th>\n      <th>jangbi_class_nm_3</th>\n      <th>jangbi_class_nm_4</th>\n      <th>jangbi_class_cd_1</th>\n      <th>jangbi_class_cd_2</th>\n      <th>jangbi_class_cd_3</th>\n      <th>jangbi_class_cd_4</th>\n    </tr>\n  </thead>\n  <tbody>\n    <tr>\n      <th>0</th>\n      <td>0</td>\n      <td>SEJO</td>\n      <td>200201040293</td>\n      <td>(3)세-1F-0(여)로비-화장실) 세면대 2대</td>\n      <td>20020104</td>\n      <td>10201</td>\n      <td>자동(2)/수동(0)</td>\n      <td>청소수전</td>\n      <td>(여)로비</td>\n      <td>NaN</td>\n      <td>...</td>\n      <td>NaN</td>\n      <td>N</td>\n      <td>기계</td>\n      <td>위생, 탱크설비</td>\n      <td>위생설비</td>\n      <td>세면대 수전</td>\n      <td>20</td>\n      <td>2002</td>\n      <td>200201</td>\n      <td>20020104</td>\n    </tr>\n    <tr>\n      <th>1</th>\n      <td>1</td>\n      <td>SEJO</td>\n      <td>200201010257</td>\n      <td>9F여1대변기(5)</td>\n      <td>20020101</td>\n      <td>10201</td>\n      <td>CC-113(바닥형)</td>\n      <td>690*395*435</td>\n      <td>여-1(동) 화장실</td>\n      <td>NaN</td>\n      <td>...</td>\n      <td>NaN</td>\n      <td>N</td>\n      <td>기계</td>\n      <td>위생, 탱크설비</td>\n      <td>위생설비</td>\n      <td>대변기</td>\n      <td>20</td>\n      <td>2002</td>\n      <td>200201</td>\n      <td>20020101</td>\n    </tr>\n    <tr>\n      <th>2</th>\n      <td>2</td>\n      <td>SEJO</td>\n      <td>200202030001</td>\n      <td>우수조#1</td>\n      <td>20020203</td>\n      <td>10201</td>\n      <td>NaN</td>\n      <td>NaN</td>\n      <td>NaN</td>\n      <td>NaN</td>\n      <td>...</td>\n      <td>NaN</td>\n      <td>N</td>\n      <td>기계</td>\n      <td>위생, 탱크설비</td>\n      <td>탱크설비</td>\n      <td>우수 저장조</td>\n      <td>20</td>\n      <td>2002</td>\n      <td>200202</td>\n      <td>20020203</td>\n    </tr>\n    <tr>\n      <th>3</th>\n      <td>3</td>\n      <td>SEJO</td>\n      <td>200105080599</td>\n      <td>배기휀#76(EF-504)</td>\n      <td>20010508</td>\n      <td>10201</td>\n      <td>NaN</td>\n      <td>NaN</td>\n      <td>NaN</td>\n      <td>NaN</td>\n      <td>...</td>\n      <td>NaN</td>\n      <td>N</td>\n      <td>기계</td>\n      <td>공기조화설비</td>\n      <td>환기설비</td>\n      <td>환기팬</td>\n      <td>20</td>\n      <td>2001</td>\n      <td>200105</td>\n      <td>20010508</td>\n    </tr>\n    <tr>\n      <th>4</th>\n      <td>4</td>\n      <td>SEJO</td>\n      <td>200202010001</td>\n      <td>시수조#1</td>\n      <td>20020201</td>\n      <td>10201</td>\n      <td>NaN</td>\n      <td>NaN</td>\n      <td>NaN</td>\n      <td>NaN</td>\n      <td>...</td>\n      <td>NaN</td>\n      <td>N</td>\n      <td>기계</td>\n      <td>위생, 탱크설비</td>\n      <td>탱크설비</td>\n      <td>상수 저장조</td>\n      <td>20</td>\n      <td>2002</td>\n      <td>200202</td>\n      <td>20020201</td>\n    </tr>\n    <tr>\n      <th>...</th>\n      <td>...</td>\n      <td>...</td>\n      <td>...</td>\n      <td>...</td>\n      <td>...</td>\n      <td>...</td>\n      <td>...</td>\n      <td>...</td>\n      <td>...</td>\n      <td>...</td>\n      <td>...</td>\n      <td>...</td>\n      <td>...</td>\n      <td>...</td>\n      <td>...</td>\n      <td>...</td>\n      <td>...</td>\n      <td>...</td>\n      <td>...</td>\n      <td>...</td>\n      <td>...</td>\n    </tr>\n    <tr>\n      <th>40806</th>\n      <td>40806</td>\n      <td>SEJO</td>\n      <td>700101020004</td>\n      <td>SCC 4호기 권상기</td>\n      <td>70010102</td>\n      <td>10302</td>\n      <td>HS250K</td>\n      <td>12*6</td>\n      <td>NaN</td>\n      <td>SJ-SCJS-01</td>\n      <td>...</td>\n      <td>NaN</td>\n      <td>N</td>\n      <td>승강기</td>\n      <td>승객용</td>\n      <td>MR</td>\n      <td>권상기</td>\n      <td>70</td>\n      <td>7001</td>\n      <td>700101</td>\n      <td>70010102</td>\n    </tr>\n    <tr>\n      <th>40807</th>\n      <td>40807</td>\n      <td>SEJO</td>\n      <td>700101020005</td>\n      <td>SCC 5호기 권상기</td>\n      <td>70010102</td>\n      <td>10302</td>\n      <td>HS250K</td>\n      <td>12*6</td>\n      <td>NaN</td>\n      <td>SJ-SCJS-01</td>\n      <td>...</td>\n      <td>NaN</td>\n      <td>N</td>\n      <td>승강기</td>\n      <td>승객용</td>\n      <td>MR</td>\n      <td>권상기</td>\n      <td>70</td>\n      <td>7001</td>\n      <td>700101</td>\n      <td>70010102</td>\n    </tr>\n    <tr>\n      <th>40808</th>\n      <td>40808</td>\n      <td>SEJO</td>\n      <td>700101020006</td>\n      <td>SCC 6호기 권상기</td>\n      <td>70010102</td>\n      <td>10302</td>\n      <td>HS250K</td>\n      <td>12*6</td>\n      <td>NaN</td>\n      <td>SJ-SCJS-01</td>\n      <td>...</td>\n      <td>NaN</td>\n      <td>N</td>\n      <td>승강기</td>\n      <td>승객용</td>\n      <td>MR</td>\n      <td>권상기</td>\n      <td>70</td>\n      <td>7001</td>\n      <td>700101</td>\n      <td>70010102</td>\n    </tr>\n    <tr>\n      <th>40809</th>\n      <td>40809</td>\n      <td>SEJO</td>\n      <td>700201010010</td>\n      <td>SCC 7호기 제어반</td>\n      <td>70020101</td>\n      <td>10302</td>\n      <td>DZDLE-4300</td>\n      <td>NaN</td>\n      <td>NaN</td>\n      <td>SJ-SCJS-01</td>\n      <td>...</td>\n      <td>NaN</td>\n      <td>N</td>\n      <td>승강기</td>\n      <td>화물용</td>\n      <td>로프식</td>\n      <td>제어반</td>\n      <td>70</td>\n      <td>7002</td>\n      <td>700201</td>\n      <td>70020101</td>\n    </tr>\n    <tr>\n      <th>40810</th>\n      <td>40810</td>\n      <td>SEJO</td>\n      <td>700201020001</td>\n      <td>SCC 7호기 권상기</td>\n      <td>70020102</td>\n      <td>10302</td>\n      <td>SDE-1504</td>\n      <td>12*6</td>\n      <td>NaN</td>\n      <td>SJ-SCJS-01</td>\n      <td>...</td>\n      <td>NaN</td>\n      <td>N</td>\n      <td>승강기</td>\n      <td>화물용</td>\n      <td>로프식</td>\n      <td>권상기</td>\n      <td>70</td>\n      <td>7002</td>\n      <td>700201</td>\n      <td>70020102</td>\n    </tr>\n  </tbody>\n</table>\n<p>40811 rows × 47 columns</p>\n</div>"
     },
     "execution_count": 93,
     "metadata": {},
     "output_type": "execute_result"
    }
   ],
   "source": [
    "FMSX05_장비마스터"
   ],
   "metadata": {
    "collapsed": false
   }
  },
  {
   "cell_type": "code",
   "execution_count": 94,
   "outputs": [],
   "source": [
    "his = pd.merge(FMSX05_장비이력,FMSX05_장비마스터[['fac_instdt','fac_cd','jangbi_class_nm_1','jangbi_class_nm_2',\n",
    "       'jangbi_class_nm_3', 'jangbi_class_nm_4', 'jangbi_class_cd_1',\n",
    "       'jangbi_class_cd_2', 'jangbi_class_cd_3', 'jangbi_class_cd_4']], on = 'fac_cd', how = 'left')"
   ],
   "metadata": {
    "collapsed": false
   }
  },
  {
   "cell_type": "code",
   "execution_count": 95,
   "outputs": [],
   "source": [
    "pump_his = his[his['jangbi_class_nm_3']=='펌프설비']\n",
    "pump_his.sort_values('his_day', ascending=False)\n",
    "베어링 = pump_his[pump_his['cont'].str.contains('베어링')]"
   ],
   "metadata": {
    "collapsed": false
   }
  },
  {
   "cell_type": "code",
   "execution_count": 96,
   "outputs": [
    {
     "data": {
      "text/plain": "     comp_cd        fac_cd     his_day  dept_cd  seq              cont  amt  \\\n2188    SEJO  200301030008  2014-02-11    10201    1  1번 펌프 베어링 교체(2개)  0.0   \n2189    SEJO  200301030008  2015-01-16    10201    2  4번 펌프 베어링 교체(2개)  0.0   \n2190    SEJO  200301030008  2015-02-16    10201    3  4번 펌프 베어링 교체(2개)  0.0   \n\n      cmt use_yn             input_sysdt  ... del_yn  fac_instdt  \\\n2188  NaN      Y  2019-10-29 오전 10:55:36  ...      N  2012-04-01   \n2189  NaN      Y  2019-10-29 오전 10:55:50  ...      N  2012-04-01   \n2190  NaN      Y  2019-10-29 오전 10:56:01  ...      N  2012-04-01   \n\n     jangbi_class_nm_1 jangbi_class_nm_2 jangbi_class_nm_3 jangbi_class_nm_4  \\\n2188                기계          동력, 배관설비              펌프설비             상수 펌프   \n2189                기계          동력, 배관설비              펌프설비             상수 펌프   \n2190                기계          동력, 배관설비              펌프설비             상수 펌프   \n\n     jangbi_class_cd_1 jangbi_class_cd_2 jangbi_class_cd_3 jangbi_class_cd_4  \n2188              20.0            2003.0          200301.0        20030103.0  \n2189              20.0            2003.0          200301.0        20030103.0  \n2190              20.0            2003.0          200301.0        20030103.0  \n\n[3 rows x 24 columns]",
      "text/html": "<div>\n<style scoped>\n    .dataframe tbody tr th:only-of-type {\n        vertical-align: middle;\n    }\n\n    .dataframe tbody tr th {\n        vertical-align: top;\n    }\n\n    .dataframe thead th {\n        text-align: right;\n    }\n</style>\n<table border=\"1\" class=\"dataframe\">\n  <thead>\n    <tr style=\"text-align: right;\">\n      <th></th>\n      <th>comp_cd</th>\n      <th>fac_cd</th>\n      <th>his_day</th>\n      <th>dept_cd</th>\n      <th>seq</th>\n      <th>cont</th>\n      <th>amt</th>\n      <th>cmt</th>\n      <th>use_yn</th>\n      <th>input_sysdt</th>\n      <th>...</th>\n      <th>del_yn</th>\n      <th>fac_instdt</th>\n      <th>jangbi_class_nm_1</th>\n      <th>jangbi_class_nm_2</th>\n      <th>jangbi_class_nm_3</th>\n      <th>jangbi_class_nm_4</th>\n      <th>jangbi_class_cd_1</th>\n      <th>jangbi_class_cd_2</th>\n      <th>jangbi_class_cd_3</th>\n      <th>jangbi_class_cd_4</th>\n    </tr>\n  </thead>\n  <tbody>\n    <tr>\n      <th>2188</th>\n      <td>SEJO</td>\n      <td>200301030008</td>\n      <td>2014-02-11</td>\n      <td>10201</td>\n      <td>1</td>\n      <td>1번 펌프 베어링 교체(2개)</td>\n      <td>0.0</td>\n      <td>NaN</td>\n      <td>Y</td>\n      <td>2019-10-29 오전 10:55:36</td>\n      <td>...</td>\n      <td>N</td>\n      <td>2012-04-01</td>\n      <td>기계</td>\n      <td>동력, 배관설비</td>\n      <td>펌프설비</td>\n      <td>상수 펌프</td>\n      <td>20.0</td>\n      <td>2003.0</td>\n      <td>200301.0</td>\n      <td>20030103.0</td>\n    </tr>\n    <tr>\n      <th>2189</th>\n      <td>SEJO</td>\n      <td>200301030008</td>\n      <td>2015-01-16</td>\n      <td>10201</td>\n      <td>2</td>\n      <td>4번 펌프 베어링 교체(2개)</td>\n      <td>0.0</td>\n      <td>NaN</td>\n      <td>Y</td>\n      <td>2019-10-29 오전 10:55:50</td>\n      <td>...</td>\n      <td>N</td>\n      <td>2012-04-01</td>\n      <td>기계</td>\n      <td>동력, 배관설비</td>\n      <td>펌프설비</td>\n      <td>상수 펌프</td>\n      <td>20.0</td>\n      <td>2003.0</td>\n      <td>200301.0</td>\n      <td>20030103.0</td>\n    </tr>\n    <tr>\n      <th>2190</th>\n      <td>SEJO</td>\n      <td>200301030008</td>\n      <td>2015-02-16</td>\n      <td>10201</td>\n      <td>3</td>\n      <td>4번 펌프 베어링 교체(2개)</td>\n      <td>0.0</td>\n      <td>NaN</td>\n      <td>Y</td>\n      <td>2019-10-29 오전 10:56:01</td>\n      <td>...</td>\n      <td>N</td>\n      <td>2012-04-01</td>\n      <td>기계</td>\n      <td>동력, 배관설비</td>\n      <td>펌프설비</td>\n      <td>상수 펌프</td>\n      <td>20.0</td>\n      <td>2003.0</td>\n      <td>200301.0</td>\n      <td>20030103.0</td>\n    </tr>\n  </tbody>\n</table>\n<p>3 rows × 24 columns</p>\n</div>"
     },
     "execution_count": 96,
     "metadata": {},
     "output_type": "execute_result"
    }
   ],
   "source": [
    "베어링[베어링['fac_cd']==200301030008]\n",
    "\n",
    "#200301030008"
   ],
   "metadata": {
    "collapsed": false
   }
  },
  {
   "cell_type": "markdown",
   "source": [
    "# 소변기 분석"
   ],
   "metadata": {
    "collapsed": false
   }
  },
  {
   "cell_type": "code",
   "execution_count": 97,
   "outputs": [],
   "source": [
    "import datetime"
   ],
   "metadata": {
    "collapsed": false
   }
  },
  {
   "cell_type": "code",
   "execution_count": 98,
   "outputs": [
    {
     "data": {
      "text/plain": "            job_cd                                  job_nm job_jisi_dt  \\\n0     211001-00059            4동 지하 1층 전기원휴게실내 샤워장 전등점등불량.  2021-10-01   \n1     211001-00081        1동 1구역 2층 복도내 거실통로유도등 점등불량 교체 작업  2021-10-01   \n2     211001-00070             2-1동 옥상층 66번 CCTV PTZ 동작 불량  2021-10-01   \n3     211001-00070             2-1동 옥상층 66번 CCTV PTZ 동작 불량  2021-10-01   \n4     211001-00062  9동 701호해양수산사이버안전센터 분말소화기 받침대 노후로 신품교체.  2021-10-01   \n...            ...                                     ...         ...   \n3392  221011-00023     7-2동 7층 남자화장실, 7-1동 5층 남자화장실 대변기 누수  2022-10-11   \n3393  221011-00037                 11동 1-2 남자화장실 소변기 물 안나옴  2022-10-11   \n3394  221011-00066     13-2동 1층 방재실 R형 수신기 예비전원 불량 교체 (2개)  2022-10-11   \n3395  221011-00066     13-2동 1층 방재실 R형 수신기 예비전원 불량 교체 (2개)  2022-10-11   \n3396  221011-00040  꿈샘어린이집 1층 기계실 소화수조A 레벨스위치 1개 작동불량 교체작업  2022-10-11   \n\n       job_enddt                job_shm                 job_ehm  \\\n0     2021-10-01  2021-10-01 오전 9:00:00   2021-10-01 오전 9:30:00   \n1     2021-10-01  2021-10-01 오후 1:30:00   2021-10-01 오후 1:45:00   \n2     2021-10-01  2021-10-01 오전 9:00:00   2021-10-01 오후 5:31:00   \n3     2021-10-01  2021-10-01 오전 9:00:00   2021-10-01 오후 5:31:00   \n4     2021-10-01  2021-10-01 오후 3:30:00   2021-10-01 오후 4:09:00   \n...          ...                    ...                     ...   \n3392  2022-10-11  2022-10-11 오후 1:30:00   2022-10-11 오후 1:59:00   \n3393  2022-10-11  2022-10-11 오전 9:50:00  2022-10-11 오전 10:10:00   \n3394  2022-10-11  2022-10-11 오후 2:30:00   2022-10-11 오후 3:10:00   \n3395  2022-10-11  2022-10-11 오후 2:30:00   2022-10-11 오후 3:10:00   \n3396  2022-10-11  2022-10-11 오후 1:30:00   2022-10-11 오후 2:30:00   \n\n     job_class_nm_1 job_class_nm_2 job_class_nm_3 job_class_nm_4  ...  \\\n0                4동           지하1층             조명      옥내 LED 조명  ...   \n1            1동 1구역             2층            유도등       거실통로 유도등  ...   \n2            2동 1구역            옥상층          방범시스템       CCTV 카메라  ...   \n3            2동 1구역            옥상층          방범시스템       CCTV 카메라  ...   \n4                9동             7층           소화기구            이동식  ...   \n...             ...            ...            ...            ...  ...   \n3392           7-1동             5층           위생설비            대변기  ...   \n3393          11-1동             1층           위생설비            소변기  ...   \n3394          13-2동             1층       자동화재탐지설비            수신기  ...   \n3395          13-2동             1층       자동화재탐지설비            수신기  ...   \n3396        꿈샘 어린이집             1층           소화수조             수조  ...   \n\n         mat_cd jangbi_class_nm_1 jangbi_class_nm_2 jangbi_class_nm_3  \\\n0     413002005                전기            전력부하설비                조명   \n1     504001002                방재              피난설비               유도등   \n2     802001001                통신              방범설비             방범시스템   \n3     407001001                통신              방범설비             방범시스템   \n4     505009006                방재              소화설비              소화기구   \n...         ...               ...               ...               ...   \n3392  306002012                기계          위생, 탱크설비              위생설비   \n3393  110001003                기계          위생, 탱크설비              위생설비   \n3394  110002012                방재              경보설비          자동화재탐지설비   \n3395  402004012                방재              경보설비          자동화재탐지설비   \n3396  303004014                방재            소화용수설비              소화수조   \n\n     jangbi_class_nm_4      mat_nm_x jajae_class_nm_1 jajae_class_nm_2  \\\n0            옥내 LED 조명      LED일체형램프               전기      조명기구/전등/안정기   \n1             거실통로 유도등  거실통로유도등(LED)               소방             피난설비   \n2             CCTV 카메라         IP카메라               방범           영상감지장치   \n3             CCTV 카메라         절연테이프               전기             절연재료   \n4                  이동식        소화기받침대               소방             소화기구   \n...                ...           ...              ...              ...   \n3392               대변기          푸쉬로드               기계             위생기구   \n3393               소변기        알칼리건전지               공통              건전지   \n3394               수신기       연(납)축전지               공통              건전지   \n3395               수신기            풀리               전기           전선원부자재   \n3396                수조     오뚜기식레벨스위치               기계              밸브류   \n\n     jajae_class_nm_3 jajae_class_cd_3  \n0              LED 전구           413002  \n1                 유도등           504001  \n2                CCTV           802001  \n3                 테이프           407001  \n4              소화기구부품           505009  \n...               ...              ...  \n3392              대변기           306002  \n3393              건전지           110001  \n3394              배터리           110002  \n3395   케이블 접속재 및 접속자재           402004  \n3396            기타밸브류           303004  \n\n[3397 rows x 22 columns]",
      "text/html": "<div>\n<style scoped>\n    .dataframe tbody tr th:only-of-type {\n        vertical-align: middle;\n    }\n\n    .dataframe tbody tr th {\n        vertical-align: top;\n    }\n\n    .dataframe thead th {\n        text-align: right;\n    }\n</style>\n<table border=\"1\" class=\"dataframe\">\n  <thead>\n    <tr style=\"text-align: right;\">\n      <th></th>\n      <th>job_cd</th>\n      <th>job_nm</th>\n      <th>job_jisi_dt</th>\n      <th>job_enddt</th>\n      <th>job_shm</th>\n      <th>job_ehm</th>\n      <th>job_class_nm_1</th>\n      <th>job_class_nm_2</th>\n      <th>job_class_nm_3</th>\n      <th>job_class_nm_4</th>\n      <th>...</th>\n      <th>mat_cd</th>\n      <th>jangbi_class_nm_1</th>\n      <th>jangbi_class_nm_2</th>\n      <th>jangbi_class_nm_3</th>\n      <th>jangbi_class_nm_4</th>\n      <th>mat_nm_x</th>\n      <th>jajae_class_nm_1</th>\n      <th>jajae_class_nm_2</th>\n      <th>jajae_class_nm_3</th>\n      <th>jajae_class_cd_3</th>\n    </tr>\n  </thead>\n  <tbody>\n    <tr>\n      <th>0</th>\n      <td>211001-00059</td>\n      <td>4동 지하 1층 전기원휴게실내 샤워장 전등점등불량.</td>\n      <td>2021-10-01</td>\n      <td>2021-10-01</td>\n      <td>2021-10-01 오전 9:00:00</td>\n      <td>2021-10-01 오전 9:30:00</td>\n      <td>4동</td>\n      <td>지하1층</td>\n      <td>조명</td>\n      <td>옥내 LED 조명</td>\n      <td>...</td>\n      <td>413002005</td>\n      <td>전기</td>\n      <td>전력부하설비</td>\n      <td>조명</td>\n      <td>옥내 LED 조명</td>\n      <td>LED일체형램프</td>\n      <td>전기</td>\n      <td>조명기구/전등/안정기</td>\n      <td>LED 전구</td>\n      <td>413002</td>\n    </tr>\n    <tr>\n      <th>1</th>\n      <td>211001-00081</td>\n      <td>1동 1구역 2층 복도내 거실통로유도등 점등불량 교체 작업</td>\n      <td>2021-10-01</td>\n      <td>2021-10-01</td>\n      <td>2021-10-01 오후 1:30:00</td>\n      <td>2021-10-01 오후 1:45:00</td>\n      <td>1동 1구역</td>\n      <td>2층</td>\n      <td>유도등</td>\n      <td>거실통로 유도등</td>\n      <td>...</td>\n      <td>504001002</td>\n      <td>방재</td>\n      <td>피난설비</td>\n      <td>유도등</td>\n      <td>거실통로 유도등</td>\n      <td>거실통로유도등(LED)</td>\n      <td>소방</td>\n      <td>피난설비</td>\n      <td>유도등</td>\n      <td>504001</td>\n    </tr>\n    <tr>\n      <th>2</th>\n      <td>211001-00070</td>\n      <td>2-1동 옥상층 66번 CCTV PTZ 동작 불량</td>\n      <td>2021-10-01</td>\n      <td>2021-10-01</td>\n      <td>2021-10-01 오전 9:00:00</td>\n      <td>2021-10-01 오후 5:31:00</td>\n      <td>2동 1구역</td>\n      <td>옥상층</td>\n      <td>방범시스템</td>\n      <td>CCTV 카메라</td>\n      <td>...</td>\n      <td>802001001</td>\n      <td>통신</td>\n      <td>방범설비</td>\n      <td>방범시스템</td>\n      <td>CCTV 카메라</td>\n      <td>IP카메라</td>\n      <td>방범</td>\n      <td>영상감지장치</td>\n      <td>CCTV</td>\n      <td>802001</td>\n    </tr>\n    <tr>\n      <th>3</th>\n      <td>211001-00070</td>\n      <td>2-1동 옥상층 66번 CCTV PTZ 동작 불량</td>\n      <td>2021-10-01</td>\n      <td>2021-10-01</td>\n      <td>2021-10-01 오전 9:00:00</td>\n      <td>2021-10-01 오후 5:31:00</td>\n      <td>2동 1구역</td>\n      <td>옥상층</td>\n      <td>방범시스템</td>\n      <td>CCTV 카메라</td>\n      <td>...</td>\n      <td>407001001</td>\n      <td>통신</td>\n      <td>방범설비</td>\n      <td>방범시스템</td>\n      <td>CCTV 카메라</td>\n      <td>절연테이프</td>\n      <td>전기</td>\n      <td>절연재료</td>\n      <td>테이프</td>\n      <td>407001</td>\n    </tr>\n    <tr>\n      <th>4</th>\n      <td>211001-00062</td>\n      <td>9동 701호해양수산사이버안전센터 분말소화기 받침대 노후로 신품교체.</td>\n      <td>2021-10-01</td>\n      <td>2021-10-01</td>\n      <td>2021-10-01 오후 3:30:00</td>\n      <td>2021-10-01 오후 4:09:00</td>\n      <td>9동</td>\n      <td>7층</td>\n      <td>소화기구</td>\n      <td>이동식</td>\n      <td>...</td>\n      <td>505009006</td>\n      <td>방재</td>\n      <td>소화설비</td>\n      <td>소화기구</td>\n      <td>이동식</td>\n      <td>소화기받침대</td>\n      <td>소방</td>\n      <td>소화기구</td>\n      <td>소화기구부품</td>\n      <td>505009</td>\n    </tr>\n    <tr>\n      <th>...</th>\n      <td>...</td>\n      <td>...</td>\n      <td>...</td>\n      <td>...</td>\n      <td>...</td>\n      <td>...</td>\n      <td>...</td>\n      <td>...</td>\n      <td>...</td>\n      <td>...</td>\n      <td>...</td>\n      <td>...</td>\n      <td>...</td>\n      <td>...</td>\n      <td>...</td>\n      <td>...</td>\n      <td>...</td>\n      <td>...</td>\n      <td>...</td>\n      <td>...</td>\n      <td>...</td>\n    </tr>\n    <tr>\n      <th>3392</th>\n      <td>221011-00023</td>\n      <td>7-2동 7층 남자화장실, 7-1동 5층 남자화장실 대변기 누수</td>\n      <td>2022-10-11</td>\n      <td>2022-10-11</td>\n      <td>2022-10-11 오후 1:30:00</td>\n      <td>2022-10-11 오후 1:59:00</td>\n      <td>7-1동</td>\n      <td>5층</td>\n      <td>위생설비</td>\n      <td>대변기</td>\n      <td>...</td>\n      <td>306002012</td>\n      <td>기계</td>\n      <td>위생, 탱크설비</td>\n      <td>위생설비</td>\n      <td>대변기</td>\n      <td>푸쉬로드</td>\n      <td>기계</td>\n      <td>위생기구</td>\n      <td>대변기</td>\n      <td>306002</td>\n    </tr>\n    <tr>\n      <th>3393</th>\n      <td>221011-00037</td>\n      <td>11동 1-2 남자화장실 소변기 물 안나옴</td>\n      <td>2022-10-11</td>\n      <td>2022-10-11</td>\n      <td>2022-10-11 오전 9:50:00</td>\n      <td>2022-10-11 오전 10:10:00</td>\n      <td>11-1동</td>\n      <td>1층</td>\n      <td>위생설비</td>\n      <td>소변기</td>\n      <td>...</td>\n      <td>110001003</td>\n      <td>기계</td>\n      <td>위생, 탱크설비</td>\n      <td>위생설비</td>\n      <td>소변기</td>\n      <td>알칼리건전지</td>\n      <td>공통</td>\n      <td>건전지</td>\n      <td>건전지</td>\n      <td>110001</td>\n    </tr>\n    <tr>\n      <th>3394</th>\n      <td>221011-00066</td>\n      <td>13-2동 1층 방재실 R형 수신기 예비전원 불량 교체 (2개)</td>\n      <td>2022-10-11</td>\n      <td>2022-10-11</td>\n      <td>2022-10-11 오후 2:30:00</td>\n      <td>2022-10-11 오후 3:10:00</td>\n      <td>13-2동</td>\n      <td>1층</td>\n      <td>자동화재탐지설비</td>\n      <td>수신기</td>\n      <td>...</td>\n      <td>110002012</td>\n      <td>방재</td>\n      <td>경보설비</td>\n      <td>자동화재탐지설비</td>\n      <td>수신기</td>\n      <td>연(납)축전지</td>\n      <td>공통</td>\n      <td>건전지</td>\n      <td>배터리</td>\n      <td>110002</td>\n    </tr>\n    <tr>\n      <th>3395</th>\n      <td>221011-00066</td>\n      <td>13-2동 1층 방재실 R형 수신기 예비전원 불량 교체 (2개)</td>\n      <td>2022-10-11</td>\n      <td>2022-10-11</td>\n      <td>2022-10-11 오후 2:30:00</td>\n      <td>2022-10-11 오후 3:10:00</td>\n      <td>13-2동</td>\n      <td>1층</td>\n      <td>자동화재탐지설비</td>\n      <td>수신기</td>\n      <td>...</td>\n      <td>402004012</td>\n      <td>방재</td>\n      <td>경보설비</td>\n      <td>자동화재탐지설비</td>\n      <td>수신기</td>\n      <td>풀리</td>\n      <td>전기</td>\n      <td>전선원부자재</td>\n      <td>케이블 접속재 및 접속자재</td>\n      <td>402004</td>\n    </tr>\n    <tr>\n      <th>3396</th>\n      <td>221011-00040</td>\n      <td>꿈샘어린이집 1층 기계실 소화수조A 레벨스위치 1개 작동불량 교체작업</td>\n      <td>2022-10-11</td>\n      <td>2022-10-11</td>\n      <td>2022-10-11 오후 1:30:00</td>\n      <td>2022-10-11 오후 2:30:00</td>\n      <td>꿈샘 어린이집</td>\n      <td>1층</td>\n      <td>소화수조</td>\n      <td>수조</td>\n      <td>...</td>\n      <td>303004014</td>\n      <td>방재</td>\n      <td>소화용수설비</td>\n      <td>소화수조</td>\n      <td>수조</td>\n      <td>오뚜기식레벨스위치</td>\n      <td>기계</td>\n      <td>밸브류</td>\n      <td>기타밸브류</td>\n      <td>303004</td>\n    </tr>\n  </tbody>\n</table>\n<p>3397 rows × 22 columns</p>\n</div>"
     },
     "execution_count": 98,
     "metadata": {},
     "output_type": "execute_result"
    }
   ],
   "source": [
    "final"
   ],
   "metadata": {
    "collapsed": false
   }
  },
  {
   "cell_type": "code",
   "execution_count": 99,
   "outputs": [],
   "source": [
    "def time_trans(x):\n",
    "    if \"오후\" in x:\n",
    "        x = datetime.datetime.strptime(x[:10] + x[13:], \"%Y-%m-%d %H:%M:%S\") + datetime.timedelta(hours=12)\n",
    "    else:\n",
    "        x = datetime.datetime.strptime(x[:10] + x[13:], \"%Y-%m-%d %H:%M:%S\")\n",
    "\n",
    "    return x"
   ],
   "metadata": {
    "collapsed": false
   }
  },
  {
   "cell_type": "code",
   "execution_count": 100,
   "outputs": [],
   "source": [
    "final_s = final[final[\"jangbi_class_nm_4\"]==\"소변기\"]\n",
    "final_s = final_s[[\"job_nm\",\"job_shm\",\"job_ehm\",\"mat_nm_x\",\"job_class_nm_1\",\"job_class_nm_2\"]]\n",
    "\n",
    "final_d = final[final[\"jangbi_class_nm_4\"]==\"대변기\"]\n",
    "final_d = final_d[[\"job_nm\",\"job_shm\",\"job_ehm\",\"mat_nm_x\",\"job_class_nm_1\",\"job_class_nm_2\"]]\n",
    "\n",
    "final_sm = final[final[\"jangbi_class_nm_4\"]==\"세면대 수전\"]\n",
    "final_sm = final_sm[[\"job_nm\",\"job_shm\",\"job_ehm\",\"mat_nm_x\",\"job_class_nm_1\",\"job_class_nm_2\"]]\n",
    "\n",
    "final_b = final[final[\"jangbi_class_nm_4\"]==\"비데\"]\n",
    "final_b = final_b[[\"job_nm\",\"job_shm\",\"job_ehm\",\"mat_nm_x\",\"job_class_nm_1\",\"job_class_nm_2\"]]\n",
    "\n",
    "final_sk = final[final[\"jangbi_class_nm_4\"]==\"싱크대 수전\"]\n",
    "final_sk = final_sk[[\"job_nm\",\"job_shm\",\"job_ehm\",\"mat_nm_x\",\"job_class_nm_1\",\"job_class_nm_2\"]]\n",
    "\n",
    "final_sh = final[final[\"jangbi_class_nm_4\"]==\"샤워기\"]\n",
    "final_sh = final_sh[[\"job_nm\",\"job_shm\",\"job_ehm\",\"mat_nm_x\",\"job_class_nm_1\",\"job_class_nm_2\"]]"
   ],
   "metadata": {
    "collapsed": false
   }
  },
  {
   "cell_type": "code",
   "execution_count": 101,
   "outputs": [
    {
     "data": {
      "text/plain": "                                            job_nm                 job_shm  \\\n708   6동 6-2구역 2층 남자 자전거 샤워장 가운데샤워기 푸쉬버튼 고장 물 계속나옴  2021-12-22 오전 10:55:00   \n2460                          당직실 샤워기 자동혼합수전 작동 불량   2022-07-15 오전 9:23:00   \n2522                   -온실동 여자 샤워실 내 샤워기 온도 조절기 고장  2022-07-22 오전 11:08:00   \n2728                  15-1동 3층 체력단련실 남자 샤워장 샤워실 물샘   2022-08-10 오후 2:30:00   \n2948              17-1동 3층 343호 당직실 내 샤워실 환풍기 교체작업   2022-08-29 오후 3:30:00   \n3296                     15동 체력단련실 안 여자샤워장 샤워기 누수    2022-09-28 오전 9:20:00   \n\n                     job_ehm   mat_nm_x job_class_nm_1 job_class_nm_2  \n708    2021-12-22 오후 1:50:00     수전(수동)         6동 2구역             2층  \n2460   2022-07-15 오후 2:02:00         밸브             3동             2층  \n2522  2022-07-22 오전 11:08:00  디지털온도컨트롤러            온실동             1층  \n2728   2022-08-10 오후 3:10:00       샤워헤드          15-1동             3층  \n2948   2022-08-29 오후 4:20:00        환풍기          17-1동             3층  \n3296   2022-09-28 오전 9:50:00       샤워헤드          15-1동             3층  ",
      "text/html": "<div>\n<style scoped>\n    .dataframe tbody tr th:only-of-type {\n        vertical-align: middle;\n    }\n\n    .dataframe tbody tr th {\n        vertical-align: top;\n    }\n\n    .dataframe thead th {\n        text-align: right;\n    }\n</style>\n<table border=\"1\" class=\"dataframe\">\n  <thead>\n    <tr style=\"text-align: right;\">\n      <th></th>\n      <th>job_nm</th>\n      <th>job_shm</th>\n      <th>job_ehm</th>\n      <th>mat_nm_x</th>\n      <th>job_class_nm_1</th>\n      <th>job_class_nm_2</th>\n    </tr>\n  </thead>\n  <tbody>\n    <tr>\n      <th>708</th>\n      <td>6동 6-2구역 2층 남자 자전거 샤워장 가운데샤워기 푸쉬버튼 고장 물 계속나옴</td>\n      <td>2021-12-22 오전 10:55:00</td>\n      <td>2021-12-22 오후 1:50:00</td>\n      <td>수전(수동)</td>\n      <td>6동 2구역</td>\n      <td>2층</td>\n    </tr>\n    <tr>\n      <th>2460</th>\n      <td>당직실 샤워기 자동혼합수전 작동 불량</td>\n      <td>2022-07-15 오전 9:23:00</td>\n      <td>2022-07-15 오후 2:02:00</td>\n      <td>밸브</td>\n      <td>3동</td>\n      <td>2층</td>\n    </tr>\n    <tr>\n      <th>2522</th>\n      <td>-온실동 여자 샤워실 내 샤워기 온도 조절기 고장</td>\n      <td>2022-07-22 오전 11:08:00</td>\n      <td>2022-07-22 오전 11:08:00</td>\n      <td>디지털온도컨트롤러</td>\n      <td>온실동</td>\n      <td>1층</td>\n    </tr>\n    <tr>\n      <th>2728</th>\n      <td>15-1동 3층 체력단련실 남자 샤워장 샤워실 물샘</td>\n      <td>2022-08-10 오후 2:30:00</td>\n      <td>2022-08-10 오후 3:10:00</td>\n      <td>샤워헤드</td>\n      <td>15-1동</td>\n      <td>3층</td>\n    </tr>\n    <tr>\n      <th>2948</th>\n      <td>17-1동 3층 343호 당직실 내 샤워실 환풍기 교체작업</td>\n      <td>2022-08-29 오후 3:30:00</td>\n      <td>2022-08-29 오후 4:20:00</td>\n      <td>환풍기</td>\n      <td>17-1동</td>\n      <td>3층</td>\n    </tr>\n    <tr>\n      <th>3296</th>\n      <td>15동 체력단련실 안 여자샤워장 샤워기 누수</td>\n      <td>2022-09-28 오전 9:20:00</td>\n      <td>2022-09-28 오전 9:50:00</td>\n      <td>샤워헤드</td>\n      <td>15-1동</td>\n      <td>3층</td>\n    </tr>\n  </tbody>\n</table>\n</div>"
     },
     "execution_count": 101,
     "metadata": {},
     "output_type": "execute_result"
    }
   ],
   "source": [
    "final_sh"
   ],
   "metadata": {
    "collapsed": false
   }
  },
  {
   "cell_type": "code",
   "execution_count": 102,
   "outputs": [],
   "source": [
    "final_s[\"start\"] = final_s[\"job_shm\"].apply(time_trans)\n",
    "final_s[\"end\"] = final_s[\"job_ehm\"].apply(time_trans)\n",
    "\n",
    "final_s[\"time\"] = 0\n",
    "final_s.reset_index(inplace = True)\n",
    "for time in range(len(final_s)):\n",
    "    final_s.loc[time, 'time'] = final_s[\"end\"].loc[time] - final_s[\"start\"].loc[time]\n",
    "\n",
    "\n",
    "final_d[\"start\"] = final_d[\"job_shm\"].apply(time_trans)\n",
    "final_d[\"end\"] = final_d[\"job_ehm\"].apply(time_trans)\n",
    "\n",
    "final_d[\"time\"] = 0\n",
    "final_d.reset_index(inplace = True)\n",
    "\n",
    "for time in range(len(final_d)):\n",
    "    final_d.loc[time, 'time'] = final_d[\"end\"].loc[time] - final_d[\"start\"].loc[time]\n",
    "\n",
    "\n",
    "final_sm[\"start\"] = final_sm[\"job_shm\"].apply(time_trans)\n",
    "final_sm[\"end\"] = final_sm[\"job_ehm\"].apply(time_trans)\n",
    "\n",
    "final_sm[\"time\"] = 0\n",
    "final_sm.reset_index(inplace = True)\n",
    "\n",
    "for time in range(len(final_sm)):\n",
    "    final_sm.loc[time, 'time'] = final_sm[\"end\"].loc[time] - final_sm[\"start\"].loc[time]\n",
    "\n",
    "\n",
    "final_sk[\"start\"] = final_sk[\"job_shm\"].apply(time_trans)\n",
    "final_sk[\"end\"] = final_sk[\"job_ehm\"].apply(time_trans)\n",
    "\n",
    "final_sk[\"time\"] = 0\n",
    "final_sk.reset_index(inplace = True)\n",
    "\n",
    "for time in range(len(final_sk)):\n",
    "    final_sk.loc[time, 'time'] = final_sk[\"end\"].loc[time] - final_sk[\"start\"].loc[time]\n",
    "\n",
    "\n",
    "final_sh[\"start\"] = final_sh[\"job_shm\"].apply(time_trans)\n",
    "final_sh[\"end\"] = final_sh[\"job_ehm\"].apply(time_trans)\n",
    "\n",
    "final_sh[\"time\"] = 0\n",
    "final_sh.reset_index(inplace = True)\n",
    "\n",
    "for time in range(len(final_sh)):\n",
    "    final_sh.loc[time, 'time'] = final_s[\"end\"].loc[time] - final_sh[\"start\"].loc[time]\n",
    "\n",
    "\n",
    "final_b[\"start\"] = final_b[\"job_shm\"].apply(time_trans)\n",
    "final_b[\"end\"] = final_b[\"job_ehm\"].apply(time_trans)\n",
    "\n",
    "final_b[\"time\"] = 0\n",
    "final_b.reset_index(inplace = True)\n",
    "\n",
    "for time in range(len(final_b)):\n",
    "    final_b.loc[time, 'time'] = final_b[\"end\"].loc[time] - final_b[\"start\"].loc[time]"
   ],
   "metadata": {
    "collapsed": false
   }
  },
  {
   "cell_type": "code",
   "execution_count": 104,
   "outputs": [
    {
     "data": {
      "text/plain": "    mat_nm_x             time\n0      요석제거제  0 days 01:00:00\n1     알칼리건전지  0 days 00:30:00\n2        소변기  0 days 01:00:00\n3        소변기  0 days 01:00:00\n4        소변기  0 days 01:00:00\n..       ...              ...\n363   알칼리건전지  0 days 00:30:00\n364    망간건전지  0 days 02:53:00\n365   알칼리건전지  0 days 00:35:00\n366   알칼리건전지  0 days 00:30:00\n367   알칼리건전지  0 days 00:20:00\n\n[368 rows x 2 columns]",
      "text/html": "<div>\n<style scoped>\n    .dataframe tbody tr th:only-of-type {\n        vertical-align: middle;\n    }\n\n    .dataframe tbody tr th {\n        vertical-align: top;\n    }\n\n    .dataframe thead th {\n        text-align: right;\n    }\n</style>\n<table border=\"1\" class=\"dataframe\">\n  <thead>\n    <tr style=\"text-align: right;\">\n      <th></th>\n      <th>mat_nm_x</th>\n      <th>time</th>\n    </tr>\n  </thead>\n  <tbody>\n    <tr>\n      <th>0</th>\n      <td>요석제거제</td>\n      <td>0 days 01:00:00</td>\n    </tr>\n    <tr>\n      <th>1</th>\n      <td>알칼리건전지</td>\n      <td>0 days 00:30:00</td>\n    </tr>\n    <tr>\n      <th>2</th>\n      <td>소변기</td>\n      <td>0 days 01:00:00</td>\n    </tr>\n    <tr>\n      <th>3</th>\n      <td>소변기</td>\n      <td>0 days 01:00:00</td>\n    </tr>\n    <tr>\n      <th>4</th>\n      <td>소변기</td>\n      <td>0 days 01:00:00</td>\n    </tr>\n    <tr>\n      <th>...</th>\n      <td>...</td>\n      <td>...</td>\n    </tr>\n    <tr>\n      <th>363</th>\n      <td>알칼리건전지</td>\n      <td>0 days 00:30:00</td>\n    </tr>\n    <tr>\n      <th>364</th>\n      <td>망간건전지</td>\n      <td>0 days 02:53:00</td>\n    </tr>\n    <tr>\n      <th>365</th>\n      <td>알칼리건전지</td>\n      <td>0 days 00:35:00</td>\n    </tr>\n    <tr>\n      <th>366</th>\n      <td>알칼리건전지</td>\n      <td>0 days 00:30:00</td>\n    </tr>\n    <tr>\n      <th>367</th>\n      <td>알칼리건전지</td>\n      <td>0 days 00:20:00</td>\n    </tr>\n  </tbody>\n</table>\n<p>368 rows × 2 columns</p>\n</div>"
     },
     "execution_count": 104,
     "metadata": {},
     "output_type": "execute_result"
    }
   ],
   "source": [
    "final_s[['mat_nm_x','time']]"
   ],
   "metadata": {
    "collapsed": false
   }
  },
  {
   "cell_type": "code",
   "execution_count": 109,
   "outputs": [
    {
     "ename": "AttributeError",
     "evalue": "'Series' object has no attribute 'minutes'",
     "output_type": "error",
     "traceback": [
      "\u001B[0;31m---------------------------------------------------------------------------\u001B[0m",
      "\u001B[0;31mAttributeError\u001B[0m                            Traceback (most recent call last)",
      "Input \u001B[0;32mIn [109]\u001B[0m, in \u001B[0;36m<cell line: 1>\u001B[0;34m()\u001B[0m\n\u001B[0;32m----> 1\u001B[0m \u001B[43mfinal_s\u001B[49m\u001B[43m[\u001B[49m\u001B[38;5;124;43m'\u001B[39;49m\u001B[38;5;124;43mtime\u001B[39;49m\u001B[38;5;124;43m'\u001B[39;49m\u001B[43m]\u001B[49m\u001B[38;5;241;43m.\u001B[39;49m\u001B[43mminutes\u001B[49m\n",
      "File \u001B[0;32m~/opt/anaconda3/envs/gpu_1/lib/python3.9/site-packages/pandas/core/generic.py:5575\u001B[0m, in \u001B[0;36mNDFrame.__getattr__\u001B[0;34m(self, name)\u001B[0m\n\u001B[1;32m   5568\u001B[0m \u001B[38;5;28;01mif\u001B[39;00m (\n\u001B[1;32m   5569\u001B[0m     name \u001B[38;5;129;01mnot\u001B[39;00m \u001B[38;5;129;01min\u001B[39;00m \u001B[38;5;28mself\u001B[39m\u001B[38;5;241m.\u001B[39m_internal_names_set\n\u001B[1;32m   5570\u001B[0m     \u001B[38;5;129;01mand\u001B[39;00m name \u001B[38;5;129;01mnot\u001B[39;00m \u001B[38;5;129;01min\u001B[39;00m \u001B[38;5;28mself\u001B[39m\u001B[38;5;241m.\u001B[39m_metadata\n\u001B[1;32m   5571\u001B[0m     \u001B[38;5;129;01mand\u001B[39;00m name \u001B[38;5;129;01mnot\u001B[39;00m \u001B[38;5;129;01min\u001B[39;00m \u001B[38;5;28mself\u001B[39m\u001B[38;5;241m.\u001B[39m_accessors\n\u001B[1;32m   5572\u001B[0m     \u001B[38;5;129;01mand\u001B[39;00m \u001B[38;5;28mself\u001B[39m\u001B[38;5;241m.\u001B[39m_info_axis\u001B[38;5;241m.\u001B[39m_can_hold_identifiers_and_holds_name(name)\n\u001B[1;32m   5573\u001B[0m ):\n\u001B[1;32m   5574\u001B[0m     \u001B[38;5;28;01mreturn\u001B[39;00m \u001B[38;5;28mself\u001B[39m[name]\n\u001B[0;32m-> 5575\u001B[0m \u001B[38;5;28;01mreturn\u001B[39;00m \u001B[38;5;28;43mobject\u001B[39;49m\u001B[38;5;241;43m.\u001B[39;49m\u001B[38;5;21;43m__getattribute__\u001B[39;49m\u001B[43m(\u001B[49m\u001B[38;5;28;43mself\u001B[39;49m\u001B[43m,\u001B[49m\u001B[43m \u001B[49m\u001B[43mname\u001B[49m\u001B[43m)\u001B[49m\n",
      "\u001B[0;31mAttributeError\u001B[0m: 'Series' object has no attribute 'minutes'"
     ]
    }
   ],
   "source": [],
   "metadata": {
    "collapsed": false
   }
  }
 ],
 "metadata": {
  "kernelspec": {
   "display_name": "Python 3",
   "language": "python",
   "name": "python3"
  },
  "language_info": {
   "codemirror_mode": {
    "name": "ipython",
    "version": 2
   },
   "file_extension": ".py",
   "mimetype": "text/x-python",
   "name": "python",
   "nbconvert_exporter": "python",
   "pygments_lexer": "ipython2",
   "version": "2.7.6"
  }
 },
 "nbformat": 4,
 "nbformat_minor": 0
}

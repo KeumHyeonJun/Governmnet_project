{
 "cells": [
  {
   "cell_type": "markdown",
   "source": [
    "## FMSA10_작업지시결과ver2 + FMSA11_작업장비이력 + FMSX_장비마스터ver2 + FMSB07_자재출고 + FMSB03_자재마스터ver2 합치기\n",
    "* 무슨 장애 > 무슨 장비 > 무슨 자재 사용되는지 알아보기\n"
   ],
   "metadata": {
    "collapsed": false
   }
  },
  {
   "cell_type": "code",
   "execution_count": 15,
   "outputs": [],
   "source": [
    "import pandas as pd\n",
    "from pathlib import Path"
   ],
   "metadata": {
    "collapsed": false
   }
  },
  {
   "cell_type": "code",
   "execution_count": 16,
   "outputs": [
    {
     "data": {
      "text/plain": "'/Users/keumhyeonjun/Projects/행안부/자재/GFMS DB/'"
     },
     "execution_count": 16,
     "metadata": {},
     "output_type": "execute_result"
    }
   ],
   "source": [
    "path = Path.cwd()\n",
    "path = str(path)+'/GFMS DB/'\n",
    "path"
   ],
   "metadata": {
    "collapsed": false
   }
  },
  {
   "cell_type": "code",
   "execution_count": 17,
   "outputs": [
    {
     "name": "stderr",
     "output_type": "stream",
     "text": [
      "/var/folders/nd/cl2nzwh13zx7jdly2t5m95340000gn/T/ipykernel_37848/3427877424.py:1: DtypeWarning: Columns (59) have mixed types. Specify dtype option on import or set low_memory=False.\n",
      "  FMSA10_작업지시_결과 = pd.read_csv(path+'FMSA10_작업지시_결과_ver2.csv')\n"
     ]
    }
   ],
   "source": [
    "FMSA10_작업지시_결과 = pd.read_csv(path+'FMSA10_작업지시_결과_ver2.csv')\n",
    "\n",
    "FMSA11_작업장비이력 = pd.read_excel(path + 'FMSA11_작업장비이력.xlsx')\n",
    "\n",
    "FMSX05_장비마스터 = pd.read_csv(path + 'FMSX05_장비마스터_ver2.csv')\n",
    "\n",
    "FMSB07_자재출고 = pd.read_excel(path + 'FMSB07_자재출고.xlsx')\n",
    "\n",
    "FMSB03_자재마스터 = pd.read_csv(path + 'FMSB03_자재마스터_ver2.csv')"
   ],
   "metadata": {
    "collapsed": false
   }
  },
  {
   "cell_type": "code",
   "execution_count": 18,
   "outputs": [],
   "source": [
    "FMSB03_자재마스터.drop(['class_nm_4','class_cd_4'],axis =1,inplace = True)\n",
    "\n",
    "FMSB03_자재마스터.rename(columns={'class_nm_3':'jajae_class_nm_3'},inplace = True)\n",
    "FMSB03_자재마스터.rename(columns={'class_nm_2':'jajae_class_nm_2'},inplace = True)\n",
    "FMSB03_자재마스터.rename(columns={'class_nm_1':'jajae_class_nm_1'},inplace = True)\n",
    "\n",
    "FMSB03_자재마스터.rename(columns={'class_cd_3':'jajae_class_cd_3'},inplace = True)\n",
    "FMSB03_자재마스터.rename(columns={'class_cd_2':'jajae_class_cd_2'},inplace = True)\n",
    "FMSB03_자재마스터.rename(columns={'class_cd_1':'jajae_class_cd_1'},inplace = True)\n",
    "\n",
    "\n",
    "FMSX05_장비마스터.rename(columns={'class_nm_4':'jangbi_class_nm_4'},inplace = True)\n",
    "FMSX05_장비마스터.rename(columns={'class_nm_3':'jangbi_class_nm_3'},inplace = True)\n",
    "FMSX05_장비마스터.rename(columns={'class_nm_2':'jangbi_class_nm_2'},inplace = True)\n",
    "FMSX05_장비마스터.rename(columns={'class_nm_1':'jangbi_class_nm_1'},inplace = True)\n",
    "\n",
    "\n",
    "FMSX05_장비마스터.rename(columns={'class_cd_4':'jangbi_class_cd_4'},inplace = True)\n",
    "FMSX05_장비마스터.rename(columns={'class_cd_3':'jangbi_class_cd_3'},inplace = True)\n",
    "FMSX05_장비마스터.rename(columns={'class_cd_2':'jangbi_class_cd_2'},inplace = True)\n",
    "FMSX05_장비마스터.rename(columns={'class_cd_1':'jangbi_class_cd_1'},inplace = True)\n",
    "\n",
    "FMSA10_작업지시_결과.rename(columns={'class_nm_4':'job_class_nm_4'},inplace = True)\n",
    "FMSA10_작업지시_결과.rename(columns={'class_nm_3':'job_class_nm_3'},inplace = True)\n",
    "FMSA10_작업지시_결과.rename(columns={'class_nm_2':'job_class_nm_2'},inplace = True)\n",
    "FMSA10_작업지시_결과.rename(columns={'class_nm_1':'job_class_nm_1'},inplace = True)\n",
    "\n",
    "\n",
    "FMSA10_작업지시_결과.rename(columns={'class_cd_4':'job_class_cd_4'},inplace = True)\n",
    "FMSA10_작업지시_결과.rename(columns={'class_cd_3':'job_class_cd_3'},inplace = True)\n",
    "FMSA10_작업지시_결과.rename(columns={'class_cd_2':'job_class_cd_2'},inplace = True)\n",
    "FMSA10_작업지시_결과.rename(columns={'class_cd_1':'job_class_cd_1'},inplace = True)\n",
    "\n"
   ],
   "metadata": {
    "collapsed": false
   }
  },
  {
   "cell_type": "code",
   "execution_count": 19,
   "outputs": [
    {
     "data": {
      "text/plain": "     comp_cd        outw_cd            job_cd  outw_tpy    outw_day  \\\n0       SEJO  A211001-00012      211001-00059         1  2021-10-01   \n1       SEJO  A211001-00005      211001-00081         1  2021-10-01   \n2       SEJO  A211001-00014      211001-00070         1  2021-10-01   \n3       SEJO  A211001-00015      211001-00070         1  2021-10-01   \n4       SEJO  A211001-00001      211001-00038         1  2021-10-01   \n...      ...            ...               ...       ...         ...   \n5717    SEJO  A221011-00019      221011-00065         1  2022-10-11   \n5718    SEJO  A221011-00020      221011-00065         1  2022-10-11   \n5719    SEJO  A221011-00021      221011-00065         1  2022-10-11   \n5720    SEJO  A221011-00015      221011-00057         1  2022-10-11   \n5721    SEJO  A221011-00001  A25-221011-00001         1  2022-10-11   \n\n            mat_cd  outw_qty  outw_amt                           outw_use  \\\n0     413002005001         1       1.0                                NaN   \n1     504001002002         1       1.0                                NaN   \n2     802001001001         1       1.0                                NaN   \n3     407001001005         1       1.0                                NaN   \n4     413002005005         1       1.0                                NaN   \n...            ...       ...       ...                                ...   \n5717  701003004012         4       NaN                                NaN   \n5718  701003004014         2       NaN                                NaN   \n5719  701003004015         2       NaN                                NaN   \n5720  412005002004         2       NaN                                NaN   \n5721  109001002001      1071       NaN  1부:456매, 2부:407매, 3부:142매, 조경:66매   \n\n     outw_empno  ...  gyuljae_no1 gyuljae_no2 gyuljae_no3 gyuljae_no4  \\\n0        Jk1495  ...          NaN         NaN         NaN         NaN   \n1      skysen83  ...          NaN         NaN         NaN         NaN   \n2      hugh7192  ...          NaN         NaN         NaN         NaN   \n3      hugh7192  ...          NaN         NaN         NaN         NaN   \n4     sueoh0202  ...          NaN         NaN         NaN         NaN   \n...         ...  ...          ...         ...         ...         ...   \n5717    ipt1264  ...          NaN         NaN         NaN         NaN   \n5718    ipt1264  ...          NaN         NaN         NaN         NaN   \n5719    ipt1264  ...          NaN         NaN         NaN         NaN   \n5720      as119  ...          NaN         NaN         NaN         NaN   \n5721     clean1  ...          NaN         NaN         NaN         NaN   \n\n     gyuljae_no5 gyuljae_yn return_qty mat_check_gb old_mat_cd new_mat_cd  \n0            NaN          N        NaN          NaN        NaN        NaN  \n1            NaN          Y        NaN          NaN        NaN        NaN  \n2            NaN          N        NaN          NaN        NaN        NaN  \n3            NaN          N        NaN          NaN        NaN        NaN  \n4            NaN          Y        NaN          NaN        NaN        NaN  \n...          ...        ...        ...          ...        ...        ...  \n5717         NaN          N        NaN          NaN        NaN        NaN  \n5718         NaN          N        NaN          NaN        NaN        NaN  \n5719         NaN          N        NaN          NaN        NaN        NaN  \n5720         NaN          N        NaN          NaN        NaN        NaN  \n5721         NaN          N        NaN          0.0        NaN        NaN  \n\n[5722 rows x 31 columns]",
      "text/html": "<div>\n<style scoped>\n    .dataframe tbody tr th:only-of-type {\n        vertical-align: middle;\n    }\n\n    .dataframe tbody tr th {\n        vertical-align: top;\n    }\n\n    .dataframe thead th {\n        text-align: right;\n    }\n</style>\n<table border=\"1\" class=\"dataframe\">\n  <thead>\n    <tr style=\"text-align: right;\">\n      <th></th>\n      <th>comp_cd</th>\n      <th>outw_cd</th>\n      <th>job_cd</th>\n      <th>outw_tpy</th>\n      <th>outw_day</th>\n      <th>mat_cd</th>\n      <th>outw_qty</th>\n      <th>outw_amt</th>\n      <th>outw_use</th>\n      <th>outw_empno</th>\n      <th>...</th>\n      <th>gyuljae_no1</th>\n      <th>gyuljae_no2</th>\n      <th>gyuljae_no3</th>\n      <th>gyuljae_no4</th>\n      <th>gyuljae_no5</th>\n      <th>gyuljae_yn</th>\n      <th>return_qty</th>\n      <th>mat_check_gb</th>\n      <th>old_mat_cd</th>\n      <th>new_mat_cd</th>\n    </tr>\n  </thead>\n  <tbody>\n    <tr>\n      <th>0</th>\n      <td>SEJO</td>\n      <td>A211001-00012</td>\n      <td>211001-00059</td>\n      <td>1</td>\n      <td>2021-10-01</td>\n      <td>413002005001</td>\n      <td>1</td>\n      <td>1.0</td>\n      <td>NaN</td>\n      <td>Jk1495</td>\n      <td>...</td>\n      <td>NaN</td>\n      <td>NaN</td>\n      <td>NaN</td>\n      <td>NaN</td>\n      <td>NaN</td>\n      <td>N</td>\n      <td>NaN</td>\n      <td>NaN</td>\n      <td>NaN</td>\n      <td>NaN</td>\n    </tr>\n    <tr>\n      <th>1</th>\n      <td>SEJO</td>\n      <td>A211001-00005</td>\n      <td>211001-00081</td>\n      <td>1</td>\n      <td>2021-10-01</td>\n      <td>504001002002</td>\n      <td>1</td>\n      <td>1.0</td>\n      <td>NaN</td>\n      <td>skysen83</td>\n      <td>...</td>\n      <td>NaN</td>\n      <td>NaN</td>\n      <td>NaN</td>\n      <td>NaN</td>\n      <td>NaN</td>\n      <td>Y</td>\n      <td>NaN</td>\n      <td>NaN</td>\n      <td>NaN</td>\n      <td>NaN</td>\n    </tr>\n    <tr>\n      <th>2</th>\n      <td>SEJO</td>\n      <td>A211001-00014</td>\n      <td>211001-00070</td>\n      <td>1</td>\n      <td>2021-10-01</td>\n      <td>802001001001</td>\n      <td>1</td>\n      <td>1.0</td>\n      <td>NaN</td>\n      <td>hugh7192</td>\n      <td>...</td>\n      <td>NaN</td>\n      <td>NaN</td>\n      <td>NaN</td>\n      <td>NaN</td>\n      <td>NaN</td>\n      <td>N</td>\n      <td>NaN</td>\n      <td>NaN</td>\n      <td>NaN</td>\n      <td>NaN</td>\n    </tr>\n    <tr>\n      <th>3</th>\n      <td>SEJO</td>\n      <td>A211001-00015</td>\n      <td>211001-00070</td>\n      <td>1</td>\n      <td>2021-10-01</td>\n      <td>407001001005</td>\n      <td>1</td>\n      <td>1.0</td>\n      <td>NaN</td>\n      <td>hugh7192</td>\n      <td>...</td>\n      <td>NaN</td>\n      <td>NaN</td>\n      <td>NaN</td>\n      <td>NaN</td>\n      <td>NaN</td>\n      <td>N</td>\n      <td>NaN</td>\n      <td>NaN</td>\n      <td>NaN</td>\n      <td>NaN</td>\n    </tr>\n    <tr>\n      <th>4</th>\n      <td>SEJO</td>\n      <td>A211001-00001</td>\n      <td>211001-00038</td>\n      <td>1</td>\n      <td>2021-10-01</td>\n      <td>413002005005</td>\n      <td>1</td>\n      <td>1.0</td>\n      <td>NaN</td>\n      <td>sueoh0202</td>\n      <td>...</td>\n      <td>NaN</td>\n      <td>NaN</td>\n      <td>NaN</td>\n      <td>NaN</td>\n      <td>NaN</td>\n      <td>Y</td>\n      <td>NaN</td>\n      <td>NaN</td>\n      <td>NaN</td>\n      <td>NaN</td>\n    </tr>\n    <tr>\n      <th>...</th>\n      <td>...</td>\n      <td>...</td>\n      <td>...</td>\n      <td>...</td>\n      <td>...</td>\n      <td>...</td>\n      <td>...</td>\n      <td>...</td>\n      <td>...</td>\n      <td>...</td>\n      <td>...</td>\n      <td>...</td>\n      <td>...</td>\n      <td>...</td>\n      <td>...</td>\n      <td>...</td>\n      <td>...</td>\n      <td>...</td>\n      <td>...</td>\n      <td>...</td>\n      <td>...</td>\n    </tr>\n    <tr>\n      <th>5717</th>\n      <td>SEJO</td>\n      <td>A221011-00019</td>\n      <td>221011-00065</td>\n      <td>1</td>\n      <td>2022-10-11</td>\n      <td>701003004012</td>\n      <td>4</td>\n      <td>NaN</td>\n      <td>NaN</td>\n      <td>ipt1264</td>\n      <td>...</td>\n      <td>NaN</td>\n      <td>NaN</td>\n      <td>NaN</td>\n      <td>NaN</td>\n      <td>NaN</td>\n      <td>N</td>\n      <td>NaN</td>\n      <td>NaN</td>\n      <td>NaN</td>\n      <td>NaN</td>\n    </tr>\n    <tr>\n      <th>5718</th>\n      <td>SEJO</td>\n      <td>A221011-00020</td>\n      <td>221011-00065</td>\n      <td>1</td>\n      <td>2022-10-11</td>\n      <td>701003004014</td>\n      <td>2</td>\n      <td>NaN</td>\n      <td>NaN</td>\n      <td>ipt1264</td>\n      <td>...</td>\n      <td>NaN</td>\n      <td>NaN</td>\n      <td>NaN</td>\n      <td>NaN</td>\n      <td>NaN</td>\n      <td>N</td>\n      <td>NaN</td>\n      <td>NaN</td>\n      <td>NaN</td>\n      <td>NaN</td>\n    </tr>\n    <tr>\n      <th>5719</th>\n      <td>SEJO</td>\n      <td>A221011-00021</td>\n      <td>221011-00065</td>\n      <td>1</td>\n      <td>2022-10-11</td>\n      <td>701003004015</td>\n      <td>2</td>\n      <td>NaN</td>\n      <td>NaN</td>\n      <td>ipt1264</td>\n      <td>...</td>\n      <td>NaN</td>\n      <td>NaN</td>\n      <td>NaN</td>\n      <td>NaN</td>\n      <td>NaN</td>\n      <td>N</td>\n      <td>NaN</td>\n      <td>NaN</td>\n      <td>NaN</td>\n      <td>NaN</td>\n    </tr>\n    <tr>\n      <th>5720</th>\n      <td>SEJO</td>\n      <td>A221011-00015</td>\n      <td>221011-00057</td>\n      <td>1</td>\n      <td>2022-10-11</td>\n      <td>412005002004</td>\n      <td>2</td>\n      <td>NaN</td>\n      <td>NaN</td>\n      <td>as119</td>\n      <td>...</td>\n      <td>NaN</td>\n      <td>NaN</td>\n      <td>NaN</td>\n      <td>NaN</td>\n      <td>NaN</td>\n      <td>N</td>\n      <td>NaN</td>\n      <td>NaN</td>\n      <td>NaN</td>\n      <td>NaN</td>\n    </tr>\n    <tr>\n      <th>5721</th>\n      <td>SEJO</td>\n      <td>A221011-00001</td>\n      <td>A25-221011-00001</td>\n      <td>1</td>\n      <td>2022-10-11</td>\n      <td>109001002001</td>\n      <td>1071</td>\n      <td>NaN</td>\n      <td>1부:456매, 2부:407매, 3부:142매, 조경:66매</td>\n      <td>clean1</td>\n      <td>...</td>\n      <td>NaN</td>\n      <td>NaN</td>\n      <td>NaN</td>\n      <td>NaN</td>\n      <td>NaN</td>\n      <td>N</td>\n      <td>NaN</td>\n      <td>0.0</td>\n      <td>NaN</td>\n      <td>NaN</td>\n    </tr>\n  </tbody>\n</table>\n<p>5722 rows × 31 columns</p>\n</div>"
     },
     "execution_count": 19,
     "metadata": {},
     "output_type": "execute_result"
    }
   ],
   "source": [
    "FMSB07_자재출고"
   ],
   "metadata": {
    "collapsed": false
   }
  },
  {
   "cell_type": "code",
   "execution_count": 20,
   "outputs": [
    {
     "data": {
      "text/plain": "          mat_cd  mat_nm jajae_class_nm_1 jajae_class_nm_2 jajae_class_nm_3  \\\n0      101001001    황동레일               공통              철강재               봉강   \n1      101001002  파이프서포트               공통              철강재               봉강   \n2      101001003   단관파이프               공통              철강재               봉강   \n3      101001004    각파이프               공통              철강재               봉강   \n4      101003001    초경철판               공통              철강재            강판·강관   \n...          ...     ...              ...              ...              ...   \n2258  1106009002    바닦매트               미화             청소용품              매트류   \n2259  1106009003  삼성쿠션매트               미화             청소용품              매트류   \n2260  1107001001    염화칼슘               미화             제설용품             염화칼슘   \n2261  1107002001     넉가래               미화             제설용품             제설도구   \n2262  1107002002      눈삽               미화             제설용품             제설도구   \n\n      jajae_class_cd_3  \n0               101001  \n1               101001  \n2               101001  \n3               101001  \n4               101003  \n...                ...  \n2258           1106009  \n2259           1106009  \n2260           1107001  \n2261           1107002  \n2262           1107002  \n\n[2263 rows x 6 columns]",
      "text/html": "<div>\n<style scoped>\n    .dataframe tbody tr th:only-of-type {\n        vertical-align: middle;\n    }\n\n    .dataframe tbody tr th {\n        vertical-align: top;\n    }\n\n    .dataframe thead th {\n        text-align: right;\n    }\n</style>\n<table border=\"1\" class=\"dataframe\">\n  <thead>\n    <tr style=\"text-align: right;\">\n      <th></th>\n      <th>mat_cd</th>\n      <th>mat_nm</th>\n      <th>jajae_class_nm_1</th>\n      <th>jajae_class_nm_2</th>\n      <th>jajae_class_nm_3</th>\n      <th>jajae_class_cd_3</th>\n    </tr>\n  </thead>\n  <tbody>\n    <tr>\n      <th>0</th>\n      <td>101001001</td>\n      <td>황동레일</td>\n      <td>공통</td>\n      <td>철강재</td>\n      <td>봉강</td>\n      <td>101001</td>\n    </tr>\n    <tr>\n      <th>1</th>\n      <td>101001002</td>\n      <td>파이프서포트</td>\n      <td>공통</td>\n      <td>철강재</td>\n      <td>봉강</td>\n      <td>101001</td>\n    </tr>\n    <tr>\n      <th>2</th>\n      <td>101001003</td>\n      <td>단관파이프</td>\n      <td>공통</td>\n      <td>철강재</td>\n      <td>봉강</td>\n      <td>101001</td>\n    </tr>\n    <tr>\n      <th>3</th>\n      <td>101001004</td>\n      <td>각파이프</td>\n      <td>공통</td>\n      <td>철강재</td>\n      <td>봉강</td>\n      <td>101001</td>\n    </tr>\n    <tr>\n      <th>4</th>\n      <td>101003001</td>\n      <td>초경철판</td>\n      <td>공통</td>\n      <td>철강재</td>\n      <td>강판·강관</td>\n      <td>101003</td>\n    </tr>\n    <tr>\n      <th>...</th>\n      <td>...</td>\n      <td>...</td>\n      <td>...</td>\n      <td>...</td>\n      <td>...</td>\n      <td>...</td>\n    </tr>\n    <tr>\n      <th>2258</th>\n      <td>1106009002</td>\n      <td>바닦매트</td>\n      <td>미화</td>\n      <td>청소용품</td>\n      <td>매트류</td>\n      <td>1106009</td>\n    </tr>\n    <tr>\n      <th>2259</th>\n      <td>1106009003</td>\n      <td>삼성쿠션매트</td>\n      <td>미화</td>\n      <td>청소용품</td>\n      <td>매트류</td>\n      <td>1106009</td>\n    </tr>\n    <tr>\n      <th>2260</th>\n      <td>1107001001</td>\n      <td>염화칼슘</td>\n      <td>미화</td>\n      <td>제설용품</td>\n      <td>염화칼슘</td>\n      <td>1107001</td>\n    </tr>\n    <tr>\n      <th>2261</th>\n      <td>1107002001</td>\n      <td>넉가래</td>\n      <td>미화</td>\n      <td>제설용품</td>\n      <td>제설도구</td>\n      <td>1107002</td>\n    </tr>\n    <tr>\n      <th>2262</th>\n      <td>1107002002</td>\n      <td>눈삽</td>\n      <td>미화</td>\n      <td>제설용품</td>\n      <td>제설도구</td>\n      <td>1107002</td>\n    </tr>\n  </tbody>\n</table>\n<p>2263 rows × 6 columns</p>\n</div>"
     },
     "execution_count": 20,
     "metadata": {},
     "output_type": "execute_result"
    }
   ],
   "source": [
    "fmsa10 =FMSA10_작업지시_결과[['job_cd','job_nm','job_jisi_dt','job_enddt','job_shm','job_ehm','job_class_nm_1','job_class_nm_2','job_class_nm_3','job_class_nm_4']]\n",
    "fmsb03 = FMSB03_자재마스터[['mat_cd','mat_nm','jajae_class_nm_1','jajae_class_nm_2','jajae_class_nm_3','jajae_class_cd_3']]\n",
    "fmsx05 = FMSX05_장비마스터[['fac_cd','fac_nm','jangbi_class_nm_1','jangbi_class_nm_2','jangbi_class_nm_3','jangbi_class_nm_4']]\n",
    "fmsb03"
   ],
   "metadata": {
    "collapsed": false
   }
  },
  {
   "cell_type": "code",
   "execution_count": 21,
   "outputs": [
    {
     "name": "stderr",
     "output_type": "stream",
     "text": [
      "/var/folders/nd/cl2nzwh13zx7jdly2t5m95340000gn/T/ipykernel_37848/4040468784.py:3: SettingWithCopyWarning: \n",
      "A value is trying to be set on a copy of a slice from a DataFrame.\n",
      "Try using .loc[row_indexer,col_indexer] = value instead\n",
      "\n",
      "See the caveats in the documentation: https://pandas.pydata.org/pandas-docs/stable/user_guide/indexing.html#returning-a-view-versus-a-copy\n",
      "  fmsb03[\"mat_cd\"] = fmsb03[\"mat_cd\"].astype(\"str\")\n"
     ]
    },
    {
     "data": {
      "text/plain": "                job_cd    outw_day     mat_cd  outw_qty  mat_nm_x  \\\n0         211001-00059  2021-10-01  413002005         1  LED일체형램프   \n1         211001-00038  2021-10-01  413002005         1  LED일체형램프   \n2         211006-00016  2021-10-06  413002005         1  LED일체형램프   \n3         211006-00035  2021-10-06  413002005         3  LED일체형램프   \n4         211008-00028  2021-10-08  413002005         4  LED일체형램프   \n...                ...         ...        ...       ...       ...   \n5717      221004-00017  2022-10-04  701003013         1       어댑터   \n5718   A2-221005-00001  2022-10-05  412005013      1000  디지털타임스위치   \n5719  A15-221005-00006  2022-10-05  207001022         1    친환경페인트   \n5720      221006-00053  2022-10-06  306003010         2   소변기세척밸브   \n5721      221011-00066  2022-10-11  402004012         4        풀리   \n\n     jajae_class_nm_1 jajae_class_nm_2 jajae_class_nm_3  jajae_class_cd_3  \n0                  전기      조명기구/전등/안정기           LED 전구            413002  \n1                  전기      조명기구/전등/안정기           LED 전구            413002  \n2                  전기      조명기구/전등/안정기           LED 전구            413002  \n3                  전기      조명기구/전등/안정기           LED 전구            413002  \n4                  전기      조명기구/전등/안정기           LED 전구            413002  \n...               ...              ...              ...               ...  \n5717               통신            통신케이블         접속자재(01)            701003  \n5718               전기             배선기구          스위치(전기)            412005  \n5719               건축               도료              페인트            207001  \n5720               기계             위생기구              소변기            306003  \n5721               전기           전선원부자재   케이블 접속재 및 접속자재            402004  \n\n[5722 rows x 9 columns]",
      "text/html": "<div>\n<style scoped>\n    .dataframe tbody tr th:only-of-type {\n        vertical-align: middle;\n    }\n\n    .dataframe tbody tr th {\n        vertical-align: top;\n    }\n\n    .dataframe thead th {\n        text-align: right;\n    }\n</style>\n<table border=\"1\" class=\"dataframe\">\n  <thead>\n    <tr style=\"text-align: right;\">\n      <th></th>\n      <th>job_cd</th>\n      <th>outw_day</th>\n      <th>mat_cd</th>\n      <th>outw_qty</th>\n      <th>mat_nm_x</th>\n      <th>jajae_class_nm_1</th>\n      <th>jajae_class_nm_2</th>\n      <th>jajae_class_nm_3</th>\n      <th>jajae_class_cd_3</th>\n    </tr>\n  </thead>\n  <tbody>\n    <tr>\n      <th>0</th>\n      <td>211001-00059</td>\n      <td>2021-10-01</td>\n      <td>413002005</td>\n      <td>1</td>\n      <td>LED일체형램프</td>\n      <td>전기</td>\n      <td>조명기구/전등/안정기</td>\n      <td>LED 전구</td>\n      <td>413002</td>\n    </tr>\n    <tr>\n      <th>1</th>\n      <td>211001-00038</td>\n      <td>2021-10-01</td>\n      <td>413002005</td>\n      <td>1</td>\n      <td>LED일체형램프</td>\n      <td>전기</td>\n      <td>조명기구/전등/안정기</td>\n      <td>LED 전구</td>\n      <td>413002</td>\n    </tr>\n    <tr>\n      <th>2</th>\n      <td>211006-00016</td>\n      <td>2021-10-06</td>\n      <td>413002005</td>\n      <td>1</td>\n      <td>LED일체형램프</td>\n      <td>전기</td>\n      <td>조명기구/전등/안정기</td>\n      <td>LED 전구</td>\n      <td>413002</td>\n    </tr>\n    <tr>\n      <th>3</th>\n      <td>211006-00035</td>\n      <td>2021-10-06</td>\n      <td>413002005</td>\n      <td>3</td>\n      <td>LED일체형램프</td>\n      <td>전기</td>\n      <td>조명기구/전등/안정기</td>\n      <td>LED 전구</td>\n      <td>413002</td>\n    </tr>\n    <tr>\n      <th>4</th>\n      <td>211008-00028</td>\n      <td>2021-10-08</td>\n      <td>413002005</td>\n      <td>4</td>\n      <td>LED일체형램프</td>\n      <td>전기</td>\n      <td>조명기구/전등/안정기</td>\n      <td>LED 전구</td>\n      <td>413002</td>\n    </tr>\n    <tr>\n      <th>...</th>\n      <td>...</td>\n      <td>...</td>\n      <td>...</td>\n      <td>...</td>\n      <td>...</td>\n      <td>...</td>\n      <td>...</td>\n      <td>...</td>\n      <td>...</td>\n    </tr>\n    <tr>\n      <th>5717</th>\n      <td>221004-00017</td>\n      <td>2022-10-04</td>\n      <td>701003013</td>\n      <td>1</td>\n      <td>어댑터</td>\n      <td>통신</td>\n      <td>통신케이블</td>\n      <td>접속자재(01)</td>\n      <td>701003</td>\n    </tr>\n    <tr>\n      <th>5718</th>\n      <td>A2-221005-00001</td>\n      <td>2022-10-05</td>\n      <td>412005013</td>\n      <td>1000</td>\n      <td>디지털타임스위치</td>\n      <td>전기</td>\n      <td>배선기구</td>\n      <td>스위치(전기)</td>\n      <td>412005</td>\n    </tr>\n    <tr>\n      <th>5719</th>\n      <td>A15-221005-00006</td>\n      <td>2022-10-05</td>\n      <td>207001022</td>\n      <td>1</td>\n      <td>친환경페인트</td>\n      <td>건축</td>\n      <td>도료</td>\n      <td>페인트</td>\n      <td>207001</td>\n    </tr>\n    <tr>\n      <th>5720</th>\n      <td>221006-00053</td>\n      <td>2022-10-06</td>\n      <td>306003010</td>\n      <td>2</td>\n      <td>소변기세척밸브</td>\n      <td>기계</td>\n      <td>위생기구</td>\n      <td>소변기</td>\n      <td>306003</td>\n    </tr>\n    <tr>\n      <th>5721</th>\n      <td>221011-00066</td>\n      <td>2022-10-11</td>\n      <td>402004012</td>\n      <td>4</td>\n      <td>풀리</td>\n      <td>전기</td>\n      <td>전선원부자재</td>\n      <td>케이블 접속재 및 접속자재</td>\n      <td>402004</td>\n    </tr>\n  </tbody>\n</table>\n<p>5722 rows × 9 columns</p>\n</div>"
     },
     "execution_count": 21,
     "metadata": {},
     "output_type": "execute_result"
    }
   ],
   "source": [
    "FMSB07_자재출고[\"mat_cd\"] = FMSB07_자재출고[\"mat_cd\"].astype(\"str\")\n",
    "FMSB07_자재출고[\"mat_cd\"] = list(map(lambda x: x[:-3],FMSB07_자재출고[\"mat_cd\"].tolist())) # FMSB03과 inner join하기 위해 mat_cd 형식 일치\n",
    "fmsb03[\"mat_cd\"] = fmsb03[\"mat_cd\"].astype(\"str\")\n",
    "jajae = pd.merge(FMSB07_자재출고,fmsb03 ,on = 'mat_cd', how = 'inner')\n",
    "jajae = jajae[['job_cd','outw_day','mat_cd','outw_qty','mat_nm_x','jajae_class_nm_1','jajae_class_nm_2','jajae_class_nm_3','jajae_class_cd_3']]\n",
    "jajae"
   ],
   "metadata": {
    "collapsed": false
   }
  },
  {
   "cell_type": "code",
   "execution_count": 115,
   "outputs": [],
   "source": [
    "\n",
    "jangbi = pd.merge(FMSA11_작업장비이력, fmsx05, how='inner', on='fac_cd')\n",
    "data = pd.merge(fmsa10,jangbi, on='job_cd',how = 'inner')\n",
    "df = pd.merge(data,jajae, on='job_cd',how = 'inner')"
   ],
   "metadata": {
    "collapsed": false
   }
  },
  {
   "cell_type": "code",
   "execution_count": 114,
   "outputs": [
    {
     "data": {
      "text/plain": "     comp_cd                 job_cd        fac_cd  job_cont  \\\n0       SEJO           211001-00002  400201020417       NaN   \n1       SEJO           211008-00047  400201020417       NaN   \n2       SEJO           211001-00003  400201020817       NaN   \n3       SEJO           211002-00005  400201020817       NaN   \n4       SEJO           220625-00008  400201020817       NaN   \n...      ...                    ...           ...       ...   \n6826    SEJO  M_202206231505243_001  500102050031       NaN   \n6827    SEJO  M_202207011346422_001  200201020170       NaN   \n6828    SEJO  M_202208021424204_001  200201020133       NaN   \n6829    SEJO  M_202208021424204_001  200201020167       NaN   \n6830    SEJO  M_202208221057315_001  200201030273       NaN   \n\n                 input_sysdt  chg_sysdt input_emp_no  chg_emp_no input_scr_nm  \\\n0      2021-10-27 오후 3:27:52        NaN    korea8012         NaN      JOB_A11   \n1      2021-10-27 오후 3:29:23        NaN    korea8012         NaN      JOB_A11   \n2      2021-10-20 오전 9:07:24        NaN    tjsrb3183         NaN      JOB_A11   \n3      2021-10-20 오전 9:08:46        NaN    tjsrb3183         NaN      JOB_A11   \n4     2022-06-26 오전 12:15:10        NaN    tjsrb3183         NaN      JOB_A11   \n...                      ...        ...          ...         ...          ...   \n6826   2022-06-23 오후 4:44:34        NaN       archi1         NaN      JOB_A11   \n6827   2022-07-11 오전 9:13:11        NaN        as119         NaN      JOB_A11   \n6828   2022-08-02 오후 2:41:33        NaN     berdan10         NaN    M_JOB_A11   \n6829   2022-08-02 오후 2:41:33        NaN     berdan10         NaN    M_JOB_A11   \n6830   2022-08-22 오후 4:34:44        NaN        as119         NaN      JOB_A11   \n\n              fac_nm jangbi_class_nm_1 jangbi_class_nm_2 jangbi_class_nm_3  \\\n0     14동 아날로그감지기 연기                방재              경보설비          자동화재탐지설비   \n1     14동 아날로그감지기 연기                방재              경보설비          자동화재탐지설비   \n2       광전식 스포트형 감지기                방재              경보설비          자동화재탐지설비   \n3       광전식 스포트형 감지기                방재              경보설비          자동화재탐지설비   \n4       광전식 스포트형 감지기                방재              경보설비          자동화재탐지설비   \n...              ...               ...               ...               ...   \n6826           강화도어3                건축                내부             내벽마감재   \n6827      3F남1소변기(장)                기계          위생, 탱크설비              위생설비   \n6828      5F남1소변기(1)                기계          위생, 탱크설비              위생설비   \n6829      5F남1소변기(장)                기계          위생, 탱크설비              위생설비   \n6830     3F남1일반비데(3)                기계          위생, 탱크설비              위생설비   \n\n     jangbi_class_nm_4  자재매칭여부  \n0                  감지기       0  \n1                  감지기       1  \n2                  감지기       1  \n3                  감지기       1  \n4                  감지기       1  \n...                ...     ...  \n6826               방화문       0  \n6827               소변기       1  \n6828               소변기       1  \n6829               소변기       1  \n6830                비데       1  \n\n[6831 rows x 15 columns]",
      "text/html": "<div>\n<style scoped>\n    .dataframe tbody tr th:only-of-type {\n        vertical-align: middle;\n    }\n\n    .dataframe tbody tr th {\n        vertical-align: top;\n    }\n\n    .dataframe thead th {\n        text-align: right;\n    }\n</style>\n<table border=\"1\" class=\"dataframe\">\n  <thead>\n    <tr style=\"text-align: right;\">\n      <th></th>\n      <th>comp_cd</th>\n      <th>job_cd</th>\n      <th>fac_cd</th>\n      <th>job_cont</th>\n      <th>input_sysdt</th>\n      <th>chg_sysdt</th>\n      <th>input_emp_no</th>\n      <th>chg_emp_no</th>\n      <th>input_scr_nm</th>\n      <th>fac_nm</th>\n      <th>jangbi_class_nm_1</th>\n      <th>jangbi_class_nm_2</th>\n      <th>jangbi_class_nm_3</th>\n      <th>jangbi_class_nm_4</th>\n      <th>자재매칭여부</th>\n    </tr>\n  </thead>\n  <tbody>\n    <tr>\n      <th>0</th>\n      <td>SEJO</td>\n      <td>211001-00002</td>\n      <td>400201020417</td>\n      <td>NaN</td>\n      <td>2021-10-27 오후 3:27:52</td>\n      <td>NaN</td>\n      <td>korea8012</td>\n      <td>NaN</td>\n      <td>JOB_A11</td>\n      <td>14동 아날로그감지기 연기</td>\n      <td>방재</td>\n      <td>경보설비</td>\n      <td>자동화재탐지설비</td>\n      <td>감지기</td>\n      <td>0</td>\n    </tr>\n    <tr>\n      <th>1</th>\n      <td>SEJO</td>\n      <td>211008-00047</td>\n      <td>400201020417</td>\n      <td>NaN</td>\n      <td>2021-10-27 오후 3:29:23</td>\n      <td>NaN</td>\n      <td>korea8012</td>\n      <td>NaN</td>\n      <td>JOB_A11</td>\n      <td>14동 아날로그감지기 연기</td>\n      <td>방재</td>\n      <td>경보설비</td>\n      <td>자동화재탐지설비</td>\n      <td>감지기</td>\n      <td>1</td>\n    </tr>\n    <tr>\n      <th>2</th>\n      <td>SEJO</td>\n      <td>211001-00003</td>\n      <td>400201020817</td>\n      <td>NaN</td>\n      <td>2021-10-20 오전 9:07:24</td>\n      <td>NaN</td>\n      <td>tjsrb3183</td>\n      <td>NaN</td>\n      <td>JOB_A11</td>\n      <td>광전식 스포트형 감지기</td>\n      <td>방재</td>\n      <td>경보설비</td>\n      <td>자동화재탐지설비</td>\n      <td>감지기</td>\n      <td>1</td>\n    </tr>\n    <tr>\n      <th>3</th>\n      <td>SEJO</td>\n      <td>211002-00005</td>\n      <td>400201020817</td>\n      <td>NaN</td>\n      <td>2021-10-20 오전 9:08:46</td>\n      <td>NaN</td>\n      <td>tjsrb3183</td>\n      <td>NaN</td>\n      <td>JOB_A11</td>\n      <td>광전식 스포트형 감지기</td>\n      <td>방재</td>\n      <td>경보설비</td>\n      <td>자동화재탐지설비</td>\n      <td>감지기</td>\n      <td>1</td>\n    </tr>\n    <tr>\n      <th>4</th>\n      <td>SEJO</td>\n      <td>220625-00008</td>\n      <td>400201020817</td>\n      <td>NaN</td>\n      <td>2022-06-26 오전 12:15:10</td>\n      <td>NaN</td>\n      <td>tjsrb3183</td>\n      <td>NaN</td>\n      <td>JOB_A11</td>\n      <td>광전식 스포트형 감지기</td>\n      <td>방재</td>\n      <td>경보설비</td>\n      <td>자동화재탐지설비</td>\n      <td>감지기</td>\n      <td>1</td>\n    </tr>\n    <tr>\n      <th>...</th>\n      <td>...</td>\n      <td>...</td>\n      <td>...</td>\n      <td>...</td>\n      <td>...</td>\n      <td>...</td>\n      <td>...</td>\n      <td>...</td>\n      <td>...</td>\n      <td>...</td>\n      <td>...</td>\n      <td>...</td>\n      <td>...</td>\n      <td>...</td>\n      <td>...</td>\n    </tr>\n    <tr>\n      <th>6826</th>\n      <td>SEJO</td>\n      <td>M_202206231505243_001</td>\n      <td>500102050031</td>\n      <td>NaN</td>\n      <td>2022-06-23 오후 4:44:34</td>\n      <td>NaN</td>\n      <td>archi1</td>\n      <td>NaN</td>\n      <td>JOB_A11</td>\n      <td>강화도어3</td>\n      <td>건축</td>\n      <td>내부</td>\n      <td>내벽마감재</td>\n      <td>방화문</td>\n      <td>0</td>\n    </tr>\n    <tr>\n      <th>6827</th>\n      <td>SEJO</td>\n      <td>M_202207011346422_001</td>\n      <td>200201020170</td>\n      <td>NaN</td>\n      <td>2022-07-11 오전 9:13:11</td>\n      <td>NaN</td>\n      <td>as119</td>\n      <td>NaN</td>\n      <td>JOB_A11</td>\n      <td>3F남1소변기(장)</td>\n      <td>기계</td>\n      <td>위생, 탱크설비</td>\n      <td>위생설비</td>\n      <td>소변기</td>\n      <td>1</td>\n    </tr>\n    <tr>\n      <th>6828</th>\n      <td>SEJO</td>\n      <td>M_202208021424204_001</td>\n      <td>200201020133</td>\n      <td>NaN</td>\n      <td>2022-08-02 오후 2:41:33</td>\n      <td>NaN</td>\n      <td>berdan10</td>\n      <td>NaN</td>\n      <td>M_JOB_A11</td>\n      <td>5F남1소변기(1)</td>\n      <td>기계</td>\n      <td>위생, 탱크설비</td>\n      <td>위생설비</td>\n      <td>소변기</td>\n      <td>1</td>\n    </tr>\n    <tr>\n      <th>6829</th>\n      <td>SEJO</td>\n      <td>M_202208021424204_001</td>\n      <td>200201020167</td>\n      <td>NaN</td>\n      <td>2022-08-02 오후 2:41:33</td>\n      <td>NaN</td>\n      <td>berdan10</td>\n      <td>NaN</td>\n      <td>M_JOB_A11</td>\n      <td>5F남1소변기(장)</td>\n      <td>기계</td>\n      <td>위생, 탱크설비</td>\n      <td>위생설비</td>\n      <td>소변기</td>\n      <td>1</td>\n    </tr>\n    <tr>\n      <th>6830</th>\n      <td>SEJO</td>\n      <td>M_202208221057315_001</td>\n      <td>200201030273</td>\n      <td>NaN</td>\n      <td>2022-08-22 오후 4:34:44</td>\n      <td>NaN</td>\n      <td>as119</td>\n      <td>NaN</td>\n      <td>JOB_A11</td>\n      <td>3F남1일반비데(3)</td>\n      <td>기계</td>\n      <td>위생, 탱크설비</td>\n      <td>위생설비</td>\n      <td>비데</td>\n      <td>1</td>\n    </tr>\n  </tbody>\n</table>\n<p>6831 rows × 15 columns</p>\n</div>"
     },
     "execution_count": 114,
     "metadata": {},
     "output_type": "execute_result"
    }
   ],
   "source": [
    "\n",
    "jangbi['자재매칭여부'] = jangbi['job_cd']\n",
    "arr_장비 = list(data['job_cd'])\n",
    "arr_자재 = list(jajae['job_cd'])\n",
    "#자재 매칭이 안되는 경우\n",
    "arr = list(set(arr_장비)- set(arr_자재))\n",
    "\n",
    "def function(x):\n",
    "    if x in arr:\n",
    "        return 0\n",
    "    else:\n",
    "         return 1\n",
    "\n",
    "jangbi['자재매칭여부'] = jangbi['자재매칭여부'].apply(function)\n",
    "\n",
    "jangbi"
   ],
   "metadata": {
    "collapsed": false
   }
  },
  {
   "cell_type": "code",
   "execution_count": 116,
   "outputs": [
    {
     "data": {
      "text/plain": "            job_cd                                  job_nm job_jisi_dt  \\\n0     211001-00059            4동 지하 1층 전기원휴게실내 샤워장 전등점등불량.  2021-10-01   \n1     211001-00081        1동 1구역 2층 복도내 거실통로유도등 점등불량 교체 작업  2021-10-01   \n2     211001-00070             2-1동 옥상층 66번 CCTV PTZ 동작 불량  2021-10-01   \n3     211001-00070             2-1동 옥상층 66번 CCTV PTZ 동작 불량  2021-10-01   \n4     211001-00062  9동 701호해양수산사이버안전센터 분말소화기 받침대 노후로 신품교체.  2021-10-01   \n...            ...                                     ...         ...   \n3392  221011-00023     7-2동 7층 남자화장실, 7-1동 5층 남자화장실 대변기 누수  2022-10-11   \n3393  221011-00037                 11동 1-2 남자화장실 소변기 물 안나옴  2022-10-11   \n3394  221011-00066     13-2동 1층 방재실 R형 수신기 예비전원 불량 교체 (2개)  2022-10-11   \n3395  221011-00066     13-2동 1층 방재실 R형 수신기 예비전원 불량 교체 (2개)  2022-10-11   \n3396  221011-00040  꿈샘어린이집 1층 기계실 소화수조A 레벨스위치 1개 작동불량 교체작업  2022-10-11   \n\n       job_enddt                job_shm                 job_ehm  \\\n0     2021-10-01  2021-10-01 오전 9:00:00   2021-10-01 오전 9:30:00   \n1     2021-10-01  2021-10-01 오후 1:30:00   2021-10-01 오후 1:45:00   \n2     2021-10-01  2021-10-01 오전 9:00:00   2021-10-01 오후 5:31:00   \n3     2021-10-01  2021-10-01 오전 9:00:00   2021-10-01 오후 5:31:00   \n4     2021-10-01  2021-10-01 오후 3:30:00   2021-10-01 오후 4:09:00   \n...          ...                    ...                     ...   \n3392  2022-10-11  2022-10-11 오후 1:30:00   2022-10-11 오후 1:59:00   \n3393  2022-10-11  2022-10-11 오전 9:50:00  2022-10-11 오전 10:10:00   \n3394  2022-10-11  2022-10-11 오후 2:30:00   2022-10-11 오후 3:10:00   \n3395  2022-10-11  2022-10-11 오후 2:30:00   2022-10-11 오후 3:10:00   \n3396  2022-10-11  2022-10-11 오후 1:30:00   2022-10-11 오후 2:30:00   \n\n     job_class_nm_1 job_class_nm_2 job_class_nm_3 job_class_nm_4  ...  \\\n0                4동           지하1층             조명      옥내 LED 조명  ...   \n1            1동 1구역             2층            유도등       거실통로 유도등  ...   \n2            2동 1구역            옥상층          방범시스템       CCTV 카메라  ...   \n3            2동 1구역            옥상층          방범시스템       CCTV 카메라  ...   \n4                9동             7층           소화기구            이동식  ...   \n...             ...            ...            ...            ...  ...   \n3392           7-1동             5층           위생설비            대변기  ...   \n3393          11-1동             1층           위생설비            소변기  ...   \n3394          13-2동             1층       자동화재탐지설비            수신기  ...   \n3395          13-2동             1층       자동화재탐지설비            수신기  ...   \n3396        꿈샘 어린이집             1층           소화수조             수조  ...   \n\n     jangbi_class_nm_4  자재매칭여부    outw_day     mat_cd  outw_qty      mat_nm_x  \\\n0            옥내 LED 조명       1  2021-10-01  413002005         1      LED일체형램프   \n1             거실통로 유도등       1  2021-10-01  504001002         1  거실통로유도등(LED)   \n2             CCTV 카메라       1  2021-10-01  802001001         1         IP카메라   \n3             CCTV 카메라       1  2021-10-01  407001001         1         절연테이프   \n4                  이동식       1  2021-10-01  505009006         2        소화기받침대   \n...                ...     ...         ...        ...       ...           ...   \n3392               대변기       1  2022-10-11  306002012         3          푸쉬로드   \n3393               소변기       1  2022-10-11  110001003         4        알칼리건전지   \n3394               수신기       1  2022-10-11  110002012         2       연(납)축전지   \n3395               수신기       1  2022-10-11  402004012         4            풀리   \n3396                수조       1  2022-10-11  303004014         1     오뚜기식레벨스위치   \n\n      jajae_class_nm_1 jajae_class_nm_2 jajae_class_nm_3 jajae_class_cd_3  \n0                   전기      조명기구/전등/안정기           LED 전구           413002  \n1                   소방             피난설비              유도등           504001  \n2                   방범           영상감지장치             CCTV           802001  \n3                   전기             절연재료              테이프           407001  \n4                   소방             소화기구           소화기구부품           505009  \n...                ...              ...              ...              ...  \n3392                기계             위생기구              대변기           306002  \n3393                공통              건전지              건전지           110001  \n3394                공통              건전지              배터리           110002  \n3395                전기           전선원부자재   케이블 접속재 및 접속자재           402004  \n3396                기계              밸브류            기타밸브류           303004  \n\n[3397 rows x 32 columns]",
      "text/html": "<div>\n<style scoped>\n    .dataframe tbody tr th:only-of-type {\n        vertical-align: middle;\n    }\n\n    .dataframe tbody tr th {\n        vertical-align: top;\n    }\n\n    .dataframe thead th {\n        text-align: right;\n    }\n</style>\n<table border=\"1\" class=\"dataframe\">\n  <thead>\n    <tr style=\"text-align: right;\">\n      <th></th>\n      <th>job_cd</th>\n      <th>job_nm</th>\n      <th>job_jisi_dt</th>\n      <th>job_enddt</th>\n      <th>job_shm</th>\n      <th>job_ehm</th>\n      <th>job_class_nm_1</th>\n      <th>job_class_nm_2</th>\n      <th>job_class_nm_3</th>\n      <th>job_class_nm_4</th>\n      <th>...</th>\n      <th>jangbi_class_nm_4</th>\n      <th>자재매칭여부</th>\n      <th>outw_day</th>\n      <th>mat_cd</th>\n      <th>outw_qty</th>\n      <th>mat_nm_x</th>\n      <th>jajae_class_nm_1</th>\n      <th>jajae_class_nm_2</th>\n      <th>jajae_class_nm_3</th>\n      <th>jajae_class_cd_3</th>\n    </tr>\n  </thead>\n  <tbody>\n    <tr>\n      <th>0</th>\n      <td>211001-00059</td>\n      <td>4동 지하 1층 전기원휴게실내 샤워장 전등점등불량.</td>\n      <td>2021-10-01</td>\n      <td>2021-10-01</td>\n      <td>2021-10-01 오전 9:00:00</td>\n      <td>2021-10-01 오전 9:30:00</td>\n      <td>4동</td>\n      <td>지하1층</td>\n      <td>조명</td>\n      <td>옥내 LED 조명</td>\n      <td>...</td>\n      <td>옥내 LED 조명</td>\n      <td>1</td>\n      <td>2021-10-01</td>\n      <td>413002005</td>\n      <td>1</td>\n      <td>LED일체형램프</td>\n      <td>전기</td>\n      <td>조명기구/전등/안정기</td>\n      <td>LED 전구</td>\n      <td>413002</td>\n    </tr>\n    <tr>\n      <th>1</th>\n      <td>211001-00081</td>\n      <td>1동 1구역 2층 복도내 거실통로유도등 점등불량 교체 작업</td>\n      <td>2021-10-01</td>\n      <td>2021-10-01</td>\n      <td>2021-10-01 오후 1:30:00</td>\n      <td>2021-10-01 오후 1:45:00</td>\n      <td>1동 1구역</td>\n      <td>2층</td>\n      <td>유도등</td>\n      <td>거실통로 유도등</td>\n      <td>...</td>\n      <td>거실통로 유도등</td>\n      <td>1</td>\n      <td>2021-10-01</td>\n      <td>504001002</td>\n      <td>1</td>\n      <td>거실통로유도등(LED)</td>\n      <td>소방</td>\n      <td>피난설비</td>\n      <td>유도등</td>\n      <td>504001</td>\n    </tr>\n    <tr>\n      <th>2</th>\n      <td>211001-00070</td>\n      <td>2-1동 옥상층 66번 CCTV PTZ 동작 불량</td>\n      <td>2021-10-01</td>\n      <td>2021-10-01</td>\n      <td>2021-10-01 오전 9:00:00</td>\n      <td>2021-10-01 오후 5:31:00</td>\n      <td>2동 1구역</td>\n      <td>옥상층</td>\n      <td>방범시스템</td>\n      <td>CCTV 카메라</td>\n      <td>...</td>\n      <td>CCTV 카메라</td>\n      <td>1</td>\n      <td>2021-10-01</td>\n      <td>802001001</td>\n      <td>1</td>\n      <td>IP카메라</td>\n      <td>방범</td>\n      <td>영상감지장치</td>\n      <td>CCTV</td>\n      <td>802001</td>\n    </tr>\n    <tr>\n      <th>3</th>\n      <td>211001-00070</td>\n      <td>2-1동 옥상층 66번 CCTV PTZ 동작 불량</td>\n      <td>2021-10-01</td>\n      <td>2021-10-01</td>\n      <td>2021-10-01 오전 9:00:00</td>\n      <td>2021-10-01 오후 5:31:00</td>\n      <td>2동 1구역</td>\n      <td>옥상층</td>\n      <td>방범시스템</td>\n      <td>CCTV 카메라</td>\n      <td>...</td>\n      <td>CCTV 카메라</td>\n      <td>1</td>\n      <td>2021-10-01</td>\n      <td>407001001</td>\n      <td>1</td>\n      <td>절연테이프</td>\n      <td>전기</td>\n      <td>절연재료</td>\n      <td>테이프</td>\n      <td>407001</td>\n    </tr>\n    <tr>\n      <th>4</th>\n      <td>211001-00062</td>\n      <td>9동 701호해양수산사이버안전센터 분말소화기 받침대 노후로 신품교체.</td>\n      <td>2021-10-01</td>\n      <td>2021-10-01</td>\n      <td>2021-10-01 오후 3:30:00</td>\n      <td>2021-10-01 오후 4:09:00</td>\n      <td>9동</td>\n      <td>7층</td>\n      <td>소화기구</td>\n      <td>이동식</td>\n      <td>...</td>\n      <td>이동식</td>\n      <td>1</td>\n      <td>2021-10-01</td>\n      <td>505009006</td>\n      <td>2</td>\n      <td>소화기받침대</td>\n      <td>소방</td>\n      <td>소화기구</td>\n      <td>소화기구부품</td>\n      <td>505009</td>\n    </tr>\n    <tr>\n      <th>...</th>\n      <td>...</td>\n      <td>...</td>\n      <td>...</td>\n      <td>...</td>\n      <td>...</td>\n      <td>...</td>\n      <td>...</td>\n      <td>...</td>\n      <td>...</td>\n      <td>...</td>\n      <td>...</td>\n      <td>...</td>\n      <td>...</td>\n      <td>...</td>\n      <td>...</td>\n      <td>...</td>\n      <td>...</td>\n      <td>...</td>\n      <td>...</td>\n      <td>...</td>\n      <td>...</td>\n    </tr>\n    <tr>\n      <th>3392</th>\n      <td>221011-00023</td>\n      <td>7-2동 7층 남자화장실, 7-1동 5층 남자화장실 대변기 누수</td>\n      <td>2022-10-11</td>\n      <td>2022-10-11</td>\n      <td>2022-10-11 오후 1:30:00</td>\n      <td>2022-10-11 오후 1:59:00</td>\n      <td>7-1동</td>\n      <td>5층</td>\n      <td>위생설비</td>\n      <td>대변기</td>\n      <td>...</td>\n      <td>대변기</td>\n      <td>1</td>\n      <td>2022-10-11</td>\n      <td>306002012</td>\n      <td>3</td>\n      <td>푸쉬로드</td>\n      <td>기계</td>\n      <td>위생기구</td>\n      <td>대변기</td>\n      <td>306002</td>\n    </tr>\n    <tr>\n      <th>3393</th>\n      <td>221011-00037</td>\n      <td>11동 1-2 남자화장실 소변기 물 안나옴</td>\n      <td>2022-10-11</td>\n      <td>2022-10-11</td>\n      <td>2022-10-11 오전 9:50:00</td>\n      <td>2022-10-11 오전 10:10:00</td>\n      <td>11-1동</td>\n      <td>1층</td>\n      <td>위생설비</td>\n      <td>소변기</td>\n      <td>...</td>\n      <td>소변기</td>\n      <td>1</td>\n      <td>2022-10-11</td>\n      <td>110001003</td>\n      <td>4</td>\n      <td>알칼리건전지</td>\n      <td>공통</td>\n      <td>건전지</td>\n      <td>건전지</td>\n      <td>110001</td>\n    </tr>\n    <tr>\n      <th>3394</th>\n      <td>221011-00066</td>\n      <td>13-2동 1층 방재실 R형 수신기 예비전원 불량 교체 (2개)</td>\n      <td>2022-10-11</td>\n      <td>2022-10-11</td>\n      <td>2022-10-11 오후 2:30:00</td>\n      <td>2022-10-11 오후 3:10:00</td>\n      <td>13-2동</td>\n      <td>1층</td>\n      <td>자동화재탐지설비</td>\n      <td>수신기</td>\n      <td>...</td>\n      <td>수신기</td>\n      <td>1</td>\n      <td>2022-10-11</td>\n      <td>110002012</td>\n      <td>2</td>\n      <td>연(납)축전지</td>\n      <td>공통</td>\n      <td>건전지</td>\n      <td>배터리</td>\n      <td>110002</td>\n    </tr>\n    <tr>\n      <th>3395</th>\n      <td>221011-00066</td>\n      <td>13-2동 1층 방재실 R형 수신기 예비전원 불량 교체 (2개)</td>\n      <td>2022-10-11</td>\n      <td>2022-10-11</td>\n      <td>2022-10-11 오후 2:30:00</td>\n      <td>2022-10-11 오후 3:10:00</td>\n      <td>13-2동</td>\n      <td>1층</td>\n      <td>자동화재탐지설비</td>\n      <td>수신기</td>\n      <td>...</td>\n      <td>수신기</td>\n      <td>1</td>\n      <td>2022-10-11</td>\n      <td>402004012</td>\n      <td>4</td>\n      <td>풀리</td>\n      <td>전기</td>\n      <td>전선원부자재</td>\n      <td>케이블 접속재 및 접속자재</td>\n      <td>402004</td>\n    </tr>\n    <tr>\n      <th>3396</th>\n      <td>221011-00040</td>\n      <td>꿈샘어린이집 1층 기계실 소화수조A 레벨스위치 1개 작동불량 교체작업</td>\n      <td>2022-10-11</td>\n      <td>2022-10-11</td>\n      <td>2022-10-11 오후 1:30:00</td>\n      <td>2022-10-11 오후 2:30:00</td>\n      <td>꿈샘 어린이집</td>\n      <td>1층</td>\n      <td>소화수조</td>\n      <td>수조</td>\n      <td>...</td>\n      <td>수조</td>\n      <td>1</td>\n      <td>2022-10-11</td>\n      <td>303004014</td>\n      <td>1</td>\n      <td>오뚜기식레벨스위치</td>\n      <td>기계</td>\n      <td>밸브류</td>\n      <td>기타밸브류</td>\n      <td>303004</td>\n    </tr>\n  </tbody>\n</table>\n<p>3397 rows × 32 columns</p>\n</div>"
     },
     "execution_count": 116,
     "metadata": {},
     "output_type": "execute_result"
    }
   ],
   "source": [
    "df"
   ],
   "metadata": {
    "collapsed": false
   }
  },
  {
   "cell_type": "code",
   "execution_count": 120,
   "outputs": [
    {
     "data": {
      "text/plain": "            job_cd                                  job_nm job_jisi_dt  \\\n0     211001-00059            4동 지하 1층 전기원휴게실내 샤워장 전등점등불량.  2021-10-01   \n1     211001-00081        1동 1구역 2층 복도내 거실통로유도등 점등불량 교체 작업  2021-10-01   \n2     211001-00070             2-1동 옥상층 66번 CCTV PTZ 동작 불량  2021-10-01   \n3     211001-00070             2-1동 옥상층 66번 CCTV PTZ 동작 불량  2021-10-01   \n4     211001-00062  9동 701호해양수산사이버안전센터 분말소화기 받침대 노후로 신품교체.  2021-10-01   \n...            ...                                     ...         ...   \n3392  221011-00023     7-2동 7층 남자화장실, 7-1동 5층 남자화장실 대변기 누수  2022-10-11   \n3393  221011-00037                 11동 1-2 남자화장실 소변기 물 안나옴  2022-10-11   \n3394  221011-00066     13-2동 1층 방재실 R형 수신기 예비전원 불량 교체 (2개)  2022-10-11   \n3395  221011-00066     13-2동 1층 방재실 R형 수신기 예비전원 불량 교체 (2개)  2022-10-11   \n3396  221011-00040  꿈샘어린이집 1층 기계실 소화수조A 레벨스위치 1개 작동불량 교체작업  2022-10-11   \n\n       job_enddt                job_shm                 job_ehm  \\\n0     2021-10-01  2021-10-01 오전 9:00:00   2021-10-01 오전 9:30:00   \n1     2021-10-01  2021-10-01 오후 1:30:00   2021-10-01 오후 1:45:00   \n2     2021-10-01  2021-10-01 오전 9:00:00   2021-10-01 오후 5:31:00   \n3     2021-10-01  2021-10-01 오전 9:00:00   2021-10-01 오후 5:31:00   \n4     2021-10-01  2021-10-01 오후 3:30:00   2021-10-01 오후 4:09:00   \n...          ...                    ...                     ...   \n3392  2022-10-11  2022-10-11 오후 1:30:00   2022-10-11 오후 1:59:00   \n3393  2022-10-11  2022-10-11 오전 9:50:00  2022-10-11 오전 10:10:00   \n3394  2022-10-11  2022-10-11 오후 2:30:00   2022-10-11 오후 3:10:00   \n3395  2022-10-11  2022-10-11 오후 2:30:00   2022-10-11 오후 3:10:00   \n3396  2022-10-11  2022-10-11 오후 1:30:00   2022-10-11 오후 2:30:00   \n\n     job_class_nm_1 job_class_nm_2 job_class_nm_3 job_class_nm_4  ...  \\\n0                4동           지하1층             조명      옥내 LED 조명  ...   \n1            1동 1구역             2층            유도등       거실통로 유도등  ...   \n2            2동 1구역            옥상층          방범시스템       CCTV 카메라  ...   \n3            2동 1구역            옥상층          방범시스템       CCTV 카메라  ...   \n4                9동             7층           소화기구            이동식  ...   \n...             ...            ...            ...            ...  ...   \n3392           7-1동             5층           위생설비            대변기  ...   \n3393          11-1동             1층           위생설비            소변기  ...   \n3394          13-2동             1층       자동화재탐지설비            수신기  ...   \n3395          13-2동             1층       자동화재탐지설비            수신기  ...   \n3396        꿈샘 어린이집             1층           소화수조             수조  ...   \n\n      jangbi_class_nm_1 jangbi_class_nm_2 jangbi_class_nm_3 jangbi_class_nm_4  \\\n0                    전기            전력부하설비                조명         옥내 LED 조명   \n1                    방재              피난설비               유도등          거실통로 유도등   \n2                    통신              방범설비             방범시스템          CCTV 카메라   \n3                    통신              방범설비             방범시스템          CCTV 카메라   \n4                    방재              소화설비              소화기구               이동식   \n...                 ...               ...               ...               ...   \n3392                 기계          위생, 탱크설비              위생설비               대변기   \n3393                 기계          위생, 탱크설비              위생설비               소변기   \n3394                 방재              경보설비          자동화재탐지설비               수신기   \n3395                 방재              경보설비          자동화재탐지설비               수신기   \n3396                 방재            소화용수설비              소화수조                수조   \n\n     자재매칭여부      mat_nm_x jajae_class_nm_1 jajae_class_nm_2  jajae_class_nm_3  \\\n0         1      LED일체형램프               전기      조명기구/전등/안정기            LED 전구   \n1         1  거실통로유도등(LED)               소방             피난설비               유도등   \n2         1         IP카메라               방범           영상감지장치              CCTV   \n3         1         절연테이프               전기             절연재료               테이프   \n4         1        소화기받침대               소방             소화기구            소화기구부품   \n...     ...           ...              ...              ...               ...   \n3392      1          푸쉬로드               기계             위생기구               대변기   \n3393      1        알칼리건전지               공통              건전지               건전지   \n3394      1       연(납)축전지               공통              건전지               배터리   \n3395      1            풀리               전기           전선원부자재    케이블 접속재 및 접속자재   \n3396      1     오뚜기식레벨스위치               기계              밸브류             기타밸브류   \n\n     jajae_class_cd_3  \n0              413002  \n1              504001  \n2              802001  \n3              407001  \n4              505009  \n...               ...  \n3392           306002  \n3393           110001  \n3394           110002  \n3395           402004  \n3396           303004  \n\n[3397 rows x 24 columns]",
      "text/html": "<div>\n<style scoped>\n    .dataframe tbody tr th:only-of-type {\n        vertical-align: middle;\n    }\n\n    .dataframe tbody tr th {\n        vertical-align: top;\n    }\n\n    .dataframe thead th {\n        text-align: right;\n    }\n</style>\n<table border=\"1\" class=\"dataframe\">\n  <thead>\n    <tr style=\"text-align: right;\">\n      <th></th>\n      <th>job_cd</th>\n      <th>job_nm</th>\n      <th>job_jisi_dt</th>\n      <th>job_enddt</th>\n      <th>job_shm</th>\n      <th>job_ehm</th>\n      <th>job_class_nm_1</th>\n      <th>job_class_nm_2</th>\n      <th>job_class_nm_3</th>\n      <th>job_class_nm_4</th>\n      <th>...</th>\n      <th>jangbi_class_nm_1</th>\n      <th>jangbi_class_nm_2</th>\n      <th>jangbi_class_nm_3</th>\n      <th>jangbi_class_nm_4</th>\n      <th>자재매칭여부</th>\n      <th>mat_nm_x</th>\n      <th>jajae_class_nm_1</th>\n      <th>jajae_class_nm_2</th>\n      <th>jajae_class_nm_3</th>\n      <th>jajae_class_cd_3</th>\n    </tr>\n  </thead>\n  <tbody>\n    <tr>\n      <th>0</th>\n      <td>211001-00059</td>\n      <td>4동 지하 1층 전기원휴게실내 샤워장 전등점등불량.</td>\n      <td>2021-10-01</td>\n      <td>2021-10-01</td>\n      <td>2021-10-01 오전 9:00:00</td>\n      <td>2021-10-01 오전 9:30:00</td>\n      <td>4동</td>\n      <td>지하1층</td>\n      <td>조명</td>\n      <td>옥내 LED 조명</td>\n      <td>...</td>\n      <td>전기</td>\n      <td>전력부하설비</td>\n      <td>조명</td>\n      <td>옥내 LED 조명</td>\n      <td>1</td>\n      <td>LED일체형램프</td>\n      <td>전기</td>\n      <td>조명기구/전등/안정기</td>\n      <td>LED 전구</td>\n      <td>413002</td>\n    </tr>\n    <tr>\n      <th>1</th>\n      <td>211001-00081</td>\n      <td>1동 1구역 2층 복도내 거실통로유도등 점등불량 교체 작업</td>\n      <td>2021-10-01</td>\n      <td>2021-10-01</td>\n      <td>2021-10-01 오후 1:30:00</td>\n      <td>2021-10-01 오후 1:45:00</td>\n      <td>1동 1구역</td>\n      <td>2층</td>\n      <td>유도등</td>\n      <td>거실통로 유도등</td>\n      <td>...</td>\n      <td>방재</td>\n      <td>피난설비</td>\n      <td>유도등</td>\n      <td>거실통로 유도등</td>\n      <td>1</td>\n      <td>거실통로유도등(LED)</td>\n      <td>소방</td>\n      <td>피난설비</td>\n      <td>유도등</td>\n      <td>504001</td>\n    </tr>\n    <tr>\n      <th>2</th>\n      <td>211001-00070</td>\n      <td>2-1동 옥상층 66번 CCTV PTZ 동작 불량</td>\n      <td>2021-10-01</td>\n      <td>2021-10-01</td>\n      <td>2021-10-01 오전 9:00:00</td>\n      <td>2021-10-01 오후 5:31:00</td>\n      <td>2동 1구역</td>\n      <td>옥상층</td>\n      <td>방범시스템</td>\n      <td>CCTV 카메라</td>\n      <td>...</td>\n      <td>통신</td>\n      <td>방범설비</td>\n      <td>방범시스템</td>\n      <td>CCTV 카메라</td>\n      <td>1</td>\n      <td>IP카메라</td>\n      <td>방범</td>\n      <td>영상감지장치</td>\n      <td>CCTV</td>\n      <td>802001</td>\n    </tr>\n    <tr>\n      <th>3</th>\n      <td>211001-00070</td>\n      <td>2-1동 옥상층 66번 CCTV PTZ 동작 불량</td>\n      <td>2021-10-01</td>\n      <td>2021-10-01</td>\n      <td>2021-10-01 오전 9:00:00</td>\n      <td>2021-10-01 오후 5:31:00</td>\n      <td>2동 1구역</td>\n      <td>옥상층</td>\n      <td>방범시스템</td>\n      <td>CCTV 카메라</td>\n      <td>...</td>\n      <td>통신</td>\n      <td>방범설비</td>\n      <td>방범시스템</td>\n      <td>CCTV 카메라</td>\n      <td>1</td>\n      <td>절연테이프</td>\n      <td>전기</td>\n      <td>절연재료</td>\n      <td>테이프</td>\n      <td>407001</td>\n    </tr>\n    <tr>\n      <th>4</th>\n      <td>211001-00062</td>\n      <td>9동 701호해양수산사이버안전센터 분말소화기 받침대 노후로 신품교체.</td>\n      <td>2021-10-01</td>\n      <td>2021-10-01</td>\n      <td>2021-10-01 오후 3:30:00</td>\n      <td>2021-10-01 오후 4:09:00</td>\n      <td>9동</td>\n      <td>7층</td>\n      <td>소화기구</td>\n      <td>이동식</td>\n      <td>...</td>\n      <td>방재</td>\n      <td>소화설비</td>\n      <td>소화기구</td>\n      <td>이동식</td>\n      <td>1</td>\n      <td>소화기받침대</td>\n      <td>소방</td>\n      <td>소화기구</td>\n      <td>소화기구부품</td>\n      <td>505009</td>\n    </tr>\n    <tr>\n      <th>...</th>\n      <td>...</td>\n      <td>...</td>\n      <td>...</td>\n      <td>...</td>\n      <td>...</td>\n      <td>...</td>\n      <td>...</td>\n      <td>...</td>\n      <td>...</td>\n      <td>...</td>\n      <td>...</td>\n      <td>...</td>\n      <td>...</td>\n      <td>...</td>\n      <td>...</td>\n      <td>...</td>\n      <td>...</td>\n      <td>...</td>\n      <td>...</td>\n      <td>...</td>\n      <td>...</td>\n    </tr>\n    <tr>\n      <th>3392</th>\n      <td>221011-00023</td>\n      <td>7-2동 7층 남자화장실, 7-1동 5층 남자화장실 대변기 누수</td>\n      <td>2022-10-11</td>\n      <td>2022-10-11</td>\n      <td>2022-10-11 오후 1:30:00</td>\n      <td>2022-10-11 오후 1:59:00</td>\n      <td>7-1동</td>\n      <td>5층</td>\n      <td>위생설비</td>\n      <td>대변기</td>\n      <td>...</td>\n      <td>기계</td>\n      <td>위생, 탱크설비</td>\n      <td>위생설비</td>\n      <td>대변기</td>\n      <td>1</td>\n      <td>푸쉬로드</td>\n      <td>기계</td>\n      <td>위생기구</td>\n      <td>대변기</td>\n      <td>306002</td>\n    </tr>\n    <tr>\n      <th>3393</th>\n      <td>221011-00037</td>\n      <td>11동 1-2 남자화장실 소변기 물 안나옴</td>\n      <td>2022-10-11</td>\n      <td>2022-10-11</td>\n      <td>2022-10-11 오전 9:50:00</td>\n      <td>2022-10-11 오전 10:10:00</td>\n      <td>11-1동</td>\n      <td>1층</td>\n      <td>위생설비</td>\n      <td>소변기</td>\n      <td>...</td>\n      <td>기계</td>\n      <td>위생, 탱크설비</td>\n      <td>위생설비</td>\n      <td>소변기</td>\n      <td>1</td>\n      <td>알칼리건전지</td>\n      <td>공통</td>\n      <td>건전지</td>\n      <td>건전지</td>\n      <td>110001</td>\n    </tr>\n    <tr>\n      <th>3394</th>\n      <td>221011-00066</td>\n      <td>13-2동 1층 방재실 R형 수신기 예비전원 불량 교체 (2개)</td>\n      <td>2022-10-11</td>\n      <td>2022-10-11</td>\n      <td>2022-10-11 오후 2:30:00</td>\n      <td>2022-10-11 오후 3:10:00</td>\n      <td>13-2동</td>\n      <td>1층</td>\n      <td>자동화재탐지설비</td>\n      <td>수신기</td>\n      <td>...</td>\n      <td>방재</td>\n      <td>경보설비</td>\n      <td>자동화재탐지설비</td>\n      <td>수신기</td>\n      <td>1</td>\n      <td>연(납)축전지</td>\n      <td>공통</td>\n      <td>건전지</td>\n      <td>배터리</td>\n      <td>110002</td>\n    </tr>\n    <tr>\n      <th>3395</th>\n      <td>221011-00066</td>\n      <td>13-2동 1층 방재실 R형 수신기 예비전원 불량 교체 (2개)</td>\n      <td>2022-10-11</td>\n      <td>2022-10-11</td>\n      <td>2022-10-11 오후 2:30:00</td>\n      <td>2022-10-11 오후 3:10:00</td>\n      <td>13-2동</td>\n      <td>1층</td>\n      <td>자동화재탐지설비</td>\n      <td>수신기</td>\n      <td>...</td>\n      <td>방재</td>\n      <td>경보설비</td>\n      <td>자동화재탐지설비</td>\n      <td>수신기</td>\n      <td>1</td>\n      <td>풀리</td>\n      <td>전기</td>\n      <td>전선원부자재</td>\n      <td>케이블 접속재 및 접속자재</td>\n      <td>402004</td>\n    </tr>\n    <tr>\n      <th>3396</th>\n      <td>221011-00040</td>\n      <td>꿈샘어린이집 1층 기계실 소화수조A 레벨스위치 1개 작동불량 교체작업</td>\n      <td>2022-10-11</td>\n      <td>2022-10-11</td>\n      <td>2022-10-11 오후 1:30:00</td>\n      <td>2022-10-11 오후 2:30:00</td>\n      <td>꿈샘 어린이집</td>\n      <td>1층</td>\n      <td>소화수조</td>\n      <td>수조</td>\n      <td>...</td>\n      <td>방재</td>\n      <td>소화용수설비</td>\n      <td>소화수조</td>\n      <td>수조</td>\n      <td>1</td>\n      <td>오뚜기식레벨스위치</td>\n      <td>기계</td>\n      <td>밸브류</td>\n      <td>기타밸브류</td>\n      <td>303004</td>\n    </tr>\n  </tbody>\n</table>\n<p>3397 rows × 24 columns</p>\n</div>"
     },
     "execution_count": 120,
     "metadata": {},
     "output_type": "execute_result"
    }
   ],
   "source": [
    "final = df[['job_cd','job_nm','job_jisi_dt','job_enddt','job_shm','job_ehm','job_class_nm_1','job_class_nm_2','job_class_nm_3','job_class_nm_4','fac_cd','fac_nm','mat_cd','mat_nm_x',\n",
    "           'jangbi_class_nm_1','jangbi_class_nm_2','jangbi_class_nm_3','jangbi_class_nm_4','자재매칭여부','mat_nm_x','jajae_class_nm_1','jajae_class_nm_2','jajae_class_nm_3','jajae_class_cd_3']]\n",
    "final"
   ],
   "metadata": {
    "collapsed": false
   }
  },
  {
   "cell_type": "markdown",
   "source": [
    "# 장비건수는 장비클래스네임 개수\n",
    "# 자재건수는 작업장비코드 건수\n",
    "# 이유는? >> 작업코드로 하면 같은 작업코드에 여러개 장비를 수정한 경우가 있으므로 장애 수를 정확히 예측할 수 없음\n",
    "# 자재건수를 작업장비코드 건수로 하는 이유는 ? > 매칭비율 이기 때문에 같은 작업코드 이지만 다른장비 일 경우 같은 자재를 사용하므로 같은 작업임"
   ],
   "metadata": {
    "collapsed": false
   }
  },
  {
   "cell_type": "code",
   "execution_count": 120,
   "outputs": [],
   "source": [],
   "metadata": {
    "collapsed": false
   }
  },
  {
   "cell_type": "code",
   "execution_count": 121,
   "outputs": [
    {
     "data": {
      "text/plain": "            job_cd                                          job_nm  \\\n30    211005-00035                        17-1동 3층 옥외정원 문 앞 배터리 교체   \n183   211022-00008           전시동2층 1번계단실내 복합유도등(피난구유도등) 점등불량 교체 작업   \n247   211103-00064                      7-1동 5층 피난구유도등 예비전원 교체 2개소   \n248   211103-00027          10-2동 9~10동 연결통로 천장형 피난구유도등 점등불량으로 교체.   \n341   211109-00034               15-1동 2층 207호 입구 피난구유도등 점등불량으로 교체   \n...            ...                                             ...   \n2919  220826-00009        13-1동 6층 30호기 E/V 앞 피난구 유도등 예비전원 불량으로 교체   \n2940  220829-00021         7-2동 3층 314호 출입구 피난구유도등 1개 예비전원 불량 교체작업   \n2946  220829-00027            13-2동 5층 550호 앞 피난구 유도등 예비전원 불량으로 교체   \n2956  220830-00031  12-3동 윤빛어린이집 2층 신체활동실 음성복합 피난구유도등 예비전원 불량으로 교체   \n3371  221006-00077       10-2동 315호 대변인실 천장형 피난구유도등 양면형을 단면형으로 교체.   \n\n     job_jisi_dt   job_enddt                 job_shm                 job_ehm  \\\n30    2021-10-05  2021-10-05   2021-10-05 오후 2:40:00   2021-10-05 오후 3:05:00   \n183   2021-10-22  2021-10-22  2021-10-22 오전 10:00:00  2021-10-22 오전 10:30:00   \n247   2021-11-03  2021-11-03   2021-11-03 오후 3:00:00   2021-11-03 오후 5:30:00   \n248   2021-11-03  2021-11-03   2021-11-03 오후 1:26:00   2021-11-03 오후 2:20:00   \n341   2021-11-09  2021-11-09   2021-11-09 오후 1:30:00   2021-11-09 오후 2:30:00   \n...          ...         ...                     ...                     ...   \n2919  2022-08-26  2022-08-26   2022-08-26 오후 1:30:00   2022-08-26 오후 2:00:00   \n2940  2022-08-29  2022-08-29   2022-08-29 오전 9:54:00  2022-08-29 오전 10:54:00   \n2946  2022-08-29  2022-08-29   2022-08-29 오후 2:00:00   2022-08-29 오후 2:40:00   \n2956  2022-08-30  2022-08-30  2022-08-30 오전 10:00:00  2022-08-30 오전 10:40:00   \n3371  2022-10-06  2022-10-06   2022-10-06 오후 1:20:00   2022-10-06 오후 1:50:00   \n\n     job_class_nm_1 job_class_nm_2 job_class_nm_3 job_class_nm_4  ...  \\\n30            17-1동             3층            유도등        피난구 유도등  ...   \n183          SCC전시동             2층            유도등        피난구 유도등  ...   \n247            7-1동             5층            유도등        피난구 유도등  ...   \n248           10-2동             6층            유도등        피난구 유도등  ...   \n341           15-1동             2층            유도등        피난구 유도등  ...   \n...             ...            ...            ...            ...  ...   \n2919          13-1동             6층            유도등        피난구 유도등  ...   \n2940           7-2동             3층            유도등        피난구 유도등  ...   \n2946          13-2동             5층            유도등        피난구 유도등  ...   \n2956          12-3동             2층            유도등        피난구 유도등  ...   \n3371          10-2동             3층            유도등        피난구 유도등  ...   \n\n      jangbi_class_nm_1 jangbi_class_nm_2 jangbi_class_nm_3 jangbi_class_nm_4  \\\n30                   방재              피난설비               유도등           피난구 유도등   \n183                  방재              피난설비               유도등           피난구 유도등   \n247                  방재              피난설비               유도등           피난구 유도등   \n248                  방재              피난설비               유도등           피난구 유도등   \n341                  방재              피난설비               유도등           피난구 유도등   \n...                 ...               ...               ...               ...   \n2919                 방재              피난설비               유도등           피난구 유도등   \n2940                 방재              피난설비               유도등           피난구 유도등   \n2946                 방재              피난설비               유도등           피난구 유도등   \n2956                 방재              피난설비               유도등           피난구 유도등   \n3371                 방재              피난설비               유도등           피난구 유도등   \n\n     자재매칭여부           mat_nm_x jajae_class_nm_1 jajae_class_nm_2  \\\n30        1         피난구유도등 배터리               공통              건전지   \n183       1        피난구유도등(LED)               소방             피난설비   \n247       1  니켈카드뮴축전지(Ni-Cd)중율               공통              건전지   \n248       1             피난구유도등               소방             피난설비   \n341       1             피난구유도등               소방             피난설비   \n...     ...                ...              ...              ...   \n2919      1  니켈카드뮴축전지(Ni-Cd)중율               공통              건전지   \n2940      1  니켈카드뮴축전지(Ni-Cd)중율               공통              건전지   \n2946      1  니켈카드뮴축전지(Ni-Cd)중율               공통              건전지   \n2956      1  니켈카드뮴축전지(Ni-Cd)중율               공통              건전지   \n3371      1             피난구유도등               소방             피난설비   \n\n      jajae_class_nm_3 jajae_class_cd_3  \n30                 배터리           110002  \n183                유도등           504001  \n247                배터리           110002  \n248                유도등           504001  \n341                유도등           504001  \n...                ...              ...  \n2919               배터리           110002  \n2940               배터리           110002  \n2946               배터리           110002  \n2956               배터리           110002  \n3371               유도등           504001  \n\n[137 rows x 24 columns]",
      "text/html": "<div>\n<style scoped>\n    .dataframe tbody tr th:only-of-type {\n        vertical-align: middle;\n    }\n\n    .dataframe tbody tr th {\n        vertical-align: top;\n    }\n\n    .dataframe thead th {\n        text-align: right;\n    }\n</style>\n<table border=\"1\" class=\"dataframe\">\n  <thead>\n    <tr style=\"text-align: right;\">\n      <th></th>\n      <th>job_cd</th>\n      <th>job_nm</th>\n      <th>job_jisi_dt</th>\n      <th>job_enddt</th>\n      <th>job_shm</th>\n      <th>job_ehm</th>\n      <th>job_class_nm_1</th>\n      <th>job_class_nm_2</th>\n      <th>job_class_nm_3</th>\n      <th>job_class_nm_4</th>\n      <th>...</th>\n      <th>jangbi_class_nm_1</th>\n      <th>jangbi_class_nm_2</th>\n      <th>jangbi_class_nm_3</th>\n      <th>jangbi_class_nm_4</th>\n      <th>자재매칭여부</th>\n      <th>mat_nm_x</th>\n      <th>jajae_class_nm_1</th>\n      <th>jajae_class_nm_2</th>\n      <th>jajae_class_nm_3</th>\n      <th>jajae_class_cd_3</th>\n    </tr>\n  </thead>\n  <tbody>\n    <tr>\n      <th>30</th>\n      <td>211005-00035</td>\n      <td>17-1동 3층 옥외정원 문 앞 배터리 교체</td>\n      <td>2021-10-05</td>\n      <td>2021-10-05</td>\n      <td>2021-10-05 오후 2:40:00</td>\n      <td>2021-10-05 오후 3:05:00</td>\n      <td>17-1동</td>\n      <td>3층</td>\n      <td>유도등</td>\n      <td>피난구 유도등</td>\n      <td>...</td>\n      <td>방재</td>\n      <td>피난설비</td>\n      <td>유도등</td>\n      <td>피난구 유도등</td>\n      <td>1</td>\n      <td>피난구유도등 배터리</td>\n      <td>공통</td>\n      <td>건전지</td>\n      <td>배터리</td>\n      <td>110002</td>\n    </tr>\n    <tr>\n      <th>183</th>\n      <td>211022-00008</td>\n      <td>전시동2층 1번계단실내 복합유도등(피난구유도등) 점등불량 교체 작업</td>\n      <td>2021-10-22</td>\n      <td>2021-10-22</td>\n      <td>2021-10-22 오전 10:00:00</td>\n      <td>2021-10-22 오전 10:30:00</td>\n      <td>SCC전시동</td>\n      <td>2층</td>\n      <td>유도등</td>\n      <td>피난구 유도등</td>\n      <td>...</td>\n      <td>방재</td>\n      <td>피난설비</td>\n      <td>유도등</td>\n      <td>피난구 유도등</td>\n      <td>1</td>\n      <td>피난구유도등(LED)</td>\n      <td>소방</td>\n      <td>피난설비</td>\n      <td>유도등</td>\n      <td>504001</td>\n    </tr>\n    <tr>\n      <th>247</th>\n      <td>211103-00064</td>\n      <td>7-1동 5층 피난구유도등 예비전원 교체 2개소</td>\n      <td>2021-11-03</td>\n      <td>2021-11-03</td>\n      <td>2021-11-03 오후 3:00:00</td>\n      <td>2021-11-03 오후 5:30:00</td>\n      <td>7-1동</td>\n      <td>5층</td>\n      <td>유도등</td>\n      <td>피난구 유도등</td>\n      <td>...</td>\n      <td>방재</td>\n      <td>피난설비</td>\n      <td>유도등</td>\n      <td>피난구 유도등</td>\n      <td>1</td>\n      <td>니켈카드뮴축전지(Ni-Cd)중율</td>\n      <td>공통</td>\n      <td>건전지</td>\n      <td>배터리</td>\n      <td>110002</td>\n    </tr>\n    <tr>\n      <th>248</th>\n      <td>211103-00027</td>\n      <td>10-2동 9~10동 연결통로 천장형 피난구유도등 점등불량으로 교체.</td>\n      <td>2021-11-03</td>\n      <td>2021-11-03</td>\n      <td>2021-11-03 오후 1:26:00</td>\n      <td>2021-11-03 오후 2:20:00</td>\n      <td>10-2동</td>\n      <td>6층</td>\n      <td>유도등</td>\n      <td>피난구 유도등</td>\n      <td>...</td>\n      <td>방재</td>\n      <td>피난설비</td>\n      <td>유도등</td>\n      <td>피난구 유도등</td>\n      <td>1</td>\n      <td>피난구유도등</td>\n      <td>소방</td>\n      <td>피난설비</td>\n      <td>유도등</td>\n      <td>504001</td>\n    </tr>\n    <tr>\n      <th>341</th>\n      <td>211109-00034</td>\n      <td>15-1동 2층 207호 입구 피난구유도등 점등불량으로 교체</td>\n      <td>2021-11-09</td>\n      <td>2021-11-09</td>\n      <td>2021-11-09 오후 1:30:00</td>\n      <td>2021-11-09 오후 2:30:00</td>\n      <td>15-1동</td>\n      <td>2층</td>\n      <td>유도등</td>\n      <td>피난구 유도등</td>\n      <td>...</td>\n      <td>방재</td>\n      <td>피난설비</td>\n      <td>유도등</td>\n      <td>피난구 유도등</td>\n      <td>1</td>\n      <td>피난구유도등</td>\n      <td>소방</td>\n      <td>피난설비</td>\n      <td>유도등</td>\n      <td>504001</td>\n    </tr>\n    <tr>\n      <th>...</th>\n      <td>...</td>\n      <td>...</td>\n      <td>...</td>\n      <td>...</td>\n      <td>...</td>\n      <td>...</td>\n      <td>...</td>\n      <td>...</td>\n      <td>...</td>\n      <td>...</td>\n      <td>...</td>\n      <td>...</td>\n      <td>...</td>\n      <td>...</td>\n      <td>...</td>\n      <td>...</td>\n      <td>...</td>\n      <td>...</td>\n      <td>...</td>\n      <td>...</td>\n      <td>...</td>\n    </tr>\n    <tr>\n      <th>2919</th>\n      <td>220826-00009</td>\n      <td>13-1동 6층 30호기 E/V 앞 피난구 유도등 예비전원 불량으로 교체</td>\n      <td>2022-08-26</td>\n      <td>2022-08-26</td>\n      <td>2022-08-26 오후 1:30:00</td>\n      <td>2022-08-26 오후 2:00:00</td>\n      <td>13-1동</td>\n      <td>6층</td>\n      <td>유도등</td>\n      <td>피난구 유도등</td>\n      <td>...</td>\n      <td>방재</td>\n      <td>피난설비</td>\n      <td>유도등</td>\n      <td>피난구 유도등</td>\n      <td>1</td>\n      <td>니켈카드뮴축전지(Ni-Cd)중율</td>\n      <td>공통</td>\n      <td>건전지</td>\n      <td>배터리</td>\n      <td>110002</td>\n    </tr>\n    <tr>\n      <th>2940</th>\n      <td>220829-00021</td>\n      <td>7-2동 3층 314호 출입구 피난구유도등 1개 예비전원 불량 교체작업</td>\n      <td>2022-08-29</td>\n      <td>2022-08-29</td>\n      <td>2022-08-29 오전 9:54:00</td>\n      <td>2022-08-29 오전 10:54:00</td>\n      <td>7-2동</td>\n      <td>3층</td>\n      <td>유도등</td>\n      <td>피난구 유도등</td>\n      <td>...</td>\n      <td>방재</td>\n      <td>피난설비</td>\n      <td>유도등</td>\n      <td>피난구 유도등</td>\n      <td>1</td>\n      <td>니켈카드뮴축전지(Ni-Cd)중율</td>\n      <td>공통</td>\n      <td>건전지</td>\n      <td>배터리</td>\n      <td>110002</td>\n    </tr>\n    <tr>\n      <th>2946</th>\n      <td>220829-00027</td>\n      <td>13-2동 5층 550호 앞 피난구 유도등 예비전원 불량으로 교체</td>\n      <td>2022-08-29</td>\n      <td>2022-08-29</td>\n      <td>2022-08-29 오후 2:00:00</td>\n      <td>2022-08-29 오후 2:40:00</td>\n      <td>13-2동</td>\n      <td>5층</td>\n      <td>유도등</td>\n      <td>피난구 유도등</td>\n      <td>...</td>\n      <td>방재</td>\n      <td>피난설비</td>\n      <td>유도등</td>\n      <td>피난구 유도등</td>\n      <td>1</td>\n      <td>니켈카드뮴축전지(Ni-Cd)중율</td>\n      <td>공통</td>\n      <td>건전지</td>\n      <td>배터리</td>\n      <td>110002</td>\n    </tr>\n    <tr>\n      <th>2956</th>\n      <td>220830-00031</td>\n      <td>12-3동 윤빛어린이집 2층 신체활동실 음성복합 피난구유도등 예비전원 불량으로 교체</td>\n      <td>2022-08-30</td>\n      <td>2022-08-30</td>\n      <td>2022-08-30 오전 10:00:00</td>\n      <td>2022-08-30 오전 10:40:00</td>\n      <td>12-3동</td>\n      <td>2층</td>\n      <td>유도등</td>\n      <td>피난구 유도등</td>\n      <td>...</td>\n      <td>방재</td>\n      <td>피난설비</td>\n      <td>유도등</td>\n      <td>피난구 유도등</td>\n      <td>1</td>\n      <td>니켈카드뮴축전지(Ni-Cd)중율</td>\n      <td>공통</td>\n      <td>건전지</td>\n      <td>배터리</td>\n      <td>110002</td>\n    </tr>\n    <tr>\n      <th>3371</th>\n      <td>221006-00077</td>\n      <td>10-2동 315호 대변인실 천장형 피난구유도등 양면형을 단면형으로 교체.</td>\n      <td>2022-10-06</td>\n      <td>2022-10-06</td>\n      <td>2022-10-06 오후 1:20:00</td>\n      <td>2022-10-06 오후 1:50:00</td>\n      <td>10-2동</td>\n      <td>3층</td>\n      <td>유도등</td>\n      <td>피난구 유도등</td>\n      <td>...</td>\n      <td>방재</td>\n      <td>피난설비</td>\n      <td>유도등</td>\n      <td>피난구 유도등</td>\n      <td>1</td>\n      <td>피난구유도등</td>\n      <td>소방</td>\n      <td>피난설비</td>\n      <td>유도등</td>\n      <td>504001</td>\n    </tr>\n  </tbody>\n</table>\n<p>137 rows × 24 columns</p>\n</div>"
     },
     "execution_count": 121,
     "metadata": {},
     "output_type": "execute_result"
    }
   ],
   "source": [
    "final[final['jangbi_class_nm_4']=='피난구 유도등']"
   ],
   "metadata": {
    "collapsed": false
   }
  },
  {
   "cell_type": "code",
   "execution_count": 122,
   "outputs": [],
   "source": [
    "기계 = final[final['jangbi_class_nm_1']=='기계']\n",
    "통신 = final[final['jangbi_class_nm_1']=='통신']\n",
    "전기 = final[final['jangbi_class_nm_1']=='전기']\n",
    "방재 = final[final['jangbi_class_nm_1']=='방재']\n",
    "승강기 = final[final['jangbi_class_nm_1']=='승강기']\n",
    "\n",
    "기계_장비 = jangbi[jangbi['jangbi_class_nm_1']=='기계']\n",
    "통신_장비 = jangbi[jangbi['jangbi_class_nm_1']=='통신']\n",
    "전기_장비 = jangbi[jangbi['jangbi_class_nm_1']=='전기']\n",
    "방재_장비 = jangbi[jangbi['jangbi_class_nm_1']=='방재']\n",
    "승강기_장비 = jangbi[jangbi['jangbi_class_nm_1']=='승강기']\n",
    "\n"
   ],
   "metadata": {
    "collapsed": false
   }
  },
  {
   "cell_type": "code",
   "execution_count": 133,
   "outputs": [],
   "source": [
    "def dataframe(df_장비,레벨1):\n",
    "\n",
    "    final = pd.DataFrame({'Lv1':[],\n",
    "                          'Lv2':[],\n",
    "                          'Lv3':[],\n",
    "                          'Lv4':[],\n",
    "                          '장애건수' :[],\n",
    "                          '자재매칭건수':[],\n",
    "                          })\n",
    "    final\n",
    "\n",
    "    df = pd.DataFrame(df_장비['jangbi_class_nm_4'].value_counts())\n",
    "    arr = list(df.index)\n",
    "    arr2 = list(df['jangbi_class_nm_4'])\n",
    "    final['Lv4'] = arr\n",
    "    final['장애건수'] = arr2\n",
    "    n = len(final)\n",
    "    for i in range(n):\n",
    "        lv4 = final['Lv4'].iloc[i]\n",
    "        df2 = df_장비[df_장비['jangbi_class_nm_4']==lv4]\n",
    "        final['자재매칭건수'].iloc[i] = len(df2[df2['자재매칭여부']==1])\n",
    "\n",
    "\n",
    "        df3 = df_장비[df_장비['jangbi_class_nm_4']==lv4]\n",
    "        final['Lv3'].iloc[i] = df3['jangbi_class_nm_3'].unique()[0]\n",
    "        final['Lv2'].iloc[i] = df3['jangbi_class_nm_2'].unique()[0]\n",
    "\n",
    "    final['Lv1'] = 레벨1\n",
    "    return final\n"
   ],
   "metadata": {
    "collapsed": false
   }
  },
  {
   "cell_type": "code",
   "execution_count": 135,
   "outputs": [
    {
     "name": "stderr",
     "output_type": "stream",
     "text": [
      "/var/folders/nd/cl2nzwh13zx7jdly2t5m95340000gn/T/ipykernel_37848/26295203.py:21: SettingWithCopyWarning: \n",
      "A value is trying to be set on a copy of a slice from a DataFrame\n",
      "\n",
      "See the caveats in the documentation: https://pandas.pydata.org/pandas-docs/stable/user_guide/indexing.html#returning-a-view-versus-a-copy\n",
      "  final['자재매칭건수'].iloc[i] = len(df2[df2['자재매칭여부']==1])\n",
      "/var/folders/nd/cl2nzwh13zx7jdly2t5m95340000gn/T/ipykernel_37848/26295203.py:25: SettingWithCopyWarning: \n",
      "A value is trying to be set on a copy of a slice from a DataFrame\n",
      "\n",
      "See the caveats in the documentation: https://pandas.pydata.org/pandas-docs/stable/user_guide/indexing.html#returning-a-view-versus-a-copy\n",
      "  final['Lv3'].iloc[i] = df3['jangbi_class_nm_3'].unique()[0]\n",
      "/var/folders/nd/cl2nzwh13zx7jdly2t5m95340000gn/T/ipykernel_37848/26295203.py:26: SettingWithCopyWarning: \n",
      "A value is trying to be set on a copy of a slice from a DataFrame\n",
      "\n",
      "See the caveats in the documentation: https://pandas.pydata.org/pandas-docs/stable/user_guide/indexing.html#returning-a-view-versus-a-copy\n",
      "  final['Lv2'].iloc[i] = df3['jangbi_class_nm_2'].unique()[0]\n",
      "/var/folders/nd/cl2nzwh13zx7jdly2t5m95340000gn/T/ipykernel_37848/26295203.py:21: SettingWithCopyWarning: \n",
      "A value is trying to be set on a copy of a slice from a DataFrame\n",
      "\n",
      "See the caveats in the documentation: https://pandas.pydata.org/pandas-docs/stable/user_guide/indexing.html#returning-a-view-versus-a-copy\n",
      "  final['자재매칭건수'].iloc[i] = len(df2[df2['자재매칭여부']==1])\n",
      "/var/folders/nd/cl2nzwh13zx7jdly2t5m95340000gn/T/ipykernel_37848/26295203.py:25: SettingWithCopyWarning: \n",
      "A value is trying to be set on a copy of a slice from a DataFrame\n",
      "\n",
      "See the caveats in the documentation: https://pandas.pydata.org/pandas-docs/stable/user_guide/indexing.html#returning-a-view-versus-a-copy\n",
      "  final['Lv3'].iloc[i] = df3['jangbi_class_nm_3'].unique()[0]\n",
      "/var/folders/nd/cl2nzwh13zx7jdly2t5m95340000gn/T/ipykernel_37848/26295203.py:26: SettingWithCopyWarning: \n",
      "A value is trying to be set on a copy of a slice from a DataFrame\n",
      "\n",
      "See the caveats in the documentation: https://pandas.pydata.org/pandas-docs/stable/user_guide/indexing.html#returning-a-view-versus-a-copy\n",
      "  final['Lv2'].iloc[i] = df3['jangbi_class_nm_2'].unique()[0]\n",
      "/var/folders/nd/cl2nzwh13zx7jdly2t5m95340000gn/T/ipykernel_37848/26295203.py:21: SettingWithCopyWarning: \n",
      "A value is trying to be set on a copy of a slice from a DataFrame\n",
      "\n",
      "See the caveats in the documentation: https://pandas.pydata.org/pandas-docs/stable/user_guide/indexing.html#returning-a-view-versus-a-copy\n",
      "  final['자재매칭건수'].iloc[i] = len(df2[df2['자재매칭여부']==1])\n",
      "/var/folders/nd/cl2nzwh13zx7jdly2t5m95340000gn/T/ipykernel_37848/26295203.py:25: SettingWithCopyWarning: \n",
      "A value is trying to be set on a copy of a slice from a DataFrame\n",
      "\n",
      "See the caveats in the documentation: https://pandas.pydata.org/pandas-docs/stable/user_guide/indexing.html#returning-a-view-versus-a-copy\n",
      "  final['Lv3'].iloc[i] = df3['jangbi_class_nm_3'].unique()[0]\n",
      "/var/folders/nd/cl2nzwh13zx7jdly2t5m95340000gn/T/ipykernel_37848/26295203.py:26: SettingWithCopyWarning: \n",
      "A value is trying to be set on a copy of a slice from a DataFrame\n",
      "\n",
      "See the caveats in the documentation: https://pandas.pydata.org/pandas-docs/stable/user_guide/indexing.html#returning-a-view-versus-a-copy\n",
      "  final['Lv2'].iloc[i] = df3['jangbi_class_nm_2'].unique()[0]\n",
      "/var/folders/nd/cl2nzwh13zx7jdly2t5m95340000gn/T/ipykernel_37848/26295203.py:21: SettingWithCopyWarning: \n",
      "A value is trying to be set on a copy of a slice from a DataFrame\n",
      "\n",
      "See the caveats in the documentation: https://pandas.pydata.org/pandas-docs/stable/user_guide/indexing.html#returning-a-view-versus-a-copy\n",
      "  final['자재매칭건수'].iloc[i] = len(df2[df2['자재매칭여부']==1])\n",
      "/var/folders/nd/cl2nzwh13zx7jdly2t5m95340000gn/T/ipykernel_37848/26295203.py:25: SettingWithCopyWarning: \n",
      "A value is trying to be set on a copy of a slice from a DataFrame\n",
      "\n",
      "See the caveats in the documentation: https://pandas.pydata.org/pandas-docs/stable/user_guide/indexing.html#returning-a-view-versus-a-copy\n",
      "  final['Lv3'].iloc[i] = df3['jangbi_class_nm_3'].unique()[0]\n",
      "/var/folders/nd/cl2nzwh13zx7jdly2t5m95340000gn/T/ipykernel_37848/26295203.py:26: SettingWithCopyWarning: \n",
      "A value is trying to be set on a copy of a slice from a DataFrame\n",
      "\n",
      "See the caveats in the documentation: https://pandas.pydata.org/pandas-docs/stable/user_guide/indexing.html#returning-a-view-versus-a-copy\n",
      "  final['Lv2'].iloc[i] = df3['jangbi_class_nm_2'].unique()[0]\n",
      "/var/folders/nd/cl2nzwh13zx7jdly2t5m95340000gn/T/ipykernel_37848/26295203.py:21: SettingWithCopyWarning: \n",
      "A value is trying to be set on a copy of a slice from a DataFrame\n",
      "\n",
      "See the caveats in the documentation: https://pandas.pydata.org/pandas-docs/stable/user_guide/indexing.html#returning-a-view-versus-a-copy\n",
      "  final['자재매칭건수'].iloc[i] = len(df2[df2['자재매칭여부']==1])\n",
      "/var/folders/nd/cl2nzwh13zx7jdly2t5m95340000gn/T/ipykernel_37848/26295203.py:25: SettingWithCopyWarning: \n",
      "A value is trying to be set on a copy of a slice from a DataFrame\n",
      "\n",
      "See the caveats in the documentation: https://pandas.pydata.org/pandas-docs/stable/user_guide/indexing.html#returning-a-view-versus-a-copy\n",
      "  final['Lv3'].iloc[i] = df3['jangbi_class_nm_3'].unique()[0]\n",
      "/var/folders/nd/cl2nzwh13zx7jdly2t5m95340000gn/T/ipykernel_37848/26295203.py:26: SettingWithCopyWarning: \n",
      "A value is trying to be set on a copy of a slice from a DataFrame\n",
      "\n",
      "See the caveats in the documentation: https://pandas.pydata.org/pandas-docs/stable/user_guide/indexing.html#returning-a-view-versus-a-copy\n",
      "  final['Lv2'].iloc[i] = df3['jangbi_class_nm_2'].unique()[0]\n"
     ]
    }
   ],
   "source": [
    "# dataframe(기계_장비,'기계').to_excel('기계_장비.xlsx')\n",
    "# dataframe(통신_장비,'통신').to_excel('통신_장비.xlsx')\n",
    "# dataframe(전기_장비,'전기').to_excel('전기_장비.xlsx')\n",
    "# dataframe(방재_장비,'방재').to_excel('방재_장비.xlsx')\n",
    "# dataframe(승강기_장비,'승강기').to_excel('승강기_장비.xlsx')"
   ],
   "metadata": {
    "collapsed": false
   }
  }
 ],
 "metadata": {
  "kernelspec": {
   "display_name": "Python 3",
   "language": "python",
   "name": "python3"
  },
  "language_info": {
   "codemirror_mode": {
    "name": "ipython",
    "version": 2
   },
   "file_extension": ".py",
   "mimetype": "text/x-python",
   "name": "python",
   "nbconvert_exporter": "python",
   "pygments_lexer": "ipython2",
   "version": "2.7.6"
  }
 },
 "nbformat": 4,
 "nbformat_minor": 0
}

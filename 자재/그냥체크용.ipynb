{
 "cells": [
  {
   "cell_type": "code",
   "execution_count": 1,
   "metadata": {
    "collapsed": true
   },
   "outputs": [],
   "source": [
    "import  pandas as pd\n",
    "from matplotlib import pyplot as plt\n",
    "import numpy as np\n",
    "import matplotlib\n",
    "plt.rc('font', family='AppleGothic')\n",
    "plt.rcParams['axes.unicode_minus'] = False"
   ]
  },
  {
   "cell_type": "code",
   "execution_count": 2,
   "outputs": [
    {
     "data": {
      "text/plain": "'/Users/keumhyeonjun/Projects/행안부/자재/GFMS DB/'"
     },
     "execution_count": 2,
     "metadata": {},
     "output_type": "execute_result"
    }
   ],
   "source": [
    "path = Path.cwd()\n",
    "path = str(path)+'/GFMS DB/'\n",
    "path"
   ],
   "metadata": {
    "collapsed": false
   }
  },
  {
   "cell_type": "code",
   "execution_count": 6,
   "outputs": [],
   "source": [
    "fmsa04=pd.read_excel(path+'FMSA04_작업계층.xlsx')\n",
    "fmas10=pd.read_excel(path+'FMSA10_작업지시_결과.xlsx')"
   ],
   "metadata": {
    "collapsed": false
   }
  },
  {
   "cell_type": "code",
   "execution_count": 5,
   "outputs": [
    {
     "data": {
      "text/plain": "      comp_cd  class_cd class_nm class_parent  class_level  cmt  \\\n0        SEJO        01   1동 1구역         ROOT            1  NaN   \n1        SEJO      0101     지하1층           01            2  NaN   \n2        SEJO    010101     공조설비         0101            3  NaN   \n3        SEJO  01010101   직팽식공조기       010101            4  NaN   \n4        SEJO    010102  개별냉난방설비         0101            3  NaN   \n...       ...       ...      ...          ...          ...  ...   \n49073    SEJO  80240010       후문       080240            4  NaN   \n49074    SEJO  80240011     흡연구역       080240            4  NaN   \n49075    SEJO  90232010       후문       090232            4  NaN   \n49076    SEJO  90232011     흡연구역       090232            4  NaN   \n49077    SEJO      ROOT   업무분류계층          NaN            0  NaN   \n\n                  input_sysdt chg_sysdt input_emp_no chg_emp_no input_scr_nm  \\\n0      2020-03-31 오전 11:49:11       NaN          DWI        NaN      STD_A12   \n1      2020-03-31 오전 11:49:12       NaN          DWI        NaN      STD_A12   \n2      2020-03-31 오전 11:49:19       NaN          DWI        NaN      STD_A12   \n3      2020-03-31 오전 11:51:31       NaN          DWI        NaN      STD_A12   \n4      2020-03-31 오전 11:49:19       NaN          DWI        NaN      STD_A12   \n...                       ...       ...          ...        ...          ...   \n49073              2020-04-14       NaN        ADMIN        NaN       CUBRID   \n49074              2020-04-14       NaN        ADMIN        NaN       CUBRID   \n49075              2020-04-14       NaN        ADMIN        NaN       CUBRID   \n49076              2020-04-14       NaN        ADMIN        NaN       CUBRID   \n49077   2020-03-26 오후 9:19:25       NaN          DWI        NaN          SQL   \n\n           val1  val2  val3      val4 del_yn auto_yn  \n0      SJ-01-01   NaN   NaN  SJ-01-01      N       Y  \n1          B001   NaN   NaN      B001      N       Y  \n2           NaN   1.0   NaN    200103      N       Y  \n3           NaN   1.0  A529  20010302      N       Y  \n4           NaN   1.0   NaN    200104      N       Y  \n...         ...   ...   ...       ...    ...     ...  \n49073       NaN   6.0   NaN       NaN      N       N  \n49074       NaN   6.0   NaN       NaN      N       N  \n49075       NaN   6.0   NaN       NaN      N       N  \n49076       NaN   6.0   NaN       NaN      N       N  \n49077       NaN   NaN   NaN       NaN      N       N  \n\n[49078 rows x 17 columns]",
      "text/html": "<div>\n<style scoped>\n    .dataframe tbody tr th:only-of-type {\n        vertical-align: middle;\n    }\n\n    .dataframe tbody tr th {\n        vertical-align: top;\n    }\n\n    .dataframe thead th {\n        text-align: right;\n    }\n</style>\n<table border=\"1\" class=\"dataframe\">\n  <thead>\n    <tr style=\"text-align: right;\">\n      <th></th>\n      <th>comp_cd</th>\n      <th>class_cd</th>\n      <th>class_nm</th>\n      <th>class_parent</th>\n      <th>class_level</th>\n      <th>cmt</th>\n      <th>input_sysdt</th>\n      <th>chg_sysdt</th>\n      <th>input_emp_no</th>\n      <th>chg_emp_no</th>\n      <th>input_scr_nm</th>\n      <th>val1</th>\n      <th>val2</th>\n      <th>val3</th>\n      <th>val4</th>\n      <th>del_yn</th>\n      <th>auto_yn</th>\n    </tr>\n  </thead>\n  <tbody>\n    <tr>\n      <th>0</th>\n      <td>SEJO</td>\n      <td>01</td>\n      <td>1동 1구역</td>\n      <td>ROOT</td>\n      <td>1</td>\n      <td>NaN</td>\n      <td>2020-03-31 오전 11:49:11</td>\n      <td>NaN</td>\n      <td>DWI</td>\n      <td>NaN</td>\n      <td>STD_A12</td>\n      <td>SJ-01-01</td>\n      <td>NaN</td>\n      <td>NaN</td>\n      <td>SJ-01-01</td>\n      <td>N</td>\n      <td>Y</td>\n    </tr>\n    <tr>\n      <th>1</th>\n      <td>SEJO</td>\n      <td>0101</td>\n      <td>지하1층</td>\n      <td>01</td>\n      <td>2</td>\n      <td>NaN</td>\n      <td>2020-03-31 오전 11:49:12</td>\n      <td>NaN</td>\n      <td>DWI</td>\n      <td>NaN</td>\n      <td>STD_A12</td>\n      <td>B001</td>\n      <td>NaN</td>\n      <td>NaN</td>\n      <td>B001</td>\n      <td>N</td>\n      <td>Y</td>\n    </tr>\n    <tr>\n      <th>2</th>\n      <td>SEJO</td>\n      <td>010101</td>\n      <td>공조설비</td>\n      <td>0101</td>\n      <td>3</td>\n      <td>NaN</td>\n      <td>2020-03-31 오전 11:49:19</td>\n      <td>NaN</td>\n      <td>DWI</td>\n      <td>NaN</td>\n      <td>STD_A12</td>\n      <td>NaN</td>\n      <td>1.0</td>\n      <td>NaN</td>\n      <td>200103</td>\n      <td>N</td>\n      <td>Y</td>\n    </tr>\n    <tr>\n      <th>3</th>\n      <td>SEJO</td>\n      <td>01010101</td>\n      <td>직팽식공조기</td>\n      <td>010101</td>\n      <td>4</td>\n      <td>NaN</td>\n      <td>2020-03-31 오전 11:51:31</td>\n      <td>NaN</td>\n      <td>DWI</td>\n      <td>NaN</td>\n      <td>STD_A12</td>\n      <td>NaN</td>\n      <td>1.0</td>\n      <td>A529</td>\n      <td>20010302</td>\n      <td>N</td>\n      <td>Y</td>\n    </tr>\n    <tr>\n      <th>4</th>\n      <td>SEJO</td>\n      <td>010102</td>\n      <td>개별냉난방설비</td>\n      <td>0101</td>\n      <td>3</td>\n      <td>NaN</td>\n      <td>2020-03-31 오전 11:49:19</td>\n      <td>NaN</td>\n      <td>DWI</td>\n      <td>NaN</td>\n      <td>STD_A12</td>\n      <td>NaN</td>\n      <td>1.0</td>\n      <td>NaN</td>\n      <td>200104</td>\n      <td>N</td>\n      <td>Y</td>\n    </tr>\n    <tr>\n      <th>...</th>\n      <td>...</td>\n      <td>...</td>\n      <td>...</td>\n      <td>...</td>\n      <td>...</td>\n      <td>...</td>\n      <td>...</td>\n      <td>...</td>\n      <td>...</td>\n      <td>...</td>\n      <td>...</td>\n      <td>...</td>\n      <td>...</td>\n      <td>...</td>\n      <td>...</td>\n      <td>...</td>\n      <td>...</td>\n    </tr>\n    <tr>\n      <th>49073</th>\n      <td>SEJO</td>\n      <td>80240010</td>\n      <td>후문</td>\n      <td>080240</td>\n      <td>4</td>\n      <td>NaN</td>\n      <td>2020-04-14</td>\n      <td>NaN</td>\n      <td>ADMIN</td>\n      <td>NaN</td>\n      <td>CUBRID</td>\n      <td>NaN</td>\n      <td>6.0</td>\n      <td>NaN</td>\n      <td>NaN</td>\n      <td>N</td>\n      <td>N</td>\n    </tr>\n    <tr>\n      <th>49074</th>\n      <td>SEJO</td>\n      <td>80240011</td>\n      <td>흡연구역</td>\n      <td>080240</td>\n      <td>4</td>\n      <td>NaN</td>\n      <td>2020-04-14</td>\n      <td>NaN</td>\n      <td>ADMIN</td>\n      <td>NaN</td>\n      <td>CUBRID</td>\n      <td>NaN</td>\n      <td>6.0</td>\n      <td>NaN</td>\n      <td>NaN</td>\n      <td>N</td>\n      <td>N</td>\n    </tr>\n    <tr>\n      <th>49075</th>\n      <td>SEJO</td>\n      <td>90232010</td>\n      <td>후문</td>\n      <td>090232</td>\n      <td>4</td>\n      <td>NaN</td>\n      <td>2020-04-14</td>\n      <td>NaN</td>\n      <td>ADMIN</td>\n      <td>NaN</td>\n      <td>CUBRID</td>\n      <td>NaN</td>\n      <td>6.0</td>\n      <td>NaN</td>\n      <td>NaN</td>\n      <td>N</td>\n      <td>N</td>\n    </tr>\n    <tr>\n      <th>49076</th>\n      <td>SEJO</td>\n      <td>90232011</td>\n      <td>흡연구역</td>\n      <td>090232</td>\n      <td>4</td>\n      <td>NaN</td>\n      <td>2020-04-14</td>\n      <td>NaN</td>\n      <td>ADMIN</td>\n      <td>NaN</td>\n      <td>CUBRID</td>\n      <td>NaN</td>\n      <td>6.0</td>\n      <td>NaN</td>\n      <td>NaN</td>\n      <td>N</td>\n      <td>N</td>\n    </tr>\n    <tr>\n      <th>49077</th>\n      <td>SEJO</td>\n      <td>ROOT</td>\n      <td>업무분류계층</td>\n      <td>NaN</td>\n      <td>0</td>\n      <td>NaN</td>\n      <td>2020-03-26 오후 9:19:25</td>\n      <td>NaN</td>\n      <td>DWI</td>\n      <td>NaN</td>\n      <td>SQL</td>\n      <td>NaN</td>\n      <td>NaN</td>\n      <td>NaN</td>\n      <td>NaN</td>\n      <td>N</td>\n      <td>N</td>\n    </tr>\n  </tbody>\n</table>\n<p>49078 rows × 17 columns</p>\n</div>"
     },
     "execution_count": 5,
     "metadata": {},
     "output_type": "execute_result"
    }
   ],
   "source": [
    "fmsa04"
   ],
   "metadata": {
    "collapsed": false
   }
  },
  {
   "cell_type": "code",
   "execution_count": 9,
   "outputs": [
    {
     "data": {
      "text/plain": "N    14326\nY     3446\nName: job_fac_his, dtype: int64"
     },
     "execution_count": 9,
     "metadata": {},
     "output_type": "execute_result"
    }
   ],
   "source": [
    "fmas10['job_fac_his'].value_counts()"
   ],
   "metadata": {
    "collapsed": false
   }
  },
  {
   "cell_type": "code",
   "execution_count": 21,
   "outputs": [
    {
     "data": {
      "text/plain": "4112    2013-01-01\n4110    2013-01-01\n3077    2013-01-02\n2603    2013-01-11\n2609    2013-01-11\n           ...    \n3307    2022-09-28\n2022    2022-09-28\n2019    2022-09-28\n2474    2022-10-07\n3312    2022-10-07\nName: his_day, Length: 4478, dtype: object"
     },
     "execution_count": 21,
     "metadata": {},
     "output_type": "execute_result"
    }
   ],
   "source": [
    "fmsx05=pd.read_excel(path+'FMSX05_HIS_장비이력.xlsx')\n",
    "fmsx05['his_day'].sort_values()"
   ],
   "metadata": {
    "collapsed": false
   }
  },
  {
   "cell_type": "code",
   "execution_count": null,
   "outputs": [],
   "source": [],
   "metadata": {
    "collapsed": false
   }
  },
  {
   "cell_type": "code",
   "execution_count": 13,
   "outputs": [
    {
     "data": {
      "text/plain": "      comp_cd        fac_cd                       fac_nm  class_cd  dept_cd  \\\n0        SEJO  200201040293  (3)세-1F-0(여)로비-화장실) 세면대 2대   20020104    10201   \n1        SEJO  200201010257                   9F여1대변기(5)  20020101    10201   \n2        SEJO  200202030001                        우수조#1  20020203    10201   \n3        SEJO  200105080599               배기휀#76(EF-504)  20010508    10201   \n4        SEJO  200202010001                        시수조#1  20020201    10201   \n...       ...           ...                          ...       ...      ...   \n40806    SEJO  700101020004                  SCC 4호기 권상기  70010102    10302   \n40807    SEJO  700101020005                  SCC 5호기 권상기  70010102    10302   \n40808    SEJO  700101020006                  SCC 6호기 권상기  70010102    10302   \n40809    SEJO  700201010010                  SCC 7호기 제어반  70020101    10302   \n40810    SEJO  700201020001                  SCC 7호기 권상기  70020102    10302   \n\n          fac_model     fac_spec     fac_plc       bd_cd fl_cd  ...  \\\n0      자동(2)/수동(0)          청소수전       (여)로비         NaN   NaN  ...   \n1       CC-113(바닥형)  690*395*435  여-1(동) 화장실         NaN   NaN  ...   \n2               NaN          NaN         NaN         NaN   NaN  ...   \n3               NaN          NaN         NaN         NaN   NaN  ...   \n4               NaN          NaN         NaN         NaN   NaN  ...   \n...             ...          ...         ...         ...   ...  ...   \n40806        HS250K         12*6         NaN  SJ-SCJS-01  P006  ...   \n40807        HS250K         12*6         NaN  SJ-SCJS-01  P006  ...   \n40808        HS250K         12*6         NaN  SJ-SCJS-01  P006  ...   \n40809    DZDLE-4300          NaN         NaN  SJ-SCJS-01  P006  ...   \n40810      SDE-1504         12*6         NaN  SJ-SCJS-01  P006  ...   \n\n      input_emp_no chg_emp_no input_scr_nm use_yn fac_time_yn  \\\n0              박남규        NaN    UBIS_F041      Y           N   \n1              최휴영        NaN    UBIS_F041      Y           N   \n2              안용준        NaN    UBIS_F041      Y           N   \n3              안용준        안용준    UBIS_F041      Y           N   \n4              안용준        NaN    UBIS_F041      Y           N   \n...            ...        ...          ...    ...         ...   \n40806          이은환        DWI    UBIS_F041      Y           N   \n40807          이은환        DWI    UBIS_F041      Y           N   \n40808          이은환        DWI    UBIS_F041      Y           N   \n40809          이은환        DWI    UBIS_F041      Y           N   \n40810          이은환        DWI    UBIS_F041      Y           N   \n\n                     cmt del_yn  chk_edit_gb chk_edit_dt  law_fac_yn  \n0      8002013000158_228      N          NaN         NaN           N  \n1      8002011000172_229      N          NaN         NaN           N  \n2      8002023003021_229      N          NaN         NaN           N  \n3      8001045005090_229      N          NaN         NaN           N  \n4      8002021001021_229      N          NaN         NaN           N  \n...                  ...    ...          ...         ...         ...  \n40806      700401204_228      N          NaN         NaN           N  \n40807      700401205_228      N          NaN         NaN           N  \n40808      700401206_228      N          NaN         NaN           N  \n40809      700501105_228      N          NaN         NaN           N  \n40810  7005012002041_228      N          NaN         NaN           N  \n\n[40811 rows x 38 columns]",
      "text/html": "<div>\n<style scoped>\n    .dataframe tbody tr th:only-of-type {\n        vertical-align: middle;\n    }\n\n    .dataframe tbody tr th {\n        vertical-align: top;\n    }\n\n    .dataframe thead th {\n        text-align: right;\n    }\n</style>\n<table border=\"1\" class=\"dataframe\">\n  <thead>\n    <tr style=\"text-align: right;\">\n      <th></th>\n      <th>comp_cd</th>\n      <th>fac_cd</th>\n      <th>fac_nm</th>\n      <th>class_cd</th>\n      <th>dept_cd</th>\n      <th>fac_model</th>\n      <th>fac_spec</th>\n      <th>fac_plc</th>\n      <th>bd_cd</th>\n      <th>fl_cd</th>\n      <th>...</th>\n      <th>input_emp_no</th>\n      <th>chg_emp_no</th>\n      <th>input_scr_nm</th>\n      <th>use_yn</th>\n      <th>fac_time_yn</th>\n      <th>cmt</th>\n      <th>del_yn</th>\n      <th>chk_edit_gb</th>\n      <th>chk_edit_dt</th>\n      <th>law_fac_yn</th>\n    </tr>\n  </thead>\n  <tbody>\n    <tr>\n      <th>0</th>\n      <td>SEJO</td>\n      <td>200201040293</td>\n      <td>(3)세-1F-0(여)로비-화장실) 세면대 2대</td>\n      <td>20020104</td>\n      <td>10201</td>\n      <td>자동(2)/수동(0)</td>\n      <td>청소수전</td>\n      <td>(여)로비</td>\n      <td>NaN</td>\n      <td>NaN</td>\n      <td>...</td>\n      <td>박남규</td>\n      <td>NaN</td>\n      <td>UBIS_F041</td>\n      <td>Y</td>\n      <td>N</td>\n      <td>8002013000158_228</td>\n      <td>N</td>\n      <td>NaN</td>\n      <td>NaN</td>\n      <td>N</td>\n    </tr>\n    <tr>\n      <th>1</th>\n      <td>SEJO</td>\n      <td>200201010257</td>\n      <td>9F여1대변기(5)</td>\n      <td>20020101</td>\n      <td>10201</td>\n      <td>CC-113(바닥형)</td>\n      <td>690*395*435</td>\n      <td>여-1(동) 화장실</td>\n      <td>NaN</td>\n      <td>NaN</td>\n      <td>...</td>\n      <td>최휴영</td>\n      <td>NaN</td>\n      <td>UBIS_F041</td>\n      <td>Y</td>\n      <td>N</td>\n      <td>8002011000172_229</td>\n      <td>N</td>\n      <td>NaN</td>\n      <td>NaN</td>\n      <td>N</td>\n    </tr>\n    <tr>\n      <th>2</th>\n      <td>SEJO</td>\n      <td>200202030001</td>\n      <td>우수조#1</td>\n      <td>20020203</td>\n      <td>10201</td>\n      <td>NaN</td>\n      <td>NaN</td>\n      <td>NaN</td>\n      <td>NaN</td>\n      <td>NaN</td>\n      <td>...</td>\n      <td>안용준</td>\n      <td>NaN</td>\n      <td>UBIS_F041</td>\n      <td>Y</td>\n      <td>N</td>\n      <td>8002023003021_229</td>\n      <td>N</td>\n      <td>NaN</td>\n      <td>NaN</td>\n      <td>N</td>\n    </tr>\n    <tr>\n      <th>3</th>\n      <td>SEJO</td>\n      <td>200105080599</td>\n      <td>배기휀#76(EF-504)</td>\n      <td>20010508</td>\n      <td>10201</td>\n      <td>NaN</td>\n      <td>NaN</td>\n      <td>NaN</td>\n      <td>NaN</td>\n      <td>NaN</td>\n      <td>...</td>\n      <td>안용준</td>\n      <td>안용준</td>\n      <td>UBIS_F041</td>\n      <td>Y</td>\n      <td>N</td>\n      <td>8001045005090_229</td>\n      <td>N</td>\n      <td>NaN</td>\n      <td>NaN</td>\n      <td>N</td>\n    </tr>\n    <tr>\n      <th>4</th>\n      <td>SEJO</td>\n      <td>200202010001</td>\n      <td>시수조#1</td>\n      <td>20020201</td>\n      <td>10201</td>\n      <td>NaN</td>\n      <td>NaN</td>\n      <td>NaN</td>\n      <td>NaN</td>\n      <td>NaN</td>\n      <td>...</td>\n      <td>안용준</td>\n      <td>NaN</td>\n      <td>UBIS_F041</td>\n      <td>Y</td>\n      <td>N</td>\n      <td>8002021001021_229</td>\n      <td>N</td>\n      <td>NaN</td>\n      <td>NaN</td>\n      <td>N</td>\n    </tr>\n    <tr>\n      <th>...</th>\n      <td>...</td>\n      <td>...</td>\n      <td>...</td>\n      <td>...</td>\n      <td>...</td>\n      <td>...</td>\n      <td>...</td>\n      <td>...</td>\n      <td>...</td>\n      <td>...</td>\n      <td>...</td>\n      <td>...</td>\n      <td>...</td>\n      <td>...</td>\n      <td>...</td>\n      <td>...</td>\n      <td>...</td>\n      <td>...</td>\n      <td>...</td>\n      <td>...</td>\n      <td>...</td>\n    </tr>\n    <tr>\n      <th>40806</th>\n      <td>SEJO</td>\n      <td>700101020004</td>\n      <td>SCC 4호기 권상기</td>\n      <td>70010102</td>\n      <td>10302</td>\n      <td>HS250K</td>\n      <td>12*6</td>\n      <td>NaN</td>\n      <td>SJ-SCJS-01</td>\n      <td>P006</td>\n      <td>...</td>\n      <td>이은환</td>\n      <td>DWI</td>\n      <td>UBIS_F041</td>\n      <td>Y</td>\n      <td>N</td>\n      <td>700401204_228</td>\n      <td>N</td>\n      <td>NaN</td>\n      <td>NaN</td>\n      <td>N</td>\n    </tr>\n    <tr>\n      <th>40807</th>\n      <td>SEJO</td>\n      <td>700101020005</td>\n      <td>SCC 5호기 권상기</td>\n      <td>70010102</td>\n      <td>10302</td>\n      <td>HS250K</td>\n      <td>12*6</td>\n      <td>NaN</td>\n      <td>SJ-SCJS-01</td>\n      <td>P006</td>\n      <td>...</td>\n      <td>이은환</td>\n      <td>DWI</td>\n      <td>UBIS_F041</td>\n      <td>Y</td>\n      <td>N</td>\n      <td>700401205_228</td>\n      <td>N</td>\n      <td>NaN</td>\n      <td>NaN</td>\n      <td>N</td>\n    </tr>\n    <tr>\n      <th>40808</th>\n      <td>SEJO</td>\n      <td>700101020006</td>\n      <td>SCC 6호기 권상기</td>\n      <td>70010102</td>\n      <td>10302</td>\n      <td>HS250K</td>\n      <td>12*6</td>\n      <td>NaN</td>\n      <td>SJ-SCJS-01</td>\n      <td>P006</td>\n      <td>...</td>\n      <td>이은환</td>\n      <td>DWI</td>\n      <td>UBIS_F041</td>\n      <td>Y</td>\n      <td>N</td>\n      <td>700401206_228</td>\n      <td>N</td>\n      <td>NaN</td>\n      <td>NaN</td>\n      <td>N</td>\n    </tr>\n    <tr>\n      <th>40809</th>\n      <td>SEJO</td>\n      <td>700201010010</td>\n      <td>SCC 7호기 제어반</td>\n      <td>70020101</td>\n      <td>10302</td>\n      <td>DZDLE-4300</td>\n      <td>NaN</td>\n      <td>NaN</td>\n      <td>SJ-SCJS-01</td>\n      <td>P006</td>\n      <td>...</td>\n      <td>이은환</td>\n      <td>DWI</td>\n      <td>UBIS_F041</td>\n      <td>Y</td>\n      <td>N</td>\n      <td>700501105_228</td>\n      <td>N</td>\n      <td>NaN</td>\n      <td>NaN</td>\n      <td>N</td>\n    </tr>\n    <tr>\n      <th>40810</th>\n      <td>SEJO</td>\n      <td>700201020001</td>\n      <td>SCC 7호기 권상기</td>\n      <td>70020102</td>\n      <td>10302</td>\n      <td>SDE-1504</td>\n      <td>12*6</td>\n      <td>NaN</td>\n      <td>SJ-SCJS-01</td>\n      <td>P006</td>\n      <td>...</td>\n      <td>이은환</td>\n      <td>DWI</td>\n      <td>UBIS_F041</td>\n      <td>Y</td>\n      <td>N</td>\n      <td>7005012002041_228</td>\n      <td>N</td>\n      <td>NaN</td>\n      <td>NaN</td>\n      <td>N</td>\n    </tr>\n  </tbody>\n</table>\n<p>40811 rows × 38 columns</p>\n</div>"
     },
     "execution_count": 13,
     "metadata": {},
     "output_type": "execute_result"
    }
   ],
   "source": [
    "fmsx05=pd.read_excel(path+'FMSX05_장비마스터.xlsx')\n",
    "fmsx05"
   ],
   "metadata": {
    "collapsed": false
   }
  },
  {
   "cell_type": "code",
   "execution_count": 19,
   "outputs": [
    {
     "data": {
      "text/plain": "      comp_cd        fac_cd                       fac_nm  class_cd  dept_cd  \\\n0        SEJO  200201040293  (3)세-1F-0(여)로비-화장실) 세면대 2대   20020104    10201   \n1        SEJO  200201010257                   9F여1대변기(5)  20020101    10201   \n2        SEJO  200202030001                        우수조#1  20020203    10201   \n3        SEJO  200105080599               배기휀#76(EF-504)  20010508    10201   \n4        SEJO  200202010001                        시수조#1  20020201    10201   \n...       ...           ...                          ...       ...      ...   \n40806    SEJO  700101020004                  SCC 4호기 권상기  70010102    10302   \n40807    SEJO  700101020005                  SCC 5호기 권상기  70010102    10302   \n40808    SEJO  700101020006                  SCC 6호기 권상기  70010102    10302   \n40809    SEJO  700201010010                  SCC 7호기 제어반  70020101    10302   \n40810    SEJO  700201020001                  SCC 7호기 권상기  70020102    10302   \n\n          fac_model     fac_spec     fac_plc       bd_cd fl_cd  ...  \\\n0      자동(2)/수동(0)          청소수전       (여)로비         NaN   NaN  ...   \n1       CC-113(바닥형)  690*395*435  여-1(동) 화장실         NaN   NaN  ...   \n2               NaN          NaN         NaN         NaN   NaN  ...   \n3               NaN          NaN         NaN         NaN   NaN  ...   \n4               NaN          NaN         NaN         NaN   NaN  ...   \n...             ...          ...         ...         ...   ...  ...   \n40806        HS250K         12*6         NaN  SJ-SCJS-01  P006  ...   \n40807        HS250K         12*6         NaN  SJ-SCJS-01  P006  ...   \n40808        HS250K         12*6         NaN  SJ-SCJS-01  P006  ...   \n40809    DZDLE-4300          NaN         NaN  SJ-SCJS-01  P006  ...   \n40810      SDE-1504         12*6         NaN  SJ-SCJS-01  P006  ...   \n\n      input_emp_no chg_emp_no input_scr_nm use_yn fac_time_yn  \\\n0              박남규        NaN    UBIS_F041      Y           N   \n1              최휴영        NaN    UBIS_F041      Y           N   \n2              안용준        NaN    UBIS_F041      Y           N   \n3              안용준        안용준    UBIS_F041      Y           N   \n4              안용준        NaN    UBIS_F041      Y           N   \n...            ...        ...          ...    ...         ...   \n40806          이은환        DWI    UBIS_F041      Y           N   \n40807          이은환        DWI    UBIS_F041      Y           N   \n40808          이은환        DWI    UBIS_F041      Y           N   \n40809          이은환        DWI    UBIS_F041      Y           N   \n40810          이은환        DWI    UBIS_F041      Y           N   \n\n                     cmt del_yn  chk_edit_gb chk_edit_dt  law_fac_yn  \n0      8002013000158_228      N          NaN         NaN           N  \n1      8002011000172_229      N          NaN         NaN           N  \n2      8002023003021_229      N          NaN         NaN           N  \n3      8001045005090_229      N          NaN         NaN           N  \n4      8002021001021_229      N          NaN         NaN           N  \n...                  ...    ...          ...         ...         ...  \n40806      700401204_228      N          NaN         NaN           N  \n40807      700401205_228      N          NaN         NaN           N  \n40808      700401206_228      N          NaN         NaN           N  \n40809      700501105_228      N          NaN         NaN           N  \n40810  7005012002041_228      N          NaN         NaN           N  \n\n[40811 rows x 38 columns]",
      "text/html": "<div>\n<style scoped>\n    .dataframe tbody tr th:only-of-type {\n        vertical-align: middle;\n    }\n\n    .dataframe tbody tr th {\n        vertical-align: top;\n    }\n\n    .dataframe thead th {\n        text-align: right;\n    }\n</style>\n<table border=\"1\" class=\"dataframe\">\n  <thead>\n    <tr style=\"text-align: right;\">\n      <th></th>\n      <th>comp_cd</th>\n      <th>fac_cd</th>\n      <th>fac_nm</th>\n      <th>class_cd</th>\n      <th>dept_cd</th>\n      <th>fac_model</th>\n      <th>fac_spec</th>\n      <th>fac_plc</th>\n      <th>bd_cd</th>\n      <th>fl_cd</th>\n      <th>...</th>\n      <th>input_emp_no</th>\n      <th>chg_emp_no</th>\n      <th>input_scr_nm</th>\n      <th>use_yn</th>\n      <th>fac_time_yn</th>\n      <th>cmt</th>\n      <th>del_yn</th>\n      <th>chk_edit_gb</th>\n      <th>chk_edit_dt</th>\n      <th>law_fac_yn</th>\n    </tr>\n  </thead>\n  <tbody>\n    <tr>\n      <th>0</th>\n      <td>SEJO</td>\n      <td>200201040293</td>\n      <td>(3)세-1F-0(여)로비-화장실) 세면대 2대</td>\n      <td>20020104</td>\n      <td>10201</td>\n      <td>자동(2)/수동(0)</td>\n      <td>청소수전</td>\n      <td>(여)로비</td>\n      <td>NaN</td>\n      <td>NaN</td>\n      <td>...</td>\n      <td>박남규</td>\n      <td>NaN</td>\n      <td>UBIS_F041</td>\n      <td>Y</td>\n      <td>N</td>\n      <td>8002013000158_228</td>\n      <td>N</td>\n      <td>NaN</td>\n      <td>NaN</td>\n      <td>N</td>\n    </tr>\n    <tr>\n      <th>1</th>\n      <td>SEJO</td>\n      <td>200201010257</td>\n      <td>9F여1대변기(5)</td>\n      <td>20020101</td>\n      <td>10201</td>\n      <td>CC-113(바닥형)</td>\n      <td>690*395*435</td>\n      <td>여-1(동) 화장실</td>\n      <td>NaN</td>\n      <td>NaN</td>\n      <td>...</td>\n      <td>최휴영</td>\n      <td>NaN</td>\n      <td>UBIS_F041</td>\n      <td>Y</td>\n      <td>N</td>\n      <td>8002011000172_229</td>\n      <td>N</td>\n      <td>NaN</td>\n      <td>NaN</td>\n      <td>N</td>\n    </tr>\n    <tr>\n      <th>2</th>\n      <td>SEJO</td>\n      <td>200202030001</td>\n      <td>우수조#1</td>\n      <td>20020203</td>\n      <td>10201</td>\n      <td>NaN</td>\n      <td>NaN</td>\n      <td>NaN</td>\n      <td>NaN</td>\n      <td>NaN</td>\n      <td>...</td>\n      <td>안용준</td>\n      <td>NaN</td>\n      <td>UBIS_F041</td>\n      <td>Y</td>\n      <td>N</td>\n      <td>8002023003021_229</td>\n      <td>N</td>\n      <td>NaN</td>\n      <td>NaN</td>\n      <td>N</td>\n    </tr>\n    <tr>\n      <th>3</th>\n      <td>SEJO</td>\n      <td>200105080599</td>\n      <td>배기휀#76(EF-504)</td>\n      <td>20010508</td>\n      <td>10201</td>\n      <td>NaN</td>\n      <td>NaN</td>\n      <td>NaN</td>\n      <td>NaN</td>\n      <td>NaN</td>\n      <td>...</td>\n      <td>안용준</td>\n      <td>안용준</td>\n      <td>UBIS_F041</td>\n      <td>Y</td>\n      <td>N</td>\n      <td>8001045005090_229</td>\n      <td>N</td>\n      <td>NaN</td>\n      <td>NaN</td>\n      <td>N</td>\n    </tr>\n    <tr>\n      <th>4</th>\n      <td>SEJO</td>\n      <td>200202010001</td>\n      <td>시수조#1</td>\n      <td>20020201</td>\n      <td>10201</td>\n      <td>NaN</td>\n      <td>NaN</td>\n      <td>NaN</td>\n      <td>NaN</td>\n      <td>NaN</td>\n      <td>...</td>\n      <td>안용준</td>\n      <td>NaN</td>\n      <td>UBIS_F041</td>\n      <td>Y</td>\n      <td>N</td>\n      <td>8002021001021_229</td>\n      <td>N</td>\n      <td>NaN</td>\n      <td>NaN</td>\n      <td>N</td>\n    </tr>\n    <tr>\n      <th>...</th>\n      <td>...</td>\n      <td>...</td>\n      <td>...</td>\n      <td>...</td>\n      <td>...</td>\n      <td>...</td>\n      <td>...</td>\n      <td>...</td>\n      <td>...</td>\n      <td>...</td>\n      <td>...</td>\n      <td>...</td>\n      <td>...</td>\n      <td>...</td>\n      <td>...</td>\n      <td>...</td>\n      <td>...</td>\n      <td>...</td>\n      <td>...</td>\n      <td>...</td>\n      <td>...</td>\n    </tr>\n    <tr>\n      <th>40806</th>\n      <td>SEJO</td>\n      <td>700101020004</td>\n      <td>SCC 4호기 권상기</td>\n      <td>70010102</td>\n      <td>10302</td>\n      <td>HS250K</td>\n      <td>12*6</td>\n      <td>NaN</td>\n      <td>SJ-SCJS-01</td>\n      <td>P006</td>\n      <td>...</td>\n      <td>이은환</td>\n      <td>DWI</td>\n      <td>UBIS_F041</td>\n      <td>Y</td>\n      <td>N</td>\n      <td>700401204_228</td>\n      <td>N</td>\n      <td>NaN</td>\n      <td>NaN</td>\n      <td>N</td>\n    </tr>\n    <tr>\n      <th>40807</th>\n      <td>SEJO</td>\n      <td>700101020005</td>\n      <td>SCC 5호기 권상기</td>\n      <td>70010102</td>\n      <td>10302</td>\n      <td>HS250K</td>\n      <td>12*6</td>\n      <td>NaN</td>\n      <td>SJ-SCJS-01</td>\n      <td>P006</td>\n      <td>...</td>\n      <td>이은환</td>\n      <td>DWI</td>\n      <td>UBIS_F041</td>\n      <td>Y</td>\n      <td>N</td>\n      <td>700401205_228</td>\n      <td>N</td>\n      <td>NaN</td>\n      <td>NaN</td>\n      <td>N</td>\n    </tr>\n    <tr>\n      <th>40808</th>\n      <td>SEJO</td>\n      <td>700101020006</td>\n      <td>SCC 6호기 권상기</td>\n      <td>70010102</td>\n      <td>10302</td>\n      <td>HS250K</td>\n      <td>12*6</td>\n      <td>NaN</td>\n      <td>SJ-SCJS-01</td>\n      <td>P006</td>\n      <td>...</td>\n      <td>이은환</td>\n      <td>DWI</td>\n      <td>UBIS_F041</td>\n      <td>Y</td>\n      <td>N</td>\n      <td>700401206_228</td>\n      <td>N</td>\n      <td>NaN</td>\n      <td>NaN</td>\n      <td>N</td>\n    </tr>\n    <tr>\n      <th>40809</th>\n      <td>SEJO</td>\n      <td>700201010010</td>\n      <td>SCC 7호기 제어반</td>\n      <td>70020101</td>\n      <td>10302</td>\n      <td>DZDLE-4300</td>\n      <td>NaN</td>\n      <td>NaN</td>\n      <td>SJ-SCJS-01</td>\n      <td>P006</td>\n      <td>...</td>\n      <td>이은환</td>\n      <td>DWI</td>\n      <td>UBIS_F041</td>\n      <td>Y</td>\n      <td>N</td>\n      <td>700501105_228</td>\n      <td>N</td>\n      <td>NaN</td>\n      <td>NaN</td>\n      <td>N</td>\n    </tr>\n    <tr>\n      <th>40810</th>\n      <td>SEJO</td>\n      <td>700201020001</td>\n      <td>SCC 7호기 권상기</td>\n      <td>70020102</td>\n      <td>10302</td>\n      <td>SDE-1504</td>\n      <td>12*6</td>\n      <td>NaN</td>\n      <td>SJ-SCJS-01</td>\n      <td>P006</td>\n      <td>...</td>\n      <td>이은환</td>\n      <td>DWI</td>\n      <td>UBIS_F041</td>\n      <td>Y</td>\n      <td>N</td>\n      <td>7005012002041_228</td>\n      <td>N</td>\n      <td>NaN</td>\n      <td>NaN</td>\n      <td>N</td>\n    </tr>\n  </tbody>\n</table>\n<p>40811 rows × 38 columns</p>\n</div>"
     },
     "execution_count": 19,
     "metadata": {},
     "output_type": "execute_result"
    }
   ],
   "source": [
    "fmsx05"
   ],
   "metadata": {
    "collapsed": false
   }
  }
 ],
 "metadata": {
  "kernelspec": {
   "display_name": "Python 3",
   "language": "python",
   "name": "python3"
  },
  "language_info": {
   "codemirror_mode": {
    "name": "ipython",
    "version": 2
   },
   "file_extension": ".py",
   "mimetype": "text/x-python",
   "name": "python",
   "nbconvert_exporter": "python",
   "pygments_lexer": "ipython2",
   "version": "2.7.6"
  }
 },
 "nbformat": 4,
 "nbformat_minor": 0
}

{
 "cells": [
  {
   "cell_type": "code",
   "execution_count": 278,
   "metadata": {
    "collapsed": true
   },
   "outputs": [],
   "source": [
    "import pandas as pd\n",
    "from pathlib import Path\n",
    "import datetime"
   ]
  },
  {
   "cell_type": "code",
   "execution_count": 279,
   "outputs": [],
   "source": [
    "#pd.options.display.float_format = '{:.3f}'.format"
   ],
   "metadata": {
    "collapsed": false
   }
  },
  {
   "cell_type": "code",
   "execution_count": 280,
   "outputs": [
    {
     "data": {
      "text/plain": "   Unnamed: 0 Lv1     Lv2      Lv3         Lv4    장애건수  자재매칭건수  매칭비율    그룹정의  \\\n0           0  기계  공기조화설비  개별냉난방설비  개별냉난방기 실내기 309.000   4.000 0.013  개별냉난방기   \n1           1  기계  공기조화설비  개별냉난방설비  개별냉난방기 실내기 309.000   4.000 0.013  개별냉난방기   \n2           2  기계  공기조화설비  개별냉난방설비  개별냉난방기 실내기 309.000   4.000 0.013  개별냉난방기   \n3           3  기계  공기조화설비  개별냉난방설비  개별냉난방기 실내기 309.000   4.000 0.013  개별냉난방기   \n4           4  기계  공기조화설비  개별냉난방설비  개별냉난방기 실내기 309.000   4.000 0.013  개별냉난방기   \n\n  장애분석  ...  fac_instdt job_jisi_dt  설치-작업간격  작업-작업간격  작업횟수  job_cd job_nm  \\\n0    O  ...  2014-04-01           0 3115.000 3115.000 0.000       0      0   \n1    O  ...  2019-11-01           0 1075.000 1075.000 0.000       0      0   \n2    O  ...  2019-11-01           0 1075.000 1075.000 0.000       0      0   \n3    O  ...  2013-09-01           0 3327.000 3327.000 0.000       0      0   \n4    O  ...  2013-09-01           0 3327.000 3327.000 0.000       0      0   \n\n     max_time     경과시간  status  \n0  2022-10-11 3115.000   0.000  \n1  2022-10-11 1075.000   0.000  \n2  2022-10-11 1075.000   0.000  \n3  2022-10-11 3327.000   0.000  \n4  2022-10-11 3327.000   0.000  \n\n[5 rows x 27 columns]",
      "text/html": "<div>\n<style scoped>\n    .dataframe tbody tr th:only-of-type {\n        vertical-align: middle;\n    }\n\n    .dataframe tbody tr th {\n        vertical-align: top;\n    }\n\n    .dataframe thead th {\n        text-align: right;\n    }\n</style>\n<table border=\"1\" class=\"dataframe\">\n  <thead>\n    <tr style=\"text-align: right;\">\n      <th></th>\n      <th>Unnamed: 0</th>\n      <th>Lv1</th>\n      <th>Lv2</th>\n      <th>Lv3</th>\n      <th>Lv4</th>\n      <th>장애건수</th>\n      <th>자재매칭건수</th>\n      <th>매칭비율</th>\n      <th>그룹정의</th>\n      <th>장애분석</th>\n      <th>...</th>\n      <th>fac_instdt</th>\n      <th>job_jisi_dt</th>\n      <th>설치-작업간격</th>\n      <th>작업-작업간격</th>\n      <th>작업횟수</th>\n      <th>job_cd</th>\n      <th>job_nm</th>\n      <th>max_time</th>\n      <th>경과시간</th>\n      <th>status</th>\n    </tr>\n  </thead>\n  <tbody>\n    <tr>\n      <th>0</th>\n      <td>0</td>\n      <td>기계</td>\n      <td>공기조화설비</td>\n      <td>개별냉난방설비</td>\n      <td>개별냉난방기 실내기</td>\n      <td>309.000</td>\n      <td>4.000</td>\n      <td>0.013</td>\n      <td>개별냉난방기</td>\n      <td>O</td>\n      <td>...</td>\n      <td>2014-04-01</td>\n      <td>0</td>\n      <td>3115.000</td>\n      <td>3115.000</td>\n      <td>0.000</td>\n      <td>0</td>\n      <td>0</td>\n      <td>2022-10-11</td>\n      <td>3115.000</td>\n      <td>0.000</td>\n    </tr>\n    <tr>\n      <th>1</th>\n      <td>1</td>\n      <td>기계</td>\n      <td>공기조화설비</td>\n      <td>개별냉난방설비</td>\n      <td>개별냉난방기 실내기</td>\n      <td>309.000</td>\n      <td>4.000</td>\n      <td>0.013</td>\n      <td>개별냉난방기</td>\n      <td>O</td>\n      <td>...</td>\n      <td>2019-11-01</td>\n      <td>0</td>\n      <td>1075.000</td>\n      <td>1075.000</td>\n      <td>0.000</td>\n      <td>0</td>\n      <td>0</td>\n      <td>2022-10-11</td>\n      <td>1075.000</td>\n      <td>0.000</td>\n    </tr>\n    <tr>\n      <th>2</th>\n      <td>2</td>\n      <td>기계</td>\n      <td>공기조화설비</td>\n      <td>개별냉난방설비</td>\n      <td>개별냉난방기 실내기</td>\n      <td>309.000</td>\n      <td>4.000</td>\n      <td>0.013</td>\n      <td>개별냉난방기</td>\n      <td>O</td>\n      <td>...</td>\n      <td>2019-11-01</td>\n      <td>0</td>\n      <td>1075.000</td>\n      <td>1075.000</td>\n      <td>0.000</td>\n      <td>0</td>\n      <td>0</td>\n      <td>2022-10-11</td>\n      <td>1075.000</td>\n      <td>0.000</td>\n    </tr>\n    <tr>\n      <th>3</th>\n      <td>3</td>\n      <td>기계</td>\n      <td>공기조화설비</td>\n      <td>개별냉난방설비</td>\n      <td>개별냉난방기 실내기</td>\n      <td>309.000</td>\n      <td>4.000</td>\n      <td>0.013</td>\n      <td>개별냉난방기</td>\n      <td>O</td>\n      <td>...</td>\n      <td>2013-09-01</td>\n      <td>0</td>\n      <td>3327.000</td>\n      <td>3327.000</td>\n      <td>0.000</td>\n      <td>0</td>\n      <td>0</td>\n      <td>2022-10-11</td>\n      <td>3327.000</td>\n      <td>0.000</td>\n    </tr>\n    <tr>\n      <th>4</th>\n      <td>4</td>\n      <td>기계</td>\n      <td>공기조화설비</td>\n      <td>개별냉난방설비</td>\n      <td>개별냉난방기 실내기</td>\n      <td>309.000</td>\n      <td>4.000</td>\n      <td>0.013</td>\n      <td>개별냉난방기</td>\n      <td>O</td>\n      <td>...</td>\n      <td>2013-09-01</td>\n      <td>0</td>\n      <td>3327.000</td>\n      <td>3327.000</td>\n      <td>0.000</td>\n      <td>0</td>\n      <td>0</td>\n      <td>2022-10-11</td>\n      <td>3327.000</td>\n      <td>0.000</td>\n    </tr>\n  </tbody>\n</table>\n<p>5 rows × 27 columns</p>\n</div>"
     },
     "execution_count": 280,
     "metadata": {},
     "output_type": "execute_result"
    }
   ],
   "source": [
    "data = pd.read_csv('생존분석.csv')\n",
    "data=data[data['장애분석']!= 'X']\n",
    "data.head()"
   ],
   "metadata": {
    "collapsed": false
   }
  },
  {
   "cell_type": "code",
   "execution_count": 348,
   "outputs": [
    {
     "data": {
      "text/plain": "                fac_cd  Unnamed: 0  Lv1     Lv2   Lv3        Lv4    장애건수  \\\n0     700102030046.000       31830  승강기     승객용   MRL          카 181.000   \n1     200105020042.000       13739   기계  공기조화설비  환기설비        유인팬   9.000   \n2     200105020036.000       13732   기계  공기조화설비  환기설비        유인팬   9.000   \n3     200105020035.000       13733   기계  공기조화설비  환기설비        유인팬   9.000   \n4     200105020037.000       13734   기계  공기조화설비  환기설비        유인팬   9.000   \n...                ...         ...  ...     ...   ...        ...     ...   \n15111 300302020009.000       37785   전기  감시제어설비  원격감시       주차관제  40.000   \n15475 300401020095.000       38149   전기  전력부하설비    조명   옥내 일반 조명  18.000   \n15478 300401020096.000       38152   전기  전력부하설비    조명   옥내 일반 조명  18.000   \n15486 300401020099.000       38160   전기  전력부하설비    조명   옥내 일반 조명  18.000   \n15489 300401030018.000       38163   전기  전력부하설비    조명  옥외 LED 조명  27.000   \n\n       자재매칭건수  매칭비율       그룹정의  ...  fac_instdt          job_jisi_dt  설치-작업간격  \\\n0     128.000 0.707     카(승객용)  ...  2014-08-01                    0 2993.000   \n1       8.000 0.889    환기설비/기타  ...  2013-03-01                    0 3511.000   \n2       8.000 0.889    환기설비/기타  ...  2013-03-01                    0 3511.000   \n3       8.000 0.889    환기설비/기타  ...  2013-03-01                    0 3511.000   \n4       8.000 0.889    환기설비/기타  ...  2013-03-01                    0 3511.000   \n...       ...   ...        ...  ...         ...                  ...      ...   \n15111   5.000 0.130       주차관제  ...  2019-10-21  2021-12-02 00:00:00  773.000   \n15475  12.000 0.670   옥내 일반 조명  ...  2014-01-01  2021-11-18 00:00:00 2878.000   \n15478  12.000 0.670   옥내 일반 조명  ...  2014-01-01  2022-02-14 00:00:00 2966.000   \n15486  12.000 0.670   옥내 일반 조명  ...  2014-01-01  2022-01-24 00:00:00 2945.000   \n15489  12.000 0.440  옥외 LED 조명  ...  2013-11-01  2022-03-18 00:00:00 3059.000   \n\n       작업-작업간격  작업횟수        job_cd                    job_nm    max_time  \\\n0     2993.000 0.000             0                         0  2022-10-11   \n1     3511.000 0.000             0                         0  2022-10-11   \n2     3511.000 0.000             0                         0  2022-10-11   \n3     3511.000 0.000             0                         0  2022-10-11   \n4     3511.000 0.000             0                         0  2022-10-11   \n...        ...   ...           ...                       ...         ...   \n15111   20.000 2.000  211202-00056          17동 주차관제 부스커버 교체  2022-10-11   \n15475   41.000 2.000  211118-00036     16동 지하주차장 썬큰 계단벽부등 교체  2022-10-11   \n15478   33.000 2.000  220214-00062   16동 소산시설 형광램프 교체용 자재 불출  2022-10-11   \n15486  110.000 2.000  220124-00059  17동 기계실 우수조 조명 등기구 교체 작업  2022-10-11   \n15489  143.000 2.000  220318-00038            7,8동 옥외조명설비 점검  2022-10-11   \n\n          경과시간  status  \n0     2993.000   0.000  \n1     3511.000   0.000  \n2     3511.000   0.000  \n3     3511.000   0.000  \n4     3511.000   0.000  \n...        ...     ...  \n15111  313.000   1.000  \n15475  327.000   1.000  \n15478  239.000   1.000  \n15486  260.000   1.000  \n15489  207.000   1.000  \n\n[13974 rows x 27 columns]",
      "text/html": "<div>\n<style scoped>\n    .dataframe tbody tr th:only-of-type {\n        vertical-align: middle;\n    }\n\n    .dataframe tbody tr th {\n        vertical-align: top;\n    }\n\n    .dataframe thead th {\n        text-align: right;\n    }\n</style>\n<table border=\"1\" class=\"dataframe\">\n  <thead>\n    <tr style=\"text-align: right;\">\n      <th></th>\n      <th>fac_cd</th>\n      <th>Unnamed: 0</th>\n      <th>Lv1</th>\n      <th>Lv2</th>\n      <th>Lv3</th>\n      <th>Lv4</th>\n      <th>장애건수</th>\n      <th>자재매칭건수</th>\n      <th>매칭비율</th>\n      <th>그룹정의</th>\n      <th>...</th>\n      <th>fac_instdt</th>\n      <th>job_jisi_dt</th>\n      <th>설치-작업간격</th>\n      <th>작업-작업간격</th>\n      <th>작업횟수</th>\n      <th>job_cd</th>\n      <th>job_nm</th>\n      <th>max_time</th>\n      <th>경과시간</th>\n      <th>status</th>\n    </tr>\n  </thead>\n  <tbody>\n    <tr>\n      <th>0</th>\n      <td>700102030046.000</td>\n      <td>31830</td>\n      <td>승강기</td>\n      <td>승객용</td>\n      <td>MRL</td>\n      <td>카</td>\n      <td>181.000</td>\n      <td>128.000</td>\n      <td>0.707</td>\n      <td>카(승객용)</td>\n      <td>...</td>\n      <td>2014-08-01</td>\n      <td>0</td>\n      <td>2993.000</td>\n      <td>2993.000</td>\n      <td>0.000</td>\n      <td>0</td>\n      <td>0</td>\n      <td>2022-10-11</td>\n      <td>2993.000</td>\n      <td>0.000</td>\n    </tr>\n    <tr>\n      <th>1</th>\n      <td>200105020042.000</td>\n      <td>13739</td>\n      <td>기계</td>\n      <td>공기조화설비</td>\n      <td>환기설비</td>\n      <td>유인팬</td>\n      <td>9.000</td>\n      <td>8.000</td>\n      <td>0.889</td>\n      <td>환기설비/기타</td>\n      <td>...</td>\n      <td>2013-03-01</td>\n      <td>0</td>\n      <td>3511.000</td>\n      <td>3511.000</td>\n      <td>0.000</td>\n      <td>0</td>\n      <td>0</td>\n      <td>2022-10-11</td>\n      <td>3511.000</td>\n      <td>0.000</td>\n    </tr>\n    <tr>\n      <th>2</th>\n      <td>200105020036.000</td>\n      <td>13732</td>\n      <td>기계</td>\n      <td>공기조화설비</td>\n      <td>환기설비</td>\n      <td>유인팬</td>\n      <td>9.000</td>\n      <td>8.000</td>\n      <td>0.889</td>\n      <td>환기설비/기타</td>\n      <td>...</td>\n      <td>2013-03-01</td>\n      <td>0</td>\n      <td>3511.000</td>\n      <td>3511.000</td>\n      <td>0.000</td>\n      <td>0</td>\n      <td>0</td>\n      <td>2022-10-11</td>\n      <td>3511.000</td>\n      <td>0.000</td>\n    </tr>\n    <tr>\n      <th>3</th>\n      <td>200105020035.000</td>\n      <td>13733</td>\n      <td>기계</td>\n      <td>공기조화설비</td>\n      <td>환기설비</td>\n      <td>유인팬</td>\n      <td>9.000</td>\n      <td>8.000</td>\n      <td>0.889</td>\n      <td>환기설비/기타</td>\n      <td>...</td>\n      <td>2013-03-01</td>\n      <td>0</td>\n      <td>3511.000</td>\n      <td>3511.000</td>\n      <td>0.000</td>\n      <td>0</td>\n      <td>0</td>\n      <td>2022-10-11</td>\n      <td>3511.000</td>\n      <td>0.000</td>\n    </tr>\n    <tr>\n      <th>4</th>\n      <td>200105020037.000</td>\n      <td>13734</td>\n      <td>기계</td>\n      <td>공기조화설비</td>\n      <td>환기설비</td>\n      <td>유인팬</td>\n      <td>9.000</td>\n      <td>8.000</td>\n      <td>0.889</td>\n      <td>환기설비/기타</td>\n      <td>...</td>\n      <td>2013-03-01</td>\n      <td>0</td>\n      <td>3511.000</td>\n      <td>3511.000</td>\n      <td>0.000</td>\n      <td>0</td>\n      <td>0</td>\n      <td>2022-10-11</td>\n      <td>3511.000</td>\n      <td>0.000</td>\n    </tr>\n    <tr>\n      <th>...</th>\n      <td>...</td>\n      <td>...</td>\n      <td>...</td>\n      <td>...</td>\n      <td>...</td>\n      <td>...</td>\n      <td>...</td>\n      <td>...</td>\n      <td>...</td>\n      <td>...</td>\n      <td>...</td>\n      <td>...</td>\n      <td>...</td>\n      <td>...</td>\n      <td>...</td>\n      <td>...</td>\n      <td>...</td>\n      <td>...</td>\n      <td>...</td>\n      <td>...</td>\n      <td>...</td>\n    </tr>\n    <tr>\n      <th>15111</th>\n      <td>300302020009.000</td>\n      <td>37785</td>\n      <td>전기</td>\n      <td>감시제어설비</td>\n      <td>원격감시</td>\n      <td>주차관제</td>\n      <td>40.000</td>\n      <td>5.000</td>\n      <td>0.130</td>\n      <td>주차관제</td>\n      <td>...</td>\n      <td>2019-10-21</td>\n      <td>2021-12-02 00:00:00</td>\n      <td>773.000</td>\n      <td>20.000</td>\n      <td>2.000</td>\n      <td>211202-00056</td>\n      <td>17동 주차관제 부스커버 교체</td>\n      <td>2022-10-11</td>\n      <td>313.000</td>\n      <td>1.000</td>\n    </tr>\n    <tr>\n      <th>15475</th>\n      <td>300401020095.000</td>\n      <td>38149</td>\n      <td>전기</td>\n      <td>전력부하설비</td>\n      <td>조명</td>\n      <td>옥내 일반 조명</td>\n      <td>18.000</td>\n      <td>12.000</td>\n      <td>0.670</td>\n      <td>옥내 일반 조명</td>\n      <td>...</td>\n      <td>2014-01-01</td>\n      <td>2021-11-18 00:00:00</td>\n      <td>2878.000</td>\n      <td>41.000</td>\n      <td>2.000</td>\n      <td>211118-00036</td>\n      <td>16동 지하주차장 썬큰 계단벽부등 교체</td>\n      <td>2022-10-11</td>\n      <td>327.000</td>\n      <td>1.000</td>\n    </tr>\n    <tr>\n      <th>15478</th>\n      <td>300401020096.000</td>\n      <td>38152</td>\n      <td>전기</td>\n      <td>전력부하설비</td>\n      <td>조명</td>\n      <td>옥내 일반 조명</td>\n      <td>18.000</td>\n      <td>12.000</td>\n      <td>0.670</td>\n      <td>옥내 일반 조명</td>\n      <td>...</td>\n      <td>2014-01-01</td>\n      <td>2022-02-14 00:00:00</td>\n      <td>2966.000</td>\n      <td>33.000</td>\n      <td>2.000</td>\n      <td>220214-00062</td>\n      <td>16동 소산시설 형광램프 교체용 자재 불출</td>\n      <td>2022-10-11</td>\n      <td>239.000</td>\n      <td>1.000</td>\n    </tr>\n    <tr>\n      <th>15486</th>\n      <td>300401020099.000</td>\n      <td>38160</td>\n      <td>전기</td>\n      <td>전력부하설비</td>\n      <td>조명</td>\n      <td>옥내 일반 조명</td>\n      <td>18.000</td>\n      <td>12.000</td>\n      <td>0.670</td>\n      <td>옥내 일반 조명</td>\n      <td>...</td>\n      <td>2014-01-01</td>\n      <td>2022-01-24 00:00:00</td>\n      <td>2945.000</td>\n      <td>110.000</td>\n      <td>2.000</td>\n      <td>220124-00059</td>\n      <td>17동 기계실 우수조 조명 등기구 교체 작업</td>\n      <td>2022-10-11</td>\n      <td>260.000</td>\n      <td>1.000</td>\n    </tr>\n    <tr>\n      <th>15489</th>\n      <td>300401030018.000</td>\n      <td>38163</td>\n      <td>전기</td>\n      <td>전력부하설비</td>\n      <td>조명</td>\n      <td>옥외 LED 조명</td>\n      <td>27.000</td>\n      <td>12.000</td>\n      <td>0.440</td>\n      <td>옥외 LED 조명</td>\n      <td>...</td>\n      <td>2013-11-01</td>\n      <td>2022-03-18 00:00:00</td>\n      <td>3059.000</td>\n      <td>143.000</td>\n      <td>2.000</td>\n      <td>220318-00038</td>\n      <td>7,8동 옥외조명설비 점검</td>\n      <td>2022-10-11</td>\n      <td>207.000</td>\n      <td>1.000</td>\n    </tr>\n  </tbody>\n</table>\n<p>13974 rows × 27 columns</p>\n</div>"
     },
     "execution_count": 348,
     "metadata": {},
     "output_type": "execute_result"
    }
   ],
   "source": [
    "cnt = data['fac_cd'].value_counts()\n",
    "\n",
    "# 작업을 한번'만' 한 경우\n",
    "first = list(cnt[cnt==1].index)\n",
    "first_df = pd.DataFrame({'fac_cd':first})\n",
    "# 작업을 한번 이상 한 장비\n",
    "first_df_2 = data[data['작업횟수']==1]\n",
    "\n",
    "# 작업을 두번'만' 한 장비\n",
    "second = list(cnt[cnt==2].index)\n",
    "second_df = pd.DataFrame({'fac_cd':second})\n",
    "\n",
    "#작업을 두번 이상 한 장비\n",
    "second_df_2 = data[data['작업횟수']==2]\n",
    "\n",
    "# 작업을 세번이상 한 경우\n",
    "third = list(cnt[cnt>=3].index)\n",
    "\n",
    "first_df = pd.merge(first_df,data,on='fac_cd',how='left')\n",
    "predict_cnt_1 = pd.concat([first_df,second_df_2],axis=0)\n",
    "predict_cnt_1"
   ],
   "metadata": {
    "collapsed": false
   }
  },
  {
   "cell_type": "code",
   "execution_count": 340,
   "outputs": [
    {
     "data": {
      "text/plain": "       Unnamed: 0 Lv1     Lv2      Lv3         Lv4    장애건수  자재매칭건수  매칭비율  \\\n439           439  기계  공기조화설비  개별냉난방설비  개별냉난방기 실내기 309.000   4.000 0.013   \n480           480  기계  공기조화설비  개별냉난방설비  개별냉난방기 실내기 309.000   4.000 0.013   \n482           482  기계  공기조화설비  개별냉난방설비  개별냉난방기 실내기 309.000   4.000 0.013   \n484           484  기계  공기조화설비  개별냉난방설비  개별냉난방기 실내기 309.000   4.000 0.013   \n486           486  기계  공기조화설비  개별냉난방설비  개별냉난방기 실내기 309.000   4.000 0.013   \n...           ...  ..     ...      ...         ...     ...     ...   ...   \n15111       37785  전기  감시제어설비     원격감시        주차관제  40.000   5.000 0.130   \n15475       38149  전기  전력부하설비       조명    옥내 일반 조명  18.000  12.000 0.670   \n15478       38152  전기  전력부하설비       조명    옥내 일반 조명  18.000  12.000 0.670   \n15486       38160  전기  전력부하설비       조명    옥내 일반 조명  18.000  12.000 0.670   \n15489       38163  전기  전력부하설비       조명   옥외 LED 조명  27.000  12.000 0.440   \n\n            그룹정의 장애분석  ...  fac_instdt          job_jisi_dt  설치-작업간격 작업-작업간격  \\\n439       개별냉난방기    O  ...  2014-11-01  2022-05-27 00:00:00 2764.000 232.000   \n480       개별냉난방기    O  ...  2014-03-01  2022-05-12 00:00:00 2994.000 218.000   \n482       개별냉난방기    O  ...  2014-03-01  2022-05-12 00:00:00 2994.000 218.000   \n484       개별냉난방기    O  ...  2014-03-01  2022-05-12 00:00:00 2994.000 218.000   \n486       개별냉난방기    O  ...  2014-03-01  2022-05-12 00:00:00 2994.000 218.000   \n...          ...  ...  ...         ...                  ...      ...     ...   \n15111       주차관제    o  ...  2019-10-21  2021-12-02 00:00:00  773.000  20.000   \n15475   옥내 일반 조명    o  ...  2014-01-01  2021-11-18 00:00:00 2878.000  41.000   \n15478   옥내 일반 조명    o  ...  2014-01-01  2022-02-14 00:00:00 2966.000  33.000   \n15486   옥내 일반 조명    o  ...  2014-01-01  2022-01-24 00:00:00 2945.000 110.000   \n15489  옥외 LED 조명    o  ...  2013-11-01  2022-03-18 00:00:00 3059.000 143.000   \n\n       작업횟수        job_cd                                   job_nm  \\\n439   2.000  220527-00040  7-1동 농협은행 법제처점 지점장실  시스템 에어컨 키지 않아도 돌아감   \n480   2.000  220512-00043                    7동 3층~2층 EHP 필터 청소 작업   \n482   2.000  220512-00043                    7동 3층~2층 EHP 필터 청소 작업   \n484   2.000  220512-00043                    7동 3층~2층 EHP 필터 청소 작업   \n486   2.000  220512-00043                    7동 3층~2층 EHP 필터 청소 작업   \n...     ...           ...                                      ...   \n15111 2.000  211202-00056                         17동 주차관제 부스커버 교체   \n15475 2.000  211118-00036                    16동 지하주차장 썬큰 계단벽부등 교체   \n15478 2.000  220214-00062                  16동 소산시설 형광램프 교체용 자재 불출   \n15486 2.000  220124-00059                 17동 기계실 우수조 조명 등기구 교체 작업   \n15489 2.000  220318-00038                           7,8동 옥외조명설비 점검   \n\n         max_time    경과시간  status  \n439    2022-10-11 137.000   1.000  \n480    2022-10-11 152.000   1.000  \n482    2022-10-11 152.000   1.000  \n484    2022-10-11 152.000   1.000  \n486    2022-10-11 152.000   1.000  \n...           ...     ...     ...  \n15111  2022-10-11 313.000   1.000  \n15475  2022-10-11 327.000   1.000  \n15478  2022-10-11 239.000   1.000  \n15486  2022-10-11 260.000   1.000  \n15489  2022-10-11 207.000   1.000  \n\n[738 rows x 27 columns]",
      "text/html": "<div>\n<style scoped>\n    .dataframe tbody tr th:only-of-type {\n        vertical-align: middle;\n    }\n\n    .dataframe tbody tr th {\n        vertical-align: top;\n    }\n\n    .dataframe thead th {\n        text-align: right;\n    }\n</style>\n<table border=\"1\" class=\"dataframe\">\n  <thead>\n    <tr style=\"text-align: right;\">\n      <th></th>\n      <th>Unnamed: 0</th>\n      <th>Lv1</th>\n      <th>Lv2</th>\n      <th>Lv3</th>\n      <th>Lv4</th>\n      <th>장애건수</th>\n      <th>자재매칭건수</th>\n      <th>매칭비율</th>\n      <th>그룹정의</th>\n      <th>장애분석</th>\n      <th>...</th>\n      <th>fac_instdt</th>\n      <th>job_jisi_dt</th>\n      <th>설치-작업간격</th>\n      <th>작업-작업간격</th>\n      <th>작업횟수</th>\n      <th>job_cd</th>\n      <th>job_nm</th>\n      <th>max_time</th>\n      <th>경과시간</th>\n      <th>status</th>\n    </tr>\n  </thead>\n  <tbody>\n    <tr>\n      <th>439</th>\n      <td>439</td>\n      <td>기계</td>\n      <td>공기조화설비</td>\n      <td>개별냉난방설비</td>\n      <td>개별냉난방기 실내기</td>\n      <td>309.000</td>\n      <td>4.000</td>\n      <td>0.013</td>\n      <td>개별냉난방기</td>\n      <td>O</td>\n      <td>...</td>\n      <td>2014-11-01</td>\n      <td>2022-05-27 00:00:00</td>\n      <td>2764.000</td>\n      <td>232.000</td>\n      <td>2.000</td>\n      <td>220527-00040</td>\n      <td>7-1동 농협은행 법제처점 지점장실  시스템 에어컨 키지 않아도 돌아감</td>\n      <td>2022-10-11</td>\n      <td>137.000</td>\n      <td>1.000</td>\n    </tr>\n    <tr>\n      <th>480</th>\n      <td>480</td>\n      <td>기계</td>\n      <td>공기조화설비</td>\n      <td>개별냉난방설비</td>\n      <td>개별냉난방기 실내기</td>\n      <td>309.000</td>\n      <td>4.000</td>\n      <td>0.013</td>\n      <td>개별냉난방기</td>\n      <td>O</td>\n      <td>...</td>\n      <td>2014-03-01</td>\n      <td>2022-05-12 00:00:00</td>\n      <td>2994.000</td>\n      <td>218.000</td>\n      <td>2.000</td>\n      <td>220512-00043</td>\n      <td>7동 3층~2층 EHP 필터 청소 작업</td>\n      <td>2022-10-11</td>\n      <td>152.000</td>\n      <td>1.000</td>\n    </tr>\n    <tr>\n      <th>482</th>\n      <td>482</td>\n      <td>기계</td>\n      <td>공기조화설비</td>\n      <td>개별냉난방설비</td>\n      <td>개별냉난방기 실내기</td>\n      <td>309.000</td>\n      <td>4.000</td>\n      <td>0.013</td>\n      <td>개별냉난방기</td>\n      <td>O</td>\n      <td>...</td>\n      <td>2014-03-01</td>\n      <td>2022-05-12 00:00:00</td>\n      <td>2994.000</td>\n      <td>218.000</td>\n      <td>2.000</td>\n      <td>220512-00043</td>\n      <td>7동 3층~2층 EHP 필터 청소 작업</td>\n      <td>2022-10-11</td>\n      <td>152.000</td>\n      <td>1.000</td>\n    </tr>\n    <tr>\n      <th>484</th>\n      <td>484</td>\n      <td>기계</td>\n      <td>공기조화설비</td>\n      <td>개별냉난방설비</td>\n      <td>개별냉난방기 실내기</td>\n      <td>309.000</td>\n      <td>4.000</td>\n      <td>0.013</td>\n      <td>개별냉난방기</td>\n      <td>O</td>\n      <td>...</td>\n      <td>2014-03-01</td>\n      <td>2022-05-12 00:00:00</td>\n      <td>2994.000</td>\n      <td>218.000</td>\n      <td>2.000</td>\n      <td>220512-00043</td>\n      <td>7동 3층~2층 EHP 필터 청소 작업</td>\n      <td>2022-10-11</td>\n      <td>152.000</td>\n      <td>1.000</td>\n    </tr>\n    <tr>\n      <th>486</th>\n      <td>486</td>\n      <td>기계</td>\n      <td>공기조화설비</td>\n      <td>개별냉난방설비</td>\n      <td>개별냉난방기 실내기</td>\n      <td>309.000</td>\n      <td>4.000</td>\n      <td>0.013</td>\n      <td>개별냉난방기</td>\n      <td>O</td>\n      <td>...</td>\n      <td>2014-03-01</td>\n      <td>2022-05-12 00:00:00</td>\n      <td>2994.000</td>\n      <td>218.000</td>\n      <td>2.000</td>\n      <td>220512-00043</td>\n      <td>7동 3층~2층 EHP 필터 청소 작업</td>\n      <td>2022-10-11</td>\n      <td>152.000</td>\n      <td>1.000</td>\n    </tr>\n    <tr>\n      <th>...</th>\n      <td>...</td>\n      <td>...</td>\n      <td>...</td>\n      <td>...</td>\n      <td>...</td>\n      <td>...</td>\n      <td>...</td>\n      <td>...</td>\n      <td>...</td>\n      <td>...</td>\n      <td>...</td>\n      <td>...</td>\n      <td>...</td>\n      <td>...</td>\n      <td>...</td>\n      <td>...</td>\n      <td>...</td>\n      <td>...</td>\n      <td>...</td>\n      <td>...</td>\n      <td>...</td>\n    </tr>\n    <tr>\n      <th>15111</th>\n      <td>37785</td>\n      <td>전기</td>\n      <td>감시제어설비</td>\n      <td>원격감시</td>\n      <td>주차관제</td>\n      <td>40.000</td>\n      <td>5.000</td>\n      <td>0.130</td>\n      <td>주차관제</td>\n      <td>o</td>\n      <td>...</td>\n      <td>2019-10-21</td>\n      <td>2021-12-02 00:00:00</td>\n      <td>773.000</td>\n      <td>20.000</td>\n      <td>2.000</td>\n      <td>211202-00056</td>\n      <td>17동 주차관제 부스커버 교체</td>\n      <td>2022-10-11</td>\n      <td>313.000</td>\n      <td>1.000</td>\n    </tr>\n    <tr>\n      <th>15475</th>\n      <td>38149</td>\n      <td>전기</td>\n      <td>전력부하설비</td>\n      <td>조명</td>\n      <td>옥내 일반 조명</td>\n      <td>18.000</td>\n      <td>12.000</td>\n      <td>0.670</td>\n      <td>옥내 일반 조명</td>\n      <td>o</td>\n      <td>...</td>\n      <td>2014-01-01</td>\n      <td>2021-11-18 00:00:00</td>\n      <td>2878.000</td>\n      <td>41.000</td>\n      <td>2.000</td>\n      <td>211118-00036</td>\n      <td>16동 지하주차장 썬큰 계단벽부등 교체</td>\n      <td>2022-10-11</td>\n      <td>327.000</td>\n      <td>1.000</td>\n    </tr>\n    <tr>\n      <th>15478</th>\n      <td>38152</td>\n      <td>전기</td>\n      <td>전력부하설비</td>\n      <td>조명</td>\n      <td>옥내 일반 조명</td>\n      <td>18.000</td>\n      <td>12.000</td>\n      <td>0.670</td>\n      <td>옥내 일반 조명</td>\n      <td>o</td>\n      <td>...</td>\n      <td>2014-01-01</td>\n      <td>2022-02-14 00:00:00</td>\n      <td>2966.000</td>\n      <td>33.000</td>\n      <td>2.000</td>\n      <td>220214-00062</td>\n      <td>16동 소산시설 형광램프 교체용 자재 불출</td>\n      <td>2022-10-11</td>\n      <td>239.000</td>\n      <td>1.000</td>\n    </tr>\n    <tr>\n      <th>15486</th>\n      <td>38160</td>\n      <td>전기</td>\n      <td>전력부하설비</td>\n      <td>조명</td>\n      <td>옥내 일반 조명</td>\n      <td>18.000</td>\n      <td>12.000</td>\n      <td>0.670</td>\n      <td>옥내 일반 조명</td>\n      <td>o</td>\n      <td>...</td>\n      <td>2014-01-01</td>\n      <td>2022-01-24 00:00:00</td>\n      <td>2945.000</td>\n      <td>110.000</td>\n      <td>2.000</td>\n      <td>220124-00059</td>\n      <td>17동 기계실 우수조 조명 등기구 교체 작업</td>\n      <td>2022-10-11</td>\n      <td>260.000</td>\n      <td>1.000</td>\n    </tr>\n    <tr>\n      <th>15489</th>\n      <td>38163</td>\n      <td>전기</td>\n      <td>전력부하설비</td>\n      <td>조명</td>\n      <td>옥외 LED 조명</td>\n      <td>27.000</td>\n      <td>12.000</td>\n      <td>0.440</td>\n      <td>옥외 LED 조명</td>\n      <td>o</td>\n      <td>...</td>\n      <td>2013-11-01</td>\n      <td>2022-03-18 00:00:00</td>\n      <td>3059.000</td>\n      <td>143.000</td>\n      <td>2.000</td>\n      <td>220318-00038</td>\n      <td>7,8동 옥외조명설비 점검</td>\n      <td>2022-10-11</td>\n      <td>207.000</td>\n      <td>1.000</td>\n    </tr>\n  </tbody>\n</table>\n<p>738 rows × 27 columns</p>\n</div>"
     },
     "execution_count": 340,
     "metadata": {},
     "output_type": "execute_result"
    }
   ],
   "source": [
    "data[data['작업횟수']==2]"
   ],
   "metadata": {
    "collapsed": false
   }
  },
  {
   "cell_type": "code",
   "execution_count": null,
   "outputs": [],
   "source": [
    "data_first = data[data['작업횟수']<=1]"
   ],
   "metadata": {
    "collapsed": false
   }
  },
  {
   "cell_type": "code",
   "execution_count": 281,
   "outputs": [],
   "source": [
    "import matplotlib.pyplot as plt\n",
    "from lifelines import KaplanMeierFitter\n",
    "\n",
    "plt.rc('font', family='AppleGothic')\n",
    "plt.rcParams['axes.unicode_minus'] = False"
   ],
   "metadata": {
    "collapsed": false
   }
  },
  {
   "cell_type": "markdown",
   "source": [
    "1. 그룸 정의 별로 학습하기\n",
    "2. 각 장비별로 인풋값에 넣기\n",
    "3. 두번 이상 고장난 경우 > status 다르게 해서 봐야함 2번 고장만 난 경우 > 0 3번이상 고장 난 경우 >1"
   ],
   "metadata": {
    "collapsed": false
   }
  },
  {
   "cell_type": "code",
   "execution_count": 282,
   "outputs": [],
   "source": [
    "\n",
    "def kplan(그룹정의):\n",
    "    output_data = pd.DataFrame({\n",
    "    '장비분류' :[],\n",
    "    '동':[],\n",
    "    '층' :[],\n",
    "    '장비코드' :[],\n",
    "    '장비명' : [],\n",
    "    '장애발생횟수' :[],\n",
    "    '최근장애일자' :[],\n",
    "    '7일이내장애확률' :[],\n",
    "    '30일이내장애확률':[],\n",
    "})\n",
    "\n",
    "\n",
    "    input_data = data[data['그룹정의']==그룹정의]\n",
    "    # 이때까지 장애가 발생하지 않은 경우 > 처음 발생 하는 확률 찾기\n",
    "    input_first = input_data[input_data['작업횟수']<=1]\n",
    "    if len(input_first) >=2:\n",
    "        kmf_first= KaplanMeierFitter()\n",
    "        var_first = 0\n",
    "        input_first.sort_values(by='작업-작업간격', ascending=True)\n",
    "        kmf_first.fit(durations=input_first['작업-작업간격'], event_observed=input_first['status'])\n",
    "\n",
    "    # 작업횟수 = 2 인 경우 > 장애가 한번 발생한 장비의 다음 장비 예측하기\n",
    "    input_second = input_data[input_data['작업횟수']==2]\n",
    "    if len(input_second) >=2:\n",
    "        kmf_second= KaplanMeierFitter()\n",
    "        var_second = 0\n",
    "        input_second.sort_values(by='작업-작업간격', ascending=True)\n",
    "        kmf_second.fit(durations=input_second['작업-작업간격'], event_observed=input_second['status'])\n",
    "\n",
    "    # 작업횟수 >=3 인 경우 > 재발한 장비의 다음 장비 예측하기\n",
    "\n",
    "    input_third = input_data[input_data['작업횟수']>=3]\n",
    "    if len(input_third) >=2:\n",
    "        kmf_third= KaplanMeierFitter()\n",
    "        var_third = 0\n",
    "        input_third.sort_values(by='작업-작업간격', ascending=True)\n",
    "        kmf_third.fit(durations=input_third['작업-작업간격'], event_observed=input_third['status'])\n",
    "\n",
    "    fac_list = list(input_data['fac_cd'].unique())\n",
    "\n",
    "\n",
    "    if 'var_first' in locals():\n",
    "        var_first = True\n",
    "    else :\n",
    "        var_first = False\n",
    "\n",
    "    if 'var_second' in locals():\n",
    "        var_second = True\n",
    "    else :\n",
    "        var_second = False\n",
    "\n",
    "    if 'var_third' in locals():\n",
    "        var_third = True\n",
    "    else :\n",
    "        var_third = False\n",
    "\n",
    "\n",
    "\n",
    "    for i in fac_list:\n",
    "        df = input_data[input_data['fac_cd']==i].iloc[-1]\n",
    "        seven = df['경과시간'] +7\n",
    "        thirty = seven + 23\n",
    "        new_data = []\n",
    "        new_data.append(df['그룹정의'])\n",
    "        new_data.append(df['bd_nm'])\n",
    "        new_data.append(df['fl_cd'])\n",
    "        new_data.append(df['fac_cd'])\n",
    "        new_data.append(df['fac_nm'])\n",
    "        new_data.append(df['작업횟수'])\n",
    "        new_data.append(df['job_jisi_dt'])\n",
    "       # 7일 이내 고장 확률\n",
    "        if df['작업횟수'] == 0 and var_first == True:\n",
    "            new_data.append(1-kmf_first.predict(seven))\n",
    "\n",
    "        elif df['작업횟수'] ==1 and var_second == True:\n",
    "            new_data.append(1-kmf_second.predict(seven))\n",
    "        elif df['작업횟수'] ==1 and var_first == True:\n",
    "            new_data.append(1-kmf_first.predict(seven))\n",
    "\n",
    "        elif df['작업횟수'] >=2 and var_third == True:\n",
    "            new_data.append(1-kmf_third.predict(seven))\n",
    "        elif df['작업횟수'] >=2 and var_second == True:\n",
    "            new_data.append(1-kmf_second.predict(seven))\n",
    "        elif df['작업횟수'] >=2 and var_first == True:\n",
    "            new_data.append(1-kmf_first.predict(seven))\n",
    "        else :\n",
    "            new_data.append(99999)\n",
    "\n",
    "        # 30일 이내 고장 확률\n",
    "        if df['작업횟수'] == 0 and var_first == True:\n",
    "            new_data.append(1-kmf_first.predict(thirty))\n",
    "\n",
    "        elif df['작업횟수'] ==1 and var_second == True:\n",
    "            new_data.append(1-kmf_second.predict(thirty))\n",
    "        elif df['작업횟수'] ==1 and var_first == True:\n",
    "            new_data.append(1-kmf_first.predict(thirty))\n",
    "\n",
    "        elif df['작업횟수'] >=2 and var_third == True:\n",
    "            new_data.append(1-kmf_third.predict(thirty))\n",
    "        elif df['작업횟수'] >=2 and var_second == True:\n",
    "            new_data.append(1-kmf_second.predict(thirty))\n",
    "        elif df['작업횟수'] >=2 and var_first == True:\n",
    "            new_data.append(1-kmf_first.predict(thirty))\n",
    "        else :\n",
    "            new_data.append(99999)\n",
    "        output_data.loc[len(output_data)] = new_data\n",
    "\n",
    "    return output_data\n"
   ],
   "metadata": {
    "collapsed": false
   }
  },
  {
   "cell_type": "code",
   "execution_count": 283,
   "outputs": [
    {
     "data": {
      "text/plain": "Empty DataFrame\nColumns: [장비분류, 동, 층, 장비코드, 장비명, 장애발생횟수, 최근장애일자, 7일이내장애확률, 30일이내장애확률]\nIndex: []",
      "text/html": "<div>\n<style scoped>\n    .dataframe tbody tr th:only-of-type {\n        vertical-align: middle;\n    }\n\n    .dataframe tbody tr th {\n        vertical-align: top;\n    }\n\n    .dataframe thead th {\n        text-align: right;\n    }\n</style>\n<table border=\"1\" class=\"dataframe\">\n  <thead>\n    <tr style=\"text-align: right;\">\n      <th></th>\n      <th>장비분류</th>\n      <th>동</th>\n      <th>층</th>\n      <th>장비코드</th>\n      <th>장비명</th>\n      <th>장애발생횟수</th>\n      <th>최근장애일자</th>\n      <th>7일이내장애확률</th>\n      <th>30일이내장애확률</th>\n    </tr>\n  </thead>\n  <tbody>\n  </tbody>\n</table>\n</div>"
     },
     "execution_count": 283,
     "metadata": {},
     "output_type": "execute_result"
    }
   ],
   "source": [
    "\n",
    "group = list(data['그룹정의'].unique())\n",
    "output_data = pd.DataFrame({\n",
    "    '장비분류' :[],\n",
    "    '동':[],\n",
    "    '층' :[],\n",
    "    '장비코드' :[],\n",
    "    '장비명' : [],\n",
    "    '장애발생횟수' :[],\n",
    "    '최근장애일자' :[],\n",
    "    '7일이내장애확률' :[],\n",
    "    '30일이내장애확률':[],\n",
    "})\n",
    "output_data"
   ],
   "metadata": {
    "collapsed": false
   }
  },
  {
   "cell_type": "code",
   "execution_count": 284,
   "outputs": [
    {
     "name": "stdout",
     "output_type": "stream",
     "text": [
      "개별냉난방기\n",
      "항온항습기\n",
      "방호, 안전시설\n",
      "배관설비\n",
      "부속시설/기타\n",
      "열원설비/지열히트펌프\n",
      "열원설비/냉동기\n",
      "열원설비/열교환기\n",
      "위생설비/소변기\n",
      "위생설비/수전\n",
      "위생설비/대변기\n",
      "위생설비/비데\n",
      "위생설비/기타\n",
      "자동제어설비\n",
      "주방시설\n",
      "탱크설비\n",
      "배수펌프\n",
      "냉온수순환 펌프\n",
      "오수펌프\n",
      "냉각수순환 펌프\n",
      "상수 펌프\n",
      "조경수 펌프\n",
      "기타펌프\n",
      "우수펌프\n",
      "환기설비/배기팬\n",
      "환기설비/급기팬\n",
      "환기설비/기타\n",
      "CCTV\n",
      "방화셔터설비-방화셔터\n",
      "카(승객용)\n",
      "무대장치\n",
      "전기차충전\n",
      "승강기 기계실 및 기타\n",
      "EPS실\n",
      "TPS실\n",
      "분전반(옥외 및 기타)\n",
      "분전반 통신(방송)실\n",
      "배전반\n",
      "변압기반\n",
      "특고압반\n",
      "태양광발전\n",
      "무정전원공급장치\n",
      "비상발전기\n",
      "원격검침\n",
      "주차관제\n",
      "전력제어\n",
      "조명제어\n",
      "옥내 LED 조명\n",
      "옥내 일반 조명\n",
      "옥외 LED 조명\n"
     ]
    },
    {
     "data": {
      "text/plain": "         장비분류      동     층             장비코드           장비명  장애발생횟수 최근장애일자  \\\n0      개별냉난방기      0     0 200104011076.000  EHP 실내기 #079   0.000      0   \n1      개별냉난방기      0     0 200104011002.000       실내기#117   0.000      0   \n2      개별냉난방기      0     0 200104010987.000       실내기#112   0.000      0   \n3      개별냉난방기      0     0 200104010710.000       실내기#101   0.000      0   \n4      개별냉난방기      0     0 200104010667.000        실내기#57   0.000      0   \n..        ...    ...   ...              ...           ...     ...    ...   \n22  옥외 LED 조명  14-3동  P006 300401030060.000           정원등   0.000      0   \n23  옥외 LED 조명  15-2동  F001 300401030054.000           보안등   0.000      0   \n24  옥외 LED 조명  15-2동  F001 300401030057.000         수목투사등   0.000      0   \n25  옥외 LED 조명  15-2동  F001 300401030063.000   태양광 LED 가로등   0.000      0   \n26  옥외 LED 조명  15-2동  P006 300401030061.000           정원등   0.000      0   \n\n    7일이내장애확률  30일이내장애확률  \n0      0.107      0.118  \n1      0.005      0.005  \n2      0.005      0.005  \n3      0.149      0.161  \n4      0.149      0.161  \n..       ...        ...  \n22     0.111      0.111  \n23     0.111      0.111  \n24     0.111      0.111  \n25     0.111      0.111  \n26     0.111      0.111  \n\n[13974 rows x 9 columns]",
      "text/html": "<div>\n<style scoped>\n    .dataframe tbody tr th:only-of-type {\n        vertical-align: middle;\n    }\n\n    .dataframe tbody tr th {\n        vertical-align: top;\n    }\n\n    .dataframe thead th {\n        text-align: right;\n    }\n</style>\n<table border=\"1\" class=\"dataframe\">\n  <thead>\n    <tr style=\"text-align: right;\">\n      <th></th>\n      <th>장비분류</th>\n      <th>동</th>\n      <th>층</th>\n      <th>장비코드</th>\n      <th>장비명</th>\n      <th>장애발생횟수</th>\n      <th>최근장애일자</th>\n      <th>7일이내장애확률</th>\n      <th>30일이내장애확률</th>\n    </tr>\n  </thead>\n  <tbody>\n    <tr>\n      <th>0</th>\n      <td>개별냉난방기</td>\n      <td>0</td>\n      <td>0</td>\n      <td>200104011076.000</td>\n      <td>EHP 실내기 #079</td>\n      <td>0.000</td>\n      <td>0</td>\n      <td>0.107</td>\n      <td>0.118</td>\n    </tr>\n    <tr>\n      <th>1</th>\n      <td>개별냉난방기</td>\n      <td>0</td>\n      <td>0</td>\n      <td>200104011002.000</td>\n      <td>실내기#117</td>\n      <td>0.000</td>\n      <td>0</td>\n      <td>0.005</td>\n      <td>0.005</td>\n    </tr>\n    <tr>\n      <th>2</th>\n      <td>개별냉난방기</td>\n      <td>0</td>\n      <td>0</td>\n      <td>200104010987.000</td>\n      <td>실내기#112</td>\n      <td>0.000</td>\n      <td>0</td>\n      <td>0.005</td>\n      <td>0.005</td>\n    </tr>\n    <tr>\n      <th>3</th>\n      <td>개별냉난방기</td>\n      <td>0</td>\n      <td>0</td>\n      <td>200104010710.000</td>\n      <td>실내기#101</td>\n      <td>0.000</td>\n      <td>0</td>\n      <td>0.149</td>\n      <td>0.161</td>\n    </tr>\n    <tr>\n      <th>4</th>\n      <td>개별냉난방기</td>\n      <td>0</td>\n      <td>0</td>\n      <td>200104010667.000</td>\n      <td>실내기#57</td>\n      <td>0.000</td>\n      <td>0</td>\n      <td>0.149</td>\n      <td>0.161</td>\n    </tr>\n    <tr>\n      <th>...</th>\n      <td>...</td>\n      <td>...</td>\n      <td>...</td>\n      <td>...</td>\n      <td>...</td>\n      <td>...</td>\n      <td>...</td>\n      <td>...</td>\n      <td>...</td>\n    </tr>\n    <tr>\n      <th>22</th>\n      <td>옥외 LED 조명</td>\n      <td>14-3동</td>\n      <td>P006</td>\n      <td>300401030060.000</td>\n      <td>정원등</td>\n      <td>0.000</td>\n      <td>0</td>\n      <td>0.111</td>\n      <td>0.111</td>\n    </tr>\n    <tr>\n      <th>23</th>\n      <td>옥외 LED 조명</td>\n      <td>15-2동</td>\n      <td>F001</td>\n      <td>300401030054.000</td>\n      <td>보안등</td>\n      <td>0.000</td>\n      <td>0</td>\n      <td>0.111</td>\n      <td>0.111</td>\n    </tr>\n    <tr>\n      <th>24</th>\n      <td>옥외 LED 조명</td>\n      <td>15-2동</td>\n      <td>F001</td>\n      <td>300401030057.000</td>\n      <td>수목투사등</td>\n      <td>0.000</td>\n      <td>0</td>\n      <td>0.111</td>\n      <td>0.111</td>\n    </tr>\n    <tr>\n      <th>25</th>\n      <td>옥외 LED 조명</td>\n      <td>15-2동</td>\n      <td>F001</td>\n      <td>300401030063.000</td>\n      <td>태양광 LED 가로등</td>\n      <td>0.000</td>\n      <td>0</td>\n      <td>0.111</td>\n      <td>0.111</td>\n    </tr>\n    <tr>\n      <th>26</th>\n      <td>옥외 LED 조명</td>\n      <td>15-2동</td>\n      <td>P006</td>\n      <td>300401030061.000</td>\n      <td>정원등</td>\n      <td>0.000</td>\n      <td>0</td>\n      <td>0.111</td>\n      <td>0.111</td>\n    </tr>\n  </tbody>\n</table>\n<p>13974 rows × 9 columns</p>\n</div>"
     },
     "execution_count": 284,
     "metadata": {},
     "output_type": "execute_result"
    }
   ],
   "source": [
    "for i in group:\n",
    "    print(i)\n",
    "    output = kplan(i)\n",
    "    output_data = pd.concat([output_data,output],axis=0)\n",
    "output_data"
   ],
   "metadata": {
    "collapsed": false
   }
  },
  {
   "cell_type": "code",
   "execution_count": 285,
   "outputs": [],
   "source": [
    "#output_data.to_excel('장애확률_결과.xlsx')"
   ],
   "metadata": {
    "collapsed": false
   }
  },
  {
   "cell_type": "code",
   "execution_count": 314,
   "outputs": [
    {
     "data": {
      "text/plain": "0         0\n1         0\n2         0\n3         0\n4         0\n      ...  \n22    14-3동\n23    15-2동\n24    15-2동\n25    15-2동\n26    15-2동\nName: 동, Length: 13974, dtype: object"
     },
     "execution_count": 314,
     "metadata": {},
     "output_type": "execute_result"
    }
   ],
   "source": [
    "output_data['동']"
   ],
   "metadata": {
    "collapsed": false
   }
  },
  {
   "cell_type": "code",
   "execution_count": 318,
   "outputs": [
    {
     "name": "stderr",
     "output_type": "stream",
     "text": [
      "/var/folders/nd/cl2nzwh13zx7jdly2t5m95340000gn/T/ipykernel_26977/390543367.py:1: FutureWarning: The default value of numeric_only in DataFrameGroupBy.sum is deprecated. In a future version, numeric_only will default to False. Either specify numeric_only or select only columns which should be valid for the function.\n",
      "  output_data_broken = output_data.groupby(['장비분류','동']).sum()['장애발생횟수']\n",
      "/var/folders/nd/cl2nzwh13zx7jdly2t5m95340000gn/T/ipykernel_26977/390543367.py:9: FutureWarning: The default value of numeric_only in DataFrameGroupBy.mean is deprecated. In a future version, numeric_only will default to False. Either specify numeric_only or select only columns which should be valid for the function.\n",
      "  output_data_prob_mean = output_data.groupby(['장비분류','동']).mean()[['7일이내장애확률','30일이내장애확률']]\n",
      "/var/folders/nd/cl2nzwh13zx7jdly2t5m95340000gn/T/ipykernel_26977/390543367.py:12: FutureWarning: The default value of numeric_only in DataFrameGroupBy.median is deprecated. In a future version, numeric_only will default to False. Either specify numeric_only or select only columns which should be valid for the function.\n",
      "  output_data_prob_median = output_data.groupby(['장비분류','동']).median()[['7일이내장애확률','30일이내장애확률']]\n"
     ]
    },
    {
     "data": {
      "text/plain": "                   장애발생횟수  7일이내장애확률(최대)  30일이내장애확률(최대)  7일이내장애확률(최소)  \\\n장비분류     동                                                             \nCCTV     1-2동       1.000         1.000          1.000         0.267   \n         10-2동      0.000         0.333          0.333         0.333   \n         11-1동      0.000         0.333          0.333         0.333   \n         12-2동      0.000         0.333          0.333         0.333   \n         13-2동      1.000         1.000          1.000         0.242   \n...                   ...           ...            ...           ...   \n환기설비/배기팬 아이세상어린이집   0.000         0.094          0.100         0.071   \n         안내동        0.000         0.228          0.248         0.228   \n         옥외체육시설     4.000         1.000          1.000         0.909   \n         온실동        0.000         0.228          0.248         0.228   \n         차오름 어린이집   0.000         0.002          0.002         0.002   \n\n                   30일이내장애확률(최소)  7일이내장애확률(평균)  30일이내장애확률(평균)  7일이내장애확률(중앙)  \\\n장비분류     동                                                                    \nCCTV     1-2동              0.267         0.450          0.450         0.267   \n         10-2동             0.333         0.333          0.333         0.333   \n         11-1동             0.333         0.333          0.333         0.333   \n         12-2동             0.333         0.333          0.333         0.333   \n         13-2동             0.242         0.391          0.391         0.333   \n...                          ...           ...            ...           ...   \n환기설비/배기팬 아이세상어린이집          0.079         0.082          0.090         0.082   \n         안내동               0.248         0.228          0.248         0.228   \n         옥외체육시설            0.909         0.955          0.955         0.955   \n         온실동               0.248         0.228          0.248         0.228   \n         차오름 어린이집          0.002         0.002          0.002         0.002   \n\n                   30일이내장애확률(중앙)  \n장비분류     동                        \nCCTV     1-2동              0.267  \n         10-2동             0.333  \n         11-1동             0.333  \n         12-2동             0.333  \n         13-2동             0.333  \n...                          ...  \n환기설비/배기팬 아이세상어린이집          0.090  \n         안내동               0.248  \n         옥외체육시설            0.955  \n         온실동               0.248  \n         차오름 어린이집          0.002  \n\n[1320 rows x 9 columns]",
      "text/html": "<div>\n<style scoped>\n    .dataframe tbody tr th:only-of-type {\n        vertical-align: middle;\n    }\n\n    .dataframe tbody tr th {\n        vertical-align: top;\n    }\n\n    .dataframe thead th {\n        text-align: right;\n    }\n</style>\n<table border=\"1\" class=\"dataframe\">\n  <thead>\n    <tr style=\"text-align: right;\">\n      <th></th>\n      <th></th>\n      <th>장애발생횟수</th>\n      <th>7일이내장애확률(최대)</th>\n      <th>30일이내장애확률(최대)</th>\n      <th>7일이내장애확률(최소)</th>\n      <th>30일이내장애확률(최소)</th>\n      <th>7일이내장애확률(평균)</th>\n      <th>30일이내장애확률(평균)</th>\n      <th>7일이내장애확률(중앙)</th>\n      <th>30일이내장애확률(중앙)</th>\n    </tr>\n    <tr>\n      <th>장비분류</th>\n      <th>동</th>\n      <th></th>\n      <th></th>\n      <th></th>\n      <th></th>\n      <th></th>\n      <th></th>\n      <th></th>\n      <th></th>\n      <th></th>\n    </tr>\n  </thead>\n  <tbody>\n    <tr>\n      <th rowspan=\"5\" valign=\"top\">CCTV</th>\n      <th>1-2동</th>\n      <td>1.000</td>\n      <td>1.000</td>\n      <td>1.000</td>\n      <td>0.267</td>\n      <td>0.267</td>\n      <td>0.450</td>\n      <td>0.450</td>\n      <td>0.267</td>\n      <td>0.267</td>\n    </tr>\n    <tr>\n      <th>10-2동</th>\n      <td>0.000</td>\n      <td>0.333</td>\n      <td>0.333</td>\n      <td>0.333</td>\n      <td>0.333</td>\n      <td>0.333</td>\n      <td>0.333</td>\n      <td>0.333</td>\n      <td>0.333</td>\n    </tr>\n    <tr>\n      <th>11-1동</th>\n      <td>0.000</td>\n      <td>0.333</td>\n      <td>0.333</td>\n      <td>0.333</td>\n      <td>0.333</td>\n      <td>0.333</td>\n      <td>0.333</td>\n      <td>0.333</td>\n      <td>0.333</td>\n    </tr>\n    <tr>\n      <th>12-2동</th>\n      <td>0.000</td>\n      <td>0.333</td>\n      <td>0.333</td>\n      <td>0.333</td>\n      <td>0.333</td>\n      <td>0.333</td>\n      <td>0.333</td>\n      <td>0.333</td>\n      <td>0.333</td>\n    </tr>\n    <tr>\n      <th>13-2동</th>\n      <td>1.000</td>\n      <td>1.000</td>\n      <td>1.000</td>\n      <td>0.242</td>\n      <td>0.242</td>\n      <td>0.391</td>\n      <td>0.391</td>\n      <td>0.333</td>\n      <td>0.333</td>\n    </tr>\n    <tr>\n      <th>...</th>\n      <th>...</th>\n      <td>...</td>\n      <td>...</td>\n      <td>...</td>\n      <td>...</td>\n      <td>...</td>\n      <td>...</td>\n      <td>...</td>\n      <td>...</td>\n      <td>...</td>\n    </tr>\n    <tr>\n      <th rowspan=\"5\" valign=\"top\">환기설비/배기팬</th>\n      <th>아이세상어린이집</th>\n      <td>0.000</td>\n      <td>0.094</td>\n      <td>0.100</td>\n      <td>0.071</td>\n      <td>0.079</td>\n      <td>0.082</td>\n      <td>0.090</td>\n      <td>0.082</td>\n      <td>0.090</td>\n    </tr>\n    <tr>\n      <th>안내동</th>\n      <td>0.000</td>\n      <td>0.228</td>\n      <td>0.248</td>\n      <td>0.228</td>\n      <td>0.248</td>\n      <td>0.228</td>\n      <td>0.248</td>\n      <td>0.228</td>\n      <td>0.248</td>\n    </tr>\n    <tr>\n      <th>옥외체육시설</th>\n      <td>4.000</td>\n      <td>1.000</td>\n      <td>1.000</td>\n      <td>0.909</td>\n      <td>0.909</td>\n      <td>0.955</td>\n      <td>0.955</td>\n      <td>0.955</td>\n      <td>0.955</td>\n    </tr>\n    <tr>\n      <th>온실동</th>\n      <td>0.000</td>\n      <td>0.228</td>\n      <td>0.248</td>\n      <td>0.228</td>\n      <td>0.248</td>\n      <td>0.228</td>\n      <td>0.248</td>\n      <td>0.228</td>\n      <td>0.248</td>\n    </tr>\n    <tr>\n      <th>차오름 어린이집</th>\n      <td>0.000</td>\n      <td>0.002</td>\n      <td>0.002</td>\n      <td>0.002</td>\n      <td>0.002</td>\n      <td>0.002</td>\n      <td>0.002</td>\n      <td>0.002</td>\n      <td>0.002</td>\n    </tr>\n  </tbody>\n</table>\n<p>1320 rows × 9 columns</p>\n</div>"
     },
     "execution_count": 318,
     "metadata": {},
     "output_type": "execute_result"
    }
   ],
   "source": [
    "output_data_broken = output_data.groupby(['장비분류','동']).sum()['장애발생횟수']\n",
    "\n",
    "output_data_prob_max = output_data.groupby(['장비분류','동']).max()[['7일이내장애확률','30일이내장애확률']]\n",
    "output_data_prob_max.columns = ['7일이내장애확률(최대)','30일이내장애확률(최대)']\n",
    "\n",
    "output_data_prob_min = output_data.groupby(['장비분류','동']).min()[['7일이내장애확률','30일이내장애확률']]\n",
    "output_data_prob_min.columns = ['7일이내장애확률(최소)','30일이내장애확률(최소)']\n",
    "\n",
    "output_data_prob_mean = output_data.groupby(['장비분류','동']).mean()[['7일이내장애확률','30일이내장애확률']]\n",
    "output_data_prob_mean.columns = ['7일이내장애확률(평균)','30일이내장애확률(평균)']\n",
    "\n",
    "output_data_prob_median = output_data.groupby(['장비분류','동']).median()[['7일이내장애확률','30일이내장애확률']]\n",
    "output_data_prob_median.columns = ['7일이내장애확률(중앙)','30일이내장애확률(중앙)']\n",
    "\n",
    "output_data_group = pd.concat([output_data_broken,output_data_prob_max,output_data_prob_min,output_data_prob_mean,output_data_prob_median],axis = 1)\n",
    "output_data_group.to_excel('장애결과_동별그룹.xlsx')\n",
    "output_data_group"
   ],
   "metadata": {
    "collapsed": false
   }
  },
  {
   "cell_type": "code",
   "execution_count": 316,
   "outputs": [
    {
     "data": {
      "text/plain": "                   7일이내장애확률(중앙)  30일이내장애확률(중앙)\n장비분류     동                                    \nCCTV     1-2동             0.267          0.267\n         10-2동            0.333          0.333\n         11-1동            0.333          0.333\n         12-2동            0.333          0.333\n         13-2동            0.333          0.333\n...                         ...            ...\n환기설비/배기팬 아이세상어린이집         0.082          0.090\n         안내동              0.228          0.248\n         옥외체육시설           0.955          0.955\n         온실동              0.228          0.248\n         차오름 어린이집         0.002          0.002\n\n[1320 rows x 2 columns]",
      "text/html": "<div>\n<style scoped>\n    .dataframe tbody tr th:only-of-type {\n        vertical-align: middle;\n    }\n\n    .dataframe tbody tr th {\n        vertical-align: top;\n    }\n\n    .dataframe thead th {\n        text-align: right;\n    }\n</style>\n<table border=\"1\" class=\"dataframe\">\n  <thead>\n    <tr style=\"text-align: right;\">\n      <th></th>\n      <th></th>\n      <th>7일이내장애확률(중앙)</th>\n      <th>30일이내장애확률(중앙)</th>\n    </tr>\n    <tr>\n      <th>장비분류</th>\n      <th>동</th>\n      <th></th>\n      <th></th>\n    </tr>\n  </thead>\n  <tbody>\n    <tr>\n      <th rowspan=\"5\" valign=\"top\">CCTV</th>\n      <th>1-2동</th>\n      <td>0.267</td>\n      <td>0.267</td>\n    </tr>\n    <tr>\n      <th>10-2동</th>\n      <td>0.333</td>\n      <td>0.333</td>\n    </tr>\n    <tr>\n      <th>11-1동</th>\n      <td>0.333</td>\n      <td>0.333</td>\n    </tr>\n    <tr>\n      <th>12-2동</th>\n      <td>0.333</td>\n      <td>0.333</td>\n    </tr>\n    <tr>\n      <th>13-2동</th>\n      <td>0.333</td>\n      <td>0.333</td>\n    </tr>\n    <tr>\n      <th>...</th>\n      <th>...</th>\n      <td>...</td>\n      <td>...</td>\n    </tr>\n    <tr>\n      <th rowspan=\"5\" valign=\"top\">환기설비/배기팬</th>\n      <th>아이세상어린이집</th>\n      <td>0.082</td>\n      <td>0.090</td>\n    </tr>\n    <tr>\n      <th>안내동</th>\n      <td>0.228</td>\n      <td>0.248</td>\n    </tr>\n    <tr>\n      <th>옥외체육시설</th>\n      <td>0.955</td>\n      <td>0.955</td>\n    </tr>\n    <tr>\n      <th>온실동</th>\n      <td>0.228</td>\n      <td>0.248</td>\n    </tr>\n    <tr>\n      <th>차오름 어린이집</th>\n      <td>0.002</td>\n      <td>0.002</td>\n    </tr>\n  </tbody>\n</table>\n<p>1320 rows × 2 columns</p>\n</div>"
     },
     "execution_count": 316,
     "metadata": {},
     "output_type": "execute_result"
    }
   ],
   "source": [
    "output_data_prob_median"
   ],
   "metadata": {
    "collapsed": false
   }
  },
  {
   "cell_type": "code",
   "execution_count": 317,
   "outputs": [
    {
     "data": {
      "text/plain": "장비분류      동       \nCCTV      1-2동       1.000\n          10-2동      0.000\n          11-1동      0.000\n          12-2동      0.000\n          13-2동      1.000\n                      ... \n환기설비/배기팬  아이세상어린이집   0.000\n          안내동        0.000\n          옥외체육시설     4.000\n          온실동        0.000\n          차오름 어린이집   0.000\nName: 장애발생횟수, Length: 1320, dtype: float64"
     },
     "execution_count": 317,
     "metadata": {},
     "output_type": "execute_result"
    }
   ],
   "source": [
    "output_data_broken"
   ],
   "metadata": {
    "collapsed": false
   }
  },
  {
   "cell_type": "markdown",
   "source": [],
   "metadata": {
    "collapsed": false
   }
  }
 ],
 "metadata": {
  "kernelspec": {
   "display_name": "Python 3",
   "language": "python",
   "name": "python3"
  },
  "language_info": {
   "codemirror_mode": {
    "name": "ipython",
    "version": 2
   },
   "file_extension": ".py",
   "mimetype": "text/x-python",
   "name": "python",
   "nbconvert_exporter": "python",
   "pygments_lexer": "ipython2",
   "version": "2.7.6"
  }
 },
 "nbformat": 4,
 "nbformat_minor": 0
}

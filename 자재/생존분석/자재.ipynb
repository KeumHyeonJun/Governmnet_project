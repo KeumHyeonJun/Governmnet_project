{
 "cells": [
  {
   "cell_type": "code",
   "execution_count": 71,
   "metadata": {
    "collapsed": true
   },
   "outputs": [
    {
     "data": {
      "text/plain": "'/Users/keumhyeonjun/Projects/행안부/자재/GFMS DB/'"
     },
     "execution_count": 71,
     "metadata": {},
     "output_type": "execute_result"
    }
   ],
   "source": [
    "import warnings\n",
    "warnings.simplefilter(action='ignore', category=FutureWarning)\n",
    "\n",
    "import pandas as pd\n",
    "from pathlib import Path\n",
    "import datetime\n",
    "\n",
    "\n",
    "path = Path.cwd().parent\n",
    "path = str(path)+'/GFMS DB/'\n",
    "path"
   ]
  },
  {
   "cell_type": "markdown",
   "source": [
    "# 데이터 불러오기"
   ],
   "metadata": {
    "collapsed": false
   }
  },
  {
   "cell_type": "code",
   "execution_count": 114,
   "outputs": [
    {
     "name": "stderr",
     "output_type": "stream",
     "text": [
      "/var/folders/nd/cl2nzwh13zx7jdly2t5m95340000gn/T/ipykernel_42442/324639401.py:4: DtypeWarning: Columns (59) have mixed types. Specify dtype option on import or set low_memory=False.\n",
      "  FMSA10_작업지시_결과 = pd.read_csv(path+'FMSA10_작업지시_결과_ver2.csv')\n",
      "/var/folders/nd/cl2nzwh13zx7jdly2t5m95340000gn/T/ipykernel_42442/324639401.py:57: SettingWithCopyWarning: \n",
      "A value is trying to be set on a copy of a slice from a DataFrame.\n",
      "Try using .loc[row_indexer,col_indexer] = value instead\n",
      "\n",
      "See the caveats in the documentation: https://pandas.pydata.org/pandas-docs/stable/user_guide/indexing.html#returning-a-view-versus-a-copy\n",
      "  fmsb03[\"mat_cd\"] = fmsb03[\"mat_cd\"].astype(\"str\")\n"
     ]
    }
   ],
   "source": [
    "# 불러오는 데이터의 날짜(작업장비이력 테이블의 가장 최근 날짜)\n",
    "\n",
    "\n",
    "FMSA10_작업지시_결과 = pd.read_csv(path+'FMSA10_작업지시_결과_ver2.csv')\n",
    "\n",
    "FMSA11_작업장비이력 = pd.read_excel(path + 'FMSA11_작업장비이력.xlsx')\n",
    "\n",
    "FMSX05_장비마스터 = pd.read_csv(path + 'FMSX05_장비마스터_ver2.csv')\n",
    "\n",
    "FMSB07_자재출고 = pd.read_excel(path + 'FMSB07_자재출고.xlsx')\n",
    "\n",
    "FMSB03_자재마스터 = pd.read_csv(path + 'FMSB03_자재마스터_ver2.csv')\n",
    "\n",
    "FMSB03_자재마스터.drop(['class_nm_4','class_cd_4'],axis =1,inplace = True)\n",
    "\n",
    "FMSB03_자재마스터.rename(columns={'class_nm_3':'jajae_class_nm_3'},inplace = True)\n",
    "FMSB03_자재마스터.rename(columns={'class_nm_2':'jajae_class_nm_2'},inplace = True)\n",
    "FMSB03_자재마스터.rename(columns={'class_nm_1':'jajae_class_nm_1'},inplace = True)\n",
    "\n",
    "FMSB03_자재마스터.rename(columns={'class_cd_3':'jajae_class_cd_3'},inplace = True)\n",
    "FMSB03_자재마스터.rename(columns={'class_cd_2':'jajae_class_cd_2'},inplace = True)\n",
    "FMSB03_자재마스터.rename(columns={'class_cd_1':'jajae_class_cd_1'},inplace = True)\n",
    "\n",
    "\n",
    "FMSX05_장비마스터.rename(columns={'class_nm_4':'jangbi_class_nm_4'},inplace = True)\n",
    "FMSX05_장비마스터.rename(columns={'class_nm_3':'jangbi_class_nm_3'},inplace = True)\n",
    "FMSX05_장비마스터.rename(columns={'class_nm_2':'jangbi_class_nm_2'},inplace = True)\n",
    "FMSX05_장비마스터.rename(columns={'class_nm_1':'jangbi_class_nm_1'},inplace = True)\n",
    "FMSX01_건물정보 = pd.read_excel(path+'FMSX01_건물정보.xlsx')\n",
    "fmsx01 = FMSX01_건물정보[['bd_cd','bd_nm']]\n",
    "FMSX05_장비마스터 = pd.merge(fmsx01,FMSX05_장비마스터, on='bd_cd', how = 'right')\n",
    "\n",
    "\n",
    "FMSX05_장비마스터.rename(columns={'class_cd_4':'jangbi_class_cd_4'},inplace = True)\n",
    "FMSX05_장비마스터.rename(columns={'class_cd_3':'jangbi_class_cd_3'},inplace = True)\n",
    "FMSX05_장비마스터.rename(columns={'class_cd_2':'jangbi_class_cd_2'},inplace = True)\n",
    "FMSX05_장비마스터.rename(columns={'class_cd_1':'jangbi_class_cd_1'},inplace = True)\n",
    "\n",
    "FMSA10_작업지시_결과.rename(columns={'class_nm_4':'job_class_nm_4'},inplace = True)\n",
    "FMSA10_작업지시_결과.rename(columns={'class_nm_3':'job_class_nm_3'},inplace = True)\n",
    "FMSA10_작업지시_결과.rename(columns={'class_nm_2':'job_class_nm_2'},inplace = True)\n",
    "FMSA10_작업지시_결과.rename(columns={'class_nm_1':'job_class_nm_1'},inplace = True)\n",
    "\n",
    "\n",
    "FMSA10_작업지시_결과.rename(columns={'class_cd_4':'job_class_cd_4'},inplace = True)\n",
    "FMSA10_작업지시_결과.rename(columns={'class_cd_3':'job_class_cd_3'},inplace = True)\n",
    "FMSA10_작업지시_결과.rename(columns={'class_cd_2':'job_class_cd_2'},inplace = True)\n",
    "FMSA10_작업지시_결과.rename(columns={'class_cd_1':'job_class_cd_1'},inplace = True)\n",
    "\n",
    "fmsa10 =FMSA10_작업지시_결과[['job_cd','job_nm','job_jisi_dt','job_enddt','job_shm','job_ehm','job_class_nm_1','job_class_nm_2','job_class_nm_3','job_class_nm_4']]\n",
    "fmsb03 = FMSB03_자재마스터[['mat_cd','mat_nm','jajae_class_nm_1','jajae_class_nm_2','jajae_class_nm_3','jajae_class_cd_3']]\n",
    "fmsx05 = FMSX05_장비마스터[['bd_cd','bd_nm','fl_cd','fac_cd','fac_nm','jangbi_class_nm_1','jangbi_class_nm_2','jangbi_class_nm_3','jangbi_class_nm_4','fac_instdt']]\n",
    "\n",
    "\n",
    "FMSB07_자재출고[\"mat_cd\"] = FMSB07_자재출고[\"mat_cd\"].astype(\"str\")\n",
    "FMSB07_자재출고[\"mat_cd\"] = list(map(lambda x: x[:-3],FMSB07_자재출고[\"mat_cd\"].tolist())) # FMSB03과 inner join하기 위해 mat_cd 형식 일치\n",
    "fmsb03[\"mat_cd\"] = fmsb03[\"mat_cd\"].astype(\"str\")\n",
    "jajae = pd.merge(FMSB07_자재출고,fmsb03 ,on = 'mat_cd', how = 'inner')\n",
    "jajae = jajae[['job_cd','outw_day','mat_cd','outw_qty','mat_nm_x','jajae_class_nm_1','jajae_class_nm_2','jajae_class_nm_3','jajae_class_cd_3']]\n",
    "\n",
    "\n",
    "jangbi = pd.merge(FMSA11_작업장비이력, fmsx05, how='inner', on='fac_cd')\n",
    "jangbi_broken = pd.merge(fmsa10,jangbi, on='job_cd',how = 'inner')\n",
    "\n",
    "jangbi_broken.drop(['job_cont','chg_sysdt','chg_emp_no'],axis=1,inplace=True)\n",
    "jangbi_broken = jangbi_broken.dropna()\n",
    "\n",
    "jangbi_broken['자재매칭여부'] = jangbi_broken['job_cd']\n",
    "arr_장비 = list(jangbi_broken['job_cd'])\n",
    "arr_자재 = list(jajae['job_cd'])\n",
    "#자재 매칭이 안되는 경우\n",
    "arr = list(set(arr_장비)- set(arr_자재))\n",
    "\n",
    "def function(x):\n",
    "    if x in arr:\n",
    "        return 0\n",
    "    else:\n",
    "         return 1\n",
    "\n",
    "jangbi_broken['자재매칭여부'] = jangbi_broken['자재매칭여부'].apply(function)\n",
    "df = pd.merge(jangbi_broken,jajae, on='job_cd',how = 'inner')\n",
    "\n",
    "final = df[['job_cd','job_nm','job_jisi_dt','job_enddt','job_shm','job_ehm','job_class_nm_1','job_class_nm_2','job_class_nm_3','job_class_nm_4','fac_cd','fac_nm','fac_instdt','mat_cd','mat_nm_x',\n",
    "           'jangbi_class_nm_1','jangbi_class_nm_2','jangbi_class_nm_3','jangbi_class_nm_4','자재매칭여부','mat_nm_x','jajae_class_nm_1','jajae_class_nm_2','jajae_class_nm_3','jajae_class_cd_3']]\n",
    "\n",
    "\n",
    "jangbi_broken = jangbi_broken.sort_values('job_jisi_dt')\n",
    "\n",
    "## 기준일자는 오늘로 설정해야 함 > 작업장비이력\n",
    "jangbi_broken['기준일자'] = '2022-10-11'\n",
    "\n",
    "jangbi_broken['기준일자'] = pd.to_datetime(jangbi_broken['기준일자'])\n",
    "jangbi_broken['fac_instdt'] = pd.to_datetime(jangbi_broken['fac_instdt'])\n",
    "jangbi_broken['job_jisi_dt'] = pd.to_datetime(jangbi_broken['job_jisi_dt'])\n",
    "\n",
    "\n",
    "jangbi_broken['설치-작업간격'] = jangbi_broken['job_jisi_dt'] - jangbi_broken['fac_instdt']\n",
    "\n",
    "def slicing(x):\n",
    "    return x[:-4]\n",
    "jangbi_broken['설치-작업간격'] = jangbi_broken['설치-작업간격'].astype(str)\n",
    "jangbi_broken['설치-작업간격'] = jangbi_broken['설치-작업간격'].apply(slicing)\n",
    "jangbi_broken['설치-작업간격'] = jangbi_broken['설치-작업간격'].astype(int)\n",
    "\n",
    "jangbi_broken['작업-작업간격'] = 0\n",
    "# 모두 장애가 발생한 장비이므로 작업횟수 = 1 로 세팅\n",
    "jangbi_broken['작업횟수'] = 1\n",
    "jangbi_broken = jangbi_broken.sort_values(['fac_cd','설치-작업간격'])"
   ],
   "metadata": {
    "collapsed": false
   }
  },
  {
   "cell_type": "code",
   "execution_count": 115,
   "outputs": [
    {
     "name": "stderr",
     "output_type": "stream",
     "text": [
      "/var/folders/nd/cl2nzwh13zx7jdly2t5m95340000gn/T/ipykernel_42442/279619396.py:5: SettingWithCopyWarning: \n",
      "A value is trying to be set on a copy of a slice from a DataFrame\n",
      "\n",
      "See the caveats in the documentation: https://pandas.pydata.org/pandas-docs/stable/user_guide/indexing.html#returning-a-view-versus-a-copy\n",
      "  jangbi_broken['작업-작업간격'].iloc[i] = jangbi_broken['설치-작업간격'].iloc[i]\n",
      "/var/folders/nd/cl2nzwh13zx7jdly2t5m95340000gn/T/ipykernel_42442/279619396.py:11: SettingWithCopyWarning: \n",
      "A value is trying to be set on a copy of a slice from a DataFrame\n",
      "\n",
      "See the caveats in the documentation: https://pandas.pydata.org/pandas-docs/stable/user_guide/indexing.html#returning-a-view-versus-a-copy\n",
      "  jangbi_broken['작업-작업간격'].iloc[i] = jangbi_broken['설치-작업간격'].iloc[i] - jangbi_broken['설치-작업간격'].iloc[i-1]\n",
      "/var/folders/nd/cl2nzwh13zx7jdly2t5m95340000gn/T/ipykernel_42442/279619396.py:12: SettingWithCopyWarning: \n",
      "A value is trying to be set on a copy of a slice from a DataFrame\n",
      "\n",
      "See the caveats in the documentation: https://pandas.pydata.org/pandas-docs/stable/user_guide/indexing.html#returning-a-view-versus-a-copy\n",
      "  jangbi_broken['작업횟수'].iloc[i] = jangbi_broken['작업횟수'].iloc[i-1] +1\n",
      "/var/folders/nd/cl2nzwh13zx7jdly2t5m95340000gn/T/ipykernel_42442/279619396.py:15: SettingWithCopyWarning: \n",
      "A value is trying to be set on a copy of a slice from a DataFrame\n",
      "\n",
      "See the caveats in the documentation: https://pandas.pydata.org/pandas-docs/stable/user_guide/indexing.html#returning-a-view-versus-a-copy\n",
      "  jangbi_broken['작업-작업간격'].iloc[i] = jangbi_broken['설치-작업간격'].iloc[i]\n"
     ]
    }
   ],
   "source": [
    "\n",
    "# 작업-작업 간격 만들기\n",
    "for i in range(len(jangbi_broken)):\n",
    "    if i == 0:\n",
    "        # 젤 처음 오는 경우 > 장비별 가장 오래된 작업\n",
    "        jangbi_broken['작업-작업간격'].iloc[i] = jangbi_broken['설치-작업간격'].iloc[i]\n",
    "    else :\n",
    "        now_data = jangbi_broken['fac_cd'].iloc[i]\n",
    "        past_data = jangbi_broken['fac_cd'].iloc[i-1]\n",
    "        # 한 장비가 이전에 장애가 발생했을 경우\n",
    "        if now_data == past_data:\n",
    "            jangbi_broken['작업-작업간격'].iloc[i] = jangbi_broken['설치-작업간격'].iloc[i] - jangbi_broken['설치-작업간격'].iloc[i-1]\n",
    "            jangbi_broken['작업횟수'].iloc[i] = jangbi_broken['작업횟수'].iloc[i-1] +1\n",
    "        # 장비가 이전에 장애가 발생하지 않았을 경우\n",
    "        else :\n",
    "            jangbi_broken['작업-작업간격'].iloc[i] = jangbi_broken['설치-작업간격'].iloc[i]"
   ],
   "metadata": {
    "collapsed": false
   }
  },
  {
   "cell_type": "code",
   "execution_count": 116,
   "outputs": [
    {
     "data": {
      "text/plain": "            bd_cd   bd_nm fl_cd        fac_cd                       fac_nm  \\\n0               0       0     0  200201040293  (3)세-1F-0(여)로비-화장실) 세면대 2대    \n1               0       0     0  200201010257                   9F여1대변기(5)   \n2               0       0     0  200202030001                        우수조#1   \n3               0       0     0  200105080599               배기휀#76(EF-504)   \n4               0       0     0  200202010001                        시수조#1   \n...           ...     ...   ...           ...                          ...   \n43584  SJ-SCJS-01  SCC전시동  P006  700101020004                  SCC 4호기 권상기   \n43585  SJ-SCJS-01  SCC전시동  P006  700101020005                  SCC 5호기 권상기   \n43586  SJ-SCJS-01  SCC전시동  P006  700101020006                  SCC 6호기 권상기   \n43587  SJ-SCJS-01  SCC전시동  P006  700201010010                  SCC 7호기 제어반   \n43588  SJ-SCJS-01  SCC전시동  P006  700201020001                  SCC 7호기 권상기   \n\n      jangbi_class_nm_1 jangbi_class_nm_2 jangbi_class_nm_3 jangbi_class_nm_4  \\\n0                    기계          위생, 탱크설비              위생설비            세면대 수전   \n1                    기계          위생, 탱크설비              위생설비               대변기   \n2                    기계          위생, 탱크설비              탱크설비            우수 저장조   \n3                    기계            공기조화설비              환기설비               환기팬   \n4                    기계          위생, 탱크설비              탱크설비            상수 저장조   \n...                 ...               ...               ...               ...   \n43584               승강기               승객용                MR               권상기   \n43585               승강기               승객용                MR               권상기   \n43586               승강기               승객용                MR               권상기   \n43587               승강기               화물용               로프식               제어반   \n43588               승강기               화물용               로프식               권상기   \n\n      fac_instdt job_jisi_dt  설치-작업간격  작업-작업간격  작업횟수 job_cd job_nm   max_time  \\\n0     2018-03-05           0     1681     1681   0.0      0      0 2022-10-11   \n1     2014-06-01           0     3054     3054   0.0      0      0 2022-10-11   \n2     2019-10-22           0     1085     1085   0.0      0      0 2022-10-11   \n3     2019-10-23           0     1084     1084   0.0      0      0 2022-10-11   \n4     2019-10-22           0     1085     1085   0.0      0      0 2022-10-11   \n...          ...         ...      ...      ...   ...    ...    ...        ...   \n43584 2013-11-12           0     3255     3255   0.0      0      0 2022-10-11   \n43585 2013-11-12           0     3255     3255   0.0      0      0 2022-10-11   \n43586 2013-11-12           0     3255     3255   0.0      0      0 2022-10-11   \n43587 2014-10-17           0     2916     2916   0.0      0      0 2022-10-11   \n43588 2013-11-12           0     3255     3255   0.0      0      0 2022-10-11   \n\n       경과시간  status  \n0      1681       0  \n1      3054       0  \n2      1085       0  \n3      1084       0  \n4      1085       0  \n...     ...     ...  \n43584  3255       0  \n43585  3255       0  \n43586  3255       0  \n43587  2916       0  \n43588  3255       0  \n\n[41137 rows x 19 columns]",
      "text/html": "<div>\n<style scoped>\n    .dataframe tbody tr th:only-of-type {\n        vertical-align: middle;\n    }\n\n    .dataframe tbody tr th {\n        vertical-align: top;\n    }\n\n    .dataframe thead th {\n        text-align: right;\n    }\n</style>\n<table border=\"1\" class=\"dataframe\">\n  <thead>\n    <tr style=\"text-align: right;\">\n      <th></th>\n      <th>bd_cd</th>\n      <th>bd_nm</th>\n      <th>fl_cd</th>\n      <th>fac_cd</th>\n      <th>fac_nm</th>\n      <th>jangbi_class_nm_1</th>\n      <th>jangbi_class_nm_2</th>\n      <th>jangbi_class_nm_3</th>\n      <th>jangbi_class_nm_4</th>\n      <th>fac_instdt</th>\n      <th>job_jisi_dt</th>\n      <th>설치-작업간격</th>\n      <th>작업-작업간격</th>\n      <th>작업횟수</th>\n      <th>job_cd</th>\n      <th>job_nm</th>\n      <th>max_time</th>\n      <th>경과시간</th>\n      <th>status</th>\n    </tr>\n  </thead>\n  <tbody>\n    <tr>\n      <th>0</th>\n      <td>0</td>\n      <td>0</td>\n      <td>0</td>\n      <td>200201040293</td>\n      <td>(3)세-1F-0(여)로비-화장실) 세면대 2대</td>\n      <td>기계</td>\n      <td>위생, 탱크설비</td>\n      <td>위생설비</td>\n      <td>세면대 수전</td>\n      <td>2018-03-05</td>\n      <td>0</td>\n      <td>1681</td>\n      <td>1681</td>\n      <td>0.0</td>\n      <td>0</td>\n      <td>0</td>\n      <td>2022-10-11</td>\n      <td>1681</td>\n      <td>0</td>\n    </tr>\n    <tr>\n      <th>1</th>\n      <td>0</td>\n      <td>0</td>\n      <td>0</td>\n      <td>200201010257</td>\n      <td>9F여1대변기(5)</td>\n      <td>기계</td>\n      <td>위생, 탱크설비</td>\n      <td>위생설비</td>\n      <td>대변기</td>\n      <td>2014-06-01</td>\n      <td>0</td>\n      <td>3054</td>\n      <td>3054</td>\n      <td>0.0</td>\n      <td>0</td>\n      <td>0</td>\n      <td>2022-10-11</td>\n      <td>3054</td>\n      <td>0</td>\n    </tr>\n    <tr>\n      <th>2</th>\n      <td>0</td>\n      <td>0</td>\n      <td>0</td>\n      <td>200202030001</td>\n      <td>우수조#1</td>\n      <td>기계</td>\n      <td>위생, 탱크설비</td>\n      <td>탱크설비</td>\n      <td>우수 저장조</td>\n      <td>2019-10-22</td>\n      <td>0</td>\n      <td>1085</td>\n      <td>1085</td>\n      <td>0.0</td>\n      <td>0</td>\n      <td>0</td>\n      <td>2022-10-11</td>\n      <td>1085</td>\n      <td>0</td>\n    </tr>\n    <tr>\n      <th>3</th>\n      <td>0</td>\n      <td>0</td>\n      <td>0</td>\n      <td>200105080599</td>\n      <td>배기휀#76(EF-504)</td>\n      <td>기계</td>\n      <td>공기조화설비</td>\n      <td>환기설비</td>\n      <td>환기팬</td>\n      <td>2019-10-23</td>\n      <td>0</td>\n      <td>1084</td>\n      <td>1084</td>\n      <td>0.0</td>\n      <td>0</td>\n      <td>0</td>\n      <td>2022-10-11</td>\n      <td>1084</td>\n      <td>0</td>\n    </tr>\n    <tr>\n      <th>4</th>\n      <td>0</td>\n      <td>0</td>\n      <td>0</td>\n      <td>200202010001</td>\n      <td>시수조#1</td>\n      <td>기계</td>\n      <td>위생, 탱크설비</td>\n      <td>탱크설비</td>\n      <td>상수 저장조</td>\n      <td>2019-10-22</td>\n      <td>0</td>\n      <td>1085</td>\n      <td>1085</td>\n      <td>0.0</td>\n      <td>0</td>\n      <td>0</td>\n      <td>2022-10-11</td>\n      <td>1085</td>\n      <td>0</td>\n    </tr>\n    <tr>\n      <th>...</th>\n      <td>...</td>\n      <td>...</td>\n      <td>...</td>\n      <td>...</td>\n      <td>...</td>\n      <td>...</td>\n      <td>...</td>\n      <td>...</td>\n      <td>...</td>\n      <td>...</td>\n      <td>...</td>\n      <td>...</td>\n      <td>...</td>\n      <td>...</td>\n      <td>...</td>\n      <td>...</td>\n      <td>...</td>\n      <td>...</td>\n      <td>...</td>\n    </tr>\n    <tr>\n      <th>43584</th>\n      <td>SJ-SCJS-01</td>\n      <td>SCC전시동</td>\n      <td>P006</td>\n      <td>700101020004</td>\n      <td>SCC 4호기 권상기</td>\n      <td>승강기</td>\n      <td>승객용</td>\n      <td>MR</td>\n      <td>권상기</td>\n      <td>2013-11-12</td>\n      <td>0</td>\n      <td>3255</td>\n      <td>3255</td>\n      <td>0.0</td>\n      <td>0</td>\n      <td>0</td>\n      <td>2022-10-11</td>\n      <td>3255</td>\n      <td>0</td>\n    </tr>\n    <tr>\n      <th>43585</th>\n      <td>SJ-SCJS-01</td>\n      <td>SCC전시동</td>\n      <td>P006</td>\n      <td>700101020005</td>\n      <td>SCC 5호기 권상기</td>\n      <td>승강기</td>\n      <td>승객용</td>\n      <td>MR</td>\n      <td>권상기</td>\n      <td>2013-11-12</td>\n      <td>0</td>\n      <td>3255</td>\n      <td>3255</td>\n      <td>0.0</td>\n      <td>0</td>\n      <td>0</td>\n      <td>2022-10-11</td>\n      <td>3255</td>\n      <td>0</td>\n    </tr>\n    <tr>\n      <th>43586</th>\n      <td>SJ-SCJS-01</td>\n      <td>SCC전시동</td>\n      <td>P006</td>\n      <td>700101020006</td>\n      <td>SCC 6호기 권상기</td>\n      <td>승강기</td>\n      <td>승객용</td>\n      <td>MR</td>\n      <td>권상기</td>\n      <td>2013-11-12</td>\n      <td>0</td>\n      <td>3255</td>\n      <td>3255</td>\n      <td>0.0</td>\n      <td>0</td>\n      <td>0</td>\n      <td>2022-10-11</td>\n      <td>3255</td>\n      <td>0</td>\n    </tr>\n    <tr>\n      <th>43587</th>\n      <td>SJ-SCJS-01</td>\n      <td>SCC전시동</td>\n      <td>P006</td>\n      <td>700201010010</td>\n      <td>SCC 7호기 제어반</td>\n      <td>승강기</td>\n      <td>화물용</td>\n      <td>로프식</td>\n      <td>제어반</td>\n      <td>2014-10-17</td>\n      <td>0</td>\n      <td>2916</td>\n      <td>2916</td>\n      <td>0.0</td>\n      <td>0</td>\n      <td>0</td>\n      <td>2022-10-11</td>\n      <td>2916</td>\n      <td>0</td>\n    </tr>\n    <tr>\n      <th>43588</th>\n      <td>SJ-SCJS-01</td>\n      <td>SCC전시동</td>\n      <td>P006</td>\n      <td>700201020001</td>\n      <td>SCC 7호기 권상기</td>\n      <td>승강기</td>\n      <td>화물용</td>\n      <td>로프식</td>\n      <td>권상기</td>\n      <td>2013-11-12</td>\n      <td>0</td>\n      <td>3255</td>\n      <td>3255</td>\n      <td>0.0</td>\n      <td>0</td>\n      <td>0</td>\n      <td>2022-10-11</td>\n      <td>3255</td>\n      <td>0</td>\n    </tr>\n  </tbody>\n</table>\n<p>41137 rows × 19 columns</p>\n</div>"
     },
     "execution_count": 116,
     "metadata": {},
     "output_type": "execute_result"
    }
   ],
   "source": [
    "max_time = datetime.datetime(2022,10,11)\n",
    "\n",
    "analysis_data = pd.merge(fmsx05,jangbi_broken[['job_jisi_dt','fac_cd','설치-작업간격','작업-작업간격','작업횟수','job_cd','job_nm']], on ='fac_cd', how ='left')\n",
    "\n",
    "analysis_data['fac_instdt'] = pd.to_datetime(analysis_data['fac_instdt'])\n",
    "\n",
    "analysis_data = analysis_data[analysis_data['fac_instdt'] <= max_time]\n",
    "\n",
    "\n",
    "analysis_data['max_time'] = max_time\n",
    "analysis_data['max_time'] = pd.to_datetime(analysis_data['max_time'])\n",
    "analysis_data['작업-작업간격'] = analysis_data['작업-작업간격'].fillna(999999)\n",
    "\n",
    "analysis_data['설치-작업간격'] = analysis_data['설치-작업간격'].fillna(999999)\n",
    "\n",
    "analysis_data['경과시간'] = 0\n",
    "\n",
    "def time(df):\n",
    "    x = df['작업-작업간격']\n",
    "    if x == 999999:\n",
    "        return int(str(df['max_time'] -  df['fac_instdt'])[:-13])\n",
    "    else :\n",
    "        return int(x)\n",
    "def time2(df):\n",
    "    x = df['설치-작업간격']\n",
    "    if x == 999999:\n",
    "        return int(str(df['max_time'] -  df['fac_instdt'])[:-13])\n",
    "    else :\n",
    "        return int(x)\n",
    "\n",
    "def time3(df):\n",
    "    if df['status'] == 0 :\n",
    "        return int(str(df['max_time'] -  df['fac_instdt'])[:-13])\n",
    "    else :\n",
    "        return int(str(df['max_time'] -  df['job_jisi_dt'])[:-13])\n",
    "\n",
    "\n",
    "def status(df):\n",
    "    if df['작업횟수'] == 0:\n",
    "        return 0\n",
    "    else :\n",
    "        return 1\n",
    "\n",
    "analysis_data['작업횟수'] = analysis_data['작업횟수'].fillna(0)\n",
    "analysis_data['작업-작업간격'] = analysis_data.apply(time,axis=1)\n",
    "analysis_data['설치-작업간격'] = analysis_data.apply(time2,axis=1)\n",
    "analysis_data['status'] = analysis_data.apply(status,axis=1)\n",
    "analysis_data['경과시간'] =  analysis_data.apply(time3,axis=1)\n",
    "analysis_data = analysis_data.fillna(0)\n",
    "analysis_data"
   ],
   "metadata": {
    "collapsed": false
   }
  },
  {
   "cell_type": "markdown",
   "source": [],
   "metadata": {
    "collapsed": false
   }
  },
  {
   "cell_type": "code",
   "execution_count": 117,
   "outputs": [],
   "source": [
    "기계 = pd.read_excel('수행자재_완료.xlsx',sheet_name='기계')\n",
    "통신 = pd.read_excel('수행자재_완료.xlsx',sheet_name='통신')\n",
    "방재 = pd.read_excel('수행자재_완료.xlsx',sheet_name='방재')\n",
    "승강기 = pd.read_excel('수행자재_완료.xlsx',sheet_name='승강기')\n",
    "전기 = pd.read_excel('수행자재_완료.xlsx',sheet_name='전기')"
   ],
   "metadata": {
    "collapsed": false
   }
  },
  {
   "cell_type": "code",
   "execution_count": 118,
   "outputs": [],
   "source": [
    "수행범위 = pd.concat([기계,통신,방재,승강기,전기])\n",
    "input_data= pd.merge(수행범위,analysis_data, how = 'left',left_on=['Lv1','Lv2','Lv3','Lv4'],right_on=['jangbi_class_nm_1','jangbi_class_nm_2','jangbi_class_nm_3','jangbi_class_nm_4'])\n",
    "input_data.drop(['jangbi_class_nm_1','jangbi_class_nm_2','jangbi_class_nm_3','jangbi_class_nm_4'],axis=1,inplace = True)\n",
    "input_data = input_data.dropna()"
   ],
   "metadata": {
    "collapsed": false
   }
  },
  {
   "cell_type": "code",
   "execution_count": 119,
   "outputs": [
    {
     "data": {
      "text/plain": "      Lv1     Lv2      Lv3         Lv4   장애건수  자재매칭건수      매칭비율       그룹정의  \\\n0      기계  공기조화설비  개별냉난방설비  개별냉난방기 실내기  309.0     4.0  0.012945     개별냉난방기   \n1      기계  공기조화설비  개별냉난방설비  개별냉난방기 실내기  309.0     4.0  0.012945     개별냉난방기   \n2      기계  공기조화설비  개별냉난방설비  개별냉난방기 실내기  309.0     4.0  0.012945     개별냉난방기   \n3      기계  공기조화설비  개별냉난방설비  개별냉난방기 실내기  309.0     4.0  0.012945     개별냉난방기   \n4      기계  공기조화설비  개별냉난방설비  개별냉난방기 실내기  309.0     4.0  0.012945     개별냉난방기   \n...    ..     ...      ...         ...    ...     ...       ...        ...   \n38185  전기  전력부하설비       조명   옥외 LED 조명   27.0    12.0  0.440000  옥외 LED 조명   \n38186  전기  전력부하설비       조명   옥외 LED 조명   27.0    12.0  0.440000  옥외 LED 조명   \n38187  전기  전력부하설비       조명   옥외 LED 조명   27.0    12.0  0.440000  옥외 LED 조명   \n38188  전기  전력부하설비       조명   옥외 LED 조명   27.0    12.0  0.440000  옥외 LED 조명   \n38189  전기  전력부하설비       조명   옥외 LED 조명   27.0    12.0  0.440000  옥외 LED 조명   \n\n      장애분석 자재분석  ... fac_instdt job_jisi_dt 설치-작업간격 작업-작업간격  작업횟수 job_cd  \\\n0        O    X  ... 2014-04-01           0  3115.0  3115.0   0.0      0   \n1        O    X  ... 2019-11-01           0  1075.0  1075.0   0.0      0   \n2        O    X  ... 2019-11-01           0  1075.0  1075.0   0.0      0   \n3        O    X  ... 2013-09-01           0  3327.0  3327.0   0.0      0   \n4        O    X  ... 2013-09-01           0  3327.0  3327.0   0.0      0   \n...    ...  ...  ...        ...         ...     ...     ...   ...    ...   \n38185    o    o  ... 2013-11-01           0  3266.0  3266.0   0.0      0   \n38186    o    o  ... 2013-11-01           0  3266.0  3266.0   0.0      0   \n38187    o    o  ... 2013-11-01           0  3266.0  3266.0   0.0      0   \n38188    o    o  ... 2013-11-01           0  3266.0  3266.0   0.0      0   \n38189    o    o  ... 2013-11-01           0  3266.0  3266.0   0.0      0   \n\n      job_nm   max_time    경과시간  status  \n0          0 2022-10-11  3115.0     0.0  \n1          0 2022-10-11  1075.0     0.0  \n2          0 2022-10-11  1075.0     0.0  \n3          0 2022-10-11  3327.0     0.0  \n4          0 2022-10-11  3327.0     0.0  \n...      ...        ...     ...     ...  \n38185      0 2022-10-11  3266.0     0.0  \n38186      0 2022-10-11  3266.0     0.0  \n38187      0 2022-10-11  3266.0     0.0  \n38188      0 2022-10-11  3266.0     0.0  \n38189      0 2022-10-11  3266.0     0.0  \n\n[15516 rows x 26 columns]",
      "text/html": "<div>\n<style scoped>\n    .dataframe tbody tr th:only-of-type {\n        vertical-align: middle;\n    }\n\n    .dataframe tbody tr th {\n        vertical-align: top;\n    }\n\n    .dataframe thead th {\n        text-align: right;\n    }\n</style>\n<table border=\"1\" class=\"dataframe\">\n  <thead>\n    <tr style=\"text-align: right;\">\n      <th></th>\n      <th>Lv1</th>\n      <th>Lv2</th>\n      <th>Lv3</th>\n      <th>Lv4</th>\n      <th>장애건수</th>\n      <th>자재매칭건수</th>\n      <th>매칭비율</th>\n      <th>그룹정의</th>\n      <th>장애분석</th>\n      <th>자재분석</th>\n      <th>...</th>\n      <th>fac_instdt</th>\n      <th>job_jisi_dt</th>\n      <th>설치-작업간격</th>\n      <th>작업-작업간격</th>\n      <th>작업횟수</th>\n      <th>job_cd</th>\n      <th>job_nm</th>\n      <th>max_time</th>\n      <th>경과시간</th>\n      <th>status</th>\n    </tr>\n  </thead>\n  <tbody>\n    <tr>\n      <th>0</th>\n      <td>기계</td>\n      <td>공기조화설비</td>\n      <td>개별냉난방설비</td>\n      <td>개별냉난방기 실내기</td>\n      <td>309.0</td>\n      <td>4.0</td>\n      <td>0.012945</td>\n      <td>개별냉난방기</td>\n      <td>O</td>\n      <td>X</td>\n      <td>...</td>\n      <td>2014-04-01</td>\n      <td>0</td>\n      <td>3115.0</td>\n      <td>3115.0</td>\n      <td>0.0</td>\n      <td>0</td>\n      <td>0</td>\n      <td>2022-10-11</td>\n      <td>3115.0</td>\n      <td>0.0</td>\n    </tr>\n    <tr>\n      <th>1</th>\n      <td>기계</td>\n      <td>공기조화설비</td>\n      <td>개별냉난방설비</td>\n      <td>개별냉난방기 실내기</td>\n      <td>309.0</td>\n      <td>4.0</td>\n      <td>0.012945</td>\n      <td>개별냉난방기</td>\n      <td>O</td>\n      <td>X</td>\n      <td>...</td>\n      <td>2019-11-01</td>\n      <td>0</td>\n      <td>1075.0</td>\n      <td>1075.0</td>\n      <td>0.0</td>\n      <td>0</td>\n      <td>0</td>\n      <td>2022-10-11</td>\n      <td>1075.0</td>\n      <td>0.0</td>\n    </tr>\n    <tr>\n      <th>2</th>\n      <td>기계</td>\n      <td>공기조화설비</td>\n      <td>개별냉난방설비</td>\n      <td>개별냉난방기 실내기</td>\n      <td>309.0</td>\n      <td>4.0</td>\n      <td>0.012945</td>\n      <td>개별냉난방기</td>\n      <td>O</td>\n      <td>X</td>\n      <td>...</td>\n      <td>2019-11-01</td>\n      <td>0</td>\n      <td>1075.0</td>\n      <td>1075.0</td>\n      <td>0.0</td>\n      <td>0</td>\n      <td>0</td>\n      <td>2022-10-11</td>\n      <td>1075.0</td>\n      <td>0.0</td>\n    </tr>\n    <tr>\n      <th>3</th>\n      <td>기계</td>\n      <td>공기조화설비</td>\n      <td>개별냉난방설비</td>\n      <td>개별냉난방기 실내기</td>\n      <td>309.0</td>\n      <td>4.0</td>\n      <td>0.012945</td>\n      <td>개별냉난방기</td>\n      <td>O</td>\n      <td>X</td>\n      <td>...</td>\n      <td>2013-09-01</td>\n      <td>0</td>\n      <td>3327.0</td>\n      <td>3327.0</td>\n      <td>0.0</td>\n      <td>0</td>\n      <td>0</td>\n      <td>2022-10-11</td>\n      <td>3327.0</td>\n      <td>0.0</td>\n    </tr>\n    <tr>\n      <th>4</th>\n      <td>기계</td>\n      <td>공기조화설비</td>\n      <td>개별냉난방설비</td>\n      <td>개별냉난방기 실내기</td>\n      <td>309.0</td>\n      <td>4.0</td>\n      <td>0.012945</td>\n      <td>개별냉난방기</td>\n      <td>O</td>\n      <td>X</td>\n      <td>...</td>\n      <td>2013-09-01</td>\n      <td>0</td>\n      <td>3327.0</td>\n      <td>3327.0</td>\n      <td>0.0</td>\n      <td>0</td>\n      <td>0</td>\n      <td>2022-10-11</td>\n      <td>3327.0</td>\n      <td>0.0</td>\n    </tr>\n    <tr>\n      <th>...</th>\n      <td>...</td>\n      <td>...</td>\n      <td>...</td>\n      <td>...</td>\n      <td>...</td>\n      <td>...</td>\n      <td>...</td>\n      <td>...</td>\n      <td>...</td>\n      <td>...</td>\n      <td>...</td>\n      <td>...</td>\n      <td>...</td>\n      <td>...</td>\n      <td>...</td>\n      <td>...</td>\n      <td>...</td>\n      <td>...</td>\n      <td>...</td>\n      <td>...</td>\n      <td>...</td>\n    </tr>\n    <tr>\n      <th>38185</th>\n      <td>전기</td>\n      <td>전력부하설비</td>\n      <td>조명</td>\n      <td>옥외 LED 조명</td>\n      <td>27.0</td>\n      <td>12.0</td>\n      <td>0.440000</td>\n      <td>옥외 LED 조명</td>\n      <td>o</td>\n      <td>o</td>\n      <td>...</td>\n      <td>2013-11-01</td>\n      <td>0</td>\n      <td>3266.0</td>\n      <td>3266.0</td>\n      <td>0.0</td>\n      <td>0</td>\n      <td>0</td>\n      <td>2022-10-11</td>\n      <td>3266.0</td>\n      <td>0.0</td>\n    </tr>\n    <tr>\n      <th>38186</th>\n      <td>전기</td>\n      <td>전력부하설비</td>\n      <td>조명</td>\n      <td>옥외 LED 조명</td>\n      <td>27.0</td>\n      <td>12.0</td>\n      <td>0.440000</td>\n      <td>옥외 LED 조명</td>\n      <td>o</td>\n      <td>o</td>\n      <td>...</td>\n      <td>2013-11-01</td>\n      <td>0</td>\n      <td>3266.0</td>\n      <td>3266.0</td>\n      <td>0.0</td>\n      <td>0</td>\n      <td>0</td>\n      <td>2022-10-11</td>\n      <td>3266.0</td>\n      <td>0.0</td>\n    </tr>\n    <tr>\n      <th>38187</th>\n      <td>전기</td>\n      <td>전력부하설비</td>\n      <td>조명</td>\n      <td>옥외 LED 조명</td>\n      <td>27.0</td>\n      <td>12.0</td>\n      <td>0.440000</td>\n      <td>옥외 LED 조명</td>\n      <td>o</td>\n      <td>o</td>\n      <td>...</td>\n      <td>2013-11-01</td>\n      <td>0</td>\n      <td>3266.0</td>\n      <td>3266.0</td>\n      <td>0.0</td>\n      <td>0</td>\n      <td>0</td>\n      <td>2022-10-11</td>\n      <td>3266.0</td>\n      <td>0.0</td>\n    </tr>\n    <tr>\n      <th>38188</th>\n      <td>전기</td>\n      <td>전력부하설비</td>\n      <td>조명</td>\n      <td>옥외 LED 조명</td>\n      <td>27.0</td>\n      <td>12.0</td>\n      <td>0.440000</td>\n      <td>옥외 LED 조명</td>\n      <td>o</td>\n      <td>o</td>\n      <td>...</td>\n      <td>2013-11-01</td>\n      <td>0</td>\n      <td>3266.0</td>\n      <td>3266.0</td>\n      <td>0.0</td>\n      <td>0</td>\n      <td>0</td>\n      <td>2022-10-11</td>\n      <td>3266.0</td>\n      <td>0.0</td>\n    </tr>\n    <tr>\n      <th>38189</th>\n      <td>전기</td>\n      <td>전력부하설비</td>\n      <td>조명</td>\n      <td>옥외 LED 조명</td>\n      <td>27.0</td>\n      <td>12.0</td>\n      <td>0.440000</td>\n      <td>옥외 LED 조명</td>\n      <td>o</td>\n      <td>o</td>\n      <td>...</td>\n      <td>2013-11-01</td>\n      <td>0</td>\n      <td>3266.0</td>\n      <td>3266.0</td>\n      <td>0.0</td>\n      <td>0</td>\n      <td>0</td>\n      <td>2022-10-11</td>\n      <td>3266.0</td>\n      <td>0.0</td>\n    </tr>\n  </tbody>\n</table>\n<p>15516 rows × 26 columns</p>\n</div>"
     },
     "execution_count": 119,
     "metadata": {},
     "output_type": "execute_result"
    }
   ],
   "source": [
    "input_data"
   ],
   "metadata": {
    "collapsed": false
   }
  },
  {
   "cell_type": "code",
   "execution_count": 120,
   "outputs": [],
   "source": [
    "input_data.to_csv('생존분석.csv')"
   ],
   "metadata": {
    "collapsed": false
   }
  },
  {
   "cell_type": "markdown",
   "source": [
    "- 장비분류(그룹핑), 동, 층, 장비명, 장애발생횟수, 최근장애일자 > 가져와서 돌리면돔"
   ],
   "metadata": {
    "collapsed": false
   }
  },
  {
   "cell_type": "code",
   "execution_count": 113,
   "outputs": [
    {
     "data": {
      "text/plain": "            bd_cd   bd_nm  Unnamed: 0 comp_cd        fac_cd  \\\n0             NaN     NaN           0    SEJO  200201040293   \n1             NaN     NaN           1    SEJO  200201010257   \n2             NaN     NaN           2    SEJO  200202030001   \n3             NaN     NaN           3    SEJO  200105080599   \n4             NaN     NaN           4    SEJO  200202010001   \n...           ...     ...         ...     ...           ...   \n40806  SJ-SCJS-01  SCC전시동       40806    SEJO  700101020004   \n40807  SJ-SCJS-01  SCC전시동       40807    SEJO  700101020005   \n40808  SJ-SCJS-01  SCC전시동       40808    SEJO  700101020006   \n40809  SJ-SCJS-01  SCC전시동       40809    SEJO  700201010010   \n40810  SJ-SCJS-01  SCC전시동       40810    SEJO  700201020001   \n\n                            fac_nm  class_cd  dept_cd     fac_model  \\\n0      (3)세-1F-0(여)로비-화장실) 세면대 2대   20020104    10201  자동(2)/수동(0)    \n1                       9F여1대변기(5)  20020101    10201   CC-113(바닥형)   \n2                            우수조#1  20020203    10201           NaN   \n3                   배기휀#76(EF-504)  20010508    10201           NaN   \n4                            시수조#1  20020201    10201           NaN   \n...                            ...       ...      ...           ...   \n40806                  SCC 4호기 권상기  70010102    10302        HS250K   \n40807                  SCC 5호기 권상기  70010102    10302        HS250K   \n40808                  SCC 6호기 권상기  70010102    10302        HS250K   \n40809                  SCC 7호기 제어반  70020101    10302    DZDLE-4300   \n40810                  SCC 7호기 권상기  70020102    10302      SDE-1504   \n\n          fac_spec  ... chk_edit_dt law_fac_yn jangbi_class_nm_1  \\\n0             청소수전  ...         NaN          N                기계   \n1      690*395*435  ...         NaN          N                기계   \n2              NaN  ...         NaN          N                기계   \n3              NaN  ...         NaN          N                기계   \n4              NaN  ...         NaN          N                기계   \n...            ...  ...         ...        ...               ...   \n40806         12*6  ...         NaN          N               승강기   \n40807         12*6  ...         NaN          N               승강기   \n40808         12*6  ...         NaN          N               승강기   \n40809          NaN  ...         NaN          N               승강기   \n40810         12*6  ...         NaN          N               승강기   \n\n      jangbi_class_nm_2 jangbi_class_nm_3 jangbi_class_nm_4 jangbi_class_cd_1  \\\n0              위생, 탱크설비              위생설비            세면대 수전                20   \n1              위생, 탱크설비              위생설비               대변기                20   \n2              위생, 탱크설비              탱크설비            우수 저장조                20   \n3                공기조화설비              환기설비               환기팬                20   \n4              위생, 탱크설비              탱크설비            상수 저장조                20   \n...                 ...               ...               ...               ...   \n40806               승객용                MR               권상기                70   \n40807               승객용                MR               권상기                70   \n40808               승객용                MR               권상기                70   \n40809               화물용               로프식               제어반                70   \n40810               화물용               로프식               권상기                70   \n\n      jangbi_class_cd_2 jangbi_class_cd_3  jangbi_class_cd_4  \n0                  2002            200201           20020104  \n1                  2002            200201           20020101  \n2                  2002            200202           20020203  \n3                  2001            200105           20010508  \n4                  2002            200202           20020201  \n...                 ...               ...                ...  \n40806              7001            700101           70010102  \n40807              7001            700101           70010102  \n40808              7001            700101           70010102  \n40809              7002            700201           70020101  \n40810              7002            700201           70020102  \n\n[40811 rows x 48 columns]",
      "text/html": "<div>\n<style scoped>\n    .dataframe tbody tr th:only-of-type {\n        vertical-align: middle;\n    }\n\n    .dataframe tbody tr th {\n        vertical-align: top;\n    }\n\n    .dataframe thead th {\n        text-align: right;\n    }\n</style>\n<table border=\"1\" class=\"dataframe\">\n  <thead>\n    <tr style=\"text-align: right;\">\n      <th></th>\n      <th>bd_cd</th>\n      <th>bd_nm</th>\n      <th>Unnamed: 0</th>\n      <th>comp_cd</th>\n      <th>fac_cd</th>\n      <th>fac_nm</th>\n      <th>class_cd</th>\n      <th>dept_cd</th>\n      <th>fac_model</th>\n      <th>fac_spec</th>\n      <th>...</th>\n      <th>chk_edit_dt</th>\n      <th>law_fac_yn</th>\n      <th>jangbi_class_nm_1</th>\n      <th>jangbi_class_nm_2</th>\n      <th>jangbi_class_nm_3</th>\n      <th>jangbi_class_nm_4</th>\n      <th>jangbi_class_cd_1</th>\n      <th>jangbi_class_cd_2</th>\n      <th>jangbi_class_cd_3</th>\n      <th>jangbi_class_cd_4</th>\n    </tr>\n  </thead>\n  <tbody>\n    <tr>\n      <th>0</th>\n      <td>NaN</td>\n      <td>NaN</td>\n      <td>0</td>\n      <td>SEJO</td>\n      <td>200201040293</td>\n      <td>(3)세-1F-0(여)로비-화장실) 세면대 2대</td>\n      <td>20020104</td>\n      <td>10201</td>\n      <td>자동(2)/수동(0)</td>\n      <td>청소수전</td>\n      <td>...</td>\n      <td>NaN</td>\n      <td>N</td>\n      <td>기계</td>\n      <td>위생, 탱크설비</td>\n      <td>위생설비</td>\n      <td>세면대 수전</td>\n      <td>20</td>\n      <td>2002</td>\n      <td>200201</td>\n      <td>20020104</td>\n    </tr>\n    <tr>\n      <th>1</th>\n      <td>NaN</td>\n      <td>NaN</td>\n      <td>1</td>\n      <td>SEJO</td>\n      <td>200201010257</td>\n      <td>9F여1대변기(5)</td>\n      <td>20020101</td>\n      <td>10201</td>\n      <td>CC-113(바닥형)</td>\n      <td>690*395*435</td>\n      <td>...</td>\n      <td>NaN</td>\n      <td>N</td>\n      <td>기계</td>\n      <td>위생, 탱크설비</td>\n      <td>위생설비</td>\n      <td>대변기</td>\n      <td>20</td>\n      <td>2002</td>\n      <td>200201</td>\n      <td>20020101</td>\n    </tr>\n    <tr>\n      <th>2</th>\n      <td>NaN</td>\n      <td>NaN</td>\n      <td>2</td>\n      <td>SEJO</td>\n      <td>200202030001</td>\n      <td>우수조#1</td>\n      <td>20020203</td>\n      <td>10201</td>\n      <td>NaN</td>\n      <td>NaN</td>\n      <td>...</td>\n      <td>NaN</td>\n      <td>N</td>\n      <td>기계</td>\n      <td>위생, 탱크설비</td>\n      <td>탱크설비</td>\n      <td>우수 저장조</td>\n      <td>20</td>\n      <td>2002</td>\n      <td>200202</td>\n      <td>20020203</td>\n    </tr>\n    <tr>\n      <th>3</th>\n      <td>NaN</td>\n      <td>NaN</td>\n      <td>3</td>\n      <td>SEJO</td>\n      <td>200105080599</td>\n      <td>배기휀#76(EF-504)</td>\n      <td>20010508</td>\n      <td>10201</td>\n      <td>NaN</td>\n      <td>NaN</td>\n      <td>...</td>\n      <td>NaN</td>\n      <td>N</td>\n      <td>기계</td>\n      <td>공기조화설비</td>\n      <td>환기설비</td>\n      <td>환기팬</td>\n      <td>20</td>\n      <td>2001</td>\n      <td>200105</td>\n      <td>20010508</td>\n    </tr>\n    <tr>\n      <th>4</th>\n      <td>NaN</td>\n      <td>NaN</td>\n      <td>4</td>\n      <td>SEJO</td>\n      <td>200202010001</td>\n      <td>시수조#1</td>\n      <td>20020201</td>\n      <td>10201</td>\n      <td>NaN</td>\n      <td>NaN</td>\n      <td>...</td>\n      <td>NaN</td>\n      <td>N</td>\n      <td>기계</td>\n      <td>위생, 탱크설비</td>\n      <td>탱크설비</td>\n      <td>상수 저장조</td>\n      <td>20</td>\n      <td>2002</td>\n      <td>200202</td>\n      <td>20020201</td>\n    </tr>\n    <tr>\n      <th>...</th>\n      <td>...</td>\n      <td>...</td>\n      <td>...</td>\n      <td>...</td>\n      <td>...</td>\n      <td>...</td>\n      <td>...</td>\n      <td>...</td>\n      <td>...</td>\n      <td>...</td>\n      <td>...</td>\n      <td>...</td>\n      <td>...</td>\n      <td>...</td>\n      <td>...</td>\n      <td>...</td>\n      <td>...</td>\n      <td>...</td>\n      <td>...</td>\n      <td>...</td>\n      <td>...</td>\n    </tr>\n    <tr>\n      <th>40806</th>\n      <td>SJ-SCJS-01</td>\n      <td>SCC전시동</td>\n      <td>40806</td>\n      <td>SEJO</td>\n      <td>700101020004</td>\n      <td>SCC 4호기 권상기</td>\n      <td>70010102</td>\n      <td>10302</td>\n      <td>HS250K</td>\n      <td>12*6</td>\n      <td>...</td>\n      <td>NaN</td>\n      <td>N</td>\n      <td>승강기</td>\n      <td>승객용</td>\n      <td>MR</td>\n      <td>권상기</td>\n      <td>70</td>\n      <td>7001</td>\n      <td>700101</td>\n      <td>70010102</td>\n    </tr>\n    <tr>\n      <th>40807</th>\n      <td>SJ-SCJS-01</td>\n      <td>SCC전시동</td>\n      <td>40807</td>\n      <td>SEJO</td>\n      <td>700101020005</td>\n      <td>SCC 5호기 권상기</td>\n      <td>70010102</td>\n      <td>10302</td>\n      <td>HS250K</td>\n      <td>12*6</td>\n      <td>...</td>\n      <td>NaN</td>\n      <td>N</td>\n      <td>승강기</td>\n      <td>승객용</td>\n      <td>MR</td>\n      <td>권상기</td>\n      <td>70</td>\n      <td>7001</td>\n      <td>700101</td>\n      <td>70010102</td>\n    </tr>\n    <tr>\n      <th>40808</th>\n      <td>SJ-SCJS-01</td>\n      <td>SCC전시동</td>\n      <td>40808</td>\n      <td>SEJO</td>\n      <td>700101020006</td>\n      <td>SCC 6호기 권상기</td>\n      <td>70010102</td>\n      <td>10302</td>\n      <td>HS250K</td>\n      <td>12*6</td>\n      <td>...</td>\n      <td>NaN</td>\n      <td>N</td>\n      <td>승강기</td>\n      <td>승객용</td>\n      <td>MR</td>\n      <td>권상기</td>\n      <td>70</td>\n      <td>7001</td>\n      <td>700101</td>\n      <td>70010102</td>\n    </tr>\n    <tr>\n      <th>40809</th>\n      <td>SJ-SCJS-01</td>\n      <td>SCC전시동</td>\n      <td>40809</td>\n      <td>SEJO</td>\n      <td>700201010010</td>\n      <td>SCC 7호기 제어반</td>\n      <td>70020101</td>\n      <td>10302</td>\n      <td>DZDLE-4300</td>\n      <td>NaN</td>\n      <td>...</td>\n      <td>NaN</td>\n      <td>N</td>\n      <td>승강기</td>\n      <td>화물용</td>\n      <td>로프식</td>\n      <td>제어반</td>\n      <td>70</td>\n      <td>7002</td>\n      <td>700201</td>\n      <td>70020101</td>\n    </tr>\n    <tr>\n      <th>40810</th>\n      <td>SJ-SCJS-01</td>\n      <td>SCC전시동</td>\n      <td>40810</td>\n      <td>SEJO</td>\n      <td>700201020001</td>\n      <td>SCC 7호기 권상기</td>\n      <td>70020102</td>\n      <td>10302</td>\n      <td>SDE-1504</td>\n      <td>12*6</td>\n      <td>...</td>\n      <td>NaN</td>\n      <td>N</td>\n      <td>승강기</td>\n      <td>화물용</td>\n      <td>로프식</td>\n      <td>권상기</td>\n      <td>70</td>\n      <td>7002</td>\n      <td>700201</td>\n      <td>70020102</td>\n    </tr>\n  </tbody>\n</table>\n<p>40811 rows × 48 columns</p>\n</div>"
     },
     "execution_count": 113,
     "metadata": {},
     "output_type": "execute_result"
    }
   ],
   "source": [
    "FMSX05_장비마스터"
   ],
   "metadata": {
    "collapsed": false
   }
  }
 ],
 "metadata": {
  "kernelspec": {
   "display_name": "Python 3",
   "language": "python",
   "name": "python3"
  },
  "language_info": {
   "codemirror_mode": {
    "name": "ipython",
    "version": 2
   },
   "file_extension": ".py",
   "mimetype": "text/x-python",
   "name": "python",
   "nbconvert_exporter": "python",
   "pygments_lexer": "ipython2",
   "version": "2.7.6"
  }
 },
 "nbformat": 4,
 "nbformat_minor": 0
}

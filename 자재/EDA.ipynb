{
 "cells": [
  {
   "cell_type": "code",
   "execution_count": 1,
   "outputs": [],
   "source": [
    "import pandas as pd\n",
    "from pathlib import Path\n",
    "from collections import Counter\n",
    "from konlpy.tag import Okt"
   ],
   "metadata": {
    "collapsed": false
   }
  },
  {
   "cell_type": "code",
   "execution_count": 2,
   "outputs": [
    {
     "data": {
      "text/plain": "'/Users/keumhyeonjun/Projects/행안부/자재/GFMS DB/'"
     },
     "execution_count": 2,
     "metadata": {},
     "output_type": "execute_result"
    }
   ],
   "source": [
    "path = Path.cwd()\n",
    "path = str(path)+'/GFMS DB/'\n",
    "path"
   ],
   "metadata": {
    "collapsed": false
   }
  },
  {
   "cell_type": "markdown",
   "source": [
    "# 테이블 join > ~~~장애에 사용된 .... 장비의 정보 보기"
   ],
   "metadata": {
    "collapsed": false
   }
  },
  {
   "cell_type": "markdown",
   "source": [
    "## 작업지시결과"
   ],
   "metadata": {
    "collapsed": false
   }
  },
  {
   "cell_type": "code",
   "execution_count": 3,
   "outputs": [
    {
     "data": {
      "text/plain": "  comp_cd                 job_cd  job_tpy                         job_nm  \\\n0    SEJO           211001-00060        5             1동 307호 벽에 못 제거 요청   \n1    SEJO           211001-00053        5  1동 411호 천장 고양이 구조로 인한 텍스분리 요청   \n2    SEJO  M_202110011345461_001        3            5동 정문 도로 중앙규제봉 교체작업   \n3    SEJO  M_202110011511311_001        3   SCC홍보동 부출입구쪽 외부창옆 바닥 보도블럭 침하   \n4    SEJO           211001-00010        5      2동 438호 옆 오른쪽 1번 칸 양변기 막힘   \n\n   job_stat job_jisi_dt   job_enddt                 job_shm  \\\n0         4  2021-10-01  2021-10-01   2021-10-01 오후 3:59:00   \n1         4  2021-10-01  2021-10-01   2021-10-01 오후 3:30:00   \n2         4  2021-10-01  2021-10-01   2021-10-01 오전 9:45:00   \n3         4  2021-10-01  2021-10-01   2021-10-01 오후 1:23:00   \n4         4  2021-10-01  2021-10-01  2021-10-01 오전 10:38:00   \n\n                  job_ehm job_cause  ... work_time bosu_gyuljae_yn  emc_yn  \\\n0   2021-10-01 오후 4:34:00       NaN  ...       NaN               Y       N   \n1   2021-10-01 오후 3:48:00       NaN  ...       NaN               Y       N   \n2  2021-10-01 오전 10:37:00       NaN  ...       NaN               Y       N   \n3   2021-10-01 오후 2:34:00       NaN  ...       NaN               Y       N   \n4   2021-10-01 오후 2:20:00       NaN  ...       NaN               N       N   \n\n  const_cd  as_class_lv1 as_class_lv2  common_wrk  emc_id copor_yn kukmin_yn  \n0      NaN           NaN          NaN         NaN     NaN        N         N  \n1      NaN           NaN          NaN         NaN     NaN        N         N  \n2      NaN           NaN          NaN         NaN     NaN        N         N  \n3      NaN           NaN          NaN         NaN     NaN        N         N  \n4      NaN           7.0        701.0         NaN     NaN        N         N  \n\n[5 rows x 61 columns]",
      "text/html": "<div>\n<style scoped>\n    .dataframe tbody tr th:only-of-type {\n        vertical-align: middle;\n    }\n\n    .dataframe tbody tr th {\n        vertical-align: top;\n    }\n\n    .dataframe thead th {\n        text-align: right;\n    }\n</style>\n<table border=\"1\" class=\"dataframe\">\n  <thead>\n    <tr style=\"text-align: right;\">\n      <th></th>\n      <th>comp_cd</th>\n      <th>job_cd</th>\n      <th>job_tpy</th>\n      <th>job_nm</th>\n      <th>job_stat</th>\n      <th>job_jisi_dt</th>\n      <th>job_enddt</th>\n      <th>job_shm</th>\n      <th>job_ehm</th>\n      <th>job_cause</th>\n      <th>...</th>\n      <th>work_time</th>\n      <th>bosu_gyuljae_yn</th>\n      <th>emc_yn</th>\n      <th>const_cd</th>\n      <th>as_class_lv1</th>\n      <th>as_class_lv2</th>\n      <th>common_wrk</th>\n      <th>emc_id</th>\n      <th>copor_yn</th>\n      <th>kukmin_yn</th>\n    </tr>\n  </thead>\n  <tbody>\n    <tr>\n      <th>0</th>\n      <td>SEJO</td>\n      <td>211001-00060</td>\n      <td>5</td>\n      <td>1동 307호 벽에 못 제거 요청</td>\n      <td>4</td>\n      <td>2021-10-01</td>\n      <td>2021-10-01</td>\n      <td>2021-10-01 오후 3:59:00</td>\n      <td>2021-10-01 오후 4:34:00</td>\n      <td>NaN</td>\n      <td>...</td>\n      <td>NaN</td>\n      <td>Y</td>\n      <td>N</td>\n      <td>NaN</td>\n      <td>NaN</td>\n      <td>NaN</td>\n      <td>NaN</td>\n      <td>NaN</td>\n      <td>N</td>\n      <td>N</td>\n    </tr>\n    <tr>\n      <th>1</th>\n      <td>SEJO</td>\n      <td>211001-00053</td>\n      <td>5</td>\n      <td>1동 411호 천장 고양이 구조로 인한 텍스분리 요청</td>\n      <td>4</td>\n      <td>2021-10-01</td>\n      <td>2021-10-01</td>\n      <td>2021-10-01 오후 3:30:00</td>\n      <td>2021-10-01 오후 3:48:00</td>\n      <td>NaN</td>\n      <td>...</td>\n      <td>NaN</td>\n      <td>Y</td>\n      <td>N</td>\n      <td>NaN</td>\n      <td>NaN</td>\n      <td>NaN</td>\n      <td>NaN</td>\n      <td>NaN</td>\n      <td>N</td>\n      <td>N</td>\n    </tr>\n    <tr>\n      <th>2</th>\n      <td>SEJO</td>\n      <td>M_202110011345461_001</td>\n      <td>3</td>\n      <td>5동 정문 도로 중앙규제봉 교체작업</td>\n      <td>4</td>\n      <td>2021-10-01</td>\n      <td>2021-10-01</td>\n      <td>2021-10-01 오전 9:45:00</td>\n      <td>2021-10-01 오전 10:37:00</td>\n      <td>NaN</td>\n      <td>...</td>\n      <td>NaN</td>\n      <td>Y</td>\n      <td>N</td>\n      <td>NaN</td>\n      <td>NaN</td>\n      <td>NaN</td>\n      <td>NaN</td>\n      <td>NaN</td>\n      <td>N</td>\n      <td>N</td>\n    </tr>\n    <tr>\n      <th>3</th>\n      <td>SEJO</td>\n      <td>M_202110011511311_001</td>\n      <td>3</td>\n      <td>SCC홍보동 부출입구쪽 외부창옆 바닥 보도블럭 침하</td>\n      <td>4</td>\n      <td>2021-10-01</td>\n      <td>2021-10-01</td>\n      <td>2021-10-01 오후 1:23:00</td>\n      <td>2021-10-01 오후 2:34:00</td>\n      <td>NaN</td>\n      <td>...</td>\n      <td>NaN</td>\n      <td>Y</td>\n      <td>N</td>\n      <td>NaN</td>\n      <td>NaN</td>\n      <td>NaN</td>\n      <td>NaN</td>\n      <td>NaN</td>\n      <td>N</td>\n      <td>N</td>\n    </tr>\n    <tr>\n      <th>4</th>\n      <td>SEJO</td>\n      <td>211001-00010</td>\n      <td>5</td>\n      <td>2동 438호 옆 오른쪽 1번 칸 양변기 막힘</td>\n      <td>4</td>\n      <td>2021-10-01</td>\n      <td>2021-10-01</td>\n      <td>2021-10-01 오전 10:38:00</td>\n      <td>2021-10-01 오후 2:20:00</td>\n      <td>NaN</td>\n      <td>...</td>\n      <td>NaN</td>\n      <td>N</td>\n      <td>N</td>\n      <td>NaN</td>\n      <td>7.0</td>\n      <td>701.0</td>\n      <td>NaN</td>\n      <td>NaN</td>\n      <td>N</td>\n      <td>N</td>\n    </tr>\n  </tbody>\n</table>\n<p>5 rows × 61 columns</p>\n</div>"
     },
     "execution_count": 3,
     "metadata": {},
     "output_type": "execute_result"
    }
   ],
   "source": [
    "fmsa10=pd.read_excel(path+'FMSA10_작업지시_결과.xlsx')\n",
    "fmsa10.head()\n"
   ],
   "metadata": {
    "collapsed": false
   }
  },
  {
   "cell_type": "markdown",
   "source": [
    "## 작업장비이력"
   ],
   "metadata": {
    "collapsed": false
   }
  },
  {
   "cell_type": "code",
   "execution_count": 4,
   "outputs": [
    {
     "data": {
      "text/plain": "  comp_cd        job_cd        fac_cd  job_cont             input_sysdt  \\\n0    SEJO  211001-00002  400201020417       NaN   2021-10-27 오후 3:27:52   \n1    SEJO  211001-00003  400201020817       NaN   2021-10-20 오전 9:07:24   \n2    SEJO  211001-00008  400101030002       NaN   2021-10-20 오전 9:06:32   \n3    SEJO  211001-00012  700201050006       NaN  2021-10-01 오전 10:58:22   \n4    SEJO  211001-00013  200401010026       NaN  2021-10-01 오전 10:58:24   \n\n   chg_sysdt input_emp_no  chg_emp_no input_scr_nm  \n0        NaN    korea8012         NaN      JOB_A11  \n1        NaN    tjsrb3183         NaN      JOB_A11  \n2        NaN    tjsrb3183         NaN      JOB_A11  \n3        NaN     krearth0         NaN      JOB_A11  \n4        NaN     choi3015         NaN      JOB_A11  ",
      "text/html": "<div>\n<style scoped>\n    .dataframe tbody tr th:only-of-type {\n        vertical-align: middle;\n    }\n\n    .dataframe tbody tr th {\n        vertical-align: top;\n    }\n\n    .dataframe thead th {\n        text-align: right;\n    }\n</style>\n<table border=\"1\" class=\"dataframe\">\n  <thead>\n    <tr style=\"text-align: right;\">\n      <th></th>\n      <th>comp_cd</th>\n      <th>job_cd</th>\n      <th>fac_cd</th>\n      <th>job_cont</th>\n      <th>input_sysdt</th>\n      <th>chg_sysdt</th>\n      <th>input_emp_no</th>\n      <th>chg_emp_no</th>\n      <th>input_scr_nm</th>\n    </tr>\n  </thead>\n  <tbody>\n    <tr>\n      <th>0</th>\n      <td>SEJO</td>\n      <td>211001-00002</td>\n      <td>400201020417</td>\n      <td>NaN</td>\n      <td>2021-10-27 오후 3:27:52</td>\n      <td>NaN</td>\n      <td>korea8012</td>\n      <td>NaN</td>\n      <td>JOB_A11</td>\n    </tr>\n    <tr>\n      <th>1</th>\n      <td>SEJO</td>\n      <td>211001-00003</td>\n      <td>400201020817</td>\n      <td>NaN</td>\n      <td>2021-10-20 오전 9:07:24</td>\n      <td>NaN</td>\n      <td>tjsrb3183</td>\n      <td>NaN</td>\n      <td>JOB_A11</td>\n    </tr>\n    <tr>\n      <th>2</th>\n      <td>SEJO</td>\n      <td>211001-00008</td>\n      <td>400101030002</td>\n      <td>NaN</td>\n      <td>2021-10-20 오전 9:06:32</td>\n      <td>NaN</td>\n      <td>tjsrb3183</td>\n      <td>NaN</td>\n      <td>JOB_A11</td>\n    </tr>\n    <tr>\n      <th>3</th>\n      <td>SEJO</td>\n      <td>211001-00012</td>\n      <td>700201050006</td>\n      <td>NaN</td>\n      <td>2021-10-01 오전 10:58:22</td>\n      <td>NaN</td>\n      <td>krearth0</td>\n      <td>NaN</td>\n      <td>JOB_A11</td>\n    </tr>\n    <tr>\n      <th>4</th>\n      <td>SEJO</td>\n      <td>211001-00013</td>\n      <td>200401010026</td>\n      <td>NaN</td>\n      <td>2021-10-01 오전 10:58:24</td>\n      <td>NaN</td>\n      <td>choi3015</td>\n      <td>NaN</td>\n      <td>JOB_A11</td>\n    </tr>\n  </tbody>\n</table>\n</div>"
     },
     "execution_count": 4,
     "metadata": {},
     "output_type": "execute_result"
    }
   ],
   "source": [
    "fmsa11=pd.read_excel(path+'FMSA11_작업장비이력.xlsx')\n",
    "len(fmsa11)\n",
    "fmsa11.head()"
   ],
   "metadata": {
    "collapsed": false
   }
  },
  {
   "cell_type": "code",
   "execution_count": 5,
   "outputs": [
    {
     "data": {
      "text/plain": "6831"
     },
     "execution_count": 5,
     "metadata": {},
     "output_type": "execute_result"
    }
   ],
   "source": [
    "len(fmsa11)"
   ],
   "metadata": {
    "collapsed": false
   }
  },
  {
   "cell_type": "markdown",
   "source": [
    "## 장비마스터"
   ],
   "metadata": {
    "collapsed": false
   }
  },
  {
   "cell_type": "code",
   "execution_count": 6,
   "outputs": [
    {
     "name": "stdout",
     "output_type": "stream",
     "text": [
      "40811\n"
     ]
    },
    {
     "data": {
      "text/plain": "  comp_cd        fac_cd                       fac_nm  class_cd  dept_cd  \\\n0    SEJO  200201040293  (3)세-1F-0(여)로비-화장실) 세면대 2대   20020104    10201   \n1    SEJO  200201010257                   9F여1대변기(5)  20020101    10201   \n2    SEJO  200202030001                        우수조#1  20020203    10201   \n3    SEJO  200105080599               배기휀#76(EF-504)  20010508    10201   \n4    SEJO  200202010001                        시수조#1  20020201    10201   \n\n      fac_model     fac_spec     fac_plc bd_cd fl_cd  ... input_emp_no  \\\n0  자동(2)/수동(0)          청소수전       (여)로비   NaN   NaN  ...          박남규   \n1   CC-113(바닥형)  690*395*435  여-1(동) 화장실   NaN   NaN  ...          최휴영   \n2           NaN          NaN         NaN   NaN   NaN  ...          안용준   \n3           NaN          NaN         NaN   NaN   NaN  ...          안용준   \n4           NaN          NaN         NaN   NaN   NaN  ...          안용준   \n\n  chg_emp_no input_scr_nm use_yn fac_time_yn                cmt del_yn  \\\n0        NaN    UBIS_F041      Y           N  8002013000158_228      N   \n1        NaN    UBIS_F041      Y           N  8002011000172_229      N   \n2        NaN    UBIS_F041      Y           N  8002023003021_229      N   \n3        안용준    UBIS_F041      Y           N  8001045005090_229      N   \n4        NaN    UBIS_F041      Y           N  8002021001021_229      N   \n\n   chk_edit_gb chk_edit_dt  law_fac_yn  \n0          NaN         NaN           N  \n1          NaN         NaN           N  \n2          NaN         NaN           N  \n3          NaN         NaN           N  \n4          NaN         NaN           N  \n\n[5 rows x 38 columns]",
      "text/html": "<div>\n<style scoped>\n    .dataframe tbody tr th:only-of-type {\n        vertical-align: middle;\n    }\n\n    .dataframe tbody tr th {\n        vertical-align: top;\n    }\n\n    .dataframe thead th {\n        text-align: right;\n    }\n</style>\n<table border=\"1\" class=\"dataframe\">\n  <thead>\n    <tr style=\"text-align: right;\">\n      <th></th>\n      <th>comp_cd</th>\n      <th>fac_cd</th>\n      <th>fac_nm</th>\n      <th>class_cd</th>\n      <th>dept_cd</th>\n      <th>fac_model</th>\n      <th>fac_spec</th>\n      <th>fac_plc</th>\n      <th>bd_cd</th>\n      <th>fl_cd</th>\n      <th>...</th>\n      <th>input_emp_no</th>\n      <th>chg_emp_no</th>\n      <th>input_scr_nm</th>\n      <th>use_yn</th>\n      <th>fac_time_yn</th>\n      <th>cmt</th>\n      <th>del_yn</th>\n      <th>chk_edit_gb</th>\n      <th>chk_edit_dt</th>\n      <th>law_fac_yn</th>\n    </tr>\n  </thead>\n  <tbody>\n    <tr>\n      <th>0</th>\n      <td>SEJO</td>\n      <td>200201040293</td>\n      <td>(3)세-1F-0(여)로비-화장실) 세면대 2대</td>\n      <td>20020104</td>\n      <td>10201</td>\n      <td>자동(2)/수동(0)</td>\n      <td>청소수전</td>\n      <td>(여)로비</td>\n      <td>NaN</td>\n      <td>NaN</td>\n      <td>...</td>\n      <td>박남규</td>\n      <td>NaN</td>\n      <td>UBIS_F041</td>\n      <td>Y</td>\n      <td>N</td>\n      <td>8002013000158_228</td>\n      <td>N</td>\n      <td>NaN</td>\n      <td>NaN</td>\n      <td>N</td>\n    </tr>\n    <tr>\n      <th>1</th>\n      <td>SEJO</td>\n      <td>200201010257</td>\n      <td>9F여1대변기(5)</td>\n      <td>20020101</td>\n      <td>10201</td>\n      <td>CC-113(바닥형)</td>\n      <td>690*395*435</td>\n      <td>여-1(동) 화장실</td>\n      <td>NaN</td>\n      <td>NaN</td>\n      <td>...</td>\n      <td>최휴영</td>\n      <td>NaN</td>\n      <td>UBIS_F041</td>\n      <td>Y</td>\n      <td>N</td>\n      <td>8002011000172_229</td>\n      <td>N</td>\n      <td>NaN</td>\n      <td>NaN</td>\n      <td>N</td>\n    </tr>\n    <tr>\n      <th>2</th>\n      <td>SEJO</td>\n      <td>200202030001</td>\n      <td>우수조#1</td>\n      <td>20020203</td>\n      <td>10201</td>\n      <td>NaN</td>\n      <td>NaN</td>\n      <td>NaN</td>\n      <td>NaN</td>\n      <td>NaN</td>\n      <td>...</td>\n      <td>안용준</td>\n      <td>NaN</td>\n      <td>UBIS_F041</td>\n      <td>Y</td>\n      <td>N</td>\n      <td>8002023003021_229</td>\n      <td>N</td>\n      <td>NaN</td>\n      <td>NaN</td>\n      <td>N</td>\n    </tr>\n    <tr>\n      <th>3</th>\n      <td>SEJO</td>\n      <td>200105080599</td>\n      <td>배기휀#76(EF-504)</td>\n      <td>20010508</td>\n      <td>10201</td>\n      <td>NaN</td>\n      <td>NaN</td>\n      <td>NaN</td>\n      <td>NaN</td>\n      <td>NaN</td>\n      <td>...</td>\n      <td>안용준</td>\n      <td>안용준</td>\n      <td>UBIS_F041</td>\n      <td>Y</td>\n      <td>N</td>\n      <td>8001045005090_229</td>\n      <td>N</td>\n      <td>NaN</td>\n      <td>NaN</td>\n      <td>N</td>\n    </tr>\n    <tr>\n      <th>4</th>\n      <td>SEJO</td>\n      <td>200202010001</td>\n      <td>시수조#1</td>\n      <td>20020201</td>\n      <td>10201</td>\n      <td>NaN</td>\n      <td>NaN</td>\n      <td>NaN</td>\n      <td>NaN</td>\n      <td>NaN</td>\n      <td>...</td>\n      <td>안용준</td>\n      <td>NaN</td>\n      <td>UBIS_F041</td>\n      <td>Y</td>\n      <td>N</td>\n      <td>8002021001021_229</td>\n      <td>N</td>\n      <td>NaN</td>\n      <td>NaN</td>\n      <td>N</td>\n    </tr>\n  </tbody>\n</table>\n<p>5 rows × 38 columns</p>\n</div>"
     },
     "execution_count": 6,
     "metadata": {},
     "output_type": "execute_result"
    }
   ],
   "source": [
    "fmsx05=pd.read_excel(path+'FMSX05_장비마스터.xlsx')\n",
    "print(len(fmsx05))\n",
    "fmsx05.head()"
   ],
   "metadata": {
    "collapsed": false
   }
  },
  {
   "cell_type": "markdown",
   "source": [
    "## 작업장비이력 + 장비마스터 join\n",
    "* 작업에 사용된 장비의 정보 탐색 가능\n",
    "* 만약 2번 수리된 장비가 있다면?? >> 장비마스터의  input_sysdt 는 최신화??? 아님 장비번호가 2개존재?? >> 작업장비이력의 시간과 장비마스터의 시간 비교해보기"
   ],
   "metadata": {
    "collapsed": false
   }
  },
  {
   "cell_type": "code",
   "execution_count": 7,
   "outputs": [],
   "source": [
    "#분석에 필요한 컬럼 가져오기\n",
    "\n",
    "#작업코드, 장비코드, 인풋시간\n",
    "fmsa11_1 =fmsa11[['job_cd','fac_cd','input_sysdt']]\n",
    "#장비코드, 장비명, 인풋시간\n",
    "fmsx05_1 =fmsx05[['fac_cd','fac_nm','input_sysdt',]] \\\n",
    "\n",
    "#겹치는 컬럼명 변경\n",
    "fmsx05_1 = fmsx05_1.rename(columns={'input_sysdt':'input_sysdt_03'})\n",
    "fmsa11_1 = fmsa11_1.rename(columns={'input_sysdt':'input_sysdt_11'})"
   ],
   "metadata": {
    "collapsed": false
   }
  },
  {
   "cell_type": "code",
   "execution_count": 8,
   "outputs": [
    {
     "name": "stdout",
     "output_type": "stream",
     "text": [
      "6831\n"
     ]
    },
    {
     "data": {
      "text/plain": "                     job_cd        fac_cd          input_sysdt_11  \\\n0              211001-00002  400201020417   2021-10-27 오후 3:27:52   \n1              211008-00047  400201020417   2021-10-27 오후 3:29:23   \n2              211001-00003  400201020817   2021-10-20 오전 9:07:24   \n3              211002-00005  400201020817   2021-10-20 오전 9:08:46   \n4              220625-00008  400201020817  2022-06-26 오전 12:15:10   \n...                     ...           ...                     ...   \n6826  M_202206231505243_001  500102050031   2022-06-23 오후 4:44:34   \n6827  M_202207011346422_001  200201020170   2022-07-11 오전 9:13:11   \n6828  M_202208021424204_001  200201020133   2022-08-02 오후 2:41:33   \n6829  M_202208021424204_001  200201020167   2022-08-02 오후 2:41:33   \n6830  M_202208221057315_001  200201030273   2022-08-22 오후 4:34:44   \n\n              fac_nm          input_sysdt_03  \n0     14동 아날로그감지기 연기  2019-10-30 오전 10:22:38  \n1     14동 아날로그감지기 연기  2019-10-30 오전 10:22:38  \n2       광전식 스포트형 감지기  2021-03-08 오전 10:59:52  \n3       광전식 스포트형 감지기  2021-03-08 오전 10:59:52  \n4       광전식 스포트형 감지기  2021-03-08 오전 10:59:52  \n...              ...                     ...  \n6826           강화도어3   2021-02-18 오후 3:10:35  \n6827      3F남1소변기(장)   2019-11-27 오후 4:56:37  \n6828      5F남1소변기(1)   2019-11-27 오후 3:37:48  \n6829      5F남1소변기(장)   2019-11-27 오후 4:53:41  \n6830     3F남1일반비데(3)   2019-11-29 오전 9:17:07  \n\n[6831 rows x 5 columns]",
      "text/html": "<div>\n<style scoped>\n    .dataframe tbody tr th:only-of-type {\n        vertical-align: middle;\n    }\n\n    .dataframe tbody tr th {\n        vertical-align: top;\n    }\n\n    .dataframe thead th {\n        text-align: right;\n    }\n</style>\n<table border=\"1\" class=\"dataframe\">\n  <thead>\n    <tr style=\"text-align: right;\">\n      <th></th>\n      <th>job_cd</th>\n      <th>fac_cd</th>\n      <th>input_sysdt_11</th>\n      <th>fac_nm</th>\n      <th>input_sysdt_03</th>\n    </tr>\n  </thead>\n  <tbody>\n    <tr>\n      <th>0</th>\n      <td>211001-00002</td>\n      <td>400201020417</td>\n      <td>2021-10-27 오후 3:27:52</td>\n      <td>14동 아날로그감지기 연기</td>\n      <td>2019-10-30 오전 10:22:38</td>\n    </tr>\n    <tr>\n      <th>1</th>\n      <td>211008-00047</td>\n      <td>400201020417</td>\n      <td>2021-10-27 오후 3:29:23</td>\n      <td>14동 아날로그감지기 연기</td>\n      <td>2019-10-30 오전 10:22:38</td>\n    </tr>\n    <tr>\n      <th>2</th>\n      <td>211001-00003</td>\n      <td>400201020817</td>\n      <td>2021-10-20 오전 9:07:24</td>\n      <td>광전식 스포트형 감지기</td>\n      <td>2021-03-08 오전 10:59:52</td>\n    </tr>\n    <tr>\n      <th>3</th>\n      <td>211002-00005</td>\n      <td>400201020817</td>\n      <td>2021-10-20 오전 9:08:46</td>\n      <td>광전식 스포트형 감지기</td>\n      <td>2021-03-08 오전 10:59:52</td>\n    </tr>\n    <tr>\n      <th>4</th>\n      <td>220625-00008</td>\n      <td>400201020817</td>\n      <td>2022-06-26 오전 12:15:10</td>\n      <td>광전식 스포트형 감지기</td>\n      <td>2021-03-08 오전 10:59:52</td>\n    </tr>\n    <tr>\n      <th>...</th>\n      <td>...</td>\n      <td>...</td>\n      <td>...</td>\n      <td>...</td>\n      <td>...</td>\n    </tr>\n    <tr>\n      <th>6826</th>\n      <td>M_202206231505243_001</td>\n      <td>500102050031</td>\n      <td>2022-06-23 오후 4:44:34</td>\n      <td>강화도어3</td>\n      <td>2021-02-18 오후 3:10:35</td>\n    </tr>\n    <tr>\n      <th>6827</th>\n      <td>M_202207011346422_001</td>\n      <td>200201020170</td>\n      <td>2022-07-11 오전 9:13:11</td>\n      <td>3F남1소변기(장)</td>\n      <td>2019-11-27 오후 4:56:37</td>\n    </tr>\n    <tr>\n      <th>6828</th>\n      <td>M_202208021424204_001</td>\n      <td>200201020133</td>\n      <td>2022-08-02 오후 2:41:33</td>\n      <td>5F남1소변기(1)</td>\n      <td>2019-11-27 오후 3:37:48</td>\n    </tr>\n    <tr>\n      <th>6829</th>\n      <td>M_202208021424204_001</td>\n      <td>200201020167</td>\n      <td>2022-08-02 오후 2:41:33</td>\n      <td>5F남1소변기(장)</td>\n      <td>2019-11-27 오후 4:53:41</td>\n    </tr>\n    <tr>\n      <th>6830</th>\n      <td>M_202208221057315_001</td>\n      <td>200201030273</td>\n      <td>2022-08-22 오후 4:34:44</td>\n      <td>3F남1일반비데(3)</td>\n      <td>2019-11-29 오전 9:17:07</td>\n    </tr>\n  </tbody>\n</table>\n<p>6831 rows × 5 columns</p>\n</div>"
     },
     "execution_count": 8,
     "metadata": {},
     "output_type": "execute_result"
    }
   ],
   "source": [
    "#데이터프레임 병함\n",
    "equipment = pd.merge(fmsa11_1, fmsx05_1, how='inner', on='fac_cd')\n",
    "print(len(equipment))\n",
    "equipment"
   ],
   "metadata": {
    "collapsed": false
   }
  },
  {
   "cell_type": "markdown",
   "source": [
    "### 여러번 수리되더라도 장비마스터의 입고 시간은 바뀌지 않는다\n",
    "* 장비가 교체되는 경우 새로운 장비로 등록??\n",
    "* 장비가 교체되는 경우는 어떻게 되는가??\n",
    "* 장비는 교체가 아니고 수리만 있는거??"
   ],
   "metadata": {
    "collapsed": false
   }
  },
  {
   "cell_type": "code",
   "execution_count": 9,
   "outputs": [],
   "source": [
    "test = pd.DataFrame(equipment['fac_cd'].value_counts())\n",
    "# 정비이력이 2번이상 존재하는 값 뽑기\n",
    "test = test[test['fac_cd']>=2]\n",
    "num = len(test)"
   ],
   "metadata": {
    "collapsed": false
   }
  },
  {
   "cell_type": "code",
   "execution_count": 10,
   "outputs": [
    {
     "name": "stdout",
     "output_type": "stream",
     "text": [
      "수리가 여러번 된 경우 장비마스터의 장비 시간이 다른경우의 개수 =  0\n"
     ]
    }
   ],
   "source": [
    "cnt = 0\n",
    "for i in range(num):\n",
    "    tmp = test['fac_cd'].index[i]\n",
    "    # 장비마스터의 input시간이 겹치는 경우가 있으면 알리기\n",
    "    if len(equipment[equipment['fac_cd'] == tmp]['input_sysdt_03'].value_counts()) >= 2 :\n",
    "        cnt+=1\n",
    "print('수리가 여러번 된 경우 장비마스터의 장비 시간이 다른경우의 개수 = ',cnt)"
   ],
   "metadata": {
    "collapsed": false
   }
  },
  {
   "cell_type": "markdown",
   "source": [
    "## 작업지시결과,  (작업장비이력 +장비마스터) join\n",
    "* job_cd의 개수가 더 많은데?? > 이유 찾기"
   ],
   "metadata": {
    "collapsed": false
   }
  },
  {
   "cell_type": "code",
   "execution_count": 11,
   "outputs": [
    {
     "data": {
      "text/plain": "      comp_cd                 job_cd  job_tpy                         job_nm  \\\n0        SEJO           211001-00060        5             1동 307호 벽에 못 제거 요청   \n1        SEJO           211001-00053        5  1동 411호 천장 고양이 구조로 인한 텍스분리 요청   \n2        SEJO  M_202110011345461_001        3            5동 정문 도로 중앙규제봉 교체작업   \n3        SEJO  M_202110011511311_001        3   SCC홍보동 부출입구쪽 외부창옆 바닥 보도블럭 침하   \n4        SEJO           211001-00010        5      2동 438호 옆 오른쪽 1번 칸 양변기 막힘   \n...       ...                    ...      ...                            ...   \n20766    SEJO  M_202210110943434_000        3                         출입문 보수   \n20767    SEJO  M_202210111009465_000        3          방화문(플로어힌지, 피봇힌지 등) 보수   \n20768    SEJO           221011-00057        3     16동 기계실 인버터 판넬 누름 스위치 보수작업   \n20769    SEJO           221011-00044        5         16동 1층 동쪽 여자화장실 대변기 막힘   \n20770    SEJO           221011-00019        5     17-2동 7층 남자 화장실 대변기 물 계속흐름   \n\n       job_stat job_jisi_dt   job_enddt                 job_shm  \\\n0             4  2021-10-01  2021-10-01   2021-10-01 오후 3:59:00   \n1             4  2021-10-01  2021-10-01   2021-10-01 오후 3:30:00   \n2             4  2021-10-01  2021-10-01   2021-10-01 오전 9:45:00   \n3             4  2021-10-01  2021-10-01   2021-10-01 오후 1:23:00   \n4             4  2021-10-01  2021-10-01  2021-10-01 오전 10:38:00   \n...         ...         ...         ...                     ...   \n20766         3  2022-10-11  2022-10-11   2022-10-11 오후 1:30:00   \n20767         3  2022-10-11  2022-10-11   2022-10-11 오후 1:30:00   \n20768         4  2022-10-11  2022-10-11   2022-10-11 오후 3:00:00   \n20769         4  2022-10-11  2022-10-11   2022-10-11 오전 8:32:00   \n20770         4  2022-10-11  2022-10-11   2022-10-11 오전 8:57:00   \n\n                      job_ehm job_cause  ... as_class_lv1 as_class_lv2  \\\n0       2021-10-01 오후 4:34:00       NaN  ...          NaN          NaN   \n1       2021-10-01 오후 3:48:00       NaN  ...          NaN          NaN   \n2      2021-10-01 오전 10:37:00       NaN  ...          NaN          NaN   \n3       2021-10-01 오후 2:34:00       NaN  ...          NaN          NaN   \n4       2021-10-01 오후 2:20:00       NaN  ...          7.0        701.0   \n...                       ...       ...  ...          ...          ...   \n20766   2022-10-11 오후 4:00:00       NaN  ...          NaN          NaN   \n20767   2022-10-11 오후 4:00:00       NaN  ...          NaN          NaN   \n20768   2022-10-11 오후 3:40:00       NaN  ...          NaN          NaN   \n20769   2022-10-11 오전 9:30:00       NaN  ...          7.0        701.0   \n20770   2022-10-11 오전 9:20:00       NaN  ...          7.0        701.0   \n\n       common_wrk emc_id  copor_yn kukmin_yn        fac_cd  \\\n0             NaN    NaN         N         N           NaN   \n1             NaN    NaN         N         N           NaN   \n2             NaN    NaN         N         N           NaN   \n3             NaN    NaN         N         N           NaN   \n4             NaN    NaN         N         N           NaN   \n...           ...    ...       ...       ...           ...   \n20766         NaN    NaN         N         N           NaN   \n20767         NaN    NaN         N         N           NaN   \n20768         NaN    NaN         N         N           NaN   \n20769         NaN    NaN         N         N  2.002010e+11   \n20770         NaN    NaN         N         N  2.002010e+11   \n\n              input_sysdt_11           fac_nm          input_sysdt_03  \n0                        NaN              NaN                     NaN  \n1                        NaN              NaN                     NaN  \n2                        NaN              NaN                     NaN  \n3                        NaN              NaN                     NaN  \n4                        NaN              NaN                     NaN  \n...                      ...              ...                     ...  \n20766                    NaN              NaN                     NaN  \n20767                    NaN              NaN                     NaN  \n20768                    NaN              NaN                     NaN  \n20769  2022-10-11 오후 2:59:13  1F여2동쪽 공용대변기(5)   2019-11-27 오후 1:41:05  \n20770  2022-10-11 오후 1:42:33       7F남2대변기(3)  2019-11-28 오전 10:45:23  \n\n[20771 rows x 65 columns]",
      "text/html": "<div>\n<style scoped>\n    .dataframe tbody tr th:only-of-type {\n        vertical-align: middle;\n    }\n\n    .dataframe tbody tr th {\n        vertical-align: top;\n    }\n\n    .dataframe thead th {\n        text-align: right;\n    }\n</style>\n<table border=\"1\" class=\"dataframe\">\n  <thead>\n    <tr style=\"text-align: right;\">\n      <th></th>\n      <th>comp_cd</th>\n      <th>job_cd</th>\n      <th>job_tpy</th>\n      <th>job_nm</th>\n      <th>job_stat</th>\n      <th>job_jisi_dt</th>\n      <th>job_enddt</th>\n      <th>job_shm</th>\n      <th>job_ehm</th>\n      <th>job_cause</th>\n      <th>...</th>\n      <th>as_class_lv1</th>\n      <th>as_class_lv2</th>\n      <th>common_wrk</th>\n      <th>emc_id</th>\n      <th>copor_yn</th>\n      <th>kukmin_yn</th>\n      <th>fac_cd</th>\n      <th>input_sysdt_11</th>\n      <th>fac_nm</th>\n      <th>input_sysdt_03</th>\n    </tr>\n  </thead>\n  <tbody>\n    <tr>\n      <th>0</th>\n      <td>SEJO</td>\n      <td>211001-00060</td>\n      <td>5</td>\n      <td>1동 307호 벽에 못 제거 요청</td>\n      <td>4</td>\n      <td>2021-10-01</td>\n      <td>2021-10-01</td>\n      <td>2021-10-01 오후 3:59:00</td>\n      <td>2021-10-01 오후 4:34:00</td>\n      <td>NaN</td>\n      <td>...</td>\n      <td>NaN</td>\n      <td>NaN</td>\n      <td>NaN</td>\n      <td>NaN</td>\n      <td>N</td>\n      <td>N</td>\n      <td>NaN</td>\n      <td>NaN</td>\n      <td>NaN</td>\n      <td>NaN</td>\n    </tr>\n    <tr>\n      <th>1</th>\n      <td>SEJO</td>\n      <td>211001-00053</td>\n      <td>5</td>\n      <td>1동 411호 천장 고양이 구조로 인한 텍스분리 요청</td>\n      <td>4</td>\n      <td>2021-10-01</td>\n      <td>2021-10-01</td>\n      <td>2021-10-01 오후 3:30:00</td>\n      <td>2021-10-01 오후 3:48:00</td>\n      <td>NaN</td>\n      <td>...</td>\n      <td>NaN</td>\n      <td>NaN</td>\n      <td>NaN</td>\n      <td>NaN</td>\n      <td>N</td>\n      <td>N</td>\n      <td>NaN</td>\n      <td>NaN</td>\n      <td>NaN</td>\n      <td>NaN</td>\n    </tr>\n    <tr>\n      <th>2</th>\n      <td>SEJO</td>\n      <td>M_202110011345461_001</td>\n      <td>3</td>\n      <td>5동 정문 도로 중앙규제봉 교체작업</td>\n      <td>4</td>\n      <td>2021-10-01</td>\n      <td>2021-10-01</td>\n      <td>2021-10-01 오전 9:45:00</td>\n      <td>2021-10-01 오전 10:37:00</td>\n      <td>NaN</td>\n      <td>...</td>\n      <td>NaN</td>\n      <td>NaN</td>\n      <td>NaN</td>\n      <td>NaN</td>\n      <td>N</td>\n      <td>N</td>\n      <td>NaN</td>\n      <td>NaN</td>\n      <td>NaN</td>\n      <td>NaN</td>\n    </tr>\n    <tr>\n      <th>3</th>\n      <td>SEJO</td>\n      <td>M_202110011511311_001</td>\n      <td>3</td>\n      <td>SCC홍보동 부출입구쪽 외부창옆 바닥 보도블럭 침하</td>\n      <td>4</td>\n      <td>2021-10-01</td>\n      <td>2021-10-01</td>\n      <td>2021-10-01 오후 1:23:00</td>\n      <td>2021-10-01 오후 2:34:00</td>\n      <td>NaN</td>\n      <td>...</td>\n      <td>NaN</td>\n      <td>NaN</td>\n      <td>NaN</td>\n      <td>NaN</td>\n      <td>N</td>\n      <td>N</td>\n      <td>NaN</td>\n      <td>NaN</td>\n      <td>NaN</td>\n      <td>NaN</td>\n    </tr>\n    <tr>\n      <th>4</th>\n      <td>SEJO</td>\n      <td>211001-00010</td>\n      <td>5</td>\n      <td>2동 438호 옆 오른쪽 1번 칸 양변기 막힘</td>\n      <td>4</td>\n      <td>2021-10-01</td>\n      <td>2021-10-01</td>\n      <td>2021-10-01 오전 10:38:00</td>\n      <td>2021-10-01 오후 2:20:00</td>\n      <td>NaN</td>\n      <td>...</td>\n      <td>7.0</td>\n      <td>701.0</td>\n      <td>NaN</td>\n      <td>NaN</td>\n      <td>N</td>\n      <td>N</td>\n      <td>NaN</td>\n      <td>NaN</td>\n      <td>NaN</td>\n      <td>NaN</td>\n    </tr>\n    <tr>\n      <th>...</th>\n      <td>...</td>\n      <td>...</td>\n      <td>...</td>\n      <td>...</td>\n      <td>...</td>\n      <td>...</td>\n      <td>...</td>\n      <td>...</td>\n      <td>...</td>\n      <td>...</td>\n      <td>...</td>\n      <td>...</td>\n      <td>...</td>\n      <td>...</td>\n      <td>...</td>\n      <td>...</td>\n      <td>...</td>\n      <td>...</td>\n      <td>...</td>\n      <td>...</td>\n      <td>...</td>\n    </tr>\n    <tr>\n      <th>20766</th>\n      <td>SEJO</td>\n      <td>M_202210110943434_000</td>\n      <td>3</td>\n      <td>출입문 보수</td>\n      <td>3</td>\n      <td>2022-10-11</td>\n      <td>2022-10-11</td>\n      <td>2022-10-11 오후 1:30:00</td>\n      <td>2022-10-11 오후 4:00:00</td>\n      <td>NaN</td>\n      <td>...</td>\n      <td>NaN</td>\n      <td>NaN</td>\n      <td>NaN</td>\n      <td>NaN</td>\n      <td>N</td>\n      <td>N</td>\n      <td>NaN</td>\n      <td>NaN</td>\n      <td>NaN</td>\n      <td>NaN</td>\n    </tr>\n    <tr>\n      <th>20767</th>\n      <td>SEJO</td>\n      <td>M_202210111009465_000</td>\n      <td>3</td>\n      <td>방화문(플로어힌지, 피봇힌지 등) 보수</td>\n      <td>3</td>\n      <td>2022-10-11</td>\n      <td>2022-10-11</td>\n      <td>2022-10-11 오후 1:30:00</td>\n      <td>2022-10-11 오후 4:00:00</td>\n      <td>NaN</td>\n      <td>...</td>\n      <td>NaN</td>\n      <td>NaN</td>\n      <td>NaN</td>\n      <td>NaN</td>\n      <td>N</td>\n      <td>N</td>\n      <td>NaN</td>\n      <td>NaN</td>\n      <td>NaN</td>\n      <td>NaN</td>\n    </tr>\n    <tr>\n      <th>20768</th>\n      <td>SEJO</td>\n      <td>221011-00057</td>\n      <td>3</td>\n      <td>16동 기계실 인버터 판넬 누름 스위치 보수작업</td>\n      <td>4</td>\n      <td>2022-10-11</td>\n      <td>2022-10-11</td>\n      <td>2022-10-11 오후 3:00:00</td>\n      <td>2022-10-11 오후 3:40:00</td>\n      <td>NaN</td>\n      <td>...</td>\n      <td>NaN</td>\n      <td>NaN</td>\n      <td>NaN</td>\n      <td>NaN</td>\n      <td>N</td>\n      <td>N</td>\n      <td>NaN</td>\n      <td>NaN</td>\n      <td>NaN</td>\n      <td>NaN</td>\n    </tr>\n    <tr>\n      <th>20769</th>\n      <td>SEJO</td>\n      <td>221011-00044</td>\n      <td>5</td>\n      <td>16동 1층 동쪽 여자화장실 대변기 막힘</td>\n      <td>4</td>\n      <td>2022-10-11</td>\n      <td>2022-10-11</td>\n      <td>2022-10-11 오전 8:32:00</td>\n      <td>2022-10-11 오전 9:30:00</td>\n      <td>NaN</td>\n      <td>...</td>\n      <td>7.0</td>\n      <td>701.0</td>\n      <td>NaN</td>\n      <td>NaN</td>\n      <td>N</td>\n      <td>N</td>\n      <td>2.002010e+11</td>\n      <td>2022-10-11 오후 2:59:13</td>\n      <td>1F여2동쪽 공용대변기(5)</td>\n      <td>2019-11-27 오후 1:41:05</td>\n    </tr>\n    <tr>\n      <th>20770</th>\n      <td>SEJO</td>\n      <td>221011-00019</td>\n      <td>5</td>\n      <td>17-2동 7층 남자 화장실 대변기 물 계속흐름</td>\n      <td>4</td>\n      <td>2022-10-11</td>\n      <td>2022-10-11</td>\n      <td>2022-10-11 오전 8:57:00</td>\n      <td>2022-10-11 오전 9:20:00</td>\n      <td>NaN</td>\n      <td>...</td>\n      <td>7.0</td>\n      <td>701.0</td>\n      <td>NaN</td>\n      <td>NaN</td>\n      <td>N</td>\n      <td>N</td>\n      <td>2.002010e+11</td>\n      <td>2022-10-11 오후 1:42:33</td>\n      <td>7F남2대변기(3)</td>\n      <td>2019-11-28 오전 10:45:23</td>\n    </tr>\n  </tbody>\n</table>\n<p>20771 rows × 65 columns</p>\n</div>"
     },
     "execution_count": 11,
     "metadata": {},
     "output_type": "execute_result"
    }
   ],
   "source": [
    "data = pd.merge(fmsa10, equipment, how='left', on='job_cd')\n",
    "data"
   ],
   "metadata": {
    "collapsed": false
   }
  },
  {
   "cell_type": "code",
   "execution_count": 12,
   "outputs": [
    {
     "data": {
      "text/plain": "      comp_cd                 job_cd  job_tpy  \\\n19       SEJO  M_202110011053510_000        3   \n62       SEJO  M_202110010935273_000        3   \n63       SEJO  M_202110010937493_000        3   \n64       SEJO  M_202110010939252_000        3   \n127      SEJO  M_202110050901491_000        3   \n...       ...                    ...      ...   \n20725    SEJO  M_202210111010164_000        3   \n20726    SEJO  M_202210110959223_000        3   \n20765    SEJO  M_202210110946542_000        3   \n20766    SEJO  M_202210110943434_000        3   \n20767    SEJO  M_202210111009465_000        3   \n\n                                     job_nm  job_stat job_jisi_dt   job_enddt  \\\n19                                 철재난간대 보수         3  2021-10-01  2021-10-01   \n62     17-3동 4층 북측계단실 방화문(플로어힌지, 피봇힌지 등) 보수         4  2021-10-01  2021-10-01   \n63     17-3동 5층 비상ev실 방화문(플로어힌지, 피봇힌지 등) 보수         4  2021-10-01  2021-10-01   \n64     17-3동 6층 비상ev실 방화문(플로어힌지, 피봇힌지 등) 보수         4  2021-10-01  2021-10-01   \n127                                   텍스 보수         3  2021-10-05  2021-10-05   \n...                                     ...       ...         ...         ...   \n20725                                자동문 보수         3  2022-10-11  2022-10-11   \n20726                                자동문 보수         3  2022-10-11  2022-10-11   \n20765                 방화문(플로어힌지, 피봇힌지 등) 보수         3  2022-10-11  2022-10-11   \n20766                                출입문 보수         3  2022-10-11  2022-10-11   \n20767                 방화문(플로어힌지, 피봇힌지 등) 보수         3  2022-10-11  2022-10-11   \n\n                     job_shm                job_ehm job_cause  ...  \\\n19                2021-10-01             2021-10-01       NaN  ...   \n62     2021-10-01 오후 1:30:00  2021-10-01 오후 4:00:00       NaN  ...   \n63     2021-10-01 오후 1:30:00  2021-10-01 오후 4:00:00       NaN  ...   \n64     2021-10-01 오후 1:30:00  2021-10-01 오후 4:00:00       NaN  ...   \n127               2021-10-05             2021-10-05       NaN  ...   \n...                      ...                    ...       ...  ...   \n20725             2022-10-11             2022-10-11       NaN  ...   \n20726             2022-10-11             2022-10-11       NaN  ...   \n20765  2022-10-11 오후 1:30:00  2022-10-11 오후 4:00:00       NaN  ...   \n20766  2022-10-11 오후 1:30:00  2022-10-11 오후 4:00:00       NaN  ...   \n20767  2022-10-11 오후 1:30:00  2022-10-11 오후 4:00:00       NaN  ...   \n\n      as_class_lv1 as_class_lv2  common_wrk emc_id  copor_yn kukmin_yn  \\\n19             NaN          NaN         NaN    NaN         N         N   \n62             NaN        401.0         NaN    NaN         N         N   \n63             NaN        401.0         NaN    NaN         N         N   \n64             NaN        401.0         NaN    NaN         N         N   \n127            NaN          NaN         NaN    NaN         N         N   \n...            ...          ...         ...    ...       ...       ...   \n20725          NaN          NaN         NaN    NaN         N         N   \n20726          NaN          NaN         NaN    NaN         N         N   \n20765          NaN          NaN         NaN    NaN         N         N   \n20766          NaN          NaN         NaN    NaN         N         N   \n20767          NaN          NaN         NaN    NaN         N         N   \n\n       fac_cd  input_sysdt_11 fac_nm input_sysdt_03  \n19        NaN             NaN    NaN            NaN  \n62        NaN             NaN    NaN            NaN  \n63        NaN             NaN    NaN            NaN  \n64        NaN             NaN    NaN            NaN  \n127       NaN             NaN    NaN            NaN  \n...       ...             ...    ...            ...  \n20725     NaN             NaN    NaN            NaN  \n20726     NaN             NaN    NaN            NaN  \n20765     NaN             NaN    NaN            NaN  \n20766     NaN             NaN    NaN            NaN  \n20767     NaN             NaN    NaN            NaN  \n\n[1766 rows x 65 columns]",
      "text/html": "<div>\n<style scoped>\n    .dataframe tbody tr th:only-of-type {\n        vertical-align: middle;\n    }\n\n    .dataframe tbody tr th {\n        vertical-align: top;\n    }\n\n    .dataframe thead th {\n        text-align: right;\n    }\n</style>\n<table border=\"1\" class=\"dataframe\">\n  <thead>\n    <tr style=\"text-align: right;\">\n      <th></th>\n      <th>comp_cd</th>\n      <th>job_cd</th>\n      <th>job_tpy</th>\n      <th>job_nm</th>\n      <th>job_stat</th>\n      <th>job_jisi_dt</th>\n      <th>job_enddt</th>\n      <th>job_shm</th>\n      <th>job_ehm</th>\n      <th>job_cause</th>\n      <th>...</th>\n      <th>as_class_lv1</th>\n      <th>as_class_lv2</th>\n      <th>common_wrk</th>\n      <th>emc_id</th>\n      <th>copor_yn</th>\n      <th>kukmin_yn</th>\n      <th>fac_cd</th>\n      <th>input_sysdt_11</th>\n      <th>fac_nm</th>\n      <th>input_sysdt_03</th>\n    </tr>\n  </thead>\n  <tbody>\n    <tr>\n      <th>19</th>\n      <td>SEJO</td>\n      <td>M_202110011053510_000</td>\n      <td>3</td>\n      <td>철재난간대 보수</td>\n      <td>3</td>\n      <td>2021-10-01</td>\n      <td>2021-10-01</td>\n      <td>2021-10-01</td>\n      <td>2021-10-01</td>\n      <td>NaN</td>\n      <td>...</td>\n      <td>NaN</td>\n      <td>NaN</td>\n      <td>NaN</td>\n      <td>NaN</td>\n      <td>N</td>\n      <td>N</td>\n      <td>NaN</td>\n      <td>NaN</td>\n      <td>NaN</td>\n      <td>NaN</td>\n    </tr>\n    <tr>\n      <th>62</th>\n      <td>SEJO</td>\n      <td>M_202110010935273_000</td>\n      <td>3</td>\n      <td>17-3동 4층 북측계단실 방화문(플로어힌지, 피봇힌지 등) 보수</td>\n      <td>4</td>\n      <td>2021-10-01</td>\n      <td>2021-10-01</td>\n      <td>2021-10-01 오후 1:30:00</td>\n      <td>2021-10-01 오후 4:00:00</td>\n      <td>NaN</td>\n      <td>...</td>\n      <td>NaN</td>\n      <td>401.0</td>\n      <td>NaN</td>\n      <td>NaN</td>\n      <td>N</td>\n      <td>N</td>\n      <td>NaN</td>\n      <td>NaN</td>\n      <td>NaN</td>\n      <td>NaN</td>\n    </tr>\n    <tr>\n      <th>63</th>\n      <td>SEJO</td>\n      <td>M_202110010937493_000</td>\n      <td>3</td>\n      <td>17-3동 5층 비상ev실 방화문(플로어힌지, 피봇힌지 등) 보수</td>\n      <td>4</td>\n      <td>2021-10-01</td>\n      <td>2021-10-01</td>\n      <td>2021-10-01 오후 1:30:00</td>\n      <td>2021-10-01 오후 4:00:00</td>\n      <td>NaN</td>\n      <td>...</td>\n      <td>NaN</td>\n      <td>401.0</td>\n      <td>NaN</td>\n      <td>NaN</td>\n      <td>N</td>\n      <td>N</td>\n      <td>NaN</td>\n      <td>NaN</td>\n      <td>NaN</td>\n      <td>NaN</td>\n    </tr>\n    <tr>\n      <th>64</th>\n      <td>SEJO</td>\n      <td>M_202110010939252_000</td>\n      <td>3</td>\n      <td>17-3동 6층 비상ev실 방화문(플로어힌지, 피봇힌지 등) 보수</td>\n      <td>4</td>\n      <td>2021-10-01</td>\n      <td>2021-10-01</td>\n      <td>2021-10-01 오후 1:30:00</td>\n      <td>2021-10-01 오후 4:00:00</td>\n      <td>NaN</td>\n      <td>...</td>\n      <td>NaN</td>\n      <td>401.0</td>\n      <td>NaN</td>\n      <td>NaN</td>\n      <td>N</td>\n      <td>N</td>\n      <td>NaN</td>\n      <td>NaN</td>\n      <td>NaN</td>\n      <td>NaN</td>\n    </tr>\n    <tr>\n      <th>127</th>\n      <td>SEJO</td>\n      <td>M_202110050901491_000</td>\n      <td>3</td>\n      <td>텍스 보수</td>\n      <td>3</td>\n      <td>2021-10-05</td>\n      <td>2021-10-05</td>\n      <td>2021-10-05</td>\n      <td>2021-10-05</td>\n      <td>NaN</td>\n      <td>...</td>\n      <td>NaN</td>\n      <td>NaN</td>\n      <td>NaN</td>\n      <td>NaN</td>\n      <td>N</td>\n      <td>N</td>\n      <td>NaN</td>\n      <td>NaN</td>\n      <td>NaN</td>\n      <td>NaN</td>\n    </tr>\n    <tr>\n      <th>...</th>\n      <td>...</td>\n      <td>...</td>\n      <td>...</td>\n      <td>...</td>\n      <td>...</td>\n      <td>...</td>\n      <td>...</td>\n      <td>...</td>\n      <td>...</td>\n      <td>...</td>\n      <td>...</td>\n      <td>...</td>\n      <td>...</td>\n      <td>...</td>\n      <td>...</td>\n      <td>...</td>\n      <td>...</td>\n      <td>...</td>\n      <td>...</td>\n      <td>...</td>\n      <td>...</td>\n    </tr>\n    <tr>\n      <th>20725</th>\n      <td>SEJO</td>\n      <td>M_202210111010164_000</td>\n      <td>3</td>\n      <td>자동문 보수</td>\n      <td>3</td>\n      <td>2022-10-11</td>\n      <td>2022-10-11</td>\n      <td>2022-10-11</td>\n      <td>2022-10-11</td>\n      <td>NaN</td>\n      <td>...</td>\n      <td>NaN</td>\n      <td>NaN</td>\n      <td>NaN</td>\n      <td>NaN</td>\n      <td>N</td>\n      <td>N</td>\n      <td>NaN</td>\n      <td>NaN</td>\n      <td>NaN</td>\n      <td>NaN</td>\n    </tr>\n    <tr>\n      <th>20726</th>\n      <td>SEJO</td>\n      <td>M_202210110959223_000</td>\n      <td>3</td>\n      <td>자동문 보수</td>\n      <td>3</td>\n      <td>2022-10-11</td>\n      <td>2022-10-11</td>\n      <td>2022-10-11</td>\n      <td>2022-10-11</td>\n      <td>NaN</td>\n      <td>...</td>\n      <td>NaN</td>\n      <td>NaN</td>\n      <td>NaN</td>\n      <td>NaN</td>\n      <td>N</td>\n      <td>N</td>\n      <td>NaN</td>\n      <td>NaN</td>\n      <td>NaN</td>\n      <td>NaN</td>\n    </tr>\n    <tr>\n      <th>20765</th>\n      <td>SEJO</td>\n      <td>M_202210110946542_000</td>\n      <td>3</td>\n      <td>방화문(플로어힌지, 피봇힌지 등) 보수</td>\n      <td>3</td>\n      <td>2022-10-11</td>\n      <td>2022-10-11</td>\n      <td>2022-10-11 오후 1:30:00</td>\n      <td>2022-10-11 오후 4:00:00</td>\n      <td>NaN</td>\n      <td>...</td>\n      <td>NaN</td>\n      <td>NaN</td>\n      <td>NaN</td>\n      <td>NaN</td>\n      <td>N</td>\n      <td>N</td>\n      <td>NaN</td>\n      <td>NaN</td>\n      <td>NaN</td>\n      <td>NaN</td>\n    </tr>\n    <tr>\n      <th>20766</th>\n      <td>SEJO</td>\n      <td>M_202210110943434_000</td>\n      <td>3</td>\n      <td>출입문 보수</td>\n      <td>3</td>\n      <td>2022-10-11</td>\n      <td>2022-10-11</td>\n      <td>2022-10-11 오후 1:30:00</td>\n      <td>2022-10-11 오후 4:00:00</td>\n      <td>NaN</td>\n      <td>...</td>\n      <td>NaN</td>\n      <td>NaN</td>\n      <td>NaN</td>\n      <td>NaN</td>\n      <td>N</td>\n      <td>N</td>\n      <td>NaN</td>\n      <td>NaN</td>\n      <td>NaN</td>\n      <td>NaN</td>\n    </tr>\n    <tr>\n      <th>20767</th>\n      <td>SEJO</td>\n      <td>M_202210111009465_000</td>\n      <td>3</td>\n      <td>방화문(플로어힌지, 피봇힌지 등) 보수</td>\n      <td>3</td>\n      <td>2022-10-11</td>\n      <td>2022-10-11</td>\n      <td>2022-10-11 오후 1:30:00</td>\n      <td>2022-10-11 오후 4:00:00</td>\n      <td>NaN</td>\n      <td>...</td>\n      <td>NaN</td>\n      <td>NaN</td>\n      <td>NaN</td>\n      <td>NaN</td>\n      <td>N</td>\n      <td>N</td>\n      <td>NaN</td>\n      <td>NaN</td>\n      <td>NaN</td>\n      <td>NaN</td>\n    </tr>\n  </tbody>\n</table>\n<p>1766 rows × 65 columns</p>\n</div>"
     },
     "execution_count": 12,
     "metadata": {},
     "output_type": "execute_result"
    }
   ],
   "source": [
    "data[data['sjob_cd'].isnull()==False]"
   ],
   "metadata": {
    "collapsed": false
   }
  },
  {
   "cell_type": "markdown",
   "source": [
    "### join시 fac_cd = null 인 경우 살펴보기\n",
    "* 작업지시의 장비코드 , 장비데이터의 작업코드 매칭안되는 경우(작업지시의 작업코드에는 있으나 장비데이터의 작업코드는 없음)\n",
    "* 모든 장비가 등록된 것이 아닌 경우? > 등록된 장비가 수리 될 경우 장비데이터에 기록??"
   ],
   "metadata": {
    "collapsed": false
   }
  },
  {
   "cell_type": "code",
   "execution_count": 13,
   "outputs": [
    {
     "data": {
      "text/plain": "Index(['comp_cd', 'job_cd', 'job_tpy', 'job_nm', 'job_stat', 'job_jisi_dt',\n       'job_enddt', 'job_shm', 'job_ehm', 'job_cause', 'job_cont', 'job_ilbo',\n       'job_kpi', 'job_fac_his', 'job_mng', 'day_night_ind', 'dept_cd',\n       'class_cd', 'sjob_cd', 'vend_nm', 'vend_amt', 'as_req_man',\n       'as_req_tel', 'as_req_dt', 'as_jubsu', 'input_sysdt', 'chg_sysdt',\n       'input_emp_no', 'chg_emp_no', 'input_scr_nm', 'msg_yn', 'as_req_cont',\n       'as_req_comp', 'as_happycall_dt', 'as_happycall_man',\n       'as_happycall_res1', 'as_happycall_res2', 'as_happycall_score',\n       'as_jungyo', 'as_submit', 'as_reg_h', 'as_reg_d', 'gyuljae_no1',\n       'gyuljae_no2', 'gyuljae_no3', 'gyuljae_no4', 'gyuljae_no5',\n       'gyuljae_yn', 'edit_yn', 'job_doc_yn', 'sjob_jisi_dt', 'work_time',\n       'bosu_gyuljae_yn', 'emc_yn', 'const_cd', 'as_class_lv1', 'as_class_lv2',\n       'common_wrk', 'emc_id', 'copor_yn', 'kukmin_yn', 'fac_cd',\n       'input_sysdt_11', 'fac_nm', 'input_sysdt_03'],\n      dtype='object')"
     },
     "execution_count": 13,
     "metadata": {},
     "output_type": "execute_result"
    }
   ],
   "source": [
    "data.columns"
   ],
   "metadata": {
    "collapsed": false
   }
  },
  {
   "cell_type": "markdown",
   "source": [
    "## join이 되는 경우 살펴보기"
   ],
   "metadata": {
    "collapsed": false
   }
  },
  {
   "cell_type": "code",
   "execution_count": 14,
   "outputs": [
    {
     "data": {
      "text/plain": "   comp_cd        job_cd  job_tpy                            job_nm  job_stat  \\\n9     SEJO  211001-00047        5         2동 1구역 430호 남자화장실 비데 전열불량         4   \n10    SEJO  211001-00059        5      4동 지하 1층 전기원휴게실내 샤워장 전등점등불량.         4   \n12    SEJO  211001-00037        5         4동 608호 정책조정기획관실 전등 점등 불량         4   \n15    SEJO  211001-00081        3  1동 1구역 2층 복도내 거실통로유도등 점등불량 교체 작업         4   \n16    SEJO  211001-00070        5       2-1동 옥상층 66번 CCTV PTZ 동작 불량         1   \n\n   job_jisi_dt   job_enddt                job_shm                job_ehm  \\\n9   2021-10-01  2021-10-01  2021-10-01 오후 2:30:00  2021-10-01 오후 2:40:00   \n10  2021-10-01  2021-10-01  2021-10-01 오전 9:00:00  2021-10-01 오전 9:30:00   \n12  2021-10-01  2021-10-01  2021-10-01 오후 2:25:00  2021-10-01 오후 3:25:00   \n15  2021-10-01  2021-10-01  2021-10-01 오후 1:30:00  2021-10-01 오후 1:45:00   \n16  2021-10-01  2021-10-01  2021-10-01 오전 9:00:00  2021-10-01 오후 5:31:00   \n\n   job_cause  ... as_class_lv1 as_class_lv2  common_wrk emc_id  copor_yn  \\\n9        NaN  ...         13.0       1305.0         NaN    NaN         N   \n10       NaN  ...         12.0       1201.0         NaN    NaN         N   \n12       NaN  ...         12.0       1201.0         NaN    NaN         N   \n15       NaN  ...          NaN          NaN         NaN    NaN         N   \n16       NaN  ...         19.0       1901.0         NaN    NaN         N   \n\n   kukmin_yn        fac_cd          input_sysdt_11        fac_nm  \\\n9          N  3.002010e+11   2021-10-01 오후 3:24:08     LN-4E1(E)   \n10         N  3.004010e+11  2021-11-24 오전 11:19:20  4동 지하1층 조명기구   \n12         N  3.004010e+11   2021-10-01 오후 3:58:15    4동 6층 조명기구   \n15         N  4.003010e+11  2021-10-21 오전 10:33:08  1동  거실통로 유도등   \n16         N  6.004020e+11   2021-10-01 오후 5:39:22   2동 CCTV #66   \n\n           input_sysdt_03  \n9              2019-10-16  \n10  2020-05-29 오후 3:40:28  \n12  2020-05-29 오후 4:06:09  \n15  2019-10-04 오후 4:43:52  \n16  2019-10-25 오후 4:30:18  \n\n[5 rows x 65 columns]",
      "text/html": "<div>\n<style scoped>\n    .dataframe tbody tr th:only-of-type {\n        vertical-align: middle;\n    }\n\n    .dataframe tbody tr th {\n        vertical-align: top;\n    }\n\n    .dataframe thead th {\n        text-align: right;\n    }\n</style>\n<table border=\"1\" class=\"dataframe\">\n  <thead>\n    <tr style=\"text-align: right;\">\n      <th></th>\n      <th>comp_cd</th>\n      <th>job_cd</th>\n      <th>job_tpy</th>\n      <th>job_nm</th>\n      <th>job_stat</th>\n      <th>job_jisi_dt</th>\n      <th>job_enddt</th>\n      <th>job_shm</th>\n      <th>job_ehm</th>\n      <th>job_cause</th>\n      <th>...</th>\n      <th>as_class_lv1</th>\n      <th>as_class_lv2</th>\n      <th>common_wrk</th>\n      <th>emc_id</th>\n      <th>copor_yn</th>\n      <th>kukmin_yn</th>\n      <th>fac_cd</th>\n      <th>input_sysdt_11</th>\n      <th>fac_nm</th>\n      <th>input_sysdt_03</th>\n    </tr>\n  </thead>\n  <tbody>\n    <tr>\n      <th>9</th>\n      <td>SEJO</td>\n      <td>211001-00047</td>\n      <td>5</td>\n      <td>2동 1구역 430호 남자화장실 비데 전열불량</td>\n      <td>4</td>\n      <td>2021-10-01</td>\n      <td>2021-10-01</td>\n      <td>2021-10-01 오후 2:30:00</td>\n      <td>2021-10-01 오후 2:40:00</td>\n      <td>NaN</td>\n      <td>...</td>\n      <td>13.0</td>\n      <td>1305.0</td>\n      <td>NaN</td>\n      <td>NaN</td>\n      <td>N</td>\n      <td>N</td>\n      <td>3.002010e+11</td>\n      <td>2021-10-01 오후 3:24:08</td>\n      <td>LN-4E1(E)</td>\n      <td>2019-10-16</td>\n    </tr>\n    <tr>\n      <th>10</th>\n      <td>SEJO</td>\n      <td>211001-00059</td>\n      <td>5</td>\n      <td>4동 지하 1층 전기원휴게실내 샤워장 전등점등불량.</td>\n      <td>4</td>\n      <td>2021-10-01</td>\n      <td>2021-10-01</td>\n      <td>2021-10-01 오전 9:00:00</td>\n      <td>2021-10-01 오전 9:30:00</td>\n      <td>NaN</td>\n      <td>...</td>\n      <td>12.0</td>\n      <td>1201.0</td>\n      <td>NaN</td>\n      <td>NaN</td>\n      <td>N</td>\n      <td>N</td>\n      <td>3.004010e+11</td>\n      <td>2021-11-24 오전 11:19:20</td>\n      <td>4동 지하1층 조명기구</td>\n      <td>2020-05-29 오후 3:40:28</td>\n    </tr>\n    <tr>\n      <th>12</th>\n      <td>SEJO</td>\n      <td>211001-00037</td>\n      <td>5</td>\n      <td>4동 608호 정책조정기획관실 전등 점등 불량</td>\n      <td>4</td>\n      <td>2021-10-01</td>\n      <td>2021-10-01</td>\n      <td>2021-10-01 오후 2:25:00</td>\n      <td>2021-10-01 오후 3:25:00</td>\n      <td>NaN</td>\n      <td>...</td>\n      <td>12.0</td>\n      <td>1201.0</td>\n      <td>NaN</td>\n      <td>NaN</td>\n      <td>N</td>\n      <td>N</td>\n      <td>3.004010e+11</td>\n      <td>2021-10-01 오후 3:58:15</td>\n      <td>4동 6층 조명기구</td>\n      <td>2020-05-29 오후 4:06:09</td>\n    </tr>\n    <tr>\n      <th>15</th>\n      <td>SEJO</td>\n      <td>211001-00081</td>\n      <td>3</td>\n      <td>1동 1구역 2층 복도내 거실통로유도등 점등불량 교체 작업</td>\n      <td>4</td>\n      <td>2021-10-01</td>\n      <td>2021-10-01</td>\n      <td>2021-10-01 오후 1:30:00</td>\n      <td>2021-10-01 오후 1:45:00</td>\n      <td>NaN</td>\n      <td>...</td>\n      <td>NaN</td>\n      <td>NaN</td>\n      <td>NaN</td>\n      <td>NaN</td>\n      <td>N</td>\n      <td>N</td>\n      <td>4.003010e+11</td>\n      <td>2021-10-21 오전 10:33:08</td>\n      <td>1동  거실통로 유도등</td>\n      <td>2019-10-04 오후 4:43:52</td>\n    </tr>\n    <tr>\n      <th>16</th>\n      <td>SEJO</td>\n      <td>211001-00070</td>\n      <td>5</td>\n      <td>2-1동 옥상층 66번 CCTV PTZ 동작 불량</td>\n      <td>1</td>\n      <td>2021-10-01</td>\n      <td>2021-10-01</td>\n      <td>2021-10-01 오전 9:00:00</td>\n      <td>2021-10-01 오후 5:31:00</td>\n      <td>NaN</td>\n      <td>...</td>\n      <td>19.0</td>\n      <td>1901.0</td>\n      <td>NaN</td>\n      <td>NaN</td>\n      <td>N</td>\n      <td>N</td>\n      <td>6.004020e+11</td>\n      <td>2021-10-01 오후 5:39:22</td>\n      <td>2동 CCTV #66</td>\n      <td>2019-10-25 오후 4:30:18</td>\n    </tr>\n  </tbody>\n</table>\n<p>5 rows × 65 columns</p>\n</div>"
     },
     "execution_count": 14,
     "metadata": {},
     "output_type": "execute_result"
    }
   ],
   "source": [
    "equip_work = data[data['fac_cd'].isnull()==False]\n",
    "equip_work.head()"
   ],
   "metadata": {
    "collapsed": false
   }
  },
  {
   "cell_type": "markdown",
   "source": [
    "## 키워드 추출해서 장비 묶기"
   ],
   "metadata": {
    "collapsed": false
   }
  },
  {
   "cell_type": "code",
   "execution_count": 15,
   "outputs": [
    {
     "name": "stderr",
     "output_type": "stream",
     "text": [
      "/var/folders/nd/cl2nzwh13zx7jdly2t5m95340000gn/T/ipykernel_15955/68209546.py:1: SettingWithCopyWarning: \n",
      "A value is trying to be set on a copy of a slice from a DataFrame.\n",
      "Try using .loc[row_indexer,col_indexer] = value instead\n",
      "\n",
      "See the caveats in the documentation: https://pandas.pydata.org/pandas-docs/stable/user_guide/indexing.html#returning-a-view-versus-a-copy\n",
      "  equip_work['replaced'] = 0\n",
      "/var/folders/nd/cl2nzwh13zx7jdly2t5m95340000gn/T/ipykernel_15955/68209546.py:2: SettingWithCopyWarning: \n",
      "A value is trying to be set on a copy of a slice from a DataFrame.\n",
      "Try using .loc[row_indexer,col_indexer] = value instead\n",
      "\n",
      "See the caveats in the documentation: https://pandas.pydata.org/pandas-docs/stable/user_guide/indexing.html#returning-a-view-versus-a-copy\n",
      "  equip_work['new_fac_nm']=0\n"
     ]
    }
   ],
   "source": [
    "equip_work['replaced'] = 0\n",
    "equip_work['new_fac_nm']=0"
   ],
   "metadata": {
    "collapsed": false
   }
  },
  {
   "cell_type": "code",
   "execution_count": 16,
   "outputs": [],
   "source": [
    "# 새로운 이름 할당 함수\n",
    "def grouping(df,idx,keyword):\n",
    "    for i in (keyword):\n",
    "        if (i in df['fac_nm'][idx]) and (df['replaced'][idx] == 0):\n",
    "            df['new_fac_nm'][idx] = i\n",
    "            df['replaced'][idx] = 1"
   ],
   "metadata": {
    "collapsed": false
   }
  },
  {
   "cell_type": "code",
   "execution_count": 17,
   "outputs": [],
   "source": [
    "#키워드 추출\n",
    "\n",
    "# fac_nm_word=''\n",
    "# for i in range(0,len(equip_work)):\n",
    "#     tmp =  str(equip_work['fac_nm'].iloc[i])\n",
    "#     fac_nm_word += '-'+tmp\n",
    "# okt = Okt()\n",
    "# nouns = okt.nouns(fac_nm_word) # 명사만 추출\n",
    "# print(2)\n",
    "# words = [n for n in nouns if len(n) > 1]\n",
    "# c=Counter(words)\n",
    "# keyword_list = c.most_common()"
   ],
   "metadata": {
    "collapsed": false
   }
  },
  {
   "cell_type": "code",
   "execution_count": 18,
   "outputs": [
    {
     "data": {
      "text/plain": "   index comp_cd        job_cd  job_tpy                            job_nm  \\\n0      9    SEJO  211001-00047        5         2동 1구역 430호 남자화장실 비데 전열불량   \n1     10    SEJO  211001-00059        5      4동 지하 1층 전기원휴게실내 샤워장 전등점등불량.   \n2     12    SEJO  211001-00037        5         4동 608호 정책조정기획관실 전등 점등 불량   \n3     15    SEJO  211001-00081        3  1동 1구역 2층 복도내 거실통로유도등 점등불량 교체 작업   \n4     16    SEJO  211001-00070        5       2-1동 옥상층 66번 CCTV PTZ 동작 불량   \n\n   job_stat job_jisi_dt   job_enddt                job_shm  \\\n0         4  2021-10-01  2021-10-01  2021-10-01 오후 2:30:00   \n1         4  2021-10-01  2021-10-01  2021-10-01 오전 9:00:00   \n2         4  2021-10-01  2021-10-01  2021-10-01 오후 2:25:00   \n3         4  2021-10-01  2021-10-01  2021-10-01 오후 1:30:00   \n4         1  2021-10-01  2021-10-01  2021-10-01 오전 9:00:00   \n\n                 job_ehm  ... common_wrk emc_id copor_yn  kukmin_yn  \\\n0  2021-10-01 오후 2:40:00  ...        NaN    NaN        N          N   \n1  2021-10-01 오전 9:30:00  ...        NaN    NaN        N          N   \n2  2021-10-01 오후 3:25:00  ...        NaN    NaN        N          N   \n3  2021-10-01 오후 1:45:00  ...        NaN    NaN        N          N   \n4  2021-10-01 오후 5:31:00  ...        NaN    NaN        N          N   \n\n         fac_cd          input_sysdt_11        fac_nm         input_sysdt_03  \\\n0  3.002010e+11   2021-10-01 오후 3:24:08     LN-4E1(E)             2019-10-16   \n1  3.004010e+11  2021-11-24 오전 11:19:20  4동 지하1층 조명기구  2020-05-29 오후 3:40:28   \n2  3.004010e+11   2021-10-01 오후 3:58:15    4동 6층 조명기구  2020-05-29 오후 4:06:09   \n3  4.003010e+11  2021-10-21 오전 10:33:08  1동  거실통로 유도등  2019-10-04 오후 4:43:52   \n4  6.004020e+11   2021-10-01 오후 5:39:22   2동 CCTV #66  2019-10-25 오후 4:30:18   \n\n   replaced new_fac_nm  \n0         0          0  \n1         0          0  \n2         0          0  \n3         0          0  \n4         0          0  \n\n[5 rows x 68 columns]",
      "text/html": "<div>\n<style scoped>\n    .dataframe tbody tr th:only-of-type {\n        vertical-align: middle;\n    }\n\n    .dataframe tbody tr th {\n        vertical-align: top;\n    }\n\n    .dataframe thead th {\n        text-align: right;\n    }\n</style>\n<table border=\"1\" class=\"dataframe\">\n  <thead>\n    <tr style=\"text-align: right;\">\n      <th></th>\n      <th>index</th>\n      <th>comp_cd</th>\n      <th>job_cd</th>\n      <th>job_tpy</th>\n      <th>job_nm</th>\n      <th>job_stat</th>\n      <th>job_jisi_dt</th>\n      <th>job_enddt</th>\n      <th>job_shm</th>\n      <th>job_ehm</th>\n      <th>...</th>\n      <th>common_wrk</th>\n      <th>emc_id</th>\n      <th>copor_yn</th>\n      <th>kukmin_yn</th>\n      <th>fac_cd</th>\n      <th>input_sysdt_11</th>\n      <th>fac_nm</th>\n      <th>input_sysdt_03</th>\n      <th>replaced</th>\n      <th>new_fac_nm</th>\n    </tr>\n  </thead>\n  <tbody>\n    <tr>\n      <th>0</th>\n      <td>9</td>\n      <td>SEJO</td>\n      <td>211001-00047</td>\n      <td>5</td>\n      <td>2동 1구역 430호 남자화장실 비데 전열불량</td>\n      <td>4</td>\n      <td>2021-10-01</td>\n      <td>2021-10-01</td>\n      <td>2021-10-01 오후 2:30:00</td>\n      <td>2021-10-01 오후 2:40:00</td>\n      <td>...</td>\n      <td>NaN</td>\n      <td>NaN</td>\n      <td>N</td>\n      <td>N</td>\n      <td>3.002010e+11</td>\n      <td>2021-10-01 오후 3:24:08</td>\n      <td>LN-4E1(E)</td>\n      <td>2019-10-16</td>\n      <td>0</td>\n      <td>0</td>\n    </tr>\n    <tr>\n      <th>1</th>\n      <td>10</td>\n      <td>SEJO</td>\n      <td>211001-00059</td>\n      <td>5</td>\n      <td>4동 지하 1층 전기원휴게실내 샤워장 전등점등불량.</td>\n      <td>4</td>\n      <td>2021-10-01</td>\n      <td>2021-10-01</td>\n      <td>2021-10-01 오전 9:00:00</td>\n      <td>2021-10-01 오전 9:30:00</td>\n      <td>...</td>\n      <td>NaN</td>\n      <td>NaN</td>\n      <td>N</td>\n      <td>N</td>\n      <td>3.004010e+11</td>\n      <td>2021-11-24 오전 11:19:20</td>\n      <td>4동 지하1층 조명기구</td>\n      <td>2020-05-29 오후 3:40:28</td>\n      <td>0</td>\n      <td>0</td>\n    </tr>\n    <tr>\n      <th>2</th>\n      <td>12</td>\n      <td>SEJO</td>\n      <td>211001-00037</td>\n      <td>5</td>\n      <td>4동 608호 정책조정기획관실 전등 점등 불량</td>\n      <td>4</td>\n      <td>2021-10-01</td>\n      <td>2021-10-01</td>\n      <td>2021-10-01 오후 2:25:00</td>\n      <td>2021-10-01 오후 3:25:00</td>\n      <td>...</td>\n      <td>NaN</td>\n      <td>NaN</td>\n      <td>N</td>\n      <td>N</td>\n      <td>3.004010e+11</td>\n      <td>2021-10-01 오후 3:58:15</td>\n      <td>4동 6층 조명기구</td>\n      <td>2020-05-29 오후 4:06:09</td>\n      <td>0</td>\n      <td>0</td>\n    </tr>\n    <tr>\n      <th>3</th>\n      <td>15</td>\n      <td>SEJO</td>\n      <td>211001-00081</td>\n      <td>3</td>\n      <td>1동 1구역 2층 복도내 거실통로유도등 점등불량 교체 작업</td>\n      <td>4</td>\n      <td>2021-10-01</td>\n      <td>2021-10-01</td>\n      <td>2021-10-01 오후 1:30:00</td>\n      <td>2021-10-01 오후 1:45:00</td>\n      <td>...</td>\n      <td>NaN</td>\n      <td>NaN</td>\n      <td>N</td>\n      <td>N</td>\n      <td>4.003010e+11</td>\n      <td>2021-10-21 오전 10:33:08</td>\n      <td>1동  거실통로 유도등</td>\n      <td>2019-10-04 오후 4:43:52</td>\n      <td>0</td>\n      <td>0</td>\n    </tr>\n    <tr>\n      <th>4</th>\n      <td>16</td>\n      <td>SEJO</td>\n      <td>211001-00070</td>\n      <td>5</td>\n      <td>2-1동 옥상층 66번 CCTV PTZ 동작 불량</td>\n      <td>1</td>\n      <td>2021-10-01</td>\n      <td>2021-10-01</td>\n      <td>2021-10-01 오전 9:00:00</td>\n      <td>2021-10-01 오후 5:31:00</td>\n      <td>...</td>\n      <td>NaN</td>\n      <td>NaN</td>\n      <td>N</td>\n      <td>N</td>\n      <td>6.004020e+11</td>\n      <td>2021-10-01 오후 5:39:22</td>\n      <td>2동 CCTV #66</td>\n      <td>2019-10-25 오후 4:30:18</td>\n      <td>0</td>\n      <td>0</td>\n    </tr>\n  </tbody>\n</table>\n<p>5 rows × 68 columns</p>\n</div>"
     },
     "execution_count": 18,
     "metadata": {},
     "output_type": "execute_result"
    }
   ],
   "source": [
    "# index초기화\n",
    "equip_work2 = equip_work.reset_index()\n",
    "equip_work2.head()"
   ],
   "metadata": {
    "collapsed": false
   }
  },
  {
   "cell_type": "markdown",
   "source": [
    "#### 키워드 수정은 여기서"
   ],
   "metadata": {
    "collapsed": false
   }
  },
  {
   "cell_type": "code",
   "execution_count": 19,
   "outputs": [],
   "source": [
    "import numpy as np\n",
    "\n",
    "# 키워드 추출 > 키워드 배열에 넣기\n",
    "\n",
    "# keyword = []\n",
    "# for i in range(len(keyword_list)):\n",
    "#     keyword.append(keyword_list[i][0])\n",
    "\n",
    "# 배열 저장\n",
    "\n",
    "# keyword =np.array(keyword)\n",
    "# np.save('keyword_save', keyword) # keyw"
   ],
   "metadata": {
    "collapsed": false
   }
  },
  {
   "cell_type": "code",
   "execution_count": 20,
   "outputs": [],
   "source": [
    "#키워드 배열 불러오기\n",
    "keyword = list(np.load('keyword_save.npy'))"
   ],
   "metadata": {
    "collapsed": false
   }
  },
  {
   "cell_type": "code",
   "execution_count": 21,
   "outputs": [],
   "source": [
    "#추출이 잘못된 키워드 수정\n",
    "keyword.remove('호기')\n",
    "keyword.remove('화장실')\n",
    "keyword.remove('시설')\n",
    "keyword[keyword.index('내기')]='실내기'\n",
    "keyword[keyword.index('유도')]='유도등'\n",
    "keyword[keyword.index('스피드')]='스피드게이트'"
   ],
   "metadata": {
    "collapsed": false
   }
  },
  {
   "cell_type": "code",
   "execution_count": 22,
   "outputs": [
    {
     "name": "stderr",
     "output_type": "stream",
     "text": [
      "/var/folders/nd/cl2nzwh13zx7jdly2t5m95340000gn/T/ipykernel_15955/1006653966.py:5: SettingWithCopyWarning: \n",
      "A value is trying to be set on a copy of a slice from a DataFrame\n",
      "\n",
      "See the caveats in the documentation: https://pandas.pydata.org/pandas-docs/stable/user_guide/indexing.html#returning-a-view-versus-a-copy\n",
      "  equip_work2['new_fac_nm'][idx] = equip_work2['fac_nm'][idx]\n",
      "/var/folders/nd/cl2nzwh13zx7jdly2t5m95340000gn/T/ipykernel_15955/4217135829.py:6: SettingWithCopyWarning: \n",
      "A value is trying to be set on a copy of a slice from a DataFrame\n",
      "\n",
      "See the caveats in the documentation: https://pandas.pydata.org/pandas-docs/stable/user_guide/indexing.html#returning-a-view-versus-a-copy\n",
      "  df['replaced'][idx] = 1\n"
     ]
    }
   ],
   "source": [
    "#새로운 이름 할당\n",
    "for idx in range(len(equip_work2)):\n",
    "    grouping(equip_work2,idx,keyword)\n",
    "    if equip_work2['new_fac_nm'][idx] == 0 :\n",
    "        equip_work2['new_fac_nm'][idx] = equip_work2['fac_nm'][idx]"
   ],
   "metadata": {
    "collapsed": false
   }
  },
  {
   "cell_type": "code",
   "execution_count": 23,
   "outputs": [
    {
     "data": {
      "text/plain": "      index comp_cd        job_cd  job_tpy  \\\n0         9    SEJO  211001-00047        5   \n1        10    SEJO  211001-00059        5   \n2        12    SEJO  211001-00037        5   \n3        15    SEJO  211001-00081        3   \n4        16    SEJO  211001-00070        5   \n...     ...     ...           ...      ...   \n6826  20739    SEJO  221011-00011        5   \n6827  20759    SEJO  221011-00066        3   \n6828  20760    SEJO  221011-00040        3   \n6829  20769    SEJO  221011-00044        5   \n6830  20770    SEJO  221011-00019        5   \n\n                                      job_nm  job_stat job_jisi_dt  \\\n0                  2동 1구역 430호 남자화장실 비데 전열불량         4  2021-10-01   \n1               4동 지하 1층 전기원휴게실내 샤워장 전등점등불량.         4  2021-10-01   \n2                  4동 608호 정책조정기획관실 전등 점등 불량         4  2021-10-01   \n3           1동 1구역 2층 복도내 거실통로유도등 점등불량 교체 작업         4  2021-10-01   \n4                2-1동 옥상층 66번 CCTV PTZ 동작 불량         1  2021-10-01   \n...                                      ...       ...         ...   \n6826      13동 5-7 여자화장실 오른쪽 첫번째 대변기 밑 밸브쪽 누수         4  2022-10-11   \n6827     13-2동 1층 방재실 R형 수신기 예비전원 불량 교체 (2개)         1  2022-10-11   \n6828  꿈샘어린이집 1층 기계실 소화수조A 레벨스위치 1개 작동불량 교체작업         1  2022-10-11   \n6829                  16동 1층 동쪽 여자화장실 대변기 막힘         4  2022-10-11   \n6830              17-2동 7층 남자 화장실 대변기 물 계속흐름         4  2022-10-11   \n\n       job_enddt                job_shm                 job_ehm  ...  \\\n0     2021-10-01  2021-10-01 오후 2:30:00   2021-10-01 오후 2:40:00  ...   \n1     2021-10-01  2021-10-01 오전 9:00:00   2021-10-01 오전 9:30:00  ...   \n2     2021-10-01  2021-10-01 오후 2:25:00   2021-10-01 오후 3:25:00  ...   \n3     2021-10-01  2021-10-01 오후 1:30:00   2021-10-01 오후 1:45:00  ...   \n4     2021-10-01  2021-10-01 오전 9:00:00   2021-10-01 오후 5:31:00  ...   \n...          ...                    ...                     ...  ...   \n6826  2022-10-11  2022-10-11 오전 9:40:00  2022-10-11 오전 10:10:00  ...   \n6827  2022-10-11  2022-10-11 오후 2:30:00   2022-10-11 오후 3:10:00  ...   \n6828  2022-10-11  2022-10-11 오후 1:30:00   2022-10-11 오후 2:30:00  ...   \n6829  2022-10-11  2022-10-11 오전 8:32:00   2022-10-11 오전 9:30:00  ...   \n6830  2022-10-11  2022-10-11 오전 8:57:00   2022-10-11 오전 9:20:00  ...   \n\n     common_wrk emc_id copor_yn  kukmin_yn        fac_cd  \\\n0           NaN    NaN        N          N  3.002010e+11   \n1           NaN    NaN        N          N  3.004010e+11   \n2           NaN    NaN        N          N  3.004010e+11   \n3           NaN    NaN        N          N  4.003010e+11   \n4           NaN    NaN        N          N  6.004020e+11   \n...         ...    ...      ...        ...           ...   \n6826        NaN    NaN        N          N  2.002010e+11   \n6827        NaN    NaN        N          N  4.002010e+11   \n6828        NaN    NaN        N          N  4.004010e+11   \n6829        NaN    NaN        N          N  2.002010e+11   \n6830        NaN    NaN        N          N  2.002010e+11   \n\n              input_sysdt_11           fac_nm          input_sysdt_03  \\\n0      2021-10-01 오후 3:24:08        LN-4E1(E)              2019-10-16   \n1     2021-11-24 오전 11:19:20     4동 지하1층 조명기구   2020-05-29 오후 3:40:28   \n2      2021-10-01 오후 3:58:15       4동 6층 조명기구   2020-05-29 오후 4:06:09   \n3     2021-10-21 오전 10:33:08     1동  거실통로 유도등   2019-10-04 오후 4:43:52   \n4      2021-10-01 오후 5:39:22      2동 CCTV #66   2019-10-25 오후 4:30:18   \n...                      ...              ...                     ...   \n6826  2022-10-11 오전 10:38:16        물내림비데 #30   2019-11-26 오후 4:56:29   \n6827   2022-10-11 오후 4:09:26    13동 GR형복합식수신기  2019-09-25 오전 10:13:08   \n6828   2022-10-11 오후 2:32:34          별동 소화수조   2020-02-27 오후 2:21:25   \n6829   2022-10-11 오후 2:59:13  1F여2동쪽 공용대변기(5)   2019-11-27 오후 1:41:05   \n6830   2022-10-11 오후 1:42:33       7F남2대변기(3)  2019-11-28 오전 10:45:23   \n\n      replaced   new_fac_nm  \n0            0    LN-4E1(E)  \n1            1           조명  \n2            1           조명  \n3            1          유도등  \n4            0  2동 CCTV #66  \n...        ...          ...  \n6826         1           비데  \n6827         1           복합  \n6828         1           수조  \n6829         1          대변기  \n6830         1          대변기  \n\n[6831 rows x 68 columns]",
      "text/html": "<div>\n<style scoped>\n    .dataframe tbody tr th:only-of-type {\n        vertical-align: middle;\n    }\n\n    .dataframe tbody tr th {\n        vertical-align: top;\n    }\n\n    .dataframe thead th {\n        text-align: right;\n    }\n</style>\n<table border=\"1\" class=\"dataframe\">\n  <thead>\n    <tr style=\"text-align: right;\">\n      <th></th>\n      <th>index</th>\n      <th>comp_cd</th>\n      <th>job_cd</th>\n      <th>job_tpy</th>\n      <th>job_nm</th>\n      <th>job_stat</th>\n      <th>job_jisi_dt</th>\n      <th>job_enddt</th>\n      <th>job_shm</th>\n      <th>job_ehm</th>\n      <th>...</th>\n      <th>common_wrk</th>\n      <th>emc_id</th>\n      <th>copor_yn</th>\n      <th>kukmin_yn</th>\n      <th>fac_cd</th>\n      <th>input_sysdt_11</th>\n      <th>fac_nm</th>\n      <th>input_sysdt_03</th>\n      <th>replaced</th>\n      <th>new_fac_nm</th>\n    </tr>\n  </thead>\n  <tbody>\n    <tr>\n      <th>0</th>\n      <td>9</td>\n      <td>SEJO</td>\n      <td>211001-00047</td>\n      <td>5</td>\n      <td>2동 1구역 430호 남자화장실 비데 전열불량</td>\n      <td>4</td>\n      <td>2021-10-01</td>\n      <td>2021-10-01</td>\n      <td>2021-10-01 오후 2:30:00</td>\n      <td>2021-10-01 오후 2:40:00</td>\n      <td>...</td>\n      <td>NaN</td>\n      <td>NaN</td>\n      <td>N</td>\n      <td>N</td>\n      <td>3.002010e+11</td>\n      <td>2021-10-01 오후 3:24:08</td>\n      <td>LN-4E1(E)</td>\n      <td>2019-10-16</td>\n      <td>0</td>\n      <td>LN-4E1(E)</td>\n    </tr>\n    <tr>\n      <th>1</th>\n      <td>10</td>\n      <td>SEJO</td>\n      <td>211001-00059</td>\n      <td>5</td>\n      <td>4동 지하 1층 전기원휴게실내 샤워장 전등점등불량.</td>\n      <td>4</td>\n      <td>2021-10-01</td>\n      <td>2021-10-01</td>\n      <td>2021-10-01 오전 9:00:00</td>\n      <td>2021-10-01 오전 9:30:00</td>\n      <td>...</td>\n      <td>NaN</td>\n      <td>NaN</td>\n      <td>N</td>\n      <td>N</td>\n      <td>3.004010e+11</td>\n      <td>2021-11-24 오전 11:19:20</td>\n      <td>4동 지하1층 조명기구</td>\n      <td>2020-05-29 오후 3:40:28</td>\n      <td>1</td>\n      <td>조명</td>\n    </tr>\n    <tr>\n      <th>2</th>\n      <td>12</td>\n      <td>SEJO</td>\n      <td>211001-00037</td>\n      <td>5</td>\n      <td>4동 608호 정책조정기획관실 전등 점등 불량</td>\n      <td>4</td>\n      <td>2021-10-01</td>\n      <td>2021-10-01</td>\n      <td>2021-10-01 오후 2:25:00</td>\n      <td>2021-10-01 오후 3:25:00</td>\n      <td>...</td>\n      <td>NaN</td>\n      <td>NaN</td>\n      <td>N</td>\n      <td>N</td>\n      <td>3.004010e+11</td>\n      <td>2021-10-01 오후 3:58:15</td>\n      <td>4동 6층 조명기구</td>\n      <td>2020-05-29 오후 4:06:09</td>\n      <td>1</td>\n      <td>조명</td>\n    </tr>\n    <tr>\n      <th>3</th>\n      <td>15</td>\n      <td>SEJO</td>\n      <td>211001-00081</td>\n      <td>3</td>\n      <td>1동 1구역 2층 복도내 거실통로유도등 점등불량 교체 작업</td>\n      <td>4</td>\n      <td>2021-10-01</td>\n      <td>2021-10-01</td>\n      <td>2021-10-01 오후 1:30:00</td>\n      <td>2021-10-01 오후 1:45:00</td>\n      <td>...</td>\n      <td>NaN</td>\n      <td>NaN</td>\n      <td>N</td>\n      <td>N</td>\n      <td>4.003010e+11</td>\n      <td>2021-10-21 오전 10:33:08</td>\n      <td>1동  거실통로 유도등</td>\n      <td>2019-10-04 오후 4:43:52</td>\n      <td>1</td>\n      <td>유도등</td>\n    </tr>\n    <tr>\n      <th>4</th>\n      <td>16</td>\n      <td>SEJO</td>\n      <td>211001-00070</td>\n      <td>5</td>\n      <td>2-1동 옥상층 66번 CCTV PTZ 동작 불량</td>\n      <td>1</td>\n      <td>2021-10-01</td>\n      <td>2021-10-01</td>\n      <td>2021-10-01 오전 9:00:00</td>\n      <td>2021-10-01 오후 5:31:00</td>\n      <td>...</td>\n      <td>NaN</td>\n      <td>NaN</td>\n      <td>N</td>\n      <td>N</td>\n      <td>6.004020e+11</td>\n      <td>2021-10-01 오후 5:39:22</td>\n      <td>2동 CCTV #66</td>\n      <td>2019-10-25 오후 4:30:18</td>\n      <td>0</td>\n      <td>2동 CCTV #66</td>\n    </tr>\n    <tr>\n      <th>...</th>\n      <td>...</td>\n      <td>...</td>\n      <td>...</td>\n      <td>...</td>\n      <td>...</td>\n      <td>...</td>\n      <td>...</td>\n      <td>...</td>\n      <td>...</td>\n      <td>...</td>\n      <td>...</td>\n      <td>...</td>\n      <td>...</td>\n      <td>...</td>\n      <td>...</td>\n      <td>...</td>\n      <td>...</td>\n      <td>...</td>\n      <td>...</td>\n      <td>...</td>\n      <td>...</td>\n    </tr>\n    <tr>\n      <th>6826</th>\n      <td>20739</td>\n      <td>SEJO</td>\n      <td>221011-00011</td>\n      <td>5</td>\n      <td>13동 5-7 여자화장실 오른쪽 첫번째 대변기 밑 밸브쪽 누수</td>\n      <td>4</td>\n      <td>2022-10-11</td>\n      <td>2022-10-11</td>\n      <td>2022-10-11 오전 9:40:00</td>\n      <td>2022-10-11 오전 10:10:00</td>\n      <td>...</td>\n      <td>NaN</td>\n      <td>NaN</td>\n      <td>N</td>\n      <td>N</td>\n      <td>2.002010e+11</td>\n      <td>2022-10-11 오전 10:38:16</td>\n      <td>물내림비데 #30</td>\n      <td>2019-11-26 오후 4:56:29</td>\n      <td>1</td>\n      <td>비데</td>\n    </tr>\n    <tr>\n      <th>6827</th>\n      <td>20759</td>\n      <td>SEJO</td>\n      <td>221011-00066</td>\n      <td>3</td>\n      <td>13-2동 1층 방재실 R형 수신기 예비전원 불량 교체 (2개)</td>\n      <td>1</td>\n      <td>2022-10-11</td>\n      <td>2022-10-11</td>\n      <td>2022-10-11 오후 2:30:00</td>\n      <td>2022-10-11 오후 3:10:00</td>\n      <td>...</td>\n      <td>NaN</td>\n      <td>NaN</td>\n      <td>N</td>\n      <td>N</td>\n      <td>4.002010e+11</td>\n      <td>2022-10-11 오후 4:09:26</td>\n      <td>13동 GR형복합식수신기</td>\n      <td>2019-09-25 오전 10:13:08</td>\n      <td>1</td>\n      <td>복합</td>\n    </tr>\n    <tr>\n      <th>6828</th>\n      <td>20760</td>\n      <td>SEJO</td>\n      <td>221011-00040</td>\n      <td>3</td>\n      <td>꿈샘어린이집 1층 기계실 소화수조A 레벨스위치 1개 작동불량 교체작업</td>\n      <td>1</td>\n      <td>2022-10-11</td>\n      <td>2022-10-11</td>\n      <td>2022-10-11 오후 1:30:00</td>\n      <td>2022-10-11 오후 2:30:00</td>\n      <td>...</td>\n      <td>NaN</td>\n      <td>NaN</td>\n      <td>N</td>\n      <td>N</td>\n      <td>4.004010e+11</td>\n      <td>2022-10-11 오후 2:32:34</td>\n      <td>별동 소화수조</td>\n      <td>2020-02-27 오후 2:21:25</td>\n      <td>1</td>\n      <td>수조</td>\n    </tr>\n    <tr>\n      <th>6829</th>\n      <td>20769</td>\n      <td>SEJO</td>\n      <td>221011-00044</td>\n      <td>5</td>\n      <td>16동 1층 동쪽 여자화장실 대변기 막힘</td>\n      <td>4</td>\n      <td>2022-10-11</td>\n      <td>2022-10-11</td>\n      <td>2022-10-11 오전 8:32:00</td>\n      <td>2022-10-11 오전 9:30:00</td>\n      <td>...</td>\n      <td>NaN</td>\n      <td>NaN</td>\n      <td>N</td>\n      <td>N</td>\n      <td>2.002010e+11</td>\n      <td>2022-10-11 오후 2:59:13</td>\n      <td>1F여2동쪽 공용대변기(5)</td>\n      <td>2019-11-27 오후 1:41:05</td>\n      <td>1</td>\n      <td>대변기</td>\n    </tr>\n    <tr>\n      <th>6830</th>\n      <td>20770</td>\n      <td>SEJO</td>\n      <td>221011-00019</td>\n      <td>5</td>\n      <td>17-2동 7층 남자 화장실 대변기 물 계속흐름</td>\n      <td>4</td>\n      <td>2022-10-11</td>\n      <td>2022-10-11</td>\n      <td>2022-10-11 오전 8:57:00</td>\n      <td>2022-10-11 오전 9:20:00</td>\n      <td>...</td>\n      <td>NaN</td>\n      <td>NaN</td>\n      <td>N</td>\n      <td>N</td>\n      <td>2.002010e+11</td>\n      <td>2022-10-11 오후 1:42:33</td>\n      <td>7F남2대변기(3)</td>\n      <td>2019-11-28 오전 10:45:23</td>\n      <td>1</td>\n      <td>대변기</td>\n    </tr>\n  </tbody>\n</table>\n<p>6831 rows × 68 columns</p>\n</div>"
     },
     "execution_count": 23,
     "metadata": {},
     "output_type": "execute_result"
    }
   ],
   "source": [
    "equip_work2"
   ],
   "metadata": {
    "collapsed": false
   }
  },
  {
   "cell_type": "markdown",
   "source": [
    "### 키워드 추출이 되지 않은 항목 > 수작업으로 확인 후 그룹화"
   ],
   "metadata": {
    "collapsed": false
   }
  },
  {
   "cell_type": "code",
   "execution_count": 24,
   "outputs": [
    {
     "name": "stderr",
     "output_type": "stream",
     "text": [
      "/var/folders/nd/cl2nzwh13zx7jdly2t5m95340000gn/T/ipykernel_15955/1464632946.py:18: UserWarning: Pandas doesn't allow columns to be created via a new attribute name - see https://pandas.pydata.org/pandas-docs/stable/indexing.html#attribute-access\n",
      "  aa.colunms = ['equip','num']\n"
     ]
    }
   ],
   "source": [
    "# 키워드 개수 확인 함수\n",
    "def find(df,fac):\n",
    "    num = 0\n",
    "    for i in range(len(df)):\n",
    "        if f'{fac}' in df['index'][i]:\n",
    "           num += df['fac_nm'][i]\n",
    "           df = df.drop([i],axis=0)\n",
    "    print(f'{fac}가 포함된 열은 {num}개 입니다')\n",
    "    df.reset_index(inplace=True)\n",
    "    df.drop(['level_0'],axis=1,inplace=True)\n",
    "    return df\n",
    "\n",
    "\n",
    "# 바뀌지 않은 장비명 추출\n",
    "# pd.set_option('display.max_rows',976)\n",
    "aa = pd.DataFrame(equip_work2[equip_work2['replaced'] == 0]['fac_nm'].value_counts())\n",
    "aa.reset_index(inplace=True)\n",
    "aa.colunms = ['equip','num']\n",
    "\n",
    "\n"
   ],
   "metadata": {
    "collapsed": false
   }
  },
  {
   "cell_type": "markdown",
   "source": [
    "#### 키워드 추출 실패한 장비 수작업 그룹화"
   ],
   "metadata": {
    "collapsed": false
   }
  },
  {
   "cell_type": "markdown",
   "source": [],
   "metadata": {
    "collapsed": false
   }
  },
  {
   "cell_type": "code",
   "execution_count": 25,
   "outputs": [
    {
     "name": "stdout",
     "output_type": "stream",
     "text": [
      "LT가 포함된 열은 231개 입니다\n",
      "AHU가 포함된 열은 171개 입니다\n",
      "NVR가 포함된 열은 34개 입니다\n",
      "CCTV가 포함된 열은 138개 입니다\n",
      "급기팬가 포함된 열은 25개 입니다\n"
     ]
    }
   ],
   "source": [
    "a_LT = find(aa,'LT')\n",
    "a_AHU = find(a_LT,'AHU')\n",
    "a_NVR = find(a_AHU,'NVR')\n",
    "a_CCTV = find(a_NVR,'CCTV')\n",
    "a_급기팬 = find(a_CCTV,'급기팬')"
   ],
   "metadata": {
    "collapsed": false
   }
  },
  {
   "cell_type": "code",
   "execution_count": 26,
   "outputs": [
    {
     "name": "stderr",
     "output_type": "stream",
     "text": [
      "/var/folders/nd/cl2nzwh13zx7jdly2t5m95340000gn/T/ipykernel_15955/4217135829.py:5: SettingWithCopyWarning: \n",
      "A value is trying to be set on a copy of a slice from a DataFrame\n",
      "\n",
      "See the caveats in the documentation: https://pandas.pydata.org/pandas-docs/stable/user_guide/indexing.html#returning-a-view-versus-a-copy\n",
      "  df['new_fac_nm'][idx] = i\n",
      "/var/folders/nd/cl2nzwh13zx7jdly2t5m95340000gn/T/ipykernel_15955/4217135829.py:6: SettingWithCopyWarning: \n",
      "A value is trying to be set on a copy of a slice from a DataFrame\n",
      "\n",
      "See the caveats in the documentation: https://pandas.pydata.org/pandas-docs/stable/user_guide/indexing.html#returning-a-view-versus-a-copy\n",
      "  df['replaced'][idx] = 1\n"
     ]
    }
   ],
   "source": [
    "other_keyword = ['LT','AHU','NVR','CCTV','급기팬']\n",
    "for idx in range(len(equip_work2)):\n",
    "    grouping(equip_work2,idx,other_keyword)\n",
    "    if equip_work2['new_fac_nm'][idx] == 0 :\n",
    "        equip_work2['new_fac_nm'][idx] = equip_work2['fac_nm'][idx]"
   ],
   "metadata": {
    "collapsed": false
   }
  },
  {
   "cell_type": "markdown",
   "source": [
    "# 자재 - 장애 매칭"
   ],
   "metadata": {
    "collapsed": false
   }
  },
  {
   "cell_type": "markdown",
   "source": [
    "## FMSA10_작업지시결과 + FMSA11_작업장비이력 + FMSB03_장비마스터\n",
    "* 총 19000건의 작업자시결과 중 장비 매칭되는 건수 > 5120건"
   ],
   "metadata": {
    "collapsed": false
   }
  },
  {
   "cell_type": "code",
   "execution_count": 27,
   "outputs": [
    {
     "data": {
      "text/plain": "      index comp_cd        job_cd  job_tpy  \\\n0         9    SEJO  211001-00047        5   \n1        10    SEJO  211001-00059        5   \n2        12    SEJO  211001-00037        5   \n3        15    SEJO  211001-00081        3   \n4        16    SEJO  211001-00070        5   \n...     ...     ...           ...      ...   \n6826  20739    SEJO  221011-00011        5   \n6827  20759    SEJO  221011-00066        3   \n6828  20760    SEJO  221011-00040        3   \n6829  20769    SEJO  221011-00044        5   \n6830  20770    SEJO  221011-00019        5   \n\n                                      job_nm  job_stat job_jisi_dt  \\\n0                  2동 1구역 430호 남자화장실 비데 전열불량         4  2021-10-01   \n1               4동 지하 1층 전기원휴게실내 샤워장 전등점등불량.         4  2021-10-01   \n2                  4동 608호 정책조정기획관실 전등 점등 불량         4  2021-10-01   \n3           1동 1구역 2층 복도내 거실통로유도등 점등불량 교체 작업         4  2021-10-01   \n4                2-1동 옥상층 66번 CCTV PTZ 동작 불량         1  2021-10-01   \n...                                      ...       ...         ...   \n6826      13동 5-7 여자화장실 오른쪽 첫번째 대변기 밑 밸브쪽 누수         4  2022-10-11   \n6827     13-2동 1층 방재실 R형 수신기 예비전원 불량 교체 (2개)         1  2022-10-11   \n6828  꿈샘어린이집 1층 기계실 소화수조A 레벨스위치 1개 작동불량 교체작업         1  2022-10-11   \n6829                  16동 1층 동쪽 여자화장실 대변기 막힘         4  2022-10-11   \n6830              17-2동 7층 남자 화장실 대변기 물 계속흐름         4  2022-10-11   \n\n       job_enddt                job_shm                 job_ehm  ...  \\\n0     2021-10-01  2021-10-01 오후 2:30:00   2021-10-01 오후 2:40:00  ...   \n1     2021-10-01  2021-10-01 오전 9:00:00   2021-10-01 오전 9:30:00  ...   \n2     2021-10-01  2021-10-01 오후 2:25:00   2021-10-01 오후 3:25:00  ...   \n3     2021-10-01  2021-10-01 오후 1:30:00   2021-10-01 오후 1:45:00  ...   \n4     2021-10-01  2021-10-01 오전 9:00:00   2021-10-01 오후 5:31:00  ...   \n...          ...                    ...                     ...  ...   \n6826  2022-10-11  2022-10-11 오전 9:40:00  2022-10-11 오전 10:10:00  ...   \n6827  2022-10-11  2022-10-11 오후 2:30:00   2022-10-11 오후 3:10:00  ...   \n6828  2022-10-11  2022-10-11 오후 1:30:00   2022-10-11 오후 2:30:00  ...   \n6829  2022-10-11  2022-10-11 오전 8:32:00   2022-10-11 오전 9:30:00  ...   \n6830  2022-10-11  2022-10-11 오전 8:57:00   2022-10-11 오전 9:20:00  ...   \n\n     common_wrk emc_id copor_yn  kukmin_yn        fac_cd  \\\n0           NaN    NaN        N          N  3.002010e+11   \n1           NaN    NaN        N          N  3.004010e+11   \n2           NaN    NaN        N          N  3.004010e+11   \n3           NaN    NaN        N          N  4.003010e+11   \n4           NaN    NaN        N          N  6.004020e+11   \n...         ...    ...      ...        ...           ...   \n6826        NaN    NaN        N          N  2.002010e+11   \n6827        NaN    NaN        N          N  4.002010e+11   \n6828        NaN    NaN        N          N  4.004010e+11   \n6829        NaN    NaN        N          N  2.002010e+11   \n6830        NaN    NaN        N          N  2.002010e+11   \n\n              input_sysdt_11           fac_nm          input_sysdt_03  \\\n0      2021-10-01 오후 3:24:08        LN-4E1(E)              2019-10-16   \n1     2021-11-24 오전 11:19:20     4동 지하1층 조명기구   2020-05-29 오후 3:40:28   \n2      2021-10-01 오후 3:58:15       4동 6층 조명기구   2020-05-29 오후 4:06:09   \n3     2021-10-21 오전 10:33:08     1동  거실통로 유도등   2019-10-04 오후 4:43:52   \n4      2021-10-01 오후 5:39:22      2동 CCTV #66   2019-10-25 오후 4:30:18   \n...                      ...              ...                     ...   \n6826  2022-10-11 오전 10:38:16        물내림비데 #30   2019-11-26 오후 4:56:29   \n6827   2022-10-11 오후 4:09:26    13동 GR형복합식수신기  2019-09-25 오전 10:13:08   \n6828   2022-10-11 오후 2:32:34          별동 소화수조   2020-02-27 오후 2:21:25   \n6829   2022-10-11 오후 2:59:13  1F여2동쪽 공용대변기(5)   2019-11-27 오후 1:41:05   \n6830   2022-10-11 오후 1:42:33       7F남2대변기(3)  2019-11-28 오전 10:45:23   \n\n      replaced new_fac_nm  \n0            0  LN-4E1(E)  \n1            1         조명  \n2            1         조명  \n3            1        유도등  \n4            1       CCTV  \n...        ...        ...  \n6826         1         비데  \n6827         1         복합  \n6828         1         수조  \n6829         1        대변기  \n6830         1        대변기  \n\n[6831 rows x 68 columns]",
      "text/html": "<div>\n<style scoped>\n    .dataframe tbody tr th:only-of-type {\n        vertical-align: middle;\n    }\n\n    .dataframe tbody tr th {\n        vertical-align: top;\n    }\n\n    .dataframe thead th {\n        text-align: right;\n    }\n</style>\n<table border=\"1\" class=\"dataframe\">\n  <thead>\n    <tr style=\"text-align: right;\">\n      <th></th>\n      <th>index</th>\n      <th>comp_cd</th>\n      <th>job_cd</th>\n      <th>job_tpy</th>\n      <th>job_nm</th>\n      <th>job_stat</th>\n      <th>job_jisi_dt</th>\n      <th>job_enddt</th>\n      <th>job_shm</th>\n      <th>job_ehm</th>\n      <th>...</th>\n      <th>common_wrk</th>\n      <th>emc_id</th>\n      <th>copor_yn</th>\n      <th>kukmin_yn</th>\n      <th>fac_cd</th>\n      <th>input_sysdt_11</th>\n      <th>fac_nm</th>\n      <th>input_sysdt_03</th>\n      <th>replaced</th>\n      <th>new_fac_nm</th>\n    </tr>\n  </thead>\n  <tbody>\n    <tr>\n      <th>0</th>\n      <td>9</td>\n      <td>SEJO</td>\n      <td>211001-00047</td>\n      <td>5</td>\n      <td>2동 1구역 430호 남자화장실 비데 전열불량</td>\n      <td>4</td>\n      <td>2021-10-01</td>\n      <td>2021-10-01</td>\n      <td>2021-10-01 오후 2:30:00</td>\n      <td>2021-10-01 오후 2:40:00</td>\n      <td>...</td>\n      <td>NaN</td>\n      <td>NaN</td>\n      <td>N</td>\n      <td>N</td>\n      <td>3.002010e+11</td>\n      <td>2021-10-01 오후 3:24:08</td>\n      <td>LN-4E1(E)</td>\n      <td>2019-10-16</td>\n      <td>0</td>\n      <td>LN-4E1(E)</td>\n    </tr>\n    <tr>\n      <th>1</th>\n      <td>10</td>\n      <td>SEJO</td>\n      <td>211001-00059</td>\n      <td>5</td>\n      <td>4동 지하 1층 전기원휴게실내 샤워장 전등점등불량.</td>\n      <td>4</td>\n      <td>2021-10-01</td>\n      <td>2021-10-01</td>\n      <td>2021-10-01 오전 9:00:00</td>\n      <td>2021-10-01 오전 9:30:00</td>\n      <td>...</td>\n      <td>NaN</td>\n      <td>NaN</td>\n      <td>N</td>\n      <td>N</td>\n      <td>3.004010e+11</td>\n      <td>2021-11-24 오전 11:19:20</td>\n      <td>4동 지하1층 조명기구</td>\n      <td>2020-05-29 오후 3:40:28</td>\n      <td>1</td>\n      <td>조명</td>\n    </tr>\n    <tr>\n      <th>2</th>\n      <td>12</td>\n      <td>SEJO</td>\n      <td>211001-00037</td>\n      <td>5</td>\n      <td>4동 608호 정책조정기획관실 전등 점등 불량</td>\n      <td>4</td>\n      <td>2021-10-01</td>\n      <td>2021-10-01</td>\n      <td>2021-10-01 오후 2:25:00</td>\n      <td>2021-10-01 오후 3:25:00</td>\n      <td>...</td>\n      <td>NaN</td>\n      <td>NaN</td>\n      <td>N</td>\n      <td>N</td>\n      <td>3.004010e+11</td>\n      <td>2021-10-01 오후 3:58:15</td>\n      <td>4동 6층 조명기구</td>\n      <td>2020-05-29 오후 4:06:09</td>\n      <td>1</td>\n      <td>조명</td>\n    </tr>\n    <tr>\n      <th>3</th>\n      <td>15</td>\n      <td>SEJO</td>\n      <td>211001-00081</td>\n      <td>3</td>\n      <td>1동 1구역 2층 복도내 거실통로유도등 점등불량 교체 작업</td>\n      <td>4</td>\n      <td>2021-10-01</td>\n      <td>2021-10-01</td>\n      <td>2021-10-01 오후 1:30:00</td>\n      <td>2021-10-01 오후 1:45:00</td>\n      <td>...</td>\n      <td>NaN</td>\n      <td>NaN</td>\n      <td>N</td>\n      <td>N</td>\n      <td>4.003010e+11</td>\n      <td>2021-10-21 오전 10:33:08</td>\n      <td>1동  거실통로 유도등</td>\n      <td>2019-10-04 오후 4:43:52</td>\n      <td>1</td>\n      <td>유도등</td>\n    </tr>\n    <tr>\n      <th>4</th>\n      <td>16</td>\n      <td>SEJO</td>\n      <td>211001-00070</td>\n      <td>5</td>\n      <td>2-1동 옥상층 66번 CCTV PTZ 동작 불량</td>\n      <td>1</td>\n      <td>2021-10-01</td>\n      <td>2021-10-01</td>\n      <td>2021-10-01 오전 9:00:00</td>\n      <td>2021-10-01 오후 5:31:00</td>\n      <td>...</td>\n      <td>NaN</td>\n      <td>NaN</td>\n      <td>N</td>\n      <td>N</td>\n      <td>6.004020e+11</td>\n      <td>2021-10-01 오후 5:39:22</td>\n      <td>2동 CCTV #66</td>\n      <td>2019-10-25 오후 4:30:18</td>\n      <td>1</td>\n      <td>CCTV</td>\n    </tr>\n    <tr>\n      <th>...</th>\n      <td>...</td>\n      <td>...</td>\n      <td>...</td>\n      <td>...</td>\n      <td>...</td>\n      <td>...</td>\n      <td>...</td>\n      <td>...</td>\n      <td>...</td>\n      <td>...</td>\n      <td>...</td>\n      <td>...</td>\n      <td>...</td>\n      <td>...</td>\n      <td>...</td>\n      <td>...</td>\n      <td>...</td>\n      <td>...</td>\n      <td>...</td>\n      <td>...</td>\n      <td>...</td>\n    </tr>\n    <tr>\n      <th>6826</th>\n      <td>20739</td>\n      <td>SEJO</td>\n      <td>221011-00011</td>\n      <td>5</td>\n      <td>13동 5-7 여자화장실 오른쪽 첫번째 대변기 밑 밸브쪽 누수</td>\n      <td>4</td>\n      <td>2022-10-11</td>\n      <td>2022-10-11</td>\n      <td>2022-10-11 오전 9:40:00</td>\n      <td>2022-10-11 오전 10:10:00</td>\n      <td>...</td>\n      <td>NaN</td>\n      <td>NaN</td>\n      <td>N</td>\n      <td>N</td>\n      <td>2.002010e+11</td>\n      <td>2022-10-11 오전 10:38:16</td>\n      <td>물내림비데 #30</td>\n      <td>2019-11-26 오후 4:56:29</td>\n      <td>1</td>\n      <td>비데</td>\n    </tr>\n    <tr>\n      <th>6827</th>\n      <td>20759</td>\n      <td>SEJO</td>\n      <td>221011-00066</td>\n      <td>3</td>\n      <td>13-2동 1층 방재실 R형 수신기 예비전원 불량 교체 (2개)</td>\n      <td>1</td>\n      <td>2022-10-11</td>\n      <td>2022-10-11</td>\n      <td>2022-10-11 오후 2:30:00</td>\n      <td>2022-10-11 오후 3:10:00</td>\n      <td>...</td>\n      <td>NaN</td>\n      <td>NaN</td>\n      <td>N</td>\n      <td>N</td>\n      <td>4.002010e+11</td>\n      <td>2022-10-11 오후 4:09:26</td>\n      <td>13동 GR형복합식수신기</td>\n      <td>2019-09-25 오전 10:13:08</td>\n      <td>1</td>\n      <td>복합</td>\n    </tr>\n    <tr>\n      <th>6828</th>\n      <td>20760</td>\n      <td>SEJO</td>\n      <td>221011-00040</td>\n      <td>3</td>\n      <td>꿈샘어린이집 1층 기계실 소화수조A 레벨스위치 1개 작동불량 교체작업</td>\n      <td>1</td>\n      <td>2022-10-11</td>\n      <td>2022-10-11</td>\n      <td>2022-10-11 오후 1:30:00</td>\n      <td>2022-10-11 오후 2:30:00</td>\n      <td>...</td>\n      <td>NaN</td>\n      <td>NaN</td>\n      <td>N</td>\n      <td>N</td>\n      <td>4.004010e+11</td>\n      <td>2022-10-11 오후 2:32:34</td>\n      <td>별동 소화수조</td>\n      <td>2020-02-27 오후 2:21:25</td>\n      <td>1</td>\n      <td>수조</td>\n    </tr>\n    <tr>\n      <th>6829</th>\n      <td>20769</td>\n      <td>SEJO</td>\n      <td>221011-00044</td>\n      <td>5</td>\n      <td>16동 1층 동쪽 여자화장실 대변기 막힘</td>\n      <td>4</td>\n      <td>2022-10-11</td>\n      <td>2022-10-11</td>\n      <td>2022-10-11 오전 8:32:00</td>\n      <td>2022-10-11 오전 9:30:00</td>\n      <td>...</td>\n      <td>NaN</td>\n      <td>NaN</td>\n      <td>N</td>\n      <td>N</td>\n      <td>2.002010e+11</td>\n      <td>2022-10-11 오후 2:59:13</td>\n      <td>1F여2동쪽 공용대변기(5)</td>\n      <td>2019-11-27 오후 1:41:05</td>\n      <td>1</td>\n      <td>대변기</td>\n    </tr>\n    <tr>\n      <th>6830</th>\n      <td>20770</td>\n      <td>SEJO</td>\n      <td>221011-00019</td>\n      <td>5</td>\n      <td>17-2동 7층 남자 화장실 대변기 물 계속흐름</td>\n      <td>4</td>\n      <td>2022-10-11</td>\n      <td>2022-10-11</td>\n      <td>2022-10-11 오전 8:57:00</td>\n      <td>2022-10-11 오전 9:20:00</td>\n      <td>...</td>\n      <td>NaN</td>\n      <td>NaN</td>\n      <td>N</td>\n      <td>N</td>\n      <td>2.002010e+11</td>\n      <td>2022-10-11 오후 1:42:33</td>\n      <td>7F남2대변기(3)</td>\n      <td>2019-11-28 오전 10:45:23</td>\n      <td>1</td>\n      <td>대변기</td>\n    </tr>\n  </tbody>\n</table>\n<p>6831 rows × 68 columns</p>\n</div>"
     },
     "execution_count": 27,
     "metadata": {},
     "output_type": "execute_result"
    }
   ],
   "source": [
    "equip_work2"
   ],
   "metadata": {
    "collapsed": false
   }
  },
  {
   "cell_type": "code",
   "execution_count": 28,
   "outputs": [
    {
     "data": {
      "text/plain": "211112-00057    52\n220907-00102    48\n220825-00057    48\n220209-00059    42\n211203-00062    42\n                ..\n220206-00006     1\n220204-00027     1\n220204-00024     1\n220204-00022     1\n221011-00019     1\nName: job_cd, Length: 5120, dtype: int64"
     },
     "execution_count": 28,
     "metadata": {},
     "output_type": "execute_result"
    }
   ],
   "source": [
    "equip_work2['job_cd'].value_counts()"
   ],
   "metadata": {
    "collapsed": false
   }
  },
  {
   "cell_type": "markdown",
   "source": [
    "## FMSA11_작업장비이력 + FMSB07_자재출고\n",
    "* 약 19000건 중 자재출고와 매칭되는 경우 2336건"
   ],
   "metadata": {
    "collapsed": false
   }
  },
  {
   "cell_type": "code",
   "execution_count": 29,
   "outputs": [],
   "source": [
    "fmsb07 = pd.read_excel(path+'FMSB07_자재출고.xlsx')"
   ],
   "metadata": {
    "collapsed": false
   }
  },
  {
   "cell_type": "code",
   "execution_count": 30,
   "outputs": [
    {
     "name": "stdout",
     "output_type": "stream",
     "text": [
      "5722\n",
      "4286\n"
     ]
    }
   ],
   "source": [
    "print(len(fmsb07))\n",
    "print(len(fmsb07['job_cd'].value_counts()))"
   ],
   "metadata": {
    "collapsed": false
   }
  },
  {
   "cell_type": "code",
   "execution_count": 31,
   "outputs": [
    {
     "data": {
      "text/plain": "     comp_cd_x                 job_cd        fac_cd  job_cont  \\\n0         SEJO           211001-00003  400201020817       NaN   \n1         SEJO           211001-00008  400101030002       NaN   \n2         SEJO           211001-00059  300401010012       NaN   \n3         SEJO           211001-00062  400101010386       NaN   \n4         SEJO           211001-00065  200103010007       NaN   \n...        ...                    ...           ...       ...   \n3392      SEJO  M_202207011346422_001  200201020170       NaN   \n3393      SEJO  M_202207131450110_001  200201020118       NaN   \n3394      SEJO  M_202208021424204_001  200201020133       NaN   \n3395      SEJO  M_202208021424204_001  200201020167       NaN   \n3396      SEJO  M_202208221057315_001  200201030273       NaN   \n\n               input_sysdt_x  chg_sysdt_x input_emp_no_x  chg_emp_no_x  \\\n0      2021-10-20 오전 9:07:24          NaN      tjsrb3183           NaN   \n1      2021-10-20 오전 9:06:32          NaN      tjsrb3183           NaN   \n2     2021-11-24 오전 11:19:20          NaN    dlawowls100           NaN   \n3      2021-10-20 오전 9:45:37          NaN       dragon72           NaN   \n4      2021-10-14 오전 8:35:44          NaN       choi3015           NaN   \n...                      ...          ...            ...           ...   \n3392   2022-07-11 오전 9:13:11          NaN          as119           NaN   \n3393   2022-07-13 오후 3:13:09          NaN          as119           NaN   \n3394   2022-08-02 오후 2:41:33          NaN       berdan10           NaN   \n3395   2022-08-02 오후 2:41:33          NaN       berdan10           NaN   \n3396   2022-08-22 오후 4:34:44          NaN          as119           NaN   \n\n     input_scr_nm_x comp_cd_y  ... gyuljae_no1  gyuljae_no2 gyuljae_no3  \\\n0           JOB_A11      SEJO  ...         NaN          NaN         NaN   \n1           JOB_A11      SEJO  ...         NaN          NaN         NaN   \n2           JOB_A11      SEJO  ...         NaN          NaN         NaN   \n3           JOB_A11      SEJO  ...         NaN          NaN         NaN   \n4           JOB_A11      SEJO  ...         NaN          NaN         NaN   \n...             ...       ...  ...         ...          ...         ...   \n3392        JOB_A11      SEJO  ...         NaN          NaN         NaN   \n3393        JOB_A11      SEJO  ...         NaN          NaN         NaN   \n3394      M_JOB_A11      SEJO  ...         NaN          NaN         NaN   \n3395      M_JOB_A11      SEJO  ...         NaN          NaN         NaN   \n3396        JOB_A11      SEJO  ...         NaN          NaN         NaN   \n\n      gyuljae_no4  gyuljae_no5  gyuljae_yn return_qty mat_check_gb  \\\n0             NaN          NaN           N        NaN          NaN   \n1             NaN          NaN           N        NaN          NaN   \n2             NaN          NaN           N        NaN          NaN   \n3             NaN          NaN           N        NaN          NaN   \n4             NaN          NaN           N        NaN          NaN   \n...           ...          ...         ...        ...          ...   \n3392          NaN          NaN           N        NaN          NaN   \n3393          NaN          NaN           N        NaN          NaN   \n3394          NaN          NaN           N        NaN          NaN   \n3395          NaN          NaN           N        NaN          NaN   \n3396          NaN          NaN           N        NaN          NaN   \n\n      old_mat_cd new_mat_cd  \n0            NaN        NaN  \n1            NaN        NaN  \n2            NaN        NaN  \n3            NaN        NaN  \n4            NaN        NaN  \n...          ...        ...  \n3392         NaN        NaN  \n3393         NaN        NaN  \n3394         NaN        NaN  \n3395         NaN        NaN  \n3396         NaN        NaN  \n\n[3397 rows x 39 columns]",
      "text/html": "<div>\n<style scoped>\n    .dataframe tbody tr th:only-of-type {\n        vertical-align: middle;\n    }\n\n    .dataframe tbody tr th {\n        vertical-align: top;\n    }\n\n    .dataframe thead th {\n        text-align: right;\n    }\n</style>\n<table border=\"1\" class=\"dataframe\">\n  <thead>\n    <tr style=\"text-align: right;\">\n      <th></th>\n      <th>comp_cd_x</th>\n      <th>job_cd</th>\n      <th>fac_cd</th>\n      <th>job_cont</th>\n      <th>input_sysdt_x</th>\n      <th>chg_sysdt_x</th>\n      <th>input_emp_no_x</th>\n      <th>chg_emp_no_x</th>\n      <th>input_scr_nm_x</th>\n      <th>comp_cd_y</th>\n      <th>...</th>\n      <th>gyuljae_no1</th>\n      <th>gyuljae_no2</th>\n      <th>gyuljae_no3</th>\n      <th>gyuljae_no4</th>\n      <th>gyuljae_no5</th>\n      <th>gyuljae_yn</th>\n      <th>return_qty</th>\n      <th>mat_check_gb</th>\n      <th>old_mat_cd</th>\n      <th>new_mat_cd</th>\n    </tr>\n  </thead>\n  <tbody>\n    <tr>\n      <th>0</th>\n      <td>SEJO</td>\n      <td>211001-00003</td>\n      <td>400201020817</td>\n      <td>NaN</td>\n      <td>2021-10-20 오전 9:07:24</td>\n      <td>NaN</td>\n      <td>tjsrb3183</td>\n      <td>NaN</td>\n      <td>JOB_A11</td>\n      <td>SEJO</td>\n      <td>...</td>\n      <td>NaN</td>\n      <td>NaN</td>\n      <td>NaN</td>\n      <td>NaN</td>\n      <td>NaN</td>\n      <td>N</td>\n      <td>NaN</td>\n      <td>NaN</td>\n      <td>NaN</td>\n      <td>NaN</td>\n    </tr>\n    <tr>\n      <th>1</th>\n      <td>SEJO</td>\n      <td>211001-00008</td>\n      <td>400101030002</td>\n      <td>NaN</td>\n      <td>2021-10-20 오전 9:06:32</td>\n      <td>NaN</td>\n      <td>tjsrb3183</td>\n      <td>NaN</td>\n      <td>JOB_A11</td>\n      <td>SEJO</td>\n      <td>...</td>\n      <td>NaN</td>\n      <td>NaN</td>\n      <td>NaN</td>\n      <td>NaN</td>\n      <td>NaN</td>\n      <td>N</td>\n      <td>NaN</td>\n      <td>NaN</td>\n      <td>NaN</td>\n      <td>NaN</td>\n    </tr>\n    <tr>\n      <th>2</th>\n      <td>SEJO</td>\n      <td>211001-00059</td>\n      <td>300401010012</td>\n      <td>NaN</td>\n      <td>2021-11-24 오전 11:19:20</td>\n      <td>NaN</td>\n      <td>dlawowls100</td>\n      <td>NaN</td>\n      <td>JOB_A11</td>\n      <td>SEJO</td>\n      <td>...</td>\n      <td>NaN</td>\n      <td>NaN</td>\n      <td>NaN</td>\n      <td>NaN</td>\n      <td>NaN</td>\n      <td>N</td>\n      <td>NaN</td>\n      <td>NaN</td>\n      <td>NaN</td>\n      <td>NaN</td>\n    </tr>\n    <tr>\n      <th>3</th>\n      <td>SEJO</td>\n      <td>211001-00062</td>\n      <td>400101010386</td>\n      <td>NaN</td>\n      <td>2021-10-20 오전 9:45:37</td>\n      <td>NaN</td>\n      <td>dragon72</td>\n      <td>NaN</td>\n      <td>JOB_A11</td>\n      <td>SEJO</td>\n      <td>...</td>\n      <td>NaN</td>\n      <td>NaN</td>\n      <td>NaN</td>\n      <td>NaN</td>\n      <td>NaN</td>\n      <td>N</td>\n      <td>NaN</td>\n      <td>NaN</td>\n      <td>NaN</td>\n      <td>NaN</td>\n    </tr>\n    <tr>\n      <th>4</th>\n      <td>SEJO</td>\n      <td>211001-00065</td>\n      <td>200103010007</td>\n      <td>NaN</td>\n      <td>2021-10-14 오전 8:35:44</td>\n      <td>NaN</td>\n      <td>choi3015</td>\n      <td>NaN</td>\n      <td>JOB_A11</td>\n      <td>SEJO</td>\n      <td>...</td>\n      <td>NaN</td>\n      <td>NaN</td>\n      <td>NaN</td>\n      <td>NaN</td>\n      <td>NaN</td>\n      <td>N</td>\n      <td>NaN</td>\n      <td>NaN</td>\n      <td>NaN</td>\n      <td>NaN</td>\n    </tr>\n    <tr>\n      <th>...</th>\n      <td>...</td>\n      <td>...</td>\n      <td>...</td>\n      <td>...</td>\n      <td>...</td>\n      <td>...</td>\n      <td>...</td>\n      <td>...</td>\n      <td>...</td>\n      <td>...</td>\n      <td>...</td>\n      <td>...</td>\n      <td>...</td>\n      <td>...</td>\n      <td>...</td>\n      <td>...</td>\n      <td>...</td>\n      <td>...</td>\n      <td>...</td>\n      <td>...</td>\n      <td>...</td>\n    </tr>\n    <tr>\n      <th>3392</th>\n      <td>SEJO</td>\n      <td>M_202207011346422_001</td>\n      <td>200201020170</td>\n      <td>NaN</td>\n      <td>2022-07-11 오전 9:13:11</td>\n      <td>NaN</td>\n      <td>as119</td>\n      <td>NaN</td>\n      <td>JOB_A11</td>\n      <td>SEJO</td>\n      <td>...</td>\n      <td>NaN</td>\n      <td>NaN</td>\n      <td>NaN</td>\n      <td>NaN</td>\n      <td>NaN</td>\n      <td>N</td>\n      <td>NaN</td>\n      <td>NaN</td>\n      <td>NaN</td>\n      <td>NaN</td>\n    </tr>\n    <tr>\n      <th>3393</th>\n      <td>SEJO</td>\n      <td>M_202207131450110_001</td>\n      <td>200201020118</td>\n      <td>NaN</td>\n      <td>2022-07-13 오후 3:13:09</td>\n      <td>NaN</td>\n      <td>as119</td>\n      <td>NaN</td>\n      <td>JOB_A11</td>\n      <td>SEJO</td>\n      <td>...</td>\n      <td>NaN</td>\n      <td>NaN</td>\n      <td>NaN</td>\n      <td>NaN</td>\n      <td>NaN</td>\n      <td>N</td>\n      <td>NaN</td>\n      <td>NaN</td>\n      <td>NaN</td>\n      <td>NaN</td>\n    </tr>\n    <tr>\n      <th>3394</th>\n      <td>SEJO</td>\n      <td>M_202208021424204_001</td>\n      <td>200201020133</td>\n      <td>NaN</td>\n      <td>2022-08-02 오후 2:41:33</td>\n      <td>NaN</td>\n      <td>berdan10</td>\n      <td>NaN</td>\n      <td>M_JOB_A11</td>\n      <td>SEJO</td>\n      <td>...</td>\n      <td>NaN</td>\n      <td>NaN</td>\n      <td>NaN</td>\n      <td>NaN</td>\n      <td>NaN</td>\n      <td>N</td>\n      <td>NaN</td>\n      <td>NaN</td>\n      <td>NaN</td>\n      <td>NaN</td>\n    </tr>\n    <tr>\n      <th>3395</th>\n      <td>SEJO</td>\n      <td>M_202208021424204_001</td>\n      <td>200201020167</td>\n      <td>NaN</td>\n      <td>2022-08-02 오후 2:41:33</td>\n      <td>NaN</td>\n      <td>berdan10</td>\n      <td>NaN</td>\n      <td>M_JOB_A11</td>\n      <td>SEJO</td>\n      <td>...</td>\n      <td>NaN</td>\n      <td>NaN</td>\n      <td>NaN</td>\n      <td>NaN</td>\n      <td>NaN</td>\n      <td>N</td>\n      <td>NaN</td>\n      <td>NaN</td>\n      <td>NaN</td>\n      <td>NaN</td>\n    </tr>\n    <tr>\n      <th>3396</th>\n      <td>SEJO</td>\n      <td>M_202208221057315_001</td>\n      <td>200201030273</td>\n      <td>NaN</td>\n      <td>2022-08-22 오후 4:34:44</td>\n      <td>NaN</td>\n      <td>as119</td>\n      <td>NaN</td>\n      <td>JOB_A11</td>\n      <td>SEJO</td>\n      <td>...</td>\n      <td>NaN</td>\n      <td>NaN</td>\n      <td>NaN</td>\n      <td>NaN</td>\n      <td>NaN</td>\n      <td>N</td>\n      <td>NaN</td>\n      <td>NaN</td>\n      <td>NaN</td>\n      <td>NaN</td>\n    </tr>\n  </tbody>\n</table>\n<p>3397 rows × 39 columns</p>\n</div>"
     },
     "execution_count": 31,
     "metadata": {},
     "output_type": "execute_result"
    }
   ],
   "source": [
    "jajae_join = pd.merge(fmsa11,fmsb07, on = 'job_cd', how ='inner')\n",
    "jajae_join"
   ],
   "metadata": {
    "collapsed": false
   }
  },
  {
   "cell_type": "code",
   "execution_count": 32,
   "outputs": [
    {
     "data": {
      "text/plain": "211103-00012             40\n211222-00047             29\n211206-00068             16\n211230-00047             16\n211021-00063             15\n                         ..\n220303-00022              1\n220303-00010              1\n220303-00004              1\n220302-00046              1\nM_202208221057315_001     1\nName: job_cd, Length: 2336, dtype: int64"
     },
     "execution_count": 32,
     "metadata": {},
     "output_type": "execute_result"
    }
   ],
   "source": [
    "jajae_join['job_cd'].value_counts()"
   ],
   "metadata": {
    "collapsed": false
   }
  },
  {
   "cell_type": "markdown",
   "source": [
    "## FMSA10_작업지시결과 + FMSA11_작업장비이력 + _장비마스터 + FMSB07_자재출고\n",
    "* 2336 건 >> 작업 + 자재출고 매칭 시 장비 매칭가능"
   ],
   "metadata": {
    "collapsed": false
   }
  },
  {
   "cell_type": "code",
   "execution_count": 33,
   "outputs": [],
   "source": [
    "join_data = pd.merge(equip_work2, jajae_join, how = 'inner', on = 'job_cd')"
   ],
   "metadata": {
    "collapsed": false
   }
  },
  {
   "cell_type": "code",
   "execution_count": 34,
   "outputs": [
    {
     "data": {
      "text/plain": "      index comp_cd        job_cd  job_tpy  \\\n0        10    SEJO  211001-00059        5   \n1        15    SEJO  211001-00081        3   \n2        16    SEJO  211001-00070        5   \n3        16    SEJO  211001-00070        5   \n4        58    SEJO  211001-00062        3   \n...     ...     ...           ...      ...   \n6372  20729    SEJO  221011-00023        3   \n6373  20731    SEJO  221011-00037        5   \n6374  20759    SEJO  221011-00066        3   \n6375  20759    SEJO  221011-00066        3   \n6376  20760    SEJO  221011-00040        3   \n\n                                      job_nm  job_stat job_jisi_dt  \\\n0               4동 지하 1층 전기원휴게실내 샤워장 전등점등불량.         4  2021-10-01   \n1           1동 1구역 2층 복도내 거실통로유도등 점등불량 교체 작업         4  2021-10-01   \n2                2-1동 옥상층 66번 CCTV PTZ 동작 불량         1  2021-10-01   \n3                2-1동 옥상층 66번 CCTV PTZ 동작 불량         1  2021-10-01   \n4     9동 701호해양수산사이버안전센터 분말소화기 받침대 노후로 신품교체.         4  2021-10-01   \n...                                      ...       ...         ...   \n6372     7-2동 7층 남자화장실, 7-1동 5층 남자화장실 대변기 누수         4  2022-10-11   \n6373                 11동 1-2 남자화장실 소변기 물 안나옴         4  2022-10-11   \n6374     13-2동 1층 방재실 R형 수신기 예비전원 불량 교체 (2개)         1  2022-10-11   \n6375     13-2동 1층 방재실 R형 수신기 예비전원 불량 교체 (2개)         1  2022-10-11   \n6376  꿈샘어린이집 1층 기계실 소화수조A 레벨스위치 1개 작동불량 교체작업         1  2022-10-11   \n\n       job_enddt                job_shm                 job_ehm  ...  \\\n0     2021-10-01  2021-10-01 오전 9:00:00   2021-10-01 오전 9:30:00  ...   \n1     2021-10-01  2021-10-01 오후 1:30:00   2021-10-01 오후 1:45:00  ...   \n2     2021-10-01  2021-10-01 오전 9:00:00   2021-10-01 오후 5:31:00  ...   \n3     2021-10-01  2021-10-01 오전 9:00:00   2021-10-01 오후 5:31:00  ...   \n4     2021-10-01  2021-10-01 오후 3:30:00   2021-10-01 오후 4:09:00  ...   \n...          ...                    ...                     ...  ...   \n6372  2022-10-11  2022-10-11 오후 1:30:00   2022-10-11 오후 1:59:00  ...   \n6373  2022-10-11  2022-10-11 오전 9:50:00  2022-10-11 오전 10:10:00  ...   \n6374  2022-10-11  2022-10-11 오후 2:30:00   2022-10-11 오후 3:10:00  ...   \n6375  2022-10-11  2022-10-11 오후 2:30:00   2022-10-11 오후 3:10:00  ...   \n6376  2022-10-11  2022-10-11 오후 1:30:00   2022-10-11 오후 2:30:00  ...   \n\n     gyuljae_no1_y gyuljae_no2_y gyuljae_no3_y  gyuljae_no4_y gyuljae_no5_y  \\\n0              NaN           NaN           NaN            NaN           NaN   \n1              NaN           NaN           NaN            NaN           NaN   \n2              NaN           NaN           NaN            NaN           NaN   \n3              NaN           NaN           NaN            NaN           NaN   \n4              NaN           NaN           NaN            NaN           NaN   \n...            ...           ...           ...            ...           ...   \n6372           NaN           NaN           NaN            NaN           NaN   \n6373           NaN           NaN           NaN            NaN           NaN   \n6374           NaN           NaN           NaN            NaN           NaN   \n6375           NaN           NaN           NaN            NaN           NaN   \n6376           NaN           NaN           NaN            NaN           NaN   \n\n      gyuljae_yn_y return_qty  mat_check_gb  old_mat_cd new_mat_cd  \n0                N        NaN           NaN         NaN        NaN  \n1                Y        NaN           NaN         NaN        NaN  \n2                N        NaN           NaN         NaN        NaN  \n3                N        NaN           NaN         NaN        NaN  \n4                N        NaN           NaN         NaN        NaN  \n...            ...        ...           ...         ...        ...  \n6372             N        NaN           NaN         NaN        NaN  \n6373             N        NaN           NaN         NaN        NaN  \n6374             N        NaN           NaN         NaN        NaN  \n6375             N        NaN           NaN         NaN        NaN  \n6376             N        NaN           NaN         NaN        NaN  \n\n[6377 rows x 106 columns]",
      "text/html": "<div>\n<style scoped>\n    .dataframe tbody tr th:only-of-type {\n        vertical-align: middle;\n    }\n\n    .dataframe tbody tr th {\n        vertical-align: top;\n    }\n\n    .dataframe thead th {\n        text-align: right;\n    }\n</style>\n<table border=\"1\" class=\"dataframe\">\n  <thead>\n    <tr style=\"text-align: right;\">\n      <th></th>\n      <th>index</th>\n      <th>comp_cd</th>\n      <th>job_cd</th>\n      <th>job_tpy</th>\n      <th>job_nm</th>\n      <th>job_stat</th>\n      <th>job_jisi_dt</th>\n      <th>job_enddt</th>\n      <th>job_shm</th>\n      <th>job_ehm</th>\n      <th>...</th>\n      <th>gyuljae_no1_y</th>\n      <th>gyuljae_no2_y</th>\n      <th>gyuljae_no3_y</th>\n      <th>gyuljae_no4_y</th>\n      <th>gyuljae_no5_y</th>\n      <th>gyuljae_yn_y</th>\n      <th>return_qty</th>\n      <th>mat_check_gb</th>\n      <th>old_mat_cd</th>\n      <th>new_mat_cd</th>\n    </tr>\n  </thead>\n  <tbody>\n    <tr>\n      <th>0</th>\n      <td>10</td>\n      <td>SEJO</td>\n      <td>211001-00059</td>\n      <td>5</td>\n      <td>4동 지하 1층 전기원휴게실내 샤워장 전등점등불량.</td>\n      <td>4</td>\n      <td>2021-10-01</td>\n      <td>2021-10-01</td>\n      <td>2021-10-01 오전 9:00:00</td>\n      <td>2021-10-01 오전 9:30:00</td>\n      <td>...</td>\n      <td>NaN</td>\n      <td>NaN</td>\n      <td>NaN</td>\n      <td>NaN</td>\n      <td>NaN</td>\n      <td>N</td>\n      <td>NaN</td>\n      <td>NaN</td>\n      <td>NaN</td>\n      <td>NaN</td>\n    </tr>\n    <tr>\n      <th>1</th>\n      <td>15</td>\n      <td>SEJO</td>\n      <td>211001-00081</td>\n      <td>3</td>\n      <td>1동 1구역 2층 복도내 거실통로유도등 점등불량 교체 작업</td>\n      <td>4</td>\n      <td>2021-10-01</td>\n      <td>2021-10-01</td>\n      <td>2021-10-01 오후 1:30:00</td>\n      <td>2021-10-01 오후 1:45:00</td>\n      <td>...</td>\n      <td>NaN</td>\n      <td>NaN</td>\n      <td>NaN</td>\n      <td>NaN</td>\n      <td>NaN</td>\n      <td>Y</td>\n      <td>NaN</td>\n      <td>NaN</td>\n      <td>NaN</td>\n      <td>NaN</td>\n    </tr>\n    <tr>\n      <th>2</th>\n      <td>16</td>\n      <td>SEJO</td>\n      <td>211001-00070</td>\n      <td>5</td>\n      <td>2-1동 옥상층 66번 CCTV PTZ 동작 불량</td>\n      <td>1</td>\n      <td>2021-10-01</td>\n      <td>2021-10-01</td>\n      <td>2021-10-01 오전 9:00:00</td>\n      <td>2021-10-01 오후 5:31:00</td>\n      <td>...</td>\n      <td>NaN</td>\n      <td>NaN</td>\n      <td>NaN</td>\n      <td>NaN</td>\n      <td>NaN</td>\n      <td>N</td>\n      <td>NaN</td>\n      <td>NaN</td>\n      <td>NaN</td>\n      <td>NaN</td>\n    </tr>\n    <tr>\n      <th>3</th>\n      <td>16</td>\n      <td>SEJO</td>\n      <td>211001-00070</td>\n      <td>5</td>\n      <td>2-1동 옥상층 66번 CCTV PTZ 동작 불량</td>\n      <td>1</td>\n      <td>2021-10-01</td>\n      <td>2021-10-01</td>\n      <td>2021-10-01 오전 9:00:00</td>\n      <td>2021-10-01 오후 5:31:00</td>\n      <td>...</td>\n      <td>NaN</td>\n      <td>NaN</td>\n      <td>NaN</td>\n      <td>NaN</td>\n      <td>NaN</td>\n      <td>N</td>\n      <td>NaN</td>\n      <td>NaN</td>\n      <td>NaN</td>\n      <td>NaN</td>\n    </tr>\n    <tr>\n      <th>4</th>\n      <td>58</td>\n      <td>SEJO</td>\n      <td>211001-00062</td>\n      <td>3</td>\n      <td>9동 701호해양수산사이버안전센터 분말소화기 받침대 노후로 신품교체.</td>\n      <td>4</td>\n      <td>2021-10-01</td>\n      <td>2021-10-01</td>\n      <td>2021-10-01 오후 3:30:00</td>\n      <td>2021-10-01 오후 4:09:00</td>\n      <td>...</td>\n      <td>NaN</td>\n      <td>NaN</td>\n      <td>NaN</td>\n      <td>NaN</td>\n      <td>NaN</td>\n      <td>N</td>\n      <td>NaN</td>\n      <td>NaN</td>\n      <td>NaN</td>\n      <td>NaN</td>\n    </tr>\n    <tr>\n      <th>...</th>\n      <td>...</td>\n      <td>...</td>\n      <td>...</td>\n      <td>...</td>\n      <td>...</td>\n      <td>...</td>\n      <td>...</td>\n      <td>...</td>\n      <td>...</td>\n      <td>...</td>\n      <td>...</td>\n      <td>...</td>\n      <td>...</td>\n      <td>...</td>\n      <td>...</td>\n      <td>...</td>\n      <td>...</td>\n      <td>...</td>\n      <td>...</td>\n      <td>...</td>\n      <td>...</td>\n    </tr>\n    <tr>\n      <th>6372</th>\n      <td>20729</td>\n      <td>SEJO</td>\n      <td>221011-00023</td>\n      <td>3</td>\n      <td>7-2동 7층 남자화장실, 7-1동 5층 남자화장실 대변기 누수</td>\n      <td>4</td>\n      <td>2022-10-11</td>\n      <td>2022-10-11</td>\n      <td>2022-10-11 오후 1:30:00</td>\n      <td>2022-10-11 오후 1:59:00</td>\n      <td>...</td>\n      <td>NaN</td>\n      <td>NaN</td>\n      <td>NaN</td>\n      <td>NaN</td>\n      <td>NaN</td>\n      <td>N</td>\n      <td>NaN</td>\n      <td>NaN</td>\n      <td>NaN</td>\n      <td>NaN</td>\n    </tr>\n    <tr>\n      <th>6373</th>\n      <td>20731</td>\n      <td>SEJO</td>\n      <td>221011-00037</td>\n      <td>5</td>\n      <td>11동 1-2 남자화장실 소변기 물 안나옴</td>\n      <td>4</td>\n      <td>2022-10-11</td>\n      <td>2022-10-11</td>\n      <td>2022-10-11 오전 9:50:00</td>\n      <td>2022-10-11 오전 10:10:00</td>\n      <td>...</td>\n      <td>NaN</td>\n      <td>NaN</td>\n      <td>NaN</td>\n      <td>NaN</td>\n      <td>NaN</td>\n      <td>N</td>\n      <td>NaN</td>\n      <td>NaN</td>\n      <td>NaN</td>\n      <td>NaN</td>\n    </tr>\n    <tr>\n      <th>6374</th>\n      <td>20759</td>\n      <td>SEJO</td>\n      <td>221011-00066</td>\n      <td>3</td>\n      <td>13-2동 1층 방재실 R형 수신기 예비전원 불량 교체 (2개)</td>\n      <td>1</td>\n      <td>2022-10-11</td>\n      <td>2022-10-11</td>\n      <td>2022-10-11 오후 2:30:00</td>\n      <td>2022-10-11 오후 3:10:00</td>\n      <td>...</td>\n      <td>NaN</td>\n      <td>NaN</td>\n      <td>NaN</td>\n      <td>NaN</td>\n      <td>NaN</td>\n      <td>N</td>\n      <td>NaN</td>\n      <td>NaN</td>\n      <td>NaN</td>\n      <td>NaN</td>\n    </tr>\n    <tr>\n      <th>6375</th>\n      <td>20759</td>\n      <td>SEJO</td>\n      <td>221011-00066</td>\n      <td>3</td>\n      <td>13-2동 1층 방재실 R형 수신기 예비전원 불량 교체 (2개)</td>\n      <td>1</td>\n      <td>2022-10-11</td>\n      <td>2022-10-11</td>\n      <td>2022-10-11 오후 2:30:00</td>\n      <td>2022-10-11 오후 3:10:00</td>\n      <td>...</td>\n      <td>NaN</td>\n      <td>NaN</td>\n      <td>NaN</td>\n      <td>NaN</td>\n      <td>NaN</td>\n      <td>N</td>\n      <td>NaN</td>\n      <td>NaN</td>\n      <td>NaN</td>\n      <td>NaN</td>\n    </tr>\n    <tr>\n      <th>6376</th>\n      <td>20760</td>\n      <td>SEJO</td>\n      <td>221011-00040</td>\n      <td>3</td>\n      <td>꿈샘어린이집 1층 기계실 소화수조A 레벨스위치 1개 작동불량 교체작업</td>\n      <td>1</td>\n      <td>2022-10-11</td>\n      <td>2022-10-11</td>\n      <td>2022-10-11 오후 1:30:00</td>\n      <td>2022-10-11 오후 2:30:00</td>\n      <td>...</td>\n      <td>NaN</td>\n      <td>NaN</td>\n      <td>NaN</td>\n      <td>NaN</td>\n      <td>NaN</td>\n      <td>N</td>\n      <td>NaN</td>\n      <td>NaN</td>\n      <td>NaN</td>\n      <td>NaN</td>\n    </tr>\n  </tbody>\n</table>\n<p>6377 rows × 106 columns</p>\n</div>"
     },
     "execution_count": 34,
     "metadata": {},
     "output_type": "execute_result"
    }
   ],
   "source": [
    "join_data"
   ],
   "metadata": {
    "collapsed": false
   }
  },
  {
   "cell_type": "code",
   "execution_count": 35,
   "outputs": [
    {
     "data": {
      "text/plain": "2336"
     },
     "execution_count": 35,
     "metadata": {},
     "output_type": "execute_result"
    }
   ],
   "source": [
    "len(join_data['job_cd'].value_counts())"
   ],
   "metadata": {
    "collapsed": false
   }
  },
  {
   "cell_type": "code",
   "execution_count": 36,
   "outputs": [],
   "source": [
    "# data = 장비 + 작업지시결과 left join\n",
    "test = pd.merge(data, fmsb07, how = 'inner', on = 'job_cd')"
   ],
   "metadata": {
    "collapsed": false
   }
  },
  {
   "cell_type": "code",
   "execution_count": 37,
   "outputs": [
    {
     "data": {
      "text/plain": "2336"
     },
     "execution_count": 37,
     "metadata": {},
     "output_type": "execute_result"
    }
   ],
   "source": [
    "len(test[test['fac_cd'].isnull() == False]['job_cd'].value_counts())"
   ],
   "metadata": {
    "collapsed": false
   }
  },
  {
   "cell_type": "markdown",
   "source": [],
   "metadata": {
    "collapsed": false
   }
  },
  {
   "cell_type": "markdown",
   "source": [
    "# EDA"
   ],
   "metadata": {
    "collapsed": false
   }
  },
  {
   "cell_type": "code",
   "execution_count": 38,
   "outputs": [],
   "source": [
    "keyword_value = equip_work2['new_fac_nm'].value_counts()"
   ],
   "metadata": {
    "collapsed": false
   }
  },
  {
   "cell_type": "code",
   "execution_count": 39,
   "outputs": [
    {
     "data": {
      "text/plain": "                            new_fac_nm\n소변기                                488\n대변기                                464\n펌프                                 360\n냉각탑                                349\n실내기                                304\n...                                ...\n1호기 카                                1\n14동 F3 ACU                           1\nDIGITAL POWER AMP(500W1CH)           1\n6동 V1000 #113                        1\nOAE-6C3-1(C)                         1\n\n[457 rows x 1 columns]",
      "text/html": "<div>\n<style scoped>\n    .dataframe tbody tr th:only-of-type {\n        vertical-align: middle;\n    }\n\n    .dataframe tbody tr th {\n        vertical-align: top;\n    }\n\n    .dataframe thead th {\n        text-align: right;\n    }\n</style>\n<table border=\"1\" class=\"dataframe\">\n  <thead>\n    <tr style=\"text-align: right;\">\n      <th></th>\n      <th>new_fac_nm</th>\n    </tr>\n  </thead>\n  <tbody>\n    <tr>\n      <th>소변기</th>\n      <td>488</td>\n    </tr>\n    <tr>\n      <th>대변기</th>\n      <td>464</td>\n    </tr>\n    <tr>\n      <th>펌프</th>\n      <td>360</td>\n    </tr>\n    <tr>\n      <th>냉각탑</th>\n      <td>349</td>\n    </tr>\n    <tr>\n      <th>실내기</th>\n      <td>304</td>\n    </tr>\n    <tr>\n      <th>...</th>\n      <td>...</td>\n    </tr>\n    <tr>\n      <th>1호기 카</th>\n      <td>1</td>\n    </tr>\n    <tr>\n      <th>14동 F3 ACU</th>\n      <td>1</td>\n    </tr>\n    <tr>\n      <th>DIGITAL POWER AMP(500W1CH)</th>\n      <td>1</td>\n    </tr>\n    <tr>\n      <th>6동 V1000 #113</th>\n      <td>1</td>\n    </tr>\n    <tr>\n      <th>OAE-6C3-1(C)</th>\n      <td>1</td>\n    </tr>\n  </tbody>\n</table>\n<p>457 rows × 1 columns</p>\n</div>"
     },
     "execution_count": 39,
     "metadata": {},
     "output_type": "execute_result"
    }
   ],
   "source": [
    "pd.DataFrame(keyword_value)"
   ],
   "metadata": {
    "collapsed": false
   }
  },
  {
   "cell_type": "code",
   "execution_count": 40,
   "outputs": [
    {
     "data": {
      "text/plain": "         fac_nm new_fac_nm                          job_nm\n14     23호기 승강장         승강      11동 카드리더기로 인한 23호기 파킹해제 불가\n74     60호기 승강로         승강         솔비타어린이집 자동구출운전장치 배터리 교체\n342    10호기 승강로         승강  10동 음성안내 기판 이상으로 인한 음성안내 기판 교체\n344    34호기 승강로         승강       13동 34호기 5층 승장도어 스위치 접점교체\n413    25호기 승강로         승강          12동 25호기 카운터 베어링 소음발생 \n...         ...        ...                             ...\n6259  승강기18호기 카         승강             승강기 내 카내 조명등 1EA 불량\n6312    2호기 승강로         승강              9동 2호기 카도어 연동로프 교체\n6313   29호기 승강로         승강              13동 29호기 리미트스위치 교체\n6495   34호기 승강로         승강               13동 34호기 가이드롤러 조정\n6760  승강기13호기 카         승강                   13호기 카 내 등 교체\n\n[172 rows x 3 columns]",
      "text/html": "<div>\n<style scoped>\n    .dataframe tbody tr th:only-of-type {\n        vertical-align: middle;\n    }\n\n    .dataframe tbody tr th {\n        vertical-align: top;\n    }\n\n    .dataframe thead th {\n        text-align: right;\n    }\n</style>\n<table border=\"1\" class=\"dataframe\">\n  <thead>\n    <tr style=\"text-align: right;\">\n      <th></th>\n      <th>fac_nm</th>\n      <th>new_fac_nm</th>\n      <th>job_nm</th>\n    </tr>\n  </thead>\n  <tbody>\n    <tr>\n      <th>14</th>\n      <td>23호기 승강장</td>\n      <td>승강</td>\n      <td>11동 카드리더기로 인한 23호기 파킹해제 불가</td>\n    </tr>\n    <tr>\n      <th>74</th>\n      <td>60호기 승강로</td>\n      <td>승강</td>\n      <td>솔비타어린이집 자동구출운전장치 배터리 교체</td>\n    </tr>\n    <tr>\n      <th>342</th>\n      <td>10호기 승강로</td>\n      <td>승강</td>\n      <td>10동 음성안내 기판 이상으로 인한 음성안내 기판 교체</td>\n    </tr>\n    <tr>\n      <th>344</th>\n      <td>34호기 승강로</td>\n      <td>승강</td>\n      <td>13동 34호기 5층 승장도어 스위치 접점교체</td>\n    </tr>\n    <tr>\n      <th>413</th>\n      <td>25호기 승강로</td>\n      <td>승강</td>\n      <td>12동 25호기 카운터 베어링 소음발생</td>\n    </tr>\n    <tr>\n      <th>...</th>\n      <td>...</td>\n      <td>...</td>\n      <td>...</td>\n    </tr>\n    <tr>\n      <th>6259</th>\n      <td>승강기18호기 카</td>\n      <td>승강</td>\n      <td>승강기 내 카내 조명등 1EA 불량</td>\n    </tr>\n    <tr>\n      <th>6312</th>\n      <td>2호기 승강로</td>\n      <td>승강</td>\n      <td>9동 2호기 카도어 연동로프 교체</td>\n    </tr>\n    <tr>\n      <th>6313</th>\n      <td>29호기 승강로</td>\n      <td>승강</td>\n      <td>13동 29호기 리미트스위치 교체</td>\n    </tr>\n    <tr>\n      <th>6495</th>\n      <td>34호기 승강로</td>\n      <td>승강</td>\n      <td>13동 34호기 가이드롤러 조정</td>\n    </tr>\n    <tr>\n      <th>6760</th>\n      <td>승강기13호기 카</td>\n      <td>승강</td>\n      <td>13호기 카 내 등 교체</td>\n    </tr>\n  </tbody>\n</table>\n<p>172 rows × 3 columns</p>\n</div>"
     },
     "execution_count": 40,
     "metadata": {},
     "output_type": "execute_result"
    }
   ],
   "source": [
    "equip_work2[equip_work2['new_fac_nm']=='승강'][['fac_nm','new_fac_nm','job_nm']]"
   ],
   "metadata": {
    "collapsed": false
   }
  },
  {
   "cell_type": "code",
   "execution_count": 41,
   "outputs": [],
   "source": [
    "pd.options.display.float_format = '{:.0f}'.format"
   ],
   "metadata": {
    "collapsed": false
   }
  },
  {
   "cell_type": "markdown",
   "source": [
    "## 장비명은 같은데 코드가 여러개인 경우도 존재\n",
    "* 그룹화 할 때 유의"
   ],
   "metadata": {
    "collapsed": false
   }
  },
  {
   "cell_type": "code",
   "execution_count": 42,
   "outputs": [
    {
     "data": {
      "text/plain": "                                                 job_nm       fac_cd  \\\n137                    15-1동 4층 냉각탑 1.2호기 워터가드 투입 (6EA) 200101020022   \n3610                      15-1층 4층 냉각탑 냉각수 급수 볼밸브 교체 작업 200101020022   \n4014                7-2동 1층 옥외 냉각탑  하부 스트레이너 카바 팩킹 교체작업 200101020020   \n4016       11동 옥상 냉각탑1호기 시수공급용 바이패스배관 이음새 누수로 볼밸브,소켓 교체 200101020024   \n4335                         11동 옥상 냉동기 냉각탑 플로트밸브 2개 교체 200101020024   \n4349                  7동 냉각탑 1,2호기 냉각팬 고열그리스 주입 ( 4개소 ) 200101020020   \n4410                                 11동 옥상 냉각탑 수처리제 투입 200101020024   \n4416                           15-1동 4층 냉각탑  수처리제 4개 투입 200101020022   \n4418                            15-1동 4층 1번 냉각탑  볼탑교체작업 200101020022   \n4602                               7동 냉각탑 1,2호기 수처리제 투입 200101020020   \n4758                              11동 옥상 냉각탑 수처리제 8통 투입 200101020024   \n4877                     7동 옥외 1층 냉각탑1.2호기  냉각수 수처리제 투입 200101020020   \n4928                             11동 옥상 냉각탑 수처리제 10통 투입 200101020024   \n4932                        15-1동 4층 냉각탑 1.2호기  수처리제 투입 200101020022   \n5066                         15-1동 4층 냉각탑 냉각수 처리제 투입 작업 200101020022   \n5187                         7-2동 냉각탑 모터 저압진상콘덴서 노후로 교체 200101020020   \n5274                                7-2동 냉각탑  수처리제   투입 200101020020   \n5282                             11동 옥상 냉각탑 수처리제 10통 투입 200101020024   \n5307                           7-2동 1층 냉각탑 1호기 수조 청소 작업 200101020020   \n5310                               15동 1,2호 냉각탑 수처리제 투입 200101020022   \n5422                             11동 옥상 냉각탑 수처리제 10통 투입 200101020024   \n5426                        15-1동 4층 냉각탑 1.2호기 수처리제  투입 200101020022   \n5544                         15-1동 4층 냉각탑 1,2호기 수처리제 투입 200101020022   \n5709                        15-1동 4층 냉각탑 1,2호 기 수처리제 투입 200101020022   \n5805                        7동 냉동기 1,2호기   냉각탑  수처리제 투입 200101020020   \n5843                     15-1동 4층 냉각탑 1,2호기 냉각수 수처리제 투입 200101020022   \n5982                       7-2동 1층 옥외 냉각탑 1.2호기 수처리제 투입 200101020020   \n5989                     15-1동 4층 냉각탑 1,2호기 냉각수 처리제 투입  200101020022   \n6009                             11동 옥상 냉각탑 수처리제 10통 투입 200101020024   \n6044                         7.8동 옥외 1층 냉각탑 냉각수 수처리제 투입 200101020020   \n6101                                  15-1동 4층 냉각탑 수질검사 200101020022   \n6126                                    11동 냉각탑 수질검사 의뢰 200101020024   \n6128                      15-1동 4층 냉각탑 1,2호기 냉각수 처리제 투입 200101020022   \n6246                         15-1동 4층 냉각탑 1,2호기 수처리제 투입 200101020022   \n6267                       7-2동 1층 옥외 냉각탑 1.2호기 수처리제 투입 200101020020   \n6271                       7-2동 1층 옥외 냉각탑 1.2호기 수처리제 투입 200101020020   \n6279  8/22, 8/29 옥상 냉각탑 수처리제 투입 내역 보고(각일별 10개씩 총 20개... 200101020024   \n6375                      7-2동 흡수식 냉동기  냉각탑 냉각수 수처리제 투입 200101020020   \n6385                             11동 옥상 냉각탑 수처리제 10통 투입 200101020024   \n6422                     11동 옥상 냉동기 냉각탑 드레인관 누수로 볼밸브 교체 200101020024   \n6430                               15-1동 4층 냉각탑 수처리제 투입 200101020022   \n6553                            11동 옥상 냉각탑 수처리제 10통 투입  200101020024   \n6562                            15-1동 4층 냉각탑 안 볼탑 교체 작업 200101020022   \n6577                        15동 4층 옥상 냉각탑 1.2호기 수처리제 투입 200101020022   \n6706                             11동 옥상 냉각탑 수처리제 10통 투입 200101020024   \n\n     job_jisi_dt   job_enddt         input_sysdt_03 fac_nm  \n137   2021-10-06  2021-10-06  2019-09-20 오후 1:45:54  냉각탑#1  \n3610  2022-04-14  2022-04-14  2019-09-20 오후 1:45:54  냉각탑#1  \n4014  2022-05-10  2022-05-10  2019-09-17 오후 3:40:40  냉각탑#1  \n4016  2022-05-10  2022-05-10  2019-09-24 오후 4:55:30  냉각탑#1  \n4335  2022-05-30  2022-05-30  2019-09-24 오후 4:55:30  냉각탑#1  \n4349  2022-05-31  2022-05-31  2019-09-17 오후 3:40:40  냉각탑#1  \n4410  2022-06-07  2022-06-07  2019-09-24 오후 4:55:30  냉각탑#1  \n4416  2022-06-07  2022-06-07  2019-09-20 오후 1:45:54  냉각탑#1  \n4418  2022-06-07  2022-06-07  2019-09-20 오후 1:45:54  냉각탑#1  \n4602  2022-06-20  2022-06-20  2019-09-17 오후 3:40:40  냉각탑#1  \n4758  2022-06-27  2022-06-27  2019-09-24 오후 4:55:30  냉각탑#1  \n4877  2022-07-04  2022-07-04  2019-09-17 오후 3:40:40  냉각탑#1  \n4928  2022-07-05  2022-07-05  2019-09-24 오후 4:55:30  냉각탑#1  \n4932  2022-07-05  2022-07-05  2019-09-20 오후 1:45:54  냉각탑#1  \n5066  2022-07-12  2022-07-12  2019-09-20 오후 1:45:54  냉각탑#1  \n5187  2022-07-19  2022-07-19  2019-09-17 오후 3:40:40  냉각탑#1  \n5274  2022-07-25  2022-07-25  2019-09-17 오후 3:40:40  냉각탑#1  \n5282  2022-07-25  2022-07-25  2019-09-24 오후 4:55:30  냉각탑#1  \n5307  2022-07-26  2022-07-26  2019-09-17 오후 3:40:40  냉각탑#1  \n5310  2022-07-26  2022-07-26  2019-09-20 오후 1:45:54  냉각탑#1  \n5422  2022-08-02  2022-08-02  2019-09-24 오후 4:55:30  냉각탑#1  \n5426  2022-08-02  2022-08-02  2019-09-20 오후 1:45:54  냉각탑#1  \n5544  2022-08-08  2022-08-08  2019-09-20 오후 1:45:54  냉각탑#1  \n5709  2022-08-16  2022-08-16  2019-09-20 오후 1:45:54  냉각탑#1  \n5805  2022-08-22  2022-08-22  2019-09-17 오후 3:40:40  냉각탑#1  \n5843  2022-08-23  2022-08-23  2019-09-20 오후 1:45:54  냉각탑#1  \n5982  2022-08-29  2022-08-29  2019-09-17 오후 3:40:40  냉각탑#1  \n5989  2022-08-29  2022-08-29  2019-09-20 오후 1:45:54  냉각탑#1  \n6009  2022-08-30  2022-08-30  2019-09-24 오후 4:55:30  냉각탑#1  \n6044  2022-09-01  2022-09-01  2019-09-17 오후 3:40:40  냉각탑#1  \n6101  2022-09-05  2022-09-05  2019-09-20 오후 1:45:54  냉각탑#1  \n6126  2022-09-06  2022-09-06  2019-09-24 오후 4:55:30  냉각탑#1  \n6128  2022-09-06  2022-09-06  2019-09-20 오후 1:45:54  냉각탑#1  \n6246  2022-09-13  2022-09-13  2019-09-20 오후 1:45:54  냉각탑#1  \n6267  2022-09-14  2022-09-14  2019-09-17 오후 3:40:40  냉각탑#1  \n6271  2022-09-14  2022-09-14  2019-09-17 오후 3:40:40  냉각탑#1  \n6279  2022-09-14  2022-09-14  2019-09-24 오후 4:55:30  냉각탑#1  \n6375  2022-09-19  2022-09-19  2019-09-17 오후 3:40:40  냉각탑#1  \n6385  2022-09-19  2022-09-19  2019-09-24 오후 4:55:30  냉각탑#1  \n6422  2022-09-20  2022-09-20  2019-09-24 오후 4:55:30  냉각탑#1  \n6430  2022-09-20  2022-09-20  2019-09-20 오후 1:45:54  냉각탑#1  \n6553  2022-09-26  2022-09-26  2019-09-24 오후 4:55:30  냉각탑#1  \n6562  2022-09-26  2022-09-26  2019-09-20 오후 1:45:54  냉각탑#1  \n6577  2022-09-27  2022-09-27  2019-09-20 오후 1:45:54  냉각탑#1  \n6706  2022-10-04  2022-10-04  2019-09-24 오후 4:55:30  냉각탑#1  ",
      "text/html": "<div>\n<style scoped>\n    .dataframe tbody tr th:only-of-type {\n        vertical-align: middle;\n    }\n\n    .dataframe tbody tr th {\n        vertical-align: top;\n    }\n\n    .dataframe thead th {\n        text-align: right;\n    }\n</style>\n<table border=\"1\" class=\"dataframe\">\n  <thead>\n    <tr style=\"text-align: right;\">\n      <th></th>\n      <th>job_nm</th>\n      <th>fac_cd</th>\n      <th>job_jisi_dt</th>\n      <th>job_enddt</th>\n      <th>input_sysdt_03</th>\n      <th>fac_nm</th>\n    </tr>\n  </thead>\n  <tbody>\n    <tr>\n      <th>137</th>\n      <td>15-1동 4층 냉각탑 1.2호기 워터가드 투입 (6EA)</td>\n      <td>200101020022</td>\n      <td>2021-10-06</td>\n      <td>2021-10-06</td>\n      <td>2019-09-20 오후 1:45:54</td>\n      <td>냉각탑#1</td>\n    </tr>\n    <tr>\n      <th>3610</th>\n      <td>15-1층 4층 냉각탑 냉각수 급수 볼밸브 교체 작업</td>\n      <td>200101020022</td>\n      <td>2022-04-14</td>\n      <td>2022-04-14</td>\n      <td>2019-09-20 오후 1:45:54</td>\n      <td>냉각탑#1</td>\n    </tr>\n    <tr>\n      <th>4014</th>\n      <td>7-2동 1층 옥외 냉각탑  하부 스트레이너 카바 팩킹 교체작업</td>\n      <td>200101020020</td>\n      <td>2022-05-10</td>\n      <td>2022-05-10</td>\n      <td>2019-09-17 오후 3:40:40</td>\n      <td>냉각탑#1</td>\n    </tr>\n    <tr>\n      <th>4016</th>\n      <td>11동 옥상 냉각탑1호기 시수공급용 바이패스배관 이음새 누수로 볼밸브,소켓 교체</td>\n      <td>200101020024</td>\n      <td>2022-05-10</td>\n      <td>2022-05-10</td>\n      <td>2019-09-24 오후 4:55:30</td>\n      <td>냉각탑#1</td>\n    </tr>\n    <tr>\n      <th>4335</th>\n      <td>11동 옥상 냉동기 냉각탑 플로트밸브 2개 교체</td>\n      <td>200101020024</td>\n      <td>2022-05-30</td>\n      <td>2022-05-30</td>\n      <td>2019-09-24 오후 4:55:30</td>\n      <td>냉각탑#1</td>\n    </tr>\n    <tr>\n      <th>4349</th>\n      <td>7동 냉각탑 1,2호기 냉각팬 고열그리스 주입 ( 4개소 )</td>\n      <td>200101020020</td>\n      <td>2022-05-31</td>\n      <td>2022-05-31</td>\n      <td>2019-09-17 오후 3:40:40</td>\n      <td>냉각탑#1</td>\n    </tr>\n    <tr>\n      <th>4410</th>\n      <td>11동 옥상 냉각탑 수처리제 투입</td>\n      <td>200101020024</td>\n      <td>2022-06-07</td>\n      <td>2022-06-07</td>\n      <td>2019-09-24 오후 4:55:30</td>\n      <td>냉각탑#1</td>\n    </tr>\n    <tr>\n      <th>4416</th>\n      <td>15-1동 4층 냉각탑  수처리제 4개 투입</td>\n      <td>200101020022</td>\n      <td>2022-06-07</td>\n      <td>2022-06-07</td>\n      <td>2019-09-20 오후 1:45:54</td>\n      <td>냉각탑#1</td>\n    </tr>\n    <tr>\n      <th>4418</th>\n      <td>15-1동 4층 1번 냉각탑  볼탑교체작업</td>\n      <td>200101020022</td>\n      <td>2022-06-07</td>\n      <td>2022-06-07</td>\n      <td>2019-09-20 오후 1:45:54</td>\n      <td>냉각탑#1</td>\n    </tr>\n    <tr>\n      <th>4602</th>\n      <td>7동 냉각탑 1,2호기 수처리제 투입</td>\n      <td>200101020020</td>\n      <td>2022-06-20</td>\n      <td>2022-06-20</td>\n      <td>2019-09-17 오후 3:40:40</td>\n      <td>냉각탑#1</td>\n    </tr>\n    <tr>\n      <th>4758</th>\n      <td>11동 옥상 냉각탑 수처리제 8통 투입</td>\n      <td>200101020024</td>\n      <td>2022-06-27</td>\n      <td>2022-06-27</td>\n      <td>2019-09-24 오후 4:55:30</td>\n      <td>냉각탑#1</td>\n    </tr>\n    <tr>\n      <th>4877</th>\n      <td>7동 옥외 1층 냉각탑1.2호기  냉각수 수처리제 투입</td>\n      <td>200101020020</td>\n      <td>2022-07-04</td>\n      <td>2022-07-04</td>\n      <td>2019-09-17 오후 3:40:40</td>\n      <td>냉각탑#1</td>\n    </tr>\n    <tr>\n      <th>4928</th>\n      <td>11동 옥상 냉각탑 수처리제 10통 투입</td>\n      <td>200101020024</td>\n      <td>2022-07-05</td>\n      <td>2022-07-05</td>\n      <td>2019-09-24 오후 4:55:30</td>\n      <td>냉각탑#1</td>\n    </tr>\n    <tr>\n      <th>4932</th>\n      <td>15-1동 4층 냉각탑 1.2호기  수처리제 투입</td>\n      <td>200101020022</td>\n      <td>2022-07-05</td>\n      <td>2022-07-05</td>\n      <td>2019-09-20 오후 1:45:54</td>\n      <td>냉각탑#1</td>\n    </tr>\n    <tr>\n      <th>5066</th>\n      <td>15-1동 4층 냉각탑 냉각수 처리제 투입 작업</td>\n      <td>200101020022</td>\n      <td>2022-07-12</td>\n      <td>2022-07-12</td>\n      <td>2019-09-20 오후 1:45:54</td>\n      <td>냉각탑#1</td>\n    </tr>\n    <tr>\n      <th>5187</th>\n      <td>7-2동 냉각탑 모터 저압진상콘덴서 노후로 교체</td>\n      <td>200101020020</td>\n      <td>2022-07-19</td>\n      <td>2022-07-19</td>\n      <td>2019-09-17 오후 3:40:40</td>\n      <td>냉각탑#1</td>\n    </tr>\n    <tr>\n      <th>5274</th>\n      <td>7-2동 냉각탑  수처리제   투입</td>\n      <td>200101020020</td>\n      <td>2022-07-25</td>\n      <td>2022-07-25</td>\n      <td>2019-09-17 오후 3:40:40</td>\n      <td>냉각탑#1</td>\n    </tr>\n    <tr>\n      <th>5282</th>\n      <td>11동 옥상 냉각탑 수처리제 10통 투입</td>\n      <td>200101020024</td>\n      <td>2022-07-25</td>\n      <td>2022-07-25</td>\n      <td>2019-09-24 오후 4:55:30</td>\n      <td>냉각탑#1</td>\n    </tr>\n    <tr>\n      <th>5307</th>\n      <td>7-2동 1층 냉각탑 1호기 수조 청소 작업</td>\n      <td>200101020020</td>\n      <td>2022-07-26</td>\n      <td>2022-07-26</td>\n      <td>2019-09-17 오후 3:40:40</td>\n      <td>냉각탑#1</td>\n    </tr>\n    <tr>\n      <th>5310</th>\n      <td>15동 1,2호 냉각탑 수처리제 투입</td>\n      <td>200101020022</td>\n      <td>2022-07-26</td>\n      <td>2022-07-26</td>\n      <td>2019-09-20 오후 1:45:54</td>\n      <td>냉각탑#1</td>\n    </tr>\n    <tr>\n      <th>5422</th>\n      <td>11동 옥상 냉각탑 수처리제 10통 투입</td>\n      <td>200101020024</td>\n      <td>2022-08-02</td>\n      <td>2022-08-02</td>\n      <td>2019-09-24 오후 4:55:30</td>\n      <td>냉각탑#1</td>\n    </tr>\n    <tr>\n      <th>5426</th>\n      <td>15-1동 4층 냉각탑 1.2호기 수처리제  투입</td>\n      <td>200101020022</td>\n      <td>2022-08-02</td>\n      <td>2022-08-02</td>\n      <td>2019-09-20 오후 1:45:54</td>\n      <td>냉각탑#1</td>\n    </tr>\n    <tr>\n      <th>5544</th>\n      <td>15-1동 4층 냉각탑 1,2호기 수처리제 투입</td>\n      <td>200101020022</td>\n      <td>2022-08-08</td>\n      <td>2022-08-08</td>\n      <td>2019-09-20 오후 1:45:54</td>\n      <td>냉각탑#1</td>\n    </tr>\n    <tr>\n      <th>5709</th>\n      <td>15-1동 4층 냉각탑 1,2호 기 수처리제 투입</td>\n      <td>200101020022</td>\n      <td>2022-08-16</td>\n      <td>2022-08-16</td>\n      <td>2019-09-20 오후 1:45:54</td>\n      <td>냉각탑#1</td>\n    </tr>\n    <tr>\n      <th>5805</th>\n      <td>7동 냉동기 1,2호기   냉각탑  수처리제 투입</td>\n      <td>200101020020</td>\n      <td>2022-08-22</td>\n      <td>2022-08-22</td>\n      <td>2019-09-17 오후 3:40:40</td>\n      <td>냉각탑#1</td>\n    </tr>\n    <tr>\n      <th>5843</th>\n      <td>15-1동 4층 냉각탑 1,2호기 냉각수 수처리제 투입</td>\n      <td>200101020022</td>\n      <td>2022-08-23</td>\n      <td>2022-08-23</td>\n      <td>2019-09-20 오후 1:45:54</td>\n      <td>냉각탑#1</td>\n    </tr>\n    <tr>\n      <th>5982</th>\n      <td>7-2동 1층 옥외 냉각탑 1.2호기 수처리제 투입</td>\n      <td>200101020020</td>\n      <td>2022-08-29</td>\n      <td>2022-08-29</td>\n      <td>2019-09-17 오후 3:40:40</td>\n      <td>냉각탑#1</td>\n    </tr>\n    <tr>\n      <th>5989</th>\n      <td>15-1동 4층 냉각탑 1,2호기 냉각수 처리제 투입</td>\n      <td>200101020022</td>\n      <td>2022-08-29</td>\n      <td>2022-08-29</td>\n      <td>2019-09-20 오후 1:45:54</td>\n      <td>냉각탑#1</td>\n    </tr>\n    <tr>\n      <th>6009</th>\n      <td>11동 옥상 냉각탑 수처리제 10통 투입</td>\n      <td>200101020024</td>\n      <td>2022-08-30</td>\n      <td>2022-08-30</td>\n      <td>2019-09-24 오후 4:55:30</td>\n      <td>냉각탑#1</td>\n    </tr>\n    <tr>\n      <th>6044</th>\n      <td>7.8동 옥외 1층 냉각탑 냉각수 수처리제 투입</td>\n      <td>200101020020</td>\n      <td>2022-09-01</td>\n      <td>2022-09-01</td>\n      <td>2019-09-17 오후 3:40:40</td>\n      <td>냉각탑#1</td>\n    </tr>\n    <tr>\n      <th>6101</th>\n      <td>15-1동 4층 냉각탑 수질검사</td>\n      <td>200101020022</td>\n      <td>2022-09-05</td>\n      <td>2022-09-05</td>\n      <td>2019-09-20 오후 1:45:54</td>\n      <td>냉각탑#1</td>\n    </tr>\n    <tr>\n      <th>6126</th>\n      <td>11동 냉각탑 수질검사 의뢰</td>\n      <td>200101020024</td>\n      <td>2022-09-06</td>\n      <td>2022-09-06</td>\n      <td>2019-09-24 오후 4:55:30</td>\n      <td>냉각탑#1</td>\n    </tr>\n    <tr>\n      <th>6128</th>\n      <td>15-1동 4층 냉각탑 1,2호기 냉각수 처리제 투입</td>\n      <td>200101020022</td>\n      <td>2022-09-06</td>\n      <td>2022-09-06</td>\n      <td>2019-09-20 오후 1:45:54</td>\n      <td>냉각탑#1</td>\n    </tr>\n    <tr>\n      <th>6246</th>\n      <td>15-1동 4층 냉각탑 1,2호기 수처리제 투입</td>\n      <td>200101020022</td>\n      <td>2022-09-13</td>\n      <td>2022-09-13</td>\n      <td>2019-09-20 오후 1:45:54</td>\n      <td>냉각탑#1</td>\n    </tr>\n    <tr>\n      <th>6267</th>\n      <td>7-2동 1층 옥외 냉각탑 1.2호기 수처리제 투입</td>\n      <td>200101020020</td>\n      <td>2022-09-14</td>\n      <td>2022-09-14</td>\n      <td>2019-09-17 오후 3:40:40</td>\n      <td>냉각탑#1</td>\n    </tr>\n    <tr>\n      <th>6271</th>\n      <td>7-2동 1층 옥외 냉각탑 1.2호기 수처리제 투입</td>\n      <td>200101020020</td>\n      <td>2022-09-14</td>\n      <td>2022-09-14</td>\n      <td>2019-09-17 오후 3:40:40</td>\n      <td>냉각탑#1</td>\n    </tr>\n    <tr>\n      <th>6279</th>\n      <td>8/22, 8/29 옥상 냉각탑 수처리제 투입 내역 보고(각일별 10개씩 총 20개...</td>\n      <td>200101020024</td>\n      <td>2022-09-14</td>\n      <td>2022-09-14</td>\n      <td>2019-09-24 오후 4:55:30</td>\n      <td>냉각탑#1</td>\n    </tr>\n    <tr>\n      <th>6375</th>\n      <td>7-2동 흡수식 냉동기  냉각탑 냉각수 수처리제 투입</td>\n      <td>200101020020</td>\n      <td>2022-09-19</td>\n      <td>2022-09-19</td>\n      <td>2019-09-17 오후 3:40:40</td>\n      <td>냉각탑#1</td>\n    </tr>\n    <tr>\n      <th>6385</th>\n      <td>11동 옥상 냉각탑 수처리제 10통 투입</td>\n      <td>200101020024</td>\n      <td>2022-09-19</td>\n      <td>2022-09-19</td>\n      <td>2019-09-24 오후 4:55:30</td>\n      <td>냉각탑#1</td>\n    </tr>\n    <tr>\n      <th>6422</th>\n      <td>11동 옥상 냉동기 냉각탑 드레인관 누수로 볼밸브 교체</td>\n      <td>200101020024</td>\n      <td>2022-09-20</td>\n      <td>2022-09-20</td>\n      <td>2019-09-24 오후 4:55:30</td>\n      <td>냉각탑#1</td>\n    </tr>\n    <tr>\n      <th>6430</th>\n      <td>15-1동 4층 냉각탑 수처리제 투입</td>\n      <td>200101020022</td>\n      <td>2022-09-20</td>\n      <td>2022-09-20</td>\n      <td>2019-09-20 오후 1:45:54</td>\n      <td>냉각탑#1</td>\n    </tr>\n    <tr>\n      <th>6553</th>\n      <td>11동 옥상 냉각탑 수처리제 10통 투입</td>\n      <td>200101020024</td>\n      <td>2022-09-26</td>\n      <td>2022-09-26</td>\n      <td>2019-09-24 오후 4:55:30</td>\n      <td>냉각탑#1</td>\n    </tr>\n    <tr>\n      <th>6562</th>\n      <td>15-1동 4층 냉각탑 안 볼탑 교체 작업</td>\n      <td>200101020022</td>\n      <td>2022-09-26</td>\n      <td>2022-09-26</td>\n      <td>2019-09-20 오후 1:45:54</td>\n      <td>냉각탑#1</td>\n    </tr>\n    <tr>\n      <th>6577</th>\n      <td>15동 4층 옥상 냉각탑 1.2호기 수처리제 투입</td>\n      <td>200101020022</td>\n      <td>2022-09-27</td>\n      <td>2022-09-27</td>\n      <td>2019-09-20 오후 1:45:54</td>\n      <td>냉각탑#1</td>\n    </tr>\n    <tr>\n      <th>6706</th>\n      <td>11동 옥상 냉각탑 수처리제 10통 투입</td>\n      <td>200101020024</td>\n      <td>2022-10-04</td>\n      <td>2022-10-04</td>\n      <td>2019-09-24 오후 4:55:30</td>\n      <td>냉각탑#1</td>\n    </tr>\n  </tbody>\n</table>\n</div>"
     },
     "execution_count": 42,
     "metadata": {},
     "output_type": "execute_result"
    }
   ],
   "source": [
    "equip_work2[equip_work2['fac_nm']=='냉각탑#1'][['job_nm','fac_cd','job_jisi_dt','job_enddt','input_sysdt_03','fac_nm']]"
   ],
   "metadata": {
    "collapsed": false
   }
  },
  {
   "cell_type": "markdown",
   "source": [
    "## 작업시간 분석"
   ],
   "metadata": {
    "collapsed": false
   }
  },
  {
   "cell_type": "code",
   "execution_count": 43,
   "outputs": [
    {
     "data": {
      "text/plain": "0 days     18395\n1 days       415\n2 days        72\n3 days        71\n4 days        39\n5 days        16\n8 days         7\n6 days         6\n7 days         4\n10 days        4\n11 days        4\n13 days        4\n-1 days        2\n12 days        2\n14 days        2\n23 days        2\n17 days        2\n16 days        1\n18 days        1\n28 days        1\n21 days        1\n9 days         1\n19 days        1\nName: time, dtype: int64"
     },
     "execution_count": 43,
     "metadata": {},
     "output_type": "execute_result"
    }
   ],
   "source": [
    "fmsa10['job_jisi_dt'] = pd.to_datetime(fmsa10['job_jisi_dt'])\n",
    "fmsa10['job_enddt'] = pd.to_datetime(fmsa10['job_enddt'])\n",
    "fmsa10['time'] = fmsa10['job_enddt'] - fmsa10['job_jisi_dt']\n",
    "fmsa10['time'].value_counts()"
   ],
   "metadata": {
    "collapsed": false
   }
  },
  {
   "cell_type": "markdown",
   "source": [
    "## 작업장비이력 / 장비마스터의 전체 장비 수 비교\n",
    "* 40811개의 장비 중 3762개의 장비만 작업 이력이 있음"
   ],
   "metadata": {
    "collapsed": false
   }
  },
  {
   "cell_type": "code",
   "execution_count": 44,
   "outputs": [],
   "source": [
    "fmsx05 = pd.read_excel(path+'FMSX05_장비마스터.xlsx')"
   ],
   "metadata": {
    "collapsed": false
   }
  },
  {
   "cell_type": "markdown",
   "source": [
    "### 장비코드는 다르나 장비 이름이 같은 경우 존재"
   ],
   "metadata": {
    "collapsed": false
   }
  },
  {
   "cell_type": "code",
   "execution_count": 45,
   "outputs": [
    {
     "data": {
      "text/plain": "200201040293    1\n200105080004    1\n200104010466    1\n200104010746    1\n200104010615    1\n               ..\n200201010700    1\n200201010702    1\n200201010703    1\n200302120001    1\n700201020001    1\nName: fac_cd, Length: 40811, dtype: int64"
     },
     "execution_count": 45,
     "metadata": {},
     "output_type": "execute_result"
    }
   ],
   "source": [
    "fmsx05['fac_cd'].value_counts()"
   ],
   "metadata": {
    "collapsed": false
   }
  },
  {
   "cell_type": "code",
   "execution_count": 46,
   "outputs": [
    {
     "data": {
      "text/plain": "L2스위치                             1621\ntest                               927\n6동 분말소화기                           577\n1동 분말소화기                           487\n5동 분말소화기                           429\n                                  ... \n(6)정풍량 #3F (A09-CAV2,3 2대)           1\n(6)정풍량 #3F (A08-CAV2,3 5대)           1\n(6)대-3-3F(남)365호옆-화장실) 대변기 2대        1\n(6)대-3-3F(여)309호옆-화장실) 대변기 4대        1\nSCC 7호기 권상기                          1\nName: fac_nm, Length: 22256, dtype: int64"
     },
     "execution_count": 46,
     "metadata": {},
     "output_type": "execute_result"
    }
   ],
   "source": [
    "fmsx05['fac_nm'].value_counts()"
   ],
   "metadata": {
    "collapsed": false
   }
  },
  {
   "cell_type": "code",
   "execution_count": 47,
   "outputs": [
    {
     "name": "stdout",
     "output_type": "stream",
     "text": [
      "작업된 장비 개수 3762\n",
      "전체 장비 개수 40811\n"
     ]
    }
   ],
   "source": [
    "print('작업된 장비 개수',len(fmsa11['fac_cd'].value_counts()))\n",
    "print('전체 장비 개수',len(fmsx05['fac_cd'].value_counts()))"
   ],
   "metadata": {
    "collapsed": false
   }
  },
  {
   "cell_type": "markdown",
   "source": [
    "## 자재 출고 이력 / 장비마스터의 전체 장비 수 비교\n",
    "* 2263개의 장비 중 1727개의 자재만 출고 이력이 있음"
   ],
   "metadata": {
    "collapsed": false
   }
  },
  {
   "cell_type": "code",
   "execution_count": 48,
   "outputs": [
    {
     "data": {
      "text/plain": "  comp_cd     mat_cd  class_cd  mat_nm  mat_type  mat_std_qty  mat_cost  \\\n0    SEJO  101001001    101001    황동레일       NaN          NaN       NaN   \n1    SEJO  101001002    101001  파이프서포트       NaN          NaN       NaN   \n2    SEJO  101001003    101001   단관파이프       NaN          NaN       NaN   \n3    SEJO  101001004    101001    각파이프       NaN          NaN       NaN   \n4    SEJO  101003001    101003    초경철판       NaN          NaN       NaN   \n\n  mat_unit  mat_maker  mat_country  ...  input_emp_no chg_emp_no input_scr_nm  \\\n0        개        NaN          NaN  ...           PJS        NaN          SQL   \n1        개        NaN          NaN  ...           PJS        NaN          SQL   \n2        본        NaN          NaN  ...           PJS        NaN          SQL   \n3        개        NaN          NaN  ...           PJS        NaN          SQL   \n4        매        NaN          NaN  ...           PJS        NaN          SQL   \n\n   use_yn del_yn  old_mat_cd new_mat_cd old_class_cd new_class_cd  mat_yn  \n0       Y      N   718006001  101001001      0718006       101001     NaN  \n1       Y      N   101021002  101001002      0101021       101001     NaN  \n2       Y      N   605002011  101001003      0605002       101001     NaN  \n3       Y      N   101002014  101001004      0101002       101001     NaN  \n4       Y      N   117011002  101003001      0117011       101003     NaN  \n\n[5 rows x 24 columns]",
      "text/html": "<div>\n<style scoped>\n    .dataframe tbody tr th:only-of-type {\n        vertical-align: middle;\n    }\n\n    .dataframe tbody tr th {\n        vertical-align: top;\n    }\n\n    .dataframe thead th {\n        text-align: right;\n    }\n</style>\n<table border=\"1\" class=\"dataframe\">\n  <thead>\n    <tr style=\"text-align: right;\">\n      <th></th>\n      <th>comp_cd</th>\n      <th>mat_cd</th>\n      <th>class_cd</th>\n      <th>mat_nm</th>\n      <th>mat_type</th>\n      <th>mat_std_qty</th>\n      <th>mat_cost</th>\n      <th>mat_unit</th>\n      <th>mat_maker</th>\n      <th>mat_country</th>\n      <th>...</th>\n      <th>input_emp_no</th>\n      <th>chg_emp_no</th>\n      <th>input_scr_nm</th>\n      <th>use_yn</th>\n      <th>del_yn</th>\n      <th>old_mat_cd</th>\n      <th>new_mat_cd</th>\n      <th>old_class_cd</th>\n      <th>new_class_cd</th>\n      <th>mat_yn</th>\n    </tr>\n  </thead>\n  <tbody>\n    <tr>\n      <th>0</th>\n      <td>SEJO</td>\n      <td>101001001</td>\n      <td>101001</td>\n      <td>황동레일</td>\n      <td>NaN</td>\n      <td>NaN</td>\n      <td>NaN</td>\n      <td>개</td>\n      <td>NaN</td>\n      <td>NaN</td>\n      <td>...</td>\n      <td>PJS</td>\n      <td>NaN</td>\n      <td>SQL</td>\n      <td>Y</td>\n      <td>N</td>\n      <td>718006001</td>\n      <td>101001001</td>\n      <td>0718006</td>\n      <td>101001</td>\n      <td>NaN</td>\n    </tr>\n    <tr>\n      <th>1</th>\n      <td>SEJO</td>\n      <td>101001002</td>\n      <td>101001</td>\n      <td>파이프서포트</td>\n      <td>NaN</td>\n      <td>NaN</td>\n      <td>NaN</td>\n      <td>개</td>\n      <td>NaN</td>\n      <td>NaN</td>\n      <td>...</td>\n      <td>PJS</td>\n      <td>NaN</td>\n      <td>SQL</td>\n      <td>Y</td>\n      <td>N</td>\n      <td>101021002</td>\n      <td>101001002</td>\n      <td>0101021</td>\n      <td>101001</td>\n      <td>NaN</td>\n    </tr>\n    <tr>\n      <th>2</th>\n      <td>SEJO</td>\n      <td>101001003</td>\n      <td>101001</td>\n      <td>단관파이프</td>\n      <td>NaN</td>\n      <td>NaN</td>\n      <td>NaN</td>\n      <td>본</td>\n      <td>NaN</td>\n      <td>NaN</td>\n      <td>...</td>\n      <td>PJS</td>\n      <td>NaN</td>\n      <td>SQL</td>\n      <td>Y</td>\n      <td>N</td>\n      <td>605002011</td>\n      <td>101001003</td>\n      <td>0605002</td>\n      <td>101001</td>\n      <td>NaN</td>\n    </tr>\n    <tr>\n      <th>3</th>\n      <td>SEJO</td>\n      <td>101001004</td>\n      <td>101001</td>\n      <td>각파이프</td>\n      <td>NaN</td>\n      <td>NaN</td>\n      <td>NaN</td>\n      <td>개</td>\n      <td>NaN</td>\n      <td>NaN</td>\n      <td>...</td>\n      <td>PJS</td>\n      <td>NaN</td>\n      <td>SQL</td>\n      <td>Y</td>\n      <td>N</td>\n      <td>101002014</td>\n      <td>101001004</td>\n      <td>0101002</td>\n      <td>101001</td>\n      <td>NaN</td>\n    </tr>\n    <tr>\n      <th>4</th>\n      <td>SEJO</td>\n      <td>101003001</td>\n      <td>101003</td>\n      <td>초경철판</td>\n      <td>NaN</td>\n      <td>NaN</td>\n      <td>NaN</td>\n      <td>매</td>\n      <td>NaN</td>\n      <td>NaN</td>\n      <td>...</td>\n      <td>PJS</td>\n      <td>NaN</td>\n      <td>SQL</td>\n      <td>Y</td>\n      <td>N</td>\n      <td>117011002</td>\n      <td>101003001</td>\n      <td>0117011</td>\n      <td>101003</td>\n      <td>NaN</td>\n    </tr>\n  </tbody>\n</table>\n<p>5 rows × 24 columns</p>\n</div>"
     },
     "execution_count": 48,
     "metadata": {},
     "output_type": "execute_result"
    }
   ],
   "source": [
    "fmsb03 =  pd.read_excel(path+'FMSB03_자재마스터.xlsx')\n",
    "fmsb03.head()"
   ],
   "metadata": {
    "collapsed": false
   }
  },
  {
   "cell_type": "markdown",
   "source": [
    "### 자재코드는 다르나 자재 이름이 같은 경우 존재"
   ],
   "metadata": {
    "collapsed": false
   }
  },
  {
   "cell_type": "code",
   "execution_count": 49,
   "outputs": [
    {
     "data": {
      "text/plain": "101001001     1\n415004001     1\n415003003     1\n415003004     1\n415003005     1\n             ..\n207001028     1\n207001027     1\n207001026     1\n207001025     1\n1107002002    1\nName: mat_cd, Length: 2263, dtype: int64"
     },
     "execution_count": 49,
     "metadata": {},
     "output_type": "execute_result"
    }
   ],
   "source": [
    "fmsb03['mat_cd'].value_counts()"
   ],
   "metadata": {
    "collapsed": false
   }
  },
  {
   "cell_type": "code",
   "execution_count": 50,
   "outputs": [
    {
     "data": {
      "text/plain": "커넥터         6\n주차관제주변기기    5\n냉각팬         5\n파워서플라이      5\n스피커         3\n           ..\n도로표지용도료     1\n니스붓         1\n회전문 부품      1\n고임목         1\n눈삽          1\nName: mat_nm, Length: 2171, dtype: int64"
     },
     "execution_count": 50,
     "metadata": {},
     "output_type": "execute_result"
    }
   ],
   "source": [
    "fmsb03['mat_nm'].value_counts()"
   ],
   "metadata": {
    "collapsed": false
   }
  },
  {
   "cell_type": "code",
   "execution_count": 51,
   "outputs": [
    {
     "name": "stdout",
     "output_type": "stream",
     "text": [
      "출고된 자재 개수 1727\n",
      "전체 자재 개수 2263\n"
     ]
    }
   ],
   "source": [
    "print('출고된 자재 개수',len(fmsb07['mat_cd'].value_counts()))\n",
    "print('전체 자재 개수',len(fmsb03['mat_cd'].value_counts()))"
   ],
   "metadata": {
    "collapsed": false
   }
  },
  {
   "cell_type": "markdown",
   "source": [
    "## 수리이력이 많은 장비 분석\n",
    "* 특정장비가 정비가 많은 경우 파악이 가능하나 그 외의 뚜렷한 특징은 파악하지 못함"
   ],
   "metadata": {
    "collapsed": false
   }
  },
  {
   "cell_type": "code",
   "execution_count": 52,
   "outputs": [
    {
     "data": {
      "text/plain": "200101020028    24\n200101020029    24\n200101020002    24\n200101020003    23\n200101020005    22\n                ..\n300401020004     1\n400301020257     1\n300201011251     1\n400301020185     1\n200201030273     1\nName: fac_cd, Length: 3762, dtype: int64"
     },
     "execution_count": 52,
     "metadata": {},
     "output_type": "execute_result"
    }
   ],
   "source": [
    "fmsa11['fac_cd'].value_counts()"
   ],
   "metadata": {
    "collapsed": false
   }
  },
  {
   "cell_type": "code",
   "execution_count": 53,
   "outputs": [
    {
     "data": {
      "text/plain": "      index comp_cd        job_cd  job_tpy  \\\n130     254    SEJO  211006-00043        3   \n361     716    SEJO  211014-00039      122   \n3799  11034    SEJO  220426-00036        3   \n3963  11506    SEJO  220504-00037        3   \n4369  13040    SEJO  220602-00029        3   \n4413  13231    SEJO  220607-00050        3   \n4507  13572    SEJO  220613-00002        3   \n4605  13966    SEJO  220620-00020        3   \n4760  14442    SEJO  220627-00040        3   \n4887  14865    SEJO  220704-00039        3   \n5043  15322    SEJO  220711-00025        3   \n5165  15752    SEJO  220718-00017        3   \n5288  16187    SEJO  220725-00031        3   \n5389  16577    SEJO  220801-00038        3   \n5542  17024    SEJO  220808-00013        3   \n5704  17520    SEJO  220816-00017        3   \n5812  17865    SEJO  220822-00035        3   \n6079  18687    SEJO  220902-00025        3   \n6096  18777    SEJO  220905-00005        3   \n6098  18779    SEJO  220905-00063        3   \n6244  19164    SEJO  220913-00023        3   \n6393  19525    SEJO  220919-00031        3   \n6559  19967    SEJO  220926-00027        3   \n6709  20395    SEJO  221004-00081        3   \n\n                                    job_nm  job_stat job_jisi_dt   job_enddt  \\\n130        13-1동 6층 냉각탑 1,2호기 냉각수처리제 6통 투입         4  2021-10-06  2021-10-06   \n361                13-1동 냉각탑 퇴수 작업 및 청소 작업         4  2021-10-14  2021-10-14   \n3799             13동 6층 냉각탑 수조청소 준비 및 상태점검         4  2022-04-26  2022-04-26   \n3963     13-1동 냉각탑 1,2호기 내부수조 청소 및 수처리제 투입         4  2022-05-04  2022-05-04   \n4369  13동 옥상 냉각탑 1,2호기 수처리제 워터가드 1KG 6통 투입         4  2022-06-02  2022-06-02   \n4413  13동 옥상 냉각탑 1,2호기 수처리제 워터가드 1KG 6통 투입         4  2022-06-07  2022-06-07   \n4507          13-1동 6층 냉각탑 1,2호기 냉각수처리제 투입         4  2022-06-13  2022-06-13   \n4605  13-1동 냉각탑 1,2호기 내부수조 청소 및 수처리제 3통 투입         4  2022-06-20  2022-06-20   \n4760    13동 옥상 냉각탑 1호기 수처리제 워터가드 1KG 3통 투입         4  2022-06-27  2022-06-27   \n4887  13동 옥상 냉각탑 1,2호기 수처리제 워터가드 1KG 6통 투입         4  2022-07-04  2022-07-04   \n5043          13-1동 6층 냉각탑 1,2호기 냉각수처리제 투입         4  2022-07-11  2022-07-11   \n5165  13-1동 냉각탑 1,2호기 내부수조 청소 및 수처리제 6통 투입         4  2022-07-18  2022-07-18   \n5288  13동 옥상 냉각탑 1,2호기 수처리제 워터가드 1KG 6통 투입         4  2022-07-25  2022-07-25   \n5389  13동 옥상 냉각탑 1,2호기 수처리제 워터가드 1KG 6통 투입         4  2022-08-01  2022-08-01   \n5542          13-1동 6층 냉각탑 1,2호기 냉각수처리제 투입         4  2022-08-08  2022-08-08   \n5704             13-1동 냉각탑 1,2호기 냉각수처리제 투입         4  2022-08-16  2022-08-16   \n5812  13동 옥상 냉각탑 1,2호기 수처리제 워터가드 1KG 6통 투입         4  2022-08-22  2022-08-22   \n6079         13-1동 6층 옥상 냉각탑 1,2호기 수처리제 투입         4  2022-09-02  2022-09-02   \n6096          13-1동 6층 냉각탑 1,2호기 냉각수처리제 투입         4  2022-09-05  2022-09-05   \n6098               13-1동 6층 냉각탑 1,2호기 수질검사         4  2022-09-05  2022-09-05   \n6244                13-1동 6층 냉각탑 냉각수처리제 투입         4  2022-09-13  2022-09-13   \n6393         13-1동 6층 옥상 냉각탑 1,2호기 수처리제 투입         4  2022-09-19  2022-09-19   \n6559          13-1동 냉각탑 1,2호기 냉각수처리제 6통 투입         4  2022-09-26  2022-09-26   \n6709          13-1동 냉각탑 1,2호기 냉각수처리제 6통 투입         4  2022-10-04  2022-10-04   \n\n                     job_shm                 job_ehm  ... common_wrk emc_id  \\\n130    2021-10-06 오전 9:30:00  2021-10-06 오전 10:30:00  ...        NaN    NaN   \n361   2021-10-14 오전 10:00:00   2021-10-14 오후 4:00:00  ...        NaN    NaN   \n3799   2022-04-26 오후 1:00:00   2022-04-26 오후 3:00:00  ...        NaN    NaN   \n3963   2022-05-04 오후 1:00:00   2022-05-04 오후 3:00:00  ...        NaN    NaN   \n4369   2022-06-02 오전 9:30:00  2022-06-02 오전 10:30:00  ...        NaN    NaN   \n4413   2022-06-07 오전 9:30:00  2022-06-07 오전 10:30:00  ...        NaN    NaN   \n4507   2022-06-13 오전 9:00:00  2022-06-13 오전 10:00:00  ...        NaN    NaN   \n4605   2022-06-20 오전 9:30:00  2022-06-20 오전 10:30:00  ...        NaN    NaN   \n4760   2022-06-27 오전 9:30:00  2022-06-27 오전 10:30:00  ...        NaN    NaN   \n4887   2022-07-04 오전 9:30:00  2022-07-04 오전 10:30:00  ...        NaN    NaN   \n5043   2022-07-11 오전 9:00:00   2022-07-11 오전 9:30:00  ...        NaN    NaN   \n5165   2022-07-18 오전 9:10:00  2022-07-18 오전 10:00:00  ...        NaN    NaN   \n5288   2022-07-25 오전 9:30:00  2022-07-25 오전 10:30:00  ...        NaN    NaN   \n5389   2022-08-01 오전 9:30:00  2022-08-01 오전 10:30:00  ...        NaN    NaN   \n5542   2022-08-08 오전 9:00:00  2022-08-08 오전 10:00:00  ...        NaN    NaN   \n5704   2022-08-16 오전 9:00:00  2022-08-16 오전 10:00:00  ...        NaN    NaN   \n5812   2022-08-22 오전 9:30:00  2022-08-22 오전 10:30:00  ...        NaN    NaN   \n6079   2022-09-02 오전 9:30:00  2022-09-02 오전 10:30:00  ...        NaN    NaN   \n6096   2022-09-05 오전 9:00:00   2022-09-05 오전 9:30:00  ...        NaN    NaN   \n6098   2022-09-05 오후 1:30:00   2022-09-05 오후 2:30:00  ...        NaN    NaN   \n6244   2022-09-13 오전 9:00:00   2022-09-13 오전 9:30:00  ...        NaN    NaN   \n6393   2022-09-19 오전 9:30:00  2022-09-19 오전 10:30:00  ...        NaN    NaN   \n6559   2022-09-26 오전 9:30:00  2022-09-26 오전 10:30:00  ...        NaN    NaN   \n6709   2022-10-04 오전 9:30:00  2022-10-04 오전 10:30:00  ...        NaN    NaN   \n\n     copor_yn  kukmin_yn       fac_cd          input_sysdt_11   fac_nm  \\\n130         N          N 200101020028   2022-01-12 오전 9:26:55  냉각탑 #01   \n361         N          N 200101020028   2021-10-14 오후 3:34:40  냉각탑 #01   \n3799        N          N 200101020028   2022-04-26 오후 3:03:34  냉각탑 #01   \n3963        N          N 200101020028   2022-05-20 오후 4:12:04  냉각탑 #01   \n4369        N          N 200101020028   2022-06-09 오후 4:06:20  냉각탑 #01   \n4413        N          N 200101020028   2022-06-09 오후 4:07:13  냉각탑 #01   \n4507        N          N 200101020028   2022-07-04 오전 8:10:34  냉각탑 #01   \n4605        N          N 200101020028   2022-07-04 오전 8:13:01  냉각탑 #01   \n4760        N          N 200101020028   2022-07-04 오전 8:14:50  냉각탑 #01   \n4887        N          N 200101020028   2022-07-15 오후 1:16:30  냉각탑 #01   \n5043        N          N 200101020028   2022-07-27 오전 9:14:46  냉각탑 #01   \n5165        N          N 200101020028   2022-07-27 오전 9:15:29  냉각탑 #01   \n5288        N          N 200101020028  2022-08-04 오전 10:09:12  냉각탑 #01   \n5389        N          N 200101020028  2022-08-24 오전 11:02:54  냉각탑 #01   \n5542        N          N 200101020028  2022-08-24 오전 11:05:02  냉각탑 #01   \n5704        N          N 200101020028  2022-08-16 오전 11:00:00  냉각탑 #01   \n5812        N          N 200101020028   2022-08-22 오후 3:23:24  냉각탑 #01   \n6079        N          N 200101020028   2022-09-02 오후 1:51:58  냉각탑 #01   \n6096        N          N 200101020028   2022-09-05 오전 9:37:33  냉각탑 #01   \n6098        N          N 200101020028   2022-09-05 오후 5:25:44  냉각탑 #01   \n6244        N          N 200101020028  2022-09-13 오전 10:58:04  냉각탑 #01   \n6393        N          N 200101020028   2022-09-19 오후 1:26:26  냉각탑 #01   \n6559        N          N 200101020028   2022-09-26 오후 2:22:58  냉각탑 #01   \n6709        N          N 200101020028   2022-10-04 오후 3:47:41  냉각탑 #01   \n\n              input_sysdt_03  replaced new_fac_nm  \n130   2019-10-01 오전 10:24:12         1        냉각탑  \n361   2019-10-01 오전 10:24:12         1        냉각탑  \n3799  2019-10-01 오전 10:24:12         1        냉각탑  \n3963  2019-10-01 오전 10:24:12         1        냉각탑  \n4369  2019-10-01 오전 10:24:12         1        냉각탑  \n4413  2019-10-01 오전 10:24:12         1        냉각탑  \n4507  2019-10-01 오전 10:24:12         1        냉각탑  \n4605  2019-10-01 오전 10:24:12         1        냉각탑  \n4760  2019-10-01 오전 10:24:12         1        냉각탑  \n4887  2019-10-01 오전 10:24:12         1        냉각탑  \n5043  2019-10-01 오전 10:24:12         1        냉각탑  \n5165  2019-10-01 오전 10:24:12         1        냉각탑  \n5288  2019-10-01 오전 10:24:12         1        냉각탑  \n5389  2019-10-01 오전 10:24:12         1        냉각탑  \n5542  2019-10-01 오전 10:24:12         1        냉각탑  \n5704  2019-10-01 오전 10:24:12         1        냉각탑  \n5812  2019-10-01 오전 10:24:12         1        냉각탑  \n6079  2019-10-01 오전 10:24:12         1        냉각탑  \n6096  2019-10-01 오전 10:24:12         1        냉각탑  \n6098  2019-10-01 오전 10:24:12         1        냉각탑  \n6244  2019-10-01 오전 10:24:12         1        냉각탑  \n6393  2019-10-01 오전 10:24:12         1        냉각탑  \n6559  2019-10-01 오전 10:24:12         1        냉각탑  \n6709  2019-10-01 오전 10:24:12         1        냉각탑  \n\n[24 rows x 68 columns]",
      "text/html": "<div>\n<style scoped>\n    .dataframe tbody tr th:only-of-type {\n        vertical-align: middle;\n    }\n\n    .dataframe tbody tr th {\n        vertical-align: top;\n    }\n\n    .dataframe thead th {\n        text-align: right;\n    }\n</style>\n<table border=\"1\" class=\"dataframe\">\n  <thead>\n    <tr style=\"text-align: right;\">\n      <th></th>\n      <th>index</th>\n      <th>comp_cd</th>\n      <th>job_cd</th>\n      <th>job_tpy</th>\n      <th>job_nm</th>\n      <th>job_stat</th>\n      <th>job_jisi_dt</th>\n      <th>job_enddt</th>\n      <th>job_shm</th>\n      <th>job_ehm</th>\n      <th>...</th>\n      <th>common_wrk</th>\n      <th>emc_id</th>\n      <th>copor_yn</th>\n      <th>kukmin_yn</th>\n      <th>fac_cd</th>\n      <th>input_sysdt_11</th>\n      <th>fac_nm</th>\n      <th>input_sysdt_03</th>\n      <th>replaced</th>\n      <th>new_fac_nm</th>\n    </tr>\n  </thead>\n  <tbody>\n    <tr>\n      <th>130</th>\n      <td>254</td>\n      <td>SEJO</td>\n      <td>211006-00043</td>\n      <td>3</td>\n      <td>13-1동 6층 냉각탑 1,2호기 냉각수처리제 6통 투입</td>\n      <td>4</td>\n      <td>2021-10-06</td>\n      <td>2021-10-06</td>\n      <td>2021-10-06 오전 9:30:00</td>\n      <td>2021-10-06 오전 10:30:00</td>\n      <td>...</td>\n      <td>NaN</td>\n      <td>NaN</td>\n      <td>N</td>\n      <td>N</td>\n      <td>200101020028</td>\n      <td>2022-01-12 오전 9:26:55</td>\n      <td>냉각탑 #01</td>\n      <td>2019-10-01 오전 10:24:12</td>\n      <td>1</td>\n      <td>냉각탑</td>\n    </tr>\n    <tr>\n      <th>361</th>\n      <td>716</td>\n      <td>SEJO</td>\n      <td>211014-00039</td>\n      <td>122</td>\n      <td>13-1동 냉각탑 퇴수 작업 및 청소 작업</td>\n      <td>4</td>\n      <td>2021-10-14</td>\n      <td>2021-10-14</td>\n      <td>2021-10-14 오전 10:00:00</td>\n      <td>2021-10-14 오후 4:00:00</td>\n      <td>...</td>\n      <td>NaN</td>\n      <td>NaN</td>\n      <td>N</td>\n      <td>N</td>\n      <td>200101020028</td>\n      <td>2021-10-14 오후 3:34:40</td>\n      <td>냉각탑 #01</td>\n      <td>2019-10-01 오전 10:24:12</td>\n      <td>1</td>\n      <td>냉각탑</td>\n    </tr>\n    <tr>\n      <th>3799</th>\n      <td>11034</td>\n      <td>SEJO</td>\n      <td>220426-00036</td>\n      <td>3</td>\n      <td>13동 6층 냉각탑 수조청소 준비 및 상태점검</td>\n      <td>4</td>\n      <td>2022-04-26</td>\n      <td>2022-04-26</td>\n      <td>2022-04-26 오후 1:00:00</td>\n      <td>2022-04-26 오후 3:00:00</td>\n      <td>...</td>\n      <td>NaN</td>\n      <td>NaN</td>\n      <td>N</td>\n      <td>N</td>\n      <td>200101020028</td>\n      <td>2022-04-26 오후 3:03:34</td>\n      <td>냉각탑 #01</td>\n      <td>2019-10-01 오전 10:24:12</td>\n      <td>1</td>\n      <td>냉각탑</td>\n    </tr>\n    <tr>\n      <th>3963</th>\n      <td>11506</td>\n      <td>SEJO</td>\n      <td>220504-00037</td>\n      <td>3</td>\n      <td>13-1동 냉각탑 1,2호기 내부수조 청소 및 수처리제 투입</td>\n      <td>4</td>\n      <td>2022-05-04</td>\n      <td>2022-05-04</td>\n      <td>2022-05-04 오후 1:00:00</td>\n      <td>2022-05-04 오후 3:00:00</td>\n      <td>...</td>\n      <td>NaN</td>\n      <td>NaN</td>\n      <td>N</td>\n      <td>N</td>\n      <td>200101020028</td>\n      <td>2022-05-20 오후 4:12:04</td>\n      <td>냉각탑 #01</td>\n      <td>2019-10-01 오전 10:24:12</td>\n      <td>1</td>\n      <td>냉각탑</td>\n    </tr>\n    <tr>\n      <th>4369</th>\n      <td>13040</td>\n      <td>SEJO</td>\n      <td>220602-00029</td>\n      <td>3</td>\n      <td>13동 옥상 냉각탑 1,2호기 수처리제 워터가드 1KG 6통 투입</td>\n      <td>4</td>\n      <td>2022-06-02</td>\n      <td>2022-06-02</td>\n      <td>2022-06-02 오전 9:30:00</td>\n      <td>2022-06-02 오전 10:30:00</td>\n      <td>...</td>\n      <td>NaN</td>\n      <td>NaN</td>\n      <td>N</td>\n      <td>N</td>\n      <td>200101020028</td>\n      <td>2022-06-09 오후 4:06:20</td>\n      <td>냉각탑 #01</td>\n      <td>2019-10-01 오전 10:24:12</td>\n      <td>1</td>\n      <td>냉각탑</td>\n    </tr>\n    <tr>\n      <th>4413</th>\n      <td>13231</td>\n      <td>SEJO</td>\n      <td>220607-00050</td>\n      <td>3</td>\n      <td>13동 옥상 냉각탑 1,2호기 수처리제 워터가드 1KG 6통 투입</td>\n      <td>4</td>\n      <td>2022-06-07</td>\n      <td>2022-06-07</td>\n      <td>2022-06-07 오전 9:30:00</td>\n      <td>2022-06-07 오전 10:30:00</td>\n      <td>...</td>\n      <td>NaN</td>\n      <td>NaN</td>\n      <td>N</td>\n      <td>N</td>\n      <td>200101020028</td>\n      <td>2022-06-09 오후 4:07:13</td>\n      <td>냉각탑 #01</td>\n      <td>2019-10-01 오전 10:24:12</td>\n      <td>1</td>\n      <td>냉각탑</td>\n    </tr>\n    <tr>\n      <th>4507</th>\n      <td>13572</td>\n      <td>SEJO</td>\n      <td>220613-00002</td>\n      <td>3</td>\n      <td>13-1동 6층 냉각탑 1,2호기 냉각수처리제 투입</td>\n      <td>4</td>\n      <td>2022-06-13</td>\n      <td>2022-06-13</td>\n      <td>2022-06-13 오전 9:00:00</td>\n      <td>2022-06-13 오전 10:00:00</td>\n      <td>...</td>\n      <td>NaN</td>\n      <td>NaN</td>\n      <td>N</td>\n      <td>N</td>\n      <td>200101020028</td>\n      <td>2022-07-04 오전 8:10:34</td>\n      <td>냉각탑 #01</td>\n      <td>2019-10-01 오전 10:24:12</td>\n      <td>1</td>\n      <td>냉각탑</td>\n    </tr>\n    <tr>\n      <th>4605</th>\n      <td>13966</td>\n      <td>SEJO</td>\n      <td>220620-00020</td>\n      <td>3</td>\n      <td>13-1동 냉각탑 1,2호기 내부수조 청소 및 수처리제 3통 투입</td>\n      <td>4</td>\n      <td>2022-06-20</td>\n      <td>2022-06-20</td>\n      <td>2022-06-20 오전 9:30:00</td>\n      <td>2022-06-20 오전 10:30:00</td>\n      <td>...</td>\n      <td>NaN</td>\n      <td>NaN</td>\n      <td>N</td>\n      <td>N</td>\n      <td>200101020028</td>\n      <td>2022-07-04 오전 8:13:01</td>\n      <td>냉각탑 #01</td>\n      <td>2019-10-01 오전 10:24:12</td>\n      <td>1</td>\n      <td>냉각탑</td>\n    </tr>\n    <tr>\n      <th>4760</th>\n      <td>14442</td>\n      <td>SEJO</td>\n      <td>220627-00040</td>\n      <td>3</td>\n      <td>13동 옥상 냉각탑 1호기 수처리제 워터가드 1KG 3통 투입</td>\n      <td>4</td>\n      <td>2022-06-27</td>\n      <td>2022-06-27</td>\n      <td>2022-06-27 오전 9:30:00</td>\n      <td>2022-06-27 오전 10:30:00</td>\n      <td>...</td>\n      <td>NaN</td>\n      <td>NaN</td>\n      <td>N</td>\n      <td>N</td>\n      <td>200101020028</td>\n      <td>2022-07-04 오전 8:14:50</td>\n      <td>냉각탑 #01</td>\n      <td>2019-10-01 오전 10:24:12</td>\n      <td>1</td>\n      <td>냉각탑</td>\n    </tr>\n    <tr>\n      <th>4887</th>\n      <td>14865</td>\n      <td>SEJO</td>\n      <td>220704-00039</td>\n      <td>3</td>\n      <td>13동 옥상 냉각탑 1,2호기 수처리제 워터가드 1KG 6통 투입</td>\n      <td>4</td>\n      <td>2022-07-04</td>\n      <td>2022-07-04</td>\n      <td>2022-07-04 오전 9:30:00</td>\n      <td>2022-07-04 오전 10:30:00</td>\n      <td>...</td>\n      <td>NaN</td>\n      <td>NaN</td>\n      <td>N</td>\n      <td>N</td>\n      <td>200101020028</td>\n      <td>2022-07-15 오후 1:16:30</td>\n      <td>냉각탑 #01</td>\n      <td>2019-10-01 오전 10:24:12</td>\n      <td>1</td>\n      <td>냉각탑</td>\n    </tr>\n    <tr>\n      <th>5043</th>\n      <td>15322</td>\n      <td>SEJO</td>\n      <td>220711-00025</td>\n      <td>3</td>\n      <td>13-1동 6층 냉각탑 1,2호기 냉각수처리제 투입</td>\n      <td>4</td>\n      <td>2022-07-11</td>\n      <td>2022-07-11</td>\n      <td>2022-07-11 오전 9:00:00</td>\n      <td>2022-07-11 오전 9:30:00</td>\n      <td>...</td>\n      <td>NaN</td>\n      <td>NaN</td>\n      <td>N</td>\n      <td>N</td>\n      <td>200101020028</td>\n      <td>2022-07-27 오전 9:14:46</td>\n      <td>냉각탑 #01</td>\n      <td>2019-10-01 오전 10:24:12</td>\n      <td>1</td>\n      <td>냉각탑</td>\n    </tr>\n    <tr>\n      <th>5165</th>\n      <td>15752</td>\n      <td>SEJO</td>\n      <td>220718-00017</td>\n      <td>3</td>\n      <td>13-1동 냉각탑 1,2호기 내부수조 청소 및 수처리제 6통 투입</td>\n      <td>4</td>\n      <td>2022-07-18</td>\n      <td>2022-07-18</td>\n      <td>2022-07-18 오전 9:10:00</td>\n      <td>2022-07-18 오전 10:00:00</td>\n      <td>...</td>\n      <td>NaN</td>\n      <td>NaN</td>\n      <td>N</td>\n      <td>N</td>\n      <td>200101020028</td>\n      <td>2022-07-27 오전 9:15:29</td>\n      <td>냉각탑 #01</td>\n      <td>2019-10-01 오전 10:24:12</td>\n      <td>1</td>\n      <td>냉각탑</td>\n    </tr>\n    <tr>\n      <th>5288</th>\n      <td>16187</td>\n      <td>SEJO</td>\n      <td>220725-00031</td>\n      <td>3</td>\n      <td>13동 옥상 냉각탑 1,2호기 수처리제 워터가드 1KG 6통 투입</td>\n      <td>4</td>\n      <td>2022-07-25</td>\n      <td>2022-07-25</td>\n      <td>2022-07-25 오전 9:30:00</td>\n      <td>2022-07-25 오전 10:30:00</td>\n      <td>...</td>\n      <td>NaN</td>\n      <td>NaN</td>\n      <td>N</td>\n      <td>N</td>\n      <td>200101020028</td>\n      <td>2022-08-04 오전 10:09:12</td>\n      <td>냉각탑 #01</td>\n      <td>2019-10-01 오전 10:24:12</td>\n      <td>1</td>\n      <td>냉각탑</td>\n    </tr>\n    <tr>\n      <th>5389</th>\n      <td>16577</td>\n      <td>SEJO</td>\n      <td>220801-00038</td>\n      <td>3</td>\n      <td>13동 옥상 냉각탑 1,2호기 수처리제 워터가드 1KG 6통 투입</td>\n      <td>4</td>\n      <td>2022-08-01</td>\n      <td>2022-08-01</td>\n      <td>2022-08-01 오전 9:30:00</td>\n      <td>2022-08-01 오전 10:30:00</td>\n      <td>...</td>\n      <td>NaN</td>\n      <td>NaN</td>\n      <td>N</td>\n      <td>N</td>\n      <td>200101020028</td>\n      <td>2022-08-24 오전 11:02:54</td>\n      <td>냉각탑 #01</td>\n      <td>2019-10-01 오전 10:24:12</td>\n      <td>1</td>\n      <td>냉각탑</td>\n    </tr>\n    <tr>\n      <th>5542</th>\n      <td>17024</td>\n      <td>SEJO</td>\n      <td>220808-00013</td>\n      <td>3</td>\n      <td>13-1동 6층 냉각탑 1,2호기 냉각수처리제 투입</td>\n      <td>4</td>\n      <td>2022-08-08</td>\n      <td>2022-08-08</td>\n      <td>2022-08-08 오전 9:00:00</td>\n      <td>2022-08-08 오전 10:00:00</td>\n      <td>...</td>\n      <td>NaN</td>\n      <td>NaN</td>\n      <td>N</td>\n      <td>N</td>\n      <td>200101020028</td>\n      <td>2022-08-24 오전 11:05:02</td>\n      <td>냉각탑 #01</td>\n      <td>2019-10-01 오전 10:24:12</td>\n      <td>1</td>\n      <td>냉각탑</td>\n    </tr>\n    <tr>\n      <th>5704</th>\n      <td>17520</td>\n      <td>SEJO</td>\n      <td>220816-00017</td>\n      <td>3</td>\n      <td>13-1동 냉각탑 1,2호기 냉각수처리제 투입</td>\n      <td>4</td>\n      <td>2022-08-16</td>\n      <td>2022-08-16</td>\n      <td>2022-08-16 오전 9:00:00</td>\n      <td>2022-08-16 오전 10:00:00</td>\n      <td>...</td>\n      <td>NaN</td>\n      <td>NaN</td>\n      <td>N</td>\n      <td>N</td>\n      <td>200101020028</td>\n      <td>2022-08-16 오전 11:00:00</td>\n      <td>냉각탑 #01</td>\n      <td>2019-10-01 오전 10:24:12</td>\n      <td>1</td>\n      <td>냉각탑</td>\n    </tr>\n    <tr>\n      <th>5812</th>\n      <td>17865</td>\n      <td>SEJO</td>\n      <td>220822-00035</td>\n      <td>3</td>\n      <td>13동 옥상 냉각탑 1,2호기 수처리제 워터가드 1KG 6통 투입</td>\n      <td>4</td>\n      <td>2022-08-22</td>\n      <td>2022-08-22</td>\n      <td>2022-08-22 오전 9:30:00</td>\n      <td>2022-08-22 오전 10:30:00</td>\n      <td>...</td>\n      <td>NaN</td>\n      <td>NaN</td>\n      <td>N</td>\n      <td>N</td>\n      <td>200101020028</td>\n      <td>2022-08-22 오후 3:23:24</td>\n      <td>냉각탑 #01</td>\n      <td>2019-10-01 오전 10:24:12</td>\n      <td>1</td>\n      <td>냉각탑</td>\n    </tr>\n    <tr>\n      <th>6079</th>\n      <td>18687</td>\n      <td>SEJO</td>\n      <td>220902-00025</td>\n      <td>3</td>\n      <td>13-1동 6층 옥상 냉각탑 1,2호기 수처리제 투입</td>\n      <td>4</td>\n      <td>2022-09-02</td>\n      <td>2022-09-02</td>\n      <td>2022-09-02 오전 9:30:00</td>\n      <td>2022-09-02 오전 10:30:00</td>\n      <td>...</td>\n      <td>NaN</td>\n      <td>NaN</td>\n      <td>N</td>\n      <td>N</td>\n      <td>200101020028</td>\n      <td>2022-09-02 오후 1:51:58</td>\n      <td>냉각탑 #01</td>\n      <td>2019-10-01 오전 10:24:12</td>\n      <td>1</td>\n      <td>냉각탑</td>\n    </tr>\n    <tr>\n      <th>6096</th>\n      <td>18777</td>\n      <td>SEJO</td>\n      <td>220905-00005</td>\n      <td>3</td>\n      <td>13-1동 6층 냉각탑 1,2호기 냉각수처리제 투입</td>\n      <td>4</td>\n      <td>2022-09-05</td>\n      <td>2022-09-05</td>\n      <td>2022-09-05 오전 9:00:00</td>\n      <td>2022-09-05 오전 9:30:00</td>\n      <td>...</td>\n      <td>NaN</td>\n      <td>NaN</td>\n      <td>N</td>\n      <td>N</td>\n      <td>200101020028</td>\n      <td>2022-09-05 오전 9:37:33</td>\n      <td>냉각탑 #01</td>\n      <td>2019-10-01 오전 10:24:12</td>\n      <td>1</td>\n      <td>냉각탑</td>\n    </tr>\n    <tr>\n      <th>6098</th>\n      <td>18779</td>\n      <td>SEJO</td>\n      <td>220905-00063</td>\n      <td>3</td>\n      <td>13-1동 6층 냉각탑 1,2호기 수질검사</td>\n      <td>4</td>\n      <td>2022-09-05</td>\n      <td>2022-09-05</td>\n      <td>2022-09-05 오후 1:30:00</td>\n      <td>2022-09-05 오후 2:30:00</td>\n      <td>...</td>\n      <td>NaN</td>\n      <td>NaN</td>\n      <td>N</td>\n      <td>N</td>\n      <td>200101020028</td>\n      <td>2022-09-05 오후 5:25:44</td>\n      <td>냉각탑 #01</td>\n      <td>2019-10-01 오전 10:24:12</td>\n      <td>1</td>\n      <td>냉각탑</td>\n    </tr>\n    <tr>\n      <th>6244</th>\n      <td>19164</td>\n      <td>SEJO</td>\n      <td>220913-00023</td>\n      <td>3</td>\n      <td>13-1동 6층 냉각탑 냉각수처리제 투입</td>\n      <td>4</td>\n      <td>2022-09-13</td>\n      <td>2022-09-13</td>\n      <td>2022-09-13 오전 9:00:00</td>\n      <td>2022-09-13 오전 9:30:00</td>\n      <td>...</td>\n      <td>NaN</td>\n      <td>NaN</td>\n      <td>N</td>\n      <td>N</td>\n      <td>200101020028</td>\n      <td>2022-09-13 오전 10:58:04</td>\n      <td>냉각탑 #01</td>\n      <td>2019-10-01 오전 10:24:12</td>\n      <td>1</td>\n      <td>냉각탑</td>\n    </tr>\n    <tr>\n      <th>6393</th>\n      <td>19525</td>\n      <td>SEJO</td>\n      <td>220919-00031</td>\n      <td>3</td>\n      <td>13-1동 6층 옥상 냉각탑 1,2호기 수처리제 투입</td>\n      <td>4</td>\n      <td>2022-09-19</td>\n      <td>2022-09-19</td>\n      <td>2022-09-19 오전 9:30:00</td>\n      <td>2022-09-19 오전 10:30:00</td>\n      <td>...</td>\n      <td>NaN</td>\n      <td>NaN</td>\n      <td>N</td>\n      <td>N</td>\n      <td>200101020028</td>\n      <td>2022-09-19 오후 1:26:26</td>\n      <td>냉각탑 #01</td>\n      <td>2019-10-01 오전 10:24:12</td>\n      <td>1</td>\n      <td>냉각탑</td>\n    </tr>\n    <tr>\n      <th>6559</th>\n      <td>19967</td>\n      <td>SEJO</td>\n      <td>220926-00027</td>\n      <td>3</td>\n      <td>13-1동 냉각탑 1,2호기 냉각수처리제 6통 투입</td>\n      <td>4</td>\n      <td>2022-09-26</td>\n      <td>2022-09-26</td>\n      <td>2022-09-26 오전 9:30:00</td>\n      <td>2022-09-26 오전 10:30:00</td>\n      <td>...</td>\n      <td>NaN</td>\n      <td>NaN</td>\n      <td>N</td>\n      <td>N</td>\n      <td>200101020028</td>\n      <td>2022-09-26 오후 2:22:58</td>\n      <td>냉각탑 #01</td>\n      <td>2019-10-01 오전 10:24:12</td>\n      <td>1</td>\n      <td>냉각탑</td>\n    </tr>\n    <tr>\n      <th>6709</th>\n      <td>20395</td>\n      <td>SEJO</td>\n      <td>221004-00081</td>\n      <td>3</td>\n      <td>13-1동 냉각탑 1,2호기 냉각수처리제 6통 투입</td>\n      <td>4</td>\n      <td>2022-10-04</td>\n      <td>2022-10-04</td>\n      <td>2022-10-04 오전 9:30:00</td>\n      <td>2022-10-04 오전 10:30:00</td>\n      <td>...</td>\n      <td>NaN</td>\n      <td>NaN</td>\n      <td>N</td>\n      <td>N</td>\n      <td>200101020028</td>\n      <td>2022-10-04 오후 3:47:41</td>\n      <td>냉각탑 #01</td>\n      <td>2019-10-01 오전 10:24:12</td>\n      <td>1</td>\n      <td>냉각탑</td>\n    </tr>\n  </tbody>\n</table>\n<p>24 rows × 68 columns</p>\n</div>"
     },
     "execution_count": 53,
     "metadata": {},
     "output_type": "execute_result"
    }
   ],
   "source": [
    "# 냉각탑1 13동 6층 옥상\n",
    "equip_work2[equip_work2['fac_cd'] == 200101020028]"
   ],
   "metadata": {
    "collapsed": false
   }
  },
  {
   "cell_type": "markdown",
   "source": [
    "## 관련이 있을거 같은 컬럼 찾기\n",
    "* 'A'컬럼에 데이터가 입력이 되어 있으면 'B'컬럼에도 데이터 입력이 되어있을것 > Null값 개수 같을 것\n",
    "  >>(job_ilbo,job_fac_his) / (chg_sysdt,chg_emp_no)"
   ],
   "metadata": {
    "collapsed": false
   }
  },
  {
   "cell_type": "code",
   "execution_count": 54,
   "outputs": [
    {
     "name": "stdout",
     "output_type": "stream",
     "text": [
      "comp_cd  :  0\n",
      "job_cd  :  0\n",
      "job_tpy  :  0\n",
      "job_nm  :  0\n",
      "job_stat  :  0\n",
      "job_jisi_dt  :  0\n",
      "job_enddt  :  7\n",
      "job_shm  :  1\n",
      "job_ehm  :  7\n",
      "job_cause  :  19036\n",
      "job_cont  :  1503\n",
      "job_ilbo  :  1288\n",
      "job_kpi  :  7\n",
      "job_fac_his  :  1288\n",
      "job_mng  :  19060\n",
      "day_night_ind  :  7\n",
      "dept_cd  :  0\n",
      "class_cd  :  7\n",
      "sjob_cd  :  17294\n",
      "vend_nm  :  18876\n",
      "vend_amt  :  19038\n",
      "as_req_man  :  12557\n",
      "as_req_tel  :  12006\n",
      "as_req_dt  :  2329\n",
      "as_jubsu  :  2331\n",
      "input_sysdt  :  0\n",
      "chg_sysdt  :  4821\n",
      "input_emp_no  :  0\n",
      "chg_emp_no  :  4821\n",
      "input_scr_nm  :  0\n",
      "msg_yn  :  0\n",
      "as_req_cont  :  2629\n",
      "as_req_comp  :  11864\n",
      "as_happycall_dt  :  19060\n",
      "as_happycall_man  :  19060\n",
      "as_happycall_res1  :  18516\n",
      "as_happycall_res2  :  18516\n",
      "as_happycall_score  :  19060\n",
      "as_jungyo  :  0\n",
      "as_submit  :  14581\n",
      "as_reg_h  :  11656\n",
      "as_reg_d  :  10526\n",
      "gyuljae_no1  :  9130\n",
      "gyuljae_no2  :  19060\n",
      "gyuljae_no3  :  19060\n",
      "gyuljae_no4  :  19060\n",
      "gyuljae_no5  :  19060\n",
      "gyuljae_yn  :  0\n",
      "edit_yn  :  0\n",
      "job_doc_yn  :  0\n",
      "sjob_jisi_dt  :  17294\n",
      "work_time  :  19060\n",
      "bosu_gyuljae_yn  :  0\n",
      "emc_yn  :  0\n",
      "const_cd  :  19060\n",
      "as_class_lv1  :  11811\n",
      "as_class_lv2  :  10673\n",
      "common_wrk  :  19060\n",
      "emc_id  :  19059\n",
      "copor_yn  :  94\n",
      "kukmin_yn  :  1255\n",
      "time  :  7\n"
     ]
    }
   ],
   "source": [
    "col_list = fmsa10.columns\n",
    "for i in col_list:\n",
    "    print(i, ' : ', fmsa10[i].isnull().sum())"
   ],
   "metadata": {
    "collapsed": false
   }
  }
 ],
 "metadata": {
  "kernelspec": {
   "display_name": "Python 3",
   "language": "python",
   "name": "python3"
  },
  "language_info": {
   "codemirror_mode": {
    "name": "ipython",
    "version": 2
   },
   "file_extension": ".py",
   "mimetype": "text/x-python",
   "name": "python",
   "nbconvert_exporter": "python",
   "pygments_lexer": "ipython2",
   "version": "2.7.6"
  }
 },
 "nbformat": 4,
 "nbformat_minor": 0
}

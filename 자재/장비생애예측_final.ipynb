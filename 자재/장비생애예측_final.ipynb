{
 "cells": [
  {
   "cell_type": "code",
   "execution_count": 126,
   "metadata": {
    "collapsed": true
   },
   "outputs": [
    {
     "data": {
      "text/plain": "'/Users/keumhyeonjun/Projects/행안부/자재/GFMS DB/'"
     },
     "execution_count": 126,
     "metadata": {},
     "output_type": "execute_result"
    }
   ],
   "source": [
    "import pandas as pd\n",
    "from pathlib import Path\n",
    "import datetime\n",
    "\n",
    "path = Path.cwd()\n",
    "path = str(path)+'/GFMS DB/'\n",
    "path"
   ]
  },
  {
   "cell_type": "markdown",
   "source": [
    "# 데이터 불러오기"
   ],
   "metadata": {
    "collapsed": false
   }
  },
  {
   "cell_type": "code",
   "execution_count": 127,
   "outputs": [
    {
     "name": "stderr",
     "output_type": "stream",
     "text": [
      "/var/folders/nd/cl2nzwh13zx7jdly2t5m95340000gn/T/ipykernel_28133/3766325795.py:1: DtypeWarning: Columns (59) have mixed types. Specify dtype option on import or set low_memory=False.\n",
      "  FMSA10_작업지시_결과 = pd.read_csv(path+'FMSA10_작업지시_결과_ver2.csv')\n",
      "/var/folders/nd/cl2nzwh13zx7jdly2t5m95340000gn/T/ipykernel_28133/3766325795.py:51: SettingWithCopyWarning: \n",
      "A value is trying to be set on a copy of a slice from a DataFrame.\n",
      "Try using .loc[row_indexer,col_indexer] = value instead\n",
      "\n",
      "See the caveats in the documentation: https://pandas.pydata.org/pandas-docs/stable/user_guide/indexing.html#returning-a-view-versus-a-copy\n",
      "  fmsb03[\"mat_cd\"] = fmsb03[\"mat_cd\"].astype(\"str\")\n"
     ]
    }
   ],
   "source": [
    "FMSA10_작업지시_결과 = pd.read_csv(path+'FMSA10_작업지시_결과_ver2.csv')\n",
    "\n",
    "FMSA11_작업장비이력 = pd.read_excel(path + 'FMSA11_작업장비이력.xlsx')\n",
    "\n",
    "FMSX05_장비마스터 = pd.read_csv(path + 'FMSX05_장비마스터_ver2.csv')\n",
    "\n",
    "FMSB07_자재출고 = pd.read_excel(path + 'FMSB07_자재출고.xlsx')\n",
    "\n",
    "FMSB03_자재마스터 = pd.read_csv(path + 'FMSB03_자재마스터_ver2.csv')\n",
    "\n",
    "FMSB03_자재마스터.drop(['class_nm_4','class_cd_4'],axis =1,inplace = True)\n",
    "\n",
    "FMSB03_자재마스터.rename(columns={'class_nm_3':'jajae_class_nm_3'},inplace = True)\n",
    "FMSB03_자재마스터.rename(columns={'class_nm_2':'jajae_class_nm_2'},inplace = True)\n",
    "FMSB03_자재마스터.rename(columns={'class_nm_1':'jajae_class_nm_1'},inplace = True)\n",
    "\n",
    "FMSB03_자재마스터.rename(columns={'class_cd_3':'jajae_class_cd_3'},inplace = True)\n",
    "FMSB03_자재마스터.rename(columns={'class_cd_2':'jajae_class_cd_2'},inplace = True)\n",
    "FMSB03_자재마스터.rename(columns={'class_cd_1':'jajae_class_cd_1'},inplace = True)\n",
    "\n",
    "\n",
    "FMSX05_장비마스터.rename(columns={'class_nm_4':'jangbi_class_nm_4'},inplace = True)\n",
    "FMSX05_장비마스터.rename(columns={'class_nm_3':'jangbi_class_nm_3'},inplace = True)\n",
    "FMSX05_장비마스터.rename(columns={'class_nm_2':'jangbi_class_nm_2'},inplace = True)\n",
    "FMSX05_장비마스터.rename(columns={'class_nm_1':'jangbi_class_nm_1'},inplace = True)\n",
    "\n",
    "\n",
    "FMSX05_장비마스터.rename(columns={'class_cd_4':'jangbi_class_cd_4'},inplace = True)\n",
    "FMSX05_장비마스터.rename(columns={'class_cd_3':'jangbi_class_cd_3'},inplace = True)\n",
    "FMSX05_장비마스터.rename(columns={'class_cd_2':'jangbi_class_cd_2'},inplace = True)\n",
    "FMSX05_장비마스터.rename(columns={'class_cd_1':'jangbi_class_cd_1'},inplace = True)\n",
    "\n",
    "FMSA10_작업지시_결과.rename(columns={'class_nm_4':'job_class_nm_4'},inplace = True)\n",
    "FMSA10_작업지시_결과.rename(columns={'class_nm_3':'job_class_nm_3'},inplace = True)\n",
    "FMSA10_작업지시_결과.rename(columns={'class_nm_2':'job_class_nm_2'},inplace = True)\n",
    "FMSA10_작업지시_결과.rename(columns={'class_nm_1':'job_class_nm_1'},inplace = True)\n",
    "\n",
    "\n",
    "FMSA10_작업지시_결과.rename(columns={'class_cd_4':'job_class_cd_4'},inplace = True)\n",
    "FMSA10_작업지시_결과.rename(columns={'class_cd_3':'job_class_cd_3'},inplace = True)\n",
    "FMSA10_작업지시_결과.rename(columns={'class_cd_2':'job_class_cd_2'},inplace = True)\n",
    "FMSA10_작업지시_결과.rename(columns={'class_cd_1':'job_class_cd_1'},inplace = True)\n",
    "\n",
    "fmsa10 =FMSA10_작업지시_결과[['job_cd','job_nm','job_jisi_dt','job_enddt','job_shm','job_ehm','job_class_nm_1','job_class_nm_2','job_class_nm_3','job_class_nm_4']]\n",
    "fmsb03 = FMSB03_자재마스터[['mat_cd','mat_nm','jajae_class_nm_1','jajae_class_nm_2','jajae_class_nm_3','jajae_class_cd_3']]\n",
    "fmsx05 = FMSX05_장비마스터[['fac_cd','fac_nm','jangbi_class_nm_1','jangbi_class_nm_2','jangbi_class_nm_3','jangbi_class_nm_4','fac_instdt']]\n",
    "\n",
    "\n",
    "FMSB07_자재출고[\"mat_cd\"] = FMSB07_자재출고[\"mat_cd\"].astype(\"str\")\n",
    "FMSB07_자재출고[\"mat_cd\"] = list(map(lambda x: x[:-3],FMSB07_자재출고[\"mat_cd\"].tolist())) # FMSB03과 inner join하기 위해 mat_cd 형식 일치\n",
    "fmsb03[\"mat_cd\"] = fmsb03[\"mat_cd\"].astype(\"str\")\n",
    "jajae = pd.merge(FMSB07_자재출고,fmsb03 ,on = 'mat_cd', how = 'inner')\n",
    "jajae = jajae[['job_cd','outw_day','mat_cd','outw_qty','mat_nm_x','jajae_class_nm_1','jajae_class_nm_2','jajae_class_nm_3','jajae_class_cd_3']]\n",
    "\n",
    "\n",
    "jangbi = pd.merge(FMSA11_작업장비이력, fmsx05, how='inner', on='fac_cd')\n",
    "jangbi_broken = pd.merge(fmsa10,jangbi, on='job_cd',how = 'inner')\n",
    "\n",
    "jangbi_broken.drop(['job_cont','chg_sysdt','chg_emp_no'],axis=1,inplace=True)\n",
    "jangbi_broken = jangbi_broken.dropna()\n",
    "\n",
    "jangbi_broken['자재매칭여부'] = jangbi_broken['job_cd']\n",
    "arr_장비 = list(jangbi_broken['job_cd'])\n",
    "arr_자재 = list(jajae['job_cd'])\n",
    "#자재 매칭이 안되는 경우\n",
    "arr = list(set(arr_장비)- set(arr_자재))\n",
    "\n",
    "def function(x):\n",
    "    if x in arr:\n",
    "        return 0\n",
    "    else:\n",
    "         return 1\n",
    "\n",
    "jangbi_broken['자재매칭여부'] = jangbi_broken['자재매칭여부'].apply(function)\n",
    "df = pd.merge(jangbi_broken,jajae, on='job_cd',how = 'inner')\n",
    "\n",
    "final = df[['job_cd','job_nm','job_jisi_dt','job_enddt','job_shm','job_ehm','job_class_nm_1','job_class_nm_2','job_class_nm_3','job_class_nm_4','fac_cd','fac_nm','fac_instdt','mat_cd','mat_nm_x',\n",
    "           'jangbi_class_nm_1','jangbi_class_nm_2','jangbi_class_nm_3','jangbi_class_nm_4','자재매칭여부','mat_nm_x','jajae_class_nm_1','jajae_class_nm_2','jajae_class_nm_3','jajae_class_cd_3']]"
   ],
   "metadata": {
    "collapsed": false
   }
  },
  {
   "cell_type": "code",
   "execution_count": 128,
   "outputs": [
    {
     "data": {
      "text/plain": "            job_cd                      job_nm job_jisi_dt   job_enddt  \\\n3985  220506-00021           16동 흡수식 냉동기 세관 작업  2022-05-06  2022-05-06   \n4006  220509-00008           16동 흡수식 냉동기 세관 작업  2022-05-09  2022-05-09   \n4102  220513-00042             16동 냉동기 시운전 보고서  2022-05-13  2022-05-13   \n5582  220809-00058  16동 지하2층 기계실 흡수식냉동기#1 추기작업  2022-08-09  2022-08-09   \n3986  220506-00021           16동 흡수식 냉동기 세관 작업  2022-05-06  2022-05-06   \n\n                    job_shm                job_ehm job_class_nm_1  \\\n3985  2022-05-06 오전 9:00:00  2022-05-06 오후 3:00:00            16동   \n4006  2022-05-09 오전 9:00:00  2022-05-09 오전 9:30:00            16동   \n4102  2022-05-13 오후 1:00:00  2022-05-13 오후 3:00:00            16동   \n5582  2022-08-09 오후 3:00:00  2022-08-09 오후 4:00:00            16동   \n3986  2022-05-06 오전 9:00:00  2022-05-06 오후 3:00:00            16동   \n\n     job_class_nm_2 job_class_nm_3 job_class_nm_4  ...     fac_nm  \\\n3985           지하2층           열원설비            냉동기  ...   흡수식냉동기#1   \n4006           지하2층           열원설비            냉동기  ...   흡수식냉동기#1   \n4102           지하2층           열원설비            냉동기  ...   흡수식냉동기#1   \n5582           지하2층           열원설비            냉동기  ...   흡수식냉동기#1   \n3986           지하2층           열원설비            냉동기  ...  흡수식냉동기#2    \n\n      jangbi_class_nm_1 jangbi_class_nm_2 jangbi_class_nm_3 jangbi_class_nm_4  \\\n3985                 기계            공기조화설비              열원설비               냉동기   \n4006                 기계            공기조화설비              열원설비               냉동기   \n4102                 기계            공기조화설비              열원설비               냉동기   \n5582                 기계            공기조화설비              열원설비               냉동기   \n3986                 기계            공기조화설비              열원설비               냉동기   \n\n     fac_instdt 자재매칭여부       기준일자 설치-작업간격 작업-작업간격  \n3985 2019-09-03      0 2022-10-11     976       0  \n4006 2019-09-03      1 2022-10-11     979       0  \n4102 2019-09-03      0 2022-10-11     983       0  \n5582 2019-09-03      0 2022-10-11    1071       0  \n3986 2014-02-01      0 2022-10-11    3016       0  \n\n[5 rows x 25 columns]",
      "text/html": "<div>\n<style scoped>\n    .dataframe tbody tr th:only-of-type {\n        vertical-align: middle;\n    }\n\n    .dataframe tbody tr th {\n        vertical-align: top;\n    }\n\n    .dataframe thead th {\n        text-align: right;\n    }\n</style>\n<table border=\"1\" class=\"dataframe\">\n  <thead>\n    <tr style=\"text-align: right;\">\n      <th></th>\n      <th>job_cd</th>\n      <th>job_nm</th>\n      <th>job_jisi_dt</th>\n      <th>job_enddt</th>\n      <th>job_shm</th>\n      <th>job_ehm</th>\n      <th>job_class_nm_1</th>\n      <th>job_class_nm_2</th>\n      <th>job_class_nm_3</th>\n      <th>job_class_nm_4</th>\n      <th>...</th>\n      <th>fac_nm</th>\n      <th>jangbi_class_nm_1</th>\n      <th>jangbi_class_nm_2</th>\n      <th>jangbi_class_nm_3</th>\n      <th>jangbi_class_nm_4</th>\n      <th>fac_instdt</th>\n      <th>자재매칭여부</th>\n      <th>기준일자</th>\n      <th>설치-작업간격</th>\n      <th>작업-작업간격</th>\n    </tr>\n  </thead>\n  <tbody>\n    <tr>\n      <th>3985</th>\n      <td>220506-00021</td>\n      <td>16동 흡수식 냉동기 세관 작업</td>\n      <td>2022-05-06</td>\n      <td>2022-05-06</td>\n      <td>2022-05-06 오전 9:00:00</td>\n      <td>2022-05-06 오후 3:00:00</td>\n      <td>16동</td>\n      <td>지하2층</td>\n      <td>열원설비</td>\n      <td>냉동기</td>\n      <td>...</td>\n      <td>흡수식냉동기#1</td>\n      <td>기계</td>\n      <td>공기조화설비</td>\n      <td>열원설비</td>\n      <td>냉동기</td>\n      <td>2019-09-03</td>\n      <td>0</td>\n      <td>2022-10-11</td>\n      <td>976</td>\n      <td>0</td>\n    </tr>\n    <tr>\n      <th>4006</th>\n      <td>220509-00008</td>\n      <td>16동 흡수식 냉동기 세관 작업</td>\n      <td>2022-05-09</td>\n      <td>2022-05-09</td>\n      <td>2022-05-09 오전 9:00:00</td>\n      <td>2022-05-09 오전 9:30:00</td>\n      <td>16동</td>\n      <td>지하2층</td>\n      <td>열원설비</td>\n      <td>냉동기</td>\n      <td>...</td>\n      <td>흡수식냉동기#1</td>\n      <td>기계</td>\n      <td>공기조화설비</td>\n      <td>열원설비</td>\n      <td>냉동기</td>\n      <td>2019-09-03</td>\n      <td>1</td>\n      <td>2022-10-11</td>\n      <td>979</td>\n      <td>0</td>\n    </tr>\n    <tr>\n      <th>4102</th>\n      <td>220513-00042</td>\n      <td>16동 냉동기 시운전 보고서</td>\n      <td>2022-05-13</td>\n      <td>2022-05-13</td>\n      <td>2022-05-13 오후 1:00:00</td>\n      <td>2022-05-13 오후 3:00:00</td>\n      <td>16동</td>\n      <td>지하2층</td>\n      <td>열원설비</td>\n      <td>냉동기</td>\n      <td>...</td>\n      <td>흡수식냉동기#1</td>\n      <td>기계</td>\n      <td>공기조화설비</td>\n      <td>열원설비</td>\n      <td>냉동기</td>\n      <td>2019-09-03</td>\n      <td>0</td>\n      <td>2022-10-11</td>\n      <td>983</td>\n      <td>0</td>\n    </tr>\n    <tr>\n      <th>5582</th>\n      <td>220809-00058</td>\n      <td>16동 지하2층 기계실 흡수식냉동기#1 추기작업</td>\n      <td>2022-08-09</td>\n      <td>2022-08-09</td>\n      <td>2022-08-09 오후 3:00:00</td>\n      <td>2022-08-09 오후 4:00:00</td>\n      <td>16동</td>\n      <td>지하2층</td>\n      <td>열원설비</td>\n      <td>냉동기</td>\n      <td>...</td>\n      <td>흡수식냉동기#1</td>\n      <td>기계</td>\n      <td>공기조화설비</td>\n      <td>열원설비</td>\n      <td>냉동기</td>\n      <td>2019-09-03</td>\n      <td>0</td>\n      <td>2022-10-11</td>\n      <td>1071</td>\n      <td>0</td>\n    </tr>\n    <tr>\n      <th>3986</th>\n      <td>220506-00021</td>\n      <td>16동 흡수식 냉동기 세관 작업</td>\n      <td>2022-05-06</td>\n      <td>2022-05-06</td>\n      <td>2022-05-06 오전 9:00:00</td>\n      <td>2022-05-06 오후 3:00:00</td>\n      <td>16동</td>\n      <td>지하2층</td>\n      <td>열원설비</td>\n      <td>냉동기</td>\n      <td>...</td>\n      <td>흡수식냉동기#2</td>\n      <td>기계</td>\n      <td>공기조화설비</td>\n      <td>열원설비</td>\n      <td>냉동기</td>\n      <td>2014-02-01</td>\n      <td>0</td>\n      <td>2022-10-11</td>\n      <td>3016</td>\n      <td>0</td>\n    </tr>\n  </tbody>\n</table>\n<p>5 rows × 25 columns</p>\n</div>"
     },
     "execution_count": 128,
     "metadata": {},
     "output_type": "execute_result"
    }
   ],
   "source": [
    "jangbi_broken\n",
    "\n",
    "jangbi_broken = jangbi_broken.sort_values('job_jisi_dt')\n",
    "\n",
    "\n",
    "jangbi_broken['기준일자'] = '2022-10-11'\n",
    "\n",
    "jangbi_broken['기준일자'] = pd.to_datetime(jangbi_broken['기준일자'])\n",
    "jangbi_broken['fac_instdt'] = pd.to_datetime(jangbi_broken['fac_instdt'])\n",
    "jangbi_broken['job_jisi_dt'] = pd.to_datetime(jangbi_broken['job_jisi_dt'])\n",
    "\n",
    "\n",
    "jangbi_broken['설치-작업간격'] = jangbi_broken['job_jisi_dt'] - jangbi_broken['fac_instdt']\n",
    "\n",
    "def slicing(x):\n",
    "    return x[:-4]\n",
    "jangbi_broken['설치-작업간격'] = jangbi_broken['설치-작업간격'].astype(str)\n",
    "jangbi_broken['설치-작업간격'] = jangbi_broken['설치-작업간격'].apply(slicing)\n",
    "jangbi_broken['설치-작업간격'] = jangbi_broken['설치-작업간격'].astype(int)\n",
    "\n",
    "jangbi_broken['작업-작업간격'] = 0\n",
    "jangbi_broken = jangbi_broken.sort_values(['fac_cd','설치-작업간격'])\n",
    "jangbi_broken.head()"
   ],
   "metadata": {
    "collapsed": false
   }
  },
  {
   "cell_type": "code",
   "execution_count": 129,
   "outputs": [
    {
     "name": "stderr",
     "output_type": "stream",
     "text": [
      "/var/folders/nd/cl2nzwh13zx7jdly2t5m95340000gn/T/ipykernel_28133/3332997703.py:3: SettingWithCopyWarning: \n",
      "A value is trying to be set on a copy of a slice from a DataFrame\n",
      "\n",
      "See the caveats in the documentation: https://pandas.pydata.org/pandas-docs/stable/user_guide/indexing.html#returning-a-view-versus-a-copy\n",
      "  jangbi_broken['작업-작업간격'].iloc[i] = jangbi_broken['설치-작업간격'].iloc[i]\n",
      "/var/folders/nd/cl2nzwh13zx7jdly2t5m95340000gn/T/ipykernel_28133/3332997703.py:8: SettingWithCopyWarning: \n",
      "A value is trying to be set on a copy of a slice from a DataFrame\n",
      "\n",
      "See the caveats in the documentation: https://pandas.pydata.org/pandas-docs/stable/user_guide/indexing.html#returning-a-view-versus-a-copy\n",
      "  jangbi_broken['작업-작업간격'].iloc[i] = jangbi_broken['설치-작업간격'].iloc[i] - jangbi_broken['설치-작업간격'].iloc[i-1]\n",
      "/var/folders/nd/cl2nzwh13zx7jdly2t5m95340000gn/T/ipykernel_28133/3332997703.py:10: SettingWithCopyWarning: \n",
      "A value is trying to be set on a copy of a slice from a DataFrame\n",
      "\n",
      "See the caveats in the documentation: https://pandas.pydata.org/pandas-docs/stable/user_guide/indexing.html#returning-a-view-versus-a-copy\n",
      "  jangbi_broken['작업-작업간격'].iloc[i] = jangbi_broken['설치-작업간격'].iloc[i]\n"
     ]
    },
    {
     "data": {
      "text/plain": "            job_cd                      job_nm job_jisi_dt   job_enddt  \\\n3985  220506-00021           16동 흡수식 냉동기 세관 작업  2022-05-06  2022-05-06   \n4006  220509-00008           16동 흡수식 냉동기 세관 작업  2022-05-09  2022-05-09   \n4102  220513-00042             16동 냉동기 시운전 보고서  2022-05-13  2022-05-13   \n5582  220809-00058  16동 지하2층 기계실 흡수식냉동기#1 추기작업  2022-08-09  2022-08-09   \n3986  220506-00021           16동 흡수식 냉동기 세관 작업  2022-05-06  2022-05-06   \n\n                    job_shm                job_ehm job_class_nm_1  \\\n3985  2022-05-06 오전 9:00:00  2022-05-06 오후 3:00:00            16동   \n4006  2022-05-09 오전 9:00:00  2022-05-09 오전 9:30:00            16동   \n4102  2022-05-13 오후 1:00:00  2022-05-13 오후 3:00:00            16동   \n5582  2022-08-09 오후 3:00:00  2022-08-09 오후 4:00:00            16동   \n3986  2022-05-06 오전 9:00:00  2022-05-06 오후 3:00:00            16동   \n\n     job_class_nm_2 job_class_nm_3 job_class_nm_4  ...     fac_nm  \\\n3985           지하2층           열원설비            냉동기  ...   흡수식냉동기#1   \n4006           지하2층           열원설비            냉동기  ...   흡수식냉동기#1   \n4102           지하2층           열원설비            냉동기  ...   흡수식냉동기#1   \n5582           지하2층           열원설비            냉동기  ...   흡수식냉동기#1   \n3986           지하2층           열원설비            냉동기  ...  흡수식냉동기#2    \n\n      jangbi_class_nm_1 jangbi_class_nm_2 jangbi_class_nm_3 jangbi_class_nm_4  \\\n3985                 기계            공기조화설비              열원설비               냉동기   \n4006                 기계            공기조화설비              열원설비               냉동기   \n4102                 기계            공기조화설비              열원설비               냉동기   \n5582                 기계            공기조화설비              열원설비               냉동기   \n3986                 기계            공기조화설비              열원설비               냉동기   \n\n     fac_instdt 자재매칭여부       기준일자 설치-작업간격 작업-작업간격  \n3985 2019-09-03      0 2022-10-11     976     976  \n4006 2019-09-03      1 2022-10-11     979       3  \n4102 2019-09-03      0 2022-10-11     983       4  \n5582 2019-09-03      0 2022-10-11    1071      88  \n3986 2014-02-01      0 2022-10-11    3016    3016  \n\n[5 rows x 25 columns]",
      "text/html": "<div>\n<style scoped>\n    .dataframe tbody tr th:only-of-type {\n        vertical-align: middle;\n    }\n\n    .dataframe tbody tr th {\n        vertical-align: top;\n    }\n\n    .dataframe thead th {\n        text-align: right;\n    }\n</style>\n<table border=\"1\" class=\"dataframe\">\n  <thead>\n    <tr style=\"text-align: right;\">\n      <th></th>\n      <th>job_cd</th>\n      <th>job_nm</th>\n      <th>job_jisi_dt</th>\n      <th>job_enddt</th>\n      <th>job_shm</th>\n      <th>job_ehm</th>\n      <th>job_class_nm_1</th>\n      <th>job_class_nm_2</th>\n      <th>job_class_nm_3</th>\n      <th>job_class_nm_4</th>\n      <th>...</th>\n      <th>fac_nm</th>\n      <th>jangbi_class_nm_1</th>\n      <th>jangbi_class_nm_2</th>\n      <th>jangbi_class_nm_3</th>\n      <th>jangbi_class_nm_4</th>\n      <th>fac_instdt</th>\n      <th>자재매칭여부</th>\n      <th>기준일자</th>\n      <th>설치-작업간격</th>\n      <th>작업-작업간격</th>\n    </tr>\n  </thead>\n  <tbody>\n    <tr>\n      <th>3985</th>\n      <td>220506-00021</td>\n      <td>16동 흡수식 냉동기 세관 작업</td>\n      <td>2022-05-06</td>\n      <td>2022-05-06</td>\n      <td>2022-05-06 오전 9:00:00</td>\n      <td>2022-05-06 오후 3:00:00</td>\n      <td>16동</td>\n      <td>지하2층</td>\n      <td>열원설비</td>\n      <td>냉동기</td>\n      <td>...</td>\n      <td>흡수식냉동기#1</td>\n      <td>기계</td>\n      <td>공기조화설비</td>\n      <td>열원설비</td>\n      <td>냉동기</td>\n      <td>2019-09-03</td>\n      <td>0</td>\n      <td>2022-10-11</td>\n      <td>976</td>\n      <td>976</td>\n    </tr>\n    <tr>\n      <th>4006</th>\n      <td>220509-00008</td>\n      <td>16동 흡수식 냉동기 세관 작업</td>\n      <td>2022-05-09</td>\n      <td>2022-05-09</td>\n      <td>2022-05-09 오전 9:00:00</td>\n      <td>2022-05-09 오전 9:30:00</td>\n      <td>16동</td>\n      <td>지하2층</td>\n      <td>열원설비</td>\n      <td>냉동기</td>\n      <td>...</td>\n      <td>흡수식냉동기#1</td>\n      <td>기계</td>\n      <td>공기조화설비</td>\n      <td>열원설비</td>\n      <td>냉동기</td>\n      <td>2019-09-03</td>\n      <td>1</td>\n      <td>2022-10-11</td>\n      <td>979</td>\n      <td>3</td>\n    </tr>\n    <tr>\n      <th>4102</th>\n      <td>220513-00042</td>\n      <td>16동 냉동기 시운전 보고서</td>\n      <td>2022-05-13</td>\n      <td>2022-05-13</td>\n      <td>2022-05-13 오후 1:00:00</td>\n      <td>2022-05-13 오후 3:00:00</td>\n      <td>16동</td>\n      <td>지하2층</td>\n      <td>열원설비</td>\n      <td>냉동기</td>\n      <td>...</td>\n      <td>흡수식냉동기#1</td>\n      <td>기계</td>\n      <td>공기조화설비</td>\n      <td>열원설비</td>\n      <td>냉동기</td>\n      <td>2019-09-03</td>\n      <td>0</td>\n      <td>2022-10-11</td>\n      <td>983</td>\n      <td>4</td>\n    </tr>\n    <tr>\n      <th>5582</th>\n      <td>220809-00058</td>\n      <td>16동 지하2층 기계실 흡수식냉동기#1 추기작업</td>\n      <td>2022-08-09</td>\n      <td>2022-08-09</td>\n      <td>2022-08-09 오후 3:00:00</td>\n      <td>2022-08-09 오후 4:00:00</td>\n      <td>16동</td>\n      <td>지하2층</td>\n      <td>열원설비</td>\n      <td>냉동기</td>\n      <td>...</td>\n      <td>흡수식냉동기#1</td>\n      <td>기계</td>\n      <td>공기조화설비</td>\n      <td>열원설비</td>\n      <td>냉동기</td>\n      <td>2019-09-03</td>\n      <td>0</td>\n      <td>2022-10-11</td>\n      <td>1071</td>\n      <td>88</td>\n    </tr>\n    <tr>\n      <th>3986</th>\n      <td>220506-00021</td>\n      <td>16동 흡수식 냉동기 세관 작업</td>\n      <td>2022-05-06</td>\n      <td>2022-05-06</td>\n      <td>2022-05-06 오전 9:00:00</td>\n      <td>2022-05-06 오후 3:00:00</td>\n      <td>16동</td>\n      <td>지하2층</td>\n      <td>열원설비</td>\n      <td>냉동기</td>\n      <td>...</td>\n      <td>흡수식냉동기#2</td>\n      <td>기계</td>\n      <td>공기조화설비</td>\n      <td>열원설비</td>\n      <td>냉동기</td>\n      <td>2014-02-01</td>\n      <td>0</td>\n      <td>2022-10-11</td>\n      <td>3016</td>\n      <td>3016</td>\n    </tr>\n  </tbody>\n</table>\n<p>5 rows × 25 columns</p>\n</div>"
     },
     "execution_count": 129,
     "metadata": {},
     "output_type": "execute_result"
    }
   ],
   "source": [
    "for i in range(len(jangbi_broken)):\n",
    "    if i == 0:\n",
    "        jangbi_broken['작업-작업간격'].iloc[i] = jangbi_broken['설치-작업간격'].iloc[i]\n",
    "    else :\n",
    "        now_data = jangbi_broken['fac_cd'].iloc[i]\n",
    "        past_data = jangbi_broken['fac_cd'].iloc[i-1]\n",
    "        if now_data == past_data:\n",
    "            jangbi_broken['작업-작업간격'].iloc[i] = jangbi_broken['설치-작업간격'].iloc[i] - jangbi_broken['설치-작업간격'].iloc[i-1]\n",
    "        else :\n",
    "            jangbi_broken['작업-작업간격'].iloc[i] = jangbi_broken['설치-작업간격'].iloc[i]\n",
    "jangbi_broken.head()"
   ],
   "metadata": {
    "collapsed": false
   }
  },
  {
   "cell_type": "code",
   "execution_count": 130,
   "outputs": [
    {
     "data": {
      "text/plain": "         fac_cd                       fac_nm jangbi_class_nm_1  \\\n0  200201040293  (3)세-1F-0(여)로비-화장실) 세면대 2대                 기계   \n1  200201010257                   9F여1대변기(5)                기계   \n2  200202030001                        우수조#1                기계   \n3  200105080599               배기휀#76(EF-504)                기계   \n4  200202010001                        시수조#1                기계   \n\n  jangbi_class_nm_2 jangbi_class_nm_3 jangbi_class_nm_4 fac_instdt  작업-작업간격  \\\n0          위생, 탱크설비              위생설비            세면대 수전 2018-03-05     1681   \n1          위생, 탱크설비              위생설비               대변기 2014-06-01     3054   \n2          위생, 탱크설비              탱크설비            우수 저장조 2019-10-22     1085   \n3            공기조화설비              환기설비               환기팬 2019-10-23     1084   \n4          위생, 탱크설비              탱크설비            상수 저장조 2019-10-22     1085   \n\n  job_cd job_nm   max_time  status  \n0    NaN    NaN 2022-10-11       0  \n1    NaN    NaN 2022-10-11       0  \n2    NaN    NaN 2022-10-11       0  \n3    NaN    NaN 2022-10-11       0  \n4    NaN    NaN 2022-10-11       0  ",
      "text/html": "<div>\n<style scoped>\n    .dataframe tbody tr th:only-of-type {\n        vertical-align: middle;\n    }\n\n    .dataframe tbody tr th {\n        vertical-align: top;\n    }\n\n    .dataframe thead th {\n        text-align: right;\n    }\n</style>\n<table border=\"1\" class=\"dataframe\">\n  <thead>\n    <tr style=\"text-align: right;\">\n      <th></th>\n      <th>fac_cd</th>\n      <th>fac_nm</th>\n      <th>jangbi_class_nm_1</th>\n      <th>jangbi_class_nm_2</th>\n      <th>jangbi_class_nm_3</th>\n      <th>jangbi_class_nm_4</th>\n      <th>fac_instdt</th>\n      <th>작업-작업간격</th>\n      <th>job_cd</th>\n      <th>job_nm</th>\n      <th>max_time</th>\n      <th>status</th>\n    </tr>\n  </thead>\n  <tbody>\n    <tr>\n      <th>0</th>\n      <td>200201040293</td>\n      <td>(3)세-1F-0(여)로비-화장실) 세면대 2대</td>\n      <td>기계</td>\n      <td>위생, 탱크설비</td>\n      <td>위생설비</td>\n      <td>세면대 수전</td>\n      <td>2018-03-05</td>\n      <td>1681</td>\n      <td>NaN</td>\n      <td>NaN</td>\n      <td>2022-10-11</td>\n      <td>0</td>\n    </tr>\n    <tr>\n      <th>1</th>\n      <td>200201010257</td>\n      <td>9F여1대변기(5)</td>\n      <td>기계</td>\n      <td>위생, 탱크설비</td>\n      <td>위생설비</td>\n      <td>대변기</td>\n      <td>2014-06-01</td>\n      <td>3054</td>\n      <td>NaN</td>\n      <td>NaN</td>\n      <td>2022-10-11</td>\n      <td>0</td>\n    </tr>\n    <tr>\n      <th>2</th>\n      <td>200202030001</td>\n      <td>우수조#1</td>\n      <td>기계</td>\n      <td>위생, 탱크설비</td>\n      <td>탱크설비</td>\n      <td>우수 저장조</td>\n      <td>2019-10-22</td>\n      <td>1085</td>\n      <td>NaN</td>\n      <td>NaN</td>\n      <td>2022-10-11</td>\n      <td>0</td>\n    </tr>\n    <tr>\n      <th>3</th>\n      <td>200105080599</td>\n      <td>배기휀#76(EF-504)</td>\n      <td>기계</td>\n      <td>공기조화설비</td>\n      <td>환기설비</td>\n      <td>환기팬</td>\n      <td>2019-10-23</td>\n      <td>1084</td>\n      <td>NaN</td>\n      <td>NaN</td>\n      <td>2022-10-11</td>\n      <td>0</td>\n    </tr>\n    <tr>\n      <th>4</th>\n      <td>200202010001</td>\n      <td>시수조#1</td>\n      <td>기계</td>\n      <td>위생, 탱크설비</td>\n      <td>탱크설비</td>\n      <td>상수 저장조</td>\n      <td>2019-10-22</td>\n      <td>1085</td>\n      <td>NaN</td>\n      <td>NaN</td>\n      <td>2022-10-11</td>\n      <td>0</td>\n    </tr>\n  </tbody>\n</table>\n</div>"
     },
     "execution_count": 130,
     "metadata": {},
     "output_type": "execute_result"
    }
   ],
   "source": [
    "max_time = datetime.datetime(2022,10,11)\n",
    "analysis_data = pd.merge(fmsx05,jangbi_broken[['fac_cd','작업-작업간격','job_cd','job_nm']], on ='fac_cd', how ='left')\n",
    "\n",
    "analysis_data['fac_instdt'] = pd.to_datetime(analysis_data['fac_instdt'])\n",
    "\n",
    "analysis_data = analysis_data[analysis_data['fac_instdt'] <= max_time]\n",
    "\n",
    "\n",
    "analysis_data['max_time'] = max_time\n",
    "analysis_data['max_time'] = pd.to_datetime(analysis_data['max_time'])\n",
    "analysis_data['작업-작업간격'] = analysis_data['작업-작업간격'].fillna(999999)\n",
    "\n",
    "#analysis_data.dropna(inplace = True)\n",
    "def status(df):\n",
    "    if df['작업-작업간격'] == 999999:\n",
    "        return 0\n",
    "    else :\n",
    "        return 1\n",
    "\n",
    "analysis_data['status'] =analysis_data.apply(status,axis=1)\n",
    "\n",
    "\n",
    "\n",
    "def time(df):\n",
    "    x = df['작업-작업간격']\n",
    "    if x == 999999:\n",
    "        return int(str(df['max_time'] -  df['fac_instdt'])[:-13])\n",
    "    else :\n",
    "        return int(x)\n",
    "analysis_data['작업-작업간격'] = analysis_data.apply(time,axis=1)\n",
    "analysis_data.head()"
   ],
   "metadata": {
    "collapsed": false
   }
  },
  {
   "cell_type": "markdown",
   "source": [
    "# 기간 내 고장 확률 산출"
   ],
   "metadata": {
    "collapsed": false
   }
  },
  {
   "cell_type": "code",
   "execution_count": 131,
   "outputs": [],
   "source": [
    "import matplotlib.pyplot as plt\n",
    "from lifelines import KaplanMeierFitter\n",
    "\n",
    "plt.rc('font', family='AppleGothic')\n",
    "plt.rcParams['axes.unicode_minus'] = False"
   ],
   "metadata": {
    "collapsed": false
   }
  },
  {
   "cell_type": "code",
   "execution_count": 132,
   "outputs": [
    {
     "data": {
      "text/plain": "Text(0.5, 1.0, '소변기 기간별 정상 확률')"
     },
     "execution_count": 132,
     "metadata": {},
     "output_type": "execute_result"
    },
    {
     "data": {
      "text/plain": "<Figure size 640x480 with 1 Axes>",
      "image/png": "[encoded data removed]"
     },
     "metadata": {},
     "output_type": "display_data"
    }
   ],
   "source": [
    "장비명 = '소변기'\n",
    "input_data = analysis_data[analysis_data['jangbi_class_nm_4']==장비명]\n",
    "\n",
    "\n",
    "kmf = KaplanMeierFitter()\n",
    "input_data.sort_values(by='작업-작업간격', ascending=True)\n",
    "kmf.fit(durations=input_data['작업-작업간격'], event_observed=input_data['status'])\n",
    "kmf.plot_survival_function()\n",
    "plt.title(장비명+' 기간별 정상 확률')\n"
   ],
   "metadata": {
    "collapsed": false
   }
  },
  {
   "cell_type": "code",
   "execution_count": 133,
   "outputs": [
    {
     "name": "stdout",
     "output_type": "stream",
     "text": [
      "소변기 30일 안에 고장날 확률 = 0.108\n"
     ]
    }
   ],
   "source": [
    "기간_일 = 30\n",
    "print(f'{장비명} {기간_일}일 안에 고장날 확률 = {(1- kmf.predict(기간_일)).round(3)}')"
   ],
   "metadata": {
    "collapsed": false
   }
  },
  {
   "cell_type": "code",
   "execution_count": 134,
   "outputs": [
    {
     "data": {
      "text/plain": "       Unnamed: 0 comp_cd        fac_cd                       fac_nm  \\\n0               0    SEJO  200201040293  (3)세-1F-0(여)로비-화장실) 세면대 2대    \n1               1    SEJO  200201010257                   9F여1대변기(5)   \n2               2    SEJO  200202030001                        우수조#1   \n3               3    SEJO  200105080599               배기휀#76(EF-504)   \n4               4    SEJO  200202010001                        시수조#1   \n...           ...     ...           ...                          ...   \n40806       40806    SEJO  700101020004                  SCC 4호기 권상기   \n40807       40807    SEJO  700101020005                  SCC 5호기 권상기   \n40808       40808    SEJO  700101020006                  SCC 6호기 권상기   \n40809       40809    SEJO  700201010010                  SCC 7호기 제어반   \n40810       40810    SEJO  700201020001                  SCC 7호기 권상기   \n\n       class_cd  dept_cd     fac_model     fac_spec     fac_plc       bd_cd  \\\n0      20020104    10201  자동(2)/수동(0)          청소수전       (여)로비         NaN   \n1      20020101    10201   CC-113(바닥형)  690*395*435  여-1(동) 화장실         NaN   \n2      20020203    10201           NaN          NaN         NaN         NaN   \n3      20010508    10201           NaN          NaN         NaN         NaN   \n4      20020201    10201           NaN          NaN         NaN         NaN   \n...         ...      ...           ...          ...         ...         ...   \n40806  70010102    10302        HS250K         12*6         NaN  SJ-SCJS-01   \n40807  70010102    10302        HS250K         12*6         NaN  SJ-SCJS-01   \n40808  70010102    10302        HS250K         12*6         NaN  SJ-SCJS-01   \n40809  70020101    10302    DZDLE-4300          NaN         NaN  SJ-SCJS-01   \n40810  70020102    10302      SDE-1504         12*6         NaN  SJ-SCJS-01   \n\n       ... chk_edit_dt law_fac_yn jangbi_class_nm_1 jangbi_class_nm_2  \\\n0      ...         NaN          N                기계          위생, 탱크설비   \n1      ...         NaN          N                기계          위생, 탱크설비   \n2      ...         NaN          N                기계          위생, 탱크설비   \n3      ...         NaN          N                기계            공기조화설비   \n4      ...         NaN          N                기계          위생, 탱크설비   \n...    ...         ...        ...               ...               ...   \n40806  ...         NaN          N               승강기               승객용   \n40807  ...         NaN          N               승강기               승객용   \n40808  ...         NaN          N               승강기               승객용   \n40809  ...         NaN          N               승강기               화물용   \n40810  ...         NaN          N               승강기               화물용   \n\n      jangbi_class_nm_3 jangbi_class_nm_4 jangbi_class_cd_1 jangbi_class_cd_2  \\\n0                  위생설비            세면대 수전                20              2002   \n1                  위생설비               대변기                20              2002   \n2                  탱크설비            우수 저장조                20              2002   \n3                  환기설비               환기팬                20              2001   \n4                  탱크설비            상수 저장조                20              2002   \n...                 ...               ...               ...               ...   \n40806                MR               권상기                70              7001   \n40807                MR               권상기                70              7001   \n40808                MR               권상기                70              7001   \n40809               로프식               제어반                70              7002   \n40810               로프식               권상기                70              7002   \n\n       jangbi_class_cd_3 jangbi_class_cd_4  \n0                 200201          20020104  \n1                 200201          20020101  \n2                 200202          20020203  \n3                 200105          20010508  \n4                 200202          20020201  \n...                  ...               ...  \n40806             700101          70010102  \n40807             700101          70010102  \n40808             700101          70010102  \n40809             700201          70020101  \n40810             700201          70020102  \n\n[40811 rows x 47 columns]",
      "text/html": "<div>\n<style scoped>\n    .dataframe tbody tr th:only-of-type {\n        vertical-align: middle;\n    }\n\n    .dataframe tbody tr th {\n        vertical-align: top;\n    }\n\n    .dataframe thead th {\n        text-align: right;\n    }\n</style>\n<table border=\"1\" class=\"dataframe\">\n  <thead>\n    <tr style=\"text-align: right;\">\n      <th></th>\n      <th>Unnamed: 0</th>\n      <th>comp_cd</th>\n      <th>fac_cd</th>\n      <th>fac_nm</th>\n      <th>class_cd</th>\n      <th>dept_cd</th>\n      <th>fac_model</th>\n      <th>fac_spec</th>\n      <th>fac_plc</th>\n      <th>bd_cd</th>\n      <th>...</th>\n      <th>chk_edit_dt</th>\n      <th>law_fac_yn</th>\n      <th>jangbi_class_nm_1</th>\n      <th>jangbi_class_nm_2</th>\n      <th>jangbi_class_nm_3</th>\n      <th>jangbi_class_nm_4</th>\n      <th>jangbi_class_cd_1</th>\n      <th>jangbi_class_cd_2</th>\n      <th>jangbi_class_cd_3</th>\n      <th>jangbi_class_cd_4</th>\n    </tr>\n  </thead>\n  <tbody>\n    <tr>\n      <th>0</th>\n      <td>0</td>\n      <td>SEJO</td>\n      <td>200201040293</td>\n      <td>(3)세-1F-0(여)로비-화장실) 세면대 2대</td>\n      <td>20020104</td>\n      <td>10201</td>\n      <td>자동(2)/수동(0)</td>\n      <td>청소수전</td>\n      <td>(여)로비</td>\n      <td>NaN</td>\n      <td>...</td>\n      <td>NaN</td>\n      <td>N</td>\n      <td>기계</td>\n      <td>위생, 탱크설비</td>\n      <td>위생설비</td>\n      <td>세면대 수전</td>\n      <td>20</td>\n      <td>2002</td>\n      <td>200201</td>\n      <td>20020104</td>\n    </tr>\n    <tr>\n      <th>1</th>\n      <td>1</td>\n      <td>SEJO</td>\n      <td>200201010257</td>\n      <td>9F여1대변기(5)</td>\n      <td>20020101</td>\n      <td>10201</td>\n      <td>CC-113(바닥형)</td>\n      <td>690*395*435</td>\n      <td>여-1(동) 화장실</td>\n      <td>NaN</td>\n      <td>...</td>\n      <td>NaN</td>\n      <td>N</td>\n      <td>기계</td>\n      <td>위생, 탱크설비</td>\n      <td>위생설비</td>\n      <td>대변기</td>\n      <td>20</td>\n      <td>2002</td>\n      <td>200201</td>\n      <td>20020101</td>\n    </tr>\n    <tr>\n      <th>2</th>\n      <td>2</td>\n      <td>SEJO</td>\n      <td>200202030001</td>\n      <td>우수조#1</td>\n      <td>20020203</td>\n      <td>10201</td>\n      <td>NaN</td>\n      <td>NaN</td>\n      <td>NaN</td>\n      <td>NaN</td>\n      <td>...</td>\n      <td>NaN</td>\n      <td>N</td>\n      <td>기계</td>\n      <td>위생, 탱크설비</td>\n      <td>탱크설비</td>\n      <td>우수 저장조</td>\n      <td>20</td>\n      <td>2002</td>\n      <td>200202</td>\n      <td>20020203</td>\n    </tr>\n    <tr>\n      <th>3</th>\n      <td>3</td>\n      <td>SEJO</td>\n      <td>200105080599</td>\n      <td>배기휀#76(EF-504)</td>\n      <td>20010508</td>\n      <td>10201</td>\n      <td>NaN</td>\n      <td>NaN</td>\n      <td>NaN</td>\n      <td>NaN</td>\n      <td>...</td>\n      <td>NaN</td>\n      <td>N</td>\n      <td>기계</td>\n      <td>공기조화설비</td>\n      <td>환기설비</td>\n      <td>환기팬</td>\n      <td>20</td>\n      <td>2001</td>\n      <td>200105</td>\n      <td>20010508</td>\n    </tr>\n    <tr>\n      <th>4</th>\n      <td>4</td>\n      <td>SEJO</td>\n      <td>200202010001</td>\n      <td>시수조#1</td>\n      <td>20020201</td>\n      <td>10201</td>\n      <td>NaN</td>\n      <td>NaN</td>\n      <td>NaN</td>\n      <td>NaN</td>\n      <td>...</td>\n      <td>NaN</td>\n      <td>N</td>\n      <td>기계</td>\n      <td>위생, 탱크설비</td>\n      <td>탱크설비</td>\n      <td>상수 저장조</td>\n      <td>20</td>\n      <td>2002</td>\n      <td>200202</td>\n      <td>20020201</td>\n    </tr>\n    <tr>\n      <th>...</th>\n      <td>...</td>\n      <td>...</td>\n      <td>...</td>\n      <td>...</td>\n      <td>...</td>\n      <td>...</td>\n      <td>...</td>\n      <td>...</td>\n      <td>...</td>\n      <td>...</td>\n      <td>...</td>\n      <td>...</td>\n      <td>...</td>\n      <td>...</td>\n      <td>...</td>\n      <td>...</td>\n      <td>...</td>\n      <td>...</td>\n      <td>...</td>\n      <td>...</td>\n      <td>...</td>\n    </tr>\n    <tr>\n      <th>40806</th>\n      <td>40806</td>\n      <td>SEJO</td>\n      <td>700101020004</td>\n      <td>SCC 4호기 권상기</td>\n      <td>70010102</td>\n      <td>10302</td>\n      <td>HS250K</td>\n      <td>12*6</td>\n      <td>NaN</td>\n      <td>SJ-SCJS-01</td>\n      <td>...</td>\n      <td>NaN</td>\n      <td>N</td>\n      <td>승강기</td>\n      <td>승객용</td>\n      <td>MR</td>\n      <td>권상기</td>\n      <td>70</td>\n      <td>7001</td>\n      <td>700101</td>\n      <td>70010102</td>\n    </tr>\n    <tr>\n      <th>40807</th>\n      <td>40807</td>\n      <td>SEJO</td>\n      <td>700101020005</td>\n      <td>SCC 5호기 권상기</td>\n      <td>70010102</td>\n      <td>10302</td>\n      <td>HS250K</td>\n      <td>12*6</td>\n      <td>NaN</td>\n      <td>SJ-SCJS-01</td>\n      <td>...</td>\n      <td>NaN</td>\n      <td>N</td>\n      <td>승강기</td>\n      <td>승객용</td>\n      <td>MR</td>\n      <td>권상기</td>\n      <td>70</td>\n      <td>7001</td>\n      <td>700101</td>\n      <td>70010102</td>\n    </tr>\n    <tr>\n      <th>40808</th>\n      <td>40808</td>\n      <td>SEJO</td>\n      <td>700101020006</td>\n      <td>SCC 6호기 권상기</td>\n      <td>70010102</td>\n      <td>10302</td>\n      <td>HS250K</td>\n      <td>12*6</td>\n      <td>NaN</td>\n      <td>SJ-SCJS-01</td>\n      <td>...</td>\n      <td>NaN</td>\n      <td>N</td>\n      <td>승강기</td>\n      <td>승객용</td>\n      <td>MR</td>\n      <td>권상기</td>\n      <td>70</td>\n      <td>7001</td>\n      <td>700101</td>\n      <td>70010102</td>\n    </tr>\n    <tr>\n      <th>40809</th>\n      <td>40809</td>\n      <td>SEJO</td>\n      <td>700201010010</td>\n      <td>SCC 7호기 제어반</td>\n      <td>70020101</td>\n      <td>10302</td>\n      <td>DZDLE-4300</td>\n      <td>NaN</td>\n      <td>NaN</td>\n      <td>SJ-SCJS-01</td>\n      <td>...</td>\n      <td>NaN</td>\n      <td>N</td>\n      <td>승강기</td>\n      <td>화물용</td>\n      <td>로프식</td>\n      <td>제어반</td>\n      <td>70</td>\n      <td>7002</td>\n      <td>700201</td>\n      <td>70020101</td>\n    </tr>\n    <tr>\n      <th>40810</th>\n      <td>40810</td>\n      <td>SEJO</td>\n      <td>700201020001</td>\n      <td>SCC 7호기 권상기</td>\n      <td>70020102</td>\n      <td>10302</td>\n      <td>SDE-1504</td>\n      <td>12*6</td>\n      <td>NaN</td>\n      <td>SJ-SCJS-01</td>\n      <td>...</td>\n      <td>NaN</td>\n      <td>N</td>\n      <td>승강기</td>\n      <td>화물용</td>\n      <td>로프식</td>\n      <td>권상기</td>\n      <td>70</td>\n      <td>7002</td>\n      <td>700201</td>\n      <td>70020102</td>\n    </tr>\n  </tbody>\n</table>\n<p>40811 rows × 47 columns</p>\n</div>"
     },
     "execution_count": 134,
     "metadata": {},
     "output_type": "execute_result"
    }
   ],
   "source": [
    "FMSX05_장비마스터"
   ],
   "metadata": {
    "collapsed": false
   }
  }
 ],
 "metadata": {
  "kernelspec": {
   "display_name": "Python 3",
   "language": "python",
   "name": "python3"
  },
  "language_info": {
   "codemirror_mode": {
    "name": "ipython",
    "version": 2
   },
   "file_extension": ".py",
   "mimetype": "text/x-python",
   "name": "python",
   "nbconvert_exporter": "python",
   "pygments_lexer": "ipython2",
   "version": "2.7.6"
  }
 },
 "nbformat": 4,
 "nbformat_minor": 0
}

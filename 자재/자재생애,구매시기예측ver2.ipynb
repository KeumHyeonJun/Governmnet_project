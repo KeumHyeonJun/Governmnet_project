{
 "cells": [
  {
   "cell_type": "code",
   "execution_count": 1,
   "metadata": {
    "collapsed": true
   },
   "outputs": [
    {
     "data": {
      "text/plain": "'/Users/keumhyeonjun/Projects/행안부/자재/GFMS DB/'"
     },
     "execution_count": 1,
     "metadata": {},
     "output_type": "execute_result"
    }
   ],
   "source": [
    "import pandas as pd\n",
    "from pathlib import Path\n",
    "import datetime\n",
    "\n",
    "path = Path.cwd()\n",
    "path = str(path)+'/GFMS DB/'\n",
    "path"
   ]
  },
  {
   "cell_type": "code",
   "execution_count": 2,
   "outputs": [
    {
     "name": "stderr",
     "output_type": "stream",
     "text": [
      "/var/folders/nd/cl2nzwh13zx7jdly2t5m95340000gn/T/ipykernel_27684/926343042.py:1: DtypeWarning: Columns (59) have mixed types. Specify dtype option on import or set low_memory=False.\n",
      "  FMSA10_작업지시_결과 = pd.read_csv(path+'FMSA10_작업지시_결과_ver2.csv')\n",
      "/var/folders/nd/cl2nzwh13zx7jdly2t5m95340000gn/T/ipykernel_27684/926343042.py:51: SettingWithCopyWarning: \n",
      "A value is trying to be set on a copy of a slice from a DataFrame.\n",
      "Try using .loc[row_indexer,col_indexer] = value instead\n",
      "\n",
      "See the caveats in the documentation: https://pandas.pydata.org/pandas-docs/stable/user_guide/indexing.html#returning-a-view-versus-a-copy\n",
      "  fmsb03[\"mat_cd\"] = fmsb03[\"mat_cd\"].astype(\"str\")\n"
     ]
    }
   ],
   "source": [
    "FMSA10_작업지시_결과 = pd.read_csv(path+'FMSA10_작업지시_결과_ver2.csv')\n",
    "\n",
    "FMSA11_작업장비이력 = pd.read_excel(path + 'FMSA11_작업장비이력.xlsx')\n",
    "\n",
    "FMSX05_장비마스터 = pd.read_csv(path + 'FMSX05_장비마스터_ver2.csv')\n",
    "\n",
    "FMSB07_자재출고 = pd.read_excel(path + 'FMSB07_자재출고.xlsx')\n",
    "\n",
    "FMSB03_자재마스터 = pd.read_csv(path + 'FMSB03_자재마스터_ver2.csv')\n",
    "\n",
    "FMSB03_자재마스터.drop(['class_nm_4','class_cd_4'],axis =1,inplace = True)\n",
    "\n",
    "FMSB03_자재마스터.rename(columns={'class_nm_3':'jajae_class_nm_3'},inplace = True)\n",
    "FMSB03_자재마스터.rename(columns={'class_nm_2':'jajae_class_nm_2'},inplace = True)\n",
    "FMSB03_자재마스터.rename(columns={'class_nm_1':'jajae_class_nm_1'},inplace = True)\n",
    "\n",
    "FMSB03_자재마스터.rename(columns={'class_cd_3':'jajae_class_cd_3'},inplace = True)\n",
    "FMSB03_자재마스터.rename(columns={'class_cd_2':'jajae_class_cd_2'},inplace = True)\n",
    "FMSB03_자재마스터.rename(columns={'class_cd_1':'jajae_class_cd_1'},inplace = True)\n",
    "\n",
    "\n",
    "FMSX05_장비마스터.rename(columns={'class_nm_4':'jangbi_class_nm_4'},inplace = True)\n",
    "FMSX05_장비마스터.rename(columns={'class_nm_3':'jangbi_class_nm_3'},inplace = True)\n",
    "FMSX05_장비마스터.rename(columns={'class_nm_2':'jangbi_class_nm_2'},inplace = True)\n",
    "FMSX05_장비마스터.rename(columns={'class_nm_1':'jangbi_class_nm_1'},inplace = True)\n",
    "\n",
    "\n",
    "FMSX05_장비마스터.rename(columns={'class_cd_4':'jangbi_class_cd_4'},inplace = True)\n",
    "FMSX05_장비마스터.rename(columns={'class_cd_3':'jangbi_class_cd_3'},inplace = True)\n",
    "FMSX05_장비마스터.rename(columns={'class_cd_2':'jangbi_class_cd_2'},inplace = True)\n",
    "FMSX05_장비마스터.rename(columns={'class_cd_1':'jangbi_class_cd_1'},inplace = True)\n",
    "\n",
    "FMSA10_작업지시_결과.rename(columns={'class_nm_4':'job_class_nm_4'},inplace = True)\n",
    "FMSA10_작업지시_결과.rename(columns={'class_nm_3':'job_class_nm_3'},inplace = True)\n",
    "FMSA10_작업지시_결과.rename(columns={'class_nm_2':'job_class_nm_2'},inplace = True)\n",
    "FMSA10_작업지시_결과.rename(columns={'class_nm_1':'job_class_nm_1'},inplace = True)\n",
    "\n",
    "\n",
    "FMSA10_작업지시_결과.rename(columns={'class_cd_4':'job_class_cd_4'},inplace = True)\n",
    "FMSA10_작업지시_결과.rename(columns={'class_cd_3':'job_class_cd_3'},inplace = True)\n",
    "FMSA10_작업지시_결과.rename(columns={'class_cd_2':'job_class_cd_2'},inplace = True)\n",
    "FMSA10_작업지시_결과.rename(columns={'class_cd_1':'job_class_cd_1'},inplace = True)\n",
    "\n",
    "fmsa10 =FMSA10_작업지시_결과[['job_cd','job_nm','job_jisi_dt','job_enddt','job_shm','job_ehm','job_class_nm_1','job_class_nm_2','job_class_nm_3','job_class_nm_4']]\n",
    "fmsb03 = FMSB03_자재마스터[['mat_cd','mat_nm','jajae_class_nm_1','jajae_class_nm_2','jajae_class_nm_3','jajae_class_cd_3']]\n",
    "fmsx05 = FMSX05_장비마스터[['fac_cd','fac_nm','jangbi_class_nm_1','jangbi_class_nm_2','jangbi_class_nm_3','jangbi_class_nm_4','fac_instdt']]\n",
    "\n",
    "\n",
    "FMSB07_자재출고[\"mat_cd\"] = FMSB07_자재출고[\"mat_cd\"].astype(\"str\")\n",
    "FMSB07_자재출고[\"mat_cd\"] = list(map(lambda x: x[:-3],FMSB07_자재출고[\"mat_cd\"].tolist())) # FMSB03과 inner join하기 위해 mat_cd 형식 일치\n",
    "fmsb03[\"mat_cd\"] = fmsb03[\"mat_cd\"].astype(\"str\")\n",
    "jajae = pd.merge(FMSB07_자재출고,fmsb03 ,on = 'mat_cd', how = 'inner')\n",
    "jajae = jajae[['job_cd','outw_day','mat_cd','outw_qty','mat_nm_x','jajae_class_nm_1','jajae_class_nm_2','jajae_class_nm_3','jajae_class_cd_3']]\n",
    "\n",
    "\n",
    "jangbi = pd.merge(FMSA11_작업장비이력, fmsx05, how='inner', on='fac_cd')\n",
    "data = pd.merge(fmsa10,jangbi, on='job_cd',how = 'inner')\n",
    "\n",
    "data.drop(['job_cont','chg_sysdt','chg_emp_no'],axis=1,inplace=True)\n",
    "data = data.dropna()\n",
    "\n",
    "data['자재매칭여부'] = data['job_cd']\n",
    "arr_장비 = list(data['job_cd'])\n",
    "arr_자재 = list(jajae['job_cd'])\n",
    "#자재 매칭이 안되는 경우\n",
    "arr = list(set(arr_장비)- set(arr_자재))\n",
    "\n",
    "def function(x):\n",
    "    if x in arr:\n",
    "        return 0\n",
    "    else:\n",
    "         return 1\n",
    "\n",
    "data['자재매칭여부'] = data['자재매칭여부'].apply(function)\n",
    "df = pd.merge(data,jajae, on='job_cd',how = 'inner')\n",
    "\n",
    "final = df[['job_cd','job_nm','job_jisi_dt','job_enddt','job_shm','job_ehm','job_class_nm_1','job_class_nm_2','job_class_nm_3','job_class_nm_4','fac_cd','fac_nm','fac_instdt','mat_cd','mat_nm_x',\n",
    "           'jangbi_class_nm_1','jangbi_class_nm_2','jangbi_class_nm_3','jangbi_class_nm_4','자재매칭여부','mat_nm_x','jajae_class_nm_1','jajae_class_nm_2','jajae_class_nm_3','jajae_class_cd_3']]"
   ],
   "metadata": {
    "collapsed": false
   }
  },
  {
   "cell_type": "code",
   "execution_count": 3,
   "outputs": [
    {
     "data": {
      "text/plain": "            job_cd                                  job_nm job_jisi_dt  \\\n0     211001-00081        1동 1구역 2층 복도내 거실통로유도등 점등불량 교체 작업  2021-10-01   \n1     211001-00070             2-1동 옥상층 66번 CCTV PTZ 동작 불량  2021-10-01   \n2     211001-00070             2-1동 옥상층 66번 CCTV PTZ 동작 불량  2021-10-01   \n3     211001-00062  9동 701호해양수산사이버안전센터 분말소화기 받침대 노후로 신품교체.  2021-10-01   \n4     211001-00080     별동 차오름 어린이집 1층 식당홀 소화기 위치표지 스티커 미부착  2021-10-01   \n...            ...                                     ...         ...   \n3128  221011-00023     7-2동 7층 남자화장실, 7-1동 5층 남자화장실 대변기 누수  2022-10-11   \n3129  221011-00023     7-2동 7층 남자화장실, 7-1동 5층 남자화장실 대변기 누수  2022-10-11   \n3130  221011-00037                 11동 1-2 남자화장실 소변기 물 안나옴  2022-10-11   \n3131  221011-00066     13-2동 1층 방재실 R형 수신기 예비전원 불량 교체 (2개)  2022-10-11   \n3132  221011-00066     13-2동 1층 방재실 R형 수신기 예비전원 불량 교체 (2개)  2022-10-11   \n\n       job_enddt                 job_shm                 job_ehm  \\\n0     2021-10-01   2021-10-01 오후 1:30:00   2021-10-01 오후 1:45:00   \n1     2021-10-01   2021-10-01 오전 9:00:00   2021-10-01 오후 5:31:00   \n2     2021-10-01   2021-10-01 오전 9:00:00   2021-10-01 오후 5:31:00   \n3     2021-10-01   2021-10-01 오후 3:30:00   2021-10-01 오후 4:09:00   \n4     2021-10-01  2021-10-01 오전 10:00:00  2021-10-01 오전 10:30:00   \n...          ...                     ...                     ...   \n3128  2022-10-11   2022-10-11 오후 1:30:00   2022-10-11 오후 1:59:00   \n3129  2022-10-11   2022-10-11 오후 1:30:00   2022-10-11 오후 1:59:00   \n3130  2022-10-11   2022-10-11 오전 9:50:00  2022-10-11 오전 10:10:00   \n3131  2022-10-11   2022-10-11 오후 2:30:00   2022-10-11 오후 3:10:00   \n3132  2022-10-11   2022-10-11 오후 2:30:00   2022-10-11 오후 3:10:00   \n\n     job_class_nm_1 job_class_nm_2 job_class_nm_3 job_class_nm_4  ...  \\\n0            1동 1구역             2층            유도등       거실통로 유도등  ...   \n1            2동 1구역            옥상층          방범시스템       CCTV 카메라  ...   \n2            2동 1구역            옥상층          방범시스템       CCTV 카메라  ...   \n3                9동             7층           소화기구            이동식  ...   \n4          차오름 어린이집             1층           소화기구            이동식  ...   \n...             ...            ...            ...            ...  ...   \n3128           7-1동             5층           위생설비            대변기  ...   \n3129           7-1동             5층           위생설비            대변기  ...   \n3130          11-1동             1층           위생설비            소변기  ...   \n3131          13-2동             1층       자동화재탐지설비            수신기  ...   \n3132          13-2동             1층       자동화재탐지설비            수신기  ...   \n\n      jangbi_class_nm_1 jangbi_class_nm_2 jangbi_class_nm_3 jangbi_class_nm_4  \\\n0                    방재              피난설비               유도등          거실통로 유도등   \n1                    통신              방범설비             방범시스템          CCTV 카메라   \n2                    통신              방범설비             방범시스템          CCTV 카메라   \n3                    방재              소화설비              소화기구               이동식   \n4                    방재              소화설비              소화기구               이동식   \n...                 ...               ...               ...               ...   \n3128                 기계          위생, 탱크설비              위생설비               대변기   \n3129                 기계          위생, 탱크설비              위생설비               대변기   \n3130                 기계          위생, 탱크설비              위생설비               소변기   \n3131                 방재              경보설비          자동화재탐지설비               수신기   \n3132                 방재              경보설비          자동화재탐지설비               수신기   \n\n     자재매칭여부      mat_nm_x jajae_class_nm_1 jajae_class_nm_2 jajae_class_nm_3  \\\n0         1  거실통로유도등(LED)               소방             피난설비              유도등   \n1         1         IP카메라               방범           영상감지장치             CCTV   \n2         1         절연테이프               전기             절연재료              테이프   \n3         1        소화기받침대               소방             소화기구           소화기구부품   \n4         1    소화기 표시 스티커               소방             소화기구           소화기구부품   \n...     ...           ...              ...              ...              ...   \n3128      1          푸쉬로드               기계             위생기구              대변기   \n3129      1          푸쉬로드               기계             위생기구              대변기   \n3130      1        알칼리건전지               공통              건전지              건전지   \n3131      1       연(납)축전지               공통              건전지              배터리   \n3132      1            풀리               전기           전선원부자재   케이블 접속재 및 접속자재   \n\n      jajae_class_cd_3  \n0               504001  \n1               802001  \n2               407001  \n3               505009  \n4               505009  \n...                ...  \n3128            306002  \n3129            306002  \n3130            110001  \n3131            110002  \n3132            402004  \n\n[3133 rows x 25 columns]",
      "text/html": "<div>\n<style scoped>\n    .dataframe tbody tr th:only-of-type {\n        vertical-align: middle;\n    }\n\n    .dataframe tbody tr th {\n        vertical-align: top;\n    }\n\n    .dataframe thead th {\n        text-align: right;\n    }\n</style>\n<table border=\"1\" class=\"dataframe\">\n  <thead>\n    <tr style=\"text-align: right;\">\n      <th></th>\n      <th>job_cd</th>\n      <th>job_nm</th>\n      <th>job_jisi_dt</th>\n      <th>job_enddt</th>\n      <th>job_shm</th>\n      <th>job_ehm</th>\n      <th>job_class_nm_1</th>\n      <th>job_class_nm_2</th>\n      <th>job_class_nm_3</th>\n      <th>job_class_nm_4</th>\n      <th>...</th>\n      <th>jangbi_class_nm_1</th>\n      <th>jangbi_class_nm_2</th>\n      <th>jangbi_class_nm_3</th>\n      <th>jangbi_class_nm_4</th>\n      <th>자재매칭여부</th>\n      <th>mat_nm_x</th>\n      <th>jajae_class_nm_1</th>\n      <th>jajae_class_nm_2</th>\n      <th>jajae_class_nm_3</th>\n      <th>jajae_class_cd_3</th>\n    </tr>\n  </thead>\n  <tbody>\n    <tr>\n      <th>0</th>\n      <td>211001-00081</td>\n      <td>1동 1구역 2층 복도내 거실통로유도등 점등불량 교체 작업</td>\n      <td>2021-10-01</td>\n      <td>2021-10-01</td>\n      <td>2021-10-01 오후 1:30:00</td>\n      <td>2021-10-01 오후 1:45:00</td>\n      <td>1동 1구역</td>\n      <td>2층</td>\n      <td>유도등</td>\n      <td>거실통로 유도등</td>\n      <td>...</td>\n      <td>방재</td>\n      <td>피난설비</td>\n      <td>유도등</td>\n      <td>거실통로 유도등</td>\n      <td>1</td>\n      <td>거실통로유도등(LED)</td>\n      <td>소방</td>\n      <td>피난설비</td>\n      <td>유도등</td>\n      <td>504001</td>\n    </tr>\n    <tr>\n      <th>1</th>\n      <td>211001-00070</td>\n      <td>2-1동 옥상층 66번 CCTV PTZ 동작 불량</td>\n      <td>2021-10-01</td>\n      <td>2021-10-01</td>\n      <td>2021-10-01 오전 9:00:00</td>\n      <td>2021-10-01 오후 5:31:00</td>\n      <td>2동 1구역</td>\n      <td>옥상층</td>\n      <td>방범시스템</td>\n      <td>CCTV 카메라</td>\n      <td>...</td>\n      <td>통신</td>\n      <td>방범설비</td>\n      <td>방범시스템</td>\n      <td>CCTV 카메라</td>\n      <td>1</td>\n      <td>IP카메라</td>\n      <td>방범</td>\n      <td>영상감지장치</td>\n      <td>CCTV</td>\n      <td>802001</td>\n    </tr>\n    <tr>\n      <th>2</th>\n      <td>211001-00070</td>\n      <td>2-1동 옥상층 66번 CCTV PTZ 동작 불량</td>\n      <td>2021-10-01</td>\n      <td>2021-10-01</td>\n      <td>2021-10-01 오전 9:00:00</td>\n      <td>2021-10-01 오후 5:31:00</td>\n      <td>2동 1구역</td>\n      <td>옥상층</td>\n      <td>방범시스템</td>\n      <td>CCTV 카메라</td>\n      <td>...</td>\n      <td>통신</td>\n      <td>방범설비</td>\n      <td>방범시스템</td>\n      <td>CCTV 카메라</td>\n      <td>1</td>\n      <td>절연테이프</td>\n      <td>전기</td>\n      <td>절연재료</td>\n      <td>테이프</td>\n      <td>407001</td>\n    </tr>\n    <tr>\n      <th>3</th>\n      <td>211001-00062</td>\n      <td>9동 701호해양수산사이버안전센터 분말소화기 받침대 노후로 신품교체.</td>\n      <td>2021-10-01</td>\n      <td>2021-10-01</td>\n      <td>2021-10-01 오후 3:30:00</td>\n      <td>2021-10-01 오후 4:09:00</td>\n      <td>9동</td>\n      <td>7층</td>\n      <td>소화기구</td>\n      <td>이동식</td>\n      <td>...</td>\n      <td>방재</td>\n      <td>소화설비</td>\n      <td>소화기구</td>\n      <td>이동식</td>\n      <td>1</td>\n      <td>소화기받침대</td>\n      <td>소방</td>\n      <td>소화기구</td>\n      <td>소화기구부품</td>\n      <td>505009</td>\n    </tr>\n    <tr>\n      <th>4</th>\n      <td>211001-00080</td>\n      <td>별동 차오름 어린이집 1층 식당홀 소화기 위치표지 스티커 미부착</td>\n      <td>2021-10-01</td>\n      <td>2021-10-01</td>\n      <td>2021-10-01 오전 10:00:00</td>\n      <td>2021-10-01 오전 10:30:00</td>\n      <td>차오름 어린이집</td>\n      <td>1층</td>\n      <td>소화기구</td>\n      <td>이동식</td>\n      <td>...</td>\n      <td>방재</td>\n      <td>소화설비</td>\n      <td>소화기구</td>\n      <td>이동식</td>\n      <td>1</td>\n      <td>소화기 표시 스티커</td>\n      <td>소방</td>\n      <td>소화기구</td>\n      <td>소화기구부품</td>\n      <td>505009</td>\n    </tr>\n    <tr>\n      <th>...</th>\n      <td>...</td>\n      <td>...</td>\n      <td>...</td>\n      <td>...</td>\n      <td>...</td>\n      <td>...</td>\n      <td>...</td>\n      <td>...</td>\n      <td>...</td>\n      <td>...</td>\n      <td>...</td>\n      <td>...</td>\n      <td>...</td>\n      <td>...</td>\n      <td>...</td>\n      <td>...</td>\n      <td>...</td>\n      <td>...</td>\n      <td>...</td>\n      <td>...</td>\n      <td>...</td>\n    </tr>\n    <tr>\n      <th>3128</th>\n      <td>221011-00023</td>\n      <td>7-2동 7층 남자화장실, 7-1동 5층 남자화장실 대변기 누수</td>\n      <td>2022-10-11</td>\n      <td>2022-10-11</td>\n      <td>2022-10-11 오후 1:30:00</td>\n      <td>2022-10-11 오후 1:59:00</td>\n      <td>7-1동</td>\n      <td>5층</td>\n      <td>위생설비</td>\n      <td>대변기</td>\n      <td>...</td>\n      <td>기계</td>\n      <td>위생, 탱크설비</td>\n      <td>위생설비</td>\n      <td>대변기</td>\n      <td>1</td>\n      <td>푸쉬로드</td>\n      <td>기계</td>\n      <td>위생기구</td>\n      <td>대변기</td>\n      <td>306002</td>\n    </tr>\n    <tr>\n      <th>3129</th>\n      <td>221011-00023</td>\n      <td>7-2동 7층 남자화장실, 7-1동 5층 남자화장실 대변기 누수</td>\n      <td>2022-10-11</td>\n      <td>2022-10-11</td>\n      <td>2022-10-11 오후 1:30:00</td>\n      <td>2022-10-11 오후 1:59:00</td>\n      <td>7-1동</td>\n      <td>5층</td>\n      <td>위생설비</td>\n      <td>대변기</td>\n      <td>...</td>\n      <td>기계</td>\n      <td>위생, 탱크설비</td>\n      <td>위생설비</td>\n      <td>대변기</td>\n      <td>1</td>\n      <td>푸쉬로드</td>\n      <td>기계</td>\n      <td>위생기구</td>\n      <td>대변기</td>\n      <td>306002</td>\n    </tr>\n    <tr>\n      <th>3130</th>\n      <td>221011-00037</td>\n      <td>11동 1-2 남자화장실 소변기 물 안나옴</td>\n      <td>2022-10-11</td>\n      <td>2022-10-11</td>\n      <td>2022-10-11 오전 9:50:00</td>\n      <td>2022-10-11 오전 10:10:00</td>\n      <td>11-1동</td>\n      <td>1층</td>\n      <td>위생설비</td>\n      <td>소변기</td>\n      <td>...</td>\n      <td>기계</td>\n      <td>위생, 탱크설비</td>\n      <td>위생설비</td>\n      <td>소변기</td>\n      <td>1</td>\n      <td>알칼리건전지</td>\n      <td>공통</td>\n      <td>건전지</td>\n      <td>건전지</td>\n      <td>110001</td>\n    </tr>\n    <tr>\n      <th>3131</th>\n      <td>221011-00066</td>\n      <td>13-2동 1층 방재실 R형 수신기 예비전원 불량 교체 (2개)</td>\n      <td>2022-10-11</td>\n      <td>2022-10-11</td>\n      <td>2022-10-11 오후 2:30:00</td>\n      <td>2022-10-11 오후 3:10:00</td>\n      <td>13-2동</td>\n      <td>1층</td>\n      <td>자동화재탐지설비</td>\n      <td>수신기</td>\n      <td>...</td>\n      <td>방재</td>\n      <td>경보설비</td>\n      <td>자동화재탐지설비</td>\n      <td>수신기</td>\n      <td>1</td>\n      <td>연(납)축전지</td>\n      <td>공통</td>\n      <td>건전지</td>\n      <td>배터리</td>\n      <td>110002</td>\n    </tr>\n    <tr>\n      <th>3132</th>\n      <td>221011-00066</td>\n      <td>13-2동 1층 방재실 R형 수신기 예비전원 불량 교체 (2개)</td>\n      <td>2022-10-11</td>\n      <td>2022-10-11</td>\n      <td>2022-10-11 오후 2:30:00</td>\n      <td>2022-10-11 오후 3:10:00</td>\n      <td>13-2동</td>\n      <td>1층</td>\n      <td>자동화재탐지설비</td>\n      <td>수신기</td>\n      <td>...</td>\n      <td>방재</td>\n      <td>경보설비</td>\n      <td>자동화재탐지설비</td>\n      <td>수신기</td>\n      <td>1</td>\n      <td>풀리</td>\n      <td>전기</td>\n      <td>전선원부자재</td>\n      <td>케이블 접속재 및 접속자재</td>\n      <td>402004</td>\n    </tr>\n  </tbody>\n</table>\n<p>3133 rows × 25 columns</p>\n</div>"
     },
     "execution_count": 3,
     "metadata": {},
     "output_type": "execute_result"
    }
   ],
   "source": [
    "final = df[['job_cd','job_nm','job_jisi_dt','job_enddt','job_shm','job_ehm','job_class_nm_1','job_class_nm_2','job_class_nm_3','job_class_nm_4','fac_cd','fac_nm','fac_instdt','mat_cd','mat_nm_x',\n",
    "           'jangbi_class_nm_1','jangbi_class_nm_2','jangbi_class_nm_3','jangbi_class_nm_4','자재매칭여부','mat_nm_x','jajae_class_nm_1','jajae_class_nm_2','jajae_class_nm_3','jajae_class_cd_3']]\n",
    "final"
   ],
   "metadata": {
    "collapsed": false
   }
  },
  {
   "cell_type": "code",
   "execution_count": 4,
   "outputs": [
    {
     "data": {
      "text/plain": "            job_cd                               job_nm job_jisi_dt  \\\n3334  220325-00011      1동 2구역 1층 로비 남자화장실 5번째 소변기 급수불량  2022-03-25   \n5320  220727-00006       1동 3구역 1층 로비 남자 화장실 소변기 급수 계속됨  2022-07-27   \n2472  220207-00006     1동 1-2구역 2층 남자화장실 두번째 소변기 물 계속나옴  2022-02-07   \n5156  220718-00025  1동 1-2구역 302호 앞 남자화장실 첫번째 소변기 물 안나옴  2022-07-18   \n4518  220614-00023         1동 3구역 4층439호 남자화장실 소변기 막힘관련  2022-06-14   \n...            ...                                  ...         ...   \n2920  220307-00057             옥외 체육시설 남자화장실  소변기 센서 불량  2022-03-07   \n3729  220421-00061             8동 옥외체육시설 샤워실 개방 준비 온수공급  2022-04-21   \n3774  220425-00062            옥외 체육시설 남자샤워장 샤워기 손잡이 재조립  2022-04-25   \n3919  220503-00040          옥외 체육시설 남,여 화장실 세면대 하부 누수발생  2022-05-03   \n466   211020-00045               8동 빛들 어린이집 소변기 물 계속 흐름  2021-10-20   \n\n       job_enddt                 job_shm                 job_ehm  \\\n3334  2022-03-29  2022-03-29 오전 10:41:00   2022-03-29 오후 3:41:00   \n5320  2022-07-27  2022-07-27 오전 10:16:00  2022-07-27 오전 10:30:00   \n2472  2022-02-07   2022-02-07 오전 9:50:00  2022-02-07 오전 10:50:00   \n5156  2022-07-18  2022-07-18 오전 11:05:00  2022-07-18 오전 11:15:00   \n4518  2022-06-14   2022-06-14 오후 1:36:00   2022-06-14 오후 4:36:00   \n...          ...                     ...                     ...   \n2920  2022-03-07   2022-03-07 오후 3:45:00   2022-03-07 오후 4:05:00   \n3729  2022-04-21   2022-04-21 오전 9:30:00  2022-04-21 오전 10:40:00   \n3774  2022-04-25   2022-04-25 오전 9:20:00   2022-04-25 오전 9:52:00   \n3919  2022-05-03   2022-05-03 오후 1:20:00   2022-05-03 오후 3:30:00   \n466   2021-10-20   2021-10-20 오후 1:20:00   2021-10-20 오후 2:10:00   \n\n     job_class_nm_1 job_class_nm_2 job_class_nm_3 job_class_nm_4  ...  \\\n3334         1동 2구역             1층           위생설비            소변기  ...   \n5320         1동 3구역             1층           위생설비            소변기  ...   \n2472         1동 2구역             2층           위생설비            소변기  ...   \n5156         1동 2구역             3층           위생설비            소변기  ...   \n4518         1동 3구역             4층           위생설비            소변기  ...   \n...             ...            ...            ...            ...  ...   \n2920         옥외체육시설             1층           위생설비            소변기  ...   \n3729         옥외체육시설             1층           위생설비            소변기  ...   \n3774         옥외체육시설             1층           위생설비            소변기  ...   \n3919         옥외체육시설             1층           위생설비            소변기  ...   \n466            8-1동             1층           위생설비            소변기  ...   \n\n                              fac_nm  jangbi_class_nm_1 jangbi_class_nm_2  \\\n3334  (1)소-2-1F(남)134호로비-화장실) 소변기 6                  기계          위생, 탱크설비   \n5320  (1)소-3-1F(남)144호로비-화장실) 소변기 3                  기계          위생, 탱크설비   \n2472    (1)소-2-2F(남)226호-화장실) 소변기 2                  기계          위생, 탱크설비   \n5156    (1)소-2-3F(남)314호-화장실) 소변기 5                  기계          위생, 탱크설비   \n4518    (1)소-3-4F(남)438호-화장실) 소변기 4                  기계          위생, 탱크설비   \n...                              ...                ...               ...   \n2920             옥외체육시설-1F 화장실(남)소변기                 기계          위생, 탱크설비   \n3729             옥외체육시설-1F 화장실(남)소변기                 기계          위생, 탱크설비   \n3774             옥외체육시설-1F 화장실(남)소변기                 기계          위생, 탱크설비   \n3919             옥외체육시설-1F 화장실(남)소변기                 기계          위생, 탱크설비   \n466             빛들-1층 화장실(공) 어린이 소변기                 기계          위생, 탱크설비   \n\n     jangbi_class_nm_3 jangbi_class_nm_4 fac_instdt 자재매칭여부       기준일자 설치-작업간격  \\\n3334              위생설비               소변기 2011-07-19      1 2022-10-11    3902   \n5320              위생설비               소변기 2011-07-19      0 2022-10-11    4026   \n2472              위생설비               소변기 2011-07-19      0 2022-10-11    3856   \n5156              위생설비               소변기 2011-07-19      0 2022-10-11    4017   \n4518              위생설비               소변기 2011-07-19      1 2022-10-11    3983   \n...                ...               ...        ...    ...        ...     ...   \n2920              위생설비               소변기 2014-01-01      1 2022-10-11    2987   \n3729              위생설비               소변기 2014-01-01      0 2022-10-11    3032   \n3774              위생설비               소변기 2014-01-01      0 2022-10-11    3036   \n3919              위생설비               소변기 2014-01-01      1 2022-10-11    3044   \n466               위생설비               소변기 2014-04-01      1 2022-10-11    2759   \n\n     작업-작업간격  \n3334       0  \n5320       0  \n2472       0  \n5156       0  \n4518       0  \n...      ...  \n2920       0  \n3729       0  \n3774       0  \n3919       0  \n466        0  \n\n[447 rows x 25 columns]",
      "text/html": "<div>\n<style scoped>\n    .dataframe tbody tr th:only-of-type {\n        vertical-align: middle;\n    }\n\n    .dataframe tbody tr th {\n        vertical-align: top;\n    }\n\n    .dataframe thead th {\n        text-align: right;\n    }\n</style>\n<table border=\"1\" class=\"dataframe\">\n  <thead>\n    <tr style=\"text-align: right;\">\n      <th></th>\n      <th>job_cd</th>\n      <th>job_nm</th>\n      <th>job_jisi_dt</th>\n      <th>job_enddt</th>\n      <th>job_shm</th>\n      <th>job_ehm</th>\n      <th>job_class_nm_1</th>\n      <th>job_class_nm_2</th>\n      <th>job_class_nm_3</th>\n      <th>job_class_nm_4</th>\n      <th>...</th>\n      <th>fac_nm</th>\n      <th>jangbi_class_nm_1</th>\n      <th>jangbi_class_nm_2</th>\n      <th>jangbi_class_nm_3</th>\n      <th>jangbi_class_nm_4</th>\n      <th>fac_instdt</th>\n      <th>자재매칭여부</th>\n      <th>기준일자</th>\n      <th>설치-작업간격</th>\n      <th>작업-작업간격</th>\n    </tr>\n  </thead>\n  <tbody>\n    <tr>\n      <th>3334</th>\n      <td>220325-00011</td>\n      <td>1동 2구역 1층 로비 남자화장실 5번째 소변기 급수불량</td>\n      <td>2022-03-25</td>\n      <td>2022-03-29</td>\n      <td>2022-03-29 오전 10:41:00</td>\n      <td>2022-03-29 오후 3:41:00</td>\n      <td>1동 2구역</td>\n      <td>1층</td>\n      <td>위생설비</td>\n      <td>소변기</td>\n      <td>...</td>\n      <td>(1)소-2-1F(남)134호로비-화장실) 소변기 6</td>\n      <td>기계</td>\n      <td>위생, 탱크설비</td>\n      <td>위생설비</td>\n      <td>소변기</td>\n      <td>2011-07-19</td>\n      <td>1</td>\n      <td>2022-10-11</td>\n      <td>3902</td>\n      <td>0</td>\n    </tr>\n    <tr>\n      <th>5320</th>\n      <td>220727-00006</td>\n      <td>1동 3구역 1층 로비 남자 화장실 소변기 급수 계속됨</td>\n      <td>2022-07-27</td>\n      <td>2022-07-27</td>\n      <td>2022-07-27 오전 10:16:00</td>\n      <td>2022-07-27 오전 10:30:00</td>\n      <td>1동 3구역</td>\n      <td>1층</td>\n      <td>위생설비</td>\n      <td>소변기</td>\n      <td>...</td>\n      <td>(1)소-3-1F(남)144호로비-화장실) 소변기 3</td>\n      <td>기계</td>\n      <td>위생, 탱크설비</td>\n      <td>위생설비</td>\n      <td>소변기</td>\n      <td>2011-07-19</td>\n      <td>0</td>\n      <td>2022-10-11</td>\n      <td>4026</td>\n      <td>0</td>\n    </tr>\n    <tr>\n      <th>2472</th>\n      <td>220207-00006</td>\n      <td>1동 1-2구역 2층 남자화장실 두번째 소변기 물 계속나옴</td>\n      <td>2022-02-07</td>\n      <td>2022-02-07</td>\n      <td>2022-02-07 오전 9:50:00</td>\n      <td>2022-02-07 오전 10:50:00</td>\n      <td>1동 2구역</td>\n      <td>2층</td>\n      <td>위생설비</td>\n      <td>소변기</td>\n      <td>...</td>\n      <td>(1)소-2-2F(남)226호-화장실) 소변기 2</td>\n      <td>기계</td>\n      <td>위생, 탱크설비</td>\n      <td>위생설비</td>\n      <td>소변기</td>\n      <td>2011-07-19</td>\n      <td>0</td>\n      <td>2022-10-11</td>\n      <td>3856</td>\n      <td>0</td>\n    </tr>\n    <tr>\n      <th>5156</th>\n      <td>220718-00025</td>\n      <td>1동 1-2구역 302호 앞 남자화장실 첫번째 소변기 물 안나옴</td>\n      <td>2022-07-18</td>\n      <td>2022-07-18</td>\n      <td>2022-07-18 오전 11:05:00</td>\n      <td>2022-07-18 오전 11:15:00</td>\n      <td>1동 2구역</td>\n      <td>3층</td>\n      <td>위생설비</td>\n      <td>소변기</td>\n      <td>...</td>\n      <td>(1)소-2-3F(남)314호-화장실) 소변기 5</td>\n      <td>기계</td>\n      <td>위생, 탱크설비</td>\n      <td>위생설비</td>\n      <td>소변기</td>\n      <td>2011-07-19</td>\n      <td>0</td>\n      <td>2022-10-11</td>\n      <td>4017</td>\n      <td>0</td>\n    </tr>\n    <tr>\n      <th>4518</th>\n      <td>220614-00023</td>\n      <td>1동 3구역 4층439호 남자화장실 소변기 막힘관련</td>\n      <td>2022-06-14</td>\n      <td>2022-06-14</td>\n      <td>2022-06-14 오후 1:36:00</td>\n      <td>2022-06-14 오후 4:36:00</td>\n      <td>1동 3구역</td>\n      <td>4층</td>\n      <td>위생설비</td>\n      <td>소변기</td>\n      <td>...</td>\n      <td>(1)소-3-4F(남)438호-화장실) 소변기 4</td>\n      <td>기계</td>\n      <td>위생, 탱크설비</td>\n      <td>위생설비</td>\n      <td>소변기</td>\n      <td>2011-07-19</td>\n      <td>1</td>\n      <td>2022-10-11</td>\n      <td>3983</td>\n      <td>0</td>\n    </tr>\n    <tr>\n      <th>...</th>\n      <td>...</td>\n      <td>...</td>\n      <td>...</td>\n      <td>...</td>\n      <td>...</td>\n      <td>...</td>\n      <td>...</td>\n      <td>...</td>\n      <td>...</td>\n      <td>...</td>\n      <td>...</td>\n      <td>...</td>\n      <td>...</td>\n      <td>...</td>\n      <td>...</td>\n      <td>...</td>\n      <td>...</td>\n      <td>...</td>\n      <td>...</td>\n      <td>...</td>\n      <td>...</td>\n    </tr>\n    <tr>\n      <th>2920</th>\n      <td>220307-00057</td>\n      <td>옥외 체육시설 남자화장실  소변기 센서 불량</td>\n      <td>2022-03-07</td>\n      <td>2022-03-07</td>\n      <td>2022-03-07 오후 3:45:00</td>\n      <td>2022-03-07 오후 4:05:00</td>\n      <td>옥외체육시설</td>\n      <td>1층</td>\n      <td>위생설비</td>\n      <td>소변기</td>\n      <td>...</td>\n      <td>옥외체육시설-1F 화장실(남)소변기</td>\n      <td>기계</td>\n      <td>위생, 탱크설비</td>\n      <td>위생설비</td>\n      <td>소변기</td>\n      <td>2014-01-01</td>\n      <td>1</td>\n      <td>2022-10-11</td>\n      <td>2987</td>\n      <td>0</td>\n    </tr>\n    <tr>\n      <th>3729</th>\n      <td>220421-00061</td>\n      <td>8동 옥외체육시설 샤워실 개방 준비 온수공급</td>\n      <td>2022-04-21</td>\n      <td>2022-04-21</td>\n      <td>2022-04-21 오전 9:30:00</td>\n      <td>2022-04-21 오전 10:40:00</td>\n      <td>옥외체육시설</td>\n      <td>1층</td>\n      <td>위생설비</td>\n      <td>소변기</td>\n      <td>...</td>\n      <td>옥외체육시설-1F 화장실(남)소변기</td>\n      <td>기계</td>\n      <td>위생, 탱크설비</td>\n      <td>위생설비</td>\n      <td>소변기</td>\n      <td>2014-01-01</td>\n      <td>0</td>\n      <td>2022-10-11</td>\n      <td>3032</td>\n      <td>0</td>\n    </tr>\n    <tr>\n      <th>3774</th>\n      <td>220425-00062</td>\n      <td>옥외 체육시설 남자샤워장 샤워기 손잡이 재조립</td>\n      <td>2022-04-25</td>\n      <td>2022-04-25</td>\n      <td>2022-04-25 오전 9:20:00</td>\n      <td>2022-04-25 오전 9:52:00</td>\n      <td>옥외체육시설</td>\n      <td>1층</td>\n      <td>위생설비</td>\n      <td>소변기</td>\n      <td>...</td>\n      <td>옥외체육시설-1F 화장실(남)소변기</td>\n      <td>기계</td>\n      <td>위생, 탱크설비</td>\n      <td>위생설비</td>\n      <td>소변기</td>\n      <td>2014-01-01</td>\n      <td>0</td>\n      <td>2022-10-11</td>\n      <td>3036</td>\n      <td>0</td>\n    </tr>\n    <tr>\n      <th>3919</th>\n      <td>220503-00040</td>\n      <td>옥외 체육시설 남,여 화장실 세면대 하부 누수발생</td>\n      <td>2022-05-03</td>\n      <td>2022-05-03</td>\n      <td>2022-05-03 오후 1:20:00</td>\n      <td>2022-05-03 오후 3:30:00</td>\n      <td>옥외체육시설</td>\n      <td>1층</td>\n      <td>위생설비</td>\n      <td>소변기</td>\n      <td>...</td>\n      <td>옥외체육시설-1F 화장실(남)소변기</td>\n      <td>기계</td>\n      <td>위생, 탱크설비</td>\n      <td>위생설비</td>\n      <td>소변기</td>\n      <td>2014-01-01</td>\n      <td>1</td>\n      <td>2022-10-11</td>\n      <td>3044</td>\n      <td>0</td>\n    </tr>\n    <tr>\n      <th>466</th>\n      <td>211020-00045</td>\n      <td>8동 빛들 어린이집 소변기 물 계속 흐름</td>\n      <td>2021-10-20</td>\n      <td>2021-10-20</td>\n      <td>2021-10-20 오후 1:20:00</td>\n      <td>2021-10-20 오후 2:10:00</td>\n      <td>8-1동</td>\n      <td>1층</td>\n      <td>위생설비</td>\n      <td>소변기</td>\n      <td>...</td>\n      <td>빛들-1층 화장실(공) 어린이 소변기</td>\n      <td>기계</td>\n      <td>위생, 탱크설비</td>\n      <td>위생설비</td>\n      <td>소변기</td>\n      <td>2014-04-01</td>\n      <td>1</td>\n      <td>2022-10-11</td>\n      <td>2759</td>\n      <td>0</td>\n    </tr>\n  </tbody>\n</table>\n<p>447 rows × 25 columns</p>\n</div>"
     },
     "execution_count": 4,
     "metadata": {},
     "output_type": "execute_result"
    }
   ],
   "source": [
    "# 장비마스터의 소변기\n",
    "소변기 = fmsx05[fmsx05['jangbi_class_nm_4'] == '소변기']\n",
    "\n",
    "# 2021-10-01 ~ 2022-10-11 동안 장애가 발생한 소변기\n",
    "소변기_장애 =data[data['jangbi_class_nm_4']=='소변기']\n",
    "소변기_장애 = 소변기_장애.sort_values('job_jisi_dt')\n",
    "\n",
    "\n",
    "소변기_장애['기준일자'] = '2022-10-11'\n",
    "\n",
    "소변기_장애['기준일자'] = pd.to_datetime(소변기_장애['기준일자'])\n",
    "소변기_장애['fac_instdt'] = pd.to_datetime(소변기_장애['fac_instdt'])\n",
    "소변기_장애['job_jisi_dt'] = pd.to_datetime(소변기_장애['job_jisi_dt'])\n",
    "\n",
    "소변기_장애[['fac_cd','fac_instdt','job_jisi_dt','기준일자']]\n",
    "\n",
    "소변기_장애['설치-작업간격'] = 소변기_장애['job_jisi_dt'] - 소변기_장애['fac_instdt']\n",
    "\n",
    "def slicing(x):\n",
    "    return x[:-4]\n",
    "소변기_장애['설치-작업간격'] = 소변기_장애['설치-작업간격'].astype(str)\n",
    "소변기_장애['설치-작업간격'] = 소변기_장애['설치-작업간격'].apply(slicing)\n",
    "소변기_장애['설치-작업간격'] = 소변기_장애['설치-작업간격'].astype(int)\n",
    "\n",
    "소변기_장애['작업-작업간격'] = 0\n",
    "소변기_장애 = 소변기_장애.sort_values(['fac_cd','설치-작업간격'])\n",
    "소변기_장애"
   ],
   "metadata": {
    "collapsed": false
   }
  },
  {
   "cell_type": "code",
   "execution_count": 5,
   "outputs": [
    {
     "name": "stderr",
     "output_type": "stream",
     "text": [
      "/var/folders/nd/cl2nzwh13zx7jdly2t5m95340000gn/T/ipykernel_27684/3413671255.py:3: SettingWithCopyWarning: \n",
      "A value is trying to be set on a copy of a slice from a DataFrame\n",
      "\n",
      "See the caveats in the documentation: https://pandas.pydata.org/pandas-docs/stable/user_guide/indexing.html#returning-a-view-versus-a-copy\n",
      "  소변기_장애['작업-작업간격'].iloc[i] = 소변기_장애['설치-작업간격'].iloc[i]\n",
      "/var/folders/nd/cl2nzwh13zx7jdly2t5m95340000gn/T/ipykernel_27684/3413671255.py:10: SettingWithCopyWarning: \n",
      "A value is trying to be set on a copy of a slice from a DataFrame\n",
      "\n",
      "See the caveats in the documentation: https://pandas.pydata.org/pandas-docs/stable/user_guide/indexing.html#returning-a-view-versus-a-copy\n",
      "  소변기_장애['작업-작업간격'].iloc[i] = 소변기_장애['설치-작업간격'].iloc[i]\n",
      "/var/folders/nd/cl2nzwh13zx7jdly2t5m95340000gn/T/ipykernel_27684/3413671255.py:8: SettingWithCopyWarning: \n",
      "A value is trying to be set on a copy of a slice from a DataFrame\n",
      "\n",
      "See the caveats in the documentation: https://pandas.pydata.org/pandas-docs/stable/user_guide/indexing.html#returning-a-view-versus-a-copy\n",
      "  소변기_장애['작업-작업간격'].iloc[i] = 소변기_장애['설치-작업간격'].iloc[i] - 소변기_장애['설치-작업간격'].iloc[i-1]\n"
     ]
    }
   ],
   "source": [
    "for i in range(len(소변기_장애)):\n",
    "    if i == 0:\n",
    "        소변기_장애['작업-작업간격'].iloc[i] = 소변기_장애['설치-작업간격'].iloc[i]\n",
    "    else :\n",
    "        now_data = 소변기_장애['fac_cd'].iloc[i]\n",
    "        past_data = 소변기_장애['fac_cd'].iloc[i-1]\n",
    "        if now_data == past_data:\n",
    "            소변기_장애['작업-작업간격'].iloc[i] = 소변기_장애['설치-작업간격'].iloc[i] - 소변기_장애['설치-작업간격'].iloc[i-1]\n",
    "        else :\n",
    "            소변기_장애['작업-작업간격'].iloc[i] = 소변기_장애['설치-작업간격'].iloc[i]\n"
   ],
   "metadata": {
    "collapsed": false
   }
  },
  {
   "cell_type": "code",
   "execution_count": 11,
   "outputs": [
    {
     "data": {
      "text/plain": "           fac_cd  fac_instdt  작업-작업간격\n0    200201020387  2014-11-01      NaN\n1    200201020002  2011-07-19      NaN\n2    200201020001  2011-07-19      NaN\n3    200201020005  2011-07-19      NaN\n4    200201020008  2011-07-19      NaN\n..            ...         ...      ...\n796  200201020351  2014-11-01      NaN\n797  200201020331  2014-11-01      NaN\n798  200201020356  2014-11-01      NaN\n799  200201020358  2014-11-01      NaN\n800  200201020361  2014-11-01      NaN\n\n[801 rows x 3 columns]",
      "text/html": "<div>\n<style scoped>\n    .dataframe tbody tr th:only-of-type {\n        vertical-align: middle;\n    }\n\n    .dataframe tbody tr th {\n        vertical-align: top;\n    }\n\n    .dataframe thead th {\n        text-align: right;\n    }\n</style>\n<table border=\"1\" class=\"dataframe\">\n  <thead>\n    <tr style=\"text-align: right;\">\n      <th></th>\n      <th>fac_cd</th>\n      <th>fac_instdt</th>\n      <th>작업-작업간격</th>\n    </tr>\n  </thead>\n  <tbody>\n    <tr>\n      <th>0</th>\n      <td>200201020387</td>\n      <td>2014-11-01</td>\n      <td>NaN</td>\n    </tr>\n    <tr>\n      <th>1</th>\n      <td>200201020002</td>\n      <td>2011-07-19</td>\n      <td>NaN</td>\n    </tr>\n    <tr>\n      <th>2</th>\n      <td>200201020001</td>\n      <td>2011-07-19</td>\n      <td>NaN</td>\n    </tr>\n    <tr>\n      <th>3</th>\n      <td>200201020005</td>\n      <td>2011-07-19</td>\n      <td>NaN</td>\n    </tr>\n    <tr>\n      <th>4</th>\n      <td>200201020008</td>\n      <td>2011-07-19</td>\n      <td>NaN</td>\n    </tr>\n    <tr>\n      <th>...</th>\n      <td>...</td>\n      <td>...</td>\n      <td>...</td>\n    </tr>\n    <tr>\n      <th>796</th>\n      <td>200201020351</td>\n      <td>2014-11-01</td>\n      <td>NaN</td>\n    </tr>\n    <tr>\n      <th>797</th>\n      <td>200201020331</td>\n      <td>2014-11-01</td>\n      <td>NaN</td>\n    </tr>\n    <tr>\n      <th>798</th>\n      <td>200201020356</td>\n      <td>2014-11-01</td>\n      <td>NaN</td>\n    </tr>\n    <tr>\n      <th>799</th>\n      <td>200201020358</td>\n      <td>2014-11-01</td>\n      <td>NaN</td>\n    </tr>\n    <tr>\n      <th>800</th>\n      <td>200201020361</td>\n      <td>2014-11-01</td>\n      <td>NaN</td>\n    </tr>\n  </tbody>\n</table>\n<p>801 rows × 3 columns</p>\n</div>"
     },
     "execution_count": 11,
     "metadata": {},
     "output_type": "execute_result"
    }
   ],
   "source": [
    "max_time = datetime.datetime(2022,10,11)\n",
    "\n",
    "urinal = pd.merge(소변기[['fac_cd','fac_instdt']],소변기_장애[['fac_cd','작업-작업간격']], on ='fac_cd', how ='left')\n",
    "urinal"
   ],
   "metadata": {
    "collapsed": false
   }
  },
  {
   "cell_type": "code",
   "execution_count": 6,
   "outputs": [
    {
     "data": {
      "text/plain": "           fac_cd fac_instdt  작업-작업간격   max_time  status\n0    200201020387 2014-11-01     2901 2022-10-11       0\n1    200201020002 2011-07-19     4102 2022-10-11       0\n2    200201020001 2011-07-19     4102 2022-10-11       0\n3    200201020005 2011-07-19     4102 2022-10-11       0\n4    200201020008 2011-07-19     4102 2022-10-11       0\n..            ...        ...      ...        ...     ...\n796  200201020351 2014-11-01     2901 2022-10-11       0\n797  200201020331 2014-11-01     2901 2022-10-11       0\n798  200201020356 2014-11-01     2901 2022-10-11       0\n799  200201020358 2014-11-01     2901 2022-10-11       0\n800  200201020361 2014-11-01     2901 2022-10-11       0\n\n[786 rows x 5 columns]",
      "text/html": "<div>\n<style scoped>\n    .dataframe tbody tr th:only-of-type {\n        vertical-align: middle;\n    }\n\n    .dataframe tbody tr th {\n        vertical-align: top;\n    }\n\n    .dataframe thead th {\n        text-align: right;\n    }\n</style>\n<table border=\"1\" class=\"dataframe\">\n  <thead>\n    <tr style=\"text-align: right;\">\n      <th></th>\n      <th>fac_cd</th>\n      <th>fac_instdt</th>\n      <th>작업-작업간격</th>\n      <th>max_time</th>\n      <th>status</th>\n    </tr>\n  </thead>\n  <tbody>\n    <tr>\n      <th>0</th>\n      <td>200201020387</td>\n      <td>2014-11-01</td>\n      <td>2901</td>\n      <td>2022-10-11</td>\n      <td>0</td>\n    </tr>\n    <tr>\n      <th>1</th>\n      <td>200201020002</td>\n      <td>2011-07-19</td>\n      <td>4102</td>\n      <td>2022-10-11</td>\n      <td>0</td>\n    </tr>\n    <tr>\n      <th>2</th>\n      <td>200201020001</td>\n      <td>2011-07-19</td>\n      <td>4102</td>\n      <td>2022-10-11</td>\n      <td>0</td>\n    </tr>\n    <tr>\n      <th>3</th>\n      <td>200201020005</td>\n      <td>2011-07-19</td>\n      <td>4102</td>\n      <td>2022-10-11</td>\n      <td>0</td>\n    </tr>\n    <tr>\n      <th>4</th>\n      <td>200201020008</td>\n      <td>2011-07-19</td>\n      <td>4102</td>\n      <td>2022-10-11</td>\n      <td>0</td>\n    </tr>\n    <tr>\n      <th>...</th>\n      <td>...</td>\n      <td>...</td>\n      <td>...</td>\n      <td>...</td>\n      <td>...</td>\n    </tr>\n    <tr>\n      <th>796</th>\n      <td>200201020351</td>\n      <td>2014-11-01</td>\n      <td>2901</td>\n      <td>2022-10-11</td>\n      <td>0</td>\n    </tr>\n    <tr>\n      <th>797</th>\n      <td>200201020331</td>\n      <td>2014-11-01</td>\n      <td>2901</td>\n      <td>2022-10-11</td>\n      <td>0</td>\n    </tr>\n    <tr>\n      <th>798</th>\n      <td>200201020356</td>\n      <td>2014-11-01</td>\n      <td>2901</td>\n      <td>2022-10-11</td>\n      <td>0</td>\n    </tr>\n    <tr>\n      <th>799</th>\n      <td>200201020358</td>\n      <td>2014-11-01</td>\n      <td>2901</td>\n      <td>2022-10-11</td>\n      <td>0</td>\n    </tr>\n    <tr>\n      <th>800</th>\n      <td>200201020361</td>\n      <td>2014-11-01</td>\n      <td>2901</td>\n      <td>2022-10-11</td>\n      <td>0</td>\n    </tr>\n  </tbody>\n</table>\n<p>786 rows × 5 columns</p>\n</div>"
     },
     "execution_count": 6,
     "metadata": {},
     "output_type": "execute_result"
    }
   ],
   "source": [
    "urinal['fac_instdt'] = pd.to_datetime(urinal['fac_instdt'])\n",
    "urinal['max_time'] = max_time\n",
    "urinal['max_time'] = pd.to_datetime(urinal['max_time'])\n",
    "urinal['작업-작업간격'] = urinal['작업-작업간격'].fillna(999999)\n",
    "urinal.dropna(inplace = True)\n",
    "def status(df):\n",
    "    if df['작업-작업간격'] == 999999:\n",
    "        return 0\n",
    "    else :\n",
    "        return 1\n",
    "\n",
    "urinal['status'] =urinal.apply(status,axis=1)\n",
    "# for i in range(len(urinal)):\n",
    "#     if urinal['status'].iloc[i] == 0:\n",
    "#         urinal['작업-작업간격'].iloc[i] = max_time - urinal['fac_instdt'].iloc[i]\n",
    "\n",
    "#urinal.apply(day_null,axis=0)\n",
    "\n",
    "def time(df):\n",
    "    x = df['작업-작업간격']\n",
    "    if x == 999999:\n",
    "        return int(str(df['max_time'] -  df['fac_instdt'])[:-13])\n",
    "    else :\n",
    "        return int(x)\n",
    "#urinal['작업-작업간격'] = urinal.apply(time,axis=1)\n",
    "urinal['작업-작업간격']= urinal.apply(time,axis=1)\n",
    "urinal"
   ],
   "metadata": {
    "collapsed": false
   }
  },
  {
   "cell_type": "code",
   "execution_count": 7,
   "outputs": [
    {
     "data": {
      "text/plain": "           fac_cd fac_instdt  작업-작업간격   max_time  status\n399  200201020039 2012-03-01        0 2022-10-11       1\n254  200201020337 2019-12-03        0 2022-10-11       1\n377  200201020025 2012-03-01        0 2022-10-11       1\n518  200201020516 2012-03-01        0 2022-10-11       1\n389  200201020032 2012-03-01        0 2022-10-11       1\n..            ...        ...      ...        ...     ...\n74   200201020158 2011-07-19     4102 2022-10-11       0\n73   200201020176 2011-07-19     4102 2022-10-11       0\n72   200201020144 2011-07-19     4102 2022-10-11       0\n82   200201020164 2011-07-19     4102 2022-10-11       0\n89   200201020205 2011-07-19     4102 2022-10-11       0\n\n[786 rows x 5 columns]",
      "text/html": "<div>\n<style scoped>\n    .dataframe tbody tr th:only-of-type {\n        vertical-align: middle;\n    }\n\n    .dataframe tbody tr th {\n        vertical-align: top;\n    }\n\n    .dataframe thead th {\n        text-align: right;\n    }\n</style>\n<table border=\"1\" class=\"dataframe\">\n  <thead>\n    <tr style=\"text-align: right;\">\n      <th></th>\n      <th>fac_cd</th>\n      <th>fac_instdt</th>\n      <th>작업-작업간격</th>\n      <th>max_time</th>\n      <th>status</th>\n    </tr>\n  </thead>\n  <tbody>\n    <tr>\n      <th>399</th>\n      <td>200201020039</td>\n      <td>2012-03-01</td>\n      <td>0</td>\n      <td>2022-10-11</td>\n      <td>1</td>\n    </tr>\n    <tr>\n      <th>254</th>\n      <td>200201020337</td>\n      <td>2019-12-03</td>\n      <td>0</td>\n      <td>2022-10-11</td>\n      <td>1</td>\n    </tr>\n    <tr>\n      <th>377</th>\n      <td>200201020025</td>\n      <td>2012-03-01</td>\n      <td>0</td>\n      <td>2022-10-11</td>\n      <td>1</td>\n    </tr>\n    <tr>\n      <th>518</th>\n      <td>200201020516</td>\n      <td>2012-03-01</td>\n      <td>0</td>\n      <td>2022-10-11</td>\n      <td>1</td>\n    </tr>\n    <tr>\n      <th>389</th>\n      <td>200201020032</td>\n      <td>2012-03-01</td>\n      <td>0</td>\n      <td>2022-10-11</td>\n      <td>1</td>\n    </tr>\n    <tr>\n      <th>...</th>\n      <td>...</td>\n      <td>...</td>\n      <td>...</td>\n      <td>...</td>\n      <td>...</td>\n    </tr>\n    <tr>\n      <th>74</th>\n      <td>200201020158</td>\n      <td>2011-07-19</td>\n      <td>4102</td>\n      <td>2022-10-11</td>\n      <td>0</td>\n    </tr>\n    <tr>\n      <th>73</th>\n      <td>200201020176</td>\n      <td>2011-07-19</td>\n      <td>4102</td>\n      <td>2022-10-11</td>\n      <td>0</td>\n    </tr>\n    <tr>\n      <th>72</th>\n      <td>200201020144</td>\n      <td>2011-07-19</td>\n      <td>4102</td>\n      <td>2022-10-11</td>\n      <td>0</td>\n    </tr>\n    <tr>\n      <th>82</th>\n      <td>200201020164</td>\n      <td>2011-07-19</td>\n      <td>4102</td>\n      <td>2022-10-11</td>\n      <td>0</td>\n    </tr>\n    <tr>\n      <th>89</th>\n      <td>200201020205</td>\n      <td>2011-07-19</td>\n      <td>4102</td>\n      <td>2022-10-11</td>\n      <td>0</td>\n    </tr>\n  </tbody>\n</table>\n<p>786 rows × 5 columns</p>\n</div>"
     },
     "execution_count": 7,
     "metadata": {},
     "output_type": "execute_result"
    }
   ],
   "source": [
    "from lifelines import KaplanMeierFitter\n",
    "kmf = KaplanMeierFitter()\n",
    "urinal.sort_values(by='작업-작업간격', ascending=True)\n"
   ],
   "metadata": {
    "collapsed": false
   }
  },
  {
   "cell_type": "code",
   "execution_count": 8,
   "outputs": [
    {
     "data": {
      "text/plain": "<AxesSubplot:xlabel='timeline'>"
     },
     "execution_count": 8,
     "metadata": {},
     "output_type": "execute_result"
    },
    {
     "data": {
      "text/plain": "<Figure size 640x480 with 1 Axes>",
      "image/png": "[encoded data removed]"
     },
     "metadata": {},
     "output_type": "display_data"
    }
   ],
   "source": [
    "kmf.fit(durations=urinal['작업-작업간격'], event_observed=urinal['status'])\n",
    "kmf.plot_survival_function()"
   ],
   "metadata": {
    "collapsed": false
   }
  },
  {
   "cell_type": "code",
   "execution_count": 10,
   "outputs": [
    {
     "ename": "SyntaxError",
     "evalue": "unmatched ')' (1756555242.py, line 1)",
     "output_type": "error",
     "traceback": [
      "\u001B[0;36m  Input \u001B[0;32mIn [10]\u001B[0;36m\u001B[0m\n\u001B[0;31m    print('아씨발왜이러노 ㅋㅋ'))\u001B[0m\n\u001B[0m                       ^\u001B[0m\n\u001B[0;31mSyntaxError\u001B[0m\u001B[0;31m:\u001B[0m unmatched ')'\n"
     ]
    }
   ],
   "source": [
    "print('아씨발왜이러노 ㅋㅋ'))"
   ],
   "metadata": {
    "collapsed": false
   }
  }
 ],
 "metadata": {
  "kernelspec": {
   "display_name": "Python 3",
   "language": "python",
   "name": "python3"
  },
  "language_info": {
   "codemirror_mode": {
    "name": "ipython",
    "version": 2
   },
   "file_extension": ".py",
   "mimetype": "text/x-python",
   "name": "python",
   "nbconvert_exporter": "python",
   "pygments_lexer": "ipython2",
   "version": "2.7.6"
  }
 },
 "nbformat": 4,
 "nbformat_minor": 0
}

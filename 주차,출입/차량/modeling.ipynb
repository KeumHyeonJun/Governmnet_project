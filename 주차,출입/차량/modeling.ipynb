{
 "cells": [
  {
   "cell_type": "code",
   "execution_count": 2,
   "outputs": [],
   "source": [
    "import pandas as pd"
   ],
   "metadata": {
    "collapsed": false
   }
  },
  {
   "cell_type": "code",
   "execution_count": 3,
   "metadata": {
    "collapsed": true
   },
   "outputs": [
    {
     "name": "stderr",
     "output_type": "stream",
     "text": [
      "/var/folders/nd/cl2nzwh13zx7jdly2t5m95340000gn/T/ipykernel_71119/2217914400.py:2: DtypeWarning: Columns (0,1,2,5,6,7,8,9) have mixed types. Specify dtype option on import or set low_memory=False.\n",
      "  VW_in = pd.read_csv('VW_InCarinfo (차량 입차 정보 조회).csv')\n"
     ]
    },
    {
     "name": "stdout",
     "output_type": "stream",
     "text": [
      "38672\n",
      "38672\n"
     ]
    }
   ],
   "source": [
    "TM = pd.read_csv('TM_MDM_VHCLE_CMG (세종 차량연계 정보).csv')\n",
    "VW_in = pd.read_csv('VW_InCarinfo (차량 입차 정보 조회).csv')\n",
    "VW_in = VW_in.dropna()\n",
    "VW_out = pd.read_csv('VW_OutCarinfo (차량 출차 정보 조회).csv')\n",
    "car_normal = pd.read_csv('일반차량.csv')\n",
    "car_ticket =pd.read_csv('정기권차량.csv')\n",
    "print(len(VW_in))\n",
    "print(len(VW_out))"
   ]
  },
  {
   "cell_type": "code",
   "execution_count": null,
   "outputs": [],
   "source": [],
   "metadata": {
    "collapsed": false
   }
  },
  {
   "cell_type": "code",
   "execution_count": null,
   "outputs": [],
   "source": [],
   "metadata": {
    "collapsed": false
   }
  }
 ],
 "metadata": {
  "kernelspec": {
   "display_name": "Python 3",
   "language": "python",
   "name": "python3"
  },
  "language_info": {
   "codemirror_mode": {
    "name": "ipython",
    "version": 2
   },
   "file_extension": ".py",
   "mimetype": "text/x-python",
   "name": "python",
   "nbconvert_exporter": "python",
   "pygments_lexer": "ipython2",
   "version": "2.7.6"
  }
 },
 "nbformat": 4,
 "nbformat_minor": 0
}

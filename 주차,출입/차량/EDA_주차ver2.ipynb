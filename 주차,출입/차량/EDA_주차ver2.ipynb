{
 "cells": [
  {
   "cell_type": "code",
   "execution_count": 2,
   "metadata": {
    "collapsed": true
   },
   "outputs": [],
   "source": [
    "import  pandas as pd\n",
    "from matplotlib import pyplot as plt\n",
    "import numpy as np\n",
    "import matplotlib\n",
    "plt.rc('font', family='AppleGothic')\n",
    "plt.rcParams['axes.unicode_minus'] = False"
   ]
  },
  {
   "cell_type": "code",
   "execution_count": 3,
   "outputs": [
    {
     "name": "stderr",
     "output_type": "stream",
     "text": [
      "/var/folders/nd/cl2nzwh13zx7jdly2t5m95340000gn/T/ipykernel_43622/2217914400.py:2: DtypeWarning: Columns (0,1,2,5,6,7,8,9) have mixed types. Specify dtype option on import or set low_memory=False.\n",
      "  VW_in = pd.read_csv('VW_InCarinfo (차량 입차 정보 조회).csv')\n"
     ]
    },
    {
     "name": "stdout",
     "output_type": "stream",
     "text": [
      "38672\n",
      "38672\n"
     ]
    }
   ],
   "source": [
    "TM = pd.read_csv('TM_MDM_VHCLE_CMG (세종 차량연계 정보).csv')\n",
    "VW_in = pd.read_csv('VW_InCarinfo (차량 입차 정보 조회).csv')\n",
    "VW_in = VW_in.dropna()\n",
    "VW_out = pd.read_csv('VW_OutCarinfo (차량 출차 정보 조회).csv')\n",
    "car_normal = pd.read_csv('일반차량.csv')\n",
    "car_ticket =pd.read_csv('정기권차량.csv')\n",
    "print(len(VW_in))\n",
    "print(len(VW_out))"
   ],
   "metadata": {
    "collapsed": false
   }
  },
  {
   "cell_type": "markdown",
   "source": [
    "# 주차장 차량 수가 음수가 되는 이유??"
   ],
   "metadata": {
    "collapsed": false
   }
  },
  {
   "cell_type": "code",
   "execution_count": 4,
   "outputs": [
    {
     "name": "stderr",
     "output_type": "stream",
     "text": [
      "/var/folders/nd/cl2nzwh13zx7jdly2t5m95340000gn/T/ipykernel_43622/3993426172.py:8: SettingWithCopyWarning: \n",
      "A value is trying to be set on a copy of a slice from a DataFrame\n",
      "\n",
      "See the caveats in the documentation: https://pandas.pydata.org/pandas-docs/stable/user_guide/indexing.html#returning-a-view-versus-a-copy\n",
      "  df['장비명2'][i] = reg\n",
      "/var/folders/nd/cl2nzwh13zx7jdly2t5m95340000gn/T/ipykernel_43622/3993426172.py:8: SettingWithCopyWarning: \n",
      "A value is trying to be set on a copy of a slice from a DataFrame\n",
      "\n",
      "See the caveats in the documentation: https://pandas.pydata.org/pandas-docs/stable/user_guide/indexing.html#returning-a-view-versus-a-copy\n",
      "  df['장비명2'][i] = reg\n"
     ]
    }
   ],
   "source": [
    "import re\n",
    "\n",
    "\n",
    "def slicing(df,i) :\n",
    "    pattern = '.*동'\n",
    "    reg = re.search(pattern, df['장비명'][i])\n",
    "    reg = reg.group()\n",
    "    df['장비명2'][i] = reg\n",
    "    return reg\n",
    "VW_in['장비명2'] = 0\n",
    "for i in range(len(VW_in)):\n",
    "    slicing(VW_in,i)\n",
    "VW_out['장비명2'] = 0\n",
    "for i in range(len(VW_out)):\n",
    "    slicing(VW_out,i)"
   ],
   "metadata": {
    "collapsed": false
   }
  },
  {
   "cell_type": "code",
   "execution_count": 5,
   "outputs": [
    {
     "name": "stdout",
     "output_type": "stream",
     "text": [
      "12동의 입차 수 9748 출차 수 8798\n",
      "13-1동의 입차 수 4625 출차 수 4441\n",
      "13-2동의 입차 수 4484 출차 수 3819\n",
      "13-3동의 입차 수 839 출차 수 1053\n",
      "14-1동의 입차 수 879 출차 수 1142\n",
      "14-2동의 입차 수 11940 출차 수 13031\n",
      "15동의 입차 수 6157 출차 수 6388\n"
     ]
    }
   ],
   "source": [
    "arr = ['12동','13-1동','13-2동','13-3동','14-1동','14-2동','15동']\n",
    "for i in arr :\n",
    "    # num = len(VW_in[VW_in['장비명2']== i]) - len(VW_out[VW_out['장비명2']== i])\n",
    "    # if num == 0 :\n",
    "    #     print(f'{i}의 입차대수와 출차대수가 같습니다')\n",
    "    # elif num > 0:\n",
    "    #     print(f'{i}의 입차대수가 출차대수보다 {num}만큼 많습니다.')\n",
    "    # else :\n",
    "    #     print(f'{i}의 입차대수가 출차대수보다 {num}만큼 적습니다.')\n",
    "    print(f'{i}의 입차 수' , len(VW_in[VW_in['장비명2']== i]), '출차 수',len(VW_out[VW_out['장비명2']== i]) )"
   ],
   "metadata": {
    "collapsed": false
   }
  },
  {
   "cell_type": "code",
   "execution_count": 6,
   "outputs": [],
   "source": [
    "VW_in['입차시간'] = VW_in['입차일자'] +  VW_in['입차시각']\n",
    "VW_out['출차시간'] = VW_out['출차일자']  + VW_out['출차시각']\n",
    "VW_in['입차시간'] = pd.to_datetime(VW_in['입차시간'], format='%Y-%m-%d %H:%M:%S', errors='raise')\n",
    "VW_out['출차시간'] = pd.to_datetime(VW_out['출차시간'], format='%Y-%m-%d %H:%M:%S', errors='raise')"
   ],
   "metadata": {
    "collapsed": false
   }
  },
  {
   "cell_type": "code",
   "execution_count": 7,
   "outputs": [],
   "source": [
    "VW_in[['장비명','입차구분','입차고객구분','출차여부','차량종류']] = VW_in[['장비명','입차구분','입차고객구분','출차여부','차량종류']].apply(lambda x: x.str.strip(), axis = 1)\n",
    "VW_out[['장비명','출차구분','출차고객구분','출차여부','차량종류']]= VW_out[['장비명','출차구분','출차고객구분','출차여부','차량종류']].apply(lambda x: x.str.strip(), axis = 1)"
   ],
   "metadata": {
    "collapsed": false
   }
  },
  {
   "cell_type": "code",
   "execution_count": 8,
   "outputs": [
    {
     "data": {
      "text/plain": "정기권    38616\n일반        53\n할인         3\nName: 입차고객구분, dtype: int64"
     },
     "execution_count": 8,
     "metadata": {},
     "output_type": "execute_result"
    }
   ],
   "source": [
    "VW_in['입차고객구분'].value_counts()"
   ],
   "metadata": {
    "collapsed": false
   }
  },
  {
   "cell_type": "code",
   "execution_count": 9,
   "outputs": [
    {
     "data": {
      "text/plain": "정기권    38607\n일반        62\n할인         3\nName: 출차고객구분, dtype: int64"
     },
     "execution_count": 9,
     "metadata": {},
     "output_type": "execute_result"
    }
   ],
   "source": [
    "VW_out['출차고객구분'].value_counts()"
   ],
   "metadata": {
    "collapsed": false
   }
  },
  {
   "cell_type": "code",
   "execution_count": 10,
   "outputs": [
    {
     "data": {
      "text/plain": "             출차일자        출차시각      차량번호        주차일련번호        출차카드번호  \\\n0      2022-09-01   05:32:24    94고6836  1.111422e+16  1.000000e+14   \n1      2022-09-01   05:52:37    94고6836  1.111422e+16  1.000000e+14   \n2      2022-09-01   06:12:11    94고6836  1.111422e+16  1.000000e+14   \n3      2022-09-01   06:18:27    82도4072  1.111422e+16  1.000000e+14   \n4      2022-09-01   06:39:34    94고6836  1.111422e+16  1.000000e+14   \n...           ...         ...       ...           ...           ...   \n38667  2022-10-05    17:40:15   71하3305  1.411220e+16  1.000000e+14   \n38668  2022-10-05    19:03:47   50머4665  1.411220e+16  1.000000e+14   \n38669  2022-10-05    19:44:02  323러9283  1.411220e+16  1.000000e+14   \n38670  2022-10-05    19:46:40   09도7906  1.411220e+16  1.000000e+14   \n38671  2022-10-05    20:16:15   62수0808  1.411220e+16  1.000000e+14   \n\n             장비명   출차구분 출차고객구분 출차여부 차량종류   장비명2                출차시간  \n0      13-3동출구#1  정기권출차    정기권   출차   소형  13-3동 2022-09-01 05:32:24  \n1      13-3동출구#1  정기권출차    정기권   출차   소형  13-3동 2022-09-01 05:52:37  \n2      13-3동출구#1  정기권출차    정기권   출차   소형  13-3동 2022-09-01 06:12:11  \n3      13-3동출구#1  정기권출차    정기권   출차   소형  13-3동 2022-09-01 06:18:27  \n4      13-3동출구#1  정기권출차    정기권   출차   소형  13-3동 2022-09-01 06:39:34  \n...          ...    ...    ...  ...  ...    ...                 ...  \n38667    15동지하입구     정상    정기권  미출차   소형    15동 2022-10-05 17:40:15  \n38668    15동지하입구     정상    정기권  미출차   소형    15동 2022-10-05 19:03:47  \n38669    15동지하입구     정상    정기권  미출차   소형    15동 2022-10-05 19:44:02  \n38670    15동지하입구     정상    정기권  미출차   소형    15동 2022-10-05 19:46:40  \n38671    15동지하입구     정상    정기권  미출차   소형    15동 2022-10-05 20:16:15  \n\n[38672 rows x 12 columns]",
      "text/html": "<div>\n<style scoped>\n    .dataframe tbody tr th:only-of-type {\n        vertical-align: middle;\n    }\n\n    .dataframe tbody tr th {\n        vertical-align: top;\n    }\n\n    .dataframe thead th {\n        text-align: right;\n    }\n</style>\n<table border=\"1\" class=\"dataframe\">\n  <thead>\n    <tr style=\"text-align: right;\">\n      <th></th>\n      <th>출차일자</th>\n      <th>출차시각</th>\n      <th>차량번호</th>\n      <th>주차일련번호</th>\n      <th>출차카드번호</th>\n      <th>장비명</th>\n      <th>출차구분</th>\n      <th>출차고객구분</th>\n      <th>출차여부</th>\n      <th>차량종류</th>\n      <th>장비명2</th>\n      <th>출차시간</th>\n    </tr>\n  </thead>\n  <tbody>\n    <tr>\n      <th>0</th>\n      <td>2022-09-01</td>\n      <td>05:32:24</td>\n      <td>94고6836</td>\n      <td>1.111422e+16</td>\n      <td>1.000000e+14</td>\n      <td>13-3동출구#1</td>\n      <td>정기권출차</td>\n      <td>정기권</td>\n      <td>출차</td>\n      <td>소형</td>\n      <td>13-3동</td>\n      <td>2022-09-01 05:32:24</td>\n    </tr>\n    <tr>\n      <th>1</th>\n      <td>2022-09-01</td>\n      <td>05:52:37</td>\n      <td>94고6836</td>\n      <td>1.111422e+16</td>\n      <td>1.000000e+14</td>\n      <td>13-3동출구#1</td>\n      <td>정기권출차</td>\n      <td>정기권</td>\n      <td>출차</td>\n      <td>소형</td>\n      <td>13-3동</td>\n      <td>2022-09-01 05:52:37</td>\n    </tr>\n    <tr>\n      <th>2</th>\n      <td>2022-09-01</td>\n      <td>06:12:11</td>\n      <td>94고6836</td>\n      <td>1.111422e+16</td>\n      <td>1.000000e+14</td>\n      <td>13-3동출구#1</td>\n      <td>정기권출차</td>\n      <td>정기권</td>\n      <td>출차</td>\n      <td>소형</td>\n      <td>13-3동</td>\n      <td>2022-09-01 06:12:11</td>\n    </tr>\n    <tr>\n      <th>3</th>\n      <td>2022-09-01</td>\n      <td>06:18:27</td>\n      <td>82도4072</td>\n      <td>1.111422e+16</td>\n      <td>1.000000e+14</td>\n      <td>13-3동출구#1</td>\n      <td>정기권출차</td>\n      <td>정기권</td>\n      <td>출차</td>\n      <td>소형</td>\n      <td>13-3동</td>\n      <td>2022-09-01 06:18:27</td>\n    </tr>\n    <tr>\n      <th>4</th>\n      <td>2022-09-01</td>\n      <td>06:39:34</td>\n      <td>94고6836</td>\n      <td>1.111422e+16</td>\n      <td>1.000000e+14</td>\n      <td>13-3동출구#1</td>\n      <td>정기권출차</td>\n      <td>정기권</td>\n      <td>출차</td>\n      <td>소형</td>\n      <td>13-3동</td>\n      <td>2022-09-01 06:39:34</td>\n    </tr>\n    <tr>\n      <th>...</th>\n      <td>...</td>\n      <td>...</td>\n      <td>...</td>\n      <td>...</td>\n      <td>...</td>\n      <td>...</td>\n      <td>...</td>\n      <td>...</td>\n      <td>...</td>\n      <td>...</td>\n      <td>...</td>\n      <td>...</td>\n    </tr>\n    <tr>\n      <th>38667</th>\n      <td>2022-10-05</td>\n      <td>17:40:15</td>\n      <td>71하3305</td>\n      <td>1.411220e+16</td>\n      <td>1.000000e+14</td>\n      <td>15동지하입구</td>\n      <td>정상</td>\n      <td>정기권</td>\n      <td>미출차</td>\n      <td>소형</td>\n      <td>15동</td>\n      <td>2022-10-05 17:40:15</td>\n    </tr>\n    <tr>\n      <th>38668</th>\n      <td>2022-10-05</td>\n      <td>19:03:47</td>\n      <td>50머4665</td>\n      <td>1.411220e+16</td>\n      <td>1.000000e+14</td>\n      <td>15동지하입구</td>\n      <td>정상</td>\n      <td>정기권</td>\n      <td>미출차</td>\n      <td>소형</td>\n      <td>15동</td>\n      <td>2022-10-05 19:03:47</td>\n    </tr>\n    <tr>\n      <th>38669</th>\n      <td>2022-10-05</td>\n      <td>19:44:02</td>\n      <td>323러9283</td>\n      <td>1.411220e+16</td>\n      <td>1.000000e+14</td>\n      <td>15동지하입구</td>\n      <td>정상</td>\n      <td>정기권</td>\n      <td>미출차</td>\n      <td>소형</td>\n      <td>15동</td>\n      <td>2022-10-05 19:44:02</td>\n    </tr>\n    <tr>\n      <th>38670</th>\n      <td>2022-10-05</td>\n      <td>19:46:40</td>\n      <td>09도7906</td>\n      <td>1.411220e+16</td>\n      <td>1.000000e+14</td>\n      <td>15동지하입구</td>\n      <td>정상</td>\n      <td>정기권</td>\n      <td>미출차</td>\n      <td>소형</td>\n      <td>15동</td>\n      <td>2022-10-05 19:46:40</td>\n    </tr>\n    <tr>\n      <th>38671</th>\n      <td>2022-10-05</td>\n      <td>20:16:15</td>\n      <td>62수0808</td>\n      <td>1.411220e+16</td>\n      <td>1.000000e+14</td>\n      <td>15동지하입구</td>\n      <td>정상</td>\n      <td>정기권</td>\n      <td>미출차</td>\n      <td>소형</td>\n      <td>15동</td>\n      <td>2022-10-05 20:16:15</td>\n    </tr>\n  </tbody>\n</table>\n<p>38672 rows × 12 columns</p>\n</div>"
     },
     "execution_count": 10,
     "metadata": {},
     "output_type": "execute_result"
    }
   ],
   "source": [
    "VW_out"
   ],
   "metadata": {
    "collapsed": false
   }
  },
  {
   "cell_type": "code",
   "execution_count": 11,
   "outputs": [
    {
     "data": {
      "text/plain": "출차      32357\n강제출차     5946\n미출차       369\nName: 출차여부, dtype: int64"
     },
     "execution_count": 11,
     "metadata": {},
     "output_type": "execute_result"
    }
   ],
   "source": [
    "VW_out['출차여부'].value_counts()"
   ],
   "metadata": {
    "collapsed": false
   }
  },
  {
   "cell_type": "code",
   "execution_count": 12,
   "outputs": [
    {
     "data": {
      "text/plain": "정기권출차    22791\n정상        9231\n중복        6650\nName: 출차구분, dtype: int64"
     },
     "execution_count": 12,
     "metadata": {},
     "output_type": "execute_result"
    }
   ],
   "source": [
    "VW_out['출차구분'].value_counts()"
   ],
   "metadata": {
    "collapsed": false
   }
  },
  {
   "cell_type": "code",
   "execution_count": 13,
   "outputs": [
    {
     "data": {
      "text/plain": "정기권    38607\n일반        62\n할인         3\nName: 출차고객구분, dtype: int64"
     },
     "execution_count": 13,
     "metadata": {},
     "output_type": "execute_result"
    }
   ],
   "source": [
    "VW_out['출차고객구분'].value_counts()"
   ],
   "metadata": {
    "collapsed": false
   }
  },
  {
   "cell_type": "code",
   "execution_count": 14,
   "outputs": [
    {
     "data": {
      "text/plain": "정상    22872\n중복    15800\nName: 입차구분, dtype: int64"
     },
     "execution_count": 14,
     "metadata": {},
     "output_type": "execute_result"
    }
   ],
   "source": [
    "VW_in['입차구분'].value_counts()"
   ],
   "metadata": {
    "collapsed": false
   }
  },
  {
   "cell_type": "code",
   "execution_count": 15,
   "outputs": [
    {
     "data": {
      "text/plain": "출차      22753\n강제출차    15550\n미출차       369\nName: 출차여부, dtype: int64"
     },
     "execution_count": 15,
     "metadata": {},
     "output_type": "execute_result"
    }
   ],
   "source": [
    "VW_in['출차여부'].value_counts()"
   ],
   "metadata": {
    "collapsed": false
   }
  },
  {
   "cell_type": "code",
   "execution_count": 16,
   "outputs": [],
   "source": [
    "VW_in_normal = VW_in[VW_in['입차구분'] == '정상']"
   ],
   "metadata": {
    "collapsed": false
   }
  },
  {
   "cell_type": "code",
   "execution_count": 17,
   "outputs": [
    {
     "name": "stdout",
     "output_type": "stream",
     "text": [
      "12동의 입차 수 9748 출차 수 8798 950\n",
      "13-1동의 입차 수 4625 출차 수 4441 184\n",
      "13-2동의 입차 수 4484 출차 수 3819 665\n",
      "13-3동의 입차 수 839 출차 수 1053 -214\n",
      "14-1동의 입차 수 879 출차 수 1142 -263\n",
      "14-2동의 입차 수 11940 출차 수 13031 -1091\n",
      "15동의 입차 수 6157 출차 수 6388 -231\n"
     ]
    }
   ],
   "source": [
    "arr = ['12동','13-1동','13-2동','13-3동','14-1동','14-2동','15동']\n",
    "for i in arr :\n",
    "    # num = len(VW_in[VW_in['장비명2']== i]) - len(VW_out[VW_out['장비명2']== i])\n",
    "    # if num == 0 :\n",
    "    #     print(f'{i}의 입차대수와 출차대수가 같습니다')\n",
    "    # elif num > 0:\n",
    "    #     print(f'{i}의 입차대수가 출차대수보다 {num}만큼 많습니다.')\n",
    "    # else :\n",
    "    #     print(f'{i}의 입차대수가 출차대수보다 {num}만큼 적습니다.')\n",
    "    print(f'{i}의 입차 수' , len(VW_in[VW_in['장비명2']== i]), '출차 수',len(VW_out[VW_out['장비명2']== i]), len(VW_in[VW_in['장비명2']== i]) -  len(VW_out[VW_out['장비명2']== i]))"
   ],
   "metadata": {
    "collapsed": false
   }
  }
 ],
 "metadata": {
  "kernelspec": {
   "display_name": "Python 3",
   "language": "python",
   "name": "python3"
  },
  "language_info": {
   "codemirror_mode": {
    "name": "ipython",
    "version": 2
   },
   "file_extension": ".py",
   "mimetype": "text/x-python",
   "name": "python",
   "nbconvert_exporter": "python",
   "pygments_lexer": "ipython2",
   "version": "2.7.6"
  }
 },
 "nbformat": 4,
 "nbformat_minor": 0
}

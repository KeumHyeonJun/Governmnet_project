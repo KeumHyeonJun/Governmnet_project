{
 "cells": [
  {
   "cell_type": "code",
   "execution_count": 296,
   "outputs": [],
   "source": [
    "import pandas as pd\n",
    "import numpy as np"
   ],
   "metadata": {
    "collapsed": false
   }
  },
  {
   "cell_type": "code",
   "execution_count": 297,
   "outputs": [
    {
     "name": "stderr",
     "output_type": "stream",
     "text": [
      "/var/folders/nd/cl2nzwh13zx7jdly2t5m95340000gn/T/ipykernel_1781/45216043.py:2: DtypeWarning: Columns (0,1,2,5,6,7,8,9) have mixed types. Specify dtype option on import or set low_memory=False.\n",
      "  VW_in = pd.read_csv('VW_InCarinfo (차량 입차 정보 조회).csv')\n",
      "/var/folders/nd/cl2nzwh13zx7jdly2t5m95340000gn/T/ipykernel_1781/45216043.py:14: SettingWithCopyWarning: \n",
      "A value is trying to be set on a copy of a slice from a DataFrame\n",
      "\n",
      "See the caveats in the documentation: https://pandas.pydata.org/pandas-docs/stable/user_guide/indexing.html#returning-a-view-versus-a-copy\n",
      "  df['장비명2'][i] = reg\n",
      "/var/folders/nd/cl2nzwh13zx7jdly2t5m95340000gn/T/ipykernel_1781/45216043.py:14: SettingWithCopyWarning: \n",
      "A value is trying to be set on a copy of a slice from a DataFrame\n",
      "\n",
      "See the caveats in the documentation: https://pandas.pydata.org/pandas-docs/stable/user_guide/indexing.html#returning-a-view-versus-a-copy\n",
      "  df['장비명2'][i] = reg\n"
     ]
    },
    {
     "name": "stdout",
     "output_type": "stream",
     "text": [
      "12동의 입차 수 9748 출차 수 8798\n",
      "13-1동의 입차 수 4625 출차 수 4441\n",
      "13-2동의 입차 수 4484 출차 수 3819\n",
      "13-3동의 입차 수 839 출차 수 1053\n",
      "14-1동의 입차 수 879 출차 수 1142\n",
      "14-2동의 입차 수 11940 출차 수 13031\n",
      "15동의 입차 수 6157 출차 수 6388\n"
     ]
    }
   ],
   "source": [
    "TM = pd.read_csv('TM_MDM_VHCLE_CMG (세종 차량연계 정보).csv')\n",
    "VW_in = pd.read_csv('VW_InCarinfo (차량 입차 정보 조회).csv')\n",
    "VW_in = VW_in.dropna()\n",
    "VW_out = pd.read_csv('VW_OutCarinfo (차량 출차 정보 조회).csv')\n",
    "car_normal = pd.read_csv('일반차량.csv')\n",
    "car_ticket =pd.read_csv('정기권차량.csv')\n",
    "\n",
    "\n",
    "import re\n",
    "def slicing(df,i) :\n",
    "    pattern = '.*동'\n",
    "    reg = re.search(pattern, df['장비명'][i])\n",
    "    reg = reg.group()\n",
    "    df['장비명2'][i] = reg\n",
    "    return reg\n",
    "VW_in['장비명2'] = 0\n",
    "for i in range(len(VW_in)):\n",
    "    slicing(VW_in,i)\n",
    "VW_out['장비명2'] = 0\n",
    "for i in range(len(VW_out)):\n",
    "    slicing(VW_out,i)\n",
    "\n",
    "arr = ['12동','13-1동','13-2동','13-3동','14-1동','14-2동','15동']\n",
    "for i in arr :\n",
    "    # num = len(VW_in[VW_in['장비명2']== i]) - len(VW_out[VW_out['장비명2']== i])\n",
    "    # if num == 0 :\n",
    "    #     print(f'{i}의 입차대수와 출차대수가 같습니다')\n",
    "    # elif num > 0:\n",
    "    #     print(f'{i}의 입차대수가 출차대수보다 {num}만큼 많습니다.')\n",
    "    # else :\n",
    "    #     print(f'{i}의 입차대수가 출차대수보다 {num}만큼 적습니다.')\n",
    "    print(f'{i}의 입차 수' , len(VW_in[VW_in['장비명2']== i]), '출차 수',len(VW_out[VW_out['장비명2']== i]) )\n",
    "\n",
    "VW_in['입차시간'] = VW_in['입차일자'] +  VW_in['입차시각']\n",
    "VW_out['출차시간'] = VW_out['출차일자']  + VW_out['출차시각']\n",
    "VW_in['입차시간'] = pd.to_datetime(VW_in['입차시간'], format='%Y-%m-%d %H:%M:%S', errors='raise')\n",
    "VW_out['출차시간'] = pd.to_datetime(VW_out['출차시간'], format='%Y-%m-%d %H:%M:%S', errors='raise')\n",
    "\n",
    "VW_in[['장비명','입차구분','입차고객구분','출차여부','차량종류']] = VW_in[['장비명','입차구분','입차고객구분','출차여부','차량종류']].apply(lambda x: x.str.strip(), axis = 1)\n",
    "VW_out[['장비명','출차구분','출차고객구분','출차여부','차량종류']]= VW_out[['장비명','출차구분','출차고객구분','출차여부','차량종류']].apply(lambda x: x.str.strip(), axis = 1)\n"
   ],
   "metadata": {
    "collapsed": false
   }
  },
  {
   "cell_type": "code",
   "execution_count": 298,
   "outputs": [],
   "source": [
    "def pretreatment(df):\n",
    "    df['일시'] = pd.to_datetime(df['FilePath'].apply(lambda x: x[12:26]), format='%Y%m%d%H%M%S')\n",
    "    #df['일시'] = pd.to_datetime(df['일시']).apply(del_min_sec)\n",
    "    df = df[['CarNo','일시', 'FilePath', 'InOutDiv']]\n",
    "    df = df.rename({'FilePath':'주차일련번호'}, axis=1)\n",
    "    return df\n",
    "car_ticket = pretreatment(car_ticket)"
   ],
   "metadata": {
    "collapsed": false
   }
  },
  {
   "cell_type": "code",
   "execution_count": 299,
   "outputs": [
    {
     "data": {
      "text/plain": "         CarNo                  일시                                  주차일련번호  \\\n0      01노5776 2020-10-04 12:31:30  \\2020\\10\\04\\2020100412313001노5776F.jpg   \n1      01노5776 2020-10-04 19:05:57  \\2020\\10\\04\\2020100419055701노5776F.jpg   \n2      01노5776 2020-10-05 08:02:08  \\2020\\10\\05\\2020100508020801노5776F.jpg   \n3      01노5776 2020-10-05 13:19:50  \\2020\\10\\05\\2020100513195001노5776F.jpg   \n4      01노5776 2020-10-05 18:29:36  \\2020\\10\\05\\2020100518293601노5776F.jpg   \n...        ...                 ...                                     ...   \n42608  86고2448 2022-09-28 16:37:20  \\2022\\09\\28\\2022092816372086고2448F.jpg   \n42609  86고2448 2022-09-29 07:54:46  \\2022\\09\\29\\2022092907544686고2448F.jpg   \n42610  86고2448 2022-09-29 17:22:24  \\2022\\09\\29\\2022092917222486고2448F.jpg   \n42611  86고2448 2022-09-30 07:36:00  \\2022\\09\\30\\2022093007360086고2448F.jpg   \n42612  86고2448 2022-09-30 17:30:39  \\2022\\09\\30\\2022093017303986고2448F.jpg   \n\n       InOutDiv  잔류시간  \n0             1   NaN  \n1             2   NaN  \n2             1   NaN  \n3             2   NaN  \n4             1   NaN  \n...         ...   ...  \n42608         1   NaN  \n42609         2   NaN  \n42610         1   NaN  \n42611         2   NaN  \n42612         1   NaN  \n\n[42613 rows x 5 columns]",
      "text/html": "<div>\n<style scoped>\n    .dataframe tbody tr th:only-of-type {\n        vertical-align: middle;\n    }\n\n    .dataframe tbody tr th {\n        vertical-align: top;\n    }\n\n    .dataframe thead th {\n        text-align: right;\n    }\n</style>\n<table border=\"1\" class=\"dataframe\">\n  <thead>\n    <tr style=\"text-align: right;\">\n      <th></th>\n      <th>CarNo</th>\n      <th>일시</th>\n      <th>주차일련번호</th>\n      <th>InOutDiv</th>\n      <th>잔류시간</th>\n    </tr>\n  </thead>\n  <tbody>\n    <tr>\n      <th>0</th>\n      <td>01노5776</td>\n      <td>2020-10-04 12:31:30</td>\n      <td>\\2020\\10\\04\\2020100412313001노5776F.jpg</td>\n      <td>1</td>\n      <td>NaN</td>\n    </tr>\n    <tr>\n      <th>1</th>\n      <td>01노5776</td>\n      <td>2020-10-04 19:05:57</td>\n      <td>\\2020\\10\\04\\2020100419055701노5776F.jpg</td>\n      <td>2</td>\n      <td>NaN</td>\n    </tr>\n    <tr>\n      <th>2</th>\n      <td>01노5776</td>\n      <td>2020-10-05 08:02:08</td>\n      <td>\\2020\\10\\05\\2020100508020801노5776F.jpg</td>\n      <td>1</td>\n      <td>NaN</td>\n    </tr>\n    <tr>\n      <th>3</th>\n      <td>01노5776</td>\n      <td>2020-10-05 13:19:50</td>\n      <td>\\2020\\10\\05\\2020100513195001노5776F.jpg</td>\n      <td>2</td>\n      <td>NaN</td>\n    </tr>\n    <tr>\n      <th>4</th>\n      <td>01노5776</td>\n      <td>2020-10-05 18:29:36</td>\n      <td>\\2020\\10\\05\\2020100518293601노5776F.jpg</td>\n      <td>1</td>\n      <td>NaN</td>\n    </tr>\n    <tr>\n      <th>...</th>\n      <td>...</td>\n      <td>...</td>\n      <td>...</td>\n      <td>...</td>\n      <td>...</td>\n    </tr>\n    <tr>\n      <th>42608</th>\n      <td>86고2448</td>\n      <td>2022-09-28 16:37:20</td>\n      <td>\\2022\\09\\28\\2022092816372086고2448F.jpg</td>\n      <td>1</td>\n      <td>NaN</td>\n    </tr>\n    <tr>\n      <th>42609</th>\n      <td>86고2448</td>\n      <td>2022-09-29 07:54:46</td>\n      <td>\\2022\\09\\29\\2022092907544686고2448F.jpg</td>\n      <td>2</td>\n      <td>NaN</td>\n    </tr>\n    <tr>\n      <th>42610</th>\n      <td>86고2448</td>\n      <td>2022-09-29 17:22:24</td>\n      <td>\\2022\\09\\29\\2022092917222486고2448F.jpg</td>\n      <td>1</td>\n      <td>NaN</td>\n    </tr>\n    <tr>\n      <th>42611</th>\n      <td>86고2448</td>\n      <td>2022-09-30 07:36:00</td>\n      <td>\\2022\\09\\30\\2022093007360086고2448F.jpg</td>\n      <td>2</td>\n      <td>NaN</td>\n    </tr>\n    <tr>\n      <th>42612</th>\n      <td>86고2448</td>\n      <td>2022-09-30 17:30:39</td>\n      <td>\\2022\\09\\30\\2022093017303986고2448F.jpg</td>\n      <td>1</td>\n      <td>NaN</td>\n    </tr>\n  </tbody>\n</table>\n<p>42613 rows × 5 columns</p>\n</div>"
     },
     "execution_count": 299,
     "metadata": {},
     "output_type": "execute_result"
    }
   ],
   "source": [
    "car_ticket = car_ticket.sort_values(['CarNo','일시']).reset_index().drop(['index'],axis =1)\n",
    "car_ticket['잔류시간'] = np.nan\n",
    "car_ticket"
   ],
   "metadata": {
    "collapsed": false
   }
  },
  {
   "cell_type": "code",
   "execution_count": 300,
   "outputs": [],
   "source": [
    "def calculate_time(df):\n",
    "    idx = df.index\n",
    "    if idx < len(car_ticket):\n",
    "        next_df = df.loc[idx+1]\n",
    "        if (df['InOutDiv'] == 1) and  (next_df['InOutDiv'] == 2) and (df['CarNo'] == next_df['CarNo']):\n",
    "            df['잔류시간'] = next_df['일시'] - df['일시']\n",
    "            return df['잔류시간']\n",
    "\n"
   ],
   "metadata": {
    "collapsed": false
   }
  },
  {
   "cell_type": "code",
   "execution_count": 301,
   "outputs": [],
   "source": [
    "for idx in range(len(car_ticket)):\n",
    "    if idx +1 ==len(car_ticket):\n",
    "        break\n",
    "    df = car_ticket.iloc[idx]\n",
    "    next_df = car_ticket.iloc[idx+1]\n",
    "    if (df['InOutDiv'] == 1) and  (next_df['InOutDiv'] == 2) and (df['CarNo'] == next_df['CarNo']):\n",
    "        car_ticket.loc[idx,'잔류시간'] = next_df['일시'] - df['일시']\n",
    "        car_ticket.loc[idx,'잔류시간(초)'] =  car_ticket.loc[idx,'잔류시간'].total_seconds()"
   ],
   "metadata": {
    "collapsed": false
   }
  },
  {
   "cell_type": "code",
   "execution_count": 302,
   "outputs": [
    {
     "data": {
      "text/plain": "         CarNo                  일시                                  주차일련번호  \\\n0      01노5776 2020-10-04 12:31:30  \\2020\\10\\04\\2020100412313001노5776F.jpg   \n1      01노5776 2020-10-04 19:05:57  \\2020\\10\\04\\2020100419055701노5776F.jpg   \n2      01노5776 2020-10-05 08:02:08  \\2020\\10\\05\\2020100508020801노5776F.jpg   \n3      01노5776 2020-10-05 13:19:50  \\2020\\10\\05\\2020100513195001노5776F.jpg   \n4      01노5776 2020-10-05 18:29:36  \\2020\\10\\05\\2020100518293601노5776F.jpg   \n...        ...                 ...                                     ...   \n42608  86고2448 2022-09-28 16:37:20  \\2022\\09\\28\\2022092816372086고2448F.jpg   \n42609  86고2448 2022-09-29 07:54:46  \\2022\\09\\29\\2022092907544686고2448F.jpg   \n42610  86고2448 2022-09-29 17:22:24  \\2022\\09\\29\\2022092917222486고2448F.jpg   \n42611  86고2448 2022-09-30 07:36:00  \\2022\\09\\30\\2022093007360086고2448F.jpg   \n42612  86고2448 2022-09-30 17:30:39  \\2022\\09\\30\\2022093017303986고2448F.jpg   \n\n       InOutDiv             잔류시간  잔류시간(초)  \n0             1  0 days 06:34:27  23667.0  \n1             2              NaN      NaN  \n2             1  0 days 05:17:42  19062.0  \n3             2              NaN      NaN  \n4             1  0 days 04:00:51  14451.0  \n...         ...              ...      ...  \n42608         1  0 days 15:17:26  55046.0  \n42609         2              NaN      NaN  \n42610         1  0 days 14:13:36  51216.0  \n42611         2              NaN      NaN  \n42612         1              NaN      NaN  \n\n[42613 rows x 6 columns]",
      "text/html": "<div>\n<style scoped>\n    .dataframe tbody tr th:only-of-type {\n        vertical-align: middle;\n    }\n\n    .dataframe tbody tr th {\n        vertical-align: top;\n    }\n\n    .dataframe thead th {\n        text-align: right;\n    }\n</style>\n<table border=\"1\" class=\"dataframe\">\n  <thead>\n    <tr style=\"text-align: right;\">\n      <th></th>\n      <th>CarNo</th>\n      <th>일시</th>\n      <th>주차일련번호</th>\n      <th>InOutDiv</th>\n      <th>잔류시간</th>\n      <th>잔류시간(초)</th>\n    </tr>\n  </thead>\n  <tbody>\n    <tr>\n      <th>0</th>\n      <td>01노5776</td>\n      <td>2020-10-04 12:31:30</td>\n      <td>\\2020\\10\\04\\2020100412313001노5776F.jpg</td>\n      <td>1</td>\n      <td>0 days 06:34:27</td>\n      <td>23667.0</td>\n    </tr>\n    <tr>\n      <th>1</th>\n      <td>01노5776</td>\n      <td>2020-10-04 19:05:57</td>\n      <td>\\2020\\10\\04\\2020100419055701노5776F.jpg</td>\n      <td>2</td>\n      <td>NaN</td>\n      <td>NaN</td>\n    </tr>\n    <tr>\n      <th>2</th>\n      <td>01노5776</td>\n      <td>2020-10-05 08:02:08</td>\n      <td>\\2020\\10\\05\\2020100508020801노5776F.jpg</td>\n      <td>1</td>\n      <td>0 days 05:17:42</td>\n      <td>19062.0</td>\n    </tr>\n    <tr>\n      <th>3</th>\n      <td>01노5776</td>\n      <td>2020-10-05 13:19:50</td>\n      <td>\\2020\\10\\05\\2020100513195001노5776F.jpg</td>\n      <td>2</td>\n      <td>NaN</td>\n      <td>NaN</td>\n    </tr>\n    <tr>\n      <th>4</th>\n      <td>01노5776</td>\n      <td>2020-10-05 18:29:36</td>\n      <td>\\2020\\10\\05\\2020100518293601노5776F.jpg</td>\n      <td>1</td>\n      <td>0 days 04:00:51</td>\n      <td>14451.0</td>\n    </tr>\n    <tr>\n      <th>...</th>\n      <td>...</td>\n      <td>...</td>\n      <td>...</td>\n      <td>...</td>\n      <td>...</td>\n      <td>...</td>\n    </tr>\n    <tr>\n      <th>42608</th>\n      <td>86고2448</td>\n      <td>2022-09-28 16:37:20</td>\n      <td>\\2022\\09\\28\\2022092816372086고2448F.jpg</td>\n      <td>1</td>\n      <td>0 days 15:17:26</td>\n      <td>55046.0</td>\n    </tr>\n    <tr>\n      <th>42609</th>\n      <td>86고2448</td>\n      <td>2022-09-29 07:54:46</td>\n      <td>\\2022\\09\\29\\2022092907544686고2448F.jpg</td>\n      <td>2</td>\n      <td>NaN</td>\n      <td>NaN</td>\n    </tr>\n    <tr>\n      <th>42610</th>\n      <td>86고2448</td>\n      <td>2022-09-29 17:22:24</td>\n      <td>\\2022\\09\\29\\2022092917222486고2448F.jpg</td>\n      <td>1</td>\n      <td>0 days 14:13:36</td>\n      <td>51216.0</td>\n    </tr>\n    <tr>\n      <th>42611</th>\n      <td>86고2448</td>\n      <td>2022-09-30 07:36:00</td>\n      <td>\\2022\\09\\30\\2022093007360086고2448F.jpg</td>\n      <td>2</td>\n      <td>NaN</td>\n      <td>NaN</td>\n    </tr>\n    <tr>\n      <th>42612</th>\n      <td>86고2448</td>\n      <td>2022-09-30 17:30:39</td>\n      <td>\\2022\\09\\30\\2022093017303986고2448F.jpg</td>\n      <td>1</td>\n      <td>NaN</td>\n      <td>NaN</td>\n    </tr>\n  </tbody>\n</table>\n<p>42613 rows × 6 columns</p>\n</div>"
     },
     "execution_count": 302,
     "metadata": {},
     "output_type": "execute_result"
    }
   ],
   "source": [
    "car_ticket"
   ],
   "metadata": {
    "collapsed": false
   }
  },
  {
   "cell_type": "code",
   "execution_count": 303,
   "outputs": [],
   "source": [
    "import datetime\n",
    "def replace_time(x):\n",
    "    return x.replace('0 days ','')\n",
    "\n",
    "time_delta = car_ticket.dropna()\n",
    "#time_delta['잔류시간']= time_delta['잔류시간'].astype(str)\n",
    "#time_delta['잔류시간']= time_delta['잔류시간'].apply(replace_time)"
   ],
   "metadata": {
    "collapsed": false
   }
  },
  {
   "cell_type": "code",
   "execution_count": 304,
   "outputs": [
    {
     "name": "stderr",
     "output_type": "stream",
     "text": [
      "/var/folders/nd/cl2nzwh13zx7jdly2t5m95340000gn/T/ipykernel_1781/2056455362.py:1: SettingWithCopyWarning: \n",
      "A value is trying to be set on a copy of a slice from a DataFrame.\n",
      "Try using .loc[row_indexer,col_indexer] = value instead\n",
      "\n",
      "See the caveats in the documentation: https://pandas.pydata.org/pandas-docs/stable/user_guide/indexing.html#returning-a-view-versus-a-copy\n",
      "  time_delta['잔류시간(분)'] = time_delta['잔류시간(초)']//60\n",
      "/var/folders/nd/cl2nzwh13zx7jdly2t5m95340000gn/T/ipykernel_1781/2056455362.py:2: SettingWithCopyWarning: \n",
      "A value is trying to be set on a copy of a slice from a DataFrame.\n",
      "Try using .loc[row_indexer,col_indexer] = value instead\n",
      "\n",
      "See the caveats in the documentation: https://pandas.pydata.org/pandas-docs/stable/user_guide/indexing.html#returning-a-view-versus-a-copy\n",
      "  time_delta['잔류시간(시)'] = time_delta['잔류시간(분)']//60 +1\n"
     ]
    },
    {
     "data": {
      "text/plain": "         CarNo                  일시                                  주차일련번호  \\\n0      01노5776 2020-10-04 12:31:30  \\2020\\10\\04\\2020100412313001노5776F.jpg   \n2      01노5776 2020-10-05 08:02:08  \\2020\\10\\05\\2020100508020801노5776F.jpg   \n4      01노5776 2020-10-05 18:29:36  \\2020\\10\\05\\2020100518293601노5776F.jpg   \n6      01노5776 2020-10-06 07:51:39  \\2020\\10\\06\\2020100607513901노5776F.jpg   \n8      01노5776 2020-10-07 08:03:36  \\2020\\10\\07\\2020100708033601노5776F.jpg   \n...        ...                 ...                                     ...   \n42602  86고2448 2022-09-23 16:27:23  \\2022\\09\\23\\2022092316272386고2448F.jpg   \n42604  86고2448 2022-09-26 16:40:46  \\2022\\09\\26\\2022092616404686고2448F.jpg   \n42606  86고2448 2022-09-27 17:37:26  \\2022\\09\\27\\2022092717372686고2448F.jpg   \n42608  86고2448 2022-09-28 16:37:20  \\2022\\09\\28\\2022092816372086고2448F.jpg   \n42610  86고2448 2022-09-29 17:22:24  \\2022\\09\\29\\2022092917222486고2448F.jpg   \n\n       InOutDiv             잔류시간   잔류시간(초)  잔류시간(분)  잔류시간(시)  \n0             1  0 days 06:34:27   23667.0    394.0      7.0  \n2             1  0 days 05:17:42   19062.0    317.0      6.0  \n4             1  0 days 04:00:51   14451.0    240.0      5.0  \n6             1  0 days 05:41:48   20508.0    341.0      6.0  \n8             1  0 days 06:35:18   23718.0    395.0      7.0  \n...         ...              ...       ...      ...      ...  \n42602         1  2 days 15:07:36  227256.0   3787.0     64.0  \n42604         1  0 days 14:42:57   52977.0    882.0     15.0  \n42606         1  0 days 14:20:30   51630.0    860.0     15.0  \n42608         1  0 days 15:17:26   55046.0    917.0     16.0  \n42610         1  0 days 14:13:36   51216.0    853.0     15.0  \n\n[21213 rows x 8 columns]",
      "text/html": "<div>\n<style scoped>\n    .dataframe tbody tr th:only-of-type {\n        vertical-align: middle;\n    }\n\n    .dataframe tbody tr th {\n        vertical-align: top;\n    }\n\n    .dataframe thead th {\n        text-align: right;\n    }\n</style>\n<table border=\"1\" class=\"dataframe\">\n  <thead>\n    <tr style=\"text-align: right;\">\n      <th></th>\n      <th>CarNo</th>\n      <th>일시</th>\n      <th>주차일련번호</th>\n      <th>InOutDiv</th>\n      <th>잔류시간</th>\n      <th>잔류시간(초)</th>\n      <th>잔류시간(분)</th>\n      <th>잔류시간(시)</th>\n    </tr>\n  </thead>\n  <tbody>\n    <tr>\n      <th>0</th>\n      <td>01노5776</td>\n      <td>2020-10-04 12:31:30</td>\n      <td>\\2020\\10\\04\\2020100412313001노5776F.jpg</td>\n      <td>1</td>\n      <td>0 days 06:34:27</td>\n      <td>23667.0</td>\n      <td>394.0</td>\n      <td>7.0</td>\n    </tr>\n    <tr>\n      <th>2</th>\n      <td>01노5776</td>\n      <td>2020-10-05 08:02:08</td>\n      <td>\\2020\\10\\05\\2020100508020801노5776F.jpg</td>\n      <td>1</td>\n      <td>0 days 05:17:42</td>\n      <td>19062.0</td>\n      <td>317.0</td>\n      <td>6.0</td>\n    </tr>\n    <tr>\n      <th>4</th>\n      <td>01노5776</td>\n      <td>2020-10-05 18:29:36</td>\n      <td>\\2020\\10\\05\\2020100518293601노5776F.jpg</td>\n      <td>1</td>\n      <td>0 days 04:00:51</td>\n      <td>14451.0</td>\n      <td>240.0</td>\n      <td>5.0</td>\n    </tr>\n    <tr>\n      <th>6</th>\n      <td>01노5776</td>\n      <td>2020-10-06 07:51:39</td>\n      <td>\\2020\\10\\06\\2020100607513901노5776F.jpg</td>\n      <td>1</td>\n      <td>0 days 05:41:48</td>\n      <td>20508.0</td>\n      <td>341.0</td>\n      <td>6.0</td>\n    </tr>\n    <tr>\n      <th>8</th>\n      <td>01노5776</td>\n      <td>2020-10-07 08:03:36</td>\n      <td>\\2020\\10\\07\\2020100708033601노5776F.jpg</td>\n      <td>1</td>\n      <td>0 days 06:35:18</td>\n      <td>23718.0</td>\n      <td>395.0</td>\n      <td>7.0</td>\n    </tr>\n    <tr>\n      <th>...</th>\n      <td>...</td>\n      <td>...</td>\n      <td>...</td>\n      <td>...</td>\n      <td>...</td>\n      <td>...</td>\n      <td>...</td>\n      <td>...</td>\n    </tr>\n    <tr>\n      <th>42602</th>\n      <td>86고2448</td>\n      <td>2022-09-23 16:27:23</td>\n      <td>\\2022\\09\\23\\2022092316272386고2448F.jpg</td>\n      <td>1</td>\n      <td>2 days 15:07:36</td>\n      <td>227256.0</td>\n      <td>3787.0</td>\n      <td>64.0</td>\n    </tr>\n    <tr>\n      <th>42604</th>\n      <td>86고2448</td>\n      <td>2022-09-26 16:40:46</td>\n      <td>\\2022\\09\\26\\2022092616404686고2448F.jpg</td>\n      <td>1</td>\n      <td>0 days 14:42:57</td>\n      <td>52977.0</td>\n      <td>882.0</td>\n      <td>15.0</td>\n    </tr>\n    <tr>\n      <th>42606</th>\n      <td>86고2448</td>\n      <td>2022-09-27 17:37:26</td>\n      <td>\\2022\\09\\27\\2022092717372686고2448F.jpg</td>\n      <td>1</td>\n      <td>0 days 14:20:30</td>\n      <td>51630.0</td>\n      <td>860.0</td>\n      <td>15.0</td>\n    </tr>\n    <tr>\n      <th>42608</th>\n      <td>86고2448</td>\n      <td>2022-09-28 16:37:20</td>\n      <td>\\2022\\09\\28\\2022092816372086고2448F.jpg</td>\n      <td>1</td>\n      <td>0 days 15:17:26</td>\n      <td>55046.0</td>\n      <td>917.0</td>\n      <td>16.0</td>\n    </tr>\n    <tr>\n      <th>42610</th>\n      <td>86고2448</td>\n      <td>2022-09-29 17:22:24</td>\n      <td>\\2022\\09\\29\\2022092917222486고2448F.jpg</td>\n      <td>1</td>\n      <td>0 days 14:13:36</td>\n      <td>51216.0</td>\n      <td>853.0</td>\n      <td>15.0</td>\n    </tr>\n  </tbody>\n</table>\n<p>21213 rows × 8 columns</p>\n</div>"
     },
     "execution_count": 304,
     "metadata": {},
     "output_type": "execute_result"
    }
   ],
   "source": [
    "time_delta['잔류시간(분)'] = time_delta['잔류시간(초)']//60\n",
    "time_delta['잔류시간(시)'] = time_delta['잔류시간(분)']//60 +1\n",
    "time_delta"
   ],
   "metadata": {
    "collapsed": false
   }
  },
  {
   "cell_type": "code",
   "execution_count": 305,
   "outputs": [
    {
     "data": {
      "text/plain": "count    21213.000000\nmean         9.029039\nstd         29.447044\nmin          1.000000\n25%          3.000000\n50%          7.000000\n75%         10.000000\nmax       2848.000000\nName: 잔류시간(시), dtype: float64"
     },
     "execution_count": 305,
     "metadata": {},
     "output_type": "execute_result"
    }
   ],
   "source": [
    "time_delta['잔류시간(시)'].describe()"
   ],
   "metadata": {
    "collapsed": false
   }
  },
  {
   "cell_type": "code",
   "execution_count": 306,
   "outputs": [],
   "source": [
    "time_list = list(time_delta['잔류시간(시)'].unique())\n",
    "time_list.sort()\n"
   ],
   "metadata": {
    "collapsed": false
   }
  },
  {
   "cell_type": "code",
   "execution_count": 307,
   "outputs": [],
   "source": [
    "arr_time = []\n",
    "arr_num = []\n",
    "for i in time_list:\n",
    "    n = len(time_delta[time_delta['잔류시간(시)']==i])\n",
    "    arr_time.append(i)\n",
    "    arr_num.append(n)\n",
    "x = pd.DataFrame({'시간' :arr_time,\n",
    "                  '차량수':arr_num})\n",
    "#x.to_excel('주차1동 주차2동 주치사간별 차량수.xlsx')"
   ],
   "metadata": {
    "collapsed": false
   }
  },
  {
   "cell_type": "code",
   "execution_count": 312,
   "outputs": [
    {
     "data": {
      "text/plain": "          CarNo                  일시                                   주차일련번호  \\\n3839    08주8743 2021-04-20 13:17:34   \\2021\\04\\20\\2021042013173408주8743F.jpg   \n3947    08주8743 2021-07-23 15:21:40   \\2021\\07\\23\\2021072315214008주8743F.jpg   \n3949    08주8743 2021-08-01 08:59:35   \\2021\\08\\01\\2021080108593508주8743F.jpg   \n3961    08주8743 2021-08-20 20:25:46   \\2021\\08\\20\\2021082020254608주8743F.jpg   \n3963    08주8743 2021-12-17 20:54:03   \\2021\\12\\17\\2021121720540308주8743F.jpg   \n3967    08주8743 2022-01-08 23:54:28   \\2022\\01\\08\\2022010823542808주8743F.jpg   \n3969    08주8743 2022-01-16 22:56:43   \\2022\\01\\16\\2022011622564308주8743F.jpg   \n3975    08주8743 2022-02-01 14:23:46   \\2022\\02\\01\\2022020114234608주8743F.jpg   \n4061    08주8743 2022-05-30 00:38:46   \\2022\\05\\30\\2022053000384608주8743F.jpg   \n7848   104허2500 2022-05-29 23:09:51  \\2022\\05\\29\\20220529230951104허2500F.jpg   \n13304  193허6776 2022-04-20 12:02:16   \\2022\\04\\20\\2022042012021648너5403F.jpg   \n13318  193허6776 2022-05-25 09:41:52   \\2022\\05\\25\\2022052509415248너5403F.jpg   \n16520   21어9903 2022-01-07 17:32:56   \\2022\\01\\07\\2022010717325621어9903F.jpg   \n16644   21어9903 2022-05-08 14:42:45   \\2022\\05\\08\\2022050814424521어9903F.jpg   \n16662   21어9903 2022-05-27 17:29:52   \\2022\\05\\27\\2022052717295221어9903F.jpg   \n16698   21어9903 2022-08-01 10:12:54   \\2022\\08\\01\\2022080110125421어9903F.jpg   \n23005   32거2493 2022-05-29 15:06:17   \\2022\\05\\29\\2022052915061732거2493F.jpg   \n37886   60모8494 2022-05-29 16:33:29   \\2022\\05\\29\\2022052916332960모8494F.jpg   \n\n       InOutDiv               잔류시간     잔류시간(초)   잔류시간(분)  잔류시간(시)  \n3839          1   10 days 00:10:27    864627.0   14410.0    241.0  \n3947          1    8 days 15:55:43    748543.0   12475.0    208.0  \n3949          1    7 days 01:01:04    608464.0   10141.0    170.0  \n3961          1  118 days 15:39:43  10251583.0  170859.0   2848.0  \n3963          1   15 days 21:49:13   1374553.0   22909.0    382.0  \n3967          1    7 days 22:57:29    687449.0   11457.0    191.0  \n3969          1    9 days 23:47:30    863250.0   14387.0    240.0  \n3975          1   10 days 17:56:41    928601.0   15476.0    258.0  \n4061          1   45 days 17:35:29   3951329.0   65855.0   1098.0  \n7848          1   46 days 03:33:31   3987211.0   66453.0   1108.0  \n13304         1    9 days 07:13:29    803609.0   13393.0    224.0  \n13318         1   51 days 03:02:27   4417347.0   73622.0   1228.0  \n16520         1   11 days 04:10:49    965449.0   16090.0    269.0  \n16644         1    8 days 22:25:02    771902.0   12865.0    215.0  \n16662         1   48 days 18:41:50   4214510.0   70241.0   1171.0  \n16698         1    7 days 02:12:05    612725.0   10212.0    171.0  \n23005         1   46 days 03:19:07   3986347.0   66439.0   1108.0  \n37886         1   46 days 13:41:22   4023682.0   67061.0   1118.0  ",
      "text/html": "<div>\n<style scoped>\n    .dataframe tbody tr th:only-of-type {\n        vertical-align: middle;\n    }\n\n    .dataframe tbody tr th {\n        vertical-align: top;\n    }\n\n    .dataframe thead th {\n        text-align: right;\n    }\n</style>\n<table border=\"1\" class=\"dataframe\">\n  <thead>\n    <tr style=\"text-align: right;\">\n      <th></th>\n      <th>CarNo</th>\n      <th>일시</th>\n      <th>주차일련번호</th>\n      <th>InOutDiv</th>\n      <th>잔류시간</th>\n      <th>잔류시간(초)</th>\n      <th>잔류시간(분)</th>\n      <th>잔류시간(시)</th>\n    </tr>\n  </thead>\n  <tbody>\n    <tr>\n      <th>3839</th>\n      <td>08주8743</td>\n      <td>2021-04-20 13:17:34</td>\n      <td>\\2021\\04\\20\\2021042013173408주8743F.jpg</td>\n      <td>1</td>\n      <td>10 days 00:10:27</td>\n      <td>864627.0</td>\n      <td>14410.0</td>\n      <td>241.0</td>\n    </tr>\n    <tr>\n      <th>3947</th>\n      <td>08주8743</td>\n      <td>2021-07-23 15:21:40</td>\n      <td>\\2021\\07\\23\\2021072315214008주8743F.jpg</td>\n      <td>1</td>\n      <td>8 days 15:55:43</td>\n      <td>748543.0</td>\n      <td>12475.0</td>\n      <td>208.0</td>\n    </tr>\n    <tr>\n      <th>3949</th>\n      <td>08주8743</td>\n      <td>2021-08-01 08:59:35</td>\n      <td>\\2021\\08\\01\\2021080108593508주8743F.jpg</td>\n      <td>1</td>\n      <td>7 days 01:01:04</td>\n      <td>608464.0</td>\n      <td>10141.0</td>\n      <td>170.0</td>\n    </tr>\n    <tr>\n      <th>3961</th>\n      <td>08주8743</td>\n      <td>2021-08-20 20:25:46</td>\n      <td>\\2021\\08\\20\\2021082020254608주8743F.jpg</td>\n      <td>1</td>\n      <td>118 days 15:39:43</td>\n      <td>10251583.0</td>\n      <td>170859.0</td>\n      <td>2848.0</td>\n    </tr>\n    <tr>\n      <th>3963</th>\n      <td>08주8743</td>\n      <td>2021-12-17 20:54:03</td>\n      <td>\\2021\\12\\17\\2021121720540308주8743F.jpg</td>\n      <td>1</td>\n      <td>15 days 21:49:13</td>\n      <td>1374553.0</td>\n      <td>22909.0</td>\n      <td>382.0</td>\n    </tr>\n    <tr>\n      <th>3967</th>\n      <td>08주8743</td>\n      <td>2022-01-08 23:54:28</td>\n      <td>\\2022\\01\\08\\2022010823542808주8743F.jpg</td>\n      <td>1</td>\n      <td>7 days 22:57:29</td>\n      <td>687449.0</td>\n      <td>11457.0</td>\n      <td>191.0</td>\n    </tr>\n    <tr>\n      <th>3969</th>\n      <td>08주8743</td>\n      <td>2022-01-16 22:56:43</td>\n      <td>\\2022\\01\\16\\2022011622564308주8743F.jpg</td>\n      <td>1</td>\n      <td>9 days 23:47:30</td>\n      <td>863250.0</td>\n      <td>14387.0</td>\n      <td>240.0</td>\n    </tr>\n    <tr>\n      <th>3975</th>\n      <td>08주8743</td>\n      <td>2022-02-01 14:23:46</td>\n      <td>\\2022\\02\\01\\2022020114234608주8743F.jpg</td>\n      <td>1</td>\n      <td>10 days 17:56:41</td>\n      <td>928601.0</td>\n      <td>15476.0</td>\n      <td>258.0</td>\n    </tr>\n    <tr>\n      <th>4061</th>\n      <td>08주8743</td>\n      <td>2022-05-30 00:38:46</td>\n      <td>\\2022\\05\\30\\2022053000384608주8743F.jpg</td>\n      <td>1</td>\n      <td>45 days 17:35:29</td>\n      <td>3951329.0</td>\n      <td>65855.0</td>\n      <td>1098.0</td>\n    </tr>\n    <tr>\n      <th>7848</th>\n      <td>104허2500</td>\n      <td>2022-05-29 23:09:51</td>\n      <td>\\2022\\05\\29\\20220529230951104허2500F.jpg</td>\n      <td>1</td>\n      <td>46 days 03:33:31</td>\n      <td>3987211.0</td>\n      <td>66453.0</td>\n      <td>1108.0</td>\n    </tr>\n    <tr>\n      <th>13304</th>\n      <td>193허6776</td>\n      <td>2022-04-20 12:02:16</td>\n      <td>\\2022\\04\\20\\2022042012021648너5403F.jpg</td>\n      <td>1</td>\n      <td>9 days 07:13:29</td>\n      <td>803609.0</td>\n      <td>13393.0</td>\n      <td>224.0</td>\n    </tr>\n    <tr>\n      <th>13318</th>\n      <td>193허6776</td>\n      <td>2022-05-25 09:41:52</td>\n      <td>\\2022\\05\\25\\2022052509415248너5403F.jpg</td>\n      <td>1</td>\n      <td>51 days 03:02:27</td>\n      <td>4417347.0</td>\n      <td>73622.0</td>\n      <td>1228.0</td>\n    </tr>\n    <tr>\n      <th>16520</th>\n      <td>21어9903</td>\n      <td>2022-01-07 17:32:56</td>\n      <td>\\2022\\01\\07\\2022010717325621어9903F.jpg</td>\n      <td>1</td>\n      <td>11 days 04:10:49</td>\n      <td>965449.0</td>\n      <td>16090.0</td>\n      <td>269.0</td>\n    </tr>\n    <tr>\n      <th>16644</th>\n      <td>21어9903</td>\n      <td>2022-05-08 14:42:45</td>\n      <td>\\2022\\05\\08\\2022050814424521어9903F.jpg</td>\n      <td>1</td>\n      <td>8 days 22:25:02</td>\n      <td>771902.0</td>\n      <td>12865.0</td>\n      <td>215.0</td>\n    </tr>\n    <tr>\n      <th>16662</th>\n      <td>21어9903</td>\n      <td>2022-05-27 17:29:52</td>\n      <td>\\2022\\05\\27\\2022052717295221어9903F.jpg</td>\n      <td>1</td>\n      <td>48 days 18:41:50</td>\n      <td>4214510.0</td>\n      <td>70241.0</td>\n      <td>1171.0</td>\n    </tr>\n    <tr>\n      <th>16698</th>\n      <td>21어9903</td>\n      <td>2022-08-01 10:12:54</td>\n      <td>\\2022\\08\\01\\2022080110125421어9903F.jpg</td>\n      <td>1</td>\n      <td>7 days 02:12:05</td>\n      <td>612725.0</td>\n      <td>10212.0</td>\n      <td>171.0</td>\n    </tr>\n    <tr>\n      <th>23005</th>\n      <td>32거2493</td>\n      <td>2022-05-29 15:06:17</td>\n      <td>\\2022\\05\\29\\2022052915061732거2493F.jpg</td>\n      <td>1</td>\n      <td>46 days 03:19:07</td>\n      <td>3986347.0</td>\n      <td>66439.0</td>\n      <td>1108.0</td>\n    </tr>\n    <tr>\n      <th>37886</th>\n      <td>60모8494</td>\n      <td>2022-05-29 16:33:29</td>\n      <td>\\2022\\05\\29\\2022052916332960모8494F.jpg</td>\n      <td>1</td>\n      <td>46 days 13:41:22</td>\n      <td>4023682.0</td>\n      <td>67061.0</td>\n      <td>1118.0</td>\n    </tr>\n  </tbody>\n</table>\n</div>"
     },
     "execution_count": 312,
     "metadata": {},
     "output_type": "execute_result"
    }
   ],
   "source": [
    "time_delta[time_delta['잔류시간(시)']>168]"
   ],
   "metadata": {
    "collapsed": false
   }
  },
  {
   "cell_type": "code",
   "execution_count": 309,
   "outputs": [
    {
     "data": {
      "text/plain": "         CarNo                  일시                                  주차일련번호  \\\n0      01노5776 2020-10-04 12:31:30  \\2020\\10\\04\\2020100412313001노5776F.jpg   \n2      01노5776 2020-10-05 08:02:08  \\2020\\10\\05\\2020100508020801노5776F.jpg   \n4      01노5776 2020-10-05 18:29:36  \\2020\\10\\05\\2020100518293601노5776F.jpg   \n6      01노5776 2020-10-06 07:51:39  \\2020\\10\\06\\2020100607513901노5776F.jpg   \n8      01노5776 2020-10-07 08:03:36  \\2020\\10\\07\\2020100708033601노5776F.jpg   \n...        ...                 ...                                     ...   \n42602  86고2448 2022-09-23 16:27:23  \\2022\\09\\23\\2022092316272386고2448F.jpg   \n42604  86고2448 2022-09-26 16:40:46  \\2022\\09\\26\\2022092616404686고2448F.jpg   \n42606  86고2448 2022-09-27 17:37:26  \\2022\\09\\27\\2022092717372686고2448F.jpg   \n42608  86고2448 2022-09-28 16:37:20  \\2022\\09\\28\\2022092816372086고2448F.jpg   \n42610  86고2448 2022-09-29 17:22:24  \\2022\\09\\29\\2022092917222486고2448F.jpg   \n\n       InOutDiv             잔류시간   잔류시간(초)  잔류시간(분)  잔류시간(시)  \n0             1  0 days 06:34:27   23667.0    394.0      7.0  \n2             1  0 days 05:17:42   19062.0    317.0      6.0  \n4             1  0 days 04:00:51   14451.0    240.0      5.0  \n6             1  0 days 05:41:48   20508.0    341.0      6.0  \n8             1  0 days 06:35:18   23718.0    395.0      7.0  \n...         ...              ...       ...      ...      ...  \n42602         1  2 days 15:07:36  227256.0   3787.0     64.0  \n42604         1  0 days 14:42:57   52977.0    882.0     15.0  \n42606         1  0 days 14:20:30   51630.0    860.0     15.0  \n42608         1  0 days 15:17:26   55046.0    917.0     16.0  \n42610         1  0 days 14:13:36   51216.0    853.0     15.0  \n\n[21213 rows x 8 columns]",
      "text/html": "<div>\n<style scoped>\n    .dataframe tbody tr th:only-of-type {\n        vertical-align: middle;\n    }\n\n    .dataframe tbody tr th {\n        vertical-align: top;\n    }\n\n    .dataframe thead th {\n        text-align: right;\n    }\n</style>\n<table border=\"1\" class=\"dataframe\">\n  <thead>\n    <tr style=\"text-align: right;\">\n      <th></th>\n      <th>CarNo</th>\n      <th>일시</th>\n      <th>주차일련번호</th>\n      <th>InOutDiv</th>\n      <th>잔류시간</th>\n      <th>잔류시간(초)</th>\n      <th>잔류시간(분)</th>\n      <th>잔류시간(시)</th>\n    </tr>\n  </thead>\n  <tbody>\n    <tr>\n      <th>0</th>\n      <td>01노5776</td>\n      <td>2020-10-04 12:31:30</td>\n      <td>\\2020\\10\\04\\2020100412313001노5776F.jpg</td>\n      <td>1</td>\n      <td>0 days 06:34:27</td>\n      <td>23667.0</td>\n      <td>394.0</td>\n      <td>7.0</td>\n    </tr>\n    <tr>\n      <th>2</th>\n      <td>01노5776</td>\n      <td>2020-10-05 08:02:08</td>\n      <td>\\2020\\10\\05\\2020100508020801노5776F.jpg</td>\n      <td>1</td>\n      <td>0 days 05:17:42</td>\n      <td>19062.0</td>\n      <td>317.0</td>\n      <td>6.0</td>\n    </tr>\n    <tr>\n      <th>4</th>\n      <td>01노5776</td>\n      <td>2020-10-05 18:29:36</td>\n      <td>\\2020\\10\\05\\2020100518293601노5776F.jpg</td>\n      <td>1</td>\n      <td>0 days 04:00:51</td>\n      <td>14451.0</td>\n      <td>240.0</td>\n      <td>5.0</td>\n    </tr>\n    <tr>\n      <th>6</th>\n      <td>01노5776</td>\n      <td>2020-10-06 07:51:39</td>\n      <td>\\2020\\10\\06\\2020100607513901노5776F.jpg</td>\n      <td>1</td>\n      <td>0 days 05:41:48</td>\n      <td>20508.0</td>\n      <td>341.0</td>\n      <td>6.0</td>\n    </tr>\n    <tr>\n      <th>8</th>\n      <td>01노5776</td>\n      <td>2020-10-07 08:03:36</td>\n      <td>\\2020\\10\\07\\2020100708033601노5776F.jpg</td>\n      <td>1</td>\n      <td>0 days 06:35:18</td>\n      <td>23718.0</td>\n      <td>395.0</td>\n      <td>7.0</td>\n    </tr>\n    <tr>\n      <th>...</th>\n      <td>...</td>\n      <td>...</td>\n      <td>...</td>\n      <td>...</td>\n      <td>...</td>\n      <td>...</td>\n      <td>...</td>\n      <td>...</td>\n    </tr>\n    <tr>\n      <th>42602</th>\n      <td>86고2448</td>\n      <td>2022-09-23 16:27:23</td>\n      <td>\\2022\\09\\23\\2022092316272386고2448F.jpg</td>\n      <td>1</td>\n      <td>2 days 15:07:36</td>\n      <td>227256.0</td>\n      <td>3787.0</td>\n      <td>64.0</td>\n    </tr>\n    <tr>\n      <th>42604</th>\n      <td>86고2448</td>\n      <td>2022-09-26 16:40:46</td>\n      <td>\\2022\\09\\26\\2022092616404686고2448F.jpg</td>\n      <td>1</td>\n      <td>0 days 14:42:57</td>\n      <td>52977.0</td>\n      <td>882.0</td>\n      <td>15.0</td>\n    </tr>\n    <tr>\n      <th>42606</th>\n      <td>86고2448</td>\n      <td>2022-09-27 17:37:26</td>\n      <td>\\2022\\09\\27\\2022092717372686고2448F.jpg</td>\n      <td>1</td>\n      <td>0 days 14:20:30</td>\n      <td>51630.0</td>\n      <td>860.0</td>\n      <td>15.0</td>\n    </tr>\n    <tr>\n      <th>42608</th>\n      <td>86고2448</td>\n      <td>2022-09-28 16:37:20</td>\n      <td>\\2022\\09\\28\\2022092816372086고2448F.jpg</td>\n      <td>1</td>\n      <td>0 days 15:17:26</td>\n      <td>55046.0</td>\n      <td>917.0</td>\n      <td>16.0</td>\n    </tr>\n    <tr>\n      <th>42610</th>\n      <td>86고2448</td>\n      <td>2022-09-29 17:22:24</td>\n      <td>\\2022\\09\\29\\2022092917222486고2448F.jpg</td>\n      <td>1</td>\n      <td>0 days 14:13:36</td>\n      <td>51216.0</td>\n      <td>853.0</td>\n      <td>15.0</td>\n    </tr>\n  </tbody>\n</table>\n<p>21213 rows × 8 columns</p>\n</div>"
     },
     "execution_count": 309,
     "metadata": {},
     "output_type": "execute_result"
    }
   ],
   "source": [
    "time_delta"
   ],
   "metadata": {
    "collapsed": false
   }
  }
 ],
 "metadata": {
  "kernelspec": {
   "display_name": "Python 3",
   "language": "python",
   "name": "python3"
  },
  "language_info": {
   "codemirror_mode": {
    "name": "ipython",
    "version": 2
   },
   "file_extension": ".py",
   "mimetype": "text/x-python",
   "name": "python",
   "nbconvert_exporter": "python",
   "pygments_lexer": "ipython2",
   "version": "2.7.6"
  }
 },
 "nbformat": 4,
 "nbformat_minor": 0
}

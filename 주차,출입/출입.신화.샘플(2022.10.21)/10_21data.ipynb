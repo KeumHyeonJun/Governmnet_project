{
 "cells": [
  {
   "cell_type": "code",
   "execution_count": 1,
   "metadata": {
    "collapsed": true
   },
   "outputs": [],
   "source": [
    "import pandas as pd\n",
    "from pathlib import Path"
   ]
  },
  {
   "cell_type": "code",
   "execution_count": 2,
   "outputs": [
    {
     "data": {
      "text/plain": "PosixPath('/Users/keumhyeonjun/Projects/행안부/주차,출입/출입.신화.샘플(2022.10.21)')"
     },
     "execution_count": 2,
     "metadata": {},
     "output_type": "execute_result"
    }
   ],
   "source": [
    "path = Path.cwd()\n",
    "path"
   ],
   "metadata": {
    "collapsed": false
   }
  },
  {
   "cell_type": "code",
   "execution_count": null,
   "outputs": [],
   "source": [],
   "metadata": {
    "collapsed": false
   }
  },
  {
   "cell_type": "code",
   "execution_count": 42,
   "outputs": [
    {
     "name": "stderr",
     "output_type": "stream",
     "text": [
      "/var/folders/nd/cl2nzwh13zx7jdly2t5m95340000gn/T/ipykernel_23964/1676159329.py:11: DtypeWarning: Columns (6) have mixed types. Specify dtype option on import or set low_memory=False.\n",
      "  globals()[file_name[:-4]] = pd.read_csv(file_name)\n",
      "/var/folders/nd/cl2nzwh13zx7jdly2t5m95340000gn/T/ipykernel_23964/1676159329.py:11: DtypeWarning: Columns (2) have mixed types. Specify dtype option on import or set low_memory=False.\n",
      "  globals()[file_name[:-4]] = pd.read_csv(file_name)\n",
      "/var/folders/nd/cl2nzwh13zx7jdly2t5m95340000gn/T/ipykernel_23964/1676159329.py:11: DtypeWarning: Columns (5,6) have mixed types. Specify dtype option on import or set low_memory=False.\n",
      "  globals()[file_name[:-4]] = pd.read_csv(file_name)\n",
      "/var/folders/nd/cl2nzwh13zx7jdly2t5m95340000gn/T/ipykernel_23964/1676159329.py:11: DtypeWarning: Columns (0) have mixed types. Specify dtype option on import or set low_memory=False.\n",
      "  globals()[file_name[:-4]] = pd.read_csv(file_name)\n"
     ]
    }
   ],
   "source": [
    "import pathlib\n",
    "\n",
    "\n",
    "path = pathlib.Path('.')\n",
    "files = path.glob('**/*.csv')\n",
    "\n",
    "file_list = list(files)\n",
    "\n",
    "for name in file_list:\n",
    "    file_name = str(name)\n",
    "    globals()[file_name[:-4]] = pd.read_csv(file_name)"
   ],
   "metadata": {
    "collapsed": false
   }
  },
  {
   "cell_type": "markdown",
   "source": [
    "## tbl_accgrps"
   ],
   "metadata": {
    "collapsed": false
   }
  },
  {
   "cell_type": "code",
   "execution_count": 52,
   "outputs": [
    {
     "data": {
      "text/plain": "       seq  pseq           my_cd                my_nm      sites  \\\n0       34   NaN   AccessGrp0029         5동 3층 농림부 구역  SJ01-02-B   \n1      136   NaN   AccessGrp0057       5동 5층 국토해양부 구역  SJ01-02-B   \n2      138   NaN   AccessGrp0073          6동 국토해양부 일반  SJ01-02-A   \n3      139   NaN   AccessGrp0003           4동 기획재정부구역  SJ01-02-D   \n4      140   NaN   AccessGrp0074              6동 환경부용  SJ01-02-A   \n...    ...   ...             ...                  ...        ...   \n2530  2882   NaN  CAccessGrp2477  중앙노동위원회 사측대기실2 출입권한         CS   \n2531  2883   NaN  CAccessGrp2478    한국정책방송원 343호 출입권한         CS   \n2532  2885   NaN  CAccessGrp2479  소방청 (미사용) 소방청1 출입권한         CS   \n2533  2886   NaN  CAccessGrp2480   소방청 대변인실 스튜디오 출입권한         CS   \n2534  2887   NaN  CAccessGrp2481    14동 B1F 계단실1 출입권한         CS   \n\n                     createdt                 updatedt  remarks useYN  \\\n0     2012-11-30 22:42:17.117  2013-03-19 13:09:37.000      NaN     Y   \n1     2012-12-02 12:20:09.030  2013-02-25 15:58:13.000      NaN     Y   \n2     2012-12-05 09:52:02.960  2017-09-05 09:39:44.967      NaN     Y   \n3     2012-12-07 10:53:06.550  2013-02-27 14:28:13.000      NaN     Y   \n4     2012-12-08 10:27:55.213  2013-01-21 13:16:07.000      NaN     Y   \n...                       ...                      ...      ...   ...   \n2530  2021-10-08 10:24:47.873  2021-10-08 10:41:25.720      NaN     Y   \n2531  2021-12-28 19:22:22.900  2021-12-28 19:22:22.900      NaN     Y   \n2532  2022-04-08 10:19:10.247  2022-07-18 16:34:56.263      NaN     Y   \n2533  2022-04-08 10:37:12.430  2022-04-08 10:37:12.430      NaN     Y   \n2534  2022-06-07 16:24:26.460  2022-06-07 16:24:26.460      NaN     Y   \n\n              rev1             rev2          rev3             rev4  rev5  \\\n0              NaN              NaN           NaN              NaN   NaN   \n1              NaN              NaN           NaN              NaN   NaN   \n2      DoorGrp0072   CardSchGrp0001   DoorGrp0072   CardSchGrp0001   NaN   \n3              NaN              NaN           NaN              NaN   NaN   \n4              NaN              NaN           NaN              NaN   NaN   \n...            ...              ...           ...              ...   ...   \n2530         (New)  CCardSchGrp0001  CDoorGrp2562  CCardSchGrp0001   NaN   \n2531           NaN              NaN           NaN              NaN   NaN   \n2532  CDoorGrp2570  CCardSchGrp0001  CDoorGrp2570  CCardSchGrp0001   NaN   \n2533           NaN              NaN           NaN              NaN   NaN   \n2534           NaN              NaN           NaN              NaN   NaN   \n\n              pmy_cd company_cd department_cd  category  level  \n0                NaN        NaN           NaN       NaN    NaN  \n1                NaN        NaN           NaN       NaN    NaN  \n2                NaN        NaN           NaN       0.0    0.0  \n3                NaN        NaN           NaN       NaN    NaN  \n4                NaN        NaN           NaN       NaN    NaN  \n...              ...        ...           ...       ...    ...  \n2530  CAccessGrp2474    W492130           NaN       1.0    1.0  \n2531  CAccessGrp2319    1371037           NaN       1.0    1.0  \n2532             NaN    1661000           NaN       1.0    0.0  \n2533             NaN    1661000           NaN       1.0    0.0  \n2534  CAccessGrp1857    1740108           NaN       1.0    1.0  \n\n[2535 rows x 19 columns]",
      "text/html": "<div>\n<style scoped>\n    .dataframe tbody tr th:only-of-type {\n        vertical-align: middle;\n    }\n\n    .dataframe tbody tr th {\n        vertical-align: top;\n    }\n\n    .dataframe thead th {\n        text-align: right;\n    }\n</style>\n<table border=\"1\" class=\"dataframe\">\n  <thead>\n    <tr style=\"text-align: right;\">\n      <th></th>\n      <th>seq</th>\n      <th>pseq</th>\n      <th>my_cd</th>\n      <th>my_nm</th>\n      <th>sites</th>\n      <th>createdt</th>\n      <th>updatedt</th>\n      <th>remarks</th>\n      <th>useYN</th>\n      <th>rev1</th>\n      <th>rev2</th>\n      <th>rev3</th>\n      <th>rev4</th>\n      <th>rev5</th>\n      <th>pmy_cd</th>\n      <th>company_cd</th>\n      <th>department_cd</th>\n      <th>category</th>\n      <th>level</th>\n    </tr>\n  </thead>\n  <tbody>\n    <tr>\n      <th>0</th>\n      <td>34</td>\n      <td>NaN</td>\n      <td>AccessGrp0029</td>\n      <td>5동 3층 농림부 구역</td>\n      <td>SJ01-02-B</td>\n      <td>2012-11-30 22:42:17.117</td>\n      <td>2013-03-19 13:09:37.000</td>\n      <td>NaN</td>\n      <td>Y</td>\n      <td>NaN</td>\n      <td>NaN</td>\n      <td>NaN</td>\n      <td>NaN</td>\n      <td>NaN</td>\n      <td>NaN</td>\n      <td>NaN</td>\n      <td>NaN</td>\n      <td>NaN</td>\n      <td>NaN</td>\n    </tr>\n    <tr>\n      <th>1</th>\n      <td>136</td>\n      <td>NaN</td>\n      <td>AccessGrp0057</td>\n      <td>5동 5층 국토해양부 구역</td>\n      <td>SJ01-02-B</td>\n      <td>2012-12-02 12:20:09.030</td>\n      <td>2013-02-25 15:58:13.000</td>\n      <td>NaN</td>\n      <td>Y</td>\n      <td>NaN</td>\n      <td>NaN</td>\n      <td>NaN</td>\n      <td>NaN</td>\n      <td>NaN</td>\n      <td>NaN</td>\n      <td>NaN</td>\n      <td>NaN</td>\n      <td>NaN</td>\n      <td>NaN</td>\n    </tr>\n    <tr>\n      <th>2</th>\n      <td>138</td>\n      <td>NaN</td>\n      <td>AccessGrp0073</td>\n      <td>6동 국토해양부 일반</td>\n      <td>SJ01-02-A</td>\n      <td>2012-12-05 09:52:02.960</td>\n      <td>2017-09-05 09:39:44.967</td>\n      <td>NaN</td>\n      <td>Y</td>\n      <td>DoorGrp0072</td>\n      <td>CardSchGrp0001</td>\n      <td>DoorGrp0072</td>\n      <td>CardSchGrp0001</td>\n      <td>NaN</td>\n      <td>NaN</td>\n      <td>NaN</td>\n      <td>NaN</td>\n      <td>0.0</td>\n      <td>0.0</td>\n    </tr>\n    <tr>\n      <th>3</th>\n      <td>139</td>\n      <td>NaN</td>\n      <td>AccessGrp0003</td>\n      <td>4동 기획재정부구역</td>\n      <td>SJ01-02-D</td>\n      <td>2012-12-07 10:53:06.550</td>\n      <td>2013-02-27 14:28:13.000</td>\n      <td>NaN</td>\n      <td>Y</td>\n      <td>NaN</td>\n      <td>NaN</td>\n      <td>NaN</td>\n      <td>NaN</td>\n      <td>NaN</td>\n      <td>NaN</td>\n      <td>NaN</td>\n      <td>NaN</td>\n      <td>NaN</td>\n      <td>NaN</td>\n    </tr>\n    <tr>\n      <th>4</th>\n      <td>140</td>\n      <td>NaN</td>\n      <td>AccessGrp0074</td>\n      <td>6동 환경부용</td>\n      <td>SJ01-02-A</td>\n      <td>2012-12-08 10:27:55.213</td>\n      <td>2013-01-21 13:16:07.000</td>\n      <td>NaN</td>\n      <td>Y</td>\n      <td>NaN</td>\n      <td>NaN</td>\n      <td>NaN</td>\n      <td>NaN</td>\n      <td>NaN</td>\n      <td>NaN</td>\n      <td>NaN</td>\n      <td>NaN</td>\n      <td>NaN</td>\n      <td>NaN</td>\n    </tr>\n    <tr>\n      <th>...</th>\n      <td>...</td>\n      <td>...</td>\n      <td>...</td>\n      <td>...</td>\n      <td>...</td>\n      <td>...</td>\n      <td>...</td>\n      <td>...</td>\n      <td>...</td>\n      <td>...</td>\n      <td>...</td>\n      <td>...</td>\n      <td>...</td>\n      <td>...</td>\n      <td>...</td>\n      <td>...</td>\n      <td>...</td>\n      <td>...</td>\n      <td>...</td>\n    </tr>\n    <tr>\n      <th>2530</th>\n      <td>2882</td>\n      <td>NaN</td>\n      <td>CAccessGrp2477</td>\n      <td>중앙노동위원회 사측대기실2 출입권한</td>\n      <td>CS</td>\n      <td>2021-10-08 10:24:47.873</td>\n      <td>2021-10-08 10:41:25.720</td>\n      <td>NaN</td>\n      <td>Y</td>\n      <td>(New)</td>\n      <td>CCardSchGrp0001</td>\n      <td>CDoorGrp2562</td>\n      <td>CCardSchGrp0001</td>\n      <td>NaN</td>\n      <td>CAccessGrp2474</td>\n      <td>W492130</td>\n      <td>NaN</td>\n      <td>1.0</td>\n      <td>1.0</td>\n    </tr>\n    <tr>\n      <th>2531</th>\n      <td>2883</td>\n      <td>NaN</td>\n      <td>CAccessGrp2478</td>\n      <td>한국정책방송원 343호 출입권한</td>\n      <td>CS</td>\n      <td>2021-12-28 19:22:22.900</td>\n      <td>2021-12-28 19:22:22.900</td>\n      <td>NaN</td>\n      <td>Y</td>\n      <td>NaN</td>\n      <td>NaN</td>\n      <td>NaN</td>\n      <td>NaN</td>\n      <td>NaN</td>\n      <td>CAccessGrp2319</td>\n      <td>1371037</td>\n      <td>NaN</td>\n      <td>1.0</td>\n      <td>1.0</td>\n    </tr>\n    <tr>\n      <th>2532</th>\n      <td>2885</td>\n      <td>NaN</td>\n      <td>CAccessGrp2479</td>\n      <td>소방청 (미사용) 소방청1 출입권한</td>\n      <td>CS</td>\n      <td>2022-04-08 10:19:10.247</td>\n      <td>2022-07-18 16:34:56.263</td>\n      <td>NaN</td>\n      <td>Y</td>\n      <td>CDoorGrp2570</td>\n      <td>CCardSchGrp0001</td>\n      <td>CDoorGrp2570</td>\n      <td>CCardSchGrp0001</td>\n      <td>NaN</td>\n      <td>NaN</td>\n      <td>1661000</td>\n      <td>NaN</td>\n      <td>1.0</td>\n      <td>0.0</td>\n    </tr>\n    <tr>\n      <th>2533</th>\n      <td>2886</td>\n      <td>NaN</td>\n      <td>CAccessGrp2480</td>\n      <td>소방청 대변인실 스튜디오 출입권한</td>\n      <td>CS</td>\n      <td>2022-04-08 10:37:12.430</td>\n      <td>2022-04-08 10:37:12.430</td>\n      <td>NaN</td>\n      <td>Y</td>\n      <td>NaN</td>\n      <td>NaN</td>\n      <td>NaN</td>\n      <td>NaN</td>\n      <td>NaN</td>\n      <td>NaN</td>\n      <td>1661000</td>\n      <td>NaN</td>\n      <td>1.0</td>\n      <td>0.0</td>\n    </tr>\n    <tr>\n      <th>2534</th>\n      <td>2887</td>\n      <td>NaN</td>\n      <td>CAccessGrp2481</td>\n      <td>14동 B1F 계단실1 출입권한</td>\n      <td>CS</td>\n      <td>2022-06-07 16:24:26.460</td>\n      <td>2022-06-07 16:24:26.460</td>\n      <td>NaN</td>\n      <td>Y</td>\n      <td>NaN</td>\n      <td>NaN</td>\n      <td>NaN</td>\n      <td>NaN</td>\n      <td>NaN</td>\n      <td>CAccessGrp1857</td>\n      <td>1740108</td>\n      <td>NaN</td>\n      <td>1.0</td>\n      <td>1.0</td>\n    </tr>\n  </tbody>\n</table>\n<p>2535 rows × 19 columns</p>\n</div>"
     },
     "execution_count": 52,
     "metadata": {},
     "output_type": "execute_result"
    }
   ],
   "source": [
    "tbl_accgrps"
   ],
   "metadata": {
    "collapsed": false
   }
  },
  {
   "cell_type": "markdown",
   "source": [
    "# tbl_accgrps2doorgrp_schcardgrp"
   ],
   "metadata": {
    "collapsed": false
   }
  },
  {
   "cell_type": "code",
   "execution_count": 53,
   "outputs": [
    {
     "data": {
      "text/plain": "       seq  pseq                                              my_cd  \\\n0      319   NaN  AccessGrp0074_DoorGrp0077_CardSchGrp0001_SJ01-...   \n1      320   NaN  AccessGrp0074_DoorGrp0078_CardSchGrp0001_SJ01-...   \n2      321   NaN  AccessGrp0074_DoorGrp0079_CardSchGrp0001_SJ01-...   \n3      322   NaN  AccessGrp0074_DoorGrp0080_CardSchGrp0001_SJ01-...   \n4      323   NaN  AccessGrp0075_DoorGrp0076_CardSchGrp0001_SJ01-...   \n...    ...   ...                                                ...   \n2915  3660   NaN     CAccessGrp2476_CDoorGrp2564_CCardSchGrp0001_CS   \n2916  3661   NaN     CAccessGrp2478_CDoorGrp2569_CCardSchGrp0001_CS   \n2917  3663   NaN     CAccessGrp2479_CDoorGrp2570_CCardSchGrp0001_CS   \n2918  3664   NaN     CAccessGrp2480_CDoorGrp2571_CCardSchGrp0001_CS   \n2919  3665   NaN     CAccessGrp2481_CDoorGrp2572_CCardSchGrp0001_CS   \n\n                                                  my_nm      sites  \\\n0     AccessGrp0074_DoorGrp0077_CardSchGrp0001_SJ01-...  SJ01-02-A   \n1     AccessGrp0074_DoorGrp0078_CardSchGrp0001_SJ01-...  SJ01-02-A   \n2     AccessGrp0074_DoorGrp0079_CardSchGrp0001_SJ01-...  SJ01-02-A   \n3     AccessGrp0074_DoorGrp0080_CardSchGrp0001_SJ01-...  SJ01-02-A   \n4     AccessGrp0075_DoorGrp0076_CardSchGrp0001_SJ01-...  SJ01-02-A   \n...                                                 ...        ...   \n2915     CAccessGrp2476_CDoorGrp2564_CCardSchGrp0001_CS         CS   \n2916     CAccessGrp2478_CDoorGrp2569_CCardSchGrp0001_CS         CS   \n2917     CAccessGrp2479_CDoorGrp2570_CCardSchGrp0001_CS         CS   \n2918     CAccessGrp2480_CDoorGrp2571_CCardSchGrp0001_CS         CS   \n2919     CAccessGrp2481_CDoorGrp2572_CCardSchGrp0001_CS         CS   \n\n     tbl_accgrps_my_cd tbl_doorgrp_my_cd tbl_schcardgrp_my_cd  \\\n0        AccessGrp0074       DoorGrp0077       CardSchGrp0001   \n1        AccessGrp0074       DoorGrp0078       CardSchGrp0001   \n2        AccessGrp0074       DoorGrp0079       CardSchGrp0001   \n3        AccessGrp0074       DoorGrp0080       CardSchGrp0001   \n4        AccessGrp0075       DoorGrp0076       CardSchGrp0001   \n...                ...               ...                  ...   \n2915    CAccessGrp2476      CDoorGrp2564      CCardSchGrp0001   \n2916    CAccessGrp2478      CDoorGrp2569      CCardSchGrp0001   \n2917    CAccessGrp2479      CDoorGrp2570      CCardSchGrp0001   \n2918    CAccessGrp2480      CDoorGrp2571      CCardSchGrp0001   \n2919    CAccessGrp2481      CDoorGrp2572      CCardSchGrp0001   \n\n                     createdt                 updatedt  remarks useYN  rev1  \\\n0     2012-12-08 10:29:00.650  2012-12-08 10:29:00.650      NaN     Y   NaN   \n1     2012-12-08 10:29:11.097  2012-12-08 10:29:11.097      NaN     Y   NaN   \n2     2012-12-08 10:29:20.507  2012-12-08 10:29:20.507      NaN     Y   NaN   \n3     2012-12-08 10:29:39.843  2012-12-08 10:29:39.843      NaN     Y   NaN   \n4     2012-12-09 09:54:45.613  2012-12-09 09:54:45.613      NaN     Y   NaN   \n...                       ...                      ...      ...   ...   ...   \n2915  2021-10-08 10:38:08.053  2021-10-08 10:38:08.053      NaN     Y   NaN   \n2916  2021-12-28 19:22:22.913  2021-12-28 19:22:22.913      NaN     Y   NaN   \n2917  2022-04-08 10:19:10.263  2022-04-08 10:19:10.263      NaN     Y   NaN   \n2918  2022-04-08 10:37:12.453  2022-04-08 10:37:12.453      NaN     Y   NaN   \n2919  2022-06-07 16:24:26.510  2022-06-07 16:24:26.510      NaN     Y   NaN   \n\n      rev2  rev3  rev4  rev5  \n0      NaN   NaN   NaN   NaN  \n1      NaN   NaN   NaN   NaN  \n2      NaN   NaN   NaN   NaN  \n3      NaN   NaN   NaN   NaN  \n4      NaN   NaN   NaN   NaN  \n...    ...   ...   ...   ...  \n2915   NaN   NaN   NaN   NaN  \n2916   NaN   NaN   NaN   NaN  \n2917   NaN   NaN   NaN   NaN  \n2918   NaN   NaN   NaN   NaN  \n2919   NaN   NaN   NaN   NaN  \n\n[2920 rows x 17 columns]",
      "text/html": "<div>\n<style scoped>\n    .dataframe tbody tr th:only-of-type {\n        vertical-align: middle;\n    }\n\n    .dataframe tbody tr th {\n        vertical-align: top;\n    }\n\n    .dataframe thead th {\n        text-align: right;\n    }\n</style>\n<table border=\"1\" class=\"dataframe\">\n  <thead>\n    <tr style=\"text-align: right;\">\n      <th></th>\n      <th>seq</th>\n      <th>pseq</th>\n      <th>my_cd</th>\n      <th>my_nm</th>\n      <th>sites</th>\n      <th>tbl_accgrps_my_cd</th>\n      <th>tbl_doorgrp_my_cd</th>\n      <th>tbl_schcardgrp_my_cd</th>\n      <th>createdt</th>\n      <th>updatedt</th>\n      <th>remarks</th>\n      <th>useYN</th>\n      <th>rev1</th>\n      <th>rev2</th>\n      <th>rev3</th>\n      <th>rev4</th>\n      <th>rev5</th>\n    </tr>\n  </thead>\n  <tbody>\n    <tr>\n      <th>0</th>\n      <td>319</td>\n      <td>NaN</td>\n      <td>AccessGrp0074_DoorGrp0077_CardSchGrp0001_SJ01-...</td>\n      <td>AccessGrp0074_DoorGrp0077_CardSchGrp0001_SJ01-...</td>\n      <td>SJ01-02-A</td>\n      <td>AccessGrp0074</td>\n      <td>DoorGrp0077</td>\n      <td>CardSchGrp0001</td>\n      <td>2012-12-08 10:29:00.650</td>\n      <td>2012-12-08 10:29:00.650</td>\n      <td>NaN</td>\n      <td>Y</td>\n      <td>NaN</td>\n      <td>NaN</td>\n      <td>NaN</td>\n      <td>NaN</td>\n      <td>NaN</td>\n    </tr>\n    <tr>\n      <th>1</th>\n      <td>320</td>\n      <td>NaN</td>\n      <td>AccessGrp0074_DoorGrp0078_CardSchGrp0001_SJ01-...</td>\n      <td>AccessGrp0074_DoorGrp0078_CardSchGrp0001_SJ01-...</td>\n      <td>SJ01-02-A</td>\n      <td>AccessGrp0074</td>\n      <td>DoorGrp0078</td>\n      <td>CardSchGrp0001</td>\n      <td>2012-12-08 10:29:11.097</td>\n      <td>2012-12-08 10:29:11.097</td>\n      <td>NaN</td>\n      <td>Y</td>\n      <td>NaN</td>\n      <td>NaN</td>\n      <td>NaN</td>\n      <td>NaN</td>\n      <td>NaN</td>\n    </tr>\n    <tr>\n      <th>2</th>\n      <td>321</td>\n      <td>NaN</td>\n      <td>AccessGrp0074_DoorGrp0079_CardSchGrp0001_SJ01-...</td>\n      <td>AccessGrp0074_DoorGrp0079_CardSchGrp0001_SJ01-...</td>\n      <td>SJ01-02-A</td>\n      <td>AccessGrp0074</td>\n      <td>DoorGrp0079</td>\n      <td>CardSchGrp0001</td>\n      <td>2012-12-08 10:29:20.507</td>\n      <td>2012-12-08 10:29:20.507</td>\n      <td>NaN</td>\n      <td>Y</td>\n      <td>NaN</td>\n      <td>NaN</td>\n      <td>NaN</td>\n      <td>NaN</td>\n      <td>NaN</td>\n    </tr>\n    <tr>\n      <th>3</th>\n      <td>322</td>\n      <td>NaN</td>\n      <td>AccessGrp0074_DoorGrp0080_CardSchGrp0001_SJ01-...</td>\n      <td>AccessGrp0074_DoorGrp0080_CardSchGrp0001_SJ01-...</td>\n      <td>SJ01-02-A</td>\n      <td>AccessGrp0074</td>\n      <td>DoorGrp0080</td>\n      <td>CardSchGrp0001</td>\n      <td>2012-12-08 10:29:39.843</td>\n      <td>2012-12-08 10:29:39.843</td>\n      <td>NaN</td>\n      <td>Y</td>\n      <td>NaN</td>\n      <td>NaN</td>\n      <td>NaN</td>\n      <td>NaN</td>\n      <td>NaN</td>\n    </tr>\n    <tr>\n      <th>4</th>\n      <td>323</td>\n      <td>NaN</td>\n      <td>AccessGrp0075_DoorGrp0076_CardSchGrp0001_SJ01-...</td>\n      <td>AccessGrp0075_DoorGrp0076_CardSchGrp0001_SJ01-...</td>\n      <td>SJ01-02-A</td>\n      <td>AccessGrp0075</td>\n      <td>DoorGrp0076</td>\n      <td>CardSchGrp0001</td>\n      <td>2012-12-09 09:54:45.613</td>\n      <td>2012-12-09 09:54:45.613</td>\n      <td>NaN</td>\n      <td>Y</td>\n      <td>NaN</td>\n      <td>NaN</td>\n      <td>NaN</td>\n      <td>NaN</td>\n      <td>NaN</td>\n    </tr>\n    <tr>\n      <th>...</th>\n      <td>...</td>\n      <td>...</td>\n      <td>...</td>\n      <td>...</td>\n      <td>...</td>\n      <td>...</td>\n      <td>...</td>\n      <td>...</td>\n      <td>...</td>\n      <td>...</td>\n      <td>...</td>\n      <td>...</td>\n      <td>...</td>\n      <td>...</td>\n      <td>...</td>\n      <td>...</td>\n      <td>...</td>\n    </tr>\n    <tr>\n      <th>2915</th>\n      <td>3660</td>\n      <td>NaN</td>\n      <td>CAccessGrp2476_CDoorGrp2564_CCardSchGrp0001_CS</td>\n      <td>CAccessGrp2476_CDoorGrp2564_CCardSchGrp0001_CS</td>\n      <td>CS</td>\n      <td>CAccessGrp2476</td>\n      <td>CDoorGrp2564</td>\n      <td>CCardSchGrp0001</td>\n      <td>2021-10-08 10:38:08.053</td>\n      <td>2021-10-08 10:38:08.053</td>\n      <td>NaN</td>\n      <td>Y</td>\n      <td>NaN</td>\n      <td>NaN</td>\n      <td>NaN</td>\n      <td>NaN</td>\n      <td>NaN</td>\n    </tr>\n    <tr>\n      <th>2916</th>\n      <td>3661</td>\n      <td>NaN</td>\n      <td>CAccessGrp2478_CDoorGrp2569_CCardSchGrp0001_CS</td>\n      <td>CAccessGrp2478_CDoorGrp2569_CCardSchGrp0001_CS</td>\n      <td>CS</td>\n      <td>CAccessGrp2478</td>\n      <td>CDoorGrp2569</td>\n      <td>CCardSchGrp0001</td>\n      <td>2021-12-28 19:22:22.913</td>\n      <td>2021-12-28 19:22:22.913</td>\n      <td>NaN</td>\n      <td>Y</td>\n      <td>NaN</td>\n      <td>NaN</td>\n      <td>NaN</td>\n      <td>NaN</td>\n      <td>NaN</td>\n    </tr>\n    <tr>\n      <th>2917</th>\n      <td>3663</td>\n      <td>NaN</td>\n      <td>CAccessGrp2479_CDoorGrp2570_CCardSchGrp0001_CS</td>\n      <td>CAccessGrp2479_CDoorGrp2570_CCardSchGrp0001_CS</td>\n      <td>CS</td>\n      <td>CAccessGrp2479</td>\n      <td>CDoorGrp2570</td>\n      <td>CCardSchGrp0001</td>\n      <td>2022-04-08 10:19:10.263</td>\n      <td>2022-04-08 10:19:10.263</td>\n      <td>NaN</td>\n      <td>Y</td>\n      <td>NaN</td>\n      <td>NaN</td>\n      <td>NaN</td>\n      <td>NaN</td>\n      <td>NaN</td>\n    </tr>\n    <tr>\n      <th>2918</th>\n      <td>3664</td>\n      <td>NaN</td>\n      <td>CAccessGrp2480_CDoorGrp2571_CCardSchGrp0001_CS</td>\n      <td>CAccessGrp2480_CDoorGrp2571_CCardSchGrp0001_CS</td>\n      <td>CS</td>\n      <td>CAccessGrp2480</td>\n      <td>CDoorGrp2571</td>\n      <td>CCardSchGrp0001</td>\n      <td>2022-04-08 10:37:12.453</td>\n      <td>2022-04-08 10:37:12.453</td>\n      <td>NaN</td>\n      <td>Y</td>\n      <td>NaN</td>\n      <td>NaN</td>\n      <td>NaN</td>\n      <td>NaN</td>\n      <td>NaN</td>\n    </tr>\n    <tr>\n      <th>2919</th>\n      <td>3665</td>\n      <td>NaN</td>\n      <td>CAccessGrp2481_CDoorGrp2572_CCardSchGrp0001_CS</td>\n      <td>CAccessGrp2481_CDoorGrp2572_CCardSchGrp0001_CS</td>\n      <td>CS</td>\n      <td>CAccessGrp2481</td>\n      <td>CDoorGrp2572</td>\n      <td>CCardSchGrp0001</td>\n      <td>2022-06-07 16:24:26.510</td>\n      <td>2022-06-07 16:24:26.510</td>\n      <td>NaN</td>\n      <td>Y</td>\n      <td>NaN</td>\n      <td>NaN</td>\n      <td>NaN</td>\n      <td>NaN</td>\n      <td>NaN</td>\n    </tr>\n  </tbody>\n</table>\n<p>2920 rows × 17 columns</p>\n</div>"
     },
     "execution_count": 53,
     "metadata": {},
     "output_type": "execute_result"
    }
   ],
   "source": [
    "tbl_accgrps2doorgrp_schcardgrp"
   ],
   "metadata": {
    "collapsed": false
   }
  }
 ],
 "metadata": {
  "kernelspec": {
   "display_name": "Python 3",
   "language": "python",
   "name": "python3"
  },
  "language_info": {
   "codemirror_mode": {
    "name": "ipython",
    "version": 2
   },
   "file_extension": ".py",
   "mimetype": "text/x-python",
   "name": "python",
   "nbconvert_exporter": "python",
   "pygments_lexer": "ipython2",
   "version": "2.7.6"
  }
 },
 "nbformat": 4,
 "nbformat_minor": 0
}

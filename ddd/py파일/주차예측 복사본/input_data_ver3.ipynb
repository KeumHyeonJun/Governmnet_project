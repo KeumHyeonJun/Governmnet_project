{
 "cells": [
  {
   "cell_type": "code",
   "execution_count": 93,
   "outputs": [],
   "source": [],
   "metadata": {
    "collapsed": false
   }
  },
  {
   "cell_type": "code",
   "execution_count": 93,
   "outputs": [],
   "source": [],
   "metadata": {
    "collapsed": false
   }
  },
  {
   "cell_type": "code",
   "execution_count": 94,
   "outputs": [],
   "source": [
    "import datetime\n",
    "from pathlib import Path\n",
    "from dateutil.relativedelta import relativedelta\n",
    "import pandas as pd\n",
    "import numpy as np\n",
    "import warnings\n",
    "import requests\n",
    "import holidays\n",
    "import copy\n",
    "import json\n",
    "import re\n",
    "import os\n",
    "\n",
    "import output\n",
    "from impala.dbapi import connect\n",
    "from impala.util import as_pandas\n",
    "\n",
    "warnings.filterwarnings(action='ignore')\n",
    "\n",
    "\n",
    "path = Path.cwd().parent\n",
    "raw_data = str(path) + '/raw_data/'\n",
    "data = str(path) + '/data/'\n",
    "if not os.path.exists(str(path)+'/data/'):\n",
    "    os.makedirs(str(path)+'/data/')\n",
    "\n",
    "#### 향후 수정사항\n",
    "def slicing(df,i) :\n",
    "    pattern = '.*동'\n",
    "    reg = re.search(pattern, df['장비명'][i])\n",
    "    reg = reg.group()\n",
    "    df['주차장'][i] = reg\n",
    "    return reg\n",
    "def change(x):\n",
    "    if x =='13-1동' or x =='13-2동' or x =='13-3동':\n",
    "        return '13동'\n",
    "    elif x == '14-1동' or x == '14-2동':\n",
    "        return '14동'\n",
    "    else :\n",
    "        return x\n",
    "\n",
    "\n",
    "def parking(x):\n",
    "    if x == '주차1동':\n",
    "        return 101\n",
    "    elif x == '주차2동':\n",
    "        return 102\n",
    "    else :\n",
    "        for park in range(1,18):\n",
    "            if x ==f'{park}동':\n",
    "                return park\n",
    "\n",
    "\n",
    "\n",
    "def confusion(df):\n",
    "    if df['비율'] <= 0.3:\n",
    "        return 0\n",
    "    elif df['비율'] <= 0.5:\n",
    "        return 1\n",
    "    elif df['비율'] <= 0.8:\n",
    "        return 2\n",
    "    else:\n",
    "        return 3\n",
    "\n",
    "satsun = ['Independence Movement Day','Liberation Day','National Foundation Day','Hangeul Day',\"Children's Day\"]\n",
    "kr_holidays = holidays.KR()\n",
    "def holiday_check(date):\n",
    "    if date in kr_holidays:\n",
    "        return 1\n",
    "    elif date.weekday() == 0:\n",
    "        if (kr_holidays.get(datetime.datetime.strftime(date-relativedelta(days=1),\"%Y-%m-%d\")) or kr_holidays.get(datetime.datetime.strftime(date-relativedelta(days=2),\"%Y-%m-%d\"))) in satsun:\n",
    "            return 1\n",
    "        else:\n",
    "            return 0\n",
    "    else:\n",
    "        return 0\n",
    "\n",
    "\n",
    "def minute_yn(df):\n",
    "    num = int(60/time_delta)\n",
    "    for i in range(num):\n",
    "        if df['분'] <= time_delta*i + time_delta-1 :\n",
    "            return i\n",
    "\n",
    "\n",
    "\n",
    "\n",
    "def replace_rain(df):\n",
    "    if df['강수량(mm)'] == '1.0mm미만':\n",
    "        return 0.5\n",
    "    elif df['강수량(mm)'] == '30.0~50.0mm':\n",
    "        return 40\n",
    "    elif df['강수량(mm)'] == '50.0mm이상':\n",
    "        return 60\n",
    "    else:\n",
    "        return float(str(df['강수량(mm)']).replace('mm', ''))\n",
    "\n",
    "\n",
    "def replace_snow(df):\n",
    "    if df['적설(cm)'] == '1cm미만':\n",
    "        return 0.5\n",
    "    elif df['적설(cm)'] == '5cm이상':\n",
    "        return 5\n",
    "    else:\n",
    "        return float(str(df['적설(cm)']).replace('cm', ''))\n"
   ],
   "metadata": {
    "collapsed": false
   }
  },
  {
   "cell_type": "code",
   "execution_count": 119,
   "outputs": [
    {
     "name": "stdout",
     "output_type": "stream",
     "text": [
      "2022.12.28 14h49m51s Load Data\n"
     ]
    }
   ],
   "source": [
    "date = output.date\n",
    "year = int(date[:4])\n",
    "month = int(date[4:6])\n",
    "day = int(date[6:])\n",
    "\n",
    "# 예측시작시간\n",
    "first_pred_time = 7\n",
    "# 예측종료시간\n",
    "finish_pred_time = 10\n",
    "#예측시간간격\n",
    "time_delta = 30\n",
    "# conn = connect(host = '172.31.101.61', port = 21050 , user = 'hive', password = 'hive')\n",
    "\n",
    "#### 데이터 로드\n",
    "print(datetime.datetime.now().strftime('%Y.%m.%d %Hh%Mm%Ss'), 'Load Data')\n"
   ],
   "metadata": {
    "collapsed": false
   }
  },
  {
   "cell_type": "code",
   "execution_count": 96,
   "outputs": [],
   "source": [
    "parking_info = pd.read_excel(raw_data+'주차장면수.xlsx')\n"
   ],
   "metadata": {
    "collapsed": false
   }
  },
  {
   "cell_type": "markdown",
   "source": [
    "# 날씨데이터 불러오기"
   ],
   "metadata": {
    "collapsed": false
   }
  },
  {
   "cell_type": "code",
   "execution_count": 175,
   "outputs": [],
   "source": [
    "conn = connect(host = '172.31.101.61', port = 21050 , user = 'hive', password = 'hive')\n",
    "create_query ='select * from SVC.ext_kma_asos_hourly_info'\n",
    "# run query on impala\n",
    "cur = conn.cursor()\n",
    "cur.execute(create_query)\n",
    "whether_his = as_pandas(cur)\n",
    "whether_his = whether_his.sort_values(by='tm')\n",
    "\n",
    "create_query ='select * from SVC.ext_kma_vilage_fcst'\n",
    "# run query on impala\n",
    "cur = conn.cursor()\n",
    "cur.execute(create_query)\n",
    "whether_pre = as_pandas(cur)\n",
    "cur.close()\n",
    "\n",
    "# 예보데이터\n",
    "df_tmp = whether_pre[whether_pre[\"category\"]==\"TMP\"][[\"fcstdate\",\"fcsttime\",\"fcstvalue\"]].rename(columns={\n",
    "    \"fcstdate\":\"일시\",\"fcsttime\":\"시간\",\"fcstvalue\":\"기온(°C)\"})\n",
    "df_pcp = whether_pre[whether_pre[\"category\"]==\"PCP\"][[\"fcstdate\",\"fcsttime\",\"fcstvalue\"]].rename(columns={\n",
    "    \"fcstdate\":\"일시\",\"fcsttime\":\"시간\",\"fcstvalue\":\"강수량(mm)\"})\n",
    "df_wsd = whether_pre[whether_pre[\"category\"]==\"WSD\"][[\"fcstdate\",\"fcsttime\",\"fcstvalue\"]].rename(columns={\n",
    "    \"fcstdate\":\"일시\",\"fcsttime\":\"시간\",\"fcstvalue\":\"풍속(m/s)\"})\n",
    "df_reh = whether_pre[whether_pre[\"category\"]==\"REH\"][[\"fcstdate\",\"fcsttime\",\"fcstvalue\"]].rename(columns={\n",
    "    \"fcstdate\":\"일시\",\"fcsttime\":\"시간\",\"fcstvalue\":\"습도(%)\"})\n",
    "df_sno = whether_pre[whether_pre[\"category\"]==\"SNO\"][[\"fcstdate\",\"fcsttime\",\"fcstvalue\"]].rename(columns={\n",
    "    \"fcstdate\":\"일시\",\"fcsttime\":\"시간\",\"fcstvalue\":\"적설(cm)\"})\n",
    "\n",
    "df_pcp.loc[df_pcp[\"강수량(mm)\"]==\"강수없음\",\"강수량(mm)\"] = 0\n",
    "df_sno.loc[df_sno[\"적설(cm)\"]==\"적설없음\",\"적설(cm)\"] = 0\n",
    "\n",
    "final_df = df_tmp.copy()\n",
    "final_df = pd.merge(final_df,df_pcp,on=[\"일시\",\"시간\"],how=\"left\")\n",
    "final_df = pd.merge(final_df,df_wsd,on=[\"일시\",\"시간\"],how=\"left\")\n",
    "final_df = pd.merge(final_df,df_reh,on=[\"일시\",\"시간\"],how=\"left\")\n",
    "final_df = pd.merge(final_df,df_sno,on=[\"일시\",\"시간\"],how=\"left\")\n",
    "\n",
    "def converttime(x):\n",
    "    return str('000000'+str(x))[-4:]\n",
    "\n",
    "def convertday(x):\n",
    "    y = x[:4]\n",
    "    m = x[4:6]\n",
    "    d = x[6:8]\n",
    "    h = x[8:10]\n",
    "    min = x[10:12]\n",
    "    return y+'-'+m+'-'+d+' '+h+':'+min\n",
    "final_df['시간'] = final_df['시간'].apply(converttime)\n",
    "\n",
    "final_df['일시'] = final_df['일시'] + final_df['시간']\n",
    "\n",
    "final_df['일시'] = final_df['일시'].apply(convertday)\n",
    "final_df['일시'] = pd.to_datetime(final_df['일시'])\n",
    "\n",
    "whether_pre = final_df.drop(\"시간\",axis=1)\n",
    "whether_pre['적설(cm)'] = whether_pre.apply(replace_snow,axis=1)\n",
    "whether_pre['강수량(mm)'] = whether_pre.apply(replace_rain,axis=1)\n",
    "#과거데이터\n",
    "whether_his = whether_his[['tm','ta','rn','ws','hm','dsnw']]\n",
    "whether_his.replace('',0,inplace=True)\n",
    "\n",
    "whether_his.columns = whether_pre.columns\n",
    "\n",
    "# whether_his = pd.read_csv('whether_his.csv')\n",
    "# whether_pre = pd.read_csv('whether_pre.csv')\n",
    "whether_his['일시'] = pd.to_datetime(whether_his['일시'])\n",
    "whether_pre['일시'] = pd.to_datetime(whether_pre['일시'])"
   ],
   "metadata": {
    "collapsed": false
   }
  },
  {
   "cell_type": "code",
   "execution_count": 176,
   "outputs": [
    {
     "data": {
      "text/plain": "                     일시 기온(°C)  강수량(mm) 풍속(m/s) 습도(%)  적설(cm)\n0   2022-12-23 02:00:00    -11      0.0     1.5    80     0.0\n1   2022-12-23 03:00:00    -11      0.0     1.2    80     0.0\n2   2022-12-23 04:00:00    -12      0.0     0.9    80     0.0\n3   2022-12-23 00:00:00    -10      0.0     2.3    80     0.0\n4   2022-12-23 01:00:00    -10      0.0     1.8    80     0.5\n..                  ...    ...      ...     ...   ...     ...\n129 2022-12-29 06:00:00     -8      0.0     1.3    90     0.0\n130 2022-12-29 07:00:00     -8      0.0     1.7    90     0.0\n131 2022-12-29 03:00:00     -7      0.0     0.9    85     0.0\n132 2022-12-29 04:00:00     -7      0.0     0.9    90     0.0\n133 2022-12-29 05:00:00     -7      0.0     0.9    85     0.0\n\n[134 rows x 6 columns]",
      "text/html": "<div>\n<style scoped>\n    .dataframe tbody tr th:only-of-type {\n        vertical-align: middle;\n    }\n\n    .dataframe tbody tr th {\n        vertical-align: top;\n    }\n\n    .dataframe thead th {\n        text-align: right;\n    }\n</style>\n<table border=\"1\" class=\"dataframe\">\n  <thead>\n    <tr style=\"text-align: right;\">\n      <th></th>\n      <th>일시</th>\n      <th>기온(°C)</th>\n      <th>강수량(mm)</th>\n      <th>풍속(m/s)</th>\n      <th>습도(%)</th>\n      <th>적설(cm)</th>\n    </tr>\n  </thead>\n  <tbody>\n    <tr>\n      <th>0</th>\n      <td>2022-12-23 02:00:00</td>\n      <td>-11</td>\n      <td>0.0</td>\n      <td>1.5</td>\n      <td>80</td>\n      <td>0.0</td>\n    </tr>\n    <tr>\n      <th>1</th>\n      <td>2022-12-23 03:00:00</td>\n      <td>-11</td>\n      <td>0.0</td>\n      <td>1.2</td>\n      <td>80</td>\n      <td>0.0</td>\n    </tr>\n    <tr>\n      <th>2</th>\n      <td>2022-12-23 04:00:00</td>\n      <td>-12</td>\n      <td>0.0</td>\n      <td>0.9</td>\n      <td>80</td>\n      <td>0.0</td>\n    </tr>\n    <tr>\n      <th>3</th>\n      <td>2022-12-23 00:00:00</td>\n      <td>-10</td>\n      <td>0.0</td>\n      <td>2.3</td>\n      <td>80</td>\n      <td>0.0</td>\n    </tr>\n    <tr>\n      <th>4</th>\n      <td>2022-12-23 01:00:00</td>\n      <td>-10</td>\n      <td>0.0</td>\n      <td>1.8</td>\n      <td>80</td>\n      <td>0.5</td>\n    </tr>\n    <tr>\n      <th>...</th>\n      <td>...</td>\n      <td>...</td>\n      <td>...</td>\n      <td>...</td>\n      <td>...</td>\n      <td>...</td>\n    </tr>\n    <tr>\n      <th>129</th>\n      <td>2022-12-29 06:00:00</td>\n      <td>-8</td>\n      <td>0.0</td>\n      <td>1.3</td>\n      <td>90</td>\n      <td>0.0</td>\n    </tr>\n    <tr>\n      <th>130</th>\n      <td>2022-12-29 07:00:00</td>\n      <td>-8</td>\n      <td>0.0</td>\n      <td>1.7</td>\n      <td>90</td>\n      <td>0.0</td>\n    </tr>\n    <tr>\n      <th>131</th>\n      <td>2022-12-29 03:00:00</td>\n      <td>-7</td>\n      <td>0.0</td>\n      <td>0.9</td>\n      <td>85</td>\n      <td>0.0</td>\n    </tr>\n    <tr>\n      <th>132</th>\n      <td>2022-12-29 04:00:00</td>\n      <td>-7</td>\n      <td>0.0</td>\n      <td>0.9</td>\n      <td>90</td>\n      <td>0.0</td>\n    </tr>\n    <tr>\n      <th>133</th>\n      <td>2022-12-29 05:00:00</td>\n      <td>-7</td>\n      <td>0.0</td>\n      <td>0.9</td>\n      <td>85</td>\n      <td>0.0</td>\n    </tr>\n  </tbody>\n</table>\n<p>134 rows × 6 columns</p>\n</div>"
     },
     "execution_count": 176,
     "metadata": {},
     "output_type": "execute_result"
    }
   ],
   "source": [
    "whether_pre"
   ],
   "metadata": {
    "collapsed": false
   }
  },
  {
   "cell_type": "markdown",
   "source": [
    "# 차량데이터 불러오기\n",
    "- 12.23기준 다래 빼고 3개 업체 올라와있음"
   ],
   "metadata": {
    "collapsed": false
   }
  },
  {
   "cell_type": "code",
   "execution_count": 98,
   "outputs": [],
   "source": [
    "# conn = connect(host = '172.31.101.61', port = 21050 , user = 'hive', password = 'hive')\n",
    "#\n",
    "#\n",
    "# create_query ='select * from SVC.hanmec1_vw_inout_errlpr_list'\n",
    "# # run query on impala\n",
    "# cur = conn.cursor()\n",
    "# cur.execute(create_query)\n",
    "# hanmec1 = as_pandas(cur)\n",
    "#\n",
    "# create_query ='select * from SVC.hanmec2_vw_inout_errlpr_list'\n",
    "# # run query on impala\n",
    "# cur = conn.cursor()\n",
    "# cur.execute(create_query)\n",
    "# hanmec2 = as_pandas(cur)\n",
    "#\n",
    "#\n",
    "# create_query ='select * from SVC.daewoong_ps070'\n",
    "# # run query on impala\n",
    "# cur = conn.cursor()\n",
    "# cur.execute(create_query)\n",
    "# daewoong_ps070 = as_pandas(cur)\n",
    "#\n",
    "# create_query ='select * from SVC.daewoong_ps500'\n",
    "# # run query on impala\n",
    "# cur = conn.cursor()\n",
    "# cur.execute(create_query)\n",
    "# daewoong_in = as_pandas(cur)\n",
    "#\n",
    "# create_query ='select * from SVC.daewoong_ps510'\n",
    "# # run query on impala\n",
    "# cur = conn.cursor()\n",
    "# cur.execute(create_query)\n",
    "# daewoong_out = as_pandas(cur)\n",
    "#\n",
    "#\n",
    "# create_query ='select * from SVC.dklee_tb_pch302'\n",
    "# # run query on impala\n",
    "# cur = conn.cursor()\n",
    "# cur.execute(create_query)\n",
    "# dklee = as_pandas(cur)\n",
    "#\n",
    "#\n",
    "# create_query ='select * from SVC.dklee_tb_pcn211'\n",
    "# # run query on impala\n",
    "# cur = conn.cursor()\n",
    "# cur.execute(create_query)\n",
    "# dklee_tb_pcn211 = as_pandas(cur)\n",
    "#\n",
    "# hanmec1.to_csv('hanmec1.csv',index=False, encoding='utf-8-sig')\n",
    "# hanmec2.to_csv('hanmec2.csv',index=False, encoding='utf-8-sig')\n",
    "#\n",
    "# daewoong_ps070.to_csv('daewoong_ps070.csv',index=False, encoding='utf-8-sig')\n",
    "# daewoong_in.to_csv('daewoong_in.csv',index=False, encoding='utf-8-sig')\n",
    "# daewoong_out.to_csv('daewoong_out.csv',index=False, encoding='utf-8-sig')\n",
    "#\n",
    "# dklee.to_csv('dklee.csv',index=False, encoding='utf-8-sig')\n",
    "# dklee_tb_pcn211.to_csv('dklee_tb_pcn211.csv',index=False, encoding='utf-8-sig')\n",
    "\n",
    "hanmec1 = pd.read_csv('hanmec1.csv')\n",
    "hanmec2 = pd.read_csv('hanmec2.csv')\n",
    "daewoong_ps070 = pd.read_csv('daewoong_ps070.csv')\n",
    "daewoong_in = pd.read_csv('daewoong_in.csv')\n",
    "daewoong_out = pd.read_csv('daewoong_out.csv')\n",
    "dklee = pd.read_csv('dklee.csv')\n",
    "dklee_tb_pcn211 = pd.read_csv('dklee_tb_pcn211.csv')"
   ],
   "metadata": {
    "collapsed": false
   }
  },
  {
   "cell_type": "markdown",
   "source": [
    "# 한맥데이터 전처리"
   ],
   "metadata": {
    "collapsed": false
   }
  },
  {
   "cell_type": "code",
   "execution_count": 99,
   "outputs": [],
   "source": [
    "hanmec1 = hanmec1[['carno','carinoutdtime','inoutdiv']]\n",
    "hanmec2 = hanmec2[['carno','carinoutdtime','inoutdiv']]\n",
    "hanmec1['주차장'] = '주차1동'\n",
    "hanmec2['주차장'] = '주차2동'\n",
    "hanmmec = pd.concat([hanmec1,hanmec2])\n",
    "hanmmec = hanmmec[['carno','주차장','inoutdiv','carinoutdtime']]\n",
    "hanmmec.columns = ['차량번호','주차장','입출차여부','입출차시각']\n",
    "hanmmec['입출차여부'] = hanmmec['입출차여부'].apply(lambda x : '입차' if x ==1 else '출차')"
   ],
   "metadata": {
    "collapsed": false
   }
  },
  {
   "cell_type": "markdown",
   "source": [
    "# 대웅 전처리"
   ],
   "metadata": {
    "collapsed": false
   }
  },
  {
   "cell_type": "code",
   "execution_count": 100,
   "outputs": [],
   "source": [
    "daewoong_ps070 = pd.read_csv('daewoong_ps070.csv')\n",
    "daewoong_in = pd.read_csv('daewoong_in.csv')\n",
    "daewoong_out = pd.read_csv('daewoong_out.csv')\n",
    "\n",
    "\n",
    "\n",
    "\n",
    "daewoong_in['입출차여부'] = '입차'\n",
    "daewoong_out['입출차여부'] = '출차'\n",
    "daewoong_out = daewoong_out[['outcarno','exitmainunitno','입출차여부','insdate']]\n",
    "daewoong_in = daewoong_in[['incarno','mainunitno','입출차여부','insdate']]\n",
    "daewoong_out.columns = ['차량번호', '주차장', '입출차여부','입출차시각']\n",
    "daewoong_in.columns = ['차량번호', '주차장', '입출차여부','입출차시각']\n",
    "daewoong = pd.concat([daewoong_in,daewoong_out])\n",
    "\n",
    "daewoong = pd.merge(daewoong,daewoong_ps070[['mainunitno','unitname']], how = 'left', left_on='주차장',right_on='mainunitno')\n",
    "daewoong = daewoong[['차량번호','unitname','입출차여부','입출차시각']]\n",
    "daewoong.columns = ['차량번호', '주차장', '입출차여부','입출차시각']\n",
    "daewoong['입출차시각'] = pd.to_datetime(daewoong['입출차시각'])\n",
    "\n",
    "#차량번호 미인식 삭제\n",
    "daewoong = daewoong[daewoong['차량번호']!='xxxxxxx']\n",
    "\n",
    "def daewoong_parking(df):\n",
    "    if 'A' in str(df):\n",
    "        return '16동'\n",
    "    elif 'B' in str(df):\n",
    "        return '17동'\n",
    "daewoong['주차장'] = daewoong['주차장'].apply(daewoong_parking)"
   ],
   "metadata": {
    "collapsed": false
   }
  },
  {
   "cell_type": "code",
   "execution_count": 101,
   "outputs": [
    {
     "data": {
      "text/plain": "              차량번호  주차장 입출차여부               입출차시각\n0          19로5720  17동    입차 2022-04-15 12:13:55\n1        세종86배1362  17동    입차 2022-04-15 12:13:50\n2         170하4119  17동    입차 2022-04-15 12:09:48\n3          38주8896  17동    입차 2022-04-15 12:05:11\n4          71하9200  17동    입차 2022-04-15 11:56:02\n...            ...  ...   ...                 ...\n2947942    56너4442  17동    출차 2021-12-13 16:06:01\n2947943    35고3820  17동    출차 2021-12-13 16:05:55\n2947944    32라2250  16동    출차 2021-12-13 16:05:49\n2947945    93무6269  16동    출차 2021-12-13 16:05:39\n2947946    48두2040  17동    출차 2021-12-13 16:05:19\n\n[2738518 rows x 4 columns]",
      "text/html": "<div>\n<style scoped>\n    .dataframe tbody tr th:only-of-type {\n        vertical-align: middle;\n    }\n\n    .dataframe tbody tr th {\n        vertical-align: top;\n    }\n\n    .dataframe thead th {\n        text-align: right;\n    }\n</style>\n<table border=\"1\" class=\"dataframe\">\n  <thead>\n    <tr style=\"text-align: right;\">\n      <th></th>\n      <th>차량번호</th>\n      <th>주차장</th>\n      <th>입출차여부</th>\n      <th>입출차시각</th>\n    </tr>\n  </thead>\n  <tbody>\n    <tr>\n      <th>0</th>\n      <td>19로5720</td>\n      <td>17동</td>\n      <td>입차</td>\n      <td>2022-04-15 12:13:55</td>\n    </tr>\n    <tr>\n      <th>1</th>\n      <td>세종86배1362</td>\n      <td>17동</td>\n      <td>입차</td>\n      <td>2022-04-15 12:13:50</td>\n    </tr>\n    <tr>\n      <th>2</th>\n      <td>170하4119</td>\n      <td>17동</td>\n      <td>입차</td>\n      <td>2022-04-15 12:09:48</td>\n    </tr>\n    <tr>\n      <th>3</th>\n      <td>38주8896</td>\n      <td>17동</td>\n      <td>입차</td>\n      <td>2022-04-15 12:05:11</td>\n    </tr>\n    <tr>\n      <th>4</th>\n      <td>71하9200</td>\n      <td>17동</td>\n      <td>입차</td>\n      <td>2022-04-15 11:56:02</td>\n    </tr>\n    <tr>\n      <th>...</th>\n      <td>...</td>\n      <td>...</td>\n      <td>...</td>\n      <td>...</td>\n    </tr>\n    <tr>\n      <th>2947942</th>\n      <td>56너4442</td>\n      <td>17동</td>\n      <td>출차</td>\n      <td>2021-12-13 16:06:01</td>\n    </tr>\n    <tr>\n      <th>2947943</th>\n      <td>35고3820</td>\n      <td>17동</td>\n      <td>출차</td>\n      <td>2021-12-13 16:05:55</td>\n    </tr>\n    <tr>\n      <th>2947944</th>\n      <td>32라2250</td>\n      <td>16동</td>\n      <td>출차</td>\n      <td>2021-12-13 16:05:49</td>\n    </tr>\n    <tr>\n      <th>2947945</th>\n      <td>93무6269</td>\n      <td>16동</td>\n      <td>출차</td>\n      <td>2021-12-13 16:05:39</td>\n    </tr>\n    <tr>\n      <th>2947946</th>\n      <td>48두2040</td>\n      <td>17동</td>\n      <td>출차</td>\n      <td>2021-12-13 16:05:19</td>\n    </tr>\n  </tbody>\n</table>\n<p>2738518 rows × 4 columns</p>\n</div>"
     },
     "execution_count": 101,
     "metadata": {},
     "output_type": "execute_result"
    }
   ],
   "source": [
    "daewoong"
   ],
   "metadata": {
    "collapsed": false
   }
  },
  {
   "cell_type": "markdown",
   "source": [
    "# 대경전처리"
   ],
   "metadata": {
    "collapsed": false
   }
  },
  {
   "cell_type": "code",
   "execution_count": 102,
   "outputs": [
    {
     "data": {
      "text/plain": "        장비코드       연월일      시간      차량번호 입출차여부\n0          9  20200901  081800  104오2257    입차\n1         12  20200901  081800   48주5144    입차\n2         21  20200901  120100   45로5757    입차\n3          1  20200901  120200   41러9035    입차\n4          4  20200901  120200   41러9035    입차\n...      ...       ...     ...       ...   ...\n2935810   18  20200429  190300   20다3665    출차\n2935811   18  20200501  180900   47어2592    출차\n2935812   18  20200429  113400   35노6595    출차\n2935813   18  20200429  182200   47모4349    출차\n2935814   18  20200512  221600  244우2875    출차\n\n[5848936 rows x 5 columns]",
      "text/html": "<div>\n<style scoped>\n    .dataframe tbody tr th:only-of-type {\n        vertical-align: middle;\n    }\n\n    .dataframe tbody tr th {\n        vertical-align: top;\n    }\n\n    .dataframe thead th {\n        text-align: right;\n    }\n</style>\n<table border=\"1\" class=\"dataframe\">\n  <thead>\n    <tr style=\"text-align: right;\">\n      <th></th>\n      <th>장비코드</th>\n      <th>연월일</th>\n      <th>시간</th>\n      <th>차량번호</th>\n      <th>입출차여부</th>\n    </tr>\n  </thead>\n  <tbody>\n    <tr>\n      <th>0</th>\n      <td>9</td>\n      <td>20200901</td>\n      <td>081800</td>\n      <td>104오2257</td>\n      <td>입차</td>\n    </tr>\n    <tr>\n      <th>1</th>\n      <td>12</td>\n      <td>20200901</td>\n      <td>081800</td>\n      <td>48주5144</td>\n      <td>입차</td>\n    </tr>\n    <tr>\n      <th>2</th>\n      <td>21</td>\n      <td>20200901</td>\n      <td>120100</td>\n      <td>45로5757</td>\n      <td>입차</td>\n    </tr>\n    <tr>\n      <th>3</th>\n      <td>1</td>\n      <td>20200901</td>\n      <td>120200</td>\n      <td>41러9035</td>\n      <td>입차</td>\n    </tr>\n    <tr>\n      <th>4</th>\n      <td>4</td>\n      <td>20200901</td>\n      <td>120200</td>\n      <td>41러9035</td>\n      <td>입차</td>\n    </tr>\n    <tr>\n      <th>...</th>\n      <td>...</td>\n      <td>...</td>\n      <td>...</td>\n      <td>...</td>\n      <td>...</td>\n    </tr>\n    <tr>\n      <th>2935810</th>\n      <td>18</td>\n      <td>20200429</td>\n      <td>190300</td>\n      <td>20다3665</td>\n      <td>출차</td>\n    </tr>\n    <tr>\n      <th>2935811</th>\n      <td>18</td>\n      <td>20200501</td>\n      <td>180900</td>\n      <td>47어2592</td>\n      <td>출차</td>\n    </tr>\n    <tr>\n      <th>2935812</th>\n      <td>18</td>\n      <td>20200429</td>\n      <td>113400</td>\n      <td>35노6595</td>\n      <td>출차</td>\n    </tr>\n    <tr>\n      <th>2935813</th>\n      <td>18</td>\n      <td>20200429</td>\n      <td>182200</td>\n      <td>47모4349</td>\n      <td>출차</td>\n    </tr>\n    <tr>\n      <th>2935814</th>\n      <td>18</td>\n      <td>20200512</td>\n      <td>221600</td>\n      <td>244우2875</td>\n      <td>출차</td>\n    </tr>\n  </tbody>\n</table>\n<p>5848936 rows × 5 columns</p>\n</div>"
     },
     "execution_count": 102,
     "metadata": {},
     "output_type": "execute_result"
    }
   ],
   "source": [
    "pd.set_option('display.max_columns', None)\n",
    "\n",
    "\n",
    "dklee_in=dklee[['car_entr_eqp_no','car_entr_proc_ymd','car_entr_proc_time','car_entr_car_no']]\n",
    "dklee_in['입출차여부'] = '입차'\n",
    "dklee_out = dklee[['car_exit_eqp_no', 'car_exit_proc_ymd', 'car_exit_proc_time', 'car_exit_car_no']]\n",
    "dklee_out['입출차여부'] = '출차'\n",
    "dklee_out.columns =['장비코드','연월일','시간','차량번호','입출차여부']\n",
    "dklee_in.columns =['장비코드','연월일','시간','차량번호','입출차여부']\n",
    "dklee_in = dklee_in.dropna()\n",
    "dklee_out = dklee_out.dropna()\n",
    "\n",
    "\n",
    "#--------------------------------------------------------------------------------------------------------------------\n",
    "# 이부분은 csv로 불러올때만 필요함!\n",
    "dklee_in[['장비코드','연월일','시간']] = dklee_in[['장비코드','연월일','시간']].astype(int).astype(str)\n",
    "dklee_out[['장비코드','연월일','시간']] = dklee_out[['장비코드','연월일','시간']].astype(int).astype(str)\n",
    "\n",
    "def replace(x):\n",
    "    return str('00000000000'+str(x))[-6:]\n",
    "dklee_out['시간'] = dklee_out['시간'].apply(replace)\n",
    "dklee_in['시간'] = dklee_in['시간'].apply(replace)\n",
    "##########-------------------------------------------------------------------------------------\n",
    "\n",
    "dk = pd.concat([dklee_in,dklee_out])\n",
    "dk = dk.astype(str)\n",
    "dk"
   ],
   "metadata": {
    "collapsed": false
   }
  },
  {
   "cell_type": "code",
   "execution_count": 103,
   "outputs": [],
   "source": [
    "\n",
    "dk = pd.merge(dk, dklee_tb_pcn211[['eqp_no','eqp_nm']].astype(str), how = 'left', left_on='장비코드', right_on='eqp_no')\n",
    "dk.rename(columns ={'eqp_nm':'장비명'},inplace = True)\n",
    "dk.dropna(inplace = True)\n",
    "\n",
    "\n",
    "\n",
    "def dk_parking(df):\n",
    "    if '2동' in df:\n",
    "        return '2동'\n",
    "    elif '4동' in df:\n",
    "        return '4동'\n",
    "    elif '5동' in df:\n",
    "        return '5동'\n",
    "    elif '6동' in df:\n",
    "        return '6동'\n",
    "    else :\n",
    "        return '7동'\n",
    "dk['주차장']=dk['장비명'].apply(dk_parking)\n",
    "dk['입출차시각'] = dk['연월일']+dk['시간']\n",
    "dk['입출차시각'] = pd.to_datetime(dk['입출차시각'], format='%Y%m%d%H%M%S')\n",
    "dk = dk[['차량번호','주차장','입출차여부','입출차시각']]\n"
   ],
   "metadata": {
    "collapsed": false
   }
  },
  {
   "cell_type": "markdown",
   "source": [
    "# 다래전처리"
   ],
   "metadata": {
    "collapsed": false
   }
  },
  {
   "cell_type": "code",
   "execution_count": 104,
   "outputs": [],
   "source": [
    "# #### 전처리\n",
    "# print(datetime.datetime.now().strftime('%Y.%m.%d %Hh%Mm%Ss'), 'Preprocessing Data')\n",
    "# # 공백 제거\n",
    "# darae_in[['장비명','입차구분','입차고객구분','출차여부','차량종류']] = darae_in[['장비명','입차구분','입차고객구분','출차여부','차량종류']].apply(lambda x: x.str.strip())\n",
    "# darae_out[['장비명','출차구분','출차고객구분','출차여부','차량종류']] = darae_out[['장비명','출차구분','출차고객구분','출차여부','차량종류']].apply(lambda x: x.str.strip())\n",
    "#\n",
    "#\n",
    "# # 장비명에서 동만 추출하여 주차장에 입력\n",
    "# darae_in['주차장'] = 0\n",
    "# for i in range(len(darae_in)):\n",
    "#     slicing(darae_in,i)\n",
    "# darae_out['주차장'] = 0\n",
    "# for i in range(len(darae_out)):\n",
    "#     slicing(darae_out,i)\n",
    "#\n",
    "# # 13-1, 2, 3, 14-1, 2동을 13동, 14동으로 변경\n",
    "# # darae_in['주차장'] = darae_in['주차장'].apply(change)\n",
    "# # darae_out['주차장'] = darae_out['주차장'].apply(change)\n",
    "# test_in = copy.deepcopy(darae_in)\n",
    "# test_in.columns = ['일자','시각','차량번호','주차일련번호','입출차카드번호','장비명','입출차구분','입출차고객구분','출차여부','차량종류','주차장']\n",
    "# test_in['입출차여부'] = '입차'\n",
    "# test_out = copy.deepcopy(darae_out)\n",
    "# test_out.columns = ['일자','시각','차량번호','주차일련번호','입출차카드번호','장비명','입출차구분','입출차고객구분','출차여부','차량종류','주차장']\n",
    "# test_out['입출차여부'] = '출차'\n",
    "#\n",
    "# test_in['입출차시각'] = test_in['일자'] + test_in['시각']\n",
    "# test_in['입출차시각'] = pd.to_datetime(test_in['입출차시각'], format= '%Y-%m-%d %H:%M:%S', errors='raise')\n",
    "#\n",
    "# test_out['입출차시각'] = test_out['일자'] + test_out['시각']\n",
    "# test_out['입출차시각'] = pd.to_datetime(test_out['입출차시각'], format= '%Y-%m-%d %H:%M:%S', errors='raise')\n",
    "#\n",
    "# test_out = test_out[['차량번호','주차장','입출차여부','입출차시각']]\n",
    "# test_in = test_in[['차량번호','주차장','입출차여부','입출차시각']]\n",
    "# darae = pd.concat([test_in, test_out])"
   ],
   "metadata": {
    "collapsed": false
   }
  },
  {
   "cell_type": "markdown",
   "source": [
    "# 병합 및 전처리"
   ],
   "metadata": {
    "collapsed": false
   }
  },
  {
   "cell_type": "code",
   "execution_count": 105,
   "outputs": [],
   "source": [
    "# 입차, 출차 데이터 합치고 시간으로 정렬\n",
    "df = pd.concat([hanmmec,daewoong,dk]).sort_values(by=['차량번호','입출차시각'])\n"
   ],
   "metadata": {
    "collapsed": false
   }
  },
  {
   "cell_type": "code",
   "execution_count": 106,
   "outputs": [],
   "source": [
    "df['입출차시각'] = pd.to_datetime(df['입출차시각'])\n",
    "df['주차장'] = df['주차장'].apply(change)\n",
    "# import datetime ############ import는 맨 위로 빼둠\n",
    "# 입출차시각 생성\n",
    "df['시'] = df['입출차시각'].dt.hour\n",
    "# df.reset_index(inplace = True)\n",
    "df.reset_index(inplace=True, drop=True) ######### 어차피 밑에서 index 삭제함 --> reset_index할 때 drop\n",
    "df=df[['차량번호','주차장','입출차여부','입출차시각']]"
   ],
   "metadata": {
    "collapsed": false
   }
  },
  {
   "cell_type": "code",
   "execution_count": 107,
   "outputs": [],
   "source": [
    "car_arr = np.array(df[['입출차시각','차량번호']])\n",
    "test_idx_list =[]\n",
    "\n",
    "# 입차 시간과 출차시간이 같은 경우를 test_idx_list에 추가\n",
    "for idx in range(len(car_arr)-1):\n",
    "    # if car_arr[idx][0] == car_arr[idx+1][0] and car_arr[idx][1] == car_arr[idx+1][1] and car_arr[idx][2] == car_arr[idx+1][2]:\n",
    "    if (car_arr[idx][0] == car_arr[idx+1][0]) and (car_arr[idx][1] == car_arr[idx+1][1]): ###### 가독성을 위해 조건에 괄호 쳐줌\n",
    "        test_idx_list.append(idx)\n",
    "        test_idx_list.append(idx+1)\n",
    "test_idx_list = list(set(test_idx_list))\n",
    "test_df = df.loc[test_idx_list]\n",
    "# 입출차 시간이 같은 경우의 출차 삭제\n",
    "eleminate_index = test_df[test_df['입출차여부']=='출차'].index\n",
    "df2 = df.drop(eleminate_index).reset_index(drop=True) ############### 위에서 drop해서 index 컬럼 사라짐, 밑에 있는 reset_index를 위에 붙이고 index를 한번에 drop\n",
    "# df2.drop(['index'],axis = 1 , inplace = True)\n",
    "# df2.reset_index(inplace=True)\n",
    "# df2.drop(['index'],axis = 1 , inplace = True)\n",
    "\n",
    "\n",
    "# 아래 주석의 두 경우만 남김\n",
    "car_arr = np.array(df2[['차량번호','입출차여부']])\n",
    "idx_list = []\n",
    "for idx in range(len(car_arr)):\n",
    "    if idx == 0:\n",
    "        idx_list.append(idx)\n",
    "    else:\n",
    "        # 차량 번호가 같고 상태가 다른 경우(입차 > 출차 or 출차 > 입차)\n",
    "        if (car_arr[idx][0] == car_arr[idx-1][0]) and (car_arr[idx][1] != car_arr[idx-1][1]):\n",
    "            idx_list.append(idx)\n",
    "        #차량번호가 바뀌는 경우\n",
    "        elif car_arr[idx][0] != car_arr[idx-1][0]:\n",
    "            idx_list.append(idx)\n",
    "process_df = df2.loc[idx_list]"
   ],
   "metadata": {
    "collapsed": false
   }
  },
  {
   "cell_type": "code",
   "execution_count": 108,
   "outputs": [
    {
     "data": {
      "text/plain": "주차2동    743679\n17동     706604\n4동      631151\n16동     462445\n주차1동    425289\n5동      365154\n7동      267048\n6동      166591\n2동      137441\nName: 주차장, dtype: int64"
     },
     "execution_count": 108,
     "metadata": {},
     "output_type": "execute_result"
    }
   ],
   "source": [
    "process_df['주차장'].value_counts()"
   ],
   "metadata": {
    "collapsed": false
   }
  },
  {
   "cell_type": "code",
   "execution_count": 109,
   "outputs": [
    {
     "data": {
      "text/plain": "           연   월   일  시   분  공휴일  요일  주차장  혼잡도\n311048  2009   1   1  7  46    1   3   16    0\n265136  2009   1   1  7  56    1   3   16    0\n278955  2009   1   1  8   1    1   3   16    0\n269696  2009   1   1  8  42    1   3   16    0\n228936  2019   1   1  7  44    1   1   16    0\n...      ...  ..  .. ..  ..  ...  ..  ...  ...\n332048  2022  11  30  9  50    0   2  102    1\n403173  2022  11  30  9  52    0   2  102    1\n398576  2022  11  30  9  55    0   2  102    1\n335550  2022  11  30  9  55    0   2  102    1\n362814  2022  11  30  9  57    0   2  102    1\n\n[1092552 rows x 9 columns]",
      "text/html": "<div>\n<style scoped>\n    .dataframe tbody tr th:only-of-type {\n        vertical-align: middle;\n    }\n\n    .dataframe tbody tr th {\n        vertical-align: top;\n    }\n\n    .dataframe thead th {\n        text-align: right;\n    }\n</style>\n<table border=\"1\" class=\"dataframe\">\n  <thead>\n    <tr style=\"text-align: right;\">\n      <th></th>\n      <th>연</th>\n      <th>월</th>\n      <th>일</th>\n      <th>시</th>\n      <th>분</th>\n      <th>공휴일</th>\n      <th>요일</th>\n      <th>주차장</th>\n      <th>혼잡도</th>\n    </tr>\n  </thead>\n  <tbody>\n    <tr>\n      <th>311048</th>\n      <td>2009</td>\n      <td>1</td>\n      <td>1</td>\n      <td>7</td>\n      <td>46</td>\n      <td>1</td>\n      <td>3</td>\n      <td>16</td>\n      <td>0</td>\n    </tr>\n    <tr>\n      <th>265136</th>\n      <td>2009</td>\n      <td>1</td>\n      <td>1</td>\n      <td>7</td>\n      <td>56</td>\n      <td>1</td>\n      <td>3</td>\n      <td>16</td>\n      <td>0</td>\n    </tr>\n    <tr>\n      <th>278955</th>\n      <td>2009</td>\n      <td>1</td>\n      <td>1</td>\n      <td>8</td>\n      <td>1</td>\n      <td>1</td>\n      <td>3</td>\n      <td>16</td>\n      <td>0</td>\n    </tr>\n    <tr>\n      <th>269696</th>\n      <td>2009</td>\n      <td>1</td>\n      <td>1</td>\n      <td>8</td>\n      <td>42</td>\n      <td>1</td>\n      <td>3</td>\n      <td>16</td>\n      <td>0</td>\n    </tr>\n    <tr>\n      <th>228936</th>\n      <td>2019</td>\n      <td>1</td>\n      <td>1</td>\n      <td>7</td>\n      <td>44</td>\n      <td>1</td>\n      <td>1</td>\n      <td>16</td>\n      <td>0</td>\n    </tr>\n    <tr>\n      <th>...</th>\n      <td>...</td>\n      <td>...</td>\n      <td>...</td>\n      <td>...</td>\n      <td>...</td>\n      <td>...</td>\n      <td>...</td>\n      <td>...</td>\n      <td>...</td>\n    </tr>\n    <tr>\n      <th>332048</th>\n      <td>2022</td>\n      <td>11</td>\n      <td>30</td>\n      <td>9</td>\n      <td>50</td>\n      <td>0</td>\n      <td>2</td>\n      <td>102</td>\n      <td>1</td>\n    </tr>\n    <tr>\n      <th>403173</th>\n      <td>2022</td>\n      <td>11</td>\n      <td>30</td>\n      <td>9</td>\n      <td>52</td>\n      <td>0</td>\n      <td>2</td>\n      <td>102</td>\n      <td>1</td>\n    </tr>\n    <tr>\n      <th>398576</th>\n      <td>2022</td>\n      <td>11</td>\n      <td>30</td>\n      <td>9</td>\n      <td>55</td>\n      <td>0</td>\n      <td>2</td>\n      <td>102</td>\n      <td>1</td>\n    </tr>\n    <tr>\n      <th>335550</th>\n      <td>2022</td>\n      <td>11</td>\n      <td>30</td>\n      <td>9</td>\n      <td>55</td>\n      <td>0</td>\n      <td>2</td>\n      <td>102</td>\n      <td>1</td>\n    </tr>\n    <tr>\n      <th>362814</th>\n      <td>2022</td>\n      <td>11</td>\n      <td>30</td>\n      <td>9</td>\n      <td>57</td>\n      <td>0</td>\n      <td>2</td>\n      <td>102</td>\n      <td>1</td>\n    </tr>\n  </tbody>\n</table>\n<p>1092552 rows × 9 columns</p>\n</div>"
     },
     "execution_count": 109,
     "metadata": {},
     "output_type": "execute_result"
    }
   ],
   "source": [
    "# 연, 월, 일, 시, 분, 초 컬럼 생성\n",
    "process_df['연'] = process_df['입출차시각'].dt.year\n",
    "process_df['월'] = process_df['입출차시각'].dt.month\n",
    "process_df['일'] = process_df['입출차시각'].dt.day\n",
    "process_df['시'] = process_df['입출차시각'].dt.hour\n",
    "process_df['분'] = process_df['입출차시각'].dt.minute\n",
    "process_df['초'] = process_df['입출차시각'].dt.second\n",
    "# 출근시간 (7시~9시) 사이만 남김\n",
    "process_df = process_df[(process_df['시']>=first_pred_time) & (process_df['시']<=finish_pred_time-1)]\n",
    "\n",
    "# 주차장 면수와 합치고 필요한 컬럼만 남김\n",
    "# !!!!!!!!!!!!!!!!!! 13-1동옥외, 13-2동옥외 등은 고려하지 않는 건지? (따로 정리해뒀다가 데이터 붙일 때 현업한테 얘기해야할듯)\n",
    "dataset = pd.merge(process_df, parking_info[['장소','합계']], left_on='주차장', right_on='장소')\n",
    "dataset = dataset[['입출차시각','연','월','일','시','분','초','입출차여부','주차장','합계']]\n",
    "dataset = dataset.sort_values(by=['주차장','입출차시각'])\n",
    "dataset['잔류차량수'] = 0\n",
    "arr = np.array(dataset[['연','월','일','시','분','입출차여부','주차장','잔류차량수']])\n",
    "\n",
    "# 잔류차량수 생성\n",
    "for idx in range(len(arr)):\n",
    "    if idx == 0:\n",
    "        # 첫번째 행이 입차이면 1, 출차이면 -1\n",
    "        if arr[idx][5]=='입차':\n",
    "            arr[idx][7] = arr[idx][7] + 1\n",
    "        else:\n",
    "            arr[idx][7] = arr[idx][7] - 1\n",
    "    else:\n",
    "        pre_time = list(arr[idx-1][[0,1,2,6]])\n",
    "        now_time = list(arr[idx][[0,1,2,6]])\n",
    "        status =  arr[idx][5]\n",
    "        # 이전 데이터와 연,월,일 주차장이 같은 경우\n",
    "        if pre_time == now_time:\n",
    "            if status == '입차':\n",
    "                arr[idx][7] = arr[idx-1][7] + 1\n",
    "            else:\n",
    "                arr[idx][7] = arr[idx-1][7] - 1\n",
    "        #이전 데이터와 연,월,일 주차장이 다른 경우 > 0부터 시작함\n",
    "        else:\n",
    "            if status == '입차':\n",
    "                arr[idx][7] = 1\n",
    "            else:\n",
    "                arr[idx][7] = -1\n",
    "# 사용 데이터 정리 및 비율, 혼잡도 산출\n",
    "dataset[['연','월','일','시','분','입출차여부','주차장','잔류차량수']] = arr\n",
    "dataset['비율'] = dataset['잔류차량수'] / dataset['합계']\n",
    "dataset['혼잡도'] = dataset.apply(confusion,axis=1)\n",
    "dataset['공휴일'] = dataset['입출차시각'].apply(holiday_check)\n",
    "dataset['요일'] = dataset['입출차시각'].dt.weekday\n",
    "dataset = dataset[['입출차시각', '연', '월', '일', '시', '분','초','공휴일','요일','주차장','잔류차량수', '비율','혼잡도']]\n",
    "# 날짜 매칭이 안되는 데이터들 제거\n",
    "dataset = dataset.dropna()\n",
    "dataset['주차장'] = dataset['주차장'].apply(parking)\n",
    "# 불필요한 컬럼 제거\n",
    "# dataset.drop('입출차시각', axis=1, inplace= True)\n",
    "# dataset.drop('초', axis=1, inplace= True) #################### 여러 컬럼을 한번에 제거하면 됨. 잔류차량수와 비율 컬럼도 사용하지 않으므로 제거\n",
    "dataset.drop(['입출차시각', '초', '잔류차량수', '비율'], axis=1, inplace=True)\n",
    "dataset"
   ],
   "metadata": {
    "collapsed": false
   }
  },
  {
   "cell_type": "markdown",
   "source": [
    "# 날씨데이터 붙이기"
   ],
   "metadata": {
    "collapsed": false
   }
  },
  {
   "cell_type": "markdown",
   "source": [
    "1. 학습데이터만들기\n",
    "- 기존이력 업데이트 안 되었을때 >> 그냥 날짜 최신버전에서 - ~~~년\n",
    "- 과거날씨 업데이트 안되었을때 >> merge하는 과정에서 어차피 포함 안됨\n",
    "2. 예측데이터 만들기\n",
    "- 예측 날씨 업데이트 안되었을때 > 과거데이터의 가장 최근 날씨 가져다 붙이기\n"
   ],
   "metadata": {
    "collapsed": false
   }
  },
  {
   "cell_type": "code",
   "execution_count": 142,
   "outputs": [
    {
     "ename": "KeyError",
     "evalue": "'일시'",
     "output_type": "error",
     "traceback": [
      "\u001B[0;31m---------------------------------------------------------------------------\u001B[0m",
      "\u001B[0;31mKeyError\u001B[0m                                  Traceback (most recent call last)",
      "File \u001B[0;32m~/opt/anaconda3/envs/행안부/lib/python3.9/site-packages/pandas/core/indexes/base.py:3803\u001B[0m, in \u001B[0;36mIndex.get_loc\u001B[0;34m(self, key, method, tolerance)\u001B[0m\n\u001B[1;32m   3802\u001B[0m \u001B[38;5;28;01mtry\u001B[39;00m:\n\u001B[0;32m-> 3803\u001B[0m     \u001B[38;5;28;01mreturn\u001B[39;00m \u001B[38;5;28;43mself\u001B[39;49m\u001B[38;5;241;43m.\u001B[39;49m\u001B[43m_engine\u001B[49m\u001B[38;5;241;43m.\u001B[39;49m\u001B[43mget_loc\u001B[49m\u001B[43m(\u001B[49m\u001B[43mcasted_key\u001B[49m\u001B[43m)\u001B[49m\n\u001B[1;32m   3804\u001B[0m \u001B[38;5;28;01mexcept\u001B[39;00m \u001B[38;5;167;01mKeyError\u001B[39;00m \u001B[38;5;28;01mas\u001B[39;00m err:\n",
      "File \u001B[0;32m~/opt/anaconda3/envs/행안부/lib/python3.9/site-packages/pandas/_libs/index.pyx:138\u001B[0m, in \u001B[0;36mpandas._libs.index.IndexEngine.get_loc\u001B[0;34m()\u001B[0m\n",
      "File \u001B[0;32m~/opt/anaconda3/envs/행안부/lib/python3.9/site-packages/pandas/_libs/index.pyx:165\u001B[0m, in \u001B[0;36mpandas._libs.index.IndexEngine.get_loc\u001B[0;34m()\u001B[0m\n",
      "File \u001B[0;32mpandas/_libs/hashtable_class_helper.pxi:5745\u001B[0m, in \u001B[0;36mpandas._libs.hashtable.PyObjectHashTable.get_item\u001B[0;34m()\u001B[0m\n",
      "File \u001B[0;32mpandas/_libs/hashtable_class_helper.pxi:5753\u001B[0m, in \u001B[0;36mpandas._libs.hashtable.PyObjectHashTable.get_item\u001B[0;34m()\u001B[0m\n",
      "\u001B[0;31mKeyError\u001B[0m: '일시'",
      "\nThe above exception was the direct cause of the following exception:\n",
      "\u001B[0;31mKeyError\u001B[0m                                  Traceback (most recent call last)",
      "Cell \u001B[0;32mIn [142], line 28\u001B[0m\n\u001B[1;32m     26\u001B[0m dataset\u001B[38;5;241m.\u001B[39mdrop(\u001B[38;5;124m'\u001B[39m\u001B[38;5;124mminute_yn\u001B[39m\u001B[38;5;124m'\u001B[39m, axis\u001B[38;5;241m=\u001B[39m\u001B[38;5;241m1\u001B[39m, inplace\u001B[38;5;241m=\u001B[39m\u001B[38;5;28;01mTrue\u001B[39;00m)\n\u001B[1;32m     27\u001B[0m time  \u001B[38;5;241m=\u001B[39m pd\u001B[38;5;241m.\u001B[39mto_datetime(datetime\u001B[38;5;241m.\u001B[39mdate(year, month, day) \u001B[38;5;241m-\u001B[39m datetime\u001B[38;5;241m.\u001B[39mtimedelta(days\u001B[38;5;241m=\u001B[39m\u001B[38;5;241m1095\u001B[39m))\n\u001B[0;32m---> 28\u001B[0m dataset[\u001B[38;5;124m'\u001B[39m\u001B[38;5;124m일시\u001B[39m\u001B[38;5;124m'\u001B[39m] \u001B[38;5;241m=\u001B[39m pd\u001B[38;5;241m.\u001B[39mto_datetime(\u001B[43mdataset\u001B[49m\u001B[43m[\u001B[49m\u001B[38;5;124;43m'\u001B[39;49m\u001B[38;5;124;43m일시\u001B[39;49m\u001B[38;5;124;43m'\u001B[39;49m\u001B[43m]\u001B[49m)\u001B[38;5;241m.\u001B[39mdt\u001B[38;5;241m.\u001B[39mdate\n\u001B[1;32m     29\u001B[0m dataset \u001B[38;5;241m=\u001B[39m dataset[dataset[\u001B[38;5;124m'\u001B[39m\u001B[38;5;124m일시\u001B[39m\u001B[38;5;124m'\u001B[39m]\u001B[38;5;241m>\u001B[39m\u001B[38;5;241m=\u001B[39mtime]\n\u001B[1;32m     30\u001B[0m \u001B[38;5;66;03m# dataset.index = dataset['trend']\u001B[39;00m\n\u001B[1;32m     31\u001B[0m \u001B[38;5;66;03m# dataset.drop('trend', axis=1, inplace=True)\u001B[39;00m\n",
      "File \u001B[0;32m~/opt/anaconda3/envs/행안부/lib/python3.9/site-packages/pandas/core/frame.py:3804\u001B[0m, in \u001B[0;36mDataFrame.__getitem__\u001B[0;34m(self, key)\u001B[0m\n\u001B[1;32m   3802\u001B[0m \u001B[38;5;28;01mif\u001B[39;00m \u001B[38;5;28mself\u001B[39m\u001B[38;5;241m.\u001B[39mcolumns\u001B[38;5;241m.\u001B[39mnlevels \u001B[38;5;241m>\u001B[39m \u001B[38;5;241m1\u001B[39m:\n\u001B[1;32m   3803\u001B[0m     \u001B[38;5;28;01mreturn\u001B[39;00m \u001B[38;5;28mself\u001B[39m\u001B[38;5;241m.\u001B[39m_getitem_multilevel(key)\n\u001B[0;32m-> 3804\u001B[0m indexer \u001B[38;5;241m=\u001B[39m \u001B[38;5;28;43mself\u001B[39;49m\u001B[38;5;241;43m.\u001B[39;49m\u001B[43mcolumns\u001B[49m\u001B[38;5;241;43m.\u001B[39;49m\u001B[43mget_loc\u001B[49m\u001B[43m(\u001B[49m\u001B[43mkey\u001B[49m\u001B[43m)\u001B[49m\n\u001B[1;32m   3805\u001B[0m \u001B[38;5;28;01mif\u001B[39;00m is_integer(indexer):\n\u001B[1;32m   3806\u001B[0m     indexer \u001B[38;5;241m=\u001B[39m [indexer]\n",
      "File \u001B[0;32m~/opt/anaconda3/envs/행안부/lib/python3.9/site-packages/pandas/core/indexes/base.py:3805\u001B[0m, in \u001B[0;36mIndex.get_loc\u001B[0;34m(self, key, method, tolerance)\u001B[0m\n\u001B[1;32m   3803\u001B[0m     \u001B[38;5;28;01mreturn\u001B[39;00m \u001B[38;5;28mself\u001B[39m\u001B[38;5;241m.\u001B[39m_engine\u001B[38;5;241m.\u001B[39mget_loc(casted_key)\n\u001B[1;32m   3804\u001B[0m \u001B[38;5;28;01mexcept\u001B[39;00m \u001B[38;5;167;01mKeyError\u001B[39;00m \u001B[38;5;28;01mas\u001B[39;00m err:\n\u001B[0;32m-> 3805\u001B[0m     \u001B[38;5;28;01mraise\u001B[39;00m \u001B[38;5;167;01mKeyError\u001B[39;00m(key) \u001B[38;5;28;01mfrom\u001B[39;00m \u001B[38;5;21;01merr\u001B[39;00m\n\u001B[1;32m   3806\u001B[0m \u001B[38;5;28;01mexcept\u001B[39;00m \u001B[38;5;167;01mTypeError\u001B[39;00m:\n\u001B[1;32m   3807\u001B[0m     \u001B[38;5;66;03m# If we have a listlike key, _check_indexing_error will raise\u001B[39;00m\n\u001B[1;32m   3808\u001B[0m     \u001B[38;5;66;03m#  InvalidIndexError. Otherwise we fall through and re-raise\u001B[39;00m\n\u001B[1;32m   3809\u001B[0m     \u001B[38;5;66;03m#  the TypeError.\u001B[39;00m\n\u001B[1;32m   3810\u001B[0m     \u001B[38;5;28mself\u001B[39m\u001B[38;5;241m.\u001B[39m_check_indexing_error(key)\n",
      "\u001B[0;31mKeyError\u001B[0m: '일시'"
     ]
    }
   ],
   "source": [
    "## 학습데이터셋 생성\n",
    "\n",
    "# 연, 월, 일, 시 생성\n",
    "whether_his['연'] = whether_his['일시'].dt.year\n",
    "whether_his['월'] = whether_his['일시'].dt.month\n",
    "whether_his['일'] = whether_his['일시'].dt.day\n",
    "whether_his['시'] = whether_his['일시'].dt.hour\n",
    "# 위에서 만든 데이터셋에 날씨 데이터 붙여줌\n",
    "dataset = pd.merge(dataset, whether_his, on=['연','월','일','시'], how='left')\n",
    "\n",
    "# import holidays ######### import는 맨 위로 뺌\n",
    "# 휴일 체크\n",
    "\n",
    "\n",
    "# 날짜 매칭이 안되는 데이터들 제거\n",
    "dataset = dataset.dropna()\n",
    "# 불필요한 컬럼 제거\n",
    "# dataset.drop('입출차시각', axis=1, inplace= True)\n",
    "# dataset.drop('초', axis=1, inplace= True) #################### 여러 컬럼을 한번에 제거하면 됨. 잔류차량수와 비율 컬럼도 사용하지 않으므로 제\n",
    "\n",
    "# dataset['tmp'] = dataset.apply(tmp, axis =1)\n",
    "dataset['minute_yn'] = dataset.apply(minute_yn, axis =1) ############ 컬럼명 tmp에서 minute_yn으로 변경\n",
    "dataframe = dataset.groupby(['연','월','일','시','minute_yn']).count().reset_index()[['연','월','일','시','minute_yn']]\n",
    "dataframe['trend'] = range(0, len(dataframe))\n",
    "dataset = pd.merge(dataset, dataframe, on=['연','월','일','시','minute_yn'], how='left')\n",
    "dataset.drop('minute_yn', axis=1, inplace=True)\n",
    "time  = pd.to_datetime(datetime.date(year, month, day) - datetime.timedelta(days=1095))\n",
    "dataset['일시'] = pd.to_datetime(dataset['일시']).dt.date\n",
    "dataset = dataset[dataset['일시']>=time]\n",
    "# dataset.index = dataset['trend']\n",
    "# dataset.drop('trend', axis=1, inplace=True)\n",
    "dataset.set_index('trend', inplace=True) ################# index설정 후 drop 대신 set_index 활용\n",
    "dataset.reset_index(inplace=True)"
   ],
   "metadata": {
    "collapsed": false
   }
  },
  {
   "cell_type": "code",
   "execution_count": null,
   "outputs": [],
   "source": [],
   "metadata": {
    "collapsed": false
   }
  },
  {
   "cell_type": "code",
   "execution_count": 71,
   "outputs": [],
   "source": [
    "#dataset.to_csv(data+'dataset.csv', index=False, encoding='utf-8-sig')"
   ],
   "metadata": {
    "collapsed": false
   }
  },
  {
   "cell_type": "markdown",
   "source": [
    "## 예측 데이터셋 생성"
   ],
   "metadata": {
    "collapsed": false
   }
  },
  {
   "cell_type": "code",
   "execution_count": 88,
   "outputs": [
    {
     "name": "stdout",
     "output_type": "stream",
     "text": [
      "2022.12.28 14h01m16s Make Predict Data\n"
     ]
    }
   ],
   "source": [
    "print(datetime.datetime.now().strftime('%Y.%m.%d %Hh%Mm%Ss'), 'Make Predict Data')\n",
    "\n",
    "year = int(date[:4])\n",
    "month = int(date[4:6])\n",
    "day = int(date[6:])\n",
    "\n",
    "len_df = (finish_pred_time -first_pred_time) * 60/time_delta +1\n",
    "\n",
    "time = datetime.datetime(year, month, day,first_pred_time,0)\n",
    "delta = datetime.timedelta(days=0, minutes=time_delta)\n",
    "day_delta = datetime.timedelta(days=2, hours = finish_pred_time - first_pred_time)\n",
    "time_list = [time]\n",
    "\n",
    "\n",
    "while time < datetime.datetime(year, month, day,first_pred_time,0)+ day_delta:\n",
    "    time = time + delta\n",
    "    time_list.append(time)\n",
    "\n",
    "time_df = pd.DataFrame(time_list)\n",
    "\n",
    "time_df['연'] = time_df[0].dt.year\n",
    "time_df['월'] = time_df[0].dt.month\n",
    "time_df['일'] = time_df[0].dt.day\n",
    "time_df['시'] = time_df[0].dt.hour\n",
    "time_df['분'] = time_df[0].dt.minute\n",
    "time_df2 = time_df[(time_df['시']== finish_pred_time) & (time_df['분']==0)]\n",
    "time_df = time_df[(time_df['시']>= first_pred_time) & (time_df['시']<= finish_pred_time-1)]\n",
    "time_df = pd.concat([time_df,time_df2])\n",
    "time_df = time_df.sort_values(['연','월','일','시','분'])\n",
    "\n",
    "whether_pre['연'] = whether_pre['일시'].dt.year\n",
    "whether_pre['월'] = whether_pre['일시'].dt.month\n",
    "whether_pre['일'] = whether_pre['일시'].dt.day\n",
    "whether_pre['시'] = whether_pre['일시'].dt.hour\n",
    "\n",
    "\n",
    "parking_list = dataset['주차장'].unique()\n",
    "\n",
    "predict_dataset=  pd.DataFrame()\n",
    "for parking in parking_list:\n",
    "    predict_df = time_df\n",
    "    predict_df['주차장']=parking\n",
    "    predict_df = predict_df.sort_values(by=['일','시','분'])\n",
    "    predict_df['공휴일'] = predict_df[0].apply(holiday_check)\n",
    "    predict_df['요일'] = predict_df[0].dt.weekday\n",
    "    predict_df['trend'] = range(dataset['trend'].max()+1, dataset['trend'].max() +1+ len(predict_df) )\n",
    "    predict_dataset = pd.concat([predict_dataset,predict_df])\n",
    "predict_dataset.drop(0,axis =1,inplace= True)\n",
    "\n",
    "\n",
    "predict_dataset = pd.merge(predict_dataset,whether_pre, how = 'left', on = ['연','월','일','시'])\n",
    "predict_dataset = predict_dataset.drop(['일시'],axis =1)\n",
    "predict_dataset = predict_dataset.rename(columns = {'분_x':'분'})\n",
    "\n",
    "# nan값이 있는경우  즉, 예보가 업데이트가 되지 않은 경우 작년 날짜를 가져와서 합친다\n",
    "if predict_dataset.isnull().sum().max() >=1:\n",
    "    print(f'예보데이터가 없는 경우가 {predict_dataset.isnull().sum().max()} 개 존재합니다')\n",
    "    null_data = predict_dataset[predict_dataset['기온(°C)'].isnull()].iloc[:,:9]\n",
    "    null_data = pd.merge(null_data,whether_his, how = 'left',on =['월','일','시'])\n",
    "    def yearcompare(df):\n",
    "        if df['연_x'] - df['연_y'] ==1:\n",
    "            return 1\n",
    "        else :\n",
    "            return 0\n",
    "    null_data['compare'] = null_data.apply(yearcompare,axis =1)\n",
    "    null_data =null_data[null_data['compare']==1]\n",
    "    null_data = null_data[['trend', '연_x', '월', '일', '시', '분', '공휴일', '요일', '주차장', '기온(°C)',\n",
    "           '강수량(mm)', '풍속(m/s)', '습도(%)', '적설(cm)']]\n",
    "    null_data.rename(columns={'연_x':'연'},inplace = True)\n",
    "\n",
    "    not_null = predict_dataset[predict_dataset['기온(°C)'].isnull() == False]\n",
    "    predict_dataset = pd.concat([null_data,not_null])\n",
    "\n",
    "    predict_dataset = pd.merge(predict_dataset,whether_pre, how = 'left', on = ['연','월','일','시'])\n",
    "    predict_dataset = predict_dataset.drop(['일시','분_y'],axis =1)\n",
    "    predict_dataset = predict_dataset.rename(columns = {'분_x':'분'})\n",
    "\n",
    "predict_dataset = predict_dataset[dataset.drop('혼잡도',axis=1).columns]"
   ],
   "metadata": {
    "collapsed": false
   }
  },
  {
   "cell_type": "code",
   "execution_count": 90,
   "outputs": [],
   "source": [
    "# whether_his.to_csv('whether_his.csv',index=False, encoding='utf-8-sig')\n",
    "# whether_pre.to_csv('whether_pre.csv',index=False, encoding='utf-8-sig')"
   ],
   "metadata": {
    "collapsed": false
   }
  },
  {
   "cell_type": "code",
   "execution_count": 91,
   "outputs": [],
   "source": [
    "#predict_dataset.to_csv(data+'predict_dataset.csv', index=False, encoding='utf-8-sig')"
   ],
   "metadata": {
    "collapsed": false
   }
  },
  {
   "cell_type": "code",
   "execution_count": 92,
   "outputs": [
    {
     "data": {
      "text/plain": "     trend     연   월   일   시   분  공휴일  요일  주차장 기온(°C)  강수량(mm) 풍속(m/s) 습도(%)  \\\n0     7749  2022  12  21   7   0    0   2   16     -1      1.0     2.3    95   \n1     7750  2022  12  21   7  30    0   2   16     -1      1.0     2.3    95   \n2     7751  2022  12  21   8   0    0   2   16      0      1.0     2.3    95   \n3     7752  2022  12  21   8  30    0   2   16      0      1.0     2.3    95   \n4     7753  2022  12  21   9   0    0   2   16      1      1.0     2.1    95   \n..     ...   ...  ..  ..  ..  ..  ...  ..  ...    ...      ...     ...   ...   \n163   7765  2022  12  23   8   0    0   4  102    -12      0.0     0.9    90   \n164   7766  2022  12  23   8  30    0   4  102    -12      0.0     0.9    90   \n165   7767  2022  12  23   9   0    0   4  102    -11      0.0     1.1    85   \n166   7768  2022  12  23   9  30    0   4  102    -11      0.0     1.1    85   \n167   7769  2022  12  23  10   0    0   4  102    -10      0.0     1.1    75   \n\n     적설(cm)  \n0       0.5  \n1       0.5  \n2       0.5  \n3       0.5  \n4       0.0  \n..      ...  \n163     0.5  \n164     0.5  \n165     0.5  \n166     0.5  \n167     0.5  \n\n[168 rows x 14 columns]",
      "text/html": "<div>\n<style scoped>\n    .dataframe tbody tr th:only-of-type {\n        vertical-align: middle;\n    }\n\n    .dataframe tbody tr th {\n        vertical-align: top;\n    }\n\n    .dataframe thead th {\n        text-align: right;\n    }\n</style>\n<table border=\"1\" class=\"dataframe\">\n  <thead>\n    <tr style=\"text-align: right;\">\n      <th></th>\n      <th>trend</th>\n      <th>연</th>\n      <th>월</th>\n      <th>일</th>\n      <th>시</th>\n      <th>분</th>\n      <th>공휴일</th>\n      <th>요일</th>\n      <th>주차장</th>\n      <th>기온(°C)</th>\n      <th>강수량(mm)</th>\n      <th>풍속(m/s)</th>\n      <th>습도(%)</th>\n      <th>적설(cm)</th>\n    </tr>\n  </thead>\n  <tbody>\n    <tr>\n      <th>0</th>\n      <td>7749</td>\n      <td>2022</td>\n      <td>12</td>\n      <td>21</td>\n      <td>7</td>\n      <td>0</td>\n      <td>0</td>\n      <td>2</td>\n      <td>16</td>\n      <td>-1</td>\n      <td>1.0</td>\n      <td>2.3</td>\n      <td>95</td>\n      <td>0.5</td>\n    </tr>\n    <tr>\n      <th>1</th>\n      <td>7750</td>\n      <td>2022</td>\n      <td>12</td>\n      <td>21</td>\n      <td>7</td>\n      <td>30</td>\n      <td>0</td>\n      <td>2</td>\n      <td>16</td>\n      <td>-1</td>\n      <td>1.0</td>\n      <td>2.3</td>\n      <td>95</td>\n      <td>0.5</td>\n    </tr>\n    <tr>\n      <th>2</th>\n      <td>7751</td>\n      <td>2022</td>\n      <td>12</td>\n      <td>21</td>\n      <td>8</td>\n      <td>0</td>\n      <td>0</td>\n      <td>2</td>\n      <td>16</td>\n      <td>0</td>\n      <td>1.0</td>\n      <td>2.3</td>\n      <td>95</td>\n      <td>0.5</td>\n    </tr>\n    <tr>\n      <th>3</th>\n      <td>7752</td>\n      <td>2022</td>\n      <td>12</td>\n      <td>21</td>\n      <td>8</td>\n      <td>30</td>\n      <td>0</td>\n      <td>2</td>\n      <td>16</td>\n      <td>0</td>\n      <td>1.0</td>\n      <td>2.3</td>\n      <td>95</td>\n      <td>0.5</td>\n    </tr>\n    <tr>\n      <th>4</th>\n      <td>7753</td>\n      <td>2022</td>\n      <td>12</td>\n      <td>21</td>\n      <td>9</td>\n      <td>0</td>\n      <td>0</td>\n      <td>2</td>\n      <td>16</td>\n      <td>1</td>\n      <td>1.0</td>\n      <td>2.1</td>\n      <td>95</td>\n      <td>0.0</td>\n    </tr>\n    <tr>\n      <th>...</th>\n      <td>...</td>\n      <td>...</td>\n      <td>...</td>\n      <td>...</td>\n      <td>...</td>\n      <td>...</td>\n      <td>...</td>\n      <td>...</td>\n      <td>...</td>\n      <td>...</td>\n      <td>...</td>\n      <td>...</td>\n      <td>...</td>\n      <td>...</td>\n    </tr>\n    <tr>\n      <th>163</th>\n      <td>7765</td>\n      <td>2022</td>\n      <td>12</td>\n      <td>23</td>\n      <td>8</td>\n      <td>0</td>\n      <td>0</td>\n      <td>4</td>\n      <td>102</td>\n      <td>-12</td>\n      <td>0.0</td>\n      <td>0.9</td>\n      <td>90</td>\n      <td>0.5</td>\n    </tr>\n    <tr>\n      <th>164</th>\n      <td>7766</td>\n      <td>2022</td>\n      <td>12</td>\n      <td>23</td>\n      <td>8</td>\n      <td>30</td>\n      <td>0</td>\n      <td>4</td>\n      <td>102</td>\n      <td>-12</td>\n      <td>0.0</td>\n      <td>0.9</td>\n      <td>90</td>\n      <td>0.5</td>\n    </tr>\n    <tr>\n      <th>165</th>\n      <td>7767</td>\n      <td>2022</td>\n      <td>12</td>\n      <td>23</td>\n      <td>9</td>\n      <td>0</td>\n      <td>0</td>\n      <td>4</td>\n      <td>102</td>\n      <td>-11</td>\n      <td>0.0</td>\n      <td>1.1</td>\n      <td>85</td>\n      <td>0.5</td>\n    </tr>\n    <tr>\n      <th>166</th>\n      <td>7768</td>\n      <td>2022</td>\n      <td>12</td>\n      <td>23</td>\n      <td>9</td>\n      <td>30</td>\n      <td>0</td>\n      <td>4</td>\n      <td>102</td>\n      <td>-11</td>\n      <td>0.0</td>\n      <td>1.1</td>\n      <td>85</td>\n      <td>0.5</td>\n    </tr>\n    <tr>\n      <th>167</th>\n      <td>7769</td>\n      <td>2022</td>\n      <td>12</td>\n      <td>23</td>\n      <td>10</td>\n      <td>0</td>\n      <td>0</td>\n      <td>4</td>\n      <td>102</td>\n      <td>-10</td>\n      <td>0.0</td>\n      <td>1.1</td>\n      <td>75</td>\n      <td>0.5</td>\n    </tr>\n  </tbody>\n</table>\n<p>168 rows × 14 columns</p>\n</div>"
     },
     "execution_count": 92,
     "metadata": {},
     "output_type": "execute_result"
    }
   ],
   "source": [
    "predict_dataset"
   ],
   "metadata": {
    "collapsed": false
   }
  },
  {
   "cell_type": "code",
   "execution_count": 93,
   "outputs": [
    {
     "data": {
      "text/plain": "         trend     연   월   일  시   분  공휴일  요일  주차장  혼잡도 기온(°C) 강수량(mm) 풍속(m/s)  \\\n0            0  2019   6   1  7   0    0   5   16    0   13.1       0     0.1   \n1            0  2019   6   1  7  13    0   5   16    0   13.1       0     0.1   \n2            0  2019   6   1  7  23    0   5   16    0   13.1       0     0.1   \n3            1  2019   6   1  7  34    0   5   16    0   13.1       0     0.1   \n4            1  2019   6   1  7  35    0   5   16    0   13.1       0     0.1   \n...        ...   ...  ..  .. ..  ..  ...  ..  ...  ...    ...     ...     ...   \n1046181   7635  2022  11  30  9  50    0   2  102    1   -4.3       0     3.6   \n1046182   7635  2022  11  30  9  52    0   2  102    1   -4.3       0     3.6   \n1046183   7635  2022  11  30  9  55    0   2  102    1   -4.3       0     3.6   \n1046184   7635  2022  11  30  9  55    0   2  102    1   -4.3       0     3.6   \n1046185   7635  2022  11  30  9  57    0   2  102    1   -4.3       0     3.6   \n\n        습도(%) 적설(cm)  \n0          87      0  \n1          87      0  \n2          87      0  \n3          87      0  \n4          87      0  \n...       ...    ...  \n1046181    52      0  \n1046182    52      0  \n1046183    52      0  \n1046184    52      0  \n1046185    52      0  \n\n[1046186 rows x 15 columns]",
      "text/html": "<div>\n<style scoped>\n    .dataframe tbody tr th:only-of-type {\n        vertical-align: middle;\n    }\n\n    .dataframe tbody tr th {\n        vertical-align: top;\n    }\n\n    .dataframe thead th {\n        text-align: right;\n    }\n</style>\n<table border=\"1\" class=\"dataframe\">\n  <thead>\n    <tr style=\"text-align: right;\">\n      <th></th>\n      <th>trend</th>\n      <th>연</th>\n      <th>월</th>\n      <th>일</th>\n      <th>시</th>\n      <th>분</th>\n      <th>공휴일</th>\n      <th>요일</th>\n      <th>주차장</th>\n      <th>혼잡도</th>\n      <th>기온(°C)</th>\n      <th>강수량(mm)</th>\n      <th>풍속(m/s)</th>\n      <th>습도(%)</th>\n      <th>적설(cm)</th>\n    </tr>\n  </thead>\n  <tbody>\n    <tr>\n      <th>0</th>\n      <td>0</td>\n      <td>2019</td>\n      <td>6</td>\n      <td>1</td>\n      <td>7</td>\n      <td>0</td>\n      <td>0</td>\n      <td>5</td>\n      <td>16</td>\n      <td>0</td>\n      <td>13.1</td>\n      <td>0</td>\n      <td>0.1</td>\n      <td>87</td>\n      <td>0</td>\n    </tr>\n    <tr>\n      <th>1</th>\n      <td>0</td>\n      <td>2019</td>\n      <td>6</td>\n      <td>1</td>\n      <td>7</td>\n      <td>13</td>\n      <td>0</td>\n      <td>5</td>\n      <td>16</td>\n      <td>0</td>\n      <td>13.1</td>\n      <td>0</td>\n      <td>0.1</td>\n      <td>87</td>\n      <td>0</td>\n    </tr>\n    <tr>\n      <th>2</th>\n      <td>0</td>\n      <td>2019</td>\n      <td>6</td>\n      <td>1</td>\n      <td>7</td>\n      <td>23</td>\n      <td>0</td>\n      <td>5</td>\n      <td>16</td>\n      <td>0</td>\n      <td>13.1</td>\n      <td>0</td>\n      <td>0.1</td>\n      <td>87</td>\n      <td>0</td>\n    </tr>\n    <tr>\n      <th>3</th>\n      <td>1</td>\n      <td>2019</td>\n      <td>6</td>\n      <td>1</td>\n      <td>7</td>\n      <td>34</td>\n      <td>0</td>\n      <td>5</td>\n      <td>16</td>\n      <td>0</td>\n      <td>13.1</td>\n      <td>0</td>\n      <td>0.1</td>\n      <td>87</td>\n      <td>0</td>\n    </tr>\n    <tr>\n      <th>4</th>\n      <td>1</td>\n      <td>2019</td>\n      <td>6</td>\n      <td>1</td>\n      <td>7</td>\n      <td>35</td>\n      <td>0</td>\n      <td>5</td>\n      <td>16</td>\n      <td>0</td>\n      <td>13.1</td>\n      <td>0</td>\n      <td>0.1</td>\n      <td>87</td>\n      <td>0</td>\n    </tr>\n    <tr>\n      <th>...</th>\n      <td>...</td>\n      <td>...</td>\n      <td>...</td>\n      <td>...</td>\n      <td>...</td>\n      <td>...</td>\n      <td>...</td>\n      <td>...</td>\n      <td>...</td>\n      <td>...</td>\n      <td>...</td>\n      <td>...</td>\n      <td>...</td>\n      <td>...</td>\n      <td>...</td>\n    </tr>\n    <tr>\n      <th>1046181</th>\n      <td>7635</td>\n      <td>2022</td>\n      <td>11</td>\n      <td>30</td>\n      <td>9</td>\n      <td>50</td>\n      <td>0</td>\n      <td>2</td>\n      <td>102</td>\n      <td>1</td>\n      <td>-4.3</td>\n      <td>0</td>\n      <td>3.6</td>\n      <td>52</td>\n      <td>0</td>\n    </tr>\n    <tr>\n      <th>1046182</th>\n      <td>7635</td>\n      <td>2022</td>\n      <td>11</td>\n      <td>30</td>\n      <td>9</td>\n      <td>52</td>\n      <td>0</td>\n      <td>2</td>\n      <td>102</td>\n      <td>1</td>\n      <td>-4.3</td>\n      <td>0</td>\n      <td>3.6</td>\n      <td>52</td>\n      <td>0</td>\n    </tr>\n    <tr>\n      <th>1046183</th>\n      <td>7635</td>\n      <td>2022</td>\n      <td>11</td>\n      <td>30</td>\n      <td>9</td>\n      <td>55</td>\n      <td>0</td>\n      <td>2</td>\n      <td>102</td>\n      <td>1</td>\n      <td>-4.3</td>\n      <td>0</td>\n      <td>3.6</td>\n      <td>52</td>\n      <td>0</td>\n    </tr>\n    <tr>\n      <th>1046184</th>\n      <td>7635</td>\n      <td>2022</td>\n      <td>11</td>\n      <td>30</td>\n      <td>9</td>\n      <td>55</td>\n      <td>0</td>\n      <td>2</td>\n      <td>102</td>\n      <td>1</td>\n      <td>-4.3</td>\n      <td>0</td>\n      <td>3.6</td>\n      <td>52</td>\n      <td>0</td>\n    </tr>\n    <tr>\n      <th>1046185</th>\n      <td>7635</td>\n      <td>2022</td>\n      <td>11</td>\n      <td>30</td>\n      <td>9</td>\n      <td>57</td>\n      <td>0</td>\n      <td>2</td>\n      <td>102</td>\n      <td>1</td>\n      <td>-4.3</td>\n      <td>0</td>\n      <td>3.6</td>\n      <td>52</td>\n      <td>0</td>\n    </tr>\n  </tbody>\n</table>\n<p>1046186 rows × 15 columns</p>\n</div>"
     },
     "execution_count": 93,
     "metadata": {},
     "output_type": "execute_result"
    }
   ],
   "source": [
    "dataset = dataset['연']"
   ],
   "metadata": {
    "collapsed": false
   }
  },
  {
   "cell_type": "code",
   "execution_count": null,
   "outputs": [],
   "source": [],
   "metadata": {
    "collapsed": false
   }
  },
  {
   "cell_type": "code",
   "execution_count": null,
   "outputs": [],
   "source": [],
   "metadata": {
    "collapsed": false
   }
  },
  {
   "cell_type": "code",
   "execution_count": null,
   "outputs": [],
   "source": [],
   "metadata": {
    "collapsed": false
   }
  },
  {
   "cell_type": "code",
   "execution_count": null,
   "outputs": [],
   "source": [],
   "metadata": {
    "collapsed": false
   }
  },
  {
   "cell_type": "code",
   "execution_count": null,
   "outputs": [],
   "source": [],
   "metadata": {
    "collapsed": false
   }
  },
  {
   "cell_type": "code",
   "execution_count": null,
   "outputs": [],
   "source": [],
   "metadata": {
    "collapsed": false
   }
  },
  {
   "cell_type": "code",
   "execution_count": null,
   "outputs": [],
   "source": [],
   "metadata": {
    "collapsed": false
   }
  },
  {
   "cell_type": "code",
   "execution_count": null,
   "outputs": [],
   "source": [],
   "metadata": {
    "collapsed": false
   }
  },
  {
   "cell_type": "code",
   "execution_count": 177,
   "outputs": [
    {
     "data": {
      "text/plain": "         trend_x     연   월   일  시   분  공휴일  요일  주차장  혼잡도        일시_x 기온(°C)_x  \\\n0              0  2019   6   1  7   0    0   5   16    0  2019-06-01     13.1   \n1              0  2019   6   1  7  13    0   5   16    0  2019-06-01     13.1   \n2              0  2019   6   1  7  23    0   5   16    0  2019-06-01     13.1   \n3              1  2019   6   1  7  34    0   5   16    0  2019-06-01     13.1   \n4              1  2019   6   1  7  35    0   5   16    0  2019-06-01     13.1   \n...          ...   ...  ..  .. ..  ..  ...  ..  ...  ...         ...      ...   \n1046181     7635  2022  11  30  9  50    0   2  102    1  2022-11-30     -4.3   \n1046182     7635  2022  11  30  9  52    0   2  102    1  2022-11-30     -4.3   \n1046183     7635  2022  11  30  9  55    0   2  102    1  2022-11-30     -4.3   \n1046184     7635  2022  11  30  9  55    0   2  102    1  2022-11-30     -4.3   \n1046185     7635  2022  11  30  9  57    0   2  102    1  2022-11-30     -4.3   \n\n        강수량(mm)_x 풍속(m/s)_x 습도(%)_x 적설(cm)_x                일시_y 기온(°C)_y  \\\n0               0       0.1      87        0 2019-06-01 07:00:00     13.1   \n1               0       0.1      87        0 2019-06-01 07:00:00     13.1   \n2               0       0.1      87        0 2019-06-01 07:00:00     13.1   \n3               0       0.1      87        0 2019-06-01 07:00:00     13.1   \n4               0       0.1      87        0 2019-06-01 07:00:00     13.1   \n...           ...       ...     ...      ...                 ...      ...   \n1046181         0       3.6      52        0 2022-11-30 09:00:00     -4.3   \n1046182         0       3.6      52        0 2022-11-30 09:00:00     -4.3   \n1046183         0       3.6      52        0 2022-11-30 09:00:00     -4.3   \n1046184         0       3.6      52        0 2022-11-30 09:00:00     -4.3   \n1046185         0       3.6      52        0 2022-11-30 09:00:00     -4.3   \n\n        강수량(mm)_y 풍속(m/s)_y 습도(%)_y 적설(cm)_y  trend_y  \n0               0       0.1      87        0        0  \n1               0       0.1      87        0        0  \n2               0       0.1      87        0        0  \n3               0       0.1      87        0        1  \n4               0       0.1      87        0        1  \n...           ...       ...     ...      ...      ...  \n1046181         0       3.6      52        0     7635  \n1046182         0       3.6      52        0     7635  \n1046183         0       3.6      52        0     7635  \n1046184         0       3.6      52        0     7635  \n1046185         0       3.6      52        0     7635  \n\n[1046186 rows x 23 columns]",
      "text/html": "<div>\n<style scoped>\n    .dataframe tbody tr th:only-of-type {\n        vertical-align: middle;\n    }\n\n    .dataframe tbody tr th {\n        vertical-align: top;\n    }\n\n    .dataframe thead th {\n        text-align: right;\n    }\n</style>\n<table border=\"1\" class=\"dataframe\">\n  <thead>\n    <tr style=\"text-align: right;\">\n      <th></th>\n      <th>trend_x</th>\n      <th>연</th>\n      <th>월</th>\n      <th>일</th>\n      <th>시</th>\n      <th>분</th>\n      <th>공휴일</th>\n      <th>요일</th>\n      <th>주차장</th>\n      <th>혼잡도</th>\n      <th>일시_x</th>\n      <th>기온(°C)_x</th>\n      <th>강수량(mm)_x</th>\n      <th>풍속(m/s)_x</th>\n      <th>습도(%)_x</th>\n      <th>적설(cm)_x</th>\n      <th>일시_y</th>\n      <th>기온(°C)_y</th>\n      <th>강수량(mm)_y</th>\n      <th>풍속(m/s)_y</th>\n      <th>습도(%)_y</th>\n      <th>적설(cm)_y</th>\n      <th>trend_y</th>\n    </tr>\n  </thead>\n  <tbody>\n    <tr>\n      <th>0</th>\n      <td>0</td>\n      <td>2019</td>\n      <td>6</td>\n      <td>1</td>\n      <td>7</td>\n      <td>0</td>\n      <td>0</td>\n      <td>5</td>\n      <td>16</td>\n      <td>0</td>\n      <td>2019-06-01</td>\n      <td>13.1</td>\n      <td>0</td>\n      <td>0.1</td>\n      <td>87</td>\n      <td>0</td>\n      <td>2019-06-01 07:00:00</td>\n      <td>13.1</td>\n      <td>0</td>\n      <td>0.1</td>\n      <td>87</td>\n      <td>0</td>\n      <td>0</td>\n    </tr>\n    <tr>\n      <th>1</th>\n      <td>0</td>\n      <td>2019</td>\n      <td>6</td>\n      <td>1</td>\n      <td>7</td>\n      <td>13</td>\n      <td>0</td>\n      <td>5</td>\n      <td>16</td>\n      <td>0</td>\n      <td>2019-06-01</td>\n      <td>13.1</td>\n      <td>0</td>\n      <td>0.1</td>\n      <td>87</td>\n      <td>0</td>\n      <td>2019-06-01 07:00:00</td>\n      <td>13.1</td>\n      <td>0</td>\n      <td>0.1</td>\n      <td>87</td>\n      <td>0</td>\n      <td>0</td>\n    </tr>\n    <tr>\n      <th>2</th>\n      <td>0</td>\n      <td>2019</td>\n      <td>6</td>\n      <td>1</td>\n      <td>7</td>\n      <td>23</td>\n      <td>0</td>\n      <td>5</td>\n      <td>16</td>\n      <td>0</td>\n      <td>2019-06-01</td>\n      <td>13.1</td>\n      <td>0</td>\n      <td>0.1</td>\n      <td>87</td>\n      <td>0</td>\n      <td>2019-06-01 07:00:00</td>\n      <td>13.1</td>\n      <td>0</td>\n      <td>0.1</td>\n      <td>87</td>\n      <td>0</td>\n      <td>0</td>\n    </tr>\n    <tr>\n      <th>3</th>\n      <td>1</td>\n      <td>2019</td>\n      <td>6</td>\n      <td>1</td>\n      <td>7</td>\n      <td>34</td>\n      <td>0</td>\n      <td>5</td>\n      <td>16</td>\n      <td>0</td>\n      <td>2019-06-01</td>\n      <td>13.1</td>\n      <td>0</td>\n      <td>0.1</td>\n      <td>87</td>\n      <td>0</td>\n      <td>2019-06-01 07:00:00</td>\n      <td>13.1</td>\n      <td>0</td>\n      <td>0.1</td>\n      <td>87</td>\n      <td>0</td>\n      <td>1</td>\n    </tr>\n    <tr>\n      <th>4</th>\n      <td>1</td>\n      <td>2019</td>\n      <td>6</td>\n      <td>1</td>\n      <td>7</td>\n      <td>35</td>\n      <td>0</td>\n      <td>5</td>\n      <td>16</td>\n      <td>0</td>\n      <td>2019-06-01</td>\n      <td>13.1</td>\n      <td>0</td>\n      <td>0.1</td>\n      <td>87</td>\n      <td>0</td>\n      <td>2019-06-01 07:00:00</td>\n      <td>13.1</td>\n      <td>0</td>\n      <td>0.1</td>\n      <td>87</td>\n      <td>0</td>\n      <td>1</td>\n    </tr>\n    <tr>\n      <th>...</th>\n      <td>...</td>\n      <td>...</td>\n      <td>...</td>\n      <td>...</td>\n      <td>...</td>\n      <td>...</td>\n      <td>...</td>\n      <td>...</td>\n      <td>...</td>\n      <td>...</td>\n      <td>...</td>\n      <td>...</td>\n      <td>...</td>\n      <td>...</td>\n      <td>...</td>\n      <td>...</td>\n      <td>...</td>\n      <td>...</td>\n      <td>...</td>\n      <td>...</td>\n      <td>...</td>\n      <td>...</td>\n      <td>...</td>\n    </tr>\n    <tr>\n      <th>1046181</th>\n      <td>7635</td>\n      <td>2022</td>\n      <td>11</td>\n      <td>30</td>\n      <td>9</td>\n      <td>50</td>\n      <td>0</td>\n      <td>2</td>\n      <td>102</td>\n      <td>1</td>\n      <td>2022-11-30</td>\n      <td>-4.3</td>\n      <td>0</td>\n      <td>3.6</td>\n      <td>52</td>\n      <td>0</td>\n      <td>2022-11-30 09:00:00</td>\n      <td>-4.3</td>\n      <td>0</td>\n      <td>3.6</td>\n      <td>52</td>\n      <td>0</td>\n      <td>7635</td>\n    </tr>\n    <tr>\n      <th>1046182</th>\n      <td>7635</td>\n      <td>2022</td>\n      <td>11</td>\n      <td>30</td>\n      <td>9</td>\n      <td>52</td>\n      <td>0</td>\n      <td>2</td>\n      <td>102</td>\n      <td>1</td>\n      <td>2022-11-30</td>\n      <td>-4.3</td>\n      <td>0</td>\n      <td>3.6</td>\n      <td>52</td>\n      <td>0</td>\n      <td>2022-11-30 09:00:00</td>\n      <td>-4.3</td>\n      <td>0</td>\n      <td>3.6</td>\n      <td>52</td>\n      <td>0</td>\n      <td>7635</td>\n    </tr>\n    <tr>\n      <th>1046183</th>\n      <td>7635</td>\n      <td>2022</td>\n      <td>11</td>\n      <td>30</td>\n      <td>9</td>\n      <td>55</td>\n      <td>0</td>\n      <td>2</td>\n      <td>102</td>\n      <td>1</td>\n      <td>2022-11-30</td>\n      <td>-4.3</td>\n      <td>0</td>\n      <td>3.6</td>\n      <td>52</td>\n      <td>0</td>\n      <td>2022-11-30 09:00:00</td>\n      <td>-4.3</td>\n      <td>0</td>\n      <td>3.6</td>\n      <td>52</td>\n      <td>0</td>\n      <td>7635</td>\n    </tr>\n    <tr>\n      <th>1046184</th>\n      <td>7635</td>\n      <td>2022</td>\n      <td>11</td>\n      <td>30</td>\n      <td>9</td>\n      <td>55</td>\n      <td>0</td>\n      <td>2</td>\n      <td>102</td>\n      <td>1</td>\n      <td>2022-11-30</td>\n      <td>-4.3</td>\n      <td>0</td>\n      <td>3.6</td>\n      <td>52</td>\n      <td>0</td>\n      <td>2022-11-30 09:00:00</td>\n      <td>-4.3</td>\n      <td>0</td>\n      <td>3.6</td>\n      <td>52</td>\n      <td>0</td>\n      <td>7635</td>\n    </tr>\n    <tr>\n      <th>1046185</th>\n      <td>7635</td>\n      <td>2022</td>\n      <td>11</td>\n      <td>30</td>\n      <td>9</td>\n      <td>57</td>\n      <td>0</td>\n      <td>2</td>\n      <td>102</td>\n      <td>1</td>\n      <td>2022-11-30</td>\n      <td>-4.3</td>\n      <td>0</td>\n      <td>3.6</td>\n      <td>52</td>\n      <td>0</td>\n      <td>2022-11-30 09:00:00</td>\n      <td>-4.3</td>\n      <td>0</td>\n      <td>3.6</td>\n      <td>52</td>\n      <td>0</td>\n      <td>7635</td>\n    </tr>\n  </tbody>\n</table>\n<p>1046186 rows × 23 columns</p>\n</div>"
     },
     "execution_count": 177,
     "metadata": {},
     "output_type": "execute_result"
    }
   ],
   "source": [
    "dataset"
   ],
   "metadata": {
    "collapsed": false
   }
  }
 ],
 "metadata": {
  "kernelspec": {
   "display_name": "Python 3",
   "language": "python",
   "name": "python3"
  },
  "language_info": {
   "codemirror_mode": {
    "name": "ipython",
    "version": 2
   },
   "file_extension": ".py",
   "mimetype": "text/x-python",
   "name": "python",
   "nbconvert_exporter": "python",
   "pygments_lexer": "ipython2",
   "version": "2.7.6"
  }
 },
 "nbformat": 4,
 "nbformat_minor": 0
}

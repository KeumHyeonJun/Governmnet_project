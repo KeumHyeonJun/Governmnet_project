{
 "cells": [
  {
   "cell_type": "code",
   "execution_count": null,
   "metadata": {
    "collapsed": true
   },
   "outputs": [],
   "source": [
    "import pandas as pd\n",
    "from pathlib import Path\n",
    "import datetime"
   ]
  },
  {
   "cell_type": "code",
   "execution_count": null,
   "outputs": [],
   "source": [
    "#pd.options.display.float_format = '{:.3f}'.format\n",
    "\n",
    "path = Path.cwd().parent\n",
    "raw_data = str(path) + '/raw_data/'\n",
    "data_path = str(path) + '/data/'\n",
    "result_path = str(path) + '/결과/'"
   ],
   "metadata": {
    "collapsed": false
   }
  },
  {
   "cell_type": "code",
   "execution_count": null,
   "outputs": [],
   "source": [
    "data = pd.read_csv(data_path + '생존분석.csv')\n",
    "data=data[data['장애분석']!= 'X']\n"
   ],
   "metadata": {
    "collapsed": false
   }
  },
  {
   "cell_type": "code",
   "execution_count": null,
   "outputs": [],
   "source": [
    "broken = data[data['status']==1]\n",
    "cnt = broken['fac_cd'].value_counts()\n",
    "\n",
    "# 작업을 한번'만' 한 경우\n",
    "first = list(cnt[cnt==1].index)\n",
    "first_df = pd.DataFrame({'fac_cd':first})\n",
    "# 작업을 한번 이상 한 장비 중 첫번째 작업 정보\n",
    "first_df_2 = data[data['작업횟수']==1]\n",
    "\n",
    "# 작업을 두번'만' 한 장비\n",
    "second = list(cnt[cnt==2].index)\n",
    "second_df = pd.DataFrame({'fac_cd':second})\n",
    "\n",
    "#작업을 두번 이상 한 장비 중 두번째 작업 정보\n",
    "second_df_2 = data[data['작업횟수']==2]\n",
    "\n",
    "# 작업을 세번이상 한 경우\n",
    "third_df_2 = data[data['작업횟수']>=3]\n",
    "\n",
    "first_df = pd.merge(first_df,data,on='fac_cd',how='left')\n",
    "second_df = pd.merge(second_df,data,on='fac_cd',how='left')\n",
    "\n",
    "predict_cnt_1 = pd.concat([first_df,second_df_2],axis=0)\n",
    "\n",
    "predict_cnt_2 = pd.concat([second_df,third_df_2],axis=0)\n",
    "predict_cnt_2 = predict_cnt_2[predict_cnt_2['작업횟수']>=2]\n",
    "def status_1(df):\n",
    "    if df['작업횟수'] == 1:\n",
    "        return 0\n",
    "    else :\n",
    "        return 1\n",
    "\n",
    "def status_2(df):\n",
    "    if df['작업횟수'] == 2:\n",
    "        return 0\n",
    "    else :\n",
    "        return 1\n",
    "\n",
    "def input_time(df):\n",
    "    if df['status'] ==1 :\n",
    "        return df['작업-작업간격']\n",
    "    else :\n",
    "        return df['경과시간']\n",
    "\n",
    "predict_cnt_1['status'] = predict_cnt_1.apply(status_1,axis=1)\n",
    "predict_cnt_1['input_time'] = predict_cnt_1.apply(input_time,axis=1)\n",
    "predict_cnt_2['status'] = predict_cnt_2.apply(status_2,axis=1)\n",
    "predict_cnt_2['input_time'] = predict_cnt_2.apply(input_time,axis=1)"
   ],
   "metadata": {
    "collapsed": false
   }
  },
  {
   "cell_type": "code",
   "execution_count": null,
   "outputs": [],
   "source": [
    "import matplotlib.pyplot as plt\n",
    "from lifelines import KaplanMeierFitter\n",
    "\n",
    "plt.rc('font', family='AppleGothic')\n",
    "plt.rcParams['axes.unicode_minus'] = False"
   ],
   "metadata": {
    "collapsed": false
   }
  },
  {
   "cell_type": "markdown",
   "source": [
    "1. 그룸 정의 별로 학습하기\n",
    "2. 각 장비별로 인풋값에 넣기\n",
    "3. 두번 이상 고장난 경우 > status 다르게 해서 봐야함 2번 고장만 난 경우 > 0 3번이상 고장 난 경우 >1"
   ],
   "metadata": {
    "collapsed": false
   }
  },
  {
   "cell_type": "code",
   "execution_count": null,
   "outputs": [],
   "source": [
    "\n",
    "def kplan(그룹정의):\n",
    "    output_data = pd.DataFrame({\n",
    "    '대분류' : [],\n",
    "    '장비분류' :[],\n",
    "    '동':[],\n",
    "    '층' :[],\n",
    "    '장비코드' :[],\n",
    "    '장비명' : [],\n",
    "    '장애발생횟수' :[],\n",
    "    '최근장애일자' :[],\n",
    "    '7일이내장애확률' :[],\n",
    "    '30일이내장애확률':[],\n",
    "    'Lv4':[]\n",
    "})\n",
    "\n",
    "\n",
    "    input_data = data[data['그룹정의']==그룹정의]\n",
    "    # 이때까지 장애가 발생하지 않은 경우 > 처음 발생 하는 확률 찾기\n",
    "    input_first = input_data[input_data['작업횟수']<=1]\n",
    "    if len(input_first) >=2:\n",
    "        kmf_first= KaplanMeierFitter()\n",
    "        var_first = 0\n",
    "        input_first.sort_values(by='작업-작업간격', ascending=True)\n",
    "        kmf_first.fit(durations=input_first['작업-작업간격'], event_observed=input_first['status'])\n",
    "\n",
    "    # 작업횟수 = 2 인 경우 > 장애가 한번 발생한 장비의 다음 장비 예측하기\n",
    "    input_second = predict_cnt_1[predict_cnt_1['그룹정의']==그룹정의]\n",
    "    if len(input_second) >=2:\n",
    "        kmf_second= KaplanMeierFitter()\n",
    "        var_second = 0\n",
    "        input_second.sort_values(by='input_time', ascending=True)\n",
    "        kmf_second.fit(durations=input_second['input_time'], event_observed=input_second['status'])\n",
    "\n",
    "    # 작업횟수 >=3 인 경우 > 재발한 장비의 다음 장비 예측하기\n",
    "\n",
    "    input_third = predict_cnt_2[predict_cnt_2['그룹정의']==그룹정의]\n",
    "    if len(input_third) >=2:\n",
    "        kmf_third= KaplanMeierFitter()\n",
    "        var_third = 0\n",
    "        input_third.sort_values(by='input_time', ascending=True)\n",
    "        kmf_third.fit(durations=input_third['input_time'], event_observed=input_third['status'])\n",
    "\n",
    "    fac_list = list(input_data['fac_cd'].unique())\n",
    "\n",
    "\n",
    "    if 'var_first' in locals():\n",
    "        var_first = True\n",
    "    else :\n",
    "        var_first = False\n",
    "\n",
    "    if 'var_second' in locals():\n",
    "        var_second = True\n",
    "    else :\n",
    "        var_second = False\n",
    "\n",
    "    if 'var_third' in locals():\n",
    "        var_third = True\n",
    "    else :\n",
    "        var_third = False\n",
    "\n",
    "\n",
    "\n",
    "    for i in fac_list:\n",
    "        df = input_data[input_data['fac_cd']==i].iloc[-1]\n",
    "        seven = df['경과시간'] +7\n",
    "        thirty = seven + 23\n",
    "        new_data = []\n",
    "        new_data.append(df['Lv1'])\n",
    "        new_data.append(df['그룹정의'])\n",
    "        new_data.append(df['bd_nm'])\n",
    "        new_data.append(df['fl_cd'])\n",
    "        new_data.append(df['fac_cd'])\n",
    "        new_data.append(df['fac_nm'])\n",
    "        new_data.append(df['작업횟수'])\n",
    "        new_data.append(df['job_jisi_dt'])\n",
    "       # 7일 이내 고장 확률\n",
    "        if df['작업횟수'] == 0 and var_first == True:\n",
    "            new_data.append(1-kmf_first.predict(seven))\n",
    "\n",
    "        elif df['작업횟수'] ==1 and var_second == True:\n",
    "            new_data.append(1-kmf_second.predict(seven))\n",
    "        elif df['작업횟수'] ==1 and var_first == True:\n",
    "            new_data.append(1-kmf_first.predict(seven))\n",
    "\n",
    "        elif df['작업횟수'] >=2 and var_third == True:\n",
    "            new_data.append(1-kmf_third.predict(seven))\n",
    "        elif df['작업횟수'] >=2 and var_second == True:\n",
    "            new_data.append(1-kmf_second.predict(seven))\n",
    "        elif df['작업횟수'] >=2 and var_first == True:\n",
    "            new_data.append(1-kmf_first.predict(seven))\n",
    "        else :\n",
    "            new_data.append(99999)\n",
    "\n",
    "        # 30일 이내 고장 확률\n",
    "        if df['작업횟수'] == 0 and var_first == True:\n",
    "            new_data.append(1-kmf_first.predict(thirty))\n",
    "\n",
    "        elif df['작업횟수'] ==1 and var_second == True:\n",
    "            new_data.append(1-kmf_second.predict(thirty))\n",
    "        elif df['작업횟수'] ==1 and var_first == True:\n",
    "            new_data.append(1-kmf_first.predict(thirty))\n",
    "\n",
    "        elif df['작업횟수'] >=2 and var_third == True:\n",
    "            new_data.append(1-kmf_third.predict(thirty))\n",
    "        elif df['작업횟수'] >=2 and var_second == True:\n",
    "            new_data.append(1-kmf_second.predict(thirty))\n",
    "        elif df['작업횟수'] >=2 and var_first == True:\n",
    "            new_data.append(1-kmf_first.predict(thirty))\n",
    "        else :\n",
    "            new_data.append(99999)\n",
    "        new_data.append(df['Lv4'])\n",
    "\n",
    "        output_data.loc[len(output_data)] = new_data\n",
    "\n",
    "    return output_data\n"
   ],
   "metadata": {
    "collapsed": false
   }
  },
  {
   "cell_type": "code",
   "execution_count": null,
   "outputs": [],
   "source": [
    "\n",
    "group = list(data['그룹정의'].unique())\n",
    "output_data = pd.DataFrame({\n",
    "    '대분류' : [],\n",
    "    '장비분류' :[],\n",
    "    '동':[],\n",
    "    '층' :[],\n",
    "    '장비코드' :[],\n",
    "    '장비명' : [],\n",
    "    '장애발생횟수' :[],\n",
    "    '최근장애일자' :[],\n",
    "    '7일이내장애확률' :[],\n",
    "    '30일이내장애확률':[],\n",
    "    'Lv4':[]\n",
    "})\n",
    "output_data"
   ],
   "metadata": {
    "collapsed": false
   }
  },
  {
   "cell_type": "code",
   "execution_count": null,
   "outputs": [],
   "source": [
    "for i in group:\n",
    "    output = kplan(i)\n",
    "    output_data = pd.concat([output_data,output],axis=0)\n",
    "output_data = output_data.drop_duplicates()\n",
    "output_data = output_data.drop(['Lv4'],axis=1)"
   ],
   "metadata": {
    "collapsed": false
   }
  },
  {
   "cell_type": "code",
   "execution_count": 14,
   "outputs": [],
   "source": [
    "output_data.to_csv('생존분석결과.csv')"
   ],
   "metadata": {
    "collapsed": false
   }
  },
  {
   "cell_type": "markdown",
   "source": [],
   "metadata": {
    "collapsed": false
   }
  }
 ],
 "metadata": {
  "kernelspec": {
   "display_name": "Python 3",
   "language": "python",
   "name": "python3"
  },
  "language_info": {
   "codemirror_mode": {
    "name": "ipython",
    "version": 2
   },
   "file_extension": ".py",
   "mimetype": "text/x-python",
   "name": "python",
   "nbconvert_exporter": "python",
   "pygments_lexer": "ipython2",
   "version": "2.7.6"
  }
 },
 "nbformat": 4,
 "nbformat_minor": 0
}

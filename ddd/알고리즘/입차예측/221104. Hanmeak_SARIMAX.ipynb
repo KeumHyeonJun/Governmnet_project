{
 "cells": [
  {
   "cell_type": "code",
   "execution_count": 1,
   "id": "4759773a-2dc0-427c-a6f1-84f701a18c13",
   "metadata": {},
   "outputs": [],
   "source": [
    "import pandas as pd\n",
    "import numpy as np\n",
    "import re\n",
    "from matplotlib import pyplot as plt\n",
    "\n",
    "plt.rc('font', family='Malgun Gothic')\n",
    "plt.rcParams['axes.unicode_minus'] = False"
   ]
  },
  {
   "cell_type": "markdown",
   "id": "392f4a35-8ac7-4025-9b44-9b2614a19d5d",
   "metadata": {},
   "source": [
    "# 날씨 데이터 불러오기"
   ]
  },
  {
   "cell_type": "code",
   "execution_count": 2,
   "id": "74936076-6f16-4370-9bb6-46cf103ef36f",
   "metadata": {},
   "outputs": [
    {
     "data": {
      "text/html": [
       "<div>\n",
       "<style scoped>\n",
       "    .dataframe tbody tr th:only-of-type {\n",
       "        vertical-align: middle;\n",
       "    }\n",
       "\n",
       "    .dataframe tbody tr th {\n",
       "        vertical-align: top;\n",
       "    }\n",
       "\n",
       "    .dataframe thead th {\n",
       "        text-align: right;\n",
       "    }\n",
       "</style>\n",
       "<table border=\"1\" class=\"dataframe\">\n",
       "  <thead>\n",
       "    <tr style=\"text-align: right;\">\n",
       "      <th></th>\n",
       "      <th>기온(°C)</th>\n",
       "      <th>강수량(mm)</th>\n",
       "      <th>풍속(m/s)</th>\n",
       "      <th>습도(%)</th>\n",
       "      <th>적설(cm)</th>\n",
       "    </tr>\n",
       "    <tr>\n",
       "      <th>일시</th>\n",
       "      <th></th>\n",
       "      <th></th>\n",
       "      <th></th>\n",
       "      <th></th>\n",
       "      <th></th>\n",
       "    </tr>\n",
       "  </thead>\n",
       "  <tbody>\n",
       "    <tr>\n",
       "      <th>2020-10-01 00:00:00</th>\n",
       "      <td>17.3</td>\n",
       "      <td>0.0</td>\n",
       "      <td>0.2</td>\n",
       "      <td>92.0</td>\n",
       "      <td>0.0</td>\n",
       "    </tr>\n",
       "    <tr>\n",
       "      <th>2020-10-01 01:00:00</th>\n",
       "      <td>16.8</td>\n",
       "      <td>0.0</td>\n",
       "      <td>0.5</td>\n",
       "      <td>94.0</td>\n",
       "      <td>0.0</td>\n",
       "    </tr>\n",
       "    <tr>\n",
       "      <th>2020-10-01 02:00:00</th>\n",
       "      <td>16.9</td>\n",
       "      <td>0.0</td>\n",
       "      <td>1.1</td>\n",
       "      <td>93.0</td>\n",
       "      <td>0.0</td>\n",
       "    </tr>\n",
       "    <tr>\n",
       "      <th>2020-10-01 03:00:00</th>\n",
       "      <td>16.8</td>\n",
       "      <td>0.0</td>\n",
       "      <td>0.4</td>\n",
       "      <td>94.0</td>\n",
       "      <td>0.0</td>\n",
       "    </tr>\n",
       "    <tr>\n",
       "      <th>2020-10-01 04:00:00</th>\n",
       "      <td>16.1</td>\n",
       "      <td>0.0</td>\n",
       "      <td>0.1</td>\n",
       "      <td>95.0</td>\n",
       "      <td>0.0</td>\n",
       "    </tr>\n",
       "    <tr>\n",
       "      <th>...</th>\n",
       "      <td>...</td>\n",
       "      <td>...</td>\n",
       "      <td>...</td>\n",
       "      <td>...</td>\n",
       "      <td>...</td>\n",
       "    </tr>\n",
       "    <tr>\n",
       "      <th>2022-10-01 19:00:00</th>\n",
       "      <td>21.1</td>\n",
       "      <td>0.0</td>\n",
       "      <td>0.1</td>\n",
       "      <td>54.0</td>\n",
       "      <td>0.0</td>\n",
       "    </tr>\n",
       "    <tr>\n",
       "      <th>2022-10-01 20:00:00</th>\n",
       "      <td>19.6</td>\n",
       "      <td>0.0</td>\n",
       "      <td>0.6</td>\n",
       "      <td>63.0</td>\n",
       "      <td>0.0</td>\n",
       "    </tr>\n",
       "    <tr>\n",
       "      <th>2022-10-01 21:00:00</th>\n",
       "      <td>18.8</td>\n",
       "      <td>0.0</td>\n",
       "      <td>0.7</td>\n",
       "      <td>73.0</td>\n",
       "      <td>0.0</td>\n",
       "    </tr>\n",
       "    <tr>\n",
       "      <th>2022-10-01 22:00:00</th>\n",
       "      <td>18.1</td>\n",
       "      <td>0.0</td>\n",
       "      <td>0.8</td>\n",
       "      <td>75.0</td>\n",
       "      <td>0.0</td>\n",
       "    </tr>\n",
       "    <tr>\n",
       "      <th>2022-10-01 23:00:00</th>\n",
       "      <td>18.2</td>\n",
       "      <td>0.0</td>\n",
       "      <td>0.2</td>\n",
       "      <td>75.0</td>\n",
       "      <td>0.0</td>\n",
       "    </tr>\n",
       "  </tbody>\n",
       "</table>\n",
       "<p>17544 rows × 5 columns</p>\n",
       "</div>"
      ],
      "text/plain": [
       "                     기온(°C)  강수량(mm)  풍속(m/s)  습도(%)  적설(cm)\n",
       "일시                                                          \n",
       "2020-10-01 00:00:00    17.3      0.0      0.2   92.0     0.0\n",
       "2020-10-01 01:00:00    16.8      0.0      0.5   94.0     0.0\n",
       "2020-10-01 02:00:00    16.9      0.0      1.1   93.0     0.0\n",
       "2020-10-01 03:00:00    16.8      0.0      0.4   94.0     0.0\n",
       "2020-10-01 04:00:00    16.1      0.0      0.1   95.0     0.0\n",
       "...                     ...      ...      ...    ...     ...\n",
       "2022-10-01 19:00:00    21.1      0.0      0.1   54.0     0.0\n",
       "2022-10-01 20:00:00    19.6      0.0      0.6   63.0     0.0\n",
       "2022-10-01 21:00:00    18.8      0.0      0.7   73.0     0.0\n",
       "2022-10-01 22:00:00    18.1      0.0      0.8   75.0     0.0\n",
       "2022-10-01 23:00:00    18.2      0.0      0.2   75.0     0.0\n",
       "\n",
       "[17544 rows x 5 columns]"
      ]
     },
     "execution_count": 2,
     "metadata": {},
     "output_type": "execute_result"
    }
   ],
   "source": [
    "# whether csv read, 일시를 index로 넣고 datetime 형태로 변환함\n",
    "whether = pd.read_csv('./data/Whether.csv', encoding='euc-kr', parse_dates=['일시'], index_col='일시')\n",
    "# 강수량, 적설이 null인 경우 모두 0으로 바꿈\n",
    "whether = whether.fillna(0)\n",
    "# 일시의 freq을 hour로 변경\n",
    "whether.index.freq = 'h'\n",
    "\n",
    "# 지점코드, 지점명을 없앰\n",
    "whether = whether.iloc[:, [2,3,4,5,6]]\n",
    "whether"
   ]
  },
  {
   "cell_type": "markdown",
   "id": "7dfa4e97-7d4f-49b2-b05a-c9a8f73acf03",
   "metadata": {},
   "source": [
    "# 차량 데이터 불러오기 및 전처리"
   ]
  },
  {
   "cell_type": "markdown",
   "id": "a9d5ae3c-28d9-44e9-8be7-48ed7b8f4ca0",
   "metadata": {},
   "source": [
    "장비별, 일시별 구분  \n",
    "입차 대수 - 출차 대수 = 현재 차량 대수  \n",
    "한맥의 경우 FilePath로부터 입출차 시간 추출  \n",
    "정기권 등 구분 X"
   ]
  },
  {
   "cell_type": "code",
   "execution_count": 4,
   "id": "ae391554-f9bb-4f13-a91e-75f55eac80ea",
   "metadata": {},
   "outputs": [
    {
     "data": {
      "text/html": [
       "<div>\n",
       "<style scoped>\n",
       "    .dataframe tbody tr th:only-of-type {\n",
       "        vertical-align: middle;\n",
       "    }\n",
       "\n",
       "    .dataframe tbody tr th {\n",
       "        vertical-align: top;\n",
       "    }\n",
       "\n",
       "    .dataframe thead th {\n",
       "        text-align: right;\n",
       "    }\n",
       "</style>\n",
       "<table border=\"1\" class=\"dataframe\">\n",
       "  <thead>\n",
       "    <tr style=\"text-align: right;\">\n",
       "      <th></th>\n",
       "      <th>일시</th>\n",
       "      <th>입차대수</th>\n",
       "      <th>출차대수</th>\n",
       "      <th>입출차 차이</th>\n",
       "    </tr>\n",
       "  </thead>\n",
       "  <tbody>\n",
       "    <tr>\n",
       "      <th>0</th>\n",
       "      <td>2020-10-01 04:00:00</td>\n",
       "      <td>1.0</td>\n",
       "      <td>0.0</td>\n",
       "      <td>1.0</td>\n",
       "    </tr>\n",
       "    <tr>\n",
       "      <th>1</th>\n",
       "      <td>2020-10-01 05:00:00</td>\n",
       "      <td>0.0</td>\n",
       "      <td>1.0</td>\n",
       "      <td>-1.0</td>\n",
       "    </tr>\n",
       "    <tr>\n",
       "      <th>2</th>\n",
       "      <td>2020-10-01 08:00:00</td>\n",
       "      <td>4.0</td>\n",
       "      <td>0.0</td>\n",
       "      <td>4.0</td>\n",
       "    </tr>\n",
       "    <tr>\n",
       "      <th>3</th>\n",
       "      <td>2020-10-01 09:00:00</td>\n",
       "      <td>2.0</td>\n",
       "      <td>0.0</td>\n",
       "      <td>2.0</td>\n",
       "    </tr>\n",
       "    <tr>\n",
       "      <th>4</th>\n",
       "      <td>2020-10-01 10:00:00</td>\n",
       "      <td>0.0</td>\n",
       "      <td>1.0</td>\n",
       "      <td>-1.0</td>\n",
       "    </tr>\n",
       "    <tr>\n",
       "      <th>...</th>\n",
       "      <td>...</td>\n",
       "      <td>...</td>\n",
       "      <td>...</td>\n",
       "      <td>...</td>\n",
       "    </tr>\n",
       "    <tr>\n",
       "      <th>12312</th>\n",
       "      <td>2022-10-01 19:00:00</td>\n",
       "      <td>4.0</td>\n",
       "      <td>11.0</td>\n",
       "      <td>-7.0</td>\n",
       "    </tr>\n",
       "    <tr>\n",
       "      <th>12313</th>\n",
       "      <td>2022-10-01 20:00:00</td>\n",
       "      <td>1.0</td>\n",
       "      <td>6.0</td>\n",
       "      <td>-5.0</td>\n",
       "    </tr>\n",
       "    <tr>\n",
       "      <th>12314</th>\n",
       "      <td>2022-10-01 21:00:00</td>\n",
       "      <td>1.0</td>\n",
       "      <td>3.0</td>\n",
       "      <td>-2.0</td>\n",
       "    </tr>\n",
       "    <tr>\n",
       "      <th>12315</th>\n",
       "      <td>2022-10-01 22:00:00</td>\n",
       "      <td>2.0</td>\n",
       "      <td>1.0</td>\n",
       "      <td>1.0</td>\n",
       "    </tr>\n",
       "    <tr>\n",
       "      <th>12316</th>\n",
       "      <td>2022-10-01 23:00:00</td>\n",
       "      <td>0.0</td>\n",
       "      <td>1.0</td>\n",
       "      <td>-1.0</td>\n",
       "    </tr>\n",
       "  </tbody>\n",
       "</table>\n",
       "<p>12317 rows × 4 columns</p>\n",
       "</div>"
      ],
      "text/plain": [
       "                       일시  입차대수  출차대수  입출차 차이\n",
       "0     2020-10-01 04:00:00   1.0   0.0     1.0\n",
       "1     2020-10-01 05:00:00   0.0   1.0    -1.0\n",
       "2     2020-10-01 08:00:00   4.0   0.0     4.0\n",
       "3     2020-10-01 09:00:00   2.0   0.0     2.0\n",
       "4     2020-10-01 10:00:00   0.0   1.0    -1.0\n",
       "...                   ...   ...   ...     ...\n",
       "12312 2022-10-01 19:00:00   4.0  11.0    -7.0\n",
       "12313 2022-10-01 20:00:00   1.0   6.0    -5.0\n",
       "12314 2022-10-01 21:00:00   1.0   3.0    -2.0\n",
       "12315 2022-10-01 22:00:00   2.0   1.0     1.0\n",
       "12316 2022-10-01 23:00:00   0.0   1.0    -1.0\n",
       "\n",
       "[12317 rows x 4 columns]"
      ]
     },
     "execution_count": 4,
     "metadata": {},
     "output_type": "execute_result"
    }
   ],
   "source": [
    "def pretreatment(df):\n",
    "    df['일시'] = pd.to_datetime(df['FilePath'].apply(lambda x: x[12:26]), format='%Y%m%d%H%M%S')\n",
    "    df['일시'] = pd.to_datetime(df['일시']).apply(del_min_sec)\n",
    "    df = df[['일시', 'FilePath', 'InOutDiv']]\n",
    "    df = df.rename({'FilePath':'주차일련번호'}, axis=1)\n",
    "    return df\n",
    "\n",
    "def del_min_sec(x):\n",
    "    return x.replace(minute=0, second=0)\n",
    "\n",
    "car_normal = pd.read_csv('./data/일반차량.csv')\n",
    "car_normal = pretreatment(car_normal)\n",
    "\n",
    "car_ticket = pd.read_csv('./data/정기권차량.csv')\n",
    "car_ticket = pretreatment(car_ticket)\n",
    "\n",
    "hanmeak = pd.concat([car_normal, car_ticket]).sort_values('일시')\n",
    "\n",
    "hanmeak_in = hanmeak[hanmeak['InOutDiv']==1].iloc[:,:2]\n",
    "hanmeak_in = hanmeak_in.groupby('일시').count().reset_index().rename({'주차일련번호':'입차대수'}, axis=1)\n",
    "\n",
    "hanmeak_out = hanmeak[hanmeak['InOutDiv']==2].iloc[:,:2]\n",
    "hanmeak_out = hanmeak_out.groupby('일시').count().reset_index().rename({'주차일련번호':'출차대수'}, axis=1)\n",
    "\n",
    "hanmeak_all = pd.merge(hanmeak_in, hanmeak_out, on='일시', how='outer').fillna(0).sort_values('일시').reset_index(drop=True)\n",
    "hanmeak_all['입출차 차이'] = hanmeak_all['입차대수'] - hanmeak_all['출차대수']\n",
    "hanmeak_all"
   ]
  },
  {
   "cell_type": "markdown",
   "id": "74a9fc88-683f-46e3-8182-14475d081e45",
   "metadata": {},
   "source": [
    "# 분석"
   ]
  },
  {
   "cell_type": "markdown",
   "id": "59fc2b9e-aec3-4456-90ea-f4a1acdb3ceb",
   "metadata": {},
   "source": [
    "2022년 9월 1일 ~ 2022년 10월 1일"
   ]
  },
  {
   "cell_type": "code",
   "execution_count": 5,
   "id": "98569c16-8748-4b6e-9531-34d83634dc75",
   "metadata": {},
   "outputs": [],
   "source": [
    "from datetime import datetime\n",
    "set_time = pd.date_range('20201001', '20221001230000', freq='h')"
   ]
  },
  {
   "cell_type": "markdown",
   "id": "2c7ea4ff-5e26-474d-b72a-30d212ef9a3d",
   "metadata": {},
   "source": [
    "## 한맥"
   ]
  },
  {
   "cell_type": "code",
   "execution_count": 6,
   "id": "ddafec43-3f99-46dd-9c9c-e0648d6c37b1",
   "metadata": {},
   "outputs": [
    {
     "data": {
      "text/html": [
       "<div>\n",
       "<style scoped>\n",
       "    .dataframe tbody tr th:only-of-type {\n",
       "        vertical-align: middle;\n",
       "    }\n",
       "\n",
       "    .dataframe tbody tr th {\n",
       "        vertical-align: top;\n",
       "    }\n",
       "\n",
       "    .dataframe thead th {\n",
       "        text-align: right;\n",
       "    }\n",
       "</style>\n",
       "<table border=\"1\" class=\"dataframe\">\n",
       "  <thead>\n",
       "    <tr style=\"text-align: right;\">\n",
       "      <th></th>\n",
       "      <th>입출차 누계</th>\n",
       "      <th>기온(°C)</th>\n",
       "      <th>강수량(mm)</th>\n",
       "      <th>풍속(m/s)</th>\n",
       "      <th>습도(%)</th>\n",
       "      <th>적설(cm)</th>\n",
       "    </tr>\n",
       "    <tr>\n",
       "      <th>일시</th>\n",
       "      <th></th>\n",
       "      <th></th>\n",
       "      <th></th>\n",
       "      <th></th>\n",
       "      <th></th>\n",
       "      <th></th>\n",
       "    </tr>\n",
       "  </thead>\n",
       "  <tbody>\n",
       "    <tr>\n",
       "      <th>2020-10-01 00:00:00</th>\n",
       "      <td>5.0</td>\n",
       "      <td>17.3</td>\n",
       "      <td>0.0</td>\n",
       "      <td>0.2</td>\n",
       "      <td>92.0</td>\n",
       "      <td>0.0</td>\n",
       "    </tr>\n",
       "    <tr>\n",
       "      <th>2020-10-01 01:00:00</th>\n",
       "      <td>5.0</td>\n",
       "      <td>16.8</td>\n",
       "      <td>0.0</td>\n",
       "      <td>0.5</td>\n",
       "      <td>94.0</td>\n",
       "      <td>0.0</td>\n",
       "    </tr>\n",
       "    <tr>\n",
       "      <th>2020-10-01 02:00:00</th>\n",
       "      <td>5.0</td>\n",
       "      <td>16.9</td>\n",
       "      <td>0.0</td>\n",
       "      <td>1.1</td>\n",
       "      <td>93.0</td>\n",
       "      <td>0.0</td>\n",
       "    </tr>\n",
       "    <tr>\n",
       "      <th>2020-10-01 03:00:00</th>\n",
       "      <td>5.0</td>\n",
       "      <td>16.8</td>\n",
       "      <td>0.0</td>\n",
       "      <td>0.4</td>\n",
       "      <td>94.0</td>\n",
       "      <td>0.0</td>\n",
       "    </tr>\n",
       "    <tr>\n",
       "      <th>2020-10-01 04:00:00</th>\n",
       "      <td>6.0</td>\n",
       "      <td>16.1</td>\n",
       "      <td>0.0</td>\n",
       "      <td>0.1</td>\n",
       "      <td>95.0</td>\n",
       "      <td>0.0</td>\n",
       "    </tr>\n",
       "    <tr>\n",
       "      <th>...</th>\n",
       "      <td>...</td>\n",
       "      <td>...</td>\n",
       "      <td>...</td>\n",
       "      <td>...</td>\n",
       "      <td>...</td>\n",
       "      <td>...</td>\n",
       "    </tr>\n",
       "    <tr>\n",
       "      <th>2022-10-01 19:00:00</th>\n",
       "      <td>166.0</td>\n",
       "      <td>21.1</td>\n",
       "      <td>0.0</td>\n",
       "      <td>0.1</td>\n",
       "      <td>54.0</td>\n",
       "      <td>0.0</td>\n",
       "    </tr>\n",
       "    <tr>\n",
       "      <th>2022-10-01 20:00:00</th>\n",
       "      <td>161.0</td>\n",
       "      <td>19.6</td>\n",
       "      <td>0.0</td>\n",
       "      <td>0.6</td>\n",
       "      <td>63.0</td>\n",
       "      <td>0.0</td>\n",
       "    </tr>\n",
       "    <tr>\n",
       "      <th>2022-10-01 21:00:00</th>\n",
       "      <td>159.0</td>\n",
       "      <td>18.8</td>\n",
       "      <td>0.0</td>\n",
       "      <td>0.7</td>\n",
       "      <td>73.0</td>\n",
       "      <td>0.0</td>\n",
       "    </tr>\n",
       "    <tr>\n",
       "      <th>2022-10-01 22:00:00</th>\n",
       "      <td>160.0</td>\n",
       "      <td>18.1</td>\n",
       "      <td>0.0</td>\n",
       "      <td>0.8</td>\n",
       "      <td>75.0</td>\n",
       "      <td>0.0</td>\n",
       "    </tr>\n",
       "    <tr>\n",
       "      <th>2022-10-01 23:00:00</th>\n",
       "      <td>159.0</td>\n",
       "      <td>18.2</td>\n",
       "      <td>0.0</td>\n",
       "      <td>0.2</td>\n",
       "      <td>75.0</td>\n",
       "      <td>0.0</td>\n",
       "    </tr>\n",
       "  </tbody>\n",
       "</table>\n",
       "<p>17544 rows × 6 columns</p>\n",
       "</div>"
      ],
      "text/plain": [
       "                     입출차 누계  기온(°C)  강수량(mm)  풍속(m/s)  습도(%)  적설(cm)\n",
       "일시                                                                  \n",
       "2020-10-01 00:00:00     5.0    17.3      0.0      0.2   92.0     0.0\n",
       "2020-10-01 01:00:00     5.0    16.8      0.0      0.5   94.0     0.0\n",
       "2020-10-01 02:00:00     5.0    16.9      0.0      1.1   93.0     0.0\n",
       "2020-10-01 03:00:00     5.0    16.8      0.0      0.4   94.0     0.0\n",
       "2020-10-01 04:00:00     6.0    16.1      0.0      0.1   95.0     0.0\n",
       "...                     ...     ...      ...      ...    ...     ...\n",
       "2022-10-01 19:00:00   166.0    21.1      0.0      0.1   54.0     0.0\n",
       "2022-10-01 20:00:00   161.0    19.6      0.0      0.6   63.0     0.0\n",
       "2022-10-01 21:00:00   159.0    18.8      0.0      0.7   73.0     0.0\n",
       "2022-10-01 22:00:00   160.0    18.1      0.0      0.8   75.0     0.0\n",
       "2022-10-01 23:00:00   159.0    18.2      0.0      0.2   75.0     0.0\n",
       "\n",
       "[17544 rows x 6 columns]"
      ]
     },
     "execution_count": 6,
     "metadata": {},
     "output_type": "execute_result"
    }
   ],
   "source": [
    "hanmeak_analysis = pd.DataFrame(index=set_time)\n",
    "hanmeak_analysis = pd.merge(hanmeak_analysis, hanmeak_all, left_index=True, right_on='일시', how='left').fillna(0)\n",
    "hanmeak_analysis = hanmeak_analysis.set_index('일시')\n",
    "hanmeak_analysis['입출차 누계'] = hanmeak_analysis['입출차 차이'].cumsum()\n",
    "# 누계가 음수인 경우, 최솟값만큼 기존에 차가 있었다고 가정함\n",
    "if hanmeak_analysis['입출차 누계'].min() < 0:\n",
    "    hanmeak_analysis['입출차 누계'] -= hanmeak_analysis['입출차 누계'].min()\n",
    "hanmeak_analysis = pd.merge(hanmeak_analysis[['입출차 누계']], whether, left_index=True, right_index=True, how='left')\n",
    "hanmeak_analysis.index.freq='h'\n",
    "hanmeak_analysis"
   ]
  },
  {
   "cell_type": "markdown",
   "id": "68cc2217-65e8-4785-afc0-fbed62f6f519",
   "metadata": {},
   "source": [
    "### SARIMAX"
   ]
  },
  {
   "cell_type": "code",
   "execution_count": null,
   "id": "db61aeef-5859-4f01-a5ba-55dd1a07978f",
   "metadata": {},
   "outputs": [],
   "source": [
    "from sklearn.metrics import mean_absolute_error, mean_squared_error\n",
    "import lightgbm as lgb\n",
    "\n",
    "train_hanmeak = hanmeak_analysis[hanmeak_analysis.index < datetime(2022, 10, 1)]\n",
    "train_x = train_hanmeak.iloc[:, 1:]\n",
    "train_y = train_hanmeak.iloc[:, 0]\n",
    "\n",
    "test_hanmeak = hanmeak_analysis[hanmeak_analysis.index >= datetime(2022, 10, 1)]\n",
    "test_x = test_hanmeak.iloc[:, 1:]\n",
    "test_y = test_hanmeak.iloc[:, 0]"
   ]
  },
  {
   "cell_type": "code",
   "execution_count": 17,
   "id": "f2bfb708-afa8-412c-91c5-2a171ed8d0eb",
   "metadata": {
    "tags": []
   },
   "outputs": [
    {
     "name": "stdout",
     "output_type": "stream",
     "text": [
      "(0, 0, 0)\n"
     ]
    },
    {
     "name": "stderr",
     "output_type": "stream",
     "text": [
      "C:\\Users\\kyw65\\anaconda3\\lib\\site-packages\\statsmodels\\base\\model.py:604: ConvergenceWarning: Maximum Likelihood optimization failed to converge. Check mle_retvals\n",
      "  warnings.warn(\"Maximum Likelihood optimization failed to \"\n"
     ]
    },
    {
     "name": "stdout",
     "output_type": "stream",
     "text": [
      "(0, 0, 1)\n"
     ]
    },
    {
     "name": "stderr",
     "output_type": "stream",
     "text": [
      "C:\\Users\\kyw65\\anaconda3\\lib\\site-packages\\statsmodels\\base\\model.py:604: ConvergenceWarning: Maximum Likelihood optimization failed to converge. Check mle_retvals\n",
      "  warnings.warn(\"Maximum Likelihood optimization failed to \"\n"
     ]
    },
    {
     "name": "stdout",
     "output_type": "stream",
     "text": [
      "(0, 1, 0)\n",
      "(0, 1, 1)\n",
      "(1, 0, 0)\n"
     ]
    },
    {
     "name": "stderr",
     "output_type": "stream",
     "text": [
      "C:\\Users\\kyw65\\anaconda3\\lib\\site-packages\\statsmodels\\base\\model.py:604: ConvergenceWarning: Maximum Likelihood optimization failed to converge. Check mle_retvals\n",
      "  warnings.warn(\"Maximum Likelihood optimization failed to \"\n",
      "C:\\Users\\kyw65\\anaconda3\\lib\\site-packages\\statsmodels\\base\\model.py:604: ConvergenceWarning: Maximum Likelihood optimization failed to converge. Check mle_retvals\n",
      "  warnings.warn(\"Maximum Likelihood optimization failed to \"\n",
      "C:\\Users\\kyw65\\anaconda3\\lib\\site-packages\\statsmodels\\base\\model.py:604: ConvergenceWarning: Maximum Likelihood optimization failed to converge. Check mle_retvals\n",
      "  warnings.warn(\"Maximum Likelihood optimization failed to \"\n"
     ]
    },
    {
     "name": "stdout",
     "output_type": "stream",
     "text": [
      "(1, 0, 1)\n"
     ]
    },
    {
     "name": "stderr",
     "output_type": "stream",
     "text": [
      "C:\\Users\\kyw65\\anaconda3\\lib\\site-packages\\statsmodels\\base\\model.py:604: ConvergenceWarning: Maximum Likelihood optimization failed to converge. Check mle_retvals\n",
      "  warnings.warn(\"Maximum Likelihood optimization failed to \"\n",
      "C:\\Users\\kyw65\\anaconda3\\lib\\site-packages\\statsmodels\\base\\model.py:604: ConvergenceWarning: Maximum Likelihood optimization failed to converge. Check mle_retvals\n",
      "  warnings.warn(\"Maximum Likelihood optimization failed to \"\n",
      "C:\\Users\\kyw65\\anaconda3\\lib\\site-packages\\statsmodels\\base\\model.py:604: ConvergenceWarning: Maximum Likelihood optimization failed to converge. Check mle_retvals\n",
      "  warnings.warn(\"Maximum Likelihood optimization failed to \"\n",
      "C:\\Users\\kyw65\\anaconda3\\lib\\site-packages\\statsmodels\\base\\model.py:604: ConvergenceWarning: Maximum Likelihood optimization failed to converge. Check mle_retvals\n",
      "  warnings.warn(\"Maximum Likelihood optimization failed to \"\n"
     ]
    },
    {
     "name": "stdout",
     "output_type": "stream",
     "text": [
      "(1, 1, 0)\n"
     ]
    },
    {
     "name": "stderr",
     "output_type": "stream",
     "text": [
      "C:\\Users\\kyw65\\anaconda3\\lib\\site-packages\\statsmodels\\base\\model.py:604: ConvergenceWarning: Maximum Likelihood optimization failed to converge. Check mle_retvals\n",
      "  warnings.warn(\"Maximum Likelihood optimization failed to \"\n"
     ]
    },
    {
     "name": "stdout",
     "output_type": "stream",
     "text": [
      "(1, 1, 1)\n"
     ]
    },
    {
     "name": "stderr",
     "output_type": "stream",
     "text": [
      "C:\\Users\\kyw65\\anaconda3\\lib\\site-packages\\statsmodels\\base\\model.py:604: ConvergenceWarning: Maximum Likelihood optimization failed to converge. Check mle_retvals\n",
      "  warnings.warn(\"Maximum Likelihood optimization failed to \"\n",
      "C:\\Users\\kyw65\\anaconda3\\lib\\site-packages\\statsmodels\\base\\model.py:604: ConvergenceWarning: Maximum Likelihood optimization failed to converge. Check mle_retvals\n",
      "  warnings.warn(\"Maximum Likelihood optimization failed to \"\n"
     ]
    }
   ],
   "source": [
    "from statsmodels.tsa.statespace.sarimax import SARIMAX\n",
    "import itertools\n",
    "\n",
    "p=d=q=range(2)\n",
    "pdq = list(itertools.product(p,d,q))\n",
    "seasonal_pdq = [(x[0], x[1], x[2], 24) for x in list(itertools.product(p,d,q))]\n",
    "min_aic = np.inf\n",
    "for param in pdq:\n",
    "    print(param)\n",
    "    for param_seasonal in seasonal_pdq:\n",
    "        try:\n",
    "            tmp_model = SARIMAX(train_y, exog=train_x, order=param, seasonal_order=param_seasonal, freq='h').fit(disp=False)\n",
    "            tmp_aic = tmp_model.aic\n",
    "            tmp_pred = tmp_model.forecast(24, exog=test_x)\n",
    "            if (abs(tmp_aic) < abs(min_aic)) & (abs(tmp_aic)>100):\n",
    "                if len(tmp_pred[tmp_pred<0]) <= 0:\n",
    "                    min_aic = tmp_aic\n",
    "                    best_model = tmp_model\n",
    "                    best_param = (param, param_seasonal)\n",
    "        except np.linalg.LinAlgError:\n",
    "            continue\n",
    "prediction = best_model.forecast(24, exog=test_x)"
   ]
  },
  {
   "cell_type": "code",
   "execution_count": 19,
   "id": "7bc0fd1c-8991-47ff-bfe0-49c94c503285",
   "metadata": {},
   "outputs": [
    {
     "data": {
      "text/plain": [
       "((1, 1, 1), (1, 1, 1, 24))"
      ]
     },
     "execution_count": 19,
     "metadata": {},
     "output_type": "execute_result"
    }
   ],
   "source": [
    "best_param"
   ]
  },
  {
   "cell_type": "code",
   "execution_count": 18,
   "id": "6c56808a-ebdd-4b7f-bed9-0226223de698",
   "metadata": {},
   "outputs": [
    {
     "name": "stdout",
     "output_type": "stream",
     "text": [
      "MAE = 4.909601478031173\n",
      "MAE_per = 2.9420832827153096\n",
      "RMSE = 6.2120331373594935\n",
      "RMSE(per) = 3.712057443280466\n"
     ]
    }
   ],
   "source": [
    "MAE = mean_absolute_error(test_y, prediction)\n",
    "MAE_per = sum(abs(test_y - prediction)) / sum(test_y) * 100\n",
    "print('MAE =', MAE)\n",
    "print('MAE_per =', MAE_per)\n",
    "RMSE = np.sqrt(mean_squared_error(test_y, prediction))\n",
    "RMSE_per = (np.sqrt(np.mean(np.square((test_y - prediction) / test_y)))) * 100\n",
    "print('RMSE =', RMSE)\n",
    "print('RMSE(per) =', RMSE_per)"
   ]
  },
  {
   "cell_type": "code",
   "execution_count": 22,
   "id": "a17799ae-2997-4590-af73-cb364d66f0d1",
   "metadata": {},
   "outputs": [
    {
     "data": {
      "text/plain": [
       "<AxesSubplot:>"
      ]
     },
     "execution_count": 22,
     "metadata": {},
     "output_type": "execute_result"
    },
    {
     "data": {
      "image/png": "[encoded data removed]",
      "text/plain": [
       "<Figure size 640x480 with 1 Axes>"
      ]
     },
     "metadata": {},
     "output_type": "display_data"
    }
   ],
   "source": [
    "prediction.name = '예측값'\n",
    "pd.concat([test_y, prediction], axis=1).plot()"
   ]
  }
 ],
 "metadata": {
  "kernelspec": {
   "display_name": "Python 3.8.8 ('base')",
   "language": "python",
   "name": "python3"
  },
  "language_info": {
   "codemirror_mode": {
    "name": "ipython",
    "version": 3
   },
   "file_extension": ".py",
   "mimetype": "text/x-python",
   "name": "python",
   "nbconvert_exporter": "python",
   "pygments_lexer": "ipython3",
   "version": "3.8.8"
  },
  "vscode": {
   "interpreter": {
    "hash": "86aa80caba646de5c5fbfa482f3005816722fa12a16cb3031e5ebf46eef177a2"
   }
  }
 },
 "nbformat": 4,
 "nbformat_minor": 5
}

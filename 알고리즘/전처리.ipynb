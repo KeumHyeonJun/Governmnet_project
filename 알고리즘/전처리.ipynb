{
 "cells": [
  {
   "cell_type": "code",
   "execution_count": 1,
   "id": "4759773a-2dc0-427c-a6f1-84f701a18c13",
   "metadata": {},
   "outputs": [],
   "source": [
    "import pandas as pd\n",
    "import numpy as np\n",
    "import re\n",
    "from matplotlib import pyplot as plt\n",
    "\n",
    "plt.rc('font', family='AppleGothic')\n",
    "plt.rcParams['axes.unicode_minus'] = False"
   ]
  },
  {
   "cell_type": "markdown",
   "id": "392f4a35-8ac7-4025-9b44-9b2614a19d5d",
   "metadata": {},
   "source": [
    "# 날씨 데이터 불러오기"
   ]
  },
  {
   "cell_type": "code",
   "execution_count": 2,
   "outputs": [
    {
     "data": {
      "text/plain": "                     기온(°C)  강수량(mm)  풍속(m/s)  습도(%)  적설(cm)\n일시                                                          \n2020-10-01 00:00:00    17.3      0.0      0.2   92.0     0.0\n2020-10-01 01:00:00    16.8      0.0      0.5   94.0     0.0\n2020-10-01 02:00:00    16.9      0.0      1.1   93.0     0.0\n2020-10-01 03:00:00    16.8      0.0      0.4   94.0     0.0\n2020-10-01 04:00:00    16.1      0.0      0.1   95.0     0.0\n...                     ...      ...      ...    ...     ...\n2022-10-01 19:00:00    21.1      0.0      0.1   54.0     0.0\n2022-10-01 20:00:00    19.6      0.0      0.6   63.0     0.0\n2022-10-01 21:00:00    18.8      0.0      0.7   73.0     0.0\n2022-10-01 22:00:00    18.1      0.0      0.8   75.0     0.0\n2022-10-01 23:00:00    18.2      0.0      0.2   75.0     0.0\n\n[17544 rows x 5 columns]",
      "text/html": "<div>\n<style scoped>\n    .dataframe tbody tr th:only-of-type {\n        vertical-align: middle;\n    }\n\n    .dataframe tbody tr th {\n        vertical-align: top;\n    }\n\n    .dataframe thead th {\n        text-align: right;\n    }\n</style>\n<table border=\"1\" class=\"dataframe\">\n  <thead>\n    <tr style=\"text-align: right;\">\n      <th></th>\n      <th>기온(°C)</th>\n      <th>강수량(mm)</th>\n      <th>풍속(m/s)</th>\n      <th>습도(%)</th>\n      <th>적설(cm)</th>\n    </tr>\n    <tr>\n      <th>일시</th>\n      <th></th>\n      <th></th>\n      <th></th>\n      <th></th>\n      <th></th>\n    </tr>\n  </thead>\n  <tbody>\n    <tr>\n      <th>2020-10-01 00:00:00</th>\n      <td>17.3</td>\n      <td>0.0</td>\n      <td>0.2</td>\n      <td>92.0</td>\n      <td>0.0</td>\n    </tr>\n    <tr>\n      <th>2020-10-01 01:00:00</th>\n      <td>16.8</td>\n      <td>0.0</td>\n      <td>0.5</td>\n      <td>94.0</td>\n      <td>0.0</td>\n    </tr>\n    <tr>\n      <th>2020-10-01 02:00:00</th>\n      <td>16.9</td>\n      <td>0.0</td>\n      <td>1.1</td>\n      <td>93.0</td>\n      <td>0.0</td>\n    </tr>\n    <tr>\n      <th>2020-10-01 03:00:00</th>\n      <td>16.8</td>\n      <td>0.0</td>\n      <td>0.4</td>\n      <td>94.0</td>\n      <td>0.0</td>\n    </tr>\n    <tr>\n      <th>2020-10-01 04:00:00</th>\n      <td>16.1</td>\n      <td>0.0</td>\n      <td>0.1</td>\n      <td>95.0</td>\n      <td>0.0</td>\n    </tr>\n    <tr>\n      <th>...</th>\n      <td>...</td>\n      <td>...</td>\n      <td>...</td>\n      <td>...</td>\n      <td>...</td>\n    </tr>\n    <tr>\n      <th>2022-10-01 19:00:00</th>\n      <td>21.1</td>\n      <td>0.0</td>\n      <td>0.1</td>\n      <td>54.0</td>\n      <td>0.0</td>\n    </tr>\n    <tr>\n      <th>2022-10-01 20:00:00</th>\n      <td>19.6</td>\n      <td>0.0</td>\n      <td>0.6</td>\n      <td>63.0</td>\n      <td>0.0</td>\n    </tr>\n    <tr>\n      <th>2022-10-01 21:00:00</th>\n      <td>18.8</td>\n      <td>0.0</td>\n      <td>0.7</td>\n      <td>73.0</td>\n      <td>0.0</td>\n    </tr>\n    <tr>\n      <th>2022-10-01 22:00:00</th>\n      <td>18.1</td>\n      <td>0.0</td>\n      <td>0.8</td>\n      <td>75.0</td>\n      <td>0.0</td>\n    </tr>\n    <tr>\n      <th>2022-10-01 23:00:00</th>\n      <td>18.2</td>\n      <td>0.0</td>\n      <td>0.2</td>\n      <td>75.0</td>\n      <td>0.0</td>\n    </tr>\n  </tbody>\n</table>\n<p>17544 rows × 5 columns</p>\n</div>"
     },
     "execution_count": 2,
     "metadata": {},
     "output_type": "execute_result"
    }
   ],
   "source": [
    "# whether csv read, 일시를 index로 넣고 datetime 형태로 변환함\n",
    "whether = pd.read_csv('./data/Whether.csv', encoding='euc-kr', parse_dates=['일시'], index_col='일시')\n",
    "# 강수량, 적설이 null인 경우 모두 0으로 바꿈\n",
    "whether = whether.fillna(0)\n",
    "# 일시의 freq을 hour로 변경\n",
    "whether.index.freq = 'h'\n",
    "\n",
    "'''\n",
    "데이터가 누락된 시간을 확인하기 위한 부분 (파일로 받은 경우)\n",
    "API로 받는 경우 날짜는 있지만 모든 데이터가 Null값이기 때문에 해당 조건으로 수정해야 할 것으로 보임\n",
    "\n",
    "j = whether.index[0]\n",
    "for i in whether.index:\n",
    "    if i != j + pd.Timedelta(\"1 hour\"):\n",
    "        print(j, i)\n",
    "    j = i\n",
    "'''\n",
    "# 지점코드, 지점명을 없앰\n",
    "whether = whether.iloc[:, [2,3,4,5,6]]\n",
    "whether"
   ],
   "metadata": {
    "collapsed": false
   }
  },
  {
   "cell_type": "markdown",
   "id": "7dfa4e97-7d4f-49b2-b05a-c9a8f73acf03",
   "metadata": {},
   "source": [
    "# 차량 데이터 불러오기 및 전처리"
   ]
  },
  {
   "cell_type": "markdown",
   "source": [
    "# 한맥"
   ],
   "metadata": {
    "collapsed": false
   }
  },
  {
   "cell_type": "markdown",
   "id": "a9d5ae3c-28d9-44e9-8be7-48ed7b8f4ca0",
   "metadata": {},
   "source": [
    "장비별, 일시별 구분  \n",
    "입차 대수 - 출차 대수 = 현재 차량 대수  \n",
    "한맥의 경우 FilePath로부터 입출차 시간 추출  \n",
    "정기권 등 구분 X"
   ]
  },
  {
   "cell_type": "code",
   "execution_count": 3,
   "id": "ae391554-f9bb-4f13-a91e-75f55eac80ea",
   "metadata": {},
   "outputs": [
    {
     "data": {
      "text/plain": "                       일시  입차대수  출차대수  입출차 차이         주차장\n0     2020-10-01 04:00:00   1.0   0.0     1.0  주차1동, 주차2동\n1     2020-10-01 05:00:00   0.0   1.0    -1.0  주차1동, 주차2동\n2     2020-10-01 08:00:00   4.0   0.0     4.0  주차1동, 주차2동\n3     2020-10-01 09:00:00   2.0   0.0     2.0  주차1동, 주차2동\n4     2020-10-01 10:00:00   0.0   1.0    -1.0  주차1동, 주차2동\n...                   ...   ...   ...     ...         ...\n12312 2022-10-01 19:00:00   4.0  11.0    -7.0  주차1동, 주차2동\n12313 2022-10-01 20:00:00   1.0   6.0    -5.0  주차1동, 주차2동\n12314 2022-10-01 21:00:00   1.0   3.0    -2.0  주차1동, 주차2동\n12315 2022-10-01 22:00:00   2.0   1.0     1.0  주차1동, 주차2동\n12316 2022-10-01 23:00:00   0.0   1.0    -1.0  주차1동, 주차2동\n\n[12317 rows x 5 columns]",
      "text/html": "<div>\n<style scoped>\n    .dataframe tbody tr th:only-of-type {\n        vertical-align: middle;\n    }\n\n    .dataframe tbody tr th {\n        vertical-align: top;\n    }\n\n    .dataframe thead th {\n        text-align: right;\n    }\n</style>\n<table border=\"1\" class=\"dataframe\">\n  <thead>\n    <tr style=\"text-align: right;\">\n      <th></th>\n      <th>일시</th>\n      <th>입차대수</th>\n      <th>출차대수</th>\n      <th>입출차 차이</th>\n      <th>주차장</th>\n    </tr>\n  </thead>\n  <tbody>\n    <tr>\n      <th>0</th>\n      <td>2020-10-01 04:00:00</td>\n      <td>1.0</td>\n      <td>0.0</td>\n      <td>1.0</td>\n      <td>주차1동, 주차2동</td>\n    </tr>\n    <tr>\n      <th>1</th>\n      <td>2020-10-01 05:00:00</td>\n      <td>0.0</td>\n      <td>1.0</td>\n      <td>-1.0</td>\n      <td>주차1동, 주차2동</td>\n    </tr>\n    <tr>\n      <th>2</th>\n      <td>2020-10-01 08:00:00</td>\n      <td>4.0</td>\n      <td>0.0</td>\n      <td>4.0</td>\n      <td>주차1동, 주차2동</td>\n    </tr>\n    <tr>\n      <th>3</th>\n      <td>2020-10-01 09:00:00</td>\n      <td>2.0</td>\n      <td>0.0</td>\n      <td>2.0</td>\n      <td>주차1동, 주차2동</td>\n    </tr>\n    <tr>\n      <th>4</th>\n      <td>2020-10-01 10:00:00</td>\n      <td>0.0</td>\n      <td>1.0</td>\n      <td>-1.0</td>\n      <td>주차1동, 주차2동</td>\n    </tr>\n    <tr>\n      <th>...</th>\n      <td>...</td>\n      <td>...</td>\n      <td>...</td>\n      <td>...</td>\n      <td>...</td>\n    </tr>\n    <tr>\n      <th>12312</th>\n      <td>2022-10-01 19:00:00</td>\n      <td>4.0</td>\n      <td>11.0</td>\n      <td>-7.0</td>\n      <td>주차1동, 주차2동</td>\n    </tr>\n    <tr>\n      <th>12313</th>\n      <td>2022-10-01 20:00:00</td>\n      <td>1.0</td>\n      <td>6.0</td>\n      <td>-5.0</td>\n      <td>주차1동, 주차2동</td>\n    </tr>\n    <tr>\n      <th>12314</th>\n      <td>2022-10-01 21:00:00</td>\n      <td>1.0</td>\n      <td>3.0</td>\n      <td>-2.0</td>\n      <td>주차1동, 주차2동</td>\n    </tr>\n    <tr>\n      <th>12315</th>\n      <td>2022-10-01 22:00:00</td>\n      <td>2.0</td>\n      <td>1.0</td>\n      <td>1.0</td>\n      <td>주차1동, 주차2동</td>\n    </tr>\n    <tr>\n      <th>12316</th>\n      <td>2022-10-01 23:00:00</td>\n      <td>0.0</td>\n      <td>1.0</td>\n      <td>-1.0</td>\n      <td>주차1동, 주차2동</td>\n    </tr>\n  </tbody>\n</table>\n<p>12317 rows × 5 columns</p>\n</div>"
     },
     "execution_count": 3,
     "metadata": {},
     "output_type": "execute_result"
    }
   ],
   "source": [
    "def pretreatment(df):\n",
    "    df['일시'] = pd.to_datetime(df['FilePath'].apply(lambda x: x[12:26]), format='%Y%m%d%H%M%S')\n",
    "    df['일시'] = pd.to_datetime(df['일시']).apply(del_min_sec)\n",
    "    df = df[['일시', 'FilePath', 'InOutDiv']]\n",
    "    df = df.rename({'FilePath':'주차일련번호'}, axis=1)\n",
    "    return df\n",
    "\n",
    "def del_min_sec(x):\n",
    "    return x.replace(minute=0, second=0)\n",
    "\n",
    "car_normal = pd.read_csv('./data/일반차량.csv')\n",
    "car_normal = pretreatment(car_normal)\n",
    "\n",
    "car_ticket = pd.read_csv('./data/정기권차량.csv')\n",
    "car_ticket = pretreatment(car_ticket)\n",
    "\n",
    "hanmeak = pd.concat([car_normal, car_ticket]).sort_values('일시')\n",
    "hanmeak_in = hanmeak[hanmeak['InOutDiv']==1].iloc[:,:2]\n",
    "hanmeak_in = hanmeak_in.groupby('일시').count().reset_index().rename({'주차일련번호':'입차대수'}, axis=1)\n",
    "\n",
    "hanmeak_out = hanmeak[hanmeak['InOutDiv']==2].iloc[:,:2]\n",
    "hanmeak_out = hanmeak_out.groupby('일시').count().reset_index().rename({'주차일련번호':'출차대수'}, axis=1)\n",
    "\n",
    "hanmeak_all = pd.merge(hanmeak_in, hanmeak_out, on='일시', how='outer').fillna(0).sort_values('일시').reset_index(drop=True)\n",
    "hanmeak_all['입출차 차이'] = hanmeak_all['입차대수'] - hanmeak_all['출차대수']\n",
    "hanmeak_all['주차장'] = '주차1동, 주차2동'\n",
    "hanmeak_all"
   ]
  },
  {
   "cell_type": "markdown",
   "source": [
    "# 다래"
   ],
   "metadata": {
    "collapsed": false
   }
  },
  {
   "cell_type": "code",
   "execution_count": 4,
   "outputs": [
    {
     "name": "stderr",
     "output_type": "stream",
     "text": [
      "/var/folders/nd/cl2nzwh13zx7jdly2t5m95340000gn/T/ipykernel_89021/1494210905.py:1: DtypeWarning: Columns (0,1,2,5,6,7,8,9) have mixed types. Specify dtype option on import or set low_memory=False.\n",
      "  darae_in = pd.read_csv('./data/VW_InCarinfo (차량 입차 정보 조회).csv')\n"
     ]
    }
   ],
   "source": [
    "darae_in = pd.read_csv('./data/VW_InCarinfo (차량 입차 정보 조회).csv')\n",
    "darae_in = darae_in.dropna()\n",
    "darae_out = pd.read_csv('./data/VW_OutCarinfo (차량 출차 정보 조회).csv')\n",
    "darae_in[['입차고객구분']]= darae_in[['입차고객구분']].apply(lambda x: x.str.strip(), axis = 1)"
   ],
   "metadata": {
    "collapsed": false
   }
  },
  {
   "cell_type": "markdown",
   "source": [
    "## 이름 바꾸기 13_1동 지하 1 > 13_1동"
   ],
   "metadata": {
    "collapsed": false
   }
  },
  {
   "cell_type": "code",
   "execution_count": 5,
   "outputs": [
    {
     "name": "stderr",
     "output_type": "stream",
     "text": [
      "/var/folders/nd/cl2nzwh13zx7jdly2t5m95340000gn/T/ipykernel_89021/4221457405.py:6: SettingWithCopyWarning: \n",
      "A value is trying to be set on a copy of a slice from a DataFrame\n",
      "\n",
      "See the caveats in the documentation: https://pandas.pydata.org/pandas-docs/stable/user_guide/indexing.html#returning-a-view-versus-a-copy\n",
      "  df['주차장'][i] = reg\n",
      "/var/folders/nd/cl2nzwh13zx7jdly2t5m95340000gn/T/ipykernel_89021/4221457405.py:6: SettingWithCopyWarning: \n",
      "A value is trying to be set on a copy of a slice from a DataFrame\n",
      "\n",
      "See the caveats in the documentation: https://pandas.pydata.org/pandas-docs/stable/user_guide/indexing.html#returning-a-view-versus-a-copy\n",
      "  df['주차장'][i] = reg\n"
     ]
    }
   ],
   "source": [
    "import re\n",
    "def slicing(df,i) :\n",
    "    pattern = '.*동'\n",
    "    reg = re.search(pattern, df['장비명'][i])\n",
    "    reg = reg.group()\n",
    "    df['주차장'][i] = reg\n",
    "    return reg\n",
    "\n",
    "darae_in['주차장'] = 0\n",
    "for i in range(len(darae_in)):\n",
    "    slicing(darae_in,i)\n",
    "darae_out['주차장'] = 0\n",
    "for i in range(len(darae_out)):\n",
    "    slicing(darae_out,i)"
   ],
   "metadata": {
    "collapsed": false
   }
  },
  {
   "cell_type": "code",
   "execution_count": 6,
   "outputs": [],
   "source": [
    "darae_in['입차시간'] = darae_in['입차일자'] +  darae_in['입차시각']\n",
    "darae_out['출차시간'] = darae_out['출차일자']  + darae_out['출차시각']\n",
    "darae_in['입차시간'] = pd.to_datetime(darae_in['입차시간']).apply(del_min_sec)\n",
    "darae_out['출차시간'] = pd.to_datetime(darae_out['출차시간']).apply(del_min_sec)\n",
    "\n",
    "darae_in[['장비명','입차구분','입차고객구분','출차여부','차량종류']] = darae_in[['장비명','입차구분','입차고객구분','출차여부','차량종류']].apply(lambda x: x.str.strip(), axis = 1)\n",
    "darae_out[['장비명','출차구분','출차고객구분','출차여부','차량종류']]= darae_out[['장비명','출차구분','출차고객구분','출차여부','차량종류']].apply(lambda x: x.str.strip(), axis = 1)"
   ],
   "metadata": {
    "collapsed": false
   }
  },
  {
   "cell_type": "code",
   "execution_count": 7,
   "outputs": [],
   "source": [
    "darae_in = darae_in.groupby(['입차시간','주차장']).count().reset_index().rename({'입차일자':'입차대수'}, axis=1).iloc[:,:3]\n",
    "darae_out = darae_out.groupby(['출차시간','주차장']).count().reset_index().rename({'출차일자':'출차대수'}, axis=1).iloc[:,:3]"
   ],
   "metadata": {
    "collapsed": false
   }
  },
  {
   "cell_type": "code",
   "execution_count": 8,
   "outputs": [
    {
     "data": {
      "text/plain": "                 출차시간    주차장  출차대수\n0 2022-09-01 05:00:00  13-3동     2\n1 2022-09-01 06:00:00  13-1동     2\n2 2022-09-01 06:00:00  13-3동     5\n3 2022-09-01 07:00:00    12동     1\n4 2022-09-01 07:00:00  13-1동     1",
      "text/html": "<div>\n<style scoped>\n    .dataframe tbody tr th:only-of-type {\n        vertical-align: middle;\n    }\n\n    .dataframe tbody tr th {\n        vertical-align: top;\n    }\n\n    .dataframe thead th {\n        text-align: right;\n    }\n</style>\n<table border=\"1\" class=\"dataframe\">\n  <thead>\n    <tr style=\"text-align: right;\">\n      <th></th>\n      <th>출차시간</th>\n      <th>주차장</th>\n      <th>출차대수</th>\n    </tr>\n  </thead>\n  <tbody>\n    <tr>\n      <th>0</th>\n      <td>2022-09-01 05:00:00</td>\n      <td>13-3동</td>\n      <td>2</td>\n    </tr>\n    <tr>\n      <th>1</th>\n      <td>2022-09-01 06:00:00</td>\n      <td>13-1동</td>\n      <td>2</td>\n    </tr>\n    <tr>\n      <th>2</th>\n      <td>2022-09-01 06:00:00</td>\n      <td>13-3동</td>\n      <td>5</td>\n    </tr>\n    <tr>\n      <th>3</th>\n      <td>2022-09-01 07:00:00</td>\n      <td>12동</td>\n      <td>1</td>\n    </tr>\n    <tr>\n      <th>4</th>\n      <td>2022-09-01 07:00:00</td>\n      <td>13-1동</td>\n      <td>1</td>\n    </tr>\n  </tbody>\n</table>\n</div>"
     },
     "execution_count": 8,
     "metadata": {},
     "output_type": "execute_result"
    }
   ],
   "source": [
    "darae_out.head()"
   ],
   "metadata": {
    "collapsed": false
   }
  },
  {
   "cell_type": "markdown",
   "source": [
    "## 빈 시간 채우기\n",
    "- 처음에 9월 1일 0시 넣고 마지막에 9월 31일 23시 넣기"
   ],
   "metadata": {
    "collapsed": false
   }
  },
  {
   "cell_type": "code",
   "execution_count": 9,
   "outputs": [
    {
     "data": {
      "text/plain": "['13-3동', '13-1동', '12동', '13-2동', '14-1동', '15동', '14-2동']"
     },
     "execution_count": 9,
     "metadata": {},
     "output_type": "execute_result"
    }
   ],
   "source": [
    "list(darae_out['주차장'].unique())"
   ],
   "metadata": {
    "collapsed": false
   }
  },
  {
   "cell_type": "code",
   "execution_count": 10,
   "outputs": [],
   "source": [
    "def null_time(df,parking_name,time_column,InOut_column,start_time,end_time):\n",
    "    df = df[df['주차장'] == parking_name]\n",
    "    set_time = pd.date_range(start_time, end_time, freq='h')\n",
    "    data =  pd.DataFrame(index=set_time)\n",
    "    data = pd.merge(data, df, left_index=True, right_on=time_column, how='left')\n",
    "    data['주차장'] = data['주차장'].fillna(parking_name)\n",
    "    data[InOut_column] = data[InOut_column].fillna(0)\n",
    "    return data"
   ],
   "metadata": {
    "collapsed": false
   }
  },
  {
   "cell_type": "code",
   "execution_count": 15,
   "outputs": [
    {
     "data": {
      "text/plain": "                       주차장  입차대수  출차대수  입출차 차이  입출차 누계     연  월   일  시각\n일시                                                                     \n2022-09-01 00:00:00  13-1동   0.0   0.0     0.0     0.0  2022  9   1   0\n2022-09-01 01:00:00  13-1동   0.0   0.0     0.0     0.0  2022  9   1   1\n2022-09-01 02:00:00  13-1동   0.0   0.0     0.0     0.0  2022  9   1   2\n2022-09-01 03:00:00  13-1동   1.0   0.0     1.0     1.0  2022  9   1   3\n2022-09-01 04:00:00  13-1동   0.0   0.0     0.0     1.0  2022  9   1   4\n...                    ...   ...   ...     ...     ...   ... ..  ..  ..\n2022-09-30 19:00:00  14-1동   0.0   1.0    -1.0     0.0  2022  9  30  19\n2022-09-30 20:00:00  14-1동   0.0   0.0     0.0     0.0  2022  9  30  20\n2022-09-30 21:00:00  14-1동   0.0   0.0     0.0     0.0  2022  9  30  21\n2022-09-30 22:00:00  14-1동   0.0   0.0     0.0     0.0  2022  9  30  22\n2022-09-30 23:00:00  14-1동   0.0   0.0     0.0     0.0  2022  9  30  23\n\n[5040 rows x 9 columns]",
      "text/html": "<div>\n<style scoped>\n    .dataframe tbody tr th:only-of-type {\n        vertical-align: middle;\n    }\n\n    .dataframe tbody tr th {\n        vertical-align: top;\n    }\n\n    .dataframe thead th {\n        text-align: right;\n    }\n</style>\n<table border=\"1\" class=\"dataframe\">\n  <thead>\n    <tr style=\"text-align: right;\">\n      <th></th>\n      <th>주차장</th>\n      <th>입차대수</th>\n      <th>출차대수</th>\n      <th>입출차 차이</th>\n      <th>입출차 누계</th>\n      <th>연</th>\n      <th>월</th>\n      <th>일</th>\n      <th>시각</th>\n    </tr>\n    <tr>\n      <th>일시</th>\n      <th></th>\n      <th></th>\n      <th></th>\n      <th></th>\n      <th></th>\n      <th></th>\n      <th></th>\n      <th></th>\n      <th></th>\n    </tr>\n  </thead>\n  <tbody>\n    <tr>\n      <th>2022-09-01 00:00:00</th>\n      <td>13-1동</td>\n      <td>0.0</td>\n      <td>0.0</td>\n      <td>0.0</td>\n      <td>0.0</td>\n      <td>2022</td>\n      <td>9</td>\n      <td>1</td>\n      <td>0</td>\n    </tr>\n    <tr>\n      <th>2022-09-01 01:00:00</th>\n      <td>13-1동</td>\n      <td>0.0</td>\n      <td>0.0</td>\n      <td>0.0</td>\n      <td>0.0</td>\n      <td>2022</td>\n      <td>9</td>\n      <td>1</td>\n      <td>1</td>\n    </tr>\n    <tr>\n      <th>2022-09-01 02:00:00</th>\n      <td>13-1동</td>\n      <td>0.0</td>\n      <td>0.0</td>\n      <td>0.0</td>\n      <td>0.0</td>\n      <td>2022</td>\n      <td>9</td>\n      <td>1</td>\n      <td>2</td>\n    </tr>\n    <tr>\n      <th>2022-09-01 03:00:00</th>\n      <td>13-1동</td>\n      <td>1.0</td>\n      <td>0.0</td>\n      <td>1.0</td>\n      <td>1.0</td>\n      <td>2022</td>\n      <td>9</td>\n      <td>1</td>\n      <td>3</td>\n    </tr>\n    <tr>\n      <th>2022-09-01 04:00:00</th>\n      <td>13-1동</td>\n      <td>0.0</td>\n      <td>0.0</td>\n      <td>0.0</td>\n      <td>1.0</td>\n      <td>2022</td>\n      <td>9</td>\n      <td>1</td>\n      <td>4</td>\n    </tr>\n    <tr>\n      <th>...</th>\n      <td>...</td>\n      <td>...</td>\n      <td>...</td>\n      <td>...</td>\n      <td>...</td>\n      <td>...</td>\n      <td>...</td>\n      <td>...</td>\n      <td>...</td>\n    </tr>\n    <tr>\n      <th>2022-09-30 19:00:00</th>\n      <td>14-1동</td>\n      <td>0.0</td>\n      <td>1.0</td>\n      <td>-1.0</td>\n      <td>0.0</td>\n      <td>2022</td>\n      <td>9</td>\n      <td>30</td>\n      <td>19</td>\n    </tr>\n    <tr>\n      <th>2022-09-30 20:00:00</th>\n      <td>14-1동</td>\n      <td>0.0</td>\n      <td>0.0</td>\n      <td>0.0</td>\n      <td>0.0</td>\n      <td>2022</td>\n      <td>9</td>\n      <td>30</td>\n      <td>20</td>\n    </tr>\n    <tr>\n      <th>2022-09-30 21:00:00</th>\n      <td>14-1동</td>\n      <td>0.0</td>\n      <td>0.0</td>\n      <td>0.0</td>\n      <td>0.0</td>\n      <td>2022</td>\n      <td>9</td>\n      <td>30</td>\n      <td>21</td>\n    </tr>\n    <tr>\n      <th>2022-09-30 22:00:00</th>\n      <td>14-1동</td>\n      <td>0.0</td>\n      <td>0.0</td>\n      <td>0.0</td>\n      <td>0.0</td>\n      <td>2022</td>\n      <td>9</td>\n      <td>30</td>\n      <td>22</td>\n    </tr>\n    <tr>\n      <th>2022-09-30 23:00:00</th>\n      <td>14-1동</td>\n      <td>0.0</td>\n      <td>0.0</td>\n      <td>0.0</td>\n      <td>0.0</td>\n      <td>2022</td>\n      <td>9</td>\n      <td>30</td>\n      <td>23</td>\n    </tr>\n  </tbody>\n</table>\n<p>5040 rows × 9 columns</p>\n</div>"
     },
     "execution_count": 15,
     "metadata": {},
     "output_type": "execute_result"
    }
   ],
   "source": [
    "parking_list = list(darae_in['주차장'].unique())\n",
    "\n",
    "darae_analysis = pd.DataFrame()\n",
    "for i in parking_list:\n",
    "    tmp_out = null_time(darae_out,i,'출차시간','출차대수','20220901000000','20220930235959').set_index('출차시간')\n",
    "    tmp_in = null_time(darae_in,i,'입차시간','입차대수','20220901000000','20220930235959').set_index('입차시간')\n",
    "    tmp_out = tmp_out.reset_index()\n",
    "    tmp_in = tmp_in.reset_index()\n",
    "    darae = pd.merge(tmp_in,tmp_out, left_on =['입차시간','주차장'], right_on = ['출차시간','주차장'] ,how = 'left')\n",
    "    darae = darae.drop(['출차시간'],axis=1)\n",
    "    darae = darae.rename({'입차시간' : '일시'},axis=1)\n",
    "    darae['입출차 차이'] = darae['입차대수'] - darae['출차대수']\n",
    "    darae['입출차 누계'] = darae['입출차 차이'].cumsum()\n",
    "    darae = darae.set_index('일시')\n",
    "    if darae['입출차 누계'].min() < 0:\n",
    "        darae['입출차 누계'] -= darae['입출차 누계'].min()\n",
    "    darae['연'] = darae.index.year\n",
    "    darae['월'] = darae.index.month\n",
    "    darae['일'] = darae.index.day\n",
    "    darae['시각'] = darae.index.hour\n",
    "\n",
    "    darae_analysis = pd.concat([darae_analysis,darae],axis=0)\n",
    "\n",
    "\n",
    "\n",
    "darae_analysis"
   ],
   "metadata": {
    "collapsed": false
   }
  },
  {
   "cell_type": "code",
   "execution_count": 19,
   "outputs": [
    {
     "data": {
      "text/plain": "Index(['주차장', '입차대수', '출차대수', '입출차 차이', '입출차 누계', '연', '월', '일', '시각'], dtype='object')"
     },
     "execution_count": 19,
     "metadata": {},
     "output_type": "execute_result"
    }
   ],
   "source": [
    "darae_analysis.columns"
   ],
   "metadata": {
    "collapsed": false
   }
  },
  {
   "cell_type": "code",
   "execution_count": 22,
   "outputs": [
    {
     "data": {
      "text/plain": "                            주차장  입차대수  출차대수  입출차 차이  입출차 누계     연   월  일  시각\n일시                                                                          \n2020-10-01 00:00:00  주차1동, 주차2동   0.0   0.0     0.0     5.0  2020  10  1   0\n2020-10-01 01:00:00  주차1동, 주차2동   0.0   0.0     0.0     5.0  2020  10  1   1\n2020-10-01 02:00:00  주차1동, 주차2동   0.0   0.0     0.0     5.0  2020  10  1   2\n2020-10-01 03:00:00  주차1동, 주차2동   0.0   0.0     0.0     5.0  2020  10  1   3\n2020-10-01 04:00:00  주차1동, 주차2동   1.0   0.0     1.0     6.0  2020  10  1   4\n...                         ...   ...   ...     ...     ...   ...  .. ..  ..\n2022-10-01 19:00:00  주차1동, 주차2동   4.0  11.0    -7.0   166.0  2022  10  1  19\n2022-10-01 20:00:00  주차1동, 주차2동   1.0   6.0    -5.0   161.0  2022  10  1  20\n2022-10-01 21:00:00  주차1동, 주차2동   1.0   3.0    -2.0   159.0  2022  10  1  21\n2022-10-01 22:00:00  주차1동, 주차2동   2.0   1.0     1.0   160.0  2022  10  1  22\n2022-10-01 23:00:00  주차1동, 주차2동   0.0   1.0    -1.0   159.0  2022  10  1  23\n\n[17544 rows x 9 columns]",
      "text/html": "<div>\n<style scoped>\n    .dataframe tbody tr th:only-of-type {\n        vertical-align: middle;\n    }\n\n    .dataframe tbody tr th {\n        vertical-align: top;\n    }\n\n    .dataframe thead th {\n        text-align: right;\n    }\n</style>\n<table border=\"1\" class=\"dataframe\">\n  <thead>\n    <tr style=\"text-align: right;\">\n      <th></th>\n      <th>주차장</th>\n      <th>입차대수</th>\n      <th>출차대수</th>\n      <th>입출차 차이</th>\n      <th>입출차 누계</th>\n      <th>연</th>\n      <th>월</th>\n      <th>일</th>\n      <th>시각</th>\n    </tr>\n    <tr>\n      <th>일시</th>\n      <th></th>\n      <th></th>\n      <th></th>\n      <th></th>\n      <th></th>\n      <th></th>\n      <th></th>\n      <th></th>\n      <th></th>\n    </tr>\n  </thead>\n  <tbody>\n    <tr>\n      <th>2020-10-01 00:00:00</th>\n      <td>주차1동, 주차2동</td>\n      <td>0.0</td>\n      <td>0.0</td>\n      <td>0.0</td>\n      <td>5.0</td>\n      <td>2020</td>\n      <td>10</td>\n      <td>1</td>\n      <td>0</td>\n    </tr>\n    <tr>\n      <th>2020-10-01 01:00:00</th>\n      <td>주차1동, 주차2동</td>\n      <td>0.0</td>\n      <td>0.0</td>\n      <td>0.0</td>\n      <td>5.0</td>\n      <td>2020</td>\n      <td>10</td>\n      <td>1</td>\n      <td>1</td>\n    </tr>\n    <tr>\n      <th>2020-10-01 02:00:00</th>\n      <td>주차1동, 주차2동</td>\n      <td>0.0</td>\n      <td>0.0</td>\n      <td>0.0</td>\n      <td>5.0</td>\n      <td>2020</td>\n      <td>10</td>\n      <td>1</td>\n      <td>2</td>\n    </tr>\n    <tr>\n      <th>2020-10-01 03:00:00</th>\n      <td>주차1동, 주차2동</td>\n      <td>0.0</td>\n      <td>0.0</td>\n      <td>0.0</td>\n      <td>5.0</td>\n      <td>2020</td>\n      <td>10</td>\n      <td>1</td>\n      <td>3</td>\n    </tr>\n    <tr>\n      <th>2020-10-01 04:00:00</th>\n      <td>주차1동, 주차2동</td>\n      <td>1.0</td>\n      <td>0.0</td>\n      <td>1.0</td>\n      <td>6.0</td>\n      <td>2020</td>\n      <td>10</td>\n      <td>1</td>\n      <td>4</td>\n    </tr>\n    <tr>\n      <th>...</th>\n      <td>...</td>\n      <td>...</td>\n      <td>...</td>\n      <td>...</td>\n      <td>...</td>\n      <td>...</td>\n      <td>...</td>\n      <td>...</td>\n      <td>...</td>\n    </tr>\n    <tr>\n      <th>2022-10-01 19:00:00</th>\n      <td>주차1동, 주차2동</td>\n      <td>4.0</td>\n      <td>11.0</td>\n      <td>-7.0</td>\n      <td>166.0</td>\n      <td>2022</td>\n      <td>10</td>\n      <td>1</td>\n      <td>19</td>\n    </tr>\n    <tr>\n      <th>2022-10-01 20:00:00</th>\n      <td>주차1동, 주차2동</td>\n      <td>1.0</td>\n      <td>6.0</td>\n      <td>-5.0</td>\n      <td>161.0</td>\n      <td>2022</td>\n      <td>10</td>\n      <td>1</td>\n      <td>20</td>\n    </tr>\n    <tr>\n      <th>2022-10-01 21:00:00</th>\n      <td>주차1동, 주차2동</td>\n      <td>1.0</td>\n      <td>3.0</td>\n      <td>-2.0</td>\n      <td>159.0</td>\n      <td>2022</td>\n      <td>10</td>\n      <td>1</td>\n      <td>21</td>\n    </tr>\n    <tr>\n      <th>2022-10-01 22:00:00</th>\n      <td>주차1동, 주차2동</td>\n      <td>2.0</td>\n      <td>1.0</td>\n      <td>1.0</td>\n      <td>160.0</td>\n      <td>2022</td>\n      <td>10</td>\n      <td>1</td>\n      <td>22</td>\n    </tr>\n    <tr>\n      <th>2022-10-01 23:00:00</th>\n      <td>주차1동, 주차2동</td>\n      <td>0.0</td>\n      <td>1.0</td>\n      <td>-1.0</td>\n      <td>159.0</td>\n      <td>2022</td>\n      <td>10</td>\n      <td>1</td>\n      <td>23</td>\n    </tr>\n  </tbody>\n</table>\n<p>17544 rows × 9 columns</p>\n</div>"
     },
     "execution_count": 22,
     "metadata": {},
     "output_type": "execute_result"
    }
   ],
   "source": [
    "from datetime import datetime\n",
    "set_time = pd.date_range('20201001', '20221001230000', freq='h')\n",
    "hanmeak_analysis = pd.DataFrame(index=set_time)\n",
    "hanmeak_analysis = pd.merge(hanmeak_analysis, hanmeak_all, left_index=True, right_on='일시', how='left').fillna(0)\n",
    "hanmeak_analysis = hanmeak_analysis.set_index('일시')\n",
    "hanmeak_analysis['입출차 누계'] = hanmeak_analysis['입출차 차이'].cumsum()\n",
    "# 누계가 음수인 경우, 최솟값만큼 기존에 차가 있었다고 가정함\n",
    "if hanmeak_analysis['입출차 누계'].min() < 0:\n",
    "    hanmeak_analysis['입출차 누계'] -= hanmeak_analysis['입출차 누계'].min()\n",
    "\n",
    "hanmeak_analysis['연'] = hanmeak_analysis.index.year\n",
    "hanmeak_analysis['월'] = hanmeak_analysis.index.month\n",
    "hanmeak_analysis['일'] = hanmeak_analysis.index.day\n",
    "hanmeak_analysis['시각'] = hanmeak_analysis.index.hour\n",
    "hanmeak_analysis['주차장'] = hanmeak_analysis['주차장'].replace(0,'주차1동, 주차2동')\n",
    "hanmeak_analysis = hanmeak_analysis[['주차장', '입차대수', '출차대수', '입출차 차이', '입출차 누계', '연', '월', '일', '시각']]\n",
    "hanmeak_analysis"
   ],
   "metadata": {
    "collapsed": false
   }
  },
  {
   "cell_type": "code",
   "execution_count": 37,
   "outputs": [],
   "source": [
    "data = pd.concat([darae_analysis,hanmeak_analysis])\n",
    "data = pd.merge(data, whether, left_index=True, right_index=True, how='left')\n",
    "data.to_csv('주차예측(한맥+다래).csv')"
   ],
   "metadata": {
    "collapsed": false
   }
  }
 ],
 "metadata": {
  "kernelspec": {
   "display_name": "Python 3.8.8 ('base')",
   "language": "python",
   "name": "python3"
  },
  "language_info": {
   "codemirror_mode": {
    "name": "ipython",
    "version": 3
   },
   "file_extension": ".py",
   "mimetype": "text/x-python",
   "name": "python",
   "nbconvert_exporter": "python",
   "pygments_lexer": "ipython3",
   "version": "3.8.8"
  },
  "vscode": {
   "interpreter": {
    "hash": "86aa80caba646de5c5fbfa482f3005816722fa12a16cb3031e5ebf46eef177a2"
   }
  }
 },
 "nbformat": 4,
 "nbformat_minor": 5
}

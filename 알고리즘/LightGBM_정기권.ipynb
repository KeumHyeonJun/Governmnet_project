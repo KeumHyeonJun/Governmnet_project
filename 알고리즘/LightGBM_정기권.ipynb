{
 "cells": [
  {
   "cell_type": "code",
   "execution_count": 1,
   "metadata": {
    "collapsed": true
   },
   "outputs": [],
   "source": [
    "import pandas as pd\n",
    "import numpy as np\n",
    "import re\n",
    "from matplotlib import pyplot as plt\n",
    "\n",
    "plt.rc('font', family='AppleGothic')\n",
    "plt.rcParams['axes.unicode_minus'] = False"
   ]
  },
  {
   "cell_type": "code",
   "execution_count": 2,
   "outputs": [],
   "source": [
    "dataset = pd.read_csv('./data/주차예측(한맥+다래)_정기권.csv')\n",
    "dataset['일시'] = pd.to_datetime(dataset['일시'], format='%Y-%m-%d %H:%M:%S', errors='raise')\n"
   ],
   "metadata": {
    "collapsed": false
   }
  },
  {
   "cell_type": "code",
   "execution_count": 3,
   "outputs": [
    {
     "data": {
      "text/plain": "                   일시         주차장  입차대수  출차대수  입출차 차이  입출차 누계 차량구분     연   월  \\\n0 2020-10-01 00:00:00  주차1동, 주차2동   0.0   0.0     0.0    96.0  정기권  2020  10   \n1 2020-10-01 01:00:00  주차1동, 주차2동   0.0   0.0     0.0    96.0  정기권  2020  10   \n2 2020-10-01 02:00:00  주차1동, 주차2동   0.0   0.0     0.0    96.0  정기권  2020  10   \n3 2020-10-01 03:00:00  주차1동, 주차2동   0.0   0.0     0.0    96.0  정기권  2020  10   \n4 2020-10-01 04:00:00  주차1동, 주차2동   0.0   0.0     0.0    96.0  정기권  2020  10   \n\n   일  시각  기온(°C)  강수량(mm)  풍속(m/s)  습도(%)  적설(cm)  \n0  1   0    17.3      0.0      0.2   92.0     0.0  \n1  1   1    16.8      0.0      0.5   94.0     0.0  \n2  1   2    16.9      0.0      1.1   93.0     0.0  \n3  1   3    16.8      0.0      0.4   94.0     0.0  \n4  1   4    16.1      0.0      0.1   95.0     0.0  ",
      "text/html": "<div>\n<style scoped>\n    .dataframe tbody tr th:only-of-type {\n        vertical-align: middle;\n    }\n\n    .dataframe tbody tr th {\n        vertical-align: top;\n    }\n\n    .dataframe thead th {\n        text-align: right;\n    }\n</style>\n<table border=\"1\" class=\"dataframe\">\n  <thead>\n    <tr style=\"text-align: right;\">\n      <th></th>\n      <th>일시</th>\n      <th>주차장</th>\n      <th>입차대수</th>\n      <th>출차대수</th>\n      <th>입출차 차이</th>\n      <th>입출차 누계</th>\n      <th>차량구분</th>\n      <th>연</th>\n      <th>월</th>\n      <th>일</th>\n      <th>시각</th>\n      <th>기온(°C)</th>\n      <th>강수량(mm)</th>\n      <th>풍속(m/s)</th>\n      <th>습도(%)</th>\n      <th>적설(cm)</th>\n    </tr>\n  </thead>\n  <tbody>\n    <tr>\n      <th>0</th>\n      <td>2020-10-01 00:00:00</td>\n      <td>주차1동, 주차2동</td>\n      <td>0.0</td>\n      <td>0.0</td>\n      <td>0.0</td>\n      <td>96.0</td>\n      <td>정기권</td>\n      <td>2020</td>\n      <td>10</td>\n      <td>1</td>\n      <td>0</td>\n      <td>17.3</td>\n      <td>0.0</td>\n      <td>0.2</td>\n      <td>92.0</td>\n      <td>0.0</td>\n    </tr>\n    <tr>\n      <th>1</th>\n      <td>2020-10-01 01:00:00</td>\n      <td>주차1동, 주차2동</td>\n      <td>0.0</td>\n      <td>0.0</td>\n      <td>0.0</td>\n      <td>96.0</td>\n      <td>정기권</td>\n      <td>2020</td>\n      <td>10</td>\n      <td>1</td>\n      <td>1</td>\n      <td>16.8</td>\n      <td>0.0</td>\n      <td>0.5</td>\n      <td>94.0</td>\n      <td>0.0</td>\n    </tr>\n    <tr>\n      <th>2</th>\n      <td>2020-10-01 02:00:00</td>\n      <td>주차1동, 주차2동</td>\n      <td>0.0</td>\n      <td>0.0</td>\n      <td>0.0</td>\n      <td>96.0</td>\n      <td>정기권</td>\n      <td>2020</td>\n      <td>10</td>\n      <td>1</td>\n      <td>2</td>\n      <td>16.9</td>\n      <td>0.0</td>\n      <td>1.1</td>\n      <td>93.0</td>\n      <td>0.0</td>\n    </tr>\n    <tr>\n      <th>3</th>\n      <td>2020-10-01 03:00:00</td>\n      <td>주차1동, 주차2동</td>\n      <td>0.0</td>\n      <td>0.0</td>\n      <td>0.0</td>\n      <td>96.0</td>\n      <td>정기권</td>\n      <td>2020</td>\n      <td>10</td>\n      <td>1</td>\n      <td>3</td>\n      <td>16.8</td>\n      <td>0.0</td>\n      <td>0.4</td>\n      <td>94.0</td>\n      <td>0.0</td>\n    </tr>\n    <tr>\n      <th>4</th>\n      <td>2020-10-01 04:00:00</td>\n      <td>주차1동, 주차2동</td>\n      <td>0.0</td>\n      <td>0.0</td>\n      <td>0.0</td>\n      <td>96.0</td>\n      <td>정기권</td>\n      <td>2020</td>\n      <td>10</td>\n      <td>1</td>\n      <td>4</td>\n      <td>16.1</td>\n      <td>0.0</td>\n      <td>0.1</td>\n      <td>95.0</td>\n      <td>0.0</td>\n    </tr>\n  </tbody>\n</table>\n</div>"
     },
     "execution_count": 3,
     "metadata": {},
     "output_type": "execute_result"
    }
   ],
   "source": [
    "dataset.head()"
   ],
   "metadata": {
    "collapsed": false
   }
  },
  {
   "cell_type": "markdown",
   "source": [
    "# 데이터 전처리"
   ],
   "metadata": {
    "collapsed": false
   }
  },
  {
   "cell_type": "code",
   "execution_count": 4,
   "outputs": [],
   "source": [
    "# 대체 휴일은 따로 지정해 줘야함\n",
    "import holidays\n",
    "kr_holidays = holidays.KR()"
   ],
   "metadata": {
    "collapsed": false
   }
  },
  {
   "cell_type": "code",
   "execution_count": 5,
   "outputs": [],
   "source": [
    "def holiday_check(x):\n",
    "    if x in kr_holidays:\n",
    "        return 1\n",
    "    else :\n",
    "        return 0"
   ],
   "metadata": {
    "collapsed": false
   }
  },
  {
   "cell_type": "code",
   "execution_count": 6,
   "outputs": [],
   "source": [
    "dataset['공휴일']= dataset['일시']\n",
    "dataset['공휴일'] = dataset['공휴일'].apply(holiday_check)\n",
    "dataset['요일'] = dataset['일시'].dt.weekday"
   ],
   "metadata": {
    "collapsed": false
   }
  },
  {
   "cell_type": "markdown",
   "source": [],
   "metadata": {
    "collapsed": false
   }
  },
  {
   "cell_type": "code",
   "execution_count": 7,
   "outputs": [],
   "source": [
    "dataset = dataset[dataset['주차장']=='주차1동, 주차2동']\n",
    "dataset['시각2'] = dataset['시각']\n",
    "dataset['시각3'] = dataset['시각']\n",
    "dataset['시각4'] = dataset['시각']\n",
    "dataset['시각5'] = dataset['시각']\n",
    "dataset['시각6'] = dataset['시각']\n",
    "\n",
    "dataset = dataset[['일시','입차대수','시각','기온(°C)','강수량(mm)','풍속(m/s)','습도(%)','적설(cm)','공휴일','요일','연','월','일']]\n",
    "dataset = dataset.set_index('일시')\n",
    "CATEGORICAL_COLUMN = ['공휴일','요일','시각','연','월','일']\n"
   ],
   "metadata": {
    "collapsed": false
   }
  },
  {
   "cell_type": "code",
   "execution_count": 8,
   "outputs": [
    {
     "data": {
      "text/plain": "                     입차대수  시각  기온(°C)  강수량(mm)  풍속(m/s)  습도(%)  적설(cm)  공휴일  \\\n일시                                                                            \n2020-10-01 00:00:00   0.0   0    17.3      0.0      0.2   92.0     0.0    1   \n2020-10-01 01:00:00   0.0   1    16.8      0.0      0.5   94.0     0.0    1   \n2020-10-01 02:00:00   0.0   2    16.9      0.0      1.1   93.0     0.0    1   \n2020-10-01 03:00:00   0.0   3    16.8      0.0      0.4   94.0     0.0    1   \n2020-10-01 04:00:00   0.0   4    16.1      0.0      0.1   95.0     0.0    1   \n...                   ...  ..     ...      ...      ...    ...     ...  ...   \n2022-10-01 19:00:00   1.0  19    21.1      0.0      0.1   54.0     0.0    0   \n2022-10-01 20:00:00   0.0  20    19.6      0.0      0.6   63.0     0.0    0   \n2022-10-01 21:00:00   0.0  21    18.8      0.0      0.7   73.0     0.0    0   \n2022-10-01 22:00:00   1.0  22    18.1      0.0      0.8   75.0     0.0    0   \n2022-10-01 23:00:00   0.0  23    18.2      0.0      0.2   75.0     0.0    0   \n\n                     요일     연   월  일  \n일시                                    \n2020-10-01 00:00:00   3  2020  10  1  \n2020-10-01 01:00:00   3  2020  10  1  \n2020-10-01 02:00:00   3  2020  10  1  \n2020-10-01 03:00:00   3  2020  10  1  \n2020-10-01 04:00:00   3  2020  10  1  \n...                  ..   ...  .. ..  \n2022-10-01 19:00:00   5  2022  10  1  \n2022-10-01 20:00:00   5  2022  10  1  \n2022-10-01 21:00:00   5  2022  10  1  \n2022-10-01 22:00:00   5  2022  10  1  \n2022-10-01 23:00:00   5  2022  10  1  \n\n[17544 rows x 12 columns]",
      "text/html": "<div>\n<style scoped>\n    .dataframe tbody tr th:only-of-type {\n        vertical-align: middle;\n    }\n\n    .dataframe tbody tr th {\n        vertical-align: top;\n    }\n\n    .dataframe thead th {\n        text-align: right;\n    }\n</style>\n<table border=\"1\" class=\"dataframe\">\n  <thead>\n    <tr style=\"text-align: right;\">\n      <th></th>\n      <th>입차대수</th>\n      <th>시각</th>\n      <th>기온(°C)</th>\n      <th>강수량(mm)</th>\n      <th>풍속(m/s)</th>\n      <th>습도(%)</th>\n      <th>적설(cm)</th>\n      <th>공휴일</th>\n      <th>요일</th>\n      <th>연</th>\n      <th>월</th>\n      <th>일</th>\n    </tr>\n    <tr>\n      <th>일시</th>\n      <th></th>\n      <th></th>\n      <th></th>\n      <th></th>\n      <th></th>\n      <th></th>\n      <th></th>\n      <th></th>\n      <th></th>\n      <th></th>\n      <th></th>\n      <th></th>\n    </tr>\n  </thead>\n  <tbody>\n    <tr>\n      <th>2020-10-01 00:00:00</th>\n      <td>0.0</td>\n      <td>0</td>\n      <td>17.3</td>\n      <td>0.0</td>\n      <td>0.2</td>\n      <td>92.0</td>\n      <td>0.0</td>\n      <td>1</td>\n      <td>3</td>\n      <td>2020</td>\n      <td>10</td>\n      <td>1</td>\n    </tr>\n    <tr>\n      <th>2020-10-01 01:00:00</th>\n      <td>0.0</td>\n      <td>1</td>\n      <td>16.8</td>\n      <td>0.0</td>\n      <td>0.5</td>\n      <td>94.0</td>\n      <td>0.0</td>\n      <td>1</td>\n      <td>3</td>\n      <td>2020</td>\n      <td>10</td>\n      <td>1</td>\n    </tr>\n    <tr>\n      <th>2020-10-01 02:00:00</th>\n      <td>0.0</td>\n      <td>2</td>\n      <td>16.9</td>\n      <td>0.0</td>\n      <td>1.1</td>\n      <td>93.0</td>\n      <td>0.0</td>\n      <td>1</td>\n      <td>3</td>\n      <td>2020</td>\n      <td>10</td>\n      <td>1</td>\n    </tr>\n    <tr>\n      <th>2020-10-01 03:00:00</th>\n      <td>0.0</td>\n      <td>3</td>\n      <td>16.8</td>\n      <td>0.0</td>\n      <td>0.4</td>\n      <td>94.0</td>\n      <td>0.0</td>\n      <td>1</td>\n      <td>3</td>\n      <td>2020</td>\n      <td>10</td>\n      <td>1</td>\n    </tr>\n    <tr>\n      <th>2020-10-01 04:00:00</th>\n      <td>0.0</td>\n      <td>4</td>\n      <td>16.1</td>\n      <td>0.0</td>\n      <td>0.1</td>\n      <td>95.0</td>\n      <td>0.0</td>\n      <td>1</td>\n      <td>3</td>\n      <td>2020</td>\n      <td>10</td>\n      <td>1</td>\n    </tr>\n    <tr>\n      <th>...</th>\n      <td>...</td>\n      <td>...</td>\n      <td>...</td>\n      <td>...</td>\n      <td>...</td>\n      <td>...</td>\n      <td>...</td>\n      <td>...</td>\n      <td>...</td>\n      <td>...</td>\n      <td>...</td>\n      <td>...</td>\n    </tr>\n    <tr>\n      <th>2022-10-01 19:00:00</th>\n      <td>1.0</td>\n      <td>19</td>\n      <td>21.1</td>\n      <td>0.0</td>\n      <td>0.1</td>\n      <td>54.0</td>\n      <td>0.0</td>\n      <td>0</td>\n      <td>5</td>\n      <td>2022</td>\n      <td>10</td>\n      <td>1</td>\n    </tr>\n    <tr>\n      <th>2022-10-01 20:00:00</th>\n      <td>0.0</td>\n      <td>20</td>\n      <td>19.6</td>\n      <td>0.0</td>\n      <td>0.6</td>\n      <td>63.0</td>\n      <td>0.0</td>\n      <td>0</td>\n      <td>5</td>\n      <td>2022</td>\n      <td>10</td>\n      <td>1</td>\n    </tr>\n    <tr>\n      <th>2022-10-01 21:00:00</th>\n      <td>0.0</td>\n      <td>21</td>\n      <td>18.8</td>\n      <td>0.0</td>\n      <td>0.7</td>\n      <td>73.0</td>\n      <td>0.0</td>\n      <td>0</td>\n      <td>5</td>\n      <td>2022</td>\n      <td>10</td>\n      <td>1</td>\n    </tr>\n    <tr>\n      <th>2022-10-01 22:00:00</th>\n      <td>1.0</td>\n      <td>22</td>\n      <td>18.1</td>\n      <td>0.0</td>\n      <td>0.8</td>\n      <td>75.0</td>\n      <td>0.0</td>\n      <td>0</td>\n      <td>5</td>\n      <td>2022</td>\n      <td>10</td>\n      <td>1</td>\n    </tr>\n    <tr>\n      <th>2022-10-01 23:00:00</th>\n      <td>0.0</td>\n      <td>23</td>\n      <td>18.2</td>\n      <td>0.0</td>\n      <td>0.2</td>\n      <td>75.0</td>\n      <td>0.0</td>\n      <td>0</td>\n      <td>5</td>\n      <td>2022</td>\n      <td>10</td>\n      <td>1</td>\n    </tr>\n  </tbody>\n</table>\n<p>17544 rows × 12 columns</p>\n</div>"
     },
     "execution_count": 8,
     "metadata": {},
     "output_type": "execute_result"
    }
   ],
   "source": [
    "#dataset['트렌드'] = range(2020,2020+len(dataset))\n",
    "#dataset[(dataset['시각'] >= 7) & (dataset['시각'] <= 19)]\n",
    "dataset"
   ],
   "metadata": {
    "collapsed": false
   }
  },
  {
   "cell_type": "markdown",
   "source": [
    "# LGBM\n",
    "##### 생각해야 할 것"
   ],
   "metadata": {
    "collapsed": false
   }
  },
  {
   "cell_type": "code",
   "execution_count": 9,
   "outputs": [],
   "source": [
    "from datetime import datetime"
   ],
   "metadata": {
    "collapsed": false
   }
  },
  {
   "cell_type": "code",
   "execution_count": 10,
   "outputs": [
    {
     "name": "stderr",
     "output_type": "stream",
     "text": [
      "/Users/keumhyeonjun/opt/anaconda3/envs/gpu_1/lib/python3.9/site-packages/scipy/__init__.py:146: UserWarning: A NumPy version >=1.16.5 and <1.23.0 is required for this version of SciPy (detected version 1.23.1\n",
      "  warnings.warn(f\"A NumPy version >={np_minversion} and <{np_maxversion}\"\n"
     ]
    }
   ],
   "source": [
    "from sklearn.metrics import mean_absolute_error, mean_squared_error\n",
    "from lightgbm import LGBMRegressor\n",
    "\n",
    "train_dataset = dataset[dataset.index < datetime(2022, 5, 1)]\n",
    "train_x = train_dataset.iloc[:, 1:]\n",
    "train_y = train_dataset.iloc[:, 0]\n",
    "\n",
    "test_dataset = dataset[dataset.index > datetime(2022, 5, 1)]\n",
    "test_x = test_dataset.iloc[:, 1:]\n",
    "test_y = test_dataset.iloc[:, 0]"
   ],
   "metadata": {
    "collapsed": false
   }
  },
  {
   "cell_type": "code",
   "execution_count": 11,
   "outputs": [],
   "source": [
    "params = {'learning_rate': 0.01,\n",
    "          'max_depth': 20,\n",
    "          'boosting': 'gbdt',\n",
    "          'objective': 'regression',\n",
    "          'metric': 'mse',\n",
    "          'is_training_metric': True,\n",
    "          'num_leaves': 169,\n",
    "          'feature_fraction': 0.9,\n",
    "          'bagging_fraction': 0.7,\n",
    "          'bagging_freq': 10,\n",
    "          'n_estimators' : 500,\n",
    "          'seed':1111}"
   ],
   "metadata": {
    "collapsed": false
   }
  },
  {
   "cell_type": "code",
   "execution_count": null,
   "outputs": [
    {
     "name": "stderr",
     "output_type": "stream",
     "text": [
      "/Users/keumhyeonjun/opt/anaconda3/envs/gpu_1/lib/python3.9/site-packages/lightgbm/basic.py:1551: UserWarning: Using categorical_feature in Dataset.\n",
      "  warnings.warn('Using categorical_feature in Dataset.')\n"
     ]
    },
    {
     "name": "stdout",
     "output_type": "stream",
     "text": [
      "[LightGBM] [Warning] boosting is set=gbdt, boosting_type=gbdt will be ignored. Current value: boosting=gbdt\n",
      "[LightGBM] [Warning] feature_fraction is set=0.9, colsample_bytree=1.0 will be ignored. Current value: feature_fraction=0.9\n",
      "[LightGBM] [Warning] bagging_fraction is set=0.7, subsample=1.0 will be ignored. Current value: bagging_fraction=0.7\n",
      "[LightGBM] [Warning] bagging_freq is set=10, subsample_freq=0 will be ignored. Current value: bagging_freq=10\n",
      "[LightGBM] [Warning] Met categorical feature which contains sparse values. Consider renumbering to consecutive integers started from zero\n"
     ]
    }
   ],
   "source": [
    "model = LGBMRegressor(**params)\n",
    "model.fit(train_x, train_y, categorical_feature =CATEGORICAL_COLUMN, verbose=100)"
   ],
   "metadata": {
    "collapsed": false,
    "pycharm": {
     "is_executing": true
    }
   }
  },
  {
   "cell_type": "code",
   "execution_count": null,
   "outputs": [],
   "source": [
    "predict_test = model.predict(test_x)\n",
    "for i in range(len(predict_test)):\n",
    "    if predict_test[i] < 0 :\n",
    "        predict_test[i] = 0\n",
    "    else :\n",
    "        predict_test[i] = predict_test[i].round(0)\n",
    "predict_test"
   ],
   "metadata": {
    "collapsed": false,
    "pycharm": {
     "is_executing": true
    }
   }
  },
  {
   "cell_type": "code",
   "execution_count": null,
   "outputs": [],
   "source": [
    "MAE = mean_absolute_error(test_y, predict_test)\n",
    "MAE_per = sum(abs(test_y - predict_test)) / sum(test_y) * 100\n",
    "print('MAE =', MAE)\n",
    "print('MAE_per =', MAE_per)\n",
    "RMSE = np.sqrt(mean_squared_error(test_y, predict_test))\n",
    "RMSE_per = (np.sqrt(np.mean(np.square((test_y - predict_test) / test_y)))) * 100\n",
    "print('RMSE =', RMSE)\n",
    "print('RMSE(per) =', RMSE_per)\n"
   ],
   "metadata": {
    "collapsed": false,
    "pycharm": {
     "is_executing": true
    }
   }
  },
  {
   "cell_type": "markdown",
   "source": [],
   "metadata": {
    "collapsed": false
   }
  },
  {
   "cell_type": "code",
   "execution_count": null,
   "outputs": [],
   "source": [
    "pd.concat([test_y, pd.Series(predict_test, index=test_y.index, name='예측값')], axis=1).plot()"
   ],
   "metadata": {
    "collapsed": false,
    "pycharm": {
     "is_executing": true
    }
   }
  },
  {
   "cell_type": "code",
   "execution_count": null,
   "outputs": [],
   "source": [
    "result = pd.concat([test_y, pd.Series(predict_test, index=test_y.index, name='예측값')], axis=1)\n",
    "result[result['예측값']>=5]"
   ],
   "metadata": {
    "collapsed": false,
    "pycharm": {
     "is_executing": true
    }
   }
  },
  {
   "cell_type": "code",
   "execution_count": null,
   "outputs": [],
   "source": [
    "import matplotlib.pyplot as plt\n",
    "import seaborn as sns\n",
    "import warnings\n",
    "warnings.simplefilter(action='ignore', category=FutureWarning)\n",
    "\n",
    "# sorted(zip(clf.feature_importances_, X.columns), reverse=True)\n",
    "feature_imp = pd.DataFrame(sorted(zip(model.feature_importances_,dataset.columns)), columns=['Value','Feature'])\n",
    "\n",
    "plt.figure(figsize=(20, 10))\n",
    "sns.barplot(x=\"Value\", y=\"Feature\", data=feature_imp.sort_values(by=\"Value\", ascending=False))\n",
    "plt.title('LightGBM Features (avg over folds)')\n",
    "plt.tight_layout()\n",
    "plt.show()"
   ],
   "metadata": {
    "collapsed": false,
    "pycharm": {
     "is_executing": true
    }
   }
  }
 ],
 "metadata": {
  "kernelspec": {
   "display_name": "Python 3",
   "language": "python",
   "name": "python3"
  },
  "language_info": {
   "codemirror_mode": {
    "name": "ipython",
    "version": 2
   },
   "file_extension": ".py",
   "mimetype": "text/x-python",
   "name": "python",
   "nbconvert_exporter": "python",
   "pygments_lexer": "ipython2",
   "version": "2.7.6"
  }
 },
 "nbformat": 4,
 "nbformat_minor": 0
}

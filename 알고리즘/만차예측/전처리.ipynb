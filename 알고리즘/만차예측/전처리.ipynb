{
 "cells": [
  {
   "cell_type": "code",
   "execution_count": null,
   "id": "4759773a-2dc0-427c-a6f1-84f701a18c13",
   "metadata": {},
   "outputs": [],
   "source": [
    "import pandas as pd\n",
    "import numpy as np\n",
    "import re\n",
    "from matplotlib import pyplot as plt\n",
    "\n",
    "plt.rc('font', family='AppleGothic')\n",
    "plt.rcParams['axes.unicode_minus'] = False"
   ]
  },
  {
   "cell_type": "code",
   "execution_count": null,
   "outputs": [],
   "source": [
    "from pathlib import Path\n",
    "path = Path.cwd()\n",
    "data_path = path.parent\n",
    "data_path = str(data_path) + '/data/'\n",
    "data_path"
   ],
   "metadata": {
    "collapsed": false
   }
  },
  {
   "cell_type": "markdown",
   "id": "392f4a35-8ac7-4025-9b44-9b2614a19d5d",
   "metadata": {},
   "source": [
    "# 날씨 데이터 불러오기"
   ]
  },
  {
   "cell_type": "code",
   "execution_count": null,
   "outputs": [],
   "source": [
    "# whether csv read, 일시를 index로 넣고 datetime 형태로 변환함\n",
    "whether = pd.read_csv(data_path +'Whether.csv', encoding='euc-kr', parse_dates=['일시'], index_col='일시')\n",
    "# 강수량, 적설이 null인 경우 모두 0으로 바꿈\n",
    "whether = whether.fillna(0)\n",
    "# 일시의 freq을 hour로 변경\n",
    "whether.index.freq = 'h'\n",
    "\n",
    "'''\n",
    "데이터가 누락된 시간을 확인하기 위한 부분 (파일로 받은 경우)\n",
    "API로 받는 경우 날짜는 있지만 모든 데이터가 Null값이기 때문에 해당 조건으로 수정해야 할 것으로 보임\n",
    "\n",
    "j = whether.index[0]\n",
    "for i in whether.index:\n",
    "    if i != j + pd.Timedelta(\"1 hour\"):\n",
    "        print(j, i)\n",
    "    j = i\n",
    "'''\n",
    "# 지점코드, 지점명을 없앰\n",
    "whether = whether.iloc[:, [2,3,4,5,6]]\n",
    "whether"
   ],
   "metadata": {
    "collapsed": false
   }
  },
  {
   "cell_type": "markdown",
   "id": "7dfa4e97-7d4f-49b2-b05a-c9a8f73acf03",
   "metadata": {},
   "source": [
    "# 차량 데이터 불러오기 및 전처리"
   ]
  },
  {
   "cell_type": "markdown",
   "source": [
    "# 다래데이터만 > 다래 데이터 형식으로 테이블 맞춰서 제공한다고 하였음"
   ],
   "metadata": {
    "collapsed": false
   }
  },
  {
   "cell_type": "code",
   "execution_count": null,
   "outputs": [],
   "source": [
    "import pandas as pd"
   ],
   "metadata": {
    "collapsed": false
   }
  },
  {
   "cell_type": "code",
   "execution_count": null,
   "outputs": [],
   "source": [
    "darae_in = pd.read_csv(data_path+ 'VW_InCarinfo (차량 입차 정보 조회).csv')\n",
    "darae_in = darae_in.dropna()\n",
    "darae_out = pd.read_csv(data_path+'VW_OutCarinfo (차량 출차 정보 조회).csv')"
   ],
   "metadata": {
    "collapsed": false
   }
  },
  {
   "cell_type": "code",
   "execution_count": null,
   "outputs": [],
   "source": [
    "darae_in[['입차고객구분']]= darae_in[['입차고객구분']].apply(lambda x: x.str.strip(), axis = 1)\n",
    "darae_in[['장비명','입차구분','입차고객구분','출차여부','차량종류']] = darae_in[['장비명','입차구분','입차고객구분','출차여부','차량종류']].apply(lambda x: x.str.strip(), axis = 1)\n",
    "darae_out[['장비명','출차구분','출차고객구분','출차여부','차량종류']]= darae_out[['장비명','출차구분','출차고객구분','출차여부','차량종류']].apply(lambda x: x.str.strip(), axis = 1)"
   ],
   "metadata": {
    "collapsed": false
   }
  },
  {
   "cell_type": "code",
   "execution_count": null,
   "outputs": [],
   "source": [
    "darae_in['장비명'].value_counts()"
   ],
   "metadata": {
    "collapsed": false
   }
  },
  {
   "cell_type": "code",
   "execution_count": null,
   "outputs": [],
   "source": [
    "darae_out"
   ],
   "metadata": {
    "collapsed": false
   }
  },
  {
   "cell_type": "markdown",
   "source": [
    "## 이름 바꾸기 13_1동 지하 1 > 13"
   ],
   "metadata": {
    "collapsed": false
   }
  },
  {
   "cell_type": "code",
   "execution_count": null,
   "outputs": [],
   "source": [
    "import re\n",
    "def slicing(df,i) :\n",
    "    pattern = '.*동'\n",
    "    reg = re.search(pattern, df['장비명'][i])\n",
    "    reg = reg.group()\n",
    "    df['주차장'][i] = reg\n",
    "    return reg\n",
    "\n",
    "darae_in['주차장'] = 0\n",
    "for i in range(len(darae_in)):\n",
    "    slicing(darae_in,i)\n",
    "darae_out['주차장'] = 0\n",
    "for i in range(len(darae_out)):\n",
    "    slicing(darae_out,i)\n",
    "\n",
    "def change(x):\n",
    "    if x =='13-1동' or x =='13-2동' or x =='13-3동':\n",
    "        return '13동'\n",
    "    elif x == '14-1동' or x == '14-2동':\n",
    "        return '14동'\n",
    "    else :\n",
    "        return x\n",
    "darae_in['주차장'] = darae_in['주차장'].apply(change)\n",
    "darae_out['주차장'] = darae_out['주차장'].apply(change)"
   ],
   "metadata": {
    "collapsed": false
   }
  },
  {
   "cell_type": "code",
   "execution_count": null,
   "outputs": [],
   "source": [
    "pd.options.display.float_format = '{:.0f}'.format"
   ],
   "metadata": {
    "collapsed": false
   }
  },
  {
   "cell_type": "code",
   "execution_count": null,
   "outputs": [],
   "source": [
    "import copy"
   ],
   "metadata": {
    "collapsed": false
   }
  },
  {
   "cell_type": "code",
   "execution_count": null,
   "outputs": [],
   "source": [
    "test_in = copy.deepcopy(darae_in)\n",
    "test_in.columns = ['일자','시각','차량번호','주차일련번호','입출차카드번호','장비명','입출차구분','입출차고객구분','출차여부','차량종류','주차장']\n",
    "test_in['입출차여부'] = '입차'"
   ],
   "metadata": {
    "collapsed": false
   }
  },
  {
   "cell_type": "code",
   "execution_count": null,
   "outputs": [],
   "source": [
    "test_out = copy.deepcopy(darae_out)\n",
    "test_out.columns = ['일자','시각','차량번호','주차일련번호','입출차카드번호','장비명','입출차구분','입출차고객구분','출차여부','차량종류','주차장']\n",
    "test_out['입출차여부'] = '출차'\n",
    "test_out[test_out['장비명'].str.contains('입구')]['입출차카드번호'].value_counts()"
   ],
   "metadata": {
    "collapsed": false
   }
  },
  {
   "cell_type": "code",
   "execution_count": null,
   "outputs": [],
   "source": [
    "df = pd.concat([test_in, test_out]).sort_values(by=['차량번호','일자','시각'])#[['차량번호','입출차여부','일자','시각','입출차구분','출차여부','장비명']]"
   ],
   "metadata": {
    "collapsed": false
   }
  },
  {
   "cell_type": "code",
   "execution_count": null,
   "outputs": [],
   "source": [
    "import datetime\n",
    "df['입출차시각'] = df['일자'] + df['시각']\n",
    "df['입출차시각'] = pd.to_datetime(df['입출차시각'], format= '%Y-%m-%d %H:%M:%S', errors='raise')\n",
    "df['시'] = df['입출차시각'].dt.hour\n",
    "df.reset_index(inplace = True)"
   ],
   "metadata": {
    "collapsed": false
   }
  },
  {
   "cell_type": "code",
   "execution_count": null,
   "outputs": [],
   "source": [
    "df"
   ],
   "metadata": {
    "collapsed": false
   }
  },
  {
   "cell_type": "markdown",
   "source": [
    "# 입차시간 == 출차시간인 경우 파악하기\n",
    "- 입차시간 == 출차시간인 경우 입차로간주하고 출차 제거하기"
   ],
   "metadata": {
    "collapsed": false
   }
  },
  {
   "cell_type": "code",
   "execution_count": null,
   "outputs": [],
   "source": [
    "car_arr = np.array(df[['일자','시각','차량번호']])\n",
    "car_arr"
   ],
   "metadata": {
    "collapsed": false
   }
  },
  {
   "cell_type": "code",
   "execution_count": null,
   "outputs": [],
   "source": [
    "test_idx_list =[]\n",
    "for idx in range(len(car_arr)-1):\n",
    "    if car_arr[idx][0] == car_arr[idx+1][0] and car_arr[idx][1] == car_arr[idx+1][1] and car_arr[idx][2] == car_arr[idx+1][2]:\n",
    "        test_idx_list.append(idx)\n",
    "        test_idx_list.append(idx+1)\n",
    "        #test_idx_list.append(idx+2)\n",
    "test_idx_list = list(set(test_idx_list))\n",
    "test_df = df.loc[test_idx_list]\n",
    "eleminate_index = test_df[test_df['입출차여부']=='출차'].index\n",
    "df2 = df.drop(eleminate_index)\n",
    "df2.drop(['index'],axis = 1 , inplace = True)\n",
    "df2.reset_index(inplace=True)\n",
    "df2.drop(['index'],axis = 1 , inplace = True)\n",
    "df2"
   ],
   "metadata": {
    "collapsed": false
   }
  },
  {
   "cell_type": "code",
   "execution_count": null,
   "outputs": [],
   "source": [
    "test_df[test_df['차량번호'] == '85부3062']\n"
   ],
   "metadata": {
    "collapsed": false
   }
  },
  {
   "cell_type": "markdown",
   "source": [
    "# 데이터 전처리\n",
    "- 아침시간이니 입차시간 == 출차시간인 경우 입차로 가정\n",
    "- 차량 번호별로 입차1,입차2,.....출차,출차 인경우  >>  입차1, 출차로\n",
    "- 입차1,입차2,입차3, 출차 >>> 입차3, 출차 로해야하는게 맞는듯?\n",
    "- 아니면 출차 주차장 기준으로 하든가"
   ],
   "metadata": {
    "collapsed": false
   }
  },
  {
   "cell_type": "code",
   "execution_count": null,
   "outputs": [],
   "source": [
    "car_arr = np.array(df2[['차량번호','입출차여부','시각']])\n",
    "idx_list = []\n",
    "for idx in range(len(car_arr)):\n",
    "    if idx == 0 :\n",
    "        idx_list.append(idx)\n",
    "    else :  # 차량 번호가 같고 상태가 다른 경우(입차 > 출차 or 출차 > 입차)\n",
    "        if (car_arr[idx][0] == car_arr[idx-1][0]) and (car_arr[idx][1]!=car_arr[idx-1][1]):\n",
    "            idx_list.append(idx)\n",
    "\n",
    "            #차량번호가 바뀌는 경우\n",
    "        elif car_arr[idx][0] != car_arr[idx-1][0]:\n",
    "            idx_list.append(idx)\n",
    "\n"
   ],
   "metadata": {
    "collapsed": false
   }
  },
  {
   "cell_type": "code",
   "execution_count": null,
   "outputs": [],
   "source": [
    "process_df = df2.loc[idx_list]\n",
    "process_df[process_df['차량번호'] == '85부3062']"
   ],
   "metadata": {
    "collapsed": false
   }
  },
  {
   "cell_type": "code",
   "execution_count": null,
   "outputs": [],
   "source": [
    "process_df = df2.loc[idx_list]\n",
    "process_df['입출차여부'].value_counts()\n",
    "\n",
    "process_df['연'] = process_df['입출차시각'].dt.year\n",
    "process_df['월'] = process_df['입출차시각'].dt.month\n",
    "process_df['일'] = process_df['입출차시각'].dt.day\n",
    "process_df['시'] = process_df['입출차시각'].dt.hour\n",
    "process_df['분'] = process_df['입출차시각'].dt.minute\n",
    "process_df['초'] = process_df['입출차시각'].dt.second\n",
    "process_df = process_df[(process_df['시']>=7) & (process_df['시']<=9)]\n",
    "process_df"
   ],
   "metadata": {
    "collapsed": false
   }
  },
  {
   "cell_type": "code",
   "execution_count": null,
   "outputs": [],
   "source": [
    "test = process_df[process_df['일']==15]\n",
    "test[test['주차장']=='13동']['입출차여부'].value_counts()"
   ],
   "metadata": {
    "collapsed": false
   }
  },
  {
   "cell_type": "code",
   "execution_count": null,
   "outputs": [],
   "source": [
    "parking_info = pd.read_excel('주차장면수.xlsx')\n",
    "parking_info"
   ],
   "metadata": {
    "collapsed": false
   }
  },
  {
   "cell_type": "markdown",
   "source": [
    "# 데이터셋 생성"
   ],
   "metadata": {
    "collapsed": false
   }
  },
  {
   "cell_type": "code",
   "execution_count": null,
   "outputs": [],
   "source": [
    "dataset = pd.merge(process_df,parking_info[['장소','합계']], left_on='주차장', right_on='장소')"
   ],
   "metadata": {
    "collapsed": false
   }
  },
  {
   "cell_type": "code",
   "execution_count": null,
   "outputs": [],
   "source": [
    "dataset = dataset[['입출차시각','연','월','일','시','분','초','입출차여부','주차장','합계']]"
   ],
   "metadata": {
    "collapsed": false
   }
  },
  {
   "cell_type": "code",
   "execution_count": null,
   "outputs": [],
   "source": [
    "dataset = dataset.sort_values(by = ['주차장','입출차시각'])\n",
    "dataset['잔류차량수'] = 0"
   ],
   "metadata": {
    "collapsed": false
   }
  },
  {
   "cell_type": "code",
   "execution_count": null,
   "outputs": [],
   "source": [
    "dataset"
   ],
   "metadata": {
    "collapsed": false
   }
  },
  {
   "cell_type": "code",
   "execution_count": null,
   "outputs": [],
   "source": [
    "arr = np.array(dataset[['연','월','일','시','분','입출차여부','주차장','잔류차량수']])\n",
    "arr"
   ],
   "metadata": {
    "collapsed": false
   }
  },
  {
   "cell_type": "code",
   "execution_count": null,
   "outputs": [],
   "source": [
    "for idx in range(len(arr)):\n",
    "    if idx == 0 :\n",
    "        if arr[idx][5] == '입차' :\n",
    "            arr[idx][7] = arr[idx][7] +1\n",
    "        else :\n",
    "            arr[idx][7] = arr[idx][7] -1\n",
    "    else :\n",
    "        pre_time = list(arr[idx-1][[0,1,2,6]])\n",
    "        now_time = list(arr[idx][[0,1,2,6]])\n",
    "        status =  arr[idx][5]\n",
    "            # 이전 데이터와 연,월,일 주차장이 같은 경우\n",
    "        if pre_time == now_time :\n",
    "            #print('>')\n",
    "            if status == '입차' :\n",
    "                arr[idx][7] = arr[idx-1][7] +1\n",
    "            else :\n",
    "                arr[idx][7] = arr[idx-1][7] -1\n",
    "\n",
    "            #이전 데이터와 연,월,일 주차장이 다른 경우 > 0부터 시작함\n",
    "        else :\n",
    "            if status == '입차':\n",
    "                arr[idx][7] =1\n",
    "            else :\n",
    "                arr[idx][7] = -1\n"
   ],
   "metadata": {
    "collapsed": false
   }
  },
  {
   "cell_type": "code",
   "execution_count": null,
   "outputs": [],
   "source": [
    "dataset[['연','월','일','시','분','입출차여부','주차장','잔류차량수']] = arr\n",
    "dataset"
   ],
   "metadata": {
    "collapsed": false
   }
  },
  {
   "cell_type": "markdown",
   "source": [
    "# 혼잡도 만들기"
   ],
   "metadata": {
    "collapsed": false
   }
  },
  {
   "cell_type": "code",
   "execution_count": null,
   "outputs": [],
   "source": [
    "pd.options.display.float_format = '{:.5f}'.format\n",
    "dataset['비율']=dataset['잔류차량수']/dataset['합계']\n",
    "\n",
    "def confusion(df):\n",
    "    if df['비율'] <= 0.3 :\n",
    "        return 0\n",
    "    elif df['비율'] <= 0.5 :\n",
    "        return 1\n",
    "    elif df['비율'] <= 0.8 :\n",
    "        return 2\n",
    "    else :\n",
    "        return 3\n",
    "\n",
    "dataset['혼잡도']=dataset.apply(confusion,axis=1)\n",
    "dataset"
   ],
   "metadata": {
    "collapsed": false
   }
  },
  {
   "cell_type": "markdown",
   "source": [
    "# 날씨데이터 붙이기"
   ],
   "metadata": {
    "collapsed": false
   }
  },
  {
   "cell_type": "code",
   "execution_count": null,
   "outputs": [],
   "source": [
    "# whether csv read, 일시를 index로 넣고 datetime 형태로 변환함\n",
    "whether = pd.read_csv(data_path +'Whether.csv', encoding='euc-kr', parse_dates=['일시'], index_col='일시')\n",
    "# 강수량, 적설이 null인 경우 모두 0으로 바꿈\n",
    "whether = whether.fillna(0)\n",
    "# 일시의 freq을 hour로 변경\n",
    "whether.index.freq = 'h'\n",
    "\n",
    "'''\n",
    "데이터가 누락된 시간을 확인하기 위한 부분 (파일로 받은 경우)\n",
    "API로 받는 경우 날짜는 있지만 모든 데이터가 Null값이기 때문에 해당 조건으로 수정해야 할 것으로 보임\n",
    "\n",
    "j = whether.index[0]\n",
    "for i in whether.index:\n",
    "    if i != j + pd.Timedelta(\"1 hour\"):\n",
    "        print(j, i)\n",
    "    j = i\n",
    "'''\n",
    "# 지점코드, 지점명을 없앰\n",
    "whether = whether.iloc[:, [2,3,4,5,6]]\n",
    "whether\n",
    "\n",
    "\n",
    "whether = whether.reset_index()\n",
    "whether['연'] = whether['일시'].dt.year\n",
    "whether['월'] = whether['일시'].dt.month\n",
    "whether['일'] = whether['일시'].dt.day\n",
    "whether['시'] = whether['일시'].dt.hour\n",
    "whether"
   ],
   "metadata": {
    "collapsed": false
   }
  },
  {
   "cell_type": "code",
   "execution_count": null,
   "outputs": [],
   "source": [
    "dataset = pd.merge(dataset,whether, on =['연','월','일','시'], how= 'left')\n",
    "dataset"
   ],
   "metadata": {
    "collapsed": false
   }
  },
  {
   "cell_type": "code",
   "execution_count": null,
   "outputs": [],
   "source": [
    "import holidays\n",
    "kr_holidays = holidays.KR()\n",
    "def holiday_check(x):\n",
    "    if x in kr_holidays:\n",
    "        return 1\n",
    "    else :\n",
    "        return 0\n",
    "\n",
    "\n",
    "dataset['공휴일'] = dataset['입출차시각'].apply(holiday_check)\n",
    "일\n",
    "dataset"
   ],
   "metadata": {
    "collapsed": false
   }
  },
  {
   "cell_type": "code",
   "execution_count": null,
   "outputs": [],
   "source": [
    "dataset = dataset[['입출차시각', '연', '월', '일', '시', '분','초','공휴일','요일','주차장',\n",
    "         '기온(°C)', '강수량(mm)', '풍속(m/s)', '습도(%)', '적설(cm)',\n",
    "         '잔류차량수', '비율','혼잡도']]\n",
    "# 날짜 매칭이 안되는 데이터들 제거\n",
    "dataset = dataset.dropna()"
   ],
   "metadata": {
    "collapsed": false
   }
  },
  {
   "cell_type": "code",
   "execution_count": null,
   "outputs": [],
   "source": [
    "#dataset.to_csv('dataset_darae.csv')"
   ],
   "metadata": {
    "collapsed": false
   }
  },
  {
   "cell_type": "code",
   "execution_count": 214,
   "outputs": [
    {
     "data": {
      "text/plain": "                    입출차시각     연  월   일  시   분   초  공휴일  요일  주차장   기온(°C)  \\\n0     2022-09-01 07:07:31  2022  9   1  7   7  31    0   3  12동 20.20000   \n1     2022-09-01 07:17:42  2022  9   1  7  17  42    0   3  12동 20.20000   \n2     2022-09-01 07:18:36  2022  9   1  7  18  36    0   3  12동 20.20000   \n3     2022-09-01 07:35:54  2022  9   1  7  35  54    0   3  12동 20.20000   \n4     2022-09-01 07:35:58  2022  9   1  7  35  58    0   3  12동 20.20000   \n...                   ...   ... ..  .. ..  ..  ..  ...  ..  ...      ...   \n15518 2022-09-30 09:02:40  2022  9  30  9   2  40    0   4  15동 14.30000   \n15519 2022-09-30 09:02:46  2022  9  30  9   2  46    0   4  15동 14.30000   \n15520 2022-09-30 09:03:58  2022  9  30  9   3  58    0   4  15동 14.30000   \n15521 2022-09-30 09:04:03  2022  9  30  9   4   3    0   4  15동 14.30000   \n15522 2022-09-30 09:27:07  2022  9  30  9  27   7    0   4  15동 14.30000   \n\n       강수량(mm)  풍속(m/s)    습도(%)  적설(cm) 잔류차량수      비율  혼잡도  \n0      0.00000  0.90000 94.00000 0.00000     1 0.01220    0  \n1      0.00000  0.90000 94.00000 0.00000     2 0.02439    0  \n2      0.00000  0.90000 94.00000 0.00000     3 0.03659    0  \n3      0.00000  0.90000 94.00000 0.00000     4 0.04878    0  \n4      0.00000  0.90000 94.00000 0.00000     3 0.03659    0  \n...        ...      ...      ...     ...   ...     ...  ...  \n15518  0.00000  0.40000 95.00000 0.00000    72 0.35821    1  \n15519  0.00000  0.40000 95.00000 0.00000    73 0.36318    1  \n15520  0.00000  0.40000 95.00000 0.00000    74 0.36816    1  \n15521  0.00000  0.40000 95.00000 0.00000    75 0.37313    1  \n15522  0.00000  0.40000 95.00000 0.00000    74 0.36816    1  \n\n[14244 rows x 18 columns]",
      "text/html": "<div>\n<style scoped>\n    .dataframe tbody tr th:only-of-type {\n        vertical-align: middle;\n    }\n\n    .dataframe tbody tr th {\n        vertical-align: top;\n    }\n\n    .dataframe thead th {\n        text-align: right;\n    }\n</style>\n<table border=\"1\" class=\"dataframe\">\n  <thead>\n    <tr style=\"text-align: right;\">\n      <th></th>\n      <th>입출차시각</th>\n      <th>연</th>\n      <th>월</th>\n      <th>일</th>\n      <th>시</th>\n      <th>분</th>\n      <th>초</th>\n      <th>공휴일</th>\n      <th>요일</th>\n      <th>주차장</th>\n      <th>기온(°C)</th>\n      <th>강수량(mm)</th>\n      <th>풍속(m/s)</th>\n      <th>습도(%)</th>\n      <th>적설(cm)</th>\n      <th>잔류차량수</th>\n      <th>비율</th>\n      <th>혼잡도</th>\n    </tr>\n  </thead>\n  <tbody>\n    <tr>\n      <th>0</th>\n      <td>2022-09-01 07:07:31</td>\n      <td>2022</td>\n      <td>9</td>\n      <td>1</td>\n      <td>7</td>\n      <td>7</td>\n      <td>31</td>\n      <td>0</td>\n      <td>3</td>\n      <td>12동</td>\n      <td>20.20000</td>\n      <td>0.00000</td>\n      <td>0.90000</td>\n      <td>94.00000</td>\n      <td>0.00000</td>\n      <td>1</td>\n      <td>0.01220</td>\n      <td>0</td>\n    </tr>\n    <tr>\n      <th>1</th>\n      <td>2022-09-01 07:17:42</td>\n      <td>2022</td>\n      <td>9</td>\n      <td>1</td>\n      <td>7</td>\n      <td>17</td>\n      <td>42</td>\n      <td>0</td>\n      <td>3</td>\n      <td>12동</td>\n      <td>20.20000</td>\n      <td>0.00000</td>\n      <td>0.90000</td>\n      <td>94.00000</td>\n      <td>0.00000</td>\n      <td>2</td>\n      <td>0.02439</td>\n      <td>0</td>\n    </tr>\n    <tr>\n      <th>2</th>\n      <td>2022-09-01 07:18:36</td>\n      <td>2022</td>\n      <td>9</td>\n      <td>1</td>\n      <td>7</td>\n      <td>18</td>\n      <td>36</td>\n      <td>0</td>\n      <td>3</td>\n      <td>12동</td>\n      <td>20.20000</td>\n      <td>0.00000</td>\n      <td>0.90000</td>\n      <td>94.00000</td>\n      <td>0.00000</td>\n      <td>3</td>\n      <td>0.03659</td>\n      <td>0</td>\n    </tr>\n    <tr>\n      <th>3</th>\n      <td>2022-09-01 07:35:54</td>\n      <td>2022</td>\n      <td>9</td>\n      <td>1</td>\n      <td>7</td>\n      <td>35</td>\n      <td>54</td>\n      <td>0</td>\n      <td>3</td>\n      <td>12동</td>\n      <td>20.20000</td>\n      <td>0.00000</td>\n      <td>0.90000</td>\n      <td>94.00000</td>\n      <td>0.00000</td>\n      <td>4</td>\n      <td>0.04878</td>\n      <td>0</td>\n    </tr>\n    <tr>\n      <th>4</th>\n      <td>2022-09-01 07:35:58</td>\n      <td>2022</td>\n      <td>9</td>\n      <td>1</td>\n      <td>7</td>\n      <td>35</td>\n      <td>58</td>\n      <td>0</td>\n      <td>3</td>\n      <td>12동</td>\n      <td>20.20000</td>\n      <td>0.00000</td>\n      <td>0.90000</td>\n      <td>94.00000</td>\n      <td>0.00000</td>\n      <td>3</td>\n      <td>0.03659</td>\n      <td>0</td>\n    </tr>\n    <tr>\n      <th>...</th>\n      <td>...</td>\n      <td>...</td>\n      <td>...</td>\n      <td>...</td>\n      <td>...</td>\n      <td>...</td>\n      <td>...</td>\n      <td>...</td>\n      <td>...</td>\n      <td>...</td>\n      <td>...</td>\n      <td>...</td>\n      <td>...</td>\n      <td>...</td>\n      <td>...</td>\n      <td>...</td>\n      <td>...</td>\n      <td>...</td>\n    </tr>\n    <tr>\n      <th>15518</th>\n      <td>2022-09-30 09:02:40</td>\n      <td>2022</td>\n      <td>9</td>\n      <td>30</td>\n      <td>9</td>\n      <td>2</td>\n      <td>40</td>\n      <td>0</td>\n      <td>4</td>\n      <td>15동</td>\n      <td>14.30000</td>\n      <td>0.00000</td>\n      <td>0.40000</td>\n      <td>95.00000</td>\n      <td>0.00000</td>\n      <td>72</td>\n      <td>0.35821</td>\n      <td>1</td>\n    </tr>\n    <tr>\n      <th>15519</th>\n      <td>2022-09-30 09:02:46</td>\n      <td>2022</td>\n      <td>9</td>\n      <td>30</td>\n      <td>9</td>\n      <td>2</td>\n      <td>46</td>\n      <td>0</td>\n      <td>4</td>\n      <td>15동</td>\n      <td>14.30000</td>\n      <td>0.00000</td>\n      <td>0.40000</td>\n      <td>95.00000</td>\n      <td>0.00000</td>\n      <td>73</td>\n      <td>0.36318</td>\n      <td>1</td>\n    </tr>\n    <tr>\n      <th>15520</th>\n      <td>2022-09-30 09:03:58</td>\n      <td>2022</td>\n      <td>9</td>\n      <td>30</td>\n      <td>9</td>\n      <td>3</td>\n      <td>58</td>\n      <td>0</td>\n      <td>4</td>\n      <td>15동</td>\n      <td>14.30000</td>\n      <td>0.00000</td>\n      <td>0.40000</td>\n      <td>95.00000</td>\n      <td>0.00000</td>\n      <td>74</td>\n      <td>0.36816</td>\n      <td>1</td>\n    </tr>\n    <tr>\n      <th>15521</th>\n      <td>2022-09-30 09:04:03</td>\n      <td>2022</td>\n      <td>9</td>\n      <td>30</td>\n      <td>9</td>\n      <td>4</td>\n      <td>3</td>\n      <td>0</td>\n      <td>4</td>\n      <td>15동</td>\n      <td>14.30000</td>\n      <td>0.00000</td>\n      <td>0.40000</td>\n      <td>95.00000</td>\n      <td>0.00000</td>\n      <td>75</td>\n      <td>0.37313</td>\n      <td>1</td>\n    </tr>\n    <tr>\n      <th>15522</th>\n      <td>2022-09-30 09:27:07</td>\n      <td>2022</td>\n      <td>9</td>\n      <td>30</td>\n      <td>9</td>\n      <td>27</td>\n      <td>7</td>\n      <td>0</td>\n      <td>4</td>\n      <td>15동</td>\n      <td>14.30000</td>\n      <td>0.00000</td>\n      <td>0.40000</td>\n      <td>95.00000</td>\n      <td>0.00000</td>\n      <td>74</td>\n      <td>0.36816</td>\n      <td>1</td>\n    </tr>\n  </tbody>\n</table>\n<p>14244 rows × 18 columns</p>\n</div>"
     },
     "execution_count": 214,
     "metadata": {},
     "output_type": "execute_result"
    }
   ],
   "source": [
    "dataset"
   ],
   "metadata": {
    "collapsed": false
   }
  },
  {
   "cell_type": "code",
   "execution_count": null,
   "outputs": [],
   "source": [],
   "metadata": {
    "collapsed": false
   }
  },
  {
   "cell_type": "markdown",
   "source": [
    "# 보정하기\n",
    " - 잔류차량수 >주차면수 인 경우 어떻게??\n",
    "-  생각해봐야함"
   ],
   "metadata": {
    "collapsed": false
   }
  },
  {
   "cell_type": "code",
   "execution_count": null,
   "outputs": [],
   "source": [
    "a = dataset.groupby(['연','월','일','주차장'])['잔류차량수','합계'].max()\n",
    "a=pd.DataFrame(a)\n",
    "a.reset_index(inplace=True)"
   ],
   "metadata": {
    "collapsed": false
   }
  },
  {
   "cell_type": "code",
   "execution_count": null,
   "outputs": [],
   "source": [
    "a['전체-잔류'] = a['합계'] - a['잔류차량수']\n",
    "a"
   ],
   "metadata": {
    "collapsed": false
   }
  }
 ],
 "metadata": {
  "kernelspec": {
   "display_name": "Python 3.8.8 ('base')",
   "language": "python",
   "name": "python3"
  },
  "language_info": {
   "codemirror_mode": {
    "name": "ipython",
    "version": 3
   },
   "file_extension": ".py",
   "mimetype": "text/x-python",
   "name": "python",
   "nbconvert_exporter": "python",
   "pygments_lexer": "ipython3",
   "version": "3.8.8"
  },
  "vscode": {
   "interpreter": {
    "hash": "86aa80caba646de5c5fbfa482f3005816722fa12a16cb3031e5ebf46eef177a2"
   }
  }
 },
 "nbformat": 4,
 "nbformat_minor": 5
}

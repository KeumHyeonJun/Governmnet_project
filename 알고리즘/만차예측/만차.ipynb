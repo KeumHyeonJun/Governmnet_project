{
 "cells": [
  {
   "cell_type": "code",
   "execution_count": 63,
   "metadata": {
    "collapsed": true
   },
   "outputs": [],
   "source": [
    "import pandas as pd"
   ]
  },
  {
   "cell_type": "code",
   "execution_count": 64,
   "outputs": [
    {
     "data": {
      "text/plain": "       Unnamed: 0                입출차시각     연  월   일  시   분   초  공휴일  요일  주차장  \\\n0               0  2022-09-01 07:07:31  2022  9   1  7   7  31    0   3  12동   \n1               1  2022-09-01 07:17:42  2022  9   1  7  17  42    0   3  12동   \n2               2  2022-09-01 07:18:36  2022  9   1  7  18  36    0   3  12동   \n3               3  2022-09-01 07:35:54  2022  9   1  7  35  54    0   3  12동   \n4               4  2022-09-01 07:35:58  2022  9   1  7  35  58    0   3  12동   \n...           ...                  ...   ... ..  .. ..  ..  ..  ...  ..  ...   \n14239       15518  2022-09-30 09:02:40  2022  9  30  9   2  40    0   4  15동   \n14240       15519  2022-09-30 09:02:46  2022  9  30  9   2  46    0   4  15동   \n14241       15520  2022-09-30 09:03:58  2022  9  30  9   3  58    0   4  15동   \n14242       15521  2022-09-30 09:04:03  2022  9  30  9   4   3    0   4  15동   \n14243       15522  2022-09-30 09:27:07  2022  9  30  9  27   7    0   4  15동   \n\n       기온(°C)  강수량(mm)  풍속(m/s)  습도(%)  적설(cm)  잔류차량수        비율  혼잡도  \n0        20.2      0.0      0.9   94.0     0.0      1  0.012195    0  \n1        20.2      0.0      0.9   94.0     0.0      2  0.024390    0  \n2        20.2      0.0      0.9   94.0     0.0      3  0.036585    0  \n3        20.2      0.0      0.9   94.0     0.0      4  0.048780    0  \n4        20.2      0.0      0.9   94.0     0.0      3  0.036585    0  \n...       ...      ...      ...    ...     ...    ...       ...  ...  \n14239    14.3      0.0      0.4   95.0     0.0     72  0.358209    1  \n14240    14.3      0.0      0.4   95.0     0.0     73  0.363184    1  \n14241    14.3      0.0      0.4   95.0     0.0     74  0.368159    1  \n14242    14.3      0.0      0.4   95.0     0.0     75  0.373134    1  \n14243    14.3      0.0      0.4   95.0     0.0     74  0.368159    1  \n\n[14244 rows x 19 columns]",
      "text/html": "<div>\n<style scoped>\n    .dataframe tbody tr th:only-of-type {\n        vertical-align: middle;\n    }\n\n    .dataframe tbody tr th {\n        vertical-align: top;\n    }\n\n    .dataframe thead th {\n        text-align: right;\n    }\n</style>\n<table border=\"1\" class=\"dataframe\">\n  <thead>\n    <tr style=\"text-align: right;\">\n      <th></th>\n      <th>Unnamed: 0</th>\n      <th>입출차시각</th>\n      <th>연</th>\n      <th>월</th>\n      <th>일</th>\n      <th>시</th>\n      <th>분</th>\n      <th>초</th>\n      <th>공휴일</th>\n      <th>요일</th>\n      <th>주차장</th>\n      <th>기온(°C)</th>\n      <th>강수량(mm)</th>\n      <th>풍속(m/s)</th>\n      <th>습도(%)</th>\n      <th>적설(cm)</th>\n      <th>잔류차량수</th>\n      <th>비율</th>\n      <th>혼잡도</th>\n    </tr>\n  </thead>\n  <tbody>\n    <tr>\n      <th>0</th>\n      <td>0</td>\n      <td>2022-09-01 07:07:31</td>\n      <td>2022</td>\n      <td>9</td>\n      <td>1</td>\n      <td>7</td>\n      <td>7</td>\n      <td>31</td>\n      <td>0</td>\n      <td>3</td>\n      <td>12동</td>\n      <td>20.2</td>\n      <td>0.0</td>\n      <td>0.9</td>\n      <td>94.0</td>\n      <td>0.0</td>\n      <td>1</td>\n      <td>0.012195</td>\n      <td>0</td>\n    </tr>\n    <tr>\n      <th>1</th>\n      <td>1</td>\n      <td>2022-09-01 07:17:42</td>\n      <td>2022</td>\n      <td>9</td>\n      <td>1</td>\n      <td>7</td>\n      <td>17</td>\n      <td>42</td>\n      <td>0</td>\n      <td>3</td>\n      <td>12동</td>\n      <td>20.2</td>\n      <td>0.0</td>\n      <td>0.9</td>\n      <td>94.0</td>\n      <td>0.0</td>\n      <td>2</td>\n      <td>0.024390</td>\n      <td>0</td>\n    </tr>\n    <tr>\n      <th>2</th>\n      <td>2</td>\n      <td>2022-09-01 07:18:36</td>\n      <td>2022</td>\n      <td>9</td>\n      <td>1</td>\n      <td>7</td>\n      <td>18</td>\n      <td>36</td>\n      <td>0</td>\n      <td>3</td>\n      <td>12동</td>\n      <td>20.2</td>\n      <td>0.0</td>\n      <td>0.9</td>\n      <td>94.0</td>\n      <td>0.0</td>\n      <td>3</td>\n      <td>0.036585</td>\n      <td>0</td>\n    </tr>\n    <tr>\n      <th>3</th>\n      <td>3</td>\n      <td>2022-09-01 07:35:54</td>\n      <td>2022</td>\n      <td>9</td>\n      <td>1</td>\n      <td>7</td>\n      <td>35</td>\n      <td>54</td>\n      <td>0</td>\n      <td>3</td>\n      <td>12동</td>\n      <td>20.2</td>\n      <td>0.0</td>\n      <td>0.9</td>\n      <td>94.0</td>\n      <td>0.0</td>\n      <td>4</td>\n      <td>0.048780</td>\n      <td>0</td>\n    </tr>\n    <tr>\n      <th>4</th>\n      <td>4</td>\n      <td>2022-09-01 07:35:58</td>\n      <td>2022</td>\n      <td>9</td>\n      <td>1</td>\n      <td>7</td>\n      <td>35</td>\n      <td>58</td>\n      <td>0</td>\n      <td>3</td>\n      <td>12동</td>\n      <td>20.2</td>\n      <td>0.0</td>\n      <td>0.9</td>\n      <td>94.0</td>\n      <td>0.0</td>\n      <td>3</td>\n      <td>0.036585</td>\n      <td>0</td>\n    </tr>\n    <tr>\n      <th>...</th>\n      <td>...</td>\n      <td>...</td>\n      <td>...</td>\n      <td>...</td>\n      <td>...</td>\n      <td>...</td>\n      <td>...</td>\n      <td>...</td>\n      <td>...</td>\n      <td>...</td>\n      <td>...</td>\n      <td>...</td>\n      <td>...</td>\n      <td>...</td>\n      <td>...</td>\n      <td>...</td>\n      <td>...</td>\n      <td>...</td>\n      <td>...</td>\n    </tr>\n    <tr>\n      <th>14239</th>\n      <td>15518</td>\n      <td>2022-09-30 09:02:40</td>\n      <td>2022</td>\n      <td>9</td>\n      <td>30</td>\n      <td>9</td>\n      <td>2</td>\n      <td>40</td>\n      <td>0</td>\n      <td>4</td>\n      <td>15동</td>\n      <td>14.3</td>\n      <td>0.0</td>\n      <td>0.4</td>\n      <td>95.0</td>\n      <td>0.0</td>\n      <td>72</td>\n      <td>0.358209</td>\n      <td>1</td>\n    </tr>\n    <tr>\n      <th>14240</th>\n      <td>15519</td>\n      <td>2022-09-30 09:02:46</td>\n      <td>2022</td>\n      <td>9</td>\n      <td>30</td>\n      <td>9</td>\n      <td>2</td>\n      <td>46</td>\n      <td>0</td>\n      <td>4</td>\n      <td>15동</td>\n      <td>14.3</td>\n      <td>0.0</td>\n      <td>0.4</td>\n      <td>95.0</td>\n      <td>0.0</td>\n      <td>73</td>\n      <td>0.363184</td>\n      <td>1</td>\n    </tr>\n    <tr>\n      <th>14241</th>\n      <td>15520</td>\n      <td>2022-09-30 09:03:58</td>\n      <td>2022</td>\n      <td>9</td>\n      <td>30</td>\n      <td>9</td>\n      <td>3</td>\n      <td>58</td>\n      <td>0</td>\n      <td>4</td>\n      <td>15동</td>\n      <td>14.3</td>\n      <td>0.0</td>\n      <td>0.4</td>\n      <td>95.0</td>\n      <td>0.0</td>\n      <td>74</td>\n      <td>0.368159</td>\n      <td>1</td>\n    </tr>\n    <tr>\n      <th>14242</th>\n      <td>15521</td>\n      <td>2022-09-30 09:04:03</td>\n      <td>2022</td>\n      <td>9</td>\n      <td>30</td>\n      <td>9</td>\n      <td>4</td>\n      <td>3</td>\n      <td>0</td>\n      <td>4</td>\n      <td>15동</td>\n      <td>14.3</td>\n      <td>0.0</td>\n      <td>0.4</td>\n      <td>95.0</td>\n      <td>0.0</td>\n      <td>75</td>\n      <td>0.373134</td>\n      <td>1</td>\n    </tr>\n    <tr>\n      <th>14243</th>\n      <td>15522</td>\n      <td>2022-09-30 09:27:07</td>\n      <td>2022</td>\n      <td>9</td>\n      <td>30</td>\n      <td>9</td>\n      <td>27</td>\n      <td>7</td>\n      <td>0</td>\n      <td>4</td>\n      <td>15동</td>\n      <td>14.3</td>\n      <td>0.0</td>\n      <td>0.4</td>\n      <td>95.0</td>\n      <td>0.0</td>\n      <td>74</td>\n      <td>0.368159</td>\n      <td>1</td>\n    </tr>\n  </tbody>\n</table>\n<p>14244 rows × 19 columns</p>\n</div>"
     },
     "execution_count": 64,
     "metadata": {},
     "output_type": "execute_result"
    }
   ],
   "source": [
    "df = pd.read_csv('dataset_darae.csv')\n",
    "df"
   ],
   "metadata": {
    "collapsed": false
   }
  },
  {
   "cell_type": "code",
   "execution_count": 65,
   "outputs": [
    {
     "data": {
      "text/plain": "14동    5204\n12동    4274\n13동    3275\n15동    1491\nName: 주차장, dtype: int64"
     },
     "execution_count": 65,
     "metadata": {},
     "output_type": "execute_result"
    }
   ],
   "source": [
    "df['주차장'].value_counts()"
   ],
   "metadata": {
    "collapsed": false
   }
  },
  {
   "cell_type": "code",
   "execution_count": 66,
   "outputs": [],
   "source": [
    "def parking(x):\n",
    "    if x =='15동':\n",
    "        return 15\n",
    "    elif x == '14동':\n",
    "        return 14\n",
    "    elif x == '13동':\n",
    "        return 13\n",
    "    elif x == '12동':\n",
    "        return 12\n",
    "df['주차장'] = df['주차장'].apply(parking)"
   ],
   "metadata": {
    "collapsed": false
   }
  },
  {
   "cell_type": "code",
   "execution_count": 67,
   "outputs": [],
   "source": [
    "import optuna\n",
    "from lightgbm import LGBMClassifier\n",
    "from sklearn.metrics import mean_absolute_error, mean_squared_error\n",
    "from lightgbm import LGBMRegressor\n",
    "from datetime import datetime\n",
    "from sklearn.model_selection import train_test_split"
   ],
   "metadata": {
    "collapsed": false
   }
  },
  {
   "cell_type": "code",
   "execution_count": 78,
   "outputs": [],
   "source": [
    "train_data = df[df['일']<=20]\n",
    "test_data = df[df['일']>20]"
   ],
   "metadata": {
    "collapsed": false
   }
  },
  {
   "cell_type": "code",
   "execution_count": 79,
   "outputs": [],
   "source": [
    "X_train , y_train = train_data.iloc[: , 2:16], train_data['혼잡도']\n",
    "X_test , y_test = test_data.iloc[: , 2:16], test_data['혼잡도']\n"
   ],
   "metadata": {
    "collapsed": false
   }
  },
  {
   "cell_type": "code",
   "execution_count": 80,
   "outputs": [
    {
     "data": {
      "text/plain": "          연  월   일  시   분   초  공휴일  요일  주차장  기온(°C)  강수량(mm)  풍속(m/s)  습도(%)  \\\n0      2022  9   1  7   7  31    0   3   12    20.2      0.0      0.9   94.0   \n1      2022  9   1  7  17  42    0   3   12    20.2      0.0      0.9   94.0   \n2      2022  9   1  7  18  36    0   3   12    20.2      0.0      0.9   94.0   \n3      2022  9   1  7  35  54    0   3   12    20.2      0.0      0.9   94.0   \n4      2022  9   1  7  35  58    0   3   12    20.2      0.0      0.9   94.0   \n...     ... ..  .. ..  ..  ..  ...  ..  ...     ...      ...      ...    ...   \n13561  2022  9  20  8  47   5    0   1   15    19.3      0.0      1.2   65.0   \n13562  2022  9  20  8  51  22    0   1   15    19.3      0.0      1.2   65.0   \n13563  2022  9  20  8  52  19    0   1   15    19.3      0.0      1.2   65.0   \n13564  2022  9  20  8  52  43    0   1   15    19.3      0.0      1.2   65.0   \n13565  2022  9  20  9  50  23    0   1   15    20.2      0.0      2.0   57.0   \n\n       적설(cm)  \n0         0.0  \n1         0.0  \n2         0.0  \n3         0.0  \n4         0.0  \n...       ...  \n13561     0.0  \n13562     0.0  \n13563     0.0  \n13564     0.0  \n13565     0.0  \n\n[8749 rows x 14 columns]",
      "text/html": "<div>\n<style scoped>\n    .dataframe tbody tr th:only-of-type {\n        vertical-align: middle;\n    }\n\n    .dataframe tbody tr th {\n        vertical-align: top;\n    }\n\n    .dataframe thead th {\n        text-align: right;\n    }\n</style>\n<table border=\"1\" class=\"dataframe\">\n  <thead>\n    <tr style=\"text-align: right;\">\n      <th></th>\n      <th>연</th>\n      <th>월</th>\n      <th>일</th>\n      <th>시</th>\n      <th>분</th>\n      <th>초</th>\n      <th>공휴일</th>\n      <th>요일</th>\n      <th>주차장</th>\n      <th>기온(°C)</th>\n      <th>강수량(mm)</th>\n      <th>풍속(m/s)</th>\n      <th>습도(%)</th>\n      <th>적설(cm)</th>\n    </tr>\n  </thead>\n  <tbody>\n    <tr>\n      <th>0</th>\n      <td>2022</td>\n      <td>9</td>\n      <td>1</td>\n      <td>7</td>\n      <td>7</td>\n      <td>31</td>\n      <td>0</td>\n      <td>3</td>\n      <td>12</td>\n      <td>20.2</td>\n      <td>0.0</td>\n      <td>0.9</td>\n      <td>94.0</td>\n      <td>0.0</td>\n    </tr>\n    <tr>\n      <th>1</th>\n      <td>2022</td>\n      <td>9</td>\n      <td>1</td>\n      <td>7</td>\n      <td>17</td>\n      <td>42</td>\n      <td>0</td>\n      <td>3</td>\n      <td>12</td>\n      <td>20.2</td>\n      <td>0.0</td>\n      <td>0.9</td>\n      <td>94.0</td>\n      <td>0.0</td>\n    </tr>\n    <tr>\n      <th>2</th>\n      <td>2022</td>\n      <td>9</td>\n      <td>1</td>\n      <td>7</td>\n      <td>18</td>\n      <td>36</td>\n      <td>0</td>\n      <td>3</td>\n      <td>12</td>\n      <td>20.2</td>\n      <td>0.0</td>\n      <td>0.9</td>\n      <td>94.0</td>\n      <td>0.0</td>\n    </tr>\n    <tr>\n      <th>3</th>\n      <td>2022</td>\n      <td>9</td>\n      <td>1</td>\n      <td>7</td>\n      <td>35</td>\n      <td>54</td>\n      <td>0</td>\n      <td>3</td>\n      <td>12</td>\n      <td>20.2</td>\n      <td>0.0</td>\n      <td>0.9</td>\n      <td>94.0</td>\n      <td>0.0</td>\n    </tr>\n    <tr>\n      <th>4</th>\n      <td>2022</td>\n      <td>9</td>\n      <td>1</td>\n      <td>7</td>\n      <td>35</td>\n      <td>58</td>\n      <td>0</td>\n      <td>3</td>\n      <td>12</td>\n      <td>20.2</td>\n      <td>0.0</td>\n      <td>0.9</td>\n      <td>94.0</td>\n      <td>0.0</td>\n    </tr>\n    <tr>\n      <th>...</th>\n      <td>...</td>\n      <td>...</td>\n      <td>...</td>\n      <td>...</td>\n      <td>...</td>\n      <td>...</td>\n      <td>...</td>\n      <td>...</td>\n      <td>...</td>\n      <td>...</td>\n      <td>...</td>\n      <td>...</td>\n      <td>...</td>\n      <td>...</td>\n    </tr>\n    <tr>\n      <th>13561</th>\n      <td>2022</td>\n      <td>9</td>\n      <td>20</td>\n      <td>8</td>\n      <td>47</td>\n      <td>5</td>\n      <td>0</td>\n      <td>1</td>\n      <td>15</td>\n      <td>19.3</td>\n      <td>0.0</td>\n      <td>1.2</td>\n      <td>65.0</td>\n      <td>0.0</td>\n    </tr>\n    <tr>\n      <th>13562</th>\n      <td>2022</td>\n      <td>9</td>\n      <td>20</td>\n      <td>8</td>\n      <td>51</td>\n      <td>22</td>\n      <td>0</td>\n      <td>1</td>\n      <td>15</td>\n      <td>19.3</td>\n      <td>0.0</td>\n      <td>1.2</td>\n      <td>65.0</td>\n      <td>0.0</td>\n    </tr>\n    <tr>\n      <th>13563</th>\n      <td>2022</td>\n      <td>9</td>\n      <td>20</td>\n      <td>8</td>\n      <td>52</td>\n      <td>19</td>\n      <td>0</td>\n      <td>1</td>\n      <td>15</td>\n      <td>19.3</td>\n      <td>0.0</td>\n      <td>1.2</td>\n      <td>65.0</td>\n      <td>0.0</td>\n    </tr>\n    <tr>\n      <th>13564</th>\n      <td>2022</td>\n      <td>9</td>\n      <td>20</td>\n      <td>8</td>\n      <td>52</td>\n      <td>43</td>\n      <td>0</td>\n      <td>1</td>\n      <td>15</td>\n      <td>19.3</td>\n      <td>0.0</td>\n      <td>1.2</td>\n      <td>65.0</td>\n      <td>0.0</td>\n    </tr>\n    <tr>\n      <th>13565</th>\n      <td>2022</td>\n      <td>9</td>\n      <td>20</td>\n      <td>9</td>\n      <td>50</td>\n      <td>23</td>\n      <td>0</td>\n      <td>1</td>\n      <td>15</td>\n      <td>20.2</td>\n      <td>0.0</td>\n      <td>2.0</td>\n      <td>57.0</td>\n      <td>0.0</td>\n    </tr>\n  </tbody>\n</table>\n<p>8749 rows × 14 columns</p>\n</div>"
     },
     "execution_count": 80,
     "metadata": {},
     "output_type": "execute_result"
    }
   ],
   "source": [
    "X_train"
   ],
   "metadata": {
    "collapsed": false
   }
  },
  {
   "cell_type": "code",
   "execution_count": 81,
   "outputs": [
    {
     "name": "stderr",
     "output_type": "stream",
     "text": [
      "/Users/keumhyeonjun/opt/anaconda3/envs/gpu_1/lib/python3.9/site-packages/lightgbm/basic.py:1551: UserWarning: Using categorical_feature in Dataset.\n",
      "  warnings.warn('Using categorical_feature in Dataset.')\n"
     ]
    },
    {
     "data": {
      "text/plain": "LGBMClassifier()",
      "text/html": "<style>#sk-container-id-3 {color: black;background-color: white;}#sk-container-id-3 pre{padding: 0;}#sk-container-id-3 div.sk-toggleable {background-color: white;}#sk-container-id-3 label.sk-toggleable__label {cursor: pointer;display: block;width: 100%;margin-bottom: 0;padding: 0.3em;box-sizing: border-box;text-align: center;}#sk-container-id-3 label.sk-toggleable__label-arrow:before {content: \"▸\";float: left;margin-right: 0.25em;color: #696969;}#sk-container-id-3 label.sk-toggleable__label-arrow:hover:before {color: black;}#sk-container-id-3 div.sk-estimator:hover label.sk-toggleable__label-arrow:before {color: black;}#sk-container-id-3 div.sk-toggleable__content {max-height: 0;max-width: 0;overflow: hidden;text-align: left;background-color: #f0f8ff;}#sk-container-id-3 div.sk-toggleable__content pre {margin: 0.2em;color: black;border-radius: 0.25em;background-color: #f0f8ff;}#sk-container-id-3 input.sk-toggleable__control:checked~div.sk-toggleable__content {max-height: 200px;max-width: 100%;overflow: auto;}#sk-container-id-3 input.sk-toggleable__control:checked~label.sk-toggleable__label-arrow:before {content: \"▾\";}#sk-container-id-3 div.sk-estimator input.sk-toggleable__control:checked~label.sk-toggleable__label {background-color: #d4ebff;}#sk-container-id-3 div.sk-label input.sk-toggleable__control:checked~label.sk-toggleable__label {background-color: #d4ebff;}#sk-container-id-3 input.sk-hidden--visually {border: 0;clip: rect(1px 1px 1px 1px);clip: rect(1px, 1px, 1px, 1px);height: 1px;margin: -1px;overflow: hidden;padding: 0;position: absolute;width: 1px;}#sk-container-id-3 div.sk-estimator {font-family: monospace;background-color: #f0f8ff;border: 1px dotted black;border-radius: 0.25em;box-sizing: border-box;margin-bottom: 0.5em;}#sk-container-id-3 div.sk-estimator:hover {background-color: #d4ebff;}#sk-container-id-3 div.sk-parallel-item::after {content: \"\";width: 100%;border-bottom: 1px solid gray;flex-grow: 1;}#sk-container-id-3 div.sk-label:hover label.sk-toggleable__label {background-color: #d4ebff;}#sk-container-id-3 div.sk-serial::before {content: \"\";position: absolute;border-left: 1px solid gray;box-sizing: border-box;top: 0;bottom: 0;left: 50%;z-index: 0;}#sk-container-id-3 div.sk-serial {display: flex;flex-direction: column;align-items: center;background-color: white;padding-right: 0.2em;padding-left: 0.2em;position: relative;}#sk-container-id-3 div.sk-item {position: relative;z-index: 1;}#sk-container-id-3 div.sk-parallel {display: flex;align-items: stretch;justify-content: center;background-color: white;position: relative;}#sk-container-id-3 div.sk-item::before, #sk-container-id-3 div.sk-parallel-item::before {content: \"\";position: absolute;border-left: 1px solid gray;box-sizing: border-box;top: 0;bottom: 0;left: 50%;z-index: -1;}#sk-container-id-3 div.sk-parallel-item {display: flex;flex-direction: column;z-index: 1;position: relative;background-color: white;}#sk-container-id-3 div.sk-parallel-item:first-child::after {align-self: flex-end;width: 50%;}#sk-container-id-3 div.sk-parallel-item:last-child::after {align-self: flex-start;width: 50%;}#sk-container-id-3 div.sk-parallel-item:only-child::after {width: 0;}#sk-container-id-3 div.sk-dashed-wrapped {border: 1px dashed gray;margin: 0 0.4em 0.5em 0.4em;box-sizing: border-box;padding-bottom: 0.4em;background-color: white;}#sk-container-id-3 div.sk-label label {font-family: monospace;font-weight: bold;display: inline-block;line-height: 1.2em;}#sk-container-id-3 div.sk-label-container {text-align: center;}#sk-container-id-3 div.sk-container {/* jupyter's `normalize.less` sets `[hidden] { display: none; }` but bootstrap.min.css set `[hidden] { display: none !important; }` so we also need the `!important` here to be able to override the default hidden behavior on the sphinx rendered scikit-learn.org. See: https://github.com/scikit-learn/scikit-learn/issues/21755 */display: inline-block !important;position: relative;}#sk-container-id-3 div.sk-text-repr-fallback {display: none;}</style><div id=\"sk-container-id-3\" class=\"sk-top-container\"><div class=\"sk-text-repr-fallback\"><pre>LGBMClassifier()</pre><b>In a Jupyter environment, please rerun this cell to show the HTML representation or trust the notebook. <br />On GitHub, the HTML representation is unable to render, please try loading this page with nbviewer.org.</b></div><div class=\"sk-container\" hidden><div class=\"sk-item\"><div class=\"sk-estimator sk-toggleable\"><input class=\"sk-toggleable__control sk-hidden--visually\" id=\"sk-estimator-id-3\" type=\"checkbox\" checked><label for=\"sk-estimator-id-3\" class=\"sk-toggleable__label sk-toggleable__label-arrow\">LGBMClassifier</label><div class=\"sk-toggleable__content\"><pre>LGBMClassifier()</pre></div></div></div></div></div>"
     },
     "execution_count": 81,
     "metadata": {},
     "output_type": "execute_result"
    }
   ],
   "source": [
    "model = LGBMClassifier()\n",
    "model.fit(X_train, y_train, categorical_feature =['주차장'], verbose=100)"
   ],
   "metadata": {
    "collapsed": false
   }
  },
  {
   "cell_type": "code",
   "execution_count": 82,
   "outputs": [],
   "source": [
    "y_predict = model.predict(X_test)\n",
    "y_predict = pd.DataFrame(y_predict)"
   ],
   "metadata": {
    "collapsed": false
   }
  },
  {
   "cell_type": "code",
   "execution_count": 83,
   "outputs": [
    {
     "data": {
      "text/plain": "      index     연  월   일  시   분   초  공휴일  요일  주차장  기온(°C)  강수량(mm)  풍속(m/s)  \\\n0      2592  2022  9  21  7   8  27    0   2   12    14.0      0.0      1.3   \n1      2593  2022  9  21  7  10  34    0   2   12    14.0      0.0      1.3   \n2      2594  2022  9  21  7  20   9    0   2   12    14.0      0.0      1.3   \n3      2595  2022  9  21  7  35  51    0   2   12    14.0      0.0      1.3   \n4      2596  2022  9  21  7  38  48    0   2   12    14.0      0.0      1.3   \n...     ...   ... ..  .. ..  ..  ..  ...  ..  ...     ...      ...      ...   \n5490  14239  2022  9  30  9   2  40    0   4   15    14.3      0.0      0.4   \n5491  14240  2022  9  30  9   2  46    0   4   15    14.3      0.0      0.4   \n5492  14241  2022  9  30  9   3  58    0   4   15    14.3      0.0      0.4   \n5493  14242  2022  9  30  9   4   3    0   4   15    14.3      0.0      0.4   \n5494  14243  2022  9  30  9  27   7    0   4   15    14.3      0.0      0.4   \n\n      습도(%)  적설(cm)  혼잡도  0  \n0      89.0     0.0    0  0  \n1      89.0     0.0    0  0  \n2      89.0     0.0    0  0  \n3      89.0     0.0    0  0  \n4      89.0     0.0    0  0  \n...     ...     ...  ... ..  \n5490   95.0     0.0    1  0  \n5491   95.0     0.0    1  0  \n5492   95.0     0.0    1  0  \n5493   95.0     0.0    1  0  \n5494   95.0     0.0    1  0  \n\n[5495 rows x 17 columns]",
      "text/html": "<div>\n<style scoped>\n    .dataframe tbody tr th:only-of-type {\n        vertical-align: middle;\n    }\n\n    .dataframe tbody tr th {\n        vertical-align: top;\n    }\n\n    .dataframe thead th {\n        text-align: right;\n    }\n</style>\n<table border=\"1\" class=\"dataframe\">\n  <thead>\n    <tr style=\"text-align: right;\">\n      <th></th>\n      <th>index</th>\n      <th>연</th>\n      <th>월</th>\n      <th>일</th>\n      <th>시</th>\n      <th>분</th>\n      <th>초</th>\n      <th>공휴일</th>\n      <th>요일</th>\n      <th>주차장</th>\n      <th>기온(°C)</th>\n      <th>강수량(mm)</th>\n      <th>풍속(m/s)</th>\n      <th>습도(%)</th>\n      <th>적설(cm)</th>\n      <th>혼잡도</th>\n      <th>0</th>\n    </tr>\n  </thead>\n  <tbody>\n    <tr>\n      <th>0</th>\n      <td>2592</td>\n      <td>2022</td>\n      <td>9</td>\n      <td>21</td>\n      <td>7</td>\n      <td>8</td>\n      <td>27</td>\n      <td>0</td>\n      <td>2</td>\n      <td>12</td>\n      <td>14.0</td>\n      <td>0.0</td>\n      <td>1.3</td>\n      <td>89.0</td>\n      <td>0.0</td>\n      <td>0</td>\n      <td>0</td>\n    </tr>\n    <tr>\n      <th>1</th>\n      <td>2593</td>\n      <td>2022</td>\n      <td>9</td>\n      <td>21</td>\n      <td>7</td>\n      <td>10</td>\n      <td>34</td>\n      <td>0</td>\n      <td>2</td>\n      <td>12</td>\n      <td>14.0</td>\n      <td>0.0</td>\n      <td>1.3</td>\n      <td>89.0</td>\n      <td>0.0</td>\n      <td>0</td>\n      <td>0</td>\n    </tr>\n    <tr>\n      <th>2</th>\n      <td>2594</td>\n      <td>2022</td>\n      <td>9</td>\n      <td>21</td>\n      <td>7</td>\n      <td>20</td>\n      <td>9</td>\n      <td>0</td>\n      <td>2</td>\n      <td>12</td>\n      <td>14.0</td>\n      <td>0.0</td>\n      <td>1.3</td>\n      <td>89.0</td>\n      <td>0.0</td>\n      <td>0</td>\n      <td>0</td>\n    </tr>\n    <tr>\n      <th>3</th>\n      <td>2595</td>\n      <td>2022</td>\n      <td>9</td>\n      <td>21</td>\n      <td>7</td>\n      <td>35</td>\n      <td>51</td>\n      <td>0</td>\n      <td>2</td>\n      <td>12</td>\n      <td>14.0</td>\n      <td>0.0</td>\n      <td>1.3</td>\n      <td>89.0</td>\n      <td>0.0</td>\n      <td>0</td>\n      <td>0</td>\n    </tr>\n    <tr>\n      <th>4</th>\n      <td>2596</td>\n      <td>2022</td>\n      <td>9</td>\n      <td>21</td>\n      <td>7</td>\n      <td>38</td>\n      <td>48</td>\n      <td>0</td>\n      <td>2</td>\n      <td>12</td>\n      <td>14.0</td>\n      <td>0.0</td>\n      <td>1.3</td>\n      <td>89.0</td>\n      <td>0.0</td>\n      <td>0</td>\n      <td>0</td>\n    </tr>\n    <tr>\n      <th>...</th>\n      <td>...</td>\n      <td>...</td>\n      <td>...</td>\n      <td>...</td>\n      <td>...</td>\n      <td>...</td>\n      <td>...</td>\n      <td>...</td>\n      <td>...</td>\n      <td>...</td>\n      <td>...</td>\n      <td>...</td>\n      <td>...</td>\n      <td>...</td>\n      <td>...</td>\n      <td>...</td>\n      <td>...</td>\n    </tr>\n    <tr>\n      <th>5490</th>\n      <td>14239</td>\n      <td>2022</td>\n      <td>9</td>\n      <td>30</td>\n      <td>9</td>\n      <td>2</td>\n      <td>40</td>\n      <td>0</td>\n      <td>4</td>\n      <td>15</td>\n      <td>14.3</td>\n      <td>0.0</td>\n      <td>0.4</td>\n      <td>95.0</td>\n      <td>0.0</td>\n      <td>1</td>\n      <td>0</td>\n    </tr>\n    <tr>\n      <th>5491</th>\n      <td>14240</td>\n      <td>2022</td>\n      <td>9</td>\n      <td>30</td>\n      <td>9</td>\n      <td>2</td>\n      <td>46</td>\n      <td>0</td>\n      <td>4</td>\n      <td>15</td>\n      <td>14.3</td>\n      <td>0.0</td>\n      <td>0.4</td>\n      <td>95.0</td>\n      <td>0.0</td>\n      <td>1</td>\n      <td>0</td>\n    </tr>\n    <tr>\n      <th>5492</th>\n      <td>14241</td>\n      <td>2022</td>\n      <td>9</td>\n      <td>30</td>\n      <td>9</td>\n      <td>3</td>\n      <td>58</td>\n      <td>0</td>\n      <td>4</td>\n      <td>15</td>\n      <td>14.3</td>\n      <td>0.0</td>\n      <td>0.4</td>\n      <td>95.0</td>\n      <td>0.0</td>\n      <td>1</td>\n      <td>0</td>\n    </tr>\n    <tr>\n      <th>5493</th>\n      <td>14242</td>\n      <td>2022</td>\n      <td>9</td>\n      <td>30</td>\n      <td>9</td>\n      <td>4</td>\n      <td>3</td>\n      <td>0</td>\n      <td>4</td>\n      <td>15</td>\n      <td>14.3</td>\n      <td>0.0</td>\n      <td>0.4</td>\n      <td>95.0</td>\n      <td>0.0</td>\n      <td>1</td>\n      <td>0</td>\n    </tr>\n    <tr>\n      <th>5494</th>\n      <td>14243</td>\n      <td>2022</td>\n      <td>9</td>\n      <td>30</td>\n      <td>9</td>\n      <td>27</td>\n      <td>7</td>\n      <td>0</td>\n      <td>4</td>\n      <td>15</td>\n      <td>14.3</td>\n      <td>0.0</td>\n      <td>0.4</td>\n      <td>95.0</td>\n      <td>0.0</td>\n      <td>1</td>\n      <td>0</td>\n    </tr>\n  </tbody>\n</table>\n<p>5495 rows × 17 columns</p>\n</div>"
     },
     "execution_count": 83,
     "metadata": {},
     "output_type": "execute_result"
    }
   ],
   "source": [
    "result = pd.concat([X_test,y_test],axis =1 ).reset_index()\n",
    "result = pd.concat([result,y_predict],axis =1 )\n",
    "result"
   ],
   "metadata": {
    "collapsed": false
   }
  },
  {
   "cell_type": "code",
   "execution_count": 84,
   "outputs": [
    {
     "data": {
      "text/plain": "      index     연  월   일  시   분   초  공휴일  요일  주차장  기온(°C)  강수량(mm)  풍속(m/s)  \\\n0      2592  2022  9  21  7   8  27    0   2   12    14.0      0.0      1.3   \n1      2593  2022  9  21  7  10  34    0   2   12    14.0      0.0      1.3   \n2      2594  2022  9  21  7  20   9    0   2   12    14.0      0.0      1.3   \n3      2595  2022  9  21  7  35  51    0   2   12    14.0      0.0      1.3   \n4      2596  2022  9  21  7  38  48    0   2   12    14.0      0.0      1.3   \n...     ...   ... ..  .. ..  ..  ..  ...  ..  ...     ...      ...      ...   \n5490  14239  2022  9  30  9   2  40    0   4   15    14.3      0.0      0.4   \n5491  14240  2022  9  30  9   2  46    0   4   15    14.3      0.0      0.4   \n5492  14241  2022  9  30  9   3  58    0   4   15    14.3      0.0      0.4   \n5493  14242  2022  9  30  9   4   3    0   4   15    14.3      0.0      0.4   \n5494  14243  2022  9  30  9  27   7    0   4   15    14.3      0.0      0.4   \n\n      습도(%)  적설(cm)  혼잡도  0  \n0      89.0     0.0    0  0  \n1      89.0     0.0    0  0  \n2      89.0     0.0    0  0  \n3      89.0     0.0    0  0  \n4      89.0     0.0    0  0  \n...     ...     ...  ... ..  \n5490   95.0     0.0    1  0  \n5491   95.0     0.0    1  0  \n5492   95.0     0.0    1  0  \n5493   95.0     0.0    1  0  \n5494   95.0     0.0    1  0  \n\n[5495 rows x 17 columns]",
      "text/html": "<div>\n<style scoped>\n    .dataframe tbody tr th:only-of-type {\n        vertical-align: middle;\n    }\n\n    .dataframe tbody tr th {\n        vertical-align: top;\n    }\n\n    .dataframe thead th {\n        text-align: right;\n    }\n</style>\n<table border=\"1\" class=\"dataframe\">\n  <thead>\n    <tr style=\"text-align: right;\">\n      <th></th>\n      <th>index</th>\n      <th>연</th>\n      <th>월</th>\n      <th>일</th>\n      <th>시</th>\n      <th>분</th>\n      <th>초</th>\n      <th>공휴일</th>\n      <th>요일</th>\n      <th>주차장</th>\n      <th>기온(°C)</th>\n      <th>강수량(mm)</th>\n      <th>풍속(m/s)</th>\n      <th>습도(%)</th>\n      <th>적설(cm)</th>\n      <th>혼잡도</th>\n      <th>0</th>\n    </tr>\n  </thead>\n  <tbody>\n    <tr>\n      <th>0</th>\n      <td>2592</td>\n      <td>2022</td>\n      <td>9</td>\n      <td>21</td>\n      <td>7</td>\n      <td>8</td>\n      <td>27</td>\n      <td>0</td>\n      <td>2</td>\n      <td>12</td>\n      <td>14.0</td>\n      <td>0.0</td>\n      <td>1.3</td>\n      <td>89.0</td>\n      <td>0.0</td>\n      <td>0</td>\n      <td>0</td>\n    </tr>\n    <tr>\n      <th>1</th>\n      <td>2593</td>\n      <td>2022</td>\n      <td>9</td>\n      <td>21</td>\n      <td>7</td>\n      <td>10</td>\n      <td>34</td>\n      <td>0</td>\n      <td>2</td>\n      <td>12</td>\n      <td>14.0</td>\n      <td>0.0</td>\n      <td>1.3</td>\n      <td>89.0</td>\n      <td>0.0</td>\n      <td>0</td>\n      <td>0</td>\n    </tr>\n    <tr>\n      <th>2</th>\n      <td>2594</td>\n      <td>2022</td>\n      <td>9</td>\n      <td>21</td>\n      <td>7</td>\n      <td>20</td>\n      <td>9</td>\n      <td>0</td>\n      <td>2</td>\n      <td>12</td>\n      <td>14.0</td>\n      <td>0.0</td>\n      <td>1.3</td>\n      <td>89.0</td>\n      <td>0.0</td>\n      <td>0</td>\n      <td>0</td>\n    </tr>\n    <tr>\n      <th>3</th>\n      <td>2595</td>\n      <td>2022</td>\n      <td>9</td>\n      <td>21</td>\n      <td>7</td>\n      <td>35</td>\n      <td>51</td>\n      <td>0</td>\n      <td>2</td>\n      <td>12</td>\n      <td>14.0</td>\n      <td>0.0</td>\n      <td>1.3</td>\n      <td>89.0</td>\n      <td>0.0</td>\n      <td>0</td>\n      <td>0</td>\n    </tr>\n    <tr>\n      <th>4</th>\n      <td>2596</td>\n      <td>2022</td>\n      <td>9</td>\n      <td>21</td>\n      <td>7</td>\n      <td>38</td>\n      <td>48</td>\n      <td>0</td>\n      <td>2</td>\n      <td>12</td>\n      <td>14.0</td>\n      <td>0.0</td>\n      <td>1.3</td>\n      <td>89.0</td>\n      <td>0.0</td>\n      <td>0</td>\n      <td>0</td>\n    </tr>\n    <tr>\n      <th>...</th>\n      <td>...</td>\n      <td>...</td>\n      <td>...</td>\n      <td>...</td>\n      <td>...</td>\n      <td>...</td>\n      <td>...</td>\n      <td>...</td>\n      <td>...</td>\n      <td>...</td>\n      <td>...</td>\n      <td>...</td>\n      <td>...</td>\n      <td>...</td>\n      <td>...</td>\n      <td>...</td>\n      <td>...</td>\n    </tr>\n    <tr>\n      <th>5490</th>\n      <td>14239</td>\n      <td>2022</td>\n      <td>9</td>\n      <td>30</td>\n      <td>9</td>\n      <td>2</td>\n      <td>40</td>\n      <td>0</td>\n      <td>4</td>\n      <td>15</td>\n      <td>14.3</td>\n      <td>0.0</td>\n      <td>0.4</td>\n      <td>95.0</td>\n      <td>0.0</td>\n      <td>1</td>\n      <td>0</td>\n    </tr>\n    <tr>\n      <th>5491</th>\n      <td>14240</td>\n      <td>2022</td>\n      <td>9</td>\n      <td>30</td>\n      <td>9</td>\n      <td>2</td>\n      <td>46</td>\n      <td>0</td>\n      <td>4</td>\n      <td>15</td>\n      <td>14.3</td>\n      <td>0.0</td>\n      <td>0.4</td>\n      <td>95.0</td>\n      <td>0.0</td>\n      <td>1</td>\n      <td>0</td>\n    </tr>\n    <tr>\n      <th>5492</th>\n      <td>14241</td>\n      <td>2022</td>\n      <td>9</td>\n      <td>30</td>\n      <td>9</td>\n      <td>3</td>\n      <td>58</td>\n      <td>0</td>\n      <td>4</td>\n      <td>15</td>\n      <td>14.3</td>\n      <td>0.0</td>\n      <td>0.4</td>\n      <td>95.0</td>\n      <td>0.0</td>\n      <td>1</td>\n      <td>0</td>\n    </tr>\n    <tr>\n      <th>5493</th>\n      <td>14242</td>\n      <td>2022</td>\n      <td>9</td>\n      <td>30</td>\n      <td>9</td>\n      <td>4</td>\n      <td>3</td>\n      <td>0</td>\n      <td>4</td>\n      <td>15</td>\n      <td>14.3</td>\n      <td>0.0</td>\n      <td>0.4</td>\n      <td>95.0</td>\n      <td>0.0</td>\n      <td>1</td>\n      <td>0</td>\n    </tr>\n    <tr>\n      <th>5494</th>\n      <td>14243</td>\n      <td>2022</td>\n      <td>9</td>\n      <td>30</td>\n      <td>9</td>\n      <td>27</td>\n      <td>7</td>\n      <td>0</td>\n      <td>4</td>\n      <td>15</td>\n      <td>14.3</td>\n      <td>0.0</td>\n      <td>0.4</td>\n      <td>95.0</td>\n      <td>0.0</td>\n      <td>1</td>\n      <td>0</td>\n    </tr>\n  </tbody>\n</table>\n<p>5495 rows × 17 columns</p>\n</div>"
     },
     "execution_count": 84,
     "metadata": {},
     "output_type": "execute_result"
    }
   ],
   "source": [
    "result.dropna()"
   ],
   "metadata": {
    "collapsed": false
   }
  },
  {
   "cell_type": "code",
   "execution_count": 85,
   "outputs": [
    {
     "data": {
      "text/plain": "0.7608735213830755"
     },
     "execution_count": 85,
     "metadata": {},
     "output_type": "execute_result"
    }
   ],
   "source": [
    "from sklearn.metrics import accuracy_score, recall_score, precision_score, f1_score\n",
    "accuracy_score(result['혼잡도'], result[0])"
   ],
   "metadata": {
    "collapsed": false
   }
  },
  {
   "cell_type": "code",
   "execution_count": null,
   "outputs": [],
   "source": [],
   "metadata": {
    "collapsed": false
   }
  }
 ],
 "metadata": {
  "kernelspec": {
   "display_name": "Python 3",
   "language": "python",
   "name": "python3"
  },
  "language_info": {
   "codemirror_mode": {
    "name": "ipython",
    "version": 2
   },
   "file_extension": ".py",
   "mimetype": "text/x-python",
   "name": "python",
   "nbconvert_exporter": "python",
   "pygments_lexer": "ipython2",
   "version": "2.7.6"
  }
 },
 "nbformat": 4,
 "nbformat_minor": 0
}

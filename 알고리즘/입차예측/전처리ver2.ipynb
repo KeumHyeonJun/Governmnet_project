{
 "cells": [
  {
   "cell_type": "code",
   "execution_count": 219,
   "id": "4759773a-2dc0-427c-a6f1-84f701a18c13",
   "metadata": {},
   "outputs": [],
   "source": [
    "import pandas as pd\n",
    "import numpy as np\n",
    "import re\n",
    "from matplotlib import pyplot as plt\n",
    "\n",
    "plt.rc('font', family='AppleGothic')\n",
    "plt.rcParams['axes.unicode_minus'] = False"
   ]
  },
  {
   "cell_type": "markdown",
   "id": "392f4a35-8ac7-4025-9b44-9b2614a19d5d",
   "metadata": {},
   "source": [
    "# 날씨 데이터 불러오기"
   ]
  },
  {
   "cell_type": "code",
   "execution_count": 220,
   "outputs": [
    {
     "data": {
      "text/plain": "                     기온(°C)  강수량(mm)  풍속(m/s)  습도(%)  적설(cm)\n일시                                                          \n2020-10-01 00:00:00      17        0        0     92       0\n2020-10-01 01:00:00      17        0        0     94       0\n2020-10-01 02:00:00      17        0        1     93       0\n2020-10-01 03:00:00      17        0        0     94       0\n2020-10-01 04:00:00      16        0        0     95       0\n...                     ...      ...      ...    ...     ...\n2022-10-01 19:00:00      21        0        0     54       0\n2022-10-01 20:00:00      20        0        1     63       0\n2022-10-01 21:00:00      19        0        1     73       0\n2022-10-01 22:00:00      18        0        1     75       0\n2022-10-01 23:00:00      18        0        0     75       0\n\n[17544 rows x 5 columns]",
      "text/html": "<div>\n<style scoped>\n    .dataframe tbody tr th:only-of-type {\n        vertical-align: middle;\n    }\n\n    .dataframe tbody tr th {\n        vertical-align: top;\n    }\n\n    .dataframe thead th {\n        text-align: right;\n    }\n</style>\n<table border=\"1\" class=\"dataframe\">\n  <thead>\n    <tr style=\"text-align: right;\">\n      <th></th>\n      <th>기온(°C)</th>\n      <th>강수량(mm)</th>\n      <th>풍속(m/s)</th>\n      <th>습도(%)</th>\n      <th>적설(cm)</th>\n    </tr>\n    <tr>\n      <th>일시</th>\n      <th></th>\n      <th></th>\n      <th></th>\n      <th></th>\n      <th></th>\n    </tr>\n  </thead>\n  <tbody>\n    <tr>\n      <th>2020-10-01 00:00:00</th>\n      <td>17</td>\n      <td>0</td>\n      <td>0</td>\n      <td>92</td>\n      <td>0</td>\n    </tr>\n    <tr>\n      <th>2020-10-01 01:00:00</th>\n      <td>17</td>\n      <td>0</td>\n      <td>0</td>\n      <td>94</td>\n      <td>0</td>\n    </tr>\n    <tr>\n      <th>2020-10-01 02:00:00</th>\n      <td>17</td>\n      <td>0</td>\n      <td>1</td>\n      <td>93</td>\n      <td>0</td>\n    </tr>\n    <tr>\n      <th>2020-10-01 03:00:00</th>\n      <td>17</td>\n      <td>0</td>\n      <td>0</td>\n      <td>94</td>\n      <td>0</td>\n    </tr>\n    <tr>\n      <th>2020-10-01 04:00:00</th>\n      <td>16</td>\n      <td>0</td>\n      <td>0</td>\n      <td>95</td>\n      <td>0</td>\n    </tr>\n    <tr>\n      <th>...</th>\n      <td>...</td>\n      <td>...</td>\n      <td>...</td>\n      <td>...</td>\n      <td>...</td>\n    </tr>\n    <tr>\n      <th>2022-10-01 19:00:00</th>\n      <td>21</td>\n      <td>0</td>\n      <td>0</td>\n      <td>54</td>\n      <td>0</td>\n    </tr>\n    <tr>\n      <th>2022-10-01 20:00:00</th>\n      <td>20</td>\n      <td>0</td>\n      <td>1</td>\n      <td>63</td>\n      <td>0</td>\n    </tr>\n    <tr>\n      <th>2022-10-01 21:00:00</th>\n      <td>19</td>\n      <td>0</td>\n      <td>1</td>\n      <td>73</td>\n      <td>0</td>\n    </tr>\n    <tr>\n      <th>2022-10-01 22:00:00</th>\n      <td>18</td>\n      <td>0</td>\n      <td>1</td>\n      <td>75</td>\n      <td>0</td>\n    </tr>\n    <tr>\n      <th>2022-10-01 23:00:00</th>\n      <td>18</td>\n      <td>0</td>\n      <td>0</td>\n      <td>75</td>\n      <td>0</td>\n    </tr>\n  </tbody>\n</table>\n<p>17544 rows × 5 columns</p>\n</div>"
     },
     "execution_count": 220,
     "metadata": {},
     "output_type": "execute_result"
    }
   ],
   "source": [
    "# whether csv read, 일시를 index로 넣고 datetime 형태로 변환함\n",
    "whether = pd.read_csv('./data/Whether.csv', encoding='euc-kr', parse_dates=['일시'], index_col='일시')\n",
    "# 강수량, 적설이 null인 경우 모두 0으로 바꿈\n",
    "whether = whether.fillna(0)\n",
    "# 일시의 freq을 hour로 변경\n",
    "whether.index.freq = 'h'\n",
    "\n",
    "'''\n",
    "데이터가 누락된 시간을 확인하기 위한 부분 (파일로 받은 경우)\n",
    "API로 받는 경우 날짜는 있지만 모든 데이터가 Null값이기 때문에 해당 조건으로 수정해야 할 것으로 보임\n",
    "\n",
    "j = whether.index[0]\n",
    "for i in whether.index:\n",
    "    if i != j + pd.Timedelta(\"1 hour\"):\n",
    "        print(j, i)\n",
    "    j = i\n",
    "'''\n",
    "# 지점코드, 지점명을 없앰\n",
    "whether = whether.iloc[:, [2,3,4,5,6]]\n",
    "whether"
   ],
   "metadata": {
    "collapsed": false
   }
  },
  {
   "cell_type": "markdown",
   "id": "7dfa4e97-7d4f-49b2-b05a-c9a8f73acf03",
   "metadata": {},
   "source": [
    "# 차량 데이터 불러오기 및 전처리"
   ]
  },
  {
   "cell_type": "markdown",
   "source": [
    "# 한맥"
   ],
   "metadata": {
    "collapsed": false
   }
  },
  {
   "cell_type": "markdown",
   "id": "a9d5ae3c-28d9-44e9-8be7-48ed7b8f4ca0",
   "metadata": {},
   "source": [
    "장비별, 일시별 구분  \n",
    "입차 대수 - 출차 대수 = 현재 차량 대수  \n",
    "한맥의 경우 FilePath로부터 입출차 시간 추출  \n",
    "정기권 등 구분 X"
   ]
  },
  {
   "cell_type": "code",
   "execution_count": 221,
   "id": "ae391554-f9bb-4f13-a91e-75f55eac80ea",
   "metadata": {},
   "outputs": [],
   "source": [
    "def pretreatment(df):\n",
    "    df['일시'] = pd.to_datetime(df['FilePath'].apply(lambda x: x[12:26]), format='%Y%m%d%H%M%S')\n",
    "    df['일시'] = pd.to_datetime(df['일시']).apply(del_min_sec)\n",
    "    df = df[['일시', 'FilePath', 'InOutDiv']]\n",
    "    df = df.rename({'FilePath':'주차일련번호'}, axis=1)\n",
    "    return df\n",
    "\n",
    "def del_min_sec(x):\n",
    "    return x.replace(minute=0, second=0)\n",
    "\n",
    "car_normal = pd.read_csv('./data/일반차량.csv')\n",
    "car_normal = pretreatment(car_normal)\n",
    "\n",
    "car_ticket = pd.read_csv('./data/정기권차량.csv')\n",
    "car_ticket = pretreatment(car_ticket)\n",
    "\n",
    "\n",
    "\n",
    "\n",
    "car_ticket_in = car_ticket[car_ticket['InOutDiv']==1].iloc[:,:2]\n",
    "\n",
    "\n",
    "car_ticket_in = car_ticket_in.groupby('일시').count().reset_index().rename({'주차일련번호':'입차대수'}, axis=1)\n",
    "\n",
    "car_ticket_out = car_ticket[car_ticket['InOutDiv']==2].iloc[:,:2]\n",
    "car_ticket_out = car_ticket_out.groupby('일시').count().reset_index().rename({'주차일련번호':'출차대수'}, axis=1)\n",
    "\n",
    "car_ticket_all = pd.merge(car_ticket_in, car_ticket_out, on='일시', how='outer').fillna(0).sort_values('일시').reset_index(drop=True)\n",
    "car_ticket_all['입출차 차이'] = car_ticket_all['입차대수'] - car_ticket_all['출차대수']\n",
    "car_ticket_all['차량구분'] = '정기권'\n",
    "car_ticket_all['주차장'] = '주차1동, 주차2동'\n",
    "\n",
    "\n",
    "# 일반\n",
    "car_normal_in = car_normal[car_normal['InOutDiv']==1].iloc[:,:2]\n",
    "car_normal_in = car_normal_in.groupby('일시').count().reset_index().rename({'주차일련번호':'입차대수'}, axis=1)\n",
    "\n",
    "car_normal_out = car_normal[car_normal['InOutDiv']==2].iloc[:,:2]\n",
    "car_normal_out = car_normal_out.groupby('일시').count().reset_index().rename({'주차일련번호':'출차대수'}, axis=1)\n",
    "\n",
    "car_normal_all = pd.merge(car_normal_in, car_normal_out, on='일시', how='outer').fillna(0).sort_values('일시').reset_index(drop=True)\n",
    "car_normal_all['입출차 차이'] = car_normal_all['입차대수'] - car_normal_all['출차대수']\n",
    "car_normal_all['차량구분'] = '비정기권'\n",
    "car_normal_all['주차장'] = '주차1동, 주차2동'"
   ]
  },
  {
   "cell_type": "code",
   "execution_count": 259,
   "outputs": [
    {
     "data": {
      "text/plain": "                       일시                                   주차일련번호\n42611 2020-10-01 08:00:00   \\2020\\10\\01\\2020100108312236조5492F.jpg\n42609 2020-10-01 14:00:00   \\2020\\10\\01\\2020100114382068우6620F.jpg\n42606 2020-10-01 18:00:00   \\2020\\10\\01\\2020100118235921어9903F.jpg\n42604 2020-10-02 08:00:00   \\2020\\10\\02\\2020100208551836조5492F.jpg\n42603 2020-10-02 09:00:00   \\2020\\10\\02\\2020100209563607오8177F.jpg\n...                   ...                                      ...\n10    2022-10-01 17:00:00   \\2022\\10\\01\\2022100117134120노0407F.jpg\n7     2022-10-01 18:00:00  \\2022\\10\\01\\20221001184421267구1366F.jpg\n6     2022-10-01 18:00:00   \\2022\\10\\01\\2022100118505060모8494F.jpg\n4     2022-10-01 19:00:00  \\2022\\10\\01\\20221001192516104허2500F.jpg\n1     2022-10-01 22:00:00  \\2022\\10\\01\\20221001225326149허3270F.jpg\n\n[21264 rows x 2 columns]",
      "text/html": "<div>\n<style scoped>\n    .dataframe tbody tr th:only-of-type {\n        vertical-align: middle;\n    }\n\n    .dataframe tbody tr th {\n        vertical-align: top;\n    }\n\n    .dataframe thead th {\n        text-align: right;\n    }\n</style>\n<table border=\"1\" class=\"dataframe\">\n  <thead>\n    <tr style=\"text-align: right;\">\n      <th></th>\n      <th>일시</th>\n      <th>주차일련번호</th>\n    </tr>\n  </thead>\n  <tbody>\n    <tr>\n      <th>42611</th>\n      <td>2020-10-01 08:00:00</td>\n      <td>\\2020\\10\\01\\2020100108312236조5492F.jpg</td>\n    </tr>\n    <tr>\n      <th>42609</th>\n      <td>2020-10-01 14:00:00</td>\n      <td>\\2020\\10\\01\\2020100114382068우6620F.jpg</td>\n    </tr>\n    <tr>\n      <th>42606</th>\n      <td>2020-10-01 18:00:00</td>\n      <td>\\2020\\10\\01\\2020100118235921어9903F.jpg</td>\n    </tr>\n    <tr>\n      <th>42604</th>\n      <td>2020-10-02 08:00:00</td>\n      <td>\\2020\\10\\02\\2020100208551836조5492F.jpg</td>\n    </tr>\n    <tr>\n      <th>42603</th>\n      <td>2020-10-02 09:00:00</td>\n      <td>\\2020\\10\\02\\2020100209563607오8177F.jpg</td>\n    </tr>\n    <tr>\n      <th>...</th>\n      <td>...</td>\n      <td>...</td>\n    </tr>\n    <tr>\n      <th>10</th>\n      <td>2022-10-01 17:00:00</td>\n      <td>\\2022\\10\\01\\2022100117134120노0407F.jpg</td>\n    </tr>\n    <tr>\n      <th>7</th>\n      <td>2022-10-01 18:00:00</td>\n      <td>\\2022\\10\\01\\20221001184421267구1366F.jpg</td>\n    </tr>\n    <tr>\n      <th>6</th>\n      <td>2022-10-01 18:00:00</td>\n      <td>\\2022\\10\\01\\2022100118505060모8494F.jpg</td>\n    </tr>\n    <tr>\n      <th>4</th>\n      <td>2022-10-01 19:00:00</td>\n      <td>\\2022\\10\\01\\20221001192516104허2500F.jpg</td>\n    </tr>\n    <tr>\n      <th>1</th>\n      <td>2022-10-01 22:00:00</td>\n      <td>\\2022\\10\\01\\20221001225326149허3270F.jpg</td>\n    </tr>\n  </tbody>\n</table>\n<p>21264 rows × 2 columns</p>\n</div>"
     },
     "execution_count": 259,
     "metadata": {},
     "output_type": "execute_result"
    }
   ],
   "source": [
    "car_ticket[car_ticket['InOutDiv']==1].iloc[:,:2].sort_values('일시')"
   ],
   "metadata": {
    "collapsed": false
   }
  },
  {
   "cell_type": "markdown",
   "source": [
    "# 다래"
   ],
   "metadata": {
    "collapsed": false
   }
  },
  {
   "cell_type": "code",
   "execution_count": 2,
   "outputs": [],
   "source": [
    "import pandas as pd"
   ],
   "metadata": {
    "collapsed": false
   }
  },
  {
   "cell_type": "code",
   "execution_count": 3,
   "outputs": [
    {
     "name": "stderr",
     "output_type": "stream",
     "text": [
      "/var/folders/nd/cl2nzwh13zx7jdly2t5m95340000gn/T/ipykernel_84104/2210927378.py:1: DtypeWarning: Columns (0,1,2,5,6,7,8,9) have mixed types. Specify dtype option on import or set low_memory=False.\n",
      "  darae_in = pd.read_csv('./data/VW_InCarinfo (차량 입차 정보 조회).csv')\n"
     ]
    }
   ],
   "source": [
    "darae_in = pd.read_csv('./data/VW_InCarinfo (차량 입차 정보 조회).csv')\n",
    "darae_in = darae_in.dropna()\n",
    "darae_out = pd.read_csv('./data/VW_OutCarinfo (차량 출차 정보 조회).csv')"
   ],
   "metadata": {
    "collapsed": false
   }
  },
  {
   "cell_type": "code",
   "execution_count": 11,
   "outputs": [
    {
     "data": {
      "text/plain": "             출차일자        출차시각      차량번호        주차일련번호        출차카드번호  \\\n0      2022-09-01   05:32:24    94고6836  1.111422e+16  1.000000e+14   \n1      2022-09-01   05:52:37    94고6836  1.111422e+16  1.000000e+14   \n2      2022-09-01   06:12:11    94고6836  1.111422e+16  1.000000e+14   \n3      2022-09-01   06:18:27    82도4072  1.111422e+16  1.000000e+14   \n4      2022-09-01   06:39:34    94고6836  1.111422e+16  1.000000e+14   \n...           ...         ...       ...           ...           ...   \n38667  2022-10-05    17:40:15   71하3305  1.411220e+16  1.000000e+14   \n38668  2022-10-05    19:03:47   50머4665  1.411220e+16  1.000000e+14   \n38669  2022-10-05    19:44:02  323러9283  1.411220e+16  1.000000e+14   \n38670  2022-10-05    19:46:40   09도7906  1.411220e+16  1.000000e+14   \n38671  2022-10-05    20:16:15   62수0808  1.411220e+16  1.000000e+14   \n\n             장비명                출차구분             출차고객구분 출차여부  \\\n0      13-3동출구#1     정기권출차            정기권                 출차   \n1      13-3동출구#1     정기권출차            정기권                 출차   \n2      13-3동출구#1     정기권출차            정기권                 출차   \n3      13-3동출구#1     정기권출차            정기권                 출차   \n4      13-3동출구#1     정기권출차            정기권                 출차   \n...          ...                 ...                ...  ...   \n38667    15동지하입구  정상                  정기권                미출차   \n38668    15동지하입구  정상                  정기권                미출차   \n38669    15동지하입구  정상                  정기권                미출차   \n38670    15동지하입구  정상                  정기권                미출차   \n38671    15동지하입구  정상                  정기권                미출차   \n\n                     차량종류  \n0      소형                  \n1      소형                  \n2      소형                  \n3      소형                  \n4      소형                  \n...                   ...  \n38667  소형                  \n38668  소형                  \n38669  소형                  \n38670  소형                  \n38671  소형                  \n\n[38672 rows x 10 columns]",
      "text/html": "<div>\n<style scoped>\n    .dataframe tbody tr th:only-of-type {\n        vertical-align: middle;\n    }\n\n    .dataframe tbody tr th {\n        vertical-align: top;\n    }\n\n    .dataframe thead th {\n        text-align: right;\n    }\n</style>\n<table border=\"1\" class=\"dataframe\">\n  <thead>\n    <tr style=\"text-align: right;\">\n      <th></th>\n      <th>출차일자</th>\n      <th>출차시각</th>\n      <th>차량번호</th>\n      <th>주차일련번호</th>\n      <th>출차카드번호</th>\n      <th>장비명</th>\n      <th>출차구분</th>\n      <th>출차고객구분</th>\n      <th>출차여부</th>\n      <th>차량종류</th>\n    </tr>\n  </thead>\n  <tbody>\n    <tr>\n      <th>0</th>\n      <td>2022-09-01</td>\n      <td>05:32:24</td>\n      <td>94고6836</td>\n      <td>1.111422e+16</td>\n      <td>1.000000e+14</td>\n      <td>13-3동출구#1</td>\n      <td>정기권출차</td>\n      <td>정기권</td>\n      <td>출차</td>\n      <td>소형</td>\n    </tr>\n    <tr>\n      <th>1</th>\n      <td>2022-09-01</td>\n      <td>05:52:37</td>\n      <td>94고6836</td>\n      <td>1.111422e+16</td>\n      <td>1.000000e+14</td>\n      <td>13-3동출구#1</td>\n      <td>정기권출차</td>\n      <td>정기권</td>\n      <td>출차</td>\n      <td>소형</td>\n    </tr>\n    <tr>\n      <th>2</th>\n      <td>2022-09-01</td>\n      <td>06:12:11</td>\n      <td>94고6836</td>\n      <td>1.111422e+16</td>\n      <td>1.000000e+14</td>\n      <td>13-3동출구#1</td>\n      <td>정기권출차</td>\n      <td>정기권</td>\n      <td>출차</td>\n      <td>소형</td>\n    </tr>\n    <tr>\n      <th>3</th>\n      <td>2022-09-01</td>\n      <td>06:18:27</td>\n      <td>82도4072</td>\n      <td>1.111422e+16</td>\n      <td>1.000000e+14</td>\n      <td>13-3동출구#1</td>\n      <td>정기권출차</td>\n      <td>정기권</td>\n      <td>출차</td>\n      <td>소형</td>\n    </tr>\n    <tr>\n      <th>4</th>\n      <td>2022-09-01</td>\n      <td>06:39:34</td>\n      <td>94고6836</td>\n      <td>1.111422e+16</td>\n      <td>1.000000e+14</td>\n      <td>13-3동출구#1</td>\n      <td>정기권출차</td>\n      <td>정기권</td>\n      <td>출차</td>\n      <td>소형</td>\n    </tr>\n    <tr>\n      <th>...</th>\n      <td>...</td>\n      <td>...</td>\n      <td>...</td>\n      <td>...</td>\n      <td>...</td>\n      <td>...</td>\n      <td>...</td>\n      <td>...</td>\n      <td>...</td>\n      <td>...</td>\n    </tr>\n    <tr>\n      <th>38667</th>\n      <td>2022-10-05</td>\n      <td>17:40:15</td>\n      <td>71하3305</td>\n      <td>1.411220e+16</td>\n      <td>1.000000e+14</td>\n      <td>15동지하입구</td>\n      <td>정상</td>\n      <td>정기권</td>\n      <td>미출차</td>\n      <td>소형</td>\n    </tr>\n    <tr>\n      <th>38668</th>\n      <td>2022-10-05</td>\n      <td>19:03:47</td>\n      <td>50머4665</td>\n      <td>1.411220e+16</td>\n      <td>1.000000e+14</td>\n      <td>15동지하입구</td>\n      <td>정상</td>\n      <td>정기권</td>\n      <td>미출차</td>\n      <td>소형</td>\n    </tr>\n    <tr>\n      <th>38669</th>\n      <td>2022-10-05</td>\n      <td>19:44:02</td>\n      <td>323러9283</td>\n      <td>1.411220e+16</td>\n      <td>1.000000e+14</td>\n      <td>15동지하입구</td>\n      <td>정상</td>\n      <td>정기권</td>\n      <td>미출차</td>\n      <td>소형</td>\n    </tr>\n    <tr>\n      <th>38670</th>\n      <td>2022-10-05</td>\n      <td>19:46:40</td>\n      <td>09도7906</td>\n      <td>1.411220e+16</td>\n      <td>1.000000e+14</td>\n      <td>15동지하입구</td>\n      <td>정상</td>\n      <td>정기권</td>\n      <td>미출차</td>\n      <td>소형</td>\n    </tr>\n    <tr>\n      <th>38671</th>\n      <td>2022-10-05</td>\n      <td>20:16:15</td>\n      <td>62수0808</td>\n      <td>1.411220e+16</td>\n      <td>1.000000e+14</td>\n      <td>15동지하입구</td>\n      <td>정상</td>\n      <td>정기권</td>\n      <td>미출차</td>\n      <td>소형</td>\n    </tr>\n  </tbody>\n</table>\n<p>38672 rows × 10 columns</p>\n</div>"
     },
     "execution_count": 11,
     "metadata": {},
     "output_type": "execute_result"
    }
   ],
   "source": [
    "darae_out[darae_out['출차고객구분'] != '정기권']"
   ],
   "metadata": {
    "collapsed": false
   }
  },
  {
   "cell_type": "code",
   "execution_count": 13,
   "outputs": [
    {
     "data": {
      "text/plain": "정기권                   38616\n일반                       53\n할인                        3\nName: 입차고객구분, dtype: int64"
     },
     "execution_count": 13,
     "metadata": {},
     "output_type": "execute_result"
    }
   ],
   "source": [
    "darae_in['입차고객구분'].value_counts()"
   ],
   "metadata": {
    "collapsed": false
   }
  },
  {
   "cell_type": "code",
   "execution_count": 222,
   "outputs": [
    {
     "name": "stderr",
     "output_type": "stream",
     "text": [
      "/var/folders/nd/cl2nzwh13zx7jdly2t5m95340000gn/T/ipykernel_40230/2057935467.py:1: DtypeWarning: Columns (0,1,2,5,6,7,8,9) have mixed types. Specify dtype option on import or set low_memory=False.\n",
      "  darae_in = pd.read_csv('./data/VW_InCarinfo (차량 입차 정보 조회).csv')\n"
     ]
    }
   ],
   "source": [
    "darae_in = pd.read_csv('./data/VW_InCarinfo (차량 입차 정보 조회).csv')\n",
    "darae_in = darae_in.dropna()\n",
    "darae_out = pd.read_csv('./data/VW_OutCarinfo (차량 출차 정보 조회).csv')\n",
    "darae_in[['입차고객구분']]= darae_in[['입차고객구분']].apply(lambda x: x.str.strip(), axis = 1)\n",
    "darae_in[['장비명','입차구분','입차고객구분','출차여부','차량종류']] = darae_in[['장비명','입차구분','입차고객구분','출차여부','차량종류']].apply(lambda x: x.str.strip(), axis = 1)\n",
    "darae_out[['장비명','출차구분','출차고객구분','출차여부','차량종류']]= darae_out[['장비명','출차구분','출차고객구분','출차여부','차량종류']].apply(lambda x: x.str.strip(), axis = 1)"
   ],
   "metadata": {
    "collapsed": false
   }
  },
  {
   "cell_type": "markdown",
   "source": [
    "## 이름 바꾸기 13_1동 지하 1 > 13_1동"
   ],
   "metadata": {
    "collapsed": false
   }
  },
  {
   "cell_type": "code",
   "execution_count": 223,
   "outputs": [
    {
     "name": "stderr",
     "output_type": "stream",
     "text": [
      "/var/folders/nd/cl2nzwh13zx7jdly2t5m95340000gn/T/ipykernel_40230/3206655803.py:6: SettingWithCopyWarning: \n",
      "A value is trying to be set on a copy of a slice from a DataFrame\n",
      "\n",
      "See the caveats in the documentation: https://pandas.pydata.org/pandas-docs/stable/user_guide/indexing.html#returning-a-view-versus-a-copy\n",
      "  df['주차장'][i] = reg\n",
      "/var/folders/nd/cl2nzwh13zx7jdly2t5m95340000gn/T/ipykernel_40230/3206655803.py:6: SettingWithCopyWarning: \n",
      "A value is trying to be set on a copy of a slice from a DataFrame\n",
      "\n",
      "See the caveats in the documentation: https://pandas.pydata.org/pandas-docs/stable/user_guide/indexing.html#returning-a-view-versus-a-copy\n",
      "  df['주차장'][i] = reg\n"
     ]
    }
   ],
   "source": [
    "import re\n",
    "def slicing(df,i) :\n",
    "    pattern = '.*동'\n",
    "    reg = re.search(pattern, df['장비명'][i])\n",
    "    reg = reg.group()\n",
    "    df['주차장'][i] = reg\n",
    "    return reg\n",
    "\n",
    "darae_in['주차장'] = 0\n",
    "for i in range(len(darae_in)):\n",
    "    slicing(darae_in,i)\n",
    "darae_out['주차장'] = 0\n",
    "for i in range(len(darae_out)):\n",
    "    slicing(darae_out,i)\n",
    "\n",
    "def change(x):\n",
    "    if x =='13-1동' or x =='13-2동' or x =='13-3동':\n",
    "        return '13동'\n",
    "    elif x == '14-1동' or x == '14-2동':\n",
    "        return '14동'\n",
    "    else :\n",
    "        return x\n",
    "darae_in['주차장'] = darae_in['주차장'].apply(change)\n",
    "darae_out['주차장'] = darae_out['주차장'].apply(change)"
   ],
   "metadata": {
    "collapsed": false
   }
  },
  {
   "cell_type": "markdown",
   "source": [
    "- 입차 중복 > 입차기록 있으나 출차 기록 없는 경우\n",
    "- 출차 중복 > 입차기록 없으나 출차 기록 있는 경우"
   ],
   "metadata": {
    "collapsed": false
   }
  },
  {
   "cell_type": "code",
   "execution_count": 224,
   "outputs": [],
   "source": [
    "darae_in['입차시간'] = darae_in['입차일자'] +  darae_in['입차시각']\n",
    "darae_out['출차시간'] = darae_out['출차일자']  + darae_out['출차시각']\n",
    "darae_in['입차시간'] = pd.to_datetime(darae_in['입차시간']).apply(del_min_sec)\n",
    "darae_out['출차시간'] = pd.to_datetime(darae_out['출차시간']).apply(del_min_sec)\n",
    "\n",
    "darae_in_ticket = darae_in[darae_in['입차고객구분']=='정기권']\n",
    "darae_in_normal = darae_in[darae_in['입차고객구분']!='정기권']\n",
    "\n",
    "darae_out_ticket = darae_out[darae_out['출차고객구분']=='정기권']\n",
    "darae_out_normal = darae_out[darae_out['출차고객구분']!='정기권']"
   ],
   "metadata": {
    "collapsed": false
   }
  },
  {
   "cell_type": "code",
   "execution_count": 225,
   "outputs": [],
   "source": [
    "darae_in_ticket = darae_in_ticket.groupby(['입차시간','주차장']).count().reset_index().rename({'입차일자':'입차대수'}, axis=1).iloc[:,:3]\n",
    "darae_in_ticket['고객구분'] = '정기권'\n",
    "darae_in_normal = darae_in_normal.groupby(['입차시간','주차장']).count().reset_index().rename({'입차일자':'입차대수'}, axis=1).iloc[:,:3]\n",
    "darae_in_normal['고객구분'] = '비정기권'\n",
    "\n",
    "darae_out_ticket = darae_out_ticket.groupby(['출차시간','주차장']).count().reset_index().rename({'출차일자':'출차대수'}, axis=1).iloc[:,:3]\n",
    "darae_out_ticket['고객구분'] = '정기권'\n",
    "darae_out_normal = darae_out_normal.groupby(['출차시간','주차장']).count().reset_index().rename({'출차일자':'출차대수'}, axis=1).iloc[:,:3]\n",
    "darae_out_normal['고객구분'] = '비정기권'\n"
   ],
   "metadata": {
    "collapsed": false
   }
  },
  {
   "cell_type": "markdown",
   "source": [
    "## 빈 시간 채우기\n",
    "- 처음에 9월 1일 0시 넣고 마지막에 9월 31일 23시 넣기"
   ],
   "metadata": {
    "collapsed": false
   }
  },
  {
   "cell_type": "code",
   "execution_count": 226,
   "outputs": [
    {
     "data": {
      "text/plain": "['13동', '15동', '12동', '14동']"
     },
     "execution_count": 226,
     "metadata": {},
     "output_type": "execute_result"
    }
   ],
   "source": [
    "list(darae_out['주차장'].unique())"
   ],
   "metadata": {
    "collapsed": false
   }
  },
  {
   "cell_type": "code",
   "execution_count": 227,
   "outputs": [],
   "source": [
    "def null_time(df,parking_name,time_column,InOut_column,start_time,end_time):\n",
    "    df = df[df['주차장'] == parking_name]\n",
    "    set_time = pd.date_range(start_time, end_time, freq='h')\n",
    "    data =  pd.DataFrame(index=set_time)\n",
    "    data = pd.merge(data, df, left_index=True, right_on=time_column, how='left')\n",
    "    data['주차장'] = data['주차장'].fillna(parking_name)\n",
    "    data[InOut_column] = data[InOut_column].fillna(0)\n",
    "    return data"
   ],
   "metadata": {
    "collapsed": false
   }
  },
  {
   "cell_type": "code",
   "execution_count": 228,
   "outputs": [],
   "source": [
    "parking_list = list(darae_in['주차장'].unique())\n",
    "\n",
    "darae_ticket_analysis = pd.DataFrame()\n",
    "for i in parking_list:\n",
    "    tmp_out = null_time(darae_out_ticket,i,'출차시간','출차대수','20220901000000','20220930235959').set_index('출차시간')\n",
    "    tmp_in = null_time(darae_in_ticket,i,'입차시간','입차대수','20220901000000','20220930235959').set_index('입차시간')\n",
    "    tmp_out = tmp_out.reset_index()\n",
    "    tmp_in = tmp_in.reset_index()\n",
    "    darae_ticket = pd.merge(tmp_in,tmp_out, left_on =['입차시간','주차장'], right_on = ['출차시간','주차장'] ,how = 'left')\n",
    "    darae_ticket = darae_ticket.drop(['출차시간'],axis=1)\n",
    "    darae_ticket = darae_ticket.rename({'입차시간' : '일시'},axis=1)\n",
    "    darae_ticket['입출차 차이'] = darae_ticket['입차대수'] - darae_ticket['출차대수']\n",
    "    darae_ticket['입출차 누계'] = darae_ticket['입출차 차이'].cumsum()\n",
    "    darae_ticket = darae_ticket.set_index('일시')\n",
    "    if darae_ticket['입출차 누계'].min() < 0:\n",
    "        darae_ticket['입출차 누계'] -= darae_ticket['입출차 누계'].min()\n",
    "    darae_ticket['연'] = darae_ticket.index.year\n",
    "    darae_ticket['월'] = darae_ticket.index.month\n",
    "    darae_ticket['일'] = darae_ticket.index.day\n",
    "    darae_ticket['시각'] = darae_ticket.index.hour\n",
    "\n",
    "    darae_ticket_analysis = pd.concat([darae_ticket_analysis,darae_ticket],axis=0)\n",
    "\n",
    "darae_ticket_analysis = darae_ticket_analysis.rename({'고객구분_x' : '고객구분'},axis=1)\n",
    "darae_ticket_analysis.drop('고객구분_y',axis=1,inplace =True)\n",
    "darae_ticket_analysis['고객구분'] = darae_ticket_analysis['고객구분'].fillna('정기권')\n",
    "darae_ticket_analysis\n",
    "\n",
    "\n",
    "parking_list = list(darae_out['주차장'].unique())\n",
    "\n",
    "darae_normal_analysis = pd.DataFrame()\n",
    "for i in parking_list:\n",
    "    tmp_out = null_time(darae_out_normal,i,'출차시간','출차대수','20220901000000','20220930235959').set_index('출차시간')\n",
    "    tmp_in = null_time(darae_in_normal,i,'입차시간','입차대수','20220901000000','20220930235959').set_index('입차시간')\n",
    "    tmp_out = tmp_out.reset_index()\n",
    "    tmp_in = tmp_in.reset_index()\n",
    "    darae_normal = pd.merge(tmp_in,tmp_out, left_on =['입차시간','주차장'], right_on = ['출차시간','주차장'] ,how = 'left')\n",
    "    darae_normal = darae_normal.drop(['출차시간'],axis=1)\n",
    "    darae_normal = darae_normal.rename({'입차시간' : '일시'},axis=1)\n",
    "    darae_normal['입출차 차이'] = darae_normal['입차대수'] - darae_normal['출차대수']\n",
    "    darae_normal['입출차 누계'] = darae_normal['입출차 차이'].cumsum()\n",
    "    darae_normal = darae_normal.set_index('일시')\n",
    "    if darae_normal['입출차 누계'].min() < 0:\n",
    "        darae_normal['입출차 누계'] -= darae_normal['입출차 누계'].min()\n",
    "    darae_normal['연'] = darae_normal.index.year\n",
    "    darae_normal['월'] = darae_normal.index.month\n",
    "    darae_normal['일'] = darae_normal.index.day\n",
    "    darae_normal['시각'] = darae_normal.index.hour\n",
    "\n",
    "    darae_normal_analysis = pd.concat([darae_normal_analysis,darae_normal],axis=0)\n",
    "\n",
    "darae_normal_analysis = darae_normal_analysis.rename({'고객구분_x' : '고객구분'},axis=1)\n",
    "darae_normal_analysis.drop('고객구분_y',axis=1,inplace =True)\n",
    "darae_normal_analysis['고객구분'] = darae_normal_analysis['고객구분'].fillna('비정기권')"
   ],
   "metadata": {
    "collapsed": false
   }
  },
  {
   "cell_type": "code",
   "execution_count": 229,
   "outputs": [
    {
     "data": {
      "text/plain": "                     주차장  입차대수  고객구분  출차대수  입출차 차이  입출차 누계     연  월   일  시각\n일시                                                                         \n2022-09-01 00:00:00  13동     0   정기권     0       0       0  2022  9   1   0\n2022-09-01 01:00:00  13동     0   정기권     0       0       0  2022  9   1   1\n2022-09-01 02:00:00  13동     0   정기권     0       0       0  2022  9   1   2\n2022-09-01 03:00:00  13동     2   정기권     0       2       2  2022  9   1   3\n2022-09-01 04:00:00  13동     0   정기권     0       0       2  2022  9   1   4\n...                  ...   ...   ...   ...     ...     ...   ... ..  ..  ..\n2022-09-30 19:00:00  14동     0  비정기권     0       0       0  2022  9  30  19\n2022-09-30 20:00:00  14동     0  비정기권     0       0       0  2022  9  30  20\n2022-09-30 21:00:00  14동     0  비정기권     0       0       0  2022  9  30  21\n2022-09-30 22:00:00  14동     0  비정기권     0       0       0  2022  9  30  22\n2022-09-30 23:00:00  14동     0  비정기권     0       0       0  2022  9  30  23\n\n[5760 rows x 10 columns]",
      "text/html": "<div>\n<style scoped>\n    .dataframe tbody tr th:only-of-type {\n        vertical-align: middle;\n    }\n\n    .dataframe tbody tr th {\n        vertical-align: top;\n    }\n\n    .dataframe thead th {\n        text-align: right;\n    }\n</style>\n<table border=\"1\" class=\"dataframe\">\n  <thead>\n    <tr style=\"text-align: right;\">\n      <th></th>\n      <th>주차장</th>\n      <th>입차대수</th>\n      <th>고객구분</th>\n      <th>출차대수</th>\n      <th>입출차 차이</th>\n      <th>입출차 누계</th>\n      <th>연</th>\n      <th>월</th>\n      <th>일</th>\n      <th>시각</th>\n    </tr>\n    <tr>\n      <th>일시</th>\n      <th></th>\n      <th></th>\n      <th></th>\n      <th></th>\n      <th></th>\n      <th></th>\n      <th></th>\n      <th></th>\n      <th></th>\n      <th></th>\n    </tr>\n  </thead>\n  <tbody>\n    <tr>\n      <th>2022-09-01 00:00:00</th>\n      <td>13동</td>\n      <td>0</td>\n      <td>정기권</td>\n      <td>0</td>\n      <td>0</td>\n      <td>0</td>\n      <td>2022</td>\n      <td>9</td>\n      <td>1</td>\n      <td>0</td>\n    </tr>\n    <tr>\n      <th>2022-09-01 01:00:00</th>\n      <td>13동</td>\n      <td>0</td>\n      <td>정기권</td>\n      <td>0</td>\n      <td>0</td>\n      <td>0</td>\n      <td>2022</td>\n      <td>9</td>\n      <td>1</td>\n      <td>1</td>\n    </tr>\n    <tr>\n      <th>2022-09-01 02:00:00</th>\n      <td>13동</td>\n      <td>0</td>\n      <td>정기권</td>\n      <td>0</td>\n      <td>0</td>\n      <td>0</td>\n      <td>2022</td>\n      <td>9</td>\n      <td>1</td>\n      <td>2</td>\n    </tr>\n    <tr>\n      <th>2022-09-01 03:00:00</th>\n      <td>13동</td>\n      <td>2</td>\n      <td>정기권</td>\n      <td>0</td>\n      <td>2</td>\n      <td>2</td>\n      <td>2022</td>\n      <td>9</td>\n      <td>1</td>\n      <td>3</td>\n    </tr>\n    <tr>\n      <th>2022-09-01 04:00:00</th>\n      <td>13동</td>\n      <td>0</td>\n      <td>정기권</td>\n      <td>0</td>\n      <td>0</td>\n      <td>2</td>\n      <td>2022</td>\n      <td>9</td>\n      <td>1</td>\n      <td>4</td>\n    </tr>\n    <tr>\n      <th>...</th>\n      <td>...</td>\n      <td>...</td>\n      <td>...</td>\n      <td>...</td>\n      <td>...</td>\n      <td>...</td>\n      <td>...</td>\n      <td>...</td>\n      <td>...</td>\n      <td>...</td>\n    </tr>\n    <tr>\n      <th>2022-09-30 19:00:00</th>\n      <td>14동</td>\n      <td>0</td>\n      <td>비정기권</td>\n      <td>0</td>\n      <td>0</td>\n      <td>0</td>\n      <td>2022</td>\n      <td>9</td>\n      <td>30</td>\n      <td>19</td>\n    </tr>\n    <tr>\n      <th>2022-09-30 20:00:00</th>\n      <td>14동</td>\n      <td>0</td>\n      <td>비정기권</td>\n      <td>0</td>\n      <td>0</td>\n      <td>0</td>\n      <td>2022</td>\n      <td>9</td>\n      <td>30</td>\n      <td>20</td>\n    </tr>\n    <tr>\n      <th>2022-09-30 21:00:00</th>\n      <td>14동</td>\n      <td>0</td>\n      <td>비정기권</td>\n      <td>0</td>\n      <td>0</td>\n      <td>0</td>\n      <td>2022</td>\n      <td>9</td>\n      <td>30</td>\n      <td>21</td>\n    </tr>\n    <tr>\n      <th>2022-09-30 22:00:00</th>\n      <td>14동</td>\n      <td>0</td>\n      <td>비정기권</td>\n      <td>0</td>\n      <td>0</td>\n      <td>0</td>\n      <td>2022</td>\n      <td>9</td>\n      <td>30</td>\n      <td>22</td>\n    </tr>\n    <tr>\n      <th>2022-09-30 23:00:00</th>\n      <td>14동</td>\n      <td>0</td>\n      <td>비정기권</td>\n      <td>0</td>\n      <td>0</td>\n      <td>0</td>\n      <td>2022</td>\n      <td>9</td>\n      <td>30</td>\n      <td>23</td>\n    </tr>\n  </tbody>\n</table>\n<p>5760 rows × 10 columns</p>\n</div>"
     },
     "execution_count": 229,
     "metadata": {},
     "output_type": "execute_result"
    }
   ],
   "source": [
    "darae_analysis = pd.concat([darae_ticket_analysis,darae_normal_analysis])\n",
    "darae_analysis"
   ],
   "metadata": {
    "collapsed": false
   }
  },
  {
   "cell_type": "code",
   "execution_count": 230,
   "outputs": [
    {
     "data": {
      "text/plain": "                            주차장  입차대수  출차대수  입출차 차이  입출차 누계 차량구분     연   월  일  \\\n일시                                                                              \n2020-10-01 00:00:00  주차1동, 주차2동     0     0       0      96  정기권  2020  10  1   \n2020-10-01 01:00:00  주차1동, 주차2동     0     0       0      96  정기권  2020  10  1   \n2020-10-01 02:00:00  주차1동, 주차2동     0     0       0      96  정기권  2020  10  1   \n2020-10-01 03:00:00  주차1동, 주차2동     0     0       0      96  정기권  2020  10  1   \n2020-10-01 04:00:00  주차1동, 주차2동     0     0       0      96  정기권  2020  10  1   \n...                         ...   ...   ...     ...     ...  ...   ...  .. ..   \n2022-10-01 19:00:00  주차1동, 주차2동     1     1       0      12  정기권  2022  10  1   \n2022-10-01 20:00:00  주차1동, 주차2동     0     1      -1      11  정기권  2022  10  1   \n2022-10-01 21:00:00  주차1동, 주차2동     0     0       0      11  정기권  2022  10  1   \n2022-10-01 22:00:00  주차1동, 주차2동     1     0       1      12  정기권  2022  10  1   \n2022-10-01 23:00:00  주차1동, 주차2동     0     1      -1      11  정기권  2022  10  1   \n\n                     시각  \n일시                       \n2020-10-01 00:00:00   0  \n2020-10-01 01:00:00   1  \n2020-10-01 02:00:00   2  \n2020-10-01 03:00:00   3  \n2020-10-01 04:00:00   4  \n...                  ..  \n2022-10-01 19:00:00  19  \n2022-10-01 20:00:00  20  \n2022-10-01 21:00:00  21  \n2022-10-01 22:00:00  22  \n2022-10-01 23:00:00  23  \n\n[17544 rows x 10 columns]",
      "text/html": "<div>\n<style scoped>\n    .dataframe tbody tr th:only-of-type {\n        vertical-align: middle;\n    }\n\n    .dataframe tbody tr th {\n        vertical-align: top;\n    }\n\n    .dataframe thead th {\n        text-align: right;\n    }\n</style>\n<table border=\"1\" class=\"dataframe\">\n  <thead>\n    <tr style=\"text-align: right;\">\n      <th></th>\n      <th>주차장</th>\n      <th>입차대수</th>\n      <th>출차대수</th>\n      <th>입출차 차이</th>\n      <th>입출차 누계</th>\n      <th>차량구분</th>\n      <th>연</th>\n      <th>월</th>\n      <th>일</th>\n      <th>시각</th>\n    </tr>\n    <tr>\n      <th>일시</th>\n      <th></th>\n      <th></th>\n      <th></th>\n      <th></th>\n      <th></th>\n      <th></th>\n      <th></th>\n      <th></th>\n      <th></th>\n      <th></th>\n    </tr>\n  </thead>\n  <tbody>\n    <tr>\n      <th>2020-10-01 00:00:00</th>\n      <td>주차1동, 주차2동</td>\n      <td>0</td>\n      <td>0</td>\n      <td>0</td>\n      <td>96</td>\n      <td>정기권</td>\n      <td>2020</td>\n      <td>10</td>\n      <td>1</td>\n      <td>0</td>\n    </tr>\n    <tr>\n      <th>2020-10-01 01:00:00</th>\n      <td>주차1동, 주차2동</td>\n      <td>0</td>\n      <td>0</td>\n      <td>0</td>\n      <td>96</td>\n      <td>정기권</td>\n      <td>2020</td>\n      <td>10</td>\n      <td>1</td>\n      <td>1</td>\n    </tr>\n    <tr>\n      <th>2020-10-01 02:00:00</th>\n      <td>주차1동, 주차2동</td>\n      <td>0</td>\n      <td>0</td>\n      <td>0</td>\n      <td>96</td>\n      <td>정기권</td>\n      <td>2020</td>\n      <td>10</td>\n      <td>1</td>\n      <td>2</td>\n    </tr>\n    <tr>\n      <th>2020-10-01 03:00:00</th>\n      <td>주차1동, 주차2동</td>\n      <td>0</td>\n      <td>0</td>\n      <td>0</td>\n      <td>96</td>\n      <td>정기권</td>\n      <td>2020</td>\n      <td>10</td>\n      <td>1</td>\n      <td>3</td>\n    </tr>\n    <tr>\n      <th>2020-10-01 04:00:00</th>\n      <td>주차1동, 주차2동</td>\n      <td>0</td>\n      <td>0</td>\n      <td>0</td>\n      <td>96</td>\n      <td>정기권</td>\n      <td>2020</td>\n      <td>10</td>\n      <td>1</td>\n      <td>4</td>\n    </tr>\n    <tr>\n      <th>...</th>\n      <td>...</td>\n      <td>...</td>\n      <td>...</td>\n      <td>...</td>\n      <td>...</td>\n      <td>...</td>\n      <td>...</td>\n      <td>...</td>\n      <td>...</td>\n      <td>...</td>\n    </tr>\n    <tr>\n      <th>2022-10-01 19:00:00</th>\n      <td>주차1동, 주차2동</td>\n      <td>1</td>\n      <td>1</td>\n      <td>0</td>\n      <td>12</td>\n      <td>정기권</td>\n      <td>2022</td>\n      <td>10</td>\n      <td>1</td>\n      <td>19</td>\n    </tr>\n    <tr>\n      <th>2022-10-01 20:00:00</th>\n      <td>주차1동, 주차2동</td>\n      <td>0</td>\n      <td>1</td>\n      <td>-1</td>\n      <td>11</td>\n      <td>정기권</td>\n      <td>2022</td>\n      <td>10</td>\n      <td>1</td>\n      <td>20</td>\n    </tr>\n    <tr>\n      <th>2022-10-01 21:00:00</th>\n      <td>주차1동, 주차2동</td>\n      <td>0</td>\n      <td>0</td>\n      <td>0</td>\n      <td>11</td>\n      <td>정기권</td>\n      <td>2022</td>\n      <td>10</td>\n      <td>1</td>\n      <td>21</td>\n    </tr>\n    <tr>\n      <th>2022-10-01 22:00:00</th>\n      <td>주차1동, 주차2동</td>\n      <td>1</td>\n      <td>0</td>\n      <td>1</td>\n      <td>12</td>\n      <td>정기권</td>\n      <td>2022</td>\n      <td>10</td>\n      <td>1</td>\n      <td>22</td>\n    </tr>\n    <tr>\n      <th>2022-10-01 23:00:00</th>\n      <td>주차1동, 주차2동</td>\n      <td>0</td>\n      <td>1</td>\n      <td>-1</td>\n      <td>11</td>\n      <td>정기권</td>\n      <td>2022</td>\n      <td>10</td>\n      <td>1</td>\n      <td>23</td>\n    </tr>\n  </tbody>\n</table>\n<p>17544 rows × 10 columns</p>\n</div>"
     },
     "execution_count": 230,
     "metadata": {},
     "output_type": "execute_result"
    }
   ],
   "source": [
    "from datetime import datetime\n",
    "\n",
    "set_time = pd.date_range('20201001', '20221001230000', freq='h')\n",
    "hanmeak_ticket_analysis = pd.DataFrame(index=set_time)\n",
    "hanmeak_ticket_analysis = pd.merge(hanmeak_ticket_analysis, car_ticket_all, left_index=True, right_on='일시', how='left').fillna(0)\n",
    "hanmeak_ticket_analysis = hanmeak_ticket_analysis.set_index('일시')\n",
    "hanmeak_ticket_analysis['입출차 누계'] = hanmeak_ticket_analysis['입출차 차이'].cumsum()\n",
    "\n",
    "# 누계가 음수인 경우, 최솟값만큼 기존에 차가 있었다고 가정함\n",
    "if hanmeak_ticket_analysis['입출차 누계'].min() < 0:\n",
    "    hanmeak_ticket_analysis['입출차 누계'] -= hanmeak_ticket_analysis['입출차 누계'].min()\n",
    "\n",
    "hanmeak_ticket_analysis['연'] = hanmeak_ticket_analysis.index.year\n",
    "hanmeak_ticket_analysis['월'] = hanmeak_ticket_analysis.index.month\n",
    "hanmeak_ticket_analysis['일'] = hanmeak_ticket_analysis.index.day\n",
    "hanmeak_ticket_analysis['시각'] = hanmeak_ticket_analysis.index.hour\n",
    "hanmeak_ticket_analysis['주차장'] = hanmeak_ticket_analysis['주차장'].replace(0,'주차1동, 주차2동')\n",
    "hanmeak_ticket_analysis['차량구분'] = hanmeak_ticket_analysis['차량구분'].replace(0,'정기권')\n",
    "\n",
    "hanmeak_ticket_analysis = hanmeak_ticket_analysis[['주차장', '입차대수', '출차대수', '입출차 차이', '입출차 누계','차량구분', '연', '월', '일', '시각']]"
   ],
   "metadata": {
    "collapsed": false
   }
  },
  {
   "cell_type": "code",
   "execution_count": 236,
   "outputs": [],
   "source": [
    "from datetime import datetime\n",
    "\n",
    "set_time = pd.date_range('20201001', '20221001230000', freq='h')\n",
    "hanmeak_normal_analysis = pd.DataFrame(index=set_time)\n",
    "hanmeak_normal_analysis = pd.merge(hanmeak_normal_analysis, car_normal_all, left_index=True, right_on='일시', how='left').fillna(0)\n",
    "hanmeak_normal_analysis = hanmeak_normal_analysis.set_index('일시')\n",
    "hanmeak_normal_analysis['입출차 누계'] = hanmeak_normal_analysis['입출차 차이'].cumsum()\n",
    "# 누계가 음수인 경우, 최솟값만큼 기존에 차가 있었다고 가정함\n",
    "if hanmeak_normal_analysis['입출차 누계'].min() < 0:\n",
    "    hanmeak_normal_analysis['입출차 누계'] -= hanmeak_normal_analysis['입출차 누계'].min()\n",
    "\n",
    "hanmeak_normal_analysis['연'] = hanmeak_normal_analysis.index.year\n",
    "hanmeak_normal_analysis['월'] = hanmeak_normal_analysis.index.month\n",
    "hanmeak_normal_analysis['일'] = hanmeak_normal_analysis.index.day\n",
    "hanmeak_normal_analysis['시각'] = hanmeak_normal_analysis.index.hour\n",
    "hanmeak_normal_analysis['주차장'] = hanmeak_normal_analysis['주차장'].replace(0,'주차1동, 주차2동')\n",
    "hanmeak_normal_analysis['차량구분'] = hanmeak_normal_analysis['차량구분'].replace(0,'비정기권')\n",
    "\n",
    "hanmeak_normal_analysis = hanmeak_normal_analysis[['주차장', '입차대수', '출차대수', '입출차 차이', '입출차 누계','차량구분', '연', '월', '일', '시각']]"
   ],
   "metadata": {
    "collapsed": false
   }
  },
  {
   "cell_type": "code",
   "execution_count": 240,
   "outputs": [
    {
     "data": {
      "text/plain": "                            주차장  입차대수  출차대수  입출차 차이  입출차 누계 차량구분     연   월  일  \\\n일시                                                                              \n2020-10-01 00:00:00  주차1동, 주차2동     0     0       0      96  정기권  2020  10  1   \n2020-10-01 01:00:00  주차1동, 주차2동     0     0       0      96  정기권  2020  10  1   \n2020-10-01 02:00:00  주차1동, 주차2동     0     0       0      96  정기권  2020  10  1   \n2020-10-01 03:00:00  주차1동, 주차2동     0     0       0      96  정기권  2020  10  1   \n2020-10-01 04:00:00  주차1동, 주차2동     0     0       0      96  정기권  2020  10  1   \n...                         ...   ...   ...     ...     ...  ...   ...  .. ..   \n2022-10-01 19:00:00  주차1동, 주차2동     1     1       0      12  정기권  2022  10  1   \n2022-10-01 20:00:00  주차1동, 주차2동     0     1      -1      11  정기권  2022  10  1   \n2022-10-01 21:00:00  주차1동, 주차2동     0     0       0      11  정기권  2022  10  1   \n2022-10-01 22:00:00  주차1동, 주차2동     1     0       1      12  정기권  2022  10  1   \n2022-10-01 23:00:00  주차1동, 주차2동     0     1      -1      11  정기권  2022  10  1   \n\n                     시각  \n일시                       \n2020-10-01 00:00:00   0  \n2020-10-01 01:00:00   1  \n2020-10-01 02:00:00   2  \n2020-10-01 03:00:00   3  \n2020-10-01 04:00:00   4  \n...                  ..  \n2022-10-01 19:00:00  19  \n2022-10-01 20:00:00  20  \n2022-10-01 21:00:00  21  \n2022-10-01 22:00:00  22  \n2022-10-01 23:00:00  23  \n\n[17544 rows x 10 columns]",
      "text/html": "<div>\n<style scoped>\n    .dataframe tbody tr th:only-of-type {\n        vertical-align: middle;\n    }\n\n    .dataframe tbody tr th {\n        vertical-align: top;\n    }\n\n    .dataframe thead th {\n        text-align: right;\n    }\n</style>\n<table border=\"1\" class=\"dataframe\">\n  <thead>\n    <tr style=\"text-align: right;\">\n      <th></th>\n      <th>주차장</th>\n      <th>입차대수</th>\n      <th>출차대수</th>\n      <th>입출차 차이</th>\n      <th>입출차 누계</th>\n      <th>차량구분</th>\n      <th>연</th>\n      <th>월</th>\n      <th>일</th>\n      <th>시각</th>\n    </tr>\n    <tr>\n      <th>일시</th>\n      <th></th>\n      <th></th>\n      <th></th>\n      <th></th>\n      <th></th>\n      <th></th>\n      <th></th>\n      <th></th>\n      <th></th>\n      <th></th>\n    </tr>\n  </thead>\n  <tbody>\n    <tr>\n      <th>2020-10-01 00:00:00</th>\n      <td>주차1동, 주차2동</td>\n      <td>0</td>\n      <td>0</td>\n      <td>0</td>\n      <td>96</td>\n      <td>정기권</td>\n      <td>2020</td>\n      <td>10</td>\n      <td>1</td>\n      <td>0</td>\n    </tr>\n    <tr>\n      <th>2020-10-01 01:00:00</th>\n      <td>주차1동, 주차2동</td>\n      <td>0</td>\n      <td>0</td>\n      <td>0</td>\n      <td>96</td>\n      <td>정기권</td>\n      <td>2020</td>\n      <td>10</td>\n      <td>1</td>\n      <td>1</td>\n    </tr>\n    <tr>\n      <th>2020-10-01 02:00:00</th>\n      <td>주차1동, 주차2동</td>\n      <td>0</td>\n      <td>0</td>\n      <td>0</td>\n      <td>96</td>\n      <td>정기권</td>\n      <td>2020</td>\n      <td>10</td>\n      <td>1</td>\n      <td>2</td>\n    </tr>\n    <tr>\n      <th>2020-10-01 03:00:00</th>\n      <td>주차1동, 주차2동</td>\n      <td>0</td>\n      <td>0</td>\n      <td>0</td>\n      <td>96</td>\n      <td>정기권</td>\n      <td>2020</td>\n      <td>10</td>\n      <td>1</td>\n      <td>3</td>\n    </tr>\n    <tr>\n      <th>2020-10-01 04:00:00</th>\n      <td>주차1동, 주차2동</td>\n      <td>0</td>\n      <td>0</td>\n      <td>0</td>\n      <td>96</td>\n      <td>정기권</td>\n      <td>2020</td>\n      <td>10</td>\n      <td>1</td>\n      <td>4</td>\n    </tr>\n    <tr>\n      <th>...</th>\n      <td>...</td>\n      <td>...</td>\n      <td>...</td>\n      <td>...</td>\n      <td>...</td>\n      <td>...</td>\n      <td>...</td>\n      <td>...</td>\n      <td>...</td>\n      <td>...</td>\n    </tr>\n    <tr>\n      <th>2022-10-01 19:00:00</th>\n      <td>주차1동, 주차2동</td>\n      <td>1</td>\n      <td>1</td>\n      <td>0</td>\n      <td>12</td>\n      <td>정기권</td>\n      <td>2022</td>\n      <td>10</td>\n      <td>1</td>\n      <td>19</td>\n    </tr>\n    <tr>\n      <th>2022-10-01 20:00:00</th>\n      <td>주차1동, 주차2동</td>\n      <td>0</td>\n      <td>1</td>\n      <td>-1</td>\n      <td>11</td>\n      <td>정기권</td>\n      <td>2022</td>\n      <td>10</td>\n      <td>1</td>\n      <td>20</td>\n    </tr>\n    <tr>\n      <th>2022-10-01 21:00:00</th>\n      <td>주차1동, 주차2동</td>\n      <td>0</td>\n      <td>0</td>\n      <td>0</td>\n      <td>11</td>\n      <td>정기권</td>\n      <td>2022</td>\n      <td>10</td>\n      <td>1</td>\n      <td>21</td>\n    </tr>\n    <tr>\n      <th>2022-10-01 22:00:00</th>\n      <td>주차1동, 주차2동</td>\n      <td>1</td>\n      <td>0</td>\n      <td>1</td>\n      <td>12</td>\n      <td>정기권</td>\n      <td>2022</td>\n      <td>10</td>\n      <td>1</td>\n      <td>22</td>\n    </tr>\n    <tr>\n      <th>2022-10-01 23:00:00</th>\n      <td>주차1동, 주차2동</td>\n      <td>0</td>\n      <td>1</td>\n      <td>-1</td>\n      <td>11</td>\n      <td>정기권</td>\n      <td>2022</td>\n      <td>10</td>\n      <td>1</td>\n      <td>23</td>\n    </tr>\n  </tbody>\n</table>\n<p>17544 rows × 10 columns</p>\n</div>"
     },
     "execution_count": 240,
     "metadata": {},
     "output_type": "execute_result"
    }
   ],
   "source": [
    "hanmeak_ticket_analysis"
   ],
   "metadata": {
    "collapsed": false
   }
  },
  {
   "cell_type": "code",
   "execution_count": 250,
   "outputs": [
    {
     "data": {
      "text/plain": "                            주차장  입차대수  출차대수  입출차 차이  입출차 누계 차량구분     연   월  일  \\\n일시                                                                              \n2020-10-01 00:00:00  주차1동, 주차2동     0     0       0      96  정기권  2020  10  1   \n2020-10-01 01:00:00  주차1동, 주차2동     0     0       0      96  정기권  2020  10  1   \n2020-10-01 02:00:00  주차1동, 주차2동     0     0       0      96  정기권  2020  10  1   \n2020-10-01 03:00:00  주차1동, 주차2동     0     0       0      96  정기권  2020  10  1   \n2020-10-01 04:00:00  주차1동, 주차2동     0     0       0      96  정기권  2020  10  1   \n...                         ...   ...   ...     ...     ...  ...   ...  .. ..   \n2022-10-01 19:00:00  주차1동, 주차2동     1     1       0      12  정기권  2022  10  1   \n2022-10-01 20:00:00  주차1동, 주차2동     0     1      -1      11  정기권  2022  10  1   \n2022-10-01 21:00:00  주차1동, 주차2동     0     0       0      11  정기권  2022  10  1   \n2022-10-01 22:00:00  주차1동, 주차2동     1     0       1      12  정기권  2022  10  1   \n2022-10-01 23:00:00  주차1동, 주차2동     0     1      -1      11  정기권  2022  10  1   \n\n                     시각  \n일시                       \n2020-10-01 00:00:00   0  \n2020-10-01 01:00:00   1  \n2020-10-01 02:00:00   2  \n2020-10-01 03:00:00   3  \n2020-10-01 04:00:00   4  \n...                  ..  \n2022-10-01 19:00:00  19  \n2022-10-01 20:00:00  20  \n2022-10-01 21:00:00  21  \n2022-10-01 22:00:00  22  \n2022-10-01 23:00:00  23  \n\n[17544 rows x 10 columns]",
      "text/html": "<div>\n<style scoped>\n    .dataframe tbody tr th:only-of-type {\n        vertical-align: middle;\n    }\n\n    .dataframe tbody tr th {\n        vertical-align: top;\n    }\n\n    .dataframe thead th {\n        text-align: right;\n    }\n</style>\n<table border=\"1\" class=\"dataframe\">\n  <thead>\n    <tr style=\"text-align: right;\">\n      <th></th>\n      <th>주차장</th>\n      <th>입차대수</th>\n      <th>출차대수</th>\n      <th>입출차 차이</th>\n      <th>입출차 누계</th>\n      <th>차량구분</th>\n      <th>연</th>\n      <th>월</th>\n      <th>일</th>\n      <th>시각</th>\n    </tr>\n    <tr>\n      <th>일시</th>\n      <th></th>\n      <th></th>\n      <th></th>\n      <th></th>\n      <th></th>\n      <th></th>\n      <th></th>\n      <th></th>\n      <th></th>\n      <th></th>\n    </tr>\n  </thead>\n  <tbody>\n    <tr>\n      <th>2020-10-01 00:00:00</th>\n      <td>주차1동, 주차2동</td>\n      <td>0</td>\n      <td>0</td>\n      <td>0</td>\n      <td>96</td>\n      <td>정기권</td>\n      <td>2020</td>\n      <td>10</td>\n      <td>1</td>\n      <td>0</td>\n    </tr>\n    <tr>\n      <th>2020-10-01 01:00:00</th>\n      <td>주차1동, 주차2동</td>\n      <td>0</td>\n      <td>0</td>\n      <td>0</td>\n      <td>96</td>\n      <td>정기권</td>\n      <td>2020</td>\n      <td>10</td>\n      <td>1</td>\n      <td>1</td>\n    </tr>\n    <tr>\n      <th>2020-10-01 02:00:00</th>\n      <td>주차1동, 주차2동</td>\n      <td>0</td>\n      <td>0</td>\n      <td>0</td>\n      <td>96</td>\n      <td>정기권</td>\n      <td>2020</td>\n      <td>10</td>\n      <td>1</td>\n      <td>2</td>\n    </tr>\n    <tr>\n      <th>2020-10-01 03:00:00</th>\n      <td>주차1동, 주차2동</td>\n      <td>0</td>\n      <td>0</td>\n      <td>0</td>\n      <td>96</td>\n      <td>정기권</td>\n      <td>2020</td>\n      <td>10</td>\n      <td>1</td>\n      <td>3</td>\n    </tr>\n    <tr>\n      <th>2020-10-01 04:00:00</th>\n      <td>주차1동, 주차2동</td>\n      <td>0</td>\n      <td>0</td>\n      <td>0</td>\n      <td>96</td>\n      <td>정기권</td>\n      <td>2020</td>\n      <td>10</td>\n      <td>1</td>\n      <td>4</td>\n    </tr>\n    <tr>\n      <th>...</th>\n      <td>...</td>\n      <td>...</td>\n      <td>...</td>\n      <td>...</td>\n      <td>...</td>\n      <td>...</td>\n      <td>...</td>\n      <td>...</td>\n      <td>...</td>\n      <td>...</td>\n    </tr>\n    <tr>\n      <th>2022-10-01 19:00:00</th>\n      <td>주차1동, 주차2동</td>\n      <td>1</td>\n      <td>1</td>\n      <td>0</td>\n      <td>12</td>\n      <td>정기권</td>\n      <td>2022</td>\n      <td>10</td>\n      <td>1</td>\n      <td>19</td>\n    </tr>\n    <tr>\n      <th>2022-10-01 20:00:00</th>\n      <td>주차1동, 주차2동</td>\n      <td>0</td>\n      <td>1</td>\n      <td>-1</td>\n      <td>11</td>\n      <td>정기권</td>\n      <td>2022</td>\n      <td>10</td>\n      <td>1</td>\n      <td>20</td>\n    </tr>\n    <tr>\n      <th>2022-10-01 21:00:00</th>\n      <td>주차1동, 주차2동</td>\n      <td>0</td>\n      <td>0</td>\n      <td>0</td>\n      <td>11</td>\n      <td>정기권</td>\n      <td>2022</td>\n      <td>10</td>\n      <td>1</td>\n      <td>21</td>\n    </tr>\n    <tr>\n      <th>2022-10-01 22:00:00</th>\n      <td>주차1동, 주차2동</td>\n      <td>1</td>\n      <td>0</td>\n      <td>1</td>\n      <td>12</td>\n      <td>정기권</td>\n      <td>2022</td>\n      <td>10</td>\n      <td>1</td>\n      <td>22</td>\n    </tr>\n    <tr>\n      <th>2022-10-01 23:00:00</th>\n      <td>주차1동, 주차2동</td>\n      <td>0</td>\n      <td>1</td>\n      <td>-1</td>\n      <td>11</td>\n      <td>정기권</td>\n      <td>2022</td>\n      <td>10</td>\n      <td>1</td>\n      <td>23</td>\n    </tr>\n  </tbody>\n</table>\n<p>17544 rows × 10 columns</p>\n</div>"
     },
     "execution_count": 250,
     "metadata": {},
     "output_type": "execute_result"
    }
   ],
   "source": [
    "hanmeak_ticket_analysis"
   ],
   "metadata": {
    "collapsed": false
   }
  },
  {
   "cell_type": "code",
   "execution_count": 251,
   "outputs": [
    {
     "data": {
      "text/plain": "                     주차장  입차대수 고객구분  출차대수  입출차 차이  입출차 누계     연  월   일  시각\n일시                                                                        \n2022-09-01 00:00:00  13동     0  정기권     0       0       0  2022  9   1   0\n2022-09-01 01:00:00  13동     0  정기권     0       0       0  2022  9   1   1\n2022-09-01 02:00:00  13동     0  정기권     0       0       0  2022  9   1   2\n2022-09-01 03:00:00  13동     2  정기권     0       2       2  2022  9   1   3\n2022-09-01 04:00:00  13동     0  정기권     0       0       2  2022  9   1   4\n...                  ...   ...  ...   ...     ...     ...   ... ..  ..  ..\n2022-09-30 19:00:00  15동     1  정기권    20     -19      61  2022  9  30  19\n2022-09-30 20:00:00  15동     0  정기권     6      -6      55  2022  9  30  20\n2022-09-30 21:00:00  15동     0  정기권     0       0      55  2022  9  30  21\n2022-09-30 22:00:00  15동     0  정기권     0       0      55  2022  9  30  22\n2022-09-30 23:00:00  15동     0  정기권     0       0      55  2022  9  30  23\n\n[2880 rows x 10 columns]",
      "text/html": "<div>\n<style scoped>\n    .dataframe tbody tr th:only-of-type {\n        vertical-align: middle;\n    }\n\n    .dataframe tbody tr th {\n        vertical-align: top;\n    }\n\n    .dataframe thead th {\n        text-align: right;\n    }\n</style>\n<table border=\"1\" class=\"dataframe\">\n  <thead>\n    <tr style=\"text-align: right;\">\n      <th></th>\n      <th>주차장</th>\n      <th>입차대수</th>\n      <th>고객구분</th>\n      <th>출차대수</th>\n      <th>입출차 차이</th>\n      <th>입출차 누계</th>\n      <th>연</th>\n      <th>월</th>\n      <th>일</th>\n      <th>시각</th>\n    </tr>\n    <tr>\n      <th>일시</th>\n      <th></th>\n      <th></th>\n      <th></th>\n      <th></th>\n      <th></th>\n      <th></th>\n      <th></th>\n      <th></th>\n      <th></th>\n      <th></th>\n    </tr>\n  </thead>\n  <tbody>\n    <tr>\n      <th>2022-09-01 00:00:00</th>\n      <td>13동</td>\n      <td>0</td>\n      <td>정기권</td>\n      <td>0</td>\n      <td>0</td>\n      <td>0</td>\n      <td>2022</td>\n      <td>9</td>\n      <td>1</td>\n      <td>0</td>\n    </tr>\n    <tr>\n      <th>2022-09-01 01:00:00</th>\n      <td>13동</td>\n      <td>0</td>\n      <td>정기권</td>\n      <td>0</td>\n      <td>0</td>\n      <td>0</td>\n      <td>2022</td>\n      <td>9</td>\n      <td>1</td>\n      <td>1</td>\n    </tr>\n    <tr>\n      <th>2022-09-01 02:00:00</th>\n      <td>13동</td>\n      <td>0</td>\n      <td>정기권</td>\n      <td>0</td>\n      <td>0</td>\n      <td>0</td>\n      <td>2022</td>\n      <td>9</td>\n      <td>1</td>\n      <td>2</td>\n    </tr>\n    <tr>\n      <th>2022-09-01 03:00:00</th>\n      <td>13동</td>\n      <td>2</td>\n      <td>정기권</td>\n      <td>0</td>\n      <td>2</td>\n      <td>2</td>\n      <td>2022</td>\n      <td>9</td>\n      <td>1</td>\n      <td>3</td>\n    </tr>\n    <tr>\n      <th>2022-09-01 04:00:00</th>\n      <td>13동</td>\n      <td>0</td>\n      <td>정기권</td>\n      <td>0</td>\n      <td>0</td>\n      <td>2</td>\n      <td>2022</td>\n      <td>9</td>\n      <td>1</td>\n      <td>4</td>\n    </tr>\n    <tr>\n      <th>...</th>\n      <td>...</td>\n      <td>...</td>\n      <td>...</td>\n      <td>...</td>\n      <td>...</td>\n      <td>...</td>\n      <td>...</td>\n      <td>...</td>\n      <td>...</td>\n      <td>...</td>\n    </tr>\n    <tr>\n      <th>2022-09-30 19:00:00</th>\n      <td>15동</td>\n      <td>1</td>\n      <td>정기권</td>\n      <td>20</td>\n      <td>-19</td>\n      <td>61</td>\n      <td>2022</td>\n      <td>9</td>\n      <td>30</td>\n      <td>19</td>\n    </tr>\n    <tr>\n      <th>2022-09-30 20:00:00</th>\n      <td>15동</td>\n      <td>0</td>\n      <td>정기권</td>\n      <td>6</td>\n      <td>-6</td>\n      <td>55</td>\n      <td>2022</td>\n      <td>9</td>\n      <td>30</td>\n      <td>20</td>\n    </tr>\n    <tr>\n      <th>2022-09-30 21:00:00</th>\n      <td>15동</td>\n      <td>0</td>\n      <td>정기권</td>\n      <td>0</td>\n      <td>0</td>\n      <td>55</td>\n      <td>2022</td>\n      <td>9</td>\n      <td>30</td>\n      <td>21</td>\n    </tr>\n    <tr>\n      <th>2022-09-30 22:00:00</th>\n      <td>15동</td>\n      <td>0</td>\n      <td>정기권</td>\n      <td>0</td>\n      <td>0</td>\n      <td>55</td>\n      <td>2022</td>\n      <td>9</td>\n      <td>30</td>\n      <td>22</td>\n    </tr>\n    <tr>\n      <th>2022-09-30 23:00:00</th>\n      <td>15동</td>\n      <td>0</td>\n      <td>정기권</td>\n      <td>0</td>\n      <td>0</td>\n      <td>55</td>\n      <td>2022</td>\n      <td>9</td>\n      <td>30</td>\n      <td>23</td>\n    </tr>\n  </tbody>\n</table>\n<p>2880 rows × 10 columns</p>\n</div>"
     },
     "execution_count": 251,
     "metadata": {},
     "output_type": "execute_result"
    }
   ],
   "source": [
    "darae_ticket_analysis"
   ],
   "metadata": {
    "collapsed": false
   }
  },
  {
   "cell_type": "code",
   "execution_count": 253,
   "outputs": [],
   "source": [
    "data_ticket = pd.concat([hanmeak_ticket_analysis,darae_ticket_analysis]).sort_index()\n",
    "data_ticket = pd.merge(data_ticket, whether, left_index=True, right_index=True, how='left')\n",
    "data_ticket.drop('고객구분',axis=1,inplace = True)\n",
    "\n",
    "data_normal = pd.concat([hanmeak_normal_analysis,darae_normal_analysis]).sort_index()\n",
    "data_normal = pd.merge(data_normal, whether, left_index=True, right_index=True, how='left')\n"
   ],
   "metadata": {
    "collapsed": false
   }
  },
  {
   "cell_type": "code",
   "execution_count": 255,
   "outputs": [],
   "source": [
    "\n",
    "data_ticket.to_csv('주차예측(한맥+다래)_정기권.csv')\n",
    "data_normal.to_csv('주차예측(한맥+다래)_비정기권.csv')"
   ],
   "metadata": {
    "collapsed": false
   }
  },
  {
   "cell_type": "code",
   "execution_count": null,
   "outputs": [],
   "source": [],
   "metadata": {
    "collapsed": false
   }
  },
  {
   "cell_type": "code",
   "execution_count": 254,
   "outputs": [
    {
     "data": {
      "text/plain": "                            주차장  입차대수  출차대수  입출차 차이  입출차 누계 차량구분     연   월  일  \\\n일시                                                                              \n2020-10-01 00:00:00  주차1동, 주차2동     0     0       0      96  정기권  2020  10  1   \n2020-10-01 01:00:00  주차1동, 주차2동     0     0       0      96  정기권  2020  10  1   \n2020-10-01 02:00:00  주차1동, 주차2동     0     0       0      96  정기권  2020  10  1   \n2020-10-01 03:00:00  주차1동, 주차2동     0     0       0      96  정기권  2020  10  1   \n2020-10-01 04:00:00  주차1동, 주차2동     0     0       0      96  정기권  2020  10  1   \n...                         ...   ...   ...     ...     ...  ...   ...  .. ..   \n2022-10-01 19:00:00  주차1동, 주차2동     1     1       0      12  정기권  2022  10  1   \n2022-10-01 20:00:00  주차1동, 주차2동     0     1      -1      11  정기권  2022  10  1   \n2022-10-01 21:00:00  주차1동, 주차2동     0     0       0      11  정기권  2022  10  1   \n2022-10-01 22:00:00  주차1동, 주차2동     1     0       1      12  정기권  2022  10  1   \n2022-10-01 23:00:00  주차1동, 주차2동     0     1      -1      11  정기권  2022  10  1   \n\n                     시각  기온(°C)  강수량(mm)  풍속(m/s)  습도(%)  적설(cm)  \n일시                                                                \n2020-10-01 00:00:00   0      17        0        0     92       0  \n2020-10-01 01:00:00   1      17        0        0     94       0  \n2020-10-01 02:00:00   2      17        0        1     93       0  \n2020-10-01 03:00:00   3      17        0        0     94       0  \n2020-10-01 04:00:00   4      16        0        0     95       0  \n...                  ..     ...      ...      ...    ...     ...  \n2022-10-01 19:00:00  19      21        0        0     54       0  \n2022-10-01 20:00:00  20      20        0        1     63       0  \n2022-10-01 21:00:00  21      19        0        1     73       0  \n2022-10-01 22:00:00  22      18        0        1     75       0  \n2022-10-01 23:00:00  23      18        0        0     75       0  \n\n[20424 rows x 15 columns]",
      "text/html": "<div>\n<style scoped>\n    .dataframe tbody tr th:only-of-type {\n        vertical-align: middle;\n    }\n\n    .dataframe tbody tr th {\n        vertical-align: top;\n    }\n\n    .dataframe thead th {\n        text-align: right;\n    }\n</style>\n<table border=\"1\" class=\"dataframe\">\n  <thead>\n    <tr style=\"text-align: right;\">\n      <th></th>\n      <th>주차장</th>\n      <th>입차대수</th>\n      <th>출차대수</th>\n      <th>입출차 차이</th>\n      <th>입출차 누계</th>\n      <th>차량구분</th>\n      <th>연</th>\n      <th>월</th>\n      <th>일</th>\n      <th>시각</th>\n      <th>기온(°C)</th>\n      <th>강수량(mm)</th>\n      <th>풍속(m/s)</th>\n      <th>습도(%)</th>\n      <th>적설(cm)</th>\n    </tr>\n    <tr>\n      <th>일시</th>\n      <th></th>\n      <th></th>\n      <th></th>\n      <th></th>\n      <th></th>\n      <th></th>\n      <th></th>\n      <th></th>\n      <th></th>\n      <th></th>\n      <th></th>\n      <th></th>\n      <th></th>\n      <th></th>\n      <th></th>\n    </tr>\n  </thead>\n  <tbody>\n    <tr>\n      <th>2020-10-01 00:00:00</th>\n      <td>주차1동, 주차2동</td>\n      <td>0</td>\n      <td>0</td>\n      <td>0</td>\n      <td>96</td>\n      <td>정기권</td>\n      <td>2020</td>\n      <td>10</td>\n      <td>1</td>\n      <td>0</td>\n      <td>17</td>\n      <td>0</td>\n      <td>0</td>\n      <td>92</td>\n      <td>0</td>\n    </tr>\n    <tr>\n      <th>2020-10-01 01:00:00</th>\n      <td>주차1동, 주차2동</td>\n      <td>0</td>\n      <td>0</td>\n      <td>0</td>\n      <td>96</td>\n      <td>정기권</td>\n      <td>2020</td>\n      <td>10</td>\n      <td>1</td>\n      <td>1</td>\n      <td>17</td>\n      <td>0</td>\n      <td>0</td>\n      <td>94</td>\n      <td>0</td>\n    </tr>\n    <tr>\n      <th>2020-10-01 02:00:00</th>\n      <td>주차1동, 주차2동</td>\n      <td>0</td>\n      <td>0</td>\n      <td>0</td>\n      <td>96</td>\n      <td>정기권</td>\n      <td>2020</td>\n      <td>10</td>\n      <td>1</td>\n      <td>2</td>\n      <td>17</td>\n      <td>0</td>\n      <td>1</td>\n      <td>93</td>\n      <td>0</td>\n    </tr>\n    <tr>\n      <th>2020-10-01 03:00:00</th>\n      <td>주차1동, 주차2동</td>\n      <td>0</td>\n      <td>0</td>\n      <td>0</td>\n      <td>96</td>\n      <td>정기권</td>\n      <td>2020</td>\n      <td>10</td>\n      <td>1</td>\n      <td>3</td>\n      <td>17</td>\n      <td>0</td>\n      <td>0</td>\n      <td>94</td>\n      <td>0</td>\n    </tr>\n    <tr>\n      <th>2020-10-01 04:00:00</th>\n      <td>주차1동, 주차2동</td>\n      <td>0</td>\n      <td>0</td>\n      <td>0</td>\n      <td>96</td>\n      <td>정기권</td>\n      <td>2020</td>\n      <td>10</td>\n      <td>1</td>\n      <td>4</td>\n      <td>16</td>\n      <td>0</td>\n      <td>0</td>\n      <td>95</td>\n      <td>0</td>\n    </tr>\n    <tr>\n      <th>...</th>\n      <td>...</td>\n      <td>...</td>\n      <td>...</td>\n      <td>...</td>\n      <td>...</td>\n      <td>...</td>\n      <td>...</td>\n      <td>...</td>\n      <td>...</td>\n      <td>...</td>\n      <td>...</td>\n      <td>...</td>\n      <td>...</td>\n      <td>...</td>\n      <td>...</td>\n    </tr>\n    <tr>\n      <th>2022-10-01 19:00:00</th>\n      <td>주차1동, 주차2동</td>\n      <td>1</td>\n      <td>1</td>\n      <td>0</td>\n      <td>12</td>\n      <td>정기권</td>\n      <td>2022</td>\n      <td>10</td>\n      <td>1</td>\n      <td>19</td>\n      <td>21</td>\n      <td>0</td>\n      <td>0</td>\n      <td>54</td>\n      <td>0</td>\n    </tr>\n    <tr>\n      <th>2022-10-01 20:00:00</th>\n      <td>주차1동, 주차2동</td>\n      <td>0</td>\n      <td>1</td>\n      <td>-1</td>\n      <td>11</td>\n      <td>정기권</td>\n      <td>2022</td>\n      <td>10</td>\n      <td>1</td>\n      <td>20</td>\n      <td>20</td>\n      <td>0</td>\n      <td>1</td>\n      <td>63</td>\n      <td>0</td>\n    </tr>\n    <tr>\n      <th>2022-10-01 21:00:00</th>\n      <td>주차1동, 주차2동</td>\n      <td>0</td>\n      <td>0</td>\n      <td>0</td>\n      <td>11</td>\n      <td>정기권</td>\n      <td>2022</td>\n      <td>10</td>\n      <td>1</td>\n      <td>21</td>\n      <td>19</td>\n      <td>0</td>\n      <td>1</td>\n      <td>73</td>\n      <td>0</td>\n    </tr>\n    <tr>\n      <th>2022-10-01 22:00:00</th>\n      <td>주차1동, 주차2동</td>\n      <td>1</td>\n      <td>0</td>\n      <td>1</td>\n      <td>12</td>\n      <td>정기권</td>\n      <td>2022</td>\n      <td>10</td>\n      <td>1</td>\n      <td>22</td>\n      <td>18</td>\n      <td>0</td>\n      <td>1</td>\n      <td>75</td>\n      <td>0</td>\n    </tr>\n    <tr>\n      <th>2022-10-01 23:00:00</th>\n      <td>주차1동, 주차2동</td>\n      <td>0</td>\n      <td>1</td>\n      <td>-1</td>\n      <td>11</td>\n      <td>정기권</td>\n      <td>2022</td>\n      <td>10</td>\n      <td>1</td>\n      <td>23</td>\n      <td>18</td>\n      <td>0</td>\n      <td>0</td>\n      <td>75</td>\n      <td>0</td>\n    </tr>\n  </tbody>\n</table>\n<p>20424 rows × 15 columns</p>\n</div>"
     },
     "execution_count": 254,
     "metadata": {},
     "output_type": "execute_result"
    }
   ],
   "source": [
    "data_ticket"
   ],
   "metadata": {
    "collapsed": false
   }
  }
 ],
 "metadata": {
  "kernelspec": {
   "display_name": "Python 3.8.8 ('base')",
   "language": "python",
   "name": "python3"
  },
  "language_info": {
   "codemirror_mode": {
    "name": "ipython",
    "version": 3
   },
   "file_extension": ".py",
   "mimetype": "text/x-python",
   "name": "python",
   "nbconvert_exporter": "python",
   "pygments_lexer": "ipython3",
   "version": "3.8.8"
  },
  "vscode": {
   "interpreter": {
    "hash": "86aa80caba646de5c5fbfa482f3005816722fa12a16cb3031e5ebf46eef177a2"
   }
  }
 },
 "nbformat": 4,
 "nbformat_minor": 5
}

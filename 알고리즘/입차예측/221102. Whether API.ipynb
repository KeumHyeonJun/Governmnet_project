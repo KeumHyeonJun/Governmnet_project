{
 "cells": [
  {
   "cell_type": "code",
   "execution_count": 1,
   "id": "1d674975-2fc6-4859-9704-5c9d6c1dd280",
   "metadata": {},
   "outputs": [
    {
     "data": {
      "text/plain": "     지점 지점명                일시 기온(°C) 강수량(mm) 풍속(m/s) 습도(%) 적설(cm)\n0   239  세종  2022-09-30 01:00   15.1             0.9    91       \n1   239  세종  2022-09-30 02:00   14.8             0.0    92       \n2   239  세종  2022-09-30 03:00   14.3             0.1    93       \n3   239  세종  2022-09-30 04:00   14.0             0.1    93       \n4   239  세종  2022-09-30 05:00   13.6             0.0    94       \n5   239  세종  2022-09-30 06:00   13.3             0.4    95       \n6   239  세종  2022-09-30 07:00   14.1             1.0    95       \n7   239  세종  2022-09-30 08:00   14.3             0.4    95       \n8   239  세종  2022-09-30 09:00                                    \n9   239  세종  2022-09-30 10:00                                    \n10  239  세종  2022-09-30 11:00                                    \n11  239  세종  2022-09-30 12:00                                    \n12  239  세종  2022-09-30 13:00   24.5             1.0    50       \n13  239  세종  2022-09-30 14:00   25.9             1.6    42       \n14  239  세종  2022-09-30 15:00   27.2             0.4    26       \n15  239  세종  2022-09-30 16:00   25.0             1.2    35       \n16  239  세종  2022-09-30 17:00   23.8             0.4    34       \n17  239  세종  2022-09-30 18:00   22.1             1.1    44       \n18  239  세종  2022-09-30 19:00   20.6             0.1    50       \n19  239  세종  2022-09-30 20:00   18.7             0.9    63       \n20  239  세종  2022-09-30 21:00   17.8             0.4    66       \n21  239  세종  2022-09-30 22:00   17.0             0.0    71       \n22  239  세종  2022-09-30 23:00   16.3             0.0    75       ",
      "text/html": "<div>\n<style scoped>\n    .dataframe tbody tr th:only-of-type {\n        vertical-align: middle;\n    }\n\n    .dataframe tbody tr th {\n        vertical-align: top;\n    }\n\n    .dataframe thead th {\n        text-align: right;\n    }\n</style>\n<table border=\"1\" class=\"dataframe\">\n  <thead>\n    <tr style=\"text-align: right;\">\n      <th></th>\n      <th>지점</th>\n      <th>지점명</th>\n      <th>일시</th>\n      <th>기온(°C)</th>\n      <th>강수량(mm)</th>\n      <th>풍속(m/s)</th>\n      <th>습도(%)</th>\n      <th>적설(cm)</th>\n    </tr>\n  </thead>\n  <tbody>\n    <tr>\n      <th>0</th>\n      <td>239</td>\n      <td>세종</td>\n      <td>2022-09-30 01:00</td>\n      <td>15.1</td>\n      <td></td>\n      <td>0.9</td>\n      <td>91</td>\n      <td></td>\n    </tr>\n    <tr>\n      <th>1</th>\n      <td>239</td>\n      <td>세종</td>\n      <td>2022-09-30 02:00</td>\n      <td>14.8</td>\n      <td></td>\n      <td>0.0</td>\n      <td>92</td>\n      <td></td>\n    </tr>\n    <tr>\n      <th>2</th>\n      <td>239</td>\n      <td>세종</td>\n      <td>2022-09-30 03:00</td>\n      <td>14.3</td>\n      <td></td>\n      <td>0.1</td>\n      <td>93</td>\n      <td></td>\n    </tr>\n    <tr>\n      <th>3</th>\n      <td>239</td>\n      <td>세종</td>\n      <td>2022-09-30 04:00</td>\n      <td>14.0</td>\n      <td></td>\n      <td>0.1</td>\n      <td>93</td>\n      <td></td>\n    </tr>\n    <tr>\n      <th>4</th>\n      <td>239</td>\n      <td>세종</td>\n      <td>2022-09-30 05:00</td>\n      <td>13.6</td>\n      <td></td>\n      <td>0.0</td>\n      <td>94</td>\n      <td></td>\n    </tr>\n    <tr>\n      <th>5</th>\n      <td>239</td>\n      <td>세종</td>\n      <td>2022-09-30 06:00</td>\n      <td>13.3</td>\n      <td></td>\n      <td>0.4</td>\n      <td>95</td>\n      <td></td>\n    </tr>\n    <tr>\n      <th>6</th>\n      <td>239</td>\n      <td>세종</td>\n      <td>2022-09-30 07:00</td>\n      <td>14.1</td>\n      <td></td>\n      <td>1.0</td>\n      <td>95</td>\n      <td></td>\n    </tr>\n    <tr>\n      <th>7</th>\n      <td>239</td>\n      <td>세종</td>\n      <td>2022-09-30 08:00</td>\n      <td>14.3</td>\n      <td></td>\n      <td>0.4</td>\n      <td>95</td>\n      <td></td>\n    </tr>\n    <tr>\n      <th>8</th>\n      <td>239</td>\n      <td>세종</td>\n      <td>2022-09-30 09:00</td>\n      <td></td>\n      <td></td>\n      <td></td>\n      <td></td>\n      <td></td>\n    </tr>\n    <tr>\n      <th>9</th>\n      <td>239</td>\n      <td>세종</td>\n      <td>2022-09-30 10:00</td>\n      <td></td>\n      <td></td>\n      <td></td>\n      <td></td>\n      <td></td>\n    </tr>\n    <tr>\n      <th>10</th>\n      <td>239</td>\n      <td>세종</td>\n      <td>2022-09-30 11:00</td>\n      <td></td>\n      <td></td>\n      <td></td>\n      <td></td>\n      <td></td>\n    </tr>\n    <tr>\n      <th>11</th>\n      <td>239</td>\n      <td>세종</td>\n      <td>2022-09-30 12:00</td>\n      <td></td>\n      <td></td>\n      <td></td>\n      <td></td>\n      <td></td>\n    </tr>\n    <tr>\n      <th>12</th>\n      <td>239</td>\n      <td>세종</td>\n      <td>2022-09-30 13:00</td>\n      <td>24.5</td>\n      <td></td>\n      <td>1.0</td>\n      <td>50</td>\n      <td></td>\n    </tr>\n    <tr>\n      <th>13</th>\n      <td>239</td>\n      <td>세종</td>\n      <td>2022-09-30 14:00</td>\n      <td>25.9</td>\n      <td></td>\n      <td>1.6</td>\n      <td>42</td>\n      <td></td>\n    </tr>\n    <tr>\n      <th>14</th>\n      <td>239</td>\n      <td>세종</td>\n      <td>2022-09-30 15:00</td>\n      <td>27.2</td>\n      <td></td>\n      <td>0.4</td>\n      <td>26</td>\n      <td></td>\n    </tr>\n    <tr>\n      <th>15</th>\n      <td>239</td>\n      <td>세종</td>\n      <td>2022-09-30 16:00</td>\n      <td>25.0</td>\n      <td></td>\n      <td>1.2</td>\n      <td>35</td>\n      <td></td>\n    </tr>\n    <tr>\n      <th>16</th>\n      <td>239</td>\n      <td>세종</td>\n      <td>2022-09-30 17:00</td>\n      <td>23.8</td>\n      <td></td>\n      <td>0.4</td>\n      <td>34</td>\n      <td></td>\n    </tr>\n    <tr>\n      <th>17</th>\n      <td>239</td>\n      <td>세종</td>\n      <td>2022-09-30 18:00</td>\n      <td>22.1</td>\n      <td></td>\n      <td>1.1</td>\n      <td>44</td>\n      <td></td>\n    </tr>\n    <tr>\n      <th>18</th>\n      <td>239</td>\n      <td>세종</td>\n      <td>2022-09-30 19:00</td>\n      <td>20.6</td>\n      <td></td>\n      <td>0.1</td>\n      <td>50</td>\n      <td></td>\n    </tr>\n    <tr>\n      <th>19</th>\n      <td>239</td>\n      <td>세종</td>\n      <td>2022-09-30 20:00</td>\n      <td>18.7</td>\n      <td></td>\n      <td>0.9</td>\n      <td>63</td>\n      <td></td>\n    </tr>\n    <tr>\n      <th>20</th>\n      <td>239</td>\n      <td>세종</td>\n      <td>2022-09-30 21:00</td>\n      <td>17.8</td>\n      <td></td>\n      <td>0.4</td>\n      <td>66</td>\n      <td></td>\n    </tr>\n    <tr>\n      <th>21</th>\n      <td>239</td>\n      <td>세종</td>\n      <td>2022-09-30 22:00</td>\n      <td>17.0</td>\n      <td></td>\n      <td>0.0</td>\n      <td>71</td>\n      <td></td>\n    </tr>\n    <tr>\n      <th>22</th>\n      <td>239</td>\n      <td>세종</td>\n      <td>2022-09-30 23:00</td>\n      <td>16.3</td>\n      <td></td>\n      <td>0.0</td>\n      <td>75</td>\n      <td></td>\n    </tr>\n  </tbody>\n</table>\n</div>"
     },
     "execution_count": 1,
     "metadata": {},
     "output_type": "execute_result"
    }
   ],
   "source": [
    "import requests\n",
    "import json\n",
    "import pandas as pd\n",
    "\n",
    "url = 'ct'\n",
    "key = \"7cHRq4RbP9gZnYj6dw0lV03miUtUzlMzfxr64XSCSSN9ps8bVpJ5NzItp2NdwgNmDfN+Jrhz1m215fr9Ck69Hg==\"\n",
    "params ={'serviceKey':key, 'pageNo':'1', 'numOfRows':'23', 'dataType':'JSON', 'dataCd':'ASOS', 'dateCd':'HR', 'startDt':'20220930', 'startHh':'01', 'endDt':'20220930', 'endHh':'23', 'stnIds':'239'}\n",
    "\n",
    "response = requests.get(url, params=params)\n",
    "content = json.loads(response.text)\n",
    "\n",
    "df = pd.DataFrame(content[\"response\"][\"body\"][\"items\"][\"item\"])\n",
    "\n",
    "new_df = df[['stnId', 'stnNm', 'tm', 'ta', 'rn', 'ws', 'hm', 'dsnw']]\n",
    "new_df.columns = ['지점', '지점명', '일시', '기온(°C)', '강수량(mm)', '풍속(m/s)', '습도(%)', '적설(cm)']\n",
    "new_df"
   ]
  },
  {
   "cell_type": "code",
   "execution_count": null,
   "id": "af6bc806-a1ef-4739-ac5e-d6dbbccd2d99",
   "metadata": {},
   "outputs": [],
   "source": []
  }
 ],
 "metadata": {
  "kernelspec": {
   "display_name": "Python 3.8.8 ('base')",
   "language": "python",
   "name": "python3"
  },
  "language_info": {
   "codemirror_mode": {
    "name": "ipython",
    "version": 3
   },
   "file_extension": ".py",
   "mimetype": "text/x-python",
   "name": "python",
   "nbconvert_exporter": "python",
   "pygments_lexer": "ipython3",
   "version": "3.8.8"
  },
  "vscode": {
   "interpreter": {
    "hash": "86aa80caba646de5c5fbfa482f3005816722fa12a16cb3031e5ebf46eef177a2"
   }
  }
 },
 "nbformat": 4,
 "nbformat_minor": 5
}

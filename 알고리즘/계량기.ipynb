{
 "cells": [
  {
   "cell_type": "code",
   "execution_count": 255,
   "outputs": [],
   "source": [
    "# 패키지 임포트\n",
    "import os\n",
    "import numpy as np\n",
    "import pandas as pd\n",
    "from pandas import to_datetime\n",
    "from matplotlib import pyplot as plt\n",
    "import seaborn as sns\n",
    "import itertools\n",
    "import warnings\n",
    "import datetime\n",
    "from datetime import datetime\n",
    "warnings.filterwarnings('ignore')\n",
    "\n",
    "%matplotlib inline\n",
    "\n",
    "# ARIMA 모델 패키지\n",
    "import statsmodels.api as sm\n",
    "\n",
    "\n",
    "from statsmodels.tsa.api import ExponentialSmoothing, SimpleExpSmoothing, Holt\n",
    "from sklearn.metrics import mean_squared_error\n",
    "from sklearn.linear_model import LinearRegression\n",
    "from sklearn import linear_model\n",
    "\n",
    "# Auto Arima 모델 패키지\n",
    "# pip install --user pmdarima\n",
    "import pmdarima as pm\n",
    "from pmdarima.model_selection import train_test_split\n",
    "\n",
    "plt.rc('font', family='AppleGothic')\n",
    "plt.rcParams['axes.unicode_minus'] = False"
   ],
   "metadata": {
    "collapsed": false
   }
  },
  {
   "cell_type": "markdown",
   "source": [
    "# ARIMA"
   ],
   "metadata": {
    "collapsed": false
   }
  },
  {
   "cell_type": "code",
   "execution_count": 256,
   "outputs": [
    {
     "data": {
      "text/plain": "      comp_cd     ins_day  gag_cd  meter_val  real_meter_val  use_val  \\\n0        SEJO  2021-10-01    1000     8174.0          8174.0      8.0   \n1        SEJO  2021-10-05    1000     8180.0          8180.0      6.0   \n2        SEJO  2021-10-06    1000     8184.0          8184.0      4.0   \n3        SEJO  2021-10-07    1000     8190.0          8190.0      6.0   \n4        SEJO  2021-10-08    1000     8197.0          8197.0      7.0   \n...       ...         ...     ...        ...             ...      ...   \n46345    SEJO  2022-10-04     999    27757.0         27757.0      9.0   \n46346    SEJO  2022-10-05     999    27763.0         27763.0      6.0   \n46347    SEJO  2022-10-06     999    27765.0         27765.0      2.0   \n46348    SEJO  2022-10-07     999    27771.0         27771.0      6.0   \n46349    SEJO  2022-10-11     999    27777.0         27777.0      6.0   \n\n       use_amt  use_note  ins_max  ins_min  ...  meter_val_sm  use_val_am  \\\n0          0.0       NaN      NaN      NaN  ...           NaN         NaN   \n1          0.0       NaN      NaN      NaN  ...           NaN         NaN   \n2          0.0       NaN      NaN      NaN  ...           NaN         NaN   \n3          0.0       NaN      NaN      NaN  ...           NaN         NaN   \n4          0.0       NaN      NaN      NaN  ...           NaN         NaN   \n...        ...       ...      ...      ...  ...           ...         ...   \n46345      0.0       NaN      NaN      NaN  ...           NaN         NaN   \n46346      0.0       NaN      NaN      NaN  ...           NaN         NaN   \n46347      0.0       NaN      NaN      NaN  ...           NaN         NaN   \n46348      0.0       NaN      NaN      NaN  ...           NaN         NaN   \n46349      0.0       NaN      NaN      NaN  ...           NaN         NaN   \n\n       use_val_pm  use_val_sm  gag_val             input_sysdt  chg_sysdt  \\\n0             NaN         NaN      0.0   2021-10-01 오전 9:56:58        NaN   \n1             NaN         NaN      0.0  2021-10-05 오전 10:12:38        NaN   \n2             NaN         NaN      0.0   2021-10-06 오전 9:17:52        NaN   \n3             NaN         NaN      0.0   2021-10-07 오전 9:40:09        NaN   \n4             NaN         NaN      0.0   2021-10-08 오전 9:49:12        NaN   \n...           ...         ...      ...                     ...        ...   \n46345         NaN         NaN      0.0  2022-10-04 오전 10:29:50        NaN   \n46346         NaN         NaN      0.0   2022-10-05 오전 9:58:39        NaN   \n46347         NaN         NaN      0.0   2022-10-06 오전 9:37:06        NaN   \n46348         NaN         NaN      0.0   2022-10-07 오전 9:47:35        NaN   \n46349         NaN         NaN      0.0   2022-10-11 오전 9:41:22        NaN   \n\n       input_emp_no  chg_emp_no input_scr_nm  \n0          2ehd8869         NaN      ENG_B11  \n1           scc2133         NaN      ENG_B11  \n2           scc2133         NaN      ENG_B11  \n3           scc2133         NaN      ENG_B11  \n4           scc2133         NaN      ENG_B11  \n...             ...         ...          ...  \n46345       scc2133         NaN      ENG_B11  \n46346      2ehd5808         NaN      ENG_B11  \n46347      1ehd8664         NaN      ENG_B11  \n46348      1ehd8664         NaN      ENG_B11  \n46349      1ehd8664         NaN      ENG_B11  \n\n[46350 rows x 24 columns]",
      "text/html": "<div>\n<style scoped>\n    .dataframe tbody tr th:only-of-type {\n        vertical-align: middle;\n    }\n\n    .dataframe tbody tr th {\n        vertical-align: top;\n    }\n\n    .dataframe thead th {\n        text-align: right;\n    }\n</style>\n<table border=\"1\" class=\"dataframe\">\n  <thead>\n    <tr style=\"text-align: right;\">\n      <th></th>\n      <th>comp_cd</th>\n      <th>ins_day</th>\n      <th>gag_cd</th>\n      <th>meter_val</th>\n      <th>real_meter_val</th>\n      <th>use_val</th>\n      <th>use_amt</th>\n      <th>use_note</th>\n      <th>ins_max</th>\n      <th>ins_min</th>\n      <th>...</th>\n      <th>meter_val_sm</th>\n      <th>use_val_am</th>\n      <th>use_val_pm</th>\n      <th>use_val_sm</th>\n      <th>gag_val</th>\n      <th>input_sysdt</th>\n      <th>chg_sysdt</th>\n      <th>input_emp_no</th>\n      <th>chg_emp_no</th>\n      <th>input_scr_nm</th>\n    </tr>\n  </thead>\n  <tbody>\n    <tr>\n      <th>0</th>\n      <td>SEJO</td>\n      <td>2021-10-01</td>\n      <td>1000</td>\n      <td>8174.0</td>\n      <td>8174.0</td>\n      <td>8.0</td>\n      <td>0.0</td>\n      <td>NaN</td>\n      <td>NaN</td>\n      <td>NaN</td>\n      <td>...</td>\n      <td>NaN</td>\n      <td>NaN</td>\n      <td>NaN</td>\n      <td>NaN</td>\n      <td>0.0</td>\n      <td>2021-10-01 오전 9:56:58</td>\n      <td>NaN</td>\n      <td>2ehd8869</td>\n      <td>NaN</td>\n      <td>ENG_B11</td>\n    </tr>\n    <tr>\n      <th>1</th>\n      <td>SEJO</td>\n      <td>2021-10-05</td>\n      <td>1000</td>\n      <td>8180.0</td>\n      <td>8180.0</td>\n      <td>6.0</td>\n      <td>0.0</td>\n      <td>NaN</td>\n      <td>NaN</td>\n      <td>NaN</td>\n      <td>...</td>\n      <td>NaN</td>\n      <td>NaN</td>\n      <td>NaN</td>\n      <td>NaN</td>\n      <td>0.0</td>\n      <td>2021-10-05 오전 10:12:38</td>\n      <td>NaN</td>\n      <td>scc2133</td>\n      <td>NaN</td>\n      <td>ENG_B11</td>\n    </tr>\n    <tr>\n      <th>2</th>\n      <td>SEJO</td>\n      <td>2021-10-06</td>\n      <td>1000</td>\n      <td>8184.0</td>\n      <td>8184.0</td>\n      <td>4.0</td>\n      <td>0.0</td>\n      <td>NaN</td>\n      <td>NaN</td>\n      <td>NaN</td>\n      <td>...</td>\n      <td>NaN</td>\n      <td>NaN</td>\n      <td>NaN</td>\n      <td>NaN</td>\n      <td>0.0</td>\n      <td>2021-10-06 오전 9:17:52</td>\n      <td>NaN</td>\n      <td>scc2133</td>\n      <td>NaN</td>\n      <td>ENG_B11</td>\n    </tr>\n    <tr>\n      <th>3</th>\n      <td>SEJO</td>\n      <td>2021-10-07</td>\n      <td>1000</td>\n      <td>8190.0</td>\n      <td>8190.0</td>\n      <td>6.0</td>\n      <td>0.0</td>\n      <td>NaN</td>\n      <td>NaN</td>\n      <td>NaN</td>\n      <td>...</td>\n      <td>NaN</td>\n      <td>NaN</td>\n      <td>NaN</td>\n      <td>NaN</td>\n      <td>0.0</td>\n      <td>2021-10-07 오전 9:40:09</td>\n      <td>NaN</td>\n      <td>scc2133</td>\n      <td>NaN</td>\n      <td>ENG_B11</td>\n    </tr>\n    <tr>\n      <th>4</th>\n      <td>SEJO</td>\n      <td>2021-10-08</td>\n      <td>1000</td>\n      <td>8197.0</td>\n      <td>8197.0</td>\n      <td>7.0</td>\n      <td>0.0</td>\n      <td>NaN</td>\n      <td>NaN</td>\n      <td>NaN</td>\n      <td>...</td>\n      <td>NaN</td>\n      <td>NaN</td>\n      <td>NaN</td>\n      <td>NaN</td>\n      <td>0.0</td>\n      <td>2021-10-08 오전 9:49:12</td>\n      <td>NaN</td>\n      <td>scc2133</td>\n      <td>NaN</td>\n      <td>ENG_B11</td>\n    </tr>\n    <tr>\n      <th>...</th>\n      <td>...</td>\n      <td>...</td>\n      <td>...</td>\n      <td>...</td>\n      <td>...</td>\n      <td>...</td>\n      <td>...</td>\n      <td>...</td>\n      <td>...</td>\n      <td>...</td>\n      <td>...</td>\n      <td>...</td>\n      <td>...</td>\n      <td>...</td>\n      <td>...</td>\n      <td>...</td>\n      <td>...</td>\n      <td>...</td>\n      <td>...</td>\n      <td>...</td>\n      <td>...</td>\n    </tr>\n    <tr>\n      <th>46345</th>\n      <td>SEJO</td>\n      <td>2022-10-04</td>\n      <td>999</td>\n      <td>27757.0</td>\n      <td>27757.0</td>\n      <td>9.0</td>\n      <td>0.0</td>\n      <td>NaN</td>\n      <td>NaN</td>\n      <td>NaN</td>\n      <td>...</td>\n      <td>NaN</td>\n      <td>NaN</td>\n      <td>NaN</td>\n      <td>NaN</td>\n      <td>0.0</td>\n      <td>2022-10-04 오전 10:29:50</td>\n      <td>NaN</td>\n      <td>scc2133</td>\n      <td>NaN</td>\n      <td>ENG_B11</td>\n    </tr>\n    <tr>\n      <th>46346</th>\n      <td>SEJO</td>\n      <td>2022-10-05</td>\n      <td>999</td>\n      <td>27763.0</td>\n      <td>27763.0</td>\n      <td>6.0</td>\n      <td>0.0</td>\n      <td>NaN</td>\n      <td>NaN</td>\n      <td>NaN</td>\n      <td>...</td>\n      <td>NaN</td>\n      <td>NaN</td>\n      <td>NaN</td>\n      <td>NaN</td>\n      <td>0.0</td>\n      <td>2022-10-05 오전 9:58:39</td>\n      <td>NaN</td>\n      <td>2ehd5808</td>\n      <td>NaN</td>\n      <td>ENG_B11</td>\n    </tr>\n    <tr>\n      <th>46347</th>\n      <td>SEJO</td>\n      <td>2022-10-06</td>\n      <td>999</td>\n      <td>27765.0</td>\n      <td>27765.0</td>\n      <td>2.0</td>\n      <td>0.0</td>\n      <td>NaN</td>\n      <td>NaN</td>\n      <td>NaN</td>\n      <td>...</td>\n      <td>NaN</td>\n      <td>NaN</td>\n      <td>NaN</td>\n      <td>NaN</td>\n      <td>0.0</td>\n      <td>2022-10-06 오전 9:37:06</td>\n      <td>NaN</td>\n      <td>1ehd8664</td>\n      <td>NaN</td>\n      <td>ENG_B11</td>\n    </tr>\n    <tr>\n      <th>46348</th>\n      <td>SEJO</td>\n      <td>2022-10-07</td>\n      <td>999</td>\n      <td>27771.0</td>\n      <td>27771.0</td>\n      <td>6.0</td>\n      <td>0.0</td>\n      <td>NaN</td>\n      <td>NaN</td>\n      <td>NaN</td>\n      <td>...</td>\n      <td>NaN</td>\n      <td>NaN</td>\n      <td>NaN</td>\n      <td>NaN</td>\n      <td>0.0</td>\n      <td>2022-10-07 오전 9:47:35</td>\n      <td>NaN</td>\n      <td>1ehd8664</td>\n      <td>NaN</td>\n      <td>ENG_B11</td>\n    </tr>\n    <tr>\n      <th>46349</th>\n      <td>SEJO</td>\n      <td>2022-10-11</td>\n      <td>999</td>\n      <td>27777.0</td>\n      <td>27777.0</td>\n      <td>6.0</td>\n      <td>0.0</td>\n      <td>NaN</td>\n      <td>NaN</td>\n      <td>NaN</td>\n      <td>...</td>\n      <td>NaN</td>\n      <td>NaN</td>\n      <td>NaN</td>\n      <td>NaN</td>\n      <td>0.0</td>\n      <td>2022-10-11 오전 9:41:22</td>\n      <td>NaN</td>\n      <td>1ehd8664</td>\n      <td>NaN</td>\n      <td>ENG_B11</td>\n    </tr>\n  </tbody>\n</table>\n<p>46350 rows × 24 columns</p>\n</div>"
     },
     "execution_count": 256,
     "metadata": {},
     "output_type": "execute_result"
    }
   ],
   "source": [
    "df = pd.read_excel('/Users/keumhyeonjun/Projects/행안부/자재/GFMS DB/FMSD03_검침실적.xlsx')\n",
    "df"
   ],
   "metadata": {
    "collapsed": false
   }
  },
  {
   "cell_type": "code",
   "execution_count": 257,
   "outputs": [],
   "source": [
    "data = df[['ins_day','gag_cd','use_val']]\n",
    "forecast_data = data[data['gag_cd']==1000]\n",
    "forecast_data = forecast_data[(forecast_data['use_val'] >= 0) & (forecast_data['use_val'] <= 100)]\n",
    "forecast_data = forecast_data[['ins_day','use_val']]"
   ],
   "metadata": {
    "collapsed": false
   }
  },
  {
   "cell_type": "code",
   "execution_count": 258,
   "outputs": [
    {
     "name": "stdout",
     "output_type": "stream",
     "text": [
      "X_train Shape (205, 2)\n",
      "X_Valid Shape (43, 2)\n"
     ]
    }
   ],
   "source": [
    "X_train = forecast_data[forecast_data['ins_day'] < '2022-08-01']\n",
    "X_valid = forecast_data[forecast_data['ins_day'] >= '2022-08-01']\n",
    "nyc = X_train[['ins_day','use_val']]\n",
    "nyc_v = X_valid[['ins_day','use_val']]\n",
    "\n",
    "# 각 데이터의 사이즈 확인하기\n",
    "print('X_train Shape', X_train.shape)\n",
    "print('X_Valid Shape', X_valid.shape)"
   ],
   "metadata": {
    "collapsed": false
   }
  },
  {
   "cell_type": "code",
   "execution_count": 259,
   "outputs": [],
   "source": [
    "# Date 를 dataframe의 인덱스로 만들어주기\n",
    "nyc.set_index('ins_day', inplace=True)\n",
    "nyc_v.set_index('ins_day', inplace=True)"
   ],
   "metadata": {
    "collapsed": false
   }
  },
  {
   "cell_type": "code",
   "execution_count": 260,
   "outputs": [
    {
     "data": {
      "text/plain": "DatetimeIndex(['2022-08-01', '2022-08-02', '2022-08-03', '2022-08-04',\n               '2022-08-05', '2022-08-08', '2022-08-09', '2022-08-10',\n               '2022-08-11', '2022-08-12', '2022-08-16', '2022-08-17',\n               '2022-08-18', '2022-08-19', '2022-08-22', '2022-08-23',\n               '2022-08-24', '2022-08-25', '2022-08-26', '2022-08-29',\n               '2022-08-30', '2022-08-31', '2022-09-01', '2022-09-05',\n               '2022-09-06', '2022-09-07', '2022-09-08', '2022-09-13',\n               '2022-09-14', '2022-09-15', '2022-09-16', '2022-09-19',\n               '2022-09-20', '2022-09-21', '2022-09-22', '2022-09-27',\n               '2022-09-28', '2022-09-29', '2022-10-01', '2022-10-04',\n               '2022-10-05', '2022-10-07', '2022-10-11'],\n              dtype='datetime64[ns]', name='ins_day', freq=None)"
     },
     "execution_count": 260,
     "metadata": {},
     "output_type": "execute_result"
    }
   ],
   "source": [
    "index_predict = to_datetime(nyc_v.index)\n",
    "\n",
    "# 확인해보기\n",
    "index_predict"
   ],
   "metadata": {
    "collapsed": false
   }
  },
  {
   "cell_type": "code",
   "execution_count": 261,
   "outputs": [
    {
     "name": "stdout",
     "output_type": "stream",
     "text": [
      "(1, 1, 2)\n"
     ]
    }
   ],
   "source": [
    "import itertools\n",
    "p=d=q=range(0,5)\n",
    "pdq = list(itertools.product(p,d,q))\n",
    "param_list =[]\n",
    "param_result_list = []\n",
    "for param in pdq:\n",
    "    try:\n",
    "        model_arima = sm.tsa.arima.ARIMA(nyc,order=param)\n",
    "        model_arima_fit = model_arima.fit()\n",
    "        param_list.append(param)\n",
    "        param_result_list.append(model_arima_fit.aic)\n",
    "    except:\n",
    "        continue\n",
    "idx = param_result_list.index(min(param_result_list))\n",
    "print(param_list[idx])"
   ],
   "metadata": {
    "collapsed": false
   }
  },
  {
   "cell_type": "code",
   "execution_count": 262,
   "outputs": [],
   "source": [
    "# order 에 파라미터 넣어주기.\n",
    "model_arima = sm.tsa.arima.ARIMA(nyc, order=param_list[idx])\n",
    "model_arima_fit = model_arima.fit()\n",
    "\n",
    "# 예측한 값들을 저장\n",
    "fcast1 = model_arima_fit.forecast(len(index_predict))\n",
    "fcast1= pd.DataFrame(fcast1)\n",
    "fcast1.index = index_predict"
   ],
   "metadata": {
    "collapsed": false
   }
  },
  {
   "cell_type": "code",
   "execution_count": 263,
   "outputs": [
    {
     "name": "stdout",
     "output_type": "stream",
     "text": [
      "3.1537206030013434\n"
     ]
    },
    {
     "data": {
      "text/plain": "[<matplotlib.lines.Line2D at 0x299cf17f0>,\n <matplotlib.lines.Line2D at 0x299cf1190>]"
     },
     "execution_count": 263,
     "metadata": {},
     "output_type": "execute_result"
    },
    {
     "data": {
      "text/plain": "<Figure size 640x480 with 1 Axes>",
      "image/png": "[encoded data removed]"
     },
     "metadata": {},
     "output_type": "display_data"
    }
   ],
   "source": [
    "result = pd.concat([pd.DataFrame(nyc_v['use_val'].values),pd.DataFrame(fcast1.values)],axis=1)\n",
    "result.columns = ['actual','predict']\n",
    "print(mean_squared_error(result['actual'], result['predict']))\n",
    "plt.plot(result)"
   ],
   "metadata": {
    "collapsed": false
   }
  },
  {
   "cell_type": "markdown",
   "source": [
    "# LGBM"
   ],
   "metadata": {
    "collapsed": false
   }
  },
  {
   "cell_type": "code",
   "execution_count": 264,
   "outputs": [],
   "source": [
    "from lightgbm import LGBMRegressor\n"
   ],
   "metadata": {
    "collapsed": false
   }
  },
  {
   "cell_type": "code",
   "execution_count": 265,
   "outputs": [
    {
     "data": {
      "text/plain": "      comp_cd     ins_day  gag_cd  meter_val  real_meter_val  use_val  \\\n0        SEJO  2021-10-01    1000     8174.0          8174.0      8.0   \n1        SEJO  2021-10-05    1000     8180.0          8180.0      6.0   \n2        SEJO  2021-10-06    1000     8184.0          8184.0      4.0   \n3        SEJO  2021-10-07    1000     8190.0          8190.0      6.0   \n4        SEJO  2021-10-08    1000     8197.0          8197.0      7.0   \n...       ...         ...     ...        ...             ...      ...   \n46345    SEJO  2022-10-04     999    27757.0         27757.0      9.0   \n46346    SEJO  2022-10-05     999    27763.0         27763.0      6.0   \n46347    SEJO  2022-10-06     999    27765.0         27765.0      2.0   \n46348    SEJO  2022-10-07     999    27771.0         27771.0      6.0   \n46349    SEJO  2022-10-11     999    27777.0         27777.0      6.0   \n\n       use_amt  use_note  ins_max  ins_min  ...  meter_val_sm  use_val_am  \\\n0          0.0       NaN      NaN      NaN  ...           NaN         NaN   \n1          0.0       NaN      NaN      NaN  ...           NaN         NaN   \n2          0.0       NaN      NaN      NaN  ...           NaN         NaN   \n3          0.0       NaN      NaN      NaN  ...           NaN         NaN   \n4          0.0       NaN      NaN      NaN  ...           NaN         NaN   \n...        ...       ...      ...      ...  ...           ...         ...   \n46345      0.0       NaN      NaN      NaN  ...           NaN         NaN   \n46346      0.0       NaN      NaN      NaN  ...           NaN         NaN   \n46347      0.0       NaN      NaN      NaN  ...           NaN         NaN   \n46348      0.0       NaN      NaN      NaN  ...           NaN         NaN   \n46349      0.0       NaN      NaN      NaN  ...           NaN         NaN   \n\n       use_val_pm  use_val_sm  gag_val             input_sysdt  chg_sysdt  \\\n0             NaN         NaN      0.0   2021-10-01 오전 9:56:58        NaN   \n1             NaN         NaN      0.0  2021-10-05 오전 10:12:38        NaN   \n2             NaN         NaN      0.0   2021-10-06 오전 9:17:52        NaN   \n3             NaN         NaN      0.0   2021-10-07 오전 9:40:09        NaN   \n4             NaN         NaN      0.0   2021-10-08 오전 9:49:12        NaN   \n...           ...         ...      ...                     ...        ...   \n46345         NaN         NaN      0.0  2022-10-04 오전 10:29:50        NaN   \n46346         NaN         NaN      0.0   2022-10-05 오전 9:58:39        NaN   \n46347         NaN         NaN      0.0   2022-10-06 오전 9:37:06        NaN   \n46348         NaN         NaN      0.0   2022-10-07 오전 9:47:35        NaN   \n46349         NaN         NaN      0.0   2022-10-11 오전 9:41:22        NaN   \n\n       input_emp_no  chg_emp_no input_scr_nm  \n0          2ehd8869         NaN      ENG_B11  \n1           scc2133         NaN      ENG_B11  \n2           scc2133         NaN      ENG_B11  \n3           scc2133         NaN      ENG_B11  \n4           scc2133         NaN      ENG_B11  \n...             ...         ...          ...  \n46345       scc2133         NaN      ENG_B11  \n46346      2ehd5808         NaN      ENG_B11  \n46347      1ehd8664         NaN      ENG_B11  \n46348      1ehd8664         NaN      ENG_B11  \n46349      1ehd8664         NaN      ENG_B11  \n\n[46350 rows x 24 columns]",
      "text/html": "<div>\n<style scoped>\n    .dataframe tbody tr th:only-of-type {\n        vertical-align: middle;\n    }\n\n    .dataframe tbody tr th {\n        vertical-align: top;\n    }\n\n    .dataframe thead th {\n        text-align: right;\n    }\n</style>\n<table border=\"1\" class=\"dataframe\">\n  <thead>\n    <tr style=\"text-align: right;\">\n      <th></th>\n      <th>comp_cd</th>\n      <th>ins_day</th>\n      <th>gag_cd</th>\n      <th>meter_val</th>\n      <th>real_meter_val</th>\n      <th>use_val</th>\n      <th>use_amt</th>\n      <th>use_note</th>\n      <th>ins_max</th>\n      <th>ins_min</th>\n      <th>...</th>\n      <th>meter_val_sm</th>\n      <th>use_val_am</th>\n      <th>use_val_pm</th>\n      <th>use_val_sm</th>\n      <th>gag_val</th>\n      <th>input_sysdt</th>\n      <th>chg_sysdt</th>\n      <th>input_emp_no</th>\n      <th>chg_emp_no</th>\n      <th>input_scr_nm</th>\n    </tr>\n  </thead>\n  <tbody>\n    <tr>\n      <th>0</th>\n      <td>SEJO</td>\n      <td>2021-10-01</td>\n      <td>1000</td>\n      <td>8174.0</td>\n      <td>8174.0</td>\n      <td>8.0</td>\n      <td>0.0</td>\n      <td>NaN</td>\n      <td>NaN</td>\n      <td>NaN</td>\n      <td>...</td>\n      <td>NaN</td>\n      <td>NaN</td>\n      <td>NaN</td>\n      <td>NaN</td>\n      <td>0.0</td>\n      <td>2021-10-01 오전 9:56:58</td>\n      <td>NaN</td>\n      <td>2ehd8869</td>\n      <td>NaN</td>\n      <td>ENG_B11</td>\n    </tr>\n    <tr>\n      <th>1</th>\n      <td>SEJO</td>\n      <td>2021-10-05</td>\n      <td>1000</td>\n      <td>8180.0</td>\n      <td>8180.0</td>\n      <td>6.0</td>\n      <td>0.0</td>\n      <td>NaN</td>\n      <td>NaN</td>\n      <td>NaN</td>\n      <td>...</td>\n      <td>NaN</td>\n      <td>NaN</td>\n      <td>NaN</td>\n      <td>NaN</td>\n      <td>0.0</td>\n      <td>2021-10-05 오전 10:12:38</td>\n      <td>NaN</td>\n      <td>scc2133</td>\n      <td>NaN</td>\n      <td>ENG_B11</td>\n    </tr>\n    <tr>\n      <th>2</th>\n      <td>SEJO</td>\n      <td>2021-10-06</td>\n      <td>1000</td>\n      <td>8184.0</td>\n      <td>8184.0</td>\n      <td>4.0</td>\n      <td>0.0</td>\n      <td>NaN</td>\n      <td>NaN</td>\n      <td>NaN</td>\n      <td>...</td>\n      <td>NaN</td>\n      <td>NaN</td>\n      <td>NaN</td>\n      <td>NaN</td>\n      <td>0.0</td>\n      <td>2021-10-06 오전 9:17:52</td>\n      <td>NaN</td>\n      <td>scc2133</td>\n      <td>NaN</td>\n      <td>ENG_B11</td>\n    </tr>\n    <tr>\n      <th>3</th>\n      <td>SEJO</td>\n      <td>2021-10-07</td>\n      <td>1000</td>\n      <td>8190.0</td>\n      <td>8190.0</td>\n      <td>6.0</td>\n      <td>0.0</td>\n      <td>NaN</td>\n      <td>NaN</td>\n      <td>NaN</td>\n      <td>...</td>\n      <td>NaN</td>\n      <td>NaN</td>\n      <td>NaN</td>\n      <td>NaN</td>\n      <td>0.0</td>\n      <td>2021-10-07 오전 9:40:09</td>\n      <td>NaN</td>\n      <td>scc2133</td>\n      <td>NaN</td>\n      <td>ENG_B11</td>\n    </tr>\n    <tr>\n      <th>4</th>\n      <td>SEJO</td>\n      <td>2021-10-08</td>\n      <td>1000</td>\n      <td>8197.0</td>\n      <td>8197.0</td>\n      <td>7.0</td>\n      <td>0.0</td>\n      <td>NaN</td>\n      <td>NaN</td>\n      <td>NaN</td>\n      <td>...</td>\n      <td>NaN</td>\n      <td>NaN</td>\n      <td>NaN</td>\n      <td>NaN</td>\n      <td>0.0</td>\n      <td>2021-10-08 오전 9:49:12</td>\n      <td>NaN</td>\n      <td>scc2133</td>\n      <td>NaN</td>\n      <td>ENG_B11</td>\n    </tr>\n    <tr>\n      <th>...</th>\n      <td>...</td>\n      <td>...</td>\n      <td>...</td>\n      <td>...</td>\n      <td>...</td>\n      <td>...</td>\n      <td>...</td>\n      <td>...</td>\n      <td>...</td>\n      <td>...</td>\n      <td>...</td>\n      <td>...</td>\n      <td>...</td>\n      <td>...</td>\n      <td>...</td>\n      <td>...</td>\n      <td>...</td>\n      <td>...</td>\n      <td>...</td>\n      <td>...</td>\n      <td>...</td>\n    </tr>\n    <tr>\n      <th>46345</th>\n      <td>SEJO</td>\n      <td>2022-10-04</td>\n      <td>999</td>\n      <td>27757.0</td>\n      <td>27757.0</td>\n      <td>9.0</td>\n      <td>0.0</td>\n      <td>NaN</td>\n      <td>NaN</td>\n      <td>NaN</td>\n      <td>...</td>\n      <td>NaN</td>\n      <td>NaN</td>\n      <td>NaN</td>\n      <td>NaN</td>\n      <td>0.0</td>\n      <td>2022-10-04 오전 10:29:50</td>\n      <td>NaN</td>\n      <td>scc2133</td>\n      <td>NaN</td>\n      <td>ENG_B11</td>\n    </tr>\n    <tr>\n      <th>46346</th>\n      <td>SEJO</td>\n      <td>2022-10-05</td>\n      <td>999</td>\n      <td>27763.0</td>\n      <td>27763.0</td>\n      <td>6.0</td>\n      <td>0.0</td>\n      <td>NaN</td>\n      <td>NaN</td>\n      <td>NaN</td>\n      <td>...</td>\n      <td>NaN</td>\n      <td>NaN</td>\n      <td>NaN</td>\n      <td>NaN</td>\n      <td>0.0</td>\n      <td>2022-10-05 오전 9:58:39</td>\n      <td>NaN</td>\n      <td>2ehd5808</td>\n      <td>NaN</td>\n      <td>ENG_B11</td>\n    </tr>\n    <tr>\n      <th>46347</th>\n      <td>SEJO</td>\n      <td>2022-10-06</td>\n      <td>999</td>\n      <td>27765.0</td>\n      <td>27765.0</td>\n      <td>2.0</td>\n      <td>0.0</td>\n      <td>NaN</td>\n      <td>NaN</td>\n      <td>NaN</td>\n      <td>...</td>\n      <td>NaN</td>\n      <td>NaN</td>\n      <td>NaN</td>\n      <td>NaN</td>\n      <td>0.0</td>\n      <td>2022-10-06 오전 9:37:06</td>\n      <td>NaN</td>\n      <td>1ehd8664</td>\n      <td>NaN</td>\n      <td>ENG_B11</td>\n    </tr>\n    <tr>\n      <th>46348</th>\n      <td>SEJO</td>\n      <td>2022-10-07</td>\n      <td>999</td>\n      <td>27771.0</td>\n      <td>27771.0</td>\n      <td>6.0</td>\n      <td>0.0</td>\n      <td>NaN</td>\n      <td>NaN</td>\n      <td>NaN</td>\n      <td>...</td>\n      <td>NaN</td>\n      <td>NaN</td>\n      <td>NaN</td>\n      <td>NaN</td>\n      <td>0.0</td>\n      <td>2022-10-07 오전 9:47:35</td>\n      <td>NaN</td>\n      <td>1ehd8664</td>\n      <td>NaN</td>\n      <td>ENG_B11</td>\n    </tr>\n    <tr>\n      <th>46349</th>\n      <td>SEJO</td>\n      <td>2022-10-11</td>\n      <td>999</td>\n      <td>27777.0</td>\n      <td>27777.0</td>\n      <td>6.0</td>\n      <td>0.0</td>\n      <td>NaN</td>\n      <td>NaN</td>\n      <td>NaN</td>\n      <td>...</td>\n      <td>NaN</td>\n      <td>NaN</td>\n      <td>NaN</td>\n      <td>NaN</td>\n      <td>0.0</td>\n      <td>2022-10-11 오전 9:41:22</td>\n      <td>NaN</td>\n      <td>1ehd8664</td>\n      <td>NaN</td>\n      <td>ENG_B11</td>\n    </tr>\n  </tbody>\n</table>\n<p>46350 rows × 24 columns</p>\n</div>"
     },
     "execution_count": 265,
     "metadata": {},
     "output_type": "execute_result"
    }
   ],
   "source": [
    "df"
   ],
   "metadata": {
    "collapsed": false
   }
  },
  {
   "cell_type": "code",
   "execution_count": 266,
   "outputs": [],
   "source": [
    "#df['ins_day'] = pd.to_datetime(df['ins_day'], format= '%Y-%m-%d %H:%M:%S', errors='raise')\n",
    "df['ins_day'] = pd.to_datetime(df['ins_day'])\n",
    "df['year'] = df['ins_day'].dt.year\n",
    "df['month'] = df['ins_day'].dt.month\n",
    "df['day'] = df['ins_day'].dt.day\n",
    "df['weekday'] = df['ins_day'].dt.weekday\n",
    "dataset = df[['gag_cd','year','month','day','weekday','use_val']]\n",
    "dataset = dataset[(dataset['use_val'] >= -100) & (dataset['use_val'] <= 100)]\n",
    "\n",
    "dataset = dataset[dataset['gag_cd']==1000]\n",
    "\n",
    "X = dataset.drop('use_val',axis = 1)\n",
    "y = dataset['use_val']"
   ],
   "metadata": {
    "collapsed": false
   }
  },
  {
   "cell_type": "code",
   "execution_count": 267,
   "outputs": [],
   "source": [
    "X_train, X_test, y_train, y_test = train_test_split(X, y, test_size=0.33)"
   ],
   "metadata": {
    "collapsed": false
   }
  },
  {
   "cell_type": "code",
   "execution_count": 268,
   "outputs": [
    {
     "data": {
      "text/plain": "LGBMRegressor()",
      "text/html": "<style>#sk-container-id-6 {color: black;background-color: white;}#sk-container-id-6 pre{padding: 0;}#sk-container-id-6 div.sk-toggleable {background-color: white;}#sk-container-id-6 label.sk-toggleable__label {cursor: pointer;display: block;width: 100%;margin-bottom: 0;padding: 0.3em;box-sizing: border-box;text-align: center;}#sk-container-id-6 label.sk-toggleable__label-arrow:before {content: \"▸\";float: left;margin-right: 0.25em;color: #696969;}#sk-container-id-6 label.sk-toggleable__label-arrow:hover:before {color: black;}#sk-container-id-6 div.sk-estimator:hover label.sk-toggleable__label-arrow:before {color: black;}#sk-container-id-6 div.sk-toggleable__content {max-height: 0;max-width: 0;overflow: hidden;text-align: left;background-color: #f0f8ff;}#sk-container-id-6 div.sk-toggleable__content pre {margin: 0.2em;color: black;border-radius: 0.25em;background-color: #f0f8ff;}#sk-container-id-6 input.sk-toggleable__control:checked~div.sk-toggleable__content {max-height: 200px;max-width: 100%;overflow: auto;}#sk-container-id-6 input.sk-toggleable__control:checked~label.sk-toggleable__label-arrow:before {content: \"▾\";}#sk-container-id-6 div.sk-estimator input.sk-toggleable__control:checked~label.sk-toggleable__label {background-color: #d4ebff;}#sk-container-id-6 div.sk-label input.sk-toggleable__control:checked~label.sk-toggleable__label {background-color: #d4ebff;}#sk-container-id-6 input.sk-hidden--visually {border: 0;clip: rect(1px 1px 1px 1px);clip: rect(1px, 1px, 1px, 1px);height: 1px;margin: -1px;overflow: hidden;padding: 0;position: absolute;width: 1px;}#sk-container-id-6 div.sk-estimator {font-family: monospace;background-color: #f0f8ff;border: 1px dotted black;border-radius: 0.25em;box-sizing: border-box;margin-bottom: 0.5em;}#sk-container-id-6 div.sk-estimator:hover {background-color: #d4ebff;}#sk-container-id-6 div.sk-parallel-item::after {content: \"\";width: 100%;border-bottom: 1px solid gray;flex-grow: 1;}#sk-container-id-6 div.sk-label:hover label.sk-toggleable__label {background-color: #d4ebff;}#sk-container-id-6 div.sk-serial::before {content: \"\";position: absolute;border-left: 1px solid gray;box-sizing: border-box;top: 0;bottom: 0;left: 50%;z-index: 0;}#sk-container-id-6 div.sk-serial {display: flex;flex-direction: column;align-items: center;background-color: white;padding-right: 0.2em;padding-left: 0.2em;position: relative;}#sk-container-id-6 div.sk-item {position: relative;z-index: 1;}#sk-container-id-6 div.sk-parallel {display: flex;align-items: stretch;justify-content: center;background-color: white;position: relative;}#sk-container-id-6 div.sk-item::before, #sk-container-id-6 div.sk-parallel-item::before {content: \"\";position: absolute;border-left: 1px solid gray;box-sizing: border-box;top: 0;bottom: 0;left: 50%;z-index: -1;}#sk-container-id-6 div.sk-parallel-item {display: flex;flex-direction: column;z-index: 1;position: relative;background-color: white;}#sk-container-id-6 div.sk-parallel-item:first-child::after {align-self: flex-end;width: 50%;}#sk-container-id-6 div.sk-parallel-item:last-child::after {align-self: flex-start;width: 50%;}#sk-container-id-6 div.sk-parallel-item:only-child::after {width: 0;}#sk-container-id-6 div.sk-dashed-wrapped {border: 1px dashed gray;margin: 0 0.4em 0.5em 0.4em;box-sizing: border-box;padding-bottom: 0.4em;background-color: white;}#sk-container-id-6 div.sk-label label {font-family: monospace;font-weight: bold;display: inline-block;line-height: 1.2em;}#sk-container-id-6 div.sk-label-container {text-align: center;}#sk-container-id-6 div.sk-container {/* jupyter's `normalize.less` sets `[hidden] { display: none; }` but bootstrap.min.css set `[hidden] { display: none !important; }` so we also need the `!important` here to be able to override the default hidden behavior on the sphinx rendered scikit-learn.org. See: https://github.com/scikit-learn/scikit-learn/issues/21755 */display: inline-block !important;position: relative;}#sk-container-id-6 div.sk-text-repr-fallback {display: none;}</style><div id=\"sk-container-id-6\" class=\"sk-top-container\"><div class=\"sk-text-repr-fallback\"><pre>LGBMRegressor()</pre><b>In a Jupyter environment, please rerun this cell to show the HTML representation or trust the notebook. <br />On GitHub, the HTML representation is unable to render, please try loading this page with nbviewer.org.</b></div><div class=\"sk-container\" hidden><div class=\"sk-item\"><div class=\"sk-estimator sk-toggleable\"><input class=\"sk-toggleable__control sk-hidden--visually\" id=\"sk-estimator-id-6\" type=\"checkbox\" checked><label for=\"sk-estimator-id-6\" class=\"sk-toggleable__label sk-toggleable__label-arrow\">LGBMRegressor</label><div class=\"sk-toggleable__content\"><pre>LGBMRegressor()</pre></div></div></div></div></div>"
     },
     "execution_count": 268,
     "metadata": {},
     "output_type": "execute_result"
    }
   ],
   "source": [
    "model = LGBMRegressor()\n",
    "model.fit(X_train, y_train, categorical_feature =['gag_cd'], verbose=100)"
   ],
   "metadata": {
    "collapsed": false
   }
  },
  {
   "cell_type": "code",
   "execution_count": 269,
   "outputs": [
    {
     "data": {
      "text/plain": "10.040001272071867"
     },
     "execution_count": 269,
     "metadata": {},
     "output_type": "execute_result"
    }
   ],
   "source": [
    "y_predict = model.predict(X_test)\n",
    "y_predict = pd.DataFrame(y_predict)\n",
    "result = X_test.reset_index()\n",
    "result = pd.concat([result, y_test.reset_index(),y_predict], axis=1)\n",
    "mean_squared_error(result['use_val'], result[0])"
   ],
   "metadata": {
    "collapsed": false
   }
  },
  {
   "cell_type": "code",
   "execution_count": 270,
   "outputs": [
    {
     "data": {
      "text/plain": "10.040001272071867"
     },
     "execution_count": 270,
     "metadata": {},
     "output_type": "execute_result"
    }
   ],
   "source": [
    "mean_squared_error(result['use_val'], result[0])"
   ],
   "metadata": {
    "collapsed": false
   }
  },
  {
   "cell_type": "code",
   "execution_count": 271,
   "outputs": [
    {
     "data": {
      "text/plain": "count    82.000000\nmean      4.488796\nstd       0.754360\nmin       2.704667\n25%       4.013783\n50%       4.409029\n75%       4.816672\nmax       5.937706\nName: 0, dtype: float64"
     },
     "execution_count": 271,
     "metadata": {},
     "output_type": "execute_result"
    }
   ],
   "source": [
    "result[0].describe()"
   ],
   "metadata": {
    "collapsed": false
   }
  },
  {
   "cell_type": "code",
   "execution_count": 272,
   "outputs": [
    {
     "data": {
      "text/plain": "count    82.000000\nmean      4.134146\nstd       3.126005\nmin       0.000000\n25%       3.000000\n50%       4.000000\n75%       5.000000\nmax      27.000000\nName: use_val, dtype: float64"
     },
     "execution_count": 272,
     "metadata": {},
     "output_type": "execute_result"
    }
   ],
   "source": [
    "result['use_val'].describe()"
   ],
   "metadata": {
    "collapsed": false
   }
  },
  {
   "cell_type": "code",
   "execution_count": 272,
   "outputs": [],
   "source": [],
   "metadata": {
    "collapsed": false
   }
  }
 ],
 "metadata": {
  "kernelspec": {
   "display_name": "Python 3",
   "language": "python",
   "name": "python3"
  },
  "language_info": {
   "codemirror_mode": {
    "name": "ipython",
    "version": 2
   },
   "file_extension": ".py",
   "mimetype": "text/x-python",
   "name": "python",
   "nbconvert_exporter": "python",
   "pygments_lexer": "ipython2",
   "version": "2.7.6"
  }
 },
 "nbformat": 4,
 "nbformat_minor": 0
}

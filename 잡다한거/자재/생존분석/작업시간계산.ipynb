{
 "cells": [
  {
   "cell_type": "code",
   "execution_count": 9,
   "metadata": {},
   "outputs": [],
   "source": [
    "import pandas as pd\n",
    "import numpy as np\n",
    "import datetime\n",
    "from pathlib import Path\n"
   ]
  },
  {
   "cell_type": "markdown",
   "metadata": {},
   "source": [
    "# 데이터 Load"
   ]
  },
  {
   "cell_type": "code",
   "execution_count": 10,
   "metadata": {},
   "outputs": [
    {
     "data": {
      "text/plain": "'/Users/keumhyeonjun/Projects/행안부/자재/GFMS DB/'"
     },
     "execution_count": 10,
     "metadata": {},
     "output_type": "execute_result"
    }
   ],
   "source": [
    "# 데이터 경로\n",
    "path = Path.cwd().parent\n",
    "path = str(path)+'/GFMS DB/'\n",
    "path"
   ]
  },
  {
   "cell_type": "code",
   "execution_count": 11,
   "metadata": {},
   "outputs": [
    {
     "name": "stderr",
     "output_type": "stream",
     "text": [
      "/var/folders/nd/cl2nzwh13zx7jdly2t5m95340000gn/T/ipykernel_80773/625519574.py:1: DtypeWarning: Columns (59) have mixed types. Specify dtype option on import or set low_memory=False.\n",
      "  FMSA10_작업지시_결과 = pd.read_csv(path+'FMSA10_작업지시_결과_ver2.csv')\n",
      "/var/folders/nd/cl2nzwh13zx7jdly2t5m95340000gn/T/ipykernel_80773/625519574.py:51: SettingWithCopyWarning: \n",
      "A value is trying to be set on a copy of a slice from a DataFrame.\n",
      "Try using .loc[row_indexer,col_indexer] = value instead\n",
      "\n",
      "See the caveats in the documentation: https://pandas.pydata.org/pandas-docs/stable/user_guide/indexing.html#returning-a-view-versus-a-copy\n",
      "  fmsb03[\"mat_cd\"] = fmsb03[\"mat_cd\"].astype(\"str\")\n"
     ]
    }
   ],
   "source": [
    "FMSA10_작업지시_결과 = pd.read_csv(path+'FMSA10_작업지시_결과_ver2.csv')\n",
    "\n",
    "FMSA11_작업장비이력 = pd.read_excel(path + 'FMSA11_작업장비이력.xlsx')\n",
    "\n",
    "FMSX05_장비마스터 = pd.read_csv(path + 'FMSX05_장비마스터_ver2.csv')\n",
    "\n",
    "FMSB07_자재출고 = pd.read_excel(path + 'FMSB07_자재출고.xlsx')\n",
    "\n",
    "FMSB03_자재마스터 = pd.read_csv(path + 'FMSB03_자재마스터_ver2.csv')\n",
    "\n",
    "FMSB03_자재마스터.drop(['class_nm_4','class_cd_4'],axis =1,inplace = True)\n",
    "\n",
    "FMSB03_자재마스터.rename(columns={'class_nm_3':'jajae_class_nm_3'},inplace = True)\n",
    "FMSB03_자재마스터.rename(columns={'class_nm_2':'jajae_class_nm_2'},inplace = True)\n",
    "FMSB03_자재마스터.rename(columns={'class_nm_1':'jajae_class_nm_1'},inplace = True)\n",
    "\n",
    "FMSB03_자재마스터.rename(columns={'class_cd_3':'jajae_class_cd_3'},inplace = True)\n",
    "FMSB03_자재마스터.rename(columns={'class_cd_2':'jajae_class_cd_2'},inplace = True)\n",
    "FMSB03_자재마스터.rename(columns={'class_cd_1':'jajae_class_cd_1'},inplace = True)\n",
    "\n",
    "\n",
    "FMSX05_장비마스터.rename(columns={'class_nm_4':'jangbi_class_nm_4'},inplace = True)\n",
    "FMSX05_장비마스터.rename(columns={'class_nm_3':'jangbi_class_nm_3'},inplace = True)\n",
    "FMSX05_장비마스터.rename(columns={'class_nm_2':'jangbi_class_nm_2'},inplace = True)\n",
    "FMSX05_장비마스터.rename(columns={'class_nm_1':'jangbi_class_nm_1'},inplace = True)\n",
    "\n",
    "\n",
    "FMSX05_장비마스터.rename(columns={'class_cd_4':'jangbi_class_cd_4'},inplace = True)\n",
    "FMSX05_장비마스터.rename(columns={'class_cd_3':'jangbi_class_cd_3'},inplace = True)\n",
    "FMSX05_장비마스터.rename(columns={'class_cd_2':'jangbi_class_cd_2'},inplace = True)\n",
    "FMSX05_장비마스터.rename(columns={'class_cd_1':'jangbi_class_cd_1'},inplace = True)\n",
    "\n",
    "FMSA10_작업지시_결과.rename(columns={'class_nm_4':'job_class_nm_4'},inplace = True)\n",
    "FMSA10_작업지시_결과.rename(columns={'class_nm_3':'job_class_nm_3'},inplace = True)\n",
    "FMSA10_작업지시_결과.rename(columns={'class_nm_2':'job_class_nm_2'},inplace = True)\n",
    "FMSA10_작업지시_결과.rename(columns={'class_nm_1':'job_class_nm_1'},inplace = True)\n",
    "\n",
    "\n",
    "FMSA10_작업지시_결과.rename(columns={'class_cd_4':'job_class_cd_4'},inplace = True)\n",
    "FMSA10_작업지시_결과.rename(columns={'class_cd_3':'job_class_cd_3'},inplace = True)\n",
    "FMSA10_작업지시_결과.rename(columns={'class_cd_2':'job_class_cd_2'},inplace = True)\n",
    "FMSA10_작업지시_결과.rename(columns={'class_cd_1':'job_class_cd_1'},inplace = True)\n",
    "\n",
    "fmsa10 =FMSA10_작업지시_결과[['job_cd','job_nm','job_jisi_dt','job_enddt','job_shm','job_ehm','job_class_nm_1','job_class_nm_2','job_class_nm_3','job_class_nm_4']]\n",
    "fmsb03 = FMSB03_자재마스터[['mat_cd','mat_nm','jajae_class_nm_1','jajae_class_nm_2','jajae_class_nm_3','jajae_class_cd_3']]\n",
    "fmsx05 = FMSX05_장비마스터[['fac_cd','fac_nm','jangbi_class_nm_1','jangbi_class_nm_2','jangbi_class_nm_3','jangbi_class_nm_4','fac_instdt']]\n",
    "\n",
    "\n",
    "FMSB07_자재출고[\"mat_cd\"] = FMSB07_자재출고[\"mat_cd\"].astype(\"str\")\n",
    "FMSB07_자재출고[\"mat_cd\"] = list(map(lambda x: x[:-3],FMSB07_자재출고[\"mat_cd\"].tolist())) # FMSB03과 inner join하기 위해 mat_cd 형식 일치\n",
    "fmsb03[\"mat_cd\"] = fmsb03[\"mat_cd\"].astype(\"str\")\n",
    "jajae = pd.merge(FMSB07_자재출고,fmsb03 ,on = 'mat_cd', how = 'inner')\n",
    "jajae = jajae[['job_cd','outw_day','mat_cd','outw_qty','mat_nm_x','jajae_class_nm_1','jajae_class_nm_2','jajae_class_nm_3','jajae_class_cd_3']]\n",
    "\n",
    "\n",
    "jangbi = pd.merge(FMSA11_작업장비이력, fmsx05, how='inner', on='fac_cd')\n",
    "jangbi_broken = pd.merge(fmsa10,jangbi, on='job_cd',how = 'inner')\n",
    "\n",
    "jangbi_broken.drop(['job_cont','chg_sysdt','chg_emp_no'],axis=1,inplace=True)\n",
    "jangbi_broken = jangbi_broken.dropna()\n",
    "\n",
    "jangbi_broken['자재매칭여부'] = jangbi_broken['job_cd']\n",
    "arr_장비 = list(jangbi_broken['job_cd'])\n",
    "arr_자재 = list(jajae['job_cd'])\n",
    "#자재 매칭이 안되는 경우\n",
    "arr = list(set(arr_장비)- set(arr_자재))\n",
    "\n",
    "def function(x):\n",
    "    if x in arr:\n",
    "        return 0\n",
    "    else:\n",
    "         return 1\n",
    "\n",
    "jangbi_broken['자재매칭여부'] = jangbi_broken['자재매칭여부'].apply(function)\n",
    "df = pd.merge(jangbi_broken,jajae, on='job_cd',how = 'inner')\n",
    "\n",
    "jangbi_jajae = df[['job_cd','job_nm','job_jisi_dt','job_enddt','job_shm','job_ehm','job_class_nm_1','job_class_nm_2','job_class_nm_3','job_class_nm_4','fac_cd','fac_nm','fac_instdt','mat_cd','mat_nm_x',\n",
    "           'jangbi_class_nm_1','jangbi_class_nm_2','jangbi_class_nm_3','jangbi_class_nm_4','자재매칭여부','jajae_class_nm_1','jajae_class_nm_2','jajae_class_nm_3','jajae_class_cd_3']]"
   ]
  },
  {
   "cell_type": "code",
   "execution_count": 12,
   "metadata": {},
   "outputs": [],
   "source": [
    "# 기계 = jangbi_jajae[jangbi_jajae['jangbi_class_nm_1']=='기계']\n",
    "# 통신 = jangbi_jajae[jangbi_jajae['jangbi_class_nm_1']=='통신']\n",
    "# 전기 = jangbi_jajae[jangbi_jajae['jangbi_class_nm_1']=='전기']\n",
    "# 방재 = jangbi_jajae[jangbi_jajae['jangbi_class_nm_1']=='방재']\n",
    "# 승강기 = jangbi_jajae[jangbi_jajae['jangbi_class_nm_1']=='승강기']\n",
    "#\n",
    "# 기계_장비 = jangbi_broken[jangbi_broken['jangbi_class_nm_1']=='기계']\n",
    "# 통신_장비 = jangbi_broken[jangbi_broken['jangbi_class_nm_1']=='통신']\n",
    "# 전기_장비 = jangbi_broken[jangbi_broken['jangbi_class_nm_1']=='전기']\n",
    "# 방재_장비 = jangbi_broken[jangbi_broken['jangbi_class_nm_1']=='방재']\n",
    "# 승강기_장비 = jangbi_broken[jangbi_broken['jangbi_class_nm_1']=='승강기']\n",
    "\n"
   ]
  },
  {
   "cell_type": "code",
   "execution_count": 13,
   "outputs": [
    {
     "data": {
      "text/plain": "            job_cd                               job_nm job_jisi_dt  \\\n0     211001-00047            2동 1구역 430호 남자화장실 비데 전열불량  2021-10-01   \n3     211001-00081     1동 1구역 2층 복도내 거실통로유도등 점등불량 교체 작업  2021-10-01   \n4     211001-00070          2-1동 옥상층 66번 CCTV PTZ 동작 불량  2021-10-01   \n5     211001-00069            5-3동 1F 34번 얼굴인식단말기 동작 불량  2021-10-01   \n6     211001-00025             7-1동 6층 남자화장실 대변기 뚜껑 떨어짐  2021-10-01   \n...            ...                                  ...         ...   \n6825  221011-00020              12동 4-1 남자화장실 소변기 뒤쪽 누수  2022-10-11   \n6826  221011-00011   13동 5-7 여자화장실 오른쪽 첫번째 대변기 밑 밸브쪽 누수  2022-10-11   \n6827  221011-00066  13-2동 1층 방재실 R형 수신기 예비전원 불량 교체 (2개)  2022-10-11   \n6829  221011-00044               16동 1층 동쪽 여자화장실 대변기 막힘  2022-10-11   \n6830  221011-00019           17-2동 7층 남자 화장실 대변기 물 계속흐름  2022-10-11   \n\n       job_enddt                 job_shm                 job_ehm  \\\n0     2021-10-01   2021-10-01 오후 2:30:00   2021-10-01 오후 2:40:00   \n3     2021-10-01   2021-10-01 오후 1:30:00   2021-10-01 오후 1:45:00   \n4     2021-10-01   2021-10-01 오전 9:00:00   2021-10-01 오후 5:31:00   \n5     2021-10-01   2021-10-01 오후 1:10:00   2021-10-01 오후 2:11:00   \n6     2021-10-01   2021-10-01 오전 9:20:00   2021-10-01 오전 9:40:00   \n...          ...                     ...                     ...   \n6825  2022-10-11  2022-10-11 오전 10:30:00  2022-10-11 오전 11:00:00   \n6826  2022-10-11   2022-10-11 오전 9:40:00  2022-10-11 오전 10:10:00   \n6827  2022-10-11   2022-10-11 오후 2:30:00   2022-10-11 오후 3:10:00   \n6829  2022-10-11   2022-10-11 오전 8:32:00   2022-10-11 오전 9:30:00   \n6830  2022-10-11   2022-10-11 오전 8:57:00   2022-10-11 오전 9:20:00   \n\n     job_class_nm_1 job_class_nm_2 job_class_nm_3 job_class_nm_4  ...  \\\n0            2동 1구역             4층            분전반           EPS실  ...   \n3            1동 1구역             2층            유도등       거실통로 유도등  ...   \n4            2동 1구역            옥상층          방범시스템       CCTV 카메라  ...   \n5            5동 3구역             1층        출입통제시스템           얼굴인식  ...   \n6              7-1동             6층           위생설비            대변기  ...   \n...             ...            ...            ...            ...  ...   \n6825          12-3동             4층           위생설비            소변기  ...   \n6826          13-1동             5층           위생설비             비데  ...   \n6827          13-2동             1층       자동화재탐지설비            수신기  ...   \n6829            16동             1층           위생설비            대변기  ...   \n6830          17-2동             7층           위생설비            대변기  ...   \n\n                 input_sysdt   input_emp_no input_scr_nm             fac_nm  \\\n0      2021-10-01 오후 3:24:08  crowonthetree      JOB_A11          LN-4E1(E)   \n3     2021-10-21 오전 10:33:08       skysen83      JOB_A11       1동  거실통로 유도등   \n4      2021-10-01 오후 5:39:22       hugh7192      JOB_A11        2동 CCTV #66   \n5      2021-10-01 오후 5:34:38      sghong923      JOB_A11      5-3동 얼굴인식 #34   \n6      2021-10-01 오후 9:33:55       kwak6400      JOB_A11  7-1동-6F 화장실(남)대변기   \n...                      ...            ...          ...                ...   \n6825   2022-10-11 오후 1:25:55     rhkdtlr761      JOB_A11            소변기 #07   \n6826  2022-10-11 오전 10:38:16     rhkdtlr761      JOB_A11          물내림비데 #30   \n6827   2022-10-11 오후 4:09:26        kjkim63      JOB_A11      13동 GR형복합식수신기   \n6829   2022-10-11 오후 2:59:13         je0303      JOB_A11    1F여2동쪽 공용대변기(5)   \n6830   2022-10-11 오후 1:42:33          as119      JOB_A11         7F남2대변기(3)   \n\n     jangbi_class_nm_1 jangbi_class_nm_2 jangbi_class_nm_3 jangbi_class_nm_4  \\\n0                   전기            전력공급설비               분전반              EPS실   \n3                   방재              피난설비               유도등          거실통로 유도등   \n4                   통신              방범설비             방범시스템          CCTV 카메라   \n5                   통신              방범설비           출입통제시스템              얼굴인식   \n6                   기계          위생, 탱크설비              위생설비               대변기   \n...                ...               ...               ...               ...   \n6825                기계          위생, 탱크설비              위생설비               소변기   \n6826                기계          위생, 탱크설비              위생설비                비데   \n6827                방재              경보설비          자동화재탐지설비               수신기   \n6829                기계          위생, 탱크설비              위생설비               대변기   \n6830                기계          위생, 탱크설비              위생설비               대변기   \n\n      fac_instdt 자재매칭여부  \n0     2012-09-01      0  \n3     2012-05-01      1  \n4     2019-10-25      1  \n5     2019-10-10      0  \n6     2019-11-27      0  \n...          ...    ...  \n6825  2012-03-01      0  \n6826  2012-03-01      0  \n6827  2013-11-01      1  \n6829  2014-06-01      0  \n6830  2014-06-01      0  \n\n[6343 rows x 22 columns]",
      "text/html": "<div>\n<style scoped>\n    .dataframe tbody tr th:only-of-type {\n        vertical-align: middle;\n    }\n\n    .dataframe tbody tr th {\n        vertical-align: top;\n    }\n\n    .dataframe thead th {\n        text-align: right;\n    }\n</style>\n<table border=\"1\" class=\"dataframe\">\n  <thead>\n    <tr style=\"text-align: right;\">\n      <th></th>\n      <th>job_cd</th>\n      <th>job_nm</th>\n      <th>job_jisi_dt</th>\n      <th>job_enddt</th>\n      <th>job_shm</th>\n      <th>job_ehm</th>\n      <th>job_class_nm_1</th>\n      <th>job_class_nm_2</th>\n      <th>job_class_nm_3</th>\n      <th>job_class_nm_4</th>\n      <th>...</th>\n      <th>input_sysdt</th>\n      <th>input_emp_no</th>\n      <th>input_scr_nm</th>\n      <th>fac_nm</th>\n      <th>jangbi_class_nm_1</th>\n      <th>jangbi_class_nm_2</th>\n      <th>jangbi_class_nm_3</th>\n      <th>jangbi_class_nm_4</th>\n      <th>fac_instdt</th>\n      <th>자재매칭여부</th>\n    </tr>\n  </thead>\n  <tbody>\n    <tr>\n      <th>0</th>\n      <td>211001-00047</td>\n      <td>2동 1구역 430호 남자화장실 비데 전열불량</td>\n      <td>2021-10-01</td>\n      <td>2021-10-01</td>\n      <td>2021-10-01 오후 2:30:00</td>\n      <td>2021-10-01 오후 2:40:00</td>\n      <td>2동 1구역</td>\n      <td>4층</td>\n      <td>분전반</td>\n      <td>EPS실</td>\n      <td>...</td>\n      <td>2021-10-01 오후 3:24:08</td>\n      <td>crowonthetree</td>\n      <td>JOB_A11</td>\n      <td>LN-4E1(E)</td>\n      <td>전기</td>\n      <td>전력공급설비</td>\n      <td>분전반</td>\n      <td>EPS실</td>\n      <td>2012-09-01</td>\n      <td>0</td>\n    </tr>\n    <tr>\n      <th>3</th>\n      <td>211001-00081</td>\n      <td>1동 1구역 2층 복도내 거실통로유도등 점등불량 교체 작업</td>\n      <td>2021-10-01</td>\n      <td>2021-10-01</td>\n      <td>2021-10-01 오후 1:30:00</td>\n      <td>2021-10-01 오후 1:45:00</td>\n      <td>1동 1구역</td>\n      <td>2층</td>\n      <td>유도등</td>\n      <td>거실통로 유도등</td>\n      <td>...</td>\n      <td>2021-10-21 오전 10:33:08</td>\n      <td>skysen83</td>\n      <td>JOB_A11</td>\n      <td>1동  거실통로 유도등</td>\n      <td>방재</td>\n      <td>피난설비</td>\n      <td>유도등</td>\n      <td>거실통로 유도등</td>\n      <td>2012-05-01</td>\n      <td>1</td>\n    </tr>\n    <tr>\n      <th>4</th>\n      <td>211001-00070</td>\n      <td>2-1동 옥상층 66번 CCTV PTZ 동작 불량</td>\n      <td>2021-10-01</td>\n      <td>2021-10-01</td>\n      <td>2021-10-01 오전 9:00:00</td>\n      <td>2021-10-01 오후 5:31:00</td>\n      <td>2동 1구역</td>\n      <td>옥상층</td>\n      <td>방범시스템</td>\n      <td>CCTV 카메라</td>\n      <td>...</td>\n      <td>2021-10-01 오후 5:39:22</td>\n      <td>hugh7192</td>\n      <td>JOB_A11</td>\n      <td>2동 CCTV #66</td>\n      <td>통신</td>\n      <td>방범설비</td>\n      <td>방범시스템</td>\n      <td>CCTV 카메라</td>\n      <td>2019-10-25</td>\n      <td>1</td>\n    </tr>\n    <tr>\n      <th>5</th>\n      <td>211001-00069</td>\n      <td>5-3동 1F 34번 얼굴인식단말기 동작 불량</td>\n      <td>2021-10-01</td>\n      <td>2021-10-01</td>\n      <td>2021-10-01 오후 1:10:00</td>\n      <td>2021-10-01 오후 2:11:00</td>\n      <td>5동 3구역</td>\n      <td>1층</td>\n      <td>출입통제시스템</td>\n      <td>얼굴인식</td>\n      <td>...</td>\n      <td>2021-10-01 오후 5:34:38</td>\n      <td>sghong923</td>\n      <td>JOB_A11</td>\n      <td>5-3동 얼굴인식 #34</td>\n      <td>통신</td>\n      <td>방범설비</td>\n      <td>출입통제시스템</td>\n      <td>얼굴인식</td>\n      <td>2019-10-10</td>\n      <td>0</td>\n    </tr>\n    <tr>\n      <th>6</th>\n      <td>211001-00025</td>\n      <td>7-1동 6층 남자화장실 대변기 뚜껑 떨어짐</td>\n      <td>2021-10-01</td>\n      <td>2021-10-01</td>\n      <td>2021-10-01 오전 9:20:00</td>\n      <td>2021-10-01 오전 9:40:00</td>\n      <td>7-1동</td>\n      <td>6층</td>\n      <td>위생설비</td>\n      <td>대변기</td>\n      <td>...</td>\n      <td>2021-10-01 오후 9:33:55</td>\n      <td>kwak6400</td>\n      <td>JOB_A11</td>\n      <td>7-1동-6F 화장실(남)대변기</td>\n      <td>기계</td>\n      <td>위생, 탱크설비</td>\n      <td>위생설비</td>\n      <td>대변기</td>\n      <td>2019-11-27</td>\n      <td>0</td>\n    </tr>\n    <tr>\n      <th>...</th>\n      <td>...</td>\n      <td>...</td>\n      <td>...</td>\n      <td>...</td>\n      <td>...</td>\n      <td>...</td>\n      <td>...</td>\n      <td>...</td>\n      <td>...</td>\n      <td>...</td>\n      <td>...</td>\n      <td>...</td>\n      <td>...</td>\n      <td>...</td>\n      <td>...</td>\n      <td>...</td>\n      <td>...</td>\n      <td>...</td>\n      <td>...</td>\n      <td>...</td>\n      <td>...</td>\n    </tr>\n    <tr>\n      <th>6825</th>\n      <td>221011-00020</td>\n      <td>12동 4-1 남자화장실 소변기 뒤쪽 누수</td>\n      <td>2022-10-11</td>\n      <td>2022-10-11</td>\n      <td>2022-10-11 오전 10:30:00</td>\n      <td>2022-10-11 오전 11:00:00</td>\n      <td>12-3동</td>\n      <td>4층</td>\n      <td>위생설비</td>\n      <td>소변기</td>\n      <td>...</td>\n      <td>2022-10-11 오후 1:25:55</td>\n      <td>rhkdtlr761</td>\n      <td>JOB_A11</td>\n      <td>소변기 #07</td>\n      <td>기계</td>\n      <td>위생, 탱크설비</td>\n      <td>위생설비</td>\n      <td>소변기</td>\n      <td>2012-03-01</td>\n      <td>0</td>\n    </tr>\n    <tr>\n      <th>6826</th>\n      <td>221011-00011</td>\n      <td>13동 5-7 여자화장실 오른쪽 첫번째 대변기 밑 밸브쪽 누수</td>\n      <td>2022-10-11</td>\n      <td>2022-10-11</td>\n      <td>2022-10-11 오전 9:40:00</td>\n      <td>2022-10-11 오전 10:10:00</td>\n      <td>13-1동</td>\n      <td>5층</td>\n      <td>위생설비</td>\n      <td>비데</td>\n      <td>...</td>\n      <td>2022-10-11 오전 10:38:16</td>\n      <td>rhkdtlr761</td>\n      <td>JOB_A11</td>\n      <td>물내림비데 #30</td>\n      <td>기계</td>\n      <td>위생, 탱크설비</td>\n      <td>위생설비</td>\n      <td>비데</td>\n      <td>2012-03-01</td>\n      <td>0</td>\n    </tr>\n    <tr>\n      <th>6827</th>\n      <td>221011-00066</td>\n      <td>13-2동 1층 방재실 R형 수신기 예비전원 불량 교체 (2개)</td>\n      <td>2022-10-11</td>\n      <td>2022-10-11</td>\n      <td>2022-10-11 오후 2:30:00</td>\n      <td>2022-10-11 오후 3:10:00</td>\n      <td>13-2동</td>\n      <td>1층</td>\n      <td>자동화재탐지설비</td>\n      <td>수신기</td>\n      <td>...</td>\n      <td>2022-10-11 오후 4:09:26</td>\n      <td>kjkim63</td>\n      <td>JOB_A11</td>\n      <td>13동 GR형복합식수신기</td>\n      <td>방재</td>\n      <td>경보설비</td>\n      <td>자동화재탐지설비</td>\n      <td>수신기</td>\n      <td>2013-11-01</td>\n      <td>1</td>\n    </tr>\n    <tr>\n      <th>6829</th>\n      <td>221011-00044</td>\n      <td>16동 1층 동쪽 여자화장실 대변기 막힘</td>\n      <td>2022-10-11</td>\n      <td>2022-10-11</td>\n      <td>2022-10-11 오전 8:32:00</td>\n      <td>2022-10-11 오전 9:30:00</td>\n      <td>16동</td>\n      <td>1층</td>\n      <td>위생설비</td>\n      <td>대변기</td>\n      <td>...</td>\n      <td>2022-10-11 오후 2:59:13</td>\n      <td>je0303</td>\n      <td>JOB_A11</td>\n      <td>1F여2동쪽 공용대변기(5)</td>\n      <td>기계</td>\n      <td>위생, 탱크설비</td>\n      <td>위생설비</td>\n      <td>대변기</td>\n      <td>2014-06-01</td>\n      <td>0</td>\n    </tr>\n    <tr>\n      <th>6830</th>\n      <td>221011-00019</td>\n      <td>17-2동 7층 남자 화장실 대변기 물 계속흐름</td>\n      <td>2022-10-11</td>\n      <td>2022-10-11</td>\n      <td>2022-10-11 오전 8:57:00</td>\n      <td>2022-10-11 오전 9:20:00</td>\n      <td>17-2동</td>\n      <td>7층</td>\n      <td>위생설비</td>\n      <td>대변기</td>\n      <td>...</td>\n      <td>2022-10-11 오후 1:42:33</td>\n      <td>as119</td>\n      <td>JOB_A11</td>\n      <td>7F남2대변기(3)</td>\n      <td>기계</td>\n      <td>위생, 탱크설비</td>\n      <td>위생설비</td>\n      <td>대변기</td>\n      <td>2014-06-01</td>\n      <td>0</td>\n    </tr>\n  </tbody>\n</table>\n<p>6343 rows × 22 columns</p>\n</div>"
     },
     "execution_count": 13,
     "metadata": {},
     "output_type": "execute_result"
    }
   ],
   "source": [
    "jangbi_broken"
   ],
   "metadata": {
    "collapsed": false
   }
  },
  {
   "cell_type": "markdown",
   "metadata": {},
   "source": [
    "# 작업 소모 시간"
   ]
  },
  {
   "cell_type": "code",
   "execution_count": 14,
   "outputs": [],
   "source": [
    "# 오전, 오후 삭제하고 시간에 반영\n",
    "\n",
    "def time_trans(x):\n",
    "    if \"오후\" in x:\n",
    "        x = datetime.datetime.strptime(x[:10] + x[13:], \"%Y-%m-%d %H:%M:%S\") + datetime.timedelta(hours=12)\n",
    "    else:\n",
    "        x = datetime.datetime.strptime(x[:10] + x[13:], \"%Y-%m-%d %H:%M:%S\")\n",
    "\n",
    "    return x\n",
    "\n",
    "#jangbi_broken = jangbi_broken.drop(jangbi.index[1124]) # job_shm이 Y-M-D만 존재 (H:M:S 없음)\n",
    "jangbi_broken = jangbi_broken.reset_index().drop(\"index\",axis=1)\n",
    "\n",
    "jangbi_broken[\"job_start\"] = jangbi_broken[\"job_shm\"].apply(time_trans)\n",
    "jangbi_broken[\"job_end\"] = jangbi_broken[\"job_ehm\"].apply(time_trans)\n",
    "\n",
    "jangbi_broken[\"job_time\"] = 0\n",
    "\n",
    "for time in range(len(jangbi_broken)):\n",
    "    jangbi_broken.loc[time,\"job_time\"] = jangbi_broken.loc[time,\"job_end\"] - jangbi_broken.loc[time,\"job_start\"]"
   ],
   "metadata": {
    "collapsed": false
   }
  },
  {
   "cell_type": "code",
   "execution_count": 15,
   "outputs": [
    {
     "data": {
      "text/plain": "            job_cd                               job_nm job_jisi_dt  \\\n0     211001-00047            2동 1구역 430호 남자화장실 비데 전열불량  2021-10-01   \n1     211001-00081     1동 1구역 2층 복도내 거실통로유도등 점등불량 교체 작업  2021-10-01   \n2     211001-00070          2-1동 옥상층 66번 CCTV PTZ 동작 불량  2021-10-01   \n3     211001-00069            5-3동 1F 34번 얼굴인식단말기 동작 불량  2021-10-01   \n4     211001-00025             7-1동 6층 남자화장실 대변기 뚜껑 떨어짐  2021-10-01   \n...            ...                                  ...         ...   \n6338  221011-00020              12동 4-1 남자화장실 소변기 뒤쪽 누수  2022-10-11   \n6339  221011-00011   13동 5-7 여자화장실 오른쪽 첫번째 대변기 밑 밸브쪽 누수  2022-10-11   \n6340  221011-00066  13-2동 1층 방재실 R형 수신기 예비전원 불량 교체 (2개)  2022-10-11   \n6341  221011-00044               16동 1층 동쪽 여자화장실 대변기 막힘  2022-10-11   \n6342  221011-00019           17-2동 7층 남자 화장실 대변기 물 계속흐름  2022-10-11   \n\n       job_enddt                 job_shm                 job_ehm  \\\n0     2021-10-01   2021-10-01 오후 2:30:00   2021-10-01 오후 2:40:00   \n1     2021-10-01   2021-10-01 오후 1:30:00   2021-10-01 오후 1:45:00   \n2     2021-10-01   2021-10-01 오전 9:00:00   2021-10-01 오후 5:31:00   \n3     2021-10-01   2021-10-01 오후 1:10:00   2021-10-01 오후 2:11:00   \n4     2021-10-01   2021-10-01 오전 9:20:00   2021-10-01 오전 9:40:00   \n...          ...                     ...                     ...   \n6338  2022-10-11  2022-10-11 오전 10:30:00  2022-10-11 오전 11:00:00   \n6339  2022-10-11   2022-10-11 오전 9:40:00  2022-10-11 오전 10:10:00   \n6340  2022-10-11   2022-10-11 오후 2:30:00   2022-10-11 오후 3:10:00   \n6341  2022-10-11   2022-10-11 오전 8:32:00   2022-10-11 오전 9:30:00   \n6342  2022-10-11   2022-10-11 오전 8:57:00   2022-10-11 오전 9:20:00   \n\n     job_class_nm_1 job_class_nm_2 job_class_nm_3 job_class_nm_4  ...  \\\n0            2동 1구역             4층            분전반           EPS실  ...   \n1            1동 1구역             2층            유도등       거실통로 유도등  ...   \n2            2동 1구역            옥상층          방범시스템       CCTV 카메라  ...   \n3            5동 3구역             1층        출입통제시스템           얼굴인식  ...   \n4              7-1동             6층           위생설비            대변기  ...   \n...             ...            ...            ...            ...  ...   \n6338          12-3동             4층           위생설비            소변기  ...   \n6339          13-1동             5층           위생설비             비데  ...   \n6340          13-2동             1층       자동화재탐지설비            수신기  ...   \n6341            16동             1층           위생설비            대변기  ...   \n6342          17-2동             7층           위생설비            대변기  ...   \n\n                 fac_nm  jangbi_class_nm_1 jangbi_class_nm_2  \\\n0             LN-4E1(E)                 전기            전력공급설비   \n1          1동  거실통로 유도등                 방재              피난설비   \n2           2동 CCTV #66                 통신              방범설비   \n3         5-3동 얼굴인식 #34                 통신              방범설비   \n4     7-1동-6F 화장실(남)대변기                 기계          위생, 탱크설비   \n...                 ...                ...               ...   \n6338            소변기 #07                 기계          위생, 탱크설비   \n6339          물내림비데 #30                 기계          위생, 탱크설비   \n6340      13동 GR형복합식수신기                 방재              경보설비   \n6341    1F여2동쪽 공용대변기(5)                 기계          위생, 탱크설비   \n6342         7F남2대변기(3)                 기계          위생, 탱크설비   \n\n     jangbi_class_nm_3 jangbi_class_nm_4  fac_instdt 자재매칭여부  \\\n0                  분전반              EPS실  2012-09-01      0   \n1                  유도등          거실통로 유도등  2012-05-01      1   \n2                방범시스템          CCTV 카메라  2019-10-25      1   \n3              출입통제시스템              얼굴인식  2019-10-10      0   \n4                 위생설비               대변기  2019-11-27      0   \n...                ...               ...         ...    ...   \n6338              위생설비               소변기  2012-03-01      0   \n6339              위생설비                비데  2012-03-01      0   \n6340          자동화재탐지설비               수신기  2013-11-01      1   \n6341              위생설비               대변기  2014-06-01      0   \n6342              위생설비               대변기  2014-06-01      0   \n\n               job_start             job_end         job_time  \n0    2021-10-01 14:30:00 2021-10-01 14:40:00  0 days 00:10:00  \n1    2021-10-01 13:30:00 2021-10-01 13:45:00  0 days 00:15:00  \n2    2021-10-01 09:00:00 2021-10-01 17:31:00  0 days 08:31:00  \n3    2021-10-01 13:10:00 2021-10-01 14:11:00  0 days 01:01:00  \n4    2021-10-01 09:20:00 2021-10-01 09:40:00  0 days 00:20:00  \n...                  ...                 ...              ...  \n6338 2022-10-11 10:30:00 2022-10-11 11:00:00  0 days 00:30:00  \n6339 2022-10-11 09:40:00 2022-10-11 10:10:00  0 days 00:30:00  \n6340 2022-10-11 14:30:00 2022-10-11 15:10:00  0 days 00:40:00  \n6341 2022-10-11 08:32:00 2022-10-11 09:30:00  0 days 00:58:00  \n6342 2022-10-11 08:57:00 2022-10-11 09:20:00  0 days 00:23:00  \n\n[6343 rows x 25 columns]",
      "text/html": "<div>\n<style scoped>\n    .dataframe tbody tr th:only-of-type {\n        vertical-align: middle;\n    }\n\n    .dataframe tbody tr th {\n        vertical-align: top;\n    }\n\n    .dataframe thead th {\n        text-align: right;\n    }\n</style>\n<table border=\"1\" class=\"dataframe\">\n  <thead>\n    <tr style=\"text-align: right;\">\n      <th></th>\n      <th>job_cd</th>\n      <th>job_nm</th>\n      <th>job_jisi_dt</th>\n      <th>job_enddt</th>\n      <th>job_shm</th>\n      <th>job_ehm</th>\n      <th>job_class_nm_1</th>\n      <th>job_class_nm_2</th>\n      <th>job_class_nm_3</th>\n      <th>job_class_nm_4</th>\n      <th>...</th>\n      <th>fac_nm</th>\n      <th>jangbi_class_nm_1</th>\n      <th>jangbi_class_nm_2</th>\n      <th>jangbi_class_nm_3</th>\n      <th>jangbi_class_nm_4</th>\n      <th>fac_instdt</th>\n      <th>자재매칭여부</th>\n      <th>job_start</th>\n      <th>job_end</th>\n      <th>job_time</th>\n    </tr>\n  </thead>\n  <tbody>\n    <tr>\n      <th>0</th>\n      <td>211001-00047</td>\n      <td>2동 1구역 430호 남자화장실 비데 전열불량</td>\n      <td>2021-10-01</td>\n      <td>2021-10-01</td>\n      <td>2021-10-01 오후 2:30:00</td>\n      <td>2021-10-01 오후 2:40:00</td>\n      <td>2동 1구역</td>\n      <td>4층</td>\n      <td>분전반</td>\n      <td>EPS실</td>\n      <td>...</td>\n      <td>LN-4E1(E)</td>\n      <td>전기</td>\n      <td>전력공급설비</td>\n      <td>분전반</td>\n      <td>EPS실</td>\n      <td>2012-09-01</td>\n      <td>0</td>\n      <td>2021-10-01 14:30:00</td>\n      <td>2021-10-01 14:40:00</td>\n      <td>0 days 00:10:00</td>\n    </tr>\n    <tr>\n      <th>1</th>\n      <td>211001-00081</td>\n      <td>1동 1구역 2층 복도내 거실통로유도등 점등불량 교체 작업</td>\n      <td>2021-10-01</td>\n      <td>2021-10-01</td>\n      <td>2021-10-01 오후 1:30:00</td>\n      <td>2021-10-01 오후 1:45:00</td>\n      <td>1동 1구역</td>\n      <td>2층</td>\n      <td>유도등</td>\n      <td>거실통로 유도등</td>\n      <td>...</td>\n      <td>1동  거실통로 유도등</td>\n      <td>방재</td>\n      <td>피난설비</td>\n      <td>유도등</td>\n      <td>거실통로 유도등</td>\n      <td>2012-05-01</td>\n      <td>1</td>\n      <td>2021-10-01 13:30:00</td>\n      <td>2021-10-01 13:45:00</td>\n      <td>0 days 00:15:00</td>\n    </tr>\n    <tr>\n      <th>2</th>\n      <td>211001-00070</td>\n      <td>2-1동 옥상층 66번 CCTV PTZ 동작 불량</td>\n      <td>2021-10-01</td>\n      <td>2021-10-01</td>\n      <td>2021-10-01 오전 9:00:00</td>\n      <td>2021-10-01 오후 5:31:00</td>\n      <td>2동 1구역</td>\n      <td>옥상층</td>\n      <td>방범시스템</td>\n      <td>CCTV 카메라</td>\n      <td>...</td>\n      <td>2동 CCTV #66</td>\n      <td>통신</td>\n      <td>방범설비</td>\n      <td>방범시스템</td>\n      <td>CCTV 카메라</td>\n      <td>2019-10-25</td>\n      <td>1</td>\n      <td>2021-10-01 09:00:00</td>\n      <td>2021-10-01 17:31:00</td>\n      <td>0 days 08:31:00</td>\n    </tr>\n    <tr>\n      <th>3</th>\n      <td>211001-00069</td>\n      <td>5-3동 1F 34번 얼굴인식단말기 동작 불량</td>\n      <td>2021-10-01</td>\n      <td>2021-10-01</td>\n      <td>2021-10-01 오후 1:10:00</td>\n      <td>2021-10-01 오후 2:11:00</td>\n      <td>5동 3구역</td>\n      <td>1층</td>\n      <td>출입통제시스템</td>\n      <td>얼굴인식</td>\n      <td>...</td>\n      <td>5-3동 얼굴인식 #34</td>\n      <td>통신</td>\n      <td>방범설비</td>\n      <td>출입통제시스템</td>\n      <td>얼굴인식</td>\n      <td>2019-10-10</td>\n      <td>0</td>\n      <td>2021-10-01 13:10:00</td>\n      <td>2021-10-01 14:11:00</td>\n      <td>0 days 01:01:00</td>\n    </tr>\n    <tr>\n      <th>4</th>\n      <td>211001-00025</td>\n      <td>7-1동 6층 남자화장실 대변기 뚜껑 떨어짐</td>\n      <td>2021-10-01</td>\n      <td>2021-10-01</td>\n      <td>2021-10-01 오전 9:20:00</td>\n      <td>2021-10-01 오전 9:40:00</td>\n      <td>7-1동</td>\n      <td>6층</td>\n      <td>위생설비</td>\n      <td>대변기</td>\n      <td>...</td>\n      <td>7-1동-6F 화장실(남)대변기</td>\n      <td>기계</td>\n      <td>위생, 탱크설비</td>\n      <td>위생설비</td>\n      <td>대변기</td>\n      <td>2019-11-27</td>\n      <td>0</td>\n      <td>2021-10-01 09:20:00</td>\n      <td>2021-10-01 09:40:00</td>\n      <td>0 days 00:20:00</td>\n    </tr>\n    <tr>\n      <th>...</th>\n      <td>...</td>\n      <td>...</td>\n      <td>...</td>\n      <td>...</td>\n      <td>...</td>\n      <td>...</td>\n      <td>...</td>\n      <td>...</td>\n      <td>...</td>\n      <td>...</td>\n      <td>...</td>\n      <td>...</td>\n      <td>...</td>\n      <td>...</td>\n      <td>...</td>\n      <td>...</td>\n      <td>...</td>\n      <td>...</td>\n      <td>...</td>\n      <td>...</td>\n      <td>...</td>\n    </tr>\n    <tr>\n      <th>6338</th>\n      <td>221011-00020</td>\n      <td>12동 4-1 남자화장실 소변기 뒤쪽 누수</td>\n      <td>2022-10-11</td>\n      <td>2022-10-11</td>\n      <td>2022-10-11 오전 10:30:00</td>\n      <td>2022-10-11 오전 11:00:00</td>\n      <td>12-3동</td>\n      <td>4층</td>\n      <td>위생설비</td>\n      <td>소변기</td>\n      <td>...</td>\n      <td>소변기 #07</td>\n      <td>기계</td>\n      <td>위생, 탱크설비</td>\n      <td>위생설비</td>\n      <td>소변기</td>\n      <td>2012-03-01</td>\n      <td>0</td>\n      <td>2022-10-11 10:30:00</td>\n      <td>2022-10-11 11:00:00</td>\n      <td>0 days 00:30:00</td>\n    </tr>\n    <tr>\n      <th>6339</th>\n      <td>221011-00011</td>\n      <td>13동 5-7 여자화장실 오른쪽 첫번째 대변기 밑 밸브쪽 누수</td>\n      <td>2022-10-11</td>\n      <td>2022-10-11</td>\n      <td>2022-10-11 오전 9:40:00</td>\n      <td>2022-10-11 오전 10:10:00</td>\n      <td>13-1동</td>\n      <td>5층</td>\n      <td>위생설비</td>\n      <td>비데</td>\n      <td>...</td>\n      <td>물내림비데 #30</td>\n      <td>기계</td>\n      <td>위생, 탱크설비</td>\n      <td>위생설비</td>\n      <td>비데</td>\n      <td>2012-03-01</td>\n      <td>0</td>\n      <td>2022-10-11 09:40:00</td>\n      <td>2022-10-11 10:10:00</td>\n      <td>0 days 00:30:00</td>\n    </tr>\n    <tr>\n      <th>6340</th>\n      <td>221011-00066</td>\n      <td>13-2동 1층 방재실 R형 수신기 예비전원 불량 교체 (2개)</td>\n      <td>2022-10-11</td>\n      <td>2022-10-11</td>\n      <td>2022-10-11 오후 2:30:00</td>\n      <td>2022-10-11 오후 3:10:00</td>\n      <td>13-2동</td>\n      <td>1층</td>\n      <td>자동화재탐지설비</td>\n      <td>수신기</td>\n      <td>...</td>\n      <td>13동 GR형복합식수신기</td>\n      <td>방재</td>\n      <td>경보설비</td>\n      <td>자동화재탐지설비</td>\n      <td>수신기</td>\n      <td>2013-11-01</td>\n      <td>1</td>\n      <td>2022-10-11 14:30:00</td>\n      <td>2022-10-11 15:10:00</td>\n      <td>0 days 00:40:00</td>\n    </tr>\n    <tr>\n      <th>6341</th>\n      <td>221011-00044</td>\n      <td>16동 1층 동쪽 여자화장실 대변기 막힘</td>\n      <td>2022-10-11</td>\n      <td>2022-10-11</td>\n      <td>2022-10-11 오전 8:32:00</td>\n      <td>2022-10-11 오전 9:30:00</td>\n      <td>16동</td>\n      <td>1층</td>\n      <td>위생설비</td>\n      <td>대변기</td>\n      <td>...</td>\n      <td>1F여2동쪽 공용대변기(5)</td>\n      <td>기계</td>\n      <td>위생, 탱크설비</td>\n      <td>위생설비</td>\n      <td>대변기</td>\n      <td>2014-06-01</td>\n      <td>0</td>\n      <td>2022-10-11 08:32:00</td>\n      <td>2022-10-11 09:30:00</td>\n      <td>0 days 00:58:00</td>\n    </tr>\n    <tr>\n      <th>6342</th>\n      <td>221011-00019</td>\n      <td>17-2동 7층 남자 화장실 대변기 물 계속흐름</td>\n      <td>2022-10-11</td>\n      <td>2022-10-11</td>\n      <td>2022-10-11 오전 8:57:00</td>\n      <td>2022-10-11 오전 9:20:00</td>\n      <td>17-2동</td>\n      <td>7층</td>\n      <td>위생설비</td>\n      <td>대변기</td>\n      <td>...</td>\n      <td>7F남2대변기(3)</td>\n      <td>기계</td>\n      <td>위생, 탱크설비</td>\n      <td>위생설비</td>\n      <td>대변기</td>\n      <td>2014-06-01</td>\n      <td>0</td>\n      <td>2022-10-11 08:57:00</td>\n      <td>2022-10-11 09:20:00</td>\n      <td>0 days 00:23:00</td>\n    </tr>\n  </tbody>\n</table>\n<p>6343 rows × 25 columns</p>\n</div>"
     },
     "execution_count": 15,
     "metadata": {},
     "output_type": "execute_result"
    }
   ],
   "source": [
    "jangbi_broken"
   ],
   "metadata": {
    "collapsed": false
   }
  },
  {
   "cell_type": "markdown",
   "source": [],
   "metadata": {
    "collapsed": false
   }
  },
  {
   "cell_type": "code",
   "execution_count": 16,
   "outputs": [
    {
     "data": {
      "text/plain": "0       0 days 00:10:00\n1       0 days 00:15:00\n2       0 days 08:31:00\n3       0 days 01:01:00\n4       0 days 00:20:00\n             ...       \n6338    0 days 00:30:00\n6339    0 days 00:30:00\n6340    0 days 00:40:00\n6341    0 days 00:58:00\n6342    0 days 00:23:00\nName: job_time, Length: 6343, dtype: object"
     },
     "execution_count": 16,
     "metadata": {},
     "output_type": "execute_result"
    }
   ],
   "source": [
    "jangbi_broken['job_time']"
   ],
   "metadata": {
    "collapsed": false
   }
  },
  {
   "cell_type": "code",
   "execution_count": 17,
   "outputs": [],
   "source": [
    "#jangbi_broken[['jangbi_class_nm_4','job_time']].to_csv('장비_작업시간.csv')"
   ],
   "metadata": {
    "collapsed": false
   }
  },
  {
   "cell_type": "code",
   "execution_count": 21,
   "outputs": [],
   "source": [
    "time_data = pd.read_csv('장비_작업시간.csv')[['jangbi_class_nm_4','job_time']]\n",
    "#time_data['job_class_nm_4'].dt.days\n",
    "# 일\n",
    "time_data['일'] = time_data['job_time'].str[:-13]\n",
    "time_data=time_data[~time_data['일'].str.contains('-')]\n",
    "time_data['시간'] = time_data['job_time'].str[-8:]\n",
    "time_data['시'] = pd.to_datetime(time_data['시간']).dt.hour\n",
    "time_data['분'] = pd.to_datetime(time_data['시간']).dt.minute\n",
    "time_data[['일','시','분']] = time_data[['일','시','분']].astype(int)\n",
    "time_data['총시간']= time_data['일']*24*60 + time_data['시'] * 60 + time_data['분']\n",
    "\n",
    "\n",
    "time_final_median = time_data.groupby('jangbi_class_nm_4').median()['총시간']\n",
    "time_final_median = time_final_median.reset_index()\n",
    "\n",
    "time_final_mean = time_data.groupby('jangbi_class_nm_4').mean()['총시간']\n",
    "time_final_mean = time_final_mean.reset_index()\n",
    "\n",
    "time_final_max = time_data.groupby('jangbi_class_nm_4').max()['총시간']\n",
    "time_final_max = time_final_max.reset_index()\n",
    "\n",
    "time_final_min = time_data.groupby('jangbi_class_nm_4').min()['총시간']\n",
    "time_final_min = time_final_min.reset_index()"
   ],
   "metadata": {
    "collapsed": false
   }
  },
  {
   "cell_type": "code",
   "execution_count": 25,
   "outputs": [
    {
     "data": {
      "text/plain": "    jangbi_class_nm_4    총시간 jangbi_class_nm_4         총시간 jangbi_class_nm_4  \\\n0             CCTV 서버   66.0           CCTV 서버   78.820225           CCTV 서버   \n1           CCTV 저장장치   83.0         CCTV 저장장치   79.823529         CCTV 저장장치   \n2            CCTV 카메라   88.0          CCTV 카메라  144.621145          CCTV 카메라   \n3              DDC 판넬   60.0            DDC 판넬  201.428571            DDC 판넬   \n4                EPS실   30.5              EPS실   78.000000              EPS실   \n..                ...    ...               ...         ...               ...   \n146         항온항습기 실외기  150.0         항온항습기 실외기  150.000000         항온항습기 실외기   \n147            항온항습기실   60.0            항온항습기실  190.000000            항온항습기실   \n148                헤드   50.0                헤드  106.500000                헤드   \n149             환기조화기   60.0             환기조화기   96.666667             환기조화기   \n150         휴대용 비상조명등   35.0         휴대용 비상조명등   35.000000         휴대용 비상조명등   \n\n      총시간 jangbi_class_nm_4  총시간  \n0     768           CCTV 서버   20  \n1     131         CCTV 저장장치    9  \n2    3605          CCTV 카메라    0  \n3     390            DDC 판넬   60  \n4    2130              EPS실   10  \n..    ...               ...  ...  \n146   150         항온항습기 실외기  150  \n147   450            항온항습기실   60  \n148   840                헤드   30  \n149   300             환기조화기   40  \n150    60         휴대용 비상조명등   10  \n\n[151 rows x 8 columns]",
      "text/html": "<div>\n<style scoped>\n    .dataframe tbody tr th:only-of-type {\n        vertical-align: middle;\n    }\n\n    .dataframe tbody tr th {\n        vertical-align: top;\n    }\n\n    .dataframe thead th {\n        text-align: right;\n    }\n</style>\n<table border=\"1\" class=\"dataframe\">\n  <thead>\n    <tr style=\"text-align: right;\">\n      <th></th>\n      <th>jangbi_class_nm_4</th>\n      <th>총시간</th>\n      <th>jangbi_class_nm_4</th>\n      <th>총시간</th>\n      <th>jangbi_class_nm_4</th>\n      <th>총시간</th>\n      <th>jangbi_class_nm_4</th>\n      <th>총시간</th>\n    </tr>\n  </thead>\n  <tbody>\n    <tr>\n      <th>0</th>\n      <td>CCTV 서버</td>\n      <td>66.0</td>\n      <td>CCTV 서버</td>\n      <td>78.820225</td>\n      <td>CCTV 서버</td>\n      <td>768</td>\n      <td>CCTV 서버</td>\n      <td>20</td>\n    </tr>\n    <tr>\n      <th>1</th>\n      <td>CCTV 저장장치</td>\n      <td>83.0</td>\n      <td>CCTV 저장장치</td>\n      <td>79.823529</td>\n      <td>CCTV 저장장치</td>\n      <td>131</td>\n      <td>CCTV 저장장치</td>\n      <td>9</td>\n    </tr>\n    <tr>\n      <th>2</th>\n      <td>CCTV 카메라</td>\n      <td>88.0</td>\n      <td>CCTV 카메라</td>\n      <td>144.621145</td>\n      <td>CCTV 카메라</td>\n      <td>3605</td>\n      <td>CCTV 카메라</td>\n      <td>0</td>\n    </tr>\n    <tr>\n      <th>3</th>\n      <td>DDC 판넬</td>\n      <td>60.0</td>\n      <td>DDC 판넬</td>\n      <td>201.428571</td>\n      <td>DDC 판넬</td>\n      <td>390</td>\n      <td>DDC 판넬</td>\n      <td>60</td>\n    </tr>\n    <tr>\n      <th>4</th>\n      <td>EPS실</td>\n      <td>30.5</td>\n      <td>EPS실</td>\n      <td>78.000000</td>\n      <td>EPS실</td>\n      <td>2130</td>\n      <td>EPS실</td>\n      <td>10</td>\n    </tr>\n    <tr>\n      <th>...</th>\n      <td>...</td>\n      <td>...</td>\n      <td>...</td>\n      <td>...</td>\n      <td>...</td>\n      <td>...</td>\n      <td>...</td>\n      <td>...</td>\n    </tr>\n    <tr>\n      <th>146</th>\n      <td>항온항습기 실외기</td>\n      <td>150.0</td>\n      <td>항온항습기 실외기</td>\n      <td>150.000000</td>\n      <td>항온항습기 실외기</td>\n      <td>150</td>\n      <td>항온항습기 실외기</td>\n      <td>150</td>\n    </tr>\n    <tr>\n      <th>147</th>\n      <td>항온항습기실</td>\n      <td>60.0</td>\n      <td>항온항습기실</td>\n      <td>190.000000</td>\n      <td>항온항습기실</td>\n      <td>450</td>\n      <td>항온항습기실</td>\n      <td>60</td>\n    </tr>\n    <tr>\n      <th>148</th>\n      <td>헤드</td>\n      <td>50.0</td>\n      <td>헤드</td>\n      <td>106.500000</td>\n      <td>헤드</td>\n      <td>840</td>\n      <td>헤드</td>\n      <td>30</td>\n    </tr>\n    <tr>\n      <th>149</th>\n      <td>환기조화기</td>\n      <td>60.0</td>\n      <td>환기조화기</td>\n      <td>96.666667</td>\n      <td>환기조화기</td>\n      <td>300</td>\n      <td>환기조화기</td>\n      <td>40</td>\n    </tr>\n    <tr>\n      <th>150</th>\n      <td>휴대용 비상조명등</td>\n      <td>35.0</td>\n      <td>휴대용 비상조명등</td>\n      <td>35.000000</td>\n      <td>휴대용 비상조명등</td>\n      <td>60</td>\n      <td>휴대용 비상조명등</td>\n      <td>10</td>\n    </tr>\n  </tbody>\n</table>\n<p>151 rows × 8 columns</p>\n</div>"
     },
     "execution_count": 25,
     "metadata": {},
     "output_type": "execute_result"
    }
   ],
   "source": [
    "pd.concat([time_final_median,time_final_mean,time_final_max,time_final_min],axis =1)"
   ],
   "metadata": {
    "collapsed": false
   }
  },
  {
   "cell_type": "code",
   "execution_count": null,
   "outputs": [],
   "source": [],
   "metadata": {
    "collapsed": false
   }
  }
 ],
 "metadata": {
  "kernelspec": {
   "display_name": "Python 3.8.8 ('base')",
   "language": "python",
   "name": "python3"
  },
  "language_info": {
   "codemirror_mode": {
    "name": "ipython",
    "version": 3
   },
   "file_extension": ".py",
   "mimetype": "text/x-python",
   "name": "python",
   "nbconvert_exporter": "python",
   "pygments_lexer": "ipython3",
   "version": "3.8.8"
  },
  "orig_nbformat": 4,
  "vscode": {
   "interpreter": {
    "hash": "86aa80caba646de5c5fbfa482f3005816722fa12a16cb3031e5ebf46eef177a2"
   }
  }
 },
 "nbformat": 4,
 "nbformat_minor": 2
}

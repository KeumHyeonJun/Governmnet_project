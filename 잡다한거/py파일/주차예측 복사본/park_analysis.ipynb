{
 "cells": [
  {
   "cell_type": "code",
   "execution_count": 2,
   "metadata": {
    "collapsed": true
   },
   "outputs": [
    {
     "name": "stdout",
     "output_type": "stream",
     "text": [
      "!!!!!!!!!!!!!!! Start park_analysis.py !!!!!!!!!!!!!!!\n",
      "2022.12.26 14h54m06s Load Data\n",
      "2022.12.26 14h54m06s Fit Model\n",
      "[1]\tvalid_0's multi_logloss: 0.871627\n",
      "[2]\tvalid_0's multi_logloss: 0.789175\n",
      "[3]\tvalid_0's multi_logloss: 0.725003\n",
      "[4]\tvalid_0's multi_logloss: 0.67195\n",
      "[5]\tvalid_0's multi_logloss: 0.628573\n",
      "[6]\tvalid_0's multi_logloss: 0.591403\n",
      "[7]\tvalid_0's multi_logloss: 0.559193\n",
      "[8]\tvalid_0's multi_logloss: 0.53128\n",
      "[9]\tvalid_0's multi_logloss: 0.506777\n",
      "[10]\tvalid_0's multi_logloss: 0.486179\n",
      "[11]\tvalid_0's multi_logloss: 0.468239\n",
      "[12]\tvalid_0's multi_logloss: 0.452486\n",
      "[13]\tvalid_0's multi_logloss: 0.438531\n",
      "[14]\tvalid_0's multi_logloss: 0.426286\n",
      "[15]\tvalid_0's multi_logloss: 0.414948\n",
      "[16]\tvalid_0's multi_logloss: 0.404885\n",
      "[17]\tvalid_0's multi_logloss: 0.395722\n",
      "[18]\tvalid_0's multi_logloss: 0.387339\n",
      "[19]\tvalid_0's multi_logloss: 0.379847\n",
      "[20]\tvalid_0's multi_logloss: 0.372628\n",
      "[21]\tvalid_0's multi_logloss: 0.365741\n",
      "[22]\tvalid_0's multi_logloss: 0.359324\n",
      "[23]\tvalid_0's multi_logloss: 0.353848\n",
      "[24]\tvalid_0's multi_logloss: 0.348658\n",
      "[25]\tvalid_0's multi_logloss: 0.344148\n",
      "[26]\tvalid_0's multi_logloss: 0.339845\n",
      "[27]\tvalid_0's multi_logloss: 0.335736\n",
      "[28]\tvalid_0's multi_logloss: 0.331962\n",
      "[29]\tvalid_0's multi_logloss: 0.328048\n",
      "[30]\tvalid_0's multi_logloss: 0.324609\n",
      "[31]\tvalid_0's multi_logloss: 0.321215\n",
      "[32]\tvalid_0's multi_logloss: 0.317776\n",
      "[33]\tvalid_0's multi_logloss: 0.315043\n",
      "[34]\tvalid_0's multi_logloss: 0.312459\n",
      "[35]\tvalid_0's multi_logloss: 0.309597\n",
      "[36]\tvalid_0's multi_logloss: 0.307144\n",
      "[37]\tvalid_0's multi_logloss: 0.304728\n",
      "[38]\tvalid_0's multi_logloss: 0.302086\n",
      "[39]\tvalid_0's multi_logloss: 0.299801\n",
      "[40]\tvalid_0's multi_logloss: 0.297381\n",
      "[41]\tvalid_0's multi_logloss: 0.295454\n",
      "[42]\tvalid_0's multi_logloss: 0.293276\n",
      "[43]\tvalid_0's multi_logloss: 0.291393\n",
      "[44]\tvalid_0's multi_logloss: 0.289555\n",
      "[45]\tvalid_0's multi_logloss: 0.287646\n",
      "[46]\tvalid_0's multi_logloss: 0.285883\n",
      "[47]\tvalid_0's multi_logloss: 0.284011\n",
      "[48]\tvalid_0's multi_logloss: 0.282387\n",
      "[49]\tvalid_0's multi_logloss: 0.280997\n",
      "[50]\tvalid_0's multi_logloss: 0.279688\n",
      "[51]\tvalid_0's multi_logloss: 0.278206\n",
      "[52]\tvalid_0's multi_logloss: 0.276767\n",
      "[53]\tvalid_0's multi_logloss: 0.275212\n",
      "[54]\tvalid_0's multi_logloss: 0.273566\n",
      "[55]\tvalid_0's multi_logloss: 0.27236\n",
      "[56]\tvalid_0's multi_logloss: 0.271231\n",
      "[57]\tvalid_0's multi_logloss: 0.270247\n",
      "[58]\tvalid_0's multi_logloss: 0.268915\n",
      "[59]\tvalid_0's multi_logloss: 0.267816\n",
      "[60]\tvalid_0's multi_logloss: 0.266483\n",
      "[61]\tvalid_0's multi_logloss: 0.265515\n",
      "[62]\tvalid_0's multi_logloss: 0.264635\n",
      "[63]\tvalid_0's multi_logloss: 0.263345\n",
      "[64]\tvalid_0's multi_logloss: 0.26209\n",
      "[65]\tvalid_0's multi_logloss: 0.260892\n",
      "[66]\tvalid_0's multi_logloss: 0.260076\n",
      "[67]\tvalid_0's multi_logloss: 0.259306\n",
      "[68]\tvalid_0's multi_logloss: 0.257703\n",
      "[69]\tvalid_0's multi_logloss: 0.256832\n",
      "[70]\tvalid_0's multi_logloss: 0.255956\n",
      "[71]\tvalid_0's multi_logloss: 0.255146\n",
      "[72]\tvalid_0's multi_logloss: 0.254006\n",
      "[73]\tvalid_0's multi_logloss: 0.253056\n",
      "[74]\tvalid_0's multi_logloss: 0.252162\n",
      "[75]\tvalid_0's multi_logloss: 0.251347\n",
      "[76]\tvalid_0's multi_logloss: 0.250249\n",
      "[77]\tvalid_0's multi_logloss: 0.249304\n",
      "[78]\tvalid_0's multi_logloss: 0.248753\n",
      "[79]\tvalid_0's multi_logloss: 0.247967\n",
      "[80]\tvalid_0's multi_logloss: 0.247229\n",
      "[81]\tvalid_0's multi_logloss: 0.24619\n",
      "[82]\tvalid_0's multi_logloss: 0.245518\n",
      "[83]\tvalid_0's multi_logloss: 0.244648\n",
      "[84]\tvalid_0's multi_logloss: 0.243903\n",
      "[85]\tvalid_0's multi_logloss: 0.24314\n",
      "[86]\tvalid_0's multi_logloss: 0.242412\n",
      "[87]\tvalid_0's multi_logloss: 0.241334\n",
      "[88]\tvalid_0's multi_logloss: 0.24068\n",
      "[89]\tvalid_0's multi_logloss: 0.239857\n",
      "[90]\tvalid_0's multi_logloss: 0.239207\n",
      "[91]\tvalid_0's multi_logloss: 0.238537\n",
      "[92]\tvalid_0's multi_logloss: 0.237756\n",
      "[93]\tvalid_0's multi_logloss: 0.236824\n",
      "[94]\tvalid_0's multi_logloss: 0.236212\n",
      "[95]\tvalid_0's multi_logloss: 0.235678\n",
      "[96]\tvalid_0's multi_logloss: 0.235045\n",
      "[97]\tvalid_0's multi_logloss: 0.234413\n",
      "[98]\tvalid_0's multi_logloss: 0.233774\n",
      "[99]\tvalid_0's multi_logloss: 0.23306\n",
      "[100]\tvalid_0's multi_logloss: 0.232528\n"
     ]
    },
    {
     "data": {
      "text/plain": "LGBMClassifier(random_state=42)",
      "text/html": "<style>#sk-container-id-1 {color: black;background-color: white;}#sk-container-id-1 pre{padding: 0;}#sk-container-id-1 div.sk-toggleable {background-color: white;}#sk-container-id-1 label.sk-toggleable__label {cursor: pointer;display: block;width: 100%;margin-bottom: 0;padding: 0.3em;box-sizing: border-box;text-align: center;}#sk-container-id-1 label.sk-toggleable__label-arrow:before {content: \"▸\";float: left;margin-right: 0.25em;color: #696969;}#sk-container-id-1 label.sk-toggleable__label-arrow:hover:before {color: black;}#sk-container-id-1 div.sk-estimator:hover label.sk-toggleable__label-arrow:before {color: black;}#sk-container-id-1 div.sk-toggleable__content {max-height: 0;max-width: 0;overflow: hidden;text-align: left;background-color: #f0f8ff;}#sk-container-id-1 div.sk-toggleable__content pre {margin: 0.2em;color: black;border-radius: 0.25em;background-color: #f0f8ff;}#sk-container-id-1 input.sk-toggleable__control:checked~div.sk-toggleable__content {max-height: 200px;max-width: 100%;overflow: auto;}#sk-container-id-1 input.sk-toggleable__control:checked~label.sk-toggleable__label-arrow:before {content: \"▾\";}#sk-container-id-1 div.sk-estimator input.sk-toggleable__control:checked~label.sk-toggleable__label {background-color: #d4ebff;}#sk-container-id-1 div.sk-label input.sk-toggleable__control:checked~label.sk-toggleable__label {background-color: #d4ebff;}#sk-container-id-1 input.sk-hidden--visually {border: 0;clip: rect(1px 1px 1px 1px);clip: rect(1px, 1px, 1px, 1px);height: 1px;margin: -1px;overflow: hidden;padding: 0;position: absolute;width: 1px;}#sk-container-id-1 div.sk-estimator {font-family: monospace;background-color: #f0f8ff;border: 1px dotted black;border-radius: 0.25em;box-sizing: border-box;margin-bottom: 0.5em;}#sk-container-id-1 div.sk-estimator:hover {background-color: #d4ebff;}#sk-container-id-1 div.sk-parallel-item::after {content: \"\";width: 100%;border-bottom: 1px solid gray;flex-grow: 1;}#sk-container-id-1 div.sk-label:hover label.sk-toggleable__label {background-color: #d4ebff;}#sk-container-id-1 div.sk-serial::before {content: \"\";position: absolute;border-left: 1px solid gray;box-sizing: border-box;top: 0;bottom: 0;left: 50%;z-index: 0;}#sk-container-id-1 div.sk-serial {display: flex;flex-direction: column;align-items: center;background-color: white;padding-right: 0.2em;padding-left: 0.2em;position: relative;}#sk-container-id-1 div.sk-item {position: relative;z-index: 1;}#sk-container-id-1 div.sk-parallel {display: flex;align-items: stretch;justify-content: center;background-color: white;position: relative;}#sk-container-id-1 div.sk-item::before, #sk-container-id-1 div.sk-parallel-item::before {content: \"\";position: absolute;border-left: 1px solid gray;box-sizing: border-box;top: 0;bottom: 0;left: 50%;z-index: -1;}#sk-container-id-1 div.sk-parallel-item {display: flex;flex-direction: column;z-index: 1;position: relative;background-color: white;}#sk-container-id-1 div.sk-parallel-item:first-child::after {align-self: flex-end;width: 50%;}#sk-container-id-1 div.sk-parallel-item:last-child::after {align-self: flex-start;width: 50%;}#sk-container-id-1 div.sk-parallel-item:only-child::after {width: 0;}#sk-container-id-1 div.sk-dashed-wrapped {border: 1px dashed gray;margin: 0 0.4em 0.5em 0.4em;box-sizing: border-box;padding-bottom: 0.4em;background-color: white;}#sk-container-id-1 div.sk-label label {font-family: monospace;font-weight: bold;display: inline-block;line-height: 1.2em;}#sk-container-id-1 div.sk-label-container {text-align: center;}#sk-container-id-1 div.sk-container {/* jupyter's `normalize.less` sets `[hidden] { display: none; }` but bootstrap.min.css set `[hidden] { display: none !important; }` so we also need the `!important` here to be able to override the default hidden behavior on the sphinx rendered scikit-learn.org. See: https://github.com/scikit-learn/scikit-learn/issues/21755 */display: inline-block !important;position: relative;}#sk-container-id-1 div.sk-text-repr-fallback {display: none;}</style><div id=\"sk-container-id-1\" class=\"sk-top-container\"><div class=\"sk-text-repr-fallback\"><pre>LGBMClassifier(random_state=42)</pre><b>In a Jupyter environment, please rerun this cell to show the HTML representation or trust the notebook. <br />On GitHub, the HTML representation is unable to render, please try loading this page with nbviewer.org.</b></div><div class=\"sk-container\" hidden><div class=\"sk-item\"><div class=\"sk-estimator sk-toggleable\"><input class=\"sk-toggleable__control sk-hidden--visually\" id=\"sk-estimator-id-1\" type=\"checkbox\" checked><label for=\"sk-estimator-id-1\" class=\"sk-toggleable__label sk-toggleable__label-arrow\">LGBMClassifier</label><div class=\"sk-toggleable__content\"><pre>LGBMClassifier(random_state=42)</pre></div></div></div></div></div>"
     },
     "execution_count": 2,
     "metadata": {},
     "output_type": "execute_result"
    }
   ],
   "source": [
    "from sklearn.metrics import mean_absolute_error, mean_squared_error\n",
    "from sklearn.model_selection import train_test_split\n",
    "from lightgbm import LGBMClassifier\n",
    "from pathlib import Path\n",
    "import pandas as pd\n",
    "import warnings\n",
    "import requests\n",
    "# import datetime ########## from datetime import datetime으로 변경\n",
    "from datetime import datetime\n",
    "# import optuna ########## 사용하지 않으므로 삭제\n",
    "import json\n",
    "import copy\n",
    "import os\n",
    "\n",
    "print('!!!!!!!!!!!!!!! Start park_analysis.py !!!!!!!!!!!!!!!')\n",
    "path = Path.cwd().parent\n",
    "raw_data = str(path) + '/raw_data/'\n",
    "data = str(path) + '/data/'\n",
    "result = str(path) + '/result_data/'\n",
    "\n",
    "warnings.filterwarnings(action='ignore')\n",
    "\n",
    "# 데이터 로드\n",
    "print(datetime.now().strftime('%Y.%m.%d %Hh%Mm%Ss'), 'Load Data')\n",
    "df = pd.read_csv(data+'dataset.csv')\n",
    "predict_df = pd.read_csv(data+'predict_dataset.csv')\n",
    "\n",
    "# train, test 나누기\n",
    "train_data, test_data = train_test_split(df, test_size=0.33, random_state=42)\n",
    "\n",
    "X_train, y_train = train_data.drop('혼잡도', axis=1), train_data['혼잡도']\n",
    "X_test, y_test = test_data.drop('혼잡도', axis=1), test_data['혼잡도']\n",
    "\n",
    "# 모델 적합\n",
    "print(datetime.now().strftime('%Y.%m.%d %Hh%Mm%Ss'), 'Fit Model')\n",
    "model = LGBMClassifier(random_state=42) ######## 실행할 때마다 결과가 바뀌면 안 됨 --> random_state 지정\n",
    "model.fit(X_train, y_train, categorical_feature=['주차장'], eval_set=(X_test,y_test), verbose=1)\n",
    "\n",
    "# 적합된 모델로 혼잡도 예측"
   ]
  },
  {
   "cell_type": "code",
   "execution_count": 3,
   "outputs": [
    {
     "name": "stdout",
     "output_type": "stream",
     "text": [
      "2022.12.26 14h54m18s Predict\n"
     ]
    }
   ],
   "source": [
    "print(datetime.now().strftime('%Y.%m.%d %Hh%Mm%Ss'), 'Predict')\n",
    "predict_df = predict_df[X_train.columns]"
   ],
   "metadata": {
    "collapsed": false
   }
  },
  {
   "cell_type": "code",
   "execution_count": 6,
   "outputs": [],
   "source": [
    "\n",
    "\n",
    "predict = pd.DataFrame(model.predict(predict_df))\n",
    "output = pd.concat([predict_df, predict], axis= 1)"
   ],
   "metadata": {
    "collapsed": false
   }
  },
  {
   "cell_type": "code",
   "execution_count": null,
   "outputs": [],
   "source": [
    "output = output.rename(columns={0:'혼잡도예측'})\n",
    "output = output[['연','월','일','시','분','요일','주차장','혼잡도예측']]\n",
    "\n",
    "# 예측일시, 시간대 추가\n",
    "output['예측일시'] = output['연'].astype(str) + output['월'].astype(str) + output['일'].astype(str)\n",
    "output['시간대'] = output['시'].astype(str) + output['분'].astype(str)\n",
    "\n",
    "# 결과 테이블 만들기\n",
    "result_table = pd.DataFrame(columns=['등록일시', '주차장명', '예측일시', '시간대', '혼잡도'])\n",
    "result_table['주차장명'] = output['주차장']\n",
    "result_table['예측일시'] = output['예측일시']\n",
    "result_table['시간대'] = output['시간대']\n",
    "result_table['혼잡도'] = output['혼잡도예측']\n",
    "result_table['등록일시'] = datetime.now().strftime('%Y%m%d%H%M%S')\n",
    "result_table = result_table.astype(str)\n",
    "result_table.to_csv(result + 'park_analysis.csv', index=False, encoding='utf-8-sig')\n",
    "\n",
    "#result_table.to_csv(result +'생존분석.csv', index = False, encoding = 'utf-8-sig')"
   ],
   "metadata": {
    "collapsed": false
   }
  }
 ],
 "metadata": {
  "kernelspec": {
   "display_name": "Python 3",
   "language": "python",
   "name": "python3"
  },
  "language_info": {
   "codemirror_mode": {
    "name": "ipython",
    "version": 2
   },
   "file_extension": ".py",
   "mimetype": "text/x-python",
   "name": "python",
   "nbconvert_exporter": "python",
   "pygments_lexer": "ipython2",
   "version": "2.7.6"
  }
 },
 "nbformat": 4,
 "nbformat_minor": 0
}

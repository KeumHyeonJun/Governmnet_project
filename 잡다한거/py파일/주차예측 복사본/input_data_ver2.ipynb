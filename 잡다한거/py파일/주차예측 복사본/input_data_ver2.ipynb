{
 "cells": [
  {
   "cell_type": "code",
   "execution_count": 164,
   "outputs": [],
   "source": [],
   "metadata": {
    "collapsed": false
   }
  },
  {
   "cell_type": "code",
   "execution_count": 164,
   "metadata": {
    "collapsed": true
   },
   "outputs": [],
   "source": []
  },
  {
   "cell_type": "code",
   "execution_count": 165,
   "outputs": [],
   "source": [
    "import datetime\n",
    "from pathlib import Path\n",
    "from dateutil.relativedelta import relativedelta\n",
    "import pandas as pd\n",
    "import numpy as np\n",
    "import warnings\n",
    "import requests\n",
    "import holidays\n",
    "import copy\n",
    "import json\n",
    "import re\n",
    "import os\n",
    "\n",
    "import output\n",
    "from impala.dbapi import connect\n",
    "from impala.util import as_pandas\n",
    "\n",
    "warnings.filterwarnings(action='ignore')\n",
    "\n",
    "\n",
    "path = Path.cwd().parent\n",
    "raw_data = str(path) + '/raw_data/'\n",
    "data = str(path) + '/data/'\n",
    "if not os.path.exists(str(path)+'/data/'):\n",
    "    os.makedirs(str(path)+'/data/')\n",
    "\n",
    "#### 향후 수정사항\n",
    "def slicing(df,i) :\n",
    "    pattern = '.*동'\n",
    "    reg = re.search(pattern, df['장비명'][i])\n",
    "    reg = reg.group()\n",
    "    df['주차장'][i] = reg\n",
    "    return reg\n",
    "def change(x):\n",
    "    if x =='13-1동' or x =='13-2동' or x =='13-3동':\n",
    "        return '13동'\n",
    "    elif x == '14-1동' or x == '14-2동':\n",
    "        return '14동'\n",
    "    else :\n",
    "        return x\n",
    "\n",
    "\n",
    "def parking(x):\n",
    "    if x =='15동':\n",
    "        return 15\n",
    "    elif x == '14동':\n",
    "        return 14\n",
    "    elif x == '13동':\n",
    "        return 13\n",
    "    elif x == '12동':\n",
    "        return 12\n",
    "    elif x == '주차1동,주차2동':\n",
    "        return 0\n",
    "    else :\n",
    "        return x\n",
    "\n",
    "\n",
    "def confusion(df):\n",
    "    if df['비율'] <= 0.3:\n",
    "        return 0\n",
    "    elif df['비율'] <= 0.5:\n",
    "        return 1\n",
    "    elif df['비율'] <= 0.8:\n",
    "        return 2\n",
    "    else:\n",
    "        return\n",
    "\n",
    "satsun = ['Independence Movement Day','Liberation Day','National Foundation Day','Hangeul Day',\"Children's Day\"]\n",
    "kr_holidays = holidays.KR()\n",
    "def holiday_check(date):\n",
    "    if date in kr_holidays:\n",
    "        return 1\n",
    "    elif date.weekday() == 0:\n",
    "        if (kr_holidays.get(datetime.datetime.strftime(date-relativedelta(days=1),\"%Y-%m-%d\")) or kr_holidays.get(datetime.datetime.strftime(date-relativedelta(days=2),\"%Y-%m-%d\"))) in satsun:\n",
    "            return 1\n",
    "        else:\n",
    "            return 0\n",
    "    else:\n",
    "        return 0\n",
    "\n",
    "\n",
    "def minute_yn(df):\n",
    "    num = int(60/time_delta)\n",
    "    for i in range(num):\n",
    "        if df['분'] <= 10*i + 9:\n",
    "            return i\n",
    "\n",
    "\n",
    "\n",
    "\n",
    "def replace_rain(df):\n",
    "    if df['강수량(mm)'] == '1.0mm미만':\n",
    "        return 0.5\n",
    "    elif df['강수량(mm)'] == '30.0~50.0mm':\n",
    "        return 40\n",
    "    elif df['강수량(mm)'] == '50.0mm이상':\n",
    "        return 60\n",
    "    else:\n",
    "        return float(str(df['강수량(mm)']).replace('mm', ''))\n",
    "\n",
    "\n",
    "def replace_snow(df):\n",
    "    if df['적설(cm)'] == '1cm미만':\n",
    "        return 0.5\n",
    "    elif df['적설(cm)'] == '5cm이상':\n",
    "        return 5\n",
    "    else:\n",
    "        return float(str(df['적설(cm)']).replace('cm', ''))\n"
   ],
   "metadata": {
    "collapsed": false
   }
  },
  {
   "cell_type": "code",
   "execution_count": 166,
   "outputs": [
    {
     "name": "stdout",
     "output_type": "stream",
     "text": [
      "2022.12.23 11h09m35s Load Data\n"
     ]
    }
   ],
   "source": [
    "date = output.date\n",
    "# 예측시작시간\n",
    "first_pred_time = 7\n",
    "# 예측종료시간\n",
    "finish_pred_time = 10\n",
    "#예측시간간격\n",
    "time_delta = 10\n",
    "# conn = connect(host = '172.31.101.61', port = 21050 , user = 'hive', password = 'hive')\n",
    "\n",
    "#### 데이터 로드\n",
    "print(datetime.datetime.now().strftime('%Y.%m.%d %Hh%Mm%Ss'), 'Load Data')\n",
    "darae_in = pd.read_csv(raw_data+'VW_InCarinfo (차량 입차 정보 조회).csv').dropna()\n",
    "darae_out = pd.read_csv(raw_data+'VW_OutCarinfo (차량 출차 정보 조회).csv')\n",
    "hanmaek_ticket =  pd.read_csv(raw_data+'일반차량.csv')\n",
    "hanmanek_normal = pd.read_csv(raw_data+'정기권차량.csv')\n",
    "parking_info = pd.read_excel(raw_data+'주차장면수.xlsx')\n"
   ],
   "metadata": {
    "collapsed": false
   }
  },
  {
   "cell_type": "markdown",
   "source": [
    "# 날씨데이터 불러오기"
   ],
   "metadata": {
    "collapsed": false
   }
  },
  {
   "cell_type": "code",
   "execution_count": 167,
   "outputs": [
    {
     "data": {
      "text/plain": "                    일시  기온(°C)  강수량(mm)  풍속(m/s)  습도(%)  적설(cm)     연   월   일  \\\n0  2022-12-21 07:00:00      -1      1.0      2.3     95     0.5  2022  12  21   \n1  2022-12-21 08:00:00       0      1.0      2.3     95     0.5  2022  12  21   \n2  2022-12-21 09:00:00       1      1.0      2.1     95     0.0  2022  12  21   \n3  2022-12-21 10:00:00       2      1.0      2.6     90     0.0  2022  12  21   \n4  2022-12-22 07:00:00      -6      0.0      2.5     85     0.0  2022  12  22   \n5  2022-12-22 08:00:00      -6      0.0      2.3     85     0.0  2022  12  22   \n6  2022-12-22 09:00:00      -6      0.0      3.6     80     0.5  2022  12  22   \n7  2022-12-22 10:00:00      -5      0.0      4.1     70     0.5  2022  12  22   \n8  2022-12-23 07:00:00     -13      0.0      0.9     90     0.5  2022  12  23   \n9  2022-12-23 08:00:00     -12      0.0      0.9     90     0.5  2022  12  23   \n10 2022-12-23 09:00:00     -11      0.0      1.1     85     0.5  2022  12  23   \n11 2022-12-23 10:00:00     -10      0.0      1.1     75     0.5  2022  12  23   \n\n     시  분  \n0    7  0  \n1    8  0  \n2    9  0  \n3   10  0  \n4    7  0  \n5    8  0  \n6    9  0  \n7   10  0  \n8    7  0  \n9    8  0  \n10   9  0  \n11  10  0  ",
      "text/html": "<div>\n<style scoped>\n    .dataframe tbody tr th:only-of-type {\n        vertical-align: middle;\n    }\n\n    .dataframe tbody tr th {\n        vertical-align: top;\n    }\n\n    .dataframe thead th {\n        text-align: right;\n    }\n</style>\n<table border=\"1\" class=\"dataframe\">\n  <thead>\n    <tr style=\"text-align: right;\">\n      <th></th>\n      <th>일시</th>\n      <th>기온(°C)</th>\n      <th>강수량(mm)</th>\n      <th>풍속(m/s)</th>\n      <th>습도(%)</th>\n      <th>적설(cm)</th>\n      <th>연</th>\n      <th>월</th>\n      <th>일</th>\n      <th>시</th>\n      <th>분</th>\n    </tr>\n  </thead>\n  <tbody>\n    <tr>\n      <th>0</th>\n      <td>2022-12-21 07:00:00</td>\n      <td>-1</td>\n      <td>1.0</td>\n      <td>2.3</td>\n      <td>95</td>\n      <td>0.5</td>\n      <td>2022</td>\n      <td>12</td>\n      <td>21</td>\n      <td>7</td>\n      <td>0</td>\n    </tr>\n    <tr>\n      <th>1</th>\n      <td>2022-12-21 08:00:00</td>\n      <td>0</td>\n      <td>1.0</td>\n      <td>2.3</td>\n      <td>95</td>\n      <td>0.5</td>\n      <td>2022</td>\n      <td>12</td>\n      <td>21</td>\n      <td>8</td>\n      <td>0</td>\n    </tr>\n    <tr>\n      <th>2</th>\n      <td>2022-12-21 09:00:00</td>\n      <td>1</td>\n      <td>1.0</td>\n      <td>2.1</td>\n      <td>95</td>\n      <td>0.0</td>\n      <td>2022</td>\n      <td>12</td>\n      <td>21</td>\n      <td>9</td>\n      <td>0</td>\n    </tr>\n    <tr>\n      <th>3</th>\n      <td>2022-12-21 10:00:00</td>\n      <td>2</td>\n      <td>1.0</td>\n      <td>2.6</td>\n      <td>90</td>\n      <td>0.0</td>\n      <td>2022</td>\n      <td>12</td>\n      <td>21</td>\n      <td>10</td>\n      <td>0</td>\n    </tr>\n    <tr>\n      <th>4</th>\n      <td>2022-12-22 07:00:00</td>\n      <td>-6</td>\n      <td>0.0</td>\n      <td>2.5</td>\n      <td>85</td>\n      <td>0.0</td>\n      <td>2022</td>\n      <td>12</td>\n      <td>22</td>\n      <td>7</td>\n      <td>0</td>\n    </tr>\n    <tr>\n      <th>5</th>\n      <td>2022-12-22 08:00:00</td>\n      <td>-6</td>\n      <td>0.0</td>\n      <td>2.3</td>\n      <td>85</td>\n      <td>0.0</td>\n      <td>2022</td>\n      <td>12</td>\n      <td>22</td>\n      <td>8</td>\n      <td>0</td>\n    </tr>\n    <tr>\n      <th>6</th>\n      <td>2022-12-22 09:00:00</td>\n      <td>-6</td>\n      <td>0.0</td>\n      <td>3.6</td>\n      <td>80</td>\n      <td>0.5</td>\n      <td>2022</td>\n      <td>12</td>\n      <td>22</td>\n      <td>9</td>\n      <td>0</td>\n    </tr>\n    <tr>\n      <th>7</th>\n      <td>2022-12-22 10:00:00</td>\n      <td>-5</td>\n      <td>0.0</td>\n      <td>4.1</td>\n      <td>70</td>\n      <td>0.5</td>\n      <td>2022</td>\n      <td>12</td>\n      <td>22</td>\n      <td>10</td>\n      <td>0</td>\n    </tr>\n    <tr>\n      <th>8</th>\n      <td>2022-12-23 07:00:00</td>\n      <td>-13</td>\n      <td>0.0</td>\n      <td>0.9</td>\n      <td>90</td>\n      <td>0.5</td>\n      <td>2022</td>\n      <td>12</td>\n      <td>23</td>\n      <td>7</td>\n      <td>0</td>\n    </tr>\n    <tr>\n      <th>9</th>\n      <td>2022-12-23 08:00:00</td>\n      <td>-12</td>\n      <td>0.0</td>\n      <td>0.9</td>\n      <td>90</td>\n      <td>0.5</td>\n      <td>2022</td>\n      <td>12</td>\n      <td>23</td>\n      <td>8</td>\n      <td>0</td>\n    </tr>\n    <tr>\n      <th>10</th>\n      <td>2022-12-23 09:00:00</td>\n      <td>-11</td>\n      <td>0.0</td>\n      <td>1.1</td>\n      <td>85</td>\n      <td>0.5</td>\n      <td>2022</td>\n      <td>12</td>\n      <td>23</td>\n      <td>9</td>\n      <td>0</td>\n    </tr>\n    <tr>\n      <th>11</th>\n      <td>2022-12-23 10:00:00</td>\n      <td>-10</td>\n      <td>0.0</td>\n      <td>1.1</td>\n      <td>75</td>\n      <td>0.5</td>\n      <td>2022</td>\n      <td>12</td>\n      <td>23</td>\n      <td>10</td>\n      <td>0</td>\n    </tr>\n  </tbody>\n</table>\n</div>"
     },
     "execution_count": 167,
     "metadata": {},
     "output_type": "execute_result"
    }
   ],
   "source": [
    "\n",
    "# conn = connect(host = '172.31.101.61', port = 21050 , user = 'hive', password = 'hive')\n",
    "# create_query ='select * from SVC.ext_kma_asos_hourly_info_nopartition'\n",
    "# # run query on impala\n",
    "# cur = conn.cursor()\n",
    "# cur.execute(create_query)\n",
    "# whether_his = as_pandas(cur)\n",
    "#\n",
    "# create_query ='select * from SVC.ext_kma_vilage_fcst_nopartition'\n",
    "# # run query on impala\n",
    "# cur = conn.cursor()\n",
    "# cur.execute(create_query)\n",
    "# whether_pre = as_pandas(cur)\n",
    "# cur.close()\n",
    "#\n",
    "# # 예보데이터\n",
    "# df_tmp = whether_pre[whether_pre[\"category\"]==\"TMP\"][[\"fcstdate\",\"fcsttime\",\"fcstvalue\"]].rename(columns={\n",
    "#     \"fcstdate\":\"일시\",\"fcsttime\":\"시간\",\"fcstvalue\":\"기온(°C)\"})\n",
    "# df_pcp = whether_pre[whether_pre[\"category\"]==\"PCP\"][[\"fcstdate\",\"fcsttime\",\"fcstvalue\"]].rename(columns={\n",
    "#     \"fcstdate\":\"일시\",\"fcsttime\":\"시간\",\"fcstvalue\":\"강수량(mm)\"})\n",
    "# df_wsd = whether_pre[whether_pre[\"category\"]==\"WSD\"][[\"fcstdate\",\"fcsttime\",\"fcstvalue\"]].rename(columns={\n",
    "#     \"fcstdate\":\"일시\",\"fcsttime\":\"시간\",\"fcstvalue\":\"풍속(m/s)\"})\n",
    "# df_reh = whether_pre[whether_pre[\"category\"]==\"REH\"][[\"fcstdate\",\"fcsttime\",\"fcstvalue\"]].rename(columns={\n",
    "#     \"fcstdate\":\"일시\",\"fcsttime\":\"시간\",\"fcstvalue\":\"습도(%)\"})\n",
    "# df_sno = whether_pre[whether_pre[\"category\"]==\"SNO\"][[\"fcstdate\",\"fcsttime\",\"fcstvalue\"]].rename(columns={\n",
    "#     \"fcstdate\":\"일시\",\"fcsttime\":\"시간\",\"fcstvalue\":\"적설(cm)\"})\n",
    "#\n",
    "# df_pcp.loc[df_pcp[\"강수량(mm)\"]==\"강수없음\",\"강수량(mm)\"] = 0\n",
    "# df_sno.loc[df_sno[\"적설(cm)\"]==\"적설없음\",\"적설(cm)\"] = 0\n",
    "#\n",
    "# final_df = df_tmp.copy()\n",
    "# final_df = pd.merge(final_df,df_pcp,on=[\"일시\",\"시간\"],how=\"left\")\n",
    "# final_df = pd.merge(final_df,df_wsd,on=[\"일시\",\"시간\"],how=\"left\")\n",
    "# final_df = pd.merge(final_df,df_reh,on=[\"일시\",\"시간\"],how=\"left\")\n",
    "# final_df = pd.merge(final_df,df_sno,on=[\"일시\",\"시간\"],how=\"left\")\n",
    "#\n",
    "# for ind in range(len(final_df)):\n",
    "#     # final_df.loc[ind, \"일시\"] = datetime.datetime.strptime(final_df.loc[ind,\"일시\"][:4]+\"-\"+final_df.loc[ind,\"일시\"][4:6]+\"-\"+final_df.loc[ind,\"일시\"][6:]+\" \"+final_df.loc[ind,\"시간\"][:2],\"%Y-%m-%d %H\")\n",
    "#     # from datetime import datetime으로 바뀌었음 --> datetime.datetime을 datetime으로 변경\n",
    "#     final_df.loc[ind, \"일시\"] = datetime.strptime(final_df.loc[ind,\"일시\"][:4]+\"-\"+final_df.loc[ind,\"일시\"][4:6]+\"-\"+final_df.loc[ind,\"일시\"][6:]+\" \"+final_df.loc[ind,\"시간\"][:2],\"%Y-%m-%d %H\")\n",
    "#\n",
    "# whether_pre = final_df.drop(\"시간\",axis=1)\n",
    "# whether_pre['적설(cm)'] = whether_pre.apply(replace_snow,axis=1)\n",
    "# whether_pre['강수량(mm)'] = whether_pre.apply(replace_rain,axis=1)\n",
    "# #과거데이터\n",
    "# whether_his = whether_his[['tm','ta','rn','ws','hm','dsnw']]\n",
    "# whether_his.replace('',0,inplace=True)\n",
    "#\n",
    "# whether_his.columns = whether_pre.columns\n",
    "\n",
    "whether_his = pd.read_csv('whether_his.csv')\n",
    "whether_pre = pd.read_csv('whether_pre.csv')\n",
    "whether_his['일시'] = pd.to_datetime(whether_his['일시'])\n",
    "whether_pre['일시'] = pd.to_datetime(whether_pre['일시'])\n",
    "whether_pre"
   ],
   "metadata": {
    "collapsed": false
   }
  },
  {
   "cell_type": "markdown",
   "source": [
    "# 한맥데이터 전처리"
   ],
   "metadata": {
    "collapsed": false
   }
  },
  {
   "cell_type": "code",
   "execution_count": 168,
   "outputs": [],
   "source": [
    "def pretreatment(df):\n",
    "    df['일시'] = pd.to_datetime(df['FilePath'].apply(lambda x: x[12:26]), format='%Y%m%d%H%M%S')\n",
    "    df['일시'] = pd.to_datetime(df['일시'])\n",
    "    df = df[['일시',  'InOutDiv','CarNo']]\n",
    "    return df\n",
    "\n",
    "def del_min_sec(x):\n",
    "    return x.replace(minute=0, second=0)\n",
    "\n",
    "hanmaek_ticket = pretreatment(hanmaek_ticket)\n",
    "\n",
    "hanmanek_normal = pretreatment(hanmanek_normal)\n"
   ],
   "metadata": {
    "collapsed": false
   }
  },
  {
   "cell_type": "code",
   "execution_count": 169,
   "outputs": [
    {
     "data": {
      "text/plain": "           차량번호        주차장 입출차여부               입출차시각\n0      367다8120  주차1동,주차2동    출차 2022-10-01 22:45:59\n1       29서8759  주차1동,주차2동    입차 2022-10-01 22:03:47\n2       31도7993  주차1동,주차2동    출차 2022-10-01 21:57:40\n3       70수6806  주차1동,주차2동    출차 2022-10-01 21:48:00\n4      382라2083  주차1동,주차2동    출차 2022-10-01 21:37:36\n...         ...        ...   ...                 ...\n42608  384너2711  주차1동,주차2동    출차 2020-10-01 16:34:17\n42609  384너2711  주차1동,주차2동    입차 2020-10-01 14:38:20\n42610   21어9903  주차1동,주차2동    출차 2020-10-01 14:06:49\n42611   36조5492  주차1동,주차2동    입차 2020-10-01 08:31:22\n42612  104허2500  주차1동,주차2동    출차 2020-10-01 05:13:22\n\n[165044 rows x 4 columns]",
      "text/html": "<div>\n<style scoped>\n    .dataframe tbody tr th:only-of-type {\n        vertical-align: middle;\n    }\n\n    .dataframe tbody tr th {\n        vertical-align: top;\n    }\n\n    .dataframe thead th {\n        text-align: right;\n    }\n</style>\n<table border=\"1\" class=\"dataframe\">\n  <thead>\n    <tr style=\"text-align: right;\">\n      <th></th>\n      <th>차량번호</th>\n      <th>주차장</th>\n      <th>입출차여부</th>\n      <th>입출차시각</th>\n    </tr>\n  </thead>\n  <tbody>\n    <tr>\n      <th>0</th>\n      <td>367다8120</td>\n      <td>주차1동,주차2동</td>\n      <td>출차</td>\n      <td>2022-10-01 22:45:59</td>\n    </tr>\n    <tr>\n      <th>1</th>\n      <td>29서8759</td>\n      <td>주차1동,주차2동</td>\n      <td>입차</td>\n      <td>2022-10-01 22:03:47</td>\n    </tr>\n    <tr>\n      <th>2</th>\n      <td>31도7993</td>\n      <td>주차1동,주차2동</td>\n      <td>출차</td>\n      <td>2022-10-01 21:57:40</td>\n    </tr>\n    <tr>\n      <th>3</th>\n      <td>70수6806</td>\n      <td>주차1동,주차2동</td>\n      <td>출차</td>\n      <td>2022-10-01 21:48:00</td>\n    </tr>\n    <tr>\n      <th>4</th>\n      <td>382라2083</td>\n      <td>주차1동,주차2동</td>\n      <td>출차</td>\n      <td>2022-10-01 21:37:36</td>\n    </tr>\n    <tr>\n      <th>...</th>\n      <td>...</td>\n      <td>...</td>\n      <td>...</td>\n      <td>...</td>\n    </tr>\n    <tr>\n      <th>42608</th>\n      <td>384너2711</td>\n      <td>주차1동,주차2동</td>\n      <td>출차</td>\n      <td>2020-10-01 16:34:17</td>\n    </tr>\n    <tr>\n      <th>42609</th>\n      <td>384너2711</td>\n      <td>주차1동,주차2동</td>\n      <td>입차</td>\n      <td>2020-10-01 14:38:20</td>\n    </tr>\n    <tr>\n      <th>42610</th>\n      <td>21어9903</td>\n      <td>주차1동,주차2동</td>\n      <td>출차</td>\n      <td>2020-10-01 14:06:49</td>\n    </tr>\n    <tr>\n      <th>42611</th>\n      <td>36조5492</td>\n      <td>주차1동,주차2동</td>\n      <td>입차</td>\n      <td>2020-10-01 08:31:22</td>\n    </tr>\n    <tr>\n      <th>42612</th>\n      <td>104허2500</td>\n      <td>주차1동,주차2동</td>\n      <td>출차</td>\n      <td>2020-10-01 05:13:22</td>\n    </tr>\n  </tbody>\n</table>\n<p>165044 rows × 4 columns</p>\n</div>"
     },
     "execution_count": 169,
     "metadata": {},
     "output_type": "execute_result"
    }
   ],
   "source": [
    "hanmaek = pd.concat([hanmaek_ticket,hanmanek_normal])\n",
    "hanmaek['주차장'] = '주차1동,주차2동'\n",
    "hanmaek = hanmaek[['CarNo','주차장','InOutDiv','일시']]\n",
    "hanmaek.columns = ['차량번호','주차장','입출차여부','입출차시각']\n",
    "hanmaek['입출차여부'] = hanmaek['입출차여부'].apply(lambda x : '입차' if x ==1 else '출차')\n",
    "hanmaek"
   ],
   "metadata": {
    "collapsed": false
   }
  },
  {
   "cell_type": "markdown",
   "source": [
    "# 다래전처리"
   ],
   "metadata": {
    "collapsed": false
   }
  },
  {
   "cell_type": "code",
   "execution_count": 170,
   "outputs": [
    {
     "name": "stdout",
     "output_type": "stream",
     "text": [
      "2022.12.23 11h09m36s Preprocessing Data\n"
     ]
    }
   ],
   "source": [
    "#### 전처리\n",
    "print(datetime.datetime.now().strftime('%Y.%m.%d %Hh%Mm%Ss'), 'Preprocessing Data')\n",
    "# 공백 제거\n",
    "darae_in[['장비명','입차구분','입차고객구분','출차여부','차량종류']] = darae_in[['장비명','입차구분','입차고객구분','출차여부','차량종류']].apply(lambda x: x.str.strip())\n",
    "darae_out[['장비명','출차구분','출차고객구분','출차여부','차량종류']] = darae_out[['장비명','출차구분','출차고객구분','출차여부','차량종류']].apply(lambda x: x.str.strip())\n",
    "\n"
   ],
   "metadata": {
    "collapsed": false
   }
  },
  {
   "cell_type": "code",
   "execution_count": 171,
   "outputs": [],
   "source": [
    "# 장비명에서 동만 추출하여 주차장에 입력\n",
    "darae_in['주차장'] = 0\n",
    "for i in range(len(darae_in)):\n",
    "    slicing(darae_in,i)\n",
    "darae_out['주차장'] = 0\n",
    "for i in range(len(darae_out)):\n",
    "    slicing(darae_out,i)\n",
    "\n",
    "# 13-1, 2, 3, 14-1, 2동을 13동, 14동으로 변경\n",
    "# darae_in['주차장'] = darae_in['주차장'].apply(change)\n",
    "# darae_out['주차장'] = darae_out['주차장'].apply(change)\n",
    "test_in = copy.deepcopy(darae_in)\n",
    "test_in.columns = ['일자','시각','차량번호','주차일련번호','입출차카드번호','장비명','입출차구분','입출차고객구분','출차여부','차량종류','주차장']\n",
    "test_in['입출차여부'] = '입차'\n",
    "test_out = copy.deepcopy(darae_out)\n",
    "test_out.columns = ['일자','시각','차량번호','주차일련번호','입출차카드번호','장비명','입출차구분','입출차고객구분','출차여부','차량종류','주차장']\n",
    "test_out['입출차여부'] = '출차'\n",
    "\n",
    "test_in['입출차시각'] = test_in['일자'] + test_in['시각']\n",
    "test_in['입출차시각'] = pd.to_datetime(test_in['입출차시각'], format= '%Y-%m-%d %H:%M:%S', errors='raise')\n",
    "\n",
    "test_out['입출차시각'] = test_out['일자'] + test_out['시각']\n",
    "test_out['입출차시각'] = pd.to_datetime(test_out['입출차시각'], format= '%Y-%m-%d %H:%M:%S', errors='raise')\n",
    "\n",
    "test_out = test_out[['차량번호','주차장','입출차여부','입출차시각']]\n",
    "test_in = test_in[['차량번호','주차장','입출차여부','입출차시각']]\n",
    "darae = pd.concat([test_in, test_out])"
   ],
   "metadata": {
    "collapsed": false
   }
  },
  {
   "cell_type": "markdown",
   "source": [
    "# 병합 및 전처리"
   ],
   "metadata": {
    "collapsed": false
   }
  },
  {
   "cell_type": "code",
   "execution_count": 172,
   "outputs": [],
   "source": [
    "\n",
    "# 입차, 출차 데이터 합치고 시간으로 정렬\n",
    "df = pd.concat([hanmaek,darae]).sort_values(by=['차량번호','입출차시각'])\n",
    "df['주차장'] = df['주차장'].apply(change)\n",
    "# import datetime ############ import는 맨 위로 빼둠\n",
    "# 입출차시각 생성\n",
    "df['시'] = df['입출차시각'].dt.hour\n",
    "# df.reset_index(inplace = True)\n",
    "df.reset_index(inplace=True, drop=True) ######### 어차피 밑에서 index 삭제함 --> reset_index할 때 drop\n",
    "df=df[['차량번호','주차장','입출차여부','입출차시각']]"
   ],
   "metadata": {
    "collapsed": false
   }
  },
  {
   "cell_type": "code",
   "execution_count": 173,
   "outputs": [
    {
     "data": {
      "text/plain": "             차량번호        주차장 입출차여부               입출차시각\n0         01가0491  주차1동,주차2동    입차 2021-03-31 14:47:55\n1         01가0491  주차1동,주차2동    출차 2021-03-31 15:35:43\n2         01가0491  주차1동,주차2동    입차 2022-05-01 11:57:55\n3         01가0491  주차1동,주차2동    출차 2022-05-01 12:39:45\n4         01가0703  주차1동,주차2동    입차 2021-04-24 13:52:11\n...           ...        ...   ...                 ...\n242383  충북80배1724        13동    출차 2022-10-05 15:29:16\n242384  충북86자3167        13동    입차 2022-09-10 16:07:19\n242385  충북86자3167        13동    입차 2022-09-28 17:26:49\n242386  충북86자3167        13동    출차 2022-09-28 17:26:49\n242387  충북86자3167        13동    출차 2022-09-28 17:54:17\n\n[242388 rows x 4 columns]",
      "text/html": "<div>\n<style scoped>\n    .dataframe tbody tr th:only-of-type {\n        vertical-align: middle;\n    }\n\n    .dataframe tbody tr th {\n        vertical-align: top;\n    }\n\n    .dataframe thead th {\n        text-align: right;\n    }\n</style>\n<table border=\"1\" class=\"dataframe\">\n  <thead>\n    <tr style=\"text-align: right;\">\n      <th></th>\n      <th>차량번호</th>\n      <th>주차장</th>\n      <th>입출차여부</th>\n      <th>입출차시각</th>\n    </tr>\n  </thead>\n  <tbody>\n    <tr>\n      <th>0</th>\n      <td>01가0491</td>\n      <td>주차1동,주차2동</td>\n      <td>입차</td>\n      <td>2021-03-31 14:47:55</td>\n    </tr>\n    <tr>\n      <th>1</th>\n      <td>01가0491</td>\n      <td>주차1동,주차2동</td>\n      <td>출차</td>\n      <td>2021-03-31 15:35:43</td>\n    </tr>\n    <tr>\n      <th>2</th>\n      <td>01가0491</td>\n      <td>주차1동,주차2동</td>\n      <td>입차</td>\n      <td>2022-05-01 11:57:55</td>\n    </tr>\n    <tr>\n      <th>3</th>\n      <td>01가0491</td>\n      <td>주차1동,주차2동</td>\n      <td>출차</td>\n      <td>2022-05-01 12:39:45</td>\n    </tr>\n    <tr>\n      <th>4</th>\n      <td>01가0703</td>\n      <td>주차1동,주차2동</td>\n      <td>입차</td>\n      <td>2021-04-24 13:52:11</td>\n    </tr>\n    <tr>\n      <th>...</th>\n      <td>...</td>\n      <td>...</td>\n      <td>...</td>\n      <td>...</td>\n    </tr>\n    <tr>\n      <th>242383</th>\n      <td>충북80배1724</td>\n      <td>13동</td>\n      <td>출차</td>\n      <td>2022-10-05 15:29:16</td>\n    </tr>\n    <tr>\n      <th>242384</th>\n      <td>충북86자3167</td>\n      <td>13동</td>\n      <td>입차</td>\n      <td>2022-09-10 16:07:19</td>\n    </tr>\n    <tr>\n      <th>242385</th>\n      <td>충북86자3167</td>\n      <td>13동</td>\n      <td>입차</td>\n      <td>2022-09-28 17:26:49</td>\n    </tr>\n    <tr>\n      <th>242386</th>\n      <td>충북86자3167</td>\n      <td>13동</td>\n      <td>출차</td>\n      <td>2022-09-28 17:26:49</td>\n    </tr>\n    <tr>\n      <th>242387</th>\n      <td>충북86자3167</td>\n      <td>13동</td>\n      <td>출차</td>\n      <td>2022-09-28 17:54:17</td>\n    </tr>\n  </tbody>\n</table>\n<p>242388 rows × 4 columns</p>\n</div>"
     },
     "execution_count": 173,
     "metadata": {},
     "output_type": "execute_result"
    }
   ],
   "source": [
    "df"
   ],
   "metadata": {
    "collapsed": false
   }
  },
  {
   "cell_type": "code",
   "execution_count": 110,
   "outputs": [],
   "source": [
    "car_arr = np.array(df[['입출차시각','차량번호']])\n",
    "test_idx_list =[]\n",
    "\n",
    "# 입차 시간과 출차시간이 같은 경우를 test_idx_list에 추가\n",
    "for idx in range(len(car_arr)-1):\n",
    "    # if car_arr[idx][0] == car_arr[idx+1][0] and car_arr[idx][1] == car_arr[idx+1][1] and car_arr[idx][2] == car_arr[idx+1][2]:\n",
    "    if (car_arr[idx][0] == car_arr[idx+1][0]) and (car_arr[idx][1] == car_arr[idx+1][1]): ###### 가독성을 위해 조건에 괄호 쳐줌\n",
    "        test_idx_list.append(idx)\n",
    "        test_idx_list.append(idx+1)\n",
    "test_idx_list = list(set(test_idx_list))\n",
    "test_df = df.loc[test_idx_list]\n",
    "# 입출차 시간이 같은 경우의 출차 삭제\n",
    "eleminate_index = test_df[test_df['입출차여부']=='출차'].index\n",
    "df2 = df.drop(eleminate_index).reset_index(drop=True) ############### 위에서 drop해서 index 컬럼 사라짐, 밑에 있는 reset_index를 위에 붙이고 index를 한번에 drop\n",
    "# df2.drop(['index'],axis = 1 , inplace = True)\n",
    "# df2.reset_index(inplace=True)\n",
    "# df2.drop(['index'],axis = 1 , inplace = True)\n",
    "\n",
    "\n",
    "# 아래 주석의 두 경우만 남김\n",
    "car_arr = np.array(df2[['차량번호','입출차여부']])\n",
    "idx_list = []\n",
    "for idx in range(len(car_arr)):\n",
    "    if idx == 0:\n",
    "        idx_list.append(idx)\n",
    "    else:\n",
    "        # 차량 번호가 같고 상태가 다른 경우(입차 > 출차 or 출차 > 입차)\n",
    "        if (car_arr[idx][0] == car_arr[idx-1][0]) and (car_arr[idx][1] != car_arr[idx-1][1]):\n",
    "            idx_list.append(idx)\n",
    "        #차량번호가 바뀌는 경우\n",
    "        elif car_arr[idx][0] != car_arr[idx-1][0]:\n",
    "            idx_list.append(idx)\n",
    "process_df = df2.loc[idx_list]"
   ],
   "metadata": {
    "collapsed": false
   }
  },
  {
   "cell_type": "code",
   "execution_count": 110,
   "outputs": [],
   "source": [],
   "metadata": {
    "collapsed": false
   }
  },
  {
   "cell_type": "code",
   "execution_count": 111,
   "outputs": [
    {
     "data": {
      "text/plain": "          연   월  일  시   분  공휴일  요일  주차장  혼잡도\n532    2022   9  1  7   7    0   3   12  0.0\n4679   2022   9  1  7  17    0   3   12  0.0\n4569   2022   9  1  7  18    0   3   12  0.0\n2015   2022   9  1  7  35    0   3   12  0.0\n4680   2022   9  1  7  35    0   3   12  0.0\n...     ...  .. .. ..  ..  ...  ..  ...  ...\n6033   2022  10  1  9  12    0   5    0  0.0\n19218  2022  10  1  9  15    0   5    0  0.0\n16789  2022  10  1  9  40    0   5    0  0.0\n21083  2022  10  1  9  56    0   5    0  0.0\n12660  2022  10  1  9  58    0   5    0  0.0\n\n[32876 rows x 9 columns]",
      "text/html": "<div>\n<style scoped>\n    .dataframe tbody tr th:only-of-type {\n        vertical-align: middle;\n    }\n\n    .dataframe tbody tr th {\n        vertical-align: top;\n    }\n\n    .dataframe thead th {\n        text-align: right;\n    }\n</style>\n<table border=\"1\" class=\"dataframe\">\n  <thead>\n    <tr style=\"text-align: right;\">\n      <th></th>\n      <th>연</th>\n      <th>월</th>\n      <th>일</th>\n      <th>시</th>\n      <th>분</th>\n      <th>공휴일</th>\n      <th>요일</th>\n      <th>주차장</th>\n      <th>혼잡도</th>\n    </tr>\n  </thead>\n  <tbody>\n    <tr>\n      <th>532</th>\n      <td>2022</td>\n      <td>9</td>\n      <td>1</td>\n      <td>7</td>\n      <td>7</td>\n      <td>0</td>\n      <td>3</td>\n      <td>12</td>\n      <td>0.0</td>\n    </tr>\n    <tr>\n      <th>4679</th>\n      <td>2022</td>\n      <td>9</td>\n      <td>1</td>\n      <td>7</td>\n      <td>17</td>\n      <td>0</td>\n      <td>3</td>\n      <td>12</td>\n      <td>0.0</td>\n    </tr>\n    <tr>\n      <th>4569</th>\n      <td>2022</td>\n      <td>9</td>\n      <td>1</td>\n      <td>7</td>\n      <td>18</td>\n      <td>0</td>\n      <td>3</td>\n      <td>12</td>\n      <td>0.0</td>\n    </tr>\n    <tr>\n      <th>2015</th>\n      <td>2022</td>\n      <td>9</td>\n      <td>1</td>\n      <td>7</td>\n      <td>35</td>\n      <td>0</td>\n      <td>3</td>\n      <td>12</td>\n      <td>0.0</td>\n    </tr>\n    <tr>\n      <th>4680</th>\n      <td>2022</td>\n      <td>9</td>\n      <td>1</td>\n      <td>7</td>\n      <td>35</td>\n      <td>0</td>\n      <td>3</td>\n      <td>12</td>\n      <td>0.0</td>\n    </tr>\n    <tr>\n      <th>...</th>\n      <td>...</td>\n      <td>...</td>\n      <td>...</td>\n      <td>...</td>\n      <td>...</td>\n      <td>...</td>\n      <td>...</td>\n      <td>...</td>\n      <td>...</td>\n    </tr>\n    <tr>\n      <th>6033</th>\n      <td>2022</td>\n      <td>10</td>\n      <td>1</td>\n      <td>9</td>\n      <td>12</td>\n      <td>0</td>\n      <td>5</td>\n      <td>0</td>\n      <td>0.0</td>\n    </tr>\n    <tr>\n      <th>19218</th>\n      <td>2022</td>\n      <td>10</td>\n      <td>1</td>\n      <td>9</td>\n      <td>15</td>\n      <td>0</td>\n      <td>5</td>\n      <td>0</td>\n      <td>0.0</td>\n    </tr>\n    <tr>\n      <th>16789</th>\n      <td>2022</td>\n      <td>10</td>\n      <td>1</td>\n      <td>9</td>\n      <td>40</td>\n      <td>0</td>\n      <td>5</td>\n      <td>0</td>\n      <td>0.0</td>\n    </tr>\n    <tr>\n      <th>21083</th>\n      <td>2022</td>\n      <td>10</td>\n      <td>1</td>\n      <td>9</td>\n      <td>56</td>\n      <td>0</td>\n      <td>5</td>\n      <td>0</td>\n      <td>0.0</td>\n    </tr>\n    <tr>\n      <th>12660</th>\n      <td>2022</td>\n      <td>10</td>\n      <td>1</td>\n      <td>9</td>\n      <td>58</td>\n      <td>0</td>\n      <td>5</td>\n      <td>0</td>\n      <td>0.0</td>\n    </tr>\n  </tbody>\n</table>\n<p>32876 rows × 9 columns</p>\n</div>"
     },
     "execution_count": 111,
     "metadata": {},
     "output_type": "execute_result"
    }
   ],
   "source": [
    "# 연, 월, 일, 시, 분, 초 컬럼 생성\n",
    "process_df['연'] = process_df['입출차시각'].dt.year\n",
    "process_df['월'] = process_df['입출차시각'].dt.month\n",
    "process_df['일'] = process_df['입출차시각'].dt.day\n",
    "process_df['시'] = process_df['입출차시각'].dt.hour\n",
    "process_df['분'] = process_df['입출차시각'].dt.minute\n",
    "process_df['초'] = process_df['입출차시각'].dt.second\n",
    "# 출근시간 (7시~9시) 사이만 남김\n",
    "process_df = process_df[(process_df['시']>=first_pred_time) & (process_df['시']<=finish_pred_time-1)]\n",
    "\n",
    "# parking_info = pd.read_excel(data_path + '/raw_data/주차장면수.xlsx') ### 파일 읽어오는 부분이므로 맨 위로 보냄\n",
    "# 주차장 면수와 합치고 필요한 컬럼만 남김\n",
    "# !!!!!!!!!!!!!!!!!! 13-1동옥외, 13-2동옥외 등은 고려하지 않는 건지? (따로 정리해뒀다가 데이터 붙일 때 현업한테 얘기해야할듯)\n",
    "dataset = pd.merge(process_df, parking_info[['장소','합계']], left_on='주차장', right_on='장소')\n",
    "dataset = dataset[['입출차시각','연','월','일','시','분','초','입출차여부','주차장','합계']]\n",
    "dataset = dataset.sort_values(by=['주차장','입출차시각'])\n",
    "dataset['잔류차량수'] = 0\n",
    "arr = np.array(dataset[['연','월','일','시','분','입출차여부','주차장','잔류차량수']])\n",
    "\n",
    "# 잔류차량수 생성\n",
    "for idx in range(len(arr)):\n",
    "    if idx == 0:\n",
    "        # 첫번째 행이 입차이면 1, 출차이면 -1\n",
    "        if arr[idx][5]=='입차':\n",
    "            arr[idx][7] = arr[idx][7] + 1\n",
    "        else:\n",
    "            arr[idx][7] = arr[idx][7] - 1\n",
    "    else:\n",
    "        pre_time = list(arr[idx-1][[0,1,2,6]])\n",
    "        now_time = list(arr[idx][[0,1,2,6]])\n",
    "        status =  arr[idx][5]\n",
    "        # 이전 데이터와 연,월,일 주차장이 같은 경우\n",
    "        if pre_time == now_time:\n",
    "            if status == '입차':\n",
    "                arr[idx][7] = arr[idx-1][7] + 1\n",
    "            else:\n",
    "                arr[idx][7] = arr[idx-1][7] - 1\n",
    "        #이전 데이터와 연,월,일 주차장이 다른 경우 > 0부터 시작함\n",
    "        else:\n",
    "            if status == '입차':\n",
    "                arr[idx][7] = 1\n",
    "            else:\n",
    "                arr[idx][7] = -1\n",
    "# 사용 데이터 정리 및 비율, 혼잡도 산출\n",
    "dataset[['연','월','일','시','분','입출차여부','주차장','잔류차량수']] = arr\n",
    "dataset['비율'] = dataset['잔류차량수'] / dataset['합계']\n",
    "dataset['혼잡도'] = dataset.apply(confusion,axis=1)\n",
    "dataset['공휴일'] = dataset['입출차시각'].apply(holiday_check)\n",
    "dataset['요일'] = dataset['입출차시각'].dt.weekday\n",
    "dataset = dataset[['입출차시각', '연', '월', '일', '시', '분','초','공휴일','요일','주차장','잔류차량수', '비율','혼잡도']]\n",
    "# 날짜 매칭이 안되는 데이터들 제거\n",
    "dataset = dataset.dropna()\n",
    "dataset['주차장'] = dataset['주차장'].apply(parking)\n",
    "# 불필요한 컬럼 제거\n",
    "# dataset.drop('입출차시각', axis=1, inplace= True)\n",
    "# dataset.drop('초', axis=1, inplace= True) #################### 여러 컬럼을 한번에 제거하면 됨. 잔류차량수와 비율 컬럼도 사용하지 않으므로 제거\n",
    "dataset.drop(['입출차시각', '초', '잔류차량수', '비율'], axis=1, inplace=True)\n",
    "dataset"
   ],
   "metadata": {
    "collapsed": false
   }
  },
  {
   "cell_type": "markdown",
   "source": [
    "# 날씨데이터 붙이기"
   ],
   "metadata": {
    "collapsed": false
   }
  },
  {
   "cell_type": "markdown",
   "source": [
    "1. 학습데이터만들기\n",
    "- 기존이력 업데이트 안 되었을때 >> 그냥 날짜 최신버전에서 - ~~~년\n",
    "- 과거날씨 업데이트 안되었을때 >> merge하는 과정에서 어차피 포함 안됨\n",
    "2. 예측데이터 만들기\n",
    "- 예측 날씨 업데이트 안되었을때 > 과거데이터의 가장 최근 날씨 가져다 붙이기\n"
   ],
   "metadata": {
    "collapsed": false
   }
  },
  {
   "cell_type": "code",
   "execution_count": 112,
   "outputs": [],
   "source": [
    "## 학습데이터셋 생성\n",
    "\n",
    "# 연, 월, 일, 시 생성\n",
    "whether_his['연'] = whether_his['일시'].dt.year\n",
    "whether_his['월'] = whether_his['일시'].dt.month\n",
    "whether_his['일'] = whether_his['일시'].dt.day\n",
    "whether_his['시'] = whether_his['일시'].dt.hour\n",
    "# 위에서 만든 데이터셋에 날씨 데이터 붙여줌\n",
    "dataset = pd.merge(dataset, whether_his, on=['연','월','일','시'], how='left')\n",
    "\n",
    "# import holidays ######### import는 맨 위로 뺌\n",
    "# 휴일 체크\n",
    "\n",
    "\n",
    "# 날짜 매칭이 안되는 데이터들 제거\n",
    "dataset = dataset.dropna()\n",
    "dataset['주차장'] = dataset['주차장'].apply(parking)\n",
    "# 불필요한 컬럼 제거\n",
    "# dataset.drop('입출차시각', axis=1, inplace= True)\n",
    "# dataset.drop('초', axis=1, inplace= True) #################### 여러 컬럼을 한번에 제거하면 됨. 잔류차량수와 비율 컬럼도 사용하지 않으므로 제\n",
    "\n",
    "# dataset['tmp'] = dataset.apply(tmp, axis =1)\n",
    "dataset['minute_yn'] = dataset.apply(minute_yn, axis =1) ############ 컬럼명 tmp에서 minute_yn으로 변경\n",
    "dataframe = dataset.groupby(['연','월','일','시','minute_yn']).count().reset_index()[['연','월','일','시','minute_yn']]\n",
    "dataframe['trend'] = range(0, len(dataframe))\n",
    "dataset = pd.merge(dataset, dataframe, on=['연','월','일','시','minute_yn'], how='left')\n",
    "dataset.drop('minute_yn', axis=1, inplace=True)\n",
    "\n",
    "# dataset.index = dataset['trend']\n",
    "# dataset.drop('trend', axis=1, inplace=True)\n",
    "dataset.set_index('trend', inplace=True) ################# index설정 후 drop 대신 set_index 활용\n",
    "dataset.reset_index(inplace=True)\n",
    "dataset.drop('일시',inplace = True,axis=1)\n"
   ],
   "metadata": {
    "collapsed": false
   }
  },
  {
   "cell_type": "code",
   "execution_count": 113,
   "outputs": [
    {
     "data": {
      "text/plain": "   trend     연  월  일  시   분  공휴일  요일  주차장  혼잡도  기온(°C)  강수량(mm)  풍속(m/s)  \\\n0   7341  2022  9  1  7   7    0   3   12  0.0    20.2      0.0      0.9   \n1   7342  2022  9  1  7  17    0   3   12  0.0    20.2      0.0      0.9   \n2   7342  2022  9  1  7  18    0   3   12  0.0    20.2      0.0      0.9   \n3   7344  2022  9  1  7  35    0   3   12  0.0    20.2      0.0      0.9   \n4   7344  2022  9  1  7  35    0   3   12  0.0    20.2      0.0      0.9   \n\n   습도(%)  적설(cm)  \n0     94     0.0  \n1     94     0.0  \n2     94     0.0  \n3     94     0.0  \n4     94     0.0  ",
      "text/html": "<div>\n<style scoped>\n    .dataframe tbody tr th:only-of-type {\n        vertical-align: middle;\n    }\n\n    .dataframe tbody tr th {\n        vertical-align: top;\n    }\n\n    .dataframe thead th {\n        text-align: right;\n    }\n</style>\n<table border=\"1\" class=\"dataframe\">\n  <thead>\n    <tr style=\"text-align: right;\">\n      <th></th>\n      <th>trend</th>\n      <th>연</th>\n      <th>월</th>\n      <th>일</th>\n      <th>시</th>\n      <th>분</th>\n      <th>공휴일</th>\n      <th>요일</th>\n      <th>주차장</th>\n      <th>혼잡도</th>\n      <th>기온(°C)</th>\n      <th>강수량(mm)</th>\n      <th>풍속(m/s)</th>\n      <th>습도(%)</th>\n      <th>적설(cm)</th>\n    </tr>\n  </thead>\n  <tbody>\n    <tr>\n      <th>0</th>\n      <td>7341</td>\n      <td>2022</td>\n      <td>9</td>\n      <td>1</td>\n      <td>7</td>\n      <td>7</td>\n      <td>0</td>\n      <td>3</td>\n      <td>12</td>\n      <td>0.0</td>\n      <td>20.2</td>\n      <td>0.0</td>\n      <td>0.9</td>\n      <td>94</td>\n      <td>0.0</td>\n    </tr>\n    <tr>\n      <th>1</th>\n      <td>7342</td>\n      <td>2022</td>\n      <td>9</td>\n      <td>1</td>\n      <td>7</td>\n      <td>17</td>\n      <td>0</td>\n      <td>3</td>\n      <td>12</td>\n      <td>0.0</td>\n      <td>20.2</td>\n      <td>0.0</td>\n      <td>0.9</td>\n      <td>94</td>\n      <td>0.0</td>\n    </tr>\n    <tr>\n      <th>2</th>\n      <td>7342</td>\n      <td>2022</td>\n      <td>9</td>\n      <td>1</td>\n      <td>7</td>\n      <td>18</td>\n      <td>0</td>\n      <td>3</td>\n      <td>12</td>\n      <td>0.0</td>\n      <td>20.2</td>\n      <td>0.0</td>\n      <td>0.9</td>\n      <td>94</td>\n      <td>0.0</td>\n    </tr>\n    <tr>\n      <th>3</th>\n      <td>7344</td>\n      <td>2022</td>\n      <td>9</td>\n      <td>1</td>\n      <td>7</td>\n      <td>35</td>\n      <td>0</td>\n      <td>3</td>\n      <td>12</td>\n      <td>0.0</td>\n      <td>20.2</td>\n      <td>0.0</td>\n      <td>0.9</td>\n      <td>94</td>\n      <td>0.0</td>\n    </tr>\n    <tr>\n      <th>4</th>\n      <td>7344</td>\n      <td>2022</td>\n      <td>9</td>\n      <td>1</td>\n      <td>7</td>\n      <td>35</td>\n      <td>0</td>\n      <td>3</td>\n      <td>12</td>\n      <td>0.0</td>\n      <td>20.2</td>\n      <td>0.0</td>\n      <td>0.9</td>\n      <td>94</td>\n      <td>0.0</td>\n    </tr>\n  </tbody>\n</table>\n</div>"
     },
     "execution_count": 113,
     "metadata": {},
     "output_type": "execute_result"
    }
   ],
   "source": [
    "dataset.head()"
   ],
   "metadata": {
    "collapsed": false
   }
  },
  {
   "cell_type": "markdown",
   "source": [
    "## 예측 데이터셋 생성"
   ],
   "metadata": {
    "collapsed": false
   }
  },
  {
   "cell_type": "code",
   "execution_count": 115,
   "outputs": [
    {
     "name": "stdout",
     "output_type": "stream",
     "text": [
      "2022.12.22 16h06m06s Make Predict Data\n"
     ]
    },
    {
     "data": {
      "text/plain": "     trend     연   월   일   시   분  공휴일  요일  주차장  기온(°C)  강수량(mm)  풍속(m/s)  \\\n0     7869  2022  12  21   7   0    0   2   12      -1      1.0      2.3   \n1     7870  2022  12  21   7  10    0   2   12      -1      1.0      2.3   \n2     7871  2022  12  21   7  20    0   2   12      -1      1.0      2.3   \n3     7872  2022  12  21   7  30    0   2   12      -1      1.0      2.3   \n4     7873  2022  12  21   7  40    0   2   12      -1      1.0      2.3   \n..     ...   ...  ..  ..  ..  ..  ...  ..  ...     ...      ...      ...   \n280   7921  2022  12  23   9  20    0   4    0     -11      0.0      1.1   \n281   7922  2022  12  23   9  30    0   4    0     -11      0.0      1.1   \n282   7923  2022  12  23   9  40    0   4    0     -11      0.0      1.1   \n283   7924  2022  12  23   9  50    0   4    0     -11      0.0      1.1   \n284   7925  2022  12  23  10   0    0   4    0     -10      0.0      1.1   \n\n     습도(%)  적설(cm)  \n0       95     0.5  \n1       95     0.5  \n2       95     0.5  \n3       95     0.5  \n4       95     0.5  \n..     ...     ...  \n280     85     0.5  \n281     85     0.5  \n282     85     0.5  \n283     85     0.5  \n284     75     0.5  \n\n[285 rows x 14 columns]",
      "text/html": "<div>\n<style scoped>\n    .dataframe tbody tr th:only-of-type {\n        vertical-align: middle;\n    }\n\n    .dataframe tbody tr th {\n        vertical-align: top;\n    }\n\n    .dataframe thead th {\n        text-align: right;\n    }\n</style>\n<table border=\"1\" class=\"dataframe\">\n  <thead>\n    <tr style=\"text-align: right;\">\n      <th></th>\n      <th>trend</th>\n      <th>연</th>\n      <th>월</th>\n      <th>일</th>\n      <th>시</th>\n      <th>분</th>\n      <th>공휴일</th>\n      <th>요일</th>\n      <th>주차장</th>\n      <th>기온(°C)</th>\n      <th>강수량(mm)</th>\n      <th>풍속(m/s)</th>\n      <th>습도(%)</th>\n      <th>적설(cm)</th>\n    </tr>\n  </thead>\n  <tbody>\n    <tr>\n      <th>0</th>\n      <td>7869</td>\n      <td>2022</td>\n      <td>12</td>\n      <td>21</td>\n      <td>7</td>\n      <td>0</td>\n      <td>0</td>\n      <td>2</td>\n      <td>12</td>\n      <td>-1</td>\n      <td>1.0</td>\n      <td>2.3</td>\n      <td>95</td>\n      <td>0.5</td>\n    </tr>\n    <tr>\n      <th>1</th>\n      <td>7870</td>\n      <td>2022</td>\n      <td>12</td>\n      <td>21</td>\n      <td>7</td>\n      <td>10</td>\n      <td>0</td>\n      <td>2</td>\n      <td>12</td>\n      <td>-1</td>\n      <td>1.0</td>\n      <td>2.3</td>\n      <td>95</td>\n      <td>0.5</td>\n    </tr>\n    <tr>\n      <th>2</th>\n      <td>7871</td>\n      <td>2022</td>\n      <td>12</td>\n      <td>21</td>\n      <td>7</td>\n      <td>20</td>\n      <td>0</td>\n      <td>2</td>\n      <td>12</td>\n      <td>-1</td>\n      <td>1.0</td>\n      <td>2.3</td>\n      <td>95</td>\n      <td>0.5</td>\n    </tr>\n    <tr>\n      <th>3</th>\n      <td>7872</td>\n      <td>2022</td>\n      <td>12</td>\n      <td>21</td>\n      <td>7</td>\n      <td>30</td>\n      <td>0</td>\n      <td>2</td>\n      <td>12</td>\n      <td>-1</td>\n      <td>1.0</td>\n      <td>2.3</td>\n      <td>95</td>\n      <td>0.5</td>\n    </tr>\n    <tr>\n      <th>4</th>\n      <td>7873</td>\n      <td>2022</td>\n      <td>12</td>\n      <td>21</td>\n      <td>7</td>\n      <td>40</td>\n      <td>0</td>\n      <td>2</td>\n      <td>12</td>\n      <td>-1</td>\n      <td>1.0</td>\n      <td>2.3</td>\n      <td>95</td>\n      <td>0.5</td>\n    </tr>\n    <tr>\n      <th>...</th>\n      <td>...</td>\n      <td>...</td>\n      <td>...</td>\n      <td>...</td>\n      <td>...</td>\n      <td>...</td>\n      <td>...</td>\n      <td>...</td>\n      <td>...</td>\n      <td>...</td>\n      <td>...</td>\n      <td>...</td>\n      <td>...</td>\n      <td>...</td>\n    </tr>\n    <tr>\n      <th>280</th>\n      <td>7921</td>\n      <td>2022</td>\n      <td>12</td>\n      <td>23</td>\n      <td>9</td>\n      <td>20</td>\n      <td>0</td>\n      <td>4</td>\n      <td>0</td>\n      <td>-11</td>\n      <td>0.0</td>\n      <td>1.1</td>\n      <td>85</td>\n      <td>0.5</td>\n    </tr>\n    <tr>\n      <th>281</th>\n      <td>7922</td>\n      <td>2022</td>\n      <td>12</td>\n      <td>23</td>\n      <td>9</td>\n      <td>30</td>\n      <td>0</td>\n      <td>4</td>\n      <td>0</td>\n      <td>-11</td>\n      <td>0.0</td>\n      <td>1.1</td>\n      <td>85</td>\n      <td>0.5</td>\n    </tr>\n    <tr>\n      <th>282</th>\n      <td>7923</td>\n      <td>2022</td>\n      <td>12</td>\n      <td>23</td>\n      <td>9</td>\n      <td>40</td>\n      <td>0</td>\n      <td>4</td>\n      <td>0</td>\n      <td>-11</td>\n      <td>0.0</td>\n      <td>1.1</td>\n      <td>85</td>\n      <td>0.5</td>\n    </tr>\n    <tr>\n      <th>283</th>\n      <td>7924</td>\n      <td>2022</td>\n      <td>12</td>\n      <td>23</td>\n      <td>9</td>\n      <td>50</td>\n      <td>0</td>\n      <td>4</td>\n      <td>0</td>\n      <td>-11</td>\n      <td>0.0</td>\n      <td>1.1</td>\n      <td>85</td>\n      <td>0.5</td>\n    </tr>\n    <tr>\n      <th>284</th>\n      <td>7925</td>\n      <td>2022</td>\n      <td>12</td>\n      <td>23</td>\n      <td>10</td>\n      <td>0</td>\n      <td>0</td>\n      <td>4</td>\n      <td>0</td>\n      <td>-10</td>\n      <td>0.0</td>\n      <td>1.1</td>\n      <td>75</td>\n      <td>0.5</td>\n    </tr>\n  </tbody>\n</table>\n<p>285 rows × 14 columns</p>\n</div>"
     },
     "execution_count": 115,
     "metadata": {},
     "output_type": "execute_result"
    }
   ],
   "source": [
    "print(datetime.datetime.now().strftime('%Y.%m.%d %Hh%Mm%Ss'), 'Make Predict Data')\n",
    "\n",
    "year = int(date[:4])\n",
    "month = int(date[4:6])\n",
    "day = int(date[6:])\n",
    "\n",
    "len_df = (finish_pred_time -first_pred_time) * 60/time_delta +1\n",
    "\n",
    "time = datetime.datetime(year, month, day,first_pred_time,0)\n",
    "delta = datetime.timedelta(days=0, minutes=time_delta)\n",
    "day_delta = datetime.timedelta(days=2, hours = finish_pred_time - first_pred_time)\n",
    "time_list = [time]\n",
    "\n",
    "\n",
    "while time < datetime.datetime(year, month, day,first_pred_time,0)+ day_delta:\n",
    "    time = time + delta\n",
    "    time_list.append(time)\n",
    "\n",
    "time_df = pd.DataFrame(time_list)\n",
    "\n",
    "time_df['연'] = time_df[0].dt.year\n",
    "time_df['월'] = time_df[0].dt.month\n",
    "time_df['일'] = time_df[0].dt.day\n",
    "time_df['시'] = time_df[0].dt.hour\n",
    "time_df['분'] = time_df[0].dt.minute\n",
    "time_df2 = time_df[(time_df['시']== finish_pred_time) & (time_df['분']==0)]\n",
    "time_df = time_df[(time_df['시']>= first_pred_time) & (time_df['시']<= finish_pred_time-1)]\n",
    "time_df = pd.concat([time_df,time_df2])\n",
    "time_df = time_df.sort_values(['연','월','일','시','분'])\n",
    "\n",
    "\n",
    "parking_list = dataset['주차장'].unique()\n",
    "\n",
    "predict_dataset=  pd.DataFrame()\n",
    "for parking in parking_list:\n",
    "    predict_df = time_df\n",
    "    predict_df['주차장']=parking\n",
    "    predict_df = predict_df.sort_values(by=['일','시','분'])\n",
    "    predict_df['공휴일'] = predict_df[0].apply(holiday_check)\n",
    "    predict_df['요일'] = predict_df[0].dt.weekday\n",
    "    predict_df['trend'] = range(dataset['trend'].max()+1, dataset['trend'].max() +1+ len(predict_df) )\n",
    "    predict_dataset = pd.concat([predict_dataset,predict_df])\n",
    "predict_dataset.drop(0,axis =1,inplace= True)\n",
    "\n",
    "whether_pre['일시']= pd.to_datetime(whether_pre['일시'])\n",
    "whether_pre.drop('분',axis =1 ,inplace = True)\n",
    "whether_pre['연'] = whether_pre['일시'].dt.year\n",
    "whether_pre['월'] = whether_pre['일시'].dt.month\n",
    "whether_pre['일'] = whether_pre['일시'].dt.day\n",
    "whether_pre['시'] = whether_pre['일시'].dt.hour\n",
    "predict_dataset = pd.merge(predict_dataset,whether_pre , how = 'left', on=['연','월','일','시'] )\n",
    "predict_dataset.drop('일시',axis =1,inplace= True)\n",
    "predict_dataset =  predict_dataset[['trend', '연', '월', '일', '시', '분', '공휴일', '요일', '주차장', '기온(°C)',\n",
    "       '강수량(mm)', '풍속(m/s)', '습도(%)', '적설(cm)']]\n",
    "predict_dataset"
   ],
   "metadata": {
    "collapsed": false
   }
  },
  {
   "cell_type": "markdown",
   "source": [
    "# 날짜가 없을때는??"
   ],
   "metadata": {
    "collapsed": false
   }
  },
  {
   "cell_type": "code",
   "execution_count": 123,
   "outputs": [
    {
     "name": "stdout",
     "output_type": "stream",
     "text": [
      "2022.12.22 16h15m20s Make Predict Data\n",
      "예보데이터가 없는 경우가 195 개 존재합니다\n"
     ]
    }
   ],
   "source": [
    "print(datetime.datetime.now().strftime('%Y.%m.%d %Hh%Mm%Ss'), 'Make Predict Data')\n",
    "\n",
    "year = int(date[:4])\n",
    "month = int(date[4:6])\n",
    "day = int(date[6:])\n",
    "\n",
    "len_df = (finish_pred_time -first_pred_time) * 60/time_delta +1\n",
    "\n",
    "time = datetime.datetime(year, month, day,first_pred_time,0)\n",
    "delta = datetime.timedelta(days=0, minutes=time_delta)\n",
    "day_delta = datetime.timedelta(days=2, hours = finish_pred_time - first_pred_time)\n",
    "time_list = [time]\n",
    "\n",
    "\n",
    "while time < datetime.datetime(year, month, day,first_pred_time,0)+ day_delta:\n",
    "    time = time + delta\n",
    "    time_list.append(time)\n",
    "\n",
    "time_df = pd.DataFrame(time_list)\n",
    "\n",
    "time_df['연'] = time_df[0].dt.year\n",
    "time_df['월'] = time_df[0].dt.month\n",
    "time_df['일'] = time_df[0].dt.day\n",
    "time_df['시'] = time_df[0].dt.hour\n",
    "time_df['분'] = time_df[0].dt.minute\n",
    "time_df2 = time_df[(time_df['시']== finish_pred_time) & (time_df['분']==0)]\n",
    "time_df = time_df[(time_df['시']>= first_pred_time) & (time_df['시']<= finish_pred_time-1)]\n",
    "time_df = pd.concat([time_df,time_df2])\n",
    "time_df = time_df.sort_values(['연','월','일','시','분'])\n",
    "\n",
    "\n",
    "parking_list = dataset['주차장'].unique()\n",
    "\n",
    "predict_dataset=  pd.DataFrame()\n",
    "for parking in parking_list:\n",
    "    predict_df = time_df\n",
    "    predict_df['주차장']=parking\n",
    "    predict_df = predict_df.sort_values(by=['일','시','분'])\n",
    "    predict_df['공휴일'] = predict_df[0].apply(holiday_check)\n",
    "    predict_df['요일'] = predict_df[0].dt.weekday\n",
    "    predict_df['trend'] = range(dataset['trend'].max()+1, dataset['trend'].max() +1+ len(predict_df) )\n",
    "    predict_dataset = pd.concat([predict_dataset,predict_df])\n",
    "predict_dataset.drop(0,axis =1,inplace= True)\n",
    "\n",
    "whether_test = pd.read_csv('whether_test.csv')\n",
    "\n",
    "whether_test['일시']= pd.to_datetime(whether_test['일시'])\n",
    "whether_test.drop('분',axis =1 ,inplace = True)\n",
    "whether_test['연'] = whether_test['일시'].dt.year\n",
    "whether_test['월'] = whether_test['일시'].dt.month\n",
    "whether_test['일'] = whether_test['일시'].dt.day\n",
    "whether_test['시'] = whether_test['일시'].dt.hour\n",
    "predict_dataset = pd.merge(predict_dataset,whether_test , how = 'left', on=['연','월','일','시'] )\n",
    "predict_dataset.drop('일시',axis =1,inplace= True)\n",
    "predict_dataset =  predict_dataset[['trend', '연', '월', '일', '시', '분', '공휴일', '요일', '주차장', '기온(°C)',\n",
    "       '강수량(mm)', '풍속(m/s)', '습도(%)', '적설(cm)']]\n",
    "\n",
    "\n",
    "# nan값이 있는경우  즉, 예보가 업데이트가 되지 않은 경우 작년 날짜를 가져와서 합친다\n",
    "if predict_dataset.isnull().sum().max() >=1:\n",
    "    print(f'예보데이터가 없는 경우가 {predict_dataset.isnull().sum().max()} 개 존재합니다')\n",
    "    null_data = predict_dataset[predict_dataset['기온(°C)'].isnull()].iloc[:,:9]\n",
    "    null_data = pd.merge(null_data,whether_his, how = 'left',on =['월','일','시'])\n",
    "    def yearcompare(df):\n",
    "        if df['연_x'] - df['연_y'] ==1:\n",
    "            return 1\n",
    "        else :\n",
    "            return 0\n",
    "    null_data['compare'] = null_data.apply(yearcompare,axis =1)\n",
    "    null_data =null_data[null_data['compare']==1]\n",
    "    null_data = null_data[['trend', '연_x', '월', '일', '시', '분', '공휴일', '요일', '주차장', '기온(°C)',\n",
    "           '강수량(mm)', '풍속(m/s)', '습도(%)', '적설(cm)']]\n",
    "    null_data.rename(columns={'연_x':'연'},inplace = True)\n",
    "\n",
    "    not_null = predict_dataset[predict_dataset['기온(°C)'].isnull() == False]\n",
    "    predict_dataset = pd.concat([null_data,not_null])"
   ],
   "metadata": {
    "collapsed": false
   }
  },
  {
   "cell_type": "code",
   "execution_count": 233,
   "outputs": [],
   "source": [
    "# whether_his.to_csv('whether_his.csv',index=False, encoding='utf-8-sig')\n",
    "# whether_pre.to_csv('whether_pre.csv',index=False, encoding='utf-8-sig')"
   ],
   "metadata": {
    "collapsed": false
   }
  }
 ],
 "metadata": {
  "kernelspec": {
   "display_name": "Python 3",
   "language": "python",
   "name": "python3"
  },
  "language_info": {
   "codemirror_mode": {
    "name": "ipython",
    "version": 2
   },
   "file_extension": ".py",
   "mimetype": "text/x-python",
   "name": "python",
   "nbconvert_exporter": "python",
   "pygments_lexer": "ipython2",
   "version": "2.7.6"
  }
 },
 "nbformat": 4,
 "nbformat_minor": 0
}

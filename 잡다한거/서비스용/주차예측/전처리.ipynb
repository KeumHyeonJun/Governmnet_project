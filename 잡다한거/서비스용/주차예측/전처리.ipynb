{
 "cells": [
  {
   "cell_type": "code",
   "execution_count": 71,
   "id": "4759773a-2dc0-427c-a6f1-84f701a18c13",
   "metadata": {},
   "outputs": [],
   "source": [
    "import numpy as np\n",
    "import re\n",
    "import pandas as pd\n",
    "import copy\n",
    "from pathlib import Path\n",
    "import requests\n",
    "import json\n",
    "from pathlib import Path\n",
    "path = Path.cwd().parent\n",
    "raw_data = str(path) + '/raw_data/'\n",
    "data = str(path) + '/data/'"
   ]
  },
  {
   "cell_type": "code",
   "execution_count": 72,
   "outputs": [],
   "source": [
    "date = '20221212'\n"
   ],
   "metadata": {
    "collapsed": false
   }
  },
  {
   "cell_type": "markdown",
   "source": [
    "#### 향후 수정사항"
   ],
   "metadata": {
    "collapsed": false
   }
  },
  {
   "cell_type": "code",
   "execution_count": 73,
   "outputs": [],
   "source": [
    "#### 향후 수정사항\n",
    "def slicing(df,i) :\n",
    "    pattern = '.*동'\n",
    "    reg = re.search(pattern, df['장비명'][i])\n",
    "    reg = reg.group()\n",
    "    df['주차장'][i] = reg\n",
    "    return reg\n",
    "\n",
    "\n",
    "def change(x):\n",
    "    if x =='13-1동' or x =='13-2동' or x =='13-3동':\n",
    "        return '13동'\n",
    "    elif x == '14-1동' or x == '14-2동':\n",
    "        return '14동'\n",
    "    else :\n",
    "        return x\n",
    "def parking(x):\n",
    "    if x =='15동':\n",
    "        return 15\n",
    "    elif x == '14동':\n",
    "        return 14\n",
    "    elif x == '13동':\n",
    "        return 13\n",
    "    elif x == '12동':\n",
    "        return 12\n",
    "\n",
    "\n",
    "\n",
    "def confusion(df):\n",
    "    if df['비율'] <= 0.3 :\n",
    "        return 0\n",
    "    elif df['비율'] <= 0.5 :\n",
    "        return 1\n",
    "    elif df['비율'] <= 0.8 :\n",
    "        return 2\n",
    "    else :\n",
    "        return 3"
   ],
   "metadata": {
    "collapsed": false
   }
  },
  {
   "cell_type": "markdown",
   "source": [
    "# 데이터 Load"
   ],
   "metadata": {
    "collapsed": false
   }
  },
  {
   "cell_type": "code",
   "execution_count": 74,
   "outputs": [
    {
     "name": "stderr",
     "output_type": "stream",
     "text": [
      "/var/folders/nd/cl2nzwh13zx7jdly2t5m95340000gn/T/ipykernel_84276/1529426654.py:1: DtypeWarning: Columns (0,1,2,5,6,7,8,9) have mixed types. Specify dtype option on import or set low_memory=False.\n",
      "  darae_in = pd.read_csv(raw_data+ 'VW_InCarinfo (차량 입차 정보 조회).csv')\n"
     ]
    }
   ],
   "source": [
    "darae_in = pd.read_csv(raw_data+ 'VW_InCarinfo (차량 입차 정보 조회).csv')\n",
    "darae_in = darae_in.dropna()\n",
    "darae_out = pd.read_csv(raw_data+'VW_OutCarinfo (차량 출차 정보 조회).csv')\n",
    "whether = pd.read_csv(data +'Whether.csv', encoding='euc-kr', parse_dates=['일시'], index_col='일시')\n"
   ],
   "metadata": {
    "collapsed": false
   }
  },
  {
   "cell_type": "markdown",
   "source": [
    "# 전처리(학습데이터)"
   ],
   "metadata": {
    "collapsed": false
   }
  },
  {
   "cell_type": "code",
   "execution_count": 75,
   "outputs": [
    {
     "name": "stderr",
     "output_type": "stream",
     "text": [
      "/var/folders/nd/cl2nzwh13zx7jdly2t5m95340000gn/T/ipykernel_84276/1382307645.py:6: SettingWithCopyWarning: \n",
      "A value is trying to be set on a copy of a slice from a DataFrame\n",
      "\n",
      "See the caveats in the documentation: https://pandas.pydata.org/pandas-docs/stable/user_guide/indexing.html#returning-a-view-versus-a-copy\n",
      "  df['주차장'][i] = reg\n",
      "/var/folders/nd/cl2nzwh13zx7jdly2t5m95340000gn/T/ipykernel_84276/1382307645.py:6: SettingWithCopyWarning: \n",
      "A value is trying to be set on a copy of a slice from a DataFrame\n",
      "\n",
      "See the caveats in the documentation: https://pandas.pydata.org/pandas-docs/stable/user_guide/indexing.html#returning-a-view-versus-a-copy\n",
      "  df['주차장'][i] = reg\n"
     ]
    }
   ],
   "source": [
    "darae_in[['입차고객구분']]= darae_in[['입차고객구분']].apply(lambda x: x.str.strip(), axis = 1)\n",
    "darae_in[['장비명','입차구분','입차고객구분','출차여부','차량종류']] = darae_in[['장비명','입차구분','입차고객구분','출차여부','차량종류']].apply(lambda x: x.str.strip(), axis = 1)\n",
    "darae_out[['장비명','출차구분','출차고객구분','출차여부','차량종류']]= darae_out[['장비명','출차구분','출차고객구분','출차여부','차량종류']].apply(lambda x: x.str.strip(), axis = 1)\n",
    "\n",
    "darae_in['주차장'] = 0\n",
    "for i in range(len(darae_in)):\n",
    "    slicing(darae_in,i)\n",
    "darae_out['주차장'] = 0\n",
    "\n",
    "for i in range(len(darae_out)):\n",
    "    slicing(darae_out,i)\n",
    "\n",
    "darae_in['주차장'] = darae_in['주차장'].apply(change)\n",
    "darae_out['주차장'] = darae_out['주차장'].apply(change)\n",
    "test_in = copy.deepcopy(darae_in)\n",
    "test_in.columns = ['일자','시각','차량번호','주차일련번호','입출차카드번호','장비명','입출차구분','입출차고객구분','출차여부','차량종류','주차장']\n",
    "test_in['입출차여부'] = '입차'\n",
    "test_out = copy.deepcopy(darae_out)\n",
    "test_out.columns = ['일자','시각','차량번호','주차일련번호','입출차카드번호','장비명','입출차구분','입출차고객구분','출차여부','차량종류','주차장']\n",
    "test_out['입출차여부'] = '출차'\n",
    "\n",
    "\n",
    "df = pd.concat([test_in, test_out]).sort_values(by=['차량번호','일자','시각'])#[['차량번호','입출차여부','일자','시각','입출차구분','출차여부','장비명']]\n",
    "import datetime\n",
    "df['입출차시각'] = df['일자'] + df['시각']\n",
    "df['입출차시각'] = pd.to_datetime(df['입출차시각'], format= '%Y-%m-%d %H:%M:%S', errors='raise')\n",
    "df['시'] = df['입출차시각'].dt.hour\n",
    "df.reset_index(inplace = True)\n",
    "car_arr = np.array(df[['일자','시각','차량번호']])\n",
    "test_idx_list =[]\n",
    "\n",
    "for idx in range(len(car_arr)-1):\n",
    "    if car_arr[idx][0] == car_arr[idx+1][0] and car_arr[idx][1] == car_arr[idx+1][1] and car_arr[idx][2] == car_arr[idx+1][2]:\n",
    "        test_idx_list.append(idx)\n",
    "        test_idx_list.append(idx+1)\n",
    "        #test_idx_list.append(idx+2)\n",
    "test_idx_list = list(set(test_idx_list))\n",
    "test_df = df.loc[test_idx_list]\n",
    "eleminate_index = test_df[test_df['입출차여부']=='출차'].index\n",
    "df2 = df.drop(eleminate_index)\n",
    "df2.drop(['index'],axis = 1 , inplace = True)\n",
    "df2.reset_index(inplace=True)\n",
    "df2.drop(['index'],axis = 1 , inplace = True)\n",
    "\n",
    "\n",
    "\n",
    "car_arr = np.array(df2[['차량번호','입출차여부','시각']])\n",
    "idx_list = []\n",
    "for idx in range(len(car_arr)):\n",
    "    if idx == 0 :\n",
    "        idx_list.append(idx)\n",
    "    else :  # 차량 번호가 같고 상태가 다른 경우(입차 > 출차 or 출차 > 입차)\n",
    "        if (car_arr[idx][0] == car_arr[idx-1][0]) and (car_arr[idx][1]!=car_arr[idx-1][1]):\n",
    "            idx_list.append(idx)\n",
    "\n",
    "            #차량번호가 바뀌는 경우\n",
    "        elif car_arr[idx][0] != car_arr[idx-1][0]:\n",
    "            idx_list.append(idx)\n",
    "\n",
    "\n",
    "process_df = df2.loc[idx_list]\n",
    "process_df = df2.loc[idx_list]\n",
    "process_df['입출차여부'].value_counts()\n",
    "\n",
    "process_df['연'] = process_df['입출차시각'].dt.year\n",
    "process_df['월'] = process_df['입출차시각'].dt.month\n",
    "process_df['일'] = process_df['입출차시각'].dt.day\n",
    "process_df['시'] = process_df['입출차시각'].dt.hour\n",
    "process_df['분'] = process_df['입출차시각'].dt.minute\n",
    "process_df['초'] = process_df['입출차시각'].dt.second\n",
    "process_df = process_df[(process_df['시']>=7) & (process_df['시']<=9)]\n",
    "\n",
    "parking_info = pd.read_excel(data_path + '/raw_data/주차장면수.xlsx')\n",
    "dataset = pd.merge(process_df,parking_info[['장소','합계']], left_on='주차장', right_on='장소')\n",
    "\n",
    "dataset = dataset[['입출차시각','연','월','일','시','분','초','입출차여부','주차장','합계']]\n",
    "dataset = dataset.sort_values(by = ['주차장','입출차시각'])\n",
    "dataset['잔류차량수'] = 0\n",
    "arr = np.array(dataset[['연','월','일','시','분','입출차여부','주차장','잔류차량수']])\n",
    "\n",
    "for idx in range(len(arr)):\n",
    "    if idx == 0 :\n",
    "        if arr[idx][5] == '입차' :\n",
    "            arr[idx][7] = arr[idx][7] +1\n",
    "        else :\n",
    "            arr[idx][7] = arr[idx][7] -1\n",
    "    else :\n",
    "        pre_time = list(arr[idx-1][[0,1,2,6]])\n",
    "        now_time = list(arr[idx][[0,1,2,6]])\n",
    "        status =  arr[idx][5]\n",
    "            # 이전 데이터와 연,월,일 주차장이 같은 경우\n",
    "        if pre_time == now_time :\n",
    "            #print('>')\n",
    "            if status == '입차' :\n",
    "                arr[idx][7] = arr[idx-1][7] +1\n",
    "            else :\n",
    "                arr[idx][7] = arr[idx-1][7] -1\n",
    "\n",
    "            #이전 데이터와 연,월,일 주차장이 다른 경우 > 0부터 시작함\n",
    "        else :\n",
    "            if status == '입차':\n",
    "                arr[idx][7] =1\n",
    "            else :\n",
    "                arr[idx][7] = -1\n",
    "\n",
    "dataset[['연','월','일','시','분','입출차여부','주차장','잔류차량수']] = arr\n",
    "\n",
    "dataset['비율']=dataset['잔류차량수']/dataset['합계']\n",
    "\n",
    "\n",
    "dataset['혼잡도']=dataset.apply(confusion,axis=1)\n",
    "# 날씨데이터 붙이기\n",
    "# whether csv read, 일시를 index로 넣고 datetime 형태로 변환함\n",
    "# 강수량, 적설이 null인 경우 모두 0으로 바꿈\n",
    "whether = whether.fillna(0)\n",
    "# 일시의 freq을 hour로 변경\n",
    "whether.index.freq = 'h'\n",
    "\n",
    "'''\n",
    "데이터가 누락된 시간을 확인하기 위한 부분 (파일로 받은 경우)\n",
    "API로 받는 경우 날짜는 있지만 모든 데이터가 Null값이기 때문에 해당 조건으로 수정해야 할 것으로 보임\n",
    "\n",
    "j = whether.index[0]\n",
    "for i in whether.index:\n",
    "    if i != j + pd.Timedelta(\"1 hour\"):\n",
    "        print(j, i)\n",
    "    j = i\n",
    "'''\n",
    "# 지점코드, 지점명을 없앰\n",
    "whether = whether.iloc[:, [2,3,4,5,6]]\n",
    "\n",
    "\n",
    "whether = whether.reset_index()\n",
    "whether['연'] = whether['일시'].dt.year\n",
    "whether['월'] = whether['일시'].dt.month\n",
    "whether['일'] = whether['일시'].dt.day\n",
    "whether['시'] = whether['일시'].dt.hour\n",
    "dataset = pd.merge(dataset,whether, on =['연','월','일','시'], how= 'left')\n",
    "\n",
    "\n",
    "\n",
    "import holidays\n",
    "kr_holidays = holidays.KR()\n",
    "def holiday_check(x):\n",
    "    if x in kr_holidays:\n",
    "        return 1\n",
    "    else :\n",
    "        return 0\n",
    "\n",
    "\n",
    "dataset['공휴일'] = dataset['입출차시각'].apply(holiday_check)\n",
    "dataset['요일'] = dataset['입출차시각'].dt.weekday\n",
    "dataset = dataset[['입출차시각', '연', '월', '일', '시', '분','초','공휴일','요일','주차장',\n",
    "         '기온(°C)', '강수량(mm)', '풍속(m/s)', '습도(%)', '적설(cm)',\n",
    "         '잔류차량수', '비율','혼잡도']]\n",
    "# 날짜 매칭이 안되는 데이터들 제거\n",
    "dataset = dataset.dropna()\n",
    "dataset['주차장'] = dataset['주차장'].apply(parking)\n",
    "\n",
    "\n",
    "dataset.drop('입출차시각',axis =1,inplace= True)\n",
    "dataset.drop('초',axis =1,inplace= True)\n",
    "#dataset.reset_index(inplace=True)\n",
    "\n"
   ],
   "metadata": {
    "collapsed": false
   }
  },
  {
   "cell_type": "code",
   "execution_count": 76,
   "outputs": [
    {
     "data": {
      "text/plain": "   trend     연  월  일  시   분  공휴일  요일  주차장  기온(°C)  강수량(mm)  풍속(m/s)  습도(%)  \\\n0      0  2022  9  1  7   7    0   3   12    20.2      0.0      0.9   94.0   \n1      0  2022  9  1  7  17    0   3   12    20.2      0.0      0.9   94.0   \n2      0  2022  9  1  7  18    0   3   12    20.2      0.0      0.9   94.0   \n3      1  2022  9  1  7  35    0   3   12    20.2      0.0      0.9   94.0   \n4      1  2022  9  1  7  35    0   3   12    20.2      0.0      0.9   94.0   \n\n   적설(cm) 잔류차량수        비율  혼잡도  \n0     0.0     1  0.012195    0  \n1     0.0     2   0.02439    0  \n2     0.0     3  0.036585    0  \n3     0.0     4   0.04878    0  \n4     0.0     3  0.036585    0  ",
      "text/html": "<div>\n<style scoped>\n    .dataframe tbody tr th:only-of-type {\n        vertical-align: middle;\n    }\n\n    .dataframe tbody tr th {\n        vertical-align: top;\n    }\n\n    .dataframe thead th {\n        text-align: right;\n    }\n</style>\n<table border=\"1\" class=\"dataframe\">\n  <thead>\n    <tr style=\"text-align: right;\">\n      <th></th>\n      <th>trend</th>\n      <th>연</th>\n      <th>월</th>\n      <th>일</th>\n      <th>시</th>\n      <th>분</th>\n      <th>공휴일</th>\n      <th>요일</th>\n      <th>주차장</th>\n      <th>기온(°C)</th>\n      <th>강수량(mm)</th>\n      <th>풍속(m/s)</th>\n      <th>습도(%)</th>\n      <th>적설(cm)</th>\n      <th>잔류차량수</th>\n      <th>비율</th>\n      <th>혼잡도</th>\n    </tr>\n  </thead>\n  <tbody>\n    <tr>\n      <th>0</th>\n      <td>0</td>\n      <td>2022</td>\n      <td>9</td>\n      <td>1</td>\n      <td>7</td>\n      <td>7</td>\n      <td>0</td>\n      <td>3</td>\n      <td>12</td>\n      <td>20.2</td>\n      <td>0.0</td>\n      <td>0.9</td>\n      <td>94.0</td>\n      <td>0.0</td>\n      <td>1</td>\n      <td>0.012195</td>\n      <td>0</td>\n    </tr>\n    <tr>\n      <th>1</th>\n      <td>0</td>\n      <td>2022</td>\n      <td>9</td>\n      <td>1</td>\n      <td>7</td>\n      <td>17</td>\n      <td>0</td>\n      <td>3</td>\n      <td>12</td>\n      <td>20.2</td>\n      <td>0.0</td>\n      <td>0.9</td>\n      <td>94.0</td>\n      <td>0.0</td>\n      <td>2</td>\n      <td>0.02439</td>\n      <td>0</td>\n    </tr>\n    <tr>\n      <th>2</th>\n      <td>0</td>\n      <td>2022</td>\n      <td>9</td>\n      <td>1</td>\n      <td>7</td>\n      <td>18</td>\n      <td>0</td>\n      <td>3</td>\n      <td>12</td>\n      <td>20.2</td>\n      <td>0.0</td>\n      <td>0.9</td>\n      <td>94.0</td>\n      <td>0.0</td>\n      <td>3</td>\n      <td>0.036585</td>\n      <td>0</td>\n    </tr>\n    <tr>\n      <th>3</th>\n      <td>1</td>\n      <td>2022</td>\n      <td>9</td>\n      <td>1</td>\n      <td>7</td>\n      <td>35</td>\n      <td>0</td>\n      <td>3</td>\n      <td>12</td>\n      <td>20.2</td>\n      <td>0.0</td>\n      <td>0.9</td>\n      <td>94.0</td>\n      <td>0.0</td>\n      <td>4</td>\n      <td>0.04878</td>\n      <td>0</td>\n    </tr>\n    <tr>\n      <th>4</th>\n      <td>1</td>\n      <td>2022</td>\n      <td>9</td>\n      <td>1</td>\n      <td>7</td>\n      <td>35</td>\n      <td>0</td>\n      <td>3</td>\n      <td>12</td>\n      <td>20.2</td>\n      <td>0.0</td>\n      <td>0.9</td>\n      <td>94.0</td>\n      <td>0.0</td>\n      <td>3</td>\n      <td>0.036585</td>\n      <td>0</td>\n    </tr>\n  </tbody>\n</table>\n</div>"
     },
     "execution_count": 76,
     "metadata": {},
     "output_type": "execute_result"
    }
   ],
   "source": [
    "#trend 만들기(30분 간격)\n",
    "def tmp(df):\n",
    "    if df['분'] <= 29:\n",
    "        return 0\n",
    "    else :\n",
    "        return 1\n",
    "\n",
    "dataset['tmp'] = dataset.apply(tmp, axis =1)\n",
    "dataframe =dataset.groupby(['연','월','일','시','tmp']).count().reset_index()[['연','월','일','시','tmp']]\n",
    "dataframe['trend'] = range(0, len(dataframe))\n",
    "dataset = pd.merge(dataset,dataframe, on = ['연','월','일','시','tmp'],how = 'left')\n",
    "dataset.drop('tmp',axis =1,inplace= True)\n",
    "\n",
    "dataset.index = dataset['trend']\n",
    "dataset.drop('trend', axis=1, inplace=True)\n",
    "dataset.reset_index(inplace=True)\n",
    "dataset.head()"
   ],
   "metadata": {
    "collapsed": false
   }
  },
  {
   "cell_type": "code",
   "execution_count": 77,
   "outputs": [],
   "source": [
    "dataset.to_csv(data + 'dataset.csv')"
   ],
   "metadata": {
    "collapsed": false
   }
  },
  {
   "cell_type": "markdown",
   "source": [
    "# 전처리(예측데이터)"
   ],
   "metadata": {
    "collapsed": false
   }
  },
  {
   "cell_type": "code",
   "execution_count": 78,
   "outputs": [],
   "source": [
    "weather_url_ = \"http://apis.data.go.kr/1360000/VilageFcstInfoService_2.0/getVilageFcst\"\n",
    "key = \"oySL2JeGKZYtKFd4BsdWRR0lL1SbPvxVz2Gen1LrmPi6aKoPTx5YYujZz8dhRYRqmmLXAza2VNdxJGKE6DfMnw==\"\n",
    "params = {\"servicekey\":key,\"pageNo\":\"1\",\"numOfRows\":\"1000\",\"dataType\":\"JSON\",\"base_date\":date,\"base_time\":\"0500\",\"nx\":\"66\",\"ny\":\"103\"}\n",
    "\n",
    "response = requests.get(weather_url_, params=params)\n",
    "content = json.loads(response.text)\n",
    "\n",
    "df_whether = pd.DataFrame(content[\"response\"][\"body\"][\"items\"][\"item\"])\n",
    "\n",
    "df_tmp = df_whether[df_whether[\"category\"]==\"TMP\"][[\"fcstDate\",\"fcstTime\",\"fcstValue\"]].rename(columns={\"fcstDate\":\"일시\",\"fcstTime\":\"시간\",\"fcstValue\":\"기온(°C)\"})\n",
    "df_pcp = df_whether[df_whether[\"category\"]==\"PCP\"][[\"fcstDate\",\"fcstTime\",\"fcstValue\"]].rename(columns={\"fcstDate\":\"일시\",\"fcstTime\":\"시간\",\"fcstValue\":\"강수량(mm)\"})\n",
    "df_wsd = df_whether[df_whether[\"category\"]==\"WSD\"][[\"fcstDate\",\"fcstTime\",\"fcstValue\"]].rename(columns={\"fcstDate\":\"일시\",\"fcstTime\":\"시간\",\"fcstValue\":\"풍속(m/s)\"})\n",
    "df_reh = df_whether[df_whether[\"category\"]==\"REH\"][[\"fcstDate\",\"fcstTime\",\"fcstValue\"]].rename(columns={\"fcstDate\":\"일시\",\"fcstTime\":\"시간\",\"fcstValue\":\"습도(%)\"})\n",
    "df_sno = df_whether[df_whether[\"category\"]==\"SNO\"][[\"fcstDate\",\"fcstTime\",\"fcstValue\"]].rename(columns={\"fcstDate\":\"일시\",\"fcstTime\":\"시간\",\"fcstValue\":\"적설(cm)\"})\n",
    "\n",
    "df_pcp.loc[df_pcp[\"강수량(mm)\"]==\"강수없음\",\"강수량(mm)\"] = 0\n",
    "df_sno.loc[df_sno[\"적설(cm)\"]==\"적설없음\",\"적설(cm)\"] = 0\n",
    "\n",
    "final_df = df_tmp.copy()\n",
    "final_df = pd.merge(final_df,df_pcp,on=[\"일시\",\"시간\"],how=\"left\")\n",
    "final_df = pd.merge(final_df,df_wsd,on=[\"일시\",\"시간\"],how=\"left\")\n",
    "final_df = pd.merge(final_df,df_reh,on=[\"일시\",\"시간\"],how=\"left\")\n",
    "final_df = pd.merge(final_df,df_sno,on=[\"일시\",\"시간\"],how=\"left\")\n",
    "\n",
    "for ind in range(len(final_df)):\n",
    "    final_df.loc[ind, \"일시\"] = datetime.datetime.strptime(final_df.loc[ind,\"일시\"][:4]+\"-\"+final_df.loc[ind,\"일시\"][4:6]+\"-\"+final_df.loc[ind,\"일시\"][6:]+\" \"+final_df.loc[ind,\"시간\"][:2],\"%Y-%m-%d %H\")\n",
    "\n",
    "whether = final_df.drop(\"시간\",axis=1)\n",
    "\n",
    "whether['일시']= pd.to_datetime(whether['일시'])\n",
    "whether['연'] = whether['일시'].dt.year\n",
    "whether['월'] = whether['일시'].dt.month\n",
    "whether['일'] = whether['일시'].dt.day\n",
    "whether['시'] = whether['일시'].dt.hour\n",
    "whether=whether[(whether['시']>=7) & (whether['시']<=10)]"
   ],
   "metadata": {
    "collapsed": false
   }
  },
  {
   "cell_type": "code",
   "execution_count": 79,
   "outputs": [
    {
     "data": {
      "text/plain": "    trend     연   월   일   시   분  공휴일  요일  주차장 기온(°C) 강수량(mm) 풍속(m/s) 습도(%)  \\\n1     173  2022  12  12   7   0    0   0   12     -4       0     1.4    85   \n1     174  2022  12  12   7  30    0   0   12     -4       0     1.4    85   \n2     175  2022  12  12   8   0    0   0   12     -3       0     0.9    80   \n2     176  2022  12  12   8  30    0   0   12     -3       0     0.9    80   \n3     177  2022  12  12   9   0    0   0   12     -2       0     0.8    70   \n..    ...   ...  ..  ..  ..  ..  ...  ..  ...    ...     ...     ...   ...   \n50    192  2022  12  14   8  30    0   2   15     -9       0     0.9    65   \n51    193  2022  12  14   9   0    0   2   15     -8       0       1    65   \n51    194  2022  12  14   9  30    0   2   15     -8       0       1    65   \n52    195  2022  12  14  10   0    0   2   15     -7       0     1.3    60   \n52    196  2022  12  14  10  30    0   2   15     -7       0     1.3    60   \n\n   적설(cm)  \n1       0  \n1       0  \n2       0  \n2       0  \n3       0  \n..    ...  \n50      0  \n51      0  \n51      0  \n52      0  \n52      0  \n\n[96 rows x 14 columns]",
      "text/html": "<div>\n<style scoped>\n    .dataframe tbody tr th:only-of-type {\n        vertical-align: middle;\n    }\n\n    .dataframe tbody tr th {\n        vertical-align: top;\n    }\n\n    .dataframe thead th {\n        text-align: right;\n    }\n</style>\n<table border=\"1\" class=\"dataframe\">\n  <thead>\n    <tr style=\"text-align: right;\">\n      <th></th>\n      <th>trend</th>\n      <th>연</th>\n      <th>월</th>\n      <th>일</th>\n      <th>시</th>\n      <th>분</th>\n      <th>공휴일</th>\n      <th>요일</th>\n      <th>주차장</th>\n      <th>기온(°C)</th>\n      <th>강수량(mm)</th>\n      <th>풍속(m/s)</th>\n      <th>습도(%)</th>\n      <th>적설(cm)</th>\n    </tr>\n  </thead>\n  <tbody>\n    <tr>\n      <th>1</th>\n      <td>173</td>\n      <td>2022</td>\n      <td>12</td>\n      <td>12</td>\n      <td>7</td>\n      <td>0</td>\n      <td>0</td>\n      <td>0</td>\n      <td>12</td>\n      <td>-4</td>\n      <td>0</td>\n      <td>1.4</td>\n      <td>85</td>\n      <td>0</td>\n    </tr>\n    <tr>\n      <th>1</th>\n      <td>174</td>\n      <td>2022</td>\n      <td>12</td>\n      <td>12</td>\n      <td>7</td>\n      <td>30</td>\n      <td>0</td>\n      <td>0</td>\n      <td>12</td>\n      <td>-4</td>\n      <td>0</td>\n      <td>1.4</td>\n      <td>85</td>\n      <td>0</td>\n    </tr>\n    <tr>\n      <th>2</th>\n      <td>175</td>\n      <td>2022</td>\n      <td>12</td>\n      <td>12</td>\n      <td>8</td>\n      <td>0</td>\n      <td>0</td>\n      <td>0</td>\n      <td>12</td>\n      <td>-3</td>\n      <td>0</td>\n      <td>0.9</td>\n      <td>80</td>\n      <td>0</td>\n    </tr>\n    <tr>\n      <th>2</th>\n      <td>176</td>\n      <td>2022</td>\n      <td>12</td>\n      <td>12</td>\n      <td>8</td>\n      <td>30</td>\n      <td>0</td>\n      <td>0</td>\n      <td>12</td>\n      <td>-3</td>\n      <td>0</td>\n      <td>0.9</td>\n      <td>80</td>\n      <td>0</td>\n    </tr>\n    <tr>\n      <th>3</th>\n      <td>177</td>\n      <td>2022</td>\n      <td>12</td>\n      <td>12</td>\n      <td>9</td>\n      <td>0</td>\n      <td>0</td>\n      <td>0</td>\n      <td>12</td>\n      <td>-2</td>\n      <td>0</td>\n      <td>0.8</td>\n      <td>70</td>\n      <td>0</td>\n    </tr>\n    <tr>\n      <th>...</th>\n      <td>...</td>\n      <td>...</td>\n      <td>...</td>\n      <td>...</td>\n      <td>...</td>\n      <td>...</td>\n      <td>...</td>\n      <td>...</td>\n      <td>...</td>\n      <td>...</td>\n      <td>...</td>\n      <td>...</td>\n      <td>...</td>\n      <td>...</td>\n    </tr>\n    <tr>\n      <th>50</th>\n      <td>192</td>\n      <td>2022</td>\n      <td>12</td>\n      <td>14</td>\n      <td>8</td>\n      <td>30</td>\n      <td>0</td>\n      <td>2</td>\n      <td>15</td>\n      <td>-9</td>\n      <td>0</td>\n      <td>0.9</td>\n      <td>65</td>\n      <td>0</td>\n    </tr>\n    <tr>\n      <th>51</th>\n      <td>193</td>\n      <td>2022</td>\n      <td>12</td>\n      <td>14</td>\n      <td>9</td>\n      <td>0</td>\n      <td>0</td>\n      <td>2</td>\n      <td>15</td>\n      <td>-8</td>\n      <td>0</td>\n      <td>1</td>\n      <td>65</td>\n      <td>0</td>\n    </tr>\n    <tr>\n      <th>51</th>\n      <td>194</td>\n      <td>2022</td>\n      <td>12</td>\n      <td>14</td>\n      <td>9</td>\n      <td>30</td>\n      <td>0</td>\n      <td>2</td>\n      <td>15</td>\n      <td>-8</td>\n      <td>0</td>\n      <td>1</td>\n      <td>65</td>\n      <td>0</td>\n    </tr>\n    <tr>\n      <th>52</th>\n      <td>195</td>\n      <td>2022</td>\n      <td>12</td>\n      <td>14</td>\n      <td>10</td>\n      <td>0</td>\n      <td>0</td>\n      <td>2</td>\n      <td>15</td>\n      <td>-7</td>\n      <td>0</td>\n      <td>1.3</td>\n      <td>60</td>\n      <td>0</td>\n    </tr>\n    <tr>\n      <th>52</th>\n      <td>196</td>\n      <td>2022</td>\n      <td>12</td>\n      <td>14</td>\n      <td>10</td>\n      <td>30</td>\n      <td>0</td>\n      <td>2</td>\n      <td>15</td>\n      <td>-7</td>\n      <td>0</td>\n      <td>1.3</td>\n      <td>60</td>\n      <td>0</td>\n    </tr>\n  </tbody>\n</table>\n<p>96 rows × 14 columns</p>\n</div>"
     },
     "execution_count": 79,
     "metadata": {},
     "output_type": "execute_result"
    }
   ],
   "source": [
    "whether['분'] = 0\n",
    "whether2 = copy.deepcopy(whether)\n",
    "whether2['분'] = 30\n",
    "parking_list = dataset['주차장'].unique()\n",
    "\n",
    "predict_dataset=  pd.DataFrame()\n",
    "for parking in parking_list:\n",
    "    predict_df = pd.concat([whether,whether2])\n",
    "    predict_df['주차장']=parking\n",
    "    predict_df = predict_df.sort_values(by=['일','시','분'])\n",
    "    predict_df['공휴일'] = predict_df['일시'].apply(holiday_check)\n",
    "    predict_df['요일'] = predict_df['일시'].dt.weekday\n",
    "    predict_df['trend'] = range(dataset['trend'].max()+1, dataset['trend'].max() +1+ len(predict_df) )\n",
    "    predict_dataset = pd.concat([predict_dataset,predict_df])\n",
    "predict_dataset.drop('일시',axis =1,inplace= True)\n",
    "predict_dataset = predict_dataset[dataset.iloc[:,:14].columns]\n",
    "predict_dataset"
   ],
   "metadata": {
    "collapsed": false
   }
  },
  {
   "cell_type": "code",
   "execution_count": 80,
   "outputs": [],
   "source": [
    "predict_dataset.to_csv(data +'predict_dataset.csv' )"
   ],
   "metadata": {
    "collapsed": false
   }
  },
  {
   "cell_type": "code",
   "execution_count": 80,
   "outputs": [],
   "source": [],
   "metadata": {
    "collapsed": false
   }
  },
  {
   "cell_type": "code",
   "execution_count": 80,
   "outputs": [],
   "source": [],
   "metadata": {
    "collapsed": false
   }
  },
  {
   "cell_type": "code",
   "execution_count": 80,
   "outputs": [],
   "source": [],
   "metadata": {
    "collapsed": false
   }
  },
  {
   "cell_type": "code",
   "execution_count": 80,
   "outputs": [],
   "source": [],
   "metadata": {
    "collapsed": false
   }
  }
 ],
 "metadata": {
  "kernelspec": {
   "display_name": "Python 3.8.8 ('base')",
   "language": "python",
   "name": "python3"
  },
  "language_info": {
   "codemirror_mode": {
    "name": "ipython",
    "version": 3
   },
   "file_extension": ".py",
   "mimetype": "text/x-python",
   "name": "python",
   "nbconvert_exporter": "python",
   "pygments_lexer": "ipython3",
   "version": "3.8.8"
  },
  "vscode": {
   "interpreter": {
    "hash": "86aa80caba646de5c5fbfa482f3005816722fa12a16cb3031e5ebf46eef177a2"
   }
  }
 },
 "nbformat": 4,
 "nbformat_minor": 5
}

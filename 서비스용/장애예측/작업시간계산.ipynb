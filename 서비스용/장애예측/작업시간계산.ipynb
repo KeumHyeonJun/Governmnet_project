{
 "cells": [
  {
   "cell_type": "code",
   "execution_count": 23,
   "metadata": {},
   "outputs": [],
   "source": [
    "import pandas as pd\n",
    "import numpy as np\n",
    "import datetime\n",
    "from pathlib import Path\n"
   ]
  },
  {
   "cell_type": "markdown",
   "metadata": {},
   "source": [
    "# 데이터 Load"
   ]
  },
  {
   "cell_type": "code",
   "execution_count": 24,
   "metadata": {},
   "outputs": [],
   "source": [
    "# 데이터 경로\n",
    "#pd.options.display.float_format = '{:.3f}'.format\n",
    "\n",
    "path = Path.cwd().parent\n",
    "raw_data = str(path) + '/raw_data/'\n",
    "data = str(path) + '/data/'"
   ]
  },
  {
   "cell_type": "code",
   "execution_count": 53,
   "metadata": {},
   "outputs": [],
   "source": [
    "FMSA10_작업지시_결과 = pd.read_excel(raw_data+'FMSA10_작업지시_결과.xlsx')\n",
    "\n",
    "FMSA11_작업장비이력 = pd.read_excel(raw_data + 'FMSA11_작업장비이력.xlsx')\n",
    "\n",
    "FMSB07_자재출고 = pd.read_excel(raw_data + 'FMSB07_자재출고.xlsx')\n",
    "\n",
    "FMSB03_자재마스터 = pd.read_excel(raw_data + 'FMSB03_자재마스터.xlsx')\n",
    "\n",
    "FMSX04_장비계층 = pd.read_excel(raw_data+'FMSX04_장비계층.xlsx')\n",
    "\n",
    "FMSX05_장비마스터 = pd.read_csv(raw_data+'FMSX05_장비마스터_ver2.csv',dtype={'class_cd':str})\n",
    "\n",
    "\n",
    "기계 = pd.read_excel(raw_data + '수행자재_완료.xlsx',sheet_name='기계')\n",
    "통신 = pd.read_excel(raw_data +'수행자재_완료.xlsx',sheet_name='통신')\n",
    "방재 = pd.read_excel(raw_data +'수행자재_완료.xlsx',sheet_name='방재')\n",
    "승강기 = pd.read_excel(raw_data +'수행자재_완료.xlsx',sheet_name='승강기')\n",
    "전기 = pd.read_excel(raw_data +'수행자재_완료.xlsx',sheet_name='전기')\n",
    "\n",
    "\n",
    "\n",
    "FMSX05_장비마스터.rename(columns={'class_nm_4':'jangbi_class_nm_4'},inplace = True)\n",
    "FMSX05_장비마스터.rename(columns={'class_nm_3':'jangbi_class_nm_3'},inplace = True)\n",
    "FMSX05_장비마스터.rename(columns={'class_nm_2':'jangbi_class_nm_2'},inplace = True)\n",
    "FMSX05_장비마스터.rename(columns={'class_nm_1':'jangbi_class_nm_1'},inplace = True)\n",
    "\n",
    "fmsa10 =FMSA10_작업지시_결과[['job_cd','job_nm','job_jisi_dt','job_enddt','job_shm','job_ehm']]\n",
    "fmsb03 = FMSB03_자재마스터[['mat_cd','mat_nm']]\n",
    "fmsx05 = FMSX05_장비마스터[['bd_cd','fl_cd','fac_cd','fac_nm','jangbi_class_nm_1','jangbi_class_nm_2','jangbi_class_nm_3','jangbi_class_nm_4','fac_instdt']]\n",
    "\n",
    "jangbi = pd.merge(FMSA11_작업장비이력, fmsx05, how='inner', on='fac_cd')\n",
    "\n",
    "jangbi_broken = pd.merge(fmsa10,jangbi, on='job_cd',how = 'inner')\n",
    "\n"
   ]
  },
  {
   "cell_type": "code",
   "execution_count": 54,
   "outputs": [
    {
     "data": {
      "text/plain": "            job_cd                                  job_nm job_jisi_dt  \\\n0     211001-00047               2동 1구역 430호 남자화장실 비데 전열불량  2021-10-01   \n1     211001-00059            4동 지하 1층 전기원휴게실내 샤워장 전등점등불량.  2021-10-01   \n2     211001-00037               4동 608호 정책조정기획관실 전등 점등 불량  2021-10-01   \n3     211001-00081        1동 1구역 2층 복도내 거실통로유도등 점등불량 교체 작업  2021-10-01   \n4     211001-00070             2-1동 옥상층 66번 CCTV PTZ 동작 불량  2021-10-01   \n...            ...                                     ...         ...   \n6826  221011-00011      13동 5-7 여자화장실 오른쪽 첫번째 대변기 밑 밸브쪽 누수  2022-10-11   \n6827  221011-00066     13-2동 1층 방재실 R형 수신기 예비전원 불량 교체 (2개)  2022-10-11   \n6828  221011-00040  꿈샘어린이집 1층 기계실 소화수조A 레벨스위치 1개 작동불량 교체작업  2022-10-11   \n6829  221011-00044                  16동 1층 동쪽 여자화장실 대변기 막힘  2022-10-11   \n6830  221011-00019              17-2동 7층 남자 화장실 대변기 물 계속흐름  2022-10-11   \n\n       job_enddt                job_shm                 job_ehm comp_cd  \\\n0     2021-10-01  2021-10-01 오후 2:30:00   2021-10-01 오후 2:40:00    SEJO   \n1     2021-10-01  2021-10-01 오전 9:00:00   2021-10-01 오전 9:30:00    SEJO   \n2     2021-10-01  2021-10-01 오후 2:25:00   2021-10-01 오후 3:25:00    SEJO   \n3     2021-10-01  2021-10-01 오후 1:30:00   2021-10-01 오후 1:45:00    SEJO   \n4     2021-10-01  2021-10-01 오전 9:00:00   2021-10-01 오후 5:31:00    SEJO   \n...          ...                    ...                     ...     ...   \n6826  2022-10-11  2022-10-11 오전 9:40:00  2022-10-11 오전 10:10:00    SEJO   \n6827  2022-10-11  2022-10-11 오후 2:30:00   2022-10-11 오후 3:10:00    SEJO   \n6828  2022-10-11  2022-10-11 오후 1:30:00   2022-10-11 오후 2:30:00    SEJO   \n6829  2022-10-11  2022-10-11 오전 8:32:00   2022-10-11 오전 9:30:00    SEJO   \n6830  2022-10-11  2022-10-11 오전 8:57:00   2022-10-11 오전 9:20:00    SEJO   \n\n            fac_cd  job_cont             input_sysdt  ...  chg_emp_no  \\\n0     300201010507       NaN   2021-10-01 오후 3:24:08  ...         NaN   \n1     300401010012       NaN  2021-11-24 오전 11:19:20  ...         NaN   \n2     300401010018       NaN   2021-10-01 오후 3:58:15  ...         NaN   \n3     400301030010       NaN  2021-10-21 오전 10:33:08  ...         NaN   \n4     600402030175       NaN   2021-10-01 오후 5:39:22  ...         NaN   \n...            ...       ...                     ...  ...         ...   \n6826  200201030060       NaN  2022-10-11 오전 10:38:16  ...         NaN   \n6827  400201010122       NaN   2022-10-11 오후 4:09:26  ...         NaN   \n6828  400401010018       NaN   2022-10-11 오후 2:32:34  ...         NaN   \n6829  200201010315       NaN   2022-10-11 오후 2:59:13  ...         NaN   \n6830  200201010542       NaN   2022-10-11 오후 1:42:33  ...         NaN   \n\n     input_scr_nm      bd_cd fl_cd           fac_nm jangbi_class_nm_1  \\\n0         JOB_A11   SJ-02-01  F004        LN-4E1(E)                전기   \n1         JOB_A11      SJ-04  B001     4동 지하1층 조명기구                전기   \n2         JOB_A11      SJ-04  F006       4동 6층 조명기구                전기   \n3         JOB_A11   SJ-01-01  F002     1동  거실통로 유도등                방재   \n4         JOB_A11   SJ-02-01  P006      2동 CCTV #66                통신   \n...           ...        ...   ...              ...               ...   \n6826      JOB_A11   SJ-13-01  F005        물내림비데 #30                기계   \n6827      JOB_A11   SJ-13-02  F001    13동 GR형복합식수신기                방재   \n6828      JOB_A11  SJ-KKA-01  F001          별동 소화수조                방재   \n6829      JOB_A11      SJ-16  F001  1F여2동쪽 공용대변기(5)                기계   \n6830      JOB_A11   SJ-17-02  F007       7F남2대변기(3)                기계   \n\n     jangbi_class_nm_2 jangbi_class_nm_3 jangbi_class_nm_4  fac_instdt  \n0               전력공급설비               분전반              EPS실  2012-09-01  \n1               전력부하설비                조명         옥내 LED 조명         NaN  \n2               전력부하설비                조명         옥내 LED 조명         NaN  \n3                 피난설비               유도등          거실통로 유도등  2012-05-01  \n4                 방범설비             방범시스템          CCTV 카메라  2019-10-25  \n...                ...               ...               ...         ...  \n6826          위생, 탱크설비              위생설비                비데  2012-03-01  \n6827              경보설비          자동화재탐지설비               수신기  2013-11-01  \n6828            소화용수설비              소화수조                수조         NaN  \n6829          위생, 탱크설비              위생설비               대변기  2014-06-01  \n6830          위생, 탱크설비              위생설비               대변기  2014-06-01  \n\n[6831 rows x 22 columns]",
      "text/html": "<div>\n<style scoped>\n    .dataframe tbody tr th:only-of-type {\n        vertical-align: middle;\n    }\n\n    .dataframe tbody tr th {\n        vertical-align: top;\n    }\n\n    .dataframe thead th {\n        text-align: right;\n    }\n</style>\n<table border=\"1\" class=\"dataframe\">\n  <thead>\n    <tr style=\"text-align: right;\">\n      <th></th>\n      <th>job_cd</th>\n      <th>job_nm</th>\n      <th>job_jisi_dt</th>\n      <th>job_enddt</th>\n      <th>job_shm</th>\n      <th>job_ehm</th>\n      <th>comp_cd</th>\n      <th>fac_cd</th>\n      <th>job_cont</th>\n      <th>input_sysdt</th>\n      <th>...</th>\n      <th>chg_emp_no</th>\n      <th>input_scr_nm</th>\n      <th>bd_cd</th>\n      <th>fl_cd</th>\n      <th>fac_nm</th>\n      <th>jangbi_class_nm_1</th>\n      <th>jangbi_class_nm_2</th>\n      <th>jangbi_class_nm_3</th>\n      <th>jangbi_class_nm_4</th>\n      <th>fac_instdt</th>\n    </tr>\n  </thead>\n  <tbody>\n    <tr>\n      <th>0</th>\n      <td>211001-00047</td>\n      <td>2동 1구역 430호 남자화장실 비데 전열불량</td>\n      <td>2021-10-01</td>\n      <td>2021-10-01</td>\n      <td>2021-10-01 오후 2:30:00</td>\n      <td>2021-10-01 오후 2:40:00</td>\n      <td>SEJO</td>\n      <td>300201010507</td>\n      <td>NaN</td>\n      <td>2021-10-01 오후 3:24:08</td>\n      <td>...</td>\n      <td>NaN</td>\n      <td>JOB_A11</td>\n      <td>SJ-02-01</td>\n      <td>F004</td>\n      <td>LN-4E1(E)</td>\n      <td>전기</td>\n      <td>전력공급설비</td>\n      <td>분전반</td>\n      <td>EPS실</td>\n      <td>2012-09-01</td>\n    </tr>\n    <tr>\n      <th>1</th>\n      <td>211001-00059</td>\n      <td>4동 지하 1층 전기원휴게실내 샤워장 전등점등불량.</td>\n      <td>2021-10-01</td>\n      <td>2021-10-01</td>\n      <td>2021-10-01 오전 9:00:00</td>\n      <td>2021-10-01 오전 9:30:00</td>\n      <td>SEJO</td>\n      <td>300401010012</td>\n      <td>NaN</td>\n      <td>2021-11-24 오전 11:19:20</td>\n      <td>...</td>\n      <td>NaN</td>\n      <td>JOB_A11</td>\n      <td>SJ-04</td>\n      <td>B001</td>\n      <td>4동 지하1층 조명기구</td>\n      <td>전기</td>\n      <td>전력부하설비</td>\n      <td>조명</td>\n      <td>옥내 LED 조명</td>\n      <td>NaN</td>\n    </tr>\n    <tr>\n      <th>2</th>\n      <td>211001-00037</td>\n      <td>4동 608호 정책조정기획관실 전등 점등 불량</td>\n      <td>2021-10-01</td>\n      <td>2021-10-01</td>\n      <td>2021-10-01 오후 2:25:00</td>\n      <td>2021-10-01 오후 3:25:00</td>\n      <td>SEJO</td>\n      <td>300401010018</td>\n      <td>NaN</td>\n      <td>2021-10-01 오후 3:58:15</td>\n      <td>...</td>\n      <td>NaN</td>\n      <td>JOB_A11</td>\n      <td>SJ-04</td>\n      <td>F006</td>\n      <td>4동 6층 조명기구</td>\n      <td>전기</td>\n      <td>전력부하설비</td>\n      <td>조명</td>\n      <td>옥내 LED 조명</td>\n      <td>NaN</td>\n    </tr>\n    <tr>\n      <th>3</th>\n      <td>211001-00081</td>\n      <td>1동 1구역 2층 복도내 거실통로유도등 점등불량 교체 작업</td>\n      <td>2021-10-01</td>\n      <td>2021-10-01</td>\n      <td>2021-10-01 오후 1:30:00</td>\n      <td>2021-10-01 오후 1:45:00</td>\n      <td>SEJO</td>\n      <td>400301030010</td>\n      <td>NaN</td>\n      <td>2021-10-21 오전 10:33:08</td>\n      <td>...</td>\n      <td>NaN</td>\n      <td>JOB_A11</td>\n      <td>SJ-01-01</td>\n      <td>F002</td>\n      <td>1동  거실통로 유도등</td>\n      <td>방재</td>\n      <td>피난설비</td>\n      <td>유도등</td>\n      <td>거실통로 유도등</td>\n      <td>2012-05-01</td>\n    </tr>\n    <tr>\n      <th>4</th>\n      <td>211001-00070</td>\n      <td>2-1동 옥상층 66번 CCTV PTZ 동작 불량</td>\n      <td>2021-10-01</td>\n      <td>2021-10-01</td>\n      <td>2021-10-01 오전 9:00:00</td>\n      <td>2021-10-01 오후 5:31:00</td>\n      <td>SEJO</td>\n      <td>600402030175</td>\n      <td>NaN</td>\n      <td>2021-10-01 오후 5:39:22</td>\n      <td>...</td>\n      <td>NaN</td>\n      <td>JOB_A11</td>\n      <td>SJ-02-01</td>\n      <td>P006</td>\n      <td>2동 CCTV #66</td>\n      <td>통신</td>\n      <td>방범설비</td>\n      <td>방범시스템</td>\n      <td>CCTV 카메라</td>\n      <td>2019-10-25</td>\n    </tr>\n    <tr>\n      <th>...</th>\n      <td>...</td>\n      <td>...</td>\n      <td>...</td>\n      <td>...</td>\n      <td>...</td>\n      <td>...</td>\n      <td>...</td>\n      <td>...</td>\n      <td>...</td>\n      <td>...</td>\n      <td>...</td>\n      <td>...</td>\n      <td>...</td>\n      <td>...</td>\n      <td>...</td>\n      <td>...</td>\n      <td>...</td>\n      <td>...</td>\n      <td>...</td>\n      <td>...</td>\n      <td>...</td>\n    </tr>\n    <tr>\n      <th>6826</th>\n      <td>221011-00011</td>\n      <td>13동 5-7 여자화장실 오른쪽 첫번째 대변기 밑 밸브쪽 누수</td>\n      <td>2022-10-11</td>\n      <td>2022-10-11</td>\n      <td>2022-10-11 오전 9:40:00</td>\n      <td>2022-10-11 오전 10:10:00</td>\n      <td>SEJO</td>\n      <td>200201030060</td>\n      <td>NaN</td>\n      <td>2022-10-11 오전 10:38:16</td>\n      <td>...</td>\n      <td>NaN</td>\n      <td>JOB_A11</td>\n      <td>SJ-13-01</td>\n      <td>F005</td>\n      <td>물내림비데 #30</td>\n      <td>기계</td>\n      <td>위생, 탱크설비</td>\n      <td>위생설비</td>\n      <td>비데</td>\n      <td>2012-03-01</td>\n    </tr>\n    <tr>\n      <th>6827</th>\n      <td>221011-00066</td>\n      <td>13-2동 1층 방재실 R형 수신기 예비전원 불량 교체 (2개)</td>\n      <td>2022-10-11</td>\n      <td>2022-10-11</td>\n      <td>2022-10-11 오후 2:30:00</td>\n      <td>2022-10-11 오후 3:10:00</td>\n      <td>SEJO</td>\n      <td>400201010122</td>\n      <td>NaN</td>\n      <td>2022-10-11 오후 4:09:26</td>\n      <td>...</td>\n      <td>NaN</td>\n      <td>JOB_A11</td>\n      <td>SJ-13-02</td>\n      <td>F001</td>\n      <td>13동 GR형복합식수신기</td>\n      <td>방재</td>\n      <td>경보설비</td>\n      <td>자동화재탐지설비</td>\n      <td>수신기</td>\n      <td>2013-11-01</td>\n    </tr>\n    <tr>\n      <th>6828</th>\n      <td>221011-00040</td>\n      <td>꿈샘어린이집 1층 기계실 소화수조A 레벨스위치 1개 작동불량 교체작업</td>\n      <td>2022-10-11</td>\n      <td>2022-10-11</td>\n      <td>2022-10-11 오후 1:30:00</td>\n      <td>2022-10-11 오후 2:30:00</td>\n      <td>SEJO</td>\n      <td>400401010018</td>\n      <td>NaN</td>\n      <td>2022-10-11 오후 2:32:34</td>\n      <td>...</td>\n      <td>NaN</td>\n      <td>JOB_A11</td>\n      <td>SJ-KKA-01</td>\n      <td>F001</td>\n      <td>별동 소화수조</td>\n      <td>방재</td>\n      <td>소화용수설비</td>\n      <td>소화수조</td>\n      <td>수조</td>\n      <td>NaN</td>\n    </tr>\n    <tr>\n      <th>6829</th>\n      <td>221011-00044</td>\n      <td>16동 1층 동쪽 여자화장실 대변기 막힘</td>\n      <td>2022-10-11</td>\n      <td>2022-10-11</td>\n      <td>2022-10-11 오전 8:32:00</td>\n      <td>2022-10-11 오전 9:30:00</td>\n      <td>SEJO</td>\n      <td>200201010315</td>\n      <td>NaN</td>\n      <td>2022-10-11 오후 2:59:13</td>\n      <td>...</td>\n      <td>NaN</td>\n      <td>JOB_A11</td>\n      <td>SJ-16</td>\n      <td>F001</td>\n      <td>1F여2동쪽 공용대변기(5)</td>\n      <td>기계</td>\n      <td>위생, 탱크설비</td>\n      <td>위생설비</td>\n      <td>대변기</td>\n      <td>2014-06-01</td>\n    </tr>\n    <tr>\n      <th>6830</th>\n      <td>221011-00019</td>\n      <td>17-2동 7층 남자 화장실 대변기 물 계속흐름</td>\n      <td>2022-10-11</td>\n      <td>2022-10-11</td>\n      <td>2022-10-11 오전 8:57:00</td>\n      <td>2022-10-11 오전 9:20:00</td>\n      <td>SEJO</td>\n      <td>200201010542</td>\n      <td>NaN</td>\n      <td>2022-10-11 오후 1:42:33</td>\n      <td>...</td>\n      <td>NaN</td>\n      <td>JOB_A11</td>\n      <td>SJ-17-02</td>\n      <td>F007</td>\n      <td>7F남2대변기(3)</td>\n      <td>기계</td>\n      <td>위생, 탱크설비</td>\n      <td>위생설비</td>\n      <td>대변기</td>\n      <td>2014-06-01</td>\n    </tr>\n  </tbody>\n</table>\n<p>6831 rows × 22 columns</p>\n</div>"
     },
     "execution_count": 54,
     "metadata": {},
     "output_type": "execute_result"
    }
   ],
   "source": [
    "jangbi_broken"
   ],
   "metadata": {
    "collapsed": false
   }
  },
  {
   "cell_type": "markdown",
   "metadata": {},
   "source": [
    "# 작업 소모 시간"
   ]
  },
  {
   "cell_type": "code",
   "execution_count": 55,
   "outputs": [],
   "source": [
    "# 오전, 오후 삭제하고 시간에 반영\n",
    "jangbi_broken = jangbi_broken[(jangbi_broken['job_shm'].str.contains('오전')) | (jangbi_broken['job_shm'].str.contains('오후'))]\n",
    "\n",
    "def time_trans(x):\n",
    "    if \"오후\" in x:\n",
    "        x = datetime.datetime.strptime(x[:10] + x[13:], \"%Y-%m-%d %H:%M:%S\") + datetime.timedelta(hours=12)\n",
    "    else:\n",
    "        x = datetime.datetime.strptime(x[:10] + x[13:], \"%Y-%m-%d %H:%M:%S\")\n",
    "\n",
    "    return x\n",
    "\n",
    "#jangbi_broken = jangbi_broken.drop(jangbi.index[1124]) # job_shm이 Y-M-D만 존재 (H:M:S 없음)\n",
    "jangbi_broken = jangbi_broken.reset_index().drop(\"index\",axis=1)\n",
    "\n",
    "jangbi_broken[\"job_start\"] = jangbi_broken[\"job_shm\"].apply(time_trans)\n",
    "jangbi_broken[\"job_end\"] = jangbi_broken[\"job_ehm\"].apply(time_trans)\n",
    "\n",
    "jangbi_broken[\"job_time\"] = 0\n",
    "\n",
    "for time in range(len(jangbi_broken)):\n",
    "    jangbi_broken.loc[time,\"job_time\"] = jangbi_broken.loc[time,\"job_end\"] - jangbi_broken.loc[time,\"job_start\"]"
   ],
   "metadata": {
    "collapsed": false
   }
  },
  {
   "cell_type": "markdown",
   "source": [],
   "metadata": {
    "collapsed": false
   }
  },
  {
   "cell_type": "code",
   "execution_count": 57,
   "outputs": [
    {
     "name": "stderr",
     "output_type": "stream",
     "text": [
      "/var/folders/nd/cl2nzwh13zx7jdly2t5m95340000gn/T/ipykernel_58903/1695741312.py:3: SettingWithCopyWarning: \n",
      "A value is trying to be set on a copy of a slice from a DataFrame.\n",
      "Try using .loc[row_indexer,col_indexer] = value instead\n",
      "\n",
      "See the caveats in the documentation: https://pandas.pydata.org/pandas-docs/stable/user_guide/indexing.html#returning-a-view-versus-a-copy\n",
      "  time_data['job_time'] = time_data['job_time'].astype(str)\n",
      "/var/folders/nd/cl2nzwh13zx7jdly2t5m95340000gn/T/ipykernel_58903/1695741312.py:4: SettingWithCopyWarning: \n",
      "A value is trying to be set on a copy of a slice from a DataFrame.\n",
      "Try using .loc[row_indexer,col_indexer] = value instead\n",
      "\n",
      "See the caveats in the documentation: https://pandas.pydata.org/pandas-docs/stable/user_guide/indexing.html#returning-a-view-versus-a-copy\n",
      "  time_data['일'] = time_data['job_time'].str[:-13]\n"
     ]
    }
   ],
   "source": [
    "time_data = jangbi_broken[['jangbi_class_nm_1','jangbi_class_nm_2','jangbi_class_nm_3','jangbi_class_nm_4','job_time']]\n",
    "#time_data['job_class_nm_4'].dt.days\n",
    "time_data['job_time'] = time_data['job_time'].astype(str)\n",
    "time_data['일'] = time_data['job_time'].str[:-13]\n",
    "time_data=time_data[~time_data['일'].str.contains('-')]\n",
    "time_data['시간'] = time_data['job_time'].str[-8:]\n",
    "time_data['시'] = pd.to_datetime(time_data['시간']).dt.hour\n",
    "time_data['분'] = pd.to_datetime(time_data['시간']).dt.minute\n",
    "time_data[['일','시','분']] = time_data[['일','시','분']].astype(int)\n",
    "time_data['총시간']= time_data['일']*24*60 + time_data['시'] * 60 + time_data['분']"
   ],
   "metadata": {
    "collapsed": false
   }
  },
  {
   "cell_type": "code",
   "execution_count": 62,
   "outputs": [],
   "source": [
    "수행범위 = pd.concat([기계,통신,방재,승강기,전기])\n",
    "time_data = pd.merge(time_data,수행범위, left_on=['jangbi_class_nm_1','jangbi_class_nm_2','jangbi_class_nm_3','jangbi_class_nm_4'], right_on=['Lv1','Lv2','Lv3','Lv4'], how='left')"
   ],
   "metadata": {
    "collapsed": false
   }
  },
  {
   "cell_type": "code",
   "execution_count": 63,
   "outputs": [
    {
     "name": "stderr",
     "output_type": "stream",
     "text": [
      "/var/folders/nd/cl2nzwh13zx7jdly2t5m95340000gn/T/ipykernel_58903/412171420.py:1: FutureWarning: The default value of numeric_only in DataFrameGroupBy.median is deprecated. In a future version, numeric_only will default to False. Either specify numeric_only or select only columns which should be valid for the function.\n",
      "  time_final_median = time_data.groupby('그룹정의').median()['총시간']\n",
      "/var/folders/nd/cl2nzwh13zx7jdly2t5m95340000gn/T/ipykernel_58903/412171420.py:4: FutureWarning: The default value of numeric_only in DataFrameGroupBy.mean is deprecated. In a future version, numeric_only will default to False. Either specify numeric_only or select only columns which should be valid for the function.\n",
      "  time_final_mean = time_data.groupby('그룹정의').mean()['총시간']\n",
      "/var/folders/nd/cl2nzwh13zx7jdly2t5m95340000gn/T/ipykernel_58903/412171420.py:7: FutureWarning: Dropping invalid columns in DataFrameGroupBy.max is deprecated. In a future version, a TypeError will be raised. Before calling .max, select only columns which should be valid for the function.\n",
      "  time_final_max = time_data.groupby('그룹정의').max()['총시간']\n",
      "/var/folders/nd/cl2nzwh13zx7jdly2t5m95340000gn/T/ipykernel_58903/412171420.py:10: FutureWarning: Dropping invalid columns in DataFrameGroupBy.min is deprecated. In a future version, a TypeError will be raised. Before calling .min, select only columns which should be valid for the function.\n",
      "  time_final_min = time_data.groupby('그룹정의').min()['총시간']\n"
     ]
    }
   ],
   "source": [
    "\n",
    "\n",
    "time_final_median = time_data.groupby('그룹정의').median()['총시간']\n",
    "time_final_median = time_final_median.reset_index()\n",
    "\n",
    "time_final_mean = time_data.groupby('그룹정의').mean()['총시간']\n",
    "time_final_mean = time_final_mean.reset_index()\n",
    "\n",
    "time_final_max = time_data.groupby('그룹정의').max()['총시간']\n",
    "time_final_max = time_final_max.reset_index()\n",
    "\n",
    "time_final_min = time_data.groupby('그룹정의').min()['총시간']\n",
    "time_final_min = time_final_min.reset_index()"
   ],
   "metadata": {
    "collapsed": false
   }
  },
  {
   "cell_type": "code",
   "execution_count": 66,
   "outputs": [],
   "source": [
    "final = pd.concat([time_final_median,time_final_mean['총시간'],time_final_max['총시간'],time_final_min['총시간']],axis =1)\n",
    "final.to_csv('작업시간.csv')"
   ],
   "metadata": {
    "collapsed": false
   }
  },
  {
   "cell_type": "code",
   "execution_count": null,
   "outputs": [],
   "source": [],
   "metadata": {
    "collapsed": false
   }
  }
 ],
 "metadata": {
  "kernelspec": {
   "display_name": "Python 3.8.8 ('base')",
   "language": "python",
   "name": "python3"
  },
  "language_info": {
   "codemirror_mode": {
    "name": "ipython",
    "version": 3
   },
   "file_extension": ".py",
   "mimetype": "text/x-python",
   "name": "python",
   "nbconvert_exporter": "python",
   "pygments_lexer": "ipython3",
   "version": "3.8.8"
  },
  "orig_nbformat": 4,
  "vscode": {
   "interpreter": {
    "hash": "86aa80caba646de5c5fbfa482f3005816722fa12a16cb3031e5ebf46eef177a2"
   }
  }
 },
 "nbformat": 4,
 "nbformat_minor": 2
}

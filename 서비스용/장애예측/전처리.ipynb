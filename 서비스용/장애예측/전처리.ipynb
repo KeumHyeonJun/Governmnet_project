{
 "cells": [
  {
   "cell_type": "code",
   "execution_count": 2,
   "metadata": {
    "collapsed": true
   },
   "outputs": [],
   "source": [
    "import pandas as pd\n",
    "import numpy as np\n",
    "import datetime\n",
    "from pathlib import Path\n"
   ]
  },
  {
   "cell_type": "code",
   "execution_count": 3,
   "outputs": [],
   "source": [
    "path = Path.cwd().parent\n",
    "raw_data = str(path) + '/raw_data/'\n",
    "data = str(path) + '/data/'"
   ],
   "metadata": {
    "collapsed": false
   }
  },
  {
   "cell_type": "code",
   "execution_count": 4,
   "outputs": [
    {
     "data": {
      "text/plain": "datetime.datetime(2022, 10, 11, 0, 0)"
     },
     "execution_count": 4,
     "metadata": {},
     "output_type": "execute_result"
    }
   ],
   "source": [
    "time='20221011'\n",
    "year = int(time[:4])\n",
    "month = int(time[4:6])\n",
    "day = int(time[6:8])\n",
    "max_time = datetime.datetime(year,month,day)\n",
    "max_time"
   ],
   "metadata": {
    "collapsed": false
   }
  },
  {
   "cell_type": "markdown",
   "source": [
    "# 데이터 불러오기"
   ],
   "metadata": {
    "collapsed": false
   }
  },
  {
   "cell_type": "code",
   "execution_count": 5,
   "outputs": [],
   "source": [
    "FMSA10_작업지시_결과 = pd.read_excel(raw_data+'FMSA10_작업지시_결과.xlsx')\n",
    "\n",
    "FMSA11_작업장비이력 = pd.read_excel(raw_data + 'FMSA11_작업장비이력.xlsx')\n",
    "\n",
    "FMSB07_자재출고 = pd.read_excel(raw_data + 'FMSB07_자재출고.xlsx')\n",
    "\n",
    "FMSB03_자재마스터 = pd.read_excel(raw_data + 'FMSB03_자재마스터.xlsx')\n",
    "\n",
    "FMSX01_건물정보 = pd.read_excel(raw_data+'FMSX01_건물정보.xlsx')\n",
    "FMSX01_건물정보 = FMSX01_건물정보[['bd_cd','bd_nm']]\n",
    "\n",
    "FMSX04_장비계층 = pd.read_excel(raw_data+'FMSX04_장비계층.xlsx')\n",
    "\n",
    "FMSX05_장비마스터 = pd.read_excel(raw_data+'FMSX05_장비마스터.xlsx',dtype={'class_cd':str})\n",
    "\n",
    "\n",
    "기계 = pd.read_excel(raw_data + '수행자재_완료.xlsx',sheet_name='기계')\n",
    "통신 = pd.read_excel(raw_data +'수행자재_완료.xlsx',sheet_name='통신')\n",
    "방재 = pd.read_excel(raw_data +'수행자재_완료.xlsx',sheet_name='방재')\n",
    "승강기 = pd.read_excel(raw_data +'수행자재_완료.xlsx',sheet_name='승강기')\n",
    "전기 = pd.read_excel(raw_data +'수행자재_완료.xlsx',sheet_name='전기')\n"
   ],
   "metadata": {
    "collapsed": false
   }
  },
  {
   "cell_type": "markdown",
   "source": [
    "# 장비마스터 테이블 변환"
   ],
   "metadata": {
    "collapsed": false
   }
  },
  {
   "cell_type": "code",
   "execution_count": 6,
   "outputs": [],
   "source": [
    "#-----------------------배열로 전환 -----------------------------\n",
    "\n",
    "def level4(i):\n",
    "    # 레벨4넣기\n",
    "    num = arr[i,col_list.index('class_cd')]\n",
    "    idx = np.where(arr_hier[:,2] == num)\n",
    "    arr[i,col_list.index('class_nm_4')] =arr_hier[idx,0][0,0]\n",
    "    arr[i,col_list.index('class_cd_4')] =arr_hier[idx,2][0,0]\n",
    "\n",
    "    # 레벨3 넣기\n",
    "    num = arr[i,col_list.index('class_cd_4')]\n",
    "    idx = np.where(arr_hier[:,2] == num)\n",
    "    num_parents = arr_hier[idx,3][0,0]\n",
    "    idx_parents = np.where(arr_hier[:,2] == num_parents)\n",
    "    arr[i,col_list.index('class_nm_3')] =arr_hier[idx_parents,0][0,0]\n",
    "    arr[i,col_list.index('class_cd_3')] =arr_hier[idx_parents,2][0,0]\n",
    "\n",
    "    #레벨2 넣기\n",
    "    num = arr[i,col_list.index('class_cd_3')]\n",
    "    idx = np.where(arr_hier[:,2] == num)\n",
    "    num_parents = arr_hier[idx,3][0,0]\n",
    "    idx_parents = np.where(arr_hier[:,2] == num_parents)\n",
    "    arr[i,col_list.index('class_nm_2')] =arr_hier[idx_parents,0][0,0]\n",
    "    arr[i,col_list.index('class_cd_2')] =arr_hier[idx_parents,2][0,0]\n",
    "\n",
    "    #레벨1 넣기\n",
    "    num = arr[i,col_list.index('class_cd_2')]\n",
    "    idx = np.where(arr_hier[:,2] == num)\n",
    "    num_parents = arr_hier[idx,3][0,0]\n",
    "    idx_parents = np.where(arr_hier[:,2] == num_parents)\n",
    "    arr[i,col_list.index('class_nm_1')] =arr_hier[idx_parents,0][0,0]\n",
    "    arr[i,col_list.index('class_cd_1')] =arr_hier[idx_parents,2][0,0]\n",
    "\n",
    "\n",
    "def level3(i):\n",
    "    # 레벨3 넣기\n",
    "    num = arr[i,col_list.index('class_cd')]\n",
    "    idx = np.where(arr_hier[:,2] == num)\n",
    "    arr[i,col_list.index('class_nm_3')] =arr_hier[idx,0][0,0]\n",
    "    arr[i,col_list.index('class_cd_3')] =arr_hier[idx,2][0,0]\n",
    "\n",
    "    # 레벨2 넣기\n",
    "    num = arr[i,col_list.index('class_cd_3')]\n",
    "    idx = np.where(arr_hier[:,2] == num)\n",
    "    num_parents = arr_hier[idx,3][0,0]\n",
    "    idx_parents = np.where(arr_hier[:,2] == num_parents)\n",
    "    arr[i,col_list.index('class_nm_2')] =arr_hier[idx_parents,0][0,0]\n",
    "    arr[i,col_list.index('class_cd_2')] =arr_hier[idx_parents,2][0,0]\n",
    "\n",
    "    #레벨1 넣기\n",
    "    num = arr[i,col_list.index('class_cd_2')]\n",
    "    idx = np.where(arr_hier[:,2] == num)\n",
    "    num_parents = arr_hier[idx,3][0,0]\n",
    "    idx_parents = np.where(arr_hier[:,2] == num_parents)\n",
    "    arr[i,col_list.index('class_nm_1')] =arr_hier[idx_parents,0][0,0]\n",
    "    arr[i,col_list.index('class_cd_1')] =arr_hier[idx_parents,2][0,0]\n",
    "\n",
    "def level2(i):\n",
    "    # 레벨2 넣기\n",
    "    num = arr[i,col_list.index('class_cd')]\n",
    "    idx = np.where(arr_hier[:,2] == num)\n",
    "    arr[i,col_list.index('class_nm_2')] =arr_hier[idx,0][0,0]\n",
    "    arr[i,col_list.index('class_cd_2')] =arr_hier[idx,2][0,0]\n",
    "\n",
    "    # 레벨2 넣기\n",
    "    num = arr[i,col_list.index('class_cd_2')]\n",
    "    idx = np.where(arr_hier[:,2] == num)\n",
    "    num_parents = arr_hier[idx,3][0,0]\n",
    "    idx_parents = np.where(arr_hier[:,2] == num_parents)\n",
    "    arr[i,col_list.index('class_nm_1')] =arr_hier[idx_parents,0][0,0]\n",
    "    arr[i,col_list.index('class_cd_1')] =arr_hier[idx_parents,2][0,0]\n",
    "\n",
    "def level1(i):\n",
    "    #레벨1 넣기\n",
    "    num = arr[i,col_list.index('class_cd')]\n",
    "    idx = np.where(arr_hier[:,2] == num)\n",
    "    arr[i,col_list.index('class_nm_1')] =arr_hier[idx,0][0,0]\n",
    "    arr[i,col_list.index('class_cd_1')] =arr_hier[idx,2][0,0]\n"
   ],
   "metadata": {
    "collapsed": false
   }
  },
  {
   "cell_type": "code",
   "execution_count": 7,
   "outputs": [
    {
     "data": {
      "text/plain": "      comp_cd        fac_cd                       fac_nm  class_cd dept_cd  \\\n0        SEJO  200201040293  (3)세-1F-0(여)로비-화장실) 세면대 2대   20020104   10201   \n1        SEJO  200201010257                   9F여1대변기(5)  20020101   10201   \n2        SEJO  200202030001                        우수조#1  20020203   10201   \n3        SEJO  200105080599               배기휀#76(EF-504)  20010508   10201   \n4        SEJO  200202010001                        시수조#1  20020201   10201   \n...       ...           ...                          ...       ...     ...   \n40806    SEJO  700101020004                  SCC 4호기 권상기  70010102   10302   \n40807    SEJO  700101020005                  SCC 5호기 권상기  70010102   10302   \n40808    SEJO  700101020006                  SCC 6호기 권상기  70010102   10302   \n40809    SEJO  700201010010                  SCC 7호기 제어반  70020101   10302   \n40810    SEJO  700201020001                  SCC 7호기 권상기  70020102   10302   \n\n          fac_model     fac_spec     fac_plc       bd_cd fl_cd  ...  \\\n0      자동(2)/수동(0)          청소수전       (여)로비         NaN   NaN  ...   \n1       CC-113(바닥형)  690*395*435  여-1(동) 화장실         NaN   NaN  ...   \n2               NaN          NaN         NaN         NaN   NaN  ...   \n3               NaN          NaN         NaN         NaN   NaN  ...   \n4               NaN          NaN         NaN         NaN   NaN  ...   \n...             ...          ...         ...         ...   ...  ...   \n40806        HS250K         12*6         NaN  SJ-SCJS-01  P006  ...   \n40807        HS250K         12*6         NaN  SJ-SCJS-01  P006  ...   \n40808        HS250K         12*6         NaN  SJ-SCJS-01  P006  ...   \n40809    DZDLE-4300          NaN         NaN  SJ-SCJS-01  P006  ...   \n40810      SDE-1504         12*6         NaN  SJ-SCJS-01  P006  ...   \n\n      chk_edit_dt law_fac_yn class_nm_1 class_nm_2 class_nm_3 class_nm_4  \\\n0             NaN          N         기계   위생, 탱크설비       위생설비     세면대 수전   \n1             NaN          N         기계   위생, 탱크설비       위생설비        대변기   \n2             NaN          N         기계   위생, 탱크설비       탱크설비     우수 저장조   \n3             NaN          N         기계     공기조화설비       환기설비        환기팬   \n4             NaN          N         기계   위생, 탱크설비       탱크설비     상수 저장조   \n...           ...        ...        ...        ...        ...        ...   \n40806         NaN          N        승강기        승객용         MR        권상기   \n40807         NaN          N        승강기        승객용         MR        권상기   \n40808         NaN          N        승강기        승객용         MR        권상기   \n40809         NaN          N        승강기        화물용        로프식        제어반   \n40810         NaN          N        승강기        화물용        로프식        권상기   \n\n      class_cd_1 class_cd_2 class_cd_3 class_cd_4  \n0             20       2002     200201   20020104  \n1             20       2002     200201   20020101  \n2             20       2002     200202   20020203  \n3             20       2001     200105   20010508  \n4             20       2002     200202   20020201  \n...          ...        ...        ...        ...  \n40806         70       7001     700101   70010102  \n40807         70       7001     700101   70010102  \n40808         70       7001     700101   70010102  \n40809         70       7002     700201   70020101  \n40810         70       7002     700201   70020102  \n\n[40811 rows x 46 columns]",
      "text/html": "<div>\n<style scoped>\n    .dataframe tbody tr th:only-of-type {\n        vertical-align: middle;\n    }\n\n    .dataframe tbody tr th {\n        vertical-align: top;\n    }\n\n    .dataframe thead th {\n        text-align: right;\n    }\n</style>\n<table border=\"1\" class=\"dataframe\">\n  <thead>\n    <tr style=\"text-align: right;\">\n      <th></th>\n      <th>comp_cd</th>\n      <th>fac_cd</th>\n      <th>fac_nm</th>\n      <th>class_cd</th>\n      <th>dept_cd</th>\n      <th>fac_model</th>\n      <th>fac_spec</th>\n      <th>fac_plc</th>\n      <th>bd_cd</th>\n      <th>fl_cd</th>\n      <th>...</th>\n      <th>chk_edit_dt</th>\n      <th>law_fac_yn</th>\n      <th>class_nm_1</th>\n      <th>class_nm_2</th>\n      <th>class_nm_3</th>\n      <th>class_nm_4</th>\n      <th>class_cd_1</th>\n      <th>class_cd_2</th>\n      <th>class_cd_3</th>\n      <th>class_cd_4</th>\n    </tr>\n  </thead>\n  <tbody>\n    <tr>\n      <th>0</th>\n      <td>SEJO</td>\n      <td>200201040293</td>\n      <td>(3)세-1F-0(여)로비-화장실) 세면대 2대</td>\n      <td>20020104</td>\n      <td>10201</td>\n      <td>자동(2)/수동(0)</td>\n      <td>청소수전</td>\n      <td>(여)로비</td>\n      <td>NaN</td>\n      <td>NaN</td>\n      <td>...</td>\n      <td>NaN</td>\n      <td>N</td>\n      <td>기계</td>\n      <td>위생, 탱크설비</td>\n      <td>위생설비</td>\n      <td>세면대 수전</td>\n      <td>20</td>\n      <td>2002</td>\n      <td>200201</td>\n      <td>20020104</td>\n    </tr>\n    <tr>\n      <th>1</th>\n      <td>SEJO</td>\n      <td>200201010257</td>\n      <td>9F여1대변기(5)</td>\n      <td>20020101</td>\n      <td>10201</td>\n      <td>CC-113(바닥형)</td>\n      <td>690*395*435</td>\n      <td>여-1(동) 화장실</td>\n      <td>NaN</td>\n      <td>NaN</td>\n      <td>...</td>\n      <td>NaN</td>\n      <td>N</td>\n      <td>기계</td>\n      <td>위생, 탱크설비</td>\n      <td>위생설비</td>\n      <td>대변기</td>\n      <td>20</td>\n      <td>2002</td>\n      <td>200201</td>\n      <td>20020101</td>\n    </tr>\n    <tr>\n      <th>2</th>\n      <td>SEJO</td>\n      <td>200202030001</td>\n      <td>우수조#1</td>\n      <td>20020203</td>\n      <td>10201</td>\n      <td>NaN</td>\n      <td>NaN</td>\n      <td>NaN</td>\n      <td>NaN</td>\n      <td>NaN</td>\n      <td>...</td>\n      <td>NaN</td>\n      <td>N</td>\n      <td>기계</td>\n      <td>위생, 탱크설비</td>\n      <td>탱크설비</td>\n      <td>우수 저장조</td>\n      <td>20</td>\n      <td>2002</td>\n      <td>200202</td>\n      <td>20020203</td>\n    </tr>\n    <tr>\n      <th>3</th>\n      <td>SEJO</td>\n      <td>200105080599</td>\n      <td>배기휀#76(EF-504)</td>\n      <td>20010508</td>\n      <td>10201</td>\n      <td>NaN</td>\n      <td>NaN</td>\n      <td>NaN</td>\n      <td>NaN</td>\n      <td>NaN</td>\n      <td>...</td>\n      <td>NaN</td>\n      <td>N</td>\n      <td>기계</td>\n      <td>공기조화설비</td>\n      <td>환기설비</td>\n      <td>환기팬</td>\n      <td>20</td>\n      <td>2001</td>\n      <td>200105</td>\n      <td>20010508</td>\n    </tr>\n    <tr>\n      <th>4</th>\n      <td>SEJO</td>\n      <td>200202010001</td>\n      <td>시수조#1</td>\n      <td>20020201</td>\n      <td>10201</td>\n      <td>NaN</td>\n      <td>NaN</td>\n      <td>NaN</td>\n      <td>NaN</td>\n      <td>NaN</td>\n      <td>...</td>\n      <td>NaN</td>\n      <td>N</td>\n      <td>기계</td>\n      <td>위생, 탱크설비</td>\n      <td>탱크설비</td>\n      <td>상수 저장조</td>\n      <td>20</td>\n      <td>2002</td>\n      <td>200202</td>\n      <td>20020201</td>\n    </tr>\n    <tr>\n      <th>...</th>\n      <td>...</td>\n      <td>...</td>\n      <td>...</td>\n      <td>...</td>\n      <td>...</td>\n      <td>...</td>\n      <td>...</td>\n      <td>...</td>\n      <td>...</td>\n      <td>...</td>\n      <td>...</td>\n      <td>...</td>\n      <td>...</td>\n      <td>...</td>\n      <td>...</td>\n      <td>...</td>\n      <td>...</td>\n      <td>...</td>\n      <td>...</td>\n      <td>...</td>\n      <td>...</td>\n    </tr>\n    <tr>\n      <th>40806</th>\n      <td>SEJO</td>\n      <td>700101020004</td>\n      <td>SCC 4호기 권상기</td>\n      <td>70010102</td>\n      <td>10302</td>\n      <td>HS250K</td>\n      <td>12*6</td>\n      <td>NaN</td>\n      <td>SJ-SCJS-01</td>\n      <td>P006</td>\n      <td>...</td>\n      <td>NaN</td>\n      <td>N</td>\n      <td>승강기</td>\n      <td>승객용</td>\n      <td>MR</td>\n      <td>권상기</td>\n      <td>70</td>\n      <td>7001</td>\n      <td>700101</td>\n      <td>70010102</td>\n    </tr>\n    <tr>\n      <th>40807</th>\n      <td>SEJO</td>\n      <td>700101020005</td>\n      <td>SCC 5호기 권상기</td>\n      <td>70010102</td>\n      <td>10302</td>\n      <td>HS250K</td>\n      <td>12*6</td>\n      <td>NaN</td>\n      <td>SJ-SCJS-01</td>\n      <td>P006</td>\n      <td>...</td>\n      <td>NaN</td>\n      <td>N</td>\n      <td>승강기</td>\n      <td>승객용</td>\n      <td>MR</td>\n      <td>권상기</td>\n      <td>70</td>\n      <td>7001</td>\n      <td>700101</td>\n      <td>70010102</td>\n    </tr>\n    <tr>\n      <th>40808</th>\n      <td>SEJO</td>\n      <td>700101020006</td>\n      <td>SCC 6호기 권상기</td>\n      <td>70010102</td>\n      <td>10302</td>\n      <td>HS250K</td>\n      <td>12*6</td>\n      <td>NaN</td>\n      <td>SJ-SCJS-01</td>\n      <td>P006</td>\n      <td>...</td>\n      <td>NaN</td>\n      <td>N</td>\n      <td>승강기</td>\n      <td>승객용</td>\n      <td>MR</td>\n      <td>권상기</td>\n      <td>70</td>\n      <td>7001</td>\n      <td>700101</td>\n      <td>70010102</td>\n    </tr>\n    <tr>\n      <th>40809</th>\n      <td>SEJO</td>\n      <td>700201010010</td>\n      <td>SCC 7호기 제어반</td>\n      <td>70020101</td>\n      <td>10302</td>\n      <td>DZDLE-4300</td>\n      <td>NaN</td>\n      <td>NaN</td>\n      <td>SJ-SCJS-01</td>\n      <td>P006</td>\n      <td>...</td>\n      <td>NaN</td>\n      <td>N</td>\n      <td>승강기</td>\n      <td>화물용</td>\n      <td>로프식</td>\n      <td>제어반</td>\n      <td>70</td>\n      <td>7002</td>\n      <td>700201</td>\n      <td>70020101</td>\n    </tr>\n    <tr>\n      <th>40810</th>\n      <td>SEJO</td>\n      <td>700201020001</td>\n      <td>SCC 7호기 권상기</td>\n      <td>70020102</td>\n      <td>10302</td>\n      <td>SDE-1504</td>\n      <td>12*6</td>\n      <td>NaN</td>\n      <td>SJ-SCJS-01</td>\n      <td>P006</td>\n      <td>...</td>\n      <td>NaN</td>\n      <td>N</td>\n      <td>승강기</td>\n      <td>화물용</td>\n      <td>로프식</td>\n      <td>권상기</td>\n      <td>70</td>\n      <td>7002</td>\n      <td>700201</td>\n      <td>70020102</td>\n    </tr>\n  </tbody>\n</table>\n<p>40811 rows × 46 columns</p>\n</div>"
     },
     "execution_count": 7,
     "metadata": {},
     "output_type": "execute_result"
    }
   ],
   "source": [
    "FMSX05_장비마스터[['class_nm_1','class_nm_2','class_nm_3','class_nm_4','class_cd_1','class_cd_2','class_cd_3','class_cd_4']] = 0\n",
    "arr = np.array(FMSX05_장비마스터)\n",
    "col_list = list(FMSX05_장비마스터.columns)\n",
    "\n",
    "\n",
    "hier = FMSX04_장비계층[['class_nm','class_level','class_cd','class_parent']]\n",
    "hier = hier[hier['class_cd']!='ROOT']\n",
    "hier = pd.DataFrame(hier)\n",
    "arr_hier =  np.array(hier)\n",
    "\n",
    "\n",
    "for i in range(len(arr)):\n",
    "    if len(arr[i,col_list.index('class_cd')]) == 8:\n",
    "        level4(i)\n",
    "    elif len(arr[i,col_list.index('class_cd')]) == 6:\n",
    "        level3(i)\n",
    "    elif len(arr[i,col_list.index('class_cd')]) == 4:\n",
    "        level2(i)\n",
    "    elif len(arr[i,col_list.index('class_cd')]) == 2:\n",
    "        level1(i)\n",
    "FMSX05_장비마스터= pd.DataFrame(arr)\n",
    "FMSX05_장비마스터.columns = col_list\n",
    "FMSX05_장비마스터"
   ],
   "metadata": {
    "collapsed": false
   }
  },
  {
   "cell_type": "code",
   "execution_count": 8,
   "outputs": [],
   "source": [
    "#FMSX05_장비마스터.to_csv(data+'FMSX05_장비마스터_ver2.csv')"
   ],
   "metadata": {
    "collapsed": false
   }
  },
  {
   "cell_type": "markdown",
   "source": [
    "# 생존분석 전처리"
   ],
   "metadata": {
    "collapsed": false
   }
  },
  {
   "cell_type": "code",
   "execution_count": 78,
   "outputs": [
    {
     "name": "stderr",
     "output_type": "stream",
     "text": [
      "/var/folders/nd/cl2nzwh13zx7jdly2t5m95340000gn/T/ipykernel_28916/2115946713.py:15: SettingWithCopyWarning: \n",
      "A value is trying to be set on a copy of a slice from a DataFrame.\n",
      "Try using .loc[row_indexer,col_indexer] = value instead\n",
      "\n",
      "See the caveats in the documentation: https://pandas.pydata.org/pandas-docs/stable/user_guide/indexing.html#returning-a-view-versus-a-copy\n",
      "  fmsb03[\"mat_cd\"] = fmsb03[\"mat_cd\"].astype(\"str\")\n",
      "/var/folders/nd/cl2nzwh13zx7jdly2t5m95340000gn/T/ipykernel_28916/2115946713.py:76: SettingWithCopyWarning: \n",
      "A value is trying to be set on a copy of a slice from a DataFrame\n",
      "\n",
      "See the caveats in the documentation: https://pandas.pydata.org/pandas-docs/stable/user_guide/indexing.html#returning-a-view-versus-a-copy\n",
      "  jangbi_broken['작업-작업간격'].iloc[i] = jangbi_broken['설치-작업간격'].iloc[i]\n",
      "/var/folders/nd/cl2nzwh13zx7jdly2t5m95340000gn/T/ipykernel_28916/2115946713.py:82: SettingWithCopyWarning: \n",
      "A value is trying to be set on a copy of a slice from a DataFrame\n",
      "\n",
      "See the caveats in the documentation: https://pandas.pydata.org/pandas-docs/stable/user_guide/indexing.html#returning-a-view-versus-a-copy\n",
      "  jangbi_broken['작업-작업간격'].iloc[i] = jangbi_broken['설치-작업간격'].iloc[i] - jangbi_broken['설치-작업간격'].iloc[i-1]\n",
      "/var/folders/nd/cl2nzwh13zx7jdly2t5m95340000gn/T/ipykernel_28916/2115946713.py:83: SettingWithCopyWarning: \n",
      "A value is trying to be set on a copy of a slice from a DataFrame\n",
      "\n",
      "See the caveats in the documentation: https://pandas.pydata.org/pandas-docs/stable/user_guide/indexing.html#returning-a-view-versus-a-copy\n",
      "  jangbi_broken['작업횟수'].iloc[i] = jangbi_broken['작업횟수'].iloc[i-1] +1\n",
      "/var/folders/nd/cl2nzwh13zx7jdly2t5m95340000gn/T/ipykernel_28916/2115946713.py:86: SettingWithCopyWarning: \n",
      "A value is trying to be set on a copy of a slice from a DataFrame\n",
      "\n",
      "See the caveats in the documentation: https://pandas.pydata.org/pandas-docs/stable/user_guide/indexing.html#returning-a-view-versus-a-copy\n",
      "  jangbi_broken['작업-작업간격'].iloc[i] = jangbi_broken['설치-작업간격'].iloc[i]\n"
     ]
    }
   ],
   "source": [
    "FMSX05_장비마스터.rename(columns={'class_nm_4':'jangbi_class_nm_4'},inplace = True)\n",
    "FMSX05_장비마스터.rename(columns={'class_nm_3':'jangbi_class_nm_3'},inplace = True)\n",
    "FMSX05_장비마스터.rename(columns={'class_nm_2':'jangbi_class_nm_2'},inplace = True)\n",
    "FMSX05_장비마스터.rename(columns={'class_nm_1':'jangbi_class_nm_1'},inplace = True)\n",
    "FMSX05_장비마스터 = pd.merge(FMSX01_건물정보,FMSX05_장비마스터, on='bd_cd', how = 'right')\n",
    "\n",
    "# 필요한 컬럼만 추출하기\n",
    "fmsa10 =FMSA10_작업지시_결과[['job_cd','job_nm','job_jisi_dt','job_enddt','job_shm','job_ehm']]\n",
    "fmsb03 = FMSB03_자재마스터[['mat_cd','mat_nm']]\n",
    "fmsx05 = FMSX05_장비마스터[['bd_cd','bd_nm','fl_cd','fac_cd','fac_nm','jangbi_class_nm_1','jangbi_class_nm_2','jangbi_class_nm_3','jangbi_class_nm_4','fac_instdt']]\n",
    "\n",
    "# FMSB03과 inner join하기 위해 mat_cd 형식 일치 시키기\n",
    "FMSB07_자재출고[\"mat_cd\"] = FMSB07_자재출고[\"mat_cd\"].astype(\"str\")\n",
    "FMSB07_자재출고[\"mat_cd\"] = list(map(lambda x: x[:-3],FMSB07_자재출고[\"mat_cd\"].tolist()))\n",
    "fmsb03[\"mat_cd\"] = fmsb03[\"mat_cd\"].astype(\"str\")\n",
    "\n",
    "# mat_cd 기준으로 join 후 필요한 컬럼 추출\n",
    "jajae = pd.merge(FMSB07_자재출고,fmsb03 ,on = 'mat_cd', how = 'inner')\n",
    "jajae = jajae[['job_cd','outw_day','mat_cd','outw_qty','mat_nm_x']]\n",
    "\n",
    "\n",
    "jangbi = pd.merge(FMSA11_작업장비이력, fmsx05, how='inner', on='fac_cd')\n",
    "\n",
    "jangbi_broken = pd.merge(fmsa10,jangbi, on='job_cd',how = 'inner')\n",
    "\n",
    "jangbi_broken.drop(['job_cont','chg_sysdt','chg_emp_no'],axis=1,inplace=True)\n",
    "jangbi_broken = jangbi_broken.dropna()\n",
    "\n",
    "jangbi_broken['자재매칭여부'] = jangbi_broken['job_cd']\n",
    "arr_장비 = list(jangbi_broken['job_cd'])\n",
    "arr_자재 = list(jajae['job_cd'])\n",
    "#자재 매칭이 안되는 경우\n",
    "arr = list(set(arr_장비)- set(arr_자재))\n",
    "\n",
    "def function(x):\n",
    "    if x in arr:\n",
    "        return 0\n",
    "    else:\n",
    "         return 1\n",
    "\n",
    "jangbi_broken['자재매칭여부'] = jangbi_broken['자재매칭여부'].apply(function)\n",
    "df = pd.merge(jangbi_broken,jajae, on='job_cd',how = 'inner')\n",
    "\n",
    "final = df[['job_cd','job_nm','job_jisi_dt','job_enddt','job_shm','job_ehm','fac_cd','fac_nm','fac_instdt','mat_cd','mat_nm_x',\n",
    "           'jangbi_class_nm_1','jangbi_class_nm_2','jangbi_class_nm_3','jangbi_class_nm_4','자재매칭여부','mat_nm_x']]\n",
    "\n",
    "\n",
    "jangbi_broken = jangbi_broken.sort_values('job_jisi_dt')\n",
    "\n",
    "## 기준일자는 오늘로 설정해야 함 > 작업장비이력\n",
    "jangbi_broken['기준일자'] = max_time\n",
    "\n",
    "#jangbi_broken['기준일자'] = pd.to_datetime(jangbi_broken['기준일자'])\n",
    "jangbi_broken['fac_instdt'] = pd.to_datetime(jangbi_broken['fac_instdt'])\n",
    "jangbi_broken['job_jisi_dt'] = pd.to_datetime(jangbi_broken['job_jisi_dt'])\n",
    "\n",
    "\n",
    "jangbi_broken['설치-작업간격'] = jangbi_broken['job_jisi_dt'] - jangbi_broken['fac_instdt']\n",
    "\n",
    "def slicing(x):\n",
    "    return x[:-4]\n",
    "jangbi_broken['설치-작업간격'] = jangbi_broken['설치-작업간격'].astype(str)\n",
    "jangbi_broken['설치-작업간격'] = jangbi_broken['설치-작업간격'].apply(slicing)\n",
    "jangbi_broken['설치-작업간격'] = jangbi_broken['설치-작업간격'].astype(int)\n",
    "\n",
    "jangbi_broken['작업-작업간격'] = 0\n",
    "# 모두 장애가 발생한 장비이므로 작업횟수 = 1 로 세팅\n",
    "jangbi_broken['작업횟수'] = 1\n",
    "jangbi_broken = jangbi_broken.sort_values(['fac_cd','설치-작업간격'])\n",
    "\n",
    "\n",
    "# 작업-작업 간격 만들기\n",
    "for i in range(len(jangbi_broken)):\n",
    "    if i == 0:\n",
    "        # 젤 처음 오는 경우 > 장비별 가장 오래된 작업\n",
    "        jangbi_broken['작업-작업간격'].iloc[i] = jangbi_broken['설치-작업간격'].iloc[i]\n",
    "    else :\n",
    "        now_data = jangbi_broken['fac_cd'].iloc[i]\n",
    "        past_data = jangbi_broken['fac_cd'].iloc[i-1]\n",
    "        # 한 장비가 이전에 장애가 발생했을 경우\n",
    "        if now_data == past_data:\n",
    "            jangbi_broken['작업-작업간격'].iloc[i] = jangbi_broken['설치-작업간격'].iloc[i] - jangbi_broken['설치-작업간격'].iloc[i-1]\n",
    "            jangbi_broken['작업횟수'].iloc[i] = jangbi_broken['작업횟수'].iloc[i-1] +1\n",
    "        # 장비가 이전에 장애가 발생하지 않았을 경우\n",
    "        else :\n",
    "            jangbi_broken['작업-작업간격'].iloc[i] = jangbi_broken['설치-작업간격'].iloc[i]\n",
    "\n",
    "analysis_data = pd.merge(fmsx05,jangbi_broken[['job_jisi_dt','fac_cd','설치-작업간격','작업-작업간격','작업횟수','job_cd','job_nm']], on ='fac_cd', how ='left')\n",
    "\n",
    "analysis_data['fac_instdt'] = pd.to_datetime(analysis_data['fac_instdt'])\n",
    "\n",
    "analysis_data = analysis_data[analysis_data['fac_instdt'] <= max_time]\n",
    "\n",
    "\n",
    "analysis_data['max_time'] = max_time\n",
    "analysis_data['max_time'] = pd.to_datetime(analysis_data['max_time'])\n",
    "analysis_data['작업-작업간격'] = analysis_data['작업-작업간격'].fillna(999999)\n",
    "\n",
    "analysis_data['설치-작업간격'] = analysis_data['설치-작업간격'].fillna(999999)\n",
    "\n",
    "analysis_data['경과시간'] = 0\n",
    "\n",
    "def time(df):\n",
    "    x = df['작업-작업간격']\n",
    "    if x == 999999:\n",
    "        return int(str(df['max_time'] -  df['fac_instdt'])[:-13])\n",
    "    else :\n",
    "        return int(x)\n",
    "def time2(df):\n",
    "    x = df['설치-작업간격']\n",
    "    if x == 999999:\n",
    "        return int(str(df['max_time'] -  df['fac_instdt'])[:-13])\n",
    "    else :\n",
    "        return int(x)\n",
    "\n",
    "def time3(df):\n",
    "    if df['status'] == 0 :\n",
    "        return int(str(df['max_time'] -  df['fac_instdt'])[:-13])\n",
    "    else :\n",
    "        return int(str(df['max_time'] -  df['job_jisi_dt'])[:-13])\n",
    "\n",
    "\n",
    "def status(df):\n",
    "    if df['작업횟수'] == 0:\n",
    "        return 0\n",
    "    else :\n",
    "        return 1\n",
    "\n",
    "analysis_data['작업횟수'] = analysis_data['작업횟수'].fillna(0)\n",
    "analysis_data['작업-작업간격'] = analysis_data.apply(time,axis=1)\n",
    "analysis_data['설치-작업간격'] = analysis_data.apply(time2,axis=1)\n",
    "analysis_data['status'] = analysis_data.apply(status,axis=1)\n",
    "analysis_data['경과시간'] =  analysis_data.apply(time3,axis=1)\n",
    "analysis_data = analysis_data.fillna(0)\n",
    "\n",
    "수행범위 = pd.concat([기계,통신,방재,승강기,전기])\n",
    "input_data= pd.merge(수행범위,analysis_data, how = 'left',left_on=['Lv1','Lv2','Lv3','Lv4'],right_on=['jangbi_class_nm_1','jangbi_class_nm_2','jangbi_class_nm_3','jangbi_class_nm_4'])\n",
    "input_data.drop(['jangbi_class_nm_1','jangbi_class_nm_2','jangbi_class_nm_3','jangbi_class_nm_4'],axis=1,inplace = True)\n",
    "input_data['비고'] = input_data['비고'].fillna(0)\n",
    "input_data = input_data.dropna()\n",
    "input_data.to_csv(data +'생존분석.csv')"
   ],
   "metadata": {
    "collapsed": false
   }
  }
 ],
 "metadata": {
  "kernelspec": {
   "display_name": "Python 3",
   "language": "python",
   "name": "python3"
  },
  "language_info": {
   "codemirror_mode": {
    "name": "ipython",
    "version": 2
   },
   "file_extension": ".py",
   "mimetype": "text/x-python",
   "name": "python",
   "nbconvert_exporter": "python",
   "pygments_lexer": "ipython2",
   "version": "2.7.6"
  }
 },
 "nbformat": 4,
 "nbformat_minor": 0
}

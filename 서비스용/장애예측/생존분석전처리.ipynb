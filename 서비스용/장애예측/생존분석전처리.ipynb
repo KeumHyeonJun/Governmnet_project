{
 "cells": [
  {
   "cell_type": "code",
   "execution_count": 5,
   "metadata": {
    "collapsed": true
   },
   "outputs": [],
   "source": [
    "import warnings\n",
    "warnings.simplefilter(action='ignore', category=FutureWarning)\n",
    "\n",
    "import pandas as pd\n",
    "from pathlib import Path\n",
    "import datetime\n",
    "\n",
    "\n",
    "path = Path.cwd().parent\n",
    "raw_data = str(path) + '/raw_data/'\n",
    "data = str(path) + '/data/'"
   ]
  },
  {
   "cell_type": "markdown",
   "source": [
    "# 데이터 불러오기"
   ],
   "metadata": {
    "collapsed": false
   }
  },
  {
   "cell_type": "code",
   "execution_count": 6,
   "outputs": [
    {
     "name": "stderr",
     "output_type": "stream",
     "text": [
      "/var/folders/nd/cl2nzwh13zx7jdly2t5m95340000gn/T/ipykernel_21116/3023823428.py:4: DtypeWarning: Columns (59) have mixed types. Specify dtype option on import or set low_memory=False.\n",
      "  FMSA10_작업지시_결과 = pd.read_csv(data+'FMSA10_작업지시_결과_ver2.csv')\n",
      "/var/folders/nd/cl2nzwh13zx7jdly2t5m95340000gn/T/ipykernel_21116/3023823428.py:59: SettingWithCopyWarning: \n",
      "A value is trying to be set on a copy of a slice from a DataFrame.\n",
      "Try using .loc[row_indexer,col_indexer] = value instead\n",
      "\n",
      "See the caveats in the documentation: https://pandas.pydata.org/pandas-docs/stable/user_guide/indexing.html#returning-a-view-versus-a-copy\n",
      "  fmsb03[\"mat_cd\"] = fmsb03[\"mat_cd\"].astype(\"str\")\n"
     ]
    }
   ],
   "source": [
    "# 불러오는 데이터의 날짜(작업장비이력 테이블의 가장 최근 날짜)\n",
    "\n",
    "\n",
    "FMSA10_작업지시_결과 = pd.read_csv(data+'FMSA10_작업지시_결과_ver2.csv')\n",
    "\n",
    "FMSA11_작업장비이력 = pd.read_excel(raw_data + 'FMSA11_작업장비이력.xlsx')\n",
    "\n",
    "FMSX05_장비마스터 = pd.read_csv(data + 'FMSX05_장비마스터_ver2.csv')\n",
    "\n",
    "FMSB07_자재출고 = pd.read_excel(raw_data + 'FMSB07_자재출고.xlsx')\n",
    "\n",
    "FMSB03_자재마스터 = pd.read_csv(data + 'FMSB03_자재마스터_ver2.csv')\n",
    "\n",
    "FMSX01_건물정보 = pd.read_excel(raw_data+'FMSX01_건물정보.xlsx')\n",
    "\n",
    "FMSB03_자재마스터.drop(['class_nm_4','class_cd_4'],axis =1,inplace = True)\n",
    "\n",
    "FMSB03_자재마스터.rename(columns={'class_nm_3':'jajae_class_nm_3'},inplace = True)\n",
    "FMSB03_자재마스터.rename(columns={'class_nm_2':'jajae_class_nm_2'},inplace = True)\n",
    "FMSB03_자재마스터.rename(columns={'class_nm_1':'jajae_class_nm_1'},inplace = True)\n",
    "\n",
    "FMSB03_자재마스터.rename(columns={'class_cd_3':'jajae_class_cd_3'},inplace = True)\n",
    "FMSB03_자재마스터.rename(columns={'class_cd_2':'jajae_class_cd_2'},inplace = True)\n",
    "FMSB03_자재마스터.rename(columns={'class_cd_1':'jajae_class_cd_1'},inplace = True)\n",
    "\n",
    "\n",
    "FMSX05_장비마스터.rename(columns={'class_nm_4':'jangbi_class_nm_4'},inplace = True)\n",
    "FMSX05_장비마스터.rename(columns={'class_nm_3':'jangbi_class_nm_3'},inplace = True)\n",
    "FMSX05_장비마스터.rename(columns={'class_nm_2':'jangbi_class_nm_2'},inplace = True)\n",
    "FMSX05_장비마스터.rename(columns={'class_nm_1':'jangbi_class_nm_1'},inplace = True)\n",
    "\n",
    "fmsx01 = FMSX01_건물정보[['bd_cd','bd_nm']]\n",
    "FMSX05_장비마스터 = pd.merge(fmsx01,FMSX05_장비마스터, on='bd_cd', how = 'right')\n",
    "\n",
    "\n",
    "FMSX05_장비마스터.rename(columns={'class_cd_4':'jangbi_class_cd_4'},inplace = True)\n",
    "FMSX05_장비마스터.rename(columns={'class_cd_3':'jangbi_class_cd_3'},inplace = True)\n",
    "FMSX05_장비마스터.rename(columns={'class_cd_2':'jangbi_class_cd_2'},inplace = True)\n",
    "FMSX05_장비마스터.rename(columns={'class_cd_1':'jangbi_class_cd_1'},inplace = True)\n",
    "\n",
    "FMSA10_작업지시_결과.rename(columns={'class_nm_4':'job_class_nm_4'},inplace = True)\n",
    "FMSA10_작업지시_결과.rename(columns={'class_nm_3':'job_class_nm_3'},inplace = True)\n",
    "FMSA10_작업지시_결과.rename(columns={'class_nm_2':'job_class_nm_2'},inplace = True)\n",
    "FMSA10_작업지시_결과.rename(columns={'class_nm_1':'job_class_nm_1'},inplace = True)\n",
    "\n",
    "\n",
    "FMSA10_작업지시_결과.rename(columns={'class_cd_4':'job_class_cd_4'},inplace = True)\n",
    "FMSA10_작업지시_결과.rename(columns={'class_cd_3':'job_class_cd_3'},inplace = True)\n",
    "FMSA10_작업지시_결과.rename(columns={'class_cd_2':'job_class_cd_2'},inplace = True)\n",
    "FMSA10_작업지시_결과.rename(columns={'class_cd_1':'job_class_cd_1'},inplace = True)\n",
    "\n",
    "fmsa10 =FMSA10_작업지시_결과[['job_cd','job_nm','job_jisi_dt','job_enddt','job_shm','job_ehm','job_class_nm_1','job_class_nm_2','job_class_nm_3','job_class_nm_4']]\n",
    "fmsb03 = FMSB03_자재마스터[['mat_cd','mat_nm','jajae_class_nm_1','jajae_class_nm_2','jajae_class_nm_3','jajae_class_cd_3']]\n",
    "fmsx05 = FMSX05_장비마스터[['bd_cd','bd_nm','fl_cd','fac_cd','fac_nm','jangbi_class_nm_1','jangbi_class_nm_2','jangbi_class_nm_3','jangbi_class_nm_4','fac_instdt']]\n",
    "\n",
    "\n",
    "FMSB07_자재출고[\"mat_cd\"] = FMSB07_자재출고[\"mat_cd\"].astype(\"str\")\n",
    "FMSB07_자재출고[\"mat_cd\"] = list(map(lambda x: x[:-3],FMSB07_자재출고[\"mat_cd\"].tolist())) # FMSB03과 inner join하기 위해 mat_cd 형식 일치\n",
    "fmsb03[\"mat_cd\"] = fmsb03[\"mat_cd\"].astype(\"str\")\n",
    "jajae = pd.merge(FMSB07_자재출고,fmsb03 ,on = 'mat_cd', how = 'inner')\n",
    "jajae = jajae[['job_cd','outw_day','mat_cd','outw_qty','mat_nm_x','jajae_class_nm_1','jajae_class_nm_2','jajae_class_nm_3','jajae_class_cd_3']]\n",
    "\n",
    "\n",
    "jangbi = pd.merge(FMSA11_작업장비이력, fmsx05, how='inner', on='fac_cd')\n",
    "jangbi_broken = pd.merge(fmsa10,jangbi, on='job_cd',how = 'inner')\n",
    "\n",
    "jangbi_broken.drop(['job_cont','chg_sysdt','chg_emp_no'],axis=1,inplace=True)\n",
    "jangbi_broken = jangbi_broken.dropna()\n",
    "\n",
    "jangbi_broken['자재매칭여부'] = jangbi_broken['job_cd']\n",
    "arr_장비 = list(jangbi_broken['job_cd'])\n",
    "arr_자재 = list(jajae['job_cd'])\n",
    "#자재 매칭이 안되는 경우\n",
    "arr = list(set(arr_장비)- set(arr_자재))\n",
    "\n",
    "def function(x):\n",
    "    if x in arr:\n",
    "        return 0\n",
    "    else:\n",
    "         return 1\n",
    "\n",
    "jangbi_broken['자재매칭여부'] = jangbi_broken['자재매칭여부'].apply(function)\n",
    "df = pd.merge(jangbi_broken,jajae, on='job_cd',how = 'inner')\n",
    "\n",
    "final = df[['job_cd','job_nm','job_jisi_dt','job_enddt','job_shm','job_ehm','job_class_nm_1','job_class_nm_2','job_class_nm_3','job_class_nm_4','fac_cd','fac_nm','fac_instdt','mat_cd','mat_nm_x',\n",
    "           'jangbi_class_nm_1','jangbi_class_nm_2','jangbi_class_nm_3','jangbi_class_nm_4','자재매칭여부','mat_nm_x','jajae_class_nm_1','jajae_class_nm_2','jajae_class_nm_3','jajae_class_cd_3']]\n",
    "\n",
    "\n",
    "jangbi_broken = jangbi_broken.sort_values('job_jisi_dt')\n",
    "\n",
    "## 기준일자는 오늘로 설정해야 함 > 작업장비이력\n",
    "jangbi_broken['기준일자'] = '2022-10-11'\n",
    "\n",
    "jangbi_broken['기준일자'] = pd.to_datetime(jangbi_broken['기준일자'])\n",
    "jangbi_broken['fac_instdt'] = pd.to_datetime(jangbi_broken['fac_instdt'])\n",
    "jangbi_broken['job_jisi_dt'] = pd.to_datetime(jangbi_broken['job_jisi_dt'])\n",
    "\n",
    "\n",
    "jangbi_broken['설치-작업간격'] = jangbi_broken['job_jisi_dt'] - jangbi_broken['fac_instdt']\n",
    "\n",
    "def slicing(x):\n",
    "    return x[:-4]\n",
    "jangbi_broken['설치-작업간격'] = jangbi_broken['설치-작업간격'].astype(str)\n",
    "jangbi_broken['설치-작업간격'] = jangbi_broken['설치-작업간격'].apply(slicing)\n",
    "jangbi_broken['설치-작업간격'] = jangbi_broken['설치-작업간격'].astype(int)\n",
    "\n",
    "jangbi_broken['작업-작업간격'] = 0\n",
    "# 모두 장애가 발생한 장비이므로 작업횟수 = 1 로 세팅\n",
    "jangbi_broken['작업횟수'] = 1\n",
    "jangbi_broken = jangbi_broken.sort_values(['fac_cd','설치-작업간격'])"
   ],
   "metadata": {
    "collapsed": false
   }
  },
  {
   "cell_type": "code",
   "execution_count": 7,
   "outputs": [
    {
     "name": "stderr",
     "output_type": "stream",
     "text": [
      "/var/folders/nd/cl2nzwh13zx7jdly2t5m95340000gn/T/ipykernel_21116/279619396.py:5: SettingWithCopyWarning: \n",
      "A value is trying to be set on a copy of a slice from a DataFrame\n",
      "\n",
      "See the caveats in the documentation: https://pandas.pydata.org/pandas-docs/stable/user_guide/indexing.html#returning-a-view-versus-a-copy\n",
      "  jangbi_broken['작업-작업간격'].iloc[i] = jangbi_broken['설치-작업간격'].iloc[i]\n",
      "/var/folders/nd/cl2nzwh13zx7jdly2t5m95340000gn/T/ipykernel_21116/279619396.py:11: SettingWithCopyWarning: \n",
      "A value is trying to be set on a copy of a slice from a DataFrame\n",
      "\n",
      "See the caveats in the documentation: https://pandas.pydata.org/pandas-docs/stable/user_guide/indexing.html#returning-a-view-versus-a-copy\n",
      "  jangbi_broken['작업-작업간격'].iloc[i] = jangbi_broken['설치-작업간격'].iloc[i] - jangbi_broken['설치-작업간격'].iloc[i-1]\n",
      "/var/folders/nd/cl2nzwh13zx7jdly2t5m95340000gn/T/ipykernel_21116/279619396.py:12: SettingWithCopyWarning: \n",
      "A value is trying to be set on a copy of a slice from a DataFrame\n",
      "\n",
      "See the caveats in the documentation: https://pandas.pydata.org/pandas-docs/stable/user_guide/indexing.html#returning-a-view-versus-a-copy\n",
      "  jangbi_broken['작업횟수'].iloc[i] = jangbi_broken['작업횟수'].iloc[i-1] +1\n",
      "/var/folders/nd/cl2nzwh13zx7jdly2t5m95340000gn/T/ipykernel_21116/279619396.py:15: SettingWithCopyWarning: \n",
      "A value is trying to be set on a copy of a slice from a DataFrame\n",
      "\n",
      "See the caveats in the documentation: https://pandas.pydata.org/pandas-docs/stable/user_guide/indexing.html#returning-a-view-versus-a-copy\n",
      "  jangbi_broken['작업-작업간격'].iloc[i] = jangbi_broken['설치-작업간격'].iloc[i]\n"
     ]
    }
   ],
   "source": [
    "\n",
    "# 작업-작업 간격 만들기\n",
    "for i in range(len(jangbi_broken)):\n",
    "    if i == 0:\n",
    "        # 젤 처음 오는 경우 > 장비별 가장 오래된 작업\n",
    "        jangbi_broken['작업-작업간격'].iloc[i] = jangbi_broken['설치-작업간격'].iloc[i]\n",
    "    else :\n",
    "        now_data = jangbi_broken['fac_cd'].iloc[i]\n",
    "        past_data = jangbi_broken['fac_cd'].iloc[i-1]\n",
    "        # 한 장비가 이전에 장애가 발생했을 경우\n",
    "        if now_data == past_data:\n",
    "            jangbi_broken['작업-작업간격'].iloc[i] = jangbi_broken['설치-작업간격'].iloc[i] - jangbi_broken['설치-작업간격'].iloc[i-1]\n",
    "            jangbi_broken['작업횟수'].iloc[i] = jangbi_broken['작업횟수'].iloc[i-1] +1\n",
    "        # 장비가 이전에 장애가 발생하지 않았을 경우\n",
    "        else :\n",
    "            jangbi_broken['작업-작업간격'].iloc[i] = jangbi_broken['설치-작업간격'].iloc[i]"
   ],
   "metadata": {
    "collapsed": false
   }
  },
  {
   "cell_type": "code",
   "execution_count": 8,
   "outputs": [
    {
     "data": {
      "text/plain": "            bd_cd   bd_nm fl_cd        fac_cd                       fac_nm  \\\n0               0       0     0  200201040293  (3)세-1F-0(여)로비-화장실) 세면대 2대    \n1               0       0     0  200201010257                   9F여1대변기(5)   \n2               0       0     0  200202030001                        우수조#1   \n3               0       0     0  200105080599               배기휀#76(EF-504)   \n4               0       0     0  200202010001                        시수조#1   \n...           ...     ...   ...           ...                          ...   \n43584  SJ-SCJS-01  SCC전시동  P006  700101020004                  SCC 4호기 권상기   \n43585  SJ-SCJS-01  SCC전시동  P006  700101020005                  SCC 5호기 권상기   \n43586  SJ-SCJS-01  SCC전시동  P006  700101020006                  SCC 6호기 권상기   \n43587  SJ-SCJS-01  SCC전시동  P006  700201010010                  SCC 7호기 제어반   \n43588  SJ-SCJS-01  SCC전시동  P006  700201020001                  SCC 7호기 권상기   \n\n      jangbi_class_nm_1 jangbi_class_nm_2 jangbi_class_nm_3 jangbi_class_nm_4  \\\n0                    기계          위생, 탱크설비              위생설비            세면대 수전   \n1                    기계          위생, 탱크설비              위생설비               대변기   \n2                    기계          위생, 탱크설비              탱크설비            우수 저장조   \n3                    기계            공기조화설비              환기설비               환기팬   \n4                    기계          위생, 탱크설비              탱크설비            상수 저장조   \n...                 ...               ...               ...               ...   \n43584               승강기               승객용                MR               권상기   \n43585               승강기               승객용                MR               권상기   \n43586               승강기               승객용                MR               권상기   \n43587               승강기               화물용               로프식               제어반   \n43588               승강기               화물용               로프식               권상기   \n\n      fac_instdt job_jisi_dt  설치-작업간격  작업-작업간격  작업횟수 job_cd job_nm   max_time  \\\n0     2018-03-05           0     1681     1681   0.0      0      0 2022-10-11   \n1     2014-06-01           0     3054     3054   0.0      0      0 2022-10-11   \n2     2019-10-22           0     1085     1085   0.0      0      0 2022-10-11   \n3     2019-10-23           0     1084     1084   0.0      0      0 2022-10-11   \n4     2019-10-22           0     1085     1085   0.0      0      0 2022-10-11   \n...          ...         ...      ...      ...   ...    ...    ...        ...   \n43584 2013-11-12           0     3255     3255   0.0      0      0 2022-10-11   \n43585 2013-11-12           0     3255     3255   0.0      0      0 2022-10-11   \n43586 2013-11-12           0     3255     3255   0.0      0      0 2022-10-11   \n43587 2014-10-17           0     2916     2916   0.0      0      0 2022-10-11   \n43588 2013-11-12           0     3255     3255   0.0      0      0 2022-10-11   \n\n       경과시간  status  \n0      1681       0  \n1      3054       0  \n2      1085       0  \n3      1084       0  \n4      1085       0  \n...     ...     ...  \n43584  3255       0  \n43585  3255       0  \n43586  3255       0  \n43587  2916       0  \n43588  3255       0  \n\n[41137 rows x 19 columns]",
      "text/html": "<div>\n<style scoped>\n    .dataframe tbody tr th:only-of-type {\n        vertical-align: middle;\n    }\n\n    .dataframe tbody tr th {\n        vertical-align: top;\n    }\n\n    .dataframe thead th {\n        text-align: right;\n    }\n</style>\n<table border=\"1\" class=\"dataframe\">\n  <thead>\n    <tr style=\"text-align: right;\">\n      <th></th>\n      <th>bd_cd</th>\n      <th>bd_nm</th>\n      <th>fl_cd</th>\n      <th>fac_cd</th>\n      <th>fac_nm</th>\n      <th>jangbi_class_nm_1</th>\n      <th>jangbi_class_nm_2</th>\n      <th>jangbi_class_nm_3</th>\n      <th>jangbi_class_nm_4</th>\n      <th>fac_instdt</th>\n      <th>job_jisi_dt</th>\n      <th>설치-작업간격</th>\n      <th>작업-작업간격</th>\n      <th>작업횟수</th>\n      <th>job_cd</th>\n      <th>job_nm</th>\n      <th>max_time</th>\n      <th>경과시간</th>\n      <th>status</th>\n    </tr>\n  </thead>\n  <tbody>\n    <tr>\n      <th>0</th>\n      <td>0</td>\n      <td>0</td>\n      <td>0</td>\n      <td>200201040293</td>\n      <td>(3)세-1F-0(여)로비-화장실) 세면대 2대</td>\n      <td>기계</td>\n      <td>위생, 탱크설비</td>\n      <td>위생설비</td>\n      <td>세면대 수전</td>\n      <td>2018-03-05</td>\n      <td>0</td>\n      <td>1681</td>\n      <td>1681</td>\n      <td>0.0</td>\n      <td>0</td>\n      <td>0</td>\n      <td>2022-10-11</td>\n      <td>1681</td>\n      <td>0</td>\n    </tr>\n    <tr>\n      <th>1</th>\n      <td>0</td>\n      <td>0</td>\n      <td>0</td>\n      <td>200201010257</td>\n      <td>9F여1대변기(5)</td>\n      <td>기계</td>\n      <td>위생, 탱크설비</td>\n      <td>위생설비</td>\n      <td>대변기</td>\n      <td>2014-06-01</td>\n      <td>0</td>\n      <td>3054</td>\n      <td>3054</td>\n      <td>0.0</td>\n      <td>0</td>\n      <td>0</td>\n      <td>2022-10-11</td>\n      <td>3054</td>\n      <td>0</td>\n    </tr>\n    <tr>\n      <th>2</th>\n      <td>0</td>\n      <td>0</td>\n      <td>0</td>\n      <td>200202030001</td>\n      <td>우수조#1</td>\n      <td>기계</td>\n      <td>위생, 탱크설비</td>\n      <td>탱크설비</td>\n      <td>우수 저장조</td>\n      <td>2019-10-22</td>\n      <td>0</td>\n      <td>1085</td>\n      <td>1085</td>\n      <td>0.0</td>\n      <td>0</td>\n      <td>0</td>\n      <td>2022-10-11</td>\n      <td>1085</td>\n      <td>0</td>\n    </tr>\n    <tr>\n      <th>3</th>\n      <td>0</td>\n      <td>0</td>\n      <td>0</td>\n      <td>200105080599</td>\n      <td>배기휀#76(EF-504)</td>\n      <td>기계</td>\n      <td>공기조화설비</td>\n      <td>환기설비</td>\n      <td>환기팬</td>\n      <td>2019-10-23</td>\n      <td>0</td>\n      <td>1084</td>\n      <td>1084</td>\n      <td>0.0</td>\n      <td>0</td>\n      <td>0</td>\n      <td>2022-10-11</td>\n      <td>1084</td>\n      <td>0</td>\n    </tr>\n    <tr>\n      <th>4</th>\n      <td>0</td>\n      <td>0</td>\n      <td>0</td>\n      <td>200202010001</td>\n      <td>시수조#1</td>\n      <td>기계</td>\n      <td>위생, 탱크설비</td>\n      <td>탱크설비</td>\n      <td>상수 저장조</td>\n      <td>2019-10-22</td>\n      <td>0</td>\n      <td>1085</td>\n      <td>1085</td>\n      <td>0.0</td>\n      <td>0</td>\n      <td>0</td>\n      <td>2022-10-11</td>\n      <td>1085</td>\n      <td>0</td>\n    </tr>\n    <tr>\n      <th>...</th>\n      <td>...</td>\n      <td>...</td>\n      <td>...</td>\n      <td>...</td>\n      <td>...</td>\n      <td>...</td>\n      <td>...</td>\n      <td>...</td>\n      <td>...</td>\n      <td>...</td>\n      <td>...</td>\n      <td>...</td>\n      <td>...</td>\n      <td>...</td>\n      <td>...</td>\n      <td>...</td>\n      <td>...</td>\n      <td>...</td>\n      <td>...</td>\n    </tr>\n    <tr>\n      <th>43584</th>\n      <td>SJ-SCJS-01</td>\n      <td>SCC전시동</td>\n      <td>P006</td>\n      <td>700101020004</td>\n      <td>SCC 4호기 권상기</td>\n      <td>승강기</td>\n      <td>승객용</td>\n      <td>MR</td>\n      <td>권상기</td>\n      <td>2013-11-12</td>\n      <td>0</td>\n      <td>3255</td>\n      <td>3255</td>\n      <td>0.0</td>\n      <td>0</td>\n      <td>0</td>\n      <td>2022-10-11</td>\n      <td>3255</td>\n      <td>0</td>\n    </tr>\n    <tr>\n      <th>43585</th>\n      <td>SJ-SCJS-01</td>\n      <td>SCC전시동</td>\n      <td>P006</td>\n      <td>700101020005</td>\n      <td>SCC 5호기 권상기</td>\n      <td>승강기</td>\n      <td>승객용</td>\n      <td>MR</td>\n      <td>권상기</td>\n      <td>2013-11-12</td>\n      <td>0</td>\n      <td>3255</td>\n      <td>3255</td>\n      <td>0.0</td>\n      <td>0</td>\n      <td>0</td>\n      <td>2022-10-11</td>\n      <td>3255</td>\n      <td>0</td>\n    </tr>\n    <tr>\n      <th>43586</th>\n      <td>SJ-SCJS-01</td>\n      <td>SCC전시동</td>\n      <td>P006</td>\n      <td>700101020006</td>\n      <td>SCC 6호기 권상기</td>\n      <td>승강기</td>\n      <td>승객용</td>\n      <td>MR</td>\n      <td>권상기</td>\n      <td>2013-11-12</td>\n      <td>0</td>\n      <td>3255</td>\n      <td>3255</td>\n      <td>0.0</td>\n      <td>0</td>\n      <td>0</td>\n      <td>2022-10-11</td>\n      <td>3255</td>\n      <td>0</td>\n    </tr>\n    <tr>\n      <th>43587</th>\n      <td>SJ-SCJS-01</td>\n      <td>SCC전시동</td>\n      <td>P006</td>\n      <td>700201010010</td>\n      <td>SCC 7호기 제어반</td>\n      <td>승강기</td>\n      <td>화물용</td>\n      <td>로프식</td>\n      <td>제어반</td>\n      <td>2014-10-17</td>\n      <td>0</td>\n      <td>2916</td>\n      <td>2916</td>\n      <td>0.0</td>\n      <td>0</td>\n      <td>0</td>\n      <td>2022-10-11</td>\n      <td>2916</td>\n      <td>0</td>\n    </tr>\n    <tr>\n      <th>43588</th>\n      <td>SJ-SCJS-01</td>\n      <td>SCC전시동</td>\n      <td>P006</td>\n      <td>700201020001</td>\n      <td>SCC 7호기 권상기</td>\n      <td>승강기</td>\n      <td>화물용</td>\n      <td>로프식</td>\n      <td>권상기</td>\n      <td>2013-11-12</td>\n      <td>0</td>\n      <td>3255</td>\n      <td>3255</td>\n      <td>0.0</td>\n      <td>0</td>\n      <td>0</td>\n      <td>2022-10-11</td>\n      <td>3255</td>\n      <td>0</td>\n    </tr>\n  </tbody>\n</table>\n<p>41137 rows × 19 columns</p>\n</div>"
     },
     "execution_count": 8,
     "metadata": {},
     "output_type": "execute_result"
    }
   ],
   "source": [
    "max_time = datetime.datetime(2022,10,11)\n",
    "\n",
    "analysis_data = pd.merge(fmsx05,jangbi_broken[['job_jisi_dt','fac_cd','설치-작업간격','작업-작업간격','작업횟수','job_cd','job_nm']], on ='fac_cd', how ='left')\n",
    "\n",
    "analysis_data['fac_instdt'] = pd.to_datetime(analysis_data['fac_instdt'])\n",
    "\n",
    "analysis_data = analysis_data[analysis_data['fac_instdt'] <= max_time]\n",
    "\n",
    "\n",
    "analysis_data['max_time'] = max_time\n",
    "analysis_data['max_time'] = pd.to_datetime(analysis_data['max_time'])\n",
    "analysis_data['작업-작업간격'] = analysis_data['작업-작업간격'].fillna(999999)\n",
    "\n",
    "analysis_data['설치-작업간격'] = analysis_data['설치-작업간격'].fillna(999999)\n",
    "\n",
    "analysis_data['경과시간'] = 0\n",
    "\n",
    "def time(df):\n",
    "    x = df['작업-작업간격']\n",
    "    if x == 999999:\n",
    "        return int(str(df['max_time'] -  df['fac_instdt'])[:-13])\n",
    "    else :\n",
    "        return int(x)\n",
    "def time2(df):\n",
    "    x = df['설치-작업간격']\n",
    "    if x == 999999:\n",
    "        return int(str(df['max_time'] -  df['fac_instdt'])[:-13])\n",
    "    else :\n",
    "        return int(x)\n",
    "\n",
    "def time3(df):\n",
    "    if df['status'] == 0 :\n",
    "        return int(str(df['max_time'] -  df['fac_instdt'])[:-13])\n",
    "    else :\n",
    "        return int(str(df['max_time'] -  df['job_jisi_dt'])[:-13])\n",
    "\n",
    "\n",
    "def status(df):\n",
    "    if df['작업횟수'] == 0:\n",
    "        return 0\n",
    "    else :\n",
    "        return 1\n",
    "\n",
    "analysis_data['작업횟수'] = analysis_data['작업횟수'].fillna(0)\n",
    "analysis_data['작업-작업간격'] = analysis_data.apply(time,axis=1)\n",
    "analysis_data['설치-작업간격'] = analysis_data.apply(time2,axis=1)\n",
    "analysis_data['status'] = analysis_data.apply(status,axis=1)\n",
    "analysis_data['경과시간'] =  analysis_data.apply(time3,axis=1)\n",
    "analysis_data = analysis_data.fillna(0)\n",
    "analysis_data"
   ],
   "metadata": {
    "collapsed": false
   }
  },
  {
   "cell_type": "markdown",
   "source": [],
   "metadata": {
    "collapsed": false
   }
  },
  {
   "cell_type": "code",
   "execution_count": 10,
   "outputs": [],
   "source": [
    "기계 = pd.read_excel(raw_data + '수행자재_완료.xlsx',sheet_name='기계')\n",
    "통신 = pd.read_excel(raw_data +'수행자재_완료.xlsx',sheet_name='통신')\n",
    "방재 = pd.read_excel(raw_data +'수행자재_완료.xlsx',sheet_name='방재')\n",
    "승강기 = pd.read_excel(raw_data +'수행자재_완료.xlsx',sheet_name='승강기')\n",
    "전기 = pd.read_excel(raw_data +'수행자재_완료.xlsx',sheet_name='전기')"
   ],
   "metadata": {
    "collapsed": false
   }
  },
  {
   "cell_type": "code",
   "execution_count": 11,
   "outputs": [],
   "source": [
    "수행범위 = pd.concat([기계,통신,방재,승강기,전기])\n",
    "input_data= pd.merge(수행범위,analysis_data, how = 'left',left_on=['Lv1','Lv2','Lv3','Lv4'],right_on=['jangbi_class_nm_1','jangbi_class_nm_2','jangbi_class_nm_3','jangbi_class_nm_4'])\n",
    "input_data.drop(['jangbi_class_nm_1','jangbi_class_nm_2','jangbi_class_nm_3','jangbi_class_nm_4'],axis=1,inplace = True)\n",
    "input_data['비고'] = input_data['비고'].fillna(0)\n",
    "input_data = input_data.dropna()"
   ],
   "metadata": {
    "collapsed": false
   }
  },
  {
   "cell_type": "code",
   "execution_count": 12,
   "outputs": [
    {
     "data": {
      "text/plain": "       Lv1  Lv2 Lv3  Lv4  장애건수  자재매칭건수  매칭비율      그룹정의 장애분석 자재분석  ...  \\\n32551  승강기  승객용  MR  권상기   0.0     0.0   0.0  권상기(승객용)    ○    ○  ...   \n32552  승강기  승객용  MR  권상기   0.0     0.0   0.0  권상기(승객용)    ○    ○  ...   \n32553  승강기  승객용  MR  권상기   0.0     0.0   0.0  권상기(승객용)    ○    ○  ...   \n32554  승강기  승객용  MR  권상기   0.0     0.0   0.0  권상기(승객용)    ○    ○  ...   \n32555  승강기  승객용  MR  권상기   0.0     0.0   0.0  권상기(승객용)    ○    ○  ...   \n32556  승강기  승객용  MR  권상기   0.0     0.0   0.0  권상기(승객용)    ○    ○  ...   \n32557  승강기  승객용  MR  권상기   0.0     0.0   0.0  권상기(승객용)    ○    ○  ...   \n32558  승강기  승객용  MR  권상기   0.0     0.0   0.0  권상기(승객용)    ○    ○  ...   \n32559  승강기  승객용  MR  권상기   0.0     0.0   0.0  권상기(승객용)    ○    ○  ...   \n32560  승강기  승객용  MR  권상기   0.0     0.0   0.0  권상기(승객용)    ○    ○  ...   \n32561  승강기  승객용  MR  권상기   0.0     0.0   0.0  권상기(승객용)    ○    ○  ...   \n32562  승강기  승객용  MR  권상기   0.0     0.0   0.0  권상기(승객용)    ○    ○  ...   \n32563  승강기  승객용  MR  권상기   0.0     0.0   0.0  권상기(승객용)    ○    ○  ...   \n32564  승강기  승객용  MR  권상기   0.0     0.0   0.0  권상기(승객용)    ○    ○  ...   \n32565  승강기  승객용  MR  권상기   0.0     0.0   0.0  권상기(승객용)    ○    ○  ...   \n32566  승강기  승객용  MR  권상기   0.0     0.0   0.0  권상기(승객용)    ○    ○  ...   \n32567  승강기  승객용  MR  권상기   0.0     0.0   0.0  권상기(승객용)    ○    ○  ...   \n32568  승강기  승객용  MR  권상기   0.0     0.0   0.0  권상기(승객용)    ○    ○  ...   \n32569  승강기  승객용  MR  권상기   0.0     0.0   0.0  권상기(승객용)    ○    ○  ...   \n32570  승강기  승객용  MR  권상기   0.0     0.0   0.0  권상기(승객용)    ○    ○  ...   \n32571  승강기  승객용  MR  권상기   0.0     0.0   0.0  권상기(승객용)    ○    ○  ...   \n32572  승강기  승객용  MR  권상기   0.0     0.0   0.0  권상기(승객용)    ○    ○  ...   \n32573  승강기  승객용  MR  권상기   0.0     0.0   0.0  권상기(승객용)    ○    ○  ...   \n32574  승강기  승객용  MR  권상기   0.0     0.0   0.0  권상기(승객용)    ○    ○  ...   \n32575  승강기  승객용  MR  권상기   0.0     0.0   0.0  권상기(승객용)    ○    ○  ...   \n32576  승강기  승객용  MR  권상기   0.0     0.0   0.0  권상기(승객용)    ○    ○  ...   \n32577  승강기  승객용  MR  권상기   0.0     0.0   0.0  권상기(승객용)    ○    ○  ...   \n32578  승강기  승객용  MR  권상기   0.0     0.0   0.0  권상기(승객용)    ○    ○  ...   \n32579  승강기  승객용  MR  권상기   0.0     0.0   0.0  권상기(승객용)    ○    ○  ...   \n32580  승강기  승객용  MR  권상기   0.0     0.0   0.0  권상기(승객용)    ○    ○  ...   \n32581  승강기  승객용  MR  권상기   0.0     0.0   0.0  권상기(승객용)    ○    ○  ...   \n32582  승강기  승객용  MR  권상기   0.0     0.0   0.0  권상기(승객용)    ○    ○  ...   \n32583  승강기  승객용  MR  권상기   0.0     0.0   0.0  권상기(승객용)    ○    ○  ...   \n32584  승강기  승객용  MR  권상기   0.0     0.0   0.0  권상기(승객용)    ○    ○  ...   \n32585  승강기  승객용  MR  권상기   0.0     0.0   0.0  권상기(승객용)    ○    ○  ...   \n\n      fac_instdt          job_jisi_dt 설치-작업간격 작업-작업간격  작업횟수        job_cd  \\\n32551 2013-07-03                    0  3387.0  3387.0   0.0             0   \n32552 2013-11-12                    0  3255.0  3255.0   0.0             0   \n32553 2013-11-12                    0  3255.0  3255.0   0.0             0   \n32554 2013-11-12                    0  3255.0  3255.0   0.0             0   \n32555 2014-10-01                    0  2932.0  2932.0   0.0             0   \n32556 2014-10-01                    0  2932.0  2932.0   0.0             0   \n32557 2012-09-01                    0  3692.0  3692.0   0.0             0   \n32558 2014-10-01                    0  2932.0  2932.0   0.0             0   \n32559 2014-10-01                    0  2932.0  2932.0   0.0             0   \n32560 2014-10-01                    0  2932.0  2932.0   0.0             0   \n32561 2013-11-12                    0  3255.0  3255.0   0.0             0   \n32562 2014-08-01                    0  2993.0  2993.0   0.0             0   \n32563 2014-08-01  2022-03-16 00:00:00  2784.0  2784.0   1.0  220316-00035   \n32564 2013-07-03                    0  3387.0  3387.0   0.0             0   \n32565 2013-11-12  2022-02-24 00:00:00  3026.0  3026.0   1.0  220224-00057   \n32566 2014-10-01                    0  2932.0  2932.0   0.0             0   \n32567 2014-10-01  2022-08-18 00:00:00  2878.0  2878.0   1.0  220818-00061   \n32568 2014-08-01                    0  2993.0  2993.0   0.0             0   \n32569 2013-11-12  2022-03-08 00:00:00  3038.0  3038.0   1.0  220308-00041   \n32570 2013-11-12  2022-03-08 00:00:00  3038.0  3038.0   1.0  220308-00041   \n32571 2014-08-01  2022-03-07 00:00:00  2775.0  2775.0   1.0  220307-00072   \n32572 2013-11-12                    0  3255.0  3255.0   0.0             0   \n32573 2014-08-01  2022-03-11 00:00:00  2779.0  2779.0   1.0  220311-00031   \n32574 2014-08-01  2022-03-11 00:00:00  2779.0  2779.0   1.0  220311-00031   \n32575 2013-06-24                    0  3396.0  3396.0   0.0             0   \n32576 2013-11-12  2022-03-07 00:00:00  3037.0  3037.0   1.0  220307-00034   \n32577 2014-08-01                    0  2993.0  2993.0   0.0             0   \n32578 2014-10-01                    0  2932.0  2932.0   0.0             0   \n32579 2014-10-01                    0  2932.0  2932.0   0.0             0   \n32580 2012-09-01                    0  3692.0  3692.0   0.0             0   \n32581 2013-07-03                    0  3387.0  3387.0   0.0             0   \n32582 2013-11-12                    0  3255.0  3255.0   0.0             0   \n32583 2013-11-12                    0  3255.0  3255.0   0.0             0   \n32584 2013-11-12                    0  3255.0  3255.0   0.0             0   \n32585 2013-11-12                    0  3255.0  3255.0   0.0             0   \n\n                                 job_nm   max_time    경과시간  status  \n32551                                 0 2022-10-11  3387.0     0.0  \n32552                                 0 2022-10-11  3255.0     0.0  \n32553                                 0 2022-10-11  3255.0     0.0  \n32554                                 0 2022-10-11  3255.0     0.0  \n32555                                 0 2022-10-11  2932.0     0.0  \n32556                                 0 2022-10-11  2932.0     0.0  \n32557                                 0 2022-10-11  3692.0     0.0  \n32558                                 0 2022-10-11  2932.0     0.0  \n32559                                 0 2022-10-11  2932.0     0.0  \n32560                                 0 2022-10-11  2932.0     0.0  \n32561                                 0 2022-10-11  3255.0     0.0  \n32562                                 0 2022-10-11  2993.0     0.0  \n32563    11동 19호기 권상기 메인시브,세컨 시브 구리스 주입 2022-10-11   209.0     1.0  \n32564                                 0 2022-10-11  3387.0     0.0  \n32565  11동 21호기 권상기 메인시브, 세컨시브 구리스 주입작업 2022-10-11   229.0     1.0  \n32566                                 0 2022-10-11  2932.0     0.0  \n32567         11동 17호기 브레이크 마이크로 스위치 교체 2022-10-11    54.0     1.0  \n32568                                 0 2022-10-11  2993.0     0.0  \n32569                        브레이크스위치 교체 2022-10-11   217.0     1.0  \n32570                        브레이크스위치 교체 2022-10-11   217.0     1.0  \n32571                   2호기 브레이크 스위치 교체 2022-10-11   218.0     1.0  \n32572                                 0 2022-10-11  3255.0     0.0  \n32573               13,14호기 브레이크 스위치 교체 2022-10-11   214.0     1.0  \n32574               13,14호기 브레이크 스위치 교체 2022-10-11   214.0     1.0  \n32575                                 0 2022-10-11  3396.0     0.0  \n32576                   18호기 브레이크스위치 교체 2022-10-11   218.0     1.0  \n32577                                 0 2022-10-11  2993.0     0.0  \n32578                                 0 2022-10-11  2932.0     0.0  \n32579                                 0 2022-10-11  2932.0     0.0  \n32580                                 0 2022-10-11  3692.0     0.0  \n32581                                 0 2022-10-11  3387.0     0.0  \n32582                                 0 2022-10-11  3255.0     0.0  \n32583                                 0 2022-10-11  3255.0     0.0  \n32584                                 0 2022-10-11  3255.0     0.0  \n32585                                 0 2022-10-11  3255.0     0.0  \n\n[35 rows x 26 columns]",
      "text/html": "<div>\n<style scoped>\n    .dataframe tbody tr th:only-of-type {\n        vertical-align: middle;\n    }\n\n    .dataframe tbody tr th {\n        vertical-align: top;\n    }\n\n    .dataframe thead th {\n        text-align: right;\n    }\n</style>\n<table border=\"1\" class=\"dataframe\">\n  <thead>\n    <tr style=\"text-align: right;\">\n      <th></th>\n      <th>Lv1</th>\n      <th>Lv2</th>\n      <th>Lv3</th>\n      <th>Lv4</th>\n      <th>장애건수</th>\n      <th>자재매칭건수</th>\n      <th>매칭비율</th>\n      <th>그룹정의</th>\n      <th>장애분석</th>\n      <th>자재분석</th>\n      <th>...</th>\n      <th>fac_instdt</th>\n      <th>job_jisi_dt</th>\n      <th>설치-작업간격</th>\n      <th>작업-작업간격</th>\n      <th>작업횟수</th>\n      <th>job_cd</th>\n      <th>job_nm</th>\n      <th>max_time</th>\n      <th>경과시간</th>\n      <th>status</th>\n    </tr>\n  </thead>\n  <tbody>\n    <tr>\n      <th>32551</th>\n      <td>승강기</td>\n      <td>승객용</td>\n      <td>MR</td>\n      <td>권상기</td>\n      <td>0.0</td>\n      <td>0.0</td>\n      <td>0.0</td>\n      <td>권상기(승객용)</td>\n      <td>○</td>\n      <td>○</td>\n      <td>...</td>\n      <td>2013-07-03</td>\n      <td>0</td>\n      <td>3387.0</td>\n      <td>3387.0</td>\n      <td>0.0</td>\n      <td>0</td>\n      <td>0</td>\n      <td>2022-10-11</td>\n      <td>3387.0</td>\n      <td>0.0</td>\n    </tr>\n    <tr>\n      <th>32552</th>\n      <td>승강기</td>\n      <td>승객용</td>\n      <td>MR</td>\n      <td>권상기</td>\n      <td>0.0</td>\n      <td>0.0</td>\n      <td>0.0</td>\n      <td>권상기(승객용)</td>\n      <td>○</td>\n      <td>○</td>\n      <td>...</td>\n      <td>2013-11-12</td>\n      <td>0</td>\n      <td>3255.0</td>\n      <td>3255.0</td>\n      <td>0.0</td>\n      <td>0</td>\n      <td>0</td>\n      <td>2022-10-11</td>\n      <td>3255.0</td>\n      <td>0.0</td>\n    </tr>\n    <tr>\n      <th>32553</th>\n      <td>승강기</td>\n      <td>승객용</td>\n      <td>MR</td>\n      <td>권상기</td>\n      <td>0.0</td>\n      <td>0.0</td>\n      <td>0.0</td>\n      <td>권상기(승객용)</td>\n      <td>○</td>\n      <td>○</td>\n      <td>...</td>\n      <td>2013-11-12</td>\n      <td>0</td>\n      <td>3255.0</td>\n      <td>3255.0</td>\n      <td>0.0</td>\n      <td>0</td>\n      <td>0</td>\n      <td>2022-10-11</td>\n      <td>3255.0</td>\n      <td>0.0</td>\n    </tr>\n    <tr>\n      <th>32554</th>\n      <td>승강기</td>\n      <td>승객용</td>\n      <td>MR</td>\n      <td>권상기</td>\n      <td>0.0</td>\n      <td>0.0</td>\n      <td>0.0</td>\n      <td>권상기(승객용)</td>\n      <td>○</td>\n      <td>○</td>\n      <td>...</td>\n      <td>2013-11-12</td>\n      <td>0</td>\n      <td>3255.0</td>\n      <td>3255.0</td>\n      <td>0.0</td>\n      <td>0</td>\n      <td>0</td>\n      <td>2022-10-11</td>\n      <td>3255.0</td>\n      <td>0.0</td>\n    </tr>\n    <tr>\n      <th>32555</th>\n      <td>승강기</td>\n      <td>승객용</td>\n      <td>MR</td>\n      <td>권상기</td>\n      <td>0.0</td>\n      <td>0.0</td>\n      <td>0.0</td>\n      <td>권상기(승객용)</td>\n      <td>○</td>\n      <td>○</td>\n      <td>...</td>\n      <td>2014-10-01</td>\n      <td>0</td>\n      <td>2932.0</td>\n      <td>2932.0</td>\n      <td>0.0</td>\n      <td>0</td>\n      <td>0</td>\n      <td>2022-10-11</td>\n      <td>2932.0</td>\n      <td>0.0</td>\n    </tr>\n    <tr>\n      <th>32556</th>\n      <td>승강기</td>\n      <td>승객용</td>\n      <td>MR</td>\n      <td>권상기</td>\n      <td>0.0</td>\n      <td>0.0</td>\n      <td>0.0</td>\n      <td>권상기(승객용)</td>\n      <td>○</td>\n      <td>○</td>\n      <td>...</td>\n      <td>2014-10-01</td>\n      <td>0</td>\n      <td>2932.0</td>\n      <td>2932.0</td>\n      <td>0.0</td>\n      <td>0</td>\n      <td>0</td>\n      <td>2022-10-11</td>\n      <td>2932.0</td>\n      <td>0.0</td>\n    </tr>\n    <tr>\n      <th>32557</th>\n      <td>승강기</td>\n      <td>승객용</td>\n      <td>MR</td>\n      <td>권상기</td>\n      <td>0.0</td>\n      <td>0.0</td>\n      <td>0.0</td>\n      <td>권상기(승객용)</td>\n      <td>○</td>\n      <td>○</td>\n      <td>...</td>\n      <td>2012-09-01</td>\n      <td>0</td>\n      <td>3692.0</td>\n      <td>3692.0</td>\n      <td>0.0</td>\n      <td>0</td>\n      <td>0</td>\n      <td>2022-10-11</td>\n      <td>3692.0</td>\n      <td>0.0</td>\n    </tr>\n    <tr>\n      <th>32558</th>\n      <td>승강기</td>\n      <td>승객용</td>\n      <td>MR</td>\n      <td>권상기</td>\n      <td>0.0</td>\n      <td>0.0</td>\n      <td>0.0</td>\n      <td>권상기(승객용)</td>\n      <td>○</td>\n      <td>○</td>\n      <td>...</td>\n      <td>2014-10-01</td>\n      <td>0</td>\n      <td>2932.0</td>\n      <td>2932.0</td>\n      <td>0.0</td>\n      <td>0</td>\n      <td>0</td>\n      <td>2022-10-11</td>\n      <td>2932.0</td>\n      <td>0.0</td>\n    </tr>\n    <tr>\n      <th>32559</th>\n      <td>승강기</td>\n      <td>승객용</td>\n      <td>MR</td>\n      <td>권상기</td>\n      <td>0.0</td>\n      <td>0.0</td>\n      <td>0.0</td>\n      <td>권상기(승객용)</td>\n      <td>○</td>\n      <td>○</td>\n      <td>...</td>\n      <td>2014-10-01</td>\n      <td>0</td>\n      <td>2932.0</td>\n      <td>2932.0</td>\n      <td>0.0</td>\n      <td>0</td>\n      <td>0</td>\n      <td>2022-10-11</td>\n      <td>2932.0</td>\n      <td>0.0</td>\n    </tr>\n    <tr>\n      <th>32560</th>\n      <td>승강기</td>\n      <td>승객용</td>\n      <td>MR</td>\n      <td>권상기</td>\n      <td>0.0</td>\n      <td>0.0</td>\n      <td>0.0</td>\n      <td>권상기(승객용)</td>\n      <td>○</td>\n      <td>○</td>\n      <td>...</td>\n      <td>2014-10-01</td>\n      <td>0</td>\n      <td>2932.0</td>\n      <td>2932.0</td>\n      <td>0.0</td>\n      <td>0</td>\n      <td>0</td>\n      <td>2022-10-11</td>\n      <td>2932.0</td>\n      <td>0.0</td>\n    </tr>\n    <tr>\n      <th>32561</th>\n      <td>승강기</td>\n      <td>승객용</td>\n      <td>MR</td>\n      <td>권상기</td>\n      <td>0.0</td>\n      <td>0.0</td>\n      <td>0.0</td>\n      <td>권상기(승객용)</td>\n      <td>○</td>\n      <td>○</td>\n      <td>...</td>\n      <td>2013-11-12</td>\n      <td>0</td>\n      <td>3255.0</td>\n      <td>3255.0</td>\n      <td>0.0</td>\n      <td>0</td>\n      <td>0</td>\n      <td>2022-10-11</td>\n      <td>3255.0</td>\n      <td>0.0</td>\n    </tr>\n    <tr>\n      <th>32562</th>\n      <td>승강기</td>\n      <td>승객용</td>\n      <td>MR</td>\n      <td>권상기</td>\n      <td>0.0</td>\n      <td>0.0</td>\n      <td>0.0</td>\n      <td>권상기(승객용)</td>\n      <td>○</td>\n      <td>○</td>\n      <td>...</td>\n      <td>2014-08-01</td>\n      <td>0</td>\n      <td>2993.0</td>\n      <td>2993.0</td>\n      <td>0.0</td>\n      <td>0</td>\n      <td>0</td>\n      <td>2022-10-11</td>\n      <td>2993.0</td>\n      <td>0.0</td>\n    </tr>\n    <tr>\n      <th>32563</th>\n      <td>승강기</td>\n      <td>승객용</td>\n      <td>MR</td>\n      <td>권상기</td>\n      <td>0.0</td>\n      <td>0.0</td>\n      <td>0.0</td>\n      <td>권상기(승객용)</td>\n      <td>○</td>\n      <td>○</td>\n      <td>...</td>\n      <td>2014-08-01</td>\n      <td>2022-03-16 00:00:00</td>\n      <td>2784.0</td>\n      <td>2784.0</td>\n      <td>1.0</td>\n      <td>220316-00035</td>\n      <td>11동 19호기 권상기 메인시브,세컨 시브 구리스 주입</td>\n      <td>2022-10-11</td>\n      <td>209.0</td>\n      <td>1.0</td>\n    </tr>\n    <tr>\n      <th>32564</th>\n      <td>승강기</td>\n      <td>승객용</td>\n      <td>MR</td>\n      <td>권상기</td>\n      <td>0.0</td>\n      <td>0.0</td>\n      <td>0.0</td>\n      <td>권상기(승객용)</td>\n      <td>○</td>\n      <td>○</td>\n      <td>...</td>\n      <td>2013-07-03</td>\n      <td>0</td>\n      <td>3387.0</td>\n      <td>3387.0</td>\n      <td>0.0</td>\n      <td>0</td>\n      <td>0</td>\n      <td>2022-10-11</td>\n      <td>3387.0</td>\n      <td>0.0</td>\n    </tr>\n    <tr>\n      <th>32565</th>\n      <td>승강기</td>\n      <td>승객용</td>\n      <td>MR</td>\n      <td>권상기</td>\n      <td>0.0</td>\n      <td>0.0</td>\n      <td>0.0</td>\n      <td>권상기(승객용)</td>\n      <td>○</td>\n      <td>○</td>\n      <td>...</td>\n      <td>2013-11-12</td>\n      <td>2022-02-24 00:00:00</td>\n      <td>3026.0</td>\n      <td>3026.0</td>\n      <td>1.0</td>\n      <td>220224-00057</td>\n      <td>11동 21호기 권상기 메인시브, 세컨시브 구리스 주입작업</td>\n      <td>2022-10-11</td>\n      <td>229.0</td>\n      <td>1.0</td>\n    </tr>\n    <tr>\n      <th>32566</th>\n      <td>승강기</td>\n      <td>승객용</td>\n      <td>MR</td>\n      <td>권상기</td>\n      <td>0.0</td>\n      <td>0.0</td>\n      <td>0.0</td>\n      <td>권상기(승객용)</td>\n      <td>○</td>\n      <td>○</td>\n      <td>...</td>\n      <td>2014-10-01</td>\n      <td>0</td>\n      <td>2932.0</td>\n      <td>2932.0</td>\n      <td>0.0</td>\n      <td>0</td>\n      <td>0</td>\n      <td>2022-10-11</td>\n      <td>2932.0</td>\n      <td>0.0</td>\n    </tr>\n    <tr>\n      <th>32567</th>\n      <td>승강기</td>\n      <td>승객용</td>\n      <td>MR</td>\n      <td>권상기</td>\n      <td>0.0</td>\n      <td>0.0</td>\n      <td>0.0</td>\n      <td>권상기(승객용)</td>\n      <td>○</td>\n      <td>○</td>\n      <td>...</td>\n      <td>2014-10-01</td>\n      <td>2022-08-18 00:00:00</td>\n      <td>2878.0</td>\n      <td>2878.0</td>\n      <td>1.0</td>\n      <td>220818-00061</td>\n      <td>11동 17호기 브레이크 마이크로 스위치 교체</td>\n      <td>2022-10-11</td>\n      <td>54.0</td>\n      <td>1.0</td>\n    </tr>\n    <tr>\n      <th>32568</th>\n      <td>승강기</td>\n      <td>승객용</td>\n      <td>MR</td>\n      <td>권상기</td>\n      <td>0.0</td>\n      <td>0.0</td>\n      <td>0.0</td>\n      <td>권상기(승객용)</td>\n      <td>○</td>\n      <td>○</td>\n      <td>...</td>\n      <td>2014-08-01</td>\n      <td>0</td>\n      <td>2993.0</td>\n      <td>2993.0</td>\n      <td>0.0</td>\n      <td>0</td>\n      <td>0</td>\n      <td>2022-10-11</td>\n      <td>2993.0</td>\n      <td>0.0</td>\n    </tr>\n    <tr>\n      <th>32569</th>\n      <td>승강기</td>\n      <td>승객용</td>\n      <td>MR</td>\n      <td>권상기</td>\n      <td>0.0</td>\n      <td>0.0</td>\n      <td>0.0</td>\n      <td>권상기(승객용)</td>\n      <td>○</td>\n      <td>○</td>\n      <td>...</td>\n      <td>2013-11-12</td>\n      <td>2022-03-08 00:00:00</td>\n      <td>3038.0</td>\n      <td>3038.0</td>\n      <td>1.0</td>\n      <td>220308-00041</td>\n      <td>브레이크스위치 교체</td>\n      <td>2022-10-11</td>\n      <td>217.0</td>\n      <td>1.0</td>\n    </tr>\n    <tr>\n      <th>32570</th>\n      <td>승강기</td>\n      <td>승객용</td>\n      <td>MR</td>\n      <td>권상기</td>\n      <td>0.0</td>\n      <td>0.0</td>\n      <td>0.0</td>\n      <td>권상기(승객용)</td>\n      <td>○</td>\n      <td>○</td>\n      <td>...</td>\n      <td>2013-11-12</td>\n      <td>2022-03-08 00:00:00</td>\n      <td>3038.0</td>\n      <td>3038.0</td>\n      <td>1.0</td>\n      <td>220308-00041</td>\n      <td>브레이크스위치 교체</td>\n      <td>2022-10-11</td>\n      <td>217.0</td>\n      <td>1.0</td>\n    </tr>\n    <tr>\n      <th>32571</th>\n      <td>승강기</td>\n      <td>승객용</td>\n      <td>MR</td>\n      <td>권상기</td>\n      <td>0.0</td>\n      <td>0.0</td>\n      <td>0.0</td>\n      <td>권상기(승객용)</td>\n      <td>○</td>\n      <td>○</td>\n      <td>...</td>\n      <td>2014-08-01</td>\n      <td>2022-03-07 00:00:00</td>\n      <td>2775.0</td>\n      <td>2775.0</td>\n      <td>1.0</td>\n      <td>220307-00072</td>\n      <td>2호기 브레이크 스위치 교체</td>\n      <td>2022-10-11</td>\n      <td>218.0</td>\n      <td>1.0</td>\n    </tr>\n    <tr>\n      <th>32572</th>\n      <td>승강기</td>\n      <td>승객용</td>\n      <td>MR</td>\n      <td>권상기</td>\n      <td>0.0</td>\n      <td>0.0</td>\n      <td>0.0</td>\n      <td>권상기(승객용)</td>\n      <td>○</td>\n      <td>○</td>\n      <td>...</td>\n      <td>2013-11-12</td>\n      <td>0</td>\n      <td>3255.0</td>\n      <td>3255.0</td>\n      <td>0.0</td>\n      <td>0</td>\n      <td>0</td>\n      <td>2022-10-11</td>\n      <td>3255.0</td>\n      <td>0.0</td>\n    </tr>\n    <tr>\n      <th>32573</th>\n      <td>승강기</td>\n      <td>승객용</td>\n      <td>MR</td>\n      <td>권상기</td>\n      <td>0.0</td>\n      <td>0.0</td>\n      <td>0.0</td>\n      <td>권상기(승객용)</td>\n      <td>○</td>\n      <td>○</td>\n      <td>...</td>\n      <td>2014-08-01</td>\n      <td>2022-03-11 00:00:00</td>\n      <td>2779.0</td>\n      <td>2779.0</td>\n      <td>1.0</td>\n      <td>220311-00031</td>\n      <td>13,14호기 브레이크 스위치 교체</td>\n      <td>2022-10-11</td>\n      <td>214.0</td>\n      <td>1.0</td>\n    </tr>\n    <tr>\n      <th>32574</th>\n      <td>승강기</td>\n      <td>승객용</td>\n      <td>MR</td>\n      <td>권상기</td>\n      <td>0.0</td>\n      <td>0.0</td>\n      <td>0.0</td>\n      <td>권상기(승객용)</td>\n      <td>○</td>\n      <td>○</td>\n      <td>...</td>\n      <td>2014-08-01</td>\n      <td>2022-03-11 00:00:00</td>\n      <td>2779.0</td>\n      <td>2779.0</td>\n      <td>1.0</td>\n      <td>220311-00031</td>\n      <td>13,14호기 브레이크 스위치 교체</td>\n      <td>2022-10-11</td>\n      <td>214.0</td>\n      <td>1.0</td>\n    </tr>\n    <tr>\n      <th>32575</th>\n      <td>승강기</td>\n      <td>승객용</td>\n      <td>MR</td>\n      <td>권상기</td>\n      <td>0.0</td>\n      <td>0.0</td>\n      <td>0.0</td>\n      <td>권상기(승객용)</td>\n      <td>○</td>\n      <td>○</td>\n      <td>...</td>\n      <td>2013-06-24</td>\n      <td>0</td>\n      <td>3396.0</td>\n      <td>3396.0</td>\n      <td>0.0</td>\n      <td>0</td>\n      <td>0</td>\n      <td>2022-10-11</td>\n      <td>3396.0</td>\n      <td>0.0</td>\n    </tr>\n    <tr>\n      <th>32576</th>\n      <td>승강기</td>\n      <td>승객용</td>\n      <td>MR</td>\n      <td>권상기</td>\n      <td>0.0</td>\n      <td>0.0</td>\n      <td>0.0</td>\n      <td>권상기(승객용)</td>\n      <td>○</td>\n      <td>○</td>\n      <td>...</td>\n      <td>2013-11-12</td>\n      <td>2022-03-07 00:00:00</td>\n      <td>3037.0</td>\n      <td>3037.0</td>\n      <td>1.0</td>\n      <td>220307-00034</td>\n      <td>18호기 브레이크스위치 교체</td>\n      <td>2022-10-11</td>\n      <td>218.0</td>\n      <td>1.0</td>\n    </tr>\n    <tr>\n      <th>32577</th>\n      <td>승강기</td>\n      <td>승객용</td>\n      <td>MR</td>\n      <td>권상기</td>\n      <td>0.0</td>\n      <td>0.0</td>\n      <td>0.0</td>\n      <td>권상기(승객용)</td>\n      <td>○</td>\n      <td>○</td>\n      <td>...</td>\n      <td>2014-08-01</td>\n      <td>0</td>\n      <td>2993.0</td>\n      <td>2993.0</td>\n      <td>0.0</td>\n      <td>0</td>\n      <td>0</td>\n      <td>2022-10-11</td>\n      <td>2993.0</td>\n      <td>0.0</td>\n    </tr>\n    <tr>\n      <th>32578</th>\n      <td>승강기</td>\n      <td>승객용</td>\n      <td>MR</td>\n      <td>권상기</td>\n      <td>0.0</td>\n      <td>0.0</td>\n      <td>0.0</td>\n      <td>권상기(승객용)</td>\n      <td>○</td>\n      <td>○</td>\n      <td>...</td>\n      <td>2014-10-01</td>\n      <td>0</td>\n      <td>2932.0</td>\n      <td>2932.0</td>\n      <td>0.0</td>\n      <td>0</td>\n      <td>0</td>\n      <td>2022-10-11</td>\n      <td>2932.0</td>\n      <td>0.0</td>\n    </tr>\n    <tr>\n      <th>32579</th>\n      <td>승강기</td>\n      <td>승객용</td>\n      <td>MR</td>\n      <td>권상기</td>\n      <td>0.0</td>\n      <td>0.0</td>\n      <td>0.0</td>\n      <td>권상기(승객용)</td>\n      <td>○</td>\n      <td>○</td>\n      <td>...</td>\n      <td>2014-10-01</td>\n      <td>0</td>\n      <td>2932.0</td>\n      <td>2932.0</td>\n      <td>0.0</td>\n      <td>0</td>\n      <td>0</td>\n      <td>2022-10-11</td>\n      <td>2932.0</td>\n      <td>0.0</td>\n    </tr>\n    <tr>\n      <th>32580</th>\n      <td>승강기</td>\n      <td>승객용</td>\n      <td>MR</td>\n      <td>권상기</td>\n      <td>0.0</td>\n      <td>0.0</td>\n      <td>0.0</td>\n      <td>권상기(승객용)</td>\n      <td>○</td>\n      <td>○</td>\n      <td>...</td>\n      <td>2012-09-01</td>\n      <td>0</td>\n      <td>3692.0</td>\n      <td>3692.0</td>\n      <td>0.0</td>\n      <td>0</td>\n      <td>0</td>\n      <td>2022-10-11</td>\n      <td>3692.0</td>\n      <td>0.0</td>\n    </tr>\n    <tr>\n      <th>32581</th>\n      <td>승강기</td>\n      <td>승객용</td>\n      <td>MR</td>\n      <td>권상기</td>\n      <td>0.0</td>\n      <td>0.0</td>\n      <td>0.0</td>\n      <td>권상기(승객용)</td>\n      <td>○</td>\n      <td>○</td>\n      <td>...</td>\n      <td>2013-07-03</td>\n      <td>0</td>\n      <td>3387.0</td>\n      <td>3387.0</td>\n      <td>0.0</td>\n      <td>0</td>\n      <td>0</td>\n      <td>2022-10-11</td>\n      <td>3387.0</td>\n      <td>0.0</td>\n    </tr>\n    <tr>\n      <th>32582</th>\n      <td>승강기</td>\n      <td>승객용</td>\n      <td>MR</td>\n      <td>권상기</td>\n      <td>0.0</td>\n      <td>0.0</td>\n      <td>0.0</td>\n      <td>권상기(승객용)</td>\n      <td>○</td>\n      <td>○</td>\n      <td>...</td>\n      <td>2013-11-12</td>\n      <td>0</td>\n      <td>3255.0</td>\n      <td>3255.0</td>\n      <td>0.0</td>\n      <td>0</td>\n      <td>0</td>\n      <td>2022-10-11</td>\n      <td>3255.0</td>\n      <td>0.0</td>\n    </tr>\n    <tr>\n      <th>32583</th>\n      <td>승강기</td>\n      <td>승객용</td>\n      <td>MR</td>\n      <td>권상기</td>\n      <td>0.0</td>\n      <td>0.0</td>\n      <td>0.0</td>\n      <td>권상기(승객용)</td>\n      <td>○</td>\n      <td>○</td>\n      <td>...</td>\n      <td>2013-11-12</td>\n      <td>0</td>\n      <td>3255.0</td>\n      <td>3255.0</td>\n      <td>0.0</td>\n      <td>0</td>\n      <td>0</td>\n      <td>2022-10-11</td>\n      <td>3255.0</td>\n      <td>0.0</td>\n    </tr>\n    <tr>\n      <th>32584</th>\n      <td>승강기</td>\n      <td>승객용</td>\n      <td>MR</td>\n      <td>권상기</td>\n      <td>0.0</td>\n      <td>0.0</td>\n      <td>0.0</td>\n      <td>권상기(승객용)</td>\n      <td>○</td>\n      <td>○</td>\n      <td>...</td>\n      <td>2013-11-12</td>\n      <td>0</td>\n      <td>3255.0</td>\n      <td>3255.0</td>\n      <td>0.0</td>\n      <td>0</td>\n      <td>0</td>\n      <td>2022-10-11</td>\n      <td>3255.0</td>\n      <td>0.0</td>\n    </tr>\n    <tr>\n      <th>32585</th>\n      <td>승강기</td>\n      <td>승객용</td>\n      <td>MR</td>\n      <td>권상기</td>\n      <td>0.0</td>\n      <td>0.0</td>\n      <td>0.0</td>\n      <td>권상기(승객용)</td>\n      <td>○</td>\n      <td>○</td>\n      <td>...</td>\n      <td>2013-11-12</td>\n      <td>0</td>\n      <td>3255.0</td>\n      <td>3255.0</td>\n      <td>0.0</td>\n      <td>0</td>\n      <td>0</td>\n      <td>2022-10-11</td>\n      <td>3255.0</td>\n      <td>0.0</td>\n    </tr>\n  </tbody>\n</table>\n<p>35 rows × 26 columns</p>\n</div>"
     },
     "execution_count": 12,
     "metadata": {},
     "output_type": "execute_result"
    }
   ],
   "source": [
    "input_data[input_data['그룹정의']=='권상기(승객용)']"
   ],
   "metadata": {
    "collapsed": false
   }
  },
  {
   "cell_type": "code",
   "execution_count": 13,
   "outputs": [
    {
     "data": {
      "text/plain": "array(['개별냉난방기', '항온항습기', '공조설비/공조기', '공조설비/팬코일', '공조설비/기타', '기타시설',\n       '방호, 안전시설', '배관설비', '부속시설/자전거 세척기 및 공기주입기', '부속시설/기타', '열원설비/냉각탑',\n       '열원설비/지열히트펌프', '열원설비/냉동기', '열원설비/열교환기', '열원설비/기타', '위생설비/소변기',\n       '위생설비/수전', '위생설비/대변기', '위생설비/비데', '위생설비/기타', '자동제어설비', '조경시설',\n       '주방시설', '탱크설비', '배수펌프', '냉온수순환 펌프', '오수펌프', '냉각수순환 펌프', '상수 펌프',\n       '조경수 펌프', '기타펌프', '우수펌프', '환기설비/배기팬', '환기설비/급기팬', '환기설비/기타',\n       '행정망네트워크', nan, '통합SI', '방범망네트워크', 'CCTV', '동작감지', '울타리감지',\n       '스피드게이트', '얼굴인식', '출입통제', '통제식회전문', '비상호출', '공용회의실', '전관방송', 'TV',\n       '정책홍보', '자동화재탐지설비-감지기', '유도등-피난구 유도등', '소화기구-이동식', '유도등-거실통로 유도등',\n       '유도등-복도통로 유도등', '스프링클러설비-밸브', '유도등-계단 유도등', '스프링클러설비-헤드',\n       '소방선로-전원', '비상경보설비-비상벨', '자동화재탐지설비-수신기', '방화셔터설비-방화셔터',\n       '소화펌프-스프링클러', '소화수조-수조', '소화가스설비-집합관', '소화펌프-겸용', '자동화재탐지설비-중계기',\n       '자동화재탐지설비-발신기', '배연창-전원반', '소화전설비-옥내소화전설비', '소화기구-고정식',\n       '소화전설비-옥외소화전설비', '제연설비-전실제연설비', '피난기구-완강기', '비상조명등-휴대용 비상조명등',\n       '자동화재탐지설비-시각경보기', '소화가스설비-캐비넷', '방화셔터설비-연동제어기', '소화가스설비-모듈러',\n       '소화펌프-소화전', '배연창-개폐기', '카(승객용)', '제어반(승객용)', '승강로(승객용)',\n       '승강장(승객용)', '권상기(승객용)', '카(로프식)', '제어반(로프식)', '승강로(로프식)',\n       '승강장(로프식)', '권상기(로프식)', '카(유압식)', '제어반(유압식)', '승강로(유압식)',\n       '승강장(유압식)', '권상기(유압식)', '덤웨이터', '제어반(에스컬레이터)', '권상기(에스컬레이터)',\n       '구조체(에스컬레이터)', '제어반(휠체어리프트)', '기계실(휠체어리프트)', '카(휠체어리프트)', '감시반',\n       '비상통화장치', 0, 'MCC반', '무대장치', '스노우멜팅', '전기온돌', '전기차충전', '피뢰설비',\n       '공조(휀룸)실', '승강기 기계실 및 기타', '항온항습기실', 'EPS실', 'TPS실',\n       '분전반(옥외 및 기타)', '분전반 통신(방송)실', '배전반', '변압기반', '특고압반', '태양광발전',\n       '무정전원공급장치', '비상발전기', '원격검침', '주차관제', '전력제어', '조명제어', '옥내 LED 조명',\n       '옥내 일반 조명', '옥외 LED 조명'], dtype=object)"
     },
     "execution_count": 13,
     "metadata": {},
     "output_type": "execute_result"
    }
   ],
   "source": [
    "수행범위['그룹정의'].unique()"
   ],
   "metadata": {
    "collapsed": false
   }
  },
  {
   "cell_type": "code",
   "execution_count": 14,
   "outputs": [],
   "source": [
    "input_data.to_csv(data + '생존분석.csv')"
   ],
   "metadata": {
    "collapsed": false
   }
  },
  {
   "cell_type": "markdown",
   "source": [
    "- 장비분류(그룹핑), 동, 층, 장비명, 장애발생횟수, 최근장애일자 > 가져와서 돌리면돔"
   ],
   "metadata": {
    "collapsed": false
   }
  }
 ],
 "metadata": {
  "kernelspec": {
   "display_name": "Python 3",
   "language": "python",
   "name": "python3"
  },
  "language_info": {
   "codemirror_mode": {
    "name": "ipython",
    "version": 2
   },
   "file_extension": ".py",
   "mimetype": "text/x-python",
   "name": "python",
   "nbconvert_exporter": "python",
   "pygments_lexer": "ipython2",
   "version": "2.7.6"
  }
 },
 "nbformat": 4,
 "nbformat_minor": 0
}

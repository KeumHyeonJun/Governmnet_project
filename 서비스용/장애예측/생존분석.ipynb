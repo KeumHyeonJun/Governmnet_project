{
 "cells": [
  {
   "cell_type": "code",
   "execution_count": 18,
   "metadata": {
    "collapsed": true
   },
   "outputs": [],
   "source": [
    "import pandas as pd\n",
    "from pathlib import Path\n",
    "import datetime"
   ]
  },
  {
   "cell_type": "code",
   "execution_count": 19,
   "outputs": [],
   "source": [
    "#pd.options.display.float_format = '{:.3f}'.format\n",
    "\n",
    "path = Path.cwd().parent\n",
    "raw_data = str(path) + '/raw_data/'\n",
    "data_path = str(path) + '/data/'\n",
    "result_path = str(path) + '/결과/'"
   ],
   "metadata": {
    "collapsed": false
   }
  },
  {
   "cell_type": "code",
   "execution_count": 20,
   "outputs": [
    {
     "data": {
      "text/plain": "   Unnamed: 0 Lv1     Lv2      Lv3         Lv4   장애건수  자재매칭건수      매칭비율  \\\n0           0  기계  공기조화설비  개별냉난방설비  개별냉난방기 실내기  309.0     4.0  0.012945   \n1           1  기계  공기조화설비  개별냉난방설비  개별냉난방기 실내기  309.0     4.0  0.012945   \n2           2  기계  공기조화설비  개별냉난방설비  개별냉난방기 실내기  309.0     4.0  0.012945   \n3           3  기계  공기조화설비  개별냉난방설비  개별냉난방기 실내기  309.0     4.0  0.012945   \n4           4  기계  공기조화설비  개별냉난방설비  개별냉난방기 실내기  309.0     4.0  0.012945   \n\n     그룹정의 장애분석  ...  fac_instdt job_jisi_dt 설치-작업간격 작업-작업간격 작업횟수  job_cd  \\\n0  개별냉난방기    O  ...  2014-04-01           0  3115.0  3115.0  0.0       0   \n1  개별냉난방기    O  ...  2019-11-01           0  1075.0  1075.0  0.0       0   \n2  개별냉난방기    O  ...  2019-11-01           0  1075.0  1075.0  0.0       0   \n3  개별냉난방기    O  ...  2013-09-01           0  3327.0  3327.0  0.0       0   \n4  개별냉난방기    O  ...  2013-09-01           0  3327.0  3327.0  0.0       0   \n\n  job_nm    max_time    경과시간  status  \n0      0  2022-10-11  3115.0     0.0  \n1      0  2022-10-11  1075.0     0.0  \n2      0  2022-10-11  1075.0     0.0  \n3      0  2022-10-11  3327.0     0.0  \n4      0  2022-10-11  3327.0     0.0  \n\n[5 rows x 27 columns]",
      "text/html": "<div>\n<style scoped>\n    .dataframe tbody tr th:only-of-type {\n        vertical-align: middle;\n    }\n\n    .dataframe tbody tr th {\n        vertical-align: top;\n    }\n\n    .dataframe thead th {\n        text-align: right;\n    }\n</style>\n<table border=\"1\" class=\"dataframe\">\n  <thead>\n    <tr style=\"text-align: right;\">\n      <th></th>\n      <th>Unnamed: 0</th>\n      <th>Lv1</th>\n      <th>Lv2</th>\n      <th>Lv3</th>\n      <th>Lv4</th>\n      <th>장애건수</th>\n      <th>자재매칭건수</th>\n      <th>매칭비율</th>\n      <th>그룹정의</th>\n      <th>장애분석</th>\n      <th>...</th>\n      <th>fac_instdt</th>\n      <th>job_jisi_dt</th>\n      <th>설치-작업간격</th>\n      <th>작업-작업간격</th>\n      <th>작업횟수</th>\n      <th>job_cd</th>\n      <th>job_nm</th>\n      <th>max_time</th>\n      <th>경과시간</th>\n      <th>status</th>\n    </tr>\n  </thead>\n  <tbody>\n    <tr>\n      <th>0</th>\n      <td>0</td>\n      <td>기계</td>\n      <td>공기조화설비</td>\n      <td>개별냉난방설비</td>\n      <td>개별냉난방기 실내기</td>\n      <td>309.0</td>\n      <td>4.0</td>\n      <td>0.012945</td>\n      <td>개별냉난방기</td>\n      <td>O</td>\n      <td>...</td>\n      <td>2014-04-01</td>\n      <td>0</td>\n      <td>3115.0</td>\n      <td>3115.0</td>\n      <td>0.0</td>\n      <td>0</td>\n      <td>0</td>\n      <td>2022-10-11</td>\n      <td>3115.0</td>\n      <td>0.0</td>\n    </tr>\n    <tr>\n      <th>1</th>\n      <td>1</td>\n      <td>기계</td>\n      <td>공기조화설비</td>\n      <td>개별냉난방설비</td>\n      <td>개별냉난방기 실내기</td>\n      <td>309.0</td>\n      <td>4.0</td>\n      <td>0.012945</td>\n      <td>개별냉난방기</td>\n      <td>O</td>\n      <td>...</td>\n      <td>2019-11-01</td>\n      <td>0</td>\n      <td>1075.0</td>\n      <td>1075.0</td>\n      <td>0.0</td>\n      <td>0</td>\n      <td>0</td>\n      <td>2022-10-11</td>\n      <td>1075.0</td>\n      <td>0.0</td>\n    </tr>\n    <tr>\n      <th>2</th>\n      <td>2</td>\n      <td>기계</td>\n      <td>공기조화설비</td>\n      <td>개별냉난방설비</td>\n      <td>개별냉난방기 실내기</td>\n      <td>309.0</td>\n      <td>4.0</td>\n      <td>0.012945</td>\n      <td>개별냉난방기</td>\n      <td>O</td>\n      <td>...</td>\n      <td>2019-11-01</td>\n      <td>0</td>\n      <td>1075.0</td>\n      <td>1075.0</td>\n      <td>0.0</td>\n      <td>0</td>\n      <td>0</td>\n      <td>2022-10-11</td>\n      <td>1075.0</td>\n      <td>0.0</td>\n    </tr>\n    <tr>\n      <th>3</th>\n      <td>3</td>\n      <td>기계</td>\n      <td>공기조화설비</td>\n      <td>개별냉난방설비</td>\n      <td>개별냉난방기 실내기</td>\n      <td>309.0</td>\n      <td>4.0</td>\n      <td>0.012945</td>\n      <td>개별냉난방기</td>\n      <td>O</td>\n      <td>...</td>\n      <td>2013-09-01</td>\n      <td>0</td>\n      <td>3327.0</td>\n      <td>3327.0</td>\n      <td>0.0</td>\n      <td>0</td>\n      <td>0</td>\n      <td>2022-10-11</td>\n      <td>3327.0</td>\n      <td>0.0</td>\n    </tr>\n    <tr>\n      <th>4</th>\n      <td>4</td>\n      <td>기계</td>\n      <td>공기조화설비</td>\n      <td>개별냉난방설비</td>\n      <td>개별냉난방기 실내기</td>\n      <td>309.0</td>\n      <td>4.0</td>\n      <td>0.012945</td>\n      <td>개별냉난방기</td>\n      <td>O</td>\n      <td>...</td>\n      <td>2013-09-01</td>\n      <td>0</td>\n      <td>3327.0</td>\n      <td>3327.0</td>\n      <td>0.0</td>\n      <td>0</td>\n      <td>0</td>\n      <td>2022-10-11</td>\n      <td>3327.0</td>\n      <td>0.0</td>\n    </tr>\n  </tbody>\n</table>\n<p>5 rows × 27 columns</p>\n</div>"
     },
     "execution_count": 20,
     "metadata": {},
     "output_type": "execute_result"
    }
   ],
   "source": [
    "data = pd.read_csv(data_path + '생존분석.csv')\n",
    "data=data[data['장애분석']!= 'X']\n",
    "data.head()"
   ],
   "metadata": {
    "collapsed": false
   }
  },
  {
   "cell_type": "code",
   "execution_count": 21,
   "outputs": [
    {
     "data": {
      "text/plain": "방범망네트워크    270\n스피드게이트     268\n전관방송       268\n공용회의실      184\n얼굴인식       183\n울타리감지      167\n행정망네트워크    160\nCCTV       151\n통제식회전문     125\n동작감지       104\n출입통제        23\n비상호출        10\n정책홍보         3\nName: 그룹정의, dtype: int64"
     },
     "execution_count": 21,
     "metadata": {},
     "output_type": "execute_result"
    }
   ],
   "source": [
    "data[data['Lv1']=='통신']['그룹정의'].value_counts()"
   ],
   "metadata": {
    "collapsed": false
   }
  },
  {
   "cell_type": "code",
   "execution_count": 22,
   "outputs": [],
   "source": [
    "broken = data[data['status']==1]\n",
    "cnt = broken['fac_cd'].value_counts()\n",
    "\n",
    "# 작업을 한번'만' 한 경우\n",
    "first = list(cnt[cnt==1].index)\n",
    "first_df = pd.DataFrame({'fac_cd':first})\n",
    "# 작업을 한번 이상 한 장비 중 첫번째 작업 정보\n",
    "first_df_2 = data[data['작업횟수']==1]\n",
    "\n",
    "# 작업을 두번'만' 한 장비\n",
    "second = list(cnt[cnt==2].index)\n",
    "second_df = pd.DataFrame({'fac_cd':second})\n",
    "\n",
    "#작업을 두번 이상 한 장비 중 두번째 작업 정보\n",
    "second_df_2 = data[data['작업횟수']==2]\n",
    "\n",
    "# 작업을 세번이상 한 경우\n",
    "third_df_2 = data[data['작업횟수']>=3]\n",
    "\n",
    "first_df = pd.merge(first_df,data,on='fac_cd',how='left')\n",
    "second_df = pd.merge(second_df,data,on='fac_cd',how='left')\n",
    "\n",
    "predict_cnt_1 = pd.concat([first_df,second_df_2],axis=0)\n",
    "\n",
    "predict_cnt_2 = pd.concat([second_df,third_df_2],axis=0)\n",
    "predict_cnt_2 = predict_cnt_2[predict_cnt_2['작업횟수']>=2]\n",
    "def status_1(df):\n",
    "    if df['작업횟수'] == 1:\n",
    "        return 0\n",
    "    else :\n",
    "        return 1\n",
    "\n",
    "def status_2(df):\n",
    "    if df['작업횟수'] == 2:\n",
    "        return 0\n",
    "    else :\n",
    "        return 1\n",
    "\n",
    "def input_time(df):\n",
    "    if df['status'] ==1 :\n",
    "        return df['작업-작업간격']\n",
    "    else :\n",
    "        return df['경과시간']\n",
    "\n",
    "predict_cnt_1['status'] = predict_cnt_1.apply(status_1,axis=1)\n",
    "predict_cnt_1['input_time'] = predict_cnt_1.apply(input_time,axis=1)\n",
    "predict_cnt_2['status'] = predict_cnt_2.apply(status_2,axis=1)\n",
    "predict_cnt_2['input_time'] = predict_cnt_2.apply(input_time,axis=1)"
   ],
   "metadata": {
    "collapsed": false
   }
  },
  {
   "cell_type": "code",
   "execution_count": 23,
   "outputs": [],
   "source": [
    "import matplotlib.pyplot as plt\n",
    "from lifelines import KaplanMeierFitter\n",
    "\n",
    "plt.rc('font', family='AppleGothic')\n",
    "plt.rcParams['axes.unicode_minus'] = False"
   ],
   "metadata": {
    "collapsed": false
   }
  },
  {
   "cell_type": "markdown",
   "source": [
    "1. 그룸 정의 별로 학습하기\n",
    "2. 각 장비별로 인풋값에 넣기\n",
    "3. 두번 이상 고장난 경우 > status 다르게 해서 봐야함 2번 고장만 난 경우 > 0 3번이상 고장 난 경우 >1"
   ],
   "metadata": {
    "collapsed": false
   }
  },
  {
   "cell_type": "code",
   "execution_count": 24,
   "outputs": [],
   "source": [
    "\n",
    "def kplan(그룹정의):\n",
    "    output_data = pd.DataFrame({\n",
    "    '대분류' : [],\n",
    "    '장비분류' :[],\n",
    "    '동':[],\n",
    "    '층' :[],\n",
    "    '장비코드' :[],\n",
    "    '장비명' : [],\n",
    "    '장애발생횟수' :[],\n",
    "    '최근장애일자' :[],\n",
    "    '7일이내장애확률' :[],\n",
    "    '30일이내장애확률':[],\n",
    "    'Lv4':[]\n",
    "})\n",
    "\n",
    "\n",
    "    input_data = data[data['그룹정의']==그룹정의]\n",
    "    # 이때까지 장애가 발생하지 않은 경우 > 처음 발생 하는 확률 찾기\n",
    "    input_first = input_data[input_data['작업횟수']<=1]\n",
    "    if len(input_first) >=2:\n",
    "        kmf_first= KaplanMeierFitter()\n",
    "        var_first = 0\n",
    "        input_first.sort_values(by='작업-작업간격', ascending=True)\n",
    "        kmf_first.fit(durations=input_first['작업-작업간격'], event_observed=input_first['status'])\n",
    "\n",
    "    # 작업횟수 = 2 인 경우 > 장애가 한번 발생한 장비의 다음 장비 예측하기\n",
    "    input_second = predict_cnt_1[predict_cnt_1['그룹정의']==그룹정의]\n",
    "    if len(input_second) >=2:\n",
    "        kmf_second= KaplanMeierFitter()\n",
    "        var_second = 0\n",
    "        input_second.sort_values(by='input_time', ascending=True)\n",
    "        kmf_second.fit(durations=input_second['input_time'], event_observed=input_second['status'])\n",
    "\n",
    "    # 작업횟수 >=3 인 경우 > 재발한 장비의 다음 장비 예측하기\n",
    "\n",
    "    input_third = predict_cnt_2[predict_cnt_2['그룹정의']==그룹정의]\n",
    "    if len(input_third) >=2:\n",
    "        kmf_third= KaplanMeierFitter()\n",
    "        var_third = 0\n",
    "        input_third.sort_values(by='input_time', ascending=True)\n",
    "        kmf_third.fit(durations=input_third['input_time'], event_observed=input_third['status'])\n",
    "\n",
    "    fac_list = list(input_data['fac_cd'].unique())\n",
    "\n",
    "\n",
    "    if 'var_first' in locals():\n",
    "        var_first = True\n",
    "    else :\n",
    "        var_first = False\n",
    "\n",
    "    if 'var_second' in locals():\n",
    "        var_second = True\n",
    "    else :\n",
    "        var_second = False\n",
    "\n",
    "    if 'var_third' in locals():\n",
    "        var_third = True\n",
    "    else :\n",
    "        var_third = False\n",
    "\n",
    "\n",
    "\n",
    "    for i in fac_list:\n",
    "        df = input_data[input_data['fac_cd']==i].iloc[-1]\n",
    "        seven = df['경과시간'] +7\n",
    "        thirty = seven + 23\n",
    "        new_data = []\n",
    "        new_data.append(df['Lv1'])\n",
    "        new_data.append(df['그룹정의'])\n",
    "        new_data.append(df['bd_nm'])\n",
    "        new_data.append(df['fl_cd'])\n",
    "        new_data.append(df['fac_cd'])\n",
    "        new_data.append(df['fac_nm'])\n",
    "        new_data.append(df['작업횟수'])\n",
    "        new_data.append(df['job_jisi_dt'])\n",
    "       # 7일 이내 고장 확률\n",
    "        if df['작업횟수'] == 0 and var_first == True:\n",
    "            new_data.append(1-kmf_first.predict(seven))\n",
    "\n",
    "        elif df['작업횟수'] ==1 and var_second == True:\n",
    "            new_data.append(1-kmf_second.predict(seven))\n",
    "        elif df['작업횟수'] ==1 and var_first == True:\n",
    "            new_data.append(1-kmf_first.predict(seven))\n",
    "\n",
    "        elif df['작업횟수'] >=2 and var_third == True:\n",
    "            new_data.append(1-kmf_third.predict(seven))\n",
    "        elif df['작업횟수'] >=2 and var_second == True:\n",
    "            new_data.append(1-kmf_second.predict(seven))\n",
    "        elif df['작업횟수'] >=2 and var_first == True:\n",
    "            new_data.append(1-kmf_first.predict(seven))\n",
    "        else :\n",
    "            new_data.append(99999)\n",
    "\n",
    "        # 30일 이내 고장 확률\n",
    "        if df['작업횟수'] == 0 and var_first == True:\n",
    "            new_data.append(1-kmf_first.predict(thirty))\n",
    "\n",
    "        elif df['작업횟수'] ==1 and var_second == True:\n",
    "            new_data.append(1-kmf_second.predict(thirty))\n",
    "        elif df['작업횟수'] ==1 and var_first == True:\n",
    "            new_data.append(1-kmf_first.predict(thirty))\n",
    "\n",
    "        elif df['작업횟수'] >=2 and var_third == True:\n",
    "            new_data.append(1-kmf_third.predict(thirty))\n",
    "        elif df['작업횟수'] >=2 and var_second == True:\n",
    "            new_data.append(1-kmf_second.predict(thirty))\n",
    "        elif df['작업횟수'] >=2 and var_first == True:\n",
    "            new_data.append(1-kmf_first.predict(thirty))\n",
    "        else :\n",
    "            new_data.append(99999)\n",
    "        new_data.append(df['Lv4'])\n",
    "\n",
    "        output_data.loc[len(output_data)] = new_data\n",
    "\n",
    "    return output_data\n"
   ],
   "metadata": {
    "collapsed": false
   }
  },
  {
   "cell_type": "code",
   "execution_count": 25,
   "outputs": [
    {
     "data": {
      "text/plain": "Empty DataFrame\nColumns: [대분류, 장비분류, 동, 층, 장비코드, 장비명, 장애발생횟수, 최근장애일자, 7일이내장애확률, 30일이내장애확률, Lv4]\nIndex: []",
      "text/html": "<div>\n<style scoped>\n    .dataframe tbody tr th:only-of-type {\n        vertical-align: middle;\n    }\n\n    .dataframe tbody tr th {\n        vertical-align: top;\n    }\n\n    .dataframe thead th {\n        text-align: right;\n    }\n</style>\n<table border=\"1\" class=\"dataframe\">\n  <thead>\n    <tr style=\"text-align: right;\">\n      <th></th>\n      <th>대분류</th>\n      <th>장비분류</th>\n      <th>동</th>\n      <th>층</th>\n      <th>장비코드</th>\n      <th>장비명</th>\n      <th>장애발생횟수</th>\n      <th>최근장애일자</th>\n      <th>7일이내장애확률</th>\n      <th>30일이내장애확률</th>\n      <th>Lv4</th>\n    </tr>\n  </thead>\n  <tbody>\n  </tbody>\n</table>\n</div>"
     },
     "execution_count": 25,
     "metadata": {},
     "output_type": "execute_result"
    }
   ],
   "source": [
    "\n",
    "group = list(data['그룹정의'].unique())\n",
    "output_data = pd.DataFrame({\n",
    "    '대분류' : [],\n",
    "    '장비분류' :[],\n",
    "    '동':[],\n",
    "    '층' :[],\n",
    "    '장비코드' :[],\n",
    "    '장비명' : [],\n",
    "    '장애발생횟수' :[],\n",
    "    '최근장애일자' :[],\n",
    "    '7일이내장애확률' :[],\n",
    "    '30일이내장애확률':[],\n",
    "    'Lv4':[]\n",
    "})\n",
    "output_data"
   ],
   "metadata": {
    "collapsed": false
   }
  },
  {
   "cell_type": "code",
   "execution_count": 26,
   "outputs": [],
   "source": [
    "for i in group:\n",
    "    output = kplan(i)\n",
    "    output_data = pd.concat([output_data,output],axis=0)\n",
    "output_data = output_data.drop_duplicates()\n",
    "#output_data['최근장애일자'] = output_data['최근장애일자'].str.replace('00:00:00','')"
   ],
   "metadata": {
    "collapsed": false
   }
  },
  {
   "cell_type": "code",
   "execution_count": 27,
   "outputs": [
    {
     "data": {
      "text/plain": "  대분류    장비분류  동  층          장비코드           장비명  장애발생횟수 최근장애일자  7일이내장애확률  \\\n0  기계  개별냉난방기  0  0  2.001040e+11  EHP 실내기 #079     0.0      0  0.107005   \n1  기계  개별냉난방기  0  0  2.001040e+11       실내기#117     0.0      0  0.004985   \n2  기계  개별냉난방기  0  0  2.001040e+11       실내기#112     0.0      0  0.004985   \n3  기계  개별냉난방기  0  0  2.001040e+11       실내기#101     0.0      0  0.148842   \n4  기계  개별냉난방기  0  0  2.001040e+11        실내기#57     0.0      0  0.148842   \n\n   30일이내장애확률         Lv4  \n0   0.118338  개별냉난방기 실내기  \n1   0.004985  개별냉난방기 실내기  \n2   0.004985  개별냉난방기 실내기  \n3   0.160515  개별냉난방기 실내기  \n4   0.160515  개별냉난방기 실내기  ",
      "text/html": "<div>\n<style scoped>\n    .dataframe tbody tr th:only-of-type {\n        vertical-align: middle;\n    }\n\n    .dataframe tbody tr th {\n        vertical-align: top;\n    }\n\n    .dataframe thead th {\n        text-align: right;\n    }\n</style>\n<table border=\"1\" class=\"dataframe\">\n  <thead>\n    <tr style=\"text-align: right;\">\n      <th></th>\n      <th>대분류</th>\n      <th>장비분류</th>\n      <th>동</th>\n      <th>층</th>\n      <th>장비코드</th>\n      <th>장비명</th>\n      <th>장애발생횟수</th>\n      <th>최근장애일자</th>\n      <th>7일이내장애확률</th>\n      <th>30일이내장애확률</th>\n      <th>Lv4</th>\n    </tr>\n  </thead>\n  <tbody>\n    <tr>\n      <th>0</th>\n      <td>기계</td>\n      <td>개별냉난방기</td>\n      <td>0</td>\n      <td>0</td>\n      <td>2.001040e+11</td>\n      <td>EHP 실내기 #079</td>\n      <td>0.0</td>\n      <td>0</td>\n      <td>0.107005</td>\n      <td>0.118338</td>\n      <td>개별냉난방기 실내기</td>\n    </tr>\n    <tr>\n      <th>1</th>\n      <td>기계</td>\n      <td>개별냉난방기</td>\n      <td>0</td>\n      <td>0</td>\n      <td>2.001040e+11</td>\n      <td>실내기#117</td>\n      <td>0.0</td>\n      <td>0</td>\n      <td>0.004985</td>\n      <td>0.004985</td>\n      <td>개별냉난방기 실내기</td>\n    </tr>\n    <tr>\n      <th>2</th>\n      <td>기계</td>\n      <td>개별냉난방기</td>\n      <td>0</td>\n      <td>0</td>\n      <td>2.001040e+11</td>\n      <td>실내기#112</td>\n      <td>0.0</td>\n      <td>0</td>\n      <td>0.004985</td>\n      <td>0.004985</td>\n      <td>개별냉난방기 실내기</td>\n    </tr>\n    <tr>\n      <th>3</th>\n      <td>기계</td>\n      <td>개별냉난방기</td>\n      <td>0</td>\n      <td>0</td>\n      <td>2.001040e+11</td>\n      <td>실내기#101</td>\n      <td>0.0</td>\n      <td>0</td>\n      <td>0.148842</td>\n      <td>0.160515</td>\n      <td>개별냉난방기 실내기</td>\n    </tr>\n    <tr>\n      <th>4</th>\n      <td>기계</td>\n      <td>개별냉난방기</td>\n      <td>0</td>\n      <td>0</td>\n      <td>2.001040e+11</td>\n      <td>실내기#57</td>\n      <td>0.0</td>\n      <td>0</td>\n      <td>0.148842</td>\n      <td>0.160515</td>\n      <td>개별냉난방기 실내기</td>\n    </tr>\n  </tbody>\n</table>\n</div>"
     },
     "execution_count": 27,
     "metadata": {},
     "output_type": "execute_result"
    }
   ],
   "source": [
    "output_data.head()"
   ],
   "metadata": {
    "collapsed": false
   }
  },
  {
   "cell_type": "code",
   "execution_count": 28,
   "outputs": [
    {
     "data": {
      "text/plain": "     Unnamed: 0 jangbi_class_nm_4     중위          평균    최대   최소\n0             0           CCTV 서버   66.0   78.820225   768   20\n1             1         CCTV 저장장치   83.0   79.823529   131    9\n2             2          CCTV 카메라   88.0  144.621145  3605    0\n3             3            DDC 판넬   60.0  201.428571   390   60\n4             4              EPS실   30.5   78.000000  2130   10\n..          ...               ...    ...         ...   ...  ...\n146         146         항온항습기 실외기  150.0  150.000000   150  150\n147         147            항온항습기실   60.0  190.000000   450   60\n148         148                헤드   50.0  106.500000   840   30\n149         149             환기조화기   60.0   96.666667   300   40\n150         150         휴대용 비상조명등   35.0   35.000000    60   10\n\n[151 rows x 6 columns]",
      "text/html": "<div>\n<style scoped>\n    .dataframe tbody tr th:only-of-type {\n        vertical-align: middle;\n    }\n\n    .dataframe tbody tr th {\n        vertical-align: top;\n    }\n\n    .dataframe thead th {\n        text-align: right;\n    }\n</style>\n<table border=\"1\" class=\"dataframe\">\n  <thead>\n    <tr style=\"text-align: right;\">\n      <th></th>\n      <th>Unnamed: 0</th>\n      <th>jangbi_class_nm_4</th>\n      <th>중위</th>\n      <th>평균</th>\n      <th>최대</th>\n      <th>최소</th>\n    </tr>\n  </thead>\n  <tbody>\n    <tr>\n      <th>0</th>\n      <td>0</td>\n      <td>CCTV 서버</td>\n      <td>66.0</td>\n      <td>78.820225</td>\n      <td>768</td>\n      <td>20</td>\n    </tr>\n    <tr>\n      <th>1</th>\n      <td>1</td>\n      <td>CCTV 저장장치</td>\n      <td>83.0</td>\n      <td>79.823529</td>\n      <td>131</td>\n      <td>9</td>\n    </tr>\n    <tr>\n      <th>2</th>\n      <td>2</td>\n      <td>CCTV 카메라</td>\n      <td>88.0</td>\n      <td>144.621145</td>\n      <td>3605</td>\n      <td>0</td>\n    </tr>\n    <tr>\n      <th>3</th>\n      <td>3</td>\n      <td>DDC 판넬</td>\n      <td>60.0</td>\n      <td>201.428571</td>\n      <td>390</td>\n      <td>60</td>\n    </tr>\n    <tr>\n      <th>4</th>\n      <td>4</td>\n      <td>EPS실</td>\n      <td>30.5</td>\n      <td>78.000000</td>\n      <td>2130</td>\n      <td>10</td>\n    </tr>\n    <tr>\n      <th>...</th>\n      <td>...</td>\n      <td>...</td>\n      <td>...</td>\n      <td>...</td>\n      <td>...</td>\n      <td>...</td>\n    </tr>\n    <tr>\n      <th>146</th>\n      <td>146</td>\n      <td>항온항습기 실외기</td>\n      <td>150.0</td>\n      <td>150.000000</td>\n      <td>150</td>\n      <td>150</td>\n    </tr>\n    <tr>\n      <th>147</th>\n      <td>147</td>\n      <td>항온항습기실</td>\n      <td>60.0</td>\n      <td>190.000000</td>\n      <td>450</td>\n      <td>60</td>\n    </tr>\n    <tr>\n      <th>148</th>\n      <td>148</td>\n      <td>헤드</td>\n      <td>50.0</td>\n      <td>106.500000</td>\n      <td>840</td>\n      <td>30</td>\n    </tr>\n    <tr>\n      <th>149</th>\n      <td>149</td>\n      <td>환기조화기</td>\n      <td>60.0</td>\n      <td>96.666667</td>\n      <td>300</td>\n      <td>40</td>\n    </tr>\n    <tr>\n      <th>150</th>\n      <td>150</td>\n      <td>휴대용 비상조명등</td>\n      <td>35.0</td>\n      <td>35.000000</td>\n      <td>60</td>\n      <td>10</td>\n    </tr>\n  </tbody>\n</table>\n<p>151 rows × 6 columns</p>\n</div>"
     },
     "execution_count": 28,
     "metadata": {},
     "output_type": "execute_result"
    }
   ],
   "source": [
    "time_data = pd.read_csv(data_path + '작업시간.csv')\n",
    "#time_data['job_class_nm_4'].dt.days\n",
    "# 일\n",
    "# time_data['일'] = time_data['job_time'].str[:-13]\n",
    "# time_data=time_data[~time_data['일'].str.contains('-')]\n",
    "# time_data['시간'] = time_data['job_time'].str[-8:]\n",
    "# time_data['시'] = pd.to_datetime(time_data['시간']).dt.hour\n",
    "# time_data['분'] = pd.to_datetime(time_data['시간']).dt.minute\n",
    "# time_data[['일','시','분']] = time_data[['일','시','분']].astype(int)\n",
    "# time_data['총시간']= time_data['일']*24*60 + time_data['시'] * 60 + time_data['분']\n",
    "# time_final = time_data.groupby('jangbi_class_nm_4').median()['총시간']\n",
    "# time_final = time_final.reset_index()\n",
    "time_data"
   ],
   "metadata": {
    "collapsed": false
   }
  },
  {
   "cell_type": "code",
   "execution_count": 29,
   "outputs": [],
   "source": [
    "output_data = pd.merge(output_data,time_data,how='left', left_on='Lv4',right_on='jangbi_class_nm_4')"
   ],
   "metadata": {
    "collapsed": false
   }
  },
  {
   "cell_type": "code",
   "execution_count": 30,
   "outputs": [
    {
     "data": {
      "text/plain": "      대분류       장비분류      동     층          장비코드           장비명  장애발생횟수 최근장애일자  \\\n0      기계     개별냉난방기      0     0  2.001040e+11  EHP 실내기 #079     0.0      0   \n1      기계     개별냉난방기      0     0  2.001040e+11       실내기#117     0.0      0   \n2      기계     개별냉난방기      0     0  2.001040e+11       실내기#112     0.0      0   \n3      기계     개별냉난방기      0     0  2.001040e+11       실내기#101     0.0      0   \n4      기계     개별냉난방기      0     0  2.001040e+11        실내기#57     0.0      0   \n...    ..        ...    ...   ...           ...           ...     ...    ...   \n30777  전기  옥외 LED 조명  14-3동  P006  3.004010e+11           정원등     0.0      0   \n30778  전기  옥외 LED 조명  15-2동  F001  3.004010e+11           보안등     0.0      0   \n30779  전기  옥외 LED 조명  15-2동  F001  3.004010e+11         수목투사등     0.0      0   \n30780  전기  옥외 LED 조명  15-2동  F001  3.004010e+11   태양광 LED 가로등     0.0      0   \n30781  전기  옥외 LED 조명  15-2동  P006  3.004010e+11           정원등     0.0      0   \n\n       7일이내장애확률  30일이내장애확률     중위          평균     최대    최소  \n0      0.107005   0.118338  130.0  129.118421  870.0   0.0  \n1      0.004985   0.004985  130.0  129.118421  870.0   0.0  \n2      0.004985   0.004985  130.0  129.118421  870.0   0.0  \n3      0.148842   0.160515  130.0  129.118421  870.0   0.0  \n4      0.148842   0.160515  130.0  129.118421  870.0   0.0  \n...         ...        ...    ...         ...    ...   ...  \n30777  0.111111   0.111111   55.0   70.000000  150.0  20.0  \n30778  0.111111   0.111111   55.0   70.000000  150.0  20.0  \n30779  0.111111   0.111111   55.0   70.000000  150.0  20.0  \n30780  0.111111   0.111111   55.0   70.000000  150.0  20.0  \n30781  0.111111   0.111111   55.0   70.000000  150.0  20.0  \n\n[30782 rows x 14 columns]",
      "text/html": "<div>\n<style scoped>\n    .dataframe tbody tr th:only-of-type {\n        vertical-align: middle;\n    }\n\n    .dataframe tbody tr th {\n        vertical-align: top;\n    }\n\n    .dataframe thead th {\n        text-align: right;\n    }\n</style>\n<table border=\"1\" class=\"dataframe\">\n  <thead>\n    <tr style=\"text-align: right;\">\n      <th></th>\n      <th>대분류</th>\n      <th>장비분류</th>\n      <th>동</th>\n      <th>층</th>\n      <th>장비코드</th>\n      <th>장비명</th>\n      <th>장애발생횟수</th>\n      <th>최근장애일자</th>\n      <th>7일이내장애확률</th>\n      <th>30일이내장애확률</th>\n      <th>중위</th>\n      <th>평균</th>\n      <th>최대</th>\n      <th>최소</th>\n    </tr>\n  </thead>\n  <tbody>\n    <tr>\n      <th>0</th>\n      <td>기계</td>\n      <td>개별냉난방기</td>\n      <td>0</td>\n      <td>0</td>\n      <td>2.001040e+11</td>\n      <td>EHP 실내기 #079</td>\n      <td>0.0</td>\n      <td>0</td>\n      <td>0.107005</td>\n      <td>0.118338</td>\n      <td>130.0</td>\n      <td>129.118421</td>\n      <td>870.0</td>\n      <td>0.0</td>\n    </tr>\n    <tr>\n      <th>1</th>\n      <td>기계</td>\n      <td>개별냉난방기</td>\n      <td>0</td>\n      <td>0</td>\n      <td>2.001040e+11</td>\n      <td>실내기#117</td>\n      <td>0.0</td>\n      <td>0</td>\n      <td>0.004985</td>\n      <td>0.004985</td>\n      <td>130.0</td>\n      <td>129.118421</td>\n      <td>870.0</td>\n      <td>0.0</td>\n    </tr>\n    <tr>\n      <th>2</th>\n      <td>기계</td>\n      <td>개별냉난방기</td>\n      <td>0</td>\n      <td>0</td>\n      <td>2.001040e+11</td>\n      <td>실내기#112</td>\n      <td>0.0</td>\n      <td>0</td>\n      <td>0.004985</td>\n      <td>0.004985</td>\n      <td>130.0</td>\n      <td>129.118421</td>\n      <td>870.0</td>\n      <td>0.0</td>\n    </tr>\n    <tr>\n      <th>3</th>\n      <td>기계</td>\n      <td>개별냉난방기</td>\n      <td>0</td>\n      <td>0</td>\n      <td>2.001040e+11</td>\n      <td>실내기#101</td>\n      <td>0.0</td>\n      <td>0</td>\n      <td>0.148842</td>\n      <td>0.160515</td>\n      <td>130.0</td>\n      <td>129.118421</td>\n      <td>870.0</td>\n      <td>0.0</td>\n    </tr>\n    <tr>\n      <th>4</th>\n      <td>기계</td>\n      <td>개별냉난방기</td>\n      <td>0</td>\n      <td>0</td>\n      <td>2.001040e+11</td>\n      <td>실내기#57</td>\n      <td>0.0</td>\n      <td>0</td>\n      <td>0.148842</td>\n      <td>0.160515</td>\n      <td>130.0</td>\n      <td>129.118421</td>\n      <td>870.0</td>\n      <td>0.0</td>\n    </tr>\n    <tr>\n      <th>...</th>\n      <td>...</td>\n      <td>...</td>\n      <td>...</td>\n      <td>...</td>\n      <td>...</td>\n      <td>...</td>\n      <td>...</td>\n      <td>...</td>\n      <td>...</td>\n      <td>...</td>\n      <td>...</td>\n      <td>...</td>\n      <td>...</td>\n      <td>...</td>\n    </tr>\n    <tr>\n      <th>30777</th>\n      <td>전기</td>\n      <td>옥외 LED 조명</td>\n      <td>14-3동</td>\n      <td>P006</td>\n      <td>3.004010e+11</td>\n      <td>정원등</td>\n      <td>0.0</td>\n      <td>0</td>\n      <td>0.111111</td>\n      <td>0.111111</td>\n      <td>55.0</td>\n      <td>70.000000</td>\n      <td>150.0</td>\n      <td>20.0</td>\n    </tr>\n    <tr>\n      <th>30778</th>\n      <td>전기</td>\n      <td>옥외 LED 조명</td>\n      <td>15-2동</td>\n      <td>F001</td>\n      <td>3.004010e+11</td>\n      <td>보안등</td>\n      <td>0.0</td>\n      <td>0</td>\n      <td>0.111111</td>\n      <td>0.111111</td>\n      <td>55.0</td>\n      <td>70.000000</td>\n      <td>150.0</td>\n      <td>20.0</td>\n    </tr>\n    <tr>\n      <th>30779</th>\n      <td>전기</td>\n      <td>옥외 LED 조명</td>\n      <td>15-2동</td>\n      <td>F001</td>\n      <td>3.004010e+11</td>\n      <td>수목투사등</td>\n      <td>0.0</td>\n      <td>0</td>\n      <td>0.111111</td>\n      <td>0.111111</td>\n      <td>55.0</td>\n      <td>70.000000</td>\n      <td>150.0</td>\n      <td>20.0</td>\n    </tr>\n    <tr>\n      <th>30780</th>\n      <td>전기</td>\n      <td>옥외 LED 조명</td>\n      <td>15-2동</td>\n      <td>F001</td>\n      <td>3.004010e+11</td>\n      <td>태양광 LED 가로등</td>\n      <td>0.0</td>\n      <td>0</td>\n      <td>0.111111</td>\n      <td>0.111111</td>\n      <td>55.0</td>\n      <td>70.000000</td>\n      <td>150.0</td>\n      <td>20.0</td>\n    </tr>\n    <tr>\n      <th>30781</th>\n      <td>전기</td>\n      <td>옥외 LED 조명</td>\n      <td>15-2동</td>\n      <td>P006</td>\n      <td>3.004010e+11</td>\n      <td>정원등</td>\n      <td>0.0</td>\n      <td>0</td>\n      <td>0.111111</td>\n      <td>0.111111</td>\n      <td>55.0</td>\n      <td>70.000000</td>\n      <td>150.0</td>\n      <td>20.0</td>\n    </tr>\n  </tbody>\n</table>\n<p>30782 rows × 14 columns</p>\n</div>"
     },
     "execution_count": 30,
     "metadata": {},
     "output_type": "execute_result"
    }
   ],
   "source": [
    "output_data = output_data.drop(['Lv4','jangbi_class_nm_4'],axis=1)\n",
    "output_data.drop('Unnamed: 0',inplace=True,axis = 1)\n",
    "output_data"
   ],
   "metadata": {
    "collapsed": false
   }
  },
  {
   "cell_type": "code",
   "execution_count": 31,
   "outputs": [
    {
     "data": {
      "text/plain": "  대분류    장비분류  동  층          장비코드           장비명  장애발생횟수 최근장애일자  7일이내장애확률  \\\n0  기계  개별냉난방기  0  0  2.001040e+11  EHP 실내기 #079     0.0      0  0.107005   \n1  기계  개별냉난방기  0  0  2.001040e+11       실내기#117     0.0      0  0.004985   \n2  기계  개별냉난방기  0  0  2.001040e+11       실내기#112     0.0      0  0.004985   \n3  기계  개별냉난방기  0  0  2.001040e+11       실내기#101     0.0      0  0.148842   \n4  기계  개별냉난방기  0  0  2.001040e+11        실내기#57     0.0      0  0.148842   \n\n   30일이내장애확률     중위          평균     최대   최소  \n0   0.118338  130.0  129.118421  870.0  0.0  \n1   0.004985  130.0  129.118421  870.0  0.0  \n2   0.004985  130.0  129.118421  870.0  0.0  \n3   0.160515  130.0  129.118421  870.0  0.0  \n4   0.160515  130.0  129.118421  870.0  0.0  ",
      "text/html": "<div>\n<style scoped>\n    .dataframe tbody tr th:only-of-type {\n        vertical-align: middle;\n    }\n\n    .dataframe tbody tr th {\n        vertical-align: top;\n    }\n\n    .dataframe thead th {\n        text-align: right;\n    }\n</style>\n<table border=\"1\" class=\"dataframe\">\n  <thead>\n    <tr style=\"text-align: right;\">\n      <th></th>\n      <th>대분류</th>\n      <th>장비분류</th>\n      <th>동</th>\n      <th>층</th>\n      <th>장비코드</th>\n      <th>장비명</th>\n      <th>장애발생횟수</th>\n      <th>최근장애일자</th>\n      <th>7일이내장애확률</th>\n      <th>30일이내장애확률</th>\n      <th>중위</th>\n      <th>평균</th>\n      <th>최대</th>\n      <th>최소</th>\n    </tr>\n  </thead>\n  <tbody>\n    <tr>\n      <th>0</th>\n      <td>기계</td>\n      <td>개별냉난방기</td>\n      <td>0</td>\n      <td>0</td>\n      <td>2.001040e+11</td>\n      <td>EHP 실내기 #079</td>\n      <td>0.0</td>\n      <td>0</td>\n      <td>0.107005</td>\n      <td>0.118338</td>\n      <td>130.0</td>\n      <td>129.118421</td>\n      <td>870.0</td>\n      <td>0.0</td>\n    </tr>\n    <tr>\n      <th>1</th>\n      <td>기계</td>\n      <td>개별냉난방기</td>\n      <td>0</td>\n      <td>0</td>\n      <td>2.001040e+11</td>\n      <td>실내기#117</td>\n      <td>0.0</td>\n      <td>0</td>\n      <td>0.004985</td>\n      <td>0.004985</td>\n      <td>130.0</td>\n      <td>129.118421</td>\n      <td>870.0</td>\n      <td>0.0</td>\n    </tr>\n    <tr>\n      <th>2</th>\n      <td>기계</td>\n      <td>개별냉난방기</td>\n      <td>0</td>\n      <td>0</td>\n      <td>2.001040e+11</td>\n      <td>실내기#112</td>\n      <td>0.0</td>\n      <td>0</td>\n      <td>0.004985</td>\n      <td>0.004985</td>\n      <td>130.0</td>\n      <td>129.118421</td>\n      <td>870.0</td>\n      <td>0.0</td>\n    </tr>\n    <tr>\n      <th>3</th>\n      <td>기계</td>\n      <td>개별냉난방기</td>\n      <td>0</td>\n      <td>0</td>\n      <td>2.001040e+11</td>\n      <td>실내기#101</td>\n      <td>0.0</td>\n      <td>0</td>\n      <td>0.148842</td>\n      <td>0.160515</td>\n      <td>130.0</td>\n      <td>129.118421</td>\n      <td>870.0</td>\n      <td>0.0</td>\n    </tr>\n    <tr>\n      <th>4</th>\n      <td>기계</td>\n      <td>개별냉난방기</td>\n      <td>0</td>\n      <td>0</td>\n      <td>2.001040e+11</td>\n      <td>실내기#57</td>\n      <td>0.0</td>\n      <td>0</td>\n      <td>0.148842</td>\n      <td>0.160515</td>\n      <td>130.0</td>\n      <td>129.118421</td>\n      <td>870.0</td>\n      <td>0.0</td>\n    </tr>\n  </tbody>\n</table>\n</div>"
     },
     "execution_count": 31,
     "metadata": {},
     "output_type": "execute_result"
    }
   ],
   "source": [
    "output_data.head()"
   ],
   "metadata": {
    "collapsed": false
   }
  },
  {
   "cell_type": "code",
   "execution_count": 32,
   "outputs": [],
   "source": [
    "arr = list(output_data['대분류'].unique())"
   ],
   "metadata": {
    "collapsed": false
   }
  },
  {
   "cell_type": "code",
   "execution_count": 33,
   "outputs": [
    {
     "name": "stderr",
     "output_type": "stream",
     "text": [
      "/var/folders/nd/cl2nzwh13zx7jdly2t5m95340000gn/T/ipykernel_22554/906165277.py:8: FutureWarning: The default value of numeric_only in DataFrameGroupBy.sum is deprecated. In a future version, numeric_only will default to False. Either specify numeric_only or select only columns which should be valid for the function.\n",
      "  output_data_final_broken = output_data_final.groupby(['장비분류','동']).sum()['장애발생횟수']\n",
      "/var/folders/nd/cl2nzwh13zx7jdly2t5m95340000gn/T/ipykernel_22554/906165277.py:16: FutureWarning: The default value of numeric_only in DataFrameGroupBy.mean is deprecated. In a future version, numeric_only will default to False. Either specify numeric_only or select only columns which should be valid for the function.\n",
      "  output_data_final_prob_mean = output_data_final.groupby(['장비분류','동']).mean()[['7일이내장애확률','30일이내장애확률']]\n",
      "/var/folders/nd/cl2nzwh13zx7jdly2t5m95340000gn/T/ipykernel_22554/906165277.py:19: FutureWarning: The default value of numeric_only in DataFrameGroupBy.median is deprecated. In a future version, numeric_only will default to False. Either specify numeric_only or select only columns which should be valid for the function.\n",
      "  output_data_final_prob_median = output_data_final.groupby(['장비분류','동']).median()[['7일이내장애확률','30일이내장애확률']]\n",
      "/var/folders/nd/cl2nzwh13zx7jdly2t5m95340000gn/T/ipykernel_22554/906165277.py:8: FutureWarning: The default value of numeric_only in DataFrameGroupBy.sum is deprecated. In a future version, numeric_only will default to False. Either specify numeric_only or select only columns which should be valid for the function.\n",
      "  output_data_final_broken = output_data_final.groupby(['장비분류','동']).sum()['장애발생횟수']\n",
      "/var/folders/nd/cl2nzwh13zx7jdly2t5m95340000gn/T/ipykernel_22554/906165277.py:16: FutureWarning: The default value of numeric_only in DataFrameGroupBy.mean is deprecated. In a future version, numeric_only will default to False. Either specify numeric_only or select only columns which should be valid for the function.\n",
      "  output_data_final_prob_mean = output_data_final.groupby(['장비분류','동']).mean()[['7일이내장애확률','30일이내장애확률']]\n",
      "/var/folders/nd/cl2nzwh13zx7jdly2t5m95340000gn/T/ipykernel_22554/906165277.py:19: FutureWarning: The default value of numeric_only in DataFrameGroupBy.median is deprecated. In a future version, numeric_only will default to False. Either specify numeric_only or select only columns which should be valid for the function.\n",
      "  output_data_final_prob_median = output_data_final.groupby(['장비분류','동']).median()[['7일이내장애확률','30일이내장애확률']]\n",
      "/var/folders/nd/cl2nzwh13zx7jdly2t5m95340000gn/T/ipykernel_22554/906165277.py:8: FutureWarning: The default value of numeric_only in DataFrameGroupBy.sum is deprecated. In a future version, numeric_only will default to False. Either specify numeric_only or select only columns which should be valid for the function.\n",
      "  output_data_final_broken = output_data_final.groupby(['장비분류','동']).sum()['장애발생횟수']\n",
      "/var/folders/nd/cl2nzwh13zx7jdly2t5m95340000gn/T/ipykernel_22554/906165277.py:16: FutureWarning: The default value of numeric_only in DataFrameGroupBy.mean is deprecated. In a future version, numeric_only will default to False. Either specify numeric_only or select only columns which should be valid for the function.\n",
      "  output_data_final_prob_mean = output_data_final.groupby(['장비분류','동']).mean()[['7일이내장애확률','30일이내장애확률']]\n",
      "/var/folders/nd/cl2nzwh13zx7jdly2t5m95340000gn/T/ipykernel_22554/906165277.py:19: FutureWarning: The default value of numeric_only in DataFrameGroupBy.median is deprecated. In a future version, numeric_only will default to False. Either specify numeric_only or select only columns which should be valid for the function.\n",
      "  output_data_final_prob_median = output_data_final.groupby(['장비분류','동']).median()[['7일이내장애확률','30일이내장애확률']]\n",
      "/var/folders/nd/cl2nzwh13zx7jdly2t5m95340000gn/T/ipykernel_22554/906165277.py:8: FutureWarning: The default value of numeric_only in DataFrameGroupBy.sum is deprecated. In a future version, numeric_only will default to False. Either specify numeric_only or select only columns which should be valid for the function.\n",
      "  output_data_final_broken = output_data_final.groupby(['장비분류','동']).sum()['장애발생횟수']\n",
      "/var/folders/nd/cl2nzwh13zx7jdly2t5m95340000gn/T/ipykernel_22554/906165277.py:16: FutureWarning: The default value of numeric_only in DataFrameGroupBy.mean is deprecated. In a future version, numeric_only will default to False. Either specify numeric_only or select only columns which should be valid for the function.\n",
      "  output_data_final_prob_mean = output_data_final.groupby(['장비분류','동']).mean()[['7일이내장애확률','30일이내장애확률']]\n",
      "/var/folders/nd/cl2nzwh13zx7jdly2t5m95340000gn/T/ipykernel_22554/906165277.py:19: FutureWarning: The default value of numeric_only in DataFrameGroupBy.median is deprecated. In a future version, numeric_only will default to False. Either specify numeric_only or select only columns which should be valid for the function.\n",
      "  output_data_final_prob_median = output_data_final.groupby(['장비분류','동']).median()[['7일이내장애확률','30일이내장애확률']]\n",
      "/var/folders/nd/cl2nzwh13zx7jdly2t5m95340000gn/T/ipykernel_22554/906165277.py:8: FutureWarning: The default value of numeric_only in DataFrameGroupBy.sum is deprecated. In a future version, numeric_only will default to False. Either specify numeric_only or select only columns which should be valid for the function.\n",
      "  output_data_final_broken = output_data_final.groupby(['장비분류','동']).sum()['장애발생횟수']\n",
      "/var/folders/nd/cl2nzwh13zx7jdly2t5m95340000gn/T/ipykernel_22554/906165277.py:16: FutureWarning: The default value of numeric_only in DataFrameGroupBy.mean is deprecated. In a future version, numeric_only will default to False. Either specify numeric_only or select only columns which should be valid for the function.\n",
      "  output_data_final_prob_mean = output_data_final.groupby(['장비분류','동']).mean()[['7일이내장애확률','30일이내장애확률']]\n",
      "/var/folders/nd/cl2nzwh13zx7jdly2t5m95340000gn/T/ipykernel_22554/906165277.py:19: FutureWarning: The default value of numeric_only in DataFrameGroupBy.median is deprecated. In a future version, numeric_only will default to False. Either specify numeric_only or select only columns which should be valid for the function.\n",
      "  output_data_final_prob_median = output_data_final.groupby(['장비분류','동']).median()[['7일이내장애확률','30일이내장애확률']]\n",
      "/var/folders/nd/cl2nzwh13zx7jdly2t5m95340000gn/T/ipykernel_22554/906165277.py:25: FutureWarning: save is not part of the public API, usage can give unexpected results and will be removed in a future version\n",
      "  writer.save()\n"
     ]
    }
   ],
   "source": [
    "writer=pd.ExcelWriter(result_path+'생존분석결과.xlsx', engine='openpyxl')\n",
    "\n",
    "for i in arr:\n",
    "\n",
    "    output_data_final = output_data[output_data['대분류']==i]\n",
    "    output_data_final.to_excel(writer, sheet_name = f'{i}_장비별')\n",
    "\n",
    "    output_data_final_broken = output_data_final.groupby(['장비분류','동']).sum()['장애발생횟수']\n",
    "\n",
    "    output_data_final_prob_max = output_data_final.groupby(['장비분류','동']).max()[['7일이내장애확률','30일이내장애확률']]\n",
    "    output_data_final_prob_max.columns = ['7일이내장애확률(최대)','30일이내장애확률(최대)']\n",
    "\n",
    "    output_data_final_prob_min = output_data_final.groupby(['장비분류','동']).min()[['7일이내장애확률','30일이내장애확률']]\n",
    "    output_data_final_prob_min.columns = ['7일이내장애확률(최소)','30일이내장애확률(최소)']\n",
    "\n",
    "    output_data_final_prob_mean = output_data_final.groupby(['장비분류','동']).mean()[['7일이내장애확률','30일이내장애확률']]\n",
    "    output_data_final_prob_mean.columns = ['7일이내장애확률(평균)','30일이내장애확률(평균)']\n",
    "\n",
    "    output_data_final_prob_median = output_data_final.groupby(['장비분류','동']).median()[['7일이내장애확률','30일이내장애확률']]\n",
    "    output_data_final_prob_median.columns = ['7일이내장애확률(중앙)','30일이내장애확률(중앙)']\n",
    "\n",
    "    output_data_final_group = pd.concat([output_data_final_broken,output_data_final_prob_max,output_data_final_prob_min,output_data_final_prob_mean,output_data_final_prob_median],axis = 1)\n",
    "    output_data_final_group.to_excel(writer, sheet_name = f'{i}_동별')\n",
    "\n",
    "writer.save()\n"
   ],
   "metadata": {
    "collapsed": false
   }
  },
  {
   "cell_type": "markdown",
   "source": [],
   "metadata": {
    "collapsed": false
   }
  }
 ],
 "metadata": {
  "kernelspec": {
   "display_name": "Python 3",
   "language": "python",
   "name": "python3"
  },
  "language_info": {
   "codemirror_mode": {
    "name": "ipython",
    "version": 2
   },
   "file_extension": ".py",
   "mimetype": "text/x-python",
   "name": "python",
   "nbconvert_exporter": "python",
   "pygments_lexer": "ipython2",
   "version": "2.7.6"
  }
 },
 "nbformat": 4,
 "nbformat_minor": 0
}

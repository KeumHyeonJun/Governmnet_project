{
 "cells": [
  {
   "cell_type": "code",
   "execution_count": 1,
   "id": "4759773a-2dc0-427c-a6f1-84f701a18c13",
   "metadata": {},
   "outputs": [],
   "source": [
    "import pandas as pd\n",
    "import numpy as np\n",
    "import re\n",
    "from matplotlib import pyplot as plt\n",
    "\n",
    "plt.rc('font', family='AppleGothic')\n",
    "plt.rcParams['axes.unicode_minus'] = False"
   ]
  },
  {
   "cell_type": "code",
   "execution_count": 4,
   "outputs": [
    {
     "data": {
      "text/plain": "'/Users/keumhyeonjun/Projects/행안부/서비스용'"
     },
     "execution_count": 4,
     "metadata": {},
     "output_type": "execute_result"
    }
   ],
   "source": [
    "from pathlib import Path\n",
    "path = Path.cwd()\n",
    "data_path = path.parent\n",
    "data_path = str(data_path)\n",
    "data_path"
   ],
   "metadata": {
    "collapsed": false
   }
  },
  {
   "cell_type": "markdown",
   "id": "7dfa4e97-7d4f-49b2-b05a-c9a8f73acf03",
   "metadata": {},
   "source": [
    "# 차량 데이터 불러오기 및 전처리"
   ]
  },
  {
   "cell_type": "markdown",
   "source": [
    "# 다래데이터만 > 다래 데이터 형식으로 테이블 맞춰서 제공한다고 하였음"
   ],
   "metadata": {
    "collapsed": false
   }
  },
  {
   "cell_type": "code",
   "execution_count": null,
   "outputs": [],
   "source": [
    "import pandas as pd"
   ],
   "metadata": {
    "collapsed": false
   }
  },
  {
   "cell_type": "code",
   "execution_count": 7,
   "outputs": [
    {
     "name": "stderr",
     "output_type": "stream",
     "text": [
      "/var/folders/nd/cl2nzwh13zx7jdly2t5m95340000gn/T/ipykernel_96085/1503700987.py:1: DtypeWarning: Columns (0,1,2,5,6,7,8,9) have mixed types. Specify dtype option on import or set low_memory=False.\n",
      "  darae_in = pd.read_csv(data_path+ '/raw_data/VW_InCarinfo (차량 입차 정보 조회).csv')\n"
     ]
    }
   ],
   "source": [
    "darae_in = pd.read_csv(data_path+ '/raw_data/VW_InCarinfo (차량 입차 정보 조회).csv')\n",
    "darae_in = darae_in.dropna()\n",
    "darae_out = pd.read_csv(data_path+'/raw_data/VW_OutCarinfo (차량 출차 정보 조회).csv')"
   ],
   "metadata": {
    "collapsed": false
   }
  },
  {
   "cell_type": "code",
   "execution_count": 8,
   "outputs": [],
   "source": [
    "darae_in[['입차고객구분']]= darae_in[['입차고객구분']].apply(lambda x: x.str.strip(), axis = 1)\n",
    "darae_in[['장비명','입차구분','입차고객구분','출차여부','차량종류']] = darae_in[['장비명','입차구분','입차고객구분','출차여부','차량종류']].apply(lambda x: x.str.strip(), axis = 1)\n",
    "darae_out[['장비명','출차구분','출차고객구분','출차여부','차량종류']]= darae_out[['장비명','출차구분','출차고객구분','출차여부','차량종류']].apply(lambda x: x.str.strip(), axis = 1)"
   ],
   "metadata": {
    "collapsed": false
   }
  },
  {
   "cell_type": "markdown",
   "source": [
    "## 이름 바꾸기 13_1동 지하 1 > 13"
   ],
   "metadata": {
    "collapsed": false
   }
  },
  {
   "cell_type": "code",
   "execution_count": 9,
   "outputs": [
    {
     "name": "stderr",
     "output_type": "stream",
     "text": [
      "/var/folders/nd/cl2nzwh13zx7jdly2t5m95340000gn/T/ipykernel_96085/178002389.py:6: SettingWithCopyWarning: \n",
      "A value is trying to be set on a copy of a slice from a DataFrame\n",
      "\n",
      "See the caveats in the documentation: https://pandas.pydata.org/pandas-docs/stable/user_guide/indexing.html#returning-a-view-versus-a-copy\n",
      "  df['주차장'][i] = reg\n",
      "/var/folders/nd/cl2nzwh13zx7jdly2t5m95340000gn/T/ipykernel_96085/178002389.py:6: SettingWithCopyWarning: \n",
      "A value is trying to be set on a copy of a slice from a DataFrame\n",
      "\n",
      "See the caveats in the documentation: https://pandas.pydata.org/pandas-docs/stable/user_guide/indexing.html#returning-a-view-versus-a-copy\n",
      "  df['주차장'][i] = reg\n"
     ]
    }
   ],
   "source": [
    "import re\n",
    "def slicing(df,i) :\n",
    "    pattern = '.*동'\n",
    "    reg = re.search(pattern, df['장비명'][i])\n",
    "    reg = reg.group()\n",
    "    df['주차장'][i] = reg\n",
    "    return reg\n",
    "\n",
    "darae_in['주차장'] = 0\n",
    "for i in range(len(darae_in)):\n",
    "    slicing(darae_in,i)\n",
    "darae_out['주차장'] = 0\n",
    "\n",
    "for i in range(len(darae_out)):\n",
    "    slicing(darae_out,i)\n",
    "\n",
    "def change(x):\n",
    "    if x =='13-1동' or x =='13-2동' or x =='13-3동':\n",
    "        return '13동'\n",
    "    elif x == '14-1동' or x == '14-2동':\n",
    "        return '14동'\n",
    "    else :\n",
    "        return x\n",
    "darae_in['주차장'] = darae_in['주차장'].apply(change)\n",
    "darae_out['주차장'] = darae_out['주차장'].apply(change)"
   ],
   "metadata": {
    "collapsed": false
   }
  },
  {
   "cell_type": "code",
   "execution_count": 10,
   "outputs": [],
   "source": [
    "pd.options.display.float_format = '{:.0f}'.format"
   ],
   "metadata": {
    "collapsed": false
   }
  },
  {
   "cell_type": "code",
   "execution_count": 11,
   "outputs": [],
   "source": [
    "import copy"
   ],
   "metadata": {
    "collapsed": false
   }
  },
  {
   "cell_type": "code",
   "execution_count": 12,
   "outputs": [],
   "source": [
    "test_in = copy.deepcopy(darae_in)\n",
    "test_in.columns = ['일자','시각','차량번호','주차일련번호','입출차카드번호','장비명','입출차구분','입출차고객구분','출차여부','차량종류','주차장']\n",
    "test_in['입출차여부'] = '입차'"
   ],
   "metadata": {
    "collapsed": false
   }
  },
  {
   "cell_type": "code",
   "execution_count": 13,
   "outputs": [
    {
     "data": {
      "text/plain": "100000000000000    15818\n0                     35\nName: 입출차카드번호, dtype: int64"
     },
     "execution_count": 13,
     "metadata": {},
     "output_type": "execute_result"
    }
   ],
   "source": [
    "test_out = copy.deepcopy(darae_out)\n",
    "test_out.columns = ['일자','시각','차량번호','주차일련번호','입출차카드번호','장비명','입출차구분','입출차고객구분','출차여부','차량종류','주차장']\n",
    "test_out['입출차여부'] = '출차'\n",
    "test_out[test_out['장비명'].str.contains('입구')]['입출차카드번호'].value_counts()"
   ],
   "metadata": {
    "collapsed": false
   }
  },
  {
   "cell_type": "code",
   "execution_count": 14,
   "outputs": [],
   "source": [
    "df = pd.concat([test_in, test_out]).sort_values(by=['차량번호','일자','시각'])#[['차량번호','입출차여부','일자','시각','입출차구분','출차여부','장비명']]"
   ],
   "metadata": {
    "collapsed": false
   }
  },
  {
   "cell_type": "code",
   "execution_count": 15,
   "outputs": [],
   "source": [
    "import datetime\n",
    "df['입출차시각'] = df['일자'] + df['시각']\n",
    "df['입출차시각'] = pd.to_datetime(df['입출차시각'], format= '%Y-%m-%d %H:%M:%S', errors='raise')\n",
    "df['시'] = df['입출차시각'].dt.hour\n",
    "df.reset_index(inplace = True)"
   ],
   "metadata": {
    "collapsed": false
   }
  },
  {
   "cell_type": "code",
   "execution_count": 16,
   "outputs": [
    {
     "data": {
      "text/plain": "       index          일자          시각       차량번호            주차일련번호  \\\n0       4218  2022-09-05    09:07:56    01거5868 11111220905090756   \n1       2114  2022-09-05   09:32:50     01거5868 11111220905090750   \n2       4350  2022-09-05    17:00:27    01거5868 11111220905170028   \n3       2588  2022-09-05   17:27:22     01거5868 11111220905170020   \n4       4554  2022-09-06    09:02:53    01거5868 11111220906090252   \n...      ...         ...         ...        ...               ...   \n77339  22206  2022-10-05   15:29:16   충북80배1724 11112221005150810   \n77340   9973  2022-09-10    16:07:19  충북86자3167 11112220910160720   \n77341  30326  2022-09-28    17:26:49  충북86자3167 11113220928172648   \n77342  30326  2022-09-28    17:26:49  충북86자3167 11113200000000000   \n77343  18128  2022-09-28   17:54:17   충북86자3167 11113220928172640   \n\n              입출차카드번호        장비명  입출차구분 입출차고객구분  출차여부 차량종류  주차장 입출차여부  \\\n0     100000000037794      12동입구     정상     정기권    출차   소형  12동    입차   \n1     100000000037794    12동출구#1  정기권출차     정기권    출차   소형  12동    출차   \n2     100000000037794      12동입구     정상     정기권    출차   소형  12동    입차   \n3     100000000037794    12동출구#1  정기권출차     정기권    출차   소형  12동    출차   \n4     100000000037794      12동입구     정상     정기권    출차   소형  12동    입차   \n...               ...        ...    ...     ...   ...  ...  ...   ...   \n77339 100000000039079  13-1동출구#1  정기권출차     정기권    출차   소형  13동    출차   \n77340 100000000051701    13-1동입구     정상     정기권  강제출차   소형  13동    입차   \n77341 100000000051701    13-2동입구     중복     정기권    출차   소형  13동    입차   \n77342 100000000000000    13-2동입구     중복     정기권    출차   소형  13동    출차   \n77343 100000000051701  13-2동출구#1  정기권출차     정기권    출차   소형  13동    출차   \n\n                    입출차시각   시  \n0     2022-09-05 09:07:56   9  \n1     2022-09-05 09:32:50   9  \n2     2022-09-05 17:00:27  17  \n3     2022-09-05 17:27:22  17  \n4     2022-09-06 09:02:53   9  \n...                   ...  ..  \n77339 2022-10-05 15:29:16  15  \n77340 2022-09-10 16:07:19  16  \n77341 2022-09-28 17:26:49  17  \n77342 2022-09-28 17:26:49  17  \n77343 2022-09-28 17:54:17  17  \n\n[77344 rows x 15 columns]",
      "text/html": "<div>\n<style scoped>\n    .dataframe tbody tr th:only-of-type {\n        vertical-align: middle;\n    }\n\n    .dataframe tbody tr th {\n        vertical-align: top;\n    }\n\n    .dataframe thead th {\n        text-align: right;\n    }\n</style>\n<table border=\"1\" class=\"dataframe\">\n  <thead>\n    <tr style=\"text-align: right;\">\n      <th></th>\n      <th>index</th>\n      <th>일자</th>\n      <th>시각</th>\n      <th>차량번호</th>\n      <th>주차일련번호</th>\n      <th>입출차카드번호</th>\n      <th>장비명</th>\n      <th>입출차구분</th>\n      <th>입출차고객구분</th>\n      <th>출차여부</th>\n      <th>차량종류</th>\n      <th>주차장</th>\n      <th>입출차여부</th>\n      <th>입출차시각</th>\n      <th>시</th>\n    </tr>\n  </thead>\n  <tbody>\n    <tr>\n      <th>0</th>\n      <td>4218</td>\n      <td>2022-09-05</td>\n      <td>09:07:56</td>\n      <td>01거5868</td>\n      <td>11111220905090756</td>\n      <td>100000000037794</td>\n      <td>12동입구</td>\n      <td>정상</td>\n      <td>정기권</td>\n      <td>출차</td>\n      <td>소형</td>\n      <td>12동</td>\n      <td>입차</td>\n      <td>2022-09-05 09:07:56</td>\n      <td>9</td>\n    </tr>\n    <tr>\n      <th>1</th>\n      <td>2114</td>\n      <td>2022-09-05</td>\n      <td>09:32:50</td>\n      <td>01거5868</td>\n      <td>11111220905090750</td>\n      <td>100000000037794</td>\n      <td>12동출구#1</td>\n      <td>정기권출차</td>\n      <td>정기권</td>\n      <td>출차</td>\n      <td>소형</td>\n      <td>12동</td>\n      <td>출차</td>\n      <td>2022-09-05 09:32:50</td>\n      <td>9</td>\n    </tr>\n    <tr>\n      <th>2</th>\n      <td>4350</td>\n      <td>2022-09-05</td>\n      <td>17:00:27</td>\n      <td>01거5868</td>\n      <td>11111220905170028</td>\n      <td>100000000037794</td>\n      <td>12동입구</td>\n      <td>정상</td>\n      <td>정기권</td>\n      <td>출차</td>\n      <td>소형</td>\n      <td>12동</td>\n      <td>입차</td>\n      <td>2022-09-05 17:00:27</td>\n      <td>17</td>\n    </tr>\n    <tr>\n      <th>3</th>\n      <td>2588</td>\n      <td>2022-09-05</td>\n      <td>17:27:22</td>\n      <td>01거5868</td>\n      <td>11111220905170020</td>\n      <td>100000000037794</td>\n      <td>12동출구#1</td>\n      <td>정기권출차</td>\n      <td>정기권</td>\n      <td>출차</td>\n      <td>소형</td>\n      <td>12동</td>\n      <td>출차</td>\n      <td>2022-09-05 17:27:22</td>\n      <td>17</td>\n    </tr>\n    <tr>\n      <th>4</th>\n      <td>4554</td>\n      <td>2022-09-06</td>\n      <td>09:02:53</td>\n      <td>01거5868</td>\n      <td>11111220906090252</td>\n      <td>100000000037794</td>\n      <td>12동입구</td>\n      <td>정상</td>\n      <td>정기권</td>\n      <td>출차</td>\n      <td>소형</td>\n      <td>12동</td>\n      <td>입차</td>\n      <td>2022-09-06 09:02:53</td>\n      <td>9</td>\n    </tr>\n    <tr>\n      <th>...</th>\n      <td>...</td>\n      <td>...</td>\n      <td>...</td>\n      <td>...</td>\n      <td>...</td>\n      <td>...</td>\n      <td>...</td>\n      <td>...</td>\n      <td>...</td>\n      <td>...</td>\n      <td>...</td>\n      <td>...</td>\n      <td>...</td>\n      <td>...</td>\n      <td>...</td>\n    </tr>\n    <tr>\n      <th>77339</th>\n      <td>22206</td>\n      <td>2022-10-05</td>\n      <td>15:29:16</td>\n      <td>충북80배1724</td>\n      <td>11112221005150810</td>\n      <td>100000000039079</td>\n      <td>13-1동출구#1</td>\n      <td>정기권출차</td>\n      <td>정기권</td>\n      <td>출차</td>\n      <td>소형</td>\n      <td>13동</td>\n      <td>출차</td>\n      <td>2022-10-05 15:29:16</td>\n      <td>15</td>\n    </tr>\n    <tr>\n      <th>77340</th>\n      <td>9973</td>\n      <td>2022-09-10</td>\n      <td>16:07:19</td>\n      <td>충북86자3167</td>\n      <td>11112220910160720</td>\n      <td>100000000051701</td>\n      <td>13-1동입구</td>\n      <td>정상</td>\n      <td>정기권</td>\n      <td>강제출차</td>\n      <td>소형</td>\n      <td>13동</td>\n      <td>입차</td>\n      <td>2022-09-10 16:07:19</td>\n      <td>16</td>\n    </tr>\n    <tr>\n      <th>77341</th>\n      <td>30326</td>\n      <td>2022-09-28</td>\n      <td>17:26:49</td>\n      <td>충북86자3167</td>\n      <td>11113220928172648</td>\n      <td>100000000051701</td>\n      <td>13-2동입구</td>\n      <td>중복</td>\n      <td>정기권</td>\n      <td>출차</td>\n      <td>소형</td>\n      <td>13동</td>\n      <td>입차</td>\n      <td>2022-09-28 17:26:49</td>\n      <td>17</td>\n    </tr>\n    <tr>\n      <th>77342</th>\n      <td>30326</td>\n      <td>2022-09-28</td>\n      <td>17:26:49</td>\n      <td>충북86자3167</td>\n      <td>11113200000000000</td>\n      <td>100000000000000</td>\n      <td>13-2동입구</td>\n      <td>중복</td>\n      <td>정기권</td>\n      <td>출차</td>\n      <td>소형</td>\n      <td>13동</td>\n      <td>출차</td>\n      <td>2022-09-28 17:26:49</td>\n      <td>17</td>\n    </tr>\n    <tr>\n      <th>77343</th>\n      <td>18128</td>\n      <td>2022-09-28</td>\n      <td>17:54:17</td>\n      <td>충북86자3167</td>\n      <td>11113220928172640</td>\n      <td>100000000051701</td>\n      <td>13-2동출구#1</td>\n      <td>정기권출차</td>\n      <td>정기권</td>\n      <td>출차</td>\n      <td>소형</td>\n      <td>13동</td>\n      <td>출차</td>\n      <td>2022-09-28 17:54:17</td>\n      <td>17</td>\n    </tr>\n  </tbody>\n</table>\n<p>77344 rows × 15 columns</p>\n</div>"
     },
     "execution_count": 16,
     "metadata": {},
     "output_type": "execute_result"
    }
   ],
   "source": [
    "df"
   ],
   "metadata": {
    "collapsed": false
   }
  },
  {
   "cell_type": "markdown",
   "source": [
    "# 입차시간 == 출차시간인 경우 파악하기\n",
    "- 입차시간 == 출차시간인 경우 입차로간주하고 출차 제거하기"
   ],
   "metadata": {
    "collapsed": false
   }
  },
  {
   "cell_type": "code",
   "execution_count": 17,
   "outputs": [
    {
     "data": {
      "text/plain": "array([['2022-09-05', ' 09:07:56', '01거5868'],\n       ['2022-09-05', ' 09:32:50 ', '01거5868'],\n       ['2022-09-05', ' 17:00:27', '01거5868'],\n       ...,\n       ['2022-09-28', ' 17:26:49', '충북86자3167'],\n       ['2022-09-28', ' 17:26:49', '충북86자3167'],\n       ['2022-09-28', ' 17:54:17 ', '충북86자3167']], dtype=object)"
     },
     "execution_count": 17,
     "metadata": {},
     "output_type": "execute_result"
    }
   ],
   "source": [
    "car_arr = np.array(df[['일자','시각','차량번호']])\n",
    "car_arr"
   ],
   "metadata": {
    "collapsed": false
   }
  },
  {
   "cell_type": "code",
   "execution_count": 18,
   "outputs": [
    {
     "data": {
      "text/plain": "               일자          시각       차량번호            주차일련번호         입출차카드번호  \\\n0      2022-09-05    09:07:56    01거5868 11111220905090756 100000000037794   \n1      2022-09-05   09:32:50     01거5868 11111220905090750 100000000037794   \n2      2022-09-05    17:00:27    01거5868 11111220905170028 100000000037794   \n3      2022-09-05   17:27:22     01거5868 11111220905170020 100000000037794   \n4      2022-09-06    09:02:53    01거5868 11111220906090252 100000000037794   \n...           ...         ...        ...               ...             ...   \n61486  2022-10-05    15:08:15  충북80배1724 11112221005150816 100000000039079   \n61487  2022-10-05   15:29:16   충북80배1724 11112221005150810 100000000039079   \n61488  2022-09-10    16:07:19  충북86자3167 11112220910160720 100000000051701   \n61489  2022-09-28    17:26:49  충북86자3167 11113220928172648 100000000051701   \n61490  2022-09-28   17:54:17   충북86자3167 11113220928172640 100000000051701   \n\n             장비명  입출차구분 입출차고객구분  출차여부 차량종류  주차장 입출차여부               입출차시각   시  \n0          12동입구     정상     정기권    출차   소형  12동    입차 2022-09-05 09:07:56   9  \n1        12동출구#1  정기권출차     정기권    출차   소형  12동    출차 2022-09-05 09:32:50   9  \n2          12동입구     정상     정기권    출차   소형  12동    입차 2022-09-05 17:00:27  17  \n3        12동출구#1  정기권출차     정기권    출차   소형  12동    출차 2022-09-05 17:27:22  17  \n4          12동입구     정상     정기권    출차   소형  12동    입차 2022-09-06 09:02:53   9  \n...          ...    ...     ...   ...  ...  ...   ...                 ...  ..  \n61486    13-1동입구     정상     정기권    출차   소형  13동    입차 2022-10-05 15:08:15  15  \n61487  13-1동출구#1  정기권출차     정기권    출차   소형  13동    출차 2022-10-05 15:29:16  15  \n61488    13-1동입구     정상     정기권  강제출차   소형  13동    입차 2022-09-10 16:07:19  16  \n61489    13-2동입구     중복     정기권    출차   소형  13동    입차 2022-09-28 17:26:49  17  \n61490  13-2동출구#1  정기권출차     정기권    출차   소형  13동    출차 2022-09-28 17:54:17  17  \n\n[61491 rows x 14 columns]",
      "text/html": "<div>\n<style scoped>\n    .dataframe tbody tr th:only-of-type {\n        vertical-align: middle;\n    }\n\n    .dataframe tbody tr th {\n        vertical-align: top;\n    }\n\n    .dataframe thead th {\n        text-align: right;\n    }\n</style>\n<table border=\"1\" class=\"dataframe\">\n  <thead>\n    <tr style=\"text-align: right;\">\n      <th></th>\n      <th>일자</th>\n      <th>시각</th>\n      <th>차량번호</th>\n      <th>주차일련번호</th>\n      <th>입출차카드번호</th>\n      <th>장비명</th>\n      <th>입출차구분</th>\n      <th>입출차고객구분</th>\n      <th>출차여부</th>\n      <th>차량종류</th>\n      <th>주차장</th>\n      <th>입출차여부</th>\n      <th>입출차시각</th>\n      <th>시</th>\n    </tr>\n  </thead>\n  <tbody>\n    <tr>\n      <th>0</th>\n      <td>2022-09-05</td>\n      <td>09:07:56</td>\n      <td>01거5868</td>\n      <td>11111220905090756</td>\n      <td>100000000037794</td>\n      <td>12동입구</td>\n      <td>정상</td>\n      <td>정기권</td>\n      <td>출차</td>\n      <td>소형</td>\n      <td>12동</td>\n      <td>입차</td>\n      <td>2022-09-05 09:07:56</td>\n      <td>9</td>\n    </tr>\n    <tr>\n      <th>1</th>\n      <td>2022-09-05</td>\n      <td>09:32:50</td>\n      <td>01거5868</td>\n      <td>11111220905090750</td>\n      <td>100000000037794</td>\n      <td>12동출구#1</td>\n      <td>정기권출차</td>\n      <td>정기권</td>\n      <td>출차</td>\n      <td>소형</td>\n      <td>12동</td>\n      <td>출차</td>\n      <td>2022-09-05 09:32:50</td>\n      <td>9</td>\n    </tr>\n    <tr>\n      <th>2</th>\n      <td>2022-09-05</td>\n      <td>17:00:27</td>\n      <td>01거5868</td>\n      <td>11111220905170028</td>\n      <td>100000000037794</td>\n      <td>12동입구</td>\n      <td>정상</td>\n      <td>정기권</td>\n      <td>출차</td>\n      <td>소형</td>\n      <td>12동</td>\n      <td>입차</td>\n      <td>2022-09-05 17:00:27</td>\n      <td>17</td>\n    </tr>\n    <tr>\n      <th>3</th>\n      <td>2022-09-05</td>\n      <td>17:27:22</td>\n      <td>01거5868</td>\n      <td>11111220905170020</td>\n      <td>100000000037794</td>\n      <td>12동출구#1</td>\n      <td>정기권출차</td>\n      <td>정기권</td>\n      <td>출차</td>\n      <td>소형</td>\n      <td>12동</td>\n      <td>출차</td>\n      <td>2022-09-05 17:27:22</td>\n      <td>17</td>\n    </tr>\n    <tr>\n      <th>4</th>\n      <td>2022-09-06</td>\n      <td>09:02:53</td>\n      <td>01거5868</td>\n      <td>11111220906090252</td>\n      <td>100000000037794</td>\n      <td>12동입구</td>\n      <td>정상</td>\n      <td>정기권</td>\n      <td>출차</td>\n      <td>소형</td>\n      <td>12동</td>\n      <td>입차</td>\n      <td>2022-09-06 09:02:53</td>\n      <td>9</td>\n    </tr>\n    <tr>\n      <th>...</th>\n      <td>...</td>\n      <td>...</td>\n      <td>...</td>\n      <td>...</td>\n      <td>...</td>\n      <td>...</td>\n      <td>...</td>\n      <td>...</td>\n      <td>...</td>\n      <td>...</td>\n      <td>...</td>\n      <td>...</td>\n      <td>...</td>\n      <td>...</td>\n    </tr>\n    <tr>\n      <th>61486</th>\n      <td>2022-10-05</td>\n      <td>15:08:15</td>\n      <td>충북80배1724</td>\n      <td>11112221005150816</td>\n      <td>100000000039079</td>\n      <td>13-1동입구</td>\n      <td>정상</td>\n      <td>정기권</td>\n      <td>출차</td>\n      <td>소형</td>\n      <td>13동</td>\n      <td>입차</td>\n      <td>2022-10-05 15:08:15</td>\n      <td>15</td>\n    </tr>\n    <tr>\n      <th>61487</th>\n      <td>2022-10-05</td>\n      <td>15:29:16</td>\n      <td>충북80배1724</td>\n      <td>11112221005150810</td>\n      <td>100000000039079</td>\n      <td>13-1동출구#1</td>\n      <td>정기권출차</td>\n      <td>정기권</td>\n      <td>출차</td>\n      <td>소형</td>\n      <td>13동</td>\n      <td>출차</td>\n      <td>2022-10-05 15:29:16</td>\n      <td>15</td>\n    </tr>\n    <tr>\n      <th>61488</th>\n      <td>2022-09-10</td>\n      <td>16:07:19</td>\n      <td>충북86자3167</td>\n      <td>11112220910160720</td>\n      <td>100000000051701</td>\n      <td>13-1동입구</td>\n      <td>정상</td>\n      <td>정기권</td>\n      <td>강제출차</td>\n      <td>소형</td>\n      <td>13동</td>\n      <td>입차</td>\n      <td>2022-09-10 16:07:19</td>\n      <td>16</td>\n    </tr>\n    <tr>\n      <th>61489</th>\n      <td>2022-09-28</td>\n      <td>17:26:49</td>\n      <td>충북86자3167</td>\n      <td>11113220928172648</td>\n      <td>100000000051701</td>\n      <td>13-2동입구</td>\n      <td>중복</td>\n      <td>정기권</td>\n      <td>출차</td>\n      <td>소형</td>\n      <td>13동</td>\n      <td>입차</td>\n      <td>2022-09-28 17:26:49</td>\n      <td>17</td>\n    </tr>\n    <tr>\n      <th>61490</th>\n      <td>2022-09-28</td>\n      <td>17:54:17</td>\n      <td>충북86자3167</td>\n      <td>11113220928172640</td>\n      <td>100000000051701</td>\n      <td>13-2동출구#1</td>\n      <td>정기권출차</td>\n      <td>정기권</td>\n      <td>출차</td>\n      <td>소형</td>\n      <td>13동</td>\n      <td>출차</td>\n      <td>2022-09-28 17:54:17</td>\n      <td>17</td>\n    </tr>\n  </tbody>\n</table>\n<p>61491 rows × 14 columns</p>\n</div>"
     },
     "execution_count": 18,
     "metadata": {},
     "output_type": "execute_result"
    }
   ],
   "source": [
    "test_idx_list =[]\n",
    "for idx in range(len(car_arr)-1):\n",
    "    if car_arr[idx][0] == car_arr[idx+1][0] and car_arr[idx][1] == car_arr[idx+1][1] and car_arr[idx][2] == car_arr[idx+1][2]:\n",
    "        test_idx_list.append(idx)\n",
    "        test_idx_list.append(idx+1)\n",
    "        #test_idx_list.append(idx+2)\n",
    "test_idx_list = list(set(test_idx_list))\n",
    "test_df = df.loc[test_idx_list]\n",
    "eleminate_index = test_df[test_df['입출차여부']=='출차'].index\n",
    "df2 = df.drop(eleminate_index)\n",
    "df2.drop(['index'],axis = 1 , inplace = True)\n",
    "df2.reset_index(inplace=True)\n",
    "df2.drop(['index'],axis = 1 , inplace = True)\n",
    "df2"
   ],
   "metadata": {
    "collapsed": false
   }
  },
  {
   "cell_type": "markdown",
   "source": [
    "# 데이터 전처리\n",
    "- 아침시간이니 입차시간 == 출차시간인 경우 입차로 가정\n",
    "- 차량 번호별로 입차1,입차2,.....출차1,출차2 인경우  >>  입차1, 출차\n",
    "- 입차1, 입차2, ......"
   ],
   "metadata": {
    "collapsed": false
   }
  },
  {
   "cell_type": "code",
   "execution_count": 19,
   "outputs": [],
   "source": [
    "car_arr = np.array(df2[['차량번호','입출차여부','시각']])\n",
    "idx_list = []\n",
    "for idx in range(len(car_arr)):\n",
    "    if idx == 0 :\n",
    "        idx_list.append(idx)\n",
    "    else :  # 차량 번호가 같고 상태가 다른 경우(입차 > 출차 or 출차 > 입차)\n",
    "        if (car_arr[idx][0] == car_arr[idx-1][0]) and (car_arr[idx][1]!=car_arr[idx-1][1]):\n",
    "            idx_list.append(idx)\n",
    "\n",
    "            #차량번호가 바뀌는 경우\n",
    "        elif car_arr[idx][0] != car_arr[idx-1][0]:\n",
    "            idx_list.append(idx)\n",
    "\n"
   ],
   "metadata": {
    "collapsed": false
   }
  },
  {
   "cell_type": "code",
   "execution_count": 20,
   "outputs": [
    {
     "data": {
      "text/plain": "               일자          시각     차량번호            주차일련번호         입출차카드번호  \\\n58299  2022-09-01    07:17:42  85부3062 11111220901071742 100000000024581   \n58300  2022-09-01   07:27:23   85부3062 12112220831154730 100000000024581   \n58301  2022-09-01    07:28:59  85부3062 11114220901072860 100000000024581   \n58302  2022-09-01   07:35:58   85부3062 11111220901071740 100000000024581   \n58303  2022-09-01    07:38:43  85부3062 11112220901073844 100000000024581   \n...           ...         ...      ...               ...             ...   \n58679  2022-10-05   08:10:00   85부3062 11112221005073210 100000000024581   \n58680  2022-10-05    08:12:25  85부3062 11112221005081224 100000000024581   \n58681  2022-10-05   08:18:22   85부3062 14111221005075710 100000000024581   \n58683  2022-10-05    15:33:40  85부3062 11112221005153340 100000000024581   \n58684  2022-10-05   15:38:52   85부3062 11112221005081220 100000000024581   \n\n             장비명  입출차구분 입출차고객구분  출차여부 차량종류  주차장 입출차여부               입출차시각   시  \n58299      12동입구     정상     정기권    출차   소형  12동    입차 2022-09-01 07:17:42   7  \n58300  13-1동출구#1  정기권출차     정기권    출차   소형  13동    출차 2022-09-01 07:27:23   7  \n58301    13-3동입구     정상     정기권    출차   소형  13동    입차 2022-09-01 07:28:59   7  \n58302    12동출구#1  정기권출차     정기권    출차   소형  12동    출차 2022-09-01 07:35:58   7  \n58303    13-1동입구     정상     정기권  강제출차   소형  13동    입차 2022-09-01 07:38:43   7  \n...          ...    ...     ...   ...  ...  ...   ...                 ...  ..  \n58679  13-1동출구#1  정기권출차     정기권    출차   소형  13동    출차 2022-10-05 08:10:00   8  \n58680    13-1동입구     정상     정기권    출차   소형  13동    입차 2022-10-05 08:12:25   8  \n58681  14-2동출구#1  정기권출차     정기권    출차   소형  14동    출차 2022-10-05 08:18:22   8  \n58683    13-1동입구     정상     정기권    출차   소형  13동    입차 2022-10-05 15:33:40  15  \n58684  13-1동출구#1  정기권출차     정기권    출차   소형  13동    출차 2022-10-05 15:38:52  15  \n\n[212 rows x 14 columns]",
      "text/html": "<div>\n<style scoped>\n    .dataframe tbody tr th:only-of-type {\n        vertical-align: middle;\n    }\n\n    .dataframe tbody tr th {\n        vertical-align: top;\n    }\n\n    .dataframe thead th {\n        text-align: right;\n    }\n</style>\n<table border=\"1\" class=\"dataframe\">\n  <thead>\n    <tr style=\"text-align: right;\">\n      <th></th>\n      <th>일자</th>\n      <th>시각</th>\n      <th>차량번호</th>\n      <th>주차일련번호</th>\n      <th>입출차카드번호</th>\n      <th>장비명</th>\n      <th>입출차구분</th>\n      <th>입출차고객구분</th>\n      <th>출차여부</th>\n      <th>차량종류</th>\n      <th>주차장</th>\n      <th>입출차여부</th>\n      <th>입출차시각</th>\n      <th>시</th>\n    </tr>\n  </thead>\n  <tbody>\n    <tr>\n      <th>58299</th>\n      <td>2022-09-01</td>\n      <td>07:17:42</td>\n      <td>85부3062</td>\n      <td>11111220901071742</td>\n      <td>100000000024581</td>\n      <td>12동입구</td>\n      <td>정상</td>\n      <td>정기권</td>\n      <td>출차</td>\n      <td>소형</td>\n      <td>12동</td>\n      <td>입차</td>\n      <td>2022-09-01 07:17:42</td>\n      <td>7</td>\n    </tr>\n    <tr>\n      <th>58300</th>\n      <td>2022-09-01</td>\n      <td>07:27:23</td>\n      <td>85부3062</td>\n      <td>12112220831154730</td>\n      <td>100000000024581</td>\n      <td>13-1동출구#1</td>\n      <td>정기권출차</td>\n      <td>정기권</td>\n      <td>출차</td>\n      <td>소형</td>\n      <td>13동</td>\n      <td>출차</td>\n      <td>2022-09-01 07:27:23</td>\n      <td>7</td>\n    </tr>\n    <tr>\n      <th>58301</th>\n      <td>2022-09-01</td>\n      <td>07:28:59</td>\n      <td>85부3062</td>\n      <td>11114220901072860</td>\n      <td>100000000024581</td>\n      <td>13-3동입구</td>\n      <td>정상</td>\n      <td>정기권</td>\n      <td>출차</td>\n      <td>소형</td>\n      <td>13동</td>\n      <td>입차</td>\n      <td>2022-09-01 07:28:59</td>\n      <td>7</td>\n    </tr>\n    <tr>\n      <th>58302</th>\n      <td>2022-09-01</td>\n      <td>07:35:58</td>\n      <td>85부3062</td>\n      <td>11111220901071740</td>\n      <td>100000000024581</td>\n      <td>12동출구#1</td>\n      <td>정기권출차</td>\n      <td>정기권</td>\n      <td>출차</td>\n      <td>소형</td>\n      <td>12동</td>\n      <td>출차</td>\n      <td>2022-09-01 07:35:58</td>\n      <td>7</td>\n    </tr>\n    <tr>\n      <th>58303</th>\n      <td>2022-09-01</td>\n      <td>07:38:43</td>\n      <td>85부3062</td>\n      <td>11112220901073844</td>\n      <td>100000000024581</td>\n      <td>13-1동입구</td>\n      <td>정상</td>\n      <td>정기권</td>\n      <td>강제출차</td>\n      <td>소형</td>\n      <td>13동</td>\n      <td>입차</td>\n      <td>2022-09-01 07:38:43</td>\n      <td>7</td>\n    </tr>\n    <tr>\n      <th>...</th>\n      <td>...</td>\n      <td>...</td>\n      <td>...</td>\n      <td>...</td>\n      <td>...</td>\n      <td>...</td>\n      <td>...</td>\n      <td>...</td>\n      <td>...</td>\n      <td>...</td>\n      <td>...</td>\n      <td>...</td>\n      <td>...</td>\n      <td>...</td>\n    </tr>\n    <tr>\n      <th>58679</th>\n      <td>2022-10-05</td>\n      <td>08:10:00</td>\n      <td>85부3062</td>\n      <td>11112221005073210</td>\n      <td>100000000024581</td>\n      <td>13-1동출구#1</td>\n      <td>정기권출차</td>\n      <td>정기권</td>\n      <td>출차</td>\n      <td>소형</td>\n      <td>13동</td>\n      <td>출차</td>\n      <td>2022-10-05 08:10:00</td>\n      <td>8</td>\n    </tr>\n    <tr>\n      <th>58680</th>\n      <td>2022-10-05</td>\n      <td>08:12:25</td>\n      <td>85부3062</td>\n      <td>11112221005081224</td>\n      <td>100000000024581</td>\n      <td>13-1동입구</td>\n      <td>정상</td>\n      <td>정기권</td>\n      <td>출차</td>\n      <td>소형</td>\n      <td>13동</td>\n      <td>입차</td>\n      <td>2022-10-05 08:12:25</td>\n      <td>8</td>\n    </tr>\n    <tr>\n      <th>58681</th>\n      <td>2022-10-05</td>\n      <td>08:18:22</td>\n      <td>85부3062</td>\n      <td>14111221005075710</td>\n      <td>100000000024581</td>\n      <td>14-2동출구#1</td>\n      <td>정기권출차</td>\n      <td>정기권</td>\n      <td>출차</td>\n      <td>소형</td>\n      <td>14동</td>\n      <td>출차</td>\n      <td>2022-10-05 08:18:22</td>\n      <td>8</td>\n    </tr>\n    <tr>\n      <th>58683</th>\n      <td>2022-10-05</td>\n      <td>15:33:40</td>\n      <td>85부3062</td>\n      <td>11112221005153340</td>\n      <td>100000000024581</td>\n      <td>13-1동입구</td>\n      <td>정상</td>\n      <td>정기권</td>\n      <td>출차</td>\n      <td>소형</td>\n      <td>13동</td>\n      <td>입차</td>\n      <td>2022-10-05 15:33:40</td>\n      <td>15</td>\n    </tr>\n    <tr>\n      <th>58684</th>\n      <td>2022-10-05</td>\n      <td>15:38:52</td>\n      <td>85부3062</td>\n      <td>11112221005081220</td>\n      <td>100000000024581</td>\n      <td>13-1동출구#1</td>\n      <td>정기권출차</td>\n      <td>정기권</td>\n      <td>출차</td>\n      <td>소형</td>\n      <td>13동</td>\n      <td>출차</td>\n      <td>2022-10-05 15:38:52</td>\n      <td>15</td>\n    </tr>\n  </tbody>\n</table>\n<p>212 rows × 14 columns</p>\n</div>"
     },
     "execution_count": 20,
     "metadata": {},
     "output_type": "execute_result"
    }
   ],
   "source": [
    "process_df = df2.loc[idx_list]\n",
    "process_df[process_df['차량번호'] == '85부3062']"
   ],
   "metadata": {
    "collapsed": false
   }
  },
  {
   "cell_type": "code",
   "execution_count": 21,
   "outputs": [
    {
     "data": {
      "text/plain": "               일자          시각       차량번호            주차일련번호         입출차카드번호  \\\n0      2022-09-05    09:07:56    01거5868 11111220905090756 100000000037794   \n1      2022-09-05   09:32:50     01거5868 11111220905090750 100000000037794   \n4      2022-09-06    09:02:53    01거5868 11111220906090252 100000000037794   \n5      2022-09-06   09:27:11     01거5868 11111220906090250 100000000037794   \n6      2022-10-04    09:02:20    01거5868 11111221004090220 100000000037794   \n...           ...         ...        ...               ...             ...   \n61401  2022-09-19   09:29:29   충북80배1724 11111220919091030 100000000039079   \n61402  2022-09-19    09:33:42  충북80배1724 11112220919093342 100000000039079   \n61403  2022-09-19   09:54:15   충북80배1724 11112220919093340 100000000039079   \n61404  2022-09-20    09:11:59  충북80배1724 11112220920091160 100000000039079   \n61405  2022-09-20   09:33:19   충북80배1724 11112220920091150 100000000039079   \n\n             장비명  입출차구분 입출차고객구분 출차여부 차량종류  주차장 입출차여부               입출차시각  시  \\\n0          12동입구     정상     정기권   출차   소형  12동    입차 2022-09-05 09:07:56  9   \n1        12동출구#1  정기권출차     정기권   출차   소형  12동    출차 2022-09-05 09:32:50  9   \n4          12동입구     정상     정기권   출차   소형  12동    입차 2022-09-06 09:02:53  9   \n5        12동출구#1  정기권출차     정기권   출차   소형  12동    출차 2022-09-06 09:27:11  9   \n6          12동입구     정상     정기권   출차   소형  12동    입차 2022-10-04 09:02:20  9   \n...          ...    ...     ...  ...  ...  ...   ...                 ... ..   \n61401    12동출구#1  정기권출차     정기권   출차   소형  12동    출차 2022-09-19 09:29:29  9   \n61402    13-1동입구     정상     정기권   출차   소형  13동    입차 2022-09-19 09:33:42  9   \n61403  13-1동출구#1  정기권출차     정기권   출차   소형  13동    출차 2022-09-19 09:54:15  9   \n61404    13-1동입구     정상     정기권   출차   소형  13동    입차 2022-09-20 09:11:59  9   \n61405  13-1동출구#1  정기권출차     정기권   출차   소형  13동    출차 2022-09-20 09:33:19  9   \n\n          연   월   일   분   초  \n0      2022   9   5   7  56  \n1      2022   9   5  32  50  \n4      2022   9   6   2  53  \n5      2022   9   6  27  11  \n6      2022  10   4   2  20  \n...     ...  ..  ..  ..  ..  \n61401  2022   9  19  29  29  \n61402  2022   9  19  33  42  \n61403  2022   9  19  54  15  \n61404  2022   9  20  11  59  \n61405  2022   9  20  33  19  \n\n[15729 rows x 19 columns]",
      "text/html": "<div>\n<style scoped>\n    .dataframe tbody tr th:only-of-type {\n        vertical-align: middle;\n    }\n\n    .dataframe tbody tr th {\n        vertical-align: top;\n    }\n\n    .dataframe thead th {\n        text-align: right;\n    }\n</style>\n<table border=\"1\" class=\"dataframe\">\n  <thead>\n    <tr style=\"text-align: right;\">\n      <th></th>\n      <th>일자</th>\n      <th>시각</th>\n      <th>차량번호</th>\n      <th>주차일련번호</th>\n      <th>입출차카드번호</th>\n      <th>장비명</th>\n      <th>입출차구분</th>\n      <th>입출차고객구분</th>\n      <th>출차여부</th>\n      <th>차량종류</th>\n      <th>주차장</th>\n      <th>입출차여부</th>\n      <th>입출차시각</th>\n      <th>시</th>\n      <th>연</th>\n      <th>월</th>\n      <th>일</th>\n      <th>분</th>\n      <th>초</th>\n    </tr>\n  </thead>\n  <tbody>\n    <tr>\n      <th>0</th>\n      <td>2022-09-05</td>\n      <td>09:07:56</td>\n      <td>01거5868</td>\n      <td>11111220905090756</td>\n      <td>100000000037794</td>\n      <td>12동입구</td>\n      <td>정상</td>\n      <td>정기권</td>\n      <td>출차</td>\n      <td>소형</td>\n      <td>12동</td>\n      <td>입차</td>\n      <td>2022-09-05 09:07:56</td>\n      <td>9</td>\n      <td>2022</td>\n      <td>9</td>\n      <td>5</td>\n      <td>7</td>\n      <td>56</td>\n    </tr>\n    <tr>\n      <th>1</th>\n      <td>2022-09-05</td>\n      <td>09:32:50</td>\n      <td>01거5868</td>\n      <td>11111220905090750</td>\n      <td>100000000037794</td>\n      <td>12동출구#1</td>\n      <td>정기권출차</td>\n      <td>정기권</td>\n      <td>출차</td>\n      <td>소형</td>\n      <td>12동</td>\n      <td>출차</td>\n      <td>2022-09-05 09:32:50</td>\n      <td>9</td>\n      <td>2022</td>\n      <td>9</td>\n      <td>5</td>\n      <td>32</td>\n      <td>50</td>\n    </tr>\n    <tr>\n      <th>4</th>\n      <td>2022-09-06</td>\n      <td>09:02:53</td>\n      <td>01거5868</td>\n      <td>11111220906090252</td>\n      <td>100000000037794</td>\n      <td>12동입구</td>\n      <td>정상</td>\n      <td>정기권</td>\n      <td>출차</td>\n      <td>소형</td>\n      <td>12동</td>\n      <td>입차</td>\n      <td>2022-09-06 09:02:53</td>\n      <td>9</td>\n      <td>2022</td>\n      <td>9</td>\n      <td>6</td>\n      <td>2</td>\n      <td>53</td>\n    </tr>\n    <tr>\n      <th>5</th>\n      <td>2022-09-06</td>\n      <td>09:27:11</td>\n      <td>01거5868</td>\n      <td>11111220906090250</td>\n      <td>100000000037794</td>\n      <td>12동출구#1</td>\n      <td>정기권출차</td>\n      <td>정기권</td>\n      <td>출차</td>\n      <td>소형</td>\n      <td>12동</td>\n      <td>출차</td>\n      <td>2022-09-06 09:27:11</td>\n      <td>9</td>\n      <td>2022</td>\n      <td>9</td>\n      <td>6</td>\n      <td>27</td>\n      <td>11</td>\n    </tr>\n    <tr>\n      <th>6</th>\n      <td>2022-10-04</td>\n      <td>09:02:20</td>\n      <td>01거5868</td>\n      <td>11111221004090220</td>\n      <td>100000000037794</td>\n      <td>12동입구</td>\n      <td>정상</td>\n      <td>정기권</td>\n      <td>출차</td>\n      <td>소형</td>\n      <td>12동</td>\n      <td>입차</td>\n      <td>2022-10-04 09:02:20</td>\n      <td>9</td>\n      <td>2022</td>\n      <td>10</td>\n      <td>4</td>\n      <td>2</td>\n      <td>20</td>\n    </tr>\n    <tr>\n      <th>...</th>\n      <td>...</td>\n      <td>...</td>\n      <td>...</td>\n      <td>...</td>\n      <td>...</td>\n      <td>...</td>\n      <td>...</td>\n      <td>...</td>\n      <td>...</td>\n      <td>...</td>\n      <td>...</td>\n      <td>...</td>\n      <td>...</td>\n      <td>...</td>\n      <td>...</td>\n      <td>...</td>\n      <td>...</td>\n      <td>...</td>\n      <td>...</td>\n    </tr>\n    <tr>\n      <th>61401</th>\n      <td>2022-09-19</td>\n      <td>09:29:29</td>\n      <td>충북80배1724</td>\n      <td>11111220919091030</td>\n      <td>100000000039079</td>\n      <td>12동출구#1</td>\n      <td>정기권출차</td>\n      <td>정기권</td>\n      <td>출차</td>\n      <td>소형</td>\n      <td>12동</td>\n      <td>출차</td>\n      <td>2022-09-19 09:29:29</td>\n      <td>9</td>\n      <td>2022</td>\n      <td>9</td>\n      <td>19</td>\n      <td>29</td>\n      <td>29</td>\n    </tr>\n    <tr>\n      <th>61402</th>\n      <td>2022-09-19</td>\n      <td>09:33:42</td>\n      <td>충북80배1724</td>\n      <td>11112220919093342</td>\n      <td>100000000039079</td>\n      <td>13-1동입구</td>\n      <td>정상</td>\n      <td>정기권</td>\n      <td>출차</td>\n      <td>소형</td>\n      <td>13동</td>\n      <td>입차</td>\n      <td>2022-09-19 09:33:42</td>\n      <td>9</td>\n      <td>2022</td>\n      <td>9</td>\n      <td>19</td>\n      <td>33</td>\n      <td>42</td>\n    </tr>\n    <tr>\n      <th>61403</th>\n      <td>2022-09-19</td>\n      <td>09:54:15</td>\n      <td>충북80배1724</td>\n      <td>11112220919093340</td>\n      <td>100000000039079</td>\n      <td>13-1동출구#1</td>\n      <td>정기권출차</td>\n      <td>정기권</td>\n      <td>출차</td>\n      <td>소형</td>\n      <td>13동</td>\n      <td>출차</td>\n      <td>2022-09-19 09:54:15</td>\n      <td>9</td>\n      <td>2022</td>\n      <td>9</td>\n      <td>19</td>\n      <td>54</td>\n      <td>15</td>\n    </tr>\n    <tr>\n      <th>61404</th>\n      <td>2022-09-20</td>\n      <td>09:11:59</td>\n      <td>충북80배1724</td>\n      <td>11112220920091160</td>\n      <td>100000000039079</td>\n      <td>13-1동입구</td>\n      <td>정상</td>\n      <td>정기권</td>\n      <td>출차</td>\n      <td>소형</td>\n      <td>13동</td>\n      <td>입차</td>\n      <td>2022-09-20 09:11:59</td>\n      <td>9</td>\n      <td>2022</td>\n      <td>9</td>\n      <td>20</td>\n      <td>11</td>\n      <td>59</td>\n    </tr>\n    <tr>\n      <th>61405</th>\n      <td>2022-09-20</td>\n      <td>09:33:19</td>\n      <td>충북80배1724</td>\n      <td>11112220920091150</td>\n      <td>100000000039079</td>\n      <td>13-1동출구#1</td>\n      <td>정기권출차</td>\n      <td>정기권</td>\n      <td>출차</td>\n      <td>소형</td>\n      <td>13동</td>\n      <td>출차</td>\n      <td>2022-09-20 09:33:19</td>\n      <td>9</td>\n      <td>2022</td>\n      <td>9</td>\n      <td>20</td>\n      <td>33</td>\n      <td>19</td>\n    </tr>\n  </tbody>\n</table>\n<p>15729 rows × 19 columns</p>\n</div>"
     },
     "execution_count": 21,
     "metadata": {},
     "output_type": "execute_result"
    }
   ],
   "source": [
    "process_df = df2.loc[idx_list]\n",
    "process_df['입출차여부'].value_counts()\n",
    "\n",
    "process_df['연'] = process_df['입출차시각'].dt.year\n",
    "process_df['월'] = process_df['입출차시각'].dt.month\n",
    "process_df['일'] = process_df['입출차시각'].dt.day\n",
    "process_df['시'] = process_df['입출차시각'].dt.hour\n",
    "process_df['분'] = process_df['입출차시각'].dt.minute\n",
    "process_df['초'] = process_df['입출차시각'].dt.second\n",
    "process_df = process_df[(process_df['시']>=7) & (process_df['시']<=9)]\n",
    "process_df"
   ],
   "metadata": {
    "collapsed": false
   }
  },
  {
   "cell_type": "code",
   "execution_count": 22,
   "outputs": [
    {
     "data": {
      "text/plain": "입차    133\n출차     15\nName: 입출차여부, dtype: int64"
     },
     "execution_count": 22,
     "metadata": {},
     "output_type": "execute_result"
    }
   ],
   "source": [
    "test = process_df[process_df['일']==15]\n",
    "test[test['주차장']=='13동']['입출차여부'].value_counts()"
   ],
   "metadata": {
    "collapsed": false
   }
  },
  {
   "cell_type": "code",
   "execution_count": 24,
   "outputs": [
    {
     "data": {
      "text/plain": "        구분         장소   합계   지상   지하\n0     청사내부         1동  304  100  204\n1     청사내부         2동  177   73  104\n2     청사내부         3동   26   26    0\n3     청사내부         4동  191  138   53\n4     청사내부         5동  190   81  109\n5     청사내부         6동  616  107  509\n6     청사내부         7동  168   33  135\n7     청사내부         8동  146   42  104\n8     청사내부         9동   82   15   67\n9     청사내부        10동  123   32   91\n10    청사내부        11동  364  189  175\n11    청사내부        12동   82    2   80\n12    청사내부        13동  159   40  119\n13    청사내부        14동  176   42  134\n14    청사내부        15동  201   40  161\n15    청사내부        16동  276   45  231\n16    청사내부        17동  281   74  207\n17    청사외부       2동옥외  162  162    0\n18    청사외부       7동옥외  160  160    0\n19    청사외부       8동옥외  319  319    0\n20    청사외부       9동임시  183  183    0\n21    청사외부      10동옥외   91   91    0\n22    청사외부     10동임시1   83   83    0\n23    청사외부     10동임시2   57   57    0\n24    청사외부      11동옥외  339  339    0\n25    청사외부    13-1동옥외  306  306    0\n26    청사외부    13-2동옥외  182  182    0\n27    청사외부     14-1임시  272  272    0\n28    청사외부     14-2임시  190  190    0\n29    청사외부     15-1옥외  139  139    0\n30    청사외부     15-2옥외   70   70    0\n31    청사외부     15-3옥외  185  185    0\n32    청사외부       16동앞  310  310    0\n33    청사외부         온실   36   36    0\n34    청사외부  C26(임차부지)  104  104    0\n35    청사외부  C27(임차부지)  109  109    0\n36  복합편의시설       주차1동  411    0  411\n37  복합편의시설       주차2동  477    0  477\n38  복합편의시설       주차3동  139    0  139\n39  복합편의시설       주차4동  215    0  215\n40  복합편의시설      박연문화관  155    0  155\n41  복합편의시설   체육관(지하2)  273    0  273",
      "text/html": "<div>\n<style scoped>\n    .dataframe tbody tr th:only-of-type {\n        vertical-align: middle;\n    }\n\n    .dataframe tbody tr th {\n        vertical-align: top;\n    }\n\n    .dataframe thead th {\n        text-align: right;\n    }\n</style>\n<table border=\"1\" class=\"dataframe\">\n  <thead>\n    <tr style=\"text-align: right;\">\n      <th></th>\n      <th>구분</th>\n      <th>장소</th>\n      <th>합계</th>\n      <th>지상</th>\n      <th>지하</th>\n    </tr>\n  </thead>\n  <tbody>\n    <tr>\n      <th>0</th>\n      <td>청사내부</td>\n      <td>1동</td>\n      <td>304</td>\n      <td>100</td>\n      <td>204</td>\n    </tr>\n    <tr>\n      <th>1</th>\n      <td>청사내부</td>\n      <td>2동</td>\n      <td>177</td>\n      <td>73</td>\n      <td>104</td>\n    </tr>\n    <tr>\n      <th>2</th>\n      <td>청사내부</td>\n      <td>3동</td>\n      <td>26</td>\n      <td>26</td>\n      <td>0</td>\n    </tr>\n    <tr>\n      <th>3</th>\n      <td>청사내부</td>\n      <td>4동</td>\n      <td>191</td>\n      <td>138</td>\n      <td>53</td>\n    </tr>\n    <tr>\n      <th>4</th>\n      <td>청사내부</td>\n      <td>5동</td>\n      <td>190</td>\n      <td>81</td>\n      <td>109</td>\n    </tr>\n    <tr>\n      <th>5</th>\n      <td>청사내부</td>\n      <td>6동</td>\n      <td>616</td>\n      <td>107</td>\n      <td>509</td>\n    </tr>\n    <tr>\n      <th>6</th>\n      <td>청사내부</td>\n      <td>7동</td>\n      <td>168</td>\n      <td>33</td>\n      <td>135</td>\n    </tr>\n    <tr>\n      <th>7</th>\n      <td>청사내부</td>\n      <td>8동</td>\n      <td>146</td>\n      <td>42</td>\n      <td>104</td>\n    </tr>\n    <tr>\n      <th>8</th>\n      <td>청사내부</td>\n      <td>9동</td>\n      <td>82</td>\n      <td>15</td>\n      <td>67</td>\n    </tr>\n    <tr>\n      <th>9</th>\n      <td>청사내부</td>\n      <td>10동</td>\n      <td>123</td>\n      <td>32</td>\n      <td>91</td>\n    </tr>\n    <tr>\n      <th>10</th>\n      <td>청사내부</td>\n      <td>11동</td>\n      <td>364</td>\n      <td>189</td>\n      <td>175</td>\n    </tr>\n    <tr>\n      <th>11</th>\n      <td>청사내부</td>\n      <td>12동</td>\n      <td>82</td>\n      <td>2</td>\n      <td>80</td>\n    </tr>\n    <tr>\n      <th>12</th>\n      <td>청사내부</td>\n      <td>13동</td>\n      <td>159</td>\n      <td>40</td>\n      <td>119</td>\n    </tr>\n    <tr>\n      <th>13</th>\n      <td>청사내부</td>\n      <td>14동</td>\n      <td>176</td>\n      <td>42</td>\n      <td>134</td>\n    </tr>\n    <tr>\n      <th>14</th>\n      <td>청사내부</td>\n      <td>15동</td>\n      <td>201</td>\n      <td>40</td>\n      <td>161</td>\n    </tr>\n    <tr>\n      <th>15</th>\n      <td>청사내부</td>\n      <td>16동</td>\n      <td>276</td>\n      <td>45</td>\n      <td>231</td>\n    </tr>\n    <tr>\n      <th>16</th>\n      <td>청사내부</td>\n      <td>17동</td>\n      <td>281</td>\n      <td>74</td>\n      <td>207</td>\n    </tr>\n    <tr>\n      <th>17</th>\n      <td>청사외부</td>\n      <td>2동옥외</td>\n      <td>162</td>\n      <td>162</td>\n      <td>0</td>\n    </tr>\n    <tr>\n      <th>18</th>\n      <td>청사외부</td>\n      <td>7동옥외</td>\n      <td>160</td>\n      <td>160</td>\n      <td>0</td>\n    </tr>\n    <tr>\n      <th>19</th>\n      <td>청사외부</td>\n      <td>8동옥외</td>\n      <td>319</td>\n      <td>319</td>\n      <td>0</td>\n    </tr>\n    <tr>\n      <th>20</th>\n      <td>청사외부</td>\n      <td>9동임시</td>\n      <td>183</td>\n      <td>183</td>\n      <td>0</td>\n    </tr>\n    <tr>\n      <th>21</th>\n      <td>청사외부</td>\n      <td>10동옥외</td>\n      <td>91</td>\n      <td>91</td>\n      <td>0</td>\n    </tr>\n    <tr>\n      <th>22</th>\n      <td>청사외부</td>\n      <td>10동임시1</td>\n      <td>83</td>\n      <td>83</td>\n      <td>0</td>\n    </tr>\n    <tr>\n      <th>23</th>\n      <td>청사외부</td>\n      <td>10동임시2</td>\n      <td>57</td>\n      <td>57</td>\n      <td>0</td>\n    </tr>\n    <tr>\n      <th>24</th>\n      <td>청사외부</td>\n      <td>11동옥외</td>\n      <td>339</td>\n      <td>339</td>\n      <td>0</td>\n    </tr>\n    <tr>\n      <th>25</th>\n      <td>청사외부</td>\n      <td>13-1동옥외</td>\n      <td>306</td>\n      <td>306</td>\n      <td>0</td>\n    </tr>\n    <tr>\n      <th>26</th>\n      <td>청사외부</td>\n      <td>13-2동옥외</td>\n      <td>182</td>\n      <td>182</td>\n      <td>0</td>\n    </tr>\n    <tr>\n      <th>27</th>\n      <td>청사외부</td>\n      <td>14-1임시</td>\n      <td>272</td>\n      <td>272</td>\n      <td>0</td>\n    </tr>\n    <tr>\n      <th>28</th>\n      <td>청사외부</td>\n      <td>14-2임시</td>\n      <td>190</td>\n      <td>190</td>\n      <td>0</td>\n    </tr>\n    <tr>\n      <th>29</th>\n      <td>청사외부</td>\n      <td>15-1옥외</td>\n      <td>139</td>\n      <td>139</td>\n      <td>0</td>\n    </tr>\n    <tr>\n      <th>30</th>\n      <td>청사외부</td>\n      <td>15-2옥외</td>\n      <td>70</td>\n      <td>70</td>\n      <td>0</td>\n    </tr>\n    <tr>\n      <th>31</th>\n      <td>청사외부</td>\n      <td>15-3옥외</td>\n      <td>185</td>\n      <td>185</td>\n      <td>0</td>\n    </tr>\n    <tr>\n      <th>32</th>\n      <td>청사외부</td>\n      <td>16동앞</td>\n      <td>310</td>\n      <td>310</td>\n      <td>0</td>\n    </tr>\n    <tr>\n      <th>33</th>\n      <td>청사외부</td>\n      <td>온실</td>\n      <td>36</td>\n      <td>36</td>\n      <td>0</td>\n    </tr>\n    <tr>\n      <th>34</th>\n      <td>청사외부</td>\n      <td>C26(임차부지)</td>\n      <td>104</td>\n      <td>104</td>\n      <td>0</td>\n    </tr>\n    <tr>\n      <th>35</th>\n      <td>청사외부</td>\n      <td>C27(임차부지)</td>\n      <td>109</td>\n      <td>109</td>\n      <td>0</td>\n    </tr>\n    <tr>\n      <th>36</th>\n      <td>복합편의시설</td>\n      <td>주차1동</td>\n      <td>411</td>\n      <td>0</td>\n      <td>411</td>\n    </tr>\n    <tr>\n      <th>37</th>\n      <td>복합편의시설</td>\n      <td>주차2동</td>\n      <td>477</td>\n      <td>0</td>\n      <td>477</td>\n    </tr>\n    <tr>\n      <th>38</th>\n      <td>복합편의시설</td>\n      <td>주차3동</td>\n      <td>139</td>\n      <td>0</td>\n      <td>139</td>\n    </tr>\n    <tr>\n      <th>39</th>\n      <td>복합편의시설</td>\n      <td>주차4동</td>\n      <td>215</td>\n      <td>0</td>\n      <td>215</td>\n    </tr>\n    <tr>\n      <th>40</th>\n      <td>복합편의시설</td>\n      <td>박연문화관</td>\n      <td>155</td>\n      <td>0</td>\n      <td>155</td>\n    </tr>\n    <tr>\n      <th>41</th>\n      <td>복합편의시설</td>\n      <td>체육관(지하2)</td>\n      <td>273</td>\n      <td>0</td>\n      <td>273</td>\n    </tr>\n  </tbody>\n</table>\n</div>"
     },
     "execution_count": 24,
     "metadata": {},
     "output_type": "execute_result"
    }
   ],
   "source": [
    "parking_info = pd.read_excel(data_path + '/raw_data/주차장면수.xlsx')\n",
    "parking_info"
   ],
   "metadata": {
    "collapsed": false
   }
  },
  {
   "cell_type": "markdown",
   "source": [
    "# 데이터셋 생성"
   ],
   "metadata": {
    "collapsed": false
   }
  },
  {
   "cell_type": "code",
   "execution_count": 25,
   "outputs": [],
   "source": [
    "dataset = pd.merge(process_df,parking_info[['장소','합계']], left_on='주차장', right_on='장소')"
   ],
   "metadata": {
    "collapsed": false
   }
  },
  {
   "cell_type": "code",
   "execution_count": 26,
   "outputs": [],
   "source": [
    "dataset = dataset[['입출차시각','연','월','일','시','분','초','입출차여부','주차장','합계']]"
   ],
   "metadata": {
    "collapsed": false
   }
  },
  {
   "cell_type": "code",
   "execution_count": 27,
   "outputs": [],
   "source": [
    "dataset = dataset.sort_values(by = ['주차장','입출차시각'])\n",
    "dataset['잔류차량수'] = 0"
   ],
   "metadata": {
    "collapsed": false
   }
  },
  {
   "cell_type": "code",
   "execution_count": 28,
   "outputs": [
    {
     "data": {
      "text/plain": "                   입출차시각     연   월  일  시   분   초 입출차여부  주차장   합계  잔류차량수\n532  2022-09-01 07:07:31  2022   9  1  7   7  31    입차  12동   82      0\n4679 2022-09-01 07:17:42  2022   9  1  7  17  42    입차  12동   82      0\n4569 2022-09-01 07:18:36  2022   9  1  7  18  36    입차  12동   82      0\n2015 2022-09-01 07:35:54  2022   9  1  7  35  54    입차  12동   82      0\n4680 2022-09-01 07:35:58  2022   9  1  7  35  58    출차  12동   82      0\n...                  ...   ...  .. .. ..  ..  ..   ...  ...  ...    ...\n8780 2022-10-05 09:10:01  2022  10  5  9  10   1    입차  15동  201      0\n8340 2022-10-05 09:20:45  2022  10  5  9  20  45    입차  15동  201      0\n8392 2022-10-05 09:32:20  2022  10  5  9  32  20    출차  15동  201      0\n9411 2022-10-05 09:48:30  2022  10  5  9  48  30    출차  15동  201      0\n8995 2022-10-05 09:53:39  2022  10  5  9  53  39    입차  15동  201      0\n\n[15729 rows x 11 columns]",
      "text/html": "<div>\n<style scoped>\n    .dataframe tbody tr th:only-of-type {\n        vertical-align: middle;\n    }\n\n    .dataframe tbody tr th {\n        vertical-align: top;\n    }\n\n    .dataframe thead th {\n        text-align: right;\n    }\n</style>\n<table border=\"1\" class=\"dataframe\">\n  <thead>\n    <tr style=\"text-align: right;\">\n      <th></th>\n      <th>입출차시각</th>\n      <th>연</th>\n      <th>월</th>\n      <th>일</th>\n      <th>시</th>\n      <th>분</th>\n      <th>초</th>\n      <th>입출차여부</th>\n      <th>주차장</th>\n      <th>합계</th>\n      <th>잔류차량수</th>\n    </tr>\n  </thead>\n  <tbody>\n    <tr>\n      <th>532</th>\n      <td>2022-09-01 07:07:31</td>\n      <td>2022</td>\n      <td>9</td>\n      <td>1</td>\n      <td>7</td>\n      <td>7</td>\n      <td>31</td>\n      <td>입차</td>\n      <td>12동</td>\n      <td>82</td>\n      <td>0</td>\n    </tr>\n    <tr>\n      <th>4679</th>\n      <td>2022-09-01 07:17:42</td>\n      <td>2022</td>\n      <td>9</td>\n      <td>1</td>\n      <td>7</td>\n      <td>17</td>\n      <td>42</td>\n      <td>입차</td>\n      <td>12동</td>\n      <td>82</td>\n      <td>0</td>\n    </tr>\n    <tr>\n      <th>4569</th>\n      <td>2022-09-01 07:18:36</td>\n      <td>2022</td>\n      <td>9</td>\n      <td>1</td>\n      <td>7</td>\n      <td>18</td>\n      <td>36</td>\n      <td>입차</td>\n      <td>12동</td>\n      <td>82</td>\n      <td>0</td>\n    </tr>\n    <tr>\n      <th>2015</th>\n      <td>2022-09-01 07:35:54</td>\n      <td>2022</td>\n      <td>9</td>\n      <td>1</td>\n      <td>7</td>\n      <td>35</td>\n      <td>54</td>\n      <td>입차</td>\n      <td>12동</td>\n      <td>82</td>\n      <td>0</td>\n    </tr>\n    <tr>\n      <th>4680</th>\n      <td>2022-09-01 07:35:58</td>\n      <td>2022</td>\n      <td>9</td>\n      <td>1</td>\n      <td>7</td>\n      <td>35</td>\n      <td>58</td>\n      <td>출차</td>\n      <td>12동</td>\n      <td>82</td>\n      <td>0</td>\n    </tr>\n    <tr>\n      <th>...</th>\n      <td>...</td>\n      <td>...</td>\n      <td>...</td>\n      <td>...</td>\n      <td>...</td>\n      <td>...</td>\n      <td>...</td>\n      <td>...</td>\n      <td>...</td>\n      <td>...</td>\n      <td>...</td>\n    </tr>\n    <tr>\n      <th>8780</th>\n      <td>2022-10-05 09:10:01</td>\n      <td>2022</td>\n      <td>10</td>\n      <td>5</td>\n      <td>9</td>\n      <td>10</td>\n      <td>1</td>\n      <td>입차</td>\n      <td>15동</td>\n      <td>201</td>\n      <td>0</td>\n    </tr>\n    <tr>\n      <th>8340</th>\n      <td>2022-10-05 09:20:45</td>\n      <td>2022</td>\n      <td>10</td>\n      <td>5</td>\n      <td>9</td>\n      <td>20</td>\n      <td>45</td>\n      <td>입차</td>\n      <td>15동</td>\n      <td>201</td>\n      <td>0</td>\n    </tr>\n    <tr>\n      <th>8392</th>\n      <td>2022-10-05 09:32:20</td>\n      <td>2022</td>\n      <td>10</td>\n      <td>5</td>\n      <td>9</td>\n      <td>32</td>\n      <td>20</td>\n      <td>출차</td>\n      <td>15동</td>\n      <td>201</td>\n      <td>0</td>\n    </tr>\n    <tr>\n      <th>9411</th>\n      <td>2022-10-05 09:48:30</td>\n      <td>2022</td>\n      <td>10</td>\n      <td>5</td>\n      <td>9</td>\n      <td>48</td>\n      <td>30</td>\n      <td>출차</td>\n      <td>15동</td>\n      <td>201</td>\n      <td>0</td>\n    </tr>\n    <tr>\n      <th>8995</th>\n      <td>2022-10-05 09:53:39</td>\n      <td>2022</td>\n      <td>10</td>\n      <td>5</td>\n      <td>9</td>\n      <td>53</td>\n      <td>39</td>\n      <td>입차</td>\n      <td>15동</td>\n      <td>201</td>\n      <td>0</td>\n    </tr>\n  </tbody>\n</table>\n<p>15729 rows × 11 columns</p>\n</div>"
     },
     "execution_count": 28,
     "metadata": {},
     "output_type": "execute_result"
    }
   ],
   "source": [
    "dataset"
   ],
   "metadata": {
    "collapsed": false
   }
  },
  {
   "cell_type": "code",
   "execution_count": 29,
   "outputs": [
    {
     "data": {
      "text/plain": "array([[2022, 9, 1, ..., '입차', '12동', 0],\n       [2022, 9, 1, ..., '입차', '12동', 0],\n       [2022, 9, 1, ..., '입차', '12동', 0],\n       ...,\n       [2022, 10, 5, ..., '출차', '15동', 0],\n       [2022, 10, 5, ..., '출차', '15동', 0],\n       [2022, 10, 5, ..., '입차', '15동', 0]], dtype=object)"
     },
     "execution_count": 29,
     "metadata": {},
     "output_type": "execute_result"
    }
   ],
   "source": [
    "arr = np.array(dataset[['연','월','일','시','분','입출차여부','주차장','잔류차량수']])\n",
    "arr"
   ],
   "metadata": {
    "collapsed": false
   }
  },
  {
   "cell_type": "code",
   "execution_count": 30,
   "outputs": [],
   "source": [
    "for idx in range(len(arr)):\n",
    "    if idx == 0 :\n",
    "        if arr[idx][5] == '입차' :\n",
    "            arr[idx][7] = arr[idx][7] +1\n",
    "        else :\n",
    "            arr[idx][7] = arr[idx][7] -1\n",
    "    else :\n",
    "        pre_time = list(arr[idx-1][[0,1,2,6]])\n",
    "        now_time = list(arr[idx][[0,1,2,6]])\n",
    "        status =  arr[idx][5]\n",
    "            # 이전 데이터와 연,월,일 주차장이 같은 경우\n",
    "        if pre_time == now_time :\n",
    "            #print('>')\n",
    "            if status == '입차' :\n",
    "                arr[idx][7] = arr[idx-1][7] +1\n",
    "            else :\n",
    "                arr[idx][7] = arr[idx-1][7] -1\n",
    "\n",
    "            #이전 데이터와 연,월,일 주차장이 다른 경우 > 0부터 시작함\n",
    "        else :\n",
    "            if status == '입차':\n",
    "                arr[idx][7] =1\n",
    "            else :\n",
    "                arr[idx][7] = -1\n"
   ],
   "metadata": {
    "collapsed": false
   }
  },
  {
   "cell_type": "code",
   "execution_count": 31,
   "outputs": [
    {
     "data": {
      "text/plain": "                   입출차시각     연   월  일  시   분   초 입출차여부  주차장   합계 잔류차량수\n532  2022-09-01 07:07:31  2022   9  1  7   7  31    입차  12동   82     1\n4679 2022-09-01 07:17:42  2022   9  1  7  17  42    입차  12동   82     2\n4569 2022-09-01 07:18:36  2022   9  1  7  18  36    입차  12동   82     3\n2015 2022-09-01 07:35:54  2022   9  1  7  35  54    입차  12동   82     4\n4680 2022-09-01 07:35:58  2022   9  1  7  35  58    출차  12동   82     3\n...                  ...   ...  .. .. ..  ..  ..   ...  ...  ...   ...\n8780 2022-10-05 09:10:01  2022  10  5  9  10   1    입차  15동  201    75\n8340 2022-10-05 09:20:45  2022  10  5  9  20  45    입차  15동  201    76\n8392 2022-10-05 09:32:20  2022  10  5  9  32  20    출차  15동  201    75\n9411 2022-10-05 09:48:30  2022  10  5  9  48  30    출차  15동  201    74\n8995 2022-10-05 09:53:39  2022  10  5  9  53  39    입차  15동  201    75\n\n[15729 rows x 11 columns]",
      "text/html": "<div>\n<style scoped>\n    .dataframe tbody tr th:only-of-type {\n        vertical-align: middle;\n    }\n\n    .dataframe tbody tr th {\n        vertical-align: top;\n    }\n\n    .dataframe thead th {\n        text-align: right;\n    }\n</style>\n<table border=\"1\" class=\"dataframe\">\n  <thead>\n    <tr style=\"text-align: right;\">\n      <th></th>\n      <th>입출차시각</th>\n      <th>연</th>\n      <th>월</th>\n      <th>일</th>\n      <th>시</th>\n      <th>분</th>\n      <th>초</th>\n      <th>입출차여부</th>\n      <th>주차장</th>\n      <th>합계</th>\n      <th>잔류차량수</th>\n    </tr>\n  </thead>\n  <tbody>\n    <tr>\n      <th>532</th>\n      <td>2022-09-01 07:07:31</td>\n      <td>2022</td>\n      <td>9</td>\n      <td>1</td>\n      <td>7</td>\n      <td>7</td>\n      <td>31</td>\n      <td>입차</td>\n      <td>12동</td>\n      <td>82</td>\n      <td>1</td>\n    </tr>\n    <tr>\n      <th>4679</th>\n      <td>2022-09-01 07:17:42</td>\n      <td>2022</td>\n      <td>9</td>\n      <td>1</td>\n      <td>7</td>\n      <td>17</td>\n      <td>42</td>\n      <td>입차</td>\n      <td>12동</td>\n      <td>82</td>\n      <td>2</td>\n    </tr>\n    <tr>\n      <th>4569</th>\n      <td>2022-09-01 07:18:36</td>\n      <td>2022</td>\n      <td>9</td>\n      <td>1</td>\n      <td>7</td>\n      <td>18</td>\n      <td>36</td>\n      <td>입차</td>\n      <td>12동</td>\n      <td>82</td>\n      <td>3</td>\n    </tr>\n    <tr>\n      <th>2015</th>\n      <td>2022-09-01 07:35:54</td>\n      <td>2022</td>\n      <td>9</td>\n      <td>1</td>\n      <td>7</td>\n      <td>35</td>\n      <td>54</td>\n      <td>입차</td>\n      <td>12동</td>\n      <td>82</td>\n      <td>4</td>\n    </tr>\n    <tr>\n      <th>4680</th>\n      <td>2022-09-01 07:35:58</td>\n      <td>2022</td>\n      <td>9</td>\n      <td>1</td>\n      <td>7</td>\n      <td>35</td>\n      <td>58</td>\n      <td>출차</td>\n      <td>12동</td>\n      <td>82</td>\n      <td>3</td>\n    </tr>\n    <tr>\n      <th>...</th>\n      <td>...</td>\n      <td>...</td>\n      <td>...</td>\n      <td>...</td>\n      <td>...</td>\n      <td>...</td>\n      <td>...</td>\n      <td>...</td>\n      <td>...</td>\n      <td>...</td>\n      <td>...</td>\n    </tr>\n    <tr>\n      <th>8780</th>\n      <td>2022-10-05 09:10:01</td>\n      <td>2022</td>\n      <td>10</td>\n      <td>5</td>\n      <td>9</td>\n      <td>10</td>\n      <td>1</td>\n      <td>입차</td>\n      <td>15동</td>\n      <td>201</td>\n      <td>75</td>\n    </tr>\n    <tr>\n      <th>8340</th>\n      <td>2022-10-05 09:20:45</td>\n      <td>2022</td>\n      <td>10</td>\n      <td>5</td>\n      <td>9</td>\n      <td>20</td>\n      <td>45</td>\n      <td>입차</td>\n      <td>15동</td>\n      <td>201</td>\n      <td>76</td>\n    </tr>\n    <tr>\n      <th>8392</th>\n      <td>2022-10-05 09:32:20</td>\n      <td>2022</td>\n      <td>10</td>\n      <td>5</td>\n      <td>9</td>\n      <td>32</td>\n      <td>20</td>\n      <td>출차</td>\n      <td>15동</td>\n      <td>201</td>\n      <td>75</td>\n    </tr>\n    <tr>\n      <th>9411</th>\n      <td>2022-10-05 09:48:30</td>\n      <td>2022</td>\n      <td>10</td>\n      <td>5</td>\n      <td>9</td>\n      <td>48</td>\n      <td>30</td>\n      <td>출차</td>\n      <td>15동</td>\n      <td>201</td>\n      <td>74</td>\n    </tr>\n    <tr>\n      <th>8995</th>\n      <td>2022-10-05 09:53:39</td>\n      <td>2022</td>\n      <td>10</td>\n      <td>5</td>\n      <td>9</td>\n      <td>53</td>\n      <td>39</td>\n      <td>입차</td>\n      <td>15동</td>\n      <td>201</td>\n      <td>75</td>\n    </tr>\n  </tbody>\n</table>\n<p>15729 rows × 11 columns</p>\n</div>"
     },
     "execution_count": 31,
     "metadata": {},
     "output_type": "execute_result"
    }
   ],
   "source": [
    "dataset[['연','월','일','시','분','입출차여부','주차장','잔류차량수']] = arr\n",
    "dataset"
   ],
   "metadata": {
    "collapsed": false
   }
  },
  {
   "cell_type": "markdown",
   "source": [
    "# 혼잡도 만들기"
   ],
   "metadata": {
    "collapsed": false
   }
  },
  {
   "cell_type": "code",
   "execution_count": 32,
   "outputs": [
    {
     "data": {
      "text/plain": "                   입출차시각     연   월  일  시   분   초 입출차여부  주차장   합계 잔류차량수  \\\n532  2022-09-01 07:07:31  2022   9  1  7   7  31    입차  12동   82     1   \n4679 2022-09-01 07:17:42  2022   9  1  7  17  42    입차  12동   82     2   \n4569 2022-09-01 07:18:36  2022   9  1  7  18  36    입차  12동   82     3   \n2015 2022-09-01 07:35:54  2022   9  1  7  35  54    입차  12동   82     4   \n4680 2022-09-01 07:35:58  2022   9  1  7  35  58    출차  12동   82     3   \n...                  ...   ...  .. .. ..  ..  ..   ...  ...  ...   ...   \n8780 2022-10-05 09:10:01  2022  10  5  9  10   1    입차  15동  201    75   \n8340 2022-10-05 09:20:45  2022  10  5  9  20  45    입차  15동  201    76   \n8392 2022-10-05 09:32:20  2022  10  5  9  32  20    출차  15동  201    75   \n9411 2022-10-05 09:48:30  2022  10  5  9  48  30    출차  15동  201    74   \n8995 2022-10-05 09:53:39  2022  10  5  9  53  39    입차  15동  201    75   \n\n          비율  혼잡도  \n532  0.01220    0  \n4679 0.02439    0  \n4569 0.03659    0  \n2015 0.04878    0  \n4680 0.03659    0  \n...      ...  ...  \n8780 0.37313    1  \n8340 0.37811    1  \n8392 0.37313    1  \n9411 0.36816    1  \n8995 0.37313    1  \n\n[15729 rows x 13 columns]",
      "text/html": "<div>\n<style scoped>\n    .dataframe tbody tr th:only-of-type {\n        vertical-align: middle;\n    }\n\n    .dataframe tbody tr th {\n        vertical-align: top;\n    }\n\n    .dataframe thead th {\n        text-align: right;\n    }\n</style>\n<table border=\"1\" class=\"dataframe\">\n  <thead>\n    <tr style=\"text-align: right;\">\n      <th></th>\n      <th>입출차시각</th>\n      <th>연</th>\n      <th>월</th>\n      <th>일</th>\n      <th>시</th>\n      <th>분</th>\n      <th>초</th>\n      <th>입출차여부</th>\n      <th>주차장</th>\n      <th>합계</th>\n      <th>잔류차량수</th>\n      <th>비율</th>\n      <th>혼잡도</th>\n    </tr>\n  </thead>\n  <tbody>\n    <tr>\n      <th>532</th>\n      <td>2022-09-01 07:07:31</td>\n      <td>2022</td>\n      <td>9</td>\n      <td>1</td>\n      <td>7</td>\n      <td>7</td>\n      <td>31</td>\n      <td>입차</td>\n      <td>12동</td>\n      <td>82</td>\n      <td>1</td>\n      <td>0.01220</td>\n      <td>0</td>\n    </tr>\n    <tr>\n      <th>4679</th>\n      <td>2022-09-01 07:17:42</td>\n      <td>2022</td>\n      <td>9</td>\n      <td>1</td>\n      <td>7</td>\n      <td>17</td>\n      <td>42</td>\n      <td>입차</td>\n      <td>12동</td>\n      <td>82</td>\n      <td>2</td>\n      <td>0.02439</td>\n      <td>0</td>\n    </tr>\n    <tr>\n      <th>4569</th>\n      <td>2022-09-01 07:18:36</td>\n      <td>2022</td>\n      <td>9</td>\n      <td>1</td>\n      <td>7</td>\n      <td>18</td>\n      <td>36</td>\n      <td>입차</td>\n      <td>12동</td>\n      <td>82</td>\n      <td>3</td>\n      <td>0.03659</td>\n      <td>0</td>\n    </tr>\n    <tr>\n      <th>2015</th>\n      <td>2022-09-01 07:35:54</td>\n      <td>2022</td>\n      <td>9</td>\n      <td>1</td>\n      <td>7</td>\n      <td>35</td>\n      <td>54</td>\n      <td>입차</td>\n      <td>12동</td>\n      <td>82</td>\n      <td>4</td>\n      <td>0.04878</td>\n      <td>0</td>\n    </tr>\n    <tr>\n      <th>4680</th>\n      <td>2022-09-01 07:35:58</td>\n      <td>2022</td>\n      <td>9</td>\n      <td>1</td>\n      <td>7</td>\n      <td>35</td>\n      <td>58</td>\n      <td>출차</td>\n      <td>12동</td>\n      <td>82</td>\n      <td>3</td>\n      <td>0.03659</td>\n      <td>0</td>\n    </tr>\n    <tr>\n      <th>...</th>\n      <td>...</td>\n      <td>...</td>\n      <td>...</td>\n      <td>...</td>\n      <td>...</td>\n      <td>...</td>\n      <td>...</td>\n      <td>...</td>\n      <td>...</td>\n      <td>...</td>\n      <td>...</td>\n      <td>...</td>\n      <td>...</td>\n    </tr>\n    <tr>\n      <th>8780</th>\n      <td>2022-10-05 09:10:01</td>\n      <td>2022</td>\n      <td>10</td>\n      <td>5</td>\n      <td>9</td>\n      <td>10</td>\n      <td>1</td>\n      <td>입차</td>\n      <td>15동</td>\n      <td>201</td>\n      <td>75</td>\n      <td>0.37313</td>\n      <td>1</td>\n    </tr>\n    <tr>\n      <th>8340</th>\n      <td>2022-10-05 09:20:45</td>\n      <td>2022</td>\n      <td>10</td>\n      <td>5</td>\n      <td>9</td>\n      <td>20</td>\n      <td>45</td>\n      <td>입차</td>\n      <td>15동</td>\n      <td>201</td>\n      <td>76</td>\n      <td>0.37811</td>\n      <td>1</td>\n    </tr>\n    <tr>\n      <th>8392</th>\n      <td>2022-10-05 09:32:20</td>\n      <td>2022</td>\n      <td>10</td>\n      <td>5</td>\n      <td>9</td>\n      <td>32</td>\n      <td>20</td>\n      <td>출차</td>\n      <td>15동</td>\n      <td>201</td>\n      <td>75</td>\n      <td>0.37313</td>\n      <td>1</td>\n    </tr>\n    <tr>\n      <th>9411</th>\n      <td>2022-10-05 09:48:30</td>\n      <td>2022</td>\n      <td>10</td>\n      <td>5</td>\n      <td>9</td>\n      <td>48</td>\n      <td>30</td>\n      <td>출차</td>\n      <td>15동</td>\n      <td>201</td>\n      <td>74</td>\n      <td>0.36816</td>\n      <td>1</td>\n    </tr>\n    <tr>\n      <th>8995</th>\n      <td>2022-10-05 09:53:39</td>\n      <td>2022</td>\n      <td>10</td>\n      <td>5</td>\n      <td>9</td>\n      <td>53</td>\n      <td>39</td>\n      <td>입차</td>\n      <td>15동</td>\n      <td>201</td>\n      <td>75</td>\n      <td>0.37313</td>\n      <td>1</td>\n    </tr>\n  </tbody>\n</table>\n<p>15729 rows × 13 columns</p>\n</div>"
     },
     "execution_count": 32,
     "metadata": {},
     "output_type": "execute_result"
    }
   ],
   "source": [
    "pd.options.display.float_format = '{:.5f}'.format\n",
    "dataset['비율']=dataset['잔류차량수']/dataset['합계']\n",
    "\n",
    "def confusion(df):\n",
    "    if df['비율'] <= 0.3 :\n",
    "        return 0\n",
    "    elif df['비율'] <= 0.5 :\n",
    "        return 1\n",
    "    elif df['비율'] <= 0.8 :\n",
    "        return 2\n",
    "    else :\n",
    "        return 3\n",
    "\n",
    "dataset['혼잡도']=dataset.apply(confusion,axis=1)\n",
    "dataset"
   ],
   "metadata": {
    "collapsed": false
   }
  },
  {
   "cell_type": "markdown",
   "source": [
    "# 날씨데이터 붙이기"
   ],
   "metadata": {
    "collapsed": false
   }
  },
  {
   "cell_type": "code",
   "execution_count": 34,
   "outputs": [
    {
     "data": {
      "text/plain": "                       일시   기온(°C)  강수량(mm)  풍속(m/s)    습도(%)  적설(cm)     연  \\\n0     2020-10-01 00:00:00 17.30000  0.00000  0.20000 92.00000 0.00000  2020   \n1     2020-10-01 01:00:00 16.80000  0.00000  0.50000 94.00000 0.00000  2020   \n2     2020-10-01 02:00:00 16.90000  0.00000  1.10000 93.00000 0.00000  2020   \n3     2020-10-01 03:00:00 16.80000  0.00000  0.40000 94.00000 0.00000  2020   \n4     2020-10-01 04:00:00 16.10000  0.00000  0.10000 95.00000 0.00000  2020   \n...                   ...      ...      ...      ...      ...     ...   ...   \n17539 2022-10-01 19:00:00 21.10000  0.00000  0.10000 54.00000 0.00000  2022   \n17540 2022-10-01 20:00:00 19.60000  0.00000  0.60000 63.00000 0.00000  2022   \n17541 2022-10-01 21:00:00 18.80000  0.00000  0.70000 73.00000 0.00000  2022   \n17542 2022-10-01 22:00:00 18.10000  0.00000  0.80000 75.00000 0.00000  2022   \n17543 2022-10-01 23:00:00 18.20000  0.00000  0.20000 75.00000 0.00000  2022   \n\n        월  일   시  \n0      10  1   0  \n1      10  1   1  \n2      10  1   2  \n3      10  1   3  \n4      10  1   4  \n...    .. ..  ..  \n17539  10  1  19  \n17540  10  1  20  \n17541  10  1  21  \n17542  10  1  22  \n17543  10  1  23  \n\n[17544 rows x 10 columns]",
      "text/html": "<div>\n<style scoped>\n    .dataframe tbody tr th:only-of-type {\n        vertical-align: middle;\n    }\n\n    .dataframe tbody tr th {\n        vertical-align: top;\n    }\n\n    .dataframe thead th {\n        text-align: right;\n    }\n</style>\n<table border=\"1\" class=\"dataframe\">\n  <thead>\n    <tr style=\"text-align: right;\">\n      <th></th>\n      <th>일시</th>\n      <th>기온(°C)</th>\n      <th>강수량(mm)</th>\n      <th>풍속(m/s)</th>\n      <th>습도(%)</th>\n      <th>적설(cm)</th>\n      <th>연</th>\n      <th>월</th>\n      <th>일</th>\n      <th>시</th>\n    </tr>\n  </thead>\n  <tbody>\n    <tr>\n      <th>0</th>\n      <td>2020-10-01 00:00:00</td>\n      <td>17.30000</td>\n      <td>0.00000</td>\n      <td>0.20000</td>\n      <td>92.00000</td>\n      <td>0.00000</td>\n      <td>2020</td>\n      <td>10</td>\n      <td>1</td>\n      <td>0</td>\n    </tr>\n    <tr>\n      <th>1</th>\n      <td>2020-10-01 01:00:00</td>\n      <td>16.80000</td>\n      <td>0.00000</td>\n      <td>0.50000</td>\n      <td>94.00000</td>\n      <td>0.00000</td>\n      <td>2020</td>\n      <td>10</td>\n      <td>1</td>\n      <td>1</td>\n    </tr>\n    <tr>\n      <th>2</th>\n      <td>2020-10-01 02:00:00</td>\n      <td>16.90000</td>\n      <td>0.00000</td>\n      <td>1.10000</td>\n      <td>93.00000</td>\n      <td>0.00000</td>\n      <td>2020</td>\n      <td>10</td>\n      <td>1</td>\n      <td>2</td>\n    </tr>\n    <tr>\n      <th>3</th>\n      <td>2020-10-01 03:00:00</td>\n      <td>16.80000</td>\n      <td>0.00000</td>\n      <td>0.40000</td>\n      <td>94.00000</td>\n      <td>0.00000</td>\n      <td>2020</td>\n      <td>10</td>\n      <td>1</td>\n      <td>3</td>\n    </tr>\n    <tr>\n      <th>4</th>\n      <td>2020-10-01 04:00:00</td>\n      <td>16.10000</td>\n      <td>0.00000</td>\n      <td>0.10000</td>\n      <td>95.00000</td>\n      <td>0.00000</td>\n      <td>2020</td>\n      <td>10</td>\n      <td>1</td>\n      <td>4</td>\n    </tr>\n    <tr>\n      <th>...</th>\n      <td>...</td>\n      <td>...</td>\n      <td>...</td>\n      <td>...</td>\n      <td>...</td>\n      <td>...</td>\n      <td>...</td>\n      <td>...</td>\n      <td>...</td>\n      <td>...</td>\n    </tr>\n    <tr>\n      <th>17539</th>\n      <td>2022-10-01 19:00:00</td>\n      <td>21.10000</td>\n      <td>0.00000</td>\n      <td>0.10000</td>\n      <td>54.00000</td>\n      <td>0.00000</td>\n      <td>2022</td>\n      <td>10</td>\n      <td>1</td>\n      <td>19</td>\n    </tr>\n    <tr>\n      <th>17540</th>\n      <td>2022-10-01 20:00:00</td>\n      <td>19.60000</td>\n      <td>0.00000</td>\n      <td>0.60000</td>\n      <td>63.00000</td>\n      <td>0.00000</td>\n      <td>2022</td>\n      <td>10</td>\n      <td>1</td>\n      <td>20</td>\n    </tr>\n    <tr>\n      <th>17541</th>\n      <td>2022-10-01 21:00:00</td>\n      <td>18.80000</td>\n      <td>0.00000</td>\n      <td>0.70000</td>\n      <td>73.00000</td>\n      <td>0.00000</td>\n      <td>2022</td>\n      <td>10</td>\n      <td>1</td>\n      <td>21</td>\n    </tr>\n    <tr>\n      <th>17542</th>\n      <td>2022-10-01 22:00:00</td>\n      <td>18.10000</td>\n      <td>0.00000</td>\n      <td>0.80000</td>\n      <td>75.00000</td>\n      <td>0.00000</td>\n      <td>2022</td>\n      <td>10</td>\n      <td>1</td>\n      <td>22</td>\n    </tr>\n    <tr>\n      <th>17543</th>\n      <td>2022-10-01 23:00:00</td>\n      <td>18.20000</td>\n      <td>0.00000</td>\n      <td>0.20000</td>\n      <td>75.00000</td>\n      <td>0.00000</td>\n      <td>2022</td>\n      <td>10</td>\n      <td>1</td>\n      <td>23</td>\n    </tr>\n  </tbody>\n</table>\n<p>17544 rows × 10 columns</p>\n</div>"
     },
     "execution_count": 34,
     "metadata": {},
     "output_type": "execute_result"
    }
   ],
   "source": [
    "# whether csv read, 일시를 index로 넣고 datetime 형태로 변환함\n",
    "whether = pd.read_csv(data_path +'/data/Whether.csv', encoding='euc-kr', parse_dates=['일시'], index_col='일시')\n",
    "# 강수량, 적설이 null인 경우 모두 0으로 바꿈\n",
    "whether = whether.fillna(0)\n",
    "# 일시의 freq을 hour로 변경\n",
    "whether.index.freq = 'h'\n",
    "\n",
    "'''\n",
    "데이터가 누락된 시간을 확인하기 위한 부분 (파일로 받은 경우)\n",
    "API로 받는 경우 날짜는 있지만 모든 데이터가 Null값이기 때문에 해당 조건으로 수정해야 할 것으로 보임\n",
    "\n",
    "j = whether.index[0]\n",
    "for i in whether.index:\n",
    "    if i != j + pd.Timedelta(\"1 hour\"):\n",
    "        print(j, i)\n",
    "    j = i\n",
    "'''\n",
    "# 지점코드, 지점명을 없앰\n",
    "whether = whether.iloc[:, [2,3,4,5,6]]\n",
    "whether\n",
    "\n",
    "\n",
    "whether = whether.reset_index()\n",
    "whether['연'] = whether['일시'].dt.year\n",
    "whether['월'] = whether['일시'].dt.month\n",
    "whether['일'] = whether['일시'].dt.day\n",
    "whether['시'] = whether['일시'].dt.hour\n",
    "whether"
   ],
   "metadata": {
    "collapsed": false
   }
  },
  {
   "cell_type": "code",
   "execution_count": 35,
   "outputs": [
    {
     "data": {
      "text/plain": "                    입출차시각     연   월  일  시   분   초 입출차여부  주차장   합계 잔류차량수  \\\n0     2022-09-01 07:07:31  2022   9  1  7   7  31    입차  12동   82     1   \n1     2022-09-01 07:17:42  2022   9  1  7  17  42    입차  12동   82     2   \n2     2022-09-01 07:18:36  2022   9  1  7  18  36    입차  12동   82     3   \n3     2022-09-01 07:35:54  2022   9  1  7  35  54    입차  12동   82     4   \n4     2022-09-01 07:35:58  2022   9  1  7  35  58    출차  12동   82     3   \n...                   ...   ...  .. .. ..  ..  ..   ...  ...  ...   ...   \n15724 2022-10-05 09:10:01  2022  10  5  9  10   1    입차  15동  201    75   \n15725 2022-10-05 09:20:45  2022  10  5  9  20  45    입차  15동  201    76   \n15726 2022-10-05 09:32:20  2022  10  5  9  32  20    출차  15동  201    75   \n15727 2022-10-05 09:48:30  2022  10  5  9  48  30    출차  15동  201    74   \n15728 2022-10-05 09:53:39  2022  10  5  9  53  39    입차  15동  201    75   \n\n           비율  혼잡도                  일시   기온(°C)  강수량(mm)  풍속(m/s)    습도(%)  \\\n0     0.01220    0 2022-09-01 07:00:00 20.20000  0.00000  0.90000 94.00000   \n1     0.02439    0 2022-09-01 07:00:00 20.20000  0.00000  0.90000 94.00000   \n2     0.03659    0 2022-09-01 07:00:00 20.20000  0.00000  0.90000 94.00000   \n3     0.04878    0 2022-09-01 07:00:00 20.20000  0.00000  0.90000 94.00000   \n4     0.03659    0 2022-09-01 07:00:00 20.20000  0.00000  0.90000 94.00000   \n...       ...  ...                 ...      ...      ...      ...      ...   \n15724 0.37313    1                 NaT      NaN      NaN      NaN      NaN   \n15725 0.37811    1                 NaT      NaN      NaN      NaN      NaN   \n15726 0.37313    1                 NaT      NaN      NaN      NaN      NaN   \n15727 0.36816    1                 NaT      NaN      NaN      NaN      NaN   \n15728 0.37313    1                 NaT      NaN      NaN      NaN      NaN   \n\n       적설(cm)  \n0     0.00000  \n1     0.00000  \n2     0.00000  \n3     0.00000  \n4     0.00000  \n...       ...  \n15724     NaN  \n15725     NaN  \n15726     NaN  \n15727     NaN  \n15728     NaN  \n\n[15729 rows x 19 columns]",
      "text/html": "<div>\n<style scoped>\n    .dataframe tbody tr th:only-of-type {\n        vertical-align: middle;\n    }\n\n    .dataframe tbody tr th {\n        vertical-align: top;\n    }\n\n    .dataframe thead th {\n        text-align: right;\n    }\n</style>\n<table border=\"1\" class=\"dataframe\">\n  <thead>\n    <tr style=\"text-align: right;\">\n      <th></th>\n      <th>입출차시각</th>\n      <th>연</th>\n      <th>월</th>\n      <th>일</th>\n      <th>시</th>\n      <th>분</th>\n      <th>초</th>\n      <th>입출차여부</th>\n      <th>주차장</th>\n      <th>합계</th>\n      <th>잔류차량수</th>\n      <th>비율</th>\n      <th>혼잡도</th>\n      <th>일시</th>\n      <th>기온(°C)</th>\n      <th>강수량(mm)</th>\n      <th>풍속(m/s)</th>\n      <th>습도(%)</th>\n      <th>적설(cm)</th>\n    </tr>\n  </thead>\n  <tbody>\n    <tr>\n      <th>0</th>\n      <td>2022-09-01 07:07:31</td>\n      <td>2022</td>\n      <td>9</td>\n      <td>1</td>\n      <td>7</td>\n      <td>7</td>\n      <td>31</td>\n      <td>입차</td>\n      <td>12동</td>\n      <td>82</td>\n      <td>1</td>\n      <td>0.01220</td>\n      <td>0</td>\n      <td>2022-09-01 07:00:00</td>\n      <td>20.20000</td>\n      <td>0.00000</td>\n      <td>0.90000</td>\n      <td>94.00000</td>\n      <td>0.00000</td>\n    </tr>\n    <tr>\n      <th>1</th>\n      <td>2022-09-01 07:17:42</td>\n      <td>2022</td>\n      <td>9</td>\n      <td>1</td>\n      <td>7</td>\n      <td>17</td>\n      <td>42</td>\n      <td>입차</td>\n      <td>12동</td>\n      <td>82</td>\n      <td>2</td>\n      <td>0.02439</td>\n      <td>0</td>\n      <td>2022-09-01 07:00:00</td>\n      <td>20.20000</td>\n      <td>0.00000</td>\n      <td>0.90000</td>\n      <td>94.00000</td>\n      <td>0.00000</td>\n    </tr>\n    <tr>\n      <th>2</th>\n      <td>2022-09-01 07:18:36</td>\n      <td>2022</td>\n      <td>9</td>\n      <td>1</td>\n      <td>7</td>\n      <td>18</td>\n      <td>36</td>\n      <td>입차</td>\n      <td>12동</td>\n      <td>82</td>\n      <td>3</td>\n      <td>0.03659</td>\n      <td>0</td>\n      <td>2022-09-01 07:00:00</td>\n      <td>20.20000</td>\n      <td>0.00000</td>\n      <td>0.90000</td>\n      <td>94.00000</td>\n      <td>0.00000</td>\n    </tr>\n    <tr>\n      <th>3</th>\n      <td>2022-09-01 07:35:54</td>\n      <td>2022</td>\n      <td>9</td>\n      <td>1</td>\n      <td>7</td>\n      <td>35</td>\n      <td>54</td>\n      <td>입차</td>\n      <td>12동</td>\n      <td>82</td>\n      <td>4</td>\n      <td>0.04878</td>\n      <td>0</td>\n      <td>2022-09-01 07:00:00</td>\n      <td>20.20000</td>\n      <td>0.00000</td>\n      <td>0.90000</td>\n      <td>94.00000</td>\n      <td>0.00000</td>\n    </tr>\n    <tr>\n      <th>4</th>\n      <td>2022-09-01 07:35:58</td>\n      <td>2022</td>\n      <td>9</td>\n      <td>1</td>\n      <td>7</td>\n      <td>35</td>\n      <td>58</td>\n      <td>출차</td>\n      <td>12동</td>\n      <td>82</td>\n      <td>3</td>\n      <td>0.03659</td>\n      <td>0</td>\n      <td>2022-09-01 07:00:00</td>\n      <td>20.20000</td>\n      <td>0.00000</td>\n      <td>0.90000</td>\n      <td>94.00000</td>\n      <td>0.00000</td>\n    </tr>\n    <tr>\n      <th>...</th>\n      <td>...</td>\n      <td>...</td>\n      <td>...</td>\n      <td>...</td>\n      <td>...</td>\n      <td>...</td>\n      <td>...</td>\n      <td>...</td>\n      <td>...</td>\n      <td>...</td>\n      <td>...</td>\n      <td>...</td>\n      <td>...</td>\n      <td>...</td>\n      <td>...</td>\n      <td>...</td>\n      <td>...</td>\n      <td>...</td>\n      <td>...</td>\n    </tr>\n    <tr>\n      <th>15724</th>\n      <td>2022-10-05 09:10:01</td>\n      <td>2022</td>\n      <td>10</td>\n      <td>5</td>\n      <td>9</td>\n      <td>10</td>\n      <td>1</td>\n      <td>입차</td>\n      <td>15동</td>\n      <td>201</td>\n      <td>75</td>\n      <td>0.37313</td>\n      <td>1</td>\n      <td>NaT</td>\n      <td>NaN</td>\n      <td>NaN</td>\n      <td>NaN</td>\n      <td>NaN</td>\n      <td>NaN</td>\n    </tr>\n    <tr>\n      <th>15725</th>\n      <td>2022-10-05 09:20:45</td>\n      <td>2022</td>\n      <td>10</td>\n      <td>5</td>\n      <td>9</td>\n      <td>20</td>\n      <td>45</td>\n      <td>입차</td>\n      <td>15동</td>\n      <td>201</td>\n      <td>76</td>\n      <td>0.37811</td>\n      <td>1</td>\n      <td>NaT</td>\n      <td>NaN</td>\n      <td>NaN</td>\n      <td>NaN</td>\n      <td>NaN</td>\n      <td>NaN</td>\n    </tr>\n    <tr>\n      <th>15726</th>\n      <td>2022-10-05 09:32:20</td>\n      <td>2022</td>\n      <td>10</td>\n      <td>5</td>\n      <td>9</td>\n      <td>32</td>\n      <td>20</td>\n      <td>출차</td>\n      <td>15동</td>\n      <td>201</td>\n      <td>75</td>\n      <td>0.37313</td>\n      <td>1</td>\n      <td>NaT</td>\n      <td>NaN</td>\n      <td>NaN</td>\n      <td>NaN</td>\n      <td>NaN</td>\n      <td>NaN</td>\n    </tr>\n    <tr>\n      <th>15727</th>\n      <td>2022-10-05 09:48:30</td>\n      <td>2022</td>\n      <td>10</td>\n      <td>5</td>\n      <td>9</td>\n      <td>48</td>\n      <td>30</td>\n      <td>출차</td>\n      <td>15동</td>\n      <td>201</td>\n      <td>74</td>\n      <td>0.36816</td>\n      <td>1</td>\n      <td>NaT</td>\n      <td>NaN</td>\n      <td>NaN</td>\n      <td>NaN</td>\n      <td>NaN</td>\n      <td>NaN</td>\n    </tr>\n    <tr>\n      <th>15728</th>\n      <td>2022-10-05 09:53:39</td>\n      <td>2022</td>\n      <td>10</td>\n      <td>5</td>\n      <td>9</td>\n      <td>53</td>\n      <td>39</td>\n      <td>입차</td>\n      <td>15동</td>\n      <td>201</td>\n      <td>75</td>\n      <td>0.37313</td>\n      <td>1</td>\n      <td>NaT</td>\n      <td>NaN</td>\n      <td>NaN</td>\n      <td>NaN</td>\n      <td>NaN</td>\n      <td>NaN</td>\n    </tr>\n  </tbody>\n</table>\n<p>15729 rows × 19 columns</p>\n</div>"
     },
     "execution_count": 35,
     "metadata": {},
     "output_type": "execute_result"
    }
   ],
   "source": [
    "dataset = pd.merge(dataset,whether, on =['연','월','일','시'], how= 'left')\n",
    "dataset"
   ],
   "metadata": {
    "collapsed": false
   }
  },
  {
   "cell_type": "code",
   "execution_count": 36,
   "outputs": [
    {
     "data": {
      "text/plain": "                    입출차시각     연   월  일  시   분   초 입출차여부  주차장   합계  ...  \\\n0     2022-09-01 07:07:31  2022   9  1  7   7  31    입차  12동   82  ...   \n1     2022-09-01 07:17:42  2022   9  1  7  17  42    입차  12동   82  ...   \n2     2022-09-01 07:18:36  2022   9  1  7  18  36    입차  12동   82  ...   \n3     2022-09-01 07:35:54  2022   9  1  7  35  54    입차  12동   82  ...   \n4     2022-09-01 07:35:58  2022   9  1  7  35  58    출차  12동   82  ...   \n...                   ...   ...  .. .. ..  ..  ..   ...  ...  ...  ...   \n15724 2022-10-05 09:10:01  2022  10  5  9  10   1    입차  15동  201  ...   \n15725 2022-10-05 09:20:45  2022  10  5  9  20  45    입차  15동  201  ...   \n15726 2022-10-05 09:32:20  2022  10  5  9  32  20    출차  15동  201  ...   \n15727 2022-10-05 09:48:30  2022  10  5  9  48  30    출차  15동  201  ...   \n15728 2022-10-05 09:53:39  2022  10  5  9  53  39    입차  15동  201  ...   \n\n           비율 혼잡도                  일시   기온(°C)  강수량(mm)  풍속(m/s)    습도(%)  \\\n0     0.01220   0 2022-09-01 07:00:00 20.20000  0.00000  0.90000 94.00000   \n1     0.02439   0 2022-09-01 07:00:00 20.20000  0.00000  0.90000 94.00000   \n2     0.03659   0 2022-09-01 07:00:00 20.20000  0.00000  0.90000 94.00000   \n3     0.04878   0 2022-09-01 07:00:00 20.20000  0.00000  0.90000 94.00000   \n4     0.03659   0 2022-09-01 07:00:00 20.20000  0.00000  0.90000 94.00000   \n...       ...  ..                 ...      ...      ...      ...      ...   \n15724 0.37313   1                 NaT      NaN      NaN      NaN      NaN   \n15725 0.37811   1                 NaT      NaN      NaN      NaN      NaN   \n15726 0.37313   1                 NaT      NaN      NaN      NaN      NaN   \n15727 0.36816   1                 NaT      NaN      NaN      NaN      NaN   \n15728 0.37313   1                 NaT      NaN      NaN      NaN      NaN   \n\n       적설(cm)  공휴일  요일  \n0     0.00000    0   3  \n1     0.00000    0   3  \n2     0.00000    0   3  \n3     0.00000    0   3  \n4     0.00000    0   3  \n...       ...  ...  ..  \n15724     NaN    0   2  \n15725     NaN    0   2  \n15726     NaN    0   2  \n15727     NaN    0   2  \n15728     NaN    0   2  \n\n[15729 rows x 21 columns]",
      "text/html": "<div>\n<style scoped>\n    .dataframe tbody tr th:only-of-type {\n        vertical-align: middle;\n    }\n\n    .dataframe tbody tr th {\n        vertical-align: top;\n    }\n\n    .dataframe thead th {\n        text-align: right;\n    }\n</style>\n<table border=\"1\" class=\"dataframe\">\n  <thead>\n    <tr style=\"text-align: right;\">\n      <th></th>\n      <th>입출차시각</th>\n      <th>연</th>\n      <th>월</th>\n      <th>일</th>\n      <th>시</th>\n      <th>분</th>\n      <th>초</th>\n      <th>입출차여부</th>\n      <th>주차장</th>\n      <th>합계</th>\n      <th>...</th>\n      <th>비율</th>\n      <th>혼잡도</th>\n      <th>일시</th>\n      <th>기온(°C)</th>\n      <th>강수량(mm)</th>\n      <th>풍속(m/s)</th>\n      <th>습도(%)</th>\n      <th>적설(cm)</th>\n      <th>공휴일</th>\n      <th>요일</th>\n    </tr>\n  </thead>\n  <tbody>\n    <tr>\n      <th>0</th>\n      <td>2022-09-01 07:07:31</td>\n      <td>2022</td>\n      <td>9</td>\n      <td>1</td>\n      <td>7</td>\n      <td>7</td>\n      <td>31</td>\n      <td>입차</td>\n      <td>12동</td>\n      <td>82</td>\n      <td>...</td>\n      <td>0.01220</td>\n      <td>0</td>\n      <td>2022-09-01 07:00:00</td>\n      <td>20.20000</td>\n      <td>0.00000</td>\n      <td>0.90000</td>\n      <td>94.00000</td>\n      <td>0.00000</td>\n      <td>0</td>\n      <td>3</td>\n    </tr>\n    <tr>\n      <th>1</th>\n      <td>2022-09-01 07:17:42</td>\n      <td>2022</td>\n      <td>9</td>\n      <td>1</td>\n      <td>7</td>\n      <td>17</td>\n      <td>42</td>\n      <td>입차</td>\n      <td>12동</td>\n      <td>82</td>\n      <td>...</td>\n      <td>0.02439</td>\n      <td>0</td>\n      <td>2022-09-01 07:00:00</td>\n      <td>20.20000</td>\n      <td>0.00000</td>\n      <td>0.90000</td>\n      <td>94.00000</td>\n      <td>0.00000</td>\n      <td>0</td>\n      <td>3</td>\n    </tr>\n    <tr>\n      <th>2</th>\n      <td>2022-09-01 07:18:36</td>\n      <td>2022</td>\n      <td>9</td>\n      <td>1</td>\n      <td>7</td>\n      <td>18</td>\n      <td>36</td>\n      <td>입차</td>\n      <td>12동</td>\n      <td>82</td>\n      <td>...</td>\n      <td>0.03659</td>\n      <td>0</td>\n      <td>2022-09-01 07:00:00</td>\n      <td>20.20000</td>\n      <td>0.00000</td>\n      <td>0.90000</td>\n      <td>94.00000</td>\n      <td>0.00000</td>\n      <td>0</td>\n      <td>3</td>\n    </tr>\n    <tr>\n      <th>3</th>\n      <td>2022-09-01 07:35:54</td>\n      <td>2022</td>\n      <td>9</td>\n      <td>1</td>\n      <td>7</td>\n      <td>35</td>\n      <td>54</td>\n      <td>입차</td>\n      <td>12동</td>\n      <td>82</td>\n      <td>...</td>\n      <td>0.04878</td>\n      <td>0</td>\n      <td>2022-09-01 07:00:00</td>\n      <td>20.20000</td>\n      <td>0.00000</td>\n      <td>0.90000</td>\n      <td>94.00000</td>\n      <td>0.00000</td>\n      <td>0</td>\n      <td>3</td>\n    </tr>\n    <tr>\n      <th>4</th>\n      <td>2022-09-01 07:35:58</td>\n      <td>2022</td>\n      <td>9</td>\n      <td>1</td>\n      <td>7</td>\n      <td>35</td>\n      <td>58</td>\n      <td>출차</td>\n      <td>12동</td>\n      <td>82</td>\n      <td>...</td>\n      <td>0.03659</td>\n      <td>0</td>\n      <td>2022-09-01 07:00:00</td>\n      <td>20.20000</td>\n      <td>0.00000</td>\n      <td>0.90000</td>\n      <td>94.00000</td>\n      <td>0.00000</td>\n      <td>0</td>\n      <td>3</td>\n    </tr>\n    <tr>\n      <th>...</th>\n      <td>...</td>\n      <td>...</td>\n      <td>...</td>\n      <td>...</td>\n      <td>...</td>\n      <td>...</td>\n      <td>...</td>\n      <td>...</td>\n      <td>...</td>\n      <td>...</td>\n      <td>...</td>\n      <td>...</td>\n      <td>...</td>\n      <td>...</td>\n      <td>...</td>\n      <td>...</td>\n      <td>...</td>\n      <td>...</td>\n      <td>...</td>\n      <td>...</td>\n      <td>...</td>\n    </tr>\n    <tr>\n      <th>15724</th>\n      <td>2022-10-05 09:10:01</td>\n      <td>2022</td>\n      <td>10</td>\n      <td>5</td>\n      <td>9</td>\n      <td>10</td>\n      <td>1</td>\n      <td>입차</td>\n      <td>15동</td>\n      <td>201</td>\n      <td>...</td>\n      <td>0.37313</td>\n      <td>1</td>\n      <td>NaT</td>\n      <td>NaN</td>\n      <td>NaN</td>\n      <td>NaN</td>\n      <td>NaN</td>\n      <td>NaN</td>\n      <td>0</td>\n      <td>2</td>\n    </tr>\n    <tr>\n      <th>15725</th>\n      <td>2022-10-05 09:20:45</td>\n      <td>2022</td>\n      <td>10</td>\n      <td>5</td>\n      <td>9</td>\n      <td>20</td>\n      <td>45</td>\n      <td>입차</td>\n      <td>15동</td>\n      <td>201</td>\n      <td>...</td>\n      <td>0.37811</td>\n      <td>1</td>\n      <td>NaT</td>\n      <td>NaN</td>\n      <td>NaN</td>\n      <td>NaN</td>\n      <td>NaN</td>\n      <td>NaN</td>\n      <td>0</td>\n      <td>2</td>\n    </tr>\n    <tr>\n      <th>15726</th>\n      <td>2022-10-05 09:32:20</td>\n      <td>2022</td>\n      <td>10</td>\n      <td>5</td>\n      <td>9</td>\n      <td>32</td>\n      <td>20</td>\n      <td>출차</td>\n      <td>15동</td>\n      <td>201</td>\n      <td>...</td>\n      <td>0.37313</td>\n      <td>1</td>\n      <td>NaT</td>\n      <td>NaN</td>\n      <td>NaN</td>\n      <td>NaN</td>\n      <td>NaN</td>\n      <td>NaN</td>\n      <td>0</td>\n      <td>2</td>\n    </tr>\n    <tr>\n      <th>15727</th>\n      <td>2022-10-05 09:48:30</td>\n      <td>2022</td>\n      <td>10</td>\n      <td>5</td>\n      <td>9</td>\n      <td>48</td>\n      <td>30</td>\n      <td>출차</td>\n      <td>15동</td>\n      <td>201</td>\n      <td>...</td>\n      <td>0.36816</td>\n      <td>1</td>\n      <td>NaT</td>\n      <td>NaN</td>\n      <td>NaN</td>\n      <td>NaN</td>\n      <td>NaN</td>\n      <td>NaN</td>\n      <td>0</td>\n      <td>2</td>\n    </tr>\n    <tr>\n      <th>15728</th>\n      <td>2022-10-05 09:53:39</td>\n      <td>2022</td>\n      <td>10</td>\n      <td>5</td>\n      <td>9</td>\n      <td>53</td>\n      <td>39</td>\n      <td>입차</td>\n      <td>15동</td>\n      <td>201</td>\n      <td>...</td>\n      <td>0.37313</td>\n      <td>1</td>\n      <td>NaT</td>\n      <td>NaN</td>\n      <td>NaN</td>\n      <td>NaN</td>\n      <td>NaN</td>\n      <td>NaN</td>\n      <td>0</td>\n      <td>2</td>\n    </tr>\n  </tbody>\n</table>\n<p>15729 rows × 21 columns</p>\n</div>"
     },
     "execution_count": 36,
     "metadata": {},
     "output_type": "execute_result"
    }
   ],
   "source": [
    "import holidays\n",
    "kr_holidays = holidays.KR()\n",
    "def holiday_check(x):\n",
    "    if x in kr_holidays:\n",
    "        return 1\n",
    "    else :\n",
    "        return 0\n",
    "\n",
    "\n",
    "dataset['공휴일'] = dataset['입출차시각'].apply(holiday_check)\n",
    "dataset['요일'] = dataset['입출차시각'].dt.weekday\n",
    "dataset"
   ],
   "metadata": {
    "collapsed": false
   }
  },
  {
   "cell_type": "code",
   "execution_count": 37,
   "outputs": [],
   "source": [
    "dataset = dataset[['입출차시각', '연', '월', '일', '시', '분','초','공휴일','요일','주차장',\n",
    "         '기온(°C)', '강수량(mm)', '풍속(m/s)', '습도(%)', '적설(cm)',\n",
    "         '잔류차량수', '비율','혼잡도']]\n",
    "# 날짜 매칭이 안되는 데이터들 제거\n",
    "dataset = dataset.dropna()"
   ],
   "metadata": {
    "collapsed": false
   }
  },
  {
   "cell_type": "code",
   "execution_count": 41,
   "outputs": [],
   "source": [
    "dataset.to_csv(data_path + '/data/dataset_darae.csv')"
   ],
   "metadata": {
    "collapsed": false
   }
  },
  {
   "cell_type": "markdown",
   "source": [
    "# 보정하기\n",
    " - 잔류차량수 >주차면수 인 경우 어떻게??\n",
    "-  생각해봐야함"
   ],
   "metadata": {
    "collapsed": false
   }
  },
  {
   "cell_type": "code",
   "execution_count": null,
   "outputs": [],
   "source": [
    "a = dataset.groupby(['연','월','일','주차장'])['잔류차량수','합계'].max()\n",
    "a=pd.DataFrame(a)\n",
    "a.reset_index(inplace=True)"
   ],
   "metadata": {
    "collapsed": false
   }
  },
  {
   "cell_type": "code",
   "execution_count": null,
   "outputs": [],
   "source": [
    "a['전체-잔류'] = a['합계'] - a['잔류차량수']\n",
    "a"
   ],
   "metadata": {
    "collapsed": false
   }
  }
 ],
 "metadata": {
  "kernelspec": {
   "display_name": "Python 3.8.8 ('base')",
   "language": "python",
   "name": "python3"
  },
  "language_info": {
   "codemirror_mode": {
    "name": "ipython",
    "version": 3
   },
   "file_extension": ".py",
   "mimetype": "text/x-python",
   "name": "python",
   "nbconvert_exporter": "python",
   "pygments_lexer": "ipython3",
   "version": "3.8.8"
  },
  "vscode": {
   "interpreter": {
    "hash": "86aa80caba646de5c5fbfa482f3005816722fa12a16cb3031e5ebf46eef177a2"
   }
  }
 },
 "nbformat": 4,
 "nbformat_minor": 5
}

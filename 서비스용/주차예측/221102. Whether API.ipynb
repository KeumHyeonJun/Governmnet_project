{
 "cells": [
  {
   "cell_type": "code",
   "execution_count": 5,
   "id": "1d674975-2fc6-4859-9704-5c9d6c1dd280",
   "metadata": {},
   "outputs": [
    {
     "data": {
      "text/plain": "      지점 지점명                일시 기온(°C) 강수량(mm) 풍속(m/s) 습도(%) 적설(cm)\n0    239  세종  2021-09-30 01:00   18.8             1.1    96       \n1    239  세종  2021-09-30 02:00   18.7             0.7    96       \n2    239  세종  2021-09-30 03:00   18.6             1.0    96       \n3    239  세종  2021-09-30 04:00   17.9             1.0    97       \n4    239  세종  2021-09-30 05:00   17.8             1.5    97       \n..   ...  ..               ...    ...     ...     ...   ...    ...\n495  239  세종  2021-10-20 16:00   15.2             0.4    39       \n496  239  세종  2021-10-20 17:00   12.4             0.6    54       \n497  239  세종  2021-10-20 18:00   11.1             0.0    57       \n498  239  세종  2021-10-20 19:00    9.9             0.2    66       \n499  239  세종  2021-10-20 20:00    8.7             0.2    73       \n\n[500 rows x 8 columns]",
      "text/html": "<div>\n<style scoped>\n    .dataframe tbody tr th:only-of-type {\n        vertical-align: middle;\n    }\n\n    .dataframe tbody tr th {\n        vertical-align: top;\n    }\n\n    .dataframe thead th {\n        text-align: right;\n    }\n</style>\n<table border=\"1\" class=\"dataframe\">\n  <thead>\n    <tr style=\"text-align: right;\">\n      <th></th>\n      <th>지점</th>\n      <th>지점명</th>\n      <th>일시</th>\n      <th>기온(°C)</th>\n      <th>강수량(mm)</th>\n      <th>풍속(m/s)</th>\n      <th>습도(%)</th>\n      <th>적설(cm)</th>\n    </tr>\n  </thead>\n  <tbody>\n    <tr>\n      <th>0</th>\n      <td>239</td>\n      <td>세종</td>\n      <td>2021-09-30 01:00</td>\n      <td>18.8</td>\n      <td></td>\n      <td>1.1</td>\n      <td>96</td>\n      <td></td>\n    </tr>\n    <tr>\n      <th>1</th>\n      <td>239</td>\n      <td>세종</td>\n      <td>2021-09-30 02:00</td>\n      <td>18.7</td>\n      <td></td>\n      <td>0.7</td>\n      <td>96</td>\n      <td></td>\n    </tr>\n    <tr>\n      <th>2</th>\n      <td>239</td>\n      <td>세종</td>\n      <td>2021-09-30 03:00</td>\n      <td>18.6</td>\n      <td></td>\n      <td>1.0</td>\n      <td>96</td>\n      <td></td>\n    </tr>\n    <tr>\n      <th>3</th>\n      <td>239</td>\n      <td>세종</td>\n      <td>2021-09-30 04:00</td>\n      <td>17.9</td>\n      <td></td>\n      <td>1.0</td>\n      <td>97</td>\n      <td></td>\n    </tr>\n    <tr>\n      <th>4</th>\n      <td>239</td>\n      <td>세종</td>\n      <td>2021-09-30 05:00</td>\n      <td>17.8</td>\n      <td></td>\n      <td>1.5</td>\n      <td>97</td>\n      <td></td>\n    </tr>\n    <tr>\n      <th>...</th>\n      <td>...</td>\n      <td>...</td>\n      <td>...</td>\n      <td>...</td>\n      <td>...</td>\n      <td>...</td>\n      <td>...</td>\n      <td>...</td>\n    </tr>\n    <tr>\n      <th>495</th>\n      <td>239</td>\n      <td>세종</td>\n      <td>2021-10-20 16:00</td>\n      <td>15.2</td>\n      <td></td>\n      <td>0.4</td>\n      <td>39</td>\n      <td></td>\n    </tr>\n    <tr>\n      <th>496</th>\n      <td>239</td>\n      <td>세종</td>\n      <td>2021-10-20 17:00</td>\n      <td>12.4</td>\n      <td></td>\n      <td>0.6</td>\n      <td>54</td>\n      <td></td>\n    </tr>\n    <tr>\n      <th>497</th>\n      <td>239</td>\n      <td>세종</td>\n      <td>2021-10-20 18:00</td>\n      <td>11.1</td>\n      <td></td>\n      <td>0.0</td>\n      <td>57</td>\n      <td></td>\n    </tr>\n    <tr>\n      <th>498</th>\n      <td>239</td>\n      <td>세종</td>\n      <td>2021-10-20 19:00</td>\n      <td>9.9</td>\n      <td></td>\n      <td>0.2</td>\n      <td>66</td>\n      <td></td>\n    </tr>\n    <tr>\n      <th>499</th>\n      <td>239</td>\n      <td>세종</td>\n      <td>2021-10-20 20:00</td>\n      <td>8.7</td>\n      <td></td>\n      <td>0.2</td>\n      <td>73</td>\n      <td></td>\n    </tr>\n  </tbody>\n</table>\n<p>500 rows × 8 columns</p>\n</div>"
     },
     "execution_count": 5,
     "metadata": {},
     "output_type": "execute_result"
    }
   ],
   "source": [
    "import requests\n",
    "import json\n",
    "import pandas as pd\n",
    "\n",
    "url = 'http://apis.data.go.kr/1360000/AsosHourlyInfoService/getWthrDataList'\n",
    "key = \"7cHRq4RbP9gZnYj6dw0lV03miUtUzlMzfxr64XSCSSN9ps8bVpJ5NzItp2NdwgNmDfN+Jrhz1m215fr9Ck69Hg==\"\n",
    "params ={'serviceKey':key, 'pageNo':'1','numOfRows':'500', 'dataType':'JSON', 'dataCd':'ASOS', 'dateCd':'HR', 'startDt':'20210930', 'startHh':'01', 'endDt':'20220930', 'endHh':'23', 'stnIds':'239'}\n",
    "# 'numOfRows':'23'\n",
    "response = requests.get(url, params=params)\n",
    "content = json.loads(response.text)\n",
    "\n",
    "df = pd.DataFrame(content[\"response\"][\"body\"][\"items\"][\"item\"])\n",
    "\n",
    "new_df = df[['stnId', 'stnNm', 'tm', 'ta', 'rn', 'ws', 'hm', 'dsnw']]\n",
    "new_df.columns = ['지점', '지점명', '일시', '기온(°C)', '강수량(mm)', '풍속(m/s)', '습도(%)', '적설(cm)']\n",
    "new_df"
   ]
  },
  {
   "cell_type": "code",
   "execution_count": null,
   "id": "af6bc806-a1ef-4739-ac5e-d6dbbccd2d99",
   "metadata": {},
   "outputs": [],
   "source": []
  }
 ],
 "metadata": {
  "kernelspec": {
   "display_name": "Python 3.8.8 ('base')",
   "language": "python",
   "name": "python3"
  },
  "language_info": {
   "codemirror_mode": {
    "name": "ipython",
    "version": 3
   },
   "file_extension": ".py",
   "mimetype": "text/x-python",
   "name": "python",
   "nbconvert_exporter": "python",
   "pygments_lexer": "ipython3",
   "version": "3.8.8"
  },
  "vscode": {
   "interpreter": {
    "hash": "86aa80caba646de5c5fbfa482f3005816722fa12a16cb3031e5ebf46eef177a2"
   }
  }
 },
 "nbformat": 4,
 "nbformat_minor": 5
}

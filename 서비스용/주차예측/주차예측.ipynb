{
 "cells": [
  {
   "cell_type": "code",
   "execution_count": 2,
   "metadata": {
    "collapsed": true
   },
   "outputs": [],
   "source": [
    "import pandas as pd"
   ]
  },
  {
   "cell_type": "code",
   "execution_count": 3,
   "outputs": [],
   "source": [
    "from pathlib import Path\n",
    "path = Path.cwd()\n",
    "data_path = path.parent\n",
    "data_path = str(data_path)"
   ],
   "metadata": {
    "collapsed": false
   }
  },
  {
   "cell_type": "code",
   "execution_count": 14,
   "outputs": [],
   "source": [
    "df = pd.read_csv(data_path +'/data/dataset_darae.csv')\n",
    "df.drop('입출차시각',axis =1,inplace= True)\n",
    "df.drop('초',axis =1,inplace= True)\n",
    "df.drop('Unnamed: 0',axis =1,inplace= True)\n",
    "df.reset_index(inplace=True)"
   ],
   "metadata": {
    "collapsed": false
   }
  },
  {
   "cell_type": "code",
   "execution_count": 15,
   "outputs": [],
   "source": [
    "def parking(x):\n",
    "    if x =='15동':\n",
    "        return 15\n",
    "    elif x == '14동':\n",
    "        return 14\n",
    "    elif x == '13동':\n",
    "        return 13\n",
    "    elif x == '12동':\n",
    "        return 12\n",
    "df['주차장'] = df['주차장'].apply(parking)"
   ],
   "metadata": {
    "collapsed": false
   }
  },
  {
   "cell_type": "code",
   "execution_count": 16,
   "outputs": [],
   "source": [
    "import optuna\n",
    "from lightgbm import LGBMClassifier\n",
    "from sklearn.metrics import mean_absolute_error, mean_squared_error\n",
    "from lightgbm import LGBMRegressor\n",
    "from datetime import datetime\n",
    "from sklearn.model_selection import train_test_split"
   ],
   "metadata": {
    "collapsed": false
   }
  },
  {
   "cell_type": "code",
   "execution_count": 17,
   "outputs": [],
   "source": [
    "# # 일자별로 train_test 나누기\n",
    "# train_data = df[df['일']<=25]\n",
    "# test_data = df[df['일']>25]\n",
    "\n",
    "\n",
    "#랜덤하게 나누기\n",
    "train_data, test_data = train_test_split( df, test_size=0.33, random_state=42)"
   ],
   "metadata": {
    "collapsed": false
   }
  },
  {
   "cell_type": "code",
   "execution_count": 18,
   "outputs": [
    {
     "data": {
      "text/plain": "       index     연  월   일  시   분  공휴일  요일  주차장  기온(°C)  강수량(mm)  풍속(m/s)  \\\n4692    4692  2022  9   5  7  55    0   0   13    22.6      0.5      0.1   \n14147  14147  2022  9  29  8  59    0   3   15    15.9      0.0      0.8   \n6857    6857  2022  9  26  8   1    0   0   13    16.3      0.0      0.3   \n13076  13076  2022  9  14  8  21    0   2   15    22.2      0.0      1.3   \n1224    1224  2022  9   8  8  57    0   3   12    18.0      0.0      0.7   \n\n       습도(%)  적설(cm)  \n4692    96.0     0.0  \n14147   95.0     0.0  \n6857    83.0     0.0  \n13076   54.0     0.0  \n1224    81.0     0.0  ",
      "text/html": "<div>\n<style scoped>\n    .dataframe tbody tr th:only-of-type {\n        vertical-align: middle;\n    }\n\n    .dataframe tbody tr th {\n        vertical-align: top;\n    }\n\n    .dataframe thead th {\n        text-align: right;\n    }\n</style>\n<table border=\"1\" class=\"dataframe\">\n  <thead>\n    <tr style=\"text-align: right;\">\n      <th></th>\n      <th>index</th>\n      <th>연</th>\n      <th>월</th>\n      <th>일</th>\n      <th>시</th>\n      <th>분</th>\n      <th>공휴일</th>\n      <th>요일</th>\n      <th>주차장</th>\n      <th>기온(°C)</th>\n      <th>강수량(mm)</th>\n      <th>풍속(m/s)</th>\n      <th>습도(%)</th>\n      <th>적설(cm)</th>\n    </tr>\n  </thead>\n  <tbody>\n    <tr>\n      <th>4692</th>\n      <td>4692</td>\n      <td>2022</td>\n      <td>9</td>\n      <td>5</td>\n      <td>7</td>\n      <td>55</td>\n      <td>0</td>\n      <td>0</td>\n      <td>13</td>\n      <td>22.6</td>\n      <td>0.5</td>\n      <td>0.1</td>\n      <td>96.0</td>\n      <td>0.0</td>\n    </tr>\n    <tr>\n      <th>14147</th>\n      <td>14147</td>\n      <td>2022</td>\n      <td>9</td>\n      <td>29</td>\n      <td>8</td>\n      <td>59</td>\n      <td>0</td>\n      <td>3</td>\n      <td>15</td>\n      <td>15.9</td>\n      <td>0.0</td>\n      <td>0.8</td>\n      <td>95.0</td>\n      <td>0.0</td>\n    </tr>\n    <tr>\n      <th>6857</th>\n      <td>6857</td>\n      <td>2022</td>\n      <td>9</td>\n      <td>26</td>\n      <td>8</td>\n      <td>1</td>\n      <td>0</td>\n      <td>0</td>\n      <td>13</td>\n      <td>16.3</td>\n      <td>0.0</td>\n      <td>0.3</td>\n      <td>83.0</td>\n      <td>0.0</td>\n    </tr>\n    <tr>\n      <th>13076</th>\n      <td>13076</td>\n      <td>2022</td>\n      <td>9</td>\n      <td>14</td>\n      <td>8</td>\n      <td>21</td>\n      <td>0</td>\n      <td>2</td>\n      <td>15</td>\n      <td>22.2</td>\n      <td>0.0</td>\n      <td>1.3</td>\n      <td>54.0</td>\n      <td>0.0</td>\n    </tr>\n    <tr>\n      <th>1224</th>\n      <td>1224</td>\n      <td>2022</td>\n      <td>9</td>\n      <td>8</td>\n      <td>8</td>\n      <td>57</td>\n      <td>0</td>\n      <td>3</td>\n      <td>12</td>\n      <td>18.0</td>\n      <td>0.0</td>\n      <td>0.7</td>\n      <td>81.0</td>\n      <td>0.0</td>\n    </tr>\n  </tbody>\n</table>\n</div>"
     },
     "execution_count": 18,
     "metadata": {},
     "output_type": "execute_result"
    }
   ],
   "source": [
    "X_train , y_train = train_data.iloc[: , 0:14], train_data['혼잡도']\n",
    "X_test , y_test = test_data.iloc[: , 0:14], test_data['혼잡도']\n",
    "X_train.head()"
   ],
   "metadata": {
    "collapsed": false
   }
  },
  {
   "cell_type": "code",
   "execution_count": 19,
   "outputs": [
    {
     "name": "stderr",
     "output_type": "stream",
     "text": [
      "/Users/keumhyeonjun/opt/anaconda3/envs/행안부/lib/python3.9/site-packages/lightgbm/basic.py:1551: UserWarning: Using categorical_feature in Dataset.\n",
      "  warnings.warn('Using categorical_feature in Dataset.')\n"
     ]
    },
    {
     "data": {
      "text/plain": "LGBMClassifier()",
      "text/html": "<style>#sk-container-id-1 {color: black;background-color: white;}#sk-container-id-1 pre{padding: 0;}#sk-container-id-1 div.sk-toggleable {background-color: white;}#sk-container-id-1 label.sk-toggleable__label {cursor: pointer;display: block;width: 100%;margin-bottom: 0;padding: 0.3em;box-sizing: border-box;text-align: center;}#sk-container-id-1 label.sk-toggleable__label-arrow:before {content: \"▸\";float: left;margin-right: 0.25em;color: #696969;}#sk-container-id-1 label.sk-toggleable__label-arrow:hover:before {color: black;}#sk-container-id-1 div.sk-estimator:hover label.sk-toggleable__label-arrow:before {color: black;}#sk-container-id-1 div.sk-toggleable__content {max-height: 0;max-width: 0;overflow: hidden;text-align: left;background-color: #f0f8ff;}#sk-container-id-1 div.sk-toggleable__content pre {margin: 0.2em;color: black;border-radius: 0.25em;background-color: #f0f8ff;}#sk-container-id-1 input.sk-toggleable__control:checked~div.sk-toggleable__content {max-height: 200px;max-width: 100%;overflow: auto;}#sk-container-id-1 input.sk-toggleable__control:checked~label.sk-toggleable__label-arrow:before {content: \"▾\";}#sk-container-id-1 div.sk-estimator input.sk-toggleable__control:checked~label.sk-toggleable__label {background-color: #d4ebff;}#sk-container-id-1 div.sk-label input.sk-toggleable__control:checked~label.sk-toggleable__label {background-color: #d4ebff;}#sk-container-id-1 input.sk-hidden--visually {border: 0;clip: rect(1px 1px 1px 1px);clip: rect(1px, 1px, 1px, 1px);height: 1px;margin: -1px;overflow: hidden;padding: 0;position: absolute;width: 1px;}#sk-container-id-1 div.sk-estimator {font-family: monospace;background-color: #f0f8ff;border: 1px dotted black;border-radius: 0.25em;box-sizing: border-box;margin-bottom: 0.5em;}#sk-container-id-1 div.sk-estimator:hover {background-color: #d4ebff;}#sk-container-id-1 div.sk-parallel-item::after {content: \"\";width: 100%;border-bottom: 1px solid gray;flex-grow: 1;}#sk-container-id-1 div.sk-label:hover label.sk-toggleable__label {background-color: #d4ebff;}#sk-container-id-1 div.sk-serial::before {content: \"\";position: absolute;border-left: 1px solid gray;box-sizing: border-box;top: 0;bottom: 0;left: 50%;z-index: 0;}#sk-container-id-1 div.sk-serial {display: flex;flex-direction: column;align-items: center;background-color: white;padding-right: 0.2em;padding-left: 0.2em;position: relative;}#sk-container-id-1 div.sk-item {position: relative;z-index: 1;}#sk-container-id-1 div.sk-parallel {display: flex;align-items: stretch;justify-content: center;background-color: white;position: relative;}#sk-container-id-1 div.sk-item::before, #sk-container-id-1 div.sk-parallel-item::before {content: \"\";position: absolute;border-left: 1px solid gray;box-sizing: border-box;top: 0;bottom: 0;left: 50%;z-index: -1;}#sk-container-id-1 div.sk-parallel-item {display: flex;flex-direction: column;z-index: 1;position: relative;background-color: white;}#sk-container-id-1 div.sk-parallel-item:first-child::after {align-self: flex-end;width: 50%;}#sk-container-id-1 div.sk-parallel-item:last-child::after {align-self: flex-start;width: 50%;}#sk-container-id-1 div.sk-parallel-item:only-child::after {width: 0;}#sk-container-id-1 div.sk-dashed-wrapped {border: 1px dashed gray;margin: 0 0.4em 0.5em 0.4em;box-sizing: border-box;padding-bottom: 0.4em;background-color: white;}#sk-container-id-1 div.sk-label label {font-family: monospace;font-weight: bold;display: inline-block;line-height: 1.2em;}#sk-container-id-1 div.sk-label-container {text-align: center;}#sk-container-id-1 div.sk-container {/* jupyter's `normalize.less` sets `[hidden] { display: none; }` but bootstrap.min.css set `[hidden] { display: none !important; }` so we also need the `!important` here to be able to override the default hidden behavior on the sphinx rendered scikit-learn.org. See: https://github.com/scikit-learn/scikit-learn/issues/21755 */display: inline-block !important;position: relative;}#sk-container-id-1 div.sk-text-repr-fallback {display: none;}</style><div id=\"sk-container-id-1\" class=\"sk-top-container\"><div class=\"sk-text-repr-fallback\"><pre>LGBMClassifier()</pre><b>In a Jupyter environment, please rerun this cell to show the HTML representation or trust the notebook. <br />On GitHub, the HTML representation is unable to render, please try loading this page with nbviewer.org.</b></div><div class=\"sk-container\" hidden><div class=\"sk-item\"><div class=\"sk-estimator sk-toggleable\"><input class=\"sk-toggleable__control sk-hidden--visually\" id=\"sk-estimator-id-1\" type=\"checkbox\" checked><label for=\"sk-estimator-id-1\" class=\"sk-toggleable__label sk-toggleable__label-arrow\">LGBMClassifier</label><div class=\"sk-toggleable__content\"><pre>LGBMClassifier()</pre></div></div></div></div></div>"
     },
     "execution_count": 19,
     "metadata": {},
     "output_type": "execute_result"
    }
   ],
   "source": [
    "model = LGBMClassifier()\n",
    "model.fit(X_train, y_train, categorical_feature =['주차장'], verbose=100)"
   ],
   "metadata": {
    "collapsed": false
   }
  },
  {
   "cell_type": "code",
   "execution_count": 20,
   "outputs": [],
   "source": [
    "y_predict = model.predict(X_test)\n",
    "y_predict = pd.DataFrame(y_predict)"
   ],
   "metadata": {
    "collapsed": false
   }
  },
  {
   "cell_type": "code",
   "execution_count": 21,
   "outputs": [
    {
     "data": {
      "text/plain": "      level_0  index     연  월   일  시   분  공휴일  요일  주차장  기온(°C)  강수량(mm)  \\\n0        4720   4720  2022  9   5  8   9    0   0   13    22.8      2.4   \n1        5234   5234  2022  9   8  7   2    0   3   13    15.8      0.0   \n2        2085   2085  2022  9  16  9   0    0   4   12    24.2      0.0   \n3        9267   9267  2022  9   8  9   3    0   3   14    20.1      0.0   \n4        5369   5369  2022  9   8  8  59    0   3   13    18.0      0.0   \n...       ...    ...   ... ..  .. ..  ..  ...  ..  ...     ...      ...   \n4696     8719   8719  2022  9   6  9  24    0   1   14    18.4      0.0   \n4697    10956  10956  2022  9  21  8  42    0   2   14    17.0      0.0   \n4698      440    440  2022  9   5  7  57    0   0   12    22.6      0.5   \n4699    12001  12001  2022  9  27  9   7    0   1   14    17.1      0.0   \n4700     6867   6867  2022  9  26  8   8    0   0   13    16.3      0.0   \n\n      풍속(m/s)  습도(%)  적설(cm)  혼잡도  0  \n0         0.2   96.0     0.0    1  1  \n1         0.8   91.0     0.0    0  0  \n2         2.8   71.0     0.0    3  3  \n3         0.8   72.0     0.0    2  2  \n4         0.7   81.0     0.0    2  2  \n...       ...    ...     ...  ... ..  \n4696      3.8   89.0     0.0    3  3  \n4697      1.8   76.0     0.0    3  3  \n4698      0.1   96.0     0.0    0  0  \n4699      1.1   71.0     0.0    2  2  \n4700      0.3   83.0     0.0    1  1  \n\n[4701 rows x 17 columns]",
      "text/html": "<div>\n<style scoped>\n    .dataframe tbody tr th:only-of-type {\n        vertical-align: middle;\n    }\n\n    .dataframe tbody tr th {\n        vertical-align: top;\n    }\n\n    .dataframe thead th {\n        text-align: right;\n    }\n</style>\n<table border=\"1\" class=\"dataframe\">\n  <thead>\n    <tr style=\"text-align: right;\">\n      <th></th>\n      <th>level_0</th>\n      <th>index</th>\n      <th>연</th>\n      <th>월</th>\n      <th>일</th>\n      <th>시</th>\n      <th>분</th>\n      <th>공휴일</th>\n      <th>요일</th>\n      <th>주차장</th>\n      <th>기온(°C)</th>\n      <th>강수량(mm)</th>\n      <th>풍속(m/s)</th>\n      <th>습도(%)</th>\n      <th>적설(cm)</th>\n      <th>혼잡도</th>\n      <th>0</th>\n    </tr>\n  </thead>\n  <tbody>\n    <tr>\n      <th>0</th>\n      <td>4720</td>\n      <td>4720</td>\n      <td>2022</td>\n      <td>9</td>\n      <td>5</td>\n      <td>8</td>\n      <td>9</td>\n      <td>0</td>\n      <td>0</td>\n      <td>13</td>\n      <td>22.8</td>\n      <td>2.4</td>\n      <td>0.2</td>\n      <td>96.0</td>\n      <td>0.0</td>\n      <td>1</td>\n      <td>1</td>\n    </tr>\n    <tr>\n      <th>1</th>\n      <td>5234</td>\n      <td>5234</td>\n      <td>2022</td>\n      <td>9</td>\n      <td>8</td>\n      <td>7</td>\n      <td>2</td>\n      <td>0</td>\n      <td>3</td>\n      <td>13</td>\n      <td>15.8</td>\n      <td>0.0</td>\n      <td>0.8</td>\n      <td>91.0</td>\n      <td>0.0</td>\n      <td>0</td>\n      <td>0</td>\n    </tr>\n    <tr>\n      <th>2</th>\n      <td>2085</td>\n      <td>2085</td>\n      <td>2022</td>\n      <td>9</td>\n      <td>16</td>\n      <td>9</td>\n      <td>0</td>\n      <td>0</td>\n      <td>4</td>\n      <td>12</td>\n      <td>24.2</td>\n      <td>0.0</td>\n      <td>2.8</td>\n      <td>71.0</td>\n      <td>0.0</td>\n      <td>3</td>\n      <td>3</td>\n    </tr>\n    <tr>\n      <th>3</th>\n      <td>9267</td>\n      <td>9267</td>\n      <td>2022</td>\n      <td>9</td>\n      <td>8</td>\n      <td>9</td>\n      <td>3</td>\n      <td>0</td>\n      <td>3</td>\n      <td>14</td>\n      <td>20.1</td>\n      <td>0.0</td>\n      <td>0.8</td>\n      <td>72.0</td>\n      <td>0.0</td>\n      <td>2</td>\n      <td>2</td>\n    </tr>\n    <tr>\n      <th>4</th>\n      <td>5369</td>\n      <td>5369</td>\n      <td>2022</td>\n      <td>9</td>\n      <td>8</td>\n      <td>8</td>\n      <td>59</td>\n      <td>0</td>\n      <td>3</td>\n      <td>13</td>\n      <td>18.0</td>\n      <td>0.0</td>\n      <td>0.7</td>\n      <td>81.0</td>\n      <td>0.0</td>\n      <td>2</td>\n      <td>2</td>\n    </tr>\n    <tr>\n      <th>...</th>\n      <td>...</td>\n      <td>...</td>\n      <td>...</td>\n      <td>...</td>\n      <td>...</td>\n      <td>...</td>\n      <td>...</td>\n      <td>...</td>\n      <td>...</td>\n      <td>...</td>\n      <td>...</td>\n      <td>...</td>\n      <td>...</td>\n      <td>...</td>\n      <td>...</td>\n      <td>...</td>\n      <td>...</td>\n    </tr>\n    <tr>\n      <th>4696</th>\n      <td>8719</td>\n      <td>8719</td>\n      <td>2022</td>\n      <td>9</td>\n      <td>6</td>\n      <td>9</td>\n      <td>24</td>\n      <td>0</td>\n      <td>1</td>\n      <td>14</td>\n      <td>18.4</td>\n      <td>0.0</td>\n      <td>3.8</td>\n      <td>89.0</td>\n      <td>0.0</td>\n      <td>3</td>\n      <td>3</td>\n    </tr>\n    <tr>\n      <th>4697</th>\n      <td>10956</td>\n      <td>10956</td>\n      <td>2022</td>\n      <td>9</td>\n      <td>21</td>\n      <td>8</td>\n      <td>42</td>\n      <td>0</td>\n      <td>2</td>\n      <td>14</td>\n      <td>17.0</td>\n      <td>0.0</td>\n      <td>1.8</td>\n      <td>76.0</td>\n      <td>0.0</td>\n      <td>3</td>\n      <td>3</td>\n    </tr>\n    <tr>\n      <th>4698</th>\n      <td>440</td>\n      <td>440</td>\n      <td>2022</td>\n      <td>9</td>\n      <td>5</td>\n      <td>7</td>\n      <td>57</td>\n      <td>0</td>\n      <td>0</td>\n      <td>12</td>\n      <td>22.6</td>\n      <td>0.5</td>\n      <td>0.1</td>\n      <td>96.0</td>\n      <td>0.0</td>\n      <td>0</td>\n      <td>0</td>\n    </tr>\n    <tr>\n      <th>4699</th>\n      <td>12001</td>\n      <td>12001</td>\n      <td>2022</td>\n      <td>9</td>\n      <td>27</td>\n      <td>9</td>\n      <td>7</td>\n      <td>0</td>\n      <td>1</td>\n      <td>14</td>\n      <td>17.1</td>\n      <td>0.0</td>\n      <td>1.1</td>\n      <td>71.0</td>\n      <td>0.0</td>\n      <td>2</td>\n      <td>2</td>\n    </tr>\n    <tr>\n      <th>4700</th>\n      <td>6867</td>\n      <td>6867</td>\n      <td>2022</td>\n      <td>9</td>\n      <td>26</td>\n      <td>8</td>\n      <td>8</td>\n      <td>0</td>\n      <td>0</td>\n      <td>13</td>\n      <td>16.3</td>\n      <td>0.0</td>\n      <td>0.3</td>\n      <td>83.0</td>\n      <td>0.0</td>\n      <td>1</td>\n      <td>1</td>\n    </tr>\n  </tbody>\n</table>\n<p>4701 rows × 17 columns</p>\n</div>"
     },
     "execution_count": 21,
     "metadata": {},
     "output_type": "execute_result"
    }
   ],
   "source": [
    "result = pd.concat([X_test,y_test],axis =1 ).reset_index()\n",
    "result = pd.concat([result,y_predict],axis =1 )\n",
    "result"
   ],
   "metadata": {
    "collapsed": false
   }
  },
  {
   "cell_type": "code",
   "execution_count": 22,
   "outputs": [
    {
     "data": {
      "text/plain": "<Figure size 2000x1000 with 1 Axes>",
      "image/png": "[encoded data removed]"
     },
     "metadata": {},
     "output_type": "display_data"
    }
   ],
   "source": [
    "import matplotlib.pyplot as plt\n",
    "\n",
    "plt.rc('font', family='AppleGothic')\n",
    "plt.rcParams['axes.unicode_minus'] = False\n",
    "\n",
    "\n",
    "import seaborn as sns\n",
    "import warnings\n",
    "warnings.simplefilter(action='ignore', category=FutureWarning)\n",
    "\n",
    "# sorted(zip(clf.feature_importances_, X.columns), reverse=True)\n",
    "feature_imp = pd.DataFrame(sorted(zip(model.feature_importances_,X_train.columns)), columns=['Value','Feature'])\n",
    "\n",
    "plt.figure(figsize=(20, 10))\n",
    "sns.barplot(x=\"Value\", y=\"Feature\", data=feature_imp.sort_values(by=\"Value\", ascending=False))\n",
    "plt.title('LightGBM Features (avg over folds)')\n",
    "plt.tight_layout()\n",
    "plt.show()"
   ],
   "metadata": {
    "collapsed": false
   }
  },
  {
   "cell_type": "code",
   "execution_count": 23,
   "outputs": [
    {
     "data": {
      "text/plain": "0.967453733248245"
     },
     "execution_count": 23,
     "metadata": {},
     "output_type": "execute_result"
    }
   ],
   "source": [
    "from sklearn.metrics import accuracy_score, recall_score, precision_score, f1_score\n",
    "accuracy_score(result['혼잡도'], result[0])"
   ],
   "metadata": {
    "collapsed": false
   }
  },
  {
   "cell_type": "code",
   "execution_count": 24,
   "outputs": [
    {
     "data": {
      "text/plain": "0.9744680851063829"
     },
     "execution_count": 24,
     "metadata": {},
     "output_type": "execute_result"
    }
   ],
   "source": [
    "result_15 = result[result['주차장']==15]\n",
    "accuracy_score(result_15['혼잡도'], result_15[0])\n"
   ],
   "metadata": {
    "collapsed": false
   }
  },
  {
   "cell_type": "code",
   "execution_count": 25,
   "outputs": [
    {
     "data": {
      "text/plain": "0.9721254355400697"
     },
     "execution_count": 25,
     "metadata": {},
     "output_type": "execute_result"
    }
   ],
   "source": [
    "result_14 = result[result['주차장']==14]\n",
    "accuracy_score(result_14['혼잡도'], result_14[0])\n"
   ],
   "metadata": {
    "collapsed": false
   }
  },
  {
   "cell_type": "code",
   "execution_count": 26,
   "outputs": [
    {
     "data": {
      "text/plain": "0.9700374531835206"
     },
     "execution_count": 26,
     "metadata": {},
     "output_type": "execute_result"
    }
   ],
   "source": [
    "result_13 = result[result['주차장']==13]\n",
    "accuracy_score(result_13['혼잡도'], result_13[0])\n"
   ],
   "metadata": {
    "collapsed": false
   }
  },
  {
   "cell_type": "code",
   "execution_count": 27,
   "outputs": [
    {
     "data": {
      "text/plain": "0.9576682859125607"
     },
     "execution_count": 27,
     "metadata": {},
     "output_type": "execute_result"
    }
   ],
   "source": [
    "result_12 = result[result['주차장']==12]\n",
    "accuracy_score(result_12['혼잡도'], result_12[0])\n"
   ],
   "metadata": {
    "collapsed": false
   }
  },
  {
   "cell_type": "code",
   "execution_count": 28,
   "outputs": [
    {
     "data": {
      "text/plain": "array([2])"
     },
     "execution_count": 28,
     "metadata": {},
     "output_type": "execute_result"
    }
   ],
   "source": [
    "import numpy as np\n",
    "test = np.array([[4800, 2021, 8, 10, 9, 20, 0, 3, 13, 23,0,1,65,0]])\n",
    "model.predict(test)"
   ],
   "metadata": {
    "collapsed": false
   }
  },
  {
   "cell_type": "code",
   "execution_count": null,
   "outputs": [],
   "source": [],
   "metadata": {
    "collapsed": false
   }
  }
 ],
 "metadata": {
  "kernelspec": {
   "display_name": "Python 3",
   "language": "python",
   "name": "python3"
  },
  "language_info": {
   "codemirror_mode": {
    "name": "ipython",
    "version": 2
   },
   "file_extension": ".py",
   "mimetype": "text/x-python",
   "name": "python",
   "nbconvert_exporter": "python",
   "pygments_lexer": "ipython2",
   "version": "2.7.6"
  }
 },
 "nbformat": 4,
 "nbformat_minor": 0
}

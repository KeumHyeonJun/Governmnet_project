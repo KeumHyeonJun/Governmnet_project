{
 "cells": [
  {
   "cell_type": "code",
   "execution_count": 253,
   "metadata": {
    "collapsed": true
   },
   "outputs": [
    {
     "data": {
      "text/plain": "'/Users/keumhyeonjun/Projects/행안부/자재/GFMS DB/'"
     },
     "execution_count": 253,
     "metadata": {},
     "output_type": "execute_result"
    }
   ],
   "source": [
    "import pandas as pd\n",
    "from pathlib import Path\n",
    "\n",
    "path = Path.cwd()\n",
    "path = str(path)+'/GFMS DB/'\n",
    "path"
   ]
  },
  {
   "cell_type": "code",
   "execution_count": 254,
   "outputs": [
    {
     "name": "stderr",
     "output_type": "stream",
     "text": [
      "/var/folders/nd/cl2nzwh13zx7jdly2t5m95340000gn/T/ipykernel_71833/4185094747.py:1: DtypeWarning: Columns (59) have mixed types. Specify dtype option on import or set low_memory=False.\n",
      "  FMSA10_작업지시_결과 = pd.read_csv(path+'FMSA10_작업지시_결과_ver2.csv')\n",
      "/var/folders/nd/cl2nzwh13zx7jdly2t5m95340000gn/T/ipykernel_71833/4185094747.py:51: SettingWithCopyWarning: \n",
      "A value is trying to be set on a copy of a slice from a DataFrame.\n",
      "Try using .loc[row_indexer,col_indexer] = value instead\n",
      "\n",
      "See the caveats in the documentation: https://pandas.pydata.org/pandas-docs/stable/user_guide/indexing.html#returning-a-view-versus-a-copy\n",
      "  fmsb03[\"mat_cd\"] = fmsb03[\"mat_cd\"].astype(\"str\")\n"
     ]
    }
   ],
   "source": [
    "FMSA10_작업지시_결과 = pd.read_csv(path+'FMSA10_작업지시_결과_ver2.csv')\n",
    "\n",
    "FMSA11_작업장비이력 = pd.read_excel(path + 'FMSA11_작업장비이력.xlsx')\n",
    "\n",
    "FMSX05_장비마스터 = pd.read_csv(path + 'FMSX05_장비마스터_ver2.csv')\n",
    "\n",
    "FMSB07_자재출고 = pd.read_excel(path + 'FMSB07_자재출고.xlsx')\n",
    "\n",
    "FMSB03_자재마스터 = pd.read_csv(path + 'FMSB03_자재마스터_ver2.csv')\n",
    "\n",
    "FMSB03_자재마스터.drop(['class_nm_4','class_cd_4'],axis =1,inplace = True)\n",
    "\n",
    "FMSB03_자재마스터.rename(columns={'class_nm_3':'jajae_class_nm_3'},inplace = True)\n",
    "FMSB03_자재마스터.rename(columns={'class_nm_2':'jajae_class_nm_2'},inplace = True)\n",
    "FMSB03_자재마스터.rename(columns={'class_nm_1':'jajae_class_nm_1'},inplace = True)\n",
    "\n",
    "FMSB03_자재마스터.rename(columns={'class_cd_3':'jajae_class_cd_3'},inplace = True)\n",
    "FMSB03_자재마스터.rename(columns={'class_cd_2':'jajae_class_cd_2'},inplace = True)\n",
    "FMSB03_자재마스터.rename(columns={'class_cd_1':'jajae_class_cd_1'},inplace = True)\n",
    "\n",
    "\n",
    "FMSX05_장비마스터.rename(columns={'class_nm_4':'jangbi_class_nm_4'},inplace = True)\n",
    "FMSX05_장비마스터.rename(columns={'class_nm_3':'jangbi_class_nm_3'},inplace = True)\n",
    "FMSX05_장비마스터.rename(columns={'class_nm_2':'jangbi_class_nm_2'},inplace = True)\n",
    "FMSX05_장비마스터.rename(columns={'class_nm_1':'jangbi_class_nm_1'},inplace = True)\n",
    "\n",
    "\n",
    "FMSX05_장비마스터.rename(columns={'class_cd_4':'jangbi_class_cd_4'},inplace = True)\n",
    "FMSX05_장비마스터.rename(columns={'class_cd_3':'jangbi_class_cd_3'},inplace = True)\n",
    "FMSX05_장비마스터.rename(columns={'class_cd_2':'jangbi_class_cd_2'},inplace = True)\n",
    "FMSX05_장비마스터.rename(columns={'class_cd_1':'jangbi_class_cd_1'},inplace = True)\n",
    "\n",
    "FMSA10_작업지시_결과.rename(columns={'class_nm_4':'job_class_nm_4'},inplace = True)\n",
    "FMSA10_작업지시_결과.rename(columns={'class_nm_3':'job_class_nm_3'},inplace = True)\n",
    "FMSA10_작업지시_결과.rename(columns={'class_nm_2':'job_class_nm_2'},inplace = True)\n",
    "FMSA10_작업지시_결과.rename(columns={'class_nm_1':'job_class_nm_1'},inplace = True)\n",
    "\n",
    "\n",
    "FMSA10_작업지시_결과.rename(columns={'class_cd_4':'job_class_cd_4'},inplace = True)\n",
    "FMSA10_작업지시_결과.rename(columns={'class_cd_3':'job_class_cd_3'},inplace = True)\n",
    "FMSA10_작업지시_결과.rename(columns={'class_cd_2':'job_class_cd_2'},inplace = True)\n",
    "FMSA10_작업지시_결과.rename(columns={'class_cd_1':'job_class_cd_1'},inplace = True)\n",
    "\n",
    "fmsa10 =FMSA10_작업지시_결과[['job_cd','job_nm','job_jisi_dt','job_enddt','job_shm','job_ehm','job_class_nm_1','job_class_nm_2','job_class_nm_3','job_class_nm_4']]\n",
    "fmsb03 = FMSB03_자재마스터[['mat_cd','mat_nm','jajae_class_nm_1','jajae_class_nm_2','jajae_class_nm_3','jajae_class_cd_3']]\n",
    "fmsx05 = FMSX05_장비마스터[['fac_cd','fac_nm','jangbi_class_nm_1','jangbi_class_nm_2','jangbi_class_nm_3','jangbi_class_nm_4']]\n",
    "\n",
    "\n",
    "FMSB07_자재출고[\"mat_cd\"] = FMSB07_자재출고[\"mat_cd\"].astype(\"str\")\n",
    "FMSB07_자재출고[\"mat_cd\"] = list(map(lambda x: x[:-3],FMSB07_자재출고[\"mat_cd\"].tolist())) # FMSB03과 inner join하기 위해 mat_cd 형식 일치\n",
    "fmsb03[\"mat_cd\"] = fmsb03[\"mat_cd\"].astype(\"str\")\n",
    "jajae = pd.merge(FMSB07_자재출고,fmsb03 ,on = 'mat_cd', how = 'inner')\n",
    "jajae = jajae[['job_cd','outw_day','mat_cd','outw_qty','mat_nm_x','jajae_class_nm_1','jajae_class_nm_2','jajae_class_nm_3','jajae_class_cd_3']]\n",
    "\n",
    "\n",
    "jangbi = pd.merge(FMSA11_작업장비이력, fmsx05, how='inner', on='fac_cd')\n",
    "data = pd.merge(fmsa10,jangbi, on='job_cd',how = 'inner')\n",
    "\n",
    "data['자재매칭여부'] = data['job_cd']\n",
    "arr_장비 = list(data['job_cd'])\n",
    "arr_자재 = list(jajae['job_cd'])\n",
    "#자재 매칭이 안되는 경우\n",
    "arr = list(set(arr_장비)- set(arr_자재))\n",
    "\n",
    "def function(x):\n",
    "    if x in arr:\n",
    "        return 0\n",
    "    else:\n",
    "         return 1\n",
    "\n",
    "data['자재매칭여부'] = data['자재매칭여부'].apply(function)\n",
    "df = pd.merge(data,jajae, on='job_cd',how = 'inner')\n",
    "\n",
    "final = df[['job_cd','job_nm','job_jisi_dt','job_enddt','job_shm','job_ehm','job_class_nm_1','job_class_nm_2','job_class_nm_3','job_class_nm_4','fac_cd','fac_nm','mat_cd','mat_nm_x',\n",
    "           'jangbi_class_nm_1','jangbi_class_nm_2','jangbi_class_nm_3','jangbi_class_nm_4','자재매칭여부','mat_nm_x','jajae_class_nm_1','jajae_class_nm_2','jajae_class_nm_3','jajae_class_cd_3']]"
   ],
   "metadata": {
    "collapsed": false
   }
  },
  {
   "cell_type": "code",
   "execution_count": 255,
   "outputs": [
    {
     "data": {
      "text/plain": "         job_cd                                  job_nm job_jisi_dt  \\\n0  211001-00059            4동 지하 1층 전기원휴게실내 샤워장 전등점등불량.  2021-10-01   \n1  211001-00081        1동 1구역 2층 복도내 거실통로유도등 점등불량 교체 작업  2021-10-01   \n2  211001-00070             2-1동 옥상층 66번 CCTV PTZ 동작 불량  2021-10-01   \n3  211001-00070             2-1동 옥상층 66번 CCTV PTZ 동작 불량  2021-10-01   \n4  211001-00062  9동 701호해양수산사이버안전센터 분말소화기 받침대 노후로 신품교체.  2021-10-01   \n\n    job_enddt                job_shm                job_ehm job_class_nm_1  \\\n0  2021-10-01  2021-10-01 오전 9:00:00  2021-10-01 오전 9:30:00             4동   \n1  2021-10-01  2021-10-01 오후 1:30:00  2021-10-01 오후 1:45:00         1동 1구역   \n2  2021-10-01  2021-10-01 오전 9:00:00  2021-10-01 오후 5:31:00         2동 1구역   \n3  2021-10-01  2021-10-01 오전 9:00:00  2021-10-01 오후 5:31:00         2동 1구역   \n4  2021-10-01  2021-10-01 오후 3:30:00  2021-10-01 오후 4:09:00             9동   \n\n  job_class_nm_2 job_class_nm_3 job_class_nm_4  ...  jangbi_class_nm_1  \\\n0           지하1층             조명      옥내 LED 조명  ...                 전기   \n1             2층            유도등       거실통로 유도등  ...                 방재   \n2            옥상층          방범시스템       CCTV 카메라  ...                 통신   \n3            옥상층          방범시스템       CCTV 카메라  ...                 통신   \n4             7층           소화기구            이동식  ...                 방재   \n\n  jangbi_class_nm_2 jangbi_class_nm_3 jangbi_class_nm_4 자재매칭여부      mat_nm_x  \\\n0            전력부하설비                조명         옥내 LED 조명      1      LED일체형램프   \n1              피난설비               유도등          거실통로 유도등      1  거실통로유도등(LED)   \n2              방범설비             방범시스템          CCTV 카메라      1         IP카메라   \n3              방범설비             방범시스템          CCTV 카메라      1         절연테이프   \n4              소화설비              소화기구               이동식      1        소화기받침대   \n\n  jajae_class_nm_1 jajae_class_nm_2  jajae_class_nm_3 jajae_class_cd_3  \n0               전기      조명기구/전등/안정기            LED 전구           413002  \n1               소방             피난설비               유도등           504001  \n2               방범           영상감지장치              CCTV           802001  \n3               전기             절연재료               테이프           407001  \n4               소방             소화기구            소화기구부품           505009  \n\n[5 rows x 24 columns]",
      "text/html": "<div>\n<style scoped>\n    .dataframe tbody tr th:only-of-type {\n        vertical-align: middle;\n    }\n\n    .dataframe tbody tr th {\n        vertical-align: top;\n    }\n\n    .dataframe thead th {\n        text-align: right;\n    }\n</style>\n<table border=\"1\" class=\"dataframe\">\n  <thead>\n    <tr style=\"text-align: right;\">\n      <th></th>\n      <th>job_cd</th>\n      <th>job_nm</th>\n      <th>job_jisi_dt</th>\n      <th>job_enddt</th>\n      <th>job_shm</th>\n      <th>job_ehm</th>\n      <th>job_class_nm_1</th>\n      <th>job_class_nm_2</th>\n      <th>job_class_nm_3</th>\n      <th>job_class_nm_4</th>\n      <th>...</th>\n      <th>jangbi_class_nm_1</th>\n      <th>jangbi_class_nm_2</th>\n      <th>jangbi_class_nm_3</th>\n      <th>jangbi_class_nm_4</th>\n      <th>자재매칭여부</th>\n      <th>mat_nm_x</th>\n      <th>jajae_class_nm_1</th>\n      <th>jajae_class_nm_2</th>\n      <th>jajae_class_nm_3</th>\n      <th>jajae_class_cd_3</th>\n    </tr>\n  </thead>\n  <tbody>\n    <tr>\n      <th>0</th>\n      <td>211001-00059</td>\n      <td>4동 지하 1층 전기원휴게실내 샤워장 전등점등불량.</td>\n      <td>2021-10-01</td>\n      <td>2021-10-01</td>\n      <td>2021-10-01 오전 9:00:00</td>\n      <td>2021-10-01 오전 9:30:00</td>\n      <td>4동</td>\n      <td>지하1층</td>\n      <td>조명</td>\n      <td>옥내 LED 조명</td>\n      <td>...</td>\n      <td>전기</td>\n      <td>전력부하설비</td>\n      <td>조명</td>\n      <td>옥내 LED 조명</td>\n      <td>1</td>\n      <td>LED일체형램프</td>\n      <td>전기</td>\n      <td>조명기구/전등/안정기</td>\n      <td>LED 전구</td>\n      <td>413002</td>\n    </tr>\n    <tr>\n      <th>1</th>\n      <td>211001-00081</td>\n      <td>1동 1구역 2층 복도내 거실통로유도등 점등불량 교체 작업</td>\n      <td>2021-10-01</td>\n      <td>2021-10-01</td>\n      <td>2021-10-01 오후 1:30:00</td>\n      <td>2021-10-01 오후 1:45:00</td>\n      <td>1동 1구역</td>\n      <td>2층</td>\n      <td>유도등</td>\n      <td>거실통로 유도등</td>\n      <td>...</td>\n      <td>방재</td>\n      <td>피난설비</td>\n      <td>유도등</td>\n      <td>거실통로 유도등</td>\n      <td>1</td>\n      <td>거실통로유도등(LED)</td>\n      <td>소방</td>\n      <td>피난설비</td>\n      <td>유도등</td>\n      <td>504001</td>\n    </tr>\n    <tr>\n      <th>2</th>\n      <td>211001-00070</td>\n      <td>2-1동 옥상층 66번 CCTV PTZ 동작 불량</td>\n      <td>2021-10-01</td>\n      <td>2021-10-01</td>\n      <td>2021-10-01 오전 9:00:00</td>\n      <td>2021-10-01 오후 5:31:00</td>\n      <td>2동 1구역</td>\n      <td>옥상층</td>\n      <td>방범시스템</td>\n      <td>CCTV 카메라</td>\n      <td>...</td>\n      <td>통신</td>\n      <td>방범설비</td>\n      <td>방범시스템</td>\n      <td>CCTV 카메라</td>\n      <td>1</td>\n      <td>IP카메라</td>\n      <td>방범</td>\n      <td>영상감지장치</td>\n      <td>CCTV</td>\n      <td>802001</td>\n    </tr>\n    <tr>\n      <th>3</th>\n      <td>211001-00070</td>\n      <td>2-1동 옥상층 66번 CCTV PTZ 동작 불량</td>\n      <td>2021-10-01</td>\n      <td>2021-10-01</td>\n      <td>2021-10-01 오전 9:00:00</td>\n      <td>2021-10-01 오후 5:31:00</td>\n      <td>2동 1구역</td>\n      <td>옥상층</td>\n      <td>방범시스템</td>\n      <td>CCTV 카메라</td>\n      <td>...</td>\n      <td>통신</td>\n      <td>방범설비</td>\n      <td>방범시스템</td>\n      <td>CCTV 카메라</td>\n      <td>1</td>\n      <td>절연테이프</td>\n      <td>전기</td>\n      <td>절연재료</td>\n      <td>테이프</td>\n      <td>407001</td>\n    </tr>\n    <tr>\n      <th>4</th>\n      <td>211001-00062</td>\n      <td>9동 701호해양수산사이버안전센터 분말소화기 받침대 노후로 신품교체.</td>\n      <td>2021-10-01</td>\n      <td>2021-10-01</td>\n      <td>2021-10-01 오후 3:30:00</td>\n      <td>2021-10-01 오후 4:09:00</td>\n      <td>9동</td>\n      <td>7층</td>\n      <td>소화기구</td>\n      <td>이동식</td>\n      <td>...</td>\n      <td>방재</td>\n      <td>소화설비</td>\n      <td>소화기구</td>\n      <td>이동식</td>\n      <td>1</td>\n      <td>소화기받침대</td>\n      <td>소방</td>\n      <td>소화기구</td>\n      <td>소화기구부품</td>\n      <td>505009</td>\n    </tr>\n  </tbody>\n</table>\n<p>5 rows × 24 columns</p>\n</div>"
     },
     "execution_count": 255,
     "metadata": {},
     "output_type": "execute_result"
    }
   ],
   "source": [
    "final.head()"
   ],
   "metadata": {
    "collapsed": false
   }
  },
  {
   "cell_type": "code",
   "execution_count": 256,
   "outputs": [
    {
     "data": {
      "text/plain": "         job_cd                            job_nm job_jisi_dt   job_enddt  \\\n0  211001-00047         2동 1구역 430호 남자화장실 비데 전열불량  2021-10-01  2021-10-01   \n1  211001-00059      4동 지하 1층 전기원휴게실내 샤워장 전등점등불량.  2021-10-01  2021-10-01   \n2  211001-00037         4동 608호 정책조정기획관실 전등 점등 불량  2021-10-01  2021-10-01   \n3  211001-00081  1동 1구역 2층 복도내 거실통로유도등 점등불량 교체 작업  2021-10-01  2021-10-01   \n4  211001-00070       2-1동 옥상층 66번 CCTV PTZ 동작 불량  2021-10-01  2021-10-01   \n\n                 job_shm                job_ehm job_class_nm_1 job_class_nm_2  \\\n0  2021-10-01 오후 2:30:00  2021-10-01 오후 2:40:00         2동 1구역             4층   \n1  2021-10-01 오전 9:00:00  2021-10-01 오전 9:30:00             4동           지하1층   \n2  2021-10-01 오후 2:25:00  2021-10-01 오후 3:25:00             4동             6층   \n3  2021-10-01 오후 1:30:00  2021-10-01 오후 1:45:00         1동 1구역             2층   \n4  2021-10-01 오전 9:00:00  2021-10-01 오후 5:31:00         2동 1구역            옥상층   \n\n  job_class_nm_3 job_class_nm_4  ... chg_sysdt   input_emp_no  chg_emp_no  \\\n0            분전반           EPS실  ...       NaN  crowonthetree         NaN   \n1             조명      옥내 LED 조명  ...       NaN    dlawowls100         NaN   \n2             조명      옥내 LED 조명  ...       NaN         Jk1495         NaN   \n3            유도등       거실통로 유도등  ...       NaN       skysen83         NaN   \n4          방범시스템       CCTV 카메라  ...       NaN       hugh7192         NaN   \n\n  input_scr_nm        fac_nm jangbi_class_nm_1  jangbi_class_nm_2  \\\n0      JOB_A11     LN-4E1(E)                전기             전력공급설비   \n1      JOB_A11  4동 지하1층 조명기구                전기             전력부하설비   \n2      JOB_A11    4동 6층 조명기구                전기             전력부하설비   \n3      JOB_A11  1동  거실통로 유도등                방재               피난설비   \n4      JOB_A11   2동 CCTV #66                통신               방범설비   \n\n  jangbi_class_nm_3 jangbi_class_nm_4 자재매칭여부  \n0               분전반              EPS실      0  \n1                조명         옥내 LED 조명      1  \n2                조명         옥내 LED 조명      0  \n3               유도등          거실통로 유도등      1  \n4             방범시스템          CCTV 카메라      1  \n\n[5 rows x 24 columns]",
      "text/html": "<div>\n<style scoped>\n    .dataframe tbody tr th:only-of-type {\n        vertical-align: middle;\n    }\n\n    .dataframe tbody tr th {\n        vertical-align: top;\n    }\n\n    .dataframe thead th {\n        text-align: right;\n    }\n</style>\n<table border=\"1\" class=\"dataframe\">\n  <thead>\n    <tr style=\"text-align: right;\">\n      <th></th>\n      <th>job_cd</th>\n      <th>job_nm</th>\n      <th>job_jisi_dt</th>\n      <th>job_enddt</th>\n      <th>job_shm</th>\n      <th>job_ehm</th>\n      <th>job_class_nm_1</th>\n      <th>job_class_nm_2</th>\n      <th>job_class_nm_3</th>\n      <th>job_class_nm_4</th>\n      <th>...</th>\n      <th>chg_sysdt</th>\n      <th>input_emp_no</th>\n      <th>chg_emp_no</th>\n      <th>input_scr_nm</th>\n      <th>fac_nm</th>\n      <th>jangbi_class_nm_1</th>\n      <th>jangbi_class_nm_2</th>\n      <th>jangbi_class_nm_3</th>\n      <th>jangbi_class_nm_4</th>\n      <th>자재매칭여부</th>\n    </tr>\n  </thead>\n  <tbody>\n    <tr>\n      <th>0</th>\n      <td>211001-00047</td>\n      <td>2동 1구역 430호 남자화장실 비데 전열불량</td>\n      <td>2021-10-01</td>\n      <td>2021-10-01</td>\n      <td>2021-10-01 오후 2:30:00</td>\n      <td>2021-10-01 오후 2:40:00</td>\n      <td>2동 1구역</td>\n      <td>4층</td>\n      <td>분전반</td>\n      <td>EPS실</td>\n      <td>...</td>\n      <td>NaN</td>\n      <td>crowonthetree</td>\n      <td>NaN</td>\n      <td>JOB_A11</td>\n      <td>LN-4E1(E)</td>\n      <td>전기</td>\n      <td>전력공급설비</td>\n      <td>분전반</td>\n      <td>EPS실</td>\n      <td>0</td>\n    </tr>\n    <tr>\n      <th>1</th>\n      <td>211001-00059</td>\n      <td>4동 지하 1층 전기원휴게실내 샤워장 전등점등불량.</td>\n      <td>2021-10-01</td>\n      <td>2021-10-01</td>\n      <td>2021-10-01 오전 9:00:00</td>\n      <td>2021-10-01 오전 9:30:00</td>\n      <td>4동</td>\n      <td>지하1층</td>\n      <td>조명</td>\n      <td>옥내 LED 조명</td>\n      <td>...</td>\n      <td>NaN</td>\n      <td>dlawowls100</td>\n      <td>NaN</td>\n      <td>JOB_A11</td>\n      <td>4동 지하1층 조명기구</td>\n      <td>전기</td>\n      <td>전력부하설비</td>\n      <td>조명</td>\n      <td>옥내 LED 조명</td>\n      <td>1</td>\n    </tr>\n    <tr>\n      <th>2</th>\n      <td>211001-00037</td>\n      <td>4동 608호 정책조정기획관실 전등 점등 불량</td>\n      <td>2021-10-01</td>\n      <td>2021-10-01</td>\n      <td>2021-10-01 오후 2:25:00</td>\n      <td>2021-10-01 오후 3:25:00</td>\n      <td>4동</td>\n      <td>6층</td>\n      <td>조명</td>\n      <td>옥내 LED 조명</td>\n      <td>...</td>\n      <td>NaN</td>\n      <td>Jk1495</td>\n      <td>NaN</td>\n      <td>JOB_A11</td>\n      <td>4동 6층 조명기구</td>\n      <td>전기</td>\n      <td>전력부하설비</td>\n      <td>조명</td>\n      <td>옥내 LED 조명</td>\n      <td>0</td>\n    </tr>\n    <tr>\n      <th>3</th>\n      <td>211001-00081</td>\n      <td>1동 1구역 2층 복도내 거실통로유도등 점등불량 교체 작업</td>\n      <td>2021-10-01</td>\n      <td>2021-10-01</td>\n      <td>2021-10-01 오후 1:30:00</td>\n      <td>2021-10-01 오후 1:45:00</td>\n      <td>1동 1구역</td>\n      <td>2층</td>\n      <td>유도등</td>\n      <td>거실통로 유도등</td>\n      <td>...</td>\n      <td>NaN</td>\n      <td>skysen83</td>\n      <td>NaN</td>\n      <td>JOB_A11</td>\n      <td>1동  거실통로 유도등</td>\n      <td>방재</td>\n      <td>피난설비</td>\n      <td>유도등</td>\n      <td>거실통로 유도등</td>\n      <td>1</td>\n    </tr>\n    <tr>\n      <th>4</th>\n      <td>211001-00070</td>\n      <td>2-1동 옥상층 66번 CCTV PTZ 동작 불량</td>\n      <td>2021-10-01</td>\n      <td>2021-10-01</td>\n      <td>2021-10-01 오전 9:00:00</td>\n      <td>2021-10-01 오후 5:31:00</td>\n      <td>2동 1구역</td>\n      <td>옥상층</td>\n      <td>방범시스템</td>\n      <td>CCTV 카메라</td>\n      <td>...</td>\n      <td>NaN</td>\n      <td>hugh7192</td>\n      <td>NaN</td>\n      <td>JOB_A11</td>\n      <td>2동 CCTV #66</td>\n      <td>통신</td>\n      <td>방범설비</td>\n      <td>방범시스템</td>\n      <td>CCTV 카메라</td>\n      <td>1</td>\n    </tr>\n  </tbody>\n</table>\n<p>5 rows × 24 columns</p>\n</div>"
     },
     "execution_count": 256,
     "metadata": {},
     "output_type": "execute_result"
    }
   ],
   "source": [
    "data.head()"
   ],
   "metadata": {
    "collapsed": false
   }
  },
  {
   "cell_type": "markdown",
   "source": [
    "## 장애가 많은 구역 조회"
   ],
   "metadata": {
    "collapsed": false
   }
  },
  {
   "cell_type": "code",
   "execution_count": 257,
   "outputs": [
    {
     "data": {
      "text/plain": "7-2동            667\n16동             648\n13-1동           475\n17-2동           403\n7-1동            351\n11-1동           318\n8-1동            307\n옥외체육시설          278\n10-1동           277\n17-1동           195\n4동              188\n9동              186\n17-3동           166\n14-1동           159\n15-2동           129\nSCC전시동          128\n13-2동           121\n6동 2구역          119\n11-2동           105\n1동 2구역           99\n14-2동            94\n15-1동            90\n2동 1구역           83\n12-3동            78\n복합편의시설 주차1동      75\n복합편의시설 주차2동      73\n13-3동            70\n1동 1구역           67\n6동 3구역           63\n5동 2구역           61\n복합편의시설 주차4동      57\n2동 2구역           53\n14-3동            53\n3동               52\n꿈샘 어린이집          48\n12-2동            46\n1동 3구역           43\n10-2동            41\n6동 1구역           40\n5동 1구역           36\nSCC지원동           35\nSCC홍보동           33\n5동 3구역           29\n경비대              27\n안내동              27\n아이세상어린이집         21\n솔비타어린이집          21\n차오름 어린이집         17\n복합편의시설 주차3동      16\n라온 어린이집          14\n온실동              10\n15-3동             9\n예그리나어린이집          8\n12-1동             8\n대강당               7\n이든샘어린이집           5\n8-2동              1\ntest건물(사용금지)      1\nName: job_class_nm_1, dtype: int64"
     },
     "execution_count": 257,
     "metadata": {},
     "output_type": "execute_result"
    }
   ],
   "source": [
    "data['job_class_nm_1'].value_counts()"
   ],
   "metadata": {
    "collapsed": false
   }
  },
  {
   "cell_type": "markdown",
   "source": [
    "## 장애가 많은 장비 조회"
   ],
   "metadata": {
    "collapsed": false
   }
  },
  {
   "cell_type": "code",
   "execution_count": 258,
   "outputs": [
    {
     "data": {
      "text/plain": "소변기           488\n세면대 수전        462\n대변기           432\n냉각탑           349\n개별냉난방기 실내기    309\n             ... \n조명제어            1\n캐비넷             1\n통신(방송)실         1\n기타설비            1\n쓰레기 이송설비        1\nName: jangbi_class_nm_4, Length: 155, dtype: int64"
     },
     "execution_count": 258,
     "metadata": {},
     "output_type": "execute_result"
    }
   ],
   "source": [
    "# 계층레벨4\n",
    "data['jangbi_class_nm_4'].value_counts()"
   ],
   "metadata": {
    "collapsed": false
   }
  },
  {
   "cell_type": "code",
   "execution_count": 259,
   "outputs": [
    {
     "data": {
      "text/plain": "위생설비         1692\n출입통제시스템       516\n열원설비          506\n개별냉난방설비       473\n분전반           414\n방범시스템         413\n공조설비          357\nMRL           287\n유도등           285\n펌프설비          276\n조명            246\n자동화재탐지설비      187\n환기설비          159\n탱크설비          134\nMR            108\n소화기구          100\n주방시설           72\n스프링클러설비        66\n부속시설           64\n예비전원           47\n원격감시           41\n로프식            33\n내벽마감재          30\n구내방송시스템        27\n기타             24\n홍보시스템          22\n자동제어설비         20\n방호, 안전시설       20\n수배전반           20\n소방선로           19\n소화펌프           18\n비상경보설비         16\n조경시설           13\n방화셔터설비         12\n네트워크시스템        12\n동력반            11\n소화가스설비         10\n소화전설비          10\n소화수조            9\n영상, 음향시스템       7\n덤웨이터            7\n감시반             7\nMCC반            6\n배연창             6\n제연설비            4\n기타시스템           4\n신재생에너지          4\n비상조명등           3\n피난기구            3\n에스컬레이터          2\n원격제어            2\n통합SI시스템         2\n휠체어리프트          2\n기타시설            1\n배관설비            1\n유압식             1\nName: jangbi_class_nm_3, dtype: int64"
     },
     "execution_count": 259,
     "metadata": {},
     "output_type": "execute_result"
    }
   ],
   "source": [
    "#계층레벨3\n",
    "data['jangbi_class_nm_3'].value_counts()"
   ],
   "metadata": {
    "collapsed": false
   }
  },
  {
   "cell_type": "code",
   "execution_count": 260,
   "outputs": [],
   "source": [
    "소변기 = fmsx05[fmsx05['jangbi_class_nm_4'] == '소변기']"
   ],
   "metadata": {
    "collapsed": false
   }
  },
  {
   "cell_type": "markdown",
   "source": [
    "## 장비분석"
   ],
   "metadata": {
    "collapsed": false
   }
  },
  {
   "cell_type": "code",
   "execution_count": 261,
   "outputs": [
    {
     "data": {
      "text/plain": "             fac_cd                            fac_nm jangbi_class_nm_1  \\\n8      200201020387     (컨홍)소-B1(남)P118호-화장실) 소변기 2대                 기계   \n439    200201020002   (1)소-1-B1(남)B28-화장실)(소산실) 소변기 1                기계   \n440    200201020001  (1)소-1-B1(남)B12-화장실)(소산실) 소변기 1                 기계   \n704    200201020005    (1)소-1-1F(남)110호로비-화장실) 소변기 5                 기계   \n937    200201020008      (1)소-1-2F(남)217호-화장실) 소변기 3                 기계   \n...             ...                               ...               ...   \n40037  200201020351     (컨전)소-2F(남)223호옆-화장실) 소변기 2대                 기계   \n40038  200201020331     (컨전)소-2F(남)207호옆-화장실) 소변기 3대                 기계   \n40239  200201020356     (컨전)소-3F(남)307호옆-화장실) 소변기 2대                 기계   \n40391  200201020358      (컨전)소-4F(남)433앞-화장실) 소변기 4대                 기계   \n40392  200201020361      (컨전)소-4F(남)430앞-화장실) 소변기 4대                 기계   \n\n      jangbi_class_nm_2 jangbi_class_nm_3 jangbi_class_nm_4  \n8              위생, 탱크설비              위생설비               소변기  \n439            위생, 탱크설비              위생설비               소변기  \n440            위생, 탱크설비              위생설비               소변기  \n704            위생, 탱크설비              위생설비               소변기  \n937            위생, 탱크설비              위생설비               소변기  \n...                 ...               ...               ...  \n40037          위생, 탱크설비              위생설비               소변기  \n40038          위생, 탱크설비              위생설비               소변기  \n40239          위생, 탱크설비              위생설비               소변기  \n40391          위생, 탱크설비              위생설비               소변기  \n40392          위생, 탱크설비              위생설비               소변기  \n\n[564 rows x 6 columns]",
      "text/html": "<div>\n<style scoped>\n    .dataframe tbody tr th:only-of-type {\n        vertical-align: middle;\n    }\n\n    .dataframe tbody tr th {\n        vertical-align: top;\n    }\n\n    .dataframe thead th {\n        text-align: right;\n    }\n</style>\n<table border=\"1\" class=\"dataframe\">\n  <thead>\n    <tr style=\"text-align: right;\">\n      <th></th>\n      <th>fac_cd</th>\n      <th>fac_nm</th>\n      <th>jangbi_class_nm_1</th>\n      <th>jangbi_class_nm_2</th>\n      <th>jangbi_class_nm_3</th>\n      <th>jangbi_class_nm_4</th>\n    </tr>\n  </thead>\n  <tbody>\n    <tr>\n      <th>8</th>\n      <td>200201020387</td>\n      <td>(컨홍)소-B1(남)P118호-화장실) 소변기 2대</td>\n      <td>기계</td>\n      <td>위생, 탱크설비</td>\n      <td>위생설비</td>\n      <td>소변기</td>\n    </tr>\n    <tr>\n      <th>439</th>\n      <td>200201020002</td>\n      <td>(1)소-1-B1(남)B28-화장실)(소산실) 소변기 1</td>\n      <td>기계</td>\n      <td>위생, 탱크설비</td>\n      <td>위생설비</td>\n      <td>소변기</td>\n    </tr>\n    <tr>\n      <th>440</th>\n      <td>200201020001</td>\n      <td>(1)소-1-B1(남)B12-화장실)(소산실) 소변기 1</td>\n      <td>기계</td>\n      <td>위생, 탱크설비</td>\n      <td>위생설비</td>\n      <td>소변기</td>\n    </tr>\n    <tr>\n      <th>704</th>\n      <td>200201020005</td>\n      <td>(1)소-1-1F(남)110호로비-화장실) 소변기 5</td>\n      <td>기계</td>\n      <td>위생, 탱크설비</td>\n      <td>위생설비</td>\n      <td>소변기</td>\n    </tr>\n    <tr>\n      <th>937</th>\n      <td>200201020008</td>\n      <td>(1)소-1-2F(남)217호-화장실) 소변기 3</td>\n      <td>기계</td>\n      <td>위생, 탱크설비</td>\n      <td>위생설비</td>\n      <td>소변기</td>\n    </tr>\n    <tr>\n      <th>...</th>\n      <td>...</td>\n      <td>...</td>\n      <td>...</td>\n      <td>...</td>\n      <td>...</td>\n      <td>...</td>\n    </tr>\n    <tr>\n      <th>40037</th>\n      <td>200201020351</td>\n      <td>(컨전)소-2F(남)223호옆-화장실) 소변기 2대</td>\n      <td>기계</td>\n      <td>위생, 탱크설비</td>\n      <td>위생설비</td>\n      <td>소변기</td>\n    </tr>\n    <tr>\n      <th>40038</th>\n      <td>200201020331</td>\n      <td>(컨전)소-2F(남)207호옆-화장실) 소변기 3대</td>\n      <td>기계</td>\n      <td>위생, 탱크설비</td>\n      <td>위생설비</td>\n      <td>소변기</td>\n    </tr>\n    <tr>\n      <th>40239</th>\n      <td>200201020356</td>\n      <td>(컨전)소-3F(남)307호옆-화장실) 소변기 2대</td>\n      <td>기계</td>\n      <td>위생, 탱크설비</td>\n      <td>위생설비</td>\n      <td>소변기</td>\n    </tr>\n    <tr>\n      <th>40391</th>\n      <td>200201020358</td>\n      <td>(컨전)소-4F(남)433앞-화장실) 소변기 4대</td>\n      <td>기계</td>\n      <td>위생, 탱크설비</td>\n      <td>위생설비</td>\n      <td>소변기</td>\n    </tr>\n    <tr>\n      <th>40392</th>\n      <td>200201020361</td>\n      <td>(컨전)소-4F(남)430앞-화장실) 소변기 4대</td>\n      <td>기계</td>\n      <td>위생, 탱크설비</td>\n      <td>위생설비</td>\n      <td>소변기</td>\n    </tr>\n  </tbody>\n</table>\n<p>564 rows × 6 columns</p>\n</div>"
     },
     "execution_count": 261,
     "metadata": {},
     "output_type": "execute_result"
    }
   ],
   "source": [
    "소변기"
   ],
   "metadata": {
    "collapsed": false
   }
  },
  {
   "cell_type": "code",
   "execution_count": 262,
   "outputs": [],
   "source": [
    "소변기_장애 =data[data['jangbi_class_nm_4']=='소변기']"
   ],
   "metadata": {
    "collapsed": false
   }
  },
  {
   "cell_type": "code",
   "execution_count": 264,
   "outputs": [
    {
     "data": {
      "text/plain": "            job_cd                          job_nm job_jisi_dt   job_enddt  \\\n10    211001-00017   9동 5-2, 5-4 남자 화장실  소변기 물이 약함  2021-10-01  2021-10-01   \n12    211001-00033       13-1동 4-6 남자화장실 소변기 물 안나옴  2021-10-01  2021-10-01   \n13    211001-00034       13-1동 6-6 남자화장실 소변기 물 안나옴  2021-10-01  2021-10-01   \n58    211005-00028   14동 4-8 남자화장실 소변기 막힘 약품 처리 작업  2021-10-05  2021-10-05   \n59    211005-00014   15-1동 2-8 남자화장실 소변기 건전지 교체 작업  2021-10-05  2021-10-05   \n...            ...                             ...         ...         ...   \n6792  221007-00001   8동 3층 남자화장실 두번째,세번째 소변기 물 안내감  2022-10-07  2022-10-07   \n6793  221007-00018  9동 4-2 남자화장실 소변기 누수되어 전자밸브 수리함  2022-10-07  2022-10-07   \n6810  221007-00025    17-2동 6층 남자화장실 소변기 2대 물 양 적음  2022-10-07  2022-10-07   \n6822  221011-00037         11동 1-2 남자화장실 소변기 물 안나옴  2022-10-11  2022-10-11   \n6825  221011-00020         12동 4-1 남자화장실 소변기 뒤쪽 누수  2022-10-11  2022-10-11   \n\n                     job_shm                 job_ehm job_class_nm_1  \\\n10     2021-10-01 오후 1:10:00   2021-10-01 오후 1:40:00             9동   \n12     2021-10-01 오후 1:30:00   2021-10-01 오후 2:30:00          13-1동   \n13     2021-10-01 오전 9:30:00  2021-10-01 오전 10:30:00          13-1동   \n58     2021-10-05 오후 2:35:00   2021-10-05 오후 3:35:00          14-2동   \n59     2021-10-05 오전 9:30:00  2021-10-05 오전 10:00:00          15-1동   \n...                      ...                     ...            ...   \n6792   2022-10-07 오전 9:20:00   2022-10-07 오전 9:55:00           8-1동   \n6793   2022-10-07 오후 1:05:00   2022-10-07 오후 1:50:00             9동   \n6810   2022-10-07 오후 1:25:00   2022-10-07 오후 1:40:00          17-2동   \n6822   2022-10-11 오전 9:50:00  2022-10-11 오전 10:10:00          11-1동   \n6825  2022-10-11 오전 10:30:00  2022-10-11 오전 11:00:00          12-3동   \n\n     job_class_nm_2 job_class_nm_3 job_class_nm_4  ... chg_sysdt  \\\n10               5층           위생설비            소변기  ...       NaN   \n12               4층           위생설비            소변기  ...       NaN   \n13               6층           위생설비            소변기  ...       NaN   \n58               4층           위생설비            소변기  ...       NaN   \n59               2층           위생설비            소변기  ...       NaN   \n...             ...            ...            ...  ...       ...   \n6792             3층           위생설비            소변기  ...       NaN   \n6793             4층           위생설비            소변기  ...       NaN   \n6810             6층           위생설비            소변기  ...       NaN   \n6822             1층           위생설비            소변기  ...       NaN   \n6825             4층           위생설비            소변기  ...       NaN   \n\n      input_emp_no  chg_emp_no input_scr_nm              fac_nm  \\\n10         nodong1         NaN      JOB_A11  9동-5F-2 화장실(남) 소변기   \n12         jyz6110         NaN      JOB_A11             소변기 #20   \n13         jyz6110         NaN      JOB_A11             소변기 #29   \n58          31abcd         NaN      JOB_A11  14동-4F-8 화장실(남)소변기   \n59          31abcd         NaN      JOB_A11  15동-2F-8 화장실(남)소변기   \n...            ...         ...          ...                 ...   \n6792      6ehd9627         NaN      JOB_A11   8동-3F-1 화장실(남)소변기   \n6793       4heaven         NaN      JOB_A11  9동-4F-2 화장실(남) 소변기   \n6810   golfman1999         NaN      JOB_A11          6F남2소변기(1)   \n6822       4heaven         NaN      JOB_A11  11동-1F-2 화장실(남)소변기   \n6825    rhkdtlr761         NaN      JOB_A11             소변기 #07   \n\n     jangbi_class_nm_1  jangbi_class_nm_2 jangbi_class_nm_3 jangbi_class_nm_4  \\\n10                  기계           위생, 탱크설비              위생설비               소변기   \n12                  기계           위생, 탱크설비              위생설비               소변기   \n13                  기계           위생, 탱크설비              위생설비               소변기   \n58                  기계           위생, 탱크설비              위생설비               소변기   \n59                  기계           위생, 탱크설비              위생설비               소변기   \n...                ...                ...               ...               ...   \n6792                기계           위생, 탱크설비              위생설비               소변기   \n6793                기계           위생, 탱크설비              위생설비               소변기   \n6810                기계           위생, 탱크설비              위생설비               소변기   \n6822                기계           위생, 탱크설비              위생설비               소변기   \n6825                기계           위생, 탱크설비              위생설비               소변기   \n\n     자재매칭여부  \n10        0  \n12        0  \n13        0  \n58        1  \n59        1  \n...     ...  \n6792      1  \n6793      0  \n6810      0  \n6822      1  \n6825      0  \n\n[488 rows x 24 columns]",
      "text/html": "<div>\n<style scoped>\n    .dataframe tbody tr th:only-of-type {\n        vertical-align: middle;\n    }\n\n    .dataframe tbody tr th {\n        vertical-align: top;\n    }\n\n    .dataframe thead th {\n        text-align: right;\n    }\n</style>\n<table border=\"1\" class=\"dataframe\">\n  <thead>\n    <tr style=\"text-align: right;\">\n      <th></th>\n      <th>job_cd</th>\n      <th>job_nm</th>\n      <th>job_jisi_dt</th>\n      <th>job_enddt</th>\n      <th>job_shm</th>\n      <th>job_ehm</th>\n      <th>job_class_nm_1</th>\n      <th>job_class_nm_2</th>\n      <th>job_class_nm_3</th>\n      <th>job_class_nm_4</th>\n      <th>...</th>\n      <th>chg_sysdt</th>\n      <th>input_emp_no</th>\n      <th>chg_emp_no</th>\n      <th>input_scr_nm</th>\n      <th>fac_nm</th>\n      <th>jangbi_class_nm_1</th>\n      <th>jangbi_class_nm_2</th>\n      <th>jangbi_class_nm_3</th>\n      <th>jangbi_class_nm_4</th>\n      <th>자재매칭여부</th>\n    </tr>\n  </thead>\n  <tbody>\n    <tr>\n      <th>10</th>\n      <td>211001-00017</td>\n      <td>9동 5-2, 5-4 남자 화장실  소변기 물이 약함</td>\n      <td>2021-10-01</td>\n      <td>2021-10-01</td>\n      <td>2021-10-01 오후 1:10:00</td>\n      <td>2021-10-01 오후 1:40:00</td>\n      <td>9동</td>\n      <td>5층</td>\n      <td>위생설비</td>\n      <td>소변기</td>\n      <td>...</td>\n      <td>NaN</td>\n      <td>nodong1</td>\n      <td>NaN</td>\n      <td>JOB_A11</td>\n      <td>9동-5F-2 화장실(남) 소변기</td>\n      <td>기계</td>\n      <td>위생, 탱크설비</td>\n      <td>위생설비</td>\n      <td>소변기</td>\n      <td>0</td>\n    </tr>\n    <tr>\n      <th>12</th>\n      <td>211001-00033</td>\n      <td>13-1동 4-6 남자화장실 소변기 물 안나옴</td>\n      <td>2021-10-01</td>\n      <td>2021-10-01</td>\n      <td>2021-10-01 오후 1:30:00</td>\n      <td>2021-10-01 오후 2:30:00</td>\n      <td>13-1동</td>\n      <td>4층</td>\n      <td>위생설비</td>\n      <td>소변기</td>\n      <td>...</td>\n      <td>NaN</td>\n      <td>jyz6110</td>\n      <td>NaN</td>\n      <td>JOB_A11</td>\n      <td>소변기 #20</td>\n      <td>기계</td>\n      <td>위생, 탱크설비</td>\n      <td>위생설비</td>\n      <td>소변기</td>\n      <td>0</td>\n    </tr>\n    <tr>\n      <th>13</th>\n      <td>211001-00034</td>\n      <td>13-1동 6-6 남자화장실 소변기 물 안나옴</td>\n      <td>2021-10-01</td>\n      <td>2021-10-01</td>\n      <td>2021-10-01 오전 9:30:00</td>\n      <td>2021-10-01 오전 10:30:00</td>\n      <td>13-1동</td>\n      <td>6층</td>\n      <td>위생설비</td>\n      <td>소변기</td>\n      <td>...</td>\n      <td>NaN</td>\n      <td>jyz6110</td>\n      <td>NaN</td>\n      <td>JOB_A11</td>\n      <td>소변기 #29</td>\n      <td>기계</td>\n      <td>위생, 탱크설비</td>\n      <td>위생설비</td>\n      <td>소변기</td>\n      <td>0</td>\n    </tr>\n    <tr>\n      <th>58</th>\n      <td>211005-00028</td>\n      <td>14동 4-8 남자화장실 소변기 막힘 약품 처리 작업</td>\n      <td>2021-10-05</td>\n      <td>2021-10-05</td>\n      <td>2021-10-05 오후 2:35:00</td>\n      <td>2021-10-05 오후 3:35:00</td>\n      <td>14-2동</td>\n      <td>4층</td>\n      <td>위생설비</td>\n      <td>소변기</td>\n      <td>...</td>\n      <td>NaN</td>\n      <td>31abcd</td>\n      <td>NaN</td>\n      <td>JOB_A11</td>\n      <td>14동-4F-8 화장실(남)소변기</td>\n      <td>기계</td>\n      <td>위생, 탱크설비</td>\n      <td>위생설비</td>\n      <td>소변기</td>\n      <td>1</td>\n    </tr>\n    <tr>\n      <th>59</th>\n      <td>211005-00014</td>\n      <td>15-1동 2-8 남자화장실 소변기 건전지 교체 작업</td>\n      <td>2021-10-05</td>\n      <td>2021-10-05</td>\n      <td>2021-10-05 오전 9:30:00</td>\n      <td>2021-10-05 오전 10:00:00</td>\n      <td>15-1동</td>\n      <td>2층</td>\n      <td>위생설비</td>\n      <td>소변기</td>\n      <td>...</td>\n      <td>NaN</td>\n      <td>31abcd</td>\n      <td>NaN</td>\n      <td>JOB_A11</td>\n      <td>15동-2F-8 화장실(남)소변기</td>\n      <td>기계</td>\n      <td>위생, 탱크설비</td>\n      <td>위생설비</td>\n      <td>소변기</td>\n      <td>1</td>\n    </tr>\n    <tr>\n      <th>...</th>\n      <td>...</td>\n      <td>...</td>\n      <td>...</td>\n      <td>...</td>\n      <td>...</td>\n      <td>...</td>\n      <td>...</td>\n      <td>...</td>\n      <td>...</td>\n      <td>...</td>\n      <td>...</td>\n      <td>...</td>\n      <td>...</td>\n      <td>...</td>\n      <td>...</td>\n      <td>...</td>\n      <td>...</td>\n      <td>...</td>\n      <td>...</td>\n      <td>...</td>\n      <td>...</td>\n    </tr>\n    <tr>\n      <th>6792</th>\n      <td>221007-00001</td>\n      <td>8동 3층 남자화장실 두번째,세번째 소변기 물 안내감</td>\n      <td>2022-10-07</td>\n      <td>2022-10-07</td>\n      <td>2022-10-07 오전 9:20:00</td>\n      <td>2022-10-07 오전 9:55:00</td>\n      <td>8-1동</td>\n      <td>3층</td>\n      <td>위생설비</td>\n      <td>소변기</td>\n      <td>...</td>\n      <td>NaN</td>\n      <td>6ehd9627</td>\n      <td>NaN</td>\n      <td>JOB_A11</td>\n      <td>8동-3F-1 화장실(남)소변기</td>\n      <td>기계</td>\n      <td>위생, 탱크설비</td>\n      <td>위생설비</td>\n      <td>소변기</td>\n      <td>1</td>\n    </tr>\n    <tr>\n      <th>6793</th>\n      <td>221007-00018</td>\n      <td>9동 4-2 남자화장실 소변기 누수되어 전자밸브 수리함</td>\n      <td>2022-10-07</td>\n      <td>2022-10-07</td>\n      <td>2022-10-07 오후 1:05:00</td>\n      <td>2022-10-07 오후 1:50:00</td>\n      <td>9동</td>\n      <td>4층</td>\n      <td>위생설비</td>\n      <td>소변기</td>\n      <td>...</td>\n      <td>NaN</td>\n      <td>4heaven</td>\n      <td>NaN</td>\n      <td>JOB_A11</td>\n      <td>9동-4F-2 화장실(남) 소변기</td>\n      <td>기계</td>\n      <td>위생, 탱크설비</td>\n      <td>위생설비</td>\n      <td>소변기</td>\n      <td>0</td>\n    </tr>\n    <tr>\n      <th>6810</th>\n      <td>221007-00025</td>\n      <td>17-2동 6층 남자화장실 소변기 2대 물 양 적음</td>\n      <td>2022-10-07</td>\n      <td>2022-10-07</td>\n      <td>2022-10-07 오후 1:25:00</td>\n      <td>2022-10-07 오후 1:40:00</td>\n      <td>17-2동</td>\n      <td>6층</td>\n      <td>위생설비</td>\n      <td>소변기</td>\n      <td>...</td>\n      <td>NaN</td>\n      <td>golfman1999</td>\n      <td>NaN</td>\n      <td>JOB_A11</td>\n      <td>6F남2소변기(1)</td>\n      <td>기계</td>\n      <td>위생, 탱크설비</td>\n      <td>위생설비</td>\n      <td>소변기</td>\n      <td>0</td>\n    </tr>\n    <tr>\n      <th>6822</th>\n      <td>221011-00037</td>\n      <td>11동 1-2 남자화장실 소변기 물 안나옴</td>\n      <td>2022-10-11</td>\n      <td>2022-10-11</td>\n      <td>2022-10-11 오전 9:50:00</td>\n      <td>2022-10-11 오전 10:10:00</td>\n      <td>11-1동</td>\n      <td>1층</td>\n      <td>위생설비</td>\n      <td>소변기</td>\n      <td>...</td>\n      <td>NaN</td>\n      <td>4heaven</td>\n      <td>NaN</td>\n      <td>JOB_A11</td>\n      <td>11동-1F-2 화장실(남)소변기</td>\n      <td>기계</td>\n      <td>위생, 탱크설비</td>\n      <td>위생설비</td>\n      <td>소변기</td>\n      <td>1</td>\n    </tr>\n    <tr>\n      <th>6825</th>\n      <td>221011-00020</td>\n      <td>12동 4-1 남자화장실 소변기 뒤쪽 누수</td>\n      <td>2022-10-11</td>\n      <td>2022-10-11</td>\n      <td>2022-10-11 오전 10:30:00</td>\n      <td>2022-10-11 오전 11:00:00</td>\n      <td>12-3동</td>\n      <td>4층</td>\n      <td>위생설비</td>\n      <td>소변기</td>\n      <td>...</td>\n      <td>NaN</td>\n      <td>rhkdtlr761</td>\n      <td>NaN</td>\n      <td>JOB_A11</td>\n      <td>소변기 #07</td>\n      <td>기계</td>\n      <td>위생, 탱크설비</td>\n      <td>위생설비</td>\n      <td>소변기</td>\n      <td>0</td>\n    </tr>\n  </tbody>\n</table>\n<p>488 rows × 24 columns</p>\n</div>"
     },
     "execution_count": 264,
     "metadata": {},
     "output_type": "execute_result"
    }
   ],
   "source": [
    "소변기_장애 = 소변기_장애.sort_values('job_jisi_dt')\n",
    "소변기_장애"
   ],
   "metadata": {
    "collapsed": false
   }
  },
  {
   "cell_type": "code",
   "execution_count": 265,
   "outputs": [],
   "source": [
    "fac_list = []\n",
    "date_list =[]\n",
    "\n",
    "for i in range(len(소변기_장애)):\n",
    "    fac = 소변기_장애['fac_cd'].iloc[i]\n",
    "    date = 소변기_장애['job_jisi_dt'].iloc[i]\n",
    "    if fac not in fac_list:\n",
    "        fac_list.append(fac)\n",
    "        date_list.append(date)\n"
   ],
   "metadata": {
    "collapsed": false
   }
  },
  {
   "cell_type": "code",
   "execution_count": 266,
   "outputs": [
    {
     "data": {
      "text/plain": "221"
     },
     "execution_count": 266,
     "metadata": {},
     "output_type": "execute_result"
    }
   ],
   "source": [
    "len(fac_list)"
   ],
   "metadata": {
    "collapsed": false
   }
  },
  {
   "cell_type": "code",
   "execution_count": 267,
   "outputs": [
    {
     "data": {
      "text/plain": "           fac_cd        작업일자\n0    200201020248  2021-10-01\n1    200201020044  2021-10-01\n2    200201020055  2021-10-01\n3    200201020487  2021-10-05\n4    200201020516  2021-10-05\n..            ...         ...\n216  200201020419  2022-09-29\n217  200201020355  2022-10-05\n218  200201020025  2022-10-05\n219  200201020246  2022-10-07\n220  200201020231  2022-10-07\n\n[221 rows x 2 columns]",
      "text/html": "<div>\n<style scoped>\n    .dataframe tbody tr th:only-of-type {\n        vertical-align: middle;\n    }\n\n    .dataframe tbody tr th {\n        vertical-align: top;\n    }\n\n    .dataframe thead th {\n        text-align: right;\n    }\n</style>\n<table border=\"1\" class=\"dataframe\">\n  <thead>\n    <tr style=\"text-align: right;\">\n      <th></th>\n      <th>fac_cd</th>\n      <th>작업일자</th>\n    </tr>\n  </thead>\n  <tbody>\n    <tr>\n      <th>0</th>\n      <td>200201020248</td>\n      <td>2021-10-01</td>\n    </tr>\n    <tr>\n      <th>1</th>\n      <td>200201020044</td>\n      <td>2021-10-01</td>\n    </tr>\n    <tr>\n      <th>2</th>\n      <td>200201020055</td>\n      <td>2021-10-01</td>\n    </tr>\n    <tr>\n      <th>3</th>\n      <td>200201020487</td>\n      <td>2021-10-05</td>\n    </tr>\n    <tr>\n      <th>4</th>\n      <td>200201020516</td>\n      <td>2021-10-05</td>\n    </tr>\n    <tr>\n      <th>...</th>\n      <td>...</td>\n      <td>...</td>\n    </tr>\n    <tr>\n      <th>216</th>\n      <td>200201020419</td>\n      <td>2022-09-29</td>\n    </tr>\n    <tr>\n      <th>217</th>\n      <td>200201020355</td>\n      <td>2022-10-05</td>\n    </tr>\n    <tr>\n      <th>218</th>\n      <td>200201020025</td>\n      <td>2022-10-05</td>\n    </tr>\n    <tr>\n      <th>219</th>\n      <td>200201020246</td>\n      <td>2022-10-07</td>\n    </tr>\n    <tr>\n      <th>220</th>\n      <td>200201020231</td>\n      <td>2022-10-07</td>\n    </tr>\n  </tbody>\n</table>\n<p>221 rows × 2 columns</p>\n</div>"
     },
     "execution_count": 267,
     "metadata": {},
     "output_type": "execute_result"
    }
   ],
   "source": [
    "소변기2 = pd.DataFrame({'fac_cd' :fac_list,\n",
    "                     '작업일자' : date_list})\n",
    "소변기2"
   ],
   "metadata": {
    "collapsed": false
   }
  },
  {
   "cell_type": "code",
   "execution_count": 268,
   "outputs": [],
   "source": [
    "\n",
    "# 2021-10-01 ~ 2022-10-11\n",
    "# 기준일자 = 2022-10-11\n",
    "urinal = pd.merge(소변기,소변기2, on ='fac_cd', how ='left')\n",
    "urinal['작업일자'] = urinal['작업일자'].fillna('2022-10-11')"
   ],
   "metadata": {
    "collapsed": false
   }
  },
  {
   "cell_type": "code",
   "execution_count": 269,
   "outputs": [
    {
     "data": {
      "text/plain": "           fac_cd                            fac_nm jangbi_class_nm_1  \\\n0    200201020387     (컨홍)소-B1(남)P118호-화장실) 소변기 2대                 기계   \n1    200201020002   (1)소-1-B1(남)B28-화장실)(소산실) 소변기 1                기계   \n2    200201020001  (1)소-1-B1(남)B12-화장실)(소산실) 소변기 1                 기계   \n3    200201020005    (1)소-1-1F(남)110호로비-화장실) 소변기 5                 기계   \n4    200201020008      (1)소-1-2F(남)217호-화장실) 소변기 3                 기계   \n..            ...                               ...               ...   \n559  200201020351     (컨전)소-2F(남)223호옆-화장실) 소변기 2대                 기계   \n560  200201020331     (컨전)소-2F(남)207호옆-화장실) 소변기 3대                 기계   \n561  200201020356     (컨전)소-3F(남)307호옆-화장실) 소변기 2대                 기계   \n562  200201020358      (컨전)소-4F(남)433앞-화장실) 소변기 4대                 기계   \n563  200201020361      (컨전)소-4F(남)430앞-화장실) 소변기 4대                 기계   \n\n    jangbi_class_nm_2 jangbi_class_nm_3 jangbi_class_nm_4       작업일자  \\\n0            위생, 탱크설비              위생설비               소변기 2022-10-11   \n1            위생, 탱크설비              위생설비               소변기 2022-10-11   \n2            위생, 탱크설비              위생설비               소변기 2022-10-11   \n3            위생, 탱크설비              위생설비               소변기 2022-10-11   \n4            위생, 탱크설비              위생설비               소변기 2022-10-11   \n..                ...               ...               ...        ...   \n559          위생, 탱크설비              위생설비               소변기 2022-10-11   \n560          위생, 탱크설비              위생설비               소변기 2022-10-11   \n561          위생, 탱크설비              위생설비               소변기 2022-10-11   \n562          위생, 탱크설비              위생설비               소변기 2022-10-11   \n563          위생, 탱크설비              위생설비               소변기 2022-10-11   \n\n     time_delta  status  \n0           375       0  \n1           375       0  \n2           375       0  \n3           375       0  \n4           375       0  \n..          ...     ...  \n559         375       0  \n560         375       0  \n561         375       0  \n562         375       0  \n563         375       0  \n\n[564 rows x 9 columns]",
      "text/html": "<div>\n<style scoped>\n    .dataframe tbody tr th:only-of-type {\n        vertical-align: middle;\n    }\n\n    .dataframe tbody tr th {\n        vertical-align: top;\n    }\n\n    .dataframe thead th {\n        text-align: right;\n    }\n</style>\n<table border=\"1\" class=\"dataframe\">\n  <thead>\n    <tr style=\"text-align: right;\">\n      <th></th>\n      <th>fac_cd</th>\n      <th>fac_nm</th>\n      <th>jangbi_class_nm_1</th>\n      <th>jangbi_class_nm_2</th>\n      <th>jangbi_class_nm_3</th>\n      <th>jangbi_class_nm_4</th>\n      <th>작업일자</th>\n      <th>time_delta</th>\n      <th>status</th>\n    </tr>\n  </thead>\n  <tbody>\n    <tr>\n      <th>0</th>\n      <td>200201020387</td>\n      <td>(컨홍)소-B1(남)P118호-화장실) 소변기 2대</td>\n      <td>기계</td>\n      <td>위생, 탱크설비</td>\n      <td>위생설비</td>\n      <td>소변기</td>\n      <td>2022-10-11</td>\n      <td>375</td>\n      <td>0</td>\n    </tr>\n    <tr>\n      <th>1</th>\n      <td>200201020002</td>\n      <td>(1)소-1-B1(남)B28-화장실)(소산실) 소변기 1</td>\n      <td>기계</td>\n      <td>위생, 탱크설비</td>\n      <td>위생설비</td>\n      <td>소변기</td>\n      <td>2022-10-11</td>\n      <td>375</td>\n      <td>0</td>\n    </tr>\n    <tr>\n      <th>2</th>\n      <td>200201020001</td>\n      <td>(1)소-1-B1(남)B12-화장실)(소산실) 소변기 1</td>\n      <td>기계</td>\n      <td>위생, 탱크설비</td>\n      <td>위생설비</td>\n      <td>소변기</td>\n      <td>2022-10-11</td>\n      <td>375</td>\n      <td>0</td>\n    </tr>\n    <tr>\n      <th>3</th>\n      <td>200201020005</td>\n      <td>(1)소-1-1F(남)110호로비-화장실) 소변기 5</td>\n      <td>기계</td>\n      <td>위생, 탱크설비</td>\n      <td>위생설비</td>\n      <td>소변기</td>\n      <td>2022-10-11</td>\n      <td>375</td>\n      <td>0</td>\n    </tr>\n    <tr>\n      <th>4</th>\n      <td>200201020008</td>\n      <td>(1)소-1-2F(남)217호-화장실) 소변기 3</td>\n      <td>기계</td>\n      <td>위생, 탱크설비</td>\n      <td>위생설비</td>\n      <td>소변기</td>\n      <td>2022-10-11</td>\n      <td>375</td>\n      <td>0</td>\n    </tr>\n    <tr>\n      <th>...</th>\n      <td>...</td>\n      <td>...</td>\n      <td>...</td>\n      <td>...</td>\n      <td>...</td>\n      <td>...</td>\n      <td>...</td>\n      <td>...</td>\n      <td>...</td>\n    </tr>\n    <tr>\n      <th>559</th>\n      <td>200201020351</td>\n      <td>(컨전)소-2F(남)223호옆-화장실) 소변기 2대</td>\n      <td>기계</td>\n      <td>위생, 탱크설비</td>\n      <td>위생설비</td>\n      <td>소변기</td>\n      <td>2022-10-11</td>\n      <td>375</td>\n      <td>0</td>\n    </tr>\n    <tr>\n      <th>560</th>\n      <td>200201020331</td>\n      <td>(컨전)소-2F(남)207호옆-화장실) 소변기 3대</td>\n      <td>기계</td>\n      <td>위생, 탱크설비</td>\n      <td>위생설비</td>\n      <td>소변기</td>\n      <td>2022-10-11</td>\n      <td>375</td>\n      <td>0</td>\n    </tr>\n    <tr>\n      <th>561</th>\n      <td>200201020356</td>\n      <td>(컨전)소-3F(남)307호옆-화장실) 소변기 2대</td>\n      <td>기계</td>\n      <td>위생, 탱크설비</td>\n      <td>위생설비</td>\n      <td>소변기</td>\n      <td>2022-10-11</td>\n      <td>375</td>\n      <td>0</td>\n    </tr>\n    <tr>\n      <th>562</th>\n      <td>200201020358</td>\n      <td>(컨전)소-4F(남)433앞-화장실) 소변기 4대</td>\n      <td>기계</td>\n      <td>위생, 탱크설비</td>\n      <td>위생설비</td>\n      <td>소변기</td>\n      <td>2022-10-11</td>\n      <td>375</td>\n      <td>0</td>\n    </tr>\n    <tr>\n      <th>563</th>\n      <td>200201020361</td>\n      <td>(컨전)소-4F(남)430앞-화장실) 소변기 4대</td>\n      <td>기계</td>\n      <td>위생, 탱크설비</td>\n      <td>위생설비</td>\n      <td>소변기</td>\n      <td>2022-10-11</td>\n      <td>375</td>\n      <td>0</td>\n    </tr>\n  </tbody>\n</table>\n<p>564 rows × 9 columns</p>\n</div>"
     },
     "execution_count": 269,
     "metadata": {},
     "output_type": "execute_result"
    }
   ],
   "source": [
    "import datetime\n",
    "urinal['작업일자'] = pd.to_datetime(urinal['작업일자'])\n",
    "time = datetime.datetime(2021,10,1)\n",
    "urinal['time_delta']= urinal['작업일자']-time\n",
    "urinal['time_delta'] = urinal['time_delta'].astype(str)\n",
    "urinal['status'] = urinal['time_delta']\n",
    "\n",
    "def status(df):\n",
    "    if df['time_delta'] == '375 days':\n",
    "        return 0\n",
    "    else :\n",
    "        return 1\n",
    "def slicing(x):\n",
    "    return x[:-4]\n",
    "\n",
    "urinal['status'] =urinal.apply(status,axis=1)\n",
    "urinal['time_delta'] = urinal['time_delta'].apply(slicing)\n",
    "urinal['time_delta'] = urinal['time_delta'].astype(int)\n",
    "urinal\n"
   ],
   "metadata": {
    "collapsed": false
   }
  },
  {
   "cell_type": "markdown",
   "source": [
    "# 소변기가 고장나기 전까지의 일수"
   ],
   "metadata": {
    "collapsed": false
   }
  },
  {
   "cell_type": "code",
   "execution_count": 270,
   "outputs": [],
   "source": [
    "from lifelines import KaplanMeierFitter\n",
    "kmf = KaplanMeierFitter()"
   ],
   "metadata": {
    "collapsed": false
   }
  },
  {
   "cell_type": "code",
   "execution_count": 271,
   "outputs": [
    {
     "data": {
      "text/plain": "           fac_cd                          fac_nm jangbi_class_nm_1  \\\n310  200201020055                         소변기 #29                기계   \n304  200201020044                         소변기 #20                기계   \n193  200201020248              9동-5F-2 화장실(남) 소변기                기계   \n448  200201020292                      1F남3소변기(장)                기계   \n349  200201020487              14동-4F-8 화장실(남)소변기                기계   \n..            ...                             ...               ...   \n183  200201020258           9동-3F-2 화장실(남)장애인 소변기                기계   \n182  200201020255           9동-3F-4 화장실(남)장애인 소변기                기계   \n181  200201020254           9동-2F-2 화장실(남)장애인 소변기                기계   \n117  200201020233  (6)소-3-3F(남)365호옆-화장실) 소변기 2대                 기계   \n563  200201020361    (컨전)소-4F(남)430앞-화장실) 소변기 4대                 기계   \n\n    jangbi_class_nm_2 jangbi_class_nm_3 jangbi_class_nm_4       작업일자  \\\n310          위생, 탱크설비              위생설비               소변기 2021-10-01   \n304          위생, 탱크설비              위생설비               소변기 2021-10-01   \n193          위생, 탱크설비              위생설비               소변기 2021-10-01   \n448          위생, 탱크설비              위생설비               소변기 2021-10-05   \n349          위생, 탱크설비              위생설비               소변기 2021-10-05   \n..                ...               ...               ...        ...   \n183          위생, 탱크설비              위생설비               소변기 2022-10-11   \n182          위생, 탱크설비              위생설비               소변기 2022-10-11   \n181          위생, 탱크설비              위생설비               소변기 2022-10-11   \n117          위생, 탱크설비              위생설비               소변기 2022-10-11   \n563          위생, 탱크설비              위생설비               소변기 2022-10-11   \n\n     time_delta  status  \n310           0       1  \n304           0       1  \n193           0       1  \n448           4       1  \n349           4       1  \n..          ...     ...  \n183         375       0  \n182         375       0  \n181         375       0  \n117         375       0  \n563         375       0  \n\n[564 rows x 9 columns]",
      "text/html": "<div>\n<style scoped>\n    .dataframe tbody tr th:only-of-type {\n        vertical-align: middle;\n    }\n\n    .dataframe tbody tr th {\n        vertical-align: top;\n    }\n\n    .dataframe thead th {\n        text-align: right;\n    }\n</style>\n<table border=\"1\" class=\"dataframe\">\n  <thead>\n    <tr style=\"text-align: right;\">\n      <th></th>\n      <th>fac_cd</th>\n      <th>fac_nm</th>\n      <th>jangbi_class_nm_1</th>\n      <th>jangbi_class_nm_2</th>\n      <th>jangbi_class_nm_3</th>\n      <th>jangbi_class_nm_4</th>\n      <th>작업일자</th>\n      <th>time_delta</th>\n      <th>status</th>\n    </tr>\n  </thead>\n  <tbody>\n    <tr>\n      <th>310</th>\n      <td>200201020055</td>\n      <td>소변기 #29</td>\n      <td>기계</td>\n      <td>위생, 탱크설비</td>\n      <td>위생설비</td>\n      <td>소변기</td>\n      <td>2021-10-01</td>\n      <td>0</td>\n      <td>1</td>\n    </tr>\n    <tr>\n      <th>304</th>\n      <td>200201020044</td>\n      <td>소변기 #20</td>\n      <td>기계</td>\n      <td>위생, 탱크설비</td>\n      <td>위생설비</td>\n      <td>소변기</td>\n      <td>2021-10-01</td>\n      <td>0</td>\n      <td>1</td>\n    </tr>\n    <tr>\n      <th>193</th>\n      <td>200201020248</td>\n      <td>9동-5F-2 화장실(남) 소변기</td>\n      <td>기계</td>\n      <td>위생, 탱크설비</td>\n      <td>위생설비</td>\n      <td>소변기</td>\n      <td>2021-10-01</td>\n      <td>0</td>\n      <td>1</td>\n    </tr>\n    <tr>\n      <th>448</th>\n      <td>200201020292</td>\n      <td>1F남3소변기(장)</td>\n      <td>기계</td>\n      <td>위생, 탱크설비</td>\n      <td>위생설비</td>\n      <td>소변기</td>\n      <td>2021-10-05</td>\n      <td>4</td>\n      <td>1</td>\n    </tr>\n    <tr>\n      <th>349</th>\n      <td>200201020487</td>\n      <td>14동-4F-8 화장실(남)소변기</td>\n      <td>기계</td>\n      <td>위생, 탱크설비</td>\n      <td>위생설비</td>\n      <td>소변기</td>\n      <td>2021-10-05</td>\n      <td>4</td>\n      <td>1</td>\n    </tr>\n    <tr>\n      <th>...</th>\n      <td>...</td>\n      <td>...</td>\n      <td>...</td>\n      <td>...</td>\n      <td>...</td>\n      <td>...</td>\n      <td>...</td>\n      <td>...</td>\n      <td>...</td>\n    </tr>\n    <tr>\n      <th>183</th>\n      <td>200201020258</td>\n      <td>9동-3F-2 화장실(남)장애인 소변기</td>\n      <td>기계</td>\n      <td>위생, 탱크설비</td>\n      <td>위생설비</td>\n      <td>소변기</td>\n      <td>2022-10-11</td>\n      <td>375</td>\n      <td>0</td>\n    </tr>\n    <tr>\n      <th>182</th>\n      <td>200201020255</td>\n      <td>9동-3F-4 화장실(남)장애인 소변기</td>\n      <td>기계</td>\n      <td>위생, 탱크설비</td>\n      <td>위생설비</td>\n      <td>소변기</td>\n      <td>2022-10-11</td>\n      <td>375</td>\n      <td>0</td>\n    </tr>\n    <tr>\n      <th>181</th>\n      <td>200201020254</td>\n      <td>9동-2F-2 화장실(남)장애인 소변기</td>\n      <td>기계</td>\n      <td>위생, 탱크설비</td>\n      <td>위생설비</td>\n      <td>소변기</td>\n      <td>2022-10-11</td>\n      <td>375</td>\n      <td>0</td>\n    </tr>\n    <tr>\n      <th>117</th>\n      <td>200201020233</td>\n      <td>(6)소-3-3F(남)365호옆-화장실) 소변기 2대</td>\n      <td>기계</td>\n      <td>위생, 탱크설비</td>\n      <td>위생설비</td>\n      <td>소변기</td>\n      <td>2022-10-11</td>\n      <td>375</td>\n      <td>0</td>\n    </tr>\n    <tr>\n      <th>563</th>\n      <td>200201020361</td>\n      <td>(컨전)소-4F(남)430앞-화장실) 소변기 4대</td>\n      <td>기계</td>\n      <td>위생, 탱크설비</td>\n      <td>위생설비</td>\n      <td>소변기</td>\n      <td>2022-10-11</td>\n      <td>375</td>\n      <td>0</td>\n    </tr>\n  </tbody>\n</table>\n<p>564 rows × 9 columns</p>\n</div>"
     },
     "execution_count": 271,
     "metadata": {},
     "output_type": "execute_result"
    }
   ],
   "source": [
    "urinal.sort_values(by='time_delta', ascending=True)"
   ],
   "metadata": {
    "collapsed": false
   }
  },
  {
   "cell_type": "code",
   "execution_count": 272,
   "outputs": [
    {
     "data": {
      "text/plain": "<AxesSubplot:xlabel='timeline'>"
     },
     "execution_count": 272,
     "metadata": {},
     "output_type": "execute_result"
    },
    {
     "data": {
      "text/plain": "<Figure size 640x480 with 1 Axes>",
      "image/png": "[encoded data removed]"
     },
     "metadata": {},
     "output_type": "display_data"
    }
   ],
   "source": [
    "kmf.fit(durations=urinal['time_delta'], event_observed=urinal['status'])\n",
    "kmf.plot_survival_function()"
   ],
   "metadata": {
    "collapsed": false
   }
  },
  {
   "cell_type": "code",
   "execution_count": 279,
   "outputs": [
    {
     "name": "stdout",
     "output_type": "stream",
     "text": [
      "0일 후 고장날 확률 : 0.005319148936170914\n",
      "1일 후 고장날 확률 : 0.005319148936170914\n",
      "2일 후 고장날 확률 : 0.005319148936170914\n",
      "3일 후 고장날 확률 : 0.005319148936170914\n",
      "4일 후 고장날 확률 : 0.01063829787234094\n",
      "5일 후 고장날 확률 : 0.023049645390070927\n",
      "6일 후 고장날 확률 : 0.030141843971631554\n",
      "7일 후 고장날 확률 : 0.03191489361702149\n",
      "8일 후 고장날 확률 : 0.03191489361702149\n",
      "9일 후 고장날 확률 : 0.03191489361702149\n",
      "10일 후 고장날 확률 : 0.03191489361702149\n",
      "11일 후 고장날 확률 : 0.040780141843972384\n",
      "12일 후 고장날 확률 : 0.04255319148936165\n",
      "13일 후 고장날 확률 : 0.04964539007092239\n",
      "14일 후 고장날 확률 : 0.04964539007092239\n",
      "15일 후 고장날 확률 : 0.04964539007092239\n",
      "16일 후 고장날 확률 : 0.04964539007092239\n",
      "17일 후 고장날 확률 : 0.05496453900709275\n",
      "18일 후 고장날 확률 : 0.05496453900709275\n",
      "19일 후 고장날 확률 : 0.05851063829787262\n",
      "20일 후 고장날 확률 : 0.060283687943262776\n",
      "21일 후 고장날 확률 : 0.060283687943262776\n",
      "22일 후 고장날 확률 : 0.060283687943262776\n",
      "23일 후 고장날 확률 : 0.060283687943262776\n",
      "24일 후 고장날 확률 : 0.06737588652482274\n",
      "25일 후 고장날 확률 : 0.06737588652482274\n",
      "26일 후 고장날 확률 : 0.06737588652482274\n",
      "27일 후 고장날 확률 : 0.06914893617021323\n",
      "28일 후 고장날 확률 : 0.06914893617021323\n",
      "29일 후 고장날 확률 : 0.06914893617021323\n",
      "30일 후 고장날 확률 : 0.06914893617021323\n",
      "31일 후 고장날 확률 : 0.06914893617021323\n",
      "32일 후 고장날 확률 : 0.06914893617021323\n",
      "33일 후 고장날 확률 : 0.06914893617021323\n",
      "34일 후 고장날 확률 : 0.06914893617021323\n",
      "35일 후 고장날 확률 : 0.07269503546099287\n",
      "36일 후 고장날 확률 : 0.07269503546099287\n",
      "37일 후 고장날 확률 : 0.07269503546099287\n",
      "38일 후 고장날 확률 : 0.07269503546099287\n",
      "39일 후 고장날 확률 : 0.07801418439716346\n",
      "40일 후 고장날 확률 : 0.07801418439716346\n",
      "41일 후 고장날 확률 : 0.08156028368794388\n",
      "42일 후 고장날 확률 : 0.08156028368794388\n",
      "43일 후 고장날 확률 : 0.08156028368794388\n",
      "44일 후 고장날 확률 : 0.08156028368794388\n",
      "45일 후 고장날 확률 : 0.08156028368794388\n",
      "46일 후 고장날 확률 : 0.08156028368794388\n",
      "47일 후 고장날 확률 : 0.08156028368794388\n",
      "48일 후 고장날 확률 : 0.0833333333333337\n",
      "49일 후 고장날 확률 : 0.0833333333333337\n",
      "50일 후 고장날 확률 : 0.0833333333333337\n",
      "51일 후 고장날 확률 : 0.0833333333333337\n",
      "52일 후 고장날 확률 : 0.0833333333333337\n",
      "53일 후 고장날 확률 : 0.09042553191489411\n",
      "54일 후 고장날 확률 : 0.09397163120567409\n",
      "55일 후 고장날 확률 : 0.09397163120567409\n",
      "56일 후 고장날 확률 : 0.09929078014184423\n",
      "57일 후 고장날 확률 : 0.09929078014184423\n",
      "58일 후 고장날 확률 : 0.09929078014184423\n",
      "59일 후 고장날 확률 : 0.09929078014184423\n",
      "60일 후 고장날 확률 : 0.10106382978723405\n",
      "61일 후 고장날 확률 : 0.10815602836879457\n",
      "62일 후 고장날 확률 : 0.11347517730496515\n",
      "63일 후 고장날 확률 : 0.11347517730496515\n",
      "64일 후 고장날 확률 : 0.11347517730496515\n",
      "65일 후 고장날 확률 : 0.11347517730496515\n",
      "66일 후 고장날 확률 : 0.11347517730496515\n",
      "67일 후 고장날 확률 : 0.11347517730496515\n",
      "68일 후 고장날 확률 : 0.11702127659574513\n",
      "69일 후 고장날 확률 : 0.11879432624113484\n",
      "70일 후 고장날 확률 : 0.11879432624113484\n",
      "71일 후 고장날 확률 : 0.11879432624113484\n",
      "72일 후 고장날 확률 : 0.11879432624113484\n",
      "73일 후 고장날 확률 : 0.12056737588652477\n",
      "74일 후 고장날 확률 : 0.12056737588652477\n",
      "75일 후 고장날 확률 : 0.12411347517730498\n",
      "76일 후 고장날 확률 : 0.12943262411347567\n",
      "77일 후 고장날 확률 : 0.12943262411347567\n",
      "78일 후 고장날 확률 : 0.12943262411347567\n",
      "79일 후 고장날 확률 : 0.12943262411347567\n",
      "80일 후 고장날 확률 : 0.13120567375886583\n",
      "81일 후 고장날 확률 : 0.13120567375886583\n",
      "82일 후 고장날 확률 : 0.13120567375886583\n",
      "83일 후 고장날 확률 : 0.13120567375886583\n",
      "84일 후 고장날 확률 : 0.13120567375886583\n",
      "85일 후 고장날 확률 : 0.13120567375886583\n",
      "86일 후 고장날 확률 : 0.13120567375886583\n",
      "87일 후 고장날 확률 : 0.13475177304964536\n",
      "88일 후 고장날 확률 : 0.13652482269503585\n",
      "89일 후 고장날 확률 : 0.13652482269503585\n",
      "90일 후 고장날 확률 : 0.13652482269503585\n",
      "91일 후 고장날 확률 : 0.13652482269503585\n",
      "92일 후 고장날 확률 : 0.13652482269503585\n",
      "93일 후 고장날 확률 : 0.1382978723404259\n",
      "94일 후 고장날 확률 : 0.1382978723404259\n",
      "95일 후 고장날 확률 : 0.14184397163120555\n",
      "96일 후 고장날 확률 : 0.14184397163120555\n",
      "97일 후 고장날 확률 : 0.14184397163120555\n",
      "98일 후 고장날 확률 : 0.14184397163120555\n",
      "99일 후 고장날 확률 : 0.14184397163120555\n",
      "100일 후 고장날 확률 : 0.14184397163120555\n",
      "101일 후 고장날 확률 : 0.1453900709219862\n",
      "102일 후 고장날 확률 : 0.14893617021276628\n",
      "103일 후 고장날 확률 : 0.1542553191489362\n",
      "104일 후 고장날 확률 : 0.15602836879432613\n",
      "105일 후 고장날 확률 : 0.15957446808510634\n",
      "106일 후 고장날 확률 : 0.15957446808510634\n",
      "107일 후 고장날 확률 : 0.15957446808510634\n",
      "108일 후 고장날 확률 : 0.15957446808510634\n",
      "109일 후 고장날 확률 : 0.15957446808510634\n",
      "110일 후 고장날 확률 : 0.15957446808510634\n",
      "111일 후 고장날 확률 : 0.16134751773049705\n",
      "112일 후 고장날 확률 : 0.16489361702127692\n",
      "113일 후 고장날 확률 : 0.16489361702127692\n",
      "114일 후 고장날 확률 : 0.16489361702127692\n",
      "115일 후 고장날 확률 : 0.16489361702127692\n",
      "116일 후 고장날 확률 : 0.16489361702127692\n",
      "117일 후 고장날 확률 : 0.16489361702127692\n",
      "118일 후 고장날 확률 : 0.16489361702127692\n",
      "119일 후 고장날 확률 : 0.16843971631205712\n",
      "120일 후 고장날 확률 : 0.16843971631205712\n",
      "121일 후 고장날 확률 : 0.16843971631205712\n",
      "122일 후 고장날 확률 : 0.16843971631205712\n",
      "123일 후 고장날 확률 : 0.16843971631205712\n",
      "124일 후 고장날 확률 : 0.16843971631205712\n",
      "125일 후 고장날 확률 : 0.16843971631205712\n",
      "126일 후 고장날 확률 : 0.17021276595744683\n",
      "127일 후 고장날 확률 : 0.17021276595744683\n",
      "128일 후 고장날 확률 : 0.17021276595744683\n",
      "129일 후 고장날 확률 : 0.17375886524822748\n",
      "130일 후 고장날 확률 : 0.17553191489361764\n",
      "131일 후 고장날 확률 : 0.17730496453900735\n",
      "132일 후 고장날 확률 : 0.1790780141843974\n",
      "133일 후 고장날 확률 : 0.18085106382978766\n",
      "134일 후 고장날 확률 : 0.18262411347517749\n",
      "135일 후 고장날 확률 : 0.18262411347517749\n",
      "136일 후 고장날 확률 : 0.1879432624113475\n",
      "137일 후 고장날 확률 : 0.1914893617021276\n",
      "138일 후 고장날 확률 : 0.1932624113475181\n",
      "139일 후 고장날 확률 : 0.1932624113475181\n",
      "140일 후 고장날 확률 : 0.1932624113475181\n",
      "141일 후 고장날 확률 : 0.1932624113475181\n",
      "142일 후 고장날 확률 : 0.1932624113475181\n",
      "143일 후 고장날 확률 : 0.1932624113475181\n",
      "144일 후 고장날 확률 : 0.1950354609929078\n",
      "145일 후 고장날 확률 : 0.1950354609929078\n",
      "146일 후 고장날 확률 : 0.1950354609929078\n",
      "147일 후 고장날 확률 : 0.1950354609929078\n",
      "148일 후 고장날 확률 : 0.1950354609929078\n",
      "149일 후 고장날 확률 : 0.1950354609929078\n",
      "150일 후 고장날 확률 : 0.19680851063829796\n",
      "151일 후 고장날 확률 : 0.19680851063829796\n",
      "152일 후 고장날 확률 : 0.1985815602836879\n",
      "153일 후 고장날 확률 : 0.20035460992907805\n",
      "154일 후 고장날 확률 : 0.20212765957446832\n",
      "155일 후 고장날 확률 : 0.20212765957446832\n",
      "156일 후 고장날 확률 : 0.20212765957446832\n",
      "157일 후 고장날 확률 : 0.20390070921985826\n",
      "158일 후 고장날 확률 : 0.20567375886524863\n",
      "159일 후 고장날 확률 : 0.20567375886524863\n",
      "160일 후 고장날 확률 : 0.20567375886524863\n",
      "161일 후 고장날 확률 : 0.20744680851063824\n",
      "162일 후 고장날 확률 : 0.20744680851063824\n",
      "163일 후 고장날 확률 : 0.20744680851063824\n",
      "164일 후 고장날 확률 : 0.21276595744680882\n",
      "165일 후 고장날 확률 : 0.21808510638297895\n",
      "166일 후 고장날 확률 : 0.21808510638297895\n",
      "167일 후 고장날 확률 : 0.22163120567375905\n",
      "168일 후 고장날 확률 : 0.22163120567375905\n",
      "169일 후 고장날 확률 : 0.22163120567375905\n",
      "170일 후 고장날 확률 : 0.22163120567375905\n",
      "171일 후 고장날 확률 : 0.22340425531914898\n",
      "172일 후 고장날 확률 : 0.22340425531914898\n",
      "173일 후 고장날 확률 : 0.22340425531914898\n",
      "174일 후 고장날 확률 : 0.22340425531914898\n",
      "175일 후 고장날 확률 : 0.22872340425531934\n",
      "176일 후 고장날 확률 : 0.22872340425531934\n",
      "177일 후 고장날 확률 : 0.22872340425531934\n",
      "178일 후 고장날 확률 : 0.23049645390070927\n",
      "179일 후 고장날 확률 : 0.23049645390070927\n",
      "180일 후 고장날 확률 : 0.23049645390070927\n",
      "181일 후 고장날 확률 : 0.23226950354609965\n",
      "182일 후 고장날 확률 : 0.23226950354609965\n",
      "183일 후 고장날 확률 : 0.23226950354609965\n",
      "184일 후 고장날 확률 : 0.23226950354609965\n",
      "185일 후 고장날 확률 : 0.23226950354609965\n",
      "186일 후 고장날 확률 : 0.23226950354609965\n",
      "187일 후 고장날 확률 : 0.23226950354609965\n",
      "188일 후 고장날 확률 : 0.23226950354609965\n",
      "189일 후 고장날 확률 : 0.23404255319148926\n",
      "190일 후 고장날 확률 : 0.23404255319148926\n",
      "191일 후 고장날 확률 : 0.23404255319148926\n",
      "192일 후 고장날 확률 : 0.23404255319148926\n",
      "193일 후 고장날 확률 : 0.23404255319148926\n",
      "194일 후 고장날 확률 : 0.23404255319148926\n",
      "195일 후 고장날 확률 : 0.23758865248227\n",
      "196일 후 고장날 확률 : 0.2411347517730501\n",
      "197일 후 고장날 확률 : 0.2411347517730501\n",
      "198일 후 고장날 확률 : 0.2411347517730501\n",
      "199일 후 고장날 확률 : 0.2411347517730501\n",
      "200일 후 고장날 확률 : 0.2411347517730501\n",
      "201일 후 고장날 확률 : 0.24290780141843982\n",
      "202일 후 고장날 확률 : 0.24468085106382975\n",
      "203일 후 고장날 확률 : 0.24468085106382975\n",
      "204일 후 고장날 확률 : 0.24468085106382975\n",
      "205일 후 고장날 확률 : 0.24468085106382975\n",
      "206일 후 고장날 확률 : 0.24468085106382975\n",
      "207일 후 고장날 확률 : 0.24822695035461018\n",
      "208일 후 고장날 확률 : 0.24822695035461018\n",
      "209일 후 고장날 확률 : 0.24822695035461018\n",
      "210일 후 고장날 확률 : 0.24822695035461018\n",
      "211일 후 고장날 확률 : 0.24822695035461018\n",
      "212일 후 고장날 확률 : 0.24822695035461018\n",
      "213일 후 고장날 확률 : 0.25000000000000056\n",
      "214일 후 고장날 확률 : 0.25177304964539016\n",
      "215일 후 고장날 확률 : 0.25177304964539016\n",
      "216일 후 고장날 확률 : 0.25177304964539016\n",
      "217일 후 고장날 확률 : 0.25177304964539016\n",
      "218일 후 고장날 확률 : 0.25177304964539016\n",
      "219일 후 고장날 확률 : 0.25177304964539016\n",
      "220일 후 고장날 확률 : 0.25177304964539016\n",
      "221일 후 고장날 확률 : 0.25177304964539016\n",
      "222일 후 고장날 확률 : 0.25177304964539016\n",
      "223일 후 고장날 확률 : 0.25177304964539016\n",
      "224일 후 고장날 확률 : 0.25177304964539016\n",
      "225일 후 고장날 확률 : 0.25177304964539016\n",
      "226일 후 고장날 확률 : 0.25177304964539016\n",
      "227일 후 고장날 확률 : 0.25177304964539016\n",
      "228일 후 고장날 확률 : 0.25177304964539016\n",
      "229일 후 고장날 확률 : 0.25177304964539016\n",
      "230일 후 고장날 확률 : 0.25177304964539016\n",
      "231일 후 고장날 확률 : 0.25709219858156074\n",
      "232일 후 고장날 확률 : 0.25709219858156074\n",
      "233일 후 고장날 확률 : 0.25709219858156074\n",
      "234일 후 고장날 확률 : 0.25709219858156074\n",
      "235일 후 고장날 확률 : 0.25709219858156074\n",
      "236일 후 고장날 확률 : 0.25709219858156074\n",
      "237일 후 고장날 확률 : 0.25886524822695056\n",
      "238일 후 고장날 확률 : 0.25886524822695056\n",
      "239일 후 고장날 확률 : 0.25886524822695056\n",
      "240일 후 고장날 확률 : 0.25886524822695056\n",
      "241일 후 고장날 확률 : 0.25886524822695056\n",
      "242일 후 고장날 확률 : 0.2606382978723406\n",
      "243일 후 고장날 확률 : 0.2606382978723406\n",
      "244일 후 고장날 확률 : 0.26418439716312114\n",
      "245일 후 고장날 확률 : 0.26595744680851097\n",
      "246일 후 고장날 확률 : 0.26595744680851097\n",
      "247일 후 고장날 확률 : 0.26595744680851097\n",
      "248일 후 고장날 확률 : 0.26595744680851097\n",
      "249일 후 고장날 확률 : 0.27127659574468144\n",
      "250일 후 고장날 확률 : 0.2730496453900709\n",
      "251일 후 고장날 확률 : 0.27659574468085146\n",
      "252일 후 고장날 확률 : 0.2783687943262416\n",
      "253일 후 고장날 확률 : 0.2783687943262416\n",
      "254일 후 고장날 확률 : 0.2783687943262416\n",
      "255일 후 고장날 확률 : 0.2819148936170218\n",
      "256일 후 고장날 확률 : 0.2836879432624113\n",
      "257일 후 고장날 확률 : 0.2872340425531916\n",
      "258일 후 고장날 확률 : 0.29078014184397205\n",
      "259일 후 고장날 확률 : 0.29255319148936176\n",
      "260일 후 고장날 확률 : 0.29255319148936176\n",
      "261일 후 고장날 확률 : 0.29255319148936176\n",
      "262일 후 고장날 확률 : 0.29432624113475203\n",
      "263일 후 고장날 확률 : 0.29964539007092217\n",
      "264일 후 고장날 확률 : 0.3014184397163122\n",
      "265일 후 고장날 확률 : 0.3014184397163122\n",
      "266일 후 고장날 확률 : 0.30319148936170237\n",
      "267일 후 고장날 확률 : 0.30319148936170237\n",
      "268일 후 고장날 확률 : 0.30319148936170237\n",
      "269일 후 고장날 확률 : 0.30319148936170237\n",
      "270일 후 고장날 확률 : 0.30319148936170237\n",
      "271일 후 고장날 확률 : 0.30319148936170237\n",
      "272일 후 고장날 확률 : 0.30319148936170237\n",
      "273일 후 고장날 확률 : 0.30496453900709264\n",
      "274일 후 고장날 확률 : 0.30496453900709264\n",
      "275일 후 고장날 확률 : 0.30496453900709264\n",
      "276일 후 고장날 확률 : 0.3085106382978725\n",
      "277일 후 고장날 확률 : 0.3085106382978725\n",
      "278일 후 고장날 확률 : 0.3085106382978725\n",
      "279일 후 고장날 확률 : 0.3102836879432629\n",
      "280일 후 고장날 확률 : 0.319148936170213\n",
      "281일 후 고장날 확률 : 0.319148936170213\n",
      "282일 후 고장날 확률 : 0.319148936170213\n",
      "283일 후 고장날 확률 : 0.319148936170213\n",
      "284일 후 고장날 확률 : 0.3209219858156033\n",
      "285일 후 고장날 확률 : 0.32446808510638303\n",
      "286일 후 고장날 확률 : 0.3262411347517732\n",
      "287일 후 고장날 확률 : 0.3262411347517732\n",
      "288일 후 고장날 확률 : 0.3262411347517732\n",
      "289일 후 고장날 확률 : 0.3262411347517732\n",
      "290일 후 고장날 확률 : 0.33156028368794344\n",
      "291일 후 고장날 확률 : 0.33156028368794344\n",
      "292일 후 고장날 확률 : 0.33156028368794344\n",
      "293일 후 고장날 확률 : 0.33156028368794344\n",
      "294일 후 고장날 확률 : 0.33156028368794344\n",
      "295일 후 고장날 확률 : 0.33156028368794344\n",
      "296일 후 고장날 확률 : 0.33156028368794344\n",
      "297일 후 고장날 확률 : 0.33156028368794344\n",
      "298일 후 고장날 확률 : 0.33156028368794344\n",
      "299일 후 고장날 확률 : 0.3333333333333335\n",
      "300일 후 고장날 확률 : 0.3333333333333335\n",
      "301일 후 고장날 확률 : 0.3333333333333335\n",
      "302일 후 고장날 확률 : 0.3333333333333335\n",
      "303일 후 고장날 확률 : 0.3333333333333335\n",
      "304일 후 고장날 확률 : 0.33687943262411346\n",
      "305일 후 고장날 확률 : 0.34219858156028404\n",
      "306일 후 고장날 확률 : 0.34574468085106413\n",
      "307일 후 고장날 확률 : 0.34574468085106413\n",
      "308일 후 고장날 확률 : 0.34574468085106413\n",
      "309일 후 고장날 확률 : 0.34574468085106413\n",
      "310일 후 고장날 확률 : 0.34574468085106413\n",
      "311일 후 고장날 확률 : 0.34751773049645385\n",
      "312일 후 고장날 확률 : 0.3510638297872345\n",
      "313일 후 고장날 확률 : 0.3546099290780145\n",
      "314일 후 고장날 확률 : 0.35638297872340463\n",
      "315일 후 고장날 확률 : 0.35638297872340463\n",
      "316일 후 고장날 확률 : 0.35638297872340463\n",
      "317일 후 고장날 확률 : 0.35638297872340463\n",
      "318일 후 고장날 확률 : 0.35638297872340463\n",
      "319일 후 고장날 확률 : 0.35815602836879423\n",
      "320일 후 고장날 확률 : 0.35815602836879423\n",
      "321일 후 고장날 확률 : 0.35815602836879423\n",
      "322일 후 고장날 확률 : 0.3634751773049649\n",
      "323일 후 고장날 확률 : 0.3634751773049649\n",
      "324일 후 고장날 확률 : 0.3634751773049649\n",
      "325일 후 고장날 확률 : 0.3634751773049649\n",
      "326일 후 고장날 확률 : 0.3634751773049649\n",
      "327일 후 고장날 확률 : 0.36524822695035486\n",
      "328일 후 고장날 확률 : 0.36524822695035486\n",
      "329일 후 고장날 확률 : 0.36524822695035486\n",
      "330일 후 고장날 확률 : 0.36524822695035486\n",
      "331일 후 고장날 확률 : 0.36524822695035486\n",
      "332일 후 고장날 확률 : 0.3670212765957451\n",
      "333일 후 고장날 확률 : 0.36879432624113495\n",
      "334일 후 고장날 확률 : 0.36879432624113495\n",
      "335일 후 고장날 확률 : 0.36879432624113495\n",
      "336일 후 고장날 확률 : 0.3705673758865249\n",
      "337일 후 고장날 확률 : 0.3705673758865249\n",
      "338일 후 고장날 확률 : 0.3705673758865249\n",
      "339일 후 고장날 확률 : 0.3705673758865249\n",
      "340일 후 고장날 확률 : 0.3741134751773053\n",
      "341일 후 고장날 확률 : 0.3741134751773053\n",
      "342일 후 고장날 확률 : 0.3741134751773053\n",
      "343일 후 고장날 확률 : 0.3741134751773053\n",
      "344일 후 고장날 확률 : 0.3741134751773053\n",
      "345일 후 고장날 확률 : 0.3741134751773053\n",
      "346일 후 고장날 확률 : 0.3741134751773053\n",
      "347일 후 고장날 확률 : 0.3741134751773053\n",
      "348일 후 고장날 확률 : 0.37588652482269547\n",
      "349일 후 고장날 확률 : 0.37588652482269547\n",
      "350일 후 고장날 확률 : 0.37588652482269547\n",
      "351일 후 고장날 확률 : 0.37588652482269547\n",
      "352일 후 고장날 확률 : 0.37588652482269547\n",
      "353일 후 고장날 확률 : 0.3776595744680855\n",
      "354일 후 고장날 확률 : 0.37943262411347567\n",
      "355일 후 고장날 확률 : 0.37943262411347567\n",
      "356일 후 고장날 확률 : 0.37943262411347567\n",
      "357일 후 고장날 확률 : 0.37943262411347567\n",
      "358일 후 고장날 확률 : 0.37943262411347567\n",
      "359일 후 고장날 확률 : 0.37943262411347567\n",
      "360일 후 고장날 확률 : 0.3812056737588656\n",
      "361일 후 고장날 확률 : 0.3812056737588656\n",
      "362일 후 고장날 확률 : 0.3812056737588656\n",
      "363일 후 고장날 확률 : 0.3847517730496456\n",
      "364일 후 고장날 확률 : 0.3847517730496456\n",
      "365일 후 고장날 확률 : 0.3847517730496456\n",
      "366일 후 고장날 확률 : 0.3847517730496456\n",
      "367일 후 고장날 확률 : 0.3847517730496456\n",
      "368일 후 고장날 확률 : 0.3847517730496456\n",
      "369일 후 고장날 확률 : 0.38829787234042545\n",
      "370일 후 고장날 확률 : 0.38829787234042545\n",
      "371일 후 고장날 확률 : 0.3918439716312061\n",
      "372일 후 고장날 확률 : 0.3918439716312061\n",
      "373일 후 고장날 확률 : 0.3918439716312061\n",
      "374일 후 고장날 확률 : 0.3918439716312061\n",
      "375일 후 고장날 확률 : 0.3918439716312061\n"
     ]
    }
   ],
   "source": [
    "arr = []\n",
    "for i in range(0,376):\n",
    "    print(f'{i}일 후 고장날 확률 :' ,1-kmf.predict(i))"
   ],
   "metadata": {
    "collapsed": false
   }
  },
  {
   "cell_type": "code",
   "execution_count": 281,
   "outputs": [
    {
     "data": {
      "text/plain": "       Unnamed: 0 comp_cd        fac_cd                       fac_nm  \\\n0               0    SEJO  200201040293  (3)세-1F-0(여)로비-화장실) 세면대 2대    \n1               1    SEJO  200201010257                   9F여1대변기(5)   \n2               2    SEJO  200202030001                        우수조#1   \n3               3    SEJO  200105080599               배기휀#76(EF-504)   \n4               4    SEJO  200202010001                        시수조#1   \n...           ...     ...           ...                          ...   \n40806       40806    SEJO  700101020004                  SCC 4호기 권상기   \n40807       40807    SEJO  700101020005                  SCC 5호기 권상기   \n40808       40808    SEJO  700101020006                  SCC 6호기 권상기   \n40809       40809    SEJO  700201010010                  SCC 7호기 제어반   \n40810       40810    SEJO  700201020001                  SCC 7호기 권상기   \n\n       class_cd  dept_cd     fac_model     fac_spec     fac_plc       bd_cd  \\\n0      20020104    10201  자동(2)/수동(0)          청소수전       (여)로비         NaN   \n1      20020101    10201   CC-113(바닥형)  690*395*435  여-1(동) 화장실         NaN   \n2      20020203    10201           NaN          NaN         NaN         NaN   \n3      20010508    10201           NaN          NaN         NaN         NaN   \n4      20020201    10201           NaN          NaN         NaN         NaN   \n...         ...      ...           ...          ...         ...         ...   \n40806  70010102    10302        HS250K         12*6         NaN  SJ-SCJS-01   \n40807  70010102    10302        HS250K         12*6         NaN  SJ-SCJS-01   \n40808  70010102    10302        HS250K         12*6         NaN  SJ-SCJS-01   \n40809  70020101    10302    DZDLE-4300          NaN         NaN  SJ-SCJS-01   \n40810  70020102    10302      SDE-1504         12*6         NaN  SJ-SCJS-01   \n\n       ... chk_edit_dt law_fac_yn jangbi_class_nm_1 jangbi_class_nm_2  \\\n0      ...         NaN          N                기계          위생, 탱크설비   \n1      ...         NaN          N                기계          위생, 탱크설비   \n2      ...         NaN          N                기계          위생, 탱크설비   \n3      ...         NaN          N                기계            공기조화설비   \n4      ...         NaN          N                기계          위생, 탱크설비   \n...    ...         ...        ...               ...               ...   \n40806  ...         NaN          N               승강기               승객용   \n40807  ...         NaN          N               승강기               승객용   \n40808  ...         NaN          N               승강기               승객용   \n40809  ...         NaN          N               승강기               화물용   \n40810  ...         NaN          N               승강기               화물용   \n\n      jangbi_class_nm_3 jangbi_class_nm_4 jangbi_class_cd_1 jangbi_class_cd_2  \\\n0                  위생설비            세면대 수전                20              2002   \n1                  위생설비               대변기                20              2002   \n2                  탱크설비            우수 저장조                20              2002   \n3                  환기설비               환기팬                20              2001   \n4                  탱크설비            상수 저장조                20              2002   \n...                 ...               ...               ...               ...   \n40806                MR               권상기                70              7001   \n40807                MR               권상기                70              7001   \n40808                MR               권상기                70              7001   \n40809               로프식               제어반                70              7002   \n40810               로프식               권상기                70              7002   \n\n       jangbi_class_cd_3 jangbi_class_cd_4  \n0                 200201          20020104  \n1                 200201          20020101  \n2                 200202          20020203  \n3                 200105          20010508  \n4                 200202          20020201  \n...                  ...               ...  \n40806             700101          70010102  \n40807             700101          70010102  \n40808             700101          70010102  \n40809             700201          70020101  \n40810             700201          70020102  \n\n[40811 rows x 47 columns]",
      "text/html": "<div>\n<style scoped>\n    .dataframe tbody tr th:only-of-type {\n        vertical-align: middle;\n    }\n\n    .dataframe tbody tr th {\n        vertical-align: top;\n    }\n\n    .dataframe thead th {\n        text-align: right;\n    }\n</style>\n<table border=\"1\" class=\"dataframe\">\n  <thead>\n    <tr style=\"text-align: right;\">\n      <th></th>\n      <th>Unnamed: 0</th>\n      <th>comp_cd</th>\n      <th>fac_cd</th>\n      <th>fac_nm</th>\n      <th>class_cd</th>\n      <th>dept_cd</th>\n      <th>fac_model</th>\n      <th>fac_spec</th>\n      <th>fac_plc</th>\n      <th>bd_cd</th>\n      <th>...</th>\n      <th>chk_edit_dt</th>\n      <th>law_fac_yn</th>\n      <th>jangbi_class_nm_1</th>\n      <th>jangbi_class_nm_2</th>\n      <th>jangbi_class_nm_3</th>\n      <th>jangbi_class_nm_4</th>\n      <th>jangbi_class_cd_1</th>\n      <th>jangbi_class_cd_2</th>\n      <th>jangbi_class_cd_3</th>\n      <th>jangbi_class_cd_4</th>\n    </tr>\n  </thead>\n  <tbody>\n    <tr>\n      <th>0</th>\n      <td>0</td>\n      <td>SEJO</td>\n      <td>200201040293</td>\n      <td>(3)세-1F-0(여)로비-화장실) 세면대 2대</td>\n      <td>20020104</td>\n      <td>10201</td>\n      <td>자동(2)/수동(0)</td>\n      <td>청소수전</td>\n      <td>(여)로비</td>\n      <td>NaN</td>\n      <td>...</td>\n      <td>NaN</td>\n      <td>N</td>\n      <td>기계</td>\n      <td>위생, 탱크설비</td>\n      <td>위생설비</td>\n      <td>세면대 수전</td>\n      <td>20</td>\n      <td>2002</td>\n      <td>200201</td>\n      <td>20020104</td>\n    </tr>\n    <tr>\n      <th>1</th>\n      <td>1</td>\n      <td>SEJO</td>\n      <td>200201010257</td>\n      <td>9F여1대변기(5)</td>\n      <td>20020101</td>\n      <td>10201</td>\n      <td>CC-113(바닥형)</td>\n      <td>690*395*435</td>\n      <td>여-1(동) 화장실</td>\n      <td>NaN</td>\n      <td>...</td>\n      <td>NaN</td>\n      <td>N</td>\n      <td>기계</td>\n      <td>위생, 탱크설비</td>\n      <td>위생설비</td>\n      <td>대변기</td>\n      <td>20</td>\n      <td>2002</td>\n      <td>200201</td>\n      <td>20020101</td>\n    </tr>\n    <tr>\n      <th>2</th>\n      <td>2</td>\n      <td>SEJO</td>\n      <td>200202030001</td>\n      <td>우수조#1</td>\n      <td>20020203</td>\n      <td>10201</td>\n      <td>NaN</td>\n      <td>NaN</td>\n      <td>NaN</td>\n      <td>NaN</td>\n      <td>...</td>\n      <td>NaN</td>\n      <td>N</td>\n      <td>기계</td>\n      <td>위생, 탱크설비</td>\n      <td>탱크설비</td>\n      <td>우수 저장조</td>\n      <td>20</td>\n      <td>2002</td>\n      <td>200202</td>\n      <td>20020203</td>\n    </tr>\n    <tr>\n      <th>3</th>\n      <td>3</td>\n      <td>SEJO</td>\n      <td>200105080599</td>\n      <td>배기휀#76(EF-504)</td>\n      <td>20010508</td>\n      <td>10201</td>\n      <td>NaN</td>\n      <td>NaN</td>\n      <td>NaN</td>\n      <td>NaN</td>\n      <td>...</td>\n      <td>NaN</td>\n      <td>N</td>\n      <td>기계</td>\n      <td>공기조화설비</td>\n      <td>환기설비</td>\n      <td>환기팬</td>\n      <td>20</td>\n      <td>2001</td>\n      <td>200105</td>\n      <td>20010508</td>\n    </tr>\n    <tr>\n      <th>4</th>\n      <td>4</td>\n      <td>SEJO</td>\n      <td>200202010001</td>\n      <td>시수조#1</td>\n      <td>20020201</td>\n      <td>10201</td>\n      <td>NaN</td>\n      <td>NaN</td>\n      <td>NaN</td>\n      <td>NaN</td>\n      <td>...</td>\n      <td>NaN</td>\n      <td>N</td>\n      <td>기계</td>\n      <td>위생, 탱크설비</td>\n      <td>탱크설비</td>\n      <td>상수 저장조</td>\n      <td>20</td>\n      <td>2002</td>\n      <td>200202</td>\n      <td>20020201</td>\n    </tr>\n    <tr>\n      <th>...</th>\n      <td>...</td>\n      <td>...</td>\n      <td>...</td>\n      <td>...</td>\n      <td>...</td>\n      <td>...</td>\n      <td>...</td>\n      <td>...</td>\n      <td>...</td>\n      <td>...</td>\n      <td>...</td>\n      <td>...</td>\n      <td>...</td>\n      <td>...</td>\n      <td>...</td>\n      <td>...</td>\n      <td>...</td>\n      <td>...</td>\n      <td>...</td>\n      <td>...</td>\n      <td>...</td>\n    </tr>\n    <tr>\n      <th>40806</th>\n      <td>40806</td>\n      <td>SEJO</td>\n      <td>700101020004</td>\n      <td>SCC 4호기 권상기</td>\n      <td>70010102</td>\n      <td>10302</td>\n      <td>HS250K</td>\n      <td>12*6</td>\n      <td>NaN</td>\n      <td>SJ-SCJS-01</td>\n      <td>...</td>\n      <td>NaN</td>\n      <td>N</td>\n      <td>승강기</td>\n      <td>승객용</td>\n      <td>MR</td>\n      <td>권상기</td>\n      <td>70</td>\n      <td>7001</td>\n      <td>700101</td>\n      <td>70010102</td>\n    </tr>\n    <tr>\n      <th>40807</th>\n      <td>40807</td>\n      <td>SEJO</td>\n      <td>700101020005</td>\n      <td>SCC 5호기 권상기</td>\n      <td>70010102</td>\n      <td>10302</td>\n      <td>HS250K</td>\n      <td>12*6</td>\n      <td>NaN</td>\n      <td>SJ-SCJS-01</td>\n      <td>...</td>\n      <td>NaN</td>\n      <td>N</td>\n      <td>승강기</td>\n      <td>승객용</td>\n      <td>MR</td>\n      <td>권상기</td>\n      <td>70</td>\n      <td>7001</td>\n      <td>700101</td>\n      <td>70010102</td>\n    </tr>\n    <tr>\n      <th>40808</th>\n      <td>40808</td>\n      <td>SEJO</td>\n      <td>700101020006</td>\n      <td>SCC 6호기 권상기</td>\n      <td>70010102</td>\n      <td>10302</td>\n      <td>HS250K</td>\n      <td>12*6</td>\n      <td>NaN</td>\n      <td>SJ-SCJS-01</td>\n      <td>...</td>\n      <td>NaN</td>\n      <td>N</td>\n      <td>승강기</td>\n      <td>승객용</td>\n      <td>MR</td>\n      <td>권상기</td>\n      <td>70</td>\n      <td>7001</td>\n      <td>700101</td>\n      <td>70010102</td>\n    </tr>\n    <tr>\n      <th>40809</th>\n      <td>40809</td>\n      <td>SEJO</td>\n      <td>700201010010</td>\n      <td>SCC 7호기 제어반</td>\n      <td>70020101</td>\n      <td>10302</td>\n      <td>DZDLE-4300</td>\n      <td>NaN</td>\n      <td>NaN</td>\n      <td>SJ-SCJS-01</td>\n      <td>...</td>\n      <td>NaN</td>\n      <td>N</td>\n      <td>승강기</td>\n      <td>화물용</td>\n      <td>로프식</td>\n      <td>제어반</td>\n      <td>70</td>\n      <td>7002</td>\n      <td>700201</td>\n      <td>70020101</td>\n    </tr>\n    <tr>\n      <th>40810</th>\n      <td>40810</td>\n      <td>SEJO</td>\n      <td>700201020001</td>\n      <td>SCC 7호기 권상기</td>\n      <td>70020102</td>\n      <td>10302</td>\n      <td>SDE-1504</td>\n      <td>12*6</td>\n      <td>NaN</td>\n      <td>SJ-SCJS-01</td>\n      <td>...</td>\n      <td>NaN</td>\n      <td>N</td>\n      <td>승강기</td>\n      <td>화물용</td>\n      <td>로프식</td>\n      <td>권상기</td>\n      <td>70</td>\n      <td>7002</td>\n      <td>700201</td>\n      <td>70020102</td>\n    </tr>\n  </tbody>\n</table>\n<p>40811 rows × 47 columns</p>\n</div>"
     },
     "execution_count": 281,
     "metadata": {},
     "output_type": "execute_result"
    }
   ],
   "source": [
    "FMSX05_장비마스터"
   ],
   "metadata": {
    "collapsed": false
   }
  },
  {
   "cell_type": "code",
   "execution_count": 1,
   "outputs": [
    {
     "ename": "SyntaxError",
     "evalue": "unexpected EOF while parsing (2510871323.py, line 1)",
     "output_type": "error",
     "traceback": [
      "\u001B[0;36m  Input \u001B[0;32mIn [1]\u001B[0;36m\u001B[0m\n\u001B[0;31m    print(s\u001B[0m\n\u001B[0m           ^\u001B[0m\n\u001B[0;31mSyntaxError\u001B[0m\u001B[0;31m:\u001B[0m unexpected EOF while parsing\n"
     ]
    }
   ],
   "source": [
    "print(s"
   ],
   "metadata": {
    "collapsed": false
   }
  }
 ],
 "metadata": {
  "kernelspec": {
   "display_name": "Python 3",
   "language": "python",
   "name": "python3"
  },
  "language_info": {
   "codemirror_mode": {
    "name": "ipython",
    "version": 2
   },
   "file_extension": ".py",
   "mimetype": "text/x-python",
   "name": "python",
   "nbconvert_exporter": "python",
   "pygments_lexer": "ipython2",
   "version": "2.7.6"
  }
 },
 "nbformat": 4,
 "nbformat_minor": 0
}

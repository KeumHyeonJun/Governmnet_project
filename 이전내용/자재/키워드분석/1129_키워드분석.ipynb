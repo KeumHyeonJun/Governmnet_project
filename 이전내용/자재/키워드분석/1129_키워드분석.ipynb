{
 "cells": [
  {
   "cell_type": "code",
   "execution_count": 1,
   "metadata": {
    "collapsed": true
   },
   "outputs": [],
   "source": [
    "import pandas as pd"
   ]
  },
  {
   "cell_type": "code",
   "execution_count": 16,
   "outputs": [],
   "source": [
    "data = pd.DataFrame()\n",
    "for i in range(25):\n",
    "    df = pd.read_excel('/Users/keumhyeonjun/Projects/행안부/자재/7~15동 시설불편민원 관리대장_익명처리/테스트.xlsx', sheet_name = i)\n",
    "    data = pd.concat([data,df])"
   ],
   "metadata": {
    "collapsed": false
   }
  },
  {
   "cell_type": "code",
   "execution_count": 34,
   "outputs": [],
   "source": [
    "#data.to_csv('민원.csv',encoding='utf-8')"
   ],
   "metadata": {
    "collapsed": false
   }
  },
  {
   "cell_type": "code",
   "execution_count": 27,
   "outputs": [
    {
     "name": "stdout",
     "output_type": "stream",
     "text": [
      "3231\n",
      "1662\n",
      "1071\n"
     ]
    }
   ],
   "source": [
    "대소변기 = data[data['분야별소분류']=='대소변기']\n",
    "소변기 = 대소변기[대소변기['불편민원내용'].str.contains('소변기')]\n",
    "대변기 = 대소변기[대소변기['불편민원내용'].str.contains('대변기')]\n",
    "test = 대소변기[~대소변기['불편민원내용'].str.contains('대변기') & ~대소변기['불편민원내용'].str.contains('소변기')]\n",
    "print(len(대소변기))\n",
    "print(len(대변기))\n",
    "print(len(소변기))"
   ],
   "metadata": {
    "collapsed": false
   }
  },
  {
   "cell_type": "code",
   "execution_count": 31,
   "outputs": [
    {
     "data": {
      "text/plain": "          접수번호   년(접수) 월(접수) 일(접수) 시(접수 분(접수)  \\\n12    세M030013  2018.0     3     6    9  10.0   \n13    세M030014  2018.0     3     6   13  10.0   \n17    세M030018  2018.0     3     7   14  20.0   \n21    세M030022  2018.0     3     7   10  10.0   \n22    세M030023  2018.0     3     7   13  20.0   \n...        ...     ...   ...   ...  ...   ...   \n1111  세M100023    2022    10     5    9  30.0   \n1114  세M100026    2022    10     5    9  30.0   \n1115  세M100027    2022    10     6   10   5.0   \n1120  세M100032    2022    10     6    9  12.0   \n1121  세M100033    2022    10     6    9  30.0   \n\n                                 불편민원내용                      조치사항  소속   성명  \\\n12              7-1동 3층 남자화장실 소변기 물 안나옴                    건전지 교체  미화  NaN   \n13            10동 옥상층 남자화장실 소변기\\n 물 안나옴                    건전지 교체  미화  NaN   \n17                 9동 5-4 화장실 소변기 물 안나옴                    건전지 교체  미화  NaN   \n21                8동 1층 남자화장실 소변기 물 안나옴                    건전지 교체  미화  NaN   \n22                8동 6층 남자화장실 소변기 물 안나옴                    건전지 교체  미화  NaN   \n...                                 ...                       ...  ..  ...   \n1111  12동 2-3 남자화장실 소변기 수압조절 요청 및 물 안나옴  소변기 3개소 건전지 교환 및 수압조절 완료  미화  김주영   \n1114       12동 4-1 남자화장실 두 번째 소변기 배관 누수         분리 후 벽면 실리콘 작업 완료  미화  NaN   \n1115             8동 3층 남자화장실 소변기 물 안 나옴                 건전지 4개 교체  미화  NaN   \n1120        14-1동 5-2 남자화장실 소변기 물 계속 흐름                 건전지 교체 완료  미화  NaN   \n1121          14-1동 5-4 남자화장실 소변기 물 안나옴                 건전지 교체 완료  미화  NaN   \n\n      ...  접수자 처리자1 처리자2   년(처리) 월(처리) 일(처리) 시(처리) 분(처리) 소요기간  해피콜  \n12    ...  NaN  NaN  NaN  2018.0   3.0   6.0   9.0  30.0   당일  5.0  \n13    ...  NaN  NaN  NaN  2018.0   3.0   6.0  13.0  30.0   당일  NaN  \n17    ...  NaN  NaN  NaN  2018.0   3.0   7.0  14.0  40.0   당일  NaN  \n21    ...  NaN  NaN  NaN  2018.0   3.0   7.0  10.0  20.0   당일  NaN  \n22    ...  NaN  NaN  NaN  2018.0   3.0   7.0  13.0  40.0   당일  NaN  \n...   ...  ...  ...  ...     ...   ...   ...   ...   ...  ...  ...  \n1111  ...  이수정  조영준  NaN    2022    10   5.0  10.0  30.0   당일  NaN  \n1114  ...  NaN  NaN  NaN    2022    10   5.0  10.0  30.0   당일  NaN  \n1115  ...  NaN  NaN  NaN    2022    10   6.0  10.0  55.0   당일  NaN  \n1120  ...  NaN  NaN  NaN    2022    10   6.0   9.0  35.0   당일  NaN  \n1121  ...  NaN  NaN  NaN    2022    10   6.0   9.0  45.0   당일  NaN  \n\n[1071 rows x 30 columns]",
      "text/html": "<div>\n<style scoped>\n    .dataframe tbody tr th:only-of-type {\n        vertical-align: middle;\n    }\n\n    .dataframe tbody tr th {\n        vertical-align: top;\n    }\n\n    .dataframe thead th {\n        text-align: right;\n    }\n</style>\n<table border=\"1\" class=\"dataframe\">\n  <thead>\n    <tr style=\"text-align: right;\">\n      <th></th>\n      <th>접수번호</th>\n      <th>년(접수)</th>\n      <th>월(접수)</th>\n      <th>일(접수)</th>\n      <th>시(접수</th>\n      <th>분(접수)</th>\n      <th>불편민원내용</th>\n      <th>조치사항</th>\n      <th>소속</th>\n      <th>성명</th>\n      <th>...</th>\n      <th>접수자</th>\n      <th>처리자1</th>\n      <th>처리자2</th>\n      <th>년(처리)</th>\n      <th>월(처리)</th>\n      <th>일(처리)</th>\n      <th>시(처리)</th>\n      <th>분(처리)</th>\n      <th>소요기간</th>\n      <th>해피콜</th>\n    </tr>\n  </thead>\n  <tbody>\n    <tr>\n      <th>12</th>\n      <td>세M030013</td>\n      <td>2018.0</td>\n      <td>3</td>\n      <td>6</td>\n      <td>9</td>\n      <td>10.0</td>\n      <td>7-1동 3층 남자화장실 소변기 물 안나옴</td>\n      <td>건전지 교체</td>\n      <td>미화</td>\n      <td>NaN</td>\n      <td>...</td>\n      <td>NaN</td>\n      <td>NaN</td>\n      <td>NaN</td>\n      <td>2018.0</td>\n      <td>3.0</td>\n      <td>6.0</td>\n      <td>9.0</td>\n      <td>30.0</td>\n      <td>당일</td>\n      <td>5.0</td>\n    </tr>\n    <tr>\n      <th>13</th>\n      <td>세M030014</td>\n      <td>2018.0</td>\n      <td>3</td>\n      <td>6</td>\n      <td>13</td>\n      <td>10.0</td>\n      <td>10동 옥상층 남자화장실 소변기\\n 물 안나옴</td>\n      <td>건전지 교체</td>\n      <td>미화</td>\n      <td>NaN</td>\n      <td>...</td>\n      <td>NaN</td>\n      <td>NaN</td>\n      <td>NaN</td>\n      <td>2018.0</td>\n      <td>3.0</td>\n      <td>6.0</td>\n      <td>13.0</td>\n      <td>30.0</td>\n      <td>당일</td>\n      <td>NaN</td>\n    </tr>\n    <tr>\n      <th>17</th>\n      <td>세M030018</td>\n      <td>2018.0</td>\n      <td>3</td>\n      <td>7</td>\n      <td>14</td>\n      <td>20.0</td>\n      <td>9동 5-4 화장실 소변기 물 안나옴</td>\n      <td>건전지 교체</td>\n      <td>미화</td>\n      <td>NaN</td>\n      <td>...</td>\n      <td>NaN</td>\n      <td>NaN</td>\n      <td>NaN</td>\n      <td>2018.0</td>\n      <td>3.0</td>\n      <td>7.0</td>\n      <td>14.0</td>\n      <td>40.0</td>\n      <td>당일</td>\n      <td>NaN</td>\n    </tr>\n    <tr>\n      <th>21</th>\n      <td>세M030022</td>\n      <td>2018.0</td>\n      <td>3</td>\n      <td>7</td>\n      <td>10</td>\n      <td>10.0</td>\n      <td>8동 1층 남자화장실 소변기 물 안나옴</td>\n      <td>건전지 교체</td>\n      <td>미화</td>\n      <td>NaN</td>\n      <td>...</td>\n      <td>NaN</td>\n      <td>NaN</td>\n      <td>NaN</td>\n      <td>2018.0</td>\n      <td>3.0</td>\n      <td>7.0</td>\n      <td>10.0</td>\n      <td>20.0</td>\n      <td>당일</td>\n      <td>NaN</td>\n    </tr>\n    <tr>\n      <th>22</th>\n      <td>세M030023</td>\n      <td>2018.0</td>\n      <td>3</td>\n      <td>7</td>\n      <td>13</td>\n      <td>20.0</td>\n      <td>8동 6층 남자화장실 소변기 물 안나옴</td>\n      <td>건전지 교체</td>\n      <td>미화</td>\n      <td>NaN</td>\n      <td>...</td>\n      <td>NaN</td>\n      <td>NaN</td>\n      <td>NaN</td>\n      <td>2018.0</td>\n      <td>3.0</td>\n      <td>7.0</td>\n      <td>13.0</td>\n      <td>40.0</td>\n      <td>당일</td>\n      <td>NaN</td>\n    </tr>\n    <tr>\n      <th>...</th>\n      <td>...</td>\n      <td>...</td>\n      <td>...</td>\n      <td>...</td>\n      <td>...</td>\n      <td>...</td>\n      <td>...</td>\n      <td>...</td>\n      <td>...</td>\n      <td>...</td>\n      <td>...</td>\n      <td>...</td>\n      <td>...</td>\n      <td>...</td>\n      <td>...</td>\n      <td>...</td>\n      <td>...</td>\n      <td>...</td>\n      <td>...</td>\n      <td>...</td>\n      <td>...</td>\n    </tr>\n    <tr>\n      <th>1111</th>\n      <td>세M100023</td>\n      <td>2022</td>\n      <td>10</td>\n      <td>5</td>\n      <td>9</td>\n      <td>30.0</td>\n      <td>12동 2-3 남자화장실 소변기 수압조절 요청 및 물 안나옴</td>\n      <td>소변기 3개소 건전지 교환 및 수압조절 완료</td>\n      <td>미화</td>\n      <td>김주영</td>\n      <td>...</td>\n      <td>이수정</td>\n      <td>조영준</td>\n      <td>NaN</td>\n      <td>2022</td>\n      <td>10</td>\n      <td>5.0</td>\n      <td>10.0</td>\n      <td>30.0</td>\n      <td>당일</td>\n      <td>NaN</td>\n    </tr>\n    <tr>\n      <th>1114</th>\n      <td>세M100026</td>\n      <td>2022</td>\n      <td>10</td>\n      <td>5</td>\n      <td>9</td>\n      <td>30.0</td>\n      <td>12동 4-1 남자화장실 두 번째 소변기 배관 누수</td>\n      <td>분리 후 벽면 실리콘 작업 완료</td>\n      <td>미화</td>\n      <td>NaN</td>\n      <td>...</td>\n      <td>NaN</td>\n      <td>NaN</td>\n      <td>NaN</td>\n      <td>2022</td>\n      <td>10</td>\n      <td>5.0</td>\n      <td>10.0</td>\n      <td>30.0</td>\n      <td>당일</td>\n      <td>NaN</td>\n    </tr>\n    <tr>\n      <th>1115</th>\n      <td>세M100027</td>\n      <td>2022</td>\n      <td>10</td>\n      <td>6</td>\n      <td>10</td>\n      <td>5.0</td>\n      <td>8동 3층 남자화장실 소변기 물 안 나옴</td>\n      <td>건전지 4개 교체</td>\n      <td>미화</td>\n      <td>NaN</td>\n      <td>...</td>\n      <td>NaN</td>\n      <td>NaN</td>\n      <td>NaN</td>\n      <td>2022</td>\n      <td>10</td>\n      <td>6.0</td>\n      <td>10.0</td>\n      <td>55.0</td>\n      <td>당일</td>\n      <td>NaN</td>\n    </tr>\n    <tr>\n      <th>1120</th>\n      <td>세M100032</td>\n      <td>2022</td>\n      <td>10</td>\n      <td>6</td>\n      <td>9</td>\n      <td>12.0</td>\n      <td>14-1동 5-2 남자화장실 소변기 물 계속 흐름</td>\n      <td>건전지 교체 완료</td>\n      <td>미화</td>\n      <td>NaN</td>\n      <td>...</td>\n      <td>NaN</td>\n      <td>NaN</td>\n      <td>NaN</td>\n      <td>2022</td>\n      <td>10</td>\n      <td>6.0</td>\n      <td>9.0</td>\n      <td>35.0</td>\n      <td>당일</td>\n      <td>NaN</td>\n    </tr>\n    <tr>\n      <th>1121</th>\n      <td>세M100033</td>\n      <td>2022</td>\n      <td>10</td>\n      <td>6</td>\n      <td>9</td>\n      <td>30.0</td>\n      <td>14-1동 5-4 남자화장실 소변기 물 안나옴</td>\n      <td>건전지 교체 완료</td>\n      <td>미화</td>\n      <td>NaN</td>\n      <td>...</td>\n      <td>NaN</td>\n      <td>NaN</td>\n      <td>NaN</td>\n      <td>2022</td>\n      <td>10</td>\n      <td>6.0</td>\n      <td>9.0</td>\n      <td>45.0</td>\n      <td>당일</td>\n      <td>NaN</td>\n    </tr>\n  </tbody>\n</table>\n<p>1071 rows × 30 columns</p>\n</div>"
     },
     "execution_count": 31,
     "metadata": {},
     "output_type": "execute_result"
    }
   ],
   "source": [
    "소변기"
   ],
   "metadata": {
    "collapsed": false
   }
  },
  {
   "cell_type": "code",
   "execution_count": 36,
   "outputs": [
    {
     "data": {
      "text/plain": "대소변기    3231\n세면대     2212\n기타      2010\n출입통제    1704\n전화      1069\n        ... \n방충망        1\n주차장        1\n출이붐ㄴ       1\n출입문        1\n와이파이       1\nName: 분야별소분류, Length: 132, dtype: int64"
     },
     "execution_count": 36,
     "metadata": {},
     "output_type": "execute_result"
    }
   ],
   "source": [
    "data['분야별소분류'].value_counts()"
   ],
   "metadata": {
    "collapsed": false
   }
  }
 ],
 "metadata": {
  "kernelspec": {
   "display_name": "Python 3",
   "language": "python",
   "name": "python3"
  },
  "language_info": {
   "codemirror_mode": {
    "name": "ipython",
    "version": 2
   },
   "file_extension": ".py",
   "mimetype": "text/x-python",
   "name": "python",
   "nbconvert_exporter": "python",
   "pygments_lexer": "ipython2",
   "version": "2.7.6"
  }
 },
 "nbformat": 4,
 "nbformat_minor": 0
}

{
 "cells": [
  {
   "cell_type": "code",
   "execution_count": 655,
   "metadata": {
    "collapsed": true
   },
   "outputs": [],
   "source": [
    "import pandas as pd\n",
    "from pathlib import Path\n",
    "import datetime"
   ]
  },
  {
   "cell_type": "code",
   "execution_count": 656,
   "outputs": [],
   "source": [
    "#pd.options.display.float_format = '{:.3f}'.format"
   ],
   "metadata": {
    "collapsed": false
   }
  },
  {
   "cell_type": "code",
   "execution_count": 1,
   "outputs": [
    {
     "ename": "NameError",
     "evalue": "name 'pd' is not defined",
     "output_type": "error",
     "traceback": [
      "\u001B[0;31m---------------------------------------------------------------------------\u001B[0m",
      "\u001B[0;31mNameError\u001B[0m                                 Traceback (most recent call last)",
      "Cell \u001B[0;32mIn [1], line 1\u001B[0m\n\u001B[0;32m----> 1\u001B[0m data \u001B[38;5;241m=\u001B[39m \u001B[43mpd\u001B[49m\u001B[38;5;241m.\u001B[39mread_csv(\u001B[38;5;124m'\u001B[39m\u001B[38;5;124m생존분석_ver2.csv\u001B[39m\u001B[38;5;124m'\u001B[39m)\n\u001B[1;32m      2\u001B[0m data\u001B[38;5;241m=\u001B[39mdata[data[\u001B[38;5;124m'\u001B[39m\u001B[38;5;124m장애분석\u001B[39m\u001B[38;5;124m'\u001B[39m]\u001B[38;5;241m!=\u001B[39m \u001B[38;5;124m'\u001B[39m\u001B[38;5;124mX\u001B[39m\u001B[38;5;124m'\u001B[39m]\n\u001B[1;32m      3\u001B[0m data\u001B[38;5;241m.\u001B[39mhead()\n",
      "\u001B[0;31mNameError\u001B[0m: name 'pd' is not defined"
     ]
    }
   ],
   "source": [
    "data = pd.read_csv('생존분석_ver2.csv')\n",
    "data=data[data['장애분석']!= 'X']\n",
    "data.head()"
   ],
   "metadata": {
    "collapsed": false
   }
  },
  {
   "cell_type": "code",
   "execution_count": 658,
   "outputs": [
    {
     "data": {
      "text/plain": "방범망네트워크    270\n스피드게이트     268\n전관방송       268\n공용회의실      184\n얼굴인식       183\n울타리감지      167\n행정망네트워크    160\nCCTV       151\n통제식회전문     125\n동작감지       104\n출입통제        23\n비상호출        10\n정책홍보         3\nName: 그룹정의, dtype: int64"
     },
     "execution_count": 658,
     "metadata": {},
     "output_type": "execute_result"
    }
   ],
   "source": [
    "data[data['Lv1']=='통신']['그룹정의'].value_counts()"
   ],
   "metadata": {
    "collapsed": false
   }
  },
  {
   "cell_type": "code",
   "execution_count": 659,
   "outputs": [],
   "source": [
    "broken = data[data['status']==1]\n",
    "cnt = broken['fac_cd'].value_counts()\n",
    "\n",
    "# 작업을 한번'만' 한 경우\n",
    "first = list(cnt[cnt==1].index)\n",
    "first_df = pd.DataFrame({'fac_cd':first})\n",
    "# 작업을 한번 이상 한 장비 중 첫번째 작업 정보\n",
    "first_df_2 = data[data['작업횟수']==1]\n",
    "\n",
    "# 작업을 두번'만' 한 장비\n",
    "second = list(cnt[cnt==2].index)\n",
    "second_df = pd.DataFrame({'fac_cd':second})\n",
    "\n",
    "#작업을 두번 이상 한 장비 중 두번째 작업 정보\n",
    "second_df_2 = data[data['작업횟수']==2]\n",
    "\n",
    "# 작업을 세번이상 한 경우\n",
    "third_df_2 = data[data['작업횟수']>=3]\n",
    "\n",
    "first_df = pd.merge(first_df,data,on='fac_cd',how='left')\n",
    "second_df = pd.merge(second_df,data,on='fac_cd',how='left')\n",
    "\n",
    "predict_cnt_1 = pd.concat([first_df,second_df_2],axis=0)\n",
    "\n",
    "predict_cnt_2 = pd.concat([second_df,third_df_2],axis=0)\n",
    "predict_cnt_2 = predict_cnt_2[predict_cnt_2['작업횟수']>=2]\n",
    "def status_1(df):\n",
    "    if df['작업횟수'] == 1:\n",
    "        return 0\n",
    "    else :\n",
    "        return 1\n",
    "\n",
    "def status_2(df):\n",
    "    if df['작업횟수'] == 2:\n",
    "        return 0\n",
    "    else :\n",
    "        return 1\n",
    "\n",
    "def input_time(df):\n",
    "    if df['status'] ==1 :\n",
    "        return df['작업-작업간격']\n",
    "    else :\n",
    "        return df['경과시간']\n",
    "\n",
    "predict_cnt_1['status'] = predict_cnt_1.apply(status_1,axis=1)\n",
    "predict_cnt_1['input_time'] = predict_cnt_1.apply(input_time,axis=1)\n",
    "predict_cnt_2['status'] = predict_cnt_2.apply(status_2,axis=1)\n",
    "predict_cnt_2['input_time'] = predict_cnt_2.apply(input_time,axis=1)"
   ],
   "metadata": {
    "collapsed": false
   }
  },
  {
   "cell_type": "code",
   "execution_count": 660,
   "outputs": [],
   "source": [
    "import matplotlib.pyplot as plt\n",
    "from lifelines import KaplanMeierFitter\n",
    "\n",
    "plt.rc('font', family='AppleGothic')\n",
    "plt.rcParams['axes.unicode_minus'] = False"
   ],
   "metadata": {
    "collapsed": false
   }
  },
  {
   "cell_type": "markdown",
   "source": [
    "1. 그룸 정의 별로 학습하기\n",
    "2. 각 장비별로 인풋값에 넣기\n",
    "3. 두번 이상 고장난 경우 > status 다르게 해서 봐야함 2번 고장만 난 경우 > 0 3번이상 고장 난 경우 >1"
   ],
   "metadata": {
    "collapsed": false
   }
  },
  {
   "cell_type": "code",
   "execution_count": 661,
   "outputs": [],
   "source": [
    "\n",
    "def kplan(그룹정의):\n",
    "    output_data = pd.DataFrame({\n",
    "    '대분류' : [],\n",
    "    '장비분류' :[],\n",
    "    '동':[],\n",
    "    '층' :[],\n",
    "    '장비코드' :[],\n",
    "    '장비명' : [],\n",
    "    '장애발생횟수' :[],\n",
    "    '최근장애일자' :[],\n",
    "    '7일이내장애확률' :[],\n",
    "    '30일이내장애확률':[],\n",
    "    'Lv4':[]\n",
    "})\n",
    "\n",
    "\n",
    "    input_data = data[data['그룹정의']==그룹정의]\n",
    "    # 이때까지 장애가 발생하지 않은 경우 > 처음 발생 하는 확률 찾기\n",
    "    input_first = input_data[input_data['작업횟수']<=1]\n",
    "    if len(input_first) >=2:\n",
    "        kmf_first= KaplanMeierFitter()\n",
    "        var_first = 0\n",
    "        input_first.sort_values(by='작업-작업간격', ascending=True)\n",
    "        kmf_first.fit(durations=input_first['작업-작업간격'], event_observed=input_first['status'])\n",
    "\n",
    "    # 작업횟수 = 2 인 경우 > 장애가 한번 발생한 장비의 다음 장비 예측하기\n",
    "    input_second = predict_cnt_1[predict_cnt_1['그룹정의']==그룹정의]\n",
    "    if len(input_second) >=2:\n",
    "        kmf_second= KaplanMeierFitter()\n",
    "        var_second = 0\n",
    "        input_second.sort_values(by='input_time', ascending=True)\n",
    "        kmf_second.fit(durations=input_second['input_time'], event_observed=input_second['status'])\n",
    "\n",
    "    # 작업횟수 >=3 인 경우 > 재발한 장비의 다음 장비 예측하기\n",
    "\n",
    "    input_third = predict_cnt_2[predict_cnt_2['그룹정의']==그룹정의]\n",
    "    if len(input_third) >=2:\n",
    "        kmf_third= KaplanMeierFitter()\n",
    "        var_third = 0\n",
    "        input_third.sort_values(by='input_time', ascending=True)\n",
    "        kmf_third.fit(durations=input_third['input_time'], event_observed=input_third['status'])\n",
    "\n",
    "    fac_list = list(input_data['fac_cd'].unique())\n",
    "\n",
    "\n",
    "    if 'var_first' in locals():\n",
    "        var_first = True\n",
    "    else :\n",
    "        var_first = False\n",
    "\n",
    "    if 'var_second' in locals():\n",
    "        var_second = True\n",
    "    else :\n",
    "        var_second = False\n",
    "\n",
    "    if 'var_third' in locals():\n",
    "        var_third = True\n",
    "    else :\n",
    "        var_third = False\n",
    "\n",
    "\n",
    "\n",
    "    for i in fac_list:\n",
    "        df = input_data[input_data['fac_cd']==i].iloc[-1]\n",
    "        seven = df['경과시간'] +7\n",
    "        thirty = seven + 23\n",
    "        new_data = []\n",
    "        new_data.append(df['Lv1'])\n",
    "        new_data.append(df['그룹정의'])\n",
    "        new_data.append(df['bd_nm'])\n",
    "        new_data.append(df['fl_cd'])\n",
    "        new_data.append(df['fac_cd'])\n",
    "        new_data.append(df['fac_nm'])\n",
    "        new_data.append(df['작업횟수'])\n",
    "        new_data.append(df['job_jisi_dt'])\n",
    "       # 7일 이내 고장 확률\n",
    "        if df['작업횟수'] == 0 and var_first == True:\n",
    "            new_data.append(1-kmf_first.predict(seven))\n",
    "\n",
    "        elif df['작업횟수'] ==1 and var_second == True:\n",
    "            new_data.append(1-kmf_second.predict(seven))\n",
    "        elif df['작업횟수'] ==1 and var_first == True:\n",
    "            new_data.append(1-kmf_first.predict(seven))\n",
    "\n",
    "        elif df['작업횟수'] >=2 and var_third == True:\n",
    "            new_data.append(1-kmf_third.predict(seven))\n",
    "        elif df['작업횟수'] >=2 and var_second == True:\n",
    "            new_data.append(1-kmf_second.predict(seven))\n",
    "        elif df['작업횟수'] >=2 and var_first == True:\n",
    "            new_data.append(1-kmf_first.predict(seven))\n",
    "        else :\n",
    "            new_data.append(99999)\n",
    "\n",
    "        # 30일 이내 고장 확률\n",
    "        if df['작업횟수'] == 0 and var_first == True:\n",
    "            new_data.append(1-kmf_first.predict(thirty))\n",
    "\n",
    "        elif df['작업횟수'] ==1 and var_second == True:\n",
    "            new_data.append(1-kmf_second.predict(thirty))\n",
    "        elif df['작업횟수'] ==1 and var_first == True:\n",
    "            new_data.append(1-kmf_first.predict(thirty))\n",
    "\n",
    "        elif df['작업횟수'] >=2 and var_third == True:\n",
    "            new_data.append(1-kmf_third.predict(thirty))\n",
    "        elif df['작업횟수'] >=2 and var_second == True:\n",
    "            new_data.append(1-kmf_second.predict(thirty))\n",
    "        elif df['작업횟수'] >=2 and var_first == True:\n",
    "            new_data.append(1-kmf_first.predict(thirty))\n",
    "        else :\n",
    "            new_data.append(99999)\n",
    "        new_data.append(df['Lv4'])\n",
    "\n",
    "        output_data.loc[len(output_data)] = new_data\n",
    "\n",
    "    return output_data\n"
   ],
   "metadata": {
    "collapsed": false
   }
  },
  {
   "cell_type": "code",
   "execution_count": 662,
   "outputs": [
    {
     "data": {
      "text/plain": "Empty DataFrame\nColumns: [대분류, 장비분류, 동, 층, 장비코드, 장비명, 장애발생횟수, 최근장애일자, 7일이내장애확률, 30일이내장애확률, Lv4]\nIndex: []",
      "text/html": "<div>\n<style scoped>\n    .dataframe tbody tr th:only-of-type {\n        vertical-align: middle;\n    }\n\n    .dataframe tbody tr th {\n        vertical-align: top;\n    }\n\n    .dataframe thead th {\n        text-align: right;\n    }\n</style>\n<table border=\"1\" class=\"dataframe\">\n  <thead>\n    <tr style=\"text-align: right;\">\n      <th></th>\n      <th>대분류</th>\n      <th>장비분류</th>\n      <th>동</th>\n      <th>층</th>\n      <th>장비코드</th>\n      <th>장비명</th>\n      <th>장애발생횟수</th>\n      <th>최근장애일자</th>\n      <th>7일이내장애확률</th>\n      <th>30일이내장애확률</th>\n      <th>Lv4</th>\n    </tr>\n  </thead>\n  <tbody>\n  </tbody>\n</table>\n</div>"
     },
     "execution_count": 662,
     "metadata": {},
     "output_type": "execute_result"
    }
   ],
   "source": [
    "\n",
    "group = list(data['그룹정의'].unique())\n",
    "output_data = pd.DataFrame({\n",
    "    '대분류' : [],\n",
    "    '장비분류' :[],\n",
    "    '동':[],\n",
    "    '층' :[],\n",
    "    '장비코드' :[],\n",
    "    '장비명' : [],\n",
    "    '장애발생횟수' :[],\n",
    "    '최근장애일자' :[],\n",
    "    '7일이내장애확률' :[],\n",
    "    '30일이내장애확률':[],\n",
    "    'Lv4':[]\n",
    "})\n",
    "output_data"
   ],
   "metadata": {
    "collapsed": false
   }
  },
  {
   "cell_type": "code",
   "execution_count": 663,
   "outputs": [],
   "source": [
    "for i in group:\n",
    "    output = kplan(i)\n",
    "    output_data = pd.concat([output_data,output],axis=0)\n",
    "output_data = output_data.drop_duplicates()\n",
    "output_data['최근장애일자'] = output_data['최근장애일자'].str.replace('00:00:00','')"
   ],
   "metadata": {
    "collapsed": false
   }
  },
  {
   "cell_type": "code",
   "execution_count": 664,
   "outputs": [
    {
     "name": "stderr",
     "output_type": "stream",
     "text": [
      "/var/folders/nd/cl2nzwh13zx7jdly2t5m95340000gn/T/ipykernel_26977/3304006887.py:11: FutureWarning: The default value of numeric_only in DataFrameGroupBy.median is deprecated. In a future version, numeric_only will default to False. Either specify numeric_only or select only columns which should be valid for the function.\n",
      "  time_final = time_data.groupby('jangbi_class_nm_4').median()['총시간']\n"
     ]
    },
    {
     "data": {
      "text/plain": "    jangbi_class_nm_4     총시간\n0             CCTV 서버  66.000\n1           CCTV 저장장치  83.000\n2            CCTV 카메라  88.000\n3              DDC 판넬  60.000\n4                EPS실  30.500\n..                ...     ...\n146         항온항습기 실외기 150.000\n147            항온항습기실  60.000\n148                헤드  50.000\n149             환기조화기  60.000\n150         휴대용 비상조명등  35.000\n\n[151 rows x 2 columns]",
      "text/html": "<div>\n<style scoped>\n    .dataframe tbody tr th:only-of-type {\n        vertical-align: middle;\n    }\n\n    .dataframe tbody tr th {\n        vertical-align: top;\n    }\n\n    .dataframe thead th {\n        text-align: right;\n    }\n</style>\n<table border=\"1\" class=\"dataframe\">\n  <thead>\n    <tr style=\"text-align: right;\">\n      <th></th>\n      <th>jangbi_class_nm_4</th>\n      <th>총시간</th>\n    </tr>\n  </thead>\n  <tbody>\n    <tr>\n      <th>0</th>\n      <td>CCTV 서버</td>\n      <td>66.000</td>\n    </tr>\n    <tr>\n      <th>1</th>\n      <td>CCTV 저장장치</td>\n      <td>83.000</td>\n    </tr>\n    <tr>\n      <th>2</th>\n      <td>CCTV 카메라</td>\n      <td>88.000</td>\n    </tr>\n    <tr>\n      <th>3</th>\n      <td>DDC 판넬</td>\n      <td>60.000</td>\n    </tr>\n    <tr>\n      <th>4</th>\n      <td>EPS실</td>\n      <td>30.500</td>\n    </tr>\n    <tr>\n      <th>...</th>\n      <td>...</td>\n      <td>...</td>\n    </tr>\n    <tr>\n      <th>146</th>\n      <td>항온항습기 실외기</td>\n      <td>150.000</td>\n    </tr>\n    <tr>\n      <th>147</th>\n      <td>항온항습기실</td>\n      <td>60.000</td>\n    </tr>\n    <tr>\n      <th>148</th>\n      <td>헤드</td>\n      <td>50.000</td>\n    </tr>\n    <tr>\n      <th>149</th>\n      <td>환기조화기</td>\n      <td>60.000</td>\n    </tr>\n    <tr>\n      <th>150</th>\n      <td>휴대용 비상조명등</td>\n      <td>35.000</td>\n    </tr>\n  </tbody>\n</table>\n<p>151 rows × 2 columns</p>\n</div>"
     },
     "execution_count": 664,
     "metadata": {},
     "output_type": "execute_result"
    }
   ],
   "source": [
    "time_data = pd.read_csv('장비_작업시간.csv')[['jangbi_class_nm_4','job_time']]\n",
    "#time_data['job_class_nm_4'].dt.days\n",
    "# 일\n",
    "time_data['일'] = time_data['job_time'].str[:-13]\n",
    "time_data=time_data[~time_data['일'].str.contains('-')]\n",
    "time_data['시간'] = time_data['job_time'].str[-8:]\n",
    "time_data['시'] = pd.to_datetime(time_data['시간']).dt.hour\n",
    "time_data['분'] = pd.to_datetime(time_data['시간']).dt.minute\n",
    "time_data[['일','시','분']] = time_data[['일','시','분']].astype(int)\n",
    "time_data['총시간']= time_data['일']*24*60 + time_data['시'] * 60 + time_data['분']\n",
    "time_final = time_data.groupby('jangbi_class_nm_4').median()['총시간']\n",
    "time_final = time_final.reset_index()\n",
    "time_final"
   ],
   "metadata": {
    "collapsed": false
   }
  },
  {
   "cell_type": "code",
   "execution_count": 665,
   "outputs": [
    {
     "data": {
      "text/plain": "   대분류       장비분류      동     층             장비코드           장비명  장애발생횟수 최근장애일자  \\\n0   기계     개별냉난방기      0     0 200104011076.000  EHP 실내기 #079   0.000      0   \n1   기계     개별냉난방기      0     0 200104011002.000       실내기#117   0.000      0   \n2   기계     개별냉난방기      0     0 200104010987.000       실내기#112   0.000      0   \n3   기계     개별냉난방기      0     0 200104010710.000       실내기#101   0.000      0   \n4   기계     개별냉난방기      0     0 200104010667.000        실내기#57   0.000      0   \n..  ..        ...    ...   ...              ...           ...     ...    ...   \n22  전기  옥외 LED 조명  14-3동  P006 300401030060.000           정원등   0.000      0   \n23  전기  옥외 LED 조명  15-2동  F001 300401030054.000           보안등   0.000      0   \n24  전기  옥외 LED 조명  15-2동  F001 300401030057.000         수목투사등   0.000      0   \n25  전기  옥외 LED 조명  15-2동  F001 300401030063.000   태양광 LED 가로등   0.000      0   \n26  전기  옥외 LED 조명  15-2동  P006 300401030061.000           정원등   0.000      0   \n\n    7일이내장애확률  30일이내장애확률         Lv4  \n0      0.107      0.118  개별냉난방기 실내기  \n1      0.005      0.005  개별냉난방기 실내기  \n2      0.005      0.005  개별냉난방기 실내기  \n3      0.149      0.161  개별냉난방기 실내기  \n4      0.149      0.161  개별냉난방기 실내기  \n..       ...        ...         ...  \n22     0.111      0.111   옥외 LED 조명  \n23     0.111      0.111   옥외 LED 조명  \n24     0.111      0.111   옥외 LED 조명  \n25     0.111      0.111   옥외 LED 조명  \n26     0.111      0.111   옥외 LED 조명  \n\n[30782 rows x 11 columns]",
      "text/html": "<div>\n<style scoped>\n    .dataframe tbody tr th:only-of-type {\n        vertical-align: middle;\n    }\n\n    .dataframe tbody tr th {\n        vertical-align: top;\n    }\n\n    .dataframe thead th {\n        text-align: right;\n    }\n</style>\n<table border=\"1\" class=\"dataframe\">\n  <thead>\n    <tr style=\"text-align: right;\">\n      <th></th>\n      <th>대분류</th>\n      <th>장비분류</th>\n      <th>동</th>\n      <th>층</th>\n      <th>장비코드</th>\n      <th>장비명</th>\n      <th>장애발생횟수</th>\n      <th>최근장애일자</th>\n      <th>7일이내장애확률</th>\n      <th>30일이내장애확률</th>\n      <th>Lv4</th>\n    </tr>\n  </thead>\n  <tbody>\n    <tr>\n      <th>0</th>\n      <td>기계</td>\n      <td>개별냉난방기</td>\n      <td>0</td>\n      <td>0</td>\n      <td>200104011076.000</td>\n      <td>EHP 실내기 #079</td>\n      <td>0.000</td>\n      <td>0</td>\n      <td>0.107</td>\n      <td>0.118</td>\n      <td>개별냉난방기 실내기</td>\n    </tr>\n    <tr>\n      <th>1</th>\n      <td>기계</td>\n      <td>개별냉난방기</td>\n      <td>0</td>\n      <td>0</td>\n      <td>200104011002.000</td>\n      <td>실내기#117</td>\n      <td>0.000</td>\n      <td>0</td>\n      <td>0.005</td>\n      <td>0.005</td>\n      <td>개별냉난방기 실내기</td>\n    </tr>\n    <tr>\n      <th>2</th>\n      <td>기계</td>\n      <td>개별냉난방기</td>\n      <td>0</td>\n      <td>0</td>\n      <td>200104010987.000</td>\n      <td>실내기#112</td>\n      <td>0.000</td>\n      <td>0</td>\n      <td>0.005</td>\n      <td>0.005</td>\n      <td>개별냉난방기 실내기</td>\n    </tr>\n    <tr>\n      <th>3</th>\n      <td>기계</td>\n      <td>개별냉난방기</td>\n      <td>0</td>\n      <td>0</td>\n      <td>200104010710.000</td>\n      <td>실내기#101</td>\n      <td>0.000</td>\n      <td>0</td>\n      <td>0.149</td>\n      <td>0.161</td>\n      <td>개별냉난방기 실내기</td>\n    </tr>\n    <tr>\n      <th>4</th>\n      <td>기계</td>\n      <td>개별냉난방기</td>\n      <td>0</td>\n      <td>0</td>\n      <td>200104010667.000</td>\n      <td>실내기#57</td>\n      <td>0.000</td>\n      <td>0</td>\n      <td>0.149</td>\n      <td>0.161</td>\n      <td>개별냉난방기 실내기</td>\n    </tr>\n    <tr>\n      <th>...</th>\n      <td>...</td>\n      <td>...</td>\n      <td>...</td>\n      <td>...</td>\n      <td>...</td>\n      <td>...</td>\n      <td>...</td>\n      <td>...</td>\n      <td>...</td>\n      <td>...</td>\n      <td>...</td>\n    </tr>\n    <tr>\n      <th>22</th>\n      <td>전기</td>\n      <td>옥외 LED 조명</td>\n      <td>14-3동</td>\n      <td>P006</td>\n      <td>300401030060.000</td>\n      <td>정원등</td>\n      <td>0.000</td>\n      <td>0</td>\n      <td>0.111</td>\n      <td>0.111</td>\n      <td>옥외 LED 조명</td>\n    </tr>\n    <tr>\n      <th>23</th>\n      <td>전기</td>\n      <td>옥외 LED 조명</td>\n      <td>15-2동</td>\n      <td>F001</td>\n      <td>300401030054.000</td>\n      <td>보안등</td>\n      <td>0.000</td>\n      <td>0</td>\n      <td>0.111</td>\n      <td>0.111</td>\n      <td>옥외 LED 조명</td>\n    </tr>\n    <tr>\n      <th>24</th>\n      <td>전기</td>\n      <td>옥외 LED 조명</td>\n      <td>15-2동</td>\n      <td>F001</td>\n      <td>300401030057.000</td>\n      <td>수목투사등</td>\n      <td>0.000</td>\n      <td>0</td>\n      <td>0.111</td>\n      <td>0.111</td>\n      <td>옥외 LED 조명</td>\n    </tr>\n    <tr>\n      <th>25</th>\n      <td>전기</td>\n      <td>옥외 LED 조명</td>\n      <td>15-2동</td>\n      <td>F001</td>\n      <td>300401030063.000</td>\n      <td>태양광 LED 가로등</td>\n      <td>0.000</td>\n      <td>0</td>\n      <td>0.111</td>\n      <td>0.111</td>\n      <td>옥외 LED 조명</td>\n    </tr>\n    <tr>\n      <th>26</th>\n      <td>전기</td>\n      <td>옥외 LED 조명</td>\n      <td>15-2동</td>\n      <td>P006</td>\n      <td>300401030061.000</td>\n      <td>정원등</td>\n      <td>0.000</td>\n      <td>0</td>\n      <td>0.111</td>\n      <td>0.111</td>\n      <td>옥외 LED 조명</td>\n    </tr>\n  </tbody>\n</table>\n<p>30782 rows × 11 columns</p>\n</div>"
     },
     "execution_count": 665,
     "metadata": {},
     "output_type": "execute_result"
    }
   ],
   "source": [
    "output_data"
   ],
   "metadata": {
    "collapsed": false
   }
  },
  {
   "cell_type": "code",
   "execution_count": 666,
   "outputs": [],
   "source": [
    "output_data = pd.merge(output_data,time_final,how='left', left_on='Lv4',right_on='jangbi_class_nm_4')"
   ],
   "metadata": {
    "collapsed": false
   }
  },
  {
   "cell_type": "code",
   "execution_count": 667,
   "outputs": [
    {
     "data": {
      "text/plain": "      대분류       장비분류      동     층             장비코드           장비명  장애발생횟수  \\\n0      기계     개별냉난방기      0     0 200104011076.000  EHP 실내기 #079   0.000   \n1      기계     개별냉난방기      0     0 200104011002.000       실내기#117   0.000   \n2      기계     개별냉난방기      0     0 200104010987.000       실내기#112   0.000   \n3      기계     개별냉난방기      0     0 200104010710.000       실내기#101   0.000   \n4      기계     개별냉난방기      0     0 200104010667.000        실내기#57   0.000   \n...    ..        ...    ...   ...              ...           ...     ...   \n30777  전기  옥외 LED 조명  14-3동  P006 300401030060.000           정원등   0.000   \n30778  전기  옥외 LED 조명  15-2동  F001 300401030054.000           보안등   0.000   \n30779  전기  옥외 LED 조명  15-2동  F001 300401030057.000         수목투사등   0.000   \n30780  전기  옥외 LED 조명  15-2동  F001 300401030063.000   태양광 LED 가로등   0.000   \n30781  전기  옥외 LED 조명  15-2동  P006 300401030061.000           정원등   0.000   \n\n      최근장애일자  7일이내장애확률  30일이내장애확률  작업시간(중앙값)  \n0          0     0.107      0.118    130.000  \n1          0     0.005      0.005    130.000  \n2          0     0.005      0.005    130.000  \n3          0     0.149      0.161    130.000  \n4          0     0.149      0.161    130.000  \n...      ...       ...        ...        ...  \n30777      0     0.111      0.111     55.000  \n30778      0     0.111      0.111     55.000  \n30779      0     0.111      0.111     55.000  \n30780      0     0.111      0.111     55.000  \n30781      0     0.111      0.111     55.000  \n\n[30782 rows x 11 columns]",
      "text/html": "<div>\n<style scoped>\n    .dataframe tbody tr th:only-of-type {\n        vertical-align: middle;\n    }\n\n    .dataframe tbody tr th {\n        vertical-align: top;\n    }\n\n    .dataframe thead th {\n        text-align: right;\n    }\n</style>\n<table border=\"1\" class=\"dataframe\">\n  <thead>\n    <tr style=\"text-align: right;\">\n      <th></th>\n      <th>대분류</th>\n      <th>장비분류</th>\n      <th>동</th>\n      <th>층</th>\n      <th>장비코드</th>\n      <th>장비명</th>\n      <th>장애발생횟수</th>\n      <th>최근장애일자</th>\n      <th>7일이내장애확률</th>\n      <th>30일이내장애확률</th>\n      <th>작업시간(중앙값)</th>\n    </tr>\n  </thead>\n  <tbody>\n    <tr>\n      <th>0</th>\n      <td>기계</td>\n      <td>개별냉난방기</td>\n      <td>0</td>\n      <td>0</td>\n      <td>200104011076.000</td>\n      <td>EHP 실내기 #079</td>\n      <td>0.000</td>\n      <td>0</td>\n      <td>0.107</td>\n      <td>0.118</td>\n      <td>130.000</td>\n    </tr>\n    <tr>\n      <th>1</th>\n      <td>기계</td>\n      <td>개별냉난방기</td>\n      <td>0</td>\n      <td>0</td>\n      <td>200104011002.000</td>\n      <td>실내기#117</td>\n      <td>0.000</td>\n      <td>0</td>\n      <td>0.005</td>\n      <td>0.005</td>\n      <td>130.000</td>\n    </tr>\n    <tr>\n      <th>2</th>\n      <td>기계</td>\n      <td>개별냉난방기</td>\n      <td>0</td>\n      <td>0</td>\n      <td>200104010987.000</td>\n      <td>실내기#112</td>\n      <td>0.000</td>\n      <td>0</td>\n      <td>0.005</td>\n      <td>0.005</td>\n      <td>130.000</td>\n    </tr>\n    <tr>\n      <th>3</th>\n      <td>기계</td>\n      <td>개별냉난방기</td>\n      <td>0</td>\n      <td>0</td>\n      <td>200104010710.000</td>\n      <td>실내기#101</td>\n      <td>0.000</td>\n      <td>0</td>\n      <td>0.149</td>\n      <td>0.161</td>\n      <td>130.000</td>\n    </tr>\n    <tr>\n      <th>4</th>\n      <td>기계</td>\n      <td>개별냉난방기</td>\n      <td>0</td>\n      <td>0</td>\n      <td>200104010667.000</td>\n      <td>실내기#57</td>\n      <td>0.000</td>\n      <td>0</td>\n      <td>0.149</td>\n      <td>0.161</td>\n      <td>130.000</td>\n    </tr>\n    <tr>\n      <th>...</th>\n      <td>...</td>\n      <td>...</td>\n      <td>...</td>\n      <td>...</td>\n      <td>...</td>\n      <td>...</td>\n      <td>...</td>\n      <td>...</td>\n      <td>...</td>\n      <td>...</td>\n      <td>...</td>\n    </tr>\n    <tr>\n      <th>30777</th>\n      <td>전기</td>\n      <td>옥외 LED 조명</td>\n      <td>14-3동</td>\n      <td>P006</td>\n      <td>300401030060.000</td>\n      <td>정원등</td>\n      <td>0.000</td>\n      <td>0</td>\n      <td>0.111</td>\n      <td>0.111</td>\n      <td>55.000</td>\n    </tr>\n    <tr>\n      <th>30778</th>\n      <td>전기</td>\n      <td>옥외 LED 조명</td>\n      <td>15-2동</td>\n      <td>F001</td>\n      <td>300401030054.000</td>\n      <td>보안등</td>\n      <td>0.000</td>\n      <td>0</td>\n      <td>0.111</td>\n      <td>0.111</td>\n      <td>55.000</td>\n    </tr>\n    <tr>\n      <th>30779</th>\n      <td>전기</td>\n      <td>옥외 LED 조명</td>\n      <td>15-2동</td>\n      <td>F001</td>\n      <td>300401030057.000</td>\n      <td>수목투사등</td>\n      <td>0.000</td>\n      <td>0</td>\n      <td>0.111</td>\n      <td>0.111</td>\n      <td>55.000</td>\n    </tr>\n    <tr>\n      <th>30780</th>\n      <td>전기</td>\n      <td>옥외 LED 조명</td>\n      <td>15-2동</td>\n      <td>F001</td>\n      <td>300401030063.000</td>\n      <td>태양광 LED 가로등</td>\n      <td>0.000</td>\n      <td>0</td>\n      <td>0.111</td>\n      <td>0.111</td>\n      <td>55.000</td>\n    </tr>\n    <tr>\n      <th>30781</th>\n      <td>전기</td>\n      <td>옥외 LED 조명</td>\n      <td>15-2동</td>\n      <td>P006</td>\n      <td>300401030061.000</td>\n      <td>정원등</td>\n      <td>0.000</td>\n      <td>0</td>\n      <td>0.111</td>\n      <td>0.111</td>\n      <td>55.000</td>\n    </tr>\n  </tbody>\n</table>\n<p>30782 rows × 11 columns</p>\n</div>"
     },
     "execution_count": 667,
     "metadata": {},
     "output_type": "execute_result"
    }
   ],
   "source": [
    "output_data = output_data.drop(['Lv4','jangbi_class_nm_4'],axis=1)\n",
    "output_data.rename(columns={'총시간':'작업시간(중앙값)'},inplace=True)\n",
    "output_data"
   ],
   "metadata": {
    "collapsed": false
   }
  },
  {
   "cell_type": "code",
   "execution_count": 668,
   "outputs": [
    {
     "data": {
      "text/plain": "array(['기계', '통신', '방재', '승강기', '전기'], dtype=object)"
     },
     "execution_count": 668,
     "metadata": {},
     "output_type": "execute_result"
    }
   ],
   "source": [
    "output_data['대분류'].unique()"
   ],
   "metadata": {
    "collapsed": false
   }
  },
  {
   "cell_type": "code",
   "execution_count": 669,
   "outputs": [
    {
     "data": {
      "text/plain": "      대분류       장비분류      동     층             장비코드           장비명  장애발생횟수  \\\n0      기계     개별냉난방기      0     0 200104011076.000  EHP 실내기 #079   0.000   \n1      기계     개별냉난방기      0     0 200104011002.000       실내기#117   0.000   \n2      기계     개별냉난방기      0     0 200104010987.000       실내기#112   0.000   \n3      기계     개별냉난방기      0     0 200104010710.000       실내기#101   0.000   \n4      기계     개별냉난방기      0     0 200104010667.000        실내기#57   0.000   \n...    ..        ...    ...   ...              ...           ...     ...   \n30777  전기  옥외 LED 조명  14-3동  P006 300401030060.000           정원등   0.000   \n30778  전기  옥외 LED 조명  15-2동  F001 300401030054.000           보안등   0.000   \n30779  전기  옥외 LED 조명  15-2동  F001 300401030057.000         수목투사등   0.000   \n30780  전기  옥외 LED 조명  15-2동  F001 300401030063.000   태양광 LED 가로등   0.000   \n30781  전기  옥외 LED 조명  15-2동  P006 300401030061.000           정원등   0.000   \n\n      최근장애일자  7일이내장애확률  30일이내장애확률  작업시간(중앙값)  \n0          0     0.107      0.118    130.000  \n1          0     0.005      0.005    130.000  \n2          0     0.005      0.005    130.000  \n3          0     0.149      0.161    130.000  \n4          0     0.149      0.161    130.000  \n...      ...       ...        ...        ...  \n30777      0     0.111      0.111     55.000  \n30778      0     0.111      0.111     55.000  \n30779      0     0.111      0.111     55.000  \n30780      0     0.111      0.111     55.000  \n30781      0     0.111      0.111     55.000  \n\n[30782 rows x 11 columns]",
      "text/html": "<div>\n<style scoped>\n    .dataframe tbody tr th:only-of-type {\n        vertical-align: middle;\n    }\n\n    .dataframe tbody tr th {\n        vertical-align: top;\n    }\n\n    .dataframe thead th {\n        text-align: right;\n    }\n</style>\n<table border=\"1\" class=\"dataframe\">\n  <thead>\n    <tr style=\"text-align: right;\">\n      <th></th>\n      <th>대분류</th>\n      <th>장비분류</th>\n      <th>동</th>\n      <th>층</th>\n      <th>장비코드</th>\n      <th>장비명</th>\n      <th>장애발생횟수</th>\n      <th>최근장애일자</th>\n      <th>7일이내장애확률</th>\n      <th>30일이내장애확률</th>\n      <th>작업시간(중앙값)</th>\n    </tr>\n  </thead>\n  <tbody>\n    <tr>\n      <th>0</th>\n      <td>기계</td>\n      <td>개별냉난방기</td>\n      <td>0</td>\n      <td>0</td>\n      <td>200104011076.000</td>\n      <td>EHP 실내기 #079</td>\n      <td>0.000</td>\n      <td>0</td>\n      <td>0.107</td>\n      <td>0.118</td>\n      <td>130.000</td>\n    </tr>\n    <tr>\n      <th>1</th>\n      <td>기계</td>\n      <td>개별냉난방기</td>\n      <td>0</td>\n      <td>0</td>\n      <td>200104011002.000</td>\n      <td>실내기#117</td>\n      <td>0.000</td>\n      <td>0</td>\n      <td>0.005</td>\n      <td>0.005</td>\n      <td>130.000</td>\n    </tr>\n    <tr>\n      <th>2</th>\n      <td>기계</td>\n      <td>개별냉난방기</td>\n      <td>0</td>\n      <td>0</td>\n      <td>200104010987.000</td>\n      <td>실내기#112</td>\n      <td>0.000</td>\n      <td>0</td>\n      <td>0.005</td>\n      <td>0.005</td>\n      <td>130.000</td>\n    </tr>\n    <tr>\n      <th>3</th>\n      <td>기계</td>\n      <td>개별냉난방기</td>\n      <td>0</td>\n      <td>0</td>\n      <td>200104010710.000</td>\n      <td>실내기#101</td>\n      <td>0.000</td>\n      <td>0</td>\n      <td>0.149</td>\n      <td>0.161</td>\n      <td>130.000</td>\n    </tr>\n    <tr>\n      <th>4</th>\n      <td>기계</td>\n      <td>개별냉난방기</td>\n      <td>0</td>\n      <td>0</td>\n      <td>200104010667.000</td>\n      <td>실내기#57</td>\n      <td>0.000</td>\n      <td>0</td>\n      <td>0.149</td>\n      <td>0.161</td>\n      <td>130.000</td>\n    </tr>\n    <tr>\n      <th>...</th>\n      <td>...</td>\n      <td>...</td>\n      <td>...</td>\n      <td>...</td>\n      <td>...</td>\n      <td>...</td>\n      <td>...</td>\n      <td>...</td>\n      <td>...</td>\n      <td>...</td>\n      <td>...</td>\n    </tr>\n    <tr>\n      <th>30777</th>\n      <td>전기</td>\n      <td>옥외 LED 조명</td>\n      <td>14-3동</td>\n      <td>P006</td>\n      <td>300401030060.000</td>\n      <td>정원등</td>\n      <td>0.000</td>\n      <td>0</td>\n      <td>0.111</td>\n      <td>0.111</td>\n      <td>55.000</td>\n    </tr>\n    <tr>\n      <th>30778</th>\n      <td>전기</td>\n      <td>옥외 LED 조명</td>\n      <td>15-2동</td>\n      <td>F001</td>\n      <td>300401030054.000</td>\n      <td>보안등</td>\n      <td>0.000</td>\n      <td>0</td>\n      <td>0.111</td>\n      <td>0.111</td>\n      <td>55.000</td>\n    </tr>\n    <tr>\n      <th>30779</th>\n      <td>전기</td>\n      <td>옥외 LED 조명</td>\n      <td>15-2동</td>\n      <td>F001</td>\n      <td>300401030057.000</td>\n      <td>수목투사등</td>\n      <td>0.000</td>\n      <td>0</td>\n      <td>0.111</td>\n      <td>0.111</td>\n      <td>55.000</td>\n    </tr>\n    <tr>\n      <th>30780</th>\n      <td>전기</td>\n      <td>옥외 LED 조명</td>\n      <td>15-2동</td>\n      <td>F001</td>\n      <td>300401030063.000</td>\n      <td>태양광 LED 가로등</td>\n      <td>0.000</td>\n      <td>0</td>\n      <td>0.111</td>\n      <td>0.111</td>\n      <td>55.000</td>\n    </tr>\n    <tr>\n      <th>30781</th>\n      <td>전기</td>\n      <td>옥외 LED 조명</td>\n      <td>15-2동</td>\n      <td>P006</td>\n      <td>300401030061.000</td>\n      <td>정원등</td>\n      <td>0.000</td>\n      <td>0</td>\n      <td>0.111</td>\n      <td>0.111</td>\n      <td>55.000</td>\n    </tr>\n  </tbody>\n</table>\n<p>30782 rows × 11 columns</p>\n</div>"
     },
     "execution_count": 669,
     "metadata": {},
     "output_type": "execute_result"
    }
   ],
   "source": [
    "output_data"
   ],
   "metadata": {
    "collapsed": false
   }
  },
  {
   "cell_type": "code",
   "execution_count": 670,
   "outputs": [
    {
     "data": {
      "text/plain": "['기계', '통신', '방재', '승강기', '전기']"
     },
     "execution_count": 670,
     "metadata": {},
     "output_type": "execute_result"
    }
   ],
   "source": [
    "arr = list(output_data['대분류'].unique())\n",
    "arr"
   ],
   "metadata": {
    "collapsed": false
   }
  },
  {
   "cell_type": "code",
   "execution_count": 671,
   "outputs": [
    {
     "name": "stderr",
     "output_type": "stream",
     "text": [
      "/var/folders/nd/cl2nzwh13zx7jdly2t5m95340000gn/T/ipykernel_26977/2373678955.py:8: FutureWarning: The default value of numeric_only in DataFrameGroupBy.sum is deprecated. In a future version, numeric_only will default to False. Either specify numeric_only or select only columns which should be valid for the function.\n",
      "  output_data_final_broken = output_data_final.groupby(['장비분류','동']).sum()['장애발생횟수']\n",
      "/var/folders/nd/cl2nzwh13zx7jdly2t5m95340000gn/T/ipykernel_26977/2373678955.py:16: FutureWarning: The default value of numeric_only in DataFrameGroupBy.mean is deprecated. In a future version, numeric_only will default to False. Either specify numeric_only or select only columns which should be valid for the function.\n",
      "  output_data_final_prob_mean = output_data_final.groupby(['장비분류','동']).mean()[['7일이내장애확률','30일이내장애확률']]\n",
      "/var/folders/nd/cl2nzwh13zx7jdly2t5m95340000gn/T/ipykernel_26977/2373678955.py:19: FutureWarning: The default value of numeric_only in DataFrameGroupBy.median is deprecated. In a future version, numeric_only will default to False. Either specify numeric_only or select only columns which should be valid for the function.\n",
      "  output_data_final_prob_median = output_data_final.groupby(['장비분류','동']).median()[['7일이내장애확률','30일이내장애확률']]\n",
      "/var/folders/nd/cl2nzwh13zx7jdly2t5m95340000gn/T/ipykernel_26977/2373678955.py:8: FutureWarning: The default value of numeric_only in DataFrameGroupBy.sum is deprecated. In a future version, numeric_only will default to False. Either specify numeric_only or select only columns which should be valid for the function.\n",
      "  output_data_final_broken = output_data_final.groupby(['장비분류','동']).sum()['장애발생횟수']\n",
      "/var/folders/nd/cl2nzwh13zx7jdly2t5m95340000gn/T/ipykernel_26977/2373678955.py:16: FutureWarning: The default value of numeric_only in DataFrameGroupBy.mean is deprecated. In a future version, numeric_only will default to False. Either specify numeric_only or select only columns which should be valid for the function.\n",
      "  output_data_final_prob_mean = output_data_final.groupby(['장비분류','동']).mean()[['7일이내장애확률','30일이내장애확률']]\n",
      "/var/folders/nd/cl2nzwh13zx7jdly2t5m95340000gn/T/ipykernel_26977/2373678955.py:19: FutureWarning: The default value of numeric_only in DataFrameGroupBy.median is deprecated. In a future version, numeric_only will default to False. Either specify numeric_only or select only columns which should be valid for the function.\n",
      "  output_data_final_prob_median = output_data_final.groupby(['장비분류','동']).median()[['7일이내장애확률','30일이내장애확률']]\n",
      "/var/folders/nd/cl2nzwh13zx7jdly2t5m95340000gn/T/ipykernel_26977/2373678955.py:8: FutureWarning: The default value of numeric_only in DataFrameGroupBy.sum is deprecated. In a future version, numeric_only will default to False. Either specify numeric_only or select only columns which should be valid for the function.\n",
      "  output_data_final_broken = output_data_final.groupby(['장비분류','동']).sum()['장애발생횟수']\n",
      "/var/folders/nd/cl2nzwh13zx7jdly2t5m95340000gn/T/ipykernel_26977/2373678955.py:16: FutureWarning: The default value of numeric_only in DataFrameGroupBy.mean is deprecated. In a future version, numeric_only will default to False. Either specify numeric_only or select only columns which should be valid for the function.\n",
      "  output_data_final_prob_mean = output_data_final.groupby(['장비분류','동']).mean()[['7일이내장애확률','30일이내장애확률']]\n",
      "/var/folders/nd/cl2nzwh13zx7jdly2t5m95340000gn/T/ipykernel_26977/2373678955.py:19: FutureWarning: The default value of numeric_only in DataFrameGroupBy.median is deprecated. In a future version, numeric_only will default to False. Either specify numeric_only or select only columns which should be valid for the function.\n",
      "  output_data_final_prob_median = output_data_final.groupby(['장비분류','동']).median()[['7일이내장애확률','30일이내장애확률']]\n",
      "/var/folders/nd/cl2nzwh13zx7jdly2t5m95340000gn/T/ipykernel_26977/2373678955.py:8: FutureWarning: The default value of numeric_only in DataFrameGroupBy.sum is deprecated. In a future version, numeric_only will default to False. Either specify numeric_only or select only columns which should be valid for the function.\n",
      "  output_data_final_broken = output_data_final.groupby(['장비분류','동']).sum()['장애발생횟수']\n",
      "/var/folders/nd/cl2nzwh13zx7jdly2t5m95340000gn/T/ipykernel_26977/2373678955.py:16: FutureWarning: The default value of numeric_only in DataFrameGroupBy.mean is deprecated. In a future version, numeric_only will default to False. Either specify numeric_only or select only columns which should be valid for the function.\n",
      "  output_data_final_prob_mean = output_data_final.groupby(['장비분류','동']).mean()[['7일이내장애확률','30일이내장애확률']]\n",
      "/var/folders/nd/cl2nzwh13zx7jdly2t5m95340000gn/T/ipykernel_26977/2373678955.py:19: FutureWarning: The default value of numeric_only in DataFrameGroupBy.median is deprecated. In a future version, numeric_only will default to False. Either specify numeric_only or select only columns which should be valid for the function.\n",
      "  output_data_final_prob_median = output_data_final.groupby(['장비분류','동']).median()[['7일이내장애확률','30일이내장애확률']]\n",
      "/var/folders/nd/cl2nzwh13zx7jdly2t5m95340000gn/T/ipykernel_26977/2373678955.py:8: FutureWarning: The default value of numeric_only in DataFrameGroupBy.sum is deprecated. In a future version, numeric_only will default to False. Either specify numeric_only or select only columns which should be valid for the function.\n",
      "  output_data_final_broken = output_data_final.groupby(['장비분류','동']).sum()['장애발생횟수']\n",
      "/var/folders/nd/cl2nzwh13zx7jdly2t5m95340000gn/T/ipykernel_26977/2373678955.py:16: FutureWarning: The default value of numeric_only in DataFrameGroupBy.mean is deprecated. In a future version, numeric_only will default to False. Either specify numeric_only or select only columns which should be valid for the function.\n",
      "  output_data_final_prob_mean = output_data_final.groupby(['장비분류','동']).mean()[['7일이내장애확률','30일이내장애확률']]\n",
      "/var/folders/nd/cl2nzwh13zx7jdly2t5m95340000gn/T/ipykernel_26977/2373678955.py:19: FutureWarning: The default value of numeric_only in DataFrameGroupBy.median is deprecated. In a future version, numeric_only will default to False. Either specify numeric_only or select only columns which should be valid for the function.\n",
      "  output_data_final_prob_median = output_data_final.groupby(['장비분류','동']).median()[['7일이내장애확률','30일이내장애확률']]\n",
      "/var/folders/nd/cl2nzwh13zx7jdly2t5m95340000gn/T/ipykernel_26977/2373678955.py:25: FutureWarning: save is not part of the public API, usage can give unexpected results and will be removed in a future version\n",
      "  writer.save()\n"
     ]
    }
   ],
   "source": [
    "writer=pd.ExcelWriter('최종결과_ver2.xlsx', engine='openpyxl')\n",
    "\n",
    "for i in arr:\n",
    "\n",
    "    output_data_final = output_data[output_data['대분류']==i]\n",
    "    output_data_final.to_excel(writer, sheet_name = f'{i}_장비별')\n",
    "\n",
    "    output_data_final_broken = output_data_final.groupby(['장비분류','동']).sum()['장애발생횟수']\n",
    "\n",
    "    output_data_final_prob_max = output_data_final.groupby(['장비분류','동']).max()[['7일이내장애확률','30일이내장애확률']]\n",
    "    output_data_final_prob_max.columns = ['7일이내장애확률(최대)','30일이내장애확률(최대)']\n",
    "\n",
    "    output_data_final_prob_min = output_data_final.groupby(['장비분류','동']).min()[['7일이내장애확률','30일이내장애확률']]\n",
    "    output_data_final_prob_min.columns = ['7일이내장애확률(최소)','30일이내장애확률(최소)']\n",
    "\n",
    "    output_data_final_prob_mean = output_data_final.groupby(['장비분류','동']).mean()[['7일이내장애확률','30일이내장애확률']]\n",
    "    output_data_final_prob_mean.columns = ['7일이내장애확률(평균)','30일이내장애확률(평균)']\n",
    "\n",
    "    output_data_final_prob_median = output_data_final.groupby(['장비분류','동']).median()[['7일이내장애확률','30일이내장애확률']]\n",
    "    output_data_final_prob_median.columns = ['7일이내장애확률(중앙)','30일이내장애확률(중앙)']\n",
    "\n",
    "    output_data_final_group = pd.concat([output_data_final_broken,output_data_final_prob_max,output_data_final_prob_min,output_data_final_prob_mean,output_data_final_prob_median],axis = 1)\n",
    "    output_data_final_group.to_excel(writer, sheet_name = f'{i}_동별')\n",
    "\n",
    "writer.save()\n"
   ],
   "metadata": {
    "collapsed": false
   }
  },
  {
   "cell_type": "markdown",
   "source": [],
   "metadata": {
    "collapsed": false
   }
  }
 ],
 "metadata": {
  "kernelspec": {
   "display_name": "Python 3",
   "language": "python",
   "name": "python3"
  },
  "language_info": {
   "codemirror_mode": {
    "name": "ipython",
    "version": 2
   },
   "file_extension": ".py",
   "mimetype": "text/x-python",
   "name": "python",
   "nbconvert_exporter": "python",
   "pygments_lexer": "ipython2",
   "version": "2.7.6"
  }
 },
 "nbformat": 4,
 "nbformat_minor": 0
}

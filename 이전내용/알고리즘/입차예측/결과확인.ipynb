{
 "cells": [
  {
   "cell_type": "code",
   "execution_count": 3,
   "metadata": {
    "collapsed": true
   },
   "outputs": [],
   "source": [
    "import pandas as pd"
   ]
  },
  {
   "cell_type": "code",
   "execution_count": 7,
   "outputs": [],
   "source": [
    "df = pd.read_csv('./data/주차예측(한맥+다래)_정기권.csv')\n",
    "df2 = pd.read_excel('결과_정기권_13동.xlsx')\n"
   ],
   "metadata": {
    "collapsed": false
   }
  },
  {
   "cell_type": "code",
   "execution_count": 6,
   "outputs": [
    {
     "name": "stderr",
     "output_type": "stream",
     "text": [
      "/var/folders/nd/cl2nzwh13zx7jdly2t5m95340000gn/T/ipykernel_47276/3678761377.py:2: FutureWarning: The default value of numeric_only in DataFrameGroupBy.sum is deprecated. In a future version, numeric_only will default to False. Either specify numeric_only or select only columns which should be valid for the function.\n",
      "  data.groupby('일').sum()\n"
     ]
    },
    {
     "data": {
      "text/plain": "     입차대수\n일        \n1   523.0\n2   464.0\n3    42.0\n4    17.0\n5   699.0\n6   617.0\n7   583.0\n8   488.0\n9     9.0\n10    9.0\n11   13.0\n12    8.0\n13  423.0\n14  413.0\n15  386.0\n16  393.0\n17   20.0\n18   26.0\n19  417.0\n20  395.0\n21  405.0\n22  355.0\n23  367.0\n24   18.0\n25    5.0\n26  402.0\n27  402.0\n28  407.0\n29  377.0\n30  412.0",
      "text/html": "<div>\n<style scoped>\n    .dataframe tbody tr th:only-of-type {\n        vertical-align: middle;\n    }\n\n    .dataframe tbody tr th {\n        vertical-align: top;\n    }\n\n    .dataframe thead th {\n        text-align: right;\n    }\n</style>\n<table border=\"1\" class=\"dataframe\">\n  <thead>\n    <tr style=\"text-align: right;\">\n      <th></th>\n      <th>입차대수</th>\n    </tr>\n    <tr>\n      <th>일</th>\n      <th></th>\n    </tr>\n  </thead>\n  <tbody>\n    <tr>\n      <th>1</th>\n      <td>523.0</td>\n    </tr>\n    <tr>\n      <th>2</th>\n      <td>464.0</td>\n    </tr>\n    <tr>\n      <th>3</th>\n      <td>42.0</td>\n    </tr>\n    <tr>\n      <th>4</th>\n      <td>17.0</td>\n    </tr>\n    <tr>\n      <th>5</th>\n      <td>699.0</td>\n    </tr>\n    <tr>\n      <th>6</th>\n      <td>617.0</td>\n    </tr>\n    <tr>\n      <th>7</th>\n      <td>583.0</td>\n    </tr>\n    <tr>\n      <th>8</th>\n      <td>488.0</td>\n    </tr>\n    <tr>\n      <th>9</th>\n      <td>9.0</td>\n    </tr>\n    <tr>\n      <th>10</th>\n      <td>9.0</td>\n    </tr>\n    <tr>\n      <th>11</th>\n      <td>13.0</td>\n    </tr>\n    <tr>\n      <th>12</th>\n      <td>8.0</td>\n    </tr>\n    <tr>\n      <th>13</th>\n      <td>423.0</td>\n    </tr>\n    <tr>\n      <th>14</th>\n      <td>413.0</td>\n    </tr>\n    <tr>\n      <th>15</th>\n      <td>386.0</td>\n    </tr>\n    <tr>\n      <th>16</th>\n      <td>393.0</td>\n    </tr>\n    <tr>\n      <th>17</th>\n      <td>20.0</td>\n    </tr>\n    <tr>\n      <th>18</th>\n      <td>26.0</td>\n    </tr>\n    <tr>\n      <th>19</th>\n      <td>417.0</td>\n    </tr>\n    <tr>\n      <th>20</th>\n      <td>395.0</td>\n    </tr>\n    <tr>\n      <th>21</th>\n      <td>405.0</td>\n    </tr>\n    <tr>\n      <th>22</th>\n      <td>355.0</td>\n    </tr>\n    <tr>\n      <th>23</th>\n      <td>367.0</td>\n    </tr>\n    <tr>\n      <th>24</th>\n      <td>18.0</td>\n    </tr>\n    <tr>\n      <th>25</th>\n      <td>5.0</td>\n    </tr>\n    <tr>\n      <th>26</th>\n      <td>402.0</td>\n    </tr>\n    <tr>\n      <th>27</th>\n      <td>402.0</td>\n    </tr>\n    <tr>\n      <th>28</th>\n      <td>407.0</td>\n    </tr>\n    <tr>\n      <th>29</th>\n      <td>377.0</td>\n    </tr>\n    <tr>\n      <th>30</th>\n      <td>412.0</td>\n    </tr>\n  </tbody>\n</table>\n</div>"
     },
     "execution_count": 6,
     "metadata": {},
     "output_type": "execute_result"
    }
   ],
   "source": [
    "data = df[df['주차장'] =='13동'][['일시','일','입차대수']]\n",
    "data.groupby('일').sum()"
   ],
   "metadata": {
    "collapsed": false
   }
  },
  {
   "cell_type": "code",
   "execution_count": 11,
   "outputs": [
    {
     "name": "stderr",
     "output_type": "stream",
     "text": [
      "/var/folders/nd/cl2nzwh13zx7jdly2t5m95340000gn/T/ipykernel_47276/1521402314.py:2: FutureWarning: The default value of numeric_only in DataFrameGroupBy.sum is deprecated. In a future version, numeric_only will default to False. Either specify numeric_only or select only columns which should be valid for the function.\n",
      "  df2.groupby('일').sum()\n"
     ]
    },
    {
     "data": {
      "text/plain": "            입차대수  예측값\n일                    \n2022-09-25     5  180\n2022-09-26   402  376\n2022-09-27   402  357\n2022-09-28   407  432\n2022-09-29   377  476\n2022-09-30   412  347",
      "text/html": "<div>\n<style scoped>\n    .dataframe tbody tr th:only-of-type {\n        vertical-align: middle;\n    }\n\n    .dataframe tbody tr th {\n        vertical-align: top;\n    }\n\n    .dataframe thead th {\n        text-align: right;\n    }\n</style>\n<table border=\"1\" class=\"dataframe\">\n  <thead>\n    <tr style=\"text-align: right;\">\n      <th></th>\n      <th>입차대수</th>\n      <th>예측값</th>\n    </tr>\n    <tr>\n      <th>일</th>\n      <th></th>\n      <th></th>\n    </tr>\n  </thead>\n  <tbody>\n    <tr>\n      <th>2022-09-25</th>\n      <td>5</td>\n      <td>180</td>\n    </tr>\n    <tr>\n      <th>2022-09-26</th>\n      <td>402</td>\n      <td>376</td>\n    </tr>\n    <tr>\n      <th>2022-09-27</th>\n      <td>402</td>\n      <td>357</td>\n    </tr>\n    <tr>\n      <th>2022-09-28</th>\n      <td>407</td>\n      <td>432</td>\n    </tr>\n    <tr>\n      <th>2022-09-29</th>\n      <td>377</td>\n      <td>476</td>\n    </tr>\n    <tr>\n      <th>2022-09-30</th>\n      <td>412</td>\n      <td>347</td>\n    </tr>\n  </tbody>\n</table>\n</div>"
     },
     "execution_count": 11,
     "metadata": {},
     "output_type": "execute_result"
    }
   ],
   "source": [
    "df2['일'] = df2['일시'].dt.date\n",
    "df2.groupby('일').sum()"
   ],
   "metadata": {
    "collapsed": false
   }
  }
 ],
 "metadata": {
  "kernelspec": {
   "display_name": "Python 3",
   "language": "python",
   "name": "python3"
  },
  "language_info": {
   "codemirror_mode": {
    "name": "ipython",
    "version": 2
   },
   "file_extension": ".py",
   "mimetype": "text/x-python",
   "name": "python",
   "nbconvert_exporter": "python",
   "pygments_lexer": "ipython2",
   "version": "2.7.6"
  }
 },
 "nbformat": 4,
 "nbformat_minor": 0
}

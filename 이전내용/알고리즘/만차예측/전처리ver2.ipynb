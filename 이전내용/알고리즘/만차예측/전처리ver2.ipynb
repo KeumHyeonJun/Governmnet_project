{
 "cells": [
  {
   "cell_type": "code",
   "execution_count": 1,
   "id": "4759773a-2dc0-427c-a6f1-84f701a18c13",
   "metadata": {},
   "outputs": [],
   "source": [
    "import pandas as pd\n",
    "import numpy as np\n",
    "import re\n",
    "from matplotlib import pyplot as plt\n",
    "\n",
    "plt.rc('font', family='AppleGothic')\n",
    "plt.rcParams['axes.unicode_minus'] = False"
   ]
  },
  {
   "cell_type": "code",
   "execution_count": 2,
   "outputs": [
    {
     "data": {
      "text/plain": "'/Users/keumhyeonjun/Projects/행안부/알고리즘/data/'"
     },
     "execution_count": 2,
     "metadata": {},
     "output_type": "execute_result"
    }
   ],
   "source": [
    "from pathlib import Path\n",
    "path = Path.cwd()\n",
    "data_path = path.parent\n",
    "data_path = str(data_path) + '/data/'\n",
    "data_path"
   ],
   "metadata": {
    "collapsed": false
   }
  },
  {
   "cell_type": "code",
   "execution_count": 3,
   "outputs": [
    {
     "data": {
      "text/plain": "                     기온(°C)  강수량(mm)  풍속(m/s)  습도(%)  적설(cm)\n일시                                                          \n2020-10-01 00:00:00    17.3      0.0      0.2   92.0     0.0\n2020-10-01 01:00:00    16.8      0.0      0.5   94.0     0.0\n2020-10-01 02:00:00    16.9      0.0      1.1   93.0     0.0\n2020-10-01 03:00:00    16.8      0.0      0.4   94.0     0.0\n2020-10-01 04:00:00    16.1      0.0      0.1   95.0     0.0\n...                     ...      ...      ...    ...     ...\n2022-10-01 19:00:00    21.1      0.0      0.1   54.0     0.0\n2022-10-01 20:00:00    19.6      0.0      0.6   63.0     0.0\n2022-10-01 21:00:00    18.8      0.0      0.7   73.0     0.0\n2022-10-01 22:00:00    18.1      0.0      0.8   75.0     0.0\n2022-10-01 23:00:00    18.2      0.0      0.2   75.0     0.0\n\n[17544 rows x 5 columns]",
      "text/html": "<div>\n<style scoped>\n    .dataframe tbody tr th:only-of-type {\n        vertical-align: middle;\n    }\n\n    .dataframe tbody tr th {\n        vertical-align: top;\n    }\n\n    .dataframe thead th {\n        text-align: right;\n    }\n</style>\n<table border=\"1\" class=\"dataframe\">\n  <thead>\n    <tr style=\"text-align: right;\">\n      <th></th>\n      <th>기온(°C)</th>\n      <th>강수량(mm)</th>\n      <th>풍속(m/s)</th>\n      <th>습도(%)</th>\n      <th>적설(cm)</th>\n    </tr>\n    <tr>\n      <th>일시</th>\n      <th></th>\n      <th></th>\n      <th></th>\n      <th></th>\n      <th></th>\n    </tr>\n  </thead>\n  <tbody>\n    <tr>\n      <th>2020-10-01 00:00:00</th>\n      <td>17.3</td>\n      <td>0.0</td>\n      <td>0.2</td>\n      <td>92.0</td>\n      <td>0.0</td>\n    </tr>\n    <tr>\n      <th>2020-10-01 01:00:00</th>\n      <td>16.8</td>\n      <td>0.0</td>\n      <td>0.5</td>\n      <td>94.0</td>\n      <td>0.0</td>\n    </tr>\n    <tr>\n      <th>2020-10-01 02:00:00</th>\n      <td>16.9</td>\n      <td>0.0</td>\n      <td>1.1</td>\n      <td>93.0</td>\n      <td>0.0</td>\n    </tr>\n    <tr>\n      <th>2020-10-01 03:00:00</th>\n      <td>16.8</td>\n      <td>0.0</td>\n      <td>0.4</td>\n      <td>94.0</td>\n      <td>0.0</td>\n    </tr>\n    <tr>\n      <th>2020-10-01 04:00:00</th>\n      <td>16.1</td>\n      <td>0.0</td>\n      <td>0.1</td>\n      <td>95.0</td>\n      <td>0.0</td>\n    </tr>\n    <tr>\n      <th>...</th>\n      <td>...</td>\n      <td>...</td>\n      <td>...</td>\n      <td>...</td>\n      <td>...</td>\n    </tr>\n    <tr>\n      <th>2022-10-01 19:00:00</th>\n      <td>21.1</td>\n      <td>0.0</td>\n      <td>0.1</td>\n      <td>54.0</td>\n      <td>0.0</td>\n    </tr>\n    <tr>\n      <th>2022-10-01 20:00:00</th>\n      <td>19.6</td>\n      <td>0.0</td>\n      <td>0.6</td>\n      <td>63.0</td>\n      <td>0.0</td>\n    </tr>\n    <tr>\n      <th>2022-10-01 21:00:00</th>\n      <td>18.8</td>\n      <td>0.0</td>\n      <td>0.7</td>\n      <td>73.0</td>\n      <td>0.0</td>\n    </tr>\n    <tr>\n      <th>2022-10-01 22:00:00</th>\n      <td>18.1</td>\n      <td>0.0</td>\n      <td>0.8</td>\n      <td>75.0</td>\n      <td>0.0</td>\n    </tr>\n    <tr>\n      <th>2022-10-01 23:00:00</th>\n      <td>18.2</td>\n      <td>0.0</td>\n      <td>0.2</td>\n      <td>75.0</td>\n      <td>0.0</td>\n    </tr>\n  </tbody>\n</table>\n<p>17544 rows × 5 columns</p>\n</div>"
     },
     "execution_count": 3,
     "metadata": {},
     "output_type": "execute_result"
    }
   ],
   "source": [
    "# whether csv read, 일시를 index로 넣고 datetime 형태로 변환함\n",
    "whether = pd.read_csv(data_path +'Whether.csv', encoding='euc-kr', parse_dates=['일시'], index_col='일시')\n",
    "# 강수량, 적설이 null인 경우 모두 0으로 바꿈\n",
    "whether = whether.fillna(0)\n",
    "# 일시의 freq을 hour로 변경\n",
    "whether.index.freq = 'h'\n",
    "\n",
    "'''\n",
    "데이터가 누락된 시간을 확인하기 위한 부분 (파일로 받은 경우)\n",
    "API로 받는 경우 날짜는 있지만 모든 데이터가 Null값이기 때문에 해당 조건으로 수정해야 할 것으로 보임\n",
    "\n",
    "j = whether.index[0]\n",
    "for i in whether.index:\n",
    "    if i != j + pd.Timedelta(\"1 hour\"):\n",
    "        print(j, i)\n",
    "    j = i\n",
    "'''\n",
    "# 지점코드, 지점명을 없앰\n",
    "whether = whether.iloc[:, [2,3,4,5,6]]\n",
    "whether"
   ],
   "metadata": {
    "collapsed": false
   }
  },
  {
   "cell_type": "markdown",
   "id": "7dfa4e97-7d4f-49b2-b05a-c9a8f73acf03",
   "metadata": {},
   "source": [
    "# 차량 데이터 불러오기 및 전처리"
   ]
  },
  {
   "cell_type": "markdown",
   "source": [
    "# 다래데이터만 > 다래 데이터 형식으로 테이블 맞춰서 제공한다고 하였음"
   ],
   "metadata": {
    "collapsed": false
   }
  },
  {
   "cell_type": "code",
   "execution_count": 4,
   "outputs": [],
   "source": [
    "import pandas as pd"
   ],
   "metadata": {
    "collapsed": false
   }
  },
  {
   "cell_type": "code",
   "execution_count": 5,
   "outputs": [
    {
     "name": "stderr",
     "output_type": "stream",
     "text": [
      "/var/folders/nd/cl2nzwh13zx7jdly2t5m95340000gn/T/ipykernel_67271/1372231495.py:1: DtypeWarning: Columns (0,1,2,5,6,7,8,9) have mixed types. Specify dtype option on import or set low_memory=False.\n",
      "  darae_in = pd.read_csv(data_path+ 'VW_InCarinfo (차량 입차 정보 조회).csv')\n"
     ]
    }
   ],
   "source": [
    "darae_in = pd.read_csv(data_path+ 'VW_InCarinfo (차량 입차 정보 조회).csv')\n",
    "darae_in = darae_in.dropna()\n",
    "darae_out = pd.read_csv(data_path+'VW_OutCarinfo (차량 출차 정보 조회).csv')"
   ],
   "metadata": {
    "collapsed": false
   }
  },
  {
   "cell_type": "code",
   "execution_count": 6,
   "outputs": [],
   "source": [
    "darae_in[['입차고객구분']]= darae_in[['입차고객구분']].apply(lambda x: x.str.strip(), axis = 1)\n",
    "darae_in[['장비명','입차구분','입차고객구분','출차여부','차량종류']] = darae_in[['장비명','입차구분','입차고객구분','출차여부','차량종류']].apply(lambda x: x.str.strip(), axis = 1)\n",
    "darae_out[['장비명','출차구분','출차고객구분','출차여부','차량종류']]= darae_out[['장비명','출차구분','출차고객구분','출차여부','차량종류']].apply(lambda x: x.str.strip(), axis = 1)"
   ],
   "metadata": {
    "collapsed": false
   }
  },
  {
   "cell_type": "code",
   "execution_count": 7,
   "outputs": [
    {
     "data": {
      "text/plain": "12동입구        7162\n14-2동입구      7161\n14-2동지하입구    4779\n15동지하입구      4394\n13-1동입구      4005\n12동지하입구      2586\n13-2동입구      2558\n13-2동지하입구    1926\n15동입구        1763\n14-1동입구       879\n13-3동입구       839\n13-1동지하입구     620\nName: 장비명, dtype: int64"
     },
     "execution_count": 7,
     "metadata": {},
     "output_type": "execute_result"
    }
   ],
   "source": [
    "darae_in['장비명'].value_counts()"
   ],
   "metadata": {
    "collapsed": false
   }
  },
  {
   "cell_type": "code",
   "execution_count": 8,
   "outputs": [
    {
     "data": {
      "text/plain": "             출차일자        출차시각      차량번호        주차일련번호        출차카드번호  \\\n0      2022-09-01   05:32:24    94고6836  1.111422e+16  1.000000e+14   \n1      2022-09-01   05:52:37    94고6836  1.111422e+16  1.000000e+14   \n2      2022-09-01   06:12:11    94고6836  1.111422e+16  1.000000e+14   \n3      2022-09-01   06:18:27    82도4072  1.111422e+16  1.000000e+14   \n4      2022-09-01   06:39:34    94고6836  1.111422e+16  1.000000e+14   \n...           ...         ...       ...           ...           ...   \n38667  2022-10-05    17:40:15   71하3305  1.411220e+16  1.000000e+14   \n38668  2022-10-05    19:03:47   50머4665  1.411220e+16  1.000000e+14   \n38669  2022-10-05    19:44:02  323러9283  1.411220e+16  1.000000e+14   \n38670  2022-10-05    19:46:40   09도7906  1.411220e+16  1.000000e+14   \n38671  2022-10-05    20:16:15   62수0808  1.411220e+16  1.000000e+14   \n\n             장비명   출차구분 출차고객구분 출차여부 차량종류  \n0      13-3동출구#1  정기권출차    정기권   출차   소형  \n1      13-3동출구#1  정기권출차    정기권   출차   소형  \n2      13-3동출구#1  정기권출차    정기권   출차   소형  \n3      13-3동출구#1  정기권출차    정기권   출차   소형  \n4      13-3동출구#1  정기권출차    정기권   출차   소형  \n...          ...    ...    ...  ...  ...  \n38667    15동지하입구     정상    정기권  미출차   소형  \n38668    15동지하입구     정상    정기권  미출차   소형  \n38669    15동지하입구     정상    정기권  미출차   소형  \n38670    15동지하입구     정상    정기권  미출차   소형  \n38671    15동지하입구     정상    정기권  미출차   소형  \n\n[38672 rows x 10 columns]",
      "text/html": "<div>\n<style scoped>\n    .dataframe tbody tr th:only-of-type {\n        vertical-align: middle;\n    }\n\n    .dataframe tbody tr th {\n        vertical-align: top;\n    }\n\n    .dataframe thead th {\n        text-align: right;\n    }\n</style>\n<table border=\"1\" class=\"dataframe\">\n  <thead>\n    <tr style=\"text-align: right;\">\n      <th></th>\n      <th>출차일자</th>\n      <th>출차시각</th>\n      <th>차량번호</th>\n      <th>주차일련번호</th>\n      <th>출차카드번호</th>\n      <th>장비명</th>\n      <th>출차구분</th>\n      <th>출차고객구분</th>\n      <th>출차여부</th>\n      <th>차량종류</th>\n    </tr>\n  </thead>\n  <tbody>\n    <tr>\n      <th>0</th>\n      <td>2022-09-01</td>\n      <td>05:32:24</td>\n      <td>94고6836</td>\n      <td>1.111422e+16</td>\n      <td>1.000000e+14</td>\n      <td>13-3동출구#1</td>\n      <td>정기권출차</td>\n      <td>정기권</td>\n      <td>출차</td>\n      <td>소형</td>\n    </tr>\n    <tr>\n      <th>1</th>\n      <td>2022-09-01</td>\n      <td>05:52:37</td>\n      <td>94고6836</td>\n      <td>1.111422e+16</td>\n      <td>1.000000e+14</td>\n      <td>13-3동출구#1</td>\n      <td>정기권출차</td>\n      <td>정기권</td>\n      <td>출차</td>\n      <td>소형</td>\n    </tr>\n    <tr>\n      <th>2</th>\n      <td>2022-09-01</td>\n      <td>06:12:11</td>\n      <td>94고6836</td>\n      <td>1.111422e+16</td>\n      <td>1.000000e+14</td>\n      <td>13-3동출구#1</td>\n      <td>정기권출차</td>\n      <td>정기권</td>\n      <td>출차</td>\n      <td>소형</td>\n    </tr>\n    <tr>\n      <th>3</th>\n      <td>2022-09-01</td>\n      <td>06:18:27</td>\n      <td>82도4072</td>\n      <td>1.111422e+16</td>\n      <td>1.000000e+14</td>\n      <td>13-3동출구#1</td>\n      <td>정기권출차</td>\n      <td>정기권</td>\n      <td>출차</td>\n      <td>소형</td>\n    </tr>\n    <tr>\n      <th>4</th>\n      <td>2022-09-01</td>\n      <td>06:39:34</td>\n      <td>94고6836</td>\n      <td>1.111422e+16</td>\n      <td>1.000000e+14</td>\n      <td>13-3동출구#1</td>\n      <td>정기권출차</td>\n      <td>정기권</td>\n      <td>출차</td>\n      <td>소형</td>\n    </tr>\n    <tr>\n      <th>...</th>\n      <td>...</td>\n      <td>...</td>\n      <td>...</td>\n      <td>...</td>\n      <td>...</td>\n      <td>...</td>\n      <td>...</td>\n      <td>...</td>\n      <td>...</td>\n      <td>...</td>\n    </tr>\n    <tr>\n      <th>38667</th>\n      <td>2022-10-05</td>\n      <td>17:40:15</td>\n      <td>71하3305</td>\n      <td>1.411220e+16</td>\n      <td>1.000000e+14</td>\n      <td>15동지하입구</td>\n      <td>정상</td>\n      <td>정기권</td>\n      <td>미출차</td>\n      <td>소형</td>\n    </tr>\n    <tr>\n      <th>38668</th>\n      <td>2022-10-05</td>\n      <td>19:03:47</td>\n      <td>50머4665</td>\n      <td>1.411220e+16</td>\n      <td>1.000000e+14</td>\n      <td>15동지하입구</td>\n      <td>정상</td>\n      <td>정기권</td>\n      <td>미출차</td>\n      <td>소형</td>\n    </tr>\n    <tr>\n      <th>38669</th>\n      <td>2022-10-05</td>\n      <td>19:44:02</td>\n      <td>323러9283</td>\n      <td>1.411220e+16</td>\n      <td>1.000000e+14</td>\n      <td>15동지하입구</td>\n      <td>정상</td>\n      <td>정기권</td>\n      <td>미출차</td>\n      <td>소형</td>\n    </tr>\n    <tr>\n      <th>38670</th>\n      <td>2022-10-05</td>\n      <td>19:46:40</td>\n      <td>09도7906</td>\n      <td>1.411220e+16</td>\n      <td>1.000000e+14</td>\n      <td>15동지하입구</td>\n      <td>정상</td>\n      <td>정기권</td>\n      <td>미출차</td>\n      <td>소형</td>\n    </tr>\n    <tr>\n      <th>38671</th>\n      <td>2022-10-05</td>\n      <td>20:16:15</td>\n      <td>62수0808</td>\n      <td>1.411220e+16</td>\n      <td>1.000000e+14</td>\n      <td>15동지하입구</td>\n      <td>정상</td>\n      <td>정기권</td>\n      <td>미출차</td>\n      <td>소형</td>\n    </tr>\n  </tbody>\n</table>\n<p>38672 rows × 10 columns</p>\n</div>"
     },
     "execution_count": 8,
     "metadata": {},
     "output_type": "execute_result"
    }
   ],
   "source": [
    "darae_out"
   ],
   "metadata": {
    "collapsed": false
   }
  },
  {
   "cell_type": "markdown",
   "source": [
    "## 이름 바꾸기 13_1동 지하 1 > 13_1동"
   ],
   "metadata": {
    "collapsed": false
   }
  },
  {
   "cell_type": "code",
   "execution_count": 9,
   "outputs": [
    {
     "name": "stderr",
     "output_type": "stream",
     "text": [
      "/var/folders/nd/cl2nzwh13zx7jdly2t5m95340000gn/T/ipykernel_67271/3206655803.py:6: SettingWithCopyWarning: \n",
      "A value is trying to be set on a copy of a slice from a DataFrame\n",
      "\n",
      "See the caveats in the documentation: https://pandas.pydata.org/pandas-docs/stable/user_guide/indexing.html#returning-a-view-versus-a-copy\n",
      "  df['주차장'][i] = reg\n",
      "/var/folders/nd/cl2nzwh13zx7jdly2t5m95340000gn/T/ipykernel_67271/3206655803.py:6: SettingWithCopyWarning: \n",
      "A value is trying to be set on a copy of a slice from a DataFrame\n",
      "\n",
      "See the caveats in the documentation: https://pandas.pydata.org/pandas-docs/stable/user_guide/indexing.html#returning-a-view-versus-a-copy\n",
      "  df['주차장'][i] = reg\n"
     ]
    }
   ],
   "source": [
    "import re\n",
    "def slicing(df,i) :\n",
    "    pattern = '.*동'\n",
    "    reg = re.search(pattern, df['장비명'][i])\n",
    "    reg = reg.group()\n",
    "    df['주차장'][i] = reg\n",
    "    return reg\n",
    "\n",
    "darae_in['주차장'] = 0\n",
    "for i in range(len(darae_in)):\n",
    "    slicing(darae_in,i)\n",
    "darae_out['주차장'] = 0\n",
    "for i in range(len(darae_out)):\n",
    "    slicing(darae_out,i)\n",
    "\n",
    "def change(x):\n",
    "    if x =='13-1동' or x =='13-2동' or x =='13-3동':\n",
    "        return '13동'\n",
    "    elif x == '14-1동' or x == '14-2동':\n",
    "        return '14동'\n",
    "    else :\n",
    "        return x\n",
    "darae_in['주차장'] = darae_in['주차장'].apply(change)\n",
    "darae_out['주차장'] = darae_out['주차장'].apply(change)"
   ],
   "metadata": {
    "collapsed": false
   }
  },
  {
   "cell_type": "code",
   "execution_count": 10,
   "outputs": [],
   "source": [
    "pd.options.display.float_format = '{:.0f}'.format"
   ],
   "metadata": {
    "collapsed": false
   }
  },
  {
   "cell_type": "code",
   "execution_count": 11,
   "outputs": [],
   "source": [
    "import copy"
   ],
   "metadata": {
    "collapsed": false
   }
  },
  {
   "cell_type": "code",
   "execution_count": 12,
   "outputs": [],
   "source": [
    "test_in = copy.deepcopy(darae_in)\n",
    "test_in.columns = ['일자','시각','차량번호','주차일련번호','입출차카드번호','장비명','입출차구분','입출차고객구분','출차여부','차량종류','주차장']\n",
    "test_in['입출차여부'] = '입차'"
   ],
   "metadata": {
    "collapsed": false
   }
  },
  {
   "cell_type": "code",
   "execution_count": 13,
   "outputs": [
    {
     "data": {
      "text/plain": "100000000000000    15818\n0                     35\nName: 입출차카드번호, dtype: int64"
     },
     "execution_count": 13,
     "metadata": {},
     "output_type": "execute_result"
    }
   ],
   "source": [
    "test_out = copy.deepcopy(darae_out)\n",
    "test_out.columns = ['일자','시각','차량번호','주차일련번호','입출차카드번호','장비명','입출차구분','입출차고객구분','출차여부','차량종류','주차장']\n",
    "test_out['입출차여부'] = '출차'\n",
    "test_out[test_out['장비명'].str.contains('입구')]['입출차카드번호'].value_counts()"
   ],
   "metadata": {
    "collapsed": false
   }
  },
  {
   "cell_type": "code",
   "execution_count": 14,
   "outputs": [],
   "source": [
    "df = pd.concat([test_in, test_out]).sort_values(by=['차량번호','일자','시각'])#[['차량번호','입출차여부','일자','시각','입출차구분','출차여부','장비명']]"
   ],
   "metadata": {
    "collapsed": false
   }
  },
  {
   "cell_type": "code",
   "execution_count": 15,
   "outputs": [],
   "source": [
    "import datetime\n",
    "df['입출차시각'] = df['일자'] + df['시각']\n",
    "df['입출차시각'] = pd.to_datetime(df['입출차시각'], format= '%Y-%m-%d %H:%M:%S', errors='raise')\n",
    "df['시'] = df['입출차시각'].dt.hour\n",
    "df.reset_index(inplace = True)"
   ],
   "metadata": {
    "collapsed": false
   }
  },
  {
   "cell_type": "code",
   "execution_count": 16,
   "outputs": [
    {
     "data": {
      "text/plain": "       index          일자          시각       차량번호            주차일련번호  \\\n0       4218  2022-09-05    09:07:56    01거5868 11111220905090756   \n1       2114  2022-09-05   09:32:50     01거5868 11111220905090750   \n2       4350  2022-09-05    17:00:27    01거5868 11111220905170028   \n3       2588  2022-09-05   17:27:22     01거5868 11111220905170020   \n4       4554  2022-09-06    09:02:53    01거5868 11111220906090252   \n...      ...         ...         ...        ...               ...   \n77339  22206  2022-10-05   15:29:16   충북80배1724 11112221005150810   \n77340   9973  2022-09-10    16:07:19  충북86자3167 11112220910160720   \n77341  30326  2022-09-28    17:26:49  충북86자3167 11113220928172648   \n77342  30326  2022-09-28    17:26:49  충북86자3167 11113200000000000   \n77343  18128  2022-09-28   17:54:17   충북86자3167 11113220928172640   \n\n              입출차카드번호        장비명  입출차구분 입출차고객구분  출차여부 차량종류  주차장 입출차여부  \\\n0     100000000037794      12동입구     정상     정기권    출차   소형  12동    입차   \n1     100000000037794    12동출구#1  정기권출차     정기권    출차   소형  12동    출차   \n2     100000000037794      12동입구     정상     정기권    출차   소형  12동    입차   \n3     100000000037794    12동출구#1  정기권출차     정기권    출차   소형  12동    출차   \n4     100000000037794      12동입구     정상     정기권    출차   소형  12동    입차   \n...               ...        ...    ...     ...   ...  ...  ...   ...   \n77339 100000000039079  13-1동출구#1  정기권출차     정기권    출차   소형  13동    출차   \n77340 100000000051701    13-1동입구     정상     정기권  강제출차   소형  13동    입차   \n77341 100000000051701    13-2동입구     중복     정기권    출차   소형  13동    입차   \n77342 100000000000000    13-2동입구     중복     정기권    출차   소형  13동    출차   \n77343 100000000051701  13-2동출구#1  정기권출차     정기권    출차   소형  13동    출차   \n\n                    입출차시각   시  \n0     2022-09-05 09:07:56   9  \n1     2022-09-05 09:32:50   9  \n2     2022-09-05 17:00:27  17  \n3     2022-09-05 17:27:22  17  \n4     2022-09-06 09:02:53   9  \n...                   ...  ..  \n77339 2022-10-05 15:29:16  15  \n77340 2022-09-10 16:07:19  16  \n77341 2022-09-28 17:26:49  17  \n77342 2022-09-28 17:26:49  17  \n77343 2022-09-28 17:54:17  17  \n\n[77344 rows x 15 columns]",
      "text/html": "<div>\n<style scoped>\n    .dataframe tbody tr th:only-of-type {\n        vertical-align: middle;\n    }\n\n    .dataframe tbody tr th {\n        vertical-align: top;\n    }\n\n    .dataframe thead th {\n        text-align: right;\n    }\n</style>\n<table border=\"1\" class=\"dataframe\">\n  <thead>\n    <tr style=\"text-align: right;\">\n      <th></th>\n      <th>index</th>\n      <th>일자</th>\n      <th>시각</th>\n      <th>차량번호</th>\n      <th>주차일련번호</th>\n      <th>입출차카드번호</th>\n      <th>장비명</th>\n      <th>입출차구분</th>\n      <th>입출차고객구분</th>\n      <th>출차여부</th>\n      <th>차량종류</th>\n      <th>주차장</th>\n      <th>입출차여부</th>\n      <th>입출차시각</th>\n      <th>시</th>\n    </tr>\n  </thead>\n  <tbody>\n    <tr>\n      <th>0</th>\n      <td>4218</td>\n      <td>2022-09-05</td>\n      <td>09:07:56</td>\n      <td>01거5868</td>\n      <td>11111220905090756</td>\n      <td>100000000037794</td>\n      <td>12동입구</td>\n      <td>정상</td>\n      <td>정기권</td>\n      <td>출차</td>\n      <td>소형</td>\n      <td>12동</td>\n      <td>입차</td>\n      <td>2022-09-05 09:07:56</td>\n      <td>9</td>\n    </tr>\n    <tr>\n      <th>1</th>\n      <td>2114</td>\n      <td>2022-09-05</td>\n      <td>09:32:50</td>\n      <td>01거5868</td>\n      <td>11111220905090750</td>\n      <td>100000000037794</td>\n      <td>12동출구#1</td>\n      <td>정기권출차</td>\n      <td>정기권</td>\n      <td>출차</td>\n      <td>소형</td>\n      <td>12동</td>\n      <td>출차</td>\n      <td>2022-09-05 09:32:50</td>\n      <td>9</td>\n    </tr>\n    <tr>\n      <th>2</th>\n      <td>4350</td>\n      <td>2022-09-05</td>\n      <td>17:00:27</td>\n      <td>01거5868</td>\n      <td>11111220905170028</td>\n      <td>100000000037794</td>\n      <td>12동입구</td>\n      <td>정상</td>\n      <td>정기권</td>\n      <td>출차</td>\n      <td>소형</td>\n      <td>12동</td>\n      <td>입차</td>\n      <td>2022-09-05 17:00:27</td>\n      <td>17</td>\n    </tr>\n    <tr>\n      <th>3</th>\n      <td>2588</td>\n      <td>2022-09-05</td>\n      <td>17:27:22</td>\n      <td>01거5868</td>\n      <td>11111220905170020</td>\n      <td>100000000037794</td>\n      <td>12동출구#1</td>\n      <td>정기권출차</td>\n      <td>정기권</td>\n      <td>출차</td>\n      <td>소형</td>\n      <td>12동</td>\n      <td>출차</td>\n      <td>2022-09-05 17:27:22</td>\n      <td>17</td>\n    </tr>\n    <tr>\n      <th>4</th>\n      <td>4554</td>\n      <td>2022-09-06</td>\n      <td>09:02:53</td>\n      <td>01거5868</td>\n      <td>11111220906090252</td>\n      <td>100000000037794</td>\n      <td>12동입구</td>\n      <td>정상</td>\n      <td>정기권</td>\n      <td>출차</td>\n      <td>소형</td>\n      <td>12동</td>\n      <td>입차</td>\n      <td>2022-09-06 09:02:53</td>\n      <td>9</td>\n    </tr>\n    <tr>\n      <th>...</th>\n      <td>...</td>\n      <td>...</td>\n      <td>...</td>\n      <td>...</td>\n      <td>...</td>\n      <td>...</td>\n      <td>...</td>\n      <td>...</td>\n      <td>...</td>\n      <td>...</td>\n      <td>...</td>\n      <td>...</td>\n      <td>...</td>\n      <td>...</td>\n      <td>...</td>\n    </tr>\n    <tr>\n      <th>77339</th>\n      <td>22206</td>\n      <td>2022-10-05</td>\n      <td>15:29:16</td>\n      <td>충북80배1724</td>\n      <td>11112221005150810</td>\n      <td>100000000039079</td>\n      <td>13-1동출구#1</td>\n      <td>정기권출차</td>\n      <td>정기권</td>\n      <td>출차</td>\n      <td>소형</td>\n      <td>13동</td>\n      <td>출차</td>\n      <td>2022-10-05 15:29:16</td>\n      <td>15</td>\n    </tr>\n    <tr>\n      <th>77340</th>\n      <td>9973</td>\n      <td>2022-09-10</td>\n      <td>16:07:19</td>\n      <td>충북86자3167</td>\n      <td>11112220910160720</td>\n      <td>100000000051701</td>\n      <td>13-1동입구</td>\n      <td>정상</td>\n      <td>정기권</td>\n      <td>강제출차</td>\n      <td>소형</td>\n      <td>13동</td>\n      <td>입차</td>\n      <td>2022-09-10 16:07:19</td>\n      <td>16</td>\n    </tr>\n    <tr>\n      <th>77341</th>\n      <td>30326</td>\n      <td>2022-09-28</td>\n      <td>17:26:49</td>\n      <td>충북86자3167</td>\n      <td>11113220928172648</td>\n      <td>100000000051701</td>\n      <td>13-2동입구</td>\n      <td>중복</td>\n      <td>정기권</td>\n      <td>출차</td>\n      <td>소형</td>\n      <td>13동</td>\n      <td>입차</td>\n      <td>2022-09-28 17:26:49</td>\n      <td>17</td>\n    </tr>\n    <tr>\n      <th>77342</th>\n      <td>30326</td>\n      <td>2022-09-28</td>\n      <td>17:26:49</td>\n      <td>충북86자3167</td>\n      <td>11113200000000000</td>\n      <td>100000000000000</td>\n      <td>13-2동입구</td>\n      <td>중복</td>\n      <td>정기권</td>\n      <td>출차</td>\n      <td>소형</td>\n      <td>13동</td>\n      <td>출차</td>\n      <td>2022-09-28 17:26:49</td>\n      <td>17</td>\n    </tr>\n    <tr>\n      <th>77343</th>\n      <td>18128</td>\n      <td>2022-09-28</td>\n      <td>17:54:17</td>\n      <td>충북86자3167</td>\n      <td>11113220928172640</td>\n      <td>100000000051701</td>\n      <td>13-2동출구#1</td>\n      <td>정기권출차</td>\n      <td>정기권</td>\n      <td>출차</td>\n      <td>소형</td>\n      <td>13동</td>\n      <td>출차</td>\n      <td>2022-09-28 17:54:17</td>\n      <td>17</td>\n    </tr>\n  </tbody>\n</table>\n<p>77344 rows × 15 columns</p>\n</div>"
     },
     "execution_count": 16,
     "metadata": {},
     "output_type": "execute_result"
    }
   ],
   "source": [
    "df"
   ],
   "metadata": {
    "collapsed": false
   }
  },
  {
   "cell_type": "markdown",
   "source": [
    "# 입차시간 == 출차시간인 경우 파악하기\n",
    "- 입차시간 == 출차시간인 경우 입차로간주하고 출차 제거하기"
   ],
   "metadata": {
    "collapsed": false
   }
  },
  {
   "cell_type": "code",
   "execution_count": 17,
   "outputs": [
    {
     "data": {
      "text/plain": "array([['2022-09-05', ' 09:07:56', '01거5868'],\n       ['2022-09-05', ' 09:32:50 ', '01거5868'],\n       ['2022-09-05', ' 17:00:27', '01거5868'],\n       ...,\n       ['2022-09-28', ' 17:26:49', '충북86자3167'],\n       ['2022-09-28', ' 17:26:49', '충북86자3167'],\n       ['2022-09-28', ' 17:54:17 ', '충북86자3167']], dtype=object)"
     },
     "execution_count": 17,
     "metadata": {},
     "output_type": "execute_result"
    }
   ],
   "source": [
    "car_arr = np.array(df[['일자','시각','차량번호']])\n",
    "car_arr"
   ],
   "metadata": {
    "collapsed": false
   }
  },
  {
   "cell_type": "code",
   "execution_count": 18,
   "outputs": [
    {
     "data": {
      "text/plain": "               일자          시각       차량번호            주차일련번호         입출차카드번호  \\\n0      2022-09-05    09:07:56    01거5868 11111220905090756 100000000037794   \n1      2022-09-05   09:32:50     01거5868 11111220905090750 100000000037794   \n2      2022-09-05    17:00:27    01거5868 11111220905170028 100000000037794   \n3      2022-09-05   17:27:22     01거5868 11111220905170020 100000000037794   \n4      2022-09-06    09:02:53    01거5868 11111220906090252 100000000037794   \n...           ...         ...        ...               ...             ...   \n61486  2022-10-05    15:08:15  충북80배1724 11112221005150816 100000000039079   \n61487  2022-10-05   15:29:16   충북80배1724 11112221005150810 100000000039079   \n61488  2022-09-10    16:07:19  충북86자3167 11112220910160720 100000000051701   \n61489  2022-09-28    17:26:49  충북86자3167 11113220928172648 100000000051701   \n61490  2022-09-28   17:54:17   충북86자3167 11113220928172640 100000000051701   \n\n             장비명  입출차구분 입출차고객구분  출차여부 차량종류  주차장 입출차여부               입출차시각   시  \n0          12동입구     정상     정기권    출차   소형  12동    입차 2022-09-05 09:07:56   9  \n1        12동출구#1  정기권출차     정기권    출차   소형  12동    출차 2022-09-05 09:32:50   9  \n2          12동입구     정상     정기권    출차   소형  12동    입차 2022-09-05 17:00:27  17  \n3        12동출구#1  정기권출차     정기권    출차   소형  12동    출차 2022-09-05 17:27:22  17  \n4          12동입구     정상     정기권    출차   소형  12동    입차 2022-09-06 09:02:53   9  \n...          ...    ...     ...   ...  ...  ...   ...                 ...  ..  \n61486    13-1동입구     정상     정기권    출차   소형  13동    입차 2022-10-05 15:08:15  15  \n61487  13-1동출구#1  정기권출차     정기권    출차   소형  13동    출차 2022-10-05 15:29:16  15  \n61488    13-1동입구     정상     정기권  강제출차   소형  13동    입차 2022-09-10 16:07:19  16  \n61489    13-2동입구     중복     정기권    출차   소형  13동    입차 2022-09-28 17:26:49  17  \n61490  13-2동출구#1  정기권출차     정기권    출차   소형  13동    출차 2022-09-28 17:54:17  17  \n\n[61491 rows x 14 columns]",
      "text/html": "<div>\n<style scoped>\n    .dataframe tbody tr th:only-of-type {\n        vertical-align: middle;\n    }\n\n    .dataframe tbody tr th {\n        vertical-align: top;\n    }\n\n    .dataframe thead th {\n        text-align: right;\n    }\n</style>\n<table border=\"1\" class=\"dataframe\">\n  <thead>\n    <tr style=\"text-align: right;\">\n      <th></th>\n      <th>일자</th>\n      <th>시각</th>\n      <th>차량번호</th>\n      <th>주차일련번호</th>\n      <th>입출차카드번호</th>\n      <th>장비명</th>\n      <th>입출차구분</th>\n      <th>입출차고객구분</th>\n      <th>출차여부</th>\n      <th>차량종류</th>\n      <th>주차장</th>\n      <th>입출차여부</th>\n      <th>입출차시각</th>\n      <th>시</th>\n    </tr>\n  </thead>\n  <tbody>\n    <tr>\n      <th>0</th>\n      <td>2022-09-05</td>\n      <td>09:07:56</td>\n      <td>01거5868</td>\n      <td>11111220905090756</td>\n      <td>100000000037794</td>\n      <td>12동입구</td>\n      <td>정상</td>\n      <td>정기권</td>\n      <td>출차</td>\n      <td>소형</td>\n      <td>12동</td>\n      <td>입차</td>\n      <td>2022-09-05 09:07:56</td>\n      <td>9</td>\n    </tr>\n    <tr>\n      <th>1</th>\n      <td>2022-09-05</td>\n      <td>09:32:50</td>\n      <td>01거5868</td>\n      <td>11111220905090750</td>\n      <td>100000000037794</td>\n      <td>12동출구#1</td>\n      <td>정기권출차</td>\n      <td>정기권</td>\n      <td>출차</td>\n      <td>소형</td>\n      <td>12동</td>\n      <td>출차</td>\n      <td>2022-09-05 09:32:50</td>\n      <td>9</td>\n    </tr>\n    <tr>\n      <th>2</th>\n      <td>2022-09-05</td>\n      <td>17:00:27</td>\n      <td>01거5868</td>\n      <td>11111220905170028</td>\n      <td>100000000037794</td>\n      <td>12동입구</td>\n      <td>정상</td>\n      <td>정기권</td>\n      <td>출차</td>\n      <td>소형</td>\n      <td>12동</td>\n      <td>입차</td>\n      <td>2022-09-05 17:00:27</td>\n      <td>17</td>\n    </tr>\n    <tr>\n      <th>3</th>\n      <td>2022-09-05</td>\n      <td>17:27:22</td>\n      <td>01거5868</td>\n      <td>11111220905170020</td>\n      <td>100000000037794</td>\n      <td>12동출구#1</td>\n      <td>정기권출차</td>\n      <td>정기권</td>\n      <td>출차</td>\n      <td>소형</td>\n      <td>12동</td>\n      <td>출차</td>\n      <td>2022-09-05 17:27:22</td>\n      <td>17</td>\n    </tr>\n    <tr>\n      <th>4</th>\n      <td>2022-09-06</td>\n      <td>09:02:53</td>\n      <td>01거5868</td>\n      <td>11111220906090252</td>\n      <td>100000000037794</td>\n      <td>12동입구</td>\n      <td>정상</td>\n      <td>정기권</td>\n      <td>출차</td>\n      <td>소형</td>\n      <td>12동</td>\n      <td>입차</td>\n      <td>2022-09-06 09:02:53</td>\n      <td>9</td>\n    </tr>\n    <tr>\n      <th>...</th>\n      <td>...</td>\n      <td>...</td>\n      <td>...</td>\n      <td>...</td>\n      <td>...</td>\n      <td>...</td>\n      <td>...</td>\n      <td>...</td>\n      <td>...</td>\n      <td>...</td>\n      <td>...</td>\n      <td>...</td>\n      <td>...</td>\n      <td>...</td>\n    </tr>\n    <tr>\n      <th>61486</th>\n      <td>2022-10-05</td>\n      <td>15:08:15</td>\n      <td>충북80배1724</td>\n      <td>11112221005150816</td>\n      <td>100000000039079</td>\n      <td>13-1동입구</td>\n      <td>정상</td>\n      <td>정기권</td>\n      <td>출차</td>\n      <td>소형</td>\n      <td>13동</td>\n      <td>입차</td>\n      <td>2022-10-05 15:08:15</td>\n      <td>15</td>\n    </tr>\n    <tr>\n      <th>61487</th>\n      <td>2022-10-05</td>\n      <td>15:29:16</td>\n      <td>충북80배1724</td>\n      <td>11112221005150810</td>\n      <td>100000000039079</td>\n      <td>13-1동출구#1</td>\n      <td>정기권출차</td>\n      <td>정기권</td>\n      <td>출차</td>\n      <td>소형</td>\n      <td>13동</td>\n      <td>출차</td>\n      <td>2022-10-05 15:29:16</td>\n      <td>15</td>\n    </tr>\n    <tr>\n      <th>61488</th>\n      <td>2022-09-10</td>\n      <td>16:07:19</td>\n      <td>충북86자3167</td>\n      <td>11112220910160720</td>\n      <td>100000000051701</td>\n      <td>13-1동입구</td>\n      <td>정상</td>\n      <td>정기권</td>\n      <td>강제출차</td>\n      <td>소형</td>\n      <td>13동</td>\n      <td>입차</td>\n      <td>2022-09-10 16:07:19</td>\n      <td>16</td>\n    </tr>\n    <tr>\n      <th>61489</th>\n      <td>2022-09-28</td>\n      <td>17:26:49</td>\n      <td>충북86자3167</td>\n      <td>11113220928172648</td>\n      <td>100000000051701</td>\n      <td>13-2동입구</td>\n      <td>중복</td>\n      <td>정기권</td>\n      <td>출차</td>\n      <td>소형</td>\n      <td>13동</td>\n      <td>입차</td>\n      <td>2022-09-28 17:26:49</td>\n      <td>17</td>\n    </tr>\n    <tr>\n      <th>61490</th>\n      <td>2022-09-28</td>\n      <td>17:54:17</td>\n      <td>충북86자3167</td>\n      <td>11113220928172640</td>\n      <td>100000000051701</td>\n      <td>13-2동출구#1</td>\n      <td>정기권출차</td>\n      <td>정기권</td>\n      <td>출차</td>\n      <td>소형</td>\n      <td>13동</td>\n      <td>출차</td>\n      <td>2022-09-28 17:54:17</td>\n      <td>17</td>\n    </tr>\n  </tbody>\n</table>\n<p>61491 rows × 14 columns</p>\n</div>"
     },
     "execution_count": 18,
     "metadata": {},
     "output_type": "execute_result"
    }
   ],
   "source": [
    "test_idx_list =[]\n",
    "for idx in range(len(car_arr)-1):\n",
    "    if car_arr[idx][0] == car_arr[idx+1][0] and car_arr[idx][1] == car_arr[idx+1][1] and car_arr[idx][2] == car_arr[idx+1][2]:\n",
    "        test_idx_list.append(idx)\n",
    "        test_idx_list.append(idx+1)\n",
    "        #test_idx_list.append(idx+2)\n",
    "test_idx_list = list(set(test_idx_list))\n",
    "test_df = df.loc[test_idx_list]\n",
    "eleminate_index = test_df[test_df['입출차여부']=='출차'].index\n",
    "df2 = df.drop(eleminate_index)\n",
    "df2.drop(['index'],axis = 1 , inplace = True)\n",
    "df2.reset_index(inplace=True)\n",
    "df2.drop(['index'],axis = 1 , inplace = True)\n",
    "df2"
   ],
   "metadata": {
    "collapsed": false
   }
  },
  {
   "cell_type": "code",
   "execution_count": 19,
   "outputs": [
    {
     "data": {
      "text/plain": "       index          일자         시각     차량번호            주차일련번호  \\\n73652  24350  2022-09-16   07:59:10  85부3062 14111220916075910   \n73653  24350  2022-09-16   07:59:10  85부3062 14111200000000000   \n73661  24494  2022-09-16   13:55:30  85부3062 14111220916135530   \n73662  24494  2022-09-16   13:55:30  85부3062 14111200000000000   \n73672  24593  2022-09-19   08:00:10  85부3062 14111220919080010   \n...      ...         ...        ...      ...               ...   \n73945  30898  2022-10-05   08:03:15  85부3062 11114200000000000   \n73947  37314  2022-10-05   08:12:25  85부3062 11112221005081224   \n73948  37314  2022-10-05   08:12:25  85부3062 11112200000000000   \n73951  37383  2022-10-05   15:33:40  85부3062 11112221005153340   \n73952  37383  2022-10-05   15:33:40  85부3062 11112200000000000   \n\n              입출차카드번호        장비명 입출차구분 입출차고객구분 출차여부 차량종류  주차장 입출차여부  \\\n73652 100000000024581  14-2동지하입구    중복     정기권   출차   소형  14동    입차   \n73653 100000000000000  14-2동지하입구    중복     정기권   출차   소형  14동    출차   \n73661 100000000024581  14-2동지하입구    중복     정기권   출차   소형  14동    입차   \n73662 100000000000000  14-2동지하입구    중복     정기권   출차   소형  14동    출차   \n73672 100000000024581  14-2동지하입구    정상     정기권   출차   소형  14동    입차   \n...               ...        ...   ...     ...  ...  ...  ...   ...   \n73945 100000000000000    13-3동입구    정상     정기권   출차   소형  13동    출차   \n73947 100000000024581    13-1동입구    정상     정기권   출차   소형  13동    입차   \n73948 100000000000000    13-1동입구    정상     정기권   출차   소형  13동    출차   \n73951 100000000024581    13-1동입구    정상     정기권   출차   소형  13동    입차   \n73952 100000000000000    13-1동입구    정상     정기권   출차   소형  13동    출차   \n\n                    입출차시각   시  \n73652 2022-09-16 07:59:10   7  \n73653 2022-09-16 07:59:10   7  \n73661 2022-09-16 13:55:30  13  \n73662 2022-09-16 13:55:30  13  \n73672 2022-09-19 08:00:10   8  \n...                   ...  ..  \n73945 2022-10-05 08:03:15   8  \n73947 2022-10-05 08:12:25   8  \n73948 2022-10-05 08:12:25   8  \n73951 2022-10-05 15:33:40  15  \n73952 2022-10-05 15:33:40  15  \n\n[166 rows x 15 columns]",
      "text/html": "<div>\n<style scoped>\n    .dataframe tbody tr th:only-of-type {\n        vertical-align: middle;\n    }\n\n    .dataframe tbody tr th {\n        vertical-align: top;\n    }\n\n    .dataframe thead th {\n        text-align: right;\n    }\n</style>\n<table border=\"1\" class=\"dataframe\">\n  <thead>\n    <tr style=\"text-align: right;\">\n      <th></th>\n      <th>index</th>\n      <th>일자</th>\n      <th>시각</th>\n      <th>차량번호</th>\n      <th>주차일련번호</th>\n      <th>입출차카드번호</th>\n      <th>장비명</th>\n      <th>입출차구분</th>\n      <th>입출차고객구분</th>\n      <th>출차여부</th>\n      <th>차량종류</th>\n      <th>주차장</th>\n      <th>입출차여부</th>\n      <th>입출차시각</th>\n      <th>시</th>\n    </tr>\n  </thead>\n  <tbody>\n    <tr>\n      <th>73652</th>\n      <td>24350</td>\n      <td>2022-09-16</td>\n      <td>07:59:10</td>\n      <td>85부3062</td>\n      <td>14111220916075910</td>\n      <td>100000000024581</td>\n      <td>14-2동지하입구</td>\n      <td>중복</td>\n      <td>정기권</td>\n      <td>출차</td>\n      <td>소형</td>\n      <td>14동</td>\n      <td>입차</td>\n      <td>2022-09-16 07:59:10</td>\n      <td>7</td>\n    </tr>\n    <tr>\n      <th>73653</th>\n      <td>24350</td>\n      <td>2022-09-16</td>\n      <td>07:59:10</td>\n      <td>85부3062</td>\n      <td>14111200000000000</td>\n      <td>100000000000000</td>\n      <td>14-2동지하입구</td>\n      <td>중복</td>\n      <td>정기권</td>\n      <td>출차</td>\n      <td>소형</td>\n      <td>14동</td>\n      <td>출차</td>\n      <td>2022-09-16 07:59:10</td>\n      <td>7</td>\n    </tr>\n    <tr>\n      <th>73661</th>\n      <td>24494</td>\n      <td>2022-09-16</td>\n      <td>13:55:30</td>\n      <td>85부3062</td>\n      <td>14111220916135530</td>\n      <td>100000000024581</td>\n      <td>14-2동지하입구</td>\n      <td>중복</td>\n      <td>정기권</td>\n      <td>출차</td>\n      <td>소형</td>\n      <td>14동</td>\n      <td>입차</td>\n      <td>2022-09-16 13:55:30</td>\n      <td>13</td>\n    </tr>\n    <tr>\n      <th>73662</th>\n      <td>24494</td>\n      <td>2022-09-16</td>\n      <td>13:55:30</td>\n      <td>85부3062</td>\n      <td>14111200000000000</td>\n      <td>100000000000000</td>\n      <td>14-2동지하입구</td>\n      <td>중복</td>\n      <td>정기권</td>\n      <td>출차</td>\n      <td>소형</td>\n      <td>14동</td>\n      <td>출차</td>\n      <td>2022-09-16 13:55:30</td>\n      <td>13</td>\n    </tr>\n    <tr>\n      <th>73672</th>\n      <td>24593</td>\n      <td>2022-09-19</td>\n      <td>08:00:10</td>\n      <td>85부3062</td>\n      <td>14111220919080010</td>\n      <td>100000000024581</td>\n      <td>14-2동지하입구</td>\n      <td>정상</td>\n      <td>정기권</td>\n      <td>출차</td>\n      <td>소형</td>\n      <td>14동</td>\n      <td>입차</td>\n      <td>2022-09-19 08:00:10</td>\n      <td>8</td>\n    </tr>\n    <tr>\n      <th>...</th>\n      <td>...</td>\n      <td>...</td>\n      <td>...</td>\n      <td>...</td>\n      <td>...</td>\n      <td>...</td>\n      <td>...</td>\n      <td>...</td>\n      <td>...</td>\n      <td>...</td>\n      <td>...</td>\n      <td>...</td>\n      <td>...</td>\n      <td>...</td>\n      <td>...</td>\n    </tr>\n    <tr>\n      <th>73945</th>\n      <td>30898</td>\n      <td>2022-10-05</td>\n      <td>08:03:15</td>\n      <td>85부3062</td>\n      <td>11114200000000000</td>\n      <td>100000000000000</td>\n      <td>13-3동입구</td>\n      <td>정상</td>\n      <td>정기권</td>\n      <td>출차</td>\n      <td>소형</td>\n      <td>13동</td>\n      <td>출차</td>\n      <td>2022-10-05 08:03:15</td>\n      <td>8</td>\n    </tr>\n    <tr>\n      <th>73947</th>\n      <td>37314</td>\n      <td>2022-10-05</td>\n      <td>08:12:25</td>\n      <td>85부3062</td>\n      <td>11112221005081224</td>\n      <td>100000000024581</td>\n      <td>13-1동입구</td>\n      <td>정상</td>\n      <td>정기권</td>\n      <td>출차</td>\n      <td>소형</td>\n      <td>13동</td>\n      <td>입차</td>\n      <td>2022-10-05 08:12:25</td>\n      <td>8</td>\n    </tr>\n    <tr>\n      <th>73948</th>\n      <td>37314</td>\n      <td>2022-10-05</td>\n      <td>08:12:25</td>\n      <td>85부3062</td>\n      <td>11112200000000000</td>\n      <td>100000000000000</td>\n      <td>13-1동입구</td>\n      <td>정상</td>\n      <td>정기권</td>\n      <td>출차</td>\n      <td>소형</td>\n      <td>13동</td>\n      <td>출차</td>\n      <td>2022-10-05 08:12:25</td>\n      <td>8</td>\n    </tr>\n    <tr>\n      <th>73951</th>\n      <td>37383</td>\n      <td>2022-10-05</td>\n      <td>15:33:40</td>\n      <td>85부3062</td>\n      <td>11112221005153340</td>\n      <td>100000000024581</td>\n      <td>13-1동입구</td>\n      <td>정상</td>\n      <td>정기권</td>\n      <td>출차</td>\n      <td>소형</td>\n      <td>13동</td>\n      <td>입차</td>\n      <td>2022-10-05 15:33:40</td>\n      <td>15</td>\n    </tr>\n    <tr>\n      <th>73952</th>\n      <td>37383</td>\n      <td>2022-10-05</td>\n      <td>15:33:40</td>\n      <td>85부3062</td>\n      <td>11112200000000000</td>\n      <td>100000000000000</td>\n      <td>13-1동입구</td>\n      <td>정상</td>\n      <td>정기권</td>\n      <td>출차</td>\n      <td>소형</td>\n      <td>13동</td>\n      <td>출차</td>\n      <td>2022-10-05 15:33:40</td>\n      <td>15</td>\n    </tr>\n  </tbody>\n</table>\n<p>166 rows × 15 columns</p>\n</div>"
     },
     "execution_count": 19,
     "metadata": {},
     "output_type": "execute_result"
    }
   ],
   "source": [
    "test_df[test_df['차량번호'] == '85부3062']\n"
   ],
   "metadata": {
    "collapsed": false
   }
  },
  {
   "cell_type": "markdown",
   "source": [
    "# 데이터 전처리\n",
    "- 아침시간이니 입차시간 == 출차시간인 경우 입차로 가정\n",
    "- 차량 번호별로 입차1,입차2,.....출차,출차 인경우  >>  입차1, 출차로\n",
    "- 입차1,입차2,입차3, 출차 >>> 입차3, 출차 로해야하는게 맞는듯?\n",
    "- 아니면 출차 주차장 기준으로 하든가\n",
    "\n",
    "## 입차입차 연속인 경우 > 입차 출차 입차로 바꾸기????"
   ],
   "metadata": {
    "collapsed": false
   }
  },
  {
   "cell_type": "code",
   "execution_count": 23,
   "outputs": [
    {
     "data": {
      "text/plain": "               일자         시각       차량번호            주차일련번호         입출차카드번호  \\\n10     2022-09-01   07:42:33    01나3085 11113220901074232 100000000029503   \n11     2022-09-08   08:05:47    01나3085 11113220908080548 100000000029503   \n12     2022-09-08   10:02:42    01나3085 11113220908100242 100000000029503   \n13     2022-09-13   16:49:44    01나3085 11112220913164944 100000000029503   \n23     2022-09-26   17:52:40    01나3085 11112220926175240 100000000029503   \n...           ...        ...        ...               ...             ...   \n61480  2022-10-05   14:34:43  충북80배1724 11111221005143444 100000000039079   \n61481  2022-10-05   14:37:02  충북80배1724 13111221005143702 100000000039079   \n61482  2022-10-05   14:43:12  충북80배1724 13112221005144312 100000000039079   \n61488  2022-09-10   16:07:19  충북86자3167 11112220910160720 100000000051701   \n61489  2022-09-28   17:26:49  충북86자3167 11113220928172648 100000000051701   \n\n           장비명 입출차구분 입출차고객구분  출차여부 차량종류  주차장 입출차여부               입출차시각   시  \n10     13-2동입구    정상     정기권  강제출차   소형  13동    입차 2022-09-01 07:42:33   7  \n11     13-2동입구    중복     정기권  강제출차   소형  13동    입차 2022-09-08 08:05:47   8  \n12     13-2동입구    중복     정기권  강제출차   소형  13동    입차 2022-09-08 10:02:42  10  \n13     13-1동입구    중복     정기권    출차   소형  13동    입차 2022-09-13 16:49:44  16  \n23     13-1동입구    정상     정기권  강제출차   소형  13동    입차 2022-09-26 17:52:40  17  \n...        ...   ...     ...   ...  ...  ...   ...                 ...  ..  \n61480    12동입구    중복     정기권    출차   소형  12동    입차 2022-10-05 14:34:43  14  \n61481  14-1동입구    정상     정기권    출차   소형  14동    입차 2022-10-05 14:37:02  14  \n61482  14-2동입구    정상     정기권    출차   소형  14동    입차 2022-10-05 14:43:12  14  \n61488  13-1동입구    정상     정기권  강제출차   소형  13동    입차 2022-09-10 16:07:19  16  \n61489  13-2동입구    중복     정기권    출차   소형  13동    입차 2022-09-28 17:26:49  17  \n\n[26504 rows x 14 columns]",
      "text/html": "<div>\n<style scoped>\n    .dataframe tbody tr th:only-of-type {\n        vertical-align: middle;\n    }\n\n    .dataframe tbody tr th {\n        vertical-align: top;\n    }\n\n    .dataframe thead th {\n        text-align: right;\n    }\n</style>\n<table border=\"1\" class=\"dataframe\">\n  <thead>\n    <tr style=\"text-align: right;\">\n      <th></th>\n      <th>일자</th>\n      <th>시각</th>\n      <th>차량번호</th>\n      <th>주차일련번호</th>\n      <th>입출차카드번호</th>\n      <th>장비명</th>\n      <th>입출차구분</th>\n      <th>입출차고객구분</th>\n      <th>출차여부</th>\n      <th>차량종류</th>\n      <th>주차장</th>\n      <th>입출차여부</th>\n      <th>입출차시각</th>\n      <th>시</th>\n    </tr>\n  </thead>\n  <tbody>\n    <tr>\n      <th>10</th>\n      <td>2022-09-01</td>\n      <td>07:42:33</td>\n      <td>01나3085</td>\n      <td>11113220901074232</td>\n      <td>100000000029503</td>\n      <td>13-2동입구</td>\n      <td>정상</td>\n      <td>정기권</td>\n      <td>강제출차</td>\n      <td>소형</td>\n      <td>13동</td>\n      <td>입차</td>\n      <td>2022-09-01 07:42:33</td>\n      <td>7</td>\n    </tr>\n    <tr>\n      <th>11</th>\n      <td>2022-09-08</td>\n      <td>08:05:47</td>\n      <td>01나3085</td>\n      <td>11113220908080548</td>\n      <td>100000000029503</td>\n      <td>13-2동입구</td>\n      <td>중복</td>\n      <td>정기권</td>\n      <td>강제출차</td>\n      <td>소형</td>\n      <td>13동</td>\n      <td>입차</td>\n      <td>2022-09-08 08:05:47</td>\n      <td>8</td>\n    </tr>\n    <tr>\n      <th>12</th>\n      <td>2022-09-08</td>\n      <td>10:02:42</td>\n      <td>01나3085</td>\n      <td>11113220908100242</td>\n      <td>100000000029503</td>\n      <td>13-2동입구</td>\n      <td>중복</td>\n      <td>정기권</td>\n      <td>강제출차</td>\n      <td>소형</td>\n      <td>13동</td>\n      <td>입차</td>\n      <td>2022-09-08 10:02:42</td>\n      <td>10</td>\n    </tr>\n    <tr>\n      <th>13</th>\n      <td>2022-09-13</td>\n      <td>16:49:44</td>\n      <td>01나3085</td>\n      <td>11112220913164944</td>\n      <td>100000000029503</td>\n      <td>13-1동입구</td>\n      <td>중복</td>\n      <td>정기권</td>\n      <td>출차</td>\n      <td>소형</td>\n      <td>13동</td>\n      <td>입차</td>\n      <td>2022-09-13 16:49:44</td>\n      <td>16</td>\n    </tr>\n    <tr>\n      <th>23</th>\n      <td>2022-09-26</td>\n      <td>17:52:40</td>\n      <td>01나3085</td>\n      <td>11112220926175240</td>\n      <td>100000000029503</td>\n      <td>13-1동입구</td>\n      <td>정상</td>\n      <td>정기권</td>\n      <td>강제출차</td>\n      <td>소형</td>\n      <td>13동</td>\n      <td>입차</td>\n      <td>2022-09-26 17:52:40</td>\n      <td>17</td>\n    </tr>\n    <tr>\n      <th>...</th>\n      <td>...</td>\n      <td>...</td>\n      <td>...</td>\n      <td>...</td>\n      <td>...</td>\n      <td>...</td>\n      <td>...</td>\n      <td>...</td>\n      <td>...</td>\n      <td>...</td>\n      <td>...</td>\n      <td>...</td>\n      <td>...</td>\n      <td>...</td>\n    </tr>\n    <tr>\n      <th>61480</th>\n      <td>2022-10-05</td>\n      <td>14:34:43</td>\n      <td>충북80배1724</td>\n      <td>11111221005143444</td>\n      <td>100000000039079</td>\n      <td>12동입구</td>\n      <td>중복</td>\n      <td>정기권</td>\n      <td>출차</td>\n      <td>소형</td>\n      <td>12동</td>\n      <td>입차</td>\n      <td>2022-10-05 14:34:43</td>\n      <td>14</td>\n    </tr>\n    <tr>\n      <th>61481</th>\n      <td>2022-10-05</td>\n      <td>14:37:02</td>\n      <td>충북80배1724</td>\n      <td>13111221005143702</td>\n      <td>100000000039079</td>\n      <td>14-1동입구</td>\n      <td>정상</td>\n      <td>정기권</td>\n      <td>출차</td>\n      <td>소형</td>\n      <td>14동</td>\n      <td>입차</td>\n      <td>2022-10-05 14:37:02</td>\n      <td>14</td>\n    </tr>\n    <tr>\n      <th>61482</th>\n      <td>2022-10-05</td>\n      <td>14:43:12</td>\n      <td>충북80배1724</td>\n      <td>13112221005144312</td>\n      <td>100000000039079</td>\n      <td>14-2동입구</td>\n      <td>정상</td>\n      <td>정기권</td>\n      <td>출차</td>\n      <td>소형</td>\n      <td>14동</td>\n      <td>입차</td>\n      <td>2022-10-05 14:43:12</td>\n      <td>14</td>\n    </tr>\n    <tr>\n      <th>61488</th>\n      <td>2022-09-10</td>\n      <td>16:07:19</td>\n      <td>충북86자3167</td>\n      <td>11112220910160720</td>\n      <td>100000000051701</td>\n      <td>13-1동입구</td>\n      <td>정상</td>\n      <td>정기권</td>\n      <td>강제출차</td>\n      <td>소형</td>\n      <td>13동</td>\n      <td>입차</td>\n      <td>2022-09-10 16:07:19</td>\n      <td>16</td>\n    </tr>\n    <tr>\n      <th>61489</th>\n      <td>2022-09-28</td>\n      <td>17:26:49</td>\n      <td>충북86자3167</td>\n      <td>11113220928172648</td>\n      <td>100000000051701</td>\n      <td>13-2동입구</td>\n      <td>중복</td>\n      <td>정기권</td>\n      <td>출차</td>\n      <td>소형</td>\n      <td>13동</td>\n      <td>입차</td>\n      <td>2022-09-28 17:26:49</td>\n      <td>17</td>\n    </tr>\n  </tbody>\n</table>\n<p>26504 rows × 14 columns</p>\n</div>"
     },
     "execution_count": 23,
     "metadata": {},
     "output_type": "execute_result"
    }
   ],
   "source": [
    "car_arr = np.array(df2[['차량번호','입출차여부','시각']])\n",
    "test_idx_list =[]\n",
    "for idx in range(len(car_arr)-1):\n",
    "    if car_arr[idx][0] == car_arr[idx+1][0] and car_arr[idx][1] == '입차' and car_arr[idx+1][1]=='입차':\n",
    "        test_idx_list.append(idx)\n",
    "        test_idx_list.append(idx+1)\n",
    "test_idx_list = list(set(test_idx_list))\n",
    "df2.loc[test_idx_list]"
   ],
   "metadata": {
    "collapsed": false
   }
  }
 ],
 "metadata": {
  "kernelspec": {
   "display_name": "Python 3.8.8 ('base')",
   "language": "python",
   "name": "python3"
  },
  "language_info": {
   "codemirror_mode": {
    "name": "ipython",
    "version": 3
   },
   "file_extension": ".py",
   "mimetype": "text/x-python",
   "name": "python",
   "nbconvert_exporter": "python",
   "pygments_lexer": "ipython3",
   "version": "3.8.8"
  },
  "vscode": {
   "interpreter": {
    "hash": "86aa80caba646de5c5fbfa482f3005816722fa12a16cb3031e5ebf46eef177a2"
   }
  }
 },
 "nbformat": 4,
 "nbformat_minor": 5
}

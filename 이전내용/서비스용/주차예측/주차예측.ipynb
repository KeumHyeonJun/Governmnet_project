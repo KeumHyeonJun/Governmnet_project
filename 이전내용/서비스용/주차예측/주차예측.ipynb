{
 "cells": [
  {
   "cell_type": "code",
   "execution_count": 14,
   "metadata": {
    "collapsed": true
   },
   "outputs": [],
   "source": [
    "import pandas as pd\n",
    "import optuna\n",
    "from lightgbm import LGBMClassifier\n",
    "from sklearn.metrics import mean_absolute_error, mean_squared_error\n",
    "from sklearn.model_selection import train_test_split\n",
    "import requests\n",
    "import json\n",
    "import datetime\n",
    "import copy"
   ]
  },
  {
   "cell_type": "code",
   "execution_count": 15,
   "outputs": [],
   "source": [
    "from pathlib import Path\n",
    "path = Path.cwd().parent\n",
    "raw_data = str(path) + '/raw_data/'\n",
    "data = str(path) + '/data/'"
   ],
   "metadata": {
    "collapsed": false
   }
  },
  {
   "cell_type": "markdown",
   "source": [
    "# 데이터 Load"
   ],
   "metadata": {
    "collapsed": false
   }
  },
  {
   "cell_type": "code",
   "execution_count": 23,
   "outputs": [],
   "source": [
    "df = pd.read_csv(data +'dataset.csv')\n",
    "df.drop('Unnamed: 0',axis =1,inplace= True)\n",
    "# df.reset_index(inplace=True)\n",
    "predict_df = pd.read_csv(data +'predict_dataset.csv')\n",
    "predict_df.drop('Unnamed: 0',axis =1,inplace= True)\n"
   ],
   "metadata": {
    "collapsed": false
   }
  },
  {
   "cell_type": "code",
   "execution_count": 18,
   "outputs": [],
   "source": [
    "# # 일자별로 train_test 나누기\n",
    "# train_data = df[df['일']<=25]\n",
    "# test_data = df[df['일']>25]\n",
    "\n",
    "\n",
    "#랜덤하게 나누기\n",
    "train_data, test_data = train_test_split( df, test_size=0.33, random_state=42)"
   ],
   "metadata": {
    "collapsed": false
   }
  },
  {
   "cell_type": "code",
   "execution_count": 21,
   "outputs": [],
   "source": [
    "X_train , y_train = train_data.iloc[: , 0:14], train_data['혼잡도']\n",
    "X_test , y_test = test_data.iloc[: , 0:14], test_data['혼잡도']"
   ],
   "metadata": {
    "collapsed": false
   }
  },
  {
   "cell_type": "code",
   "execution_count": 22,
   "outputs": [
    {
     "name": "stderr",
     "output_type": "stream",
     "text": [
      "/Users/keumhyeonjun/opt/anaconda3/envs/행안부/lib/python3.9/site-packages/lightgbm/basic.py:1551: UserWarning: Using categorical_feature in Dataset.\n",
      "  warnings.warn('Using categorical_feature in Dataset.')\n",
      "/Users/keumhyeonjun/opt/anaconda3/envs/행안부/lib/python3.9/site-packages/lightgbm/basic.py:1554: UserWarning: categorical_feature in Dataset is overridden.\n",
      "New categorical_feature is ['주차장']\n",
      "  warnings.warn('categorical_feature in Dataset is overridden.\\n'\n",
      "/Users/keumhyeonjun/opt/anaconda3/envs/행안부/lib/python3.9/site-packages/lightgbm/basic.py:1286: UserWarning: Overriding the parameters from Reference Dataset.\n",
      "  warnings.warn('Overriding the parameters from Reference Dataset.')\n",
      "/Users/keumhyeonjun/opt/anaconda3/envs/행안부/lib/python3.9/site-packages/lightgbm/basic.py:1098: UserWarning: categorical_column in param dict is overridden.\n",
      "  warnings.warn('{} in param dict is overridden.'.format(cat_alias))\n"
     ]
    },
    {
     "name": "stdout",
     "output_type": "stream",
     "text": [
      "[1]\tvalid_0's multi_logloss: 1.18691\n",
      "[2]\tvalid_0's multi_logloss: 1.04294\n",
      "[3]\tvalid_0's multi_logloss: 0.932233\n",
      "[4]\tvalid_0's multi_logloss: 0.840291\n",
      "[5]\tvalid_0's multi_logloss: 0.765892\n",
      "[6]\tvalid_0's multi_logloss: 0.702706\n",
      "[7]\tvalid_0's multi_logloss: 0.649711\n",
      "[8]\tvalid_0's multi_logloss: 0.598\n",
      "[9]\tvalid_0's multi_logloss: 0.555547\n",
      "[10]\tvalid_0's multi_logloss: 0.518208\n",
      "[11]\tvalid_0's multi_logloss: 0.484913\n",
      "[12]\tvalid_0's multi_logloss: 0.455298\n",
      "[13]\tvalid_0's multi_logloss: 0.428746\n",
      "[14]\tvalid_0's multi_logloss: 0.405954\n",
      "[15]\tvalid_0's multi_logloss: 0.383777\n",
      "[16]\tvalid_0's multi_logloss: 0.364917\n",
      "[17]\tvalid_0's multi_logloss: 0.346509\n",
      "[18]\tvalid_0's multi_logloss: 0.329968\n",
      "[19]\tvalid_0's multi_logloss: 0.316491\n",
      "[20]\tvalid_0's multi_logloss: 0.303603\n",
      "[21]\tvalid_0's multi_logloss: 0.292013\n",
      "[22]\tvalid_0's multi_logloss: 0.280831\n",
      "[23]\tvalid_0's multi_logloss: 0.271397\n",
      "[24]\tvalid_0's multi_logloss: 0.262039\n",
      "[25]\tvalid_0's multi_logloss: 0.254543\n",
      "[26]\tvalid_0's multi_logloss: 0.246265\n",
      "[27]\tvalid_0's multi_logloss: 0.239764\n",
      "[28]\tvalid_0's multi_logloss: 0.231304\n",
      "[29]\tvalid_0's multi_logloss: 0.225093\n",
      "[30]\tvalid_0's multi_logloss: 0.21912\n",
      "[31]\tvalid_0's multi_logloss: 0.213157\n",
      "[32]\tvalid_0's multi_logloss: 0.207295\n",
      "[33]\tvalid_0's multi_logloss: 0.202458\n",
      "[34]\tvalid_0's multi_logloss: 0.198244\n",
      "[35]\tvalid_0's multi_logloss: 0.194063\n",
      "[36]\tvalid_0's multi_logloss: 0.189949\n",
      "[37]\tvalid_0's multi_logloss: 0.186087\n",
      "[38]\tvalid_0's multi_logloss: 0.182375\n",
      "[39]\tvalid_0's multi_logloss: 0.178651\n",
      "[40]\tvalid_0's multi_logloss: 0.174871\n",
      "[41]\tvalid_0's multi_logloss: 0.17188\n",
      "[42]\tvalid_0's multi_logloss: 0.168455\n",
      "[43]\tvalid_0's multi_logloss: 0.165506\n",
      "[44]\tvalid_0's multi_logloss: 0.163082\n",
      "[45]\tvalid_0's multi_logloss: 0.16048\n",
      "[46]\tvalid_0's multi_logloss: 0.157799\n",
      "[47]\tvalid_0's multi_logloss: 0.155323\n",
      "[48]\tvalid_0's multi_logloss: 0.152903\n",
      "[49]\tvalid_0's multi_logloss: 0.149646\n",
      "[50]\tvalid_0's multi_logloss: 0.14662\n",
      "[51]\tvalid_0's multi_logloss: 0.143865\n",
      "[52]\tvalid_0's multi_logloss: 0.141591\n",
      "[53]\tvalid_0's multi_logloss: 0.139718\n",
      "[54]\tvalid_0's multi_logloss: 0.138346\n",
      "[55]\tvalid_0's multi_logloss: 0.136187\n",
      "[56]\tvalid_0's multi_logloss: 0.134766\n",
      "[57]\tvalid_0's multi_logloss: 0.133189\n",
      "[58]\tvalid_0's multi_logloss: 0.131319\n",
      "[59]\tvalid_0's multi_logloss: 0.129893\n",
      "[60]\tvalid_0's multi_logloss: 0.128541\n",
      "[61]\tvalid_0's multi_logloss: 0.127002\n",
      "[62]\tvalid_0's multi_logloss: 0.125751\n",
      "[63]\tvalid_0's multi_logloss: 0.124587\n",
      "[64]\tvalid_0's multi_logloss: 0.123711\n",
      "[65]\tvalid_0's multi_logloss: 0.122491\n",
      "[66]\tvalid_0's multi_logloss: 0.121502\n",
      "[67]\tvalid_0's multi_logloss: 0.119937\n",
      "[68]\tvalid_0's multi_logloss: 0.119272\n",
      "[69]\tvalid_0's multi_logloss: 0.118117\n",
      "[70]\tvalid_0's multi_logloss: 0.117401\n",
      "[71]\tvalid_0's multi_logloss: 0.116679\n",
      "[72]\tvalid_0's multi_logloss: 0.115583\n",
      "[73]\tvalid_0's multi_logloss: 0.114812\n",
      "[74]\tvalid_0's multi_logloss: 0.113709\n",
      "[75]\tvalid_0's multi_logloss: 0.113203\n",
      "[76]\tvalid_0's multi_logloss: 0.112379\n",
      "[77]\tvalid_0's multi_logloss: 0.111701\n",
      "[78]\tvalid_0's multi_logloss: 0.110985\n",
      "[79]\tvalid_0's multi_logloss: 0.110045\n",
      "[80]\tvalid_0's multi_logloss: 0.109338\n",
      "[81]\tvalid_0's multi_logloss: 0.108896\n",
      "[82]\tvalid_0's multi_logloss: 0.108154\n",
      "[83]\tvalid_0's multi_logloss: 0.107596\n",
      "[84]\tvalid_0's multi_logloss: 0.107012\n",
      "[85]\tvalid_0's multi_logloss: 0.106463\n",
      "[86]\tvalid_0's multi_logloss: 0.10629\n",
      "[87]\tvalid_0's multi_logloss: 0.10592\n",
      "[88]\tvalid_0's multi_logloss: 0.105226\n",
      "[89]\tvalid_0's multi_logloss: 0.104502\n",
      "[90]\tvalid_0's multi_logloss: 0.10359\n",
      "[91]\tvalid_0's multi_logloss: 0.103153\n",
      "[92]\tvalid_0's multi_logloss: 0.102859\n",
      "[93]\tvalid_0's multi_logloss: 0.102601\n",
      "[94]\tvalid_0's multi_logloss: 0.101772\n",
      "[95]\tvalid_0's multi_logloss: 0.101348\n",
      "[96]\tvalid_0's multi_logloss: 0.101028\n",
      "[97]\tvalid_0's multi_logloss: 0.100456\n",
      "[98]\tvalid_0's multi_logloss: 0.100183\n",
      "[99]\tvalid_0's multi_logloss: 0.0998183\n",
      "[100]\tvalid_0's multi_logloss: 0.099242\n"
     ]
    },
    {
     "data": {
      "text/plain": "LGBMClassifier()",
      "text/html": "<style>#sk-container-id-2 {color: black;background-color: white;}#sk-container-id-2 pre{padding: 0;}#sk-container-id-2 div.sk-toggleable {background-color: white;}#sk-container-id-2 label.sk-toggleable__label {cursor: pointer;display: block;width: 100%;margin-bottom: 0;padding: 0.3em;box-sizing: border-box;text-align: center;}#sk-container-id-2 label.sk-toggleable__label-arrow:before {content: \"▸\";float: left;margin-right: 0.25em;color: #696969;}#sk-container-id-2 label.sk-toggleable__label-arrow:hover:before {color: black;}#sk-container-id-2 div.sk-estimator:hover label.sk-toggleable__label-arrow:before {color: black;}#sk-container-id-2 div.sk-toggleable__content {max-height: 0;max-width: 0;overflow: hidden;text-align: left;background-color: #f0f8ff;}#sk-container-id-2 div.sk-toggleable__content pre {margin: 0.2em;color: black;border-radius: 0.25em;background-color: #f0f8ff;}#sk-container-id-2 input.sk-toggleable__control:checked~div.sk-toggleable__content {max-height: 200px;max-width: 100%;overflow: auto;}#sk-container-id-2 input.sk-toggleable__control:checked~label.sk-toggleable__label-arrow:before {content: \"▾\";}#sk-container-id-2 div.sk-estimator input.sk-toggleable__control:checked~label.sk-toggleable__label {background-color: #d4ebff;}#sk-container-id-2 div.sk-label input.sk-toggleable__control:checked~label.sk-toggleable__label {background-color: #d4ebff;}#sk-container-id-2 input.sk-hidden--visually {border: 0;clip: rect(1px 1px 1px 1px);clip: rect(1px, 1px, 1px, 1px);height: 1px;margin: -1px;overflow: hidden;padding: 0;position: absolute;width: 1px;}#sk-container-id-2 div.sk-estimator {font-family: monospace;background-color: #f0f8ff;border: 1px dotted black;border-radius: 0.25em;box-sizing: border-box;margin-bottom: 0.5em;}#sk-container-id-2 div.sk-estimator:hover {background-color: #d4ebff;}#sk-container-id-2 div.sk-parallel-item::after {content: \"\";width: 100%;border-bottom: 1px solid gray;flex-grow: 1;}#sk-container-id-2 div.sk-label:hover label.sk-toggleable__label {background-color: #d4ebff;}#sk-container-id-2 div.sk-serial::before {content: \"\";position: absolute;border-left: 1px solid gray;box-sizing: border-box;top: 0;bottom: 0;left: 50%;z-index: 0;}#sk-container-id-2 div.sk-serial {display: flex;flex-direction: column;align-items: center;background-color: white;padding-right: 0.2em;padding-left: 0.2em;position: relative;}#sk-container-id-2 div.sk-item {position: relative;z-index: 1;}#sk-container-id-2 div.sk-parallel {display: flex;align-items: stretch;justify-content: center;background-color: white;position: relative;}#sk-container-id-2 div.sk-item::before, #sk-container-id-2 div.sk-parallel-item::before {content: \"\";position: absolute;border-left: 1px solid gray;box-sizing: border-box;top: 0;bottom: 0;left: 50%;z-index: -1;}#sk-container-id-2 div.sk-parallel-item {display: flex;flex-direction: column;z-index: 1;position: relative;background-color: white;}#sk-container-id-2 div.sk-parallel-item:first-child::after {align-self: flex-end;width: 50%;}#sk-container-id-2 div.sk-parallel-item:last-child::after {align-self: flex-start;width: 50%;}#sk-container-id-2 div.sk-parallel-item:only-child::after {width: 0;}#sk-container-id-2 div.sk-dashed-wrapped {border: 1px dashed gray;margin: 0 0.4em 0.5em 0.4em;box-sizing: border-box;padding-bottom: 0.4em;background-color: white;}#sk-container-id-2 div.sk-label label {font-family: monospace;font-weight: bold;display: inline-block;line-height: 1.2em;}#sk-container-id-2 div.sk-label-container {text-align: center;}#sk-container-id-2 div.sk-container {/* jupyter's `normalize.less` sets `[hidden] { display: none; }` but bootstrap.min.css set `[hidden] { display: none !important; }` so we also need the `!important` here to be able to override the default hidden behavior on the sphinx rendered scikit-learn.org. See: https://github.com/scikit-learn/scikit-learn/issues/21755 */display: inline-block !important;position: relative;}#sk-container-id-2 div.sk-text-repr-fallback {display: none;}</style><div id=\"sk-container-id-2\" class=\"sk-top-container\"><div class=\"sk-text-repr-fallback\"><pre>LGBMClassifier()</pre><b>In a Jupyter environment, please rerun this cell to show the HTML representation or trust the notebook. <br />On GitHub, the HTML representation is unable to render, please try loading this page with nbviewer.org.</b></div><div class=\"sk-container\" hidden><div class=\"sk-item\"><div class=\"sk-estimator sk-toggleable\"><input class=\"sk-toggleable__control sk-hidden--visually\" id=\"sk-estimator-id-2\" type=\"checkbox\" checked><label for=\"sk-estimator-id-2\" class=\"sk-toggleable__label sk-toggleable__label-arrow\">LGBMClassifier</label><div class=\"sk-toggleable__content\"><pre>LGBMClassifier()</pre></div></div></div></div></div>"
     },
     "execution_count": 22,
     "metadata": {},
     "output_type": "execute_result"
    }
   ],
   "source": [
    "model = LGBMClassifier()\n",
    "model.fit(X_train, y_train, categorical_feature =['주차장'], eval_set =(X_test,y_test) , verbose=1)"
   ],
   "metadata": {
    "collapsed": false
   }
  },
  {
   "cell_type": "markdown",
   "source": [
    "# 예측"
   ],
   "metadata": {
    "collapsed": false
   }
  },
  {
   "cell_type": "code",
   "execution_count": 35,
   "outputs": [],
   "source": [
    "predict = pd.DataFrame(model.predict(predict_df))\n",
    "output = pd.concat([predict_df, predict], axis= 1)\n",
    "#output = output.rename({'0':'혼잡도예측'})\n",
    "output = output.rename(columns={0:'혼잡도예측'})\n",
    "output = output[['연','월','일','시','분','요일','주차장','혼잡도예측']]\n",
    "output.to_csv('주차예측결과.csv')"
   ],
   "metadata": {
    "collapsed": false
   }
  }
 ],
 "metadata": {
  "kernelspec": {
   "display_name": "Python 3",
   "language": "python",
   "name": "python3"
  },
  "language_info": {
   "codemirror_mode": {
    "name": "ipython",
    "version": 2
   },
   "file_extension": ".py",
   "mimetype": "text/x-python",
   "name": "python",
   "nbconvert_exporter": "python",
   "pygments_lexer": "ipython2",
   "version": "2.7.6"
  }
 },
 "nbformat": 4,
 "nbformat_minor": 0
}
